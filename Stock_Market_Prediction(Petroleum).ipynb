{
  "nbformat": 4,
  "nbformat_minor": 0,
  "metadata": {
    "kernelspec": {
      "display_name": "Python 3",
      "language": "python",
      "name": "python3"
    },
    "language_info": {
      "codemirror_mode": {
        "name": "ipython",
        "version": 3
      },
      "file_extension": ".py",
      "mimetype": "text/x-python",
      "name": "python",
      "nbconvert_exporter": "python",
      "pygments_lexer": "ipython3",
      "version": "3.8.3"
    },
    "colab": {
      "name": "Stock_Market_Prediction(Petroleum).ipynb",
      "provenance": [],
      "collapsed_sections": [
        "vfZGT9zFbes9"
      ],
      "include_colab_link": true
    }
  },
  "cells": [
    {
      "cell_type": "markdown",
      "metadata": {
        "id": "view-in-github",
        "colab_type": "text"
      },
      "source": [
        "<a href=\"https://colab.research.google.com/github/Devanshi-123/stock_market_prediction/blob/main/Stock_Market_Prediction(Petroleum).ipynb\" target=\"_parent\"><img src=\"https://colab.research.google.com/assets/colab-badge.svg\" alt=\"Open In Colab\"/></a>"
      ]
    },
    {
      "cell_type": "markdown",
      "metadata": {
        "id": "tieXgez1berr"
      },
      "source": [
        "#  **Stock Market Prediction Using Different Machine Learning And Deep Learning Algorithms**\n"
      ]
    },
    {
      "cell_type": "markdown",
      "metadata": {
        "id": "2501HdlZfGAG"
      },
      "source": [
        "## **Importing the necessary libraries**"
      ]
    },
    {
      "cell_type": "code",
      "metadata": {
        "id": "bExe6rckbers"
      },
      "source": [
        "import pandas as pd\n",
        "import numpy as np\n",
        "import matplotlib.pyplot as plt\n",
        "%matplotlib inline"
      ],
      "execution_count": 5,
      "outputs": []
    },
    {
      "cell_type": "code",
      "metadata": {
        "id": "YoioHTGgcPVu",
        "outputId": "111cbeb1-626f-4aaa-e9f1-6598cf36f0cd",
        "colab": {
          "base_uri": "https://localhost:8080/"
        }
      },
      "source": [
        "cd /content/drive/My Drive/Stock Market Prediction(Mini Project)"
      ],
      "execution_count": 6,
      "outputs": [
        {
          "output_type": "stream",
          "text": [
            "/content/drive/My Drive/Stock Market Prediction(Mini Project)\n"
          ],
          "name": "stdout"
        }
      ]
    },
    {
      "cell_type": "markdown",
      "metadata": {
        "id": "c1-boyHyfakV"
      },
      "source": [
        "## **Importing the dataset**"
      ]
    },
    {
      "cell_type": "code",
      "metadata": {
        "id": "1fMnpg-sbery",
        "outputId": "b9a57f57-90dd-4bdb-ece2-c0330c5e11c6",
        "colab": {
          "base_uri": "https://localhost:8080/"
        }
      },
      "source": [
        "##Metallic Dataset\n",
        "df=pd.read_csv(\"Stock_PETR1.csv\")\n",
        "df.info()"
      ],
      "execution_count": 7,
      "outputs": [
        {
          "output_type": "stream",
          "text": [
            "<class 'pandas.core.frame.DataFrame'>\n",
            "RangeIndex: 4087 entries, 0 to 4086\n",
            "Data columns (total 13 columns):\n",
            " #   Column        Non-Null Count  Dtype  \n",
            "---  ------        --------------  -----  \n",
            " 0   Unnamed: 0    4087 non-null   int64  \n",
            " 1   <TICKER>      4087 non-null   object \n",
            " 2   <DTYYYYMMDD>  4087 non-null   int64  \n",
            " 3   <FIRST>       4087 non-null   float64\n",
            " 4   <HIGH>        4087 non-null   float64\n",
            " 5   <LOW>         4087 non-null   float64\n",
            " 6   <CLOSE>       4087 non-null   float64\n",
            " 7   <VALUE>       4087 non-null   int64  \n",
            " 8   <VOL>         4087 non-null   int64  \n",
            " 9   <OPENINT>     4087 non-null   int64  \n",
            " 10  <PER>         4087 non-null   object \n",
            " 11  <OPEN>        4087 non-null   float64\n",
            " 12  <LAST>        4087 non-null   float64\n",
            "dtypes: float64(6), int64(5), object(2)\n",
            "memory usage: 415.2+ KB\n"
          ],
          "name": "stdout"
        }
      ]
    },
    {
      "cell_type": "code",
      "metadata": {
        "id": "F00sCC1zqlJZ",
        "outputId": "c65a4f1a-57ff-4a31-cbdc-1e1d028ae0d1",
        "colab": {
          "base_uri": "https://localhost:8080/",
          "height": 357
        }
      },
      "source": [
        "df.head()"
      ],
      "execution_count": 75,
      "outputs": [
        {
          "output_type": "execute_result",
          "data": {
            "text/html": [
              "<div>\n",
              "<style scoped>\n",
              "    .dataframe tbody tr th:only-of-type {\n",
              "        vertical-align: middle;\n",
              "    }\n",
              "\n",
              "    .dataframe tbody tr th {\n",
              "        vertical-align: top;\n",
              "    }\n",
              "\n",
              "    .dataframe thead th {\n",
              "        text-align: right;\n",
              "    }\n",
              "</style>\n",
              "<table border=\"1\" class=\"dataframe\">\n",
              "  <thead>\n",
              "    <tr style=\"text-align: right;\">\n",
              "      <th></th>\n",
              "      <th>Unnamed: 0</th>\n",
              "      <th>&lt;TICKER&gt;</th>\n",
              "      <th>&lt;DTYYYYMMDD&gt;</th>\n",
              "      <th>&lt;FIRST&gt;</th>\n",
              "      <th>&lt;HIGH&gt;</th>\n",
              "      <th>&lt;LOW&gt;</th>\n",
              "      <th>&lt;CLOSE&gt;</th>\n",
              "      <th>&lt;VALUE&gt;</th>\n",
              "      <th>&lt;VOL&gt;</th>\n",
              "      <th>&lt;OPENINT&gt;</th>\n",
              "      <th>&lt;PER&gt;</th>\n",
              "      <th>&lt;OPEN&gt;</th>\n",
              "      <th>&lt;LAST&gt;</th>\n",
              "      <th>datetime</th>\n",
              "    </tr>\n",
              "    <tr>\n",
              "      <th>datetime</th>\n",
              "      <th></th>\n",
              "      <th></th>\n",
              "      <th></th>\n",
              "      <th></th>\n",
              "      <th></th>\n",
              "      <th></th>\n",
              "      <th></th>\n",
              "      <th></th>\n",
              "      <th></th>\n",
              "      <th></th>\n",
              "      <th></th>\n",
              "      <th></th>\n",
              "      <th></th>\n",
              "      <th></th>\n",
              "    </tr>\n",
              "  </thead>\n",
              "  <tbody>\n",
              "    <tr>\n",
              "      <th>2001-03-25</th>\n",
              "      <td>0</td>\n",
              "      <td>Petro..Inv.</td>\n",
              "      <td>20010325</td>\n",
              "      <td>2140.0</td>\n",
              "      <td>2140.0</td>\n",
              "      <td>2139.0</td>\n",
              "      <td>2140.0</td>\n",
              "      <td>349714320</td>\n",
              "      <td>163488</td>\n",
              "      <td>15</td>\n",
              "      <td>D</td>\n",
              "      <td>2140.0</td>\n",
              "      <td>2140.0</td>\n",
              "      <td>2001-03-25</td>\n",
              "    </tr>\n",
              "    <tr>\n",
              "      <th>2001-03-26</th>\n",
              "      <td>1</td>\n",
              "      <td>Petro..Inv.</td>\n",
              "      <td>20010326</td>\n",
              "      <td>2135.0</td>\n",
              "      <td>2136.0</td>\n",
              "      <td>2100.0</td>\n",
              "      <td>2100.0</td>\n",
              "      <td>37030936</td>\n",
              "      <td>17577</td>\n",
              "      <td>18</td>\n",
              "      <td>D</td>\n",
              "      <td>2140.0</td>\n",
              "      <td>2100.0</td>\n",
              "      <td>2001-03-26</td>\n",
              "    </tr>\n",
              "    <tr>\n",
              "      <th>2001-03-27</th>\n",
              "      <td>2</td>\n",
              "      <td>Petro..Inv.</td>\n",
              "      <td>20010327</td>\n",
              "      <td>2100.0</td>\n",
              "      <td>2100.0</td>\n",
              "      <td>2045.0</td>\n",
              "      <td>2050.0</td>\n",
              "      <td>200173239</td>\n",
              "      <td>97608</td>\n",
              "      <td>51</td>\n",
              "      <td>D</td>\n",
              "      <td>2100.0</td>\n",
              "      <td>2050.0</td>\n",
              "      <td>2001-03-27</td>\n",
              "    </tr>\n",
              "    <tr>\n",
              "      <th>2001-03-28</th>\n",
              "      <td>3</td>\n",
              "      <td>Petro..Inv.</td>\n",
              "      <td>20010328</td>\n",
              "      <td>2049.0</td>\n",
              "      <td>2100.0</td>\n",
              "      <td>2020.0</td>\n",
              "      <td>2100.0</td>\n",
              "      <td>120265895</td>\n",
              "      <td>59019</td>\n",
              "      <td>39</td>\n",
              "      <td>D</td>\n",
              "      <td>2050.0</td>\n",
              "      <td>2100.0</td>\n",
              "      <td>2001-03-28</td>\n",
              "    </tr>\n",
              "    <tr>\n",
              "      <th>2001-03-31</th>\n",
              "      <td>4</td>\n",
              "      <td>Petro..Inv.</td>\n",
              "      <td>20010331</td>\n",
              "      <td>2101.0</td>\n",
              "      <td>2205.0</td>\n",
              "      <td>2100.0</td>\n",
              "      <td>2205.0</td>\n",
              "      <td>187171518</td>\n",
              "      <td>85296</td>\n",
              "      <td>37</td>\n",
              "      <td>D</td>\n",
              "      <td>2100.0</td>\n",
              "      <td>2205.0</td>\n",
              "      <td>2001-03-31</td>\n",
              "    </tr>\n",
              "  </tbody>\n",
              "</table>\n",
              "</div>"
            ],
            "text/plain": [
              "            Unnamed: 0     <TICKER>  <DTYYYYMMDD>  ...  <OPEN>  <LAST>   datetime\n",
              "datetime                                           ...                           \n",
              "2001-03-25           0  Petro..Inv.      20010325  ...  2140.0  2140.0 2001-03-25\n",
              "2001-03-26           1  Petro..Inv.      20010326  ...  2140.0  2100.0 2001-03-26\n",
              "2001-03-27           2  Petro..Inv.      20010327  ...  2100.0  2050.0 2001-03-27\n",
              "2001-03-28           3  Petro..Inv.      20010328  ...  2050.0  2100.0 2001-03-28\n",
              "2001-03-31           4  Petro..Inv.      20010331  ...  2100.0  2205.0 2001-03-31\n",
              "\n",
              "[5 rows x 14 columns]"
            ]
          },
          "metadata": {
            "tags": []
          },
          "execution_count": 75
        }
      ]
    },
    {
      "cell_type": "markdown",
      "metadata": {
        "id": "9gsprJSuhGF4"
      },
      "source": [
        "## **Exploratory Data Analysis**"
      ]
    },
    {
      "cell_type": "code",
      "metadata": {
        "id": "3KYyTRW7gcjz",
        "outputId": "af811b37-c555-43a9-a228-38e91a96da06",
        "colab": {
          "base_uri": "https://localhost:8080/",
          "height": 317
        }
      },
      "source": [
        "df.describe()"
      ],
      "execution_count": 8,
      "outputs": [
        {
          "output_type": "execute_result",
          "data": {
            "text/html": [
              "<div>\n",
              "<style scoped>\n",
              "    .dataframe tbody tr th:only-of-type {\n",
              "        vertical-align: middle;\n",
              "    }\n",
              "\n",
              "    .dataframe tbody tr th {\n",
              "        vertical-align: top;\n",
              "    }\n",
              "\n",
              "    .dataframe thead th {\n",
              "        text-align: right;\n",
              "    }\n",
              "</style>\n",
              "<table border=\"1\" class=\"dataframe\">\n",
              "  <thead>\n",
              "    <tr style=\"text-align: right;\">\n",
              "      <th></th>\n",
              "      <th>Unnamed: 0</th>\n",
              "      <th>&lt;DTYYYYMMDD&gt;</th>\n",
              "      <th>&lt;FIRST&gt;</th>\n",
              "      <th>&lt;HIGH&gt;</th>\n",
              "      <th>&lt;LOW&gt;</th>\n",
              "      <th>&lt;CLOSE&gt;</th>\n",
              "      <th>&lt;VALUE&gt;</th>\n",
              "      <th>&lt;VOL&gt;</th>\n",
              "      <th>&lt;OPENINT&gt;</th>\n",
              "      <th>&lt;OPEN&gt;</th>\n",
              "      <th>&lt;LAST&gt;</th>\n",
              "    </tr>\n",
              "  </thead>\n",
              "  <tbody>\n",
              "    <tr>\n",
              "      <th>count</th>\n",
              "      <td>4087.000000</td>\n",
              "      <td>4.087000e+03</td>\n",
              "      <td>4087.000000</td>\n",
              "      <td>4087.000000</td>\n",
              "      <td>4087.000000</td>\n",
              "      <td>4087.000000</td>\n",
              "      <td>4.087000e+03</td>\n",
              "      <td>4.087000e+03</td>\n",
              "      <td>4087.000000</td>\n",
              "      <td>4087.000000</td>\n",
              "      <td>4087.000000</td>\n",
              "    </tr>\n",
              "    <tr>\n",
              "      <th>mean</th>\n",
              "      <td>2043.000000</td>\n",
              "      <td>2.010508e+07</td>\n",
              "      <td>2314.985075</td>\n",
              "      <td>2354.750918</td>\n",
              "      <td>2270.214583</td>\n",
              "      <td>2315.438953</td>\n",
              "      <td>8.081839e+09</td>\n",
              "      <td>2.544001e+06</td>\n",
              "      <td>307.725471</td>\n",
              "      <td>2311.123073</td>\n",
              "      <td>2312.586004</td>\n",
              "    </tr>\n",
              "    <tr>\n",
              "      <th>std</th>\n",
              "      <td>1179.959604</td>\n",
              "      <td>5.619828e+04</td>\n",
              "      <td>2370.609602</td>\n",
              "      <td>2423.969382</td>\n",
              "      <td>2305.411326</td>\n",
              "      <td>2366.676940</td>\n",
              "      <td>2.214442e+10</td>\n",
              "      <td>4.476661e+06</td>\n",
              "      <td>423.435746</td>\n",
              "      <td>2351.547232</td>\n",
              "      <td>2367.453351</td>\n",
              "    </tr>\n",
              "    <tr>\n",
              "      <th>min</th>\n",
              "      <td>0.000000</td>\n",
              "      <td>2.001032e+07</td>\n",
              "      <td>491.000000</td>\n",
              "      <td>491.000000</td>\n",
              "      <td>491.000000</td>\n",
              "      <td>506.000000</td>\n",
              "      <td>5.710000e+03</td>\n",
              "      <td>1.000000e+01</td>\n",
              "      <td>1.000000</td>\n",
              "      <td>506.000000</td>\n",
              "      <td>491.000000</td>\n",
              "    </tr>\n",
              "    <tr>\n",
              "      <th>25%</th>\n",
              "      <td>1021.500000</td>\n",
              "      <td>2.005122e+07</td>\n",
              "      <td>999.000000</td>\n",
              "      <td>1007.500000</td>\n",
              "      <td>985.000000</td>\n",
              "      <td>1003.000000</td>\n",
              "      <td>3.315275e+08</td>\n",
              "      <td>1.977020e+05</td>\n",
              "      <td>63.000000</td>\n",
              "      <td>1003.000000</td>\n",
              "      <td>993.000000</td>\n",
              "    </tr>\n",
              "    <tr>\n",
              "      <th>50%</th>\n",
              "      <td>2043.000000</td>\n",
              "      <td>2.011041e+07</td>\n",
              "      <td>1730.000000</td>\n",
              "      <td>1755.000000</td>\n",
              "      <td>1690.000000</td>\n",
              "      <td>1725.000000</td>\n",
              "      <td>1.476633e+09</td>\n",
              "      <td>9.672930e+05</td>\n",
              "      <td>164.000000</td>\n",
              "      <td>1724.000000</td>\n",
              "      <td>1723.000000</td>\n",
              "    </tr>\n",
              "    <tr>\n",
              "      <th>75%</th>\n",
              "      <td>3064.500000</td>\n",
              "      <td>2.015091e+07</td>\n",
              "      <td>2522.000000</td>\n",
              "      <td>2565.000000</td>\n",
              "      <td>2500.000000</td>\n",
              "      <td>2529.000000</td>\n",
              "      <td>5.431455e+09</td>\n",
              "      <td>2.888838e+06</td>\n",
              "      <td>360.500000</td>\n",
              "      <td>2529.000000</td>\n",
              "      <td>2527.000000</td>\n",
              "    </tr>\n",
              "    <tr>\n",
              "      <th>max</th>\n",
              "      <td>4086.000000</td>\n",
              "      <td>2.020060e+07</td>\n",
              "      <td>22000.000000</td>\n",
              "      <td>22500.000000</td>\n",
              "      <td>21482.000000</td>\n",
              "      <td>21483.000000</td>\n",
              "      <td>3.370985e+11</td>\n",
              "      <td>8.097697e+07</td>\n",
              "      <td>4276.000000</td>\n",
              "      <td>21483.000000</td>\n",
              "      <td>21483.000000</td>\n",
              "    </tr>\n",
              "  </tbody>\n",
              "</table>\n",
              "</div>"
            ],
            "text/plain": [
              "        Unnamed: 0  <DTYYYYMMDD>  ...        <OPEN>        <LAST>\n",
              "count  4087.000000  4.087000e+03  ...   4087.000000   4087.000000\n",
              "mean   2043.000000  2.010508e+07  ...   2311.123073   2312.586004\n",
              "std    1179.959604  5.619828e+04  ...   2351.547232   2367.453351\n",
              "min       0.000000  2.001032e+07  ...    506.000000    491.000000\n",
              "25%    1021.500000  2.005122e+07  ...   1003.000000    993.000000\n",
              "50%    2043.000000  2.011041e+07  ...   1724.000000   1723.000000\n",
              "75%    3064.500000  2.015091e+07  ...   2529.000000   2527.000000\n",
              "max    4086.000000  2.020060e+07  ...  21483.000000  21483.000000\n",
              "\n",
              "[8 rows x 11 columns]"
            ]
          },
          "metadata": {
            "tags": []
          },
          "execution_count": 8
        }
      ]
    },
    {
      "cell_type": "code",
      "metadata": {
        "id": "mkJ2qxhUTjGJ",
        "outputId": "80eb74c0-a7bc-4421-b19f-1a5c859d7bd9",
        "colab": {
          "base_uri": "https://localhost:8080/",
          "height": 555
        }
      },
      "source": [
        "import seaborn as sns\n",
        "plt.figure(1 , figsize = (17 , 8))\n",
        "cor = sns.heatmap(df.corr(), annot = True)"
      ],
      "execution_count": 9,
      "outputs": [
        {
          "output_type": "display_data",
          "data": {
            "image/png": "[encoded data removed]",
            "text/plain": [
              "<Figure size 1224x576 with 2 Axes>"
            ]
          },
          "metadata": {
            "tags": [],
            "needs_background": "light"
          }
        }
      ]
    },
    {
      "cell_type": "code",
      "metadata": {
        "id": "VWy495nCOFQ_",
        "outputId": "ca4ec437-3174-4f2f-ba89-9f98c1f53f5b",
        "colab": {
          "base_uri": "https://localhost:8080/",
          "height": 235
        }
      },
      "source": [
        "df['datetime'] = pd.to_datetime(df['<DTYYYYMMDD>'], format='%Y%m%d')\n",
        "df.index = df['datetime']\n",
        "df.dropna()\n",
        "df_new = df[[\"<FIRST>\",\"<HIGH>\",\"<LOW>\",\"<CLOSE>\",\"<VALUE>\",\"<VOL>\"]]\n",
        "df_new.head()"
      ],
      "execution_count": 10,
      "outputs": [
        {
          "output_type": "execute_result",
          "data": {
            "text/html": [
              "<div>\n",
              "<style scoped>\n",
              "    .dataframe tbody tr th:only-of-type {\n",
              "        vertical-align: middle;\n",
              "    }\n",
              "\n",
              "    .dataframe tbody tr th {\n",
              "        vertical-align: top;\n",
              "    }\n",
              "\n",
              "    .dataframe thead th {\n",
              "        text-align: right;\n",
              "    }\n",
              "</style>\n",
              "<table border=\"1\" class=\"dataframe\">\n",
              "  <thead>\n",
              "    <tr style=\"text-align: right;\">\n",
              "      <th></th>\n",
              "      <th>&lt;FIRST&gt;</th>\n",
              "      <th>&lt;HIGH&gt;</th>\n",
              "      <th>&lt;LOW&gt;</th>\n",
              "      <th>&lt;CLOSE&gt;</th>\n",
              "      <th>&lt;VALUE&gt;</th>\n",
              "      <th>&lt;VOL&gt;</th>\n",
              "    </tr>\n",
              "    <tr>\n",
              "      <th>datetime</th>\n",
              "      <th></th>\n",
              "      <th></th>\n",
              "      <th></th>\n",
              "      <th></th>\n",
              "      <th></th>\n",
              "      <th></th>\n",
              "    </tr>\n",
              "  </thead>\n",
              "  <tbody>\n",
              "    <tr>\n",
              "      <th>2001-03-25</th>\n",
              "      <td>2140.0</td>\n",
              "      <td>2140.0</td>\n",
              "      <td>2139.0</td>\n",
              "      <td>2140.0</td>\n",
              "      <td>349714320</td>\n",
              "      <td>163488</td>\n",
              "    </tr>\n",
              "    <tr>\n",
              "      <th>2001-03-26</th>\n",
              "      <td>2135.0</td>\n",
              "      <td>2136.0</td>\n",
              "      <td>2100.0</td>\n",
              "      <td>2100.0</td>\n",
              "      <td>37030936</td>\n",
              "      <td>17577</td>\n",
              "    </tr>\n",
              "    <tr>\n",
              "      <th>2001-03-27</th>\n",
              "      <td>2100.0</td>\n",
              "      <td>2100.0</td>\n",
              "      <td>2045.0</td>\n",
              "      <td>2050.0</td>\n",
              "      <td>200173239</td>\n",
              "      <td>97608</td>\n",
              "    </tr>\n",
              "    <tr>\n",
              "      <th>2001-03-28</th>\n",
              "      <td>2049.0</td>\n",
              "      <td>2100.0</td>\n",
              "      <td>2020.0</td>\n",
              "      <td>2100.0</td>\n",
              "      <td>120265895</td>\n",
              "      <td>59019</td>\n",
              "    </tr>\n",
              "    <tr>\n",
              "      <th>2001-03-31</th>\n",
              "      <td>2101.0</td>\n",
              "      <td>2205.0</td>\n",
              "      <td>2100.0</td>\n",
              "      <td>2205.0</td>\n",
              "      <td>187171518</td>\n",
              "      <td>85296</td>\n",
              "    </tr>\n",
              "  </tbody>\n",
              "</table>\n",
              "</div>"
            ],
            "text/plain": [
              "            <FIRST>  <HIGH>   <LOW>  <CLOSE>    <VALUE>   <VOL>\n",
              "datetime                                                       \n",
              "2001-03-25   2140.0  2140.0  2139.0   2140.0  349714320  163488\n",
              "2001-03-26   2135.0  2136.0  2100.0   2100.0   37030936   17577\n",
              "2001-03-27   2100.0  2100.0  2045.0   2050.0  200173239   97608\n",
              "2001-03-28   2049.0  2100.0  2020.0   2100.0  120265895   59019\n",
              "2001-03-31   2101.0  2205.0  2100.0   2205.0  187171518   85296"
            ]
          },
          "metadata": {
            "tags": []
          },
          "execution_count": 10
        }
      ]
    },
    {
      "cell_type": "code",
      "metadata": {
        "id": "hLz42nBYber_",
        "outputId": "9a2fbbb4-646e-4a50-c499-12e16d45e593",
        "colab": {
          "base_uri": "https://localhost:8080/"
        }
      },
      "source": [
        "df_new.shape"
      ],
      "execution_count": 11,
      "outputs": [
        {
          "output_type": "execute_result",
          "data": {
            "text/plain": [
              "(4087, 6)"
            ]
          },
          "metadata": {
            "tags": []
          },
          "execution_count": 11
        }
      ]
    },
    {
      "cell_type": "code",
      "metadata": {
        "id": "kvkvBjzCbesH",
        "outputId": "7ad6f022-a5d4-4860-c011-1c8627cb3a43",
        "colab": {
          "base_uri": "https://localhost:8080/"
        }
      },
      "source": [
        "#Calculating the change in price\n",
        "df_new['change_in_price'] = df_new['<CLOSE>'].diff()"
      ],
      "execution_count": 12,
      "outputs": [
        {
          "output_type": "stream",
          "text": [
            "/usr/local/lib/python3.6/dist-packages/ipykernel_launcher.py:2: SettingWithCopyWarning: \n",
            "A value is trying to be set on a copy of a slice from a DataFrame.\n",
            "Try using .loc[row_indexer,col_indexer] = value instead\n",
            "\n",
            "See the caveats in the documentation: https://pandas.pydata.org/pandas-docs/stable/user_guide/indexing.html#returning-a-view-versus-a-copy\n",
            "  \n"
          ],
          "name": "stderr"
        }
      ]
    },
    {
      "cell_type": "markdown",
      "metadata": {
        "id": "6Q4sHYAVhXdc"
      },
      "source": [
        "## **Data Visualisation**"
      ]
    },
    {
      "cell_type": "code",
      "metadata": {
        "id": "xvmCMSnkZO6R",
        "outputId": "9d86b19a-651d-497f-9db1-70245f7bd1b5",
        "colab": {
          "base_uri": "https://localhost:8080/",
          "height": 498
        }
      },
      "source": [
        "plt.figure(figsize=(16,8))\n",
        "plt.plot(df_new['change_in_price'], label='Change In Price')"
      ],
      "execution_count": 13,
      "outputs": [
        {
          "output_type": "execute_result",
          "data": {
            "text/plain": [
              "[<matplotlib.lines.Line2D at 0x7f977f8c3a90>]"
            ]
          },
          "metadata": {
            "tags": []
          },
          "execution_count": 13
        },
        {
          "output_type": "display_data",
          "data": {
            "image/png": "[encoded data removed]",
            "text/plain": [
              "<Figure size 1152x576 with 1 Axes>"
            ]
          },
          "metadata": {
            "tags": [],
            "needs_background": "light"
          }
        }
      ]
    },
    {
      "cell_type": "code",
      "metadata": {
        "id": "AiDa4AToWnzp",
        "outputId": "474d3893-942d-443a-a5f6-bfc5e59dc389",
        "colab": {
          "base_uri": "https://localhost:8080/",
          "height": 499
        }
      },
      "source": [
        "plt.figure(figsize=(16,8))\n",
        "plt.plot(df_new['<CLOSE>'], label='Close Price history')"
      ],
      "execution_count": 14,
      "outputs": [
        {
          "output_type": "execute_result",
          "data": {
            "text/plain": [
              "[<matplotlib.lines.Line2D at 0x7f977fdc9400>]"
            ]
          },
          "metadata": {
            "tags": []
          },
          "execution_count": 14
        },
        {
          "output_type": "display_data",
          "data": {
            "image/png": "[encoded data removed]",
            "text/plain": [
              "<Figure size 1152x576 with 1 Axes>"
            ]
          },
          "metadata": {
            "tags": [],
            "needs_background": "light"
          }
        }
      ]
    },
    {
      "cell_type": "markdown",
      "metadata": {
        "id": "1vZkESASbesL"
      },
      "source": [
        "## **Calculating the technical indicators**"
      ]
    },
    {
      "cell_type": "code",
      "metadata": {
        "id": "iqjLW__ObesM",
        "outputId": "9600397e-de88-4ac2-dec7-87a3a1dbb607",
        "colab": {
          "base_uri": "https://localhost:8080/",
          "height": 235
        }
      },
      "source": [
        "#1. Simple n day moving average\n",
        "#A moving average (MA) is a widely used technical indicator that smooths out price trends by filtering out the “noise” from random short-term price fluctuations.\n",
        "##The most common applications of moving averages are to identify trend direction and to determine support and resistance levels.\n",
        "def moving_average(df, n):\n",
        "    \"\"\"Calculate the moving average for the given data.\n",
        "    :param df: pandas.DataFrame\n",
        "    :param n:\n",
        "    :return: pandas.DataFrame\n",
        "    \"\"\"\n",
        "    MA = pd.Series(df['<CLOSE>'].rolling(n, min_periods=n).mean(), name='MA_' + str(n))\n",
        "    df = df.join(MA)\n",
        "    return df\n",
        "df_new = moving_average(df_new,10)\n",
        "df_new.tail()"
      ],
      "execution_count": 15,
      "outputs": [
        {
          "output_type": "execute_result",
          "data": {
            "text/html": [
              "<div>\n",
              "<style scoped>\n",
              "    .dataframe tbody tr th:only-of-type {\n",
              "        vertical-align: middle;\n",
              "    }\n",
              "\n",
              "    .dataframe tbody tr th {\n",
              "        vertical-align: top;\n",
              "    }\n",
              "\n",
              "    .dataframe thead th {\n",
              "        text-align: right;\n",
              "    }\n",
              "</style>\n",
              "<table border=\"1\" class=\"dataframe\">\n",
              "  <thead>\n",
              "    <tr style=\"text-align: right;\">\n",
              "      <th></th>\n",
              "      <th>&lt;FIRST&gt;</th>\n",
              "      <th>&lt;HIGH&gt;</th>\n",
              "      <th>&lt;LOW&gt;</th>\n",
              "      <th>&lt;CLOSE&gt;</th>\n",
              "      <th>&lt;VALUE&gt;</th>\n",
              "      <th>&lt;VOL&gt;</th>\n",
              "      <th>change_in_price</th>\n",
              "      <th>MA_10</th>\n",
              "    </tr>\n",
              "    <tr>\n",
              "      <th>datetime</th>\n",
              "      <th></th>\n",
              "      <th></th>\n",
              "      <th></th>\n",
              "      <th></th>\n",
              "      <th></th>\n",
              "      <th></th>\n",
              "      <th></th>\n",
              "      <th></th>\n",
              "    </tr>\n",
              "  </thead>\n",
              "  <tbody>\n",
              "    <tr>\n",
              "      <th>2020-05-26</th>\n",
              "      <td>18000.0</td>\n",
              "      <td>18417.0</td>\n",
              "      <td>17960.0</td>\n",
              "      <td>18092.0</td>\n",
              "      <td>41636609960</td>\n",
              "      <td>2316851</td>\n",
              "      <td>-813.0</td>\n",
              "      <td>17926.7</td>\n",
              "    </tr>\n",
              "    <tr>\n",
              "      <th>2020-05-27</th>\n",
              "      <td>17186.0</td>\n",
              "      <td>18990.0</td>\n",
              "      <td>17186.0</td>\n",
              "      <td>17928.0</td>\n",
              "      <td>115006593572</td>\n",
              "      <td>6415054</td>\n",
              "      <td>-164.0</td>\n",
              "      <td>17761.4</td>\n",
              "    </tr>\n",
              "    <tr>\n",
              "      <th>2020-05-30</th>\n",
              "      <td>18824.0</td>\n",
              "      <td>18824.0</td>\n",
              "      <td>18401.0</td>\n",
              "      <td>18823.0</td>\n",
              "      <td>128426052100</td>\n",
              "      <td>6822804</td>\n",
              "      <td>895.0</td>\n",
              "      <td>17849.8</td>\n",
              "    </tr>\n",
              "    <tr>\n",
              "      <th>2020-05-31</th>\n",
              "      <td>17882.0</td>\n",
              "      <td>19690.0</td>\n",
              "      <td>17882.0</td>\n",
              "      <td>19087.0</td>\n",
              "      <td>70489687776</td>\n",
              "      <td>3692994</td>\n",
              "      <td>264.0</td>\n",
              "      <td>18004.2</td>\n",
              "    </tr>\n",
              "    <tr>\n",
              "      <th>2020-06-01</th>\n",
              "      <td>19980.0</td>\n",
              "      <td>19997.0</td>\n",
              "      <td>19096.0</td>\n",
              "      <td>19392.0</td>\n",
              "      <td>62242497958</td>\n",
              "      <td>3209736</td>\n",
              "      <td>305.0</td>\n",
              "      <td>18264.2</td>\n",
              "    </tr>\n",
              "  </tbody>\n",
              "</table>\n",
              "</div>"
            ],
            "text/plain": [
              "            <FIRST>   <HIGH>    <LOW>  ...    <VOL>  change_in_price    MA_10\n",
              "datetime                               ...                                   \n",
              "2020-05-26  18000.0  18417.0  17960.0  ...  2316851           -813.0  17926.7\n",
              "2020-05-27  17186.0  18990.0  17186.0  ...  6415054           -164.0  17761.4\n",
              "2020-05-30  18824.0  18824.0  18401.0  ...  6822804            895.0  17849.8\n",
              "2020-05-31  17882.0  19690.0  17882.0  ...  3692994            264.0  18004.2\n",
              "2020-06-01  19980.0  19997.0  19096.0  ...  3209736            305.0  18264.2\n",
              "\n",
              "[5 rows x 8 columns]"
            ]
          },
          "metadata": {
            "tags": []
          },
          "execution_count": 15
        }
      ]
    },
    {
      "cell_type": "code",
      "metadata": {
        "id": "080HB4bObesP",
        "outputId": "5540e6b0-cf71-4223-c763-86bff9608868",
        "colab": {
          "base_uri": "https://localhost:8080/",
          "height": 235
        }
      },
      "source": [
        "#2. Weighted Moving Average (WMA)\n",
        "def weighted_moving_average(df, n):\n",
        "    \"\"\"\n",
        "    :param df: pandas.DataFrame\n",
        "    :param n:\n",
        "    :return: pandas.DataFrame\n",
        "    \"\"\"\n",
        "    WMA = pd.Series(df['<CLOSE>'].ewm(span=n, min_periods=n).mean(), name='WMA_' + str(n))\n",
        "    df = df.join(WMA)\n",
        "    return df\n",
        "df_new = weighted_moving_average(df_new,10)\n",
        "df_new.tail()"
      ],
      "execution_count": 16,
      "outputs": [
        {
          "output_type": "execute_result",
          "data": {
            "text/html": [
              "<div>\n",
              "<style scoped>\n",
              "    .dataframe tbody tr th:only-of-type {\n",
              "        vertical-align: middle;\n",
              "    }\n",
              "\n",
              "    .dataframe tbody tr th {\n",
              "        vertical-align: top;\n",
              "    }\n",
              "\n",
              "    .dataframe thead th {\n",
              "        text-align: right;\n",
              "    }\n",
              "</style>\n",
              "<table border=\"1\" class=\"dataframe\">\n",
              "  <thead>\n",
              "    <tr style=\"text-align: right;\">\n",
              "      <th></th>\n",
              "      <th>&lt;FIRST&gt;</th>\n",
              "      <th>&lt;HIGH&gt;</th>\n",
              "      <th>&lt;LOW&gt;</th>\n",
              "      <th>&lt;CLOSE&gt;</th>\n",
              "      <th>&lt;VALUE&gt;</th>\n",
              "      <th>&lt;VOL&gt;</th>\n",
              "      <th>change_in_price</th>\n",
              "      <th>MA_10</th>\n",
              "      <th>WMA_10</th>\n",
              "    </tr>\n",
              "    <tr>\n",
              "      <th>datetime</th>\n",
              "      <th></th>\n",
              "      <th></th>\n",
              "      <th></th>\n",
              "      <th></th>\n",
              "      <th></th>\n",
              "      <th></th>\n",
              "      <th></th>\n",
              "      <th></th>\n",
              "      <th></th>\n",
              "    </tr>\n",
              "  </thead>\n",
              "  <tbody>\n",
              "    <tr>\n",
              "      <th>2020-05-26</th>\n",
              "      <td>18000.0</td>\n",
              "      <td>18417.0</td>\n",
              "      <td>17960.0</td>\n",
              "      <td>18092.0</td>\n",
              "      <td>41636609960</td>\n",
              "      <td>2316851</td>\n",
              "      <td>-813.0</td>\n",
              "      <td>17926.7</td>\n",
              "      <td>18259.663642</td>\n",
              "    </tr>\n",
              "    <tr>\n",
              "      <th>2020-05-27</th>\n",
              "      <td>17186.0</td>\n",
              "      <td>18990.0</td>\n",
              "      <td>17186.0</td>\n",
              "      <td>17928.0</td>\n",
              "      <td>115006593572</td>\n",
              "      <td>6415054</td>\n",
              "      <td>-164.0</td>\n",
              "      <td>17761.4</td>\n",
              "      <td>18199.361162</td>\n",
              "    </tr>\n",
              "    <tr>\n",
              "      <th>2020-05-30</th>\n",
              "      <td>18824.0</td>\n",
              "      <td>18824.0</td>\n",
              "      <td>18401.0</td>\n",
              "      <td>18823.0</td>\n",
              "      <td>128426052100</td>\n",
              "      <td>6822804</td>\n",
              "      <td>895.0</td>\n",
              "      <td>17849.8</td>\n",
              "      <td>18312.750041</td>\n",
              "    </tr>\n",
              "    <tr>\n",
              "      <th>2020-05-31</th>\n",
              "      <td>17882.0</td>\n",
              "      <td>19690.0</td>\n",
              "      <td>17882.0</td>\n",
              "      <td>19087.0</td>\n",
              "      <td>70489687776</td>\n",
              "      <td>3692994</td>\n",
              "      <td>264.0</td>\n",
              "      <td>18004.2</td>\n",
              "      <td>18453.522761</td>\n",
              "    </tr>\n",
              "    <tr>\n",
              "      <th>2020-06-01</th>\n",
              "      <td>19980.0</td>\n",
              "      <td>19997.0</td>\n",
              "      <td>19096.0</td>\n",
              "      <td>19392.0</td>\n",
              "      <td>62242497958</td>\n",
              "      <td>3209736</td>\n",
              "      <td>305.0</td>\n",
              "      <td>18264.2</td>\n",
              "      <td>18624.154986</td>\n",
              "    </tr>\n",
              "  </tbody>\n",
              "</table>\n",
              "</div>"
            ],
            "text/plain": [
              "            <FIRST>   <HIGH>    <LOW>  ...  change_in_price    MA_10        WMA_10\n",
              "datetime                               ...                                        \n",
              "2020-05-26  18000.0  18417.0  17960.0  ...           -813.0  17926.7  18259.663642\n",
              "2020-05-27  17186.0  18990.0  17186.0  ...           -164.0  17761.4  18199.361162\n",
              "2020-05-30  18824.0  18824.0  18401.0  ...            895.0  17849.8  18312.750041\n",
              "2020-05-31  17882.0  19690.0  17882.0  ...            264.0  18004.2  18453.522761\n",
              "2020-06-01  19980.0  19997.0  19096.0  ...            305.0  18264.2  18624.154986\n",
              "\n",
              "[5 rows x 9 columns]"
            ]
          },
          "metadata": {
            "tags": []
          },
          "execution_count": 16
        }
      ]
    },
    {
      "cell_type": "code",
      "metadata": {
        "id": "lTZOxNVrbesS",
        "outputId": "766374f8-d11e-4ada-a70c-6836b9f463e4",
        "colab": {
          "base_uri": "https://localhost:8080/",
          "height": 235
        }
      },
      "source": [
        "#3. Momentum\n",
        "def momentum(df, n):\n",
        "    \"\"\"\n",
        "    :param df: pandas.DataFrame\n",
        "    :param n:\n",
        "    :return: pandas.DataFrame\n",
        "    \"\"\"\n",
        "    M = pd.Series(df['<CLOSE>'].diff(n), name='MOM_' + str(n))\n",
        "    df = df.join(M)\n",
        "    return df\n",
        "df_new = momentum(df_new,10)\n",
        "df_new.tail()"
      ],
      "execution_count": 17,
      "outputs": [
        {
          "output_type": "execute_result",
          "data": {
            "text/html": [
              "<div>\n",
              "<style scoped>\n",
              "    .dataframe tbody tr th:only-of-type {\n",
              "        vertical-align: middle;\n",
              "    }\n",
              "\n",
              "    .dataframe tbody tr th {\n",
              "        vertical-align: top;\n",
              "    }\n",
              "\n",
              "    .dataframe thead th {\n",
              "        text-align: right;\n",
              "    }\n",
              "</style>\n",
              "<table border=\"1\" class=\"dataframe\">\n",
              "  <thead>\n",
              "    <tr style=\"text-align: right;\">\n",
              "      <th></th>\n",
              "      <th>&lt;FIRST&gt;</th>\n",
              "      <th>&lt;HIGH&gt;</th>\n",
              "      <th>&lt;LOW&gt;</th>\n",
              "      <th>&lt;CLOSE&gt;</th>\n",
              "      <th>&lt;VALUE&gt;</th>\n",
              "      <th>&lt;VOL&gt;</th>\n",
              "      <th>change_in_price</th>\n",
              "      <th>MA_10</th>\n",
              "      <th>WMA_10</th>\n",
              "      <th>MOM_10</th>\n",
              "    </tr>\n",
              "    <tr>\n",
              "      <th>datetime</th>\n",
              "      <th></th>\n",
              "      <th></th>\n",
              "      <th></th>\n",
              "      <th></th>\n",
              "      <th></th>\n",
              "      <th></th>\n",
              "      <th></th>\n",
              "      <th></th>\n",
              "      <th></th>\n",
              "      <th></th>\n",
              "    </tr>\n",
              "  </thead>\n",
              "  <tbody>\n",
              "    <tr>\n",
              "      <th>2020-05-26</th>\n",
              "      <td>18000.0</td>\n",
              "      <td>18417.0</td>\n",
              "      <td>17960.0</td>\n",
              "      <td>18092.0</td>\n",
              "      <td>41636609960</td>\n",
              "      <td>2316851</td>\n",
              "      <td>-813.0</td>\n",
              "      <td>17926.7</td>\n",
              "      <td>18259.663642</td>\n",
              "      <td>-2014.0</td>\n",
              "    </tr>\n",
              "    <tr>\n",
              "      <th>2020-05-27</th>\n",
              "      <td>17186.0</td>\n",
              "      <td>18990.0</td>\n",
              "      <td>17186.0</td>\n",
              "      <td>17928.0</td>\n",
              "      <td>115006593572</td>\n",
              "      <td>6415054</td>\n",
              "      <td>-164.0</td>\n",
              "      <td>17761.4</td>\n",
              "      <td>18199.361162</td>\n",
              "      <td>-1653.0</td>\n",
              "    </tr>\n",
              "    <tr>\n",
              "      <th>2020-05-30</th>\n",
              "      <td>18824.0</td>\n",
              "      <td>18824.0</td>\n",
              "      <td>18401.0</td>\n",
              "      <td>18823.0</td>\n",
              "      <td>128426052100</td>\n",
              "      <td>6822804</td>\n",
              "      <td>895.0</td>\n",
              "      <td>17849.8</td>\n",
              "      <td>18312.750041</td>\n",
              "      <td>884.0</td>\n",
              "    </tr>\n",
              "    <tr>\n",
              "      <th>2020-05-31</th>\n",
              "      <td>17882.0</td>\n",
              "      <td>19690.0</td>\n",
              "      <td>17882.0</td>\n",
              "      <td>19087.0</td>\n",
              "      <td>70489687776</td>\n",
              "      <td>3692994</td>\n",
              "      <td>264.0</td>\n",
              "      <td>18004.2</td>\n",
              "      <td>18453.522761</td>\n",
              "      <td>1544.0</td>\n",
              "    </tr>\n",
              "    <tr>\n",
              "      <th>2020-06-01</th>\n",
              "      <td>19980.0</td>\n",
              "      <td>19997.0</td>\n",
              "      <td>19096.0</td>\n",
              "      <td>19392.0</td>\n",
              "      <td>62242497958</td>\n",
              "      <td>3209736</td>\n",
              "      <td>305.0</td>\n",
              "      <td>18264.2</td>\n",
              "      <td>18624.154986</td>\n",
              "      <td>2600.0</td>\n",
              "    </tr>\n",
              "  </tbody>\n",
              "</table>\n",
              "</div>"
            ],
            "text/plain": [
              "            <FIRST>   <HIGH>    <LOW>  ...    MA_10        WMA_10  MOM_10\n",
              "datetime                               ...                               \n",
              "2020-05-26  18000.0  18417.0  17960.0  ...  17926.7  18259.663642 -2014.0\n",
              "2020-05-27  17186.0  18990.0  17186.0  ...  17761.4  18199.361162 -1653.0\n",
              "2020-05-30  18824.0  18824.0  18401.0  ...  17849.8  18312.750041   884.0\n",
              "2020-05-31  17882.0  19690.0  17882.0  ...  18004.2  18453.522761  1544.0\n",
              "2020-06-01  19980.0  19997.0  19096.0  ...  18264.2  18624.154986  2600.0\n",
              "\n",
              "[5 rows x 10 columns]"
            ]
          },
          "metadata": {
            "tags": []
          },
          "execution_count": 17
        }
      ]
    },
    {
      "cell_type": "code",
      "metadata": {
        "id": "9WasGdiqbesV",
        "outputId": "dc08be9b-b9a0-483e-d46d-6852249b5fe7",
        "colab": {
          "base_uri": "https://localhost:8080/",
          "height": 340
        }
      },
      "source": [
        "#4. Stochastic K%\n",
        "def stochastic_oscillator_k(df):\n",
        "    \"\"\"Calculate stochastic oscillator %K for given data.\n",
        "    :param df: pandas.DataFrame\n",
        "    :return: pandas.DataFrame\n",
        "    \"\"\"\n",
        "    SOk = pd.Series((df['<CLOSE>'] - df['<LOW>']) / (df['<HIGH>'] - df['<LOW>']), name='SO_k')\n",
        "    df = df.join(SOk)\n",
        "    return df\n",
        "df_new = stochastic_oscillator_k(df_new)\n",
        "df_new.tail()"
      ],
      "execution_count": 18,
      "outputs": [
        {
          "output_type": "execute_result",
          "data": {
            "text/html": [
              "<div>\n",
              "<style scoped>\n",
              "    .dataframe tbody tr th:only-of-type {\n",
              "        vertical-align: middle;\n",
              "    }\n",
              "\n",
              "    .dataframe tbody tr th {\n",
              "        vertical-align: top;\n",
              "    }\n",
              "\n",
              "    .dataframe thead th {\n",
              "        text-align: right;\n",
              "    }\n",
              "</style>\n",
              "<table border=\"1\" class=\"dataframe\">\n",
              "  <thead>\n",
              "    <tr style=\"text-align: right;\">\n",
              "      <th></th>\n",
              "      <th>&lt;FIRST&gt;</th>\n",
              "      <th>&lt;HIGH&gt;</th>\n",
              "      <th>&lt;LOW&gt;</th>\n",
              "      <th>&lt;CLOSE&gt;</th>\n",
              "      <th>&lt;VALUE&gt;</th>\n",
              "      <th>&lt;VOL&gt;</th>\n",
              "      <th>change_in_price</th>\n",
              "      <th>MA_10</th>\n",
              "      <th>WMA_10</th>\n",
              "      <th>MOM_10</th>\n",
              "      <th>SO_k</th>\n",
              "    </tr>\n",
              "    <tr>\n",
              "      <th>datetime</th>\n",
              "      <th></th>\n",
              "      <th></th>\n",
              "      <th></th>\n",
              "      <th></th>\n",
              "      <th></th>\n",
              "      <th></th>\n",
              "      <th></th>\n",
              "      <th></th>\n",
              "      <th></th>\n",
              "      <th></th>\n",
              "      <th></th>\n",
              "    </tr>\n",
              "  </thead>\n",
              "  <tbody>\n",
              "    <tr>\n",
              "      <th>2020-05-26</th>\n",
              "      <td>18000.0</td>\n",
              "      <td>18417.0</td>\n",
              "      <td>17960.0</td>\n",
              "      <td>18092.0</td>\n",
              "      <td>41636609960</td>\n",
              "      <td>2316851</td>\n",
              "      <td>-813.0</td>\n",
              "      <td>17926.7</td>\n",
              "      <td>18259.663642</td>\n",
              "      <td>-2014.0</td>\n",
              "      <td>0.288840</td>\n",
              "    </tr>\n",
              "    <tr>\n",
              "      <th>2020-05-27</th>\n",
              "      <td>17186.0</td>\n",
              "      <td>18990.0</td>\n",
              "      <td>17186.0</td>\n",
              "      <td>17928.0</td>\n",
              "      <td>115006593572</td>\n",
              "      <td>6415054</td>\n",
              "      <td>-164.0</td>\n",
              "      <td>17761.4</td>\n",
              "      <td>18199.361162</td>\n",
              "      <td>-1653.0</td>\n",
              "      <td>0.411308</td>\n",
              "    </tr>\n",
              "    <tr>\n",
              "      <th>2020-05-30</th>\n",
              "      <td>18824.0</td>\n",
              "      <td>18824.0</td>\n",
              "      <td>18401.0</td>\n",
              "      <td>18823.0</td>\n",
              "      <td>128426052100</td>\n",
              "      <td>6822804</td>\n",
              "      <td>895.0</td>\n",
              "      <td>17849.8</td>\n",
              "      <td>18312.750041</td>\n",
              "      <td>884.0</td>\n",
              "      <td>0.997636</td>\n",
              "    </tr>\n",
              "    <tr>\n",
              "      <th>2020-05-31</th>\n",
              "      <td>17882.0</td>\n",
              "      <td>19690.0</td>\n",
              "      <td>17882.0</td>\n",
              "      <td>19087.0</td>\n",
              "      <td>70489687776</td>\n",
              "      <td>3692994</td>\n",
              "      <td>264.0</td>\n",
              "      <td>18004.2</td>\n",
              "      <td>18453.522761</td>\n",
              "      <td>1544.0</td>\n",
              "      <td>0.666482</td>\n",
              "    </tr>\n",
              "    <tr>\n",
              "      <th>2020-06-01</th>\n",
              "      <td>19980.0</td>\n",
              "      <td>19997.0</td>\n",
              "      <td>19096.0</td>\n",
              "      <td>19392.0</td>\n",
              "      <td>62242497958</td>\n",
              "      <td>3209736</td>\n",
              "      <td>305.0</td>\n",
              "      <td>18264.2</td>\n",
              "      <td>18624.154986</td>\n",
              "      <td>2600.0</td>\n",
              "      <td>0.328524</td>\n",
              "    </tr>\n",
              "  </tbody>\n",
              "</table>\n",
              "</div>"
            ],
            "text/plain": [
              "            <FIRST>   <HIGH>    <LOW>  ...        WMA_10  MOM_10      SO_k\n",
              "datetime                               ...                                \n",
              "2020-05-26  18000.0  18417.0  17960.0  ...  18259.663642 -2014.0  0.288840\n",
              "2020-05-27  17186.0  18990.0  17186.0  ...  18199.361162 -1653.0  0.411308\n",
              "2020-05-30  18824.0  18824.0  18401.0  ...  18312.750041   884.0  0.997636\n",
              "2020-05-31  17882.0  19690.0  17882.0  ...  18453.522761  1544.0  0.666482\n",
              "2020-06-01  19980.0  19997.0  19096.0  ...  18624.154986  2600.0  0.328524\n",
              "\n",
              "[5 rows x 11 columns]"
            ]
          },
          "metadata": {
            "tags": []
          },
          "execution_count": 18
        }
      ]
    },
    {
      "cell_type": "code",
      "metadata": {
        "id": "d5u31Lq2besX",
        "outputId": "be0d5aa8-5e87-4c83-89b8-5dd32edb68cd",
        "colab": {
          "base_uri": "https://localhost:8080/",
          "height": 340
        }
      },
      "source": [
        "#5. Stochastic D%\n",
        "def stochastic_oscillator_d(df, n):\n",
        "    \"\"\"Calculate stochastic oscillator %D for given data.\n",
        "    :param df: pandas.DataFrame\n",
        "    :param n:\n",
        "    :return: pandas.DataFrame\n",
        "    \"\"\"\n",
        "    SOk = pd.Series((df['<CLOSE>'] - df['<LOW>']) / (df['<HIGH>'] - df['<LOW>']), name='SO%k')\n",
        "    SOd = pd.Series(SOk.ewm(span=n, min_periods=n).mean(), name='SO_' + str(n))\n",
        "    df = df.join(SOd)\n",
        "    return df\n",
        "df_new = stochastic_oscillator_d(df_new,10)\n",
        "df_new.tail()"
      ],
      "execution_count": 19,
      "outputs": [
        {
          "output_type": "execute_result",
          "data": {
            "text/html": [
              "<div>\n",
              "<style scoped>\n",
              "    .dataframe tbody tr th:only-of-type {\n",
              "        vertical-align: middle;\n",
              "    }\n",
              "\n",
              "    .dataframe tbody tr th {\n",
              "        vertical-align: top;\n",
              "    }\n",
              "\n",
              "    .dataframe thead th {\n",
              "        text-align: right;\n",
              "    }\n",
              "</style>\n",
              "<table border=\"1\" class=\"dataframe\">\n",
              "  <thead>\n",
              "    <tr style=\"text-align: right;\">\n",
              "      <th></th>\n",
              "      <th>&lt;FIRST&gt;</th>\n",
              "      <th>&lt;HIGH&gt;</th>\n",
              "      <th>&lt;LOW&gt;</th>\n",
              "      <th>&lt;CLOSE&gt;</th>\n",
              "      <th>&lt;VALUE&gt;</th>\n",
              "      <th>&lt;VOL&gt;</th>\n",
              "      <th>change_in_price</th>\n",
              "      <th>MA_10</th>\n",
              "      <th>WMA_10</th>\n",
              "      <th>MOM_10</th>\n",
              "      <th>SO_k</th>\n",
              "      <th>SO_10</th>\n",
              "    </tr>\n",
              "    <tr>\n",
              "      <th>datetime</th>\n",
              "      <th></th>\n",
              "      <th></th>\n",
              "      <th></th>\n",
              "      <th></th>\n",
              "      <th></th>\n",
              "      <th></th>\n",
              "      <th></th>\n",
              "      <th></th>\n",
              "      <th></th>\n",
              "      <th></th>\n",
              "      <th></th>\n",
              "      <th></th>\n",
              "    </tr>\n",
              "  </thead>\n",
              "  <tbody>\n",
              "    <tr>\n",
              "      <th>2020-05-26</th>\n",
              "      <td>18000.0</td>\n",
              "      <td>18417.0</td>\n",
              "      <td>17960.0</td>\n",
              "      <td>18092.0</td>\n",
              "      <td>41636609960</td>\n",
              "      <td>2316851</td>\n",
              "      <td>-813.0</td>\n",
              "      <td>17926.7</td>\n",
              "      <td>18259.663642</td>\n",
              "      <td>-2014.0</td>\n",
              "      <td>0.288840</td>\n",
              "      <td>0.539398</td>\n",
              "    </tr>\n",
              "    <tr>\n",
              "      <th>2020-05-27</th>\n",
              "      <td>17186.0</td>\n",
              "      <td>18990.0</td>\n",
              "      <td>17186.0</td>\n",
              "      <td>17928.0</td>\n",
              "      <td>115006593572</td>\n",
              "      <td>6415054</td>\n",
              "      <td>-164.0</td>\n",
              "      <td>17761.4</td>\n",
              "      <td>18199.361162</td>\n",
              "      <td>-1653.0</td>\n",
              "      <td>0.411308</td>\n",
              "      <td>0.516099</td>\n",
              "    </tr>\n",
              "    <tr>\n",
              "      <th>2020-05-30</th>\n",
              "      <td>18824.0</td>\n",
              "      <td>18824.0</td>\n",
              "      <td>18401.0</td>\n",
              "      <td>18823.0</td>\n",
              "      <td>128426052100</td>\n",
              "      <td>6822804</td>\n",
              "      <td>895.0</td>\n",
              "      <td>17849.8</td>\n",
              "      <td>18312.750041</td>\n",
              "      <td>884.0</td>\n",
              "      <td>0.997636</td>\n",
              "      <td>0.603680</td>\n",
              "    </tr>\n",
              "    <tr>\n",
              "      <th>2020-05-31</th>\n",
              "      <td>17882.0</td>\n",
              "      <td>19690.0</td>\n",
              "      <td>17882.0</td>\n",
              "      <td>19087.0</td>\n",
              "      <td>70489687776</td>\n",
              "      <td>3692994</td>\n",
              "      <td>264.0</td>\n",
              "      <td>18004.2</td>\n",
              "      <td>18453.522761</td>\n",
              "      <td>1544.0</td>\n",
              "      <td>0.666482</td>\n",
              "      <td>0.615102</td>\n",
              "    </tr>\n",
              "    <tr>\n",
              "      <th>2020-06-01</th>\n",
              "      <td>19980.0</td>\n",
              "      <td>19997.0</td>\n",
              "      <td>19096.0</td>\n",
              "      <td>19392.0</td>\n",
              "      <td>62242497958</td>\n",
              "      <td>3209736</td>\n",
              "      <td>305.0</td>\n",
              "      <td>18264.2</td>\n",
              "      <td>18624.154986</td>\n",
              "      <td>2600.0</td>\n",
              "      <td>0.328524</td>\n",
              "      <td>0.562985</td>\n",
              "    </tr>\n",
              "  </tbody>\n",
              "</table>\n",
              "</div>"
            ],
            "text/plain": [
              "            <FIRST>   <HIGH>    <LOW>  ...  MOM_10      SO_k     SO_10\n",
              "datetime                               ...                            \n",
              "2020-05-26  18000.0  18417.0  17960.0  ... -2014.0  0.288840  0.539398\n",
              "2020-05-27  17186.0  18990.0  17186.0  ... -1653.0  0.411308  0.516099\n",
              "2020-05-30  18824.0  18824.0  18401.0  ...   884.0  0.997636  0.603680\n",
              "2020-05-31  17882.0  19690.0  17882.0  ...  1544.0  0.666482  0.615102\n",
              "2020-06-01  19980.0  19997.0  19096.0  ...  2600.0  0.328524  0.562985\n",
              "\n",
              "[5 rows x 12 columns]"
            ]
          },
          "metadata": {
            "tags": []
          },
          "execution_count": 19
        }
      ]
    },
    {
      "cell_type": "code",
      "metadata": {
        "id": "oki_RUaObesb",
        "outputId": "7970e888-98f2-417a-d4f0-96658588fe27",
        "colab": {
          "base_uri": "https://localhost:8080/",
          "height": 171
        }
      },
      "source": [
        "#6. Relative Strength Index\n",
        "#Error\n",
        "\"\"\"\n",
        "def relative_strength_index(df, n):\n",
        "    Calculate Relative Strength Index(RSI) for given data.\n",
        "    :param df: pandas.DataFrame\n",
        "    :param n:\n",
        "    :return: pandas.DataFrame\n",
        "    i = df.index[0]\n",
        "    UpI = [0]\n",
        "    DoI = [0]\n",
        "    while i + 1 <= df.index[-1]:\n",
        "        UpMove = float(df.loc[i + 1, 'high']) - float(df.loc[i, 'high'])\n",
        "        DoMove = float(df.loc[i, 'low']) - float(df.loc[i + 1, 'low'])\n",
        "        if UpMove > DoMove and UpMove > 0:\n",
        "            UpD = UpMove\n",
        "        else:\n",
        "            UpD = 0\n",
        "        UpI.append(UpD)\n",
        "        if DoMove > UpMove and DoMove > 0:\n",
        "            DoD = DoMove\n",
        "        else:\n",
        "            DoD = 0\n",
        "        DoI.append(DoD)\n",
        "        i = i + 1\n",
        "    UpI = pd.Series(UpI)\n",
        "\n",
        "    DoI = pd.Series(DoI)\n",
        "    PosDI = pd.Series(UpI.ewm(span=n, min_periods=n).mean())\n",
        "    NegDI = pd.Series(DoI.ewm(span=n, min_periods=n).mean())\n",
        "\n",
        "    # rsi = pd.Series(PosDI / (PosDI + NegDI), name='RSI_' + str(n))\n",
        "    rsi = pd.DataFrame(PosDI / (PosDI + NegDI), columns=['RSI_' + str(n)])\n",
        "    rsi = rsi.set_index(df.index)\n",
        "    df = df.join(rsi)\n",
        "    return df\n",
        "\"\"\""
      ],
      "execution_count": 20,
      "outputs": [
        {
          "output_type": "execute_result",
          "data": {
            "application/vnd.google.colaboratory.intrinsic+json": {
              "type": "string"
            },
            "text/plain": [
              "\"\\ndef relative_strength_index(df, n):\\n    Calculate Relative Strength Index(RSI) for given data.\\n    :param df: pandas.DataFrame\\n    :param n:\\n    :return: pandas.DataFrame\\n    i = df.index[0]\\n    UpI = [0]\\n    DoI = [0]\\n    while i + 1 <= df.index[-1]:\\n        UpMove = float(df.loc[i + 1, 'high']) - float(df.loc[i, 'high'])\\n        DoMove = float(df.loc[i, 'low']) - float(df.loc[i + 1, 'low'])\\n        if UpMove > DoMove and UpMove > 0:\\n            UpD = UpMove\\n        else:\\n            UpD = 0\\n        UpI.append(UpD)\\n        if DoMove > UpMove and DoMove > 0:\\n            DoD = DoMove\\n        else:\\n            DoD = 0\\n        DoI.append(DoD)\\n        i = i + 1\\n    UpI = pd.Series(UpI)\\n\\n    DoI = pd.Series(DoI)\\n    PosDI = pd.Series(UpI.ewm(span=n, min_periods=n).mean())\\n    NegDI = pd.Series(DoI.ewm(span=n, min_periods=n).mean())\\n\\n    # rsi = pd.Series(PosDI / (PosDI + NegDI), name='RSI_' + str(n))\\n    rsi = pd.DataFrame(PosDI / (PosDI + NegDI), columns=['RSI_' + str(n)])\\n    rsi = rsi.set_index(df.index)\\n    df = df.join(rsi)\\n    return df\\n\""
            ]
          },
          "metadata": {
            "tags": []
          },
          "execution_count": 20
        }
      ]
    },
    {
      "cell_type": "code",
      "metadata": {
        "id": "SzBt7Xdobese",
        "outputId": "d901a6c5-de63-4e5d-b110-1ab93f2d7871",
        "colab": {
          "base_uri": "https://localhost:8080/",
          "height": 340
        }
      },
      "source": [
        "#7. Signal\n",
        "def macd(df, n_fast, n_slow):\n",
        "    \"\"\"Calculate MACD, MACD Signal and MACD difference\n",
        "    :param df: pandas.DataFrame\n",
        "    :param n_fast:\n",
        "    :param n_slow:\n",
        "    :return: pandas.DataFrame\n",
        "    \"\"\"\n",
        "    EMAfast = pd.Series(df['<CLOSE>'].ewm(span=n_fast, min_periods=n_slow).mean())\n",
        "    EMAslow = pd.Series(df['<CLOSE>'].ewm(span=n_slow, min_periods=n_slow).mean())\n",
        "    MACD = pd.Series(EMAfast - EMAslow, name='MACD_' + str(n_fast) + '_' + str(n_slow))\n",
        "    MACDsign = pd.Series(MACD.ewm(span=9, min_periods=9).mean(), name='MACDsign_' + str(n_fast) + '_' + str(n_slow))\n",
        "    MACDdiff = pd.Series(MACD - MACDsign, name='MACDdiff_' + str(n_fast) + '_' + str(n_slow))\n",
        "    df = df.join(MACD)\n",
        "    df = df.join(MACDsign)\n",
        "    df = df.join(MACDdiff)\n",
        "    return df\n",
        "df_new = macd(df_new,12,26)\n",
        "df_new.head()"
      ],
      "execution_count": 21,
      "outputs": [
        {
          "output_type": "execute_result",
          "data": {
            "text/html": [
              "<div>\n",
              "<style scoped>\n",
              "    .dataframe tbody tr th:only-of-type {\n",
              "        vertical-align: middle;\n",
              "    }\n",
              "\n",
              "    .dataframe tbody tr th {\n",
              "        vertical-align: top;\n",
              "    }\n",
              "\n",
              "    .dataframe thead th {\n",
              "        text-align: right;\n",
              "    }\n",
              "</style>\n",
              "<table border=\"1\" class=\"dataframe\">\n",
              "  <thead>\n",
              "    <tr style=\"text-align: right;\">\n",
              "      <th></th>\n",
              "      <th>&lt;FIRST&gt;</th>\n",
              "      <th>&lt;HIGH&gt;</th>\n",
              "      <th>&lt;LOW&gt;</th>\n",
              "      <th>&lt;CLOSE&gt;</th>\n",
              "      <th>&lt;VALUE&gt;</th>\n",
              "      <th>&lt;VOL&gt;</th>\n",
              "      <th>change_in_price</th>\n",
              "      <th>MA_10</th>\n",
              "      <th>WMA_10</th>\n",
              "      <th>MOM_10</th>\n",
              "      <th>SO_k</th>\n",
              "      <th>SO_10</th>\n",
              "      <th>MACD_12_26</th>\n",
              "      <th>MACDsign_12_26</th>\n",
              "      <th>MACDdiff_12_26</th>\n",
              "    </tr>\n",
              "    <tr>\n",
              "      <th>datetime</th>\n",
              "      <th></th>\n",
              "      <th></th>\n",
              "      <th></th>\n",
              "      <th></th>\n",
              "      <th></th>\n",
              "      <th></th>\n",
              "      <th></th>\n",
              "      <th></th>\n",
              "      <th></th>\n",
              "      <th></th>\n",
              "      <th></th>\n",
              "      <th></th>\n",
              "      <th></th>\n",
              "      <th></th>\n",
              "      <th></th>\n",
              "    </tr>\n",
              "  </thead>\n",
              "  <tbody>\n",
              "    <tr>\n",
              "      <th>2001-03-25</th>\n",
              "      <td>2140.0</td>\n",
              "      <td>2140.0</td>\n",
              "      <td>2139.0</td>\n",
              "      <td>2140.0</td>\n",
              "      <td>349714320</td>\n",
              "      <td>163488</td>\n",
              "      <td>NaN</td>\n",
              "      <td>NaN</td>\n",
              "      <td>NaN</td>\n",
              "      <td>NaN</td>\n",
              "      <td>1.000000</td>\n",
              "      <td>NaN</td>\n",
              "      <td>NaN</td>\n",
              "      <td>NaN</td>\n",
              "      <td>NaN</td>\n",
              "    </tr>\n",
              "    <tr>\n",
              "      <th>2001-03-26</th>\n",
              "      <td>2135.0</td>\n",
              "      <td>2136.0</td>\n",
              "      <td>2100.0</td>\n",
              "      <td>2100.0</td>\n",
              "      <td>37030936</td>\n",
              "      <td>17577</td>\n",
              "      <td>-40.0</td>\n",
              "      <td>NaN</td>\n",
              "      <td>NaN</td>\n",
              "      <td>NaN</td>\n",
              "      <td>0.000000</td>\n",
              "      <td>NaN</td>\n",
              "      <td>NaN</td>\n",
              "      <td>NaN</td>\n",
              "      <td>NaN</td>\n",
              "    </tr>\n",
              "    <tr>\n",
              "      <th>2001-03-27</th>\n",
              "      <td>2100.0</td>\n",
              "      <td>2100.0</td>\n",
              "      <td>2045.0</td>\n",
              "      <td>2050.0</td>\n",
              "      <td>200173239</td>\n",
              "      <td>97608</td>\n",
              "      <td>-50.0</td>\n",
              "      <td>NaN</td>\n",
              "      <td>NaN</td>\n",
              "      <td>NaN</td>\n",
              "      <td>0.090909</td>\n",
              "      <td>NaN</td>\n",
              "      <td>NaN</td>\n",
              "      <td>NaN</td>\n",
              "      <td>NaN</td>\n",
              "    </tr>\n",
              "    <tr>\n",
              "      <th>2001-03-28</th>\n",
              "      <td>2049.0</td>\n",
              "      <td>2100.0</td>\n",
              "      <td>2020.0</td>\n",
              "      <td>2100.0</td>\n",
              "      <td>120265895</td>\n",
              "      <td>59019</td>\n",
              "      <td>50.0</td>\n",
              "      <td>NaN</td>\n",
              "      <td>NaN</td>\n",
              "      <td>NaN</td>\n",
              "      <td>1.000000</td>\n",
              "      <td>NaN</td>\n",
              "      <td>NaN</td>\n",
              "      <td>NaN</td>\n",
              "      <td>NaN</td>\n",
              "    </tr>\n",
              "    <tr>\n",
              "      <th>2001-03-31</th>\n",
              "      <td>2101.0</td>\n",
              "      <td>2205.0</td>\n",
              "      <td>2100.0</td>\n",
              "      <td>2205.0</td>\n",
              "      <td>187171518</td>\n",
              "      <td>85296</td>\n",
              "      <td>105.0</td>\n",
              "      <td>NaN</td>\n",
              "      <td>NaN</td>\n",
              "      <td>NaN</td>\n",
              "      <td>1.000000</td>\n",
              "      <td>NaN</td>\n",
              "      <td>NaN</td>\n",
              "      <td>NaN</td>\n",
              "      <td>NaN</td>\n",
              "    </tr>\n",
              "  </tbody>\n",
              "</table>\n",
              "</div>"
            ],
            "text/plain": [
              "            <FIRST>  <HIGH>   <LOW>  ...  MACD_12_26  MACDsign_12_26  MACDdiff_12_26\n",
              "datetime                             ...                                            \n",
              "2001-03-25   2140.0  2140.0  2139.0  ...         NaN             NaN             NaN\n",
              "2001-03-26   2135.0  2136.0  2100.0  ...         NaN             NaN             NaN\n",
              "2001-03-27   2100.0  2100.0  2045.0  ...         NaN             NaN             NaN\n",
              "2001-03-28   2049.0  2100.0  2020.0  ...         NaN             NaN             NaN\n",
              "2001-03-31   2101.0  2205.0  2100.0  ...         NaN             NaN             NaN\n",
              "\n",
              "[5 rows x 15 columns]"
            ]
          },
          "metadata": {
            "tags": []
          },
          "execution_count": 21
        }
      ]
    },
    {
      "cell_type": "code",
      "metadata": {
        "id": "cfobRA3dbesh"
      },
      "source": [
        "#8. Larry Williams R%\n",
        "#lEFT"
      ],
      "execution_count": 22,
      "outputs": []
    },
    {
      "cell_type": "code",
      "metadata": {
        "id": "tAAH6tYWbesm",
        "outputId": "9956d5d2-51bb-487c-d071-4e402e4337fc",
        "colab": {
          "base_uri": "https://localhost:8080/",
          "height": 374
        }
      },
      "source": [
        "#9. Accumulation / Distribution\n",
        "def accumulation_distribution(df, n):\n",
        "    \"\"\"Calculate Accumulation/Distribution for given data.\n",
        "    :param df: pandas.DataFrame\n",
        "    :param n:\n",
        "    :return: pandas.DataFrame\n",
        "    \"\"\"\n",
        "    ad = (2 * df['<CLOSE>'] - df['<HIGH>'] - df['<LOW>']) / (df['<HIGH>'] - df['<LOW>']) * df['<VOL>']\n",
        "    M = ad.diff(n - 1)\n",
        "    N = ad.shift(n - 1)\n",
        "    ROC = M / N\n",
        "    AD = pd.Series(ROC, name='Acc/Dist_ROC_' + str(n))\n",
        "    df = df.join(AD)\n",
        "    return df\n",
        "df_new = accumulation_distribution(df_new,10)\n",
        "df_new.tail()"
      ],
      "execution_count": 23,
      "outputs": [
        {
          "output_type": "stream",
          "text": [
            "/usr/local/lib/python3.6/dist-packages/pandas/core/algorithms.py:1977: RuntimeWarning: invalid value encountered in subtract\n",
            "  out_arr[res_indexer] = arr[res_indexer] - arr[lag_indexer]\n"
          ],
          "name": "stderr"
        },
        {
          "output_type": "execute_result",
          "data": {
            "text/html": [
              "<div>\n",
              "<style scoped>\n",
              "    .dataframe tbody tr th:only-of-type {\n",
              "        vertical-align: middle;\n",
              "    }\n",
              "\n",
              "    .dataframe tbody tr th {\n",
              "        vertical-align: top;\n",
              "    }\n",
              "\n",
              "    .dataframe thead th {\n",
              "        text-align: right;\n",
              "    }\n",
              "</style>\n",
              "<table border=\"1\" class=\"dataframe\">\n",
              "  <thead>\n",
              "    <tr style=\"text-align: right;\">\n",
              "      <th></th>\n",
              "      <th>&lt;FIRST&gt;</th>\n",
              "      <th>&lt;HIGH&gt;</th>\n",
              "      <th>&lt;LOW&gt;</th>\n",
              "      <th>&lt;CLOSE&gt;</th>\n",
              "      <th>&lt;VALUE&gt;</th>\n",
              "      <th>&lt;VOL&gt;</th>\n",
              "      <th>change_in_price</th>\n",
              "      <th>MA_10</th>\n",
              "      <th>WMA_10</th>\n",
              "      <th>MOM_10</th>\n",
              "      <th>SO_k</th>\n",
              "      <th>SO_10</th>\n",
              "      <th>MACD_12_26</th>\n",
              "      <th>MACDsign_12_26</th>\n",
              "      <th>MACDdiff_12_26</th>\n",
              "      <th>Acc/Dist_ROC_10</th>\n",
              "    </tr>\n",
              "    <tr>\n",
              "      <th>datetime</th>\n",
              "      <th></th>\n",
              "      <th></th>\n",
              "      <th></th>\n",
              "      <th></th>\n",
              "      <th></th>\n",
              "      <th></th>\n",
              "      <th></th>\n",
              "      <th></th>\n",
              "      <th></th>\n",
              "      <th></th>\n",
              "      <th></th>\n",
              "      <th></th>\n",
              "      <th></th>\n",
              "      <th></th>\n",
              "      <th></th>\n",
              "      <th></th>\n",
              "    </tr>\n",
              "  </thead>\n",
              "  <tbody>\n",
              "    <tr>\n",
              "      <th>2020-05-26</th>\n",
              "      <td>18000.0</td>\n",
              "      <td>18417.0</td>\n",
              "      <td>17960.0</td>\n",
              "      <td>18092.0</td>\n",
              "      <td>41636609960</td>\n",
              "      <td>2316851</td>\n",
              "      <td>-813.0</td>\n",
              "      <td>17926.7</td>\n",
              "      <td>18259.663642</td>\n",
              "      <td>-2014.0</td>\n",
              "      <td>0.288840</td>\n",
              "      <td>0.539398</td>\n",
              "      <td>617.206061</td>\n",
              "      <td>951.060144</td>\n",
              "      <td>-333.854083</td>\n",
              "      <td>-0.652602</td>\n",
              "    </tr>\n",
              "    <tr>\n",
              "      <th>2020-05-27</th>\n",
              "      <td>17186.0</td>\n",
              "      <td>18990.0</td>\n",
              "      <td>17186.0</td>\n",
              "      <td>17928.0</td>\n",
              "      <td>115006593572</td>\n",
              "      <td>6415054</td>\n",
              "      <td>-164.0</td>\n",
              "      <td>17761.4</td>\n",
              "      <td>18199.361162</td>\n",
              "      <td>-1653.0</td>\n",
              "      <td>0.411308</td>\n",
              "      <td>0.516099</td>\n",
              "      <td>544.399044</td>\n",
              "      <td>869.727924</td>\n",
              "      <td>-325.328879</td>\n",
              "      <td>0.202279</td>\n",
              "    </tr>\n",
              "    <tr>\n",
              "      <th>2020-05-30</th>\n",
              "      <td>18824.0</td>\n",
              "      <td>18824.0</td>\n",
              "      <td>18401.0</td>\n",
              "      <td>18823.0</td>\n",
              "      <td>128426052100</td>\n",
              "      <td>6822804</td>\n",
              "      <td>895.0</td>\n",
              "      <td>17849.8</td>\n",
              "      <td>18312.750041</td>\n",
              "      <td>884.0</td>\n",
              "      <td>0.997636</td>\n",
              "      <td>0.603680</td>\n",
              "      <td>552.548544</td>\n",
              "      <td>806.292048</td>\n",
              "      <td>-253.743504</td>\n",
              "      <td>-2.330912</td>\n",
              "    </tr>\n",
              "    <tr>\n",
              "      <th>2020-05-31</th>\n",
              "      <td>17882.0</td>\n",
              "      <td>19690.0</td>\n",
              "      <td>17882.0</td>\n",
              "      <td>19087.0</td>\n",
              "      <td>70489687776</td>\n",
              "      <td>3692994</td>\n",
              "      <td>264.0</td>\n",
              "      <td>18004.2</td>\n",
              "      <td>18453.522761</td>\n",
              "      <td>1544.0</td>\n",
              "      <td>0.666482</td>\n",
              "      <td>0.615102</td>\n",
              "      <td>573.696459</td>\n",
              "      <td>759.772930</td>\n",
              "      <td>-186.076471</td>\n",
              "      <td>-1.665997</td>\n",
              "    </tr>\n",
              "    <tr>\n",
              "      <th>2020-06-01</th>\n",
              "      <td>19980.0</td>\n",
              "      <td>19997.0</td>\n",
              "      <td>19096.0</td>\n",
              "      <td>19392.0</td>\n",
              "      <td>62242497958</td>\n",
              "      <td>3209736</td>\n",
              "      <td>305.0</td>\n",
              "      <td>18264.2</td>\n",
              "      <td>18624.154986</td>\n",
              "      <td>2600.0</td>\n",
              "      <td>0.328524</td>\n",
              "      <td>0.562985</td>\n",
              "      <td>608.057971</td>\n",
              "      <td>729.429938</td>\n",
              "      <td>-121.371967</td>\n",
              "      <td>-0.668024</td>\n",
              "    </tr>\n",
              "  </tbody>\n",
              "</table>\n",
              "</div>"
            ],
            "text/plain": [
              "            <FIRST>   <HIGH>  ...  MACDdiff_12_26  Acc/Dist_ROC_10\n",
              "datetime                      ...                                 \n",
              "2020-05-26  18000.0  18417.0  ...     -333.854083        -0.652602\n",
              "2020-05-27  17186.0  18990.0  ...     -325.328879         0.202279\n",
              "2020-05-30  18824.0  18824.0  ...     -253.743504        -2.330912\n",
              "2020-05-31  17882.0  19690.0  ...     -186.076471        -1.665997\n",
              "2020-06-01  19980.0  19997.0  ...     -121.371967        -0.668024\n",
              "\n",
              "[5 rows x 16 columns]"
            ]
          },
          "metadata": {
            "tags": []
          },
          "execution_count": 23
        }
      ]
    },
    {
      "cell_type": "code",
      "metadata": {
        "id": "XCFLfxtUbesq",
        "outputId": "1bfa16ee-3c95-4559-96e1-cdae4d9ba1cb",
        "colab": {
          "base_uri": "https://localhost:8080/",
          "height": 340
        }
      },
      "source": [
        "#10. Commodity Channel Index\n",
        "def commodity_channel_index(df, n):\n",
        "    \"\"\"Calculate Commodity Channel Index for given data.\n",
        "    :param df: pandas.DataFrame\n",
        "    :param n:\n",
        "    :return: pandas.DataFrame\n",
        "    \"\"\"\n",
        "    PP = (df['<HIGH>'] + df['<LOW>'] + df['<CLOSE>']) / 3\n",
        "    CCI = pd.Series((PP - PP.rolling(n, min_periods=n).mean()) / PP.rolling(n, min_periods=n).std(),\n",
        "                    name='CCI_' + str(n))\n",
        "    df = df.join(CCI)\n",
        "    return df\n",
        "df_new = commodity_channel_index(df_new,10)\n",
        "df_new.tail()"
      ],
      "execution_count": 24,
      "outputs": [
        {
          "output_type": "execute_result",
          "data": {
            "text/html": [
              "<div>\n",
              "<style scoped>\n",
              "    .dataframe tbody tr th:only-of-type {\n",
              "        vertical-align: middle;\n",
              "    }\n",
              "\n",
              "    .dataframe tbody tr th {\n",
              "        vertical-align: top;\n",
              "    }\n",
              "\n",
              "    .dataframe thead th {\n",
              "        text-align: right;\n",
              "    }\n",
              "</style>\n",
              "<table border=\"1\" class=\"dataframe\">\n",
              "  <thead>\n",
              "    <tr style=\"text-align: right;\">\n",
              "      <th></th>\n",
              "      <th>&lt;FIRST&gt;</th>\n",
              "      <th>&lt;HIGH&gt;</th>\n",
              "      <th>&lt;LOW&gt;</th>\n",
              "      <th>&lt;CLOSE&gt;</th>\n",
              "      <th>&lt;VALUE&gt;</th>\n",
              "      <th>&lt;VOL&gt;</th>\n",
              "      <th>change_in_price</th>\n",
              "      <th>MA_10</th>\n",
              "      <th>WMA_10</th>\n",
              "      <th>MOM_10</th>\n",
              "      <th>SO_k</th>\n",
              "      <th>SO_10</th>\n",
              "      <th>MACD_12_26</th>\n",
              "      <th>MACDsign_12_26</th>\n",
              "      <th>MACDdiff_12_26</th>\n",
              "      <th>Acc/Dist_ROC_10</th>\n",
              "      <th>CCI_10</th>\n",
              "    </tr>\n",
              "    <tr>\n",
              "      <th>datetime</th>\n",
              "      <th></th>\n",
              "      <th></th>\n",
              "      <th></th>\n",
              "      <th></th>\n",
              "      <th></th>\n",
              "      <th></th>\n",
              "      <th></th>\n",
              "      <th></th>\n",
              "      <th></th>\n",
              "      <th></th>\n",
              "      <th></th>\n",
              "      <th></th>\n",
              "      <th></th>\n",
              "      <th></th>\n",
              "      <th></th>\n",
              "      <th></th>\n",
              "      <th></th>\n",
              "    </tr>\n",
              "  </thead>\n",
              "  <tbody>\n",
              "    <tr>\n",
              "      <th>2020-05-26</th>\n",
              "      <td>18000.0</td>\n",
              "      <td>18417.0</td>\n",
              "      <td>17960.0</td>\n",
              "      <td>18092.0</td>\n",
              "      <td>41636609960</td>\n",
              "      <td>2316851</td>\n",
              "      <td>-813.0</td>\n",
              "      <td>17926.7</td>\n",
              "      <td>18259.663642</td>\n",
              "      <td>-2014.0</td>\n",
              "      <td>0.288840</td>\n",
              "      <td>0.539398</td>\n",
              "      <td>617.206061</td>\n",
              "      <td>951.060144</td>\n",
              "      <td>-333.854083</td>\n",
              "      <td>-0.652602</td>\n",
              "      <td>0.177397</td>\n",
              "    </tr>\n",
              "    <tr>\n",
              "      <th>2020-05-27</th>\n",
              "      <td>17186.0</td>\n",
              "      <td>18990.0</td>\n",
              "      <td>17186.0</td>\n",
              "      <td>17928.0</td>\n",
              "      <td>115006593572</td>\n",
              "      <td>6415054</td>\n",
              "      <td>-164.0</td>\n",
              "      <td>17761.4</td>\n",
              "      <td>18199.361162</td>\n",
              "      <td>-1653.0</td>\n",
              "      <td>0.411308</td>\n",
              "      <td>0.516099</td>\n",
              "      <td>544.399044</td>\n",
              "      <td>869.727924</td>\n",
              "      <td>-325.328879</td>\n",
              "      <td>0.202279</td>\n",
              "      <td>0.309628</td>\n",
              "    </tr>\n",
              "    <tr>\n",
              "      <th>2020-05-30</th>\n",
              "      <td>18824.0</td>\n",
              "      <td>18824.0</td>\n",
              "      <td>18401.0</td>\n",
              "      <td>18823.0</td>\n",
              "      <td>128426052100</td>\n",
              "      <td>6822804</td>\n",
              "      <td>895.0</td>\n",
              "      <td>17849.8</td>\n",
              "      <td>18312.750041</td>\n",
              "      <td>884.0</td>\n",
              "      <td>0.997636</td>\n",
              "      <td>0.603680</td>\n",
              "      <td>552.548544</td>\n",
              "      <td>806.292048</td>\n",
              "      <td>-253.743504</td>\n",
              "      <td>-2.330912</td>\n",
              "      <td>1.020630</td>\n",
              "    </tr>\n",
              "    <tr>\n",
              "      <th>2020-05-31</th>\n",
              "      <td>17882.0</td>\n",
              "      <td>19690.0</td>\n",
              "      <td>17882.0</td>\n",
              "      <td>19087.0</td>\n",
              "      <td>70489687776</td>\n",
              "      <td>3692994</td>\n",
              "      <td>264.0</td>\n",
              "      <td>18004.2</td>\n",
              "      <td>18453.522761</td>\n",
              "      <td>1544.0</td>\n",
              "      <td>0.666482</td>\n",
              "      <td>0.615102</td>\n",
              "      <td>573.696459</td>\n",
              "      <td>759.772930</td>\n",
              "      <td>-186.076471</td>\n",
              "      <td>-1.665997</td>\n",
              "      <td>1.056782</td>\n",
              "    </tr>\n",
              "    <tr>\n",
              "      <th>2020-06-01</th>\n",
              "      <td>19980.0</td>\n",
              "      <td>19997.0</td>\n",
              "      <td>19096.0</td>\n",
              "      <td>19392.0</td>\n",
              "      <td>62242497958</td>\n",
              "      <td>3209736</td>\n",
              "      <td>305.0</td>\n",
              "      <td>18264.2</td>\n",
              "      <td>18624.154986</td>\n",
              "      <td>2600.0</td>\n",
              "      <td>0.328524</td>\n",
              "      <td>0.562985</td>\n",
              "      <td>608.057971</td>\n",
              "      <td>729.429938</td>\n",
              "      <td>-121.371967</td>\n",
              "      <td>-0.668024</td>\n",
              "      <td>1.396910</td>\n",
              "    </tr>\n",
              "  </tbody>\n",
              "</table>\n",
              "</div>"
            ],
            "text/plain": [
              "            <FIRST>   <HIGH>  ...  Acc/Dist_ROC_10    CCI_10\n",
              "datetime                      ...                           \n",
              "2020-05-26  18000.0  18417.0  ...        -0.652602  0.177397\n",
              "2020-05-27  17186.0  18990.0  ...         0.202279  0.309628\n",
              "2020-05-30  18824.0  18824.0  ...        -2.330912  1.020630\n",
              "2020-05-31  17882.0  19690.0  ...        -1.665997  1.056782\n",
              "2020-06-01  19980.0  19997.0  ...        -0.668024  1.396910\n",
              "\n",
              "[5 rows x 17 columns]"
            ]
          },
          "metadata": {
            "tags": []
          },
          "execution_count": 24
        }
      ]
    },
    {
      "cell_type": "code",
      "metadata": {
        "id": "HHQkL2Fybesu",
        "outputId": "ef1a45be-5405-4397-aa9a-7fccbbf9bed0",
        "colab": {
          "base_uri": "https://localhost:8080/"
        }
      },
      "source": [
        "df_new.mean()"
      ],
      "execution_count": 25,
      "outputs": [
        {
          "output_type": "execute_result",
          "data": {
            "text/plain": [
              "<FIRST>            2.314985e+03\n",
              "<HIGH>             2.354751e+03\n",
              "<LOW>              2.270215e+03\n",
              "<CLOSE>            2.315439e+03\n",
              "<VALUE>            8.081839e+09\n",
              "<VOL>              2.544001e+06\n",
              "change_in_price    4.222222e+00\n",
              "MA_10              2.297528e+03\n",
              "WMA_10             2.297644e+03\n",
              "MOM_10             3.948173e+01\n",
              "SO_k                        NaN\n",
              "SO_10              5.351231e-01\n",
              "MACD_12_26         2.610116e+01\n",
              "MACDsign_12_26     2.537952e+01\n",
              "MACDdiff_12_26     6.755629e-01\n",
              "Acc/Dist_ROC_10             NaN\n",
              "CCI_10            -6.896271e-02\n",
              "dtype: float64"
            ]
          },
          "metadata": {
            "tags": []
          },
          "execution_count": 25
        }
      ]
    },
    {
      "cell_type": "code",
      "metadata": {
        "id": "mSwQUUeKbesx",
        "outputId": "dfbfd028-18c9-498f-e1b5-46d9dba4921d",
        "colab": {
          "base_uri": "https://localhost:8080/"
        }
      },
      "source": [
        "df_new.min()"
      ],
      "execution_count": 26,
      "outputs": [
        {
          "output_type": "execute_result",
          "data": {
            "text/plain": [
              "<FIRST>             491.000000\n",
              "<HIGH>              491.000000\n",
              "<LOW>               491.000000\n",
              "<CLOSE>             506.000000\n",
              "<VALUE>            5710.000000\n",
              "<VOL>                10.000000\n",
              "change_in_price   -1642.000000\n",
              "MA_10               515.100000\n",
              "WMA_10              518.418291\n",
              "MOM_10            -4300.000000\n",
              "SO_k                      -inf\n",
              "SO_10                -4.641678\n",
              "MACD_12_26         -833.183394\n",
              "MACDsign_12_26     -759.151369\n",
              "MACDdiff_12_26     -663.921320\n",
              "Acc/Dist_ROC_10           -inf\n",
              "CCI_10               -2.846050\n",
              "dtype: float64"
            ]
          },
          "metadata": {
            "tags": []
          },
          "execution_count": 26
        }
      ]
    },
    {
      "cell_type": "code",
      "metadata": {
        "id": "mMVVklQPbes1",
        "outputId": "a9eecb09-7854-44d6-a502-80844bc99c1d",
        "colab": {
          "base_uri": "https://localhost:8080/"
        }
      },
      "source": [
        "df_new.max()"
      ],
      "execution_count": 27,
      "outputs": [
        {
          "output_type": "execute_result",
          "data": {
            "text/plain": [
              "<FIRST>            2.200000e+04\n",
              "<HIGH>             2.250000e+04\n",
              "<LOW>              2.148200e+04\n",
              "<CLOSE>            2.148300e+04\n",
              "<VALUE>            3.370985e+11\n",
              "<VOL>              8.097697e+07\n",
              "change_in_price    1.311000e+03\n",
              "MA_10              2.005040e+04\n",
              "WMA_10             1.964120e+04\n",
              "MOM_10             5.604000e+03\n",
              "SO_k                        inf\n",
              "SO_10              7.132721e+00\n",
              "MACD_12_26         2.305244e+03\n",
              "MACDsign_12_26     2.060763e+03\n",
              "MACDdiff_12_26     4.236789e+02\n",
              "Acc/Dist_ROC_10             inf\n",
              "CCI_10             2.839801e+00\n",
              "dtype: float64"
            ]
          },
          "metadata": {
            "tags": []
          },
          "execution_count": 27
        }
      ]
    },
    {
      "cell_type": "code",
      "metadata": {
        "id": "uNTpjP7Xbes4",
        "outputId": "fa21e1ee-96ca-4605-a900-6d68aa5a3923",
        "colab": {
          "base_uri": "https://localhost:8080/"
        }
      },
      "source": [
        "df_new.std()"
      ],
      "execution_count": 28,
      "outputs": [
        {
          "output_type": "execute_result",
          "data": {
            "text/plain": [
              "<FIRST>            2.370610e+03\n",
              "<HIGH>             2.423969e+03\n",
              "<LOW>              2.305411e+03\n",
              "<CLOSE>            2.366677e+03\n",
              "<VALUE>            2.214442e+10\n",
              "<VOL>              4.476661e+06\n",
              "change_in_price    1.131251e+02\n",
              "MA_10              2.297954e+03\n",
              "WMA_10             2.293439e+03\n",
              "MOM_10             4.988782e+02\n",
              "SO_k                        NaN\n",
              "SO_10              3.134283e-01\n",
              "MACD_12_26         2.073677e+02\n",
              "MACDsign_12_26     1.981625e+02\n",
              "MACDdiff_12_26     5.159681e+01\n",
              "Acc/Dist_ROC_10             NaN\n",
              "CCI_10             1.261867e+00\n",
              "dtype: float64"
            ]
          },
          "metadata": {
            "tags": []
          },
          "execution_count": 28
        }
      ]
    },
    {
      "cell_type": "markdown",
      "metadata": {
        "id": "vfZGT9zFbes9"
      },
      "source": [
        "## **Normalizing Data**"
      ]
    },
    {
      "cell_type": "code",
      "metadata": {
        "id": "8tYyjDyjbes-",
        "outputId": "ba35bc9d-4c39-4d22-f238-8ae596021ced",
        "colab": {
          "base_uri": "https://localhost:8080/",
          "height": 340
        }
      },
      "source": [
        "data = (df_new - df_new.mean()) / (df_new.max() - df_new.min())\n",
        "data.tail()"
      ],
      "execution_count": 29,
      "outputs": [
        {
          "output_type": "execute_result",
          "data": {
            "text/html": [
              "<div>\n",
              "<style scoped>\n",
              "    .dataframe tbody tr th:only-of-type {\n",
              "        vertical-align: middle;\n",
              "    }\n",
              "\n",
              "    .dataframe tbody tr th {\n",
              "        vertical-align: top;\n",
              "    }\n",
              "\n",
              "    .dataframe thead th {\n",
              "        text-align: right;\n",
              "    }\n",
              "</style>\n",
              "<table border=\"1\" class=\"dataframe\">\n",
              "  <thead>\n",
              "    <tr style=\"text-align: right;\">\n",
              "      <th></th>\n",
              "      <th>&lt;FIRST&gt;</th>\n",
              "      <th>&lt;HIGH&gt;</th>\n",
              "      <th>&lt;LOW&gt;</th>\n",
              "      <th>&lt;CLOSE&gt;</th>\n",
              "      <th>&lt;VALUE&gt;</th>\n",
              "      <th>&lt;VOL&gt;</th>\n",
              "      <th>change_in_price</th>\n",
              "      <th>MA_10</th>\n",
              "      <th>WMA_10</th>\n",
              "      <th>MOM_10</th>\n",
              "      <th>SO_k</th>\n",
              "      <th>SO_10</th>\n",
              "      <th>MACD_12_26</th>\n",
              "      <th>MACDsign_12_26</th>\n",
              "      <th>MACDdiff_12_26</th>\n",
              "      <th>Acc/Dist_ROC_10</th>\n",
              "      <th>CCI_10</th>\n",
              "    </tr>\n",
              "    <tr>\n",
              "      <th>datetime</th>\n",
              "      <th></th>\n",
              "      <th></th>\n",
              "      <th></th>\n",
              "      <th></th>\n",
              "      <th></th>\n",
              "      <th></th>\n",
              "      <th></th>\n",
              "      <th></th>\n",
              "      <th></th>\n",
              "      <th></th>\n",
              "      <th></th>\n",
              "      <th></th>\n",
              "      <th></th>\n",
              "      <th></th>\n",
              "      <th></th>\n",
              "      <th></th>\n",
              "      <th></th>\n",
              "    </tr>\n",
              "  </thead>\n",
              "  <tbody>\n",
              "    <tr>\n",
              "      <th>2020-05-26</th>\n",
              "      <td>0.729230</td>\n",
              "      <td>0.729804</td>\n",
              "      <td>0.747453</td>\n",
              "      <td>0.752089</td>\n",
              "      <td>0.099540</td>\n",
              "      <td>-0.002805</td>\n",
              "      <td>-0.276743</td>\n",
              "      <td>0.800048</td>\n",
              "      <td>0.834712</td>\n",
              "      <td>-0.207339</td>\n",
              "      <td>NaN</td>\n",
              "      <td>0.000363</td>\n",
              "      <td>0.188344</td>\n",
              "      <td>0.328266</td>\n",
              "      <td>-0.307585</td>\n",
              "      <td>NaN</td>\n",
              "      <td>0.043329</td>\n",
              "    </tr>\n",
              "    <tr>\n",
              "      <th>2020-05-27</th>\n",
              "      <td>0.691386</td>\n",
              "      <td>0.755838</td>\n",
              "      <td>0.710580</td>\n",
              "      <td>0.744270</td>\n",
              "      <td>0.317191</td>\n",
              "      <td>0.047804</td>\n",
              "      <td>-0.056967</td>\n",
              "      <td>0.791586</td>\n",
              "      <td>0.831559</td>\n",
              "      <td>-0.170889</td>\n",
              "      <td>NaN</td>\n",
              "      <td>-0.001616</td>\n",
              "      <td>0.165146</td>\n",
              "      <td>0.299423</td>\n",
              "      <td>-0.299747</td>\n",
              "      <td>NaN</td>\n",
              "      <td>0.066585</td>\n",
              "    </tr>\n",
              "    <tr>\n",
              "      <th>2020-05-30</th>\n",
              "      <td>0.767540</td>\n",
              "      <td>0.748296</td>\n",
              "      <td>0.768462</td>\n",
              "      <td>0.786936</td>\n",
              "      <td>0.357000</td>\n",
              "      <td>0.052840</td>\n",
              "      <td>0.301652</td>\n",
              "      <td>0.796111</td>\n",
              "      <td>0.837488</td>\n",
              "      <td>0.085270</td>\n",
              "      <td>NaN</td>\n",
              "      <td>0.005823</td>\n",
              "      <td>0.167742</td>\n",
              "      <td>0.276928</td>\n",
              "      <td>-0.233927</td>\n",
              "      <td>NaN</td>\n",
              "      <td>0.191632</td>\n",
              "    </tr>\n",
              "    <tr>\n",
              "      <th>2020-05-31</th>\n",
              "      <td>0.723744</td>\n",
              "      <td>0.787644</td>\n",
              "      <td>0.743737</td>\n",
              "      <td>0.799521</td>\n",
              "      <td>0.185132</td>\n",
              "      <td>0.014189</td>\n",
              "      <td>0.087971</td>\n",
              "      <td>0.804015</td>\n",
              "      <td>0.844850</td>\n",
              "      <td>0.151910</td>\n",
              "      <td>NaN</td>\n",
              "      <td>0.006793</td>\n",
              "      <td>0.174481</td>\n",
              "      <td>0.260431</td>\n",
              "      <td>-0.171710</td>\n",
              "      <td>NaN</td>\n",
              "      <td>0.197991</td>\n",
              "    </tr>\n",
              "    <tr>\n",
              "      <th>2020-06-01</th>\n",
              "      <td>0.821285</td>\n",
              "      <td>0.801592</td>\n",
              "      <td>0.801571</td>\n",
              "      <td>0.814061</td>\n",
              "      <td>0.160667</td>\n",
              "      <td>0.008221</td>\n",
              "      <td>0.101855</td>\n",
              "      <td>0.817324</td>\n",
              "      <td>0.853773</td>\n",
              "      <td>0.258534</td>\n",
              "      <td>NaN</td>\n",
              "      <td>0.002366</td>\n",
              "      <td>0.185429</td>\n",
              "      <td>0.249671</td>\n",
              "      <td>-0.112217</td>\n",
              "      <td>NaN</td>\n",
              "      <td>0.257811</td>\n",
              "    </tr>\n",
              "  </tbody>\n",
              "</table>\n",
              "</div>"
            ],
            "text/plain": [
              "             <FIRST>    <HIGH>  ...  Acc/Dist_ROC_10    CCI_10\n",
              "datetime                        ...                           \n",
              "2020-05-26  0.729230  0.729804  ...              NaN  0.043329\n",
              "2020-05-27  0.691386  0.755838  ...              NaN  0.066585\n",
              "2020-05-30  0.767540  0.748296  ...              NaN  0.191632\n",
              "2020-05-31  0.723744  0.787644  ...              NaN  0.197991\n",
              "2020-06-01  0.821285  0.801592  ...              NaN  0.257811\n",
              "\n",
              "[5 rows x 17 columns]"
            ]
          },
          "metadata": {
            "tags": []
          },
          "execution_count": 29
        }
      ]
    },
    {
      "cell_type": "code",
      "metadata": {
        "id": "YcwrDXOzbetB",
        "outputId": "fbf591fd-faa9-4d21-8065-d29b22750b1f",
        "colab": {
          "base_uri": "https://localhost:8080/",
          "height": 554
        }
      },
      "source": [
        "import seaborn as sns\n",
        "plt.figure(1 , figsize = (17 , 8))\n",
        "cor = sns.heatmap(data.corr(), annot = True)"
      ],
      "execution_count": 30,
      "outputs": [
        {
          "output_type": "display_data",
          "data": {
            "image/png": "[encoded data removed]",
            "text/plain": [
              "<Figure size 1224x576 with 2 Axes>"
            ]
          },
          "metadata": {
            "tags": [],
            "needs_background": "light"
          }
        }
      ]
    },
    {
      "cell_type": "code",
      "metadata": {
        "id": "Nw7aDwgebetG",
        "outputId": "cc7c4c32-8ece-4a5f-fae6-5d763948f50e",
        "colab": {
          "base_uri": "https://localhost:8080/"
        }
      },
      "source": [
        "#To check null values\n",
        "data.isnull().sum()"
      ],
      "execution_count": 31,
      "outputs": [
        {
          "output_type": "execute_result",
          "data": {
            "text/plain": [
              "<FIRST>               0\n",
              "<HIGH>                0\n",
              "<LOW>                 0\n",
              "<CLOSE>               0\n",
              "<VALUE>               0\n",
              "<VOL>                 0\n",
              "change_in_price       1\n",
              "MA_10                 9\n",
              "WMA_10                9\n",
              "MOM_10               10\n",
              "SO_k               4087\n",
              "SO_10                 9\n",
              "MACD_12_26           25\n",
              "MACDsign_12_26       33\n",
              "MACDdiff_12_26       33\n",
              "Acc/Dist_ROC_10    4087\n",
              "CCI_10                9\n",
              "dtype: int64"
            ]
          },
          "metadata": {
            "tags": []
          },
          "execution_count": 31
        }
      ]
    },
    {
      "cell_type": "code",
      "metadata": {
        "id": "QN8FItuAbetJ"
      },
      "source": [
        "#Removing the null values\n",
        "data = data.fillna(data.mean())"
      ],
      "execution_count": 32,
      "outputs": []
    },
    {
      "cell_type": "code",
      "metadata": {
        "id": "shbMSgnWbetN"
      },
      "source": [
        "data = data.dropna(how=\"all\",axis=1)"
      ],
      "execution_count": 33,
      "outputs": []
    },
    {
      "cell_type": "code",
      "metadata": {
        "id": "hKHZhcd8betR",
        "outputId": "95465a88-d708-4b69-d5fc-2d23a62e66cc",
        "colab": {
          "base_uri": "https://localhost:8080/",
          "height": 235
        }
      },
      "source": [
        "##Defining the features and labels\n",
        "X = data.iloc[:,7:]\n",
        "X.tail()"
      ],
      "execution_count": 34,
      "outputs": [
        {
          "output_type": "execute_result",
          "data": {
            "text/html": [
              "<div>\n",
              "<style scoped>\n",
              "    .dataframe tbody tr th:only-of-type {\n",
              "        vertical-align: middle;\n",
              "    }\n",
              "\n",
              "    .dataframe tbody tr th {\n",
              "        vertical-align: top;\n",
              "    }\n",
              "\n",
              "    .dataframe thead th {\n",
              "        text-align: right;\n",
              "    }\n",
              "</style>\n",
              "<table border=\"1\" class=\"dataframe\">\n",
              "  <thead>\n",
              "    <tr style=\"text-align: right;\">\n",
              "      <th></th>\n",
              "      <th>MA_10</th>\n",
              "      <th>WMA_10</th>\n",
              "      <th>MOM_10</th>\n",
              "      <th>SO_10</th>\n",
              "      <th>MACD_12_26</th>\n",
              "      <th>MACDsign_12_26</th>\n",
              "      <th>MACDdiff_12_26</th>\n",
              "      <th>CCI_10</th>\n",
              "    </tr>\n",
              "    <tr>\n",
              "      <th>datetime</th>\n",
              "      <th></th>\n",
              "      <th></th>\n",
              "      <th></th>\n",
              "      <th></th>\n",
              "      <th></th>\n",
              "      <th></th>\n",
              "      <th></th>\n",
              "      <th></th>\n",
              "    </tr>\n",
              "  </thead>\n",
              "  <tbody>\n",
              "    <tr>\n",
              "      <th>2020-05-26</th>\n",
              "      <td>0.800048</td>\n",
              "      <td>0.834712</td>\n",
              "      <td>-0.207339</td>\n",
              "      <td>0.000363</td>\n",
              "      <td>0.188344</td>\n",
              "      <td>0.328266</td>\n",
              "      <td>-0.307585</td>\n",
              "      <td>0.043329</td>\n",
              "    </tr>\n",
              "    <tr>\n",
              "      <th>2020-05-27</th>\n",
              "      <td>0.791586</td>\n",
              "      <td>0.831559</td>\n",
              "      <td>-0.170889</td>\n",
              "      <td>-0.001616</td>\n",
              "      <td>0.165146</td>\n",
              "      <td>0.299423</td>\n",
              "      <td>-0.299747</td>\n",
              "      <td>0.066585</td>\n",
              "    </tr>\n",
              "    <tr>\n",
              "      <th>2020-05-30</th>\n",
              "      <td>0.796111</td>\n",
              "      <td>0.837488</td>\n",
              "      <td>0.085270</td>\n",
              "      <td>0.005823</td>\n",
              "      <td>0.167742</td>\n",
              "      <td>0.276928</td>\n",
              "      <td>-0.233927</td>\n",
              "      <td>0.191632</td>\n",
              "    </tr>\n",
              "    <tr>\n",
              "      <th>2020-05-31</th>\n",
              "      <td>0.804015</td>\n",
              "      <td>0.844850</td>\n",
              "      <td>0.151910</td>\n",
              "      <td>0.006793</td>\n",
              "      <td>0.174481</td>\n",
              "      <td>0.260431</td>\n",
              "      <td>-0.171710</td>\n",
              "      <td>0.197991</td>\n",
              "    </tr>\n",
              "    <tr>\n",
              "      <th>2020-06-01</th>\n",
              "      <td>0.817324</td>\n",
              "      <td>0.853773</td>\n",
              "      <td>0.258534</td>\n",
              "      <td>0.002366</td>\n",
              "      <td>0.185429</td>\n",
              "      <td>0.249671</td>\n",
              "      <td>-0.112217</td>\n",
              "      <td>0.257811</td>\n",
              "    </tr>\n",
              "  </tbody>\n",
              "</table>\n",
              "</div>"
            ],
            "text/plain": [
              "               MA_10    WMA_10  ...  MACDdiff_12_26    CCI_10\n",
              "datetime                        ...                          \n",
              "2020-05-26  0.800048  0.834712  ...       -0.307585  0.043329\n",
              "2020-05-27  0.791586  0.831559  ...       -0.299747  0.066585\n",
              "2020-05-30  0.796111  0.837488  ...       -0.233927  0.191632\n",
              "2020-05-31  0.804015  0.844850  ...       -0.171710  0.197991\n",
              "2020-06-01  0.817324  0.853773  ...       -0.112217  0.257811\n",
              "\n",
              "[5 rows x 8 columns]"
            ]
          },
          "metadata": {
            "tags": []
          },
          "execution_count": 34
        }
      ]
    },
    {
      "cell_type": "code",
      "metadata": {
        "id": "-RGklbtnbetV",
        "outputId": "f8fa46f0-9b7a-493e-857f-ce8fbdc3ac32",
        "colab": {
          "base_uri": "https://localhost:8080/"
        }
      },
      "source": [
        "Y = data.iloc[:,3]\n",
        "Y.tail()"
      ],
      "execution_count": 35,
      "outputs": [
        {
          "output_type": "execute_result",
          "data": {
            "text/plain": [
              "datetime\n",
              "2020-05-26    0.752089\n",
              "2020-05-27    0.744270\n",
              "2020-05-30    0.786936\n",
              "2020-05-31    0.799521\n",
              "2020-06-01    0.814061\n",
              "Name: <CLOSE>, dtype: float64"
            ]
          },
          "metadata": {
            "tags": []
          },
          "execution_count": 35
        }
      ]
    },
    {
      "cell_type": "code",
      "metadata": {
        "id": "1Tn80CwmbetX",
        "outputId": "6d90ee64-c437-46e5-a93f-63587d698334",
        "colab": {
          "base_uri": "https://localhost:8080/"
        }
      },
      "source": [
        "X.isnull().sum()"
      ],
      "execution_count": 36,
      "outputs": [
        {
          "output_type": "execute_result",
          "data": {
            "text/plain": [
              "MA_10             0\n",
              "WMA_10            0\n",
              "MOM_10            0\n",
              "SO_10             0\n",
              "MACD_12_26        0\n",
              "MACDsign_12_26    0\n",
              "MACDdiff_12_26    0\n",
              "CCI_10            0\n",
              "dtype: int64"
            ]
          },
          "metadata": {
            "tags": []
          },
          "execution_count": 36
        }
      ]
    },
    {
      "cell_type": "markdown",
      "metadata": {
        "id": "IRkULxA7sCFy"
      },
      "source": [
        "## Visualising the technical indicators i.e. our features"
      ]
    },
    {
      "cell_type": "code",
      "metadata": {
        "id": "0UP3raQjr7Ty",
        "outputId": "d8ad1222-72a9-40b7-9310-809f7fb949e2",
        "colab": {
          "base_uri": "https://localhost:8080/",
          "height": 884
        }
      },
      "source": [
        "X.hist(bins=50,figsize=(20,15))"
      ],
      "execution_count": 37,
      "outputs": [
        {
          "output_type": "execute_result",
          "data": {
            "text/plain": [
              "array([[<matplotlib.axes._subplots.AxesSubplot object at 0x7f977ca8c438>,\n",
              "        <matplotlib.axes._subplots.AxesSubplot object at 0x7f977caaf6d8>,\n",
              "        <matplotlib.axes._subplots.AxesSubplot object at 0x7f977ca64940>],\n",
              "       [<matplotlib.axes._subplots.AxesSubplot object at 0x7f977ca19ba8>,\n",
              "        <matplotlib.axes._subplots.AxesSubplot object at 0x7f977c9cee10>,\n",
              "        <matplotlib.axes._subplots.AxesSubplot object at 0x7f977c98f0b8>],\n",
              "       [<matplotlib.axes._subplots.AxesSubplot object at 0x7f977c9c2320>,\n",
              "        <matplotlib.axes._subplots.AxesSubplot object at 0x7f977c977550>,\n",
              "        <matplotlib.axes._subplots.AxesSubplot object at 0x7f977c9775c0>]],\n",
              "      dtype=object)"
            ]
          },
          "metadata": {
            "tags": []
          },
          "execution_count": 37
        },
        {
          "output_type": "display_data",
          "data": {
            "image/png": "[encoded data removed]",
            "text/plain": [
              "<Figure size 1440x1080 with 9 Axes>"
            ]
          },
          "metadata": {
            "tags": [],
            "needs_background": "light"
          }
        }
      ]
    },
    {
      "cell_type": "code",
      "metadata": {
        "id": "QjK-zRQgbeta"
      },
      "source": [
        "#Splitting data into training and test set\n",
        "from sklearn.model_selection import train_test_split\n",
        "x_train,x_test,y_train,y_test = train_test_split(X,Y,test_size = 0.1,random_state = 0)"
      ],
      "execution_count": 38,
      "outputs": []
    },
    {
      "cell_type": "markdown",
      "metadata": {
        "id": "bdSjkPr_betc"
      },
      "source": [
        "# Predicting using Decision Trees"
      ]
    },
    {
      "cell_type": "code",
      "metadata": {
        "id": "7RX-ujiabetd",
        "outputId": "65b5544b-7746-49bc-d539-1a1ad1987a57",
        "colab": {
          "base_uri": "https://localhost:8080/"
        }
      },
      "source": [
        "#Decision Tree\n",
        "from sklearn.tree import DecisionTreeRegressor\n",
        "Regressor = DecisionTreeRegressor(max_depth=10)\n",
        "Regressor.fit(x_train,y_train)"
      ],
      "execution_count": 39,
      "outputs": [
        {
          "output_type": "execute_result",
          "data": {
            "text/plain": [
              "DecisionTreeRegressor(ccp_alpha=0.0, criterion='mse', max_depth=10,\n",
              "                      max_features=None, max_leaf_nodes=None,\n",
              "                      min_impurity_decrease=0.0, min_impurity_split=None,\n",
              "                      min_samples_leaf=1, min_samples_split=2,\n",
              "                      min_weight_fraction_leaf=0.0, presort='deprecated',\n",
              "                      random_state=None, splitter='best')"
            ]
          },
          "metadata": {
            "tags": []
          },
          "execution_count": 39
        }
      ]
    },
    {
      "cell_type": "markdown",
      "metadata": {
        "id": "tmAA0_rPbetl"
      },
      "source": [
        "## Evaluating the Model"
      ]
    },
    {
      "cell_type": "code",
      "metadata": {
        "id": "pCwX7Hwpbetm",
        "outputId": "d22091d2-5a83-41cd-e3f0-fd910075e1f8",
        "colab": {
          "base_uri": "https://localhost:8080/"
        }
      },
      "source": [
        "y_pred = Regressor.predict(x_test)\n",
        "from sklearn.metrics import r2_score,mean_squared_error\n",
        "mse = mean_squared_error(y_test,y_pred)\n",
        "rmse = np.sqrt(mse)\n",
        "rmse"
      ],
      "execution_count": 40,
      "outputs": [
        {
          "output_type": "execute_result",
          "data": {
            "text/plain": [
              "0.007547827051790224"
            ]
          },
          "metadata": {
            "tags": []
          },
          "execution_count": 40
        }
      ]
    },
    {
      "cell_type": "markdown",
      "metadata": {
        "id": "CiWT_doibeto"
      },
      "source": [
        "# Using Bagging Regressor"
      ]
    },
    {
      "cell_type": "code",
      "metadata": {
        "id": "6KWr75vGbetp"
      },
      "source": [
        "#import necessary libraries\n",
        "from sklearn.ensemble import BaggingRegressor"
      ],
      "execution_count": 41,
      "outputs": []
    },
    {
      "cell_type": "code",
      "metadata": {
        "id": "6m5OsIUsbetr",
        "outputId": "937c4590-24c4-4c7a-86dd-84c7a157479c",
        "colab": {
          "base_uri": "https://localhost:8080/"
        }
      },
      "source": [
        "regr = BaggingRegressor(base_estimator=Regressor,\n",
        "n_estimators=50, random_state=0)\n",
        "regr.fit(x_train,y_train)\n",
        "    "
      ],
      "execution_count": 42,
      "outputs": [
        {
          "output_type": "execute_result",
          "data": {
            "text/plain": [
              "BaggingRegressor(base_estimator=DecisionTreeRegressor(ccp_alpha=0.0,\n",
              "                                                      criterion='mse',\n",
              "                                                      max_depth=10,\n",
              "                                                      max_features=None,\n",
              "                                                      max_leaf_nodes=None,\n",
              "                                                      min_impurity_decrease=0.0,\n",
              "                                                      min_impurity_split=None,\n",
              "                                                      min_samples_leaf=1,\n",
              "                                                      min_samples_split=2,\n",
              "                                                      min_weight_fraction_leaf=0.0,\n",
              "                                                      presort='deprecated',\n",
              "                                                      random_state=None,\n",
              "                                                      splitter='best'),\n",
              "                 bootstrap=True, bootstrap_features=False, max_features=1.0,\n",
              "                 max_samples=1.0, n_estimators=50, n_jobs=None, oob_score=False,\n",
              "                 random_state=0, verbose=0, warm_start=False)"
            ]
          },
          "metadata": {
            "tags": []
          },
          "execution_count": 42
        }
      ]
    },
    {
      "cell_type": "markdown",
      "metadata": {
        "id": "KvdNXLTXbetw"
      },
      "source": [
        "## Evaluating Bagging Regressor"
      ]
    },
    {
      "cell_type": "code",
      "metadata": {
        "id": "Af_3vxHkbetx"
      },
      "source": [
        "y_pred_br = regr.predict(x_test)"
      ],
      "execution_count": 43,
      "outputs": []
    },
    {
      "cell_type": "code",
      "metadata": {
        "id": "PXoR2Bxpbetz",
        "outputId": "569f619c-d064-4327-ec3d-feba5789740c",
        "colab": {
          "base_uri": "https://localhost:8080/"
        }
      },
      "source": [
        "from sklearn.metrics import r2_score,mean_squared_error\n",
        "mse = mean_squared_error(y_test,y_pred_br)\n",
        "rmse = np.sqrt(mse)\n",
        "rmse"
      ],
      "execution_count": 44,
      "outputs": [
        {
          "output_type": "execute_result",
          "data": {
            "text/plain": [
              "0.004714742436707624"
            ]
          },
          "metadata": {
            "tags": []
          },
          "execution_count": 44
        }
      ]
    },
    {
      "cell_type": "markdown",
      "metadata": {
        "id": "phoe90D7bet1"
      },
      "source": [
        "# Using Random Forest"
      ]
    },
    {
      "cell_type": "code",
      "metadata": {
        "id": "cM6Op45nbet2",
        "outputId": "5530f937-29ff-4515-f73d-ce53718d4b6e",
        "colab": {
          "base_uri": "https://localhost:8080/"
        }
      },
      "source": [
        "#importing the libraries\n",
        "from sklearn.ensemble import RandomForestRegressor\n",
        "rf = RandomForestRegressor(n_estimators=50,max_depth=10,random_state=1)\n",
        "rf.fit(x_train,y_train)"
      ],
      "execution_count": 45,
      "outputs": [
        {
          "output_type": "execute_result",
          "data": {
            "text/plain": [
              "RandomForestRegressor(bootstrap=True, ccp_alpha=0.0, criterion='mse',\n",
              "                      max_depth=10, max_features='auto', max_leaf_nodes=None,\n",
              "                      max_samples=None, min_impurity_decrease=0.0,\n",
              "                      min_impurity_split=None, min_samples_leaf=1,\n",
              "                      min_samples_split=2, min_weight_fraction_leaf=0.0,\n",
              "                      n_estimators=50, n_jobs=None, oob_score=False,\n",
              "                      random_state=1, verbose=0, warm_start=False)"
            ]
          },
          "metadata": {
            "tags": []
          },
          "execution_count": 45
        }
      ]
    },
    {
      "cell_type": "markdown",
      "metadata": {
        "id": "j4GVbyhAbet9"
      },
      "source": [
        "## Evaluating Random Forest"
      ]
    },
    {
      "cell_type": "code",
      "metadata": {
        "id": "Rp1ihgYjbet-"
      },
      "source": [
        "y_pred_rf = rf.predict(x_test)\n"
      ],
      "execution_count": 46,
      "outputs": []
    },
    {
      "cell_type": "code",
      "metadata": {
        "id": "J6mI-BUbbeuA",
        "outputId": "8deed8f2-b63c-4cce-9f70-896751181ede",
        "colab": {
          "base_uri": "https://localhost:8080/"
        }
      },
      "source": [
        "from sklearn.metrics import r2_score,mean_squared_error\n",
        "mse = mean_squared_error(y_test,y_pred_rf)\n",
        "rmse = np.sqrt(mse)\n",
        "rmse"
      ],
      "execution_count": 47,
      "outputs": [
        {
          "output_type": "execute_result",
          "data": {
            "text/plain": [
              "0.005202035540666753"
            ]
          },
          "metadata": {
            "tags": []
          },
          "execution_count": 47
        }
      ]
    },
    {
      "cell_type": "markdown",
      "metadata": {
        "id": "6e1uCe8lbeuD"
      },
      "source": [
        " ## Using AdaBoost Regressor"
      ]
    },
    {
      "cell_type": "code",
      "metadata": {
        "id": "uX6q6_kGbeuD",
        "outputId": "5218978a-1f88-4290-d0a1-bc4a3bb36306",
        "colab": {
          "base_uri": "https://localhost:8080/"
        }
      },
      "source": [
        "#importing necessary libraries\n",
        "from sklearn.ensemble import AdaBoostRegressor\n",
        "adb_reg = AdaBoostRegressor(base_estimator=Regressor,n_estimators=100,learning_rate=0.1)\n",
        "adb_reg.fit(x_train,y_train)\n",
        "\n"
      ],
      "execution_count": 48,
      "outputs": [
        {
          "output_type": "execute_result",
          "data": {
            "text/plain": [
              "AdaBoostRegressor(base_estimator=DecisionTreeRegressor(ccp_alpha=0.0,\n",
              "                                                       criterion='mse',\n",
              "                                                       max_depth=10,\n",
              "                                                       max_features=None,\n",
              "                                                       max_leaf_nodes=None,\n",
              "                                                       min_impurity_decrease=0.0,\n",
              "                                                       min_impurity_split=None,\n",
              "                                                       min_samples_leaf=1,\n",
              "                                                       min_samples_split=2,\n",
              "                                                       min_weight_fraction_leaf=0.0,\n",
              "                                                       presort='deprecated',\n",
              "                                                       random_state=None,\n",
              "                                                       splitter='best'),\n",
              "                  learning_rate=0.1, loss='linear', n_estimators=100,\n",
              "                  random_state=None)"
            ]
          },
          "metadata": {
            "tags": []
          },
          "execution_count": 48
        }
      ]
    },
    {
      "cell_type": "markdown",
      "metadata": {
        "id": "pTiNntHcbeuH"
      },
      "source": [
        "## Evaluating AdaBoost Regressor"
      ]
    },
    {
      "cell_type": "code",
      "metadata": {
        "id": "pGnz1YOibeuI",
        "outputId": "fd34b6a7-15bd-464b-c5cc-59a17d27b521",
        "colab": {
          "base_uri": "https://localhost:8080/"
        }
      },
      "source": [
        "y_pred_adb = adb_reg.predict(x_test)\n",
        "from sklearn.metrics import r2_score,mean_squared_error\n",
        "mse = mean_squared_error(y_test,y_pred_adb)\n",
        "rmse = np.sqrt(mse)\n",
        "rmse"
      ],
      "execution_count": 49,
      "outputs": [
        {
          "output_type": "execute_result",
          "data": {
            "text/plain": [
              "0.004527677395857055"
            ]
          },
          "metadata": {
            "tags": []
          },
          "execution_count": 49
        }
      ]
    },
    {
      "cell_type": "markdown",
      "metadata": {
        "id": "8Q-98ibGbeuJ"
      },
      "source": [
        "## Using Gradient Boosting"
      ]
    },
    {
      "cell_type": "code",
      "metadata": {
        "id": "4StZOXBBbeuK",
        "outputId": "c49cd456-4330-4daa-8cbc-fa7eede37051",
        "colab": {
          "base_uri": "https://localhost:8080/"
        }
      },
      "source": [
        "#importing necessary libraries\n",
        "from sklearn.ensemble import GradientBoostingRegressor\n",
        "gdbt = GradientBoostingRegressor(max_depth=10,learning_rate=0.1,n_estimators=50,random_state=1)\n",
        "gdbt.fit(x_train,y_train)"
      ],
      "execution_count": 50,
      "outputs": [
        {
          "output_type": "execute_result",
          "data": {
            "text/plain": [
              "GradientBoostingRegressor(alpha=0.9, ccp_alpha=0.0, criterion='friedman_mse',\n",
              "                          init=None, learning_rate=0.1, loss='ls', max_depth=10,\n",
              "                          max_features=None, max_leaf_nodes=None,\n",
              "                          min_impurity_decrease=0.0, min_impurity_split=None,\n",
              "                          min_samples_leaf=1, min_samples_split=2,\n",
              "                          min_weight_fraction_leaf=0.0, n_estimators=50,\n",
              "                          n_iter_no_change=None, presort='deprecated',\n",
              "                          random_state=1, subsample=1.0, tol=0.0001,\n",
              "                          validation_fraction=0.1, verbose=0, warm_start=False)"
            ]
          },
          "metadata": {
            "tags": []
          },
          "execution_count": 50
        }
      ]
    },
    {
      "cell_type": "markdown",
      "metadata": {
        "id": "fhjqy5udbeuP"
      },
      "source": [
        "## Evaluating gradient boosting"
      ]
    },
    {
      "cell_type": "code",
      "metadata": {
        "id": "CpcZr0-EbeuQ",
        "outputId": "6f099fd7-a14b-4295-b55e-d8e8b69105f0",
        "colab": {
          "base_uri": "https://localhost:8080/"
        }
      },
      "source": [
        "y_pred_gdbt = gdbt.predict(x_test)\n",
        "from sklearn.metrics import r2_score,mean_squared_error\n",
        "mse = mean_squared_error(y_test,y_pred_gdbt)\n",
        "rmse = np.sqrt(mse)\n",
        "rmse"
      ],
      "execution_count": 51,
      "outputs": [
        {
          "output_type": "execute_result",
          "data": {
            "text/plain": [
              "0.005066272088080557"
            ]
          },
          "metadata": {
            "tags": []
          },
          "execution_count": 51
        }
      ]
    },
    {
      "cell_type": "markdown",
      "metadata": {
        "id": "Pnedc35lbeuS"
      },
      "source": [
        "## Using XGBoost"
      ]
    },
    {
      "cell_type": "code",
      "metadata": {
        "id": "clUQp-jMbeuT"
      },
      "source": [
        "import xgboost as xgb\n",
        "from xgboost import XGBRegressor\n",
        "from sklearn.metrics import mean_squared_error"
      ],
      "execution_count": 52,
      "outputs": []
    },
    {
      "cell_type": "markdown",
      "metadata": {
        "id": "GdaVicrEb78c"
      },
      "source": [
        "##Using Deep Learning Models"
      ]
    },
    {
      "cell_type": "code",
      "metadata": {
        "id": "zNH4J9l5cAY6",
        "outputId": "c8e368b4-aadf-4848-bb62-802bea1c99e4",
        "colab": {
          "base_uri": "https://localhost:8080/"
        }
      },
      "source": [
        "from google.colab import drive\n",
        "drive.mount('/content/drive')"
      ],
      "execution_count": 53,
      "outputs": [
        {
          "output_type": "stream",
          "text": [
            "Drive already mounted at /content/drive; to attempt to forcibly remount, call drive.mount(\"/content/drive\", force_remount=True).\n"
          ],
          "name": "stdout"
        }
      ]
    },
    {
      "cell_type": "markdown",
      "metadata": {
        "id": "iHWdf4aa2XDq"
      },
      "source": [
        "### Training and testing set"
      ]
    },
    {
      "cell_type": "code",
      "metadata": {
        "id": "z3Eyzb3Rlmir",
        "outputId": "aa8e0c65-6465-402d-add2-becde3d7215b",
        "colab": {
          "base_uri": "https://localhost:8080/"
        }
      },
      "source": [
        "from sklearn.model_selection import train_test_split\n",
        "x_train,x_test,y_train,y_test = train_test_split(X,Y,test_size = 0.1,random_state = 0)\n",
        "print(x_train.shape, x_test.shape, y_train.shape, y_test.shape)"
      ],
      "execution_count": 54,
      "outputs": [
        {
          "output_type": "stream",
          "text": [
            "(3678, 8) (409, 8) (3678,) (409,)\n"
          ],
          "name": "stdout"
        }
      ]
    },
    {
      "cell_type": "code",
      "metadata": {
        "id": "F3gqK-K0jGk9"
      },
      "source": [
        "from sklearn.preprocessing import MinMaxScaler\n",
        "sc = MinMaxScaler(feature_range = (0, 1))\n",
        "X_train_scaled = sc.fit_transform(x_train)"
      ],
      "execution_count": 55,
      "outputs": []
    },
    {
      "cell_type": "code",
      "metadata": {
        "id": "YKfTIM7Fjq6Y"
      },
      "source": [
        "X_train, Y_train = np.array(x_train), np.array(y_train)\n",
        "X_train = np.reshape(X_train, (X_train.shape[0], X_train.shape[1], 1))"
      ],
      "execution_count": 56,
      "outputs": []
    },
    {
      "cell_type": "markdown",
      "metadata": {
        "id": "XbP1VNrmBEdH"
      },
      "source": [
        "## Using ANN"
      ]
    },
    {
      "cell_type": "markdown",
      "metadata": {
        "id": "BvTCIFZ6BJgy"
      },
      "source": [
        "### Importing Libraries"
      ]
    },
    {
      "cell_type": "code",
      "metadata": {
        "id": "Y5R1YEo_BMOc"
      },
      "source": [
        "import tensorflow as tf \n",
        "import pandas as pd \n",
        "import numpy as np \n",
        "import matplotlib.pyplot as plt \n",
        "import keras \n",
        "from keras.models import Sequential \n",
        "from keras.layers import Dense \n",
        "from sklearn.metrics import confusion_matrix "
      ],
      "execution_count": 57,
      "outputs": []
    },
    {
      "cell_type": "markdown",
      "metadata": {
        "id": "2Z2AxsQ1BfHR"
      },
      "source": [
        "### Building the ANN Model\n"
      ]
    },
    {
      "cell_type": "code",
      "metadata": {
        "id": "LAmG88bQBjbd"
      },
      "source": [
        "classifier = Sequential() \n",
        "classifier.add(Dense(units=50,activation = \"relu\",input_shape = (X_train.shape[1], 1))) \n",
        "classifier.add(Dense(units=50,activation = \"relu\")) \n",
        "classifier.add(Dense(activation = \"sigmoid\", units = 1)) \n",
        "classifier.compile(optimizer = 'adam' , loss = 'mean_squared_error' ) "
      ],
      "execution_count": 58,
      "outputs": []
    },
    {
      "cell_type": "code",
      "metadata": {
        "id": "MM6hH_Q3BGvK",
        "outputId": "abfe3a54-d88d-46a7-d1b6-e3ac15a94f3c",
        "colab": {
          "base_uri": "https://localhost:8080/"
        }
      },
      "source": [
        "classifier.fit(X_train, Y_train, epochs = 15, batch_size = 32)"
      ],
      "execution_count": 59,
      "outputs": [
        {
          "output_type": "stream",
          "text": [
            "Epoch 1/15\n",
            "115/115 [==============================] - 0s 2ms/step - loss: 0.1021\n",
            "Epoch 2/15\n",
            "115/115 [==============================] - 0s 1ms/step - loss: 0.0127\n",
            "Epoch 3/15\n",
            "115/115 [==============================] - 0s 1ms/step - loss: 0.0105\n",
            "Epoch 4/15\n",
            "115/115 [==============================] - 0s 1ms/step - loss: 0.0098\n",
            "Epoch 5/15\n",
            "115/115 [==============================] - 0s 1ms/step - loss: 0.0097\n",
            "Epoch 6/15\n",
            "115/115 [==============================] - 0s 1ms/step - loss: 0.0096\n",
            "Epoch 7/15\n",
            "115/115 [==============================] - 0s 1ms/step - loss: 0.0096\n",
            "Epoch 8/15\n",
            "115/115 [==============================] - 0s 1ms/step - loss: 0.0095\n",
            "Epoch 9/15\n",
            "115/115 [==============================] - 0s 1ms/step - loss: 0.0095\n",
            "Epoch 10/15\n",
            "115/115 [==============================] - 0s 1ms/step - loss: 0.0095\n",
            "Epoch 11/15\n",
            "115/115 [==============================] - 0s 1ms/step - loss: 0.0095\n",
            "Epoch 12/15\n",
            "115/115 [==============================] - 0s 1ms/step - loss: 0.0095\n",
            "Epoch 13/15\n",
            "115/115 [==============================] - 0s 1ms/step - loss: 0.0094\n",
            "Epoch 14/15\n",
            "115/115 [==============================] - 0s 1ms/step - loss: 0.0094\n",
            "Epoch 15/15\n",
            "115/115 [==============================] - 0s 1ms/step - loss: 0.0094\n"
          ],
          "name": "stdout"
        },
        {
          "output_type": "execute_result",
          "data": {
            "text/plain": [
              "<tensorflow.python.keras.callbacks.History at 0x7f9738191e10>"
            ]
          },
          "metadata": {
            "tags": []
          },
          "execution_count": 59
        }
      ]
    },
    {
      "cell_type": "code",
      "metadata": {
        "id": "6PwBrITMG5wB"
      },
      "source": [
        "X_test = np.array(x_test)\n",
        "X_test = np.reshape(X_test, (X_test.shape[0],X_test.shape[1], 1))\n",
        "predicted_stock_price = classifier.predict(X_test)"
      ],
      "execution_count": 60,
      "outputs": []
    },
    {
      "cell_type": "code",
      "metadata": {
        "id": "6pshVd1NG_LW"
      },
      "source": [
        "real_stock_price = np.asarray(y_test)\n",
        "# real_stock_price=real_stock_price.reshape(1167,1)"
      ],
      "execution_count": 61,
      "outputs": []
    },
    {
      "cell_type": "code",
      "metadata": {
        "id": "McQ0BuP-HD-w",
        "outputId": "8f721048-29fb-4b72-a9dc-e1fe3727417c",
        "colab": {
          "base_uri": "https://localhost:8080/"
        }
      },
      "source": [
        "predicted_stock_price"
      ],
      "execution_count": 62,
      "outputs": [
        {
          "output_type": "execute_result",
          "data": {
            "text/plain": [
              "array([[[2.2967160e-03],\n",
              "        [2.2969544e-03],\n",
              "        [2.1291375e-03],\n",
              "        ...,\n",
              "        [2.1333694e-03],\n",
              "        [2.1397471e-03],\n",
              "        [1.1660912e-05]],\n",
              "\n",
              "       [[1.7901361e-03],\n",
              "        [1.8066466e-03],\n",
              "        [2.2571683e-03],\n",
              "        ...,\n",
              "        [1.6842484e-03],\n",
              "        [3.2550991e-03],\n",
              "        [8.0215931e-03]],\n",
              "\n",
              "       [[1.0564923e-03],\n",
              "        [1.0561049e-03],\n",
              "        [9.8963082e-03],\n",
              "        ...,\n",
              "        [6.9733560e-03],\n",
              "        [8.7471604e-03],\n",
              "        [1.5092519e-01]],\n",
              "\n",
              "       ...,\n",
              "\n",
              "       [[6.9171190e-04],\n",
              "        [6.6947937e-04],\n",
              "        [2.1388233e-03],\n",
              "        ...,\n",
              "        [1.8826127e-03],\n",
              "        [2.4199188e-03],\n",
              "        [1.1844822e-04]],\n",
              "\n",
              "       [[5.7253242e-04],\n",
              "        [5.5751204e-04],\n",
              "        [3.3236742e-03],\n",
              "        ...,\n",
              "        [2.7795434e-03],\n",
              "        [3.4533143e-03],\n",
              "        [2.6965392e-01]],\n",
              "\n",
              "       [[4.4687688e-03],\n",
              "        [4.4836700e-03],\n",
              "        [2.2571683e-03],\n",
              "        ...,\n",
              "        [1.8446743e-03],\n",
              "        [2.9046834e-03],\n",
              "        [9.5420750e-05]]], dtype=float32)"
            ]
          },
          "metadata": {
            "tags": []
          },
          "execution_count": 62
        }
      ]
    },
    {
      "cell_type": "code",
      "metadata": {
        "id": "uJSsKEm9HF1A",
        "outputId": "49e126e9-06c0-449a-f67c-d5ab1630289b",
        "colab": {
          "base_uri": "https://localhost:8080/"
        }
      },
      "source": [
        "real_stock_price"
      ],
      "execution_count": 63,
      "outputs": [
        {
          "output_type": "execute_result",
          "data": {
            "text/plain": [
              "array([-9.07846464e-03, -1.78499763e-02, -3.08642300e-02, -5.53672571e-02,\n",
              "       -4.46888951e-02, -8.30165873e-02, -7.87738453e-02,  3.76391336e-01,\n",
              "       -6.90965797e-02,  3.55441899e-03, -8.53524790e-02, -7.95365854e-02,\n",
              "       -6.49491802e-02,  2.84624162e-01, -8.20631622e-02, -7.03837037e-02,\n",
              "        3.58323928e-01,  1.59989737e-03, -6.58549341e-02, -3.00538186e-02,\n",
              "        5.90339946e-01,  1.14678480e-02,  3.07697051e-01, -3.88253303e-02,\n",
              "       -4.07298245e-03, -7.35994316e-04,  6.85303450e-02, -3.41535469e-02,\n",
              "       -5.77031488e-02,  5.93798194e-03, -6.75710994e-02, -6.76187707e-02,\n",
              "       -2.81946395e-02, -7.72960363e-02, -9.41216345e-03, -2.56203915e-02,\n",
              "       -4.42598538e-02, -5.15535564e-02,  3.32009393e-01, -2.63354604e-02,\n",
              "       -3.83486177e-02,  6.21183251e-01,  2.64842946e-02, -4.04938243e-02,\n",
              "       -2.46669663e-02, -4.14949208e-02, -3.64394112e-03, -6.09924657e-02,\n",
              "       -2.91957359e-02,  3.93578907e-03, -2.69051594e-03, -8.26352173e-02,\n",
              "        4.02419843e-01, -6.31353162e-03,  8.32154489e-03, -2.59517342e-03,\n",
              "        2.56641133e-01, -7.51508296e-02, -6.87152096e-02,  2.31852078e-01,\n",
              "       -8.18724771e-02,  7.58240476e-02, -6.86198671e-02, -8.84010835e-03,\n",
              "       -6.88323057e-04, -4.08751944e-02,  4.12647410e-03,  7.52088528e-01,\n",
              "       -7.66286386e-02, -5.97983281e-03,  4.58338230e-01, -5.30313654e-02,\n",
              "       -6.57595916e-02, -3.87776590e-02, -7.83901191e-03, -7.54845284e-02,\n",
              "       -7.40997058e-03, -4.16379345e-02, -6.96209636e-02,  1.21352456e-02,\n",
              "       -5.77031488e-02, -7.49601446e-02, -3.83962889e-02, -4.01124542e-02,\n",
              "       -4.11135507e-02,  8.13085986e-03, -2.94817635e-02, -9.31682094e-03,\n",
              "       -2.27601160e-02, -2.45239526e-02, -2.55250490e-02, -1.47036732e-02,\n",
              "       -8.43513826e-02, -5.38417768e-02,  1.10864779e-02,  5.46580086e-02,\n",
              "        2.31473064e-02, -7.64379536e-02,  7.62054177e-02, -3.10549150e-02,\n",
              "       -1.12713426e-02, -7.62949398e-02, -5.96099992e-02,  8.79825748e-03,\n",
              "       -2.52390214e-02, -6.86198671e-02,  5.41336248e-02, -2.13299782e-02,\n",
              "       -6.07541094e-02,  3.56703106e-01, -3.31047792e-02, -1.30804942e-03,\n",
              "        2.46251155e-02,  5.30371858e-02, -6.76664419e-02, -4.07298245e-03,\n",
              "        2.36716903e-02,  7.03895241e-02, -7.95365854e-02, -6.18505484e-02,\n",
              "       -1.13666851e-02, -8.08237094e-02, -7.88668317e-03, -5.33173930e-02,\n",
              "        1.98579896e-02,  1.33746983e-02, -2.06625806e-02,  4.17414536e-03,\n",
              "       -6.92395935e-02, -6.69513731e-02,  2.73900485e-02, -3.01014899e-02,\n",
              "       -3.82056039e-02, -7.60089123e-02,  1.23259306e-02,  3.24432019e-02,\n",
              "        5.89031068e-03, -5.36010644e-03, -8.57815204e-02, -2.21403896e-02,\n",
              "       -8.31119299e-02, -3.29140941e-02,  9.75168266e-03, -9.41216345e-03,\n",
              "        3.53318446e-01, -6.93826073e-02,  2.60099381e-03, -6.43771251e-02,\n",
              "        9.45111812e-02,  3.56369407e-01,  3.35298710e-01, -4.26867022e-02,\n",
              "       -3.50593008e-02, -3.30571079e-02,  4.55051269e-02,  1.08002147e-01,\n",
              "        1.12771630e-02,  3.09177217e-02,  6.79582899e-02,  3.62614342e-01,\n",
              "       -4.08275231e-02,  1.55199050e-02,  1.28024076e-01, -6.82861683e-02,\n",
              "       -8.33979574e-02, -3.31047792e-02, -5.39847906e-02,  6.41469453e-03,\n",
              "        4.46470442e-02,  7.48799211e-01,  9.27497007e-03, -5.35080780e-02,\n",
              "       -4.38308125e-02, -6.61886329e-02,  6.60537957e-03, -1.11736439e-03,\n",
              "       -6.02297255e-02, -8.13004220e-02, -1.02702461e-02, -7.38637056e-02,\n",
              "        1.36747917e-01,  1.94096441e-01, -7.95365854e-02, -3.03398462e-02,\n",
              "        3.93578907e-03, -2.43332675e-02, -1.64675098e-02, -4.71201293e-02,\n",
              "       -7.44834320e-02,  3.08269107e-01, -1.05086024e-02,  1.62826451e-02,\n",
              "       -4.20193046e-02,  9.56099763e-03,  1.46141511e-02,  1.35653834e-02,\n",
              "        5.10349930e-02, -8.13004220e-02,  8.11200889e-01, -2.73842281e-02,\n",
              "       -7.49124733e-02,  1.32316846e-02, -8.05853531e-02, -2.26171022e-02,\n",
              "       -1.92777579e-03, -1.38455905e-02, -6.25656172e-02,  1.38990822e-02,\n",
              "       -6.18982196e-02, -8.31572450e-03,  6.89140712e-03,  9.32499748e-04,\n",
              "        1.86662081e-02, -3.59626986e-03,  7.22510594e-03, -6.82861683e-02,\n",
              "       -6.88558673e-03,  7.01988391e-02, -7.31963080e-02, -3.53453283e-02,\n",
              "       -1.27968228e-02, -8.34456287e-02, -3.08642300e-02, -6.15168495e-02,\n",
              "        2.01440171e-02,  6.41469453e-03, -6.86198671e-02, -1.98998404e-02,\n",
              "       -1.52280571e-02, -3.37721768e-02,  2.35763478e-02, -6.77141132e-02,\n",
              "        8.40235042e-02, -5.33173930e-02,  5.37045835e-02,  2.15741549e-02,\n",
              "       -4.03031393e-02, -2.57634053e-02, -4.66910880e-02, -6.94779498e-02,\n",
              "        6.70072209e-03, -1.41316181e-02,  4.98432115e-02, -3.11502576e-02,\n",
              "       -6.32806861e-02,  6.38108904e-02, -1.62768247e-02, -8.33979574e-02,\n",
              "       -3.75858775e-02,  1.02283953e-02, -2.69051594e-03,  1.43757948e-02,\n",
              "       -3.44395744e-02, -5.26476392e-03, -7.61519261e-02, -3.08165587e-02,\n",
              "       -6.86198671e-02, -2.58587478e-02, -6.26609598e-02, -6.91919222e-02,\n",
              "       -7.92982291e-02, -6.56165778e-02, -6.40910975e-02, -7.57705560e-02,\n",
              "       -2.41902537e-02, -5.83228752e-02,  7.89250356e-03, -8.23491897e-02,\n",
              "        1.31840133e-02,  3.61138889e-02,  1.63779877e-02, -3.07212162e-02,\n",
              "       -3.41058756e-02, -6.27563023e-02, -3.43442319e-02, -5.27453379e-02,\n",
              "       -2.39995687e-02, -6.63316467e-02, -7.81541189e-02,  1.88280548e-01,\n",
              "        2.30042927e-02, -3.40558482e-03, -7.12394302e-03, -7.74366939e-03,\n",
              "       -7.26719241e-02,  1.86278355e-01,  1.84755231e-02,  1.54245625e-02,\n",
              "       -6.88105522e-02,  1.44711373e-02, -7.90598729e-02,  9.65133740e-02,\n",
              "       -7.84401465e-02, -4.50702652e-02, -2.05672381e-02, -8.31119299e-02,\n",
              "       -3.16746414e-02,  1.16582974e-01,  8.65524371e-03, -6.55188791e-03,\n",
              "       -1.59431259e-02,  1.05189543e-01,  2.39527151e-01, -3.17223127e-02,\n",
              "       -4.13042357e-02, -6.24702747e-02, -6.74757569e-02,  1.83801805e-02,\n",
              "       -6.12784932e-02, -5.04094462e-02, -2.33321711e-02, -5.40801331e-02,\n",
              "        4.98455676e-03,  1.13150643e-01, -6.86198671e-02, -7.83448040e-02,\n",
              "        1.76410404e-01, -6.60932904e-02, -5.33173930e-02, -5.34604068e-02,\n",
              "       -3.15792989e-02, -4.83119108e-02, -3.41058756e-02, -3.14362851e-02,\n",
              "       -3.70614937e-02,  2.70370456e-01,  4.93688550e-03, -5.33650643e-02,\n",
              "       -4.64527317e-02, -3.23897103e-02, -1.13190138e-02, -6.84768534e-02,\n",
              "       -7.93459004e-02, -7.93435443e-03,  6.34295203e-02, -2.30461435e-02,\n",
              "       -8.40176838e-02, -3.56313559e-02, -3.14839564e-02, -2.46669663e-02,\n",
              "        1.11818204e-02,  1.39467535e-02, -3.11502576e-02, -5.65590386e-02,\n",
              "       -7.77727489e-02, -6.29946586e-02, -3.87776590e-02,  1.16249275e-01,\n",
              "       -3.87299877e-02, -8.40653550e-02,  4.97955402e-02,  4.21204675e-02,\n",
              "       -2.40472400e-02, -3.83486177e-02, -2.37612124e-02, -6.84291821e-02,\n",
              "        3.37825287e-01,  4.16437549e-02,  8.32154489e-03, -3.06258737e-02,\n",
              "       -2.73842281e-02,  5.98065046e-02, -3.42488894e-02, -2.22357321e-02,\n",
              "       -7.56752135e-02, -1.79453188e-02,  2.23368950e-02,  3.81637530e-02,\n",
              "       -3.99217692e-02,  1.39467535e-02, -3.07688875e-02, -6.51398652e-02,\n",
              "       -1.66581948e-02,  9.55599489e-02,  6.22854101e-02,  2.35763478e-02,\n",
              "       -8.93545086e-03, -4.03508105e-02,  7.07232229e-02,  1.13245986e-01,\n",
              "       -2.54297065e-02, -4.02077968e-02, -3.17223127e-02, -1.27491516e-02,\n",
              "       -6.77617845e-02,  4.47900580e-02, -3.59626986e-03, -9.69819101e-03,\n",
              "       -1.78023050e-02, -5.18395840e-02, -8.02993256e-02, -6.22795897e-02,\n",
              "       -6.90012372e-02, -4.15902633e-02, -2.24740884e-02, -7.66763099e-02,\n",
              "        2.00963459e-02,  3.07770640e-03, -8.07736820e-03,  1.02329268e-01,\n",
              "       -6.18505484e-02,  6.36702327e-03,  1.80941530e-02, -5.14105426e-02,\n",
              "       -7.23858966e-02,  3.27528295e-01, -6.50445227e-02, -7.01453474e-02,\n",
              "        1.25642869e-02])"
            ]
          },
          "metadata": {
            "tags": []
          },
          "execution_count": 63
        }
      ]
    },
    {
      "cell_type": "code",
      "metadata": {
        "id": "XXVCWDOMHW2k",
        "outputId": "ee4c7ddb-4068-423e-983a-53f51b5398e5",
        "colab": {
          "base_uri": "https://localhost:8080/",
          "height": 69
        }
      },
      "source": [
        "\"\"\" plt.figure(figsize=(20,10))\n",
        "plt.plot(real_stock_price, color = 'green', label = 'Stock Price')\n",
        "plt.plot(predicted_stock_price, color = 'red', label = 'Predicted Stock Price')\n",
        "plt.title('Stock Price Prediction Using ANN')\n",
        "plt.xlabel('Trading Day')\n",
        "plt.ylabel('Stock Price')\n",
        "plt.legend()\n",
        "plt.show() \"\"\" #error"
      ],
      "execution_count": 64,
      "outputs": [
        {
          "output_type": "execute_result",
          "data": {
            "application/vnd.google.colaboratory.intrinsic+json": {
              "type": "string"
            },
            "text/plain": [
              "\" plt.figure(figsize=(20,10))\\nplt.plot(real_stock_price, color = 'green', label = 'Stock Price')\\nplt.plot(predicted_stock_price, color = 'red', label = 'Predicted Stock Price')\\nplt.title('Stock Price Prediction Using ANN')\\nplt.xlabel('Trading Day')\\nplt.ylabel('Stock Price')\\nplt.legend()\\nplt.show() \""
            ]
          },
          "metadata": {
            "tags": []
          },
          "execution_count": 64
        }
      ]
    },
    {
      "cell_type": "markdown",
      "metadata": {
        "id": "MqGBMKv0HvVM"
      },
      "source": [
        "## Using LSTM"
      ]
    },
    {
      "cell_type": "markdown",
      "metadata": {
        "id": "B2uIFD452b24"
      },
      "source": [
        "### Importing libraries"
      ]
    },
    {
      "cell_type": "code",
      "metadata": {
        "id": "ccMkltE9ebcw",
        "outputId": "9648aa7f-a604-4f9a-e128-802966ca4331",
        "colab": {
          "base_uri": "https://localhost:8080/"
        }
      },
      "source": [
        "pip install nsepy"
      ],
      "execution_count": 65,
      "outputs": [
        {
          "output_type": "stream",
          "text": [
            "Collecting nsepy\n",
            "  Downloading https://files.pythonhosted.org/packages/89/52/2e9f0de0c687ad181f17e0783319d31d66869c410793c5b94dc6cd4b3db2/nsepy-0.8.tar.gz\n",
            "Requirement already satisfied: beautifulsoup4 in /usr/local/lib/python3.6/dist-packages (from nsepy) (4.6.3)\n",
            "Requirement already satisfied: requests in /usr/local/lib/python3.6/dist-packages (from nsepy) (2.23.0)\n",
            "Requirement already satisfied: numpy in /usr/local/lib/python3.6/dist-packages (from nsepy) (1.18.5)\n",
            "Requirement already satisfied: pandas in /usr/local/lib/python3.6/dist-packages (from nsepy) (1.1.4)\n",
            "Requirement already satisfied: six in /usr/local/lib/python3.6/dist-packages (from nsepy) (1.15.0)\n",
            "Requirement already satisfied: click in /usr/local/lib/python3.6/dist-packages (from nsepy) (7.1.2)\n",
            "Requirement already satisfied: lxml in /usr/local/lib/python3.6/dist-packages (from nsepy) (4.2.6)\n",
            "Requirement already satisfied: chardet<4,>=3.0.2 in /usr/local/lib/python3.6/dist-packages (from requests->nsepy) (3.0.4)\n",
            "Requirement already satisfied: certifi>=2017.4.17 in /usr/local/lib/python3.6/dist-packages (from requests->nsepy) (2020.6.20)\n",
            "Requirement already satisfied: urllib3!=1.25.0,!=1.25.1,<1.26,>=1.21.1 in /usr/local/lib/python3.6/dist-packages (from requests->nsepy) (1.24.3)\n",
            "Requirement already satisfied: idna<3,>=2.5 in /usr/local/lib/python3.6/dist-packages (from requests->nsepy) (2.10)\n",
            "Requirement already satisfied: pytz>=2017.2 in /usr/local/lib/python3.6/dist-packages (from pandas->nsepy) (2018.9)\n",
            "Requirement already satisfied: python-dateutil>=2.7.3 in /usr/local/lib/python3.6/dist-packages (from pandas->nsepy) (2.8.1)\n",
            "Building wheels for collected packages: nsepy\n",
            "  Building wheel for nsepy (setup.py) ... \u001b[?25l\u001b[?25hdone\n",
            "  Created wheel for nsepy: filename=nsepy-0.8-cp36-none-any.whl size=36085 sha256=f997572b6760e01bf6a5015292b78e9ad32b68e41a42df5bf50c93bb0a3e932d\n",
            "  Stored in directory: /root/.cache/pip/wheels/05/2c/72/5324e267426eea65dec0c21a12a48b15887c0cf686c7a8fe11\n",
            "Successfully built nsepy\n",
            "Installing collected packages: nsepy\n",
            "Successfully installed nsepy-0.8\n"
          ],
          "name": "stdout"
        }
      ]
    },
    {
      "cell_type": "code",
      "metadata": {
        "id": "7fcRAPcyeVTV"
      },
      "source": [
        "from nsepy import get_history as gh\n",
        "import datetime as dt\n",
        "from matplotlib import pyplot as plt\n",
        "from sklearn import model_selection\n",
        "from sklearn.metrics import confusion_matrix\n",
        "from sklearn.preprocessing import StandardScaler\n",
        "from sklearn.model_selection import train_test_split\n",
        "import numpy as np\n",
        "import pandas as pd\n",
        "from sklearn.preprocessing import MinMaxScaler\n",
        "from keras.models import Sequential\n",
        "from keras.layers import Dense\n",
        "from keras.layers import LSTM\n",
        "from keras.layers import Dropout"
      ],
      "execution_count": 66,
      "outputs": []
    },
    {
      "cell_type": "markdown",
      "metadata": {
        "id": "33TKI23A2NVQ"
      },
      "source": [
        "### Building the LSTM"
      ]
    },
    {
      "cell_type": "code",
      "metadata": {
        "id": "SrT0kjBsc2Pm"
      },
      "source": [
        "regressor = Sequential()\n",
        "regressor.add(LSTM(units = 50, return_sequences = True, input_shape = (X_train.shape[1], 1)))\n",
        "regressor.add(Dropout(0.2))\n",
        "regressor.add(LSTM(units = 50, return_sequences = True))\n",
        "regressor.add(Dropout(0.2))\n",
        "regressor.add(LSTM(units = 50, return_sequences = True))\n",
        "regressor.add(Dropout(0.2))\n",
        "regressor.add(LSTM(units = 50))\n",
        "regressor.add(Dropout(0.2))\n",
        "regressor.add(Dense(units = 1))"
      ],
      "execution_count": 67,
      "outputs": []
    },
    {
      "cell_type": "markdown",
      "metadata": {
        "id": "L_LlaDFB2qDN"
      },
      "source": [
        "### Compiling and training the model defined in the above step.\n",
        "(Iteratively, we can increase or decrease the epochs and batch size to get more accuracy.)"
      ]
    },
    {
      "cell_type": "code",
      "metadata": {
        "id": "NEg-dl9jeOSR",
        "outputId": "859f8e8a-6f3e-42b2-f723-1a379dcd7eb9",
        "colab": {
          "base_uri": "https://localhost:8080/"
        }
      },
      "source": [
        "regressor.compile(optimizer = 'adam', loss = 'mean_squared_error')\n",
        "regressor.fit(X_train, Y_train, epochs = 15, batch_size = 32)"
      ],
      "execution_count": 68,
      "outputs": [
        {
          "output_type": "stream",
          "text": [
            "Epoch 1/15\n",
            "115/115 [==============================] - 2s 19ms/step - loss: 0.0022\n",
            "Epoch 2/15\n",
            "115/115 [==============================] - 2s 19ms/step - loss: 4.5860e-04\n",
            "Epoch 3/15\n",
            "115/115 [==============================] - 2s 19ms/step - loss: 4.2303e-04\n",
            "Epoch 4/15\n",
            "115/115 [==============================] - 2s 19ms/step - loss: 3.4729e-04\n",
            "Epoch 5/15\n",
            "115/115 [==============================] - 2s 19ms/step - loss: 3.0075e-04\n",
            "Epoch 6/15\n",
            "115/115 [==============================] - 2s 19ms/step - loss: 4.1637e-04\n",
            "Epoch 7/15\n",
            "115/115 [==============================] - 2s 19ms/step - loss: 3.2197e-04\n",
            "Epoch 8/15\n",
            "115/115 [==============================] - 2s 19ms/step - loss: 2.9630e-04\n",
            "Epoch 9/15\n",
            "115/115 [==============================] - 2s 19ms/step - loss: 2.9069e-04\n",
            "Epoch 10/15\n",
            "115/115 [==============================] - 2s 18ms/step - loss: 3.4804e-04\n",
            "Epoch 11/15\n",
            "115/115 [==============================] - 2s 18ms/step - loss: 3.7833e-04\n",
            "Epoch 12/15\n",
            "115/115 [==============================] - 2s 18ms/step - loss: 2.8069e-04\n",
            "Epoch 13/15\n",
            "115/115 [==============================] - 2s 18ms/step - loss: 3.4511e-04\n",
            "Epoch 14/15\n",
            "115/115 [==============================] - 2s 18ms/step - loss: 2.6619e-04\n",
            "Epoch 15/15\n",
            "115/115 [==============================] - 2s 19ms/step - loss: 2.9341e-04\n"
          ],
          "name": "stdout"
        },
        {
          "output_type": "execute_result",
          "data": {
            "text/plain": [
              "<tensorflow.python.keras.callbacks.History at 0x7f9733dd5e48>"
            ]
          },
          "metadata": {
            "tags": []
          },
          "execution_count": 68
        }
      ]
    },
    {
      "cell_type": "code",
      "metadata": {
        "id": "r2ZrIgaX03cC"
      },
      "source": [
        "X_test = np.array(x_test)\n",
        "X_test = np.reshape(X_test, (X_test.shape[0],X_test.shape[1], 1))\n",
        "predicted_stock_price = regressor.predict(X_test)"
      ],
      "execution_count": 69,
      "outputs": []
    },
    {
      "cell_type": "code",
      "metadata": {
        "id": "LDrGcESafEp5"
      },
      "source": [
        "real_stock_price = np.asarray(y_test)\n",
        "# real_stock_price=real_stock_price.reshape(1167,1)"
      ],
      "execution_count": 70,
      "outputs": []
    },
    {
      "cell_type": "code",
      "metadata": {
        "id": "koD72IuliN0t",
        "outputId": "b3e1d903-c739-4140-aef5-8b7197fb92dd",
        "colab": {
          "base_uri": "https://localhost:8080/"
        }
      },
      "source": [
        "predicted_stock_price"
      ],
      "execution_count": 71,
      "outputs": [
        {
          "output_type": "execute_result",
          "data": {
            "text/plain": [
              "array([[-2.33833771e-02],\n",
              "       [-3.28548998e-02],\n",
              "       [-3.86820063e-02],\n",
              "       [-6.60331249e-02],\n",
              "       [-5.46642542e-02],\n",
              "       [-9.01935399e-02],\n",
              "       [-9.15576592e-02],\n",
              "       [ 3.56889278e-01],\n",
              "       [-7.84826502e-02],\n",
              "       [-1.02723176e-02],\n",
              "       [-9.50013399e-02],\n",
              "       [-9.19645354e-02],\n",
              "       [-7.20058456e-02],\n",
              "       [ 2.70236224e-01],\n",
              "       [-8.63657668e-02],\n",
              "       [-8.61267224e-02],\n",
              "       [ 3.63987207e-01],\n",
              "       [-1.51060838e-02],\n",
              "       [-7.50869513e-02],\n",
              "       [-4.33471799e-02],\n",
              "       [ 6.02150083e-01],\n",
              "       [-8.81133135e-03],\n",
              "       [ 2.76749074e-01],\n",
              "       [-5.70498742e-02],\n",
              "       [-1.67867951e-02],\n",
              "       [-1.53778736e-02],\n",
              "       [ 5.81951328e-02],\n",
              "       [-4.70556691e-02],\n",
              "       [-6.56548887e-02],\n",
              "       [-9.50376038e-03],\n",
              "       [-7.66544789e-02],\n",
              "       [-8.04777592e-02],\n",
              "       [-4.01581340e-02],\n",
              "       [-8.56913701e-02],\n",
              "       [-2.17599999e-02],\n",
              "       [-4.07008119e-02],\n",
              "       [-5.52986749e-02],\n",
              "       [-5.81587106e-02],\n",
              "       [ 3.18949223e-01],\n",
              "       [-4.05016989e-02],\n",
              "       [-5.71469702e-02],\n",
              "       [ 6.27569437e-01],\n",
              "       [ 1.34893274e-02],\n",
              "       [-5.12411110e-02],\n",
              "       [-3.70558798e-02],\n",
              "       [-4.56874073e-02],\n",
              "       [-1.42516140e-02],\n",
              "       [-6.79818094e-02],\n",
              "       [-4.24516276e-02],\n",
              "       [-9.47418250e-03],\n",
              "       [-1.29145300e-02],\n",
              "       [-9.12002325e-02],\n",
              "       [ 3.50200385e-01],\n",
              "       [-2.09524892e-02],\n",
              "       [-4.23107296e-03],\n",
              "       [-2.21758299e-02],\n",
              "       [ 2.56693840e-01],\n",
              "       [-8.35033208e-02],\n",
              "       [-7.61626214e-02],\n",
              "       [ 2.33108714e-01],\n",
              "       [-9.40462649e-02],\n",
              "       [ 6.24708310e-02],\n",
              "       [-7.33330101e-02],\n",
              "       [-1.84094831e-02],\n",
              "       [-1.68333780e-02],\n",
              "       [-5.31957299e-02],\n",
              "       [-3.25653329e-03],\n",
              "       [ 7.00633824e-01],\n",
              "       [-8.30211565e-02],\n",
              "       [-1.57629922e-02],\n",
              "       [ 4.39298719e-01],\n",
              "       [-6.03987463e-02],\n",
              "       [-7.47063756e-02],\n",
              "       [-4.97718789e-02],\n",
              "       [-2.02570343e-03],\n",
              "       [-8.41914713e-02],\n",
              "       [-2.27943175e-02],\n",
              "       [-3.05881817e-02],\n",
              "       [-7.46653602e-02],\n",
              "       [-4.76379553e-03],\n",
              "       [-7.04087168e-02],\n",
              "       [-8.21852982e-02],\n",
              "       [-5.74470162e-02],\n",
              "       [-5.23520373e-02],\n",
              "       [-5.46941794e-02],\n",
              "       [-1.04194740e-02],\n",
              "       [-3.98260280e-02],\n",
              "       [-2.72550695e-02],\n",
              "       [-3.34277712e-02],\n",
              "       [-3.65082920e-02],\n",
              "       [-3.86842974e-02],\n",
              "       [-2.88531352e-02],\n",
              "       [-9.38313976e-02],\n",
              "       [-6.10802621e-02],\n",
              "       [ 6.22957828e-04],\n",
              "       [ 3.97265330e-02],\n",
              "       [ 6.97210850e-03],\n",
              "       [-8.46971497e-02],\n",
              "       [ 8.15309212e-02],\n",
              "       [-4.39101346e-02],\n",
              "       [-2.40893811e-02],\n",
              "       [-8.54352415e-02],\n",
              "       [-6.66651130e-02],\n",
              "       [-4.74031176e-03],\n",
              "       [-3.92501242e-02],\n",
              "       [-7.43987560e-02],\n",
              "       [ 3.30378562e-02],\n",
              "       [-2.88806986e-02],\n",
              "       [-6.86101168e-02],\n",
              "       [ 3.82764965e-01],\n",
              "       [-4.65627238e-02],\n",
              "       [-1.79544948e-02],\n",
              "       [ 8.10710061e-03],\n",
              "       [ 3.08466833e-02],\n",
              "       [-7.33582005e-02],\n",
              "       [-1.22725721e-02],\n",
              "       [ 7.41546974e-03],\n",
              "       [ 5.65955266e-02],\n",
              "       [-8.75185877e-02],\n",
              "       [-7.10397884e-02],\n",
              "       [-2.71892529e-02],\n",
              "       [-8.61800760e-02],\n",
              "       [-2.12468859e-02],\n",
              "       [-6.31620288e-02],\n",
              "       [ 5.71280532e-03],\n",
              "       [-2.45093787e-03],\n",
              "       [-3.33328247e-02],\n",
              "       [-7.08796317e-03],\n",
              "       [-7.60688707e-02],\n",
              "       [-7.49715716e-02],\n",
              "       [ 1.20106013e-02],\n",
              "       [-4.56396937e-02],\n",
              "       [-4.97116148e-02],\n",
              "       [-8.16597268e-02],\n",
              "       [-2.53318809e-04],\n",
              "       [ 1.76800489e-02],\n",
              "       [-7.16821523e-03],\n",
              "       [-2.21268833e-02],\n",
              "       [-1.34644032e-01],\n",
              "       [-3.87783237e-02],\n",
              "       [-9.59166586e-02],\n",
              "       [-4.28786688e-02],\n",
              "       [-5.81677584e-03],\n",
              "       [-2.07230840e-02],\n",
              "       [ 3.39653313e-01],\n",
              "       [-7.58105665e-02],\n",
              "       [-1.75993685e-02],\n",
              "       [-7.37233087e-02],\n",
              "       [ 8.78128037e-02],\n",
              "       [ 3.55829656e-01],\n",
              "       [ 3.17260355e-01],\n",
              "       [-5.67422993e-02],\n",
              "       [-4.43515740e-02],\n",
              "       [-4.79774661e-02],\n",
              "       [ 3.76627296e-02],\n",
              "       [ 8.49373713e-02],\n",
              "       [-3.57172173e-03],\n",
              "       [ 2.39914134e-02],\n",
              "       [ 6.08180724e-02],\n",
              "       [ 3.66508991e-01],\n",
              "       [-5.52778691e-02],\n",
              "       [-5.59875183e-03],\n",
              "       [ 1.23427585e-01],\n",
              "       [-7.95319378e-02],\n",
              "       [-9.24392045e-02],\n",
              "       [-4.20958251e-02],\n",
              "       [-6.11185804e-02],\n",
              "       [-1.63584191e-03],\n",
              "       [ 3.61334756e-02],\n",
              "       [ 6.87098145e-01],\n",
              "       [-2.38486426e-03],\n",
              "       [-6.15700930e-02],\n",
              "       [-5.02420068e-02],\n",
              "       [-7.63745010e-02],\n",
              "       [-8.86755902e-03],\n",
              "       [-1.35629475e-02],\n",
              "       [-6.81789070e-02],\n",
              "       [-9.39481184e-02],\n",
              "       [-1.34458663e-02],\n",
              "       [-8.17787126e-02],\n",
              "       [ 1.18564822e-01],\n",
              "       [ 1.76078901e-01],\n",
              "       [-8.56537148e-02],\n",
              "       [-3.99842747e-02],\n",
              "       [-1.03370193e-02],\n",
              "       [-3.41959670e-02],\n",
              "       [-3.33499834e-02],\n",
              "       [-5.64439446e-02],\n",
              "       [-8.31416175e-02],\n",
              "       [ 3.07415098e-01],\n",
              "       [-2.73202602e-02],\n",
              "       [ 6.17902121e-03],\n",
              "       [-5.60493506e-02],\n",
              "       [-5.01894252e-03],\n",
              "       [ 1.91200022e-02],\n",
              "       [-4.53597121e-03],\n",
              "       [ 3.31793539e-02],\n",
              "       [-8.75902623e-02],\n",
              "       [ 7.99332678e-01],\n",
              "       [-3.78716327e-02],\n",
              "       [-8.41665938e-02],\n",
              "       [ 3.19514167e-03],\n",
              "       [-9.44460928e-02],\n",
              "       [-3.87208723e-02],\n",
              "       [-1.59126092e-02],\n",
              "       [-2.67567486e-02],\n",
              "       [-7.09778294e-02],\n",
              "       [ 1.77249114e-03],\n",
              "       [-7.15776235e-02],\n",
              "       [-2.38542706e-02],\n",
              "       [-8.70790891e-03],\n",
              "       [-1.34316897e-02],\n",
              "       [ 5.54997753e-03],\n",
              "       [-1.18864728e-02],\n",
              "       [-4.43411176e-04],\n",
              "       [-7.98271522e-02],\n",
              "       [-2.18513198e-02],\n",
              "       [ 6.57671168e-02],\n",
              "       [-8.22761729e-02],\n",
              "       [-4.61295918e-02],\n",
              "       [-2.90566552e-02],\n",
              "       [-8.65883976e-02],\n",
              "       [-4.56872620e-02],\n",
              "       [-7.59045109e-02],\n",
              "       [ 6.34844415e-03],\n",
              "       [-8.57202709e-03],\n",
              "       [-7.93466195e-02],\n",
              "       [-3.32921520e-02],\n",
              "       [-2.76612677e-02],\n",
              "       [-4.70122099e-02],\n",
              "       [ 8.05102009e-03],\n",
              "       [-7.59793147e-02],\n",
              "       [ 7.22802579e-02],\n",
              "       [-6.55106008e-02],\n",
              "       [ 4.10003662e-02],\n",
              "       [ 1.00691551e-02],\n",
              "       [-4.71746288e-02],\n",
              "       [-4.09302562e-02],\n",
              "       [-5.84567338e-02],\n",
              "       [-7.31606185e-02],\n",
              "       [-5.91588672e-03],\n",
              "       [-2.42436286e-02],\n",
              "       [ 3.15875672e-02],\n",
              "       [-4.13982309e-02],\n",
              "       [-7.34011754e-02],\n",
              "       [ 5.20057939e-02],\n",
              "       [-3.20265964e-02],\n",
              "       [-9.58684981e-02],\n",
              "       [-4.77603488e-02],\n",
              "       [-2.69813137e-03],\n",
              "       [-1.68219414e-02],\n",
              "       [-8.81450833e-04],\n",
              "       [-4.54568192e-02],\n",
              "       [-1.44869313e-02],\n",
              "       [-8.32762346e-02],\n",
              "       [-4.57796678e-02],\n",
              "       [-7.25582913e-02],\n",
              "       [-4.00945358e-02],\n",
              "       [-7.34887868e-02],\n",
              "       [-7.60474503e-02],\n",
              "       [-8.77952874e-02],\n",
              "       [-7.69672394e-02],\n",
              "       [-7.30977207e-02],\n",
              "       [-8.29799548e-02],\n",
              "       [-3.42283621e-02],\n",
              "       [-6.65967315e-02],\n",
              "       [-9.01402533e-03],\n",
              "       [-9.40876603e-02],\n",
              "       [ 1.85927923e-03],\n",
              "       [ 2.37205811e-02],\n",
              "       [ 6.72190543e-03],\n",
              "       [-4.74252775e-02],\n",
              "       [-4.71077338e-02],\n",
              "       [-7.25738406e-02],\n",
              "       [-4.74757552e-02],\n",
              "       [-5.85402846e-02],\n",
              "       [-3.57510932e-02],\n",
              "       [-7.13758320e-02],\n",
              "       [-8.68413746e-02],\n",
              "       [ 1.77172944e-01],\n",
              "       [ 1.06098559e-02],\n",
              "       [-1.78965572e-02],\n",
              "       [-1.67277902e-02],\n",
              "       [-2.14121826e-02],\n",
              "       [-8.22304413e-02],\n",
              "       [ 1.89175978e-01],\n",
              "       [ 5.65136317e-04],\n",
              "       [ 1.84410543e-03],\n",
              "       [-7.80950934e-02],\n",
              "       [-3.29050655e-03],\n",
              "       [-8.78026336e-02],\n",
              "       [ 5.46762086e-02],\n",
              "       [-8.57829303e-02],\n",
              "       [-5.62946834e-02],\n",
              "       [-3.40929180e-02],\n",
              "       [-8.94525126e-02],\n",
              "       [-4.19550017e-02],\n",
              "       [ 1.04271598e-01],\n",
              "       [-6.58989465e-03],\n",
              "       [-2.20934357e-02],\n",
              "       [-2.96709370e-02],\n",
              "       [ 9.24690515e-02],\n",
              "       [ 2.50640333e-01],\n",
              "       [-4.77782078e-02],\n",
              "       [-5.31946160e-02],\n",
              "       [-7.67019615e-02],\n",
              "       [-7.50999376e-02],\n",
              "       [ 8.42391234e-03],\n",
              "       [-6.86268881e-02],\n",
              "       [-5.58691137e-02],\n",
              "       [-3.41986418e-02],\n",
              "       [-6.05873838e-02],\n",
              "       [-1.40899997e-02],\n",
              "       [ 1.10622659e-01],\n",
              "       [-7.87996054e-02],\n",
              "       [-8.81099403e-02],\n",
              "       [ 1.52885407e-01],\n",
              "       [-7.54342377e-02],\n",
              "       [-6.30292669e-02],\n",
              "       [-6.20424524e-02],\n",
              "       [-4.50853407e-02],\n",
              "       [-5.96626140e-02],\n",
              "       [-4.67394888e-02],\n",
              "       [-4.40198034e-02],\n",
              "       [-4.84668612e-02],\n",
              "       [ 2.32984111e-01],\n",
              "       [-8.53886083e-03],\n",
              "       [-6.43815026e-02],\n",
              "       [-5.62027358e-02],\n",
              "       [-4.47598919e-02],\n",
              "       [-2.56212074e-02],\n",
              "       [-7.95726478e-02],\n",
              "       [-9.26140621e-02],\n",
              "       [-2.42246501e-02],\n",
              "       [ 4.13839109e-02],\n",
              "       [-3.55744064e-02],\n",
              "       [-8.63713026e-02],\n",
              "       [-4.60514501e-02],\n",
              "       [-4.42524143e-02],\n",
              "       [-3.79026718e-02],\n",
              "       [-7.28509994e-03],\n",
              "       [-6.06269017e-03],\n",
              "       [-4.33601663e-02],\n",
              "       [-6.50327653e-02],\n",
              "       [-8.68459716e-02],\n",
              "       [-7.33942315e-02],\n",
              "       [-5.01550362e-02],\n",
              "       [ 1.12624675e-01],\n",
              "       [-5.68803959e-02],\n",
              "       [-9.15401652e-02],\n",
              "       [ 3.27800512e-02],\n",
              "       [ 3.57498303e-02],\n",
              "       [-3.78029309e-02],\n",
              "       [-5.68611510e-02],\n",
              "       [-3.80624644e-02],\n",
              "       [-7.31563643e-02],\n",
              "       [ 3.25214595e-01],\n",
              "       [ 2.46245712e-02],\n",
              "       [-3.40126315e-03],\n",
              "       [-4.20781411e-02],\n",
              "       [-4.03629951e-02],\n",
              "       [ 4.14196178e-02],\n",
              "       [-4.36022766e-02],\n",
              "       [-3.80157419e-02],\n",
              "       [-8.16400498e-02],\n",
              "       [-2.95039080e-02],\n",
              "       [ 8.05770978e-03],\n",
              "       [ 1.87619925e-02],\n",
              "       [-5.37561029e-02],\n",
              "       [-7.17071304e-03],\n",
              "       [-4.56280075e-02],\n",
              "       [-7.57933259e-02],\n",
              "       [-3.11424229e-02],\n",
              "       [ 8.89324322e-02],\n",
              "       [ 3.23249735e-02],\n",
              "       [ 7.69240782e-03],\n",
              "       [-2.45713089e-02],\n",
              "       [-5.07377759e-02],\n",
              "       [ 5.01402505e-02],\n",
              "       [ 9.20637771e-02],\n",
              "       [-3.79256904e-02],\n",
              "       [-4.96721603e-02],\n",
              "       [-4.24223244e-02],\n",
              "       [-2.75557451e-02],\n",
              "       [-7.26886988e-02],\n",
              "       [ 4.53739278e-02],\n",
              "       [-1.45886131e-02],\n",
              "       [-2.18439158e-02],\n",
              "       [-3.58252935e-02],\n",
              "       [-6.28147423e-02],\n",
              "       [-8.40627775e-02],\n",
              "       [-7.29281306e-02],\n",
              "       [-7.74734914e-02],\n",
              "       [-5.23172580e-02],\n",
              "       [-3.07211783e-02],\n",
              "       [-8.57100561e-02],\n",
              "       [-7.08597596e-04],\n",
              "       [-9.77067184e-03],\n",
              "       [-2.39287391e-02],\n",
              "       [ 9.25264731e-02],\n",
              "       [-7.43061155e-02],\n",
              "       [-1.24614444e-02],\n",
              "       [ 3.15279095e-03],\n",
              "       [-6.06976189e-02],\n",
              "       [-8.09557587e-02],\n",
              "       [ 3.14526409e-01],\n",
              "       [-7.18773007e-02],\n",
              "       [-7.93379843e-02],\n",
              "       [ 1.08269928e-03]], dtype=float32)"
            ]
          },
          "metadata": {
            "tags": []
          },
          "execution_count": 71
        }
      ]
    },
    {
      "cell_type": "code",
      "metadata": {
        "id": "bXqa74JLiSvC",
        "outputId": "3e4d0e93-ae8d-4bc0-f93b-4f10be8f14c6",
        "colab": {
          "base_uri": "https://localhost:8080/"
        }
      },
      "source": [
        "real_stock_price"
      ],
      "execution_count": 72,
      "outputs": [
        {
          "output_type": "execute_result",
          "data": {
            "text/plain": [
              "array([-9.07846464e-03, -1.78499763e-02, -3.08642300e-02, -5.53672571e-02,\n",
              "       -4.46888951e-02, -8.30165873e-02, -7.87738453e-02,  3.76391336e-01,\n",
              "       -6.90965797e-02,  3.55441899e-03, -8.53524790e-02, -7.95365854e-02,\n",
              "       -6.49491802e-02,  2.84624162e-01, -8.20631622e-02, -7.03837037e-02,\n",
              "        3.58323928e-01,  1.59989737e-03, -6.58549341e-02, -3.00538186e-02,\n",
              "        5.90339946e-01,  1.14678480e-02,  3.07697051e-01, -3.88253303e-02,\n",
              "       -4.07298245e-03, -7.35994316e-04,  6.85303450e-02, -3.41535469e-02,\n",
              "       -5.77031488e-02,  5.93798194e-03, -6.75710994e-02, -6.76187707e-02,\n",
              "       -2.81946395e-02, -7.72960363e-02, -9.41216345e-03, -2.56203915e-02,\n",
              "       -4.42598538e-02, -5.15535564e-02,  3.32009393e-01, -2.63354604e-02,\n",
              "       -3.83486177e-02,  6.21183251e-01,  2.64842946e-02, -4.04938243e-02,\n",
              "       -2.46669663e-02, -4.14949208e-02, -3.64394112e-03, -6.09924657e-02,\n",
              "       -2.91957359e-02,  3.93578907e-03, -2.69051594e-03, -8.26352173e-02,\n",
              "        4.02419843e-01, -6.31353162e-03,  8.32154489e-03, -2.59517342e-03,\n",
              "        2.56641133e-01, -7.51508296e-02, -6.87152096e-02,  2.31852078e-01,\n",
              "       -8.18724771e-02,  7.58240476e-02, -6.86198671e-02, -8.84010835e-03,\n",
              "       -6.88323057e-04, -4.08751944e-02,  4.12647410e-03,  7.52088528e-01,\n",
              "       -7.66286386e-02, -5.97983281e-03,  4.58338230e-01, -5.30313654e-02,\n",
              "       -6.57595916e-02, -3.87776590e-02, -7.83901191e-03, -7.54845284e-02,\n",
              "       -7.40997058e-03, -4.16379345e-02, -6.96209636e-02,  1.21352456e-02,\n",
              "       -5.77031488e-02, -7.49601446e-02, -3.83962889e-02, -4.01124542e-02,\n",
              "       -4.11135507e-02,  8.13085986e-03, -2.94817635e-02, -9.31682094e-03,\n",
              "       -2.27601160e-02, -2.45239526e-02, -2.55250490e-02, -1.47036732e-02,\n",
              "       -8.43513826e-02, -5.38417768e-02,  1.10864779e-02,  5.46580086e-02,\n",
              "        2.31473064e-02, -7.64379536e-02,  7.62054177e-02, -3.10549150e-02,\n",
              "       -1.12713426e-02, -7.62949398e-02, -5.96099992e-02,  8.79825748e-03,\n",
              "       -2.52390214e-02, -6.86198671e-02,  5.41336248e-02, -2.13299782e-02,\n",
              "       -6.07541094e-02,  3.56703106e-01, -3.31047792e-02, -1.30804942e-03,\n",
              "        2.46251155e-02,  5.30371858e-02, -6.76664419e-02, -4.07298245e-03,\n",
              "        2.36716903e-02,  7.03895241e-02, -7.95365854e-02, -6.18505484e-02,\n",
              "       -1.13666851e-02, -8.08237094e-02, -7.88668317e-03, -5.33173930e-02,\n",
              "        1.98579896e-02,  1.33746983e-02, -2.06625806e-02,  4.17414536e-03,\n",
              "       -6.92395935e-02, -6.69513731e-02,  2.73900485e-02, -3.01014899e-02,\n",
              "       -3.82056039e-02, -7.60089123e-02,  1.23259306e-02,  3.24432019e-02,\n",
              "        5.89031068e-03, -5.36010644e-03, -8.57815204e-02, -2.21403896e-02,\n",
              "       -8.31119299e-02, -3.29140941e-02,  9.75168266e-03, -9.41216345e-03,\n",
              "        3.53318446e-01, -6.93826073e-02,  2.60099381e-03, -6.43771251e-02,\n",
              "        9.45111812e-02,  3.56369407e-01,  3.35298710e-01, -4.26867022e-02,\n",
              "       -3.50593008e-02, -3.30571079e-02,  4.55051269e-02,  1.08002147e-01,\n",
              "        1.12771630e-02,  3.09177217e-02,  6.79582899e-02,  3.62614342e-01,\n",
              "       -4.08275231e-02,  1.55199050e-02,  1.28024076e-01, -6.82861683e-02,\n",
              "       -8.33979574e-02, -3.31047792e-02, -5.39847906e-02,  6.41469453e-03,\n",
              "        4.46470442e-02,  7.48799211e-01,  9.27497007e-03, -5.35080780e-02,\n",
              "       -4.38308125e-02, -6.61886329e-02,  6.60537957e-03, -1.11736439e-03,\n",
              "       -6.02297255e-02, -8.13004220e-02, -1.02702461e-02, -7.38637056e-02,\n",
              "        1.36747917e-01,  1.94096441e-01, -7.95365854e-02, -3.03398462e-02,\n",
              "        3.93578907e-03, -2.43332675e-02, -1.64675098e-02, -4.71201293e-02,\n",
              "       -7.44834320e-02,  3.08269107e-01, -1.05086024e-02,  1.62826451e-02,\n",
              "       -4.20193046e-02,  9.56099763e-03,  1.46141511e-02,  1.35653834e-02,\n",
              "        5.10349930e-02, -8.13004220e-02,  8.11200889e-01, -2.73842281e-02,\n",
              "       -7.49124733e-02,  1.32316846e-02, -8.05853531e-02, -2.26171022e-02,\n",
              "       -1.92777579e-03, -1.38455905e-02, -6.25656172e-02,  1.38990822e-02,\n",
              "       -6.18982196e-02, -8.31572450e-03,  6.89140712e-03,  9.32499748e-04,\n",
              "        1.86662081e-02, -3.59626986e-03,  7.22510594e-03, -6.82861683e-02,\n",
              "       -6.88558673e-03,  7.01988391e-02, -7.31963080e-02, -3.53453283e-02,\n",
              "       -1.27968228e-02, -8.34456287e-02, -3.08642300e-02, -6.15168495e-02,\n",
              "        2.01440171e-02,  6.41469453e-03, -6.86198671e-02, -1.98998404e-02,\n",
              "       -1.52280571e-02, -3.37721768e-02,  2.35763478e-02, -6.77141132e-02,\n",
              "        8.40235042e-02, -5.33173930e-02,  5.37045835e-02,  2.15741549e-02,\n",
              "       -4.03031393e-02, -2.57634053e-02, -4.66910880e-02, -6.94779498e-02,\n",
              "        6.70072209e-03, -1.41316181e-02,  4.98432115e-02, -3.11502576e-02,\n",
              "       -6.32806861e-02,  6.38108904e-02, -1.62768247e-02, -8.33979574e-02,\n",
              "       -3.75858775e-02,  1.02283953e-02, -2.69051594e-03,  1.43757948e-02,\n",
              "       -3.44395744e-02, -5.26476392e-03, -7.61519261e-02, -3.08165587e-02,\n",
              "       -6.86198671e-02, -2.58587478e-02, -6.26609598e-02, -6.91919222e-02,\n",
              "       -7.92982291e-02, -6.56165778e-02, -6.40910975e-02, -7.57705560e-02,\n",
              "       -2.41902537e-02, -5.83228752e-02,  7.89250356e-03, -8.23491897e-02,\n",
              "        1.31840133e-02,  3.61138889e-02,  1.63779877e-02, -3.07212162e-02,\n",
              "       -3.41058756e-02, -6.27563023e-02, -3.43442319e-02, -5.27453379e-02,\n",
              "       -2.39995687e-02, -6.63316467e-02, -7.81541189e-02,  1.88280548e-01,\n",
              "        2.30042927e-02, -3.40558482e-03, -7.12394302e-03, -7.74366939e-03,\n",
              "       -7.26719241e-02,  1.86278355e-01,  1.84755231e-02,  1.54245625e-02,\n",
              "       -6.88105522e-02,  1.44711373e-02, -7.90598729e-02,  9.65133740e-02,\n",
              "       -7.84401465e-02, -4.50702652e-02, -2.05672381e-02, -8.31119299e-02,\n",
              "       -3.16746414e-02,  1.16582974e-01,  8.65524371e-03, -6.55188791e-03,\n",
              "       -1.59431259e-02,  1.05189543e-01,  2.39527151e-01, -3.17223127e-02,\n",
              "       -4.13042357e-02, -6.24702747e-02, -6.74757569e-02,  1.83801805e-02,\n",
              "       -6.12784932e-02, -5.04094462e-02, -2.33321711e-02, -5.40801331e-02,\n",
              "        4.98455676e-03,  1.13150643e-01, -6.86198671e-02, -7.83448040e-02,\n",
              "        1.76410404e-01, -6.60932904e-02, -5.33173930e-02, -5.34604068e-02,\n",
              "       -3.15792989e-02, -4.83119108e-02, -3.41058756e-02, -3.14362851e-02,\n",
              "       -3.70614937e-02,  2.70370456e-01,  4.93688550e-03, -5.33650643e-02,\n",
              "       -4.64527317e-02, -3.23897103e-02, -1.13190138e-02, -6.84768534e-02,\n",
              "       -7.93459004e-02, -7.93435443e-03,  6.34295203e-02, -2.30461435e-02,\n",
              "       -8.40176838e-02, -3.56313559e-02, -3.14839564e-02, -2.46669663e-02,\n",
              "        1.11818204e-02,  1.39467535e-02, -3.11502576e-02, -5.65590386e-02,\n",
              "       -7.77727489e-02, -6.29946586e-02, -3.87776590e-02,  1.16249275e-01,\n",
              "       -3.87299877e-02, -8.40653550e-02,  4.97955402e-02,  4.21204675e-02,\n",
              "       -2.40472400e-02, -3.83486177e-02, -2.37612124e-02, -6.84291821e-02,\n",
              "        3.37825287e-01,  4.16437549e-02,  8.32154489e-03, -3.06258737e-02,\n",
              "       -2.73842281e-02,  5.98065046e-02, -3.42488894e-02, -2.22357321e-02,\n",
              "       -7.56752135e-02, -1.79453188e-02,  2.23368950e-02,  3.81637530e-02,\n",
              "       -3.99217692e-02,  1.39467535e-02, -3.07688875e-02, -6.51398652e-02,\n",
              "       -1.66581948e-02,  9.55599489e-02,  6.22854101e-02,  2.35763478e-02,\n",
              "       -8.93545086e-03, -4.03508105e-02,  7.07232229e-02,  1.13245986e-01,\n",
              "       -2.54297065e-02, -4.02077968e-02, -3.17223127e-02, -1.27491516e-02,\n",
              "       -6.77617845e-02,  4.47900580e-02, -3.59626986e-03, -9.69819101e-03,\n",
              "       -1.78023050e-02, -5.18395840e-02, -8.02993256e-02, -6.22795897e-02,\n",
              "       -6.90012372e-02, -4.15902633e-02, -2.24740884e-02, -7.66763099e-02,\n",
              "        2.00963459e-02,  3.07770640e-03, -8.07736820e-03,  1.02329268e-01,\n",
              "       -6.18505484e-02,  6.36702327e-03,  1.80941530e-02, -5.14105426e-02,\n",
              "       -7.23858966e-02,  3.27528295e-01, -6.50445227e-02, -7.01453474e-02,\n",
              "        1.25642869e-02])"
            ]
          },
          "metadata": {
            "tags": []
          },
          "execution_count": 72
        }
      ]
    },
    {
      "cell_type": "markdown",
      "metadata": {
        "id": "oWXVsRgp2DcB"
      },
      "source": [
        "### Plotting the results"
      ]
    },
    {
      "cell_type": "code",
      "metadata": {
        "id": "bTm04GWiiU9O",
        "outputId": "5a314c29-2d8d-44e9-9453-9ba6e640fe7b",
        "colab": {
          "base_uri": "https://localhost:8080/",
          "height": 505
        }
      },
      "source": [
        "plt.figure(figsize=(20,10))\n",
        "plt.plot(real_stock_price, color = 'green', label = 'Stock Price')\n",
        "plt.plot(predicted_stock_price, color = 'red', label = 'Predicted Stock Price')\n",
        "plt.title('Stock Price Prediction')\n",
        "plt.xlabel('Trading Day')\n",
        "plt.ylabel('Stock Price')\n",
        "plt.legend()\n",
        "plt.show()"
      ],
      "execution_count": 73,
      "outputs": [
        {
          "output_type": "display_data",
          "data": {
            "image/png": "[encoded data removed]",
            "text/plain": [
              "<Figure size 1440x720 with 1 Axes>"
            ]
          },
          "metadata": {
            "tags": [],
            "needs_background": "light"
          }
        }
      ]
    },
    {
      "cell_type": "code",
      "metadata": {
        "id": "7hCjZ69viYqn",
        "outputId": "7eec1831-4829-44c3-e8fc-d436d050e0e1",
        "colab": {
          "base_uri": "https://localhost:8080/"
        }
      },
      "source": [
        "from sklearn.metrics import mean_squared_error as MSE\n",
        "rmse = MSE(real_stock_price,predicted_stock_price)**(1/2)\n",
        "rmse"
      ],
      "execution_count": 74,
      "outputs": [
        {
          "output_type": "execute_result",
          "data": {
            "text/plain": [
              "0.013857489299441231"
            ]
          },
          "metadata": {
            "tags": []
          },
          "execution_count": 74
        }
      ]
    }
  ]
}