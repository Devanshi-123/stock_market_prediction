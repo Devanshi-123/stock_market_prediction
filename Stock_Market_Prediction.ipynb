{
  "nbformat": 4,
  "nbformat_minor": 0,
  "metadata": {
    "kernelspec": {
      "display_name": "Python 3",
      "language": "python",
      "name": "python3"
    },
    "language_info": {
      "codemirror_mode": {
        "name": "ipython",
        "version": 3
      },
      "file_extension": ".py",
      "mimetype": "text/x-python",
      "name": "python",
      "nbconvert_exporter": "python",
      "pygments_lexer": "ipython3",
      "version": "3.8.3"
    },
    "colab": {
      "name": "Stock_Market_Prediction.ipynb",
      "provenance": [],
      "toc_visible": true
    }
  },
  "cells": [
    {
      "cell_type": "markdown",
      "metadata": {
        "id": "tieXgez1berr"
      },
      "source": [
        "## Stock Market Prediction Using Different Machine Learning Algorithms\n"
      ]
    },
    {
      "cell_type": "code",
      "metadata": {
        "id": "bExe6rckbers"
      },
      "source": [
        "#importing the necessary libraries\n",
        "import pandas as pd\n",
        "import numpy as np\n",
        "\n",
        "import matplotlib.pyplot as plt\n",
        "%matplotlib inline"
      ],
      "execution_count": 2,
      "outputs": []
    },
    {
      "cell_type": "code",
      "metadata": {
        "id": "YoioHTGgcPVu",
        "outputId": "3809c9ec-0281-4c22-ecbe-73a3d0798b8c",
        "colab": {
          "base_uri": "https://localhost:8080/"
        }
      },
      "source": [
        "cd /content/drive/My Drive/AI lab"
      ],
      "execution_count": 4,
      "outputs": [
        {
          "output_type": "stream",
          "text": [
            "/content/drive/My Drive/AI lab\n"
          ],
          "name": "stdout"
        }
      ]
    },
    {
      "cell_type": "code",
      "metadata": {
        "id": "1fMnpg-sbery",
        "outputId": "48364b92-9d65-4268-a197-2d679c0a3863",
        "colab": {
          "base_uri": "https://localhost:8080/",
          "height": 225
        }
      },
      "source": [
        "#Importing the dataset\n",
        "df=pd.read_csv(\"Stock_ZMYD1.csv\")\n",
        "df['datetime'] = pd.to_datetime(df['<DTYYYYMMDD>'], format='%Y%m%d')\n",
        "df.index = df['datetime']\n",
        "df.dropna()\n",
        "df_new = df[[\"<FIRST>\",\"<HIGH>\",\"<LOW>\",\"<CLOSE>\",\"<VALUE>\",\"<VOL>\"]]\n",
        "df_new.head()"
      ],
      "execution_count": 5,
      "outputs": [
        {
          "output_type": "execute_result",
          "data": {
            "text/html": [
              "<div>\n",
              "<style scoped>\n",
              "    .dataframe tbody tr th:only-of-type {\n",
              "        vertical-align: middle;\n",
              "    }\n",
              "\n",
              "    .dataframe tbody tr th {\n",
              "        vertical-align: top;\n",
              "    }\n",
              "\n",
              "    .dataframe thead th {\n",
              "        text-align: right;\n",
              "    }\n",
              "</style>\n",
              "<table border=\"1\" class=\"dataframe\">\n",
              "  <thead>\n",
              "    <tr style=\"text-align: right;\">\n",
              "      <th></th>\n",
              "      <th>&lt;FIRST&gt;</th>\n",
              "      <th>&lt;HIGH&gt;</th>\n",
              "      <th>&lt;LOW&gt;</th>\n",
              "      <th>&lt;CLOSE&gt;</th>\n",
              "      <th>&lt;VALUE&gt;</th>\n",
              "      <th>&lt;VOL&gt;</th>\n",
              "    </tr>\n",
              "    <tr>\n",
              "      <th>datetime</th>\n",
              "      <th></th>\n",
              "      <th></th>\n",
              "      <th></th>\n",
              "      <th></th>\n",
              "      <th></th>\n",
              "      <th></th>\n",
              "    </tr>\n",
              "  </thead>\n",
              "  <tbody>\n",
              "    <tr>\n",
              "      <th>2001-04-08</th>\n",
              "      <td>16387.0</td>\n",
              "      <td>16690.0</td>\n",
              "      <td>16379.0</td>\n",
              "      <td>16690.0</td>\n",
              "      <td>105522480</td>\n",
              "      <td>6413</td>\n",
              "    </tr>\n",
              "    <tr>\n",
              "      <th>2001-04-10</th>\n",
              "      <td>16495.0</td>\n",
              "      <td>16495.0</td>\n",
              "      <td>16495.0</td>\n",
              "      <td>16495.0</td>\n",
              "      <td>3364980</td>\n",
              "      <td>204</td>\n",
              "    </tr>\n",
              "    <tr>\n",
              "      <th>2001-04-11</th>\n",
              "      <td>16200.0</td>\n",
              "      <td>16200.0</td>\n",
              "      <td>16000.0</td>\n",
              "      <td>16000.0</td>\n",
              "      <td>66762000</td>\n",
              "      <td>4170</td>\n",
              "    </tr>\n",
              "    <tr>\n",
              "      <th>2001-04-14</th>\n",
              "      <td>16000.0</td>\n",
              "      <td>16000.0</td>\n",
              "      <td>15700.0</td>\n",
              "      <td>16000.0</td>\n",
              "      <td>154041834</td>\n",
              "      <td>9654</td>\n",
              "    </tr>\n",
              "    <tr>\n",
              "      <th>2001-04-15</th>\n",
              "      <td>16000.0</td>\n",
              "      <td>16200.0</td>\n",
              "      <td>16000.0</td>\n",
              "      <td>16200.0</td>\n",
              "      <td>50549340</td>\n",
              "      <td>3143</td>\n",
              "    </tr>\n",
              "  </tbody>\n",
              "</table>\n",
              "</div>"
            ],
            "text/plain": [
              "            <FIRST>   <HIGH>    <LOW>  <CLOSE>    <VALUE>  <VOL>\n",
              "datetime                                                        \n",
              "2001-04-08  16387.0  16690.0  16379.0  16690.0  105522480   6413\n",
              "2001-04-10  16495.0  16495.0  16495.0  16495.0    3364980    204\n",
              "2001-04-11  16200.0  16200.0  16000.0  16000.0   66762000   4170\n",
              "2001-04-14  16000.0  16000.0  15700.0  16000.0  154041834   9654\n",
              "2001-04-15  16000.0  16200.0  16000.0  16200.0   50549340   3143"
            ]
          },
          "metadata": {
            "tags": []
          },
          "execution_count": 5
        }
      ]
    },
    {
      "cell_type": "code",
      "metadata": {
        "id": "4brJlpN6ber7",
        "outputId": "479fc761-f756-4f41-dade-989fe9db2a37",
        "colab": {
          "base_uri": "https://localhost:8080/"
        }
      },
      "source": [
        "df_new.dtypes"
      ],
      "execution_count": 6,
      "outputs": [
        {
          "output_type": "execute_result",
          "data": {
            "text/plain": [
              "<FIRST>    float64\n",
              "<HIGH>     float64\n",
              "<LOW>      float64\n",
              "<CLOSE>    float64\n",
              "<VALUE>      int64\n",
              "<VOL>        int64\n",
              "dtype: object"
            ]
          },
          "metadata": {
            "tags": []
          },
          "execution_count": 6
        }
      ]
    },
    {
      "cell_type": "code",
      "metadata": {
        "id": "hLz42nBYber_",
        "outputId": "f73dd44f-7da7-41b2-e9f9-c7b4f325efa2",
        "colab": {
          "base_uri": "https://localhost:8080/"
        }
      },
      "source": [
        "df_new.shape"
      ],
      "execution_count": 7,
      "outputs": [
        {
          "output_type": "execute_result",
          "data": {
            "text/plain": [
              "(3889, 6)"
            ]
          },
          "metadata": {
            "tags": []
          },
          "execution_count": 7
        }
      ]
    },
    {
      "cell_type": "code",
      "metadata": {
        "id": "xJ3sHKmobesD",
        "outputId": "94a8e80c-1e0c-49e6-ad61-ac91d7a683a2",
        "colab": {
          "base_uri": "https://localhost:8080/"
        }
      },
      "source": [
        "df_new.describe"
      ],
      "execution_count": 8,
      "outputs": [
        {
          "output_type": "execute_result",
          "data": {
            "text/plain": [
              "<bound method NDFrame.describe of             <FIRST>   <HIGH>    <LOW>  <CLOSE>        <VALUE>      <VOL>\n",
              "datetime                                                                \n",
              "2001-04-08  16387.0  16690.0  16379.0  16690.0      105522480       6413\n",
              "2001-04-10  16495.0  16495.0  16495.0  16495.0        3364980        204\n",
              "2001-04-11  16200.0  16200.0  16000.0  16000.0       66762000       4170\n",
              "2001-04-14  16000.0  16000.0  15700.0  16000.0      154041834       9654\n",
              "2001-04-15  16000.0  16200.0  16000.0  16200.0       50549340       3143\n",
              "...             ...      ...      ...      ...            ...        ...\n",
              "2020-05-20  11149.0  11149.0  11149.0  11149.0    97550739770    8749730\n",
              "2020-05-23  11680.0  11706.0  11150.0  11643.0  1613620738967  138593153\n",
              "2020-05-30  11061.0  11061.0  11061.0  11061.0   148747841316   13447956\n",
              "2020-05-31  10508.0  10508.0  10508.0  10727.0    27225387360    2590920\n",
              "2020-06-01  10191.0  10191.0  10191.0  10242.0    39620600373    3887803\n",
              "\n",
              "[3889 rows x 6 columns]>"
            ]
          },
          "metadata": {
            "tags": []
          },
          "execution_count": 8
        }
      ]
    },
    {
      "cell_type": "code",
      "metadata": {
        "id": "kvkvBjzCbesH",
        "outputId": "f791071b-65db-499b-f22e-69011df74a11",
        "colab": {
          "base_uri": "https://localhost:8080/"
        }
      },
      "source": [
        "#Calculating the change in price\n",
        "df_new['change_in_price'] = df_new['<CLOSE>'].diff()"
      ],
      "execution_count": 9,
      "outputs": [
        {
          "output_type": "stream",
          "text": [
            "/usr/local/lib/python3.6/dist-packages/ipykernel_launcher.py:2: SettingWithCopyWarning: \n",
            "A value is trying to be set on a copy of a slice from a DataFrame.\n",
            "Try using .loc[row_indexer,col_indexer] = value instead\n",
            "\n",
            "See the caveats in the documentation: https://pandas.pydata.org/pandas-docs/stable/user_guide/indexing.html#returning-a-view-versus-a-copy\n",
            "  \n"
          ],
          "name": "stderr"
        }
      ]
    },
    {
      "cell_type": "markdown",
      "metadata": {
        "id": "1vZkESASbesL"
      },
      "source": [
        "## Calculating the technical indicators"
      ]
    },
    {
      "cell_type": "code",
      "metadata": {
        "id": "iqjLW__ObesM",
        "outputId": "716b01f2-299a-4ba2-ddd8-3a4e2d2f8365",
        "colab": {
          "base_uri": "https://localhost:8080/",
          "height": 225
        }
      },
      "source": [
        "#1. Simple n day moving average\n",
        "def moving_average(df, n):\n",
        "    \"\"\"Calculate the moving average for the given data.\n",
        "    :param df: pandas.DataFrame\n",
        "    :param n:\n",
        "    :return: pandas.DataFrame\n",
        "    \"\"\"\n",
        "    MA = pd.Series(df['<CLOSE>'].rolling(n, min_periods=n).mean(), name='MA_' + str(n))\n",
        "    df = df.join(MA)\n",
        "    return df\n",
        "df_new = moving_average(df_new,10)\n",
        "df_new.tail()"
      ],
      "execution_count": 10,
      "outputs": [
        {
          "output_type": "execute_result",
          "data": {
            "text/html": [
              "<div>\n",
              "<style scoped>\n",
              "    .dataframe tbody tr th:only-of-type {\n",
              "        vertical-align: middle;\n",
              "    }\n",
              "\n",
              "    .dataframe tbody tr th {\n",
              "        vertical-align: top;\n",
              "    }\n",
              "\n",
              "    .dataframe thead th {\n",
              "        text-align: right;\n",
              "    }\n",
              "</style>\n",
              "<table border=\"1\" class=\"dataframe\">\n",
              "  <thead>\n",
              "    <tr style=\"text-align: right;\">\n",
              "      <th></th>\n",
              "      <th>&lt;FIRST&gt;</th>\n",
              "      <th>&lt;HIGH&gt;</th>\n",
              "      <th>&lt;LOW&gt;</th>\n",
              "      <th>&lt;CLOSE&gt;</th>\n",
              "      <th>&lt;VALUE&gt;</th>\n",
              "      <th>&lt;VOL&gt;</th>\n",
              "      <th>change_in_price</th>\n",
              "      <th>MA_10</th>\n",
              "    </tr>\n",
              "    <tr>\n",
              "      <th>datetime</th>\n",
              "      <th></th>\n",
              "      <th></th>\n",
              "      <th></th>\n",
              "      <th></th>\n",
              "      <th></th>\n",
              "      <th></th>\n",
              "      <th></th>\n",
              "      <th></th>\n",
              "    </tr>\n",
              "  </thead>\n",
              "  <tbody>\n",
              "    <tr>\n",
              "      <th>2020-05-20</th>\n",
              "      <td>11149.0</td>\n",
              "      <td>11149.0</td>\n",
              "      <td>11149.0</td>\n",
              "      <td>11149.0</td>\n",
              "      <td>97550739770</td>\n",
              "      <td>8749730</td>\n",
              "      <td>530.0</td>\n",
              "      <td>9420.5</td>\n",
              "    </tr>\n",
              "    <tr>\n",
              "      <th>2020-05-23</th>\n",
              "      <td>11680.0</td>\n",
              "      <td>11706.0</td>\n",
              "      <td>11150.0</td>\n",
              "      <td>11643.0</td>\n",
              "      <td>1613620738967</td>\n",
              "      <td>138593153</td>\n",
              "      <td>494.0</td>\n",
              "      <td>9797.0</td>\n",
              "    </tr>\n",
              "    <tr>\n",
              "      <th>2020-05-30</th>\n",
              "      <td>11061.0</td>\n",
              "      <td>11061.0</td>\n",
              "      <td>11061.0</td>\n",
              "      <td>11061.0</td>\n",
              "      <td>148747841316</td>\n",
              "      <td>13447956</td>\n",
              "      <td>-582.0</td>\n",
              "      <td>10090.2</td>\n",
              "    </tr>\n",
              "    <tr>\n",
              "      <th>2020-05-31</th>\n",
              "      <td>10508.0</td>\n",
              "      <td>10508.0</td>\n",
              "      <td>10508.0</td>\n",
              "      <td>10727.0</td>\n",
              "      <td>27225387360</td>\n",
              "      <td>2590920</td>\n",
              "      <td>-334.0</td>\n",
              "      <td>10314.2</td>\n",
              "    </tr>\n",
              "    <tr>\n",
              "      <th>2020-06-01</th>\n",
              "      <td>10191.0</td>\n",
              "      <td>10191.0</td>\n",
              "      <td>10191.0</td>\n",
              "      <td>10242.0</td>\n",
              "      <td>39620600373</td>\n",
              "      <td>3887803</td>\n",
              "      <td>-485.0</td>\n",
              "      <td>10454.2</td>\n",
              "    </tr>\n",
              "  </tbody>\n",
              "</table>\n",
              "</div>"
            ],
            "text/plain": [
              "            <FIRST>   <HIGH>    <LOW>  ...      <VOL>  change_in_price    MA_10\n",
              "datetime                               ...                                     \n",
              "2020-05-20  11149.0  11149.0  11149.0  ...    8749730            530.0   9420.5\n",
              "2020-05-23  11680.0  11706.0  11150.0  ...  138593153            494.0   9797.0\n",
              "2020-05-30  11061.0  11061.0  11061.0  ...   13447956           -582.0  10090.2\n",
              "2020-05-31  10508.0  10508.0  10508.0  ...    2590920           -334.0  10314.2\n",
              "2020-06-01  10191.0  10191.0  10191.0  ...    3887803           -485.0  10454.2\n",
              "\n",
              "[5 rows x 8 columns]"
            ]
          },
          "metadata": {
            "tags": []
          },
          "execution_count": 10
        }
      ]
    },
    {
      "cell_type": "code",
      "metadata": {
        "id": "080HB4bObesP",
        "outputId": "fa37a61b-2a69-4d7e-a160-05ebd944078c",
        "colab": {
          "base_uri": "https://localhost:8080/",
          "height": 225
        }
      },
      "source": [
        "#2. Weighted Moving Average (WMA)\n",
        "def weighted_moving_average(df, n):\n",
        "    \"\"\"\n",
        "    :param df: pandas.DataFrame\n",
        "    :param n:\n",
        "    :return: pandas.DataFrame\n",
        "    \"\"\"\n",
        "    WMA = pd.Series(df['<CLOSE>'].ewm(span=n, min_periods=n).mean(), name='WMA_' + str(n))\n",
        "    df = df.join(WMA)\n",
        "    return df\n",
        "df_new = weighted_moving_average(df_new,10)\n",
        "df_new.tail()"
      ],
      "execution_count": 11,
      "outputs": [
        {
          "output_type": "execute_result",
          "data": {
            "text/html": [
              "<div>\n",
              "<style scoped>\n",
              "    .dataframe tbody tr th:only-of-type {\n",
              "        vertical-align: middle;\n",
              "    }\n",
              "\n",
              "    .dataframe tbody tr th {\n",
              "        vertical-align: top;\n",
              "    }\n",
              "\n",
              "    .dataframe thead th {\n",
              "        text-align: right;\n",
              "    }\n",
              "</style>\n",
              "<table border=\"1\" class=\"dataframe\">\n",
              "  <thead>\n",
              "    <tr style=\"text-align: right;\">\n",
              "      <th></th>\n",
              "      <th>&lt;FIRST&gt;</th>\n",
              "      <th>&lt;HIGH&gt;</th>\n",
              "      <th>&lt;LOW&gt;</th>\n",
              "      <th>&lt;CLOSE&gt;</th>\n",
              "      <th>&lt;VALUE&gt;</th>\n",
              "      <th>&lt;VOL&gt;</th>\n",
              "      <th>change_in_price</th>\n",
              "      <th>MA_10</th>\n",
              "      <th>WMA_10</th>\n",
              "    </tr>\n",
              "    <tr>\n",
              "      <th>datetime</th>\n",
              "      <th></th>\n",
              "      <th></th>\n",
              "      <th></th>\n",
              "      <th></th>\n",
              "      <th></th>\n",
              "      <th></th>\n",
              "      <th></th>\n",
              "      <th></th>\n",
              "      <th></th>\n",
              "    </tr>\n",
              "  </thead>\n",
              "  <tbody>\n",
              "    <tr>\n",
              "      <th>2020-05-20</th>\n",
              "      <td>11149.0</td>\n",
              "      <td>11149.0</td>\n",
              "      <td>11149.0</td>\n",
              "      <td>11149.0</td>\n",
              "      <td>97550739770</td>\n",
              "      <td>8749730</td>\n",
              "      <td>530.0</td>\n",
              "      <td>9420.5</td>\n",
              "      <td>9512.588423</td>\n",
              "    </tr>\n",
              "    <tr>\n",
              "      <th>2020-05-23</th>\n",
              "      <td>11680.0</td>\n",
              "      <td>11706.0</td>\n",
              "      <td>11150.0</td>\n",
              "      <td>11643.0</td>\n",
              "      <td>1613620738967</td>\n",
              "      <td>138593153</td>\n",
              "      <td>494.0</td>\n",
              "      <td>9797.0</td>\n",
              "      <td>9899.935982</td>\n",
              "    </tr>\n",
              "    <tr>\n",
              "      <th>2020-05-30</th>\n",
              "      <td>11061.0</td>\n",
              "      <td>11061.0</td>\n",
              "      <td>11061.0</td>\n",
              "      <td>11061.0</td>\n",
              "      <td>148747841316</td>\n",
              "      <td>13447956</td>\n",
              "      <td>-582.0</td>\n",
              "      <td>10090.2</td>\n",
              "      <td>10111.038531</td>\n",
              "    </tr>\n",
              "    <tr>\n",
              "      <th>2020-05-31</th>\n",
              "      <td>10508.0</td>\n",
              "      <td>10508.0</td>\n",
              "      <td>10508.0</td>\n",
              "      <td>10727.0</td>\n",
              "      <td>27225387360</td>\n",
              "      <td>2590920</td>\n",
              "      <td>-334.0</td>\n",
              "      <td>10314.2</td>\n",
              "      <td>10223.031525</td>\n",
              "    </tr>\n",
              "    <tr>\n",
              "      <th>2020-06-01</th>\n",
              "      <td>10191.0</td>\n",
              "      <td>10191.0</td>\n",
              "      <td>10191.0</td>\n",
              "      <td>10242.0</td>\n",
              "      <td>39620600373</td>\n",
              "      <td>3887803</td>\n",
              "      <td>-485.0</td>\n",
              "      <td>10454.2</td>\n",
              "      <td>10226.480339</td>\n",
              "    </tr>\n",
              "  </tbody>\n",
              "</table>\n",
              "</div>"
            ],
            "text/plain": [
              "            <FIRST>   <HIGH>    <LOW>  ...  change_in_price    MA_10        WMA_10\n",
              "datetime                               ...                                        \n",
              "2020-05-20  11149.0  11149.0  11149.0  ...            530.0   9420.5   9512.588423\n",
              "2020-05-23  11680.0  11706.0  11150.0  ...            494.0   9797.0   9899.935982\n",
              "2020-05-30  11061.0  11061.0  11061.0  ...           -582.0  10090.2  10111.038531\n",
              "2020-05-31  10508.0  10508.0  10508.0  ...           -334.0  10314.2  10223.031525\n",
              "2020-06-01  10191.0  10191.0  10191.0  ...           -485.0  10454.2  10226.480339\n",
              "\n",
              "[5 rows x 9 columns]"
            ]
          },
          "metadata": {
            "tags": []
          },
          "execution_count": 11
        }
      ]
    },
    {
      "cell_type": "code",
      "metadata": {
        "id": "lTZOxNVrbesS",
        "outputId": "779df6c0-55b3-4328-dcd5-28e7276bfd9a",
        "colab": {
          "base_uri": "https://localhost:8080/",
          "height": 225
        }
      },
      "source": [
        "#3. Momentum\n",
        "def momentum(df, n):\n",
        "    \"\"\"\n",
        "    :param df: pandas.DataFrame\n",
        "    :param n:\n",
        "    :return: pandas.DataFrame\n",
        "    \"\"\"\n",
        "    M = pd.Series(df['<CLOSE>'].diff(n), name='MOM_' + str(n))\n",
        "    df = df.join(M)\n",
        "    return df\n",
        "df_new = momentum(df_new,10)\n",
        "df_new.tail()"
      ],
      "execution_count": 12,
      "outputs": [
        {
          "output_type": "execute_result",
          "data": {
            "text/html": [
              "<div>\n",
              "<style scoped>\n",
              "    .dataframe tbody tr th:only-of-type {\n",
              "        vertical-align: middle;\n",
              "    }\n",
              "\n",
              "    .dataframe tbody tr th {\n",
              "        vertical-align: top;\n",
              "    }\n",
              "\n",
              "    .dataframe thead th {\n",
              "        text-align: right;\n",
              "    }\n",
              "</style>\n",
              "<table border=\"1\" class=\"dataframe\">\n",
              "  <thead>\n",
              "    <tr style=\"text-align: right;\">\n",
              "      <th></th>\n",
              "      <th>&lt;FIRST&gt;</th>\n",
              "      <th>&lt;HIGH&gt;</th>\n",
              "      <th>&lt;LOW&gt;</th>\n",
              "      <th>&lt;CLOSE&gt;</th>\n",
              "      <th>&lt;VALUE&gt;</th>\n",
              "      <th>&lt;VOL&gt;</th>\n",
              "      <th>change_in_price</th>\n",
              "      <th>MA_10</th>\n",
              "      <th>WMA_10</th>\n",
              "      <th>MOM_10</th>\n",
              "    </tr>\n",
              "    <tr>\n",
              "      <th>datetime</th>\n",
              "      <th></th>\n",
              "      <th></th>\n",
              "      <th></th>\n",
              "      <th></th>\n",
              "      <th></th>\n",
              "      <th></th>\n",
              "      <th></th>\n",
              "      <th></th>\n",
              "      <th></th>\n",
              "      <th></th>\n",
              "    </tr>\n",
              "  </thead>\n",
              "  <tbody>\n",
              "    <tr>\n",
              "      <th>2020-05-20</th>\n",
              "      <td>11149.0</td>\n",
              "      <td>11149.0</td>\n",
              "      <td>11149.0</td>\n",
              "      <td>11149.0</td>\n",
              "      <td>97550739770</td>\n",
              "      <td>8749730</td>\n",
              "      <td>530.0</td>\n",
              "      <td>9420.5</td>\n",
              "      <td>9512.588423</td>\n",
              "      <td>3534.0</td>\n",
              "    </tr>\n",
              "    <tr>\n",
              "      <th>2020-05-23</th>\n",
              "      <td>11680.0</td>\n",
              "      <td>11706.0</td>\n",
              "      <td>11150.0</td>\n",
              "      <td>11643.0</td>\n",
              "      <td>1613620738967</td>\n",
              "      <td>138593153</td>\n",
              "      <td>494.0</td>\n",
              "      <td>9797.0</td>\n",
              "      <td>9899.935982</td>\n",
              "      <td>3765.0</td>\n",
              "    </tr>\n",
              "    <tr>\n",
              "      <th>2020-05-30</th>\n",
              "      <td>11061.0</td>\n",
              "      <td>11061.0</td>\n",
              "      <td>11061.0</td>\n",
              "      <td>11061.0</td>\n",
              "      <td>148747841316</td>\n",
              "      <td>13447956</td>\n",
              "      <td>-582.0</td>\n",
              "      <td>10090.2</td>\n",
              "      <td>10111.038531</td>\n",
              "      <td>2932.0</td>\n",
              "    </tr>\n",
              "    <tr>\n",
              "      <th>2020-05-31</th>\n",
              "      <td>10508.0</td>\n",
              "      <td>10508.0</td>\n",
              "      <td>10508.0</td>\n",
              "      <td>10727.0</td>\n",
              "      <td>27225387360</td>\n",
              "      <td>2590920</td>\n",
              "      <td>-334.0</td>\n",
              "      <td>10314.2</td>\n",
              "      <td>10223.031525</td>\n",
              "      <td>2240.0</td>\n",
              "    </tr>\n",
              "    <tr>\n",
              "      <th>2020-06-01</th>\n",
              "      <td>10191.0</td>\n",
              "      <td>10191.0</td>\n",
              "      <td>10191.0</td>\n",
              "      <td>10242.0</td>\n",
              "      <td>39620600373</td>\n",
              "      <td>3887803</td>\n",
              "      <td>-485.0</td>\n",
              "      <td>10454.2</td>\n",
              "      <td>10226.480339</td>\n",
              "      <td>1400.0</td>\n",
              "    </tr>\n",
              "  </tbody>\n",
              "</table>\n",
              "</div>"
            ],
            "text/plain": [
              "            <FIRST>   <HIGH>    <LOW>  ...    MA_10        WMA_10  MOM_10\n",
              "datetime                               ...                               \n",
              "2020-05-20  11149.0  11149.0  11149.0  ...   9420.5   9512.588423  3534.0\n",
              "2020-05-23  11680.0  11706.0  11150.0  ...   9797.0   9899.935982  3765.0\n",
              "2020-05-30  11061.0  11061.0  11061.0  ...  10090.2  10111.038531  2932.0\n",
              "2020-05-31  10508.0  10508.0  10508.0  ...  10314.2  10223.031525  2240.0\n",
              "2020-06-01  10191.0  10191.0  10191.0  ...  10454.2  10226.480339  1400.0\n",
              "\n",
              "[5 rows x 10 columns]"
            ]
          },
          "metadata": {
            "tags": []
          },
          "execution_count": 12
        }
      ]
    },
    {
      "cell_type": "code",
      "metadata": {
        "id": "9WasGdiqbesV",
        "outputId": "1bff4f31-f82e-4ebe-dd4a-630b6db6af10",
        "colab": {
          "base_uri": "https://localhost:8080/",
          "height": 225
        }
      },
      "source": [
        "#4. Stochastic K%\n",
        "def stochastic_oscillator_k(df):\n",
        "    \"\"\"Calculate stochastic oscillator %K for given data.\n",
        "    :param df: pandas.DataFrame\n",
        "    :return: pandas.DataFrame\n",
        "    \"\"\"\n",
        "    SOk = pd.Series((df['<CLOSE>'] - df['<LOW>']) / (df['<HIGH>'] - df['<LOW>']), name='SO_k')\n",
        "    df = df.join(SOk)\n",
        "    return df\n",
        "df_new = stochastic_oscillator_k(df_new)\n",
        "df_new.tail()"
      ],
      "execution_count": 13,
      "outputs": [
        {
          "output_type": "execute_result",
          "data": {
            "text/html": [
              "<div>\n",
              "<style scoped>\n",
              "    .dataframe tbody tr th:only-of-type {\n",
              "        vertical-align: middle;\n",
              "    }\n",
              "\n",
              "    .dataframe tbody tr th {\n",
              "        vertical-align: top;\n",
              "    }\n",
              "\n",
              "    .dataframe thead th {\n",
              "        text-align: right;\n",
              "    }\n",
              "</style>\n",
              "<table border=\"1\" class=\"dataframe\">\n",
              "  <thead>\n",
              "    <tr style=\"text-align: right;\">\n",
              "      <th></th>\n",
              "      <th>&lt;FIRST&gt;</th>\n",
              "      <th>&lt;HIGH&gt;</th>\n",
              "      <th>&lt;LOW&gt;</th>\n",
              "      <th>&lt;CLOSE&gt;</th>\n",
              "      <th>&lt;VALUE&gt;</th>\n",
              "      <th>&lt;VOL&gt;</th>\n",
              "      <th>change_in_price</th>\n",
              "      <th>MA_10</th>\n",
              "      <th>WMA_10</th>\n",
              "      <th>MOM_10</th>\n",
              "      <th>SO_k</th>\n",
              "    </tr>\n",
              "    <tr>\n",
              "      <th>datetime</th>\n",
              "      <th></th>\n",
              "      <th></th>\n",
              "      <th></th>\n",
              "      <th></th>\n",
              "      <th></th>\n",
              "      <th></th>\n",
              "      <th></th>\n",
              "      <th></th>\n",
              "      <th></th>\n",
              "      <th></th>\n",
              "      <th></th>\n",
              "    </tr>\n",
              "  </thead>\n",
              "  <tbody>\n",
              "    <tr>\n",
              "      <th>2020-05-20</th>\n",
              "      <td>11149.0</td>\n",
              "      <td>11149.0</td>\n",
              "      <td>11149.0</td>\n",
              "      <td>11149.0</td>\n",
              "      <td>97550739770</td>\n",
              "      <td>8749730</td>\n",
              "      <td>530.0</td>\n",
              "      <td>9420.5</td>\n",
              "      <td>9512.588423</td>\n",
              "      <td>3534.0</td>\n",
              "      <td>NaN</td>\n",
              "    </tr>\n",
              "    <tr>\n",
              "      <th>2020-05-23</th>\n",
              "      <td>11680.0</td>\n",
              "      <td>11706.0</td>\n",
              "      <td>11150.0</td>\n",
              "      <td>11643.0</td>\n",
              "      <td>1613620738967</td>\n",
              "      <td>138593153</td>\n",
              "      <td>494.0</td>\n",
              "      <td>9797.0</td>\n",
              "      <td>9899.935982</td>\n",
              "      <td>3765.0</td>\n",
              "      <td>0.886691</td>\n",
              "    </tr>\n",
              "    <tr>\n",
              "      <th>2020-05-30</th>\n",
              "      <td>11061.0</td>\n",
              "      <td>11061.0</td>\n",
              "      <td>11061.0</td>\n",
              "      <td>11061.0</td>\n",
              "      <td>148747841316</td>\n",
              "      <td>13447956</td>\n",
              "      <td>-582.0</td>\n",
              "      <td>10090.2</td>\n",
              "      <td>10111.038531</td>\n",
              "      <td>2932.0</td>\n",
              "      <td>NaN</td>\n",
              "    </tr>\n",
              "    <tr>\n",
              "      <th>2020-05-31</th>\n",
              "      <td>10508.0</td>\n",
              "      <td>10508.0</td>\n",
              "      <td>10508.0</td>\n",
              "      <td>10727.0</td>\n",
              "      <td>27225387360</td>\n",
              "      <td>2590920</td>\n",
              "      <td>-334.0</td>\n",
              "      <td>10314.2</td>\n",
              "      <td>10223.031525</td>\n",
              "      <td>2240.0</td>\n",
              "      <td>inf</td>\n",
              "    </tr>\n",
              "    <tr>\n",
              "      <th>2020-06-01</th>\n",
              "      <td>10191.0</td>\n",
              "      <td>10191.0</td>\n",
              "      <td>10191.0</td>\n",
              "      <td>10242.0</td>\n",
              "      <td>39620600373</td>\n",
              "      <td>3887803</td>\n",
              "      <td>-485.0</td>\n",
              "      <td>10454.2</td>\n",
              "      <td>10226.480339</td>\n",
              "      <td>1400.0</td>\n",
              "      <td>inf</td>\n",
              "    </tr>\n",
              "  </tbody>\n",
              "</table>\n",
              "</div>"
            ],
            "text/plain": [
              "            <FIRST>   <HIGH>    <LOW>  ...        WMA_10  MOM_10      SO_k\n",
              "datetime                               ...                                \n",
              "2020-05-20  11149.0  11149.0  11149.0  ...   9512.588423  3534.0       NaN\n",
              "2020-05-23  11680.0  11706.0  11150.0  ...   9899.935982  3765.0  0.886691\n",
              "2020-05-30  11061.0  11061.0  11061.0  ...  10111.038531  2932.0       NaN\n",
              "2020-05-31  10508.0  10508.0  10508.0  ...  10223.031525  2240.0       inf\n",
              "2020-06-01  10191.0  10191.0  10191.0  ...  10226.480339  1400.0       inf\n",
              "\n",
              "[5 rows x 11 columns]"
            ]
          },
          "metadata": {
            "tags": []
          },
          "execution_count": 13
        }
      ]
    },
    {
      "cell_type": "code",
      "metadata": {
        "id": "d5u31Lq2besX",
        "outputId": "315232fd-cca5-4c1e-cc1d-302039f8b6ff",
        "colab": {
          "base_uri": "https://localhost:8080/",
          "height": 225
        }
      },
      "source": [
        "#5. Stochastic D%\n",
        "def stochastic_oscillator_d(df, n):\n",
        "    \"\"\"Calculate stochastic oscillator %D for given data.\n",
        "    :param df: pandas.DataFrame\n",
        "    :param n:\n",
        "    :return: pandas.DataFrame\n",
        "    \"\"\"\n",
        "    SOk = pd.Series((df['<CLOSE>'] - df['<LOW>']) / (df['<HIGH>'] - df['<LOW>']), name='SO%k')\n",
        "    SOd = pd.Series(SOk.ewm(span=n, min_periods=n).mean(), name='SO_' + str(n))\n",
        "    df = df.join(SOd)\n",
        "    return df\n",
        "df_new = stochastic_oscillator_d(df_new,10)\n",
        "df_new.tail()"
      ],
      "execution_count": 14,
      "outputs": [
        {
          "output_type": "execute_result",
          "data": {
            "text/html": [
              "<div>\n",
              "<style scoped>\n",
              "    .dataframe tbody tr th:only-of-type {\n",
              "        vertical-align: middle;\n",
              "    }\n",
              "\n",
              "    .dataframe tbody tr th {\n",
              "        vertical-align: top;\n",
              "    }\n",
              "\n",
              "    .dataframe thead th {\n",
              "        text-align: right;\n",
              "    }\n",
              "</style>\n",
              "<table border=\"1\" class=\"dataframe\">\n",
              "  <thead>\n",
              "    <tr style=\"text-align: right;\">\n",
              "      <th></th>\n",
              "      <th>&lt;FIRST&gt;</th>\n",
              "      <th>&lt;HIGH&gt;</th>\n",
              "      <th>&lt;LOW&gt;</th>\n",
              "      <th>&lt;CLOSE&gt;</th>\n",
              "      <th>&lt;VALUE&gt;</th>\n",
              "      <th>&lt;VOL&gt;</th>\n",
              "      <th>change_in_price</th>\n",
              "      <th>MA_10</th>\n",
              "      <th>WMA_10</th>\n",
              "      <th>MOM_10</th>\n",
              "      <th>SO_k</th>\n",
              "      <th>SO_10</th>\n",
              "    </tr>\n",
              "    <tr>\n",
              "      <th>datetime</th>\n",
              "      <th></th>\n",
              "      <th></th>\n",
              "      <th></th>\n",
              "      <th></th>\n",
              "      <th></th>\n",
              "      <th></th>\n",
              "      <th></th>\n",
              "      <th></th>\n",
              "      <th></th>\n",
              "      <th></th>\n",
              "      <th></th>\n",
              "      <th></th>\n",
              "    </tr>\n",
              "  </thead>\n",
              "  <tbody>\n",
              "    <tr>\n",
              "      <th>2020-05-20</th>\n",
              "      <td>11149.0</td>\n",
              "      <td>11149.0</td>\n",
              "      <td>11149.0</td>\n",
              "      <td>11149.0</td>\n",
              "      <td>97550739770</td>\n",
              "      <td>8749730</td>\n",
              "      <td>530.0</td>\n",
              "      <td>9420.5</td>\n",
              "      <td>9512.588423</td>\n",
              "      <td>3534.0</td>\n",
              "      <td>NaN</td>\n",
              "      <td>0.781149</td>\n",
              "    </tr>\n",
              "    <tr>\n",
              "      <th>2020-05-23</th>\n",
              "      <td>11680.0</td>\n",
              "      <td>11706.0</td>\n",
              "      <td>11150.0</td>\n",
              "      <td>11643.0</td>\n",
              "      <td>1613620738967</td>\n",
              "      <td>138593153</td>\n",
              "      <td>494.0</td>\n",
              "      <td>9797.0</td>\n",
              "      <td>9899.935982</td>\n",
              "      <td>3765.0</td>\n",
              "      <td>0.886691</td>\n",
              "      <td>0.827007</td>\n",
              "    </tr>\n",
              "    <tr>\n",
              "      <th>2020-05-30</th>\n",
              "      <td>11061.0</td>\n",
              "      <td>11061.0</td>\n",
              "      <td>11061.0</td>\n",
              "      <td>11061.0</td>\n",
              "      <td>148747841316</td>\n",
              "      <td>13447956</td>\n",
              "      <td>-582.0</td>\n",
              "      <td>10090.2</td>\n",
              "      <td>10111.038531</td>\n",
              "      <td>2932.0</td>\n",
              "      <td>NaN</td>\n",
              "      <td>0.827007</td>\n",
              "    </tr>\n",
              "    <tr>\n",
              "      <th>2020-05-31</th>\n",
              "      <td>10508.0</td>\n",
              "      <td>10508.0</td>\n",
              "      <td>10508.0</td>\n",
              "      <td>10727.0</td>\n",
              "      <td>27225387360</td>\n",
              "      <td>2590920</td>\n",
              "      <td>-334.0</td>\n",
              "      <td>10314.2</td>\n",
              "      <td>10223.031525</td>\n",
              "      <td>2240.0</td>\n",
              "      <td>inf</td>\n",
              "      <td>0.827007</td>\n",
              "    </tr>\n",
              "    <tr>\n",
              "      <th>2020-06-01</th>\n",
              "      <td>10191.0</td>\n",
              "      <td>10191.0</td>\n",
              "      <td>10191.0</td>\n",
              "      <td>10242.0</td>\n",
              "      <td>39620600373</td>\n",
              "      <td>3887803</td>\n",
              "      <td>-485.0</td>\n",
              "      <td>10454.2</td>\n",
              "      <td>10226.480339</td>\n",
              "      <td>1400.0</td>\n",
              "      <td>inf</td>\n",
              "      <td>0.827007</td>\n",
              "    </tr>\n",
              "  </tbody>\n",
              "</table>\n",
              "</div>"
            ],
            "text/plain": [
              "            <FIRST>   <HIGH>    <LOW>  ...  MOM_10      SO_k     SO_10\n",
              "datetime                               ...                            \n",
              "2020-05-20  11149.0  11149.0  11149.0  ...  3534.0       NaN  0.781149\n",
              "2020-05-23  11680.0  11706.0  11150.0  ...  3765.0  0.886691  0.827007\n",
              "2020-05-30  11061.0  11061.0  11061.0  ...  2932.0       NaN  0.827007\n",
              "2020-05-31  10508.0  10508.0  10508.0  ...  2240.0       inf  0.827007\n",
              "2020-06-01  10191.0  10191.0  10191.0  ...  1400.0       inf  0.827007\n",
              "\n",
              "[5 rows x 12 columns]"
            ]
          },
          "metadata": {
            "tags": []
          },
          "execution_count": 14
        }
      ]
    },
    {
      "cell_type": "code",
      "metadata": {
        "id": "oki_RUaObesb",
        "outputId": "94a86df7-0830-42cc-88fa-96a0b192cf9b",
        "colab": {
          "base_uri": "https://localhost:8080/",
          "height": 137
        }
      },
      "source": [
        "#6. Relative Strength Index\n",
        "#Error\n",
        "\"\"\"\n",
        "def relative_strength_index(df, n):\n",
        "    Calculate Relative Strength Index(RSI) for given data.\n",
        "    :param df: pandas.DataFrame\n",
        "    :param n:\n",
        "    :return: pandas.DataFrame\n",
        "    i = df.index[0]\n",
        "    UpI = [0]\n",
        "    DoI = [0]\n",
        "    while i + 1 <= df.index[-1]:\n",
        "        UpMove = float(df.loc[i + 1, 'high']) - float(df.loc[i, 'high'])\n",
        "        DoMove = float(df.loc[i, 'low']) - float(df.loc[i + 1, 'low'])\n",
        "        if UpMove > DoMove and UpMove > 0:\n",
        "            UpD = UpMove\n",
        "        else:\n",
        "            UpD = 0\n",
        "        UpI.append(UpD)\n",
        "        if DoMove > UpMove and DoMove > 0:\n",
        "            DoD = DoMove\n",
        "        else:\n",
        "            DoD = 0\n",
        "        DoI.append(DoD)\n",
        "        i = i + 1\n",
        "    UpI = pd.Series(UpI)\n",
        "\n",
        "    DoI = pd.Series(DoI)\n",
        "    PosDI = pd.Series(UpI.ewm(span=n, min_periods=n).mean())\n",
        "    NegDI = pd.Series(DoI.ewm(span=n, min_periods=n).mean())\n",
        "\n",
        "    # rsi = pd.Series(PosDI / (PosDI + NegDI), name='RSI_' + str(n))\n",
        "    rsi = pd.DataFrame(PosDI / (PosDI + NegDI), columns=['RSI_' + str(n)])\n",
        "    rsi = rsi.set_index(df.index)\n",
        "    df = df.join(rsi)\n",
        "    return df\n",
        "\"\"\""
      ],
      "execution_count": 15,
      "outputs": [
        {
          "output_type": "execute_result",
          "data": {
            "application/vnd.google.colaboratory.intrinsic+json": {
              "type": "string"
            },
            "text/plain": [
              "\"\\ndef relative_strength_index(df, n):\\n    Calculate Relative Strength Index(RSI) for given data.\\n    :param df: pandas.DataFrame\\n    :param n:\\n    :return: pandas.DataFrame\\n    i = df.index[0]\\n    UpI = [0]\\n    DoI = [0]\\n    while i + 1 <= df.index[-1]:\\n        UpMove = float(df.loc[i + 1, 'high']) - float(df.loc[i, 'high'])\\n        DoMove = float(df.loc[i, 'low']) - float(df.loc[i + 1, 'low'])\\n        if UpMove > DoMove and UpMove > 0:\\n            UpD = UpMove\\n        else:\\n            UpD = 0\\n        UpI.append(UpD)\\n        if DoMove > UpMove and DoMove > 0:\\n            DoD = DoMove\\n        else:\\n            DoD = 0\\n        DoI.append(DoD)\\n        i = i + 1\\n    UpI = pd.Series(UpI)\\n\\n    DoI = pd.Series(DoI)\\n    PosDI = pd.Series(UpI.ewm(span=n, min_periods=n).mean())\\n    NegDI = pd.Series(DoI.ewm(span=n, min_periods=n).mean())\\n\\n    # rsi = pd.Series(PosDI / (PosDI + NegDI), name='RSI_' + str(n))\\n    rsi = pd.DataFrame(PosDI / (PosDI + NegDI), columns=['RSI_' + str(n)])\\n    rsi = rsi.set_index(df.index)\\n    df = df.join(rsi)\\n    return df\\n\""
            ]
          },
          "metadata": {
            "tags": []
          },
          "execution_count": 15
        }
      ]
    },
    {
      "cell_type": "code",
      "metadata": {
        "id": "SzBt7Xdobese",
        "outputId": "07e6b4e0-2382-46cf-ba0a-e87cd3f94e5a",
        "colab": {
          "base_uri": "https://localhost:8080/",
          "height": 329
        }
      },
      "source": [
        "#7. Signal\n",
        "def macd(df, n_fast, n_slow):\n",
        "    \"\"\"Calculate MACD, MACD Signal and MACD difference\n",
        "    :param df: pandas.DataFrame\n",
        "    :param n_fast:\n",
        "    :param n_slow:\n",
        "    :return: pandas.DataFrame\n",
        "    \"\"\"\n",
        "    EMAfast = pd.Series(df['<CLOSE>'].ewm(span=n_fast, min_periods=n_slow).mean())\n",
        "    EMAslow = pd.Series(df['<CLOSE>'].ewm(span=n_slow, min_periods=n_slow).mean())\n",
        "    MACD = pd.Series(EMAfast - EMAslow, name='MACD_' + str(n_fast) + '_' + str(n_slow))\n",
        "    MACDsign = pd.Series(MACD.ewm(span=9, min_periods=9).mean(), name='MACDsign_' + str(n_fast) + '_' + str(n_slow))\n",
        "    MACDdiff = pd.Series(MACD - MACDsign, name='MACDdiff_' + str(n_fast) + '_' + str(n_slow))\n",
        "    df = df.join(MACD)\n",
        "    df = df.join(MACDsign)\n",
        "    df = df.join(MACDdiff)\n",
        "    return df\n",
        "df_new = macd(df_new,12,26)\n",
        "df_new.head()"
      ],
      "execution_count": 16,
      "outputs": [
        {
          "output_type": "execute_result",
          "data": {
            "text/html": [
              "<div>\n",
              "<style scoped>\n",
              "    .dataframe tbody tr th:only-of-type {\n",
              "        vertical-align: middle;\n",
              "    }\n",
              "\n",
              "    .dataframe tbody tr th {\n",
              "        vertical-align: top;\n",
              "    }\n",
              "\n",
              "    .dataframe thead th {\n",
              "        text-align: right;\n",
              "    }\n",
              "</style>\n",
              "<table border=\"1\" class=\"dataframe\">\n",
              "  <thead>\n",
              "    <tr style=\"text-align: right;\">\n",
              "      <th></th>\n",
              "      <th>&lt;FIRST&gt;</th>\n",
              "      <th>&lt;HIGH&gt;</th>\n",
              "      <th>&lt;LOW&gt;</th>\n",
              "      <th>&lt;CLOSE&gt;</th>\n",
              "      <th>&lt;VALUE&gt;</th>\n",
              "      <th>&lt;VOL&gt;</th>\n",
              "      <th>change_in_price</th>\n",
              "      <th>MA_10</th>\n",
              "      <th>WMA_10</th>\n",
              "      <th>MOM_10</th>\n",
              "      <th>SO_k</th>\n",
              "      <th>SO_10</th>\n",
              "      <th>MACD_12_26</th>\n",
              "      <th>MACDsign_12_26</th>\n",
              "      <th>MACDdiff_12_26</th>\n",
              "    </tr>\n",
              "    <tr>\n",
              "      <th>datetime</th>\n",
              "      <th></th>\n",
              "      <th></th>\n",
              "      <th></th>\n",
              "      <th></th>\n",
              "      <th></th>\n",
              "      <th></th>\n",
              "      <th></th>\n",
              "      <th></th>\n",
              "      <th></th>\n",
              "      <th></th>\n",
              "      <th></th>\n",
              "      <th></th>\n",
              "      <th></th>\n",
              "      <th></th>\n",
              "      <th></th>\n",
              "    </tr>\n",
              "  </thead>\n",
              "  <tbody>\n",
              "    <tr>\n",
              "      <th>2001-04-08</th>\n",
              "      <td>16387.0</td>\n",
              "      <td>16690.0</td>\n",
              "      <td>16379.0</td>\n",
              "      <td>16690.0</td>\n",
              "      <td>105522480</td>\n",
              "      <td>6413</td>\n",
              "      <td>NaN</td>\n",
              "      <td>NaN</td>\n",
              "      <td>NaN</td>\n",
              "      <td>NaN</td>\n",
              "      <td>1.0</td>\n",
              "      <td>NaN</td>\n",
              "      <td>NaN</td>\n",
              "      <td>NaN</td>\n",
              "      <td>NaN</td>\n",
              "    </tr>\n",
              "    <tr>\n",
              "      <th>2001-04-10</th>\n",
              "      <td>16495.0</td>\n",
              "      <td>16495.0</td>\n",
              "      <td>16495.0</td>\n",
              "      <td>16495.0</td>\n",
              "      <td>3364980</td>\n",
              "      <td>204</td>\n",
              "      <td>-195.0</td>\n",
              "      <td>NaN</td>\n",
              "      <td>NaN</td>\n",
              "      <td>NaN</td>\n",
              "      <td>NaN</td>\n",
              "      <td>NaN</td>\n",
              "      <td>NaN</td>\n",
              "      <td>NaN</td>\n",
              "      <td>NaN</td>\n",
              "    </tr>\n",
              "    <tr>\n",
              "      <th>2001-04-11</th>\n",
              "      <td>16200.0</td>\n",
              "      <td>16200.0</td>\n",
              "      <td>16000.0</td>\n",
              "      <td>16000.0</td>\n",
              "      <td>66762000</td>\n",
              "      <td>4170</td>\n",
              "      <td>-495.0</td>\n",
              "      <td>NaN</td>\n",
              "      <td>NaN</td>\n",
              "      <td>NaN</td>\n",
              "      <td>0.0</td>\n",
              "      <td>NaN</td>\n",
              "      <td>NaN</td>\n",
              "      <td>NaN</td>\n",
              "      <td>NaN</td>\n",
              "    </tr>\n",
              "    <tr>\n",
              "      <th>2001-04-14</th>\n",
              "      <td>16000.0</td>\n",
              "      <td>16000.0</td>\n",
              "      <td>15700.0</td>\n",
              "      <td>16000.0</td>\n",
              "      <td>154041834</td>\n",
              "      <td>9654</td>\n",
              "      <td>0.0</td>\n",
              "      <td>NaN</td>\n",
              "      <td>NaN</td>\n",
              "      <td>NaN</td>\n",
              "      <td>1.0</td>\n",
              "      <td>NaN</td>\n",
              "      <td>NaN</td>\n",
              "      <td>NaN</td>\n",
              "      <td>NaN</td>\n",
              "    </tr>\n",
              "    <tr>\n",
              "      <th>2001-04-15</th>\n",
              "      <td>16000.0</td>\n",
              "      <td>16200.0</td>\n",
              "      <td>16000.0</td>\n",
              "      <td>16200.0</td>\n",
              "      <td>50549340</td>\n",
              "      <td>3143</td>\n",
              "      <td>200.0</td>\n",
              "      <td>NaN</td>\n",
              "      <td>NaN</td>\n",
              "      <td>NaN</td>\n",
              "      <td>1.0</td>\n",
              "      <td>NaN</td>\n",
              "      <td>NaN</td>\n",
              "      <td>NaN</td>\n",
              "      <td>NaN</td>\n",
              "    </tr>\n",
              "  </tbody>\n",
              "</table>\n",
              "</div>"
            ],
            "text/plain": [
              "            <FIRST>   <HIGH>  ...  MACDsign_12_26  MACDdiff_12_26\n",
              "datetime                      ...                                \n",
              "2001-04-08  16387.0  16690.0  ...             NaN             NaN\n",
              "2001-04-10  16495.0  16495.0  ...             NaN             NaN\n",
              "2001-04-11  16200.0  16200.0  ...             NaN             NaN\n",
              "2001-04-14  16000.0  16000.0  ...             NaN             NaN\n",
              "2001-04-15  16000.0  16200.0  ...             NaN             NaN\n",
              "\n",
              "[5 rows x 15 columns]"
            ]
          },
          "metadata": {
            "tags": []
          },
          "execution_count": 16
        }
      ]
    },
    {
      "cell_type": "code",
      "metadata": {
        "id": "cfobRA3dbesh"
      },
      "source": [
        "#8. Larry Williams R%\n",
        "#lEFT"
      ],
      "execution_count": null,
      "outputs": []
    },
    {
      "cell_type": "code",
      "metadata": {
        "id": "tAAH6tYWbesm",
        "outputId": "ad0f94cb-4131-4a29-8ca0-50fe977514f0",
        "colab": {
          "base_uri": "https://localhost:8080/",
          "height": 362
        }
      },
      "source": [
        "#9. Accumulation / Distribution\n",
        "def accumulation_distribution(df, n):\n",
        "    \"\"\"Calculate Accumulation/Distribution for given data.\n",
        "    :param df: pandas.DataFrame\n",
        "    :param n:\n",
        "    :return: pandas.DataFrame\n",
        "    \"\"\"\n",
        "    ad = (2 * df['<CLOSE>'] - df['<HIGH>'] - df['<LOW>']) / (df['<HIGH>'] - df['<LOW>']) * df['<VOL>']\n",
        "    M = ad.diff(n - 1)\n",
        "    N = ad.shift(n - 1)\n",
        "    ROC = M / N\n",
        "    AD = pd.Series(ROC, name='Acc/Dist_ROC_' + str(n))\n",
        "    df = df.join(AD)\n",
        "    return df\n",
        "df_new = accumulation_distribution(df_new,10)\n",
        "df_new.tail()"
      ],
      "execution_count": 17,
      "outputs": [
        {
          "output_type": "stream",
          "text": [
            "/usr/local/lib/python3.6/dist-packages/pandas/core/algorithms.py:1977: RuntimeWarning: invalid value encountered in subtract\n",
            "  out_arr[res_indexer] = arr[res_indexer] - arr[lag_indexer]\n"
          ],
          "name": "stderr"
        },
        {
          "output_type": "execute_result",
          "data": {
            "text/html": [
              "<div>\n",
              "<style scoped>\n",
              "    .dataframe tbody tr th:only-of-type {\n",
              "        vertical-align: middle;\n",
              "    }\n",
              "\n",
              "    .dataframe tbody tr th {\n",
              "        vertical-align: top;\n",
              "    }\n",
              "\n",
              "    .dataframe thead th {\n",
              "        text-align: right;\n",
              "    }\n",
              "</style>\n",
              "<table border=\"1\" class=\"dataframe\">\n",
              "  <thead>\n",
              "    <tr style=\"text-align: right;\">\n",
              "      <th></th>\n",
              "      <th>&lt;FIRST&gt;</th>\n",
              "      <th>&lt;HIGH&gt;</th>\n",
              "      <th>&lt;LOW&gt;</th>\n",
              "      <th>&lt;CLOSE&gt;</th>\n",
              "      <th>&lt;VALUE&gt;</th>\n",
              "      <th>&lt;VOL&gt;</th>\n",
              "      <th>change_in_price</th>\n",
              "      <th>MA_10</th>\n",
              "      <th>WMA_10</th>\n",
              "      <th>MOM_10</th>\n",
              "      <th>SO_k</th>\n",
              "      <th>SO_10</th>\n",
              "      <th>MACD_12_26</th>\n",
              "      <th>MACDsign_12_26</th>\n",
              "      <th>MACDdiff_12_26</th>\n",
              "      <th>Acc/Dist_ROC_10</th>\n",
              "    </tr>\n",
              "    <tr>\n",
              "      <th>datetime</th>\n",
              "      <th></th>\n",
              "      <th></th>\n",
              "      <th></th>\n",
              "      <th></th>\n",
              "      <th></th>\n",
              "      <th></th>\n",
              "      <th></th>\n",
              "      <th></th>\n",
              "      <th></th>\n",
              "      <th></th>\n",
              "      <th></th>\n",
              "      <th></th>\n",
              "      <th></th>\n",
              "      <th></th>\n",
              "      <th></th>\n",
              "      <th></th>\n",
              "    </tr>\n",
              "  </thead>\n",
              "  <tbody>\n",
              "    <tr>\n",
              "      <th>2020-05-20</th>\n",
              "      <td>11149.0</td>\n",
              "      <td>11149.0</td>\n",
              "      <td>11149.0</td>\n",
              "      <td>11149.0</td>\n",
              "      <td>97550739770</td>\n",
              "      <td>8749730</td>\n",
              "      <td>530.0</td>\n",
              "      <td>9420.5</td>\n",
              "      <td>9512.588423</td>\n",
              "      <td>3534.0</td>\n",
              "      <td>NaN</td>\n",
              "      <td>0.781149</td>\n",
              "      <td>1541.307481</td>\n",
              "      <td>1292.388846</td>\n",
              "      <td>248.918635</td>\n",
              "      <td>NaN</td>\n",
              "    </tr>\n",
              "    <tr>\n",
              "      <th>2020-05-23</th>\n",
              "      <td>11680.0</td>\n",
              "      <td>11706.0</td>\n",
              "      <td>11150.0</td>\n",
              "      <td>11643.0</td>\n",
              "      <td>1613620738967</td>\n",
              "      <td>138593153</td>\n",
              "      <td>494.0</td>\n",
              "      <td>9797.0</td>\n",
              "      <td>9899.935982</td>\n",
              "      <td>3765.0</td>\n",
              "      <td>0.886691</td>\n",
              "      <td>0.827007</td>\n",
              "      <td>1620.243747</td>\n",
              "      <td>1357.959826</td>\n",
              "      <td>262.283921</td>\n",
              "      <td>NaN</td>\n",
              "    </tr>\n",
              "    <tr>\n",
              "      <th>2020-05-30</th>\n",
              "      <td>11061.0</td>\n",
              "      <td>11061.0</td>\n",
              "      <td>11061.0</td>\n",
              "      <td>11061.0</td>\n",
              "      <td>148747841316</td>\n",
              "      <td>13447956</td>\n",
              "      <td>-582.0</td>\n",
              "      <td>10090.2</td>\n",
              "      <td>10111.038531</td>\n",
              "      <td>2932.0</td>\n",
              "      <td>NaN</td>\n",
              "      <td>0.827007</td>\n",
              "      <td>1617.196733</td>\n",
              "      <td>1409.807208</td>\n",
              "      <td>207.389526</td>\n",
              "      <td>NaN</td>\n",
              "    </tr>\n",
              "    <tr>\n",
              "      <th>2020-05-31</th>\n",
              "      <td>10508.0</td>\n",
              "      <td>10508.0</td>\n",
              "      <td>10508.0</td>\n",
              "      <td>10727.0</td>\n",
              "      <td>27225387360</td>\n",
              "      <td>2590920</td>\n",
              "      <td>-334.0</td>\n",
              "      <td>10314.2</td>\n",
              "      <td>10223.031525</td>\n",
              "      <td>2240.0</td>\n",
              "      <td>inf</td>\n",
              "      <td>0.827007</td>\n",
              "      <td>1569.736005</td>\n",
              "      <td>1441.792967</td>\n",
              "      <td>127.943038</td>\n",
              "      <td>inf</td>\n",
              "    </tr>\n",
              "    <tr>\n",
              "      <th>2020-06-01</th>\n",
              "      <td>10191.0</td>\n",
              "      <td>10191.0</td>\n",
              "      <td>10191.0</td>\n",
              "      <td>10242.0</td>\n",
              "      <td>39620600373</td>\n",
              "      <td>3887803</td>\n",
              "      <td>-485.0</td>\n",
              "      <td>10454.2</td>\n",
              "      <td>10226.480339</td>\n",
              "      <td>1400.0</td>\n",
              "      <td>inf</td>\n",
              "      <td>0.827007</td>\n",
              "      <td>1475.973485</td>\n",
              "      <td>1448.629071</td>\n",
              "      <td>27.344415</td>\n",
              "      <td>NaN</td>\n",
              "    </tr>\n",
              "  </tbody>\n",
              "</table>\n",
              "</div>"
            ],
            "text/plain": [
              "            <FIRST>   <HIGH>  ...  MACDdiff_12_26  Acc/Dist_ROC_10\n",
              "datetime                      ...                                 \n",
              "2020-05-20  11149.0  11149.0  ...      248.918635              NaN\n",
              "2020-05-23  11680.0  11706.0  ...      262.283921              NaN\n",
              "2020-05-30  11061.0  11061.0  ...      207.389526              NaN\n",
              "2020-05-31  10508.0  10508.0  ...      127.943038              inf\n",
              "2020-06-01  10191.0  10191.0  ...       27.344415              NaN\n",
              "\n",
              "[5 rows x 16 columns]"
            ]
          },
          "metadata": {
            "tags": []
          },
          "execution_count": 17
        }
      ]
    },
    {
      "cell_type": "code",
      "metadata": {
        "id": "XCFLfxtUbesq",
        "outputId": "7a62f3e9-515f-4855-c894-2337e0589997",
        "colab": {
          "base_uri": "https://localhost:8080/",
          "height": 329
        }
      },
      "source": [
        "#10. Commodity Channel Index\n",
        "def commodity_channel_index(df, n):\n",
        "    \"\"\"Calculate Commodity Channel Index for given data.\n",
        "    :param df: pandas.DataFrame\n",
        "    :param n:\n",
        "    :return: pandas.DataFrame\n",
        "    \"\"\"\n",
        "    PP = (df['<HIGH>'] + df['<LOW>'] + df['<CLOSE>']) / 3\n",
        "    CCI = pd.Series((PP - PP.rolling(n, min_periods=n).mean()) / PP.rolling(n, min_periods=n).std(),\n",
        "                    name='CCI_' + str(n))\n",
        "    df = df.join(CCI)\n",
        "    return df\n",
        "df_new = commodity_channel_index(df_new,10)\n",
        "df_new.tail()"
      ],
      "execution_count": 18,
      "outputs": [
        {
          "output_type": "execute_result",
          "data": {
            "text/html": [
              "<div>\n",
              "<style scoped>\n",
              "    .dataframe tbody tr th:only-of-type {\n",
              "        vertical-align: middle;\n",
              "    }\n",
              "\n",
              "    .dataframe tbody tr th {\n",
              "        vertical-align: top;\n",
              "    }\n",
              "\n",
              "    .dataframe thead th {\n",
              "        text-align: right;\n",
              "    }\n",
              "</style>\n",
              "<table border=\"1\" class=\"dataframe\">\n",
              "  <thead>\n",
              "    <tr style=\"text-align: right;\">\n",
              "      <th></th>\n",
              "      <th>&lt;FIRST&gt;</th>\n",
              "      <th>&lt;HIGH&gt;</th>\n",
              "      <th>&lt;LOW&gt;</th>\n",
              "      <th>&lt;CLOSE&gt;</th>\n",
              "      <th>&lt;VALUE&gt;</th>\n",
              "      <th>&lt;VOL&gt;</th>\n",
              "      <th>change_in_price</th>\n",
              "      <th>MA_10</th>\n",
              "      <th>WMA_10</th>\n",
              "      <th>MOM_10</th>\n",
              "      <th>SO_k</th>\n",
              "      <th>SO_10</th>\n",
              "      <th>MACD_12_26</th>\n",
              "      <th>MACDsign_12_26</th>\n",
              "      <th>MACDdiff_12_26</th>\n",
              "      <th>Acc/Dist_ROC_10</th>\n",
              "      <th>CCI_10</th>\n",
              "    </tr>\n",
              "    <tr>\n",
              "      <th>datetime</th>\n",
              "      <th></th>\n",
              "      <th></th>\n",
              "      <th></th>\n",
              "      <th></th>\n",
              "      <th></th>\n",
              "      <th></th>\n",
              "      <th></th>\n",
              "      <th></th>\n",
              "      <th></th>\n",
              "      <th></th>\n",
              "      <th></th>\n",
              "      <th></th>\n",
              "      <th></th>\n",
              "      <th></th>\n",
              "      <th></th>\n",
              "      <th></th>\n",
              "      <th></th>\n",
              "    </tr>\n",
              "  </thead>\n",
              "  <tbody>\n",
              "    <tr>\n",
              "      <th>2020-05-20</th>\n",
              "      <td>11149.0</td>\n",
              "      <td>11149.0</td>\n",
              "      <td>11149.0</td>\n",
              "      <td>11149.0</td>\n",
              "      <td>97550739770</td>\n",
              "      <td>8749730</td>\n",
              "      <td>530.0</td>\n",
              "      <td>9420.5</td>\n",
              "      <td>9512.588423</td>\n",
              "      <td>3534.0</td>\n",
              "      <td>NaN</td>\n",
              "      <td>0.781149</td>\n",
              "      <td>1541.307481</td>\n",
              "      <td>1292.388846</td>\n",
              "      <td>248.918635</td>\n",
              "      <td>NaN</td>\n",
              "      <td>1.591967</td>\n",
              "    </tr>\n",
              "    <tr>\n",
              "      <th>2020-05-23</th>\n",
              "      <td>11680.0</td>\n",
              "      <td>11706.0</td>\n",
              "      <td>11150.0</td>\n",
              "      <td>11643.0</td>\n",
              "      <td>1613620738967</td>\n",
              "      <td>138593153</td>\n",
              "      <td>494.0</td>\n",
              "      <td>9797.0</td>\n",
              "      <td>9899.935982</td>\n",
              "      <td>3765.0</td>\n",
              "      <td>0.886691</td>\n",
              "      <td>0.827007</td>\n",
              "      <td>1620.243747</td>\n",
              "      <td>1357.959826</td>\n",
              "      <td>262.283921</td>\n",
              "      <td>NaN</td>\n",
              "      <td>1.521004</td>\n",
              "    </tr>\n",
              "    <tr>\n",
              "      <th>2020-05-30</th>\n",
              "      <td>11061.0</td>\n",
              "      <td>11061.0</td>\n",
              "      <td>11061.0</td>\n",
              "      <td>11061.0</td>\n",
              "      <td>148747841316</td>\n",
              "      <td>13447956</td>\n",
              "      <td>-582.0</td>\n",
              "      <td>10090.2</td>\n",
              "      <td>10111.038531</td>\n",
              "      <td>2932.0</td>\n",
              "      <td>NaN</td>\n",
              "      <td>0.827007</td>\n",
              "      <td>1617.196733</td>\n",
              "      <td>1409.807208</td>\n",
              "      <td>207.389526</td>\n",
              "      <td>NaN</td>\n",
              "      <td>0.950491</td>\n",
              "    </tr>\n",
              "    <tr>\n",
              "      <th>2020-05-31</th>\n",
              "      <td>10508.0</td>\n",
              "      <td>10508.0</td>\n",
              "      <td>10508.0</td>\n",
              "      <td>10727.0</td>\n",
              "      <td>27225387360</td>\n",
              "      <td>2590920</td>\n",
              "      <td>-334.0</td>\n",
              "      <td>10314.2</td>\n",
              "      <td>10223.031525</td>\n",
              "      <td>2240.0</td>\n",
              "      <td>inf</td>\n",
              "      <td>0.827007</td>\n",
              "      <td>1569.736005</td>\n",
              "      <td>1441.792967</td>\n",
              "      <td>127.943038</td>\n",
              "      <td>inf</td>\n",
              "      <td>0.350360</td>\n",
              "    </tr>\n",
              "    <tr>\n",
              "      <th>2020-06-01</th>\n",
              "      <td>10191.0</td>\n",
              "      <td>10191.0</td>\n",
              "      <td>10191.0</td>\n",
              "      <td>10242.0</td>\n",
              "      <td>39620600373</td>\n",
              "      <td>3887803</td>\n",
              "      <td>-485.0</td>\n",
              "      <td>10454.2</td>\n",
              "      <td>10226.480339</td>\n",
              "      <td>1400.0</td>\n",
              "      <td>inf</td>\n",
              "      <td>0.827007</td>\n",
              "      <td>1475.973485</td>\n",
              "      <td>1448.629071</td>\n",
              "      <td>27.344415</td>\n",
              "      <td>NaN</td>\n",
              "      <td>-0.288717</td>\n",
              "    </tr>\n",
              "  </tbody>\n",
              "</table>\n",
              "</div>"
            ],
            "text/plain": [
              "            <FIRST>   <HIGH>  ...  Acc/Dist_ROC_10    CCI_10\n",
              "datetime                      ...                           \n",
              "2020-05-20  11149.0  11149.0  ...              NaN  1.591967\n",
              "2020-05-23  11680.0  11706.0  ...              NaN  1.521004\n",
              "2020-05-30  11061.0  11061.0  ...              NaN  0.950491\n",
              "2020-05-31  10508.0  10508.0  ...              inf  0.350360\n",
              "2020-06-01  10191.0  10191.0  ...              NaN -0.288717\n",
              "\n",
              "[5 rows x 17 columns]"
            ]
          },
          "metadata": {
            "tags": []
          },
          "execution_count": 18
        }
      ]
    },
    {
      "cell_type": "code",
      "metadata": {
        "id": "HHQkL2Fybesu",
        "outputId": "5cc2b520-9bc1-4160-9163-addadc423a25",
        "colab": {
          "base_uri": "https://localhost:8080/"
        }
      },
      "source": [
        "df_new.mean()"
      ],
      "execution_count": 19,
      "outputs": [
        {
          "output_type": "execute_result",
          "data": {
            "text/plain": [
              "<FIRST>            3.989101e+03\n",
              "<HIGH>             4.037091e+03\n",
              "<LOW>              3.944152e+03\n",
              "<CLOSE>            4.000354e+03\n",
              "<VALUE>            2.164058e+10\n",
              "<VOL>              1.349677e+07\n",
              "change_in_price   -1.658436e+00\n",
              "MA_10              3.977932e+03\n",
              "WMA_10             3.978448e+03\n",
              "MOM_10            -1.667698e+01\n",
              "SO_k                        NaN\n",
              "SO_10              5.221624e-01\n",
              "MACD_12_26        -1.573275e+01\n",
              "MACDsign_12_26    -1.712997e+01\n",
              "MACDdiff_12_26     1.426747e+00\n",
              "Acc/Dist_ROC_10             NaN\n",
              "CCI_10            -5.582350e-02\n",
              "dtype: float64"
            ]
          },
          "metadata": {
            "tags": []
          },
          "execution_count": 19
        }
      ]
    },
    {
      "cell_type": "code",
      "metadata": {
        "id": "mSwQUUeKbesx",
        "outputId": "b338648b-11b8-4a21-a6e1-9864f2b894f7",
        "colab": {
          "base_uri": "https://localhost:8080/"
        }
      },
      "source": [
        "df_new.min()"
      ],
      "execution_count": 20,
      "outputs": [
        {
          "output_type": "execute_result",
          "data": {
            "text/plain": [
              "<FIRST>            5.200000e+02\n",
              "<HIGH>             5.300000e+02\n",
              "<LOW>              5.180000e+02\n",
              "<CLOSE>            5.250000e+02\n",
              "<VALUE>            6.986000e+04\n",
              "<VOL>              2.000000e+01\n",
              "change_in_price   -9.630000e+03\n",
              "MA_10              5.415000e+02\n",
              "WMA_10             5.424431e+02\n",
              "MOM_10            -1.076600e+04\n",
              "SO_k                       -inf\n",
              "SO_10             -8.121225e+00\n",
              "MACD_12_26        -2.694353e+03\n",
              "MACDsign_12_26    -2.322452e+03\n",
              "MACDdiff_12_26    -1.043022e+03\n",
              "Acc/Dist_ROC_10            -inf\n",
              "CCI_10            -2.846050e+00\n",
              "dtype: float64"
            ]
          },
          "metadata": {
            "tags": []
          },
          "execution_count": 20
        }
      ]
    },
    {
      "cell_type": "code",
      "metadata": {
        "id": "mMVVklQPbes1",
        "outputId": "1015da41-e6ad-470b-b7e8-84bc809c5064",
        "colab": {
          "base_uri": "https://localhost:8080/"
        }
      },
      "source": [
        "df_new.max()"
      ],
      "execution_count": 21,
      "outputs": [
        {
          "output_type": "execute_result",
          "data": {
            "text/plain": [
              "<FIRST>            2.661500e+04\n",
              "<HIGH>             2.661500e+04\n",
              "<LOW>              2.661500e+04\n",
              "<CLOSE>            2.661500e+04\n",
              "<VALUE>            2.645561e+12\n",
              "<VOL>              3.330094e+08\n",
              "change_in_price    1.169700e+04\n",
              "MA_10              2.321330e+04\n",
              "WMA_10             2.260713e+04\n",
              "MOM_10             1.511900e+04\n",
              "SO_k                        inf\n",
              "SO_10              1.027080e+00\n",
              "MACD_12_26         4.497310e+03\n",
              "MACDsign_12_26     3.896289e+03\n",
              "MACDdiff_12_26     1.509492e+03\n",
              "Acc/Dist_ROC_10             inf\n",
              "CCI_10             2.840698e+00\n",
              "dtype: float64"
            ]
          },
          "metadata": {
            "tags": []
          },
          "execution_count": 21
        }
      ]
    },
    {
      "cell_type": "code",
      "metadata": {
        "id": "uNTpjP7Xbes4",
        "outputId": "c41487c5-201e-437c-de2b-2bca5f47aac9",
        "colab": {
          "base_uri": "https://localhost:8080/"
        }
      },
      "source": [
        "df_new.std()"
      ],
      "execution_count": 22,
      "outputs": [
        {
          "output_type": "execute_result",
          "data": {
            "text/plain": [
              "<FIRST>            4.811431e+03\n",
              "<HIGH>             4.866774e+03\n",
              "<LOW>              4.765253e+03\n",
              "<CLOSE>            4.836308e+03\n",
              "<VALUE>            8.250127e+10\n",
              "<VOL>              2.685984e+07\n",
              "change_in_price    3.469299e+02\n",
              "MA_10              4.794900e+03\n",
              "WMA_10             4.783739e+03\n",
              "MOM_10             1.171496e+03\n",
              "SO_k                        NaN\n",
              "SO_10              3.211372e-01\n",
              "MACD_12_26         3.903220e+02\n",
              "MACDsign_12_26     3.603874e+02\n",
              "MACDdiff_12_26     1.280792e+02\n",
              "Acc/Dist_ROC_10             NaN\n",
              "CCI_10             1.260382e+00\n",
              "dtype: float64"
            ]
          },
          "metadata": {
            "tags": []
          },
          "execution_count": 22
        }
      ]
    },
    {
      "cell_type": "markdown",
      "metadata": {
        "id": "vfZGT9zFbes9"
      },
      "source": [
        "## Normalizing Data"
      ]
    },
    {
      "cell_type": "code",
      "metadata": {
        "id": "8tYyjDyjbes-",
        "outputId": "896ca3b3-d7dc-409a-c749-f63a0eda6d41",
        "colab": {
          "base_uri": "https://localhost:8080/",
          "height": 329
        }
      },
      "source": [
        "data = (df_new - df_new.mean()) / (df_new.max() - df_new.min())\n",
        "data.tail()"
      ],
      "execution_count": 23,
      "outputs": [
        {
          "output_type": "execute_result",
          "data": {
            "text/html": [
              "<div>\n",
              "<style scoped>\n",
              "    .dataframe tbody tr th:only-of-type {\n",
              "        vertical-align: middle;\n",
              "    }\n",
              "\n",
              "    .dataframe tbody tr th {\n",
              "        vertical-align: top;\n",
              "    }\n",
              "\n",
              "    .dataframe thead th {\n",
              "        text-align: right;\n",
              "    }\n",
              "</style>\n",
              "<table border=\"1\" class=\"dataframe\">\n",
              "  <thead>\n",
              "    <tr style=\"text-align: right;\">\n",
              "      <th></th>\n",
              "      <th>&lt;FIRST&gt;</th>\n",
              "      <th>&lt;HIGH&gt;</th>\n",
              "      <th>&lt;LOW&gt;</th>\n",
              "      <th>&lt;CLOSE&gt;</th>\n",
              "      <th>&lt;VALUE&gt;</th>\n",
              "      <th>&lt;VOL&gt;</th>\n",
              "      <th>change_in_price</th>\n",
              "      <th>MA_10</th>\n",
              "      <th>WMA_10</th>\n",
              "      <th>MOM_10</th>\n",
              "      <th>SO_k</th>\n",
              "      <th>SO_10</th>\n",
              "      <th>MACD_12_26</th>\n",
              "      <th>MACDsign_12_26</th>\n",
              "      <th>MACDdiff_12_26</th>\n",
              "      <th>Acc/Dist_ROC_10</th>\n",
              "      <th>CCI_10</th>\n",
              "    </tr>\n",
              "    <tr>\n",
              "      <th>datetime</th>\n",
              "      <th></th>\n",
              "      <th></th>\n",
              "      <th></th>\n",
              "      <th></th>\n",
              "      <th></th>\n",
              "      <th></th>\n",
              "      <th></th>\n",
              "      <th></th>\n",
              "      <th></th>\n",
              "      <th></th>\n",
              "      <th></th>\n",
              "      <th></th>\n",
              "      <th></th>\n",
              "      <th></th>\n",
              "      <th></th>\n",
              "      <th></th>\n",
              "      <th></th>\n",
              "    </tr>\n",
              "  </thead>\n",
              "  <tbody>\n",
              "    <tr>\n",
              "      <th>2020-05-20</th>\n",
              "      <td>0.274378</td>\n",
              "      <td>0.272644</td>\n",
              "      <td>0.276080</td>\n",
              "      <td>0.273999</td>\n",
              "      <td>0.028693</td>\n",
              "      <td>-0.014255</td>\n",
              "      <td>0.024929</td>\n",
              "      <td>0.240059</td>\n",
              "      <td>0.250814</td>\n",
              "      <td>0.137171</td>\n",
              "      <td>NaN</td>\n",
              "      <td>0.028310</td>\n",
              "      <td>0.216506</td>\n",
              "      <td>0.210576</td>\n",
              "      <td>0.096960</td>\n",
              "      <td>NaN</td>\n",
              "      <td>0.289760</td>\n",
              "    </tr>\n",
              "    <tr>\n",
              "      <th>2020-05-23</th>\n",
              "      <td>0.294727</td>\n",
              "      <td>0.293997</td>\n",
              "      <td>0.276118</td>\n",
              "      <td>0.292934</td>\n",
              "      <td>0.601755</td>\n",
              "      <td>0.375654</td>\n",
              "      <td>0.023241</td>\n",
              "      <td>0.256665</td>\n",
              "      <td>0.268369</td>\n",
              "      <td>0.146095</td>\n",
              "      <td>NaN</td>\n",
              "      <td>0.033322</td>\n",
              "      <td>0.227482</td>\n",
              "      <td>0.221120</td>\n",
              "      <td>0.102196</td>\n",
              "      <td>NaN</td>\n",
              "      <td>0.277281</td>\n",
              "    </tr>\n",
              "    <tr>\n",
              "      <th>2020-05-30</th>\n",
              "      <td>0.271006</td>\n",
              "      <td>0.269270</td>\n",
              "      <td>0.272708</td>\n",
              "      <td>0.270627</td>\n",
              "      <td>0.048045</td>\n",
              "      <td>-0.000147</td>\n",
              "      <td>-0.027212</td>\n",
              "      <td>0.269598</td>\n",
              "      <td>0.277937</td>\n",
              "      <td>0.113915</td>\n",
              "      <td>NaN</td>\n",
              "      <td>0.033322</td>\n",
              "      <td>0.227059</td>\n",
              "      <td>0.229458</td>\n",
              "      <td>0.080690</td>\n",
              "      <td>NaN</td>\n",
              "      <td>0.176958</td>\n",
              "    </tr>\n",
              "    <tr>\n",
              "      <th>2020-05-31</th>\n",
              "      <td>0.249814</td>\n",
              "      <td>0.248070</td>\n",
              "      <td>0.251517</td>\n",
              "      <td>0.257825</td>\n",
              "      <td>0.002111</td>\n",
              "      <td>-0.032749</td>\n",
              "      <td>-0.015583</td>\n",
              "      <td>0.279478</td>\n",
              "      <td>0.283013</td>\n",
              "      <td>0.087181</td>\n",
              "      <td>NaN</td>\n",
              "      <td>0.033322</td>\n",
              "      <td>0.220459</td>\n",
              "      <td>0.234601</td>\n",
              "      <td>0.049565</td>\n",
              "      <td>NaN</td>\n",
              "      <td>0.071426</td>\n",
              "    </tr>\n",
              "    <tr>\n",
              "      <th>2020-06-01</th>\n",
              "      <td>0.237666</td>\n",
              "      <td>0.235918</td>\n",
              "      <td>0.239370</td>\n",
              "      <td>0.239235</td>\n",
              "      <td>0.006796</td>\n",
              "      <td>-0.028855</td>\n",
              "      <td>-0.022663</td>\n",
              "      <td>0.285653</td>\n",
              "      <td>0.283169</td>\n",
              "      <td>0.054730</td>\n",
              "      <td>NaN</td>\n",
              "      <td>0.033322</td>\n",
              "      <td>0.207422</td>\n",
              "      <td>0.235700</td>\n",
              "      <td>0.010154</td>\n",
              "      <td>NaN</td>\n",
              "      <td>-0.040954</td>\n",
              "    </tr>\n",
              "  </tbody>\n",
              "</table>\n",
              "</div>"
            ],
            "text/plain": [
              "             <FIRST>    <HIGH>  ...  Acc/Dist_ROC_10    CCI_10\n",
              "datetime                        ...                           \n",
              "2020-05-20  0.274378  0.272644  ...              NaN  0.289760\n",
              "2020-05-23  0.294727  0.293997  ...              NaN  0.277281\n",
              "2020-05-30  0.271006  0.269270  ...              NaN  0.176958\n",
              "2020-05-31  0.249814  0.248070  ...              NaN  0.071426\n",
              "2020-06-01  0.237666  0.235918  ...              NaN -0.040954\n",
              "\n",
              "[5 rows x 17 columns]"
            ]
          },
          "metadata": {
            "tags": []
          },
          "execution_count": 23
        }
      ]
    },
    {
      "cell_type": "code",
      "metadata": {
        "id": "YcwrDXOzbetB",
        "outputId": "a89e57a2-3c4a-40ff-9776-c8bb144f40ac",
        "colab": {
          "base_uri": "https://localhost:8080/",
          "height": 563
        }
      },
      "source": [
        "import seaborn as sns\n",
        "plt.figure(1 , figsize = (17 , 8))\n",
        "cor = sns.heatmap(data.corr(), annot = True)"
      ],
      "execution_count": 24,
      "outputs": [
        {
          "output_type": "display_data",
          "data": {
            "image/png": "[encoded data removed]",
            "text/plain": [
              "<Figure size 1224x576 with 2 Axes>"
            ]
          },
          "metadata": {
            "tags": [],
            "needs_background": "light"
          }
        }
      ]
    },
    {
      "cell_type": "code",
      "metadata": {
        "id": "Nw7aDwgebetG",
        "outputId": "2ca02673-c035-4abb-ab55-733093be725f",
        "colab": {
          "base_uri": "https://localhost:8080/"
        }
      },
      "source": [
        "#To check null values\n",
        "data.isnull().sum()"
      ],
      "execution_count": 25,
      "outputs": [
        {
          "output_type": "execute_result",
          "data": {
            "text/plain": [
              "<FIRST>               0\n",
              "<HIGH>                0\n",
              "<LOW>                 0\n",
              "<CLOSE>               0\n",
              "<VALUE>               0\n",
              "<VOL>                 0\n",
              "change_in_price       1\n",
              "MA_10                 9\n",
              "WMA_10                9\n",
              "MOM_10               10\n",
              "SO_k               3889\n",
              "SO_10                10\n",
              "MACD_12_26           25\n",
              "MACDsign_12_26       33\n",
              "MACDdiff_12_26       33\n",
              "Acc/Dist_ROC_10    3889\n",
              "CCI_10                9\n",
              "dtype: int64"
            ]
          },
          "metadata": {
            "tags": []
          },
          "execution_count": 25
        }
      ]
    },
    {
      "cell_type": "code",
      "metadata": {
        "id": "QN8FItuAbetJ"
      },
      "source": [
        "#Removing the null values\n",
        "data = data.fillna(data.mean())"
      ],
      "execution_count": 26,
      "outputs": []
    },
    {
      "cell_type": "code",
      "metadata": {
        "id": "shbMSgnWbetN"
      },
      "source": [
        "data = data.dropna(how=\"all\",axis=1)"
      ],
      "execution_count": 27,
      "outputs": []
    },
    {
      "cell_type": "code",
      "metadata": {
        "id": "hKHZhcd8betR",
        "outputId": "7badd0ae-4ec0-4edd-d84c-976a0ac72ed1",
        "colab": {
          "base_uri": "https://localhost:8080/",
          "height": 225
        }
      },
      "source": [
        "##Defining the features and labels\n",
        "X = data.iloc[:,7:]\n",
        "X.tail()"
      ],
      "execution_count": 28,
      "outputs": [
        {
          "output_type": "execute_result",
          "data": {
            "text/html": [
              "<div>\n",
              "<style scoped>\n",
              "    .dataframe tbody tr th:only-of-type {\n",
              "        vertical-align: middle;\n",
              "    }\n",
              "\n",
              "    .dataframe tbody tr th {\n",
              "        vertical-align: top;\n",
              "    }\n",
              "\n",
              "    .dataframe thead th {\n",
              "        text-align: right;\n",
              "    }\n",
              "</style>\n",
              "<table border=\"1\" class=\"dataframe\">\n",
              "  <thead>\n",
              "    <tr style=\"text-align: right;\">\n",
              "      <th></th>\n",
              "      <th>MA_10</th>\n",
              "      <th>WMA_10</th>\n",
              "      <th>MOM_10</th>\n",
              "      <th>SO_10</th>\n",
              "      <th>MACD_12_26</th>\n",
              "      <th>MACDsign_12_26</th>\n",
              "      <th>MACDdiff_12_26</th>\n",
              "      <th>CCI_10</th>\n",
              "    </tr>\n",
              "    <tr>\n",
              "      <th>datetime</th>\n",
              "      <th></th>\n",
              "      <th></th>\n",
              "      <th></th>\n",
              "      <th></th>\n",
              "      <th></th>\n",
              "      <th></th>\n",
              "      <th></th>\n",
              "      <th></th>\n",
              "    </tr>\n",
              "  </thead>\n",
              "  <tbody>\n",
              "    <tr>\n",
              "      <th>2020-05-20</th>\n",
              "      <td>0.240059</td>\n",
              "      <td>0.250814</td>\n",
              "      <td>0.137171</td>\n",
              "      <td>0.028310</td>\n",
              "      <td>0.216506</td>\n",
              "      <td>0.210576</td>\n",
              "      <td>0.096960</td>\n",
              "      <td>0.289760</td>\n",
              "    </tr>\n",
              "    <tr>\n",
              "      <th>2020-05-23</th>\n",
              "      <td>0.256665</td>\n",
              "      <td>0.268369</td>\n",
              "      <td>0.146095</td>\n",
              "      <td>0.033322</td>\n",
              "      <td>0.227482</td>\n",
              "      <td>0.221120</td>\n",
              "      <td>0.102196</td>\n",
              "      <td>0.277281</td>\n",
              "    </tr>\n",
              "    <tr>\n",
              "      <th>2020-05-30</th>\n",
              "      <td>0.269598</td>\n",
              "      <td>0.277937</td>\n",
              "      <td>0.113915</td>\n",
              "      <td>0.033322</td>\n",
              "      <td>0.227059</td>\n",
              "      <td>0.229458</td>\n",
              "      <td>0.080690</td>\n",
              "      <td>0.176958</td>\n",
              "    </tr>\n",
              "    <tr>\n",
              "      <th>2020-05-31</th>\n",
              "      <td>0.279478</td>\n",
              "      <td>0.283013</td>\n",
              "      <td>0.087181</td>\n",
              "      <td>0.033322</td>\n",
              "      <td>0.220459</td>\n",
              "      <td>0.234601</td>\n",
              "      <td>0.049565</td>\n",
              "      <td>0.071426</td>\n",
              "    </tr>\n",
              "    <tr>\n",
              "      <th>2020-06-01</th>\n",
              "      <td>0.285653</td>\n",
              "      <td>0.283169</td>\n",
              "      <td>0.054730</td>\n",
              "      <td>0.033322</td>\n",
              "      <td>0.207422</td>\n",
              "      <td>0.235700</td>\n",
              "      <td>0.010154</td>\n",
              "      <td>-0.040954</td>\n",
              "    </tr>\n",
              "  </tbody>\n",
              "</table>\n",
              "</div>"
            ],
            "text/plain": [
              "               MA_10    WMA_10  ...  MACDdiff_12_26    CCI_10\n",
              "datetime                        ...                          \n",
              "2020-05-20  0.240059  0.250814  ...        0.096960  0.289760\n",
              "2020-05-23  0.256665  0.268369  ...        0.102196  0.277281\n",
              "2020-05-30  0.269598  0.277937  ...        0.080690  0.176958\n",
              "2020-05-31  0.279478  0.283013  ...        0.049565  0.071426\n",
              "2020-06-01  0.285653  0.283169  ...        0.010154 -0.040954\n",
              "\n",
              "[5 rows x 8 columns]"
            ]
          },
          "metadata": {
            "tags": []
          },
          "execution_count": 28
        }
      ]
    },
    {
      "cell_type": "code",
      "metadata": {
        "id": "-RGklbtnbetV",
        "outputId": "d0e10660-9925-4d34-a1c8-3abcb451b0f4",
        "colab": {
          "base_uri": "https://localhost:8080/"
        }
      },
      "source": [
        "Y = data.iloc[:,3]\n",
        "Y.tail()"
      ],
      "execution_count": 29,
      "outputs": [
        {
          "output_type": "execute_result",
          "data": {
            "text/plain": [
              "datetime\n",
              "2020-05-20    0.273999\n",
              "2020-05-23    0.292934\n",
              "2020-05-30    0.270627\n",
              "2020-05-31    0.257825\n",
              "2020-06-01    0.239235\n",
              "Name: <CLOSE>, dtype: float64"
            ]
          },
          "metadata": {
            "tags": []
          },
          "execution_count": 29
        }
      ]
    },
    {
      "cell_type": "code",
      "metadata": {
        "id": "1Tn80CwmbetX",
        "outputId": "ae1f2b3a-b5e4-408d-8152-557fb7bca457",
        "colab": {
          "base_uri": "https://localhost:8080/"
        }
      },
      "source": [
        "X.isnull().sum()"
      ],
      "execution_count": 30,
      "outputs": [
        {
          "output_type": "execute_result",
          "data": {
            "text/plain": [
              "MA_10             0\n",
              "WMA_10            0\n",
              "MOM_10            0\n",
              "SO_10             0\n",
              "MACD_12_26        0\n",
              "MACDsign_12_26    0\n",
              "MACDdiff_12_26    0\n",
              "CCI_10            0\n",
              "dtype: int64"
            ]
          },
          "metadata": {
            "tags": []
          },
          "execution_count": 30
        }
      ]
    },
    {
      "cell_type": "code",
      "metadata": {
        "id": "QjK-zRQgbeta"
      },
      "source": [
        "#Splitting data into training and test set\n",
        "from sklearn.model_selection import train_test_split\n",
        "x_train,x_test,y_train,y_test = train_test_split(X,Y,test_size = 0.1,random_state = 0)"
      ],
      "execution_count": 31,
      "outputs": []
    },
    {
      "cell_type": "markdown",
      "metadata": {
        "id": "bdSjkPr_betc"
      },
      "source": [
        "# Predicting using Decision Trees"
      ]
    },
    {
      "cell_type": "code",
      "metadata": {
        "id": "7RX-ujiabetd",
        "outputId": "ce057ae8-b80a-40dd-8f99-7ed515835d50"
      },
      "source": [
        "#Decision Tree\n",
        "from sklearn.tree import DecisionTreeRegressor\n",
        "Regressor = DecisionTreeRegressor(max_depth=10)\n",
        "Regressor.fit(x_train,y_train)"
      ],
      "execution_count": null,
      "outputs": [
        {
          "output_type": "execute_result",
          "data": {
            "text/plain": [
              "DecisionTreeRegressor(max_depth=10)"
            ]
          },
          "metadata": {
            "tags": []
          },
          "execution_count": 30
        }
      ]
    },
    {
      "cell_type": "code",
      "metadata": {
        "id": "3c5o_JwXbeth"
      },
      "source": [
        "y_pred = Regressor.predict([[0.695620,0.711757,0.188182,-0.002462,0.149007,0.161084,0.019457,0.094221]])"
      ],
      "execution_count": null,
      "outputs": []
    },
    {
      "cell_type": "code",
      "metadata": {
        "id": "akO40mmNbetj",
        "outputId": "06e10645-ef3d-4435-c9de-61cffce2dc1c"
      },
      "source": [
        "# Print the Accuracy of our Model.\n",
        "y_pred"
      ],
      "execution_count": null,
      "outputs": [
        {
          "output_type": "execute_result",
          "data": {
            "text/plain": [
              "array([0.63298006])"
            ]
          },
          "metadata": {
            "tags": []
          },
          "execution_count": 32
        }
      ]
    },
    {
      "cell_type": "markdown",
      "metadata": {
        "id": "tmAA0_rPbetl"
      },
      "source": [
        "## Evaluating the Model"
      ]
    },
    {
      "cell_type": "code",
      "metadata": {
        "id": "pCwX7Hwpbetm",
        "outputId": "b2f13ce4-1000-418d-d5a1-620685add657"
      },
      "source": [
        "y_pred = Regressor.predict(x_test)\n",
        "from sklearn.metrics import r2_score,mean_squared_error\n",
        "mse = mean_squared_error(y_test,y_pred)\n",
        "rmse = np.sqrt(mse)\n",
        "rmse"
      ],
      "execution_count": null,
      "outputs": [
        {
          "output_type": "execute_result",
          "data": {
            "text/plain": [
              "0.02570133772924969"
            ]
          },
          "metadata": {
            "tags": []
          },
          "execution_count": 33
        }
      ]
    },
    {
      "cell_type": "markdown",
      "metadata": {
        "id": "CiWT_doibeto"
      },
      "source": [
        "# Using Bagging Regressor"
      ]
    },
    {
      "cell_type": "code",
      "metadata": {
        "id": "6KWr75vGbetp"
      },
      "source": [
        "#import necessary libraries\n",
        "from sklearn.ensemble import BaggingRegressor"
      ],
      "execution_count": null,
      "outputs": []
    },
    {
      "cell_type": "code",
      "metadata": {
        "id": "6m5OsIUsbetr",
        "outputId": "8ed0823b-3e80-4d6c-f599-73cbb6ce856b"
      },
      "source": [
        "regr = BaggingRegressor(base_estimator=Regressor,\n",
        "n_estimators=50, random_state=0)\n",
        "regr.fit(x_train,y_train)\n",
        "    "
      ],
      "execution_count": null,
      "outputs": [
        {
          "output_type": "execute_result",
          "data": {
            "text/plain": [
              "BaggingRegressor(base_estimator=DecisionTreeRegressor(max_depth=10),\n",
              "                 n_estimators=50, random_state=0)"
            ]
          },
          "metadata": {
            "tags": []
          },
          "execution_count": 35
        }
      ]
    },
    {
      "cell_type": "code",
      "metadata": {
        "id": "yeb-nTwObetu",
        "outputId": "d4528f95-8eba-4ca4-c474-838bf5f446bf"
      },
      "source": [
        "y_pred_br = regr.predict([[0.695620,0.711757,0.188182,-0.002462,0.149007,0.161084,0.019457,0.094221]])\n",
        "y_pred_br"
      ],
      "execution_count": null,
      "outputs": [
        {
          "output_type": "execute_result",
          "data": {
            "text/plain": [
              "array([0.67407226])"
            ]
          },
          "metadata": {
            "tags": []
          },
          "execution_count": 36
        }
      ]
    },
    {
      "cell_type": "markdown",
      "metadata": {
        "id": "KvdNXLTXbetw"
      },
      "source": [
        "## Evaluating Bagging Regressor"
      ]
    },
    {
      "cell_type": "code",
      "metadata": {
        "id": "Af_3vxHkbetx"
      },
      "source": [
        "y_pred_br = regr.predict(x_test)"
      ],
      "execution_count": null,
      "outputs": []
    },
    {
      "cell_type": "code",
      "metadata": {
        "id": "PXoR2Bxpbetz",
        "outputId": "149ec36b-5c09-4240-f5fc-ca75bbc28232"
      },
      "source": [
        "from sklearn.metrics import r2_score,mean_squared_error\n",
        "mse = mean_squared_error(y_test,y_pred_br)\n",
        "rmse = np.sqrt(mse)\n",
        "rmse"
      ],
      "execution_count": null,
      "outputs": [
        {
          "output_type": "execute_result",
          "data": {
            "text/plain": [
              "0.025126534213514674"
            ]
          },
          "metadata": {
            "tags": []
          },
          "execution_count": 38
        }
      ]
    },
    {
      "cell_type": "markdown",
      "metadata": {
        "id": "phoe90D7bet1"
      },
      "source": [
        "# Using Random Forest"
      ]
    },
    {
      "cell_type": "code",
      "metadata": {
        "id": "cM6Op45nbet2",
        "outputId": "2fcefc78-e15d-4b4a-9277-392757f2abd8"
      },
      "source": [
        "#importing the libraries\n",
        "from sklearn.ensemble import RandomForestRegressor\n",
        "rf = RandomForestRegressor(n_estimators=50,max_depth=10,random_state=1)\n",
        "rf.fit(x_train,y_train)"
      ],
      "execution_count": null,
      "outputs": [
        {
          "output_type": "execute_result",
          "data": {
            "text/plain": [
              "RandomForestRegressor(max_depth=10, n_estimators=50, random_state=1)"
            ]
          },
          "metadata": {
            "tags": []
          },
          "execution_count": 39
        }
      ]
    },
    {
      "cell_type": "code",
      "metadata": {
        "id": "bLsC8Dk5bet5",
        "outputId": "141f9707-1e04-43bb-ea8e-fc15a3de0162"
      },
      "source": [
        "y_pred_rf = rf.predict([[0.695620,0.711757,0.188182,-0.002462,0.149007,0.161084,0.019457,0.094221]])\n",
        "y_pred_rf"
      ],
      "execution_count": null,
      "outputs": [
        {
          "output_type": "execute_result",
          "data": {
            "text/plain": [
              "array([0.67485308])"
            ]
          },
          "metadata": {
            "tags": []
          },
          "execution_count": 40
        }
      ]
    },
    {
      "cell_type": "markdown",
      "metadata": {
        "id": "j4GVbyhAbet9"
      },
      "source": [
        "## Evaluating Random Forest"
      ]
    },
    {
      "cell_type": "code",
      "metadata": {
        "id": "Rp1ihgYjbet-"
      },
      "source": [
        "y_pred_rf = rf.predict(x_test)\n"
      ],
      "execution_count": null,
      "outputs": []
    },
    {
      "cell_type": "code",
      "metadata": {
        "id": "J6mI-BUbbeuA",
        "outputId": "e0b354bd-7315-42da-9eec-ce713b9b65bb"
      },
      "source": [
        "from sklearn.metrics import r2_score,mean_squared_error\n",
        "mse = mean_squared_error(y_test,y_pred_rf)\n",
        "rmse = np.sqrt(mse)\n",
        "rmse"
      ],
      "execution_count": null,
      "outputs": [
        {
          "output_type": "execute_result",
          "data": {
            "text/plain": [
              "0.02509558917708132"
            ]
          },
          "metadata": {
            "tags": []
          },
          "execution_count": 42
        }
      ]
    },
    {
      "cell_type": "markdown",
      "metadata": {
        "id": "6e1uCe8lbeuD"
      },
      "source": [
        " ## Using AdaBoost Regressor"
      ]
    },
    {
      "cell_type": "code",
      "metadata": {
        "id": "uX6q6_kGbeuD",
        "outputId": "4713e7a3-dd0e-4ca4-d3f4-90ff36a4bc79"
      },
      "source": [
        "#importing necessary libraries\n",
        "from sklearn.ensemble import AdaBoostRegressor\n",
        "adb_reg = AdaBoostRegressor(base_estimator=Regressor,n_estimators=100,learning_rate=0.1)\n",
        "adb_reg.fit(x_train,y_train)\n",
        "\n"
      ],
      "execution_count": null,
      "outputs": [
        {
          "output_type": "execute_result",
          "data": {
            "text/plain": [
              "AdaBoostRegressor(base_estimator=DecisionTreeRegressor(max_depth=10),\n",
              "                  learning_rate=0.1, n_estimators=100)"
            ]
          },
          "metadata": {
            "tags": []
          },
          "execution_count": 43
        }
      ]
    },
    {
      "cell_type": "code",
      "metadata": {
        "id": "KrNX81azbeuF",
        "outputId": "dc9954c9-e186-4326-9b74-5196270ac057"
      },
      "source": [
        "y_pred_adb = adb_reg.predict([[0.695620,0.711757,0.188182,-0.002462,0.149007,0.161084,0.019457,0.094221]])\n",
        "y_pred_adb"
      ],
      "execution_count": null,
      "outputs": [
        {
          "output_type": "execute_result",
          "data": {
            "text/plain": [
              "array([0.66838355])"
            ]
          },
          "metadata": {
            "tags": []
          },
          "execution_count": 44
        }
      ]
    },
    {
      "cell_type": "markdown",
      "metadata": {
        "id": "pTiNntHcbeuH"
      },
      "source": [
        "## Evaluating AdaBoost Regressor"
      ]
    },
    {
      "cell_type": "code",
      "metadata": {
        "id": "pGnz1YOibeuI",
        "outputId": "33ca1113-ce3c-4df0-a7ca-217589566de1"
      },
      "source": [
        "y_pred_adb = adb_reg.predict(x_test)\n",
        "from sklearn.metrics import r2_score,mean_squared_error\n",
        "mse = mean_squared_error(y_test,y_pred_adb)\n",
        "rmse = np.sqrt(mse)\n",
        "rmse"
      ],
      "execution_count": null,
      "outputs": [
        {
          "output_type": "execute_result",
          "data": {
            "text/plain": [
              "0.023515375500037444"
            ]
          },
          "metadata": {
            "tags": []
          },
          "execution_count": 45
        }
      ]
    },
    {
      "cell_type": "markdown",
      "metadata": {
        "id": "8Q-98ibGbeuJ"
      },
      "source": [
        "## Using Gradient Boosting"
      ]
    },
    {
      "cell_type": "code",
      "metadata": {
        "id": "4StZOXBBbeuK",
        "outputId": "988f2c78-6e38-4c92-a0f2-ccc6ca350081"
      },
      "source": [
        "#importing necessary libraries\n",
        "from sklearn.ensemble import GradientBoostingRegressor\n",
        "gdbt = GradientBoostingRegressor(max_depth=10,learning_rate=0.1,n_estimators=50,random_state=1)\n",
        "gdbt.fit(x_train,y_train)"
      ],
      "execution_count": null,
      "outputs": [
        {
          "output_type": "execute_result",
          "data": {
            "text/plain": [
              "GradientBoostingRegressor(max_depth=10, n_estimators=50, random_state=1)"
            ]
          },
          "metadata": {
            "tags": []
          },
          "execution_count": 46
        }
      ]
    },
    {
      "cell_type": "code",
      "metadata": {
        "id": "WcFNYE8DbeuM",
        "outputId": "6170056d-c513-49b2-9233-4faa83c3f668"
      },
      "source": [
        "y_pred_gdbt = gdbt.predict([[0.695620,0.711757,0.188182,-0.002462,0.149007,0.161084,0.019457,0.094221]])\n",
        "y_pred_gdbt"
      ],
      "execution_count": null,
      "outputs": [
        {
          "output_type": "execute_result",
          "data": {
            "text/plain": [
              "array([0.65726125])"
            ]
          },
          "metadata": {
            "tags": []
          },
          "execution_count": 47
        }
      ]
    },
    {
      "cell_type": "markdown",
      "metadata": {
        "id": "fhjqy5udbeuP"
      },
      "source": [
        "## Evaluating gradient boosting"
      ]
    },
    {
      "cell_type": "code",
      "metadata": {
        "id": "CpcZr0-EbeuQ",
        "outputId": "fc117f6f-f5ba-4f30-9fd1-62e14d1b45ed"
      },
      "source": [
        "y_pred_gdbt = gdbt.predict(x_test)\n",
        "from sklearn.metrics import r2_score,mean_squared_error\n",
        "mse = mean_squared_error(y_test,y_pred_gdbt)\n",
        "rmse = np.sqrt(mse)\n",
        "rmse"
      ],
      "execution_count": null,
      "outputs": [
        {
          "output_type": "execute_result",
          "data": {
            "text/plain": [
              "0.023810781932720793"
            ]
          },
          "metadata": {
            "tags": []
          },
          "execution_count": 48
        }
      ]
    },
    {
      "cell_type": "markdown",
      "metadata": {
        "id": "Pnedc35lbeuS"
      },
      "source": [
        "## Using XGBoost"
      ]
    },
    {
      "cell_type": "code",
      "metadata": {
        "id": "clUQp-jMbeuT"
      },
      "source": [
        "import xgboost as xgb\n",
        "from xgboost import XGBRegressor\n",
        "from sklearn.metrics import mean_squared_error"
      ],
      "execution_count": null,
      "outputs": []
    },
    {
      "cell_type": "code",
      "metadata": {
        "id": "RRWA5iuxbeuU"
      },
      "source": [
        ""
      ],
      "execution_count": null,
      "outputs": []
    },
    {
      "cell_type": "markdown",
      "metadata": {
        "id": "9zlADQgZbeuZ"
      },
      "source": [
        ""
      ]
    },
    {
      "cell_type": "code",
      "metadata": {
        "id": "ze7CwC1KbeuZ"
      },
      "source": [
        ""
      ],
      "execution_count": null,
      "outputs": []
    },
    {
      "cell_type": "code",
      "metadata": {
        "id": "hzI0-zT2beub"
      },
      "source": [
        ""
      ],
      "execution_count": null,
      "outputs": []
    },
    {
      "cell_type": "markdown",
      "metadata": {
        "id": "GdaVicrEb78c"
      },
      "source": [
        "##LSTM"
      ]
    },
    {
      "cell_type": "code",
      "metadata": {
        "id": "zNH4J9l5cAY6",
        "outputId": "8de46f49-77f5-4fc9-d423-399918afffff",
        "colab": {
          "base_uri": "https://localhost:8080/"
        }
      },
      "source": [
        "from google.colab import drive\n",
        "drive.mount('/content/drive')"
      ],
      "execution_count": 1,
      "outputs": [
        {
          "output_type": "stream",
          "text": [
            "Mounted at /content/drive\n"
          ],
          "name": "stdout"
        }
      ]
    },
    {
      "cell_type": "markdown",
      "metadata": {
        "id": "iHWdf4aa2XDq"
      },
      "source": [
        "### Training and testing set"
      ]
    },
    {
      "cell_type": "code",
      "metadata": {
        "id": "z3Eyzb3Rlmir",
        "outputId": "ad2807ba-1eed-4f0e-f490-2040a794d05b",
        "colab": {
          "base_uri": "https://localhost:8080/"
        }
      },
      "source": [
        "from sklearn.model_selection import train_test_split\n",
        "x_train,x_test,y_train,y_test = train_test_split(X,Y,test_size = 0.1,random_state = 0)\n",
        "print(x_train.shape, x_test.shape, y_train.shape, y_test.shape)"
      ],
      "execution_count": 114,
      "outputs": [
        {
          "output_type": "stream",
          "text": [
            "(3500, 8) (389, 8) (3500,) (389,)\n"
          ],
          "name": "stdout"
        }
      ]
    },
    {
      "cell_type": "code",
      "metadata": {
        "id": "F3gqK-K0jGk9"
      },
      "source": [
        "sc = MinMaxScaler(feature_range = (0, 1))\n",
        "X_train_scaled = sc.fit_transform(x_train)"
      ],
      "execution_count": 115,
      "outputs": []
    },
    {
      "cell_type": "code",
      "metadata": {
        "id": "YKfTIM7Fjq6Y"
      },
      "source": [
        "X_train, Y_train = np.array(x_train), np.array(y_train)\n",
        "X_train = np.reshape(X_train, (X_train.shape[0], X_train.shape[1], 1))"
      ],
      "execution_count": 116,
      "outputs": []
    },
    {
      "cell_type": "markdown",
      "metadata": {
        "id": "B2uIFD452b24"
      },
      "source": [
        "### Importing libraries"
      ]
    },
    {
      "cell_type": "code",
      "metadata": {
        "id": "ccMkltE9ebcw"
      },
      "source": [
        "pip install nsepy"
      ],
      "execution_count": null,
      "outputs": []
    },
    {
      "cell_type": "code",
      "metadata": {
        "id": "7fcRAPcyeVTV"
      },
      "source": [
        "from nsepy import get_history as gh\n",
        "import datetime as dt\n",
        "from matplotlib import pyplot as plt\n",
        "from sklearn import model_selection\n",
        "from sklearn.metrics import confusion_matrix\n",
        "from sklearn.preprocessing import StandardScaler\n",
        "from sklearn.model_selection import train_test_split\n",
        "import numpy as np\n",
        "import pandas as pd\n",
        "from sklearn.preprocessing import MinMaxScaler\n",
        "from keras.models import Sequential\n",
        "from keras.layers import Dense\n",
        "from keras.layers import LSTM\n",
        "from keras.layers import Dropout"
      ],
      "execution_count": 47,
      "outputs": []
    },
    {
      "cell_type": "markdown",
      "metadata": {
        "id": "33TKI23A2NVQ"
      },
      "source": [
        "### Building the LSTM"
      ]
    },
    {
      "cell_type": "code",
      "metadata": {
        "id": "SrT0kjBsc2Pm"
      },
      "source": [
        "regressor = Sequential()\n",
        "regressor.add(LSTM(units = 50, return_sequences = True, input_shape = (X_train.shape[1], 1)))\n",
        "regressor.add(Dropout(0.2))\n",
        "regressor.add(LSTM(units = 50, return_sequences = True))\n",
        "regressor.add(Dropout(0.2))\n",
        "regressor.add(LSTM(units = 50, return_sequences = True))\n",
        "regressor.add(Dropout(0.2))\n",
        "regressor.add(LSTM(units = 50))\n",
        "regressor.add(Dropout(0.2))\n",
        "regressor.add(Dense(units = 1))"
      ],
      "execution_count": 122,
      "outputs": []
    },
    {
      "cell_type": "markdown",
      "metadata": {
        "id": "L_LlaDFB2qDN"
      },
      "source": [
        "### Compiling and training the model defined in the above step.\n",
        "(Iteratively, we can increase or decrease the epochs and batch size to get more accuracy.)"
      ]
    },
    {
      "cell_type": "code",
      "metadata": {
        "id": "NEg-dl9jeOSR",
        "outputId": "102ad5eb-0d81-4e00-eb28-a8cbf1be575f",
        "colab": {
          "base_uri": "https://localhost:8080/"
        }
      },
      "source": [
        "regressor.compile(optimizer = 'adam', loss = 'mean_squared_error')\n",
        "regressor.fit(X_train, Y_train, epochs = 15, batch_size = 32)"
      ],
      "execution_count": 123,
      "outputs": [
        {
          "output_type": "stream",
          "text": [
            "Epoch 1/15\n",
            "110/110 [==============================] - 2s 18ms/step - loss: 0.0059\n",
            "Epoch 2/15\n",
            "110/110 [==============================] - 2s 18ms/step - loss: 0.0013\n",
            "Epoch 3/15\n",
            "110/110 [==============================] - 2s 18ms/step - loss: 0.0012\n",
            "Epoch 4/15\n",
            "110/110 [==============================] - 2s 18ms/step - loss: 0.0013\n",
            "Epoch 5/15\n",
            "110/110 [==============================] - 2s 18ms/step - loss: 0.0013\n",
            "Epoch 6/15\n",
            "110/110 [==============================] - 2s 19ms/step - loss: 0.0012\n",
            "Epoch 7/15\n",
            "110/110 [==============================] - 2s 18ms/step - loss: 0.0012\n",
            "Epoch 8/15\n",
            "110/110 [==============================] - 2s 18ms/step - loss: 0.0012\n",
            "Epoch 9/15\n",
            "110/110 [==============================] - 2s 18ms/step - loss: 0.0012\n",
            "Epoch 10/15\n",
            "110/110 [==============================] - 2s 18ms/step - loss: 0.0011\n",
            "Epoch 11/15\n",
            "110/110 [==============================] - 2s 18ms/step - loss: 0.0011\n",
            "Epoch 12/15\n",
            "110/110 [==============================] - 2s 18ms/step - loss: 0.0011\n",
            "Epoch 13/15\n",
            "110/110 [==============================] - 2s 18ms/step - loss: 0.0011\n",
            "Epoch 14/15\n",
            "110/110 [==============================] - 2s 19ms/step - loss: 0.0011\n",
            "Epoch 15/15\n",
            "110/110 [==============================] - 2s 18ms/step - loss: 0.0011\n"
          ],
          "name": "stdout"
        },
        {
          "output_type": "execute_result",
          "data": {
            "text/plain": [
              "<tensorflow.python.keras.callbacks.History at 0x7f6196ed9908>"
            ]
          },
          "metadata": {
            "tags": []
          },
          "execution_count": 123
        }
      ]
    },
    {
      "cell_type": "code",
      "metadata": {
        "id": "r2ZrIgaX03cC"
      },
      "source": [
        "X_test = np.array(x_test)\n",
        "X_test = np.reshape(X_test, (X_test.shape[0],X_test.shape[1], 1))\n",
        "predicted_stock_price = regressor.predict(X_test)"
      ],
      "execution_count": 124,
      "outputs": []
    },
    {
      "cell_type": "code",
      "metadata": {
        "id": "LDrGcESafEp5"
      },
      "source": [
        "real_stock_price = np.asarray(y_test)\n",
        "# real_stock_price=real_stock_price.reshape(1167,1)"
      ],
      "execution_count": 125,
      "outputs": []
    },
    {
      "cell_type": "code",
      "metadata": {
        "id": "koD72IuliN0t"
      },
      "source": [
        "predicted_stock_price"
      ],
      "execution_count": null,
      "outputs": []
    },
    {
      "cell_type": "code",
      "metadata": {
        "id": "bXqa74JLiSvC"
      },
      "source": [
        "real_stock_price"
      ],
      "execution_count": null,
      "outputs": []
    },
    {
      "cell_type": "markdown",
      "metadata": {
        "id": "oWXVsRgp2DcB"
      },
      "source": [
        "### Plotting the results"
      ]
    },
    {
      "cell_type": "code",
      "metadata": {
        "id": "bTm04GWiiU9O",
        "outputId": "121d8a5c-304a-4309-fab5-e73710b690ac",
        "colab": {
          "base_uri": "https://localhost:8080/",
          "height": 590
        }
      },
      "source": [
        "plt.figure(figsize=(20,10))\n",
        "plt.plot(real_stock_price, color = 'green', label = 'Stock Price')\n",
        "plt.plot(predicted_stock_price, color = 'red', label = 'Predicted Stock Price')\n",
        "plt.title('Stock Price Prediction')\n",
        "plt.xlabel('Trading Day')\n",
        "plt.ylabel('Stock Price')\n",
        "plt.legend()\n",
        "plt.show()"
      ],
      "execution_count": 126,
      "outputs": [
        {
          "output_type": "display_data",
          "data": {
            "image/png": "[encoded data removed]",
            "text/plain": [
              "<Figure size 1440x720 with 1 Axes>"
            ]
          },
          "metadata": {
            "tags": [],
            "needs_background": "light"
          }
        }
      ]
    },
    {
      "cell_type": "code",
      "metadata": {
        "id": "7hCjZ69viYqn"
      },
      "source": [
        ""
      ],
      "execution_count": null,
      "outputs": []
    }
  ]
}