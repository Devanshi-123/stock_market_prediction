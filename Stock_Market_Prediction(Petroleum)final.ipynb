{
  "nbformat": 4,
  "nbformat_minor": 0,
  "metadata": {
    "kernelspec": {
      "display_name": "Python 3",
      "language": "python",
      "name": "python3"
    },
    "language_info": {
      "codemirror_mode": {
        "name": "ipython",
        "version": 3
      },
      "file_extension": ".py",
      "mimetype": "text/x-python",
      "name": "python",
      "nbconvert_exporter": "python",
      "pygments_lexer": "ipython3",
      "version": "3.8.3"
    },
    "colab": {
      "name": "Stock_Market_Prediction(Petroleum)final.ipynb",
      "provenance": [],
      "collapsed_sections": [
        "vfZGT9zFbes9"
      ],
      "toc_visible": true,
      "include_colab_link": true
    }
  },
  "cells": [
    {
      "cell_type": "markdown",
      "metadata": {
        "id": "view-in-github",
        "colab_type": "text"
      },
      "source": [
        "<a href=\"https://colab.research.google.com/github/Devanshi-123/stock_market_prediction/blob/main/Stock_Market_Prediction(Petroleum)final.ipynb\" target=\"_parent\"><img src=\"https://colab.research.google.com/assets/colab-badge.svg\" alt=\"Open In Colab\"/></a>"
      ]
    },
    {
      "cell_type": "markdown",
      "metadata": {
        "id": "tieXgez1berr"
      },
      "source": [
        "#  **Stock Market Prediction Using Different Machine Learning And Deep Learning Algorithms**\n"
      ]
    },
    {
      "cell_type": "markdown",
      "metadata": {
        "id": "2501HdlZfGAG"
      },
      "source": [
        "## **Importing the necessary libraries**"
      ]
    },
    {
      "cell_type": "code",
      "metadata": {
        "id": "bExe6rckbers"
      },
      "source": [
        "import pandas as pd\n",
        "import numpy as np\n",
        "import matplotlib.pyplot as plt\n",
        "%matplotlib inline"
      ],
      "execution_count": 175,
      "outputs": []
    },
    {
      "cell_type": "code",
      "metadata": {
        "id": "YoioHTGgcPVu",
        "colab": {
          "base_uri": "https://localhost:8080/"
        },
        "outputId": "f76604db-34e9-43ff-a763-46d760d43619"
      },
      "source": [
        "cd /content/drive/My Drive/Stock Market Prediction(Mini Project)"
      ],
      "execution_count": 176,
      "outputs": [
        {
          "output_type": "stream",
          "text": [
            "/content/drive/My Drive/Stock Market Prediction(Mini Project)\n"
          ],
          "name": "stdout"
        }
      ]
    },
    {
      "cell_type": "markdown",
      "metadata": {
        "id": "c1-boyHyfakV"
      },
      "source": [
        "## **Importing the dataset**"
      ]
    },
    {
      "cell_type": "code",
      "metadata": {
        "id": "1fMnpg-sbery",
        "colab": {
          "base_uri": "https://localhost:8080/"
        },
        "outputId": "b7d097ac-19b2-4084-d5d1-54917ad83a59"
      },
      "source": [
        "##Metallic Dataset\n",
        "df=pd.read_csv(\"Stock_PETR1.csv\")\n",
        "df.info()"
      ],
      "execution_count": 177,
      "outputs": [
        {
          "output_type": "stream",
          "text": [
            "<class 'pandas.core.frame.DataFrame'>\n",
            "RangeIndex: 4087 entries, 0 to 4086\n",
            "Data columns (total 13 columns):\n",
            " #   Column        Non-Null Count  Dtype  \n",
            "---  ------        --------------  -----  \n",
            " 0   Unnamed: 0    4087 non-null   int64  \n",
            " 1   <TICKER>      4087 non-null   object \n",
            " 2   <DTYYYYMMDD>  4087 non-null   int64  \n",
            " 3   <FIRST>       4087 non-null   float64\n",
            " 4   <HIGH>        4087 non-null   float64\n",
            " 5   <LOW>         4087 non-null   float64\n",
            " 6   <CLOSE>       4087 non-null   float64\n",
            " 7   <VALUE>       4087 non-null   int64  \n",
            " 8   <VOL>         4087 non-null   int64  \n",
            " 9   <OPENINT>     4087 non-null   int64  \n",
            " 10  <PER>         4087 non-null   object \n",
            " 11  <OPEN>        4087 non-null   float64\n",
            " 12  <LAST>        4087 non-null   float64\n",
            "dtypes: float64(6), int64(5), object(2)\n",
            "memory usage: 415.2+ KB\n"
          ],
          "name": "stdout"
        }
      ]
    },
    {
      "cell_type": "code",
      "metadata": {
        "id": "F00sCC1zqlJZ",
        "colab": {
          "base_uri": "https://localhost:8080/",
          "height": 194
        },
        "outputId": "10ae3c28-62b0-446e-ba50-e11a7e6ab36f"
      },
      "source": [
        "df.head()"
      ],
      "execution_count": 178,
      "outputs": [
        {
          "output_type": "execute_result",
          "data": {
            "text/html": [
              "<div>\n",
              "<style scoped>\n",
              "    .dataframe tbody tr th:only-of-type {\n",
              "        vertical-align: middle;\n",
              "    }\n",
              "\n",
              "    .dataframe tbody tr th {\n",
              "        vertical-align: top;\n",
              "    }\n",
              "\n",
              "    .dataframe thead th {\n",
              "        text-align: right;\n",
              "    }\n",
              "</style>\n",
              "<table border=\"1\" class=\"dataframe\">\n",
              "  <thead>\n",
              "    <tr style=\"text-align: right;\">\n",
              "      <th></th>\n",
              "      <th>Unnamed: 0</th>\n",
              "      <th>&lt;TICKER&gt;</th>\n",
              "      <th>&lt;DTYYYYMMDD&gt;</th>\n",
              "      <th>&lt;FIRST&gt;</th>\n",
              "      <th>&lt;HIGH&gt;</th>\n",
              "      <th>&lt;LOW&gt;</th>\n",
              "      <th>&lt;CLOSE&gt;</th>\n",
              "      <th>&lt;VALUE&gt;</th>\n",
              "      <th>&lt;VOL&gt;</th>\n",
              "      <th>&lt;OPENINT&gt;</th>\n",
              "      <th>&lt;PER&gt;</th>\n",
              "      <th>&lt;OPEN&gt;</th>\n",
              "      <th>&lt;LAST&gt;</th>\n",
              "    </tr>\n",
              "  </thead>\n",
              "  <tbody>\n",
              "    <tr>\n",
              "      <th>0</th>\n",
              "      <td>0</td>\n",
              "      <td>Petro..Inv.</td>\n",
              "      <td>20010325</td>\n",
              "      <td>2140.0</td>\n",
              "      <td>2140.0</td>\n",
              "      <td>2139.0</td>\n",
              "      <td>2140.0</td>\n",
              "      <td>349714320</td>\n",
              "      <td>163488</td>\n",
              "      <td>15</td>\n",
              "      <td>D</td>\n",
              "      <td>2140.0</td>\n",
              "      <td>2140.0</td>\n",
              "    </tr>\n",
              "    <tr>\n",
              "      <th>1</th>\n",
              "      <td>1</td>\n",
              "      <td>Petro..Inv.</td>\n",
              "      <td>20010326</td>\n",
              "      <td>2135.0</td>\n",
              "      <td>2136.0</td>\n",
              "      <td>2100.0</td>\n",
              "      <td>2100.0</td>\n",
              "      <td>37030936</td>\n",
              "      <td>17577</td>\n",
              "      <td>18</td>\n",
              "      <td>D</td>\n",
              "      <td>2140.0</td>\n",
              "      <td>2100.0</td>\n",
              "    </tr>\n",
              "    <tr>\n",
              "      <th>2</th>\n",
              "      <td>2</td>\n",
              "      <td>Petro..Inv.</td>\n",
              "      <td>20010327</td>\n",
              "      <td>2100.0</td>\n",
              "      <td>2100.0</td>\n",
              "      <td>2045.0</td>\n",
              "      <td>2050.0</td>\n",
              "      <td>200173239</td>\n",
              "      <td>97608</td>\n",
              "      <td>51</td>\n",
              "      <td>D</td>\n",
              "      <td>2100.0</td>\n",
              "      <td>2050.0</td>\n",
              "    </tr>\n",
              "    <tr>\n",
              "      <th>3</th>\n",
              "      <td>3</td>\n",
              "      <td>Petro..Inv.</td>\n",
              "      <td>20010328</td>\n",
              "      <td>2049.0</td>\n",
              "      <td>2100.0</td>\n",
              "      <td>2020.0</td>\n",
              "      <td>2100.0</td>\n",
              "      <td>120265895</td>\n",
              "      <td>59019</td>\n",
              "      <td>39</td>\n",
              "      <td>D</td>\n",
              "      <td>2050.0</td>\n",
              "      <td>2100.0</td>\n",
              "    </tr>\n",
              "    <tr>\n",
              "      <th>4</th>\n",
              "      <td>4</td>\n",
              "      <td>Petro..Inv.</td>\n",
              "      <td>20010331</td>\n",
              "      <td>2101.0</td>\n",
              "      <td>2205.0</td>\n",
              "      <td>2100.0</td>\n",
              "      <td>2205.0</td>\n",
              "      <td>187171518</td>\n",
              "      <td>85296</td>\n",
              "      <td>37</td>\n",
              "      <td>D</td>\n",
              "      <td>2100.0</td>\n",
              "      <td>2205.0</td>\n",
              "    </tr>\n",
              "  </tbody>\n",
              "</table>\n",
              "</div>"
            ],
            "text/plain": [
              "   Unnamed: 0     <TICKER>  <DTYYYYMMDD>  ...  <PER>  <OPEN>  <LAST>\n",
              "0           0  Petro..Inv.      20010325  ...      D  2140.0  2140.0\n",
              "1           1  Petro..Inv.      20010326  ...      D  2140.0  2100.0\n",
              "2           2  Petro..Inv.      20010327  ...      D  2100.0  2050.0\n",
              "3           3  Petro..Inv.      20010328  ...      D  2050.0  2100.0\n",
              "4           4  Petro..Inv.      20010331  ...      D  2100.0  2205.0\n",
              "\n",
              "[5 rows x 13 columns]"
            ]
          },
          "metadata": {
            "tags": []
          },
          "execution_count": 178
        }
      ]
    },
    {
      "cell_type": "markdown",
      "metadata": {
        "id": "9gsprJSuhGF4"
      },
      "source": [
        "## **Exploratory Data Analysis**"
      ]
    },
    {
      "cell_type": "code",
      "metadata": {
        "id": "3KYyTRW7gcjz",
        "colab": {
          "base_uri": "https://localhost:8080/",
          "height": 282
        },
        "outputId": "db5c79db-2c92-4265-cd99-67e10015cf89"
      },
      "source": [
        "df.describe()"
      ],
      "execution_count": 179,
      "outputs": [
        {
          "output_type": "execute_result",
          "data": {
            "text/html": [
              "<div>\n",
              "<style scoped>\n",
              "    .dataframe tbody tr th:only-of-type {\n",
              "        vertical-align: middle;\n",
              "    }\n",
              "\n",
              "    .dataframe tbody tr th {\n",
              "        vertical-align: top;\n",
              "    }\n",
              "\n",
              "    .dataframe thead th {\n",
              "        text-align: right;\n",
              "    }\n",
              "</style>\n",
              "<table border=\"1\" class=\"dataframe\">\n",
              "  <thead>\n",
              "    <tr style=\"text-align: right;\">\n",
              "      <th></th>\n",
              "      <th>Unnamed: 0</th>\n",
              "      <th>&lt;DTYYYYMMDD&gt;</th>\n",
              "      <th>&lt;FIRST&gt;</th>\n",
              "      <th>&lt;HIGH&gt;</th>\n",
              "      <th>&lt;LOW&gt;</th>\n",
              "      <th>&lt;CLOSE&gt;</th>\n",
              "      <th>&lt;VALUE&gt;</th>\n",
              "      <th>&lt;VOL&gt;</th>\n",
              "      <th>&lt;OPENINT&gt;</th>\n",
              "      <th>&lt;OPEN&gt;</th>\n",
              "      <th>&lt;LAST&gt;</th>\n",
              "    </tr>\n",
              "  </thead>\n",
              "  <tbody>\n",
              "    <tr>\n",
              "      <th>count</th>\n",
              "      <td>4087.000000</td>\n",
              "      <td>4.087000e+03</td>\n",
              "      <td>4087.000000</td>\n",
              "      <td>4087.000000</td>\n",
              "      <td>4087.000000</td>\n",
              "      <td>4087.000000</td>\n",
              "      <td>4.087000e+03</td>\n",
              "      <td>4.087000e+03</td>\n",
              "      <td>4087.000000</td>\n",
              "      <td>4087.000000</td>\n",
              "      <td>4087.000000</td>\n",
              "    </tr>\n",
              "    <tr>\n",
              "      <th>mean</th>\n",
              "      <td>2043.000000</td>\n",
              "      <td>2.010508e+07</td>\n",
              "      <td>2314.985075</td>\n",
              "      <td>2354.750918</td>\n",
              "      <td>2270.214583</td>\n",
              "      <td>2315.438953</td>\n",
              "      <td>8.081839e+09</td>\n",
              "      <td>2.544001e+06</td>\n",
              "      <td>307.725471</td>\n",
              "      <td>2311.123073</td>\n",
              "      <td>2312.586004</td>\n",
              "    </tr>\n",
              "    <tr>\n",
              "      <th>std</th>\n",
              "      <td>1179.959604</td>\n",
              "      <td>5.619828e+04</td>\n",
              "      <td>2370.609602</td>\n",
              "      <td>2423.969382</td>\n",
              "      <td>2305.411326</td>\n",
              "      <td>2366.676940</td>\n",
              "      <td>2.214442e+10</td>\n",
              "      <td>4.476661e+06</td>\n",
              "      <td>423.435746</td>\n",
              "      <td>2351.547232</td>\n",
              "      <td>2367.453351</td>\n",
              "    </tr>\n",
              "    <tr>\n",
              "      <th>min</th>\n",
              "      <td>0.000000</td>\n",
              "      <td>2.001032e+07</td>\n",
              "      <td>491.000000</td>\n",
              "      <td>491.000000</td>\n",
              "      <td>491.000000</td>\n",
              "      <td>506.000000</td>\n",
              "      <td>5.710000e+03</td>\n",
              "      <td>1.000000e+01</td>\n",
              "      <td>1.000000</td>\n",
              "      <td>506.000000</td>\n",
              "      <td>491.000000</td>\n",
              "    </tr>\n",
              "    <tr>\n",
              "      <th>25%</th>\n",
              "      <td>1021.500000</td>\n",
              "      <td>2.005122e+07</td>\n",
              "      <td>999.000000</td>\n",
              "      <td>1007.500000</td>\n",
              "      <td>985.000000</td>\n",
              "      <td>1003.000000</td>\n",
              "      <td>3.315275e+08</td>\n",
              "      <td>1.977020e+05</td>\n",
              "      <td>63.000000</td>\n",
              "      <td>1003.000000</td>\n",
              "      <td>993.000000</td>\n",
              "    </tr>\n",
              "    <tr>\n",
              "      <th>50%</th>\n",
              "      <td>2043.000000</td>\n",
              "      <td>2.011041e+07</td>\n",
              "      <td>1730.000000</td>\n",
              "      <td>1755.000000</td>\n",
              "      <td>1690.000000</td>\n",
              "      <td>1725.000000</td>\n",
              "      <td>1.476633e+09</td>\n",
              "      <td>9.672930e+05</td>\n",
              "      <td>164.000000</td>\n",
              "      <td>1724.000000</td>\n",
              "      <td>1723.000000</td>\n",
              "    </tr>\n",
              "    <tr>\n",
              "      <th>75%</th>\n",
              "      <td>3064.500000</td>\n",
              "      <td>2.015091e+07</td>\n",
              "      <td>2522.000000</td>\n",
              "      <td>2565.000000</td>\n",
              "      <td>2500.000000</td>\n",
              "      <td>2529.000000</td>\n",
              "      <td>5.431455e+09</td>\n",
              "      <td>2.888838e+06</td>\n",
              "      <td>360.500000</td>\n",
              "      <td>2529.000000</td>\n",
              "      <td>2527.000000</td>\n",
              "    </tr>\n",
              "    <tr>\n",
              "      <th>max</th>\n",
              "      <td>4086.000000</td>\n",
              "      <td>2.020060e+07</td>\n",
              "      <td>22000.000000</td>\n",
              "      <td>22500.000000</td>\n",
              "      <td>21482.000000</td>\n",
              "      <td>21483.000000</td>\n",
              "      <td>3.370985e+11</td>\n",
              "      <td>8.097697e+07</td>\n",
              "      <td>4276.000000</td>\n",
              "      <td>21483.000000</td>\n",
              "      <td>21483.000000</td>\n",
              "    </tr>\n",
              "  </tbody>\n",
              "</table>\n",
              "</div>"
            ],
            "text/plain": [
              "        Unnamed: 0  <DTYYYYMMDD>  ...        <OPEN>        <LAST>\n",
              "count  4087.000000  4.087000e+03  ...   4087.000000   4087.000000\n",
              "mean   2043.000000  2.010508e+07  ...   2311.123073   2312.586004\n",
              "std    1179.959604  5.619828e+04  ...   2351.547232   2367.453351\n",
              "min       0.000000  2.001032e+07  ...    506.000000    491.000000\n",
              "25%    1021.500000  2.005122e+07  ...   1003.000000    993.000000\n",
              "50%    2043.000000  2.011041e+07  ...   1724.000000   1723.000000\n",
              "75%    3064.500000  2.015091e+07  ...   2529.000000   2527.000000\n",
              "max    4086.000000  2.020060e+07  ...  21483.000000  21483.000000\n",
              "\n",
              "[8 rows x 11 columns]"
            ]
          },
          "metadata": {
            "tags": []
          },
          "execution_count": 179
        }
      ]
    },
    {
      "cell_type": "code",
      "metadata": {
        "id": "mkJ2qxhUTjGJ",
        "colab": {
          "base_uri": "https://localhost:8080/",
          "height": 564
        },
        "outputId": "57c3aae3-2c92-4fb6-bdf0-61b8d3d37dbc"
      },
      "source": [
        "import seaborn as sns\n",
        "plt.figure(1 , figsize = (17 , 8))\n",
        "cor = sns.heatmap(df.corr(), annot = True)"
      ],
      "execution_count": 180,
      "outputs": [
        {
          "output_type": "display_data",
          "data": {
            "image/png": "[encoded data removed]",
            "text/plain": [
              "<Figure size 1224x576 with 2 Axes>"
            ]
          },
          "metadata": {
            "tags": [],
            "needs_background": "light"
          }
        }
      ]
    },
    {
      "cell_type": "code",
      "metadata": {
        "id": "VWy495nCOFQ_",
        "colab": {
          "base_uri": "https://localhost:8080/",
          "height": 223
        },
        "outputId": "4520f0c2-b31a-42fd-a889-46f95b32d898"
      },
      "source": [
        "df['datetime'] = pd.to_datetime(df['<DTYYYYMMDD>'], format='%Y%m%d')\n",
        "df.index = df['datetime']\n",
        "df.dropna()\n",
        "df_new = df[[\"<FIRST>\",\"<HIGH>\",\"<LOW>\",\"<CLOSE>\",\"<VALUE>\",\"<VOL>\"]]\n",
        "df_new.head()"
      ],
      "execution_count": 181,
      "outputs": [
        {
          "output_type": "execute_result",
          "data": {
            "text/html": [
              "<div>\n",
              "<style scoped>\n",
              "    .dataframe tbody tr th:only-of-type {\n",
              "        vertical-align: middle;\n",
              "    }\n",
              "\n",
              "    .dataframe tbody tr th {\n",
              "        vertical-align: top;\n",
              "    }\n",
              "\n",
              "    .dataframe thead th {\n",
              "        text-align: right;\n",
              "    }\n",
              "</style>\n",
              "<table border=\"1\" class=\"dataframe\">\n",
              "  <thead>\n",
              "    <tr style=\"text-align: right;\">\n",
              "      <th></th>\n",
              "      <th>&lt;FIRST&gt;</th>\n",
              "      <th>&lt;HIGH&gt;</th>\n",
              "      <th>&lt;LOW&gt;</th>\n",
              "      <th>&lt;CLOSE&gt;</th>\n",
              "      <th>&lt;VALUE&gt;</th>\n",
              "      <th>&lt;VOL&gt;</th>\n",
              "    </tr>\n",
              "    <tr>\n",
              "      <th>datetime</th>\n",
              "      <th></th>\n",
              "      <th></th>\n",
              "      <th></th>\n",
              "      <th></th>\n",
              "      <th></th>\n",
              "      <th></th>\n",
              "    </tr>\n",
              "  </thead>\n",
              "  <tbody>\n",
              "    <tr>\n",
              "      <th>2001-03-25</th>\n",
              "      <td>2140.0</td>\n",
              "      <td>2140.0</td>\n",
              "      <td>2139.0</td>\n",
              "      <td>2140.0</td>\n",
              "      <td>349714320</td>\n",
              "      <td>163488</td>\n",
              "    </tr>\n",
              "    <tr>\n",
              "      <th>2001-03-26</th>\n",
              "      <td>2135.0</td>\n",
              "      <td>2136.0</td>\n",
              "      <td>2100.0</td>\n",
              "      <td>2100.0</td>\n",
              "      <td>37030936</td>\n",
              "      <td>17577</td>\n",
              "    </tr>\n",
              "    <tr>\n",
              "      <th>2001-03-27</th>\n",
              "      <td>2100.0</td>\n",
              "      <td>2100.0</td>\n",
              "      <td>2045.0</td>\n",
              "      <td>2050.0</td>\n",
              "      <td>200173239</td>\n",
              "      <td>97608</td>\n",
              "    </tr>\n",
              "    <tr>\n",
              "      <th>2001-03-28</th>\n",
              "      <td>2049.0</td>\n",
              "      <td>2100.0</td>\n",
              "      <td>2020.0</td>\n",
              "      <td>2100.0</td>\n",
              "      <td>120265895</td>\n",
              "      <td>59019</td>\n",
              "    </tr>\n",
              "    <tr>\n",
              "      <th>2001-03-31</th>\n",
              "      <td>2101.0</td>\n",
              "      <td>2205.0</td>\n",
              "      <td>2100.0</td>\n",
              "      <td>2205.0</td>\n",
              "      <td>187171518</td>\n",
              "      <td>85296</td>\n",
              "    </tr>\n",
              "  </tbody>\n",
              "</table>\n",
              "</div>"
            ],
            "text/plain": [
              "            <FIRST>  <HIGH>   <LOW>  <CLOSE>    <VALUE>   <VOL>\n",
              "datetime                                                       \n",
              "2001-03-25   2140.0  2140.0  2139.0   2140.0  349714320  163488\n",
              "2001-03-26   2135.0  2136.0  2100.0   2100.0   37030936   17577\n",
              "2001-03-27   2100.0  2100.0  2045.0   2050.0  200173239   97608\n",
              "2001-03-28   2049.0  2100.0  2020.0   2100.0  120265895   59019\n",
              "2001-03-31   2101.0  2205.0  2100.0   2205.0  187171518   85296"
            ]
          },
          "metadata": {
            "tags": []
          },
          "execution_count": 181
        }
      ]
    },
    {
      "cell_type": "code",
      "metadata": {
        "id": "hLz42nBYber_",
        "colab": {
          "base_uri": "https://localhost:8080/"
        },
        "outputId": "3e62155d-2a0b-45fc-db4d-fc7017c3f895"
      },
      "source": [
        "df_new.shape"
      ],
      "execution_count": 182,
      "outputs": [
        {
          "output_type": "execute_result",
          "data": {
            "text/plain": [
              "(4087, 6)"
            ]
          },
          "metadata": {
            "tags": []
          },
          "execution_count": 182
        }
      ]
    },
    {
      "cell_type": "code",
      "metadata": {
        "id": "kvkvBjzCbesH",
        "colab": {
          "base_uri": "https://localhost:8080/"
        },
        "outputId": "85be1f99-e4be-48a1-a928-f34153dbecec"
      },
      "source": [
        "#Calculating the change in price\n",
        "df_new['change_in_price'] = df_new['<CLOSE>'].diff()"
      ],
      "execution_count": 183,
      "outputs": [
        {
          "output_type": "stream",
          "text": [
            "/usr/local/lib/python3.6/dist-packages/ipykernel_launcher.py:2: SettingWithCopyWarning: \n",
            "A value is trying to be set on a copy of a slice from a DataFrame.\n",
            "Try using .loc[row_indexer,col_indexer] = value instead\n",
            "\n",
            "See the caveats in the documentation: https://pandas.pydata.org/pandas-docs/stable/user_guide/indexing.html#returning-a-view-versus-a-copy\n",
            "  \n"
          ],
          "name": "stderr"
        }
      ]
    },
    {
      "cell_type": "markdown",
      "metadata": {
        "id": "6Q4sHYAVhXdc"
      },
      "source": [
        "## **Data Visualisation**"
      ]
    },
    {
      "cell_type": "code",
      "metadata": {
        "id": "xvmCMSnkZO6R",
        "colab": {
          "base_uri": "https://localhost:8080/",
          "height": 500
        },
        "outputId": "81bda645-b1fb-4e0b-caaf-84c4b786ba50"
      },
      "source": [
        "plt.figure(figsize=(16,8))\n",
        "plt.plot(df_new['change_in_price'], label='Change In Price')"
      ],
      "execution_count": 184,
      "outputs": [
        {
          "output_type": "execute_result",
          "data": {
            "text/plain": [
              "[<matplotlib.lines.Line2D at 0x7fe425101ef0>]"
            ]
          },
          "metadata": {
            "tags": []
          },
          "execution_count": 184
        },
        {
          "output_type": "display_data",
          "data": {
            "image/png": "[encoded data removed]",
            "text/plain": [
              "<Figure size 1152x576 with 1 Axes>"
            ]
          },
          "metadata": {
            "tags": [],
            "needs_background": "light"
          }
        }
      ]
    },
    {
      "cell_type": "code",
      "metadata": {
        "id": "AiDa4AToWnzp",
        "colab": {
          "base_uri": "https://localhost:8080/",
          "height": 500
        },
        "outputId": "2979e096-dc36-4bbd-99c7-5e562097cdad"
      },
      "source": [
        "plt.figure(figsize=(16,8))\n",
        "plt.plot(df_new['<CLOSE>'], label='Close Price history')"
      ],
      "execution_count": 185,
      "outputs": [
        {
          "output_type": "execute_result",
          "data": {
            "text/plain": [
              "[<matplotlib.lines.Line2D at 0x7fe465505f60>]"
            ]
          },
          "metadata": {
            "tags": []
          },
          "execution_count": 185
        },
        {
          "output_type": "display_data",
          "data": {
            "image/png": "[encoded data removed]",
            "text/plain": [
              "<Figure size 1152x576 with 1 Axes>"
            ]
          },
          "metadata": {
            "tags": [],
            "needs_background": "light"
          }
        }
      ]
    },
    {
      "cell_type": "markdown",
      "metadata": {
        "id": "1vZkESASbesL"
      },
      "source": [
        "## **Calculating the technical indicators**"
      ]
    },
    {
      "cell_type": "code",
      "metadata": {
        "id": "iqjLW__ObesM",
        "colab": {
          "base_uri": "https://localhost:8080/",
          "height": 223
        },
        "outputId": "db34a61e-c08c-42a7-abed-8926f614b5ac"
      },
      "source": [
        "#1. Simple n day moving average\n",
        "#A moving average (MA) is a widely used technical indicator that smooths out price trends by filtering out the “noise” from random short-term price fluctuations.\n",
        "##The most common applications of moving averages are to identify trend direction and to determine support and resistance levels.\n",
        "def moving_average(df, n):\n",
        "    \"\"\"Calculate the moving average for the given data.\n",
        "    :param df: pandas.DataFrame\n",
        "    :param n:\n",
        "    :return: pandas.DataFrame\n",
        "    \"\"\"\n",
        "    MA = pd.Series(df['<CLOSE>'].rolling(n, min_periods=n).mean(), name='MA_' + str(n))\n",
        "    df = df.join(MA)\n",
        "    return df\n",
        "df_new = moving_average(df_new,10)\n",
        "df_new.tail()"
      ],
      "execution_count": 186,
      "outputs": [
        {
          "output_type": "execute_result",
          "data": {
            "text/html": [
              "<div>\n",
              "<style scoped>\n",
              "    .dataframe tbody tr th:only-of-type {\n",
              "        vertical-align: middle;\n",
              "    }\n",
              "\n",
              "    .dataframe tbody tr th {\n",
              "        vertical-align: top;\n",
              "    }\n",
              "\n",
              "    .dataframe thead th {\n",
              "        text-align: right;\n",
              "    }\n",
              "</style>\n",
              "<table border=\"1\" class=\"dataframe\">\n",
              "  <thead>\n",
              "    <tr style=\"text-align: right;\">\n",
              "      <th></th>\n",
              "      <th>&lt;FIRST&gt;</th>\n",
              "      <th>&lt;HIGH&gt;</th>\n",
              "      <th>&lt;LOW&gt;</th>\n",
              "      <th>&lt;CLOSE&gt;</th>\n",
              "      <th>&lt;VALUE&gt;</th>\n",
              "      <th>&lt;VOL&gt;</th>\n",
              "      <th>change_in_price</th>\n",
              "      <th>MA_10</th>\n",
              "    </tr>\n",
              "    <tr>\n",
              "      <th>datetime</th>\n",
              "      <th></th>\n",
              "      <th></th>\n",
              "      <th></th>\n",
              "      <th></th>\n",
              "      <th></th>\n",
              "      <th></th>\n",
              "      <th></th>\n",
              "      <th></th>\n",
              "    </tr>\n",
              "  </thead>\n",
              "  <tbody>\n",
              "    <tr>\n",
              "      <th>2020-05-26</th>\n",
              "      <td>18000.0</td>\n",
              "      <td>18417.0</td>\n",
              "      <td>17960.0</td>\n",
              "      <td>18092.0</td>\n",
              "      <td>41636609960</td>\n",
              "      <td>2316851</td>\n",
              "      <td>-813.0</td>\n",
              "      <td>17926.7</td>\n",
              "    </tr>\n",
              "    <tr>\n",
              "      <th>2020-05-27</th>\n",
              "      <td>17186.0</td>\n",
              "      <td>18990.0</td>\n",
              "      <td>17186.0</td>\n",
              "      <td>17928.0</td>\n",
              "      <td>115006593572</td>\n",
              "      <td>6415054</td>\n",
              "      <td>-164.0</td>\n",
              "      <td>17761.4</td>\n",
              "    </tr>\n",
              "    <tr>\n",
              "      <th>2020-05-30</th>\n",
              "      <td>18824.0</td>\n",
              "      <td>18824.0</td>\n",
              "      <td>18401.0</td>\n",
              "      <td>18823.0</td>\n",
              "      <td>128426052100</td>\n",
              "      <td>6822804</td>\n",
              "      <td>895.0</td>\n",
              "      <td>17849.8</td>\n",
              "    </tr>\n",
              "    <tr>\n",
              "      <th>2020-05-31</th>\n",
              "      <td>17882.0</td>\n",
              "      <td>19690.0</td>\n",
              "      <td>17882.0</td>\n",
              "      <td>19087.0</td>\n",
              "      <td>70489687776</td>\n",
              "      <td>3692994</td>\n",
              "      <td>264.0</td>\n",
              "      <td>18004.2</td>\n",
              "    </tr>\n",
              "    <tr>\n",
              "      <th>2020-06-01</th>\n",
              "      <td>19980.0</td>\n",
              "      <td>19997.0</td>\n",
              "      <td>19096.0</td>\n",
              "      <td>19392.0</td>\n",
              "      <td>62242497958</td>\n",
              "      <td>3209736</td>\n",
              "      <td>305.0</td>\n",
              "      <td>18264.2</td>\n",
              "    </tr>\n",
              "  </tbody>\n",
              "</table>\n",
              "</div>"
            ],
            "text/plain": [
              "            <FIRST>   <HIGH>    <LOW>  ...    <VOL>  change_in_price    MA_10\n",
              "datetime                               ...                                   \n",
              "2020-05-26  18000.0  18417.0  17960.0  ...  2316851           -813.0  17926.7\n",
              "2020-05-27  17186.0  18990.0  17186.0  ...  6415054           -164.0  17761.4\n",
              "2020-05-30  18824.0  18824.0  18401.0  ...  6822804            895.0  17849.8\n",
              "2020-05-31  17882.0  19690.0  17882.0  ...  3692994            264.0  18004.2\n",
              "2020-06-01  19980.0  19997.0  19096.0  ...  3209736            305.0  18264.2\n",
              "\n",
              "[5 rows x 8 columns]"
            ]
          },
          "metadata": {
            "tags": []
          },
          "execution_count": 186
        }
      ]
    },
    {
      "cell_type": "code",
      "metadata": {
        "id": "080HB4bObesP",
        "colab": {
          "base_uri": "https://localhost:8080/",
          "height": 223
        },
        "outputId": "33824db2-a14c-47fe-f66a-816f10d9e13e"
      },
      "source": [
        "#2. Weighted Moving Average (WMA)\n",
        "def weighted_moving_average(df, n):\n",
        "    \"\"\"\n",
        "    :param df: pandas.DataFrame\n",
        "    :param n:\n",
        "    :return: pandas.DataFrame\n",
        "    \"\"\"\n",
        "    WMA = pd.Series(df['<CLOSE>'].ewm(span=n, min_periods=n).mean(), name='WMA_' + str(n))\n",
        "    df = df.join(WMA)\n",
        "    return df\n",
        "df_new = weighted_moving_average(df_new,10)\n",
        "df_new.tail()"
      ],
      "execution_count": 187,
      "outputs": [
        {
          "output_type": "execute_result",
          "data": {
            "text/html": [
              "<div>\n",
              "<style scoped>\n",
              "    .dataframe tbody tr th:only-of-type {\n",
              "        vertical-align: middle;\n",
              "    }\n",
              "\n",
              "    .dataframe tbody tr th {\n",
              "        vertical-align: top;\n",
              "    }\n",
              "\n",
              "    .dataframe thead th {\n",
              "        text-align: right;\n",
              "    }\n",
              "</style>\n",
              "<table border=\"1\" class=\"dataframe\">\n",
              "  <thead>\n",
              "    <tr style=\"text-align: right;\">\n",
              "      <th></th>\n",
              "      <th>&lt;FIRST&gt;</th>\n",
              "      <th>&lt;HIGH&gt;</th>\n",
              "      <th>&lt;LOW&gt;</th>\n",
              "      <th>&lt;CLOSE&gt;</th>\n",
              "      <th>&lt;VALUE&gt;</th>\n",
              "      <th>&lt;VOL&gt;</th>\n",
              "      <th>change_in_price</th>\n",
              "      <th>MA_10</th>\n",
              "      <th>WMA_10</th>\n",
              "    </tr>\n",
              "    <tr>\n",
              "      <th>datetime</th>\n",
              "      <th></th>\n",
              "      <th></th>\n",
              "      <th></th>\n",
              "      <th></th>\n",
              "      <th></th>\n",
              "      <th></th>\n",
              "      <th></th>\n",
              "      <th></th>\n",
              "      <th></th>\n",
              "    </tr>\n",
              "  </thead>\n",
              "  <tbody>\n",
              "    <tr>\n",
              "      <th>2020-05-26</th>\n",
              "      <td>18000.0</td>\n",
              "      <td>18417.0</td>\n",
              "      <td>17960.0</td>\n",
              "      <td>18092.0</td>\n",
              "      <td>41636609960</td>\n",
              "      <td>2316851</td>\n",
              "      <td>-813.0</td>\n",
              "      <td>17926.7</td>\n",
              "      <td>18259.663642</td>\n",
              "    </tr>\n",
              "    <tr>\n",
              "      <th>2020-05-27</th>\n",
              "      <td>17186.0</td>\n",
              "      <td>18990.0</td>\n",
              "      <td>17186.0</td>\n",
              "      <td>17928.0</td>\n",
              "      <td>115006593572</td>\n",
              "      <td>6415054</td>\n",
              "      <td>-164.0</td>\n",
              "      <td>17761.4</td>\n",
              "      <td>18199.361162</td>\n",
              "    </tr>\n",
              "    <tr>\n",
              "      <th>2020-05-30</th>\n",
              "      <td>18824.0</td>\n",
              "      <td>18824.0</td>\n",
              "      <td>18401.0</td>\n",
              "      <td>18823.0</td>\n",
              "      <td>128426052100</td>\n",
              "      <td>6822804</td>\n",
              "      <td>895.0</td>\n",
              "      <td>17849.8</td>\n",
              "      <td>18312.750041</td>\n",
              "    </tr>\n",
              "    <tr>\n",
              "      <th>2020-05-31</th>\n",
              "      <td>17882.0</td>\n",
              "      <td>19690.0</td>\n",
              "      <td>17882.0</td>\n",
              "      <td>19087.0</td>\n",
              "      <td>70489687776</td>\n",
              "      <td>3692994</td>\n",
              "      <td>264.0</td>\n",
              "      <td>18004.2</td>\n",
              "      <td>18453.522761</td>\n",
              "    </tr>\n",
              "    <tr>\n",
              "      <th>2020-06-01</th>\n",
              "      <td>19980.0</td>\n",
              "      <td>19997.0</td>\n",
              "      <td>19096.0</td>\n",
              "      <td>19392.0</td>\n",
              "      <td>62242497958</td>\n",
              "      <td>3209736</td>\n",
              "      <td>305.0</td>\n",
              "      <td>18264.2</td>\n",
              "      <td>18624.154986</td>\n",
              "    </tr>\n",
              "  </tbody>\n",
              "</table>\n",
              "</div>"
            ],
            "text/plain": [
              "            <FIRST>   <HIGH>    <LOW>  ...  change_in_price    MA_10        WMA_10\n",
              "datetime                               ...                                        \n",
              "2020-05-26  18000.0  18417.0  17960.0  ...           -813.0  17926.7  18259.663642\n",
              "2020-05-27  17186.0  18990.0  17186.0  ...           -164.0  17761.4  18199.361162\n",
              "2020-05-30  18824.0  18824.0  18401.0  ...            895.0  17849.8  18312.750041\n",
              "2020-05-31  17882.0  19690.0  17882.0  ...            264.0  18004.2  18453.522761\n",
              "2020-06-01  19980.0  19997.0  19096.0  ...            305.0  18264.2  18624.154986\n",
              "\n",
              "[5 rows x 9 columns]"
            ]
          },
          "metadata": {
            "tags": []
          },
          "execution_count": 187
        }
      ]
    },
    {
      "cell_type": "code",
      "metadata": {
        "id": "lTZOxNVrbesS",
        "colab": {
          "base_uri": "https://localhost:8080/",
          "height": 223
        },
        "outputId": "28257a88-08a6-4f17-92f6-26e5535c9ae2"
      },
      "source": [
        "#3. Momentum\n",
        "def momentum(df, n):\n",
        "    \"\"\"\n",
        "    :param df: pandas.DataFrame\n",
        "    :param n:\n",
        "    :return: pandas.DataFrame\n",
        "    \"\"\"\n",
        "    M = pd.Series(df['<CLOSE>'].diff(n), name='MOM_' + str(n))\n",
        "    df = df.join(M)\n",
        "    return df\n",
        "df_new = momentum(df_new,10)\n",
        "df_new.tail()"
      ],
      "execution_count": 188,
      "outputs": [
        {
          "output_type": "execute_result",
          "data": {
            "text/html": [
              "<div>\n",
              "<style scoped>\n",
              "    .dataframe tbody tr th:only-of-type {\n",
              "        vertical-align: middle;\n",
              "    }\n",
              "\n",
              "    .dataframe tbody tr th {\n",
              "        vertical-align: top;\n",
              "    }\n",
              "\n",
              "    .dataframe thead th {\n",
              "        text-align: right;\n",
              "    }\n",
              "</style>\n",
              "<table border=\"1\" class=\"dataframe\">\n",
              "  <thead>\n",
              "    <tr style=\"text-align: right;\">\n",
              "      <th></th>\n",
              "      <th>&lt;FIRST&gt;</th>\n",
              "      <th>&lt;HIGH&gt;</th>\n",
              "      <th>&lt;LOW&gt;</th>\n",
              "      <th>&lt;CLOSE&gt;</th>\n",
              "      <th>&lt;VALUE&gt;</th>\n",
              "      <th>&lt;VOL&gt;</th>\n",
              "      <th>change_in_price</th>\n",
              "      <th>MA_10</th>\n",
              "      <th>WMA_10</th>\n",
              "      <th>MOM_10</th>\n",
              "    </tr>\n",
              "    <tr>\n",
              "      <th>datetime</th>\n",
              "      <th></th>\n",
              "      <th></th>\n",
              "      <th></th>\n",
              "      <th></th>\n",
              "      <th></th>\n",
              "      <th></th>\n",
              "      <th></th>\n",
              "      <th></th>\n",
              "      <th></th>\n",
              "      <th></th>\n",
              "    </tr>\n",
              "  </thead>\n",
              "  <tbody>\n",
              "    <tr>\n",
              "      <th>2020-05-26</th>\n",
              "      <td>18000.0</td>\n",
              "      <td>18417.0</td>\n",
              "      <td>17960.0</td>\n",
              "      <td>18092.0</td>\n",
              "      <td>41636609960</td>\n",
              "      <td>2316851</td>\n",
              "      <td>-813.0</td>\n",
              "      <td>17926.7</td>\n",
              "      <td>18259.663642</td>\n",
              "      <td>-2014.0</td>\n",
              "    </tr>\n",
              "    <tr>\n",
              "      <th>2020-05-27</th>\n",
              "      <td>17186.0</td>\n",
              "      <td>18990.0</td>\n",
              "      <td>17186.0</td>\n",
              "      <td>17928.0</td>\n",
              "      <td>115006593572</td>\n",
              "      <td>6415054</td>\n",
              "      <td>-164.0</td>\n",
              "      <td>17761.4</td>\n",
              "      <td>18199.361162</td>\n",
              "      <td>-1653.0</td>\n",
              "    </tr>\n",
              "    <tr>\n",
              "      <th>2020-05-30</th>\n",
              "      <td>18824.0</td>\n",
              "      <td>18824.0</td>\n",
              "      <td>18401.0</td>\n",
              "      <td>18823.0</td>\n",
              "      <td>128426052100</td>\n",
              "      <td>6822804</td>\n",
              "      <td>895.0</td>\n",
              "      <td>17849.8</td>\n",
              "      <td>18312.750041</td>\n",
              "      <td>884.0</td>\n",
              "    </tr>\n",
              "    <tr>\n",
              "      <th>2020-05-31</th>\n",
              "      <td>17882.0</td>\n",
              "      <td>19690.0</td>\n",
              "      <td>17882.0</td>\n",
              "      <td>19087.0</td>\n",
              "      <td>70489687776</td>\n",
              "      <td>3692994</td>\n",
              "      <td>264.0</td>\n",
              "      <td>18004.2</td>\n",
              "      <td>18453.522761</td>\n",
              "      <td>1544.0</td>\n",
              "    </tr>\n",
              "    <tr>\n",
              "      <th>2020-06-01</th>\n",
              "      <td>19980.0</td>\n",
              "      <td>19997.0</td>\n",
              "      <td>19096.0</td>\n",
              "      <td>19392.0</td>\n",
              "      <td>62242497958</td>\n",
              "      <td>3209736</td>\n",
              "      <td>305.0</td>\n",
              "      <td>18264.2</td>\n",
              "      <td>18624.154986</td>\n",
              "      <td>2600.0</td>\n",
              "    </tr>\n",
              "  </tbody>\n",
              "</table>\n",
              "</div>"
            ],
            "text/plain": [
              "            <FIRST>   <HIGH>    <LOW>  ...    MA_10        WMA_10  MOM_10\n",
              "datetime                               ...                               \n",
              "2020-05-26  18000.0  18417.0  17960.0  ...  17926.7  18259.663642 -2014.0\n",
              "2020-05-27  17186.0  18990.0  17186.0  ...  17761.4  18199.361162 -1653.0\n",
              "2020-05-30  18824.0  18824.0  18401.0  ...  17849.8  18312.750041   884.0\n",
              "2020-05-31  17882.0  19690.0  17882.0  ...  18004.2  18453.522761  1544.0\n",
              "2020-06-01  19980.0  19997.0  19096.0  ...  18264.2  18624.154986  2600.0\n",
              "\n",
              "[5 rows x 10 columns]"
            ]
          },
          "metadata": {
            "tags": []
          },
          "execution_count": 188
        }
      ]
    },
    {
      "cell_type": "code",
      "metadata": {
        "id": "9WasGdiqbesV",
        "colab": {
          "base_uri": "https://localhost:8080/",
          "height": 223
        },
        "outputId": "9f5e3432-dad1-4175-ecc7-f9cbd156c002"
      },
      "source": [
        "#4. Stochastic K%\n",
        "def stochastic_oscillator_k(df):\n",
        "    \"\"\"Calculate stochastic oscillator %K for given data.\n",
        "    :param df: pandas.DataFrame\n",
        "    :return: pandas.DataFrame\n",
        "    \"\"\"\n",
        "    SOk = pd.Series((df['<CLOSE>'] - df['<LOW>']) / (df['<HIGH>'] - df['<LOW>']), name='SO_k')\n",
        "    df = df.join(SOk)\n",
        "    return df\n",
        "df_new = stochastic_oscillator_k(df_new)\n",
        "df_new.tail()"
      ],
      "execution_count": 189,
      "outputs": [
        {
          "output_type": "execute_result",
          "data": {
            "text/html": [
              "<div>\n",
              "<style scoped>\n",
              "    .dataframe tbody tr th:only-of-type {\n",
              "        vertical-align: middle;\n",
              "    }\n",
              "\n",
              "    .dataframe tbody tr th {\n",
              "        vertical-align: top;\n",
              "    }\n",
              "\n",
              "    .dataframe thead th {\n",
              "        text-align: right;\n",
              "    }\n",
              "</style>\n",
              "<table border=\"1\" class=\"dataframe\">\n",
              "  <thead>\n",
              "    <tr style=\"text-align: right;\">\n",
              "      <th></th>\n",
              "      <th>&lt;FIRST&gt;</th>\n",
              "      <th>&lt;HIGH&gt;</th>\n",
              "      <th>&lt;LOW&gt;</th>\n",
              "      <th>&lt;CLOSE&gt;</th>\n",
              "      <th>&lt;VALUE&gt;</th>\n",
              "      <th>&lt;VOL&gt;</th>\n",
              "      <th>change_in_price</th>\n",
              "      <th>MA_10</th>\n",
              "      <th>WMA_10</th>\n",
              "      <th>MOM_10</th>\n",
              "      <th>SO_k</th>\n",
              "    </tr>\n",
              "    <tr>\n",
              "      <th>datetime</th>\n",
              "      <th></th>\n",
              "      <th></th>\n",
              "      <th></th>\n",
              "      <th></th>\n",
              "      <th></th>\n",
              "      <th></th>\n",
              "      <th></th>\n",
              "      <th></th>\n",
              "      <th></th>\n",
              "      <th></th>\n",
              "      <th></th>\n",
              "    </tr>\n",
              "  </thead>\n",
              "  <tbody>\n",
              "    <tr>\n",
              "      <th>2020-05-26</th>\n",
              "      <td>18000.0</td>\n",
              "      <td>18417.0</td>\n",
              "      <td>17960.0</td>\n",
              "      <td>18092.0</td>\n",
              "      <td>41636609960</td>\n",
              "      <td>2316851</td>\n",
              "      <td>-813.0</td>\n",
              "      <td>17926.7</td>\n",
              "      <td>18259.663642</td>\n",
              "      <td>-2014.0</td>\n",
              "      <td>0.288840</td>\n",
              "    </tr>\n",
              "    <tr>\n",
              "      <th>2020-05-27</th>\n",
              "      <td>17186.0</td>\n",
              "      <td>18990.0</td>\n",
              "      <td>17186.0</td>\n",
              "      <td>17928.0</td>\n",
              "      <td>115006593572</td>\n",
              "      <td>6415054</td>\n",
              "      <td>-164.0</td>\n",
              "      <td>17761.4</td>\n",
              "      <td>18199.361162</td>\n",
              "      <td>-1653.0</td>\n",
              "      <td>0.411308</td>\n",
              "    </tr>\n",
              "    <tr>\n",
              "      <th>2020-05-30</th>\n",
              "      <td>18824.0</td>\n",
              "      <td>18824.0</td>\n",
              "      <td>18401.0</td>\n",
              "      <td>18823.0</td>\n",
              "      <td>128426052100</td>\n",
              "      <td>6822804</td>\n",
              "      <td>895.0</td>\n",
              "      <td>17849.8</td>\n",
              "      <td>18312.750041</td>\n",
              "      <td>884.0</td>\n",
              "      <td>0.997636</td>\n",
              "    </tr>\n",
              "    <tr>\n",
              "      <th>2020-05-31</th>\n",
              "      <td>17882.0</td>\n",
              "      <td>19690.0</td>\n",
              "      <td>17882.0</td>\n",
              "      <td>19087.0</td>\n",
              "      <td>70489687776</td>\n",
              "      <td>3692994</td>\n",
              "      <td>264.0</td>\n",
              "      <td>18004.2</td>\n",
              "      <td>18453.522761</td>\n",
              "      <td>1544.0</td>\n",
              "      <td>0.666482</td>\n",
              "    </tr>\n",
              "    <tr>\n",
              "      <th>2020-06-01</th>\n",
              "      <td>19980.0</td>\n",
              "      <td>19997.0</td>\n",
              "      <td>19096.0</td>\n",
              "      <td>19392.0</td>\n",
              "      <td>62242497958</td>\n",
              "      <td>3209736</td>\n",
              "      <td>305.0</td>\n",
              "      <td>18264.2</td>\n",
              "      <td>18624.154986</td>\n",
              "      <td>2600.0</td>\n",
              "      <td>0.328524</td>\n",
              "    </tr>\n",
              "  </tbody>\n",
              "</table>\n",
              "</div>"
            ],
            "text/plain": [
              "            <FIRST>   <HIGH>    <LOW>  ...        WMA_10  MOM_10      SO_k\n",
              "datetime                               ...                                \n",
              "2020-05-26  18000.0  18417.0  17960.0  ...  18259.663642 -2014.0  0.288840\n",
              "2020-05-27  17186.0  18990.0  17186.0  ...  18199.361162 -1653.0  0.411308\n",
              "2020-05-30  18824.0  18824.0  18401.0  ...  18312.750041   884.0  0.997636\n",
              "2020-05-31  17882.0  19690.0  17882.0  ...  18453.522761  1544.0  0.666482\n",
              "2020-06-01  19980.0  19997.0  19096.0  ...  18624.154986  2600.0  0.328524\n",
              "\n",
              "[5 rows x 11 columns]"
            ]
          },
          "metadata": {
            "tags": []
          },
          "execution_count": 189
        }
      ]
    },
    {
      "cell_type": "code",
      "metadata": {
        "id": "d5u31Lq2besX",
        "colab": {
          "base_uri": "https://localhost:8080/",
          "height": 223
        },
        "outputId": "cffb9650-27aa-4c4c-edcc-6ee16e51e455"
      },
      "source": [
        "#5. Stochastic D%\n",
        "def stochastic_oscillator_d(df, n):\n",
        "    \"\"\"Calculate stochastic oscillator %D for given data.\n",
        "    :param df: pandas.DataFrame\n",
        "    :param n:\n",
        "    :return: pandas.DataFrame\n",
        "    \"\"\"\n",
        "    SOk = pd.Series((df['<CLOSE>'] - df['<LOW>']) / (df['<HIGH>'] - df['<LOW>']), name='SO%k')\n",
        "    SOd = pd.Series(SOk.ewm(span=n, min_periods=n).mean(), name='SO_' + str(n))\n",
        "    df = df.join(SOd)\n",
        "    return df\n",
        "df_new = stochastic_oscillator_d(df_new,10)\n",
        "df_new.tail()"
      ],
      "execution_count": 190,
      "outputs": [
        {
          "output_type": "execute_result",
          "data": {
            "text/html": [
              "<div>\n",
              "<style scoped>\n",
              "    .dataframe tbody tr th:only-of-type {\n",
              "        vertical-align: middle;\n",
              "    }\n",
              "\n",
              "    .dataframe tbody tr th {\n",
              "        vertical-align: top;\n",
              "    }\n",
              "\n",
              "    .dataframe thead th {\n",
              "        text-align: right;\n",
              "    }\n",
              "</style>\n",
              "<table border=\"1\" class=\"dataframe\">\n",
              "  <thead>\n",
              "    <tr style=\"text-align: right;\">\n",
              "      <th></th>\n",
              "      <th>&lt;FIRST&gt;</th>\n",
              "      <th>&lt;HIGH&gt;</th>\n",
              "      <th>&lt;LOW&gt;</th>\n",
              "      <th>&lt;CLOSE&gt;</th>\n",
              "      <th>&lt;VALUE&gt;</th>\n",
              "      <th>&lt;VOL&gt;</th>\n",
              "      <th>change_in_price</th>\n",
              "      <th>MA_10</th>\n",
              "      <th>WMA_10</th>\n",
              "      <th>MOM_10</th>\n",
              "      <th>SO_k</th>\n",
              "      <th>SO_10</th>\n",
              "    </tr>\n",
              "    <tr>\n",
              "      <th>datetime</th>\n",
              "      <th></th>\n",
              "      <th></th>\n",
              "      <th></th>\n",
              "      <th></th>\n",
              "      <th></th>\n",
              "      <th></th>\n",
              "      <th></th>\n",
              "      <th></th>\n",
              "      <th></th>\n",
              "      <th></th>\n",
              "      <th></th>\n",
              "      <th></th>\n",
              "    </tr>\n",
              "  </thead>\n",
              "  <tbody>\n",
              "    <tr>\n",
              "      <th>2020-05-26</th>\n",
              "      <td>18000.0</td>\n",
              "      <td>18417.0</td>\n",
              "      <td>17960.0</td>\n",
              "      <td>18092.0</td>\n",
              "      <td>41636609960</td>\n",
              "      <td>2316851</td>\n",
              "      <td>-813.0</td>\n",
              "      <td>17926.7</td>\n",
              "      <td>18259.663642</td>\n",
              "      <td>-2014.0</td>\n",
              "      <td>0.288840</td>\n",
              "      <td>0.539398</td>\n",
              "    </tr>\n",
              "    <tr>\n",
              "      <th>2020-05-27</th>\n",
              "      <td>17186.0</td>\n",
              "      <td>18990.0</td>\n",
              "      <td>17186.0</td>\n",
              "      <td>17928.0</td>\n",
              "      <td>115006593572</td>\n",
              "      <td>6415054</td>\n",
              "      <td>-164.0</td>\n",
              "      <td>17761.4</td>\n",
              "      <td>18199.361162</td>\n",
              "      <td>-1653.0</td>\n",
              "      <td>0.411308</td>\n",
              "      <td>0.516099</td>\n",
              "    </tr>\n",
              "    <tr>\n",
              "      <th>2020-05-30</th>\n",
              "      <td>18824.0</td>\n",
              "      <td>18824.0</td>\n",
              "      <td>18401.0</td>\n",
              "      <td>18823.0</td>\n",
              "      <td>128426052100</td>\n",
              "      <td>6822804</td>\n",
              "      <td>895.0</td>\n",
              "      <td>17849.8</td>\n",
              "      <td>18312.750041</td>\n",
              "      <td>884.0</td>\n",
              "      <td>0.997636</td>\n",
              "      <td>0.603680</td>\n",
              "    </tr>\n",
              "    <tr>\n",
              "      <th>2020-05-31</th>\n",
              "      <td>17882.0</td>\n",
              "      <td>19690.0</td>\n",
              "      <td>17882.0</td>\n",
              "      <td>19087.0</td>\n",
              "      <td>70489687776</td>\n",
              "      <td>3692994</td>\n",
              "      <td>264.0</td>\n",
              "      <td>18004.2</td>\n",
              "      <td>18453.522761</td>\n",
              "      <td>1544.0</td>\n",
              "      <td>0.666482</td>\n",
              "      <td>0.615102</td>\n",
              "    </tr>\n",
              "    <tr>\n",
              "      <th>2020-06-01</th>\n",
              "      <td>19980.0</td>\n",
              "      <td>19997.0</td>\n",
              "      <td>19096.0</td>\n",
              "      <td>19392.0</td>\n",
              "      <td>62242497958</td>\n",
              "      <td>3209736</td>\n",
              "      <td>305.0</td>\n",
              "      <td>18264.2</td>\n",
              "      <td>18624.154986</td>\n",
              "      <td>2600.0</td>\n",
              "      <td>0.328524</td>\n",
              "      <td>0.562985</td>\n",
              "    </tr>\n",
              "  </tbody>\n",
              "</table>\n",
              "</div>"
            ],
            "text/plain": [
              "            <FIRST>   <HIGH>    <LOW>  ...  MOM_10      SO_k     SO_10\n",
              "datetime                               ...                            \n",
              "2020-05-26  18000.0  18417.0  17960.0  ... -2014.0  0.288840  0.539398\n",
              "2020-05-27  17186.0  18990.0  17186.0  ... -1653.0  0.411308  0.516099\n",
              "2020-05-30  18824.0  18824.0  18401.0  ...   884.0  0.997636  0.603680\n",
              "2020-05-31  17882.0  19690.0  17882.0  ...  1544.0  0.666482  0.615102\n",
              "2020-06-01  19980.0  19997.0  19096.0  ...  2600.0  0.328524  0.562985\n",
              "\n",
              "[5 rows x 12 columns]"
            ]
          },
          "metadata": {
            "tags": []
          },
          "execution_count": 190
        }
      ]
    },
    {
      "cell_type": "code",
      "metadata": {
        "id": "oki_RUaObesb",
        "colab": {
          "base_uri": "https://localhost:8080/",
          "height": 124
        },
        "outputId": "4b0e340e-a27e-4250-ad04-5a957f8fc5f0"
      },
      "source": [
        "#6. Relative Strength Index\n",
        "#Error\n",
        "\"\"\"\n",
        "def relative_strength_index(df, n):\n",
        "    Calculate Relative Strength Index(RSI) for given data.\n",
        "    :param df: pandas.DataFrame\n",
        "    :param n:\n",
        "    :return: pandas.DataFrame\n",
        "    i = df.index[0]\n",
        "    UpI = [0]\n",
        "    DoI = [0]\n",
        "    while i + 1 <= df.index[-1]:\n",
        "        UpMove = float(df.loc[i + 1, 'high']) - float(df.loc[i, 'high'])\n",
        "        DoMove = float(df.loc[i, 'low']) - float(df.loc[i + 1, 'low'])\n",
        "        if UpMove > DoMove and UpMove > 0:\n",
        "            UpD = UpMove\n",
        "        else:\n",
        "            UpD = 0\n",
        "        UpI.append(UpD)\n",
        "        if DoMove > UpMove and DoMove > 0:\n",
        "            DoD = DoMove\n",
        "        else:\n",
        "            DoD = 0\n",
        "        DoI.append(DoD)\n",
        "        i = i + 1\n",
        "    UpI = pd.Series(UpI)\n",
        "\n",
        "    DoI = pd.Series(DoI)\n",
        "    PosDI = pd.Series(UpI.ewm(span=n, min_periods=n).mean())\n",
        "    NegDI = pd.Series(DoI.ewm(span=n, min_periods=n).mean())\n",
        "\n",
        "    # rsi = pd.Series(PosDI / (PosDI + NegDI), name='RSI_' + str(n))\n",
        "    rsi = pd.DataFrame(PosDI / (PosDI + NegDI), columns=['RSI_' + str(n)])\n",
        "    rsi = rsi.set_index(df.index)\n",
        "    df = df.join(rsi)\n",
        "    return df\n",
        "\"\"\""
      ],
      "execution_count": 191,
      "outputs": [
        {
          "output_type": "execute_result",
          "data": {
            "application/vnd.google.colaboratory.intrinsic+json": {
              "type": "string"
            },
            "text/plain": [
              "\"\\ndef relative_strength_index(df, n):\\n    Calculate Relative Strength Index(RSI) for given data.\\n    :param df: pandas.DataFrame\\n    :param n:\\n    :return: pandas.DataFrame\\n    i = df.index[0]\\n    UpI = [0]\\n    DoI = [0]\\n    while i + 1 <= df.index[-1]:\\n        UpMove = float(df.loc[i + 1, 'high']) - float(df.loc[i, 'high'])\\n        DoMove = float(df.loc[i, 'low']) - float(df.loc[i + 1, 'low'])\\n        if UpMove > DoMove and UpMove > 0:\\n            UpD = UpMove\\n        else:\\n            UpD = 0\\n        UpI.append(UpD)\\n        if DoMove > UpMove and DoMove > 0:\\n            DoD = DoMove\\n        else:\\n            DoD = 0\\n        DoI.append(DoD)\\n        i = i + 1\\n    UpI = pd.Series(UpI)\\n\\n    DoI = pd.Series(DoI)\\n    PosDI = pd.Series(UpI.ewm(span=n, min_periods=n).mean())\\n    NegDI = pd.Series(DoI.ewm(span=n, min_periods=n).mean())\\n\\n    # rsi = pd.Series(PosDI / (PosDI + NegDI), name='RSI_' + str(n))\\n    rsi = pd.DataFrame(PosDI / (PosDI + NegDI), columns=['RSI_' + str(n)])\\n    rsi = rsi.set_index(df.index)\\n    df = df.join(rsi)\\n    return df\\n\""
            ]
          },
          "metadata": {
            "tags": []
          },
          "execution_count": 191
        }
      ]
    },
    {
      "cell_type": "code",
      "metadata": {
        "id": "SzBt7Xdobese",
        "colab": {
          "base_uri": "https://localhost:8080/",
          "height": 223
        },
        "outputId": "3b17dc65-1cdb-413a-8e61-8f4ecd78a523"
      },
      "source": [
        "#7. Signal\n",
        "def macd(df, n_fast, n_slow):\n",
        "    \"\"\"Calculate MACD, MACD Signal and MACD difference\n",
        "    :param df: pandas.DataFrame\n",
        "    :param n_fast:\n",
        "    :param n_slow:\n",
        "    :return: pandas.DataFrame\n",
        "    \"\"\"\n",
        "    EMAfast = pd.Series(df['<CLOSE>'].ewm(span=n_fast, min_periods=n_slow).mean())\n",
        "    EMAslow = pd.Series(df['<CLOSE>'].ewm(span=n_slow, min_periods=n_slow).mean())\n",
        "    MACD = pd.Series(EMAfast - EMAslow, name='MACD_' + str(n_fast) + '_' + str(n_slow))\n",
        "    MACDsign = pd.Series(MACD.ewm(span=9, min_periods=9).mean(), name='MACDsign_' + str(n_fast) + '_' + str(n_slow))\n",
        "    MACDdiff = pd.Series(MACD - MACDsign, name='MACDdiff_' + str(n_fast) + '_' + str(n_slow))\n",
        "    df = df.join(MACD)\n",
        "    df = df.join(MACDsign)\n",
        "    df = df.join(MACDdiff)\n",
        "    return df\n",
        "df_new = macd(df_new,12,26)\n",
        "df_new.head()"
      ],
      "execution_count": 192,
      "outputs": [
        {
          "output_type": "execute_result",
          "data": {
            "text/html": [
              "<div>\n",
              "<style scoped>\n",
              "    .dataframe tbody tr th:only-of-type {\n",
              "        vertical-align: middle;\n",
              "    }\n",
              "\n",
              "    .dataframe tbody tr th {\n",
              "        vertical-align: top;\n",
              "    }\n",
              "\n",
              "    .dataframe thead th {\n",
              "        text-align: right;\n",
              "    }\n",
              "</style>\n",
              "<table border=\"1\" class=\"dataframe\">\n",
              "  <thead>\n",
              "    <tr style=\"text-align: right;\">\n",
              "      <th></th>\n",
              "      <th>&lt;FIRST&gt;</th>\n",
              "      <th>&lt;HIGH&gt;</th>\n",
              "      <th>&lt;LOW&gt;</th>\n",
              "      <th>&lt;CLOSE&gt;</th>\n",
              "      <th>&lt;VALUE&gt;</th>\n",
              "      <th>&lt;VOL&gt;</th>\n",
              "      <th>change_in_price</th>\n",
              "      <th>MA_10</th>\n",
              "      <th>WMA_10</th>\n",
              "      <th>MOM_10</th>\n",
              "      <th>SO_k</th>\n",
              "      <th>SO_10</th>\n",
              "      <th>MACD_12_26</th>\n",
              "      <th>MACDsign_12_26</th>\n",
              "      <th>MACDdiff_12_26</th>\n",
              "    </tr>\n",
              "    <tr>\n",
              "      <th>datetime</th>\n",
              "      <th></th>\n",
              "      <th></th>\n",
              "      <th></th>\n",
              "      <th></th>\n",
              "      <th></th>\n",
              "      <th></th>\n",
              "      <th></th>\n",
              "      <th></th>\n",
              "      <th></th>\n",
              "      <th></th>\n",
              "      <th></th>\n",
              "      <th></th>\n",
              "      <th></th>\n",
              "      <th></th>\n",
              "      <th></th>\n",
              "    </tr>\n",
              "  </thead>\n",
              "  <tbody>\n",
              "    <tr>\n",
              "      <th>2001-03-25</th>\n",
              "      <td>2140.0</td>\n",
              "      <td>2140.0</td>\n",
              "      <td>2139.0</td>\n",
              "      <td>2140.0</td>\n",
              "      <td>349714320</td>\n",
              "      <td>163488</td>\n",
              "      <td>NaN</td>\n",
              "      <td>NaN</td>\n",
              "      <td>NaN</td>\n",
              "      <td>NaN</td>\n",
              "      <td>1.000000</td>\n",
              "      <td>NaN</td>\n",
              "      <td>NaN</td>\n",
              "      <td>NaN</td>\n",
              "      <td>NaN</td>\n",
              "    </tr>\n",
              "    <tr>\n",
              "      <th>2001-03-26</th>\n",
              "      <td>2135.0</td>\n",
              "      <td>2136.0</td>\n",
              "      <td>2100.0</td>\n",
              "      <td>2100.0</td>\n",
              "      <td>37030936</td>\n",
              "      <td>17577</td>\n",
              "      <td>-40.0</td>\n",
              "      <td>NaN</td>\n",
              "      <td>NaN</td>\n",
              "      <td>NaN</td>\n",
              "      <td>0.000000</td>\n",
              "      <td>NaN</td>\n",
              "      <td>NaN</td>\n",
              "      <td>NaN</td>\n",
              "      <td>NaN</td>\n",
              "    </tr>\n",
              "    <tr>\n",
              "      <th>2001-03-27</th>\n",
              "      <td>2100.0</td>\n",
              "      <td>2100.0</td>\n",
              "      <td>2045.0</td>\n",
              "      <td>2050.0</td>\n",
              "      <td>200173239</td>\n",
              "      <td>97608</td>\n",
              "      <td>-50.0</td>\n",
              "      <td>NaN</td>\n",
              "      <td>NaN</td>\n",
              "      <td>NaN</td>\n",
              "      <td>0.090909</td>\n",
              "      <td>NaN</td>\n",
              "      <td>NaN</td>\n",
              "      <td>NaN</td>\n",
              "      <td>NaN</td>\n",
              "    </tr>\n",
              "    <tr>\n",
              "      <th>2001-03-28</th>\n",
              "      <td>2049.0</td>\n",
              "      <td>2100.0</td>\n",
              "      <td>2020.0</td>\n",
              "      <td>2100.0</td>\n",
              "      <td>120265895</td>\n",
              "      <td>59019</td>\n",
              "      <td>50.0</td>\n",
              "      <td>NaN</td>\n",
              "      <td>NaN</td>\n",
              "      <td>NaN</td>\n",
              "      <td>1.000000</td>\n",
              "      <td>NaN</td>\n",
              "      <td>NaN</td>\n",
              "      <td>NaN</td>\n",
              "      <td>NaN</td>\n",
              "    </tr>\n",
              "    <tr>\n",
              "      <th>2001-03-31</th>\n",
              "      <td>2101.0</td>\n",
              "      <td>2205.0</td>\n",
              "      <td>2100.0</td>\n",
              "      <td>2205.0</td>\n",
              "      <td>187171518</td>\n",
              "      <td>85296</td>\n",
              "      <td>105.0</td>\n",
              "      <td>NaN</td>\n",
              "      <td>NaN</td>\n",
              "      <td>NaN</td>\n",
              "      <td>1.000000</td>\n",
              "      <td>NaN</td>\n",
              "      <td>NaN</td>\n",
              "      <td>NaN</td>\n",
              "      <td>NaN</td>\n",
              "    </tr>\n",
              "  </tbody>\n",
              "</table>\n",
              "</div>"
            ],
            "text/plain": [
              "            <FIRST>  <HIGH>   <LOW>  ...  MACD_12_26  MACDsign_12_26  MACDdiff_12_26\n",
              "datetime                             ...                                            \n",
              "2001-03-25   2140.0  2140.0  2139.0  ...         NaN             NaN             NaN\n",
              "2001-03-26   2135.0  2136.0  2100.0  ...         NaN             NaN             NaN\n",
              "2001-03-27   2100.0  2100.0  2045.0  ...         NaN             NaN             NaN\n",
              "2001-03-28   2049.0  2100.0  2020.0  ...         NaN             NaN             NaN\n",
              "2001-03-31   2101.0  2205.0  2100.0  ...         NaN             NaN             NaN\n",
              "\n",
              "[5 rows x 15 columns]"
            ]
          },
          "metadata": {
            "tags": []
          },
          "execution_count": 192
        }
      ]
    },
    {
      "cell_type": "code",
      "metadata": {
        "id": "cfobRA3dbesh"
      },
      "source": [
        "#8. Larry Williams R%\n",
        "#lEFT"
      ],
      "execution_count": 193,
      "outputs": []
    },
    {
      "cell_type": "code",
      "metadata": {
        "id": "tAAH6tYWbesm",
        "colab": {
          "base_uri": "https://localhost:8080/",
          "height": 363
        },
        "outputId": "14842cce-79c7-4056-f2e7-973869949a4b"
      },
      "source": [
        "#9. Accumulation / Distribution\n",
        "def accumulation_distribution(df, n):\n",
        "    \"\"\"Calculate Accumulation/Distribution for given data.\n",
        "    :param df: pandas.DataFrame\n",
        "    :param n:\n",
        "    :return: pandas.DataFrame\n",
        "    \"\"\"\n",
        "    ad = (2 * df['<CLOSE>'] - df['<HIGH>'] - df['<LOW>']) / (df['<HIGH>'] - df['<LOW>']) * df['<VOL>']\n",
        "    M = ad.diff(n - 1)\n",
        "    N = ad.shift(n - 1)\n",
        "    ROC = M / N\n",
        "    AD = pd.Series(ROC, name='Acc/Dist_ROC_' + str(n))\n",
        "    df = df.join(AD)\n",
        "    return df\n",
        "df_new = accumulation_distribution(df_new,10)\n",
        "df_new.tail()"
      ],
      "execution_count": 194,
      "outputs": [
        {
          "output_type": "stream",
          "text": [
            "/usr/local/lib/python3.6/dist-packages/pandas/core/algorithms.py:1977: RuntimeWarning: invalid value encountered in subtract\n",
            "  out_arr[res_indexer] = arr[res_indexer] - arr[lag_indexer]\n"
          ],
          "name": "stderr"
        },
        {
          "output_type": "execute_result",
          "data": {
            "text/html": [
              "<div>\n",
              "<style scoped>\n",
              "    .dataframe tbody tr th:only-of-type {\n",
              "        vertical-align: middle;\n",
              "    }\n",
              "\n",
              "    .dataframe tbody tr th {\n",
              "        vertical-align: top;\n",
              "    }\n",
              "\n",
              "    .dataframe thead th {\n",
              "        text-align: right;\n",
              "    }\n",
              "</style>\n",
              "<table border=\"1\" class=\"dataframe\">\n",
              "  <thead>\n",
              "    <tr style=\"text-align: right;\">\n",
              "      <th></th>\n",
              "      <th>&lt;FIRST&gt;</th>\n",
              "      <th>&lt;HIGH&gt;</th>\n",
              "      <th>&lt;LOW&gt;</th>\n",
              "      <th>&lt;CLOSE&gt;</th>\n",
              "      <th>&lt;VALUE&gt;</th>\n",
              "      <th>&lt;VOL&gt;</th>\n",
              "      <th>change_in_price</th>\n",
              "      <th>MA_10</th>\n",
              "      <th>WMA_10</th>\n",
              "      <th>MOM_10</th>\n",
              "      <th>SO_k</th>\n",
              "      <th>SO_10</th>\n",
              "      <th>MACD_12_26</th>\n",
              "      <th>MACDsign_12_26</th>\n",
              "      <th>MACDdiff_12_26</th>\n",
              "      <th>Acc/Dist_ROC_10</th>\n",
              "    </tr>\n",
              "    <tr>\n",
              "      <th>datetime</th>\n",
              "      <th></th>\n",
              "      <th></th>\n",
              "      <th></th>\n",
              "      <th></th>\n",
              "      <th></th>\n",
              "      <th></th>\n",
              "      <th></th>\n",
              "      <th></th>\n",
              "      <th></th>\n",
              "      <th></th>\n",
              "      <th></th>\n",
              "      <th></th>\n",
              "      <th></th>\n",
              "      <th></th>\n",
              "      <th></th>\n",
              "      <th></th>\n",
              "    </tr>\n",
              "  </thead>\n",
              "  <tbody>\n",
              "    <tr>\n",
              "      <th>2020-05-26</th>\n",
              "      <td>18000.0</td>\n",
              "      <td>18417.0</td>\n",
              "      <td>17960.0</td>\n",
              "      <td>18092.0</td>\n",
              "      <td>41636609960</td>\n",
              "      <td>2316851</td>\n",
              "      <td>-813.0</td>\n",
              "      <td>17926.7</td>\n",
              "      <td>18259.663642</td>\n",
              "      <td>-2014.0</td>\n",
              "      <td>0.288840</td>\n",
              "      <td>0.539398</td>\n",
              "      <td>617.206061</td>\n",
              "      <td>951.060144</td>\n",
              "      <td>-333.854083</td>\n",
              "      <td>-0.652602</td>\n",
              "    </tr>\n",
              "    <tr>\n",
              "      <th>2020-05-27</th>\n",
              "      <td>17186.0</td>\n",
              "      <td>18990.0</td>\n",
              "      <td>17186.0</td>\n",
              "      <td>17928.0</td>\n",
              "      <td>115006593572</td>\n",
              "      <td>6415054</td>\n",
              "      <td>-164.0</td>\n",
              "      <td>17761.4</td>\n",
              "      <td>18199.361162</td>\n",
              "      <td>-1653.0</td>\n",
              "      <td>0.411308</td>\n",
              "      <td>0.516099</td>\n",
              "      <td>544.399044</td>\n",
              "      <td>869.727924</td>\n",
              "      <td>-325.328879</td>\n",
              "      <td>0.202279</td>\n",
              "    </tr>\n",
              "    <tr>\n",
              "      <th>2020-05-30</th>\n",
              "      <td>18824.0</td>\n",
              "      <td>18824.0</td>\n",
              "      <td>18401.0</td>\n",
              "      <td>18823.0</td>\n",
              "      <td>128426052100</td>\n",
              "      <td>6822804</td>\n",
              "      <td>895.0</td>\n",
              "      <td>17849.8</td>\n",
              "      <td>18312.750041</td>\n",
              "      <td>884.0</td>\n",
              "      <td>0.997636</td>\n",
              "      <td>0.603680</td>\n",
              "      <td>552.548544</td>\n",
              "      <td>806.292048</td>\n",
              "      <td>-253.743504</td>\n",
              "      <td>-2.330912</td>\n",
              "    </tr>\n",
              "    <tr>\n",
              "      <th>2020-05-31</th>\n",
              "      <td>17882.0</td>\n",
              "      <td>19690.0</td>\n",
              "      <td>17882.0</td>\n",
              "      <td>19087.0</td>\n",
              "      <td>70489687776</td>\n",
              "      <td>3692994</td>\n",
              "      <td>264.0</td>\n",
              "      <td>18004.2</td>\n",
              "      <td>18453.522761</td>\n",
              "      <td>1544.0</td>\n",
              "      <td>0.666482</td>\n",
              "      <td>0.615102</td>\n",
              "      <td>573.696459</td>\n",
              "      <td>759.772930</td>\n",
              "      <td>-186.076471</td>\n",
              "      <td>-1.665997</td>\n",
              "    </tr>\n",
              "    <tr>\n",
              "      <th>2020-06-01</th>\n",
              "      <td>19980.0</td>\n",
              "      <td>19997.0</td>\n",
              "      <td>19096.0</td>\n",
              "      <td>19392.0</td>\n",
              "      <td>62242497958</td>\n",
              "      <td>3209736</td>\n",
              "      <td>305.0</td>\n",
              "      <td>18264.2</td>\n",
              "      <td>18624.154986</td>\n",
              "      <td>2600.0</td>\n",
              "      <td>0.328524</td>\n",
              "      <td>0.562985</td>\n",
              "      <td>608.057971</td>\n",
              "      <td>729.429938</td>\n",
              "      <td>-121.371967</td>\n",
              "      <td>-0.668024</td>\n",
              "    </tr>\n",
              "  </tbody>\n",
              "</table>\n",
              "</div>"
            ],
            "text/plain": [
              "            <FIRST>   <HIGH>  ...  MACDdiff_12_26  Acc/Dist_ROC_10\n",
              "datetime                      ...                                 \n",
              "2020-05-26  18000.0  18417.0  ...     -333.854083        -0.652602\n",
              "2020-05-27  17186.0  18990.0  ...     -325.328879         0.202279\n",
              "2020-05-30  18824.0  18824.0  ...     -253.743504        -2.330912\n",
              "2020-05-31  17882.0  19690.0  ...     -186.076471        -1.665997\n",
              "2020-06-01  19980.0  19997.0  ...     -121.371967        -0.668024\n",
              "\n",
              "[5 rows x 16 columns]"
            ]
          },
          "metadata": {
            "tags": []
          },
          "execution_count": 194
        }
      ]
    },
    {
      "cell_type": "code",
      "metadata": {
        "id": "XCFLfxtUbesq",
        "colab": {
          "base_uri": "https://localhost:8080/",
          "height": 328
        },
        "outputId": "e5166feb-c960-4a22-e54d-29009b1bb62d"
      },
      "source": [
        "#10. Commodity Channel Index\n",
        "def commodity_channel_index(df, n):\n",
        "    \"\"\"Calculate Commodity Channel Index for given data.\n",
        "    :param df: pandas.DataFrame\n",
        "    :param n:\n",
        "    :return: pandas.DataFrame\n",
        "    \"\"\"\n",
        "    PP = (df['<HIGH>'] + df['<LOW>'] + df['<CLOSE>']) / 3\n",
        "    CCI = pd.Series((PP - PP.rolling(n, min_periods=n).mean()) / PP.rolling(n, min_periods=n).std(),\n",
        "                    name='CCI_' + str(n))\n",
        "    df = df.join(CCI)\n",
        "    return df\n",
        "df_new = commodity_channel_index(df_new,10)\n",
        "df_new.tail()"
      ],
      "execution_count": 195,
      "outputs": [
        {
          "output_type": "execute_result",
          "data": {
            "text/html": [
              "<div>\n",
              "<style scoped>\n",
              "    .dataframe tbody tr th:only-of-type {\n",
              "        vertical-align: middle;\n",
              "    }\n",
              "\n",
              "    .dataframe tbody tr th {\n",
              "        vertical-align: top;\n",
              "    }\n",
              "\n",
              "    .dataframe thead th {\n",
              "        text-align: right;\n",
              "    }\n",
              "</style>\n",
              "<table border=\"1\" class=\"dataframe\">\n",
              "  <thead>\n",
              "    <tr style=\"text-align: right;\">\n",
              "      <th></th>\n",
              "      <th>&lt;FIRST&gt;</th>\n",
              "      <th>&lt;HIGH&gt;</th>\n",
              "      <th>&lt;LOW&gt;</th>\n",
              "      <th>&lt;CLOSE&gt;</th>\n",
              "      <th>&lt;VALUE&gt;</th>\n",
              "      <th>&lt;VOL&gt;</th>\n",
              "      <th>change_in_price</th>\n",
              "      <th>MA_10</th>\n",
              "      <th>WMA_10</th>\n",
              "      <th>MOM_10</th>\n",
              "      <th>SO_k</th>\n",
              "      <th>SO_10</th>\n",
              "      <th>MACD_12_26</th>\n",
              "      <th>MACDsign_12_26</th>\n",
              "      <th>MACDdiff_12_26</th>\n",
              "      <th>Acc/Dist_ROC_10</th>\n",
              "      <th>CCI_10</th>\n",
              "    </tr>\n",
              "    <tr>\n",
              "      <th>datetime</th>\n",
              "      <th></th>\n",
              "      <th></th>\n",
              "      <th></th>\n",
              "      <th></th>\n",
              "      <th></th>\n",
              "      <th></th>\n",
              "      <th></th>\n",
              "      <th></th>\n",
              "      <th></th>\n",
              "      <th></th>\n",
              "      <th></th>\n",
              "      <th></th>\n",
              "      <th></th>\n",
              "      <th></th>\n",
              "      <th></th>\n",
              "      <th></th>\n",
              "      <th></th>\n",
              "    </tr>\n",
              "  </thead>\n",
              "  <tbody>\n",
              "    <tr>\n",
              "      <th>2020-05-26</th>\n",
              "      <td>18000.0</td>\n",
              "      <td>18417.0</td>\n",
              "      <td>17960.0</td>\n",
              "      <td>18092.0</td>\n",
              "      <td>41636609960</td>\n",
              "      <td>2316851</td>\n",
              "      <td>-813.0</td>\n",
              "      <td>17926.7</td>\n",
              "      <td>18259.663642</td>\n",
              "      <td>-2014.0</td>\n",
              "      <td>0.288840</td>\n",
              "      <td>0.539398</td>\n",
              "      <td>617.206061</td>\n",
              "      <td>951.060144</td>\n",
              "      <td>-333.854083</td>\n",
              "      <td>-0.652602</td>\n",
              "      <td>0.177397</td>\n",
              "    </tr>\n",
              "    <tr>\n",
              "      <th>2020-05-27</th>\n",
              "      <td>17186.0</td>\n",
              "      <td>18990.0</td>\n",
              "      <td>17186.0</td>\n",
              "      <td>17928.0</td>\n",
              "      <td>115006593572</td>\n",
              "      <td>6415054</td>\n",
              "      <td>-164.0</td>\n",
              "      <td>17761.4</td>\n",
              "      <td>18199.361162</td>\n",
              "      <td>-1653.0</td>\n",
              "      <td>0.411308</td>\n",
              "      <td>0.516099</td>\n",
              "      <td>544.399044</td>\n",
              "      <td>869.727924</td>\n",
              "      <td>-325.328879</td>\n",
              "      <td>0.202279</td>\n",
              "      <td>0.309628</td>\n",
              "    </tr>\n",
              "    <tr>\n",
              "      <th>2020-05-30</th>\n",
              "      <td>18824.0</td>\n",
              "      <td>18824.0</td>\n",
              "      <td>18401.0</td>\n",
              "      <td>18823.0</td>\n",
              "      <td>128426052100</td>\n",
              "      <td>6822804</td>\n",
              "      <td>895.0</td>\n",
              "      <td>17849.8</td>\n",
              "      <td>18312.750041</td>\n",
              "      <td>884.0</td>\n",
              "      <td>0.997636</td>\n",
              "      <td>0.603680</td>\n",
              "      <td>552.548544</td>\n",
              "      <td>806.292048</td>\n",
              "      <td>-253.743504</td>\n",
              "      <td>-2.330912</td>\n",
              "      <td>1.020630</td>\n",
              "    </tr>\n",
              "    <tr>\n",
              "      <th>2020-05-31</th>\n",
              "      <td>17882.0</td>\n",
              "      <td>19690.0</td>\n",
              "      <td>17882.0</td>\n",
              "      <td>19087.0</td>\n",
              "      <td>70489687776</td>\n",
              "      <td>3692994</td>\n",
              "      <td>264.0</td>\n",
              "      <td>18004.2</td>\n",
              "      <td>18453.522761</td>\n",
              "      <td>1544.0</td>\n",
              "      <td>0.666482</td>\n",
              "      <td>0.615102</td>\n",
              "      <td>573.696459</td>\n",
              "      <td>759.772930</td>\n",
              "      <td>-186.076471</td>\n",
              "      <td>-1.665997</td>\n",
              "      <td>1.056782</td>\n",
              "    </tr>\n",
              "    <tr>\n",
              "      <th>2020-06-01</th>\n",
              "      <td>19980.0</td>\n",
              "      <td>19997.0</td>\n",
              "      <td>19096.0</td>\n",
              "      <td>19392.0</td>\n",
              "      <td>62242497958</td>\n",
              "      <td>3209736</td>\n",
              "      <td>305.0</td>\n",
              "      <td>18264.2</td>\n",
              "      <td>18624.154986</td>\n",
              "      <td>2600.0</td>\n",
              "      <td>0.328524</td>\n",
              "      <td>0.562985</td>\n",
              "      <td>608.057971</td>\n",
              "      <td>729.429938</td>\n",
              "      <td>-121.371967</td>\n",
              "      <td>-0.668024</td>\n",
              "      <td>1.396910</td>\n",
              "    </tr>\n",
              "  </tbody>\n",
              "</table>\n",
              "</div>"
            ],
            "text/plain": [
              "            <FIRST>   <HIGH>  ...  Acc/Dist_ROC_10    CCI_10\n",
              "datetime                      ...                           \n",
              "2020-05-26  18000.0  18417.0  ...        -0.652602  0.177397\n",
              "2020-05-27  17186.0  18990.0  ...         0.202279  0.309628\n",
              "2020-05-30  18824.0  18824.0  ...        -2.330912  1.020630\n",
              "2020-05-31  17882.0  19690.0  ...        -1.665997  1.056782\n",
              "2020-06-01  19980.0  19997.0  ...        -0.668024  1.396910\n",
              "\n",
              "[5 rows x 17 columns]"
            ]
          },
          "metadata": {
            "tags": []
          },
          "execution_count": 195
        }
      ]
    },
    {
      "cell_type": "code",
      "metadata": {
        "id": "HHQkL2Fybesu",
        "colab": {
          "base_uri": "https://localhost:8080/"
        },
        "outputId": "8515a19a-f6a8-468f-e5cf-8a7f11f3cd7f"
      },
      "source": [
        "df_new.mean()"
      ],
      "execution_count": 196,
      "outputs": [
        {
          "output_type": "execute_result",
          "data": {
            "text/plain": [
              "<FIRST>            2.314985e+03\n",
              "<HIGH>             2.354751e+03\n",
              "<LOW>              2.270215e+03\n",
              "<CLOSE>            2.315439e+03\n",
              "<VALUE>            8.081839e+09\n",
              "<VOL>              2.544001e+06\n",
              "change_in_price    4.222222e+00\n",
              "MA_10              2.297528e+03\n",
              "WMA_10             2.297644e+03\n",
              "MOM_10             3.948173e+01\n",
              "SO_k                        NaN\n",
              "SO_10              5.351231e-01\n",
              "MACD_12_26         2.610116e+01\n",
              "MACDsign_12_26     2.537952e+01\n",
              "MACDdiff_12_26     6.755629e-01\n",
              "Acc/Dist_ROC_10             NaN\n",
              "CCI_10            -6.896271e-02\n",
              "dtype: float64"
            ]
          },
          "metadata": {
            "tags": []
          },
          "execution_count": 196
        }
      ]
    },
    {
      "cell_type": "code",
      "metadata": {
        "id": "mSwQUUeKbesx",
        "colab": {
          "base_uri": "https://localhost:8080/"
        },
        "outputId": "518490b6-253d-4417-f1c9-6fb6955b9b22"
      },
      "source": [
        "df_new.min()"
      ],
      "execution_count": 197,
      "outputs": [
        {
          "output_type": "execute_result",
          "data": {
            "text/plain": [
              "<FIRST>             491.000000\n",
              "<HIGH>              491.000000\n",
              "<LOW>               491.000000\n",
              "<CLOSE>             506.000000\n",
              "<VALUE>            5710.000000\n",
              "<VOL>                10.000000\n",
              "change_in_price   -1642.000000\n",
              "MA_10               515.100000\n",
              "WMA_10              518.418291\n",
              "MOM_10            -4300.000000\n",
              "SO_k                      -inf\n",
              "SO_10                -4.641678\n",
              "MACD_12_26         -833.183394\n",
              "MACDsign_12_26     -759.151369\n",
              "MACDdiff_12_26     -663.921320\n",
              "Acc/Dist_ROC_10           -inf\n",
              "CCI_10               -2.846050\n",
              "dtype: float64"
            ]
          },
          "metadata": {
            "tags": []
          },
          "execution_count": 197
        }
      ]
    },
    {
      "cell_type": "code",
      "metadata": {
        "id": "mMVVklQPbes1",
        "colab": {
          "base_uri": "https://localhost:8080/"
        },
        "outputId": "846b24ad-5eee-4b89-aa33-b93074e41779"
      },
      "source": [
        "df_new.max()"
      ],
      "execution_count": 198,
      "outputs": [
        {
          "output_type": "execute_result",
          "data": {
            "text/plain": [
              "<FIRST>            2.200000e+04\n",
              "<HIGH>             2.250000e+04\n",
              "<LOW>              2.148200e+04\n",
              "<CLOSE>            2.148300e+04\n",
              "<VALUE>            3.370985e+11\n",
              "<VOL>              8.097697e+07\n",
              "change_in_price    1.311000e+03\n",
              "MA_10              2.005040e+04\n",
              "WMA_10             1.964120e+04\n",
              "MOM_10             5.604000e+03\n",
              "SO_k                        inf\n",
              "SO_10              7.132721e+00\n",
              "MACD_12_26         2.305244e+03\n",
              "MACDsign_12_26     2.060763e+03\n",
              "MACDdiff_12_26     4.236789e+02\n",
              "Acc/Dist_ROC_10             inf\n",
              "CCI_10             2.839801e+00\n",
              "dtype: float64"
            ]
          },
          "metadata": {
            "tags": []
          },
          "execution_count": 198
        }
      ]
    },
    {
      "cell_type": "code",
      "metadata": {
        "id": "uNTpjP7Xbes4",
        "colab": {
          "base_uri": "https://localhost:8080/"
        },
        "outputId": "3dcdb859-2f6f-46f2-8cf2-730d0794b6b2"
      },
      "source": [
        "df_new.std()"
      ],
      "execution_count": 199,
      "outputs": [
        {
          "output_type": "execute_result",
          "data": {
            "text/plain": [
              "<FIRST>            2.370610e+03\n",
              "<HIGH>             2.423969e+03\n",
              "<LOW>              2.305411e+03\n",
              "<CLOSE>            2.366677e+03\n",
              "<VALUE>            2.214442e+10\n",
              "<VOL>              4.476661e+06\n",
              "change_in_price    1.131251e+02\n",
              "MA_10              2.297954e+03\n",
              "WMA_10             2.293439e+03\n",
              "MOM_10             4.988782e+02\n",
              "SO_k                        NaN\n",
              "SO_10              3.134283e-01\n",
              "MACD_12_26         2.073677e+02\n",
              "MACDsign_12_26     1.981625e+02\n",
              "MACDdiff_12_26     5.159681e+01\n",
              "Acc/Dist_ROC_10             NaN\n",
              "CCI_10             1.261867e+00\n",
              "dtype: float64"
            ]
          },
          "metadata": {
            "tags": []
          },
          "execution_count": 199
        }
      ]
    },
    {
      "cell_type": "markdown",
      "metadata": {
        "id": "vfZGT9zFbes9"
      },
      "source": [
        "## **Normalizing Data**"
      ]
    },
    {
      "cell_type": "code",
      "metadata": {
        "id": "8tYyjDyjbes-",
        "colab": {
          "base_uri": "https://localhost:8080/",
          "height": 0
        },
        "outputId": "20930ea8-12a5-4a67-b232-1a9b26efd09f"
      },
      "source": [
        "data = (df_new - df_new.mean()) / (df_new.max() - df_new.min())\n",
        "data.tail()"
      ],
      "execution_count": 200,
      "outputs": [
        {
          "output_type": "execute_result",
          "data": {
            "text/html": [
              "<div>\n",
              "<style scoped>\n",
              "    .dataframe tbody tr th:only-of-type {\n",
              "        vertical-align: middle;\n",
              "    }\n",
              "\n",
              "    .dataframe tbody tr th {\n",
              "        vertical-align: top;\n",
              "    }\n",
              "\n",
              "    .dataframe thead th {\n",
              "        text-align: right;\n",
              "    }\n",
              "</style>\n",
              "<table border=\"1\" class=\"dataframe\">\n",
              "  <thead>\n",
              "    <tr style=\"text-align: right;\">\n",
              "      <th></th>\n",
              "      <th>&lt;FIRST&gt;</th>\n",
              "      <th>&lt;HIGH&gt;</th>\n",
              "      <th>&lt;LOW&gt;</th>\n",
              "      <th>&lt;CLOSE&gt;</th>\n",
              "      <th>&lt;VALUE&gt;</th>\n",
              "      <th>&lt;VOL&gt;</th>\n",
              "      <th>change_in_price</th>\n",
              "      <th>MA_10</th>\n",
              "      <th>WMA_10</th>\n",
              "      <th>MOM_10</th>\n",
              "      <th>SO_k</th>\n",
              "      <th>SO_10</th>\n",
              "      <th>MACD_12_26</th>\n",
              "      <th>MACDsign_12_26</th>\n",
              "      <th>MACDdiff_12_26</th>\n",
              "      <th>Acc/Dist_ROC_10</th>\n",
              "      <th>CCI_10</th>\n",
              "    </tr>\n",
              "    <tr>\n",
              "      <th>datetime</th>\n",
              "      <th></th>\n",
              "      <th></th>\n",
              "      <th></th>\n",
              "      <th></th>\n",
              "      <th></th>\n",
              "      <th></th>\n",
              "      <th></th>\n",
              "      <th></th>\n",
              "      <th></th>\n",
              "      <th></th>\n",
              "      <th></th>\n",
              "      <th></th>\n",
              "      <th></th>\n",
              "      <th></th>\n",
              "      <th></th>\n",
              "      <th></th>\n",
              "      <th></th>\n",
              "    </tr>\n",
              "  </thead>\n",
              "  <tbody>\n",
              "    <tr>\n",
              "      <th>2020-05-26</th>\n",
              "      <td>0.729230</td>\n",
              "      <td>0.729804</td>\n",
              "      <td>0.747453</td>\n",
              "      <td>0.752089</td>\n",
              "      <td>0.099540</td>\n",
              "      <td>-0.002805</td>\n",
              "      <td>-0.276743</td>\n",
              "      <td>0.800048</td>\n",
              "      <td>0.834712</td>\n",
              "      <td>-0.207339</td>\n",
              "      <td>NaN</td>\n",
              "      <td>0.000363</td>\n",
              "      <td>0.188344</td>\n",
              "      <td>0.328266</td>\n",
              "      <td>-0.307585</td>\n",
              "      <td>NaN</td>\n",
              "      <td>0.043329</td>\n",
              "    </tr>\n",
              "    <tr>\n",
              "      <th>2020-05-27</th>\n",
              "      <td>0.691386</td>\n",
              "      <td>0.755838</td>\n",
              "      <td>0.710580</td>\n",
              "      <td>0.744270</td>\n",
              "      <td>0.317191</td>\n",
              "      <td>0.047804</td>\n",
              "      <td>-0.056967</td>\n",
              "      <td>0.791586</td>\n",
              "      <td>0.831559</td>\n",
              "      <td>-0.170889</td>\n",
              "      <td>NaN</td>\n",
              "      <td>-0.001616</td>\n",
              "      <td>0.165146</td>\n",
              "      <td>0.299423</td>\n",
              "      <td>-0.299747</td>\n",
              "      <td>NaN</td>\n",
              "      <td>0.066585</td>\n",
              "    </tr>\n",
              "    <tr>\n",
              "      <th>2020-05-30</th>\n",
              "      <td>0.767540</td>\n",
              "      <td>0.748296</td>\n",
              "      <td>0.768462</td>\n",
              "      <td>0.786936</td>\n",
              "      <td>0.357000</td>\n",
              "      <td>0.052840</td>\n",
              "      <td>0.301652</td>\n",
              "      <td>0.796111</td>\n",
              "      <td>0.837488</td>\n",
              "      <td>0.085270</td>\n",
              "      <td>NaN</td>\n",
              "      <td>0.005823</td>\n",
              "      <td>0.167742</td>\n",
              "      <td>0.276928</td>\n",
              "      <td>-0.233927</td>\n",
              "      <td>NaN</td>\n",
              "      <td>0.191632</td>\n",
              "    </tr>\n",
              "    <tr>\n",
              "      <th>2020-05-31</th>\n",
              "      <td>0.723744</td>\n",
              "      <td>0.787644</td>\n",
              "      <td>0.743737</td>\n",
              "      <td>0.799521</td>\n",
              "      <td>0.185132</td>\n",
              "      <td>0.014189</td>\n",
              "      <td>0.087971</td>\n",
              "      <td>0.804015</td>\n",
              "      <td>0.844850</td>\n",
              "      <td>0.151910</td>\n",
              "      <td>NaN</td>\n",
              "      <td>0.006793</td>\n",
              "      <td>0.174481</td>\n",
              "      <td>0.260431</td>\n",
              "      <td>-0.171710</td>\n",
              "      <td>NaN</td>\n",
              "      <td>0.197991</td>\n",
              "    </tr>\n",
              "    <tr>\n",
              "      <th>2020-06-01</th>\n",
              "      <td>0.821285</td>\n",
              "      <td>0.801592</td>\n",
              "      <td>0.801571</td>\n",
              "      <td>0.814061</td>\n",
              "      <td>0.160667</td>\n",
              "      <td>0.008221</td>\n",
              "      <td>0.101855</td>\n",
              "      <td>0.817324</td>\n",
              "      <td>0.853773</td>\n",
              "      <td>0.258534</td>\n",
              "      <td>NaN</td>\n",
              "      <td>0.002366</td>\n",
              "      <td>0.185429</td>\n",
              "      <td>0.249671</td>\n",
              "      <td>-0.112217</td>\n",
              "      <td>NaN</td>\n",
              "      <td>0.257811</td>\n",
              "    </tr>\n",
              "  </tbody>\n",
              "</table>\n",
              "</div>"
            ],
            "text/plain": [
              "             <FIRST>    <HIGH>  ...  Acc/Dist_ROC_10    CCI_10\n",
              "datetime                        ...                           \n",
              "2020-05-26  0.729230  0.729804  ...              NaN  0.043329\n",
              "2020-05-27  0.691386  0.755838  ...              NaN  0.066585\n",
              "2020-05-30  0.767540  0.748296  ...              NaN  0.191632\n",
              "2020-05-31  0.723744  0.787644  ...              NaN  0.197991\n",
              "2020-06-01  0.821285  0.801592  ...              NaN  0.257811\n",
              "\n",
              "[5 rows x 17 columns]"
            ]
          },
          "metadata": {
            "tags": []
          },
          "execution_count": 200
        }
      ]
    },
    {
      "cell_type": "code",
      "metadata": {
        "id": "YcwrDXOzbetB",
        "colab": {
          "base_uri": "https://localhost:8080/",
          "height": 0
        },
        "outputId": "563d9c91-9cec-47f8-d9a0-faf260f02b6e"
      },
      "source": [
        "import seaborn as sns\n",
        "plt.figure(1 , figsize = (17 , 8))\n",
        "cor = sns.heatmap(data.corr(), annot = True)"
      ],
      "execution_count": 201,
      "outputs": [
        {
          "output_type": "display_data",
          "data": {
            "image/png": "[encoded data removed]",
            "text/plain": [
              "<Figure size 1224x576 with 2 Axes>"
            ]
          },
          "metadata": {
            "tags": [],
            "needs_background": "light"
          }
        }
      ]
    },
    {
      "cell_type": "code",
      "metadata": {
        "id": "Nw7aDwgebetG",
        "colab": {
          "base_uri": "https://localhost:8080/"
        },
        "outputId": "813aa2f3-39a6-44c2-c52f-939c38eb89bb"
      },
      "source": [
        "#To check null values\n",
        "data.isnull().sum()"
      ],
      "execution_count": 202,
      "outputs": [
        {
          "output_type": "execute_result",
          "data": {
            "text/plain": [
              "<FIRST>               0\n",
              "<HIGH>                0\n",
              "<LOW>                 0\n",
              "<CLOSE>               0\n",
              "<VALUE>               0\n",
              "<VOL>                 0\n",
              "change_in_price       1\n",
              "MA_10                 9\n",
              "WMA_10                9\n",
              "MOM_10               10\n",
              "SO_k               4087\n",
              "SO_10                 9\n",
              "MACD_12_26           25\n",
              "MACDsign_12_26       33\n",
              "MACDdiff_12_26       33\n",
              "Acc/Dist_ROC_10    4087\n",
              "CCI_10                9\n",
              "dtype: int64"
            ]
          },
          "metadata": {
            "tags": []
          },
          "execution_count": 202
        }
      ]
    },
    {
      "cell_type": "code",
      "metadata": {
        "id": "QN8FItuAbetJ"
      },
      "source": [
        "#Removing the null values\n",
        "data = data.fillna(data.mean())"
      ],
      "execution_count": 203,
      "outputs": []
    },
    {
      "cell_type": "code",
      "metadata": {
        "id": "shbMSgnWbetN"
      },
      "source": [
        "data = data.dropna(how=\"all\",axis=1)"
      ],
      "execution_count": 204,
      "outputs": []
    },
    {
      "cell_type": "code",
      "metadata": {
        "id": "hKHZhcd8betR",
        "colab": {
          "base_uri": "https://localhost:8080/",
          "height": 0
        },
        "outputId": "97126324-75fb-4866-9508-827e3a90bfff"
      },
      "source": [
        "##Defining the features and labels\n",
        "X = data.iloc[:,7:]\n",
        "X.tail()"
      ],
      "execution_count": 205,
      "outputs": [
        {
          "output_type": "execute_result",
          "data": {
            "text/html": [
              "<div>\n",
              "<style scoped>\n",
              "    .dataframe tbody tr th:only-of-type {\n",
              "        vertical-align: middle;\n",
              "    }\n",
              "\n",
              "    .dataframe tbody tr th {\n",
              "        vertical-align: top;\n",
              "    }\n",
              "\n",
              "    .dataframe thead th {\n",
              "        text-align: right;\n",
              "    }\n",
              "</style>\n",
              "<table border=\"1\" class=\"dataframe\">\n",
              "  <thead>\n",
              "    <tr style=\"text-align: right;\">\n",
              "      <th></th>\n",
              "      <th>MA_10</th>\n",
              "      <th>WMA_10</th>\n",
              "      <th>MOM_10</th>\n",
              "      <th>SO_10</th>\n",
              "      <th>MACD_12_26</th>\n",
              "      <th>MACDsign_12_26</th>\n",
              "      <th>MACDdiff_12_26</th>\n",
              "      <th>CCI_10</th>\n",
              "    </tr>\n",
              "    <tr>\n",
              "      <th>datetime</th>\n",
              "      <th></th>\n",
              "      <th></th>\n",
              "      <th></th>\n",
              "      <th></th>\n",
              "      <th></th>\n",
              "      <th></th>\n",
              "      <th></th>\n",
              "      <th></th>\n",
              "    </tr>\n",
              "  </thead>\n",
              "  <tbody>\n",
              "    <tr>\n",
              "      <th>2020-05-26</th>\n",
              "      <td>0.800048</td>\n",
              "      <td>0.834712</td>\n",
              "      <td>-0.207339</td>\n",
              "      <td>0.000363</td>\n",
              "      <td>0.188344</td>\n",
              "      <td>0.328266</td>\n",
              "      <td>-0.307585</td>\n",
              "      <td>0.043329</td>\n",
              "    </tr>\n",
              "    <tr>\n",
              "      <th>2020-05-27</th>\n",
              "      <td>0.791586</td>\n",
              "      <td>0.831559</td>\n",
              "      <td>-0.170889</td>\n",
              "      <td>-0.001616</td>\n",
              "      <td>0.165146</td>\n",
              "      <td>0.299423</td>\n",
              "      <td>-0.299747</td>\n",
              "      <td>0.066585</td>\n",
              "    </tr>\n",
              "    <tr>\n",
              "      <th>2020-05-30</th>\n",
              "      <td>0.796111</td>\n",
              "      <td>0.837488</td>\n",
              "      <td>0.085270</td>\n",
              "      <td>0.005823</td>\n",
              "      <td>0.167742</td>\n",
              "      <td>0.276928</td>\n",
              "      <td>-0.233927</td>\n",
              "      <td>0.191632</td>\n",
              "    </tr>\n",
              "    <tr>\n",
              "      <th>2020-05-31</th>\n",
              "      <td>0.804015</td>\n",
              "      <td>0.844850</td>\n",
              "      <td>0.151910</td>\n",
              "      <td>0.006793</td>\n",
              "      <td>0.174481</td>\n",
              "      <td>0.260431</td>\n",
              "      <td>-0.171710</td>\n",
              "      <td>0.197991</td>\n",
              "    </tr>\n",
              "    <tr>\n",
              "      <th>2020-06-01</th>\n",
              "      <td>0.817324</td>\n",
              "      <td>0.853773</td>\n",
              "      <td>0.258534</td>\n",
              "      <td>0.002366</td>\n",
              "      <td>0.185429</td>\n",
              "      <td>0.249671</td>\n",
              "      <td>-0.112217</td>\n",
              "      <td>0.257811</td>\n",
              "    </tr>\n",
              "  </tbody>\n",
              "</table>\n",
              "</div>"
            ],
            "text/plain": [
              "               MA_10    WMA_10  ...  MACDdiff_12_26    CCI_10\n",
              "datetime                        ...                          \n",
              "2020-05-26  0.800048  0.834712  ...       -0.307585  0.043329\n",
              "2020-05-27  0.791586  0.831559  ...       -0.299747  0.066585\n",
              "2020-05-30  0.796111  0.837488  ...       -0.233927  0.191632\n",
              "2020-05-31  0.804015  0.844850  ...       -0.171710  0.197991\n",
              "2020-06-01  0.817324  0.853773  ...       -0.112217  0.257811\n",
              "\n",
              "[5 rows x 8 columns]"
            ]
          },
          "metadata": {
            "tags": []
          },
          "execution_count": 205
        }
      ]
    },
    {
      "cell_type": "code",
      "metadata": {
        "id": "-RGklbtnbetV",
        "colab": {
          "base_uri": "https://localhost:8080/"
        },
        "outputId": "d4db9aef-5a2d-4412-d1a8-7067d5983c68"
      },
      "source": [
        "Y = data.iloc[:,3]\n",
        "Y.tail()"
      ],
      "execution_count": 206,
      "outputs": [
        {
          "output_type": "execute_result",
          "data": {
            "text/plain": [
              "datetime\n",
              "2020-05-26    0.752089\n",
              "2020-05-27    0.744270\n",
              "2020-05-30    0.786936\n",
              "2020-05-31    0.799521\n",
              "2020-06-01    0.814061\n",
              "Name: <CLOSE>, dtype: float64"
            ]
          },
          "metadata": {
            "tags": []
          },
          "execution_count": 206
        }
      ]
    },
    {
      "cell_type": "code",
      "metadata": {
        "id": "1Tn80CwmbetX",
        "colab": {
          "base_uri": "https://localhost:8080/"
        },
        "outputId": "8c6cb8ab-4932-4eca-8943-420b0430dba9"
      },
      "source": [
        "X.isnull().sum()"
      ],
      "execution_count": 207,
      "outputs": [
        {
          "output_type": "execute_result",
          "data": {
            "text/plain": [
              "MA_10             0\n",
              "WMA_10            0\n",
              "MOM_10            0\n",
              "SO_10             0\n",
              "MACD_12_26        0\n",
              "MACDsign_12_26    0\n",
              "MACDdiff_12_26    0\n",
              "CCI_10            0\n",
              "dtype: int64"
            ]
          },
          "metadata": {
            "tags": []
          },
          "execution_count": 207
        }
      ]
    },
    {
      "cell_type": "markdown",
      "metadata": {
        "id": "IRkULxA7sCFy"
      },
      "source": [
        "## Visualising the technical indicators i.e. our features"
      ]
    },
    {
      "cell_type": "code",
      "metadata": {
        "id": "0UP3raQjr7Ty",
        "colab": {
          "base_uri": "https://localhost:8080/",
          "height": 1000
        },
        "outputId": "84be5076-bfec-46b2-975c-391e01b8a638"
      },
      "source": [
        "X.hist(bins=50,figsize=(20,15))"
      ],
      "execution_count": 208,
      "outputs": [
        {
          "output_type": "execute_result",
          "data": {
            "text/plain": [
              "array([[<matplotlib.axes._subplots.AxesSubplot object at 0x7fe425bbef28>,\n",
              "        <matplotlib.axes._subplots.AxesSubplot object at 0x7fe425de7400>,\n",
              "        <matplotlib.axes._subplots.AxesSubplot object at 0x7fe425cf2390>],\n",
              "       [<matplotlib.axes._subplots.AxesSubplot object at 0x7fe425e5e710>,\n",
              "        <matplotlib.axes._subplots.AxesSubplot object at 0x7fe425dca908>,\n",
              "        <matplotlib.axes._subplots.AxesSubplot object at 0x7fe425c63da0>],\n",
              "       [<matplotlib.axes._subplots.AxesSubplot object at 0x7fe4250b9fd0>,\n",
              "        <matplotlib.axes._subplots.AxesSubplot object at 0x7fe4250325f8>,\n",
              "        <matplotlib.axes._subplots.AxesSubplot object at 0x7fe425032668>]],\n",
              "      dtype=object)"
            ]
          },
          "metadata": {
            "tags": []
          },
          "execution_count": 208
        },
        {
          "output_type": "display_data",
          "data": {
            "image/png": "[encoded data removed]",
            "text/plain": [
              "<Figure size 1440x1080 with 9 Axes>"
            ]
          },
          "metadata": {
            "tags": [],
            "needs_background": "light"
          }
        }
      ]
    },
    {
      "cell_type": "code",
      "metadata": {
        "id": "QjK-zRQgbeta"
      },
      "source": [
        "#Splitting data into training and test set\n",
        "#from sklearn.model_selection import train_test_split\n",
        "total_days = len(X)\n",
        "hold_days=30\n",
        "x_train = X[0:(total_days-hold_days)]\n",
        "y_train = Y[0:(total_days-hold_days)]"
      ],
      "execution_count": 209,
      "outputs": []
    },
    {
      "cell_type": "markdown",
      "metadata": {
        "id": "bdSjkPr_betc"
      },
      "source": [
        "# Predicting using Decision Trees"
      ]
    },
    {
      "cell_type": "code",
      "metadata": {
        "id": "7RX-ujiabetd",
        "colab": {
          "base_uri": "https://localhost:8080/"
        },
        "outputId": "cd1014f8-94ac-4f95-8ca6-2c9f31b4089a"
      },
      "source": [
        "#Decision Tree\n",
        "from sklearn.tree import DecisionTreeRegressor\n",
        "Regressor = DecisionTreeRegressor(max_depth=10)\n",
        "Regressor.fit(x_train,y_train)"
      ],
      "execution_count": 210,
      "outputs": [
        {
          "output_type": "execute_result",
          "data": {
            "text/plain": [
              "DecisionTreeRegressor(ccp_alpha=0.0, criterion='mse', max_depth=10,\n",
              "                      max_features=None, max_leaf_nodes=None,\n",
              "                      min_impurity_decrease=0.0, min_impurity_split=None,\n",
              "                      min_samples_leaf=1, min_samples_split=2,\n",
              "                      min_weight_fraction_leaf=0.0, presort='deprecated',\n",
              "                      random_state=None, splitter='best')"
            ]
          },
          "metadata": {
            "tags": []
          },
          "execution_count": 210
        }
      ]
    },
    {
      "cell_type": "markdown",
      "metadata": {
        "id": "tmAA0_rPbetl"
      },
      "source": [
        "## Evaluating the Model"
      ]
    },
    {
      "cell_type": "code",
      "metadata": {
        "id": "pCwX7Hwpbetm",
        "colab": {
          "base_uri": "https://localhost:8080/"
        },
        "outputId": "9b701fc3-e5bd-4080-f1f5-3aa9a885fcdc"
      },
      "source": [
        "y_pred = Regressor.predict(X)\n",
        "from sklearn.metrics import r2_score,mean_squared_error\n",
        "mse = mean_squared_error(Y,y_pred)\n",
        "rmse = np.sqrt(mse)\n",
        "rmse"
      ],
      "execution_count": 211,
      "outputs": [
        {
          "output_type": "execute_result",
          "data": {
            "text/plain": [
              "0.016498662615120042"
            ]
          },
          "metadata": {
            "tags": []
          },
          "execution_count": 211
        }
      ]
    },
    {
      "cell_type": "code",
      "metadata": {
        "id": "EW6CbXYgSzMZ",
        "colab": {
          "base_uri": "https://localhost:8080/",
          "height": 265
        },
        "outputId": "866916fb-6279-4746-b973-84c0249651c0"
      },
      "source": [
        "plt.plot(X.index,Y)\n",
        "plt.plot(X.index, y_pred, c='#f5ef42')\n",
        "plt.show()"
      ],
      "execution_count": 212,
      "outputs": [
        {
          "output_type": "display_data",
          "data": {
            "image/png": "[encoded data removed]",
            "text/plain": [
              "<Figure size 432x288 with 1 Axes>"
            ]
          },
          "metadata": {
            "tags": [],
            "needs_background": "light"
          }
        }
      ]
    },
    {
      "cell_type": "markdown",
      "metadata": {
        "id": "CiWT_doibeto"
      },
      "source": [
        "# Using Bagging Regressor"
      ]
    },
    {
      "cell_type": "code",
      "metadata": {
        "id": "6KWr75vGbetp"
      },
      "source": [
        "#import necessary libraries\n",
        "from sklearn.ensemble import BaggingRegressor"
      ],
      "execution_count": 213,
      "outputs": []
    },
    {
      "cell_type": "code",
      "metadata": {
        "id": "6m5OsIUsbetr",
        "colab": {
          "base_uri": "https://localhost:8080/"
        },
        "outputId": "77985ea7-cea8-4fb0-ea05-de352284e802"
      },
      "source": [
        "regr = BaggingRegressor(base_estimator=Regressor,\n",
        "n_estimators=50, random_state=0)\n",
        "regr.fit(x_train,y_train)\n",
        "    "
      ],
      "execution_count": 214,
      "outputs": [
        {
          "output_type": "execute_result",
          "data": {
            "text/plain": [
              "BaggingRegressor(base_estimator=DecisionTreeRegressor(ccp_alpha=0.0,\n",
              "                                                      criterion='mse',\n",
              "                                                      max_depth=10,\n",
              "                                                      max_features=None,\n",
              "                                                      max_leaf_nodes=None,\n",
              "                                                      min_impurity_decrease=0.0,\n",
              "                                                      min_impurity_split=None,\n",
              "                                                      min_samples_leaf=1,\n",
              "                                                      min_samples_split=2,\n",
              "                                                      min_weight_fraction_leaf=0.0,\n",
              "                                                      presort='deprecated',\n",
              "                                                      random_state=None,\n",
              "                                                      splitter='best'),\n",
              "                 bootstrap=True, bootstrap_features=False, max_features=1.0,\n",
              "                 max_samples=1.0, n_estimators=50, n_jobs=None, oob_score=False,\n",
              "                 random_state=0, verbose=0, warm_start=False)"
            ]
          },
          "metadata": {
            "tags": []
          },
          "execution_count": 214
        }
      ]
    },
    {
      "cell_type": "markdown",
      "metadata": {
        "id": "KvdNXLTXbetw"
      },
      "source": [
        "## Evaluating Bagging Regressor"
      ]
    },
    {
      "cell_type": "code",
      "metadata": {
        "id": "Af_3vxHkbetx"
      },
      "source": [
        "y_pred_br = regr.predict(X)"
      ],
      "execution_count": 215,
      "outputs": []
    },
    {
      "cell_type": "code",
      "metadata": {
        "id": "PXoR2Bxpbetz",
        "colab": {
          "base_uri": "https://localhost:8080/"
        },
        "outputId": "0eb68749-16ab-4ea2-a1f3-b4bc35d34218"
      },
      "source": [
        "from sklearn.metrics import r2_score,mean_squared_error\n",
        "mse = mean_squared_error(Y,y_pred_br)\n",
        "rmse = np.sqrt(mse)\n",
        "rmse"
      ],
      "execution_count": 216,
      "outputs": [
        {
          "output_type": "execute_result",
          "data": {
            "text/plain": [
              "0.01804163007484995"
            ]
          },
          "metadata": {
            "tags": []
          },
          "execution_count": 216
        }
      ]
    },
    {
      "cell_type": "code",
      "metadata": {
        "id": "NRz2RSH3fQGM",
        "colab": {
          "base_uri": "https://localhost:8080/",
          "height": 265
        },
        "outputId": "0de347b7-1778-435f-a307-d093ce4d46a2"
      },
      "source": [
        "plt.plot(X.index,Y)\n",
        "plt.plot(X.index, y_pred_br, c='#f5ef42')\n",
        "plt.show()"
      ],
      "execution_count": 217,
      "outputs": [
        {
          "output_type": "display_data",
          "data": {
            "image/png": "[encoded data removed]",
            "text/plain": [
              "<Figure size 432x288 with 1 Axes>"
            ]
          },
          "metadata": {
            "tags": [],
            "needs_background": "light"
          }
        }
      ]
    },
    {
      "cell_type": "markdown",
      "metadata": {
        "id": "phoe90D7bet1"
      },
      "source": [
        "# Using Random Forest"
      ]
    },
    {
      "cell_type": "code",
      "metadata": {
        "id": "cM6Op45nbet2",
        "colab": {
          "base_uri": "https://localhost:8080/"
        },
        "outputId": "da55cca0-3c81-4fbf-e3df-4f6999a83413"
      },
      "source": [
        "#importing the libraries\n",
        "from sklearn.ensemble import RandomForestRegressor\n",
        "rf = RandomForestRegressor(n_estimators=50,max_depth=10,random_state=1)\n",
        "rf.fit(x_train,y_train)"
      ],
      "execution_count": 218,
      "outputs": [
        {
          "output_type": "execute_result",
          "data": {
            "text/plain": [
              "RandomForestRegressor(bootstrap=True, ccp_alpha=0.0, criterion='mse',\n",
              "                      max_depth=10, max_features='auto', max_leaf_nodes=None,\n",
              "                      max_samples=None, min_impurity_decrease=0.0,\n",
              "                      min_impurity_split=None, min_samples_leaf=1,\n",
              "                      min_samples_split=2, min_weight_fraction_leaf=0.0,\n",
              "                      n_estimators=50, n_jobs=None, oob_score=False,\n",
              "                      random_state=1, verbose=0, warm_start=False)"
            ]
          },
          "metadata": {
            "tags": []
          },
          "execution_count": 218
        }
      ]
    },
    {
      "cell_type": "markdown",
      "metadata": {
        "id": "j4GVbyhAbet9"
      },
      "source": [
        "## Evaluating Random Forest"
      ]
    },
    {
      "cell_type": "code",
      "metadata": {
        "id": "Rp1ihgYjbet-"
      },
      "source": [
        "y_pred_rf = rf.predict(X)\n"
      ],
      "execution_count": 219,
      "outputs": []
    },
    {
      "cell_type": "code",
      "metadata": {
        "id": "J6mI-BUbbeuA",
        "colab": {
          "base_uri": "https://localhost:8080/"
        },
        "outputId": "22916a62-18bd-4e2c-9198-021ecca7c76d"
      },
      "source": [
        "from sklearn.metrics import r2_score,mean_squared_error\n",
        "mse = mean_squared_error(Y,y_pred_rf)\n",
        "rmse = np.sqrt(mse)\n",
        "rmse"
      ],
      "execution_count": 220,
      "outputs": [
        {
          "output_type": "execute_result",
          "data": {
            "text/plain": [
              "0.019570742229093625"
            ]
          },
          "metadata": {
            "tags": []
          },
          "execution_count": 220
        }
      ]
    },
    {
      "cell_type": "code",
      "metadata": {
        "id": "uj2B69g3gnSx",
        "colab": {
          "base_uri": "https://localhost:8080/",
          "height": 265
        },
        "outputId": "541d28b2-858b-493c-9a00-d02302a07ac2"
      },
      "source": [
        "plt.plot(X.index,Y)\n",
        "plt.plot(X.index, y_pred_rf, c='#f5ef42')\n",
        "plt.show()"
      ],
      "execution_count": 221,
      "outputs": [
        {
          "output_type": "display_data",
          "data": {
            "image/png": "[encoded data removed]",
            "text/plain": [
              "<Figure size 432x288 with 1 Axes>"
            ]
          },
          "metadata": {
            "tags": [],
            "needs_background": "light"
          }
        }
      ]
    },
    {
      "cell_type": "markdown",
      "metadata": {
        "id": "6e1uCe8lbeuD"
      },
      "source": [
        " ## Using AdaBoost Regressor"
      ]
    },
    {
      "cell_type": "code",
      "metadata": {
        "id": "uX6q6_kGbeuD",
        "colab": {
          "base_uri": "https://localhost:8080/"
        },
        "outputId": "644491fd-d9cf-4e37-997a-f1cfd9431dbb"
      },
      "source": [
        "#importing necessary libraries\n",
        "from sklearn.ensemble import AdaBoostRegressor\n",
        "adb_reg = AdaBoostRegressor(base_estimator=Regressor,n_estimators=100,learning_rate=0.1)\n",
        "adb_reg.fit(x_train,y_train)\n",
        "\n"
      ],
      "execution_count": 222,
      "outputs": [
        {
          "output_type": "execute_result",
          "data": {
            "text/plain": [
              "AdaBoostRegressor(base_estimator=DecisionTreeRegressor(ccp_alpha=0.0,\n",
              "                                                       criterion='mse',\n",
              "                                                       max_depth=10,\n",
              "                                                       max_features=None,\n",
              "                                                       max_leaf_nodes=None,\n",
              "                                                       min_impurity_decrease=0.0,\n",
              "                                                       min_impurity_split=None,\n",
              "                                                       min_samples_leaf=1,\n",
              "                                                       min_samples_split=2,\n",
              "                                                       min_weight_fraction_leaf=0.0,\n",
              "                                                       presort='deprecated',\n",
              "                                                       random_state=None,\n",
              "                                                       splitter='best'),\n",
              "                  learning_rate=0.1, loss='linear', n_estimators=100,\n",
              "                  random_state=None)"
            ]
          },
          "metadata": {
            "tags": []
          },
          "execution_count": 222
        }
      ]
    },
    {
      "cell_type": "markdown",
      "metadata": {
        "id": "pTiNntHcbeuH"
      },
      "source": [
        "## Evaluating AdaBoost Regressor"
      ]
    },
    {
      "cell_type": "code",
      "metadata": {
        "id": "pGnz1YOibeuI",
        "colab": {
          "base_uri": "https://localhost:8080/"
        },
        "outputId": "9dab460e-89b7-4e85-d36b-d5e3c09acbdb"
      },
      "source": [
        "y_pred_adb = adb_reg.predict(X)\n",
        "from sklearn.metrics import r2_score,mean_squared_error\n",
        "mse = mean_squared_error(Y,y_pred_adb)\n",
        "rmse = np.sqrt(mse)\n",
        "rmse"
      ],
      "execution_count": 223,
      "outputs": [
        {
          "output_type": "execute_result",
          "data": {
            "text/plain": [
              "0.016802657789647124"
            ]
          },
          "metadata": {
            "tags": []
          },
          "execution_count": 223
        }
      ]
    },
    {
      "cell_type": "code",
      "metadata": {
        "id": "BfFSD3AChDmn",
        "colab": {
          "base_uri": "https://localhost:8080/",
          "height": 265
        },
        "outputId": "f5b0ded6-a65d-4b96-82f2-6e930909b737"
      },
      "source": [
        "plt.plot(X.index,Y)\n",
        "plt.plot(X.index, y_pred_adb, c='#f5ef42')\n",
        "plt.show()"
      ],
      "execution_count": 224,
      "outputs": [
        {
          "output_type": "display_data",
          "data": {
            "image/png": "[encoded data removed]",
            "text/plain": [
              "<Figure size 432x288 with 1 Axes>"
            ]
          },
          "metadata": {
            "tags": [],
            "needs_background": "light"
          }
        }
      ]
    },
    {
      "cell_type": "markdown",
      "metadata": {
        "id": "8Q-98ibGbeuJ"
      },
      "source": [
        "## Using Gradient Boosting"
      ]
    },
    {
      "cell_type": "code",
      "metadata": {
        "id": "4StZOXBBbeuK",
        "colab": {
          "base_uri": "https://localhost:8080/"
        },
        "outputId": "0f0ef65f-cbc3-441b-c9f8-a4fe5d8bf591"
      },
      "source": [
        "#importing necessary libraries\n",
        "from sklearn.ensemble import GradientBoostingRegressor\n",
        "gdbt = GradientBoostingRegressor(max_depth=10,learning_rate=0.1,n_estimators=50,random_state=1)\n",
        "gdbt.fit(x_train,y_train)"
      ],
      "execution_count": 225,
      "outputs": [
        {
          "output_type": "execute_result",
          "data": {
            "text/plain": [
              "GradientBoostingRegressor(alpha=0.9, ccp_alpha=0.0, criterion='friedman_mse',\n",
              "                          init=None, learning_rate=0.1, loss='ls', max_depth=10,\n",
              "                          max_features=None, max_leaf_nodes=None,\n",
              "                          min_impurity_decrease=0.0, min_impurity_split=None,\n",
              "                          min_samples_leaf=1, min_samples_split=2,\n",
              "                          min_weight_fraction_leaf=0.0, n_estimators=50,\n",
              "                          n_iter_no_change=None, presort='deprecated',\n",
              "                          random_state=1, subsample=1.0, tol=0.0001,\n",
              "                          validation_fraction=0.1, verbose=0, warm_start=False)"
            ]
          },
          "metadata": {
            "tags": []
          },
          "execution_count": 225
        }
      ]
    },
    {
      "cell_type": "markdown",
      "metadata": {
        "id": "fhjqy5udbeuP"
      },
      "source": [
        "## Evaluating gradient boosting"
      ]
    },
    {
      "cell_type": "code",
      "metadata": {
        "id": "CpcZr0-EbeuQ",
        "colab": {
          "base_uri": "https://localhost:8080/"
        },
        "outputId": "4374043c-3c69-428c-84b6-18d207b083b8"
      },
      "source": [
        "y_pred_gdbt = gdbt.predict(X)\n",
        "from sklearn.metrics import r2_score,mean_squared_error\n",
        "mse = mean_squared_error(Y,y_pred_gdbt)\n",
        "rmse = np.sqrt(mse)\n",
        "rmse"
      ],
      "execution_count": 226,
      "outputs": [
        {
          "output_type": "execute_result",
          "data": {
            "text/plain": [
              "0.01943985266319552"
            ]
          },
          "metadata": {
            "tags": []
          },
          "execution_count": 226
        }
      ]
    },
    {
      "cell_type": "markdown",
      "metadata": {
        "id": "GdaVicrEb78c"
      },
      "source": [
        "##Using Deep Learning Models"
      ]
    },
    {
      "cell_type": "code",
      "metadata": {
        "id": "zNH4J9l5cAY6",
        "colab": {
          "base_uri": "https://localhost:8080/"
        },
        "outputId": "d18ae041-386b-436f-b9a1-3410b129dd54"
      },
      "source": [
        "from google.colab import drive\n",
        "drive.mount('/content/drive')"
      ],
      "execution_count": 227,
      "outputs": [
        {
          "output_type": "stream",
          "text": [
            "Drive already mounted at /content/drive; to attempt to forcibly remount, call drive.mount(\"/content/drive\", force_remount=True).\n"
          ],
          "name": "stdout"
        }
      ]
    },
    {
      "cell_type": "markdown",
      "metadata": {
        "id": "BvTCIFZ6BJgy"
      },
      "source": [
        "### Importing Libraries"
      ]
    },
    {
      "cell_type": "code",
      "metadata": {
        "id": "Y5R1YEo_BMOc"
      },
      "source": [
        "import tensorflow as tf \n",
        "import pandas as pd \n",
        "import numpy as np \n",
        "import matplotlib.pyplot as plt \n",
        "import keras \n",
        "from keras.models import Sequential \n",
        "from keras.layers import Dense \n",
        "from sklearn.metrics import confusion_matrix "
      ],
      "execution_count": 228,
      "outputs": []
    },
    {
      "cell_type": "markdown",
      "metadata": {
        "id": "MqGBMKv0HvVM"
      },
      "source": [
        "## Using LSTM"
      ]
    },
    {
      "cell_type": "markdown",
      "metadata": {
        "id": "B2uIFD452b24"
      },
      "source": [
        "### Importing libraries"
      ]
    },
    {
      "cell_type": "code",
      "metadata": {
        "id": "ccMkltE9ebcw",
        "colab": {
          "base_uri": "https://localhost:8080/"
        },
        "outputId": "dcf8273c-2822-4c53-c807-15b0d011ccdd"
      },
      "source": [
        "pip install nsepy"
      ],
      "execution_count": 229,
      "outputs": [
        {
          "output_type": "stream",
          "text": [
            "Requirement already satisfied: nsepy in /usr/local/lib/python3.6/dist-packages (0.8)\n",
            "Requirement already satisfied: pandas in /usr/local/lib/python3.6/dist-packages (from nsepy) (1.1.4)\n",
            "Requirement already satisfied: six in /usr/local/lib/python3.6/dist-packages (from nsepy) (1.15.0)\n",
            "Requirement already satisfied: beautifulsoup4 in /usr/local/lib/python3.6/dist-packages (from nsepy) (4.6.3)\n",
            "Requirement already satisfied: numpy in /usr/local/lib/python3.6/dist-packages (from nsepy) (1.18.5)\n",
            "Requirement already satisfied: lxml in /usr/local/lib/python3.6/dist-packages (from nsepy) (4.2.6)\n",
            "Requirement already satisfied: requests in /usr/local/lib/python3.6/dist-packages (from nsepy) (2.23.0)\n",
            "Requirement already satisfied: click in /usr/local/lib/python3.6/dist-packages (from nsepy) (7.1.2)\n",
            "Requirement already satisfied: pytz>=2017.2 in /usr/local/lib/python3.6/dist-packages (from pandas->nsepy) (2018.9)\n",
            "Requirement already satisfied: python-dateutil>=2.7.3 in /usr/local/lib/python3.6/dist-packages (from pandas->nsepy) (2.8.1)\n",
            "Requirement already satisfied: idna<3,>=2.5 in /usr/local/lib/python3.6/dist-packages (from requests->nsepy) (2.10)\n",
            "Requirement already satisfied: certifi>=2017.4.17 in /usr/local/lib/python3.6/dist-packages (from requests->nsepy) (2020.6.20)\n",
            "Requirement already satisfied: chardet<4,>=3.0.2 in /usr/local/lib/python3.6/dist-packages (from requests->nsepy) (3.0.4)\n",
            "Requirement already satisfied: urllib3!=1.25.0,!=1.25.1,<1.26,>=1.21.1 in /usr/local/lib/python3.6/dist-packages (from requests->nsepy) (1.24.3)\n"
          ],
          "name": "stdout"
        }
      ]
    },
    {
      "cell_type": "code",
      "metadata": {
        "id": "7fcRAPcyeVTV"
      },
      "source": [
        "from nsepy import get_history as gh\n",
        "import datetime as dt\n",
        "from matplotlib import pyplot as plt\n",
        "from sklearn import model_selection\n",
        "from sklearn.metrics import confusion_matrix\n",
        "from sklearn.preprocessing import StandardScaler\n",
        "from sklearn.model_selection import train_test_split\n",
        "import numpy as np\n",
        "import pandas as pd\n",
        "from sklearn.preprocessing import MinMaxScaler\n",
        "from keras.models import Sequential\n",
        "from keras.layers import Dense\n",
        "from keras.layers import LSTM\n",
        "from keras.layers import Dropout"
      ],
      "execution_count": 230,
      "outputs": []
    },
    {
      "cell_type": "code",
      "metadata": {
        "id": "rpjHV_boZZl8"
      },
      "source": [
        "from sklearn.preprocessing import MinMaxScaler\n",
        "sc = MinMaxScaler(feature_range = (0, 1))\n",
        "X_train_scaled = sc.fit_transform(x_train)"
      ],
      "execution_count": 231,
      "outputs": []
    },
    {
      "cell_type": "code",
      "metadata": {
        "id": "ur_xNnK6Zela"
      },
      "source": [
        "X_train, Y_train = np.array(x_train), np.array(y_train)\n",
        "X_train = np.reshape(X_train, (X_train.shape[0], X_train.shape[1], 1))"
      ],
      "execution_count": 232,
      "outputs": []
    },
    {
      "cell_type": "markdown",
      "metadata": {
        "id": "33TKI23A2NVQ"
      },
      "source": [
        "### Building the LSTM"
      ]
    },
    {
      "cell_type": "code",
      "metadata": {
        "id": "SrT0kjBsc2Pm"
      },
      "source": [
        "regressor = Sequential()\n",
        "regressor.add(LSTM(units = 50, return_sequences = True, input_shape = (x_train.shape[1], 1)))\n",
        "regressor.add(Dropout(0.2))\n",
        "regressor.add(LSTM(units = 50, return_sequences = True))\n",
        "regressor.add(Dropout(0.2))\n",
        "regressor.add(LSTM(units = 50, return_sequences = True))\n",
        "regressor.add(Dropout(0.2))\n",
        "regressor.add(LSTM(units = 50))\n",
        "regressor.add(Dropout(0.2))\n",
        "regressor.add(Dense(units = 1))"
      ],
      "execution_count": 233,
      "outputs": []
    },
    {
      "cell_type": "markdown",
      "metadata": {
        "id": "L_LlaDFB2qDN"
      },
      "source": [
        "### Compiling and training the model defined in the above step.\n",
        "(Iteratively, we can increase or decrease the epochs and batch size to get more accuracy.)"
      ]
    },
    {
      "cell_type": "code",
      "metadata": {
        "id": "NEg-dl9jeOSR",
        "colab": {
          "base_uri": "https://localhost:8080/"
        },
        "outputId": "603bc267-1122-4e75-8033-6457ce32a4a4"
      },
      "source": [
        "regressor.compile(optimizer = 'adam', loss = 'mean_squared_error')\n",
        "regressor.fit(X_train, Y_train, epochs = 15, batch_size = 32)"
      ],
      "execution_count": 234,
      "outputs": [
        {
          "output_type": "stream",
          "text": [
            "Epoch 1/15\n",
            "127/127 [==============================] - 2s 19ms/step - loss: 0.0017\n",
            "Epoch 2/15\n",
            "127/127 [==============================] - 2s 19ms/step - loss: 2.8883e-04\n",
            "Epoch 3/15\n",
            "127/127 [==============================] - 2s 19ms/step - loss: 2.8956e-04\n",
            "Epoch 4/15\n",
            "127/127 [==============================] - 2s 19ms/step - loss: 2.6600e-04\n",
            "Epoch 5/15\n",
            "127/127 [==============================] - 2s 19ms/step - loss: 2.4969e-04\n",
            "Epoch 6/15\n",
            "127/127 [==============================] - 2s 20ms/step - loss: 2.1922e-04\n",
            "Epoch 7/15\n",
            "127/127 [==============================] - 2s 20ms/step - loss: 2.0337e-04\n",
            "Epoch 8/15\n",
            "127/127 [==============================] - 2s 19ms/step - loss: 1.9323e-04\n",
            "Epoch 9/15\n",
            "127/127 [==============================] - 2s 19ms/step - loss: 1.7476e-04\n",
            "Epoch 10/15\n",
            "127/127 [==============================] - 2s 19ms/step - loss: 1.7210e-04\n",
            "Epoch 11/15\n",
            "127/127 [==============================] - 2s 19ms/step - loss: 1.4941e-04\n",
            "Epoch 12/15\n",
            "127/127 [==============================] - 2s 19ms/step - loss: 1.4501e-04\n",
            "Epoch 13/15\n",
            "127/127 [==============================] - 2s 19ms/step - loss: 2.0249e-04\n",
            "Epoch 14/15\n",
            "127/127 [==============================] - 2s 19ms/step - loss: 1.3007e-04\n",
            "Epoch 15/15\n",
            "127/127 [==============================] - 2s 19ms/step - loss: 1.8997e-04\n"
          ],
          "name": "stdout"
        },
        {
          "output_type": "execute_result",
          "data": {
            "text/plain": [
              "<tensorflow.python.keras.callbacks.History at 0x7fe424573eb8>"
            ]
          },
          "metadata": {
            "tags": []
          },
          "execution_count": 234
        }
      ]
    },
    {
      "cell_type": "code",
      "metadata": {
        "id": "r2ZrIgaX03cC"
      },
      "source": [
        "X_test = np.array(X)\n",
        "X_test = np.reshape(X_test, (X_test.shape[0],X_test.shape[1], 1))\n",
        "predicted_stock_price = regressor.predict(X_test)"
      ],
      "execution_count": 235,
      "outputs": []
    },
    {
      "cell_type": "code",
      "metadata": {
        "id": "LDrGcESafEp5"
      },
      "source": [
        "real_stock_price = np.asarray(Y)\n",
        "# real_stock_price=real_stock_price.reshape(1167,1)"
      ],
      "execution_count": 236,
      "outputs": []
    },
    {
      "cell_type": "code",
      "metadata": {
        "id": "koD72IuliN0t",
        "colab": {
          "base_uri": "https://localhost:8080/"
        },
        "outputId": "d70ea0dd-6c21-4aa6-eb42-a2c701c595ae"
      },
      "source": [
        "predicted_stock_price"
      ],
      "execution_count": 237,
      "outputs": [
        {
          "output_type": "execute_result",
          "data": {
            "text/plain": [
              "array([[-0.00720227],\n",
              "       [-0.00720227],\n",
              "       [-0.00720227],\n",
              "       ...,\n",
              "       [ 0.6286384 ],\n",
              "       [ 0.63925946],\n",
              "       [ 0.6548768 ]], dtype=float32)"
            ]
          },
          "metadata": {
            "tags": []
          },
          "execution_count": 237
        }
      ]
    },
    {
      "cell_type": "code",
      "metadata": {
        "id": "bXqa74JLiSvC",
        "colab": {
          "base_uri": "https://localhost:8080/"
        },
        "outputId": "e9e88761-a386-476b-fbba-3c89011e6bcf"
      },
      "source": [
        "real_stock_price"
      ],
      "execution_count": 238,
      "outputs": [
        {
          "output_type": "execute_result",
          "data": {
            "text/plain": [
              "array([-0.0083634 , -0.01027025, -0.01265381, ...,  0.78693622,\n",
              "        0.79952143,  0.81406116])"
            ]
          },
          "metadata": {
            "tags": []
          },
          "execution_count": 238
        }
      ]
    },
    {
      "cell_type": "markdown",
      "metadata": {
        "id": "oWXVsRgp2DcB"
      },
      "source": [
        "### Plotting the results"
      ]
    },
    {
      "cell_type": "code",
      "metadata": {
        "id": "bTm04GWiiU9O",
        "colab": {
          "base_uri": "https://localhost:8080/",
          "height": 621
        },
        "outputId": "502098f1-2b92-48c8-fe40-fa8865664d34"
      },
      "source": [
        "plt.figure(figsize=(20,10))\n",
        "plt.plot(real_stock_price, color = 'green', label = 'Stock Price')\n",
        "plt.plot(predicted_stock_price, color = 'red', label = 'Predicted Stock Price')\n",
        "plt.title('Stock Price Prediction')\n",
        "plt.xlabel('Trading Day')\n",
        "plt.ylabel('Stock Price')\n",
        "plt.legend()\n",
        "plt.show()"
      ],
      "execution_count": 239,
      "outputs": [
        {
          "output_type": "display_data",
          "data": {
            "image/png": "[encoded data removed]",
            "text/plain": [
              "<Figure size 1440x720 with 1 Axes>"
            ]
          },
          "metadata": {
            "tags": [],
            "needs_background": "light"
          }
        }
      ]
    },
    {
      "cell_type": "code",
      "metadata": {
        "id": "7hCjZ69viYqn",
        "colab": {
          "base_uri": "https://localhost:8080/"
        },
        "outputId": "726264de-d929-4673-9cbd-ab04bef97d6c"
      },
      "source": [
        "from sklearn.metrics import mean_squared_error as MSE\n",
        "rmse = MSE(real_stock_price,predicted_stock_price)**(1/2)\n",
        "rmse"
      ],
      "execution_count": 240,
      "outputs": [
        {
          "output_type": "execute_result",
          "data": {
            "text/plain": [
              "0.01560142802461474"
            ]
          },
          "metadata": {
            "tags": []
          },
          "execution_count": 240
        }
      ]
    }
  ]
}