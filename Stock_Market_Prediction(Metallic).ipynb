{
  "nbformat": 4,
  "nbformat_minor": 0,
  "metadata": {
    "kernelspec": {
      "display_name": "Python 3",
      "language": "python",
      "name": "python3"
    },
    "language_info": {
      "codemirror_mode": {
        "name": "ipython",
        "version": 3
      },
      "file_extension": ".py",
      "mimetype": "text/x-python",
      "name": "python",
      "nbconvert_exporter": "python",
      "pygments_lexer": "ipython3",
      "version": "3.8.3"
    },
    "colab": {
      "name": "Stock_Market_Prediction(Metallic).ipynb",
      "provenance": [],
      "collapsed_sections": [
        "vfZGT9zFbes9"
      ],
      "include_colab_link": true
    }
  },
  "cells": [
    {
      "cell_type": "markdown",
      "metadata": {
        "id": "view-in-github",
        "colab_type": "text"
      },
      "source": [
        "<a href=\"https://colab.research.google.com/github/Devanshi-123/stock_market_prediction/blob/main/Stock_Market_Prediction(Metallic).ipynb\" target=\"_parent\"><img src=\"https://colab.research.google.com/assets/colab-badge.svg\" alt=\"Open In Colab\"/></a>"
      ]
    },
    {
      "cell_type": "markdown",
      "metadata": {
        "id": "tieXgez1berr"
      },
      "source": [
        "#  **Stock Market Prediction Using Different Machine Learning And Deep Learning Algorithms**\n"
      ]
    },
    {
      "cell_type": "markdown",
      "metadata": {
        "id": "2501HdlZfGAG"
      },
      "source": [
        "## **Importing the necessary libraries**"
      ]
    },
    {
      "cell_type": "code",
      "metadata": {
        "id": "bExe6rckbers"
      },
      "source": [
        "import pandas as pd\n",
        "import numpy as np\n",
        "import matplotlib.pyplot as plt\n",
        "%matplotlib inline"
      ],
      "execution_count": 129,
      "outputs": []
    },
    {
      "cell_type": "code",
      "metadata": {
        "id": "YoioHTGgcPVu",
        "outputId": "892bc4f7-474d-4761-d9a4-8c1372b37746",
        "colab": {
          "base_uri": "https://localhost:8080/"
        }
      },
      "source": [
        "cd /content/drive/My Drive/Stock Market Prediction(Mini Project)"
      ],
      "execution_count": 130,
      "outputs": [
        {
          "output_type": "stream",
          "text": [
            "/content/drive/My Drive/Stock Market Prediction(Mini Project)\n"
          ],
          "name": "stdout"
        }
      ]
    },
    {
      "cell_type": "markdown",
      "metadata": {
        "id": "c1-boyHyfakV"
      },
      "source": [
        "## **Importing the dataset**"
      ]
    },
    {
      "cell_type": "code",
      "metadata": {
        "id": "1fMnpg-sbery",
        "outputId": "0d428d92-418f-45c8-e28d-17f38520adf8",
        "colab": {
          "base_uri": "https://localhost:8080/"
        }
      },
      "source": [
        "##Metallic Dataset\n",
        "df=pd.read_csv(\"Stock_ALIR1.csv\")\n",
        "df.info()"
      ],
      "execution_count": 131,
      "outputs": [
        {
          "output_type": "stream",
          "text": [
            "<class 'pandas.core.frame.DataFrame'>\n",
            "RangeIndex: 1535 entries, 0 to 1534\n",
            "Data columns (total 13 columns):\n",
            " #   Column        Non-Null Count  Dtype  \n",
            "---  ------        --------------  -----  \n",
            " 0   Unnamed: 0    1535 non-null   int64  \n",
            " 1   <TICKER>      1535 non-null   object \n",
            " 2   <DTYYYYMMDD>  1535 non-null   int64  \n",
            " 3   <FIRST>       1535 non-null   float64\n",
            " 4   <HIGH>        1535 non-null   float64\n",
            " 5   <LOW>         1535 non-null   float64\n",
            " 6   <CLOSE>       1535 non-null   float64\n",
            " 7   <VALUE>       1535 non-null   int64  \n",
            " 8   <VOL>         1535 non-null   int64  \n",
            " 9   <OPENINT>     1535 non-null   int64  \n",
            " 10  <PER>         1535 non-null   object \n",
            " 11  <OPEN>        1535 non-null   float64\n",
            " 12  <LAST>        1535 non-null   float64\n",
            "dtypes: float64(6), int64(5), object(2)\n",
            "memory usage: 156.0+ KB\n"
          ],
          "name": "stdout"
        }
      ]
    },
    {
      "cell_type": "markdown",
      "metadata": {
        "id": "9gsprJSuhGF4"
      },
      "source": [
        "## **Exploratory Data Analysis**"
      ]
    },
    {
      "cell_type": "code",
      "metadata": {
        "id": "3KYyTRW7gcjz",
        "outputId": "3883f6f6-7675-40dd-9731-d7dbe4963c5e",
        "colab": {
          "base_uri": "https://localhost:8080/",
          "height": 317
        }
      },
      "source": [
        "df.describe()"
      ],
      "execution_count": 132,
      "outputs": [
        {
          "output_type": "execute_result",
          "data": {
            "text/html": [
              "<div>\n",
              "<style scoped>\n",
              "    .dataframe tbody tr th:only-of-type {\n",
              "        vertical-align: middle;\n",
              "    }\n",
              "\n",
              "    .dataframe tbody tr th {\n",
              "        vertical-align: top;\n",
              "    }\n",
              "\n",
              "    .dataframe thead th {\n",
              "        text-align: right;\n",
              "    }\n",
              "</style>\n",
              "<table border=\"1\" class=\"dataframe\">\n",
              "  <thead>\n",
              "    <tr style=\"text-align: right;\">\n",
              "      <th></th>\n",
              "      <th>Unnamed: 0</th>\n",
              "      <th>&lt;DTYYYYMMDD&gt;</th>\n",
              "      <th>&lt;FIRST&gt;</th>\n",
              "      <th>&lt;HIGH&gt;</th>\n",
              "      <th>&lt;LOW&gt;</th>\n",
              "      <th>&lt;CLOSE&gt;</th>\n",
              "      <th>&lt;VALUE&gt;</th>\n",
              "      <th>&lt;VOL&gt;</th>\n",
              "      <th>&lt;OPENINT&gt;</th>\n",
              "      <th>&lt;OPEN&gt;</th>\n",
              "      <th>&lt;LAST&gt;</th>\n",
              "    </tr>\n",
              "  </thead>\n",
              "  <tbody>\n",
              "    <tr>\n",
              "      <th>count</th>\n",
              "      <td>1535.000000</td>\n",
              "      <td>1.535000e+03</td>\n",
              "      <td>1535.000000</td>\n",
              "      <td>1535.000000</td>\n",
              "      <td>1535.000000</td>\n",
              "      <td>1535.000000</td>\n",
              "      <td>1.535000e+03</td>\n",
              "      <td>1.535000e+03</td>\n",
              "      <td>1535.000000</td>\n",
              "      <td>1535.000000</td>\n",
              "      <td>1535.000000</td>\n",
              "    </tr>\n",
              "    <tr>\n",
              "      <th>mean</th>\n",
              "      <td>767.000000</td>\n",
              "      <td>2.014569e+07</td>\n",
              "      <td>7486.581759</td>\n",
              "      <td>7582.163518</td>\n",
              "      <td>7360.582410</td>\n",
              "      <td>7482.254072</td>\n",
              "      <td>1.932278e+10</td>\n",
              "      <td>4.098205e+06</td>\n",
              "      <td>502.579153</td>\n",
              "      <td>7455.385668</td>\n",
              "      <td>7469.728339</td>\n",
              "    </tr>\n",
              "    <tr>\n",
              "      <th>std</th>\n",
              "      <td>443.260646</td>\n",
              "      <td>4.159811e+04</td>\n",
              "      <td>4607.126002</td>\n",
              "      <td>4651.190635</td>\n",
              "      <td>4556.411491</td>\n",
              "      <td>4614.527475</td>\n",
              "      <td>4.988563e+10</td>\n",
              "      <td>1.054633e+07</td>\n",
              "      <td>740.133437</td>\n",
              "      <td>4586.153272</td>\n",
              "      <td>4608.472271</td>\n",
              "    </tr>\n",
              "    <tr>\n",
              "      <th>min</th>\n",
              "      <td>0.000000</td>\n",
              "      <td>2.002122e+07</td>\n",
              "      <td>818.000000</td>\n",
              "      <td>842.000000</td>\n",
              "      <td>818.000000</td>\n",
              "      <td>855.000000</td>\n",
              "      <td>9.227000e+03</td>\n",
              "      <td>1.000000e+00</td>\n",
              "      <td>1.000000</td>\n",
              "      <td>330.000000</td>\n",
              "      <td>842.000000</td>\n",
              "    </tr>\n",
              "    <tr>\n",
              "      <th>25%</th>\n",
              "      <td>383.500000</td>\n",
              "      <td>2.012071e+07</td>\n",
              "      <td>4080.000000</td>\n",
              "      <td>4149.000000</td>\n",
              "      <td>3993.000000</td>\n",
              "      <td>4061.000000</td>\n",
              "      <td>9.286925e+08</td>\n",
              "      <td>1.187995e+05</td>\n",
              "      <td>41.000000</td>\n",
              "      <td>4056.000000</td>\n",
              "      <td>4072.500000</td>\n",
              "    </tr>\n",
              "    <tr>\n",
              "      <th>50%</th>\n",
              "      <td>767.000000</td>\n",
              "      <td>2.015041e+07</td>\n",
              "      <td>6751.000000</td>\n",
              "      <td>6821.000000</td>\n",
              "      <td>6631.000000</td>\n",
              "      <td>6711.000000</td>\n",
              "      <td>4.514713e+09</td>\n",
              "      <td>8.766660e+05</td>\n",
              "      <td>202.000000</td>\n",
              "      <td>6709.000000</td>\n",
              "      <td>6710.000000</td>\n",
              "    </tr>\n",
              "    <tr>\n",
              "      <th>75%</th>\n",
              "      <td>1150.500000</td>\n",
              "      <td>2.018101e+07</td>\n",
              "      <td>11000.000000</td>\n",
              "      <td>11261.000000</td>\n",
              "      <td>10788.500000</td>\n",
              "      <td>11096.000000</td>\n",
              "      <td>1.756796e+10</td>\n",
              "      <td>4.207862e+06</td>\n",
              "      <td>674.500000</td>\n",
              "      <td>11071.500000</td>\n",
              "      <td>11097.500000</td>\n",
              "    </tr>\n",
              "    <tr>\n",
              "      <th>max</th>\n",
              "      <td>1534.000000</td>\n",
              "      <td>2.020060e+07</td>\n",
              "      <td>25800.000000</td>\n",
              "      <td>25800.000000</td>\n",
              "      <td>25291.000000</td>\n",
              "      <td>25291.000000</td>\n",
              "      <td>9.482221e+11</td>\n",
              "      <td>1.641960e+08</td>\n",
              "      <td>5703.000000</td>\n",
              "      <td>25291.000000</td>\n",
              "      <td>25291.000000</td>\n",
              "    </tr>\n",
              "  </tbody>\n",
              "</table>\n",
              "</div>"
            ],
            "text/plain": [
              "        Unnamed: 0  <DTYYYYMMDD>  ...        <OPEN>        <LAST>\n",
              "count  1535.000000  1.535000e+03  ...   1535.000000   1535.000000\n",
              "mean    767.000000  2.014569e+07  ...   7455.385668   7469.728339\n",
              "std     443.260646  4.159811e+04  ...   4586.153272   4608.472271\n",
              "min       0.000000  2.002122e+07  ...    330.000000    842.000000\n",
              "25%     383.500000  2.012071e+07  ...   4056.000000   4072.500000\n",
              "50%     767.000000  2.015041e+07  ...   6709.000000   6710.000000\n",
              "75%    1150.500000  2.018101e+07  ...  11071.500000  11097.500000\n",
              "max    1534.000000  2.020060e+07  ...  25291.000000  25291.000000\n",
              "\n",
              "[8 rows x 11 columns]"
            ]
          },
          "metadata": {
            "tags": []
          },
          "execution_count": 132
        }
      ]
    },
    {
      "cell_type": "code",
      "metadata": {
        "id": "mkJ2qxhUTjGJ",
        "outputId": "5343e62f-c886-47dd-822b-b281d0916719",
        "colab": {
          "base_uri": "https://localhost:8080/",
          "height": 550
        }
      },
      "source": [
        "import seaborn as sns\n",
        "plt.figure(1 , figsize = (17 , 8))\n",
        "cor = sns.heatmap(df.corr(), annot = True)"
      ],
      "execution_count": 133,
      "outputs": [
        {
          "output_type": "display_data",
          "data": {
            "image/png": "[encoded data removed]",
            "text/plain": [
              "<Figure size 1224x576 with 2 Axes>"
            ]
          },
          "metadata": {
            "tags": [],
            "needs_background": "light"
          }
        }
      ]
    },
    {
      "cell_type": "code",
      "metadata": {
        "id": "VWy495nCOFQ_",
        "outputId": "e692cc62-5483-48db-dfd8-10ff754eb358",
        "colab": {
          "base_uri": "https://localhost:8080/",
          "height": 235
        }
      },
      "source": [
        "df['datetime'] = pd.to_datetime(df['<DTYYYYMMDD>'], format='%Y%m%d')\n",
        "df.index = df['datetime']\n",
        "df.dropna()\n",
        "df_new = df[[\"<FIRST>\",\"<HIGH>\",\"<LOW>\",\"<CLOSE>\",\"<VALUE>\",\"<VOL>\"]]\n",
        "df_new.head()"
      ],
      "execution_count": 134,
      "outputs": [
        {
          "output_type": "execute_result",
          "data": {
            "text/html": [
              "<div>\n",
              "<style scoped>\n",
              "    .dataframe tbody tr th:only-of-type {\n",
              "        vertical-align: middle;\n",
              "    }\n",
              "\n",
              "    .dataframe tbody tr th {\n",
              "        vertical-align: top;\n",
              "    }\n",
              "\n",
              "    .dataframe thead th {\n",
              "        text-align: right;\n",
              "    }\n",
              "</style>\n",
              "<table border=\"1\" class=\"dataframe\">\n",
              "  <thead>\n",
              "    <tr style=\"text-align: right;\">\n",
              "      <th></th>\n",
              "      <th>&lt;FIRST&gt;</th>\n",
              "      <th>&lt;HIGH&gt;</th>\n",
              "      <th>&lt;LOW&gt;</th>\n",
              "      <th>&lt;CLOSE&gt;</th>\n",
              "      <th>&lt;VALUE&gt;</th>\n",
              "      <th>&lt;VOL&gt;</th>\n",
              "    </tr>\n",
              "    <tr>\n",
              "      <th>datetime</th>\n",
              "      <th></th>\n",
              "      <th></th>\n",
              "      <th></th>\n",
              "      <th></th>\n",
              "      <th></th>\n",
              "      <th></th>\n",
              "    </tr>\n",
              "  </thead>\n",
              "  <tbody>\n",
              "    <tr>\n",
              "      <th>2002-12-21</th>\n",
              "      <td>1700.0</td>\n",
              "      <td>1700.0</td>\n",
              "      <td>1700.0</td>\n",
              "      <td>1700.0</td>\n",
              "      <td>1700000</td>\n",
              "      <td>1000</td>\n",
              "    </tr>\n",
              "    <tr>\n",
              "      <th>2003-03-18</th>\n",
              "      <td>5600.0</td>\n",
              "      <td>5600.0</td>\n",
              "      <td>5600.0</td>\n",
              "      <td>5600.0</td>\n",
              "      <td>919497420800</td>\n",
              "      <td>164195968</td>\n",
              "    </tr>\n",
              "    <tr>\n",
              "      <th>2003-03-31</th>\n",
              "      <td>5320.0</td>\n",
              "      <td>5320.0</td>\n",
              "      <td>5320.0</td>\n",
              "      <td>5320.0</td>\n",
              "      <td>5320000</td>\n",
              "      <td>1000</td>\n",
              "    </tr>\n",
              "    <tr>\n",
              "      <th>2003-04-21</th>\n",
              "      <td>5054.0</td>\n",
              "      <td>5054.0</td>\n",
              "      <td>5054.0</td>\n",
              "      <td>5054.0</td>\n",
              "      <td>4472790</td>\n",
              "      <td>885</td>\n",
              "    </tr>\n",
              "    <tr>\n",
              "      <th>2004-01-06</th>\n",
              "      <td>1101.0</td>\n",
              "      <td>1101.0</td>\n",
              "      <td>1101.0</td>\n",
              "      <td>1101.0</td>\n",
              "      <td>974385</td>\n",
              "      <td>885</td>\n",
              "    </tr>\n",
              "  </tbody>\n",
              "</table>\n",
              "</div>"
            ],
            "text/plain": [
              "            <FIRST>  <HIGH>   <LOW>  <CLOSE>       <VALUE>      <VOL>\n",
              "datetime                                                             \n",
              "2002-12-21   1700.0  1700.0  1700.0   1700.0       1700000       1000\n",
              "2003-03-18   5600.0  5600.0  5600.0   5600.0  919497420800  164195968\n",
              "2003-03-31   5320.0  5320.0  5320.0   5320.0       5320000       1000\n",
              "2003-04-21   5054.0  5054.0  5054.0   5054.0       4472790        885\n",
              "2004-01-06   1101.0  1101.0  1101.0   1101.0        974385        885"
            ]
          },
          "metadata": {
            "tags": []
          },
          "execution_count": 134
        }
      ]
    },
    {
      "cell_type": "code",
      "metadata": {
        "id": "hLz42nBYber_",
        "outputId": "f254df50-6d6c-4417-b925-5dbf6fcd24c6",
        "colab": {
          "base_uri": "https://localhost:8080/"
        }
      },
      "source": [
        "df_new.shape"
      ],
      "execution_count": 135,
      "outputs": [
        {
          "output_type": "execute_result",
          "data": {
            "text/plain": [
              "(1535, 6)"
            ]
          },
          "metadata": {
            "tags": []
          },
          "execution_count": 135
        }
      ]
    },
    {
      "cell_type": "code",
      "metadata": {
        "id": "kvkvBjzCbesH",
        "outputId": "bcc9d70a-e0e4-407c-f0e0-7a958778f197",
        "colab": {
          "base_uri": "https://localhost:8080/"
        }
      },
      "source": [
        "#Calculating the change in price\n",
        "df_new['change_in_price'] = df_new['<CLOSE>'].diff()"
      ],
      "execution_count": 136,
      "outputs": [
        {
          "output_type": "stream",
          "text": [
            "/usr/local/lib/python3.6/dist-packages/ipykernel_launcher.py:2: SettingWithCopyWarning: \n",
            "A value is trying to be set on a copy of a slice from a DataFrame.\n",
            "Try using .loc[row_indexer,col_indexer] = value instead\n",
            "\n",
            "See the caveats in the documentation: https://pandas.pydata.org/pandas-docs/stable/user_guide/indexing.html#returning-a-view-versus-a-copy\n",
            "  \n"
          ],
          "name": "stderr"
        }
      ]
    },
    {
      "cell_type": "markdown",
      "metadata": {
        "id": "6Q4sHYAVhXdc"
      },
      "source": [
        "## **Data Visualisation**"
      ]
    },
    {
      "cell_type": "code",
      "metadata": {
        "id": "xvmCMSnkZO6R",
        "outputId": "303c498f-0f19-4c56-c06e-365fb245b6ee",
        "colab": {
          "base_uri": "https://localhost:8080/",
          "height": 495
        }
      },
      "source": [
        "plt.figure(figsize=(16,8))\n",
        "plt.plot(df_new['change_in_price'], label='Change In Price')"
      ],
      "execution_count": 137,
      "outputs": [
        {
          "output_type": "execute_result",
          "data": {
            "text/plain": [
              "[<matplotlib.lines.Line2D at 0x7f28d0652780>]"
            ]
          },
          "metadata": {
            "tags": []
          },
          "execution_count": 137
        },
        {
          "output_type": "display_data",
          "data": {
            "image/png": "[encoded data removed]",
            "text/plain": [
              "<Figure size 1152x576 with 1 Axes>"
            ]
          },
          "metadata": {
            "tags": [],
            "needs_background": "light"
          }
        }
      ]
    },
    {
      "cell_type": "code",
      "metadata": {
        "id": "AiDa4AToWnzp",
        "outputId": "af94cb91-c83c-4474-f2c2-c52a8aed621a",
        "colab": {
          "base_uri": "https://localhost:8080/",
          "height": 499
        }
      },
      "source": [
        "plt.figure(figsize=(16,8))\n",
        "plt.plot(df_new['<CLOSE>'], label='Close Price history')"
      ],
      "execution_count": 138,
      "outputs": [
        {
          "output_type": "execute_result",
          "data": {
            "text/plain": [
              "[<matplotlib.lines.Line2D at 0x7f28d86e50f0>]"
            ]
          },
          "metadata": {
            "tags": []
          },
          "execution_count": 138
        },
        {
          "output_type": "display_data",
          "data": {
            "image/png": "[encoded data removed]",
            "text/plain": [
              "<Figure size 1152x576 with 1 Axes>"
            ]
          },
          "metadata": {
            "tags": [],
            "needs_background": "light"
          }
        }
      ]
    },
    {
      "cell_type": "markdown",
      "metadata": {
        "id": "1vZkESASbesL"
      },
      "source": [
        "## **Calculating the technical indicators**"
      ]
    },
    {
      "cell_type": "code",
      "metadata": {
        "id": "iqjLW__ObesM",
        "outputId": "12e72238-d47d-4737-d977-e27948174633",
        "colab": {
          "base_uri": "https://localhost:8080/",
          "height": 235
        }
      },
      "source": [
        "#1. Simple n day moving average\n",
        "#A moving average (MA) is a widely used technical indicator that smooths out price trends by filtering out the “noise” from random short-term price fluctuations.\n",
        "##The most common applications of moving averages are to identify trend direction and to determine support and resistance levels.\n",
        "def moving_average(df, n):\n",
        "    \"\"\"Calculate the moving average for the given data.\n",
        "    :param df: pandas.DataFrame\n",
        "    :param n:\n",
        "    :return: pandas.DataFrame\n",
        "    \"\"\"\n",
        "    MA = pd.Series(df['<CLOSE>'].rolling(n, min_periods=n).mean(), name='MA_' + str(n))\n",
        "    df = df.join(MA)\n",
        "    return df\n",
        "df_new = moving_average(df_new,10)\n",
        "df_new.tail()"
      ],
      "execution_count": 139,
      "outputs": [
        {
          "output_type": "execute_result",
          "data": {
            "text/html": [
              "<div>\n",
              "<style scoped>\n",
              "    .dataframe tbody tr th:only-of-type {\n",
              "        vertical-align: middle;\n",
              "    }\n",
              "\n",
              "    .dataframe tbody tr th {\n",
              "        vertical-align: top;\n",
              "    }\n",
              "\n",
              "    .dataframe thead th {\n",
              "        text-align: right;\n",
              "    }\n",
              "</style>\n",
              "<table border=\"1\" class=\"dataframe\">\n",
              "  <thead>\n",
              "    <tr style=\"text-align: right;\">\n",
              "      <th></th>\n",
              "      <th>&lt;FIRST&gt;</th>\n",
              "      <th>&lt;HIGH&gt;</th>\n",
              "      <th>&lt;LOW&gt;</th>\n",
              "      <th>&lt;CLOSE&gt;</th>\n",
              "      <th>&lt;VALUE&gt;</th>\n",
              "      <th>&lt;VOL&gt;</th>\n",
              "      <th>change_in_price</th>\n",
              "      <th>MA_10</th>\n",
              "    </tr>\n",
              "    <tr>\n",
              "      <th>datetime</th>\n",
              "      <th></th>\n",
              "      <th></th>\n",
              "      <th></th>\n",
              "      <th></th>\n",
              "      <th></th>\n",
              "      <th></th>\n",
              "      <th></th>\n",
              "      <th></th>\n",
              "    </tr>\n",
              "  </thead>\n",
              "  <tbody>\n",
              "    <tr>\n",
              "      <th>2020-05-26</th>\n",
              "      <td>19641.0</td>\n",
              "      <td>19780.0</td>\n",
              "      <td>19641.0</td>\n",
              "      <td>20610.0</td>\n",
              "      <td>3734971842</td>\n",
              "      <td>190162</td>\n",
              "      <td>-64.0</td>\n",
              "      <td>21721.6</td>\n",
              "    </tr>\n",
              "    <tr>\n",
              "      <th>2020-05-27</th>\n",
              "      <td>19563.0</td>\n",
              "      <td>20458.0</td>\n",
              "      <td>19563.0</td>\n",
              "      <td>19664.0</td>\n",
              "      <td>88787842465</td>\n",
              "      <td>4515291</td>\n",
              "      <td>-946.0</td>\n",
              "      <td>21249.2</td>\n",
              "    </tr>\n",
              "    <tr>\n",
              "      <th>2020-05-30</th>\n",
              "      <td>19670.0</td>\n",
              "      <td>20647.0</td>\n",
              "      <td>19670.0</td>\n",
              "      <td>20548.0</td>\n",
              "      <td>61764520298</td>\n",
              "      <td>3005837</td>\n",
              "      <td>884.0</td>\n",
              "      <td>20986.5</td>\n",
              "    </tr>\n",
              "    <tr>\n",
              "      <th>2020-05-31</th>\n",
              "      <td>21200.0</td>\n",
              "      <td>21575.0</td>\n",
              "      <td>20954.0</td>\n",
              "      <td>21415.0</td>\n",
              "      <td>142517849008</td>\n",
              "      <td>6654898</td>\n",
              "      <td>867.0</td>\n",
              "      <td>20902.5</td>\n",
              "    </tr>\n",
              "    <tr>\n",
              "      <th>2020-06-01</th>\n",
              "      <td>22485.0</td>\n",
              "      <td>22485.0</td>\n",
              "      <td>22485.0</td>\n",
              "      <td>21891.0</td>\n",
              "      <td>25459832955</td>\n",
              "      <td>1132303</td>\n",
              "      <td>476.0</td>\n",
              "      <td>20977.3</td>\n",
              "    </tr>\n",
              "  </tbody>\n",
              "</table>\n",
              "</div>"
            ],
            "text/plain": [
              "            <FIRST>   <HIGH>    <LOW>  ...    <VOL>  change_in_price    MA_10\n",
              "datetime                               ...                                   \n",
              "2020-05-26  19641.0  19780.0  19641.0  ...   190162            -64.0  21721.6\n",
              "2020-05-27  19563.0  20458.0  19563.0  ...  4515291           -946.0  21249.2\n",
              "2020-05-30  19670.0  20647.0  19670.0  ...  3005837            884.0  20986.5\n",
              "2020-05-31  21200.0  21575.0  20954.0  ...  6654898            867.0  20902.5\n",
              "2020-06-01  22485.0  22485.0  22485.0  ...  1132303            476.0  20977.3\n",
              "\n",
              "[5 rows x 8 columns]"
            ]
          },
          "metadata": {
            "tags": []
          },
          "execution_count": 139
        }
      ]
    },
    {
      "cell_type": "code",
      "metadata": {
        "id": "080HB4bObesP",
        "outputId": "492b9687-6926-4a7a-f317-00c28b8b6b02",
        "colab": {
          "base_uri": "https://localhost:8080/",
          "height": 235
        }
      },
      "source": [
        "#2. Weighted Moving Average (WMA)\n",
        "def weighted_moving_average(df, n):\n",
        "    \"\"\"\n",
        "    :param df: pandas.DataFrame\n",
        "    :param n:\n",
        "    :return: pandas.DataFrame\n",
        "    \"\"\"\n",
        "    WMA = pd.Series(df['<CLOSE>'].ewm(span=n, min_periods=n).mean(), name='WMA_' + str(n))\n",
        "    df = df.join(WMA)\n",
        "    return df\n",
        "df_new = weighted_moving_average(df_new,10)\n",
        "df_new.tail()"
      ],
      "execution_count": 140,
      "outputs": [
        {
          "output_type": "execute_result",
          "data": {
            "text/html": [
              "<div>\n",
              "<style scoped>\n",
              "    .dataframe tbody tr th:only-of-type {\n",
              "        vertical-align: middle;\n",
              "    }\n",
              "\n",
              "    .dataframe tbody tr th {\n",
              "        vertical-align: top;\n",
              "    }\n",
              "\n",
              "    .dataframe thead th {\n",
              "        text-align: right;\n",
              "    }\n",
              "</style>\n",
              "<table border=\"1\" class=\"dataframe\">\n",
              "  <thead>\n",
              "    <tr style=\"text-align: right;\">\n",
              "      <th></th>\n",
              "      <th>&lt;FIRST&gt;</th>\n",
              "      <th>&lt;HIGH&gt;</th>\n",
              "      <th>&lt;LOW&gt;</th>\n",
              "      <th>&lt;CLOSE&gt;</th>\n",
              "      <th>&lt;VALUE&gt;</th>\n",
              "      <th>&lt;VOL&gt;</th>\n",
              "      <th>change_in_price</th>\n",
              "      <th>MA_10</th>\n",
              "      <th>WMA_10</th>\n",
              "    </tr>\n",
              "    <tr>\n",
              "      <th>datetime</th>\n",
              "      <th></th>\n",
              "      <th></th>\n",
              "      <th></th>\n",
              "      <th></th>\n",
              "      <th></th>\n",
              "      <th></th>\n",
              "      <th></th>\n",
              "      <th></th>\n",
              "      <th></th>\n",
              "    </tr>\n",
              "  </thead>\n",
              "  <tbody>\n",
              "    <tr>\n",
              "      <th>2020-05-26</th>\n",
              "      <td>19641.0</td>\n",
              "      <td>19780.0</td>\n",
              "      <td>19641.0</td>\n",
              "      <td>20610.0</td>\n",
              "      <td>3734971842</td>\n",
              "      <td>190162</td>\n",
              "      <td>-64.0</td>\n",
              "      <td>21721.6</td>\n",
              "      <td>21117.191748</td>\n",
              "    </tr>\n",
              "    <tr>\n",
              "      <th>2020-05-27</th>\n",
              "      <td>19563.0</td>\n",
              "      <td>20458.0</td>\n",
              "      <td>19563.0</td>\n",
              "      <td>19664.0</td>\n",
              "      <td>88787842465</td>\n",
              "      <td>4515291</td>\n",
              "      <td>-946.0</td>\n",
              "      <td>21249.2</td>\n",
              "      <td>20852.975067</td>\n",
              "    </tr>\n",
              "    <tr>\n",
              "      <th>2020-05-30</th>\n",
              "      <td>19670.0</td>\n",
              "      <td>20647.0</td>\n",
              "      <td>19670.0</td>\n",
              "      <td>20548.0</td>\n",
              "      <td>61764520298</td>\n",
              "      <td>3005837</td>\n",
              "      <td>884.0</td>\n",
              "      <td>20986.5</td>\n",
              "      <td>20797.525054</td>\n",
              "    </tr>\n",
              "    <tr>\n",
              "      <th>2020-05-31</th>\n",
              "      <td>21200.0</td>\n",
              "      <td>21575.0</td>\n",
              "      <td>20954.0</td>\n",
              "      <td>21415.0</td>\n",
              "      <td>142517849008</td>\n",
              "      <td>6654898</td>\n",
              "      <td>867.0</td>\n",
              "      <td>20902.5</td>\n",
              "      <td>20909.793226</td>\n",
              "    </tr>\n",
              "    <tr>\n",
              "      <th>2020-06-01</th>\n",
              "      <td>22485.0</td>\n",
              "      <td>22485.0</td>\n",
              "      <td>22485.0</td>\n",
              "      <td>21891.0</td>\n",
              "      <td>25459832955</td>\n",
              "      <td>1132303</td>\n",
              "      <td>476.0</td>\n",
              "      <td>20977.3</td>\n",
              "      <td>21088.194458</td>\n",
              "    </tr>\n",
              "  </tbody>\n",
              "</table>\n",
              "</div>"
            ],
            "text/plain": [
              "            <FIRST>   <HIGH>    <LOW>  ...  change_in_price    MA_10        WMA_10\n",
              "datetime                               ...                                        \n",
              "2020-05-26  19641.0  19780.0  19641.0  ...            -64.0  21721.6  21117.191748\n",
              "2020-05-27  19563.0  20458.0  19563.0  ...           -946.0  21249.2  20852.975067\n",
              "2020-05-30  19670.0  20647.0  19670.0  ...            884.0  20986.5  20797.525054\n",
              "2020-05-31  21200.0  21575.0  20954.0  ...            867.0  20902.5  20909.793226\n",
              "2020-06-01  22485.0  22485.0  22485.0  ...            476.0  20977.3  21088.194458\n",
              "\n",
              "[5 rows x 9 columns]"
            ]
          },
          "metadata": {
            "tags": []
          },
          "execution_count": 140
        }
      ]
    },
    {
      "cell_type": "code",
      "metadata": {
        "id": "lTZOxNVrbesS",
        "outputId": "c2813584-fd39-4b4c-910b-77c3008ce123",
        "colab": {
          "base_uri": "https://localhost:8080/",
          "height": 235
        }
      },
      "source": [
        "#3. Momentum\n",
        "def momentum(df, n):\n",
        "    \"\"\"\n",
        "    :param df: pandas.DataFrame\n",
        "    :param n:\n",
        "    :return: pandas.DataFrame\n",
        "    \"\"\"\n",
        "    M = pd.Series(df['<CLOSE>'].diff(n), name='MOM_' + str(n))\n",
        "    df = df.join(M)\n",
        "    return df\n",
        "df_new = momentum(df_new,10)\n",
        "df_new.tail()"
      ],
      "execution_count": 141,
      "outputs": [
        {
          "output_type": "execute_result",
          "data": {
            "text/html": [
              "<div>\n",
              "<style scoped>\n",
              "    .dataframe tbody tr th:only-of-type {\n",
              "        vertical-align: middle;\n",
              "    }\n",
              "\n",
              "    .dataframe tbody tr th {\n",
              "        vertical-align: top;\n",
              "    }\n",
              "\n",
              "    .dataframe thead th {\n",
              "        text-align: right;\n",
              "    }\n",
              "</style>\n",
              "<table border=\"1\" class=\"dataframe\">\n",
              "  <thead>\n",
              "    <tr style=\"text-align: right;\">\n",
              "      <th></th>\n",
              "      <th>&lt;FIRST&gt;</th>\n",
              "      <th>&lt;HIGH&gt;</th>\n",
              "      <th>&lt;LOW&gt;</th>\n",
              "      <th>&lt;CLOSE&gt;</th>\n",
              "      <th>&lt;VALUE&gt;</th>\n",
              "      <th>&lt;VOL&gt;</th>\n",
              "      <th>change_in_price</th>\n",
              "      <th>MA_10</th>\n",
              "      <th>WMA_10</th>\n",
              "      <th>MOM_10</th>\n",
              "    </tr>\n",
              "    <tr>\n",
              "      <th>datetime</th>\n",
              "      <th></th>\n",
              "      <th></th>\n",
              "      <th></th>\n",
              "      <th></th>\n",
              "      <th></th>\n",
              "      <th></th>\n",
              "      <th></th>\n",
              "      <th></th>\n",
              "      <th></th>\n",
              "      <th></th>\n",
              "    </tr>\n",
              "  </thead>\n",
              "  <tbody>\n",
              "    <tr>\n",
              "      <th>2020-05-26</th>\n",
              "      <td>19641.0</td>\n",
              "      <td>19780.0</td>\n",
              "      <td>19641.0</td>\n",
              "      <td>20610.0</td>\n",
              "      <td>3734971842</td>\n",
              "      <td>190162</td>\n",
              "      <td>-64.0</td>\n",
              "      <td>21721.6</td>\n",
              "      <td>21117.191748</td>\n",
              "      <td>-2866.0</td>\n",
              "    </tr>\n",
              "    <tr>\n",
              "      <th>2020-05-27</th>\n",
              "      <td>19563.0</td>\n",
              "      <td>20458.0</td>\n",
              "      <td>19563.0</td>\n",
              "      <td>19664.0</td>\n",
              "      <td>88787842465</td>\n",
              "      <td>4515291</td>\n",
              "      <td>-946.0</td>\n",
              "      <td>21249.2</td>\n",
              "      <td>20852.975067</td>\n",
              "      <td>-4724.0</td>\n",
              "    </tr>\n",
              "    <tr>\n",
              "      <th>2020-05-30</th>\n",
              "      <td>19670.0</td>\n",
              "      <td>20647.0</td>\n",
              "      <td>19670.0</td>\n",
              "      <td>20548.0</td>\n",
              "      <td>61764520298</td>\n",
              "      <td>3005837</td>\n",
              "      <td>884.0</td>\n",
              "      <td>20986.5</td>\n",
              "      <td>20797.525054</td>\n",
              "      <td>-2627.0</td>\n",
              "    </tr>\n",
              "    <tr>\n",
              "      <th>2020-05-31</th>\n",
              "      <td>21200.0</td>\n",
              "      <td>21575.0</td>\n",
              "      <td>20954.0</td>\n",
              "      <td>21415.0</td>\n",
              "      <td>142517849008</td>\n",
              "      <td>6654898</td>\n",
              "      <td>867.0</td>\n",
              "      <td>20902.5</td>\n",
              "      <td>20909.793226</td>\n",
              "      <td>-840.0</td>\n",
              "    </tr>\n",
              "    <tr>\n",
              "      <th>2020-06-01</th>\n",
              "      <td>22485.0</td>\n",
              "      <td>22485.0</td>\n",
              "      <td>22485.0</td>\n",
              "      <td>21891.0</td>\n",
              "      <td>25459832955</td>\n",
              "      <td>1132303</td>\n",
              "      <td>476.0</td>\n",
              "      <td>20977.3</td>\n",
              "      <td>21088.194458</td>\n",
              "      <td>748.0</td>\n",
              "    </tr>\n",
              "  </tbody>\n",
              "</table>\n",
              "</div>"
            ],
            "text/plain": [
              "            <FIRST>   <HIGH>    <LOW>  ...    MA_10        WMA_10  MOM_10\n",
              "datetime                               ...                               \n",
              "2020-05-26  19641.0  19780.0  19641.0  ...  21721.6  21117.191748 -2866.0\n",
              "2020-05-27  19563.0  20458.0  19563.0  ...  21249.2  20852.975067 -4724.0\n",
              "2020-05-30  19670.0  20647.0  19670.0  ...  20986.5  20797.525054 -2627.0\n",
              "2020-05-31  21200.0  21575.0  20954.0  ...  20902.5  20909.793226  -840.0\n",
              "2020-06-01  22485.0  22485.0  22485.0  ...  20977.3  21088.194458   748.0\n",
              "\n",
              "[5 rows x 10 columns]"
            ]
          },
          "metadata": {
            "tags": []
          },
          "execution_count": 141
        }
      ]
    },
    {
      "cell_type": "code",
      "metadata": {
        "id": "9WasGdiqbesV",
        "outputId": "7518e228-3b24-481d-8983-79a9a4e60e16",
        "colab": {
          "base_uri": "https://localhost:8080/",
          "height": 340
        }
      },
      "source": [
        "#4. Stochastic K%\n",
        "def stochastic_oscillator_k(df):\n",
        "    \"\"\"Calculate stochastic oscillator %K for given data.\n",
        "    :param df: pandas.DataFrame\n",
        "    :return: pandas.DataFrame\n",
        "    \"\"\"\n",
        "    SOk = pd.Series((df['<CLOSE>'] - df['<LOW>']) / (df['<HIGH>'] - df['<LOW>']), name='SO_k')\n",
        "    df = df.join(SOk)\n",
        "    return df\n",
        "df_new = stochastic_oscillator_k(df_new)\n",
        "df_new.tail()"
      ],
      "execution_count": 142,
      "outputs": [
        {
          "output_type": "execute_result",
          "data": {
            "text/html": [
              "<div>\n",
              "<style scoped>\n",
              "    .dataframe tbody tr th:only-of-type {\n",
              "        vertical-align: middle;\n",
              "    }\n",
              "\n",
              "    .dataframe tbody tr th {\n",
              "        vertical-align: top;\n",
              "    }\n",
              "\n",
              "    .dataframe thead th {\n",
              "        text-align: right;\n",
              "    }\n",
              "</style>\n",
              "<table border=\"1\" class=\"dataframe\">\n",
              "  <thead>\n",
              "    <tr style=\"text-align: right;\">\n",
              "      <th></th>\n",
              "      <th>&lt;FIRST&gt;</th>\n",
              "      <th>&lt;HIGH&gt;</th>\n",
              "      <th>&lt;LOW&gt;</th>\n",
              "      <th>&lt;CLOSE&gt;</th>\n",
              "      <th>&lt;VALUE&gt;</th>\n",
              "      <th>&lt;VOL&gt;</th>\n",
              "      <th>change_in_price</th>\n",
              "      <th>MA_10</th>\n",
              "      <th>WMA_10</th>\n",
              "      <th>MOM_10</th>\n",
              "      <th>SO_k</th>\n",
              "    </tr>\n",
              "    <tr>\n",
              "      <th>datetime</th>\n",
              "      <th></th>\n",
              "      <th></th>\n",
              "      <th></th>\n",
              "      <th></th>\n",
              "      <th></th>\n",
              "      <th></th>\n",
              "      <th></th>\n",
              "      <th></th>\n",
              "      <th></th>\n",
              "      <th></th>\n",
              "      <th></th>\n",
              "    </tr>\n",
              "  </thead>\n",
              "  <tbody>\n",
              "    <tr>\n",
              "      <th>2020-05-26</th>\n",
              "      <td>19641.0</td>\n",
              "      <td>19780.0</td>\n",
              "      <td>19641.0</td>\n",
              "      <td>20610.0</td>\n",
              "      <td>3734971842</td>\n",
              "      <td>190162</td>\n",
              "      <td>-64.0</td>\n",
              "      <td>21721.6</td>\n",
              "      <td>21117.191748</td>\n",
              "      <td>-2866.0</td>\n",
              "      <td>6.971223</td>\n",
              "    </tr>\n",
              "    <tr>\n",
              "      <th>2020-05-27</th>\n",
              "      <td>19563.0</td>\n",
              "      <td>20458.0</td>\n",
              "      <td>19563.0</td>\n",
              "      <td>19664.0</td>\n",
              "      <td>88787842465</td>\n",
              "      <td>4515291</td>\n",
              "      <td>-946.0</td>\n",
              "      <td>21249.2</td>\n",
              "      <td>20852.975067</td>\n",
              "      <td>-4724.0</td>\n",
              "      <td>0.112849</td>\n",
              "    </tr>\n",
              "    <tr>\n",
              "      <th>2020-05-30</th>\n",
              "      <td>19670.0</td>\n",
              "      <td>20647.0</td>\n",
              "      <td>19670.0</td>\n",
              "      <td>20548.0</td>\n",
              "      <td>61764520298</td>\n",
              "      <td>3005837</td>\n",
              "      <td>884.0</td>\n",
              "      <td>20986.5</td>\n",
              "      <td>20797.525054</td>\n",
              "      <td>-2627.0</td>\n",
              "      <td>0.898669</td>\n",
              "    </tr>\n",
              "    <tr>\n",
              "      <th>2020-05-31</th>\n",
              "      <td>21200.0</td>\n",
              "      <td>21575.0</td>\n",
              "      <td>20954.0</td>\n",
              "      <td>21415.0</td>\n",
              "      <td>142517849008</td>\n",
              "      <td>6654898</td>\n",
              "      <td>867.0</td>\n",
              "      <td>20902.5</td>\n",
              "      <td>20909.793226</td>\n",
              "      <td>-840.0</td>\n",
              "      <td>0.742351</td>\n",
              "    </tr>\n",
              "    <tr>\n",
              "      <th>2020-06-01</th>\n",
              "      <td>22485.0</td>\n",
              "      <td>22485.0</td>\n",
              "      <td>22485.0</td>\n",
              "      <td>21891.0</td>\n",
              "      <td>25459832955</td>\n",
              "      <td>1132303</td>\n",
              "      <td>476.0</td>\n",
              "      <td>20977.3</td>\n",
              "      <td>21088.194458</td>\n",
              "      <td>748.0</td>\n",
              "      <td>-inf</td>\n",
              "    </tr>\n",
              "  </tbody>\n",
              "</table>\n",
              "</div>"
            ],
            "text/plain": [
              "            <FIRST>   <HIGH>    <LOW>  ...        WMA_10  MOM_10      SO_k\n",
              "datetime                               ...                                \n",
              "2020-05-26  19641.0  19780.0  19641.0  ...  21117.191748 -2866.0  6.971223\n",
              "2020-05-27  19563.0  20458.0  19563.0  ...  20852.975067 -4724.0  0.112849\n",
              "2020-05-30  19670.0  20647.0  19670.0  ...  20797.525054 -2627.0  0.898669\n",
              "2020-05-31  21200.0  21575.0  20954.0  ...  20909.793226  -840.0  0.742351\n",
              "2020-06-01  22485.0  22485.0  22485.0  ...  21088.194458   748.0      -inf\n",
              "\n",
              "[5 rows x 11 columns]"
            ]
          },
          "metadata": {
            "tags": []
          },
          "execution_count": 142
        }
      ]
    },
    {
      "cell_type": "code",
      "metadata": {
        "id": "d5u31Lq2besX",
        "outputId": "9620107e-3bec-4903-9613-c5df31f04d24",
        "colab": {
          "base_uri": "https://localhost:8080/",
          "height": 340
        }
      },
      "source": [
        "#5. Stochastic D%\n",
        "def stochastic_oscillator_d(df, n):\n",
        "    \"\"\"Calculate stochastic oscillator %D for given data.\n",
        "    :param df: pandas.DataFrame\n",
        "    :param n:\n",
        "    :return: pandas.DataFrame\n",
        "    \"\"\"\n",
        "    SOk = pd.Series((df['<CLOSE>'] - df['<LOW>']) / (df['<HIGH>'] - df['<LOW>']), name='SO%k')\n",
        "    SOd = pd.Series(SOk.ewm(span=n, min_periods=n).mean(), name='SO_' + str(n))\n",
        "    df = df.join(SOd)\n",
        "    return df\n",
        "df_new = stochastic_oscillator_d(df_new,10)\n",
        "df_new.tail()"
      ],
      "execution_count": 143,
      "outputs": [
        {
          "output_type": "execute_result",
          "data": {
            "text/html": [
              "<div>\n",
              "<style scoped>\n",
              "    .dataframe tbody tr th:only-of-type {\n",
              "        vertical-align: middle;\n",
              "    }\n",
              "\n",
              "    .dataframe tbody tr th {\n",
              "        vertical-align: top;\n",
              "    }\n",
              "\n",
              "    .dataframe thead th {\n",
              "        text-align: right;\n",
              "    }\n",
              "</style>\n",
              "<table border=\"1\" class=\"dataframe\">\n",
              "  <thead>\n",
              "    <tr style=\"text-align: right;\">\n",
              "      <th></th>\n",
              "      <th>&lt;FIRST&gt;</th>\n",
              "      <th>&lt;HIGH&gt;</th>\n",
              "      <th>&lt;LOW&gt;</th>\n",
              "      <th>&lt;CLOSE&gt;</th>\n",
              "      <th>&lt;VALUE&gt;</th>\n",
              "      <th>&lt;VOL&gt;</th>\n",
              "      <th>change_in_price</th>\n",
              "      <th>MA_10</th>\n",
              "      <th>WMA_10</th>\n",
              "      <th>MOM_10</th>\n",
              "      <th>SO_k</th>\n",
              "      <th>SO_10</th>\n",
              "    </tr>\n",
              "    <tr>\n",
              "      <th>datetime</th>\n",
              "      <th></th>\n",
              "      <th></th>\n",
              "      <th></th>\n",
              "      <th></th>\n",
              "      <th></th>\n",
              "      <th></th>\n",
              "      <th></th>\n",
              "      <th></th>\n",
              "      <th></th>\n",
              "      <th></th>\n",
              "      <th></th>\n",
              "      <th></th>\n",
              "    </tr>\n",
              "  </thead>\n",
              "  <tbody>\n",
              "    <tr>\n",
              "      <th>2020-05-26</th>\n",
              "      <td>19641.0</td>\n",
              "      <td>19780.0</td>\n",
              "      <td>19641.0</td>\n",
              "      <td>20610.0</td>\n",
              "      <td>3734971842</td>\n",
              "      <td>190162</td>\n",
              "      <td>-64.0</td>\n",
              "      <td>21721.6</td>\n",
              "      <td>21117.191748</td>\n",
              "      <td>-2866.0</td>\n",
              "      <td>6.971223</td>\n",
              "      <td>2.342540</td>\n",
              "    </tr>\n",
              "    <tr>\n",
              "      <th>2020-05-27</th>\n",
              "      <td>19563.0</td>\n",
              "      <td>20458.0</td>\n",
              "      <td>19563.0</td>\n",
              "      <td>19664.0</td>\n",
              "      <td>88787842465</td>\n",
              "      <td>4515291</td>\n",
              "      <td>-946.0</td>\n",
              "      <td>21249.2</td>\n",
              "      <td>20852.975067</td>\n",
              "      <td>-4724.0</td>\n",
              "      <td>0.112849</td>\n",
              "      <td>1.803912</td>\n",
              "    </tr>\n",
              "    <tr>\n",
              "      <th>2020-05-30</th>\n",
              "      <td>19670.0</td>\n",
              "      <td>20647.0</td>\n",
              "      <td>19670.0</td>\n",
              "      <td>20548.0</td>\n",
              "      <td>61764520298</td>\n",
              "      <td>3005837</td>\n",
              "      <td>884.0</td>\n",
              "      <td>20986.5</td>\n",
              "      <td>20797.525054</td>\n",
              "      <td>-2627.0</td>\n",
              "      <td>0.898669</td>\n",
              "      <td>1.597562</td>\n",
              "    </tr>\n",
              "    <tr>\n",
              "      <th>2020-05-31</th>\n",
              "      <td>21200.0</td>\n",
              "      <td>21575.0</td>\n",
              "      <td>20954.0</td>\n",
              "      <td>21415.0</td>\n",
              "      <td>142517849008</td>\n",
              "      <td>6654898</td>\n",
              "      <td>867.0</td>\n",
              "      <td>20902.5</td>\n",
              "      <td>20909.793226</td>\n",
              "      <td>-840.0</td>\n",
              "      <td>0.742351</td>\n",
              "      <td>1.411213</td>\n",
              "    </tr>\n",
              "    <tr>\n",
              "      <th>2020-06-01</th>\n",
              "      <td>22485.0</td>\n",
              "      <td>22485.0</td>\n",
              "      <td>22485.0</td>\n",
              "      <td>21891.0</td>\n",
              "      <td>25459832955</td>\n",
              "      <td>1132303</td>\n",
              "      <td>476.0</td>\n",
              "      <td>20977.3</td>\n",
              "      <td>21088.194458</td>\n",
              "      <td>748.0</td>\n",
              "      <td>-inf</td>\n",
              "      <td>1.411213</td>\n",
              "    </tr>\n",
              "  </tbody>\n",
              "</table>\n",
              "</div>"
            ],
            "text/plain": [
              "            <FIRST>   <HIGH>    <LOW>  ...  MOM_10      SO_k     SO_10\n",
              "datetime                               ...                            \n",
              "2020-05-26  19641.0  19780.0  19641.0  ... -2866.0  6.971223  2.342540\n",
              "2020-05-27  19563.0  20458.0  19563.0  ... -4724.0  0.112849  1.803912\n",
              "2020-05-30  19670.0  20647.0  19670.0  ... -2627.0  0.898669  1.597562\n",
              "2020-05-31  21200.0  21575.0  20954.0  ...  -840.0  0.742351  1.411213\n",
              "2020-06-01  22485.0  22485.0  22485.0  ...   748.0      -inf  1.411213\n",
              "\n",
              "[5 rows x 12 columns]"
            ]
          },
          "metadata": {
            "tags": []
          },
          "execution_count": 143
        }
      ]
    },
    {
      "cell_type": "code",
      "metadata": {
        "id": "oki_RUaObesb",
        "outputId": "6249c77b-e198-440c-9f5b-e63ba587e124",
        "colab": {
          "base_uri": "https://localhost:8080/",
          "height": 171
        }
      },
      "source": [
        "#6. Relative Strength Index\n",
        "#Error\n",
        "\"\"\"\n",
        "def relative_strength_index(df, n):\n",
        "    Calculate Relative Strength Index(RSI) for given data.\n",
        "    :param df: pandas.DataFrame\n",
        "    :param n:\n",
        "    :return: pandas.DataFrame\n",
        "    i = df.index[0]\n",
        "    UpI = [0]\n",
        "    DoI = [0]\n",
        "    while i + 1 <= df.index[-1]:\n",
        "        UpMove = float(df.loc[i + 1, 'high']) - float(df.loc[i, 'high'])\n",
        "        DoMove = float(df.loc[i, 'low']) - float(df.loc[i + 1, 'low'])\n",
        "        if UpMove > DoMove and UpMove > 0:\n",
        "            UpD = UpMove\n",
        "        else:\n",
        "            UpD = 0\n",
        "        UpI.append(UpD)\n",
        "        if DoMove > UpMove and DoMove > 0:\n",
        "            DoD = DoMove\n",
        "        else:\n",
        "            DoD = 0\n",
        "        DoI.append(DoD)\n",
        "        i = i + 1\n",
        "    UpI = pd.Series(UpI)\n",
        "\n",
        "    DoI = pd.Series(DoI)\n",
        "    PosDI = pd.Series(UpI.ewm(span=n, min_periods=n).mean())\n",
        "    NegDI = pd.Series(DoI.ewm(span=n, min_periods=n).mean())\n",
        "\n",
        "    # rsi = pd.Series(PosDI / (PosDI + NegDI), name='RSI_' + str(n))\n",
        "    rsi = pd.DataFrame(PosDI / (PosDI + NegDI), columns=['RSI_' + str(n)])\n",
        "    rsi = rsi.set_index(df.index)\n",
        "    df = df.join(rsi)\n",
        "    return df\n",
        "\"\"\""
      ],
      "execution_count": 144,
      "outputs": [
        {
          "output_type": "execute_result",
          "data": {
            "application/vnd.google.colaboratory.intrinsic+json": {
              "type": "string"
            },
            "text/plain": [
              "\"\\ndef relative_strength_index(df, n):\\n    Calculate Relative Strength Index(RSI) for given data.\\n    :param df: pandas.DataFrame\\n    :param n:\\n    :return: pandas.DataFrame\\n    i = df.index[0]\\n    UpI = [0]\\n    DoI = [0]\\n    while i + 1 <= df.index[-1]:\\n        UpMove = float(df.loc[i + 1, 'high']) - float(df.loc[i, 'high'])\\n        DoMove = float(df.loc[i, 'low']) - float(df.loc[i + 1, 'low'])\\n        if UpMove > DoMove and UpMove > 0:\\n            UpD = UpMove\\n        else:\\n            UpD = 0\\n        UpI.append(UpD)\\n        if DoMove > UpMove and DoMove > 0:\\n            DoD = DoMove\\n        else:\\n            DoD = 0\\n        DoI.append(DoD)\\n        i = i + 1\\n    UpI = pd.Series(UpI)\\n\\n    DoI = pd.Series(DoI)\\n    PosDI = pd.Series(UpI.ewm(span=n, min_periods=n).mean())\\n    NegDI = pd.Series(DoI.ewm(span=n, min_periods=n).mean())\\n\\n    # rsi = pd.Series(PosDI / (PosDI + NegDI), name='RSI_' + str(n))\\n    rsi = pd.DataFrame(PosDI / (PosDI + NegDI), columns=['RSI_' + str(n)])\\n    rsi = rsi.set_index(df.index)\\n    df = df.join(rsi)\\n    return df\\n\""
            ]
          },
          "metadata": {
            "tags": []
          },
          "execution_count": 144
        }
      ]
    },
    {
      "cell_type": "code",
      "metadata": {
        "id": "SzBt7Xdobese",
        "outputId": "3d0da0ba-abf6-4e8f-fb41-0c47898caf6c",
        "colab": {
          "base_uri": "https://localhost:8080/",
          "height": 340
        }
      },
      "source": [
        "#7. Signal\n",
        "def macd(df, n_fast, n_slow):\n",
        "    \"\"\"Calculate MACD, MACD Signal and MACD difference\n",
        "    :param df: pandas.DataFrame\n",
        "    :param n_fast:\n",
        "    :param n_slow:\n",
        "    :return: pandas.DataFrame\n",
        "    \"\"\"\n",
        "    EMAfast = pd.Series(df['<CLOSE>'].ewm(span=n_fast, min_periods=n_slow).mean())\n",
        "    EMAslow = pd.Series(df['<CLOSE>'].ewm(span=n_slow, min_periods=n_slow).mean())\n",
        "    MACD = pd.Series(EMAfast - EMAslow, name='MACD_' + str(n_fast) + '_' + str(n_slow))\n",
        "    MACDsign = pd.Series(MACD.ewm(span=9, min_periods=9).mean(), name='MACDsign_' + str(n_fast) + '_' + str(n_slow))\n",
        "    MACDdiff = pd.Series(MACD - MACDsign, name='MACDdiff_' + str(n_fast) + '_' + str(n_slow))\n",
        "    df = df.join(MACD)\n",
        "    df = df.join(MACDsign)\n",
        "    df = df.join(MACDdiff)\n",
        "    return df\n",
        "df_new = macd(df_new,12,26)\n",
        "df_new.head()"
      ],
      "execution_count": 145,
      "outputs": [
        {
          "output_type": "execute_result",
          "data": {
            "text/html": [
              "<div>\n",
              "<style scoped>\n",
              "    .dataframe tbody tr th:only-of-type {\n",
              "        vertical-align: middle;\n",
              "    }\n",
              "\n",
              "    .dataframe tbody tr th {\n",
              "        vertical-align: top;\n",
              "    }\n",
              "\n",
              "    .dataframe thead th {\n",
              "        text-align: right;\n",
              "    }\n",
              "</style>\n",
              "<table border=\"1\" class=\"dataframe\">\n",
              "  <thead>\n",
              "    <tr style=\"text-align: right;\">\n",
              "      <th></th>\n",
              "      <th>&lt;FIRST&gt;</th>\n",
              "      <th>&lt;HIGH&gt;</th>\n",
              "      <th>&lt;LOW&gt;</th>\n",
              "      <th>&lt;CLOSE&gt;</th>\n",
              "      <th>&lt;VALUE&gt;</th>\n",
              "      <th>&lt;VOL&gt;</th>\n",
              "      <th>change_in_price</th>\n",
              "      <th>MA_10</th>\n",
              "      <th>WMA_10</th>\n",
              "      <th>MOM_10</th>\n",
              "      <th>SO_k</th>\n",
              "      <th>SO_10</th>\n",
              "      <th>MACD_12_26</th>\n",
              "      <th>MACDsign_12_26</th>\n",
              "      <th>MACDdiff_12_26</th>\n",
              "    </tr>\n",
              "    <tr>\n",
              "      <th>datetime</th>\n",
              "      <th></th>\n",
              "      <th></th>\n",
              "      <th></th>\n",
              "      <th></th>\n",
              "      <th></th>\n",
              "      <th></th>\n",
              "      <th></th>\n",
              "      <th></th>\n",
              "      <th></th>\n",
              "      <th></th>\n",
              "      <th></th>\n",
              "      <th></th>\n",
              "      <th></th>\n",
              "      <th></th>\n",
              "      <th></th>\n",
              "    </tr>\n",
              "  </thead>\n",
              "  <tbody>\n",
              "    <tr>\n",
              "      <th>2002-12-21</th>\n",
              "      <td>1700.0</td>\n",
              "      <td>1700.0</td>\n",
              "      <td>1700.0</td>\n",
              "      <td>1700.0</td>\n",
              "      <td>1700000</td>\n",
              "      <td>1000</td>\n",
              "      <td>NaN</td>\n",
              "      <td>NaN</td>\n",
              "      <td>NaN</td>\n",
              "      <td>NaN</td>\n",
              "      <td>NaN</td>\n",
              "      <td>NaN</td>\n",
              "      <td>NaN</td>\n",
              "      <td>NaN</td>\n",
              "      <td>NaN</td>\n",
              "    </tr>\n",
              "    <tr>\n",
              "      <th>2003-03-18</th>\n",
              "      <td>5600.0</td>\n",
              "      <td>5600.0</td>\n",
              "      <td>5600.0</td>\n",
              "      <td>5600.0</td>\n",
              "      <td>919497420800</td>\n",
              "      <td>164195968</td>\n",
              "      <td>3900.0</td>\n",
              "      <td>NaN</td>\n",
              "      <td>NaN</td>\n",
              "      <td>NaN</td>\n",
              "      <td>NaN</td>\n",
              "      <td>NaN</td>\n",
              "      <td>NaN</td>\n",
              "      <td>NaN</td>\n",
              "      <td>NaN</td>\n",
              "    </tr>\n",
              "    <tr>\n",
              "      <th>2003-03-31</th>\n",
              "      <td>5320.0</td>\n",
              "      <td>5320.0</td>\n",
              "      <td>5320.0</td>\n",
              "      <td>5320.0</td>\n",
              "      <td>5320000</td>\n",
              "      <td>1000</td>\n",
              "      <td>-280.0</td>\n",
              "      <td>NaN</td>\n",
              "      <td>NaN</td>\n",
              "      <td>NaN</td>\n",
              "      <td>NaN</td>\n",
              "      <td>NaN</td>\n",
              "      <td>NaN</td>\n",
              "      <td>NaN</td>\n",
              "      <td>NaN</td>\n",
              "    </tr>\n",
              "    <tr>\n",
              "      <th>2003-04-21</th>\n",
              "      <td>5054.0</td>\n",
              "      <td>5054.0</td>\n",
              "      <td>5054.0</td>\n",
              "      <td>5054.0</td>\n",
              "      <td>4472790</td>\n",
              "      <td>885</td>\n",
              "      <td>-266.0</td>\n",
              "      <td>NaN</td>\n",
              "      <td>NaN</td>\n",
              "      <td>NaN</td>\n",
              "      <td>NaN</td>\n",
              "      <td>NaN</td>\n",
              "      <td>NaN</td>\n",
              "      <td>NaN</td>\n",
              "      <td>NaN</td>\n",
              "    </tr>\n",
              "    <tr>\n",
              "      <th>2004-01-06</th>\n",
              "      <td>1101.0</td>\n",
              "      <td>1101.0</td>\n",
              "      <td>1101.0</td>\n",
              "      <td>1101.0</td>\n",
              "      <td>974385</td>\n",
              "      <td>885</td>\n",
              "      <td>-3953.0</td>\n",
              "      <td>NaN</td>\n",
              "      <td>NaN</td>\n",
              "      <td>NaN</td>\n",
              "      <td>NaN</td>\n",
              "      <td>NaN</td>\n",
              "      <td>NaN</td>\n",
              "      <td>NaN</td>\n",
              "      <td>NaN</td>\n",
              "    </tr>\n",
              "  </tbody>\n",
              "</table>\n",
              "</div>"
            ],
            "text/plain": [
              "            <FIRST>  <HIGH>   <LOW>  ...  MACD_12_26  MACDsign_12_26  MACDdiff_12_26\n",
              "datetime                             ...                                            \n",
              "2002-12-21   1700.0  1700.0  1700.0  ...         NaN             NaN             NaN\n",
              "2003-03-18   5600.0  5600.0  5600.0  ...         NaN             NaN             NaN\n",
              "2003-03-31   5320.0  5320.0  5320.0  ...         NaN             NaN             NaN\n",
              "2003-04-21   5054.0  5054.0  5054.0  ...         NaN             NaN             NaN\n",
              "2004-01-06   1101.0  1101.0  1101.0  ...         NaN             NaN             NaN\n",
              "\n",
              "[5 rows x 15 columns]"
            ]
          },
          "metadata": {
            "tags": []
          },
          "execution_count": 145
        }
      ]
    },
    {
      "cell_type": "code",
      "metadata": {
        "id": "cfobRA3dbesh"
      },
      "source": [
        "#8. Larry Williams R%\n",
        "#lEFT"
      ],
      "execution_count": 146,
      "outputs": []
    },
    {
      "cell_type": "code",
      "metadata": {
        "id": "tAAH6tYWbesm",
        "outputId": "43af1c35-4db3-4bce-991f-aa3624701066",
        "colab": {
          "base_uri": "https://localhost:8080/",
          "height": 374
        }
      },
      "source": [
        "#9. Accumulation / Distribution\n",
        "def accumulation_distribution(df, n):\n",
        "    \"\"\"Calculate Accumulation/Distribution for given data.\n",
        "    :param df: pandas.DataFrame\n",
        "    :param n:\n",
        "    :return: pandas.DataFrame\n",
        "    \"\"\"\n",
        "    ad = (2 * df['<CLOSE>'] - df['<HIGH>'] - df['<LOW>']) / (df['<HIGH>'] - df['<LOW>']) * df['<VOL>']\n",
        "    M = ad.diff(n - 1)\n",
        "    N = ad.shift(n - 1)\n",
        "    ROC = M / N\n",
        "    AD = pd.Series(ROC, name='Acc/Dist_ROC_' + str(n))\n",
        "    df = df.join(AD)\n",
        "    return df\n",
        "df_new = accumulation_distribution(df_new,10)\n",
        "df_new.tail()"
      ],
      "execution_count": 147,
      "outputs": [
        {
          "output_type": "stream",
          "text": [
            "/usr/local/lib/python3.6/dist-packages/pandas/core/algorithms.py:1977: RuntimeWarning: invalid value encountered in subtract\n",
            "  out_arr[res_indexer] = arr[res_indexer] - arr[lag_indexer]\n"
          ],
          "name": "stderr"
        },
        {
          "output_type": "execute_result",
          "data": {
            "text/html": [
              "<div>\n",
              "<style scoped>\n",
              "    .dataframe tbody tr th:only-of-type {\n",
              "        vertical-align: middle;\n",
              "    }\n",
              "\n",
              "    .dataframe tbody tr th {\n",
              "        vertical-align: top;\n",
              "    }\n",
              "\n",
              "    .dataframe thead th {\n",
              "        text-align: right;\n",
              "    }\n",
              "</style>\n",
              "<table border=\"1\" class=\"dataframe\">\n",
              "  <thead>\n",
              "    <tr style=\"text-align: right;\">\n",
              "      <th></th>\n",
              "      <th>&lt;FIRST&gt;</th>\n",
              "      <th>&lt;HIGH&gt;</th>\n",
              "      <th>&lt;LOW&gt;</th>\n",
              "      <th>&lt;CLOSE&gt;</th>\n",
              "      <th>&lt;VALUE&gt;</th>\n",
              "      <th>&lt;VOL&gt;</th>\n",
              "      <th>change_in_price</th>\n",
              "      <th>MA_10</th>\n",
              "      <th>WMA_10</th>\n",
              "      <th>MOM_10</th>\n",
              "      <th>SO_k</th>\n",
              "      <th>SO_10</th>\n",
              "      <th>MACD_12_26</th>\n",
              "      <th>MACDsign_12_26</th>\n",
              "      <th>MACDdiff_12_26</th>\n",
              "      <th>Acc/Dist_ROC_10</th>\n",
              "    </tr>\n",
              "    <tr>\n",
              "      <th>datetime</th>\n",
              "      <th></th>\n",
              "      <th></th>\n",
              "      <th></th>\n",
              "      <th></th>\n",
              "      <th></th>\n",
              "      <th></th>\n",
              "      <th></th>\n",
              "      <th></th>\n",
              "      <th></th>\n",
              "      <th></th>\n",
              "      <th></th>\n",
              "      <th></th>\n",
              "      <th></th>\n",
              "      <th></th>\n",
              "      <th></th>\n",
              "      <th></th>\n",
              "    </tr>\n",
              "  </thead>\n",
              "  <tbody>\n",
              "    <tr>\n",
              "      <th>2020-05-26</th>\n",
              "      <td>19641.0</td>\n",
              "      <td>19780.0</td>\n",
              "      <td>19641.0</td>\n",
              "      <td>20610.0</td>\n",
              "      <td>3734971842</td>\n",
              "      <td>190162</td>\n",
              "      <td>-64.0</td>\n",
              "      <td>21721.6</td>\n",
              "      <td>21117.191748</td>\n",
              "      <td>-2866.0</td>\n",
              "      <td>6.971223</td>\n",
              "      <td>2.342540</td>\n",
              "      <td>1527.015046</td>\n",
              "      <td>1984.396206</td>\n",
              "      <td>-457.381160</td>\n",
              "      <td>-0.78324</td>\n",
              "    </tr>\n",
              "    <tr>\n",
              "      <th>2020-05-27</th>\n",
              "      <td>19563.0</td>\n",
              "      <td>20458.0</td>\n",
              "      <td>19563.0</td>\n",
              "      <td>19664.0</td>\n",
              "      <td>88787842465</td>\n",
              "      <td>4515291</td>\n",
              "      <td>-946.0</td>\n",
              "      <td>21249.2</td>\n",
              "      <td>20852.975067</td>\n",
              "      <td>-4724.0</td>\n",
              "      <td>0.112849</td>\n",
              "      <td>1.803912</td>\n",
              "      <td>1305.858238</td>\n",
              "      <td>1848.688612</td>\n",
              "      <td>-542.830375</td>\n",
              "      <td>NaN</td>\n",
              "    </tr>\n",
              "    <tr>\n",
              "      <th>2020-05-30</th>\n",
              "      <td>19670.0</td>\n",
              "      <td>20647.0</td>\n",
              "      <td>19670.0</td>\n",
              "      <td>20548.0</td>\n",
              "      <td>61764520298</td>\n",
              "      <td>3005837</td>\n",
              "      <td>884.0</td>\n",
              "      <td>20986.5</td>\n",
              "      <td>20797.525054</td>\n",
              "      <td>-2627.0</td>\n",
              "      <td>0.898669</td>\n",
              "      <td>1.597562</td>\n",
              "      <td>1188.224178</td>\n",
              "      <td>1716.595725</td>\n",
              "      <td>-528.371548</td>\n",
              "      <td>-1.25061</td>\n",
              "    </tr>\n",
              "    <tr>\n",
              "      <th>2020-05-31</th>\n",
              "      <td>21200.0</td>\n",
              "      <td>21575.0</td>\n",
              "      <td>20954.0</td>\n",
              "      <td>21415.0</td>\n",
              "      <td>142517849008</td>\n",
              "      <td>6654898</td>\n",
              "      <td>867.0</td>\n",
              "      <td>20902.5</td>\n",
              "      <td>20909.793226</td>\n",
              "      <td>-840.0</td>\n",
              "      <td>0.742351</td>\n",
              "      <td>1.411213</td>\n",
              "      <td>1151.682117</td>\n",
              "      <td>1603.613004</td>\n",
              "      <td>-451.930887</td>\n",
              "      <td>NaN</td>\n",
              "    </tr>\n",
              "    <tr>\n",
              "      <th>2020-06-01</th>\n",
              "      <td>22485.0</td>\n",
              "      <td>22485.0</td>\n",
              "      <td>22485.0</td>\n",
              "      <td>21891.0</td>\n",
              "      <td>25459832955</td>\n",
              "      <td>1132303</td>\n",
              "      <td>476.0</td>\n",
              "      <td>20977.3</td>\n",
              "      <td>21088.194458</td>\n",
              "      <td>748.0</td>\n",
              "      <td>-inf</td>\n",
              "      <td>1.411213</td>\n",
              "      <td>1147.899225</td>\n",
              "      <td>1512.470248</td>\n",
              "      <td>-364.571023</td>\n",
              "      <td>inf</td>\n",
              "    </tr>\n",
              "  </tbody>\n",
              "</table>\n",
              "</div>"
            ],
            "text/plain": [
              "            <FIRST>   <HIGH>  ...  MACDdiff_12_26  Acc/Dist_ROC_10\n",
              "datetime                      ...                                 \n",
              "2020-05-26  19641.0  19780.0  ...     -457.381160         -0.78324\n",
              "2020-05-27  19563.0  20458.0  ...     -542.830375              NaN\n",
              "2020-05-30  19670.0  20647.0  ...     -528.371548         -1.25061\n",
              "2020-05-31  21200.0  21575.0  ...     -451.930887              NaN\n",
              "2020-06-01  22485.0  22485.0  ...     -364.571023              inf\n",
              "\n",
              "[5 rows x 16 columns]"
            ]
          },
          "metadata": {
            "tags": []
          },
          "execution_count": 147
        }
      ]
    },
    {
      "cell_type": "code",
      "metadata": {
        "id": "XCFLfxtUbesq",
        "outputId": "e7f3ef5d-0f98-4b1c-95d0-8ff398963fd8",
        "colab": {
          "base_uri": "https://localhost:8080/",
          "height": 340
        }
      },
      "source": [
        "#10. Commodity Channel Index\n",
        "def commodity_channel_index(df, n):\n",
        "    \"\"\"Calculate Commodity Channel Index for given data.\n",
        "    :param df: pandas.DataFrame\n",
        "    :param n:\n",
        "    :return: pandas.DataFrame\n",
        "    \"\"\"\n",
        "    PP = (df['<HIGH>'] + df['<LOW>'] + df['<CLOSE>']) / 3\n",
        "    CCI = pd.Series((PP - PP.rolling(n, min_periods=n).mean()) / PP.rolling(n, min_periods=n).std(),\n",
        "                    name='CCI_' + str(n))\n",
        "    df = df.join(CCI)\n",
        "    return df\n",
        "df_new = commodity_channel_index(df_new,10)\n",
        "df_new.tail()"
      ],
      "execution_count": 148,
      "outputs": [
        {
          "output_type": "execute_result",
          "data": {
            "text/html": [
              "<div>\n",
              "<style scoped>\n",
              "    .dataframe tbody tr th:only-of-type {\n",
              "        vertical-align: middle;\n",
              "    }\n",
              "\n",
              "    .dataframe tbody tr th {\n",
              "        vertical-align: top;\n",
              "    }\n",
              "\n",
              "    .dataframe thead th {\n",
              "        text-align: right;\n",
              "    }\n",
              "</style>\n",
              "<table border=\"1\" class=\"dataframe\">\n",
              "  <thead>\n",
              "    <tr style=\"text-align: right;\">\n",
              "      <th></th>\n",
              "      <th>&lt;FIRST&gt;</th>\n",
              "      <th>&lt;HIGH&gt;</th>\n",
              "      <th>&lt;LOW&gt;</th>\n",
              "      <th>&lt;CLOSE&gt;</th>\n",
              "      <th>&lt;VALUE&gt;</th>\n",
              "      <th>&lt;VOL&gt;</th>\n",
              "      <th>change_in_price</th>\n",
              "      <th>MA_10</th>\n",
              "      <th>WMA_10</th>\n",
              "      <th>MOM_10</th>\n",
              "      <th>SO_k</th>\n",
              "      <th>SO_10</th>\n",
              "      <th>MACD_12_26</th>\n",
              "      <th>MACDsign_12_26</th>\n",
              "      <th>MACDdiff_12_26</th>\n",
              "      <th>Acc/Dist_ROC_10</th>\n",
              "      <th>CCI_10</th>\n",
              "    </tr>\n",
              "    <tr>\n",
              "      <th>datetime</th>\n",
              "      <th></th>\n",
              "      <th></th>\n",
              "      <th></th>\n",
              "      <th></th>\n",
              "      <th></th>\n",
              "      <th></th>\n",
              "      <th></th>\n",
              "      <th></th>\n",
              "      <th></th>\n",
              "      <th></th>\n",
              "      <th></th>\n",
              "      <th></th>\n",
              "      <th></th>\n",
              "      <th></th>\n",
              "      <th></th>\n",
              "      <th></th>\n",
              "      <th></th>\n",
              "    </tr>\n",
              "  </thead>\n",
              "  <tbody>\n",
              "    <tr>\n",
              "      <th>2020-05-26</th>\n",
              "      <td>19641.0</td>\n",
              "      <td>19780.0</td>\n",
              "      <td>19641.0</td>\n",
              "      <td>20610.0</td>\n",
              "      <td>3734971842</td>\n",
              "      <td>190162</td>\n",
              "      <td>-64.0</td>\n",
              "      <td>21721.6</td>\n",
              "      <td>21117.191748</td>\n",
              "      <td>-2866.0</td>\n",
              "      <td>6.971223</td>\n",
              "      <td>2.342540</td>\n",
              "      <td>1527.015046</td>\n",
              "      <td>1984.396206</td>\n",
              "      <td>-457.381160</td>\n",
              "      <td>-0.78324</td>\n",
              "      <td>-1.217732</td>\n",
              "    </tr>\n",
              "    <tr>\n",
              "      <th>2020-05-27</th>\n",
              "      <td>19563.0</td>\n",
              "      <td>20458.0</td>\n",
              "      <td>19563.0</td>\n",
              "      <td>19664.0</td>\n",
              "      <td>88787842465</td>\n",
              "      <td>4515291</td>\n",
              "      <td>-946.0</td>\n",
              "      <td>21249.2</td>\n",
              "      <td>20852.975067</td>\n",
              "      <td>-4724.0</td>\n",
              "      <td>0.112849</td>\n",
              "      <td>1.803912</td>\n",
              "      <td>1305.858238</td>\n",
              "      <td>1848.688612</td>\n",
              "      <td>-542.830375</td>\n",
              "      <td>NaN</td>\n",
              "      <td>-1.155010</td>\n",
              "    </tr>\n",
              "    <tr>\n",
              "      <th>2020-05-30</th>\n",
              "      <td>19670.0</td>\n",
              "      <td>20647.0</td>\n",
              "      <td>19670.0</td>\n",
              "      <td>20548.0</td>\n",
              "      <td>61764520298</td>\n",
              "      <td>3005837</td>\n",
              "      <td>884.0</td>\n",
              "      <td>20986.5</td>\n",
              "      <td>20797.525054</td>\n",
              "      <td>-2627.0</td>\n",
              "      <td>0.898669</td>\n",
              "      <td>1.597562</td>\n",
              "      <td>1188.224178</td>\n",
              "      <td>1716.595725</td>\n",
              "      <td>-528.371548</td>\n",
              "      <td>-1.25061</td>\n",
              "      <td>-0.678315</td>\n",
              "    </tr>\n",
              "    <tr>\n",
              "      <th>2020-05-31</th>\n",
              "      <td>21200.0</td>\n",
              "      <td>21575.0</td>\n",
              "      <td>20954.0</td>\n",
              "      <td>21415.0</td>\n",
              "      <td>142517849008</td>\n",
              "      <td>6654898</td>\n",
              "      <td>867.0</td>\n",
              "      <td>20902.5</td>\n",
              "      <td>20909.793226</td>\n",
              "      <td>-840.0</td>\n",
              "      <td>0.742351</td>\n",
              "      <td>1.411213</td>\n",
              "      <td>1151.682117</td>\n",
              "      <td>1603.613004</td>\n",
              "      <td>-451.930887</td>\n",
              "      <td>NaN</td>\n",
              "      <td>0.851461</td>\n",
              "    </tr>\n",
              "    <tr>\n",
              "      <th>2020-06-01</th>\n",
              "      <td>22485.0</td>\n",
              "      <td>22485.0</td>\n",
              "      <td>22485.0</td>\n",
              "      <td>21891.0</td>\n",
              "      <td>25459832955</td>\n",
              "      <td>1132303</td>\n",
              "      <td>476.0</td>\n",
              "      <td>20977.3</td>\n",
              "      <td>21088.194458</td>\n",
              "      <td>748.0</td>\n",
              "      <td>-inf</td>\n",
              "      <td>1.411213</td>\n",
              "      <td>1147.899225</td>\n",
              "      <td>1512.470248</td>\n",
              "      <td>-364.571023</td>\n",
              "      <td>inf</td>\n",
              "      <td>1.748851</td>\n",
              "    </tr>\n",
              "  </tbody>\n",
              "</table>\n",
              "</div>"
            ],
            "text/plain": [
              "            <FIRST>   <HIGH>  ...  Acc/Dist_ROC_10    CCI_10\n",
              "datetime                      ...                           \n",
              "2020-05-26  19641.0  19780.0  ...         -0.78324 -1.217732\n",
              "2020-05-27  19563.0  20458.0  ...              NaN -1.155010\n",
              "2020-05-30  19670.0  20647.0  ...         -1.25061 -0.678315\n",
              "2020-05-31  21200.0  21575.0  ...              NaN  0.851461\n",
              "2020-06-01  22485.0  22485.0  ...              inf  1.748851\n",
              "\n",
              "[5 rows x 17 columns]"
            ]
          },
          "metadata": {
            "tags": []
          },
          "execution_count": 148
        }
      ]
    },
    {
      "cell_type": "code",
      "metadata": {
        "id": "HHQkL2Fybesu",
        "outputId": "af43dfc9-2445-476a-ad7b-9f1bfcb17ce5",
        "colab": {
          "base_uri": "https://localhost:8080/"
        }
      },
      "source": [
        "df_new.mean()"
      ],
      "execution_count": 149,
      "outputs": [
        {
          "output_type": "execute_result",
          "data": {
            "text/plain": [
              "<FIRST>            7.486582e+03\n",
              "<HIGH>             7.582164e+03\n",
              "<LOW>              7.360582e+03\n",
              "<CLOSE>            7.482254e+03\n",
              "<VALUE>            1.932278e+10\n",
              "<VOL>              4.098205e+06\n",
              "change_in_price    1.316232e+01\n",
              "MA_10              7.450139e+03\n",
              "WMA_10             7.451169e+03\n",
              "MOM_10             9.052459e+01\n",
              "SO_k                        NaN\n",
              "SO_10              6.141745e-01\n",
              "MACD_12_26         3.693981e+01\n",
              "MACDsign_12_26     3.224326e+01\n",
              "MACDdiff_12_26     3.196668e+00\n",
              "Acc/Dist_ROC_10             NaN\n",
              "CCI_10                     -inf\n",
              "dtype: float64"
            ]
          },
          "metadata": {
            "tags": []
          },
          "execution_count": 149
        }
      ]
    },
    {
      "cell_type": "code",
      "metadata": {
        "id": "mSwQUUeKbesx",
        "outputId": "a86c9ff7-a9d1-421f-b92a-23f257b82078",
        "colab": {
          "base_uri": "https://localhost:8080/"
        }
      },
      "source": [
        "df_new.min()"
      ],
      "execution_count": 150,
      "outputs": [
        {
          "output_type": "execute_result",
          "data": {
            "text/plain": [
              "<FIRST>            8.180000e+02\n",
              "<HIGH>             8.420000e+02\n",
              "<LOW>              8.180000e+02\n",
              "<CLOSE>            8.550000e+02\n",
              "<VALUE>            9.227000e+03\n",
              "<VOL>              1.000000e+00\n",
              "change_in_price   -1.506400e+04\n",
              "MA_10              9.684000e+02\n",
              "WMA_10             1.217622e+03\n",
              "MOM_10            -1.596700e+04\n",
              "SO_k                       -inf\n",
              "SO_10             -1.802383e+01\n",
              "MACD_12_26        -2.474898e+03\n",
              "MACDsign_12_26    -2.125425e+03\n",
              "MACDdiff_12_26    -1.717115e+03\n",
              "Acc/Dist_ROC_10            -inf\n",
              "CCI_10                     -inf\n",
              "dtype: float64"
            ]
          },
          "metadata": {
            "tags": []
          },
          "execution_count": 150
        }
      ]
    },
    {
      "cell_type": "code",
      "metadata": {
        "id": "mMVVklQPbes1",
        "outputId": "7377afb4-acfc-4d2c-e46f-0447ddee764b",
        "colab": {
          "base_uri": "https://localhost:8080/"
        }
      },
      "source": [
        "df_new.max()"
      ],
      "execution_count": 151,
      "outputs": [
        {
          "output_type": "execute_result",
          "data": {
            "text/plain": [
              "<FIRST>            2.580000e+04\n",
              "<HIGH>             2.580000e+04\n",
              "<LOW>              2.529100e+04\n",
              "<CLOSE>            2.529100e+04\n",
              "<VALUE>            9.482221e+11\n",
              "<VOL>              1.641960e+08\n",
              "change_in_price    8.500000e+03\n",
              "MA_10              2.278450e+04\n",
              "WMA_10             2.269231e+04\n",
              "MOM_10             1.136500e+04\n",
              "SO_k                        inf\n",
              "SO_10              2.527386e+01\n",
              "MACD_12_26         2.799053e+03\n",
              "MACDsign_12_26     2.404355e+03\n",
              "MACDdiff_12_26     7.204539e+02\n",
              "Acc/Dist_ROC_10             inf\n",
              "CCI_10             2.846053e+00\n",
              "dtype: float64"
            ]
          },
          "metadata": {
            "tags": []
          },
          "execution_count": 151
        }
      ]
    },
    {
      "cell_type": "code",
      "metadata": {
        "id": "uNTpjP7Xbes4",
        "outputId": "3c78dfbc-c919-4a1f-f333-af55fca20d72",
        "colab": {
          "base_uri": "https://localhost:8080/"
        }
      },
      "source": [
        "df_new.std()"
      ],
      "execution_count": 152,
      "outputs": [
        {
          "output_type": "execute_result",
          "data": {
            "text/plain": [
              "<FIRST>            4.607126e+03\n",
              "<HIGH>             4.651191e+03\n",
              "<LOW>              4.556411e+03\n",
              "<CLOSE>            4.614527e+03\n",
              "<VALUE>            4.988563e+10\n",
              "<VOL>              1.054633e+07\n",
              "change_in_price    5.506471e+02\n",
              "MA_10              4.507023e+03\n",
              "WMA_10             4.481562e+03\n",
              "MOM_10             1.749103e+03\n",
              "SO_k                        NaN\n",
              "SO_10              2.554240e+00\n",
              "MACD_12_26         5.376527e+02\n",
              "MACDsign_12_26     4.959767e+02\n",
              "MACDdiff_12_26     1.756331e+02\n",
              "Acc/Dist_ROC_10             NaN\n",
              "CCI_10                      NaN\n",
              "dtype: float64"
            ]
          },
          "metadata": {
            "tags": []
          },
          "execution_count": 152
        }
      ]
    },
    {
      "cell_type": "markdown",
      "metadata": {
        "id": "vfZGT9zFbes9"
      },
      "source": [
        "## **Normalizing Data**"
      ]
    },
    {
      "cell_type": "code",
      "metadata": {
        "id": "8tYyjDyjbes-",
        "outputId": "9bc18050-97b0-4457-b299-ca0a86fbe1fe",
        "colab": {
          "base_uri": "https://localhost:8080/",
          "height": 340
        }
      },
      "source": [
        "data = (df_new - df_new.mean()) / (df_new.max() - df_new.min())\n",
        "data.tail()"
      ],
      "execution_count": 153,
      "outputs": [
        {
          "output_type": "execute_result",
          "data": {
            "text/html": [
              "<div>\n",
              "<style scoped>\n",
              "    .dataframe tbody tr th:only-of-type {\n",
              "        vertical-align: middle;\n",
              "    }\n",
              "\n",
              "    .dataframe tbody tr th {\n",
              "        vertical-align: top;\n",
              "    }\n",
              "\n",
              "    .dataframe thead th {\n",
              "        text-align: right;\n",
              "    }\n",
              "</style>\n",
              "<table border=\"1\" class=\"dataframe\">\n",
              "  <thead>\n",
              "    <tr style=\"text-align: right;\">\n",
              "      <th></th>\n",
              "      <th>&lt;FIRST&gt;</th>\n",
              "      <th>&lt;HIGH&gt;</th>\n",
              "      <th>&lt;LOW&gt;</th>\n",
              "      <th>&lt;CLOSE&gt;</th>\n",
              "      <th>&lt;VALUE&gt;</th>\n",
              "      <th>&lt;VOL&gt;</th>\n",
              "      <th>change_in_price</th>\n",
              "      <th>MA_10</th>\n",
              "      <th>WMA_10</th>\n",
              "      <th>MOM_10</th>\n",
              "      <th>SO_k</th>\n",
              "      <th>SO_10</th>\n",
              "      <th>MACD_12_26</th>\n",
              "      <th>MACDsign_12_26</th>\n",
              "      <th>MACDdiff_12_26</th>\n",
              "      <th>Acc/Dist_ROC_10</th>\n",
              "      <th>CCI_10</th>\n",
              "    </tr>\n",
              "    <tr>\n",
              "      <th>datetime</th>\n",
              "      <th></th>\n",
              "      <th></th>\n",
              "      <th></th>\n",
              "      <th></th>\n",
              "      <th></th>\n",
              "      <th></th>\n",
              "      <th></th>\n",
              "      <th></th>\n",
              "      <th></th>\n",
              "      <th></th>\n",
              "      <th></th>\n",
              "      <th></th>\n",
              "      <th></th>\n",
              "      <th></th>\n",
              "      <th></th>\n",
              "      <th></th>\n",
              "      <th></th>\n",
              "    </tr>\n",
              "  </thead>\n",
              "  <tbody>\n",
              "    <tr>\n",
              "      <th>2020-05-26</th>\n",
              "      <td>0.486527</td>\n",
              "      <td>0.488735</td>\n",
              "      <td>0.501795</td>\n",
              "      <td>0.537230</td>\n",
              "      <td>-0.016439</td>\n",
              "      <td>-0.023801</td>\n",
              "      <td>-0.003275</td>\n",
              "      <td>0.654171</td>\n",
              "      <td>0.636378</td>\n",
              "      <td>-0.108171</td>\n",
              "      <td>NaN</td>\n",
              "      <td>0.039918</td>\n",
              "      <td>0.282535</td>\n",
              "      <td>0.430960</td>\n",
              "      <td>-0.188950</td>\n",
              "      <td>NaN</td>\n",
              "      <td>NaN</td>\n",
              "    </tr>\n",
              "    <tr>\n",
              "      <th>2020-05-27</th>\n",
              "      <td>0.483405</td>\n",
              "      <td>0.515900</td>\n",
              "      <td>0.498607</td>\n",
              "      <td>0.498516</td>\n",
              "      <td>0.073258</td>\n",
              "      <td>0.002540</td>\n",
              "      <td>-0.040705</td>\n",
              "      <td>0.632517</td>\n",
              "      <td>0.624074</td>\n",
              "      <td>-0.176150</td>\n",
              "      <td>NaN</td>\n",
              "      <td>0.027478</td>\n",
              "      <td>0.240601</td>\n",
              "      <td>0.401001</td>\n",
              "      <td>-0.224005</td>\n",
              "      <td>NaN</td>\n",
              "      <td>NaN</td>\n",
              "    </tr>\n",
              "    <tr>\n",
              "      <th>2020-05-30</th>\n",
              "      <td>0.487688</td>\n",
              "      <td>0.523473</td>\n",
              "      <td>0.502980</td>\n",
              "      <td>0.534692</td>\n",
              "      <td>0.044759</td>\n",
              "      <td>-0.006653</td>\n",
              "      <td>0.036956</td>\n",
              "      <td>0.620476</td>\n",
              "      <td>0.621492</td>\n",
              "      <td>-0.099426</td>\n",
              "      <td>NaN</td>\n",
              "      <td>0.022712</td>\n",
              "      <td>0.218296</td>\n",
              "      <td>0.371840</td>\n",
              "      <td>-0.218073</td>\n",
              "      <td>NaN</td>\n",
              "      <td>NaN</td>\n",
              "    </tr>\n",
              "    <tr>\n",
              "      <th>2020-05-31</th>\n",
              "      <td>0.548932</td>\n",
              "      <td>0.560655</td>\n",
              "      <td>0.555445</td>\n",
              "      <td>0.570173</td>\n",
              "      <td>0.129922</td>\n",
              "      <td>0.015571</td>\n",
              "      <td>0.036235</td>\n",
              "      <td>0.616625</td>\n",
              "      <td>0.626720</td>\n",
              "      <td>-0.034045</td>\n",
              "      <td>NaN</td>\n",
              "      <td>0.018408</td>\n",
              "      <td>0.211368</td>\n",
              "      <td>0.346898</td>\n",
              "      <td>-0.186714</td>\n",
              "      <td>NaN</td>\n",
              "      <td>NaN</td>\n",
              "    </tr>\n",
              "    <tr>\n",
              "      <th>2020-06-01</th>\n",
              "      <td>0.600369</td>\n",
              "      <td>0.597117</td>\n",
              "      <td>0.618004</td>\n",
              "      <td>0.589652</td>\n",
              "      <td>0.006472</td>\n",
              "      <td>-0.018063</td>\n",
              "      <td>0.019642</td>\n",
              "      <td>0.620054</td>\n",
              "      <td>0.635028</td>\n",
              "      <td>0.024055</td>\n",
              "      <td>NaN</td>\n",
              "      <td>0.018408</td>\n",
              "      <td>0.210650</td>\n",
              "      <td>0.326777</td>\n",
              "      <td>-0.150875</td>\n",
              "      <td>NaN</td>\n",
              "      <td>NaN</td>\n",
              "    </tr>\n",
              "  </tbody>\n",
              "</table>\n",
              "</div>"
            ],
            "text/plain": [
              "             <FIRST>    <HIGH>  ...  Acc/Dist_ROC_10  CCI_10\n",
              "datetime                        ...                         \n",
              "2020-05-26  0.486527  0.488735  ...              NaN     NaN\n",
              "2020-05-27  0.483405  0.515900  ...              NaN     NaN\n",
              "2020-05-30  0.487688  0.523473  ...              NaN     NaN\n",
              "2020-05-31  0.548932  0.560655  ...              NaN     NaN\n",
              "2020-06-01  0.600369  0.597117  ...              NaN     NaN\n",
              "\n",
              "[5 rows x 17 columns]"
            ]
          },
          "metadata": {
            "tags": []
          },
          "execution_count": 153
        }
      ]
    },
    {
      "cell_type": "code",
      "metadata": {
        "id": "YcwrDXOzbetB",
        "outputId": "be37c632-385a-4e96-f7b8-7ce769e87a1c",
        "colab": {
          "base_uri": "https://localhost:8080/",
          "height": 549
        }
      },
      "source": [
        "import seaborn as sns\n",
        "plt.figure(1 , figsize = (17 , 8))\n",
        "cor = sns.heatmap(data.corr(), annot = True)"
      ],
      "execution_count": 154,
      "outputs": [
        {
          "output_type": "display_data",
          "data": {
            "image/png": "[encoded data removed]",
            "text/plain": [
              "<Figure size 1224x576 with 2 Axes>"
            ]
          },
          "metadata": {
            "tags": [],
            "needs_background": "light"
          }
        }
      ]
    },
    {
      "cell_type": "code",
      "metadata": {
        "id": "Nw7aDwgebetG",
        "outputId": "d7182315-4239-4176-b3b5-05e659155903",
        "colab": {
          "base_uri": "https://localhost:8080/"
        }
      },
      "source": [
        "#To check null values\n",
        "data.isnull().sum()"
      ],
      "execution_count": 155,
      "outputs": [
        {
          "output_type": "execute_result",
          "data": {
            "text/plain": [
              "<FIRST>               0\n",
              "<HIGH>                0\n",
              "<LOW>                 0\n",
              "<CLOSE>               0\n",
              "<VALUE>               0\n",
              "<VOL>                 0\n",
              "change_in_price       1\n",
              "MA_10                 9\n",
              "WMA_10                9\n",
              "MOM_10               10\n",
              "SO_k               1535\n",
              "SO_10                18\n",
              "MACD_12_26           25\n",
              "MACDsign_12_26       33\n",
              "MACDdiff_12_26       33\n",
              "Acc/Dist_ROC_10    1535\n",
              "CCI_10             1535\n",
              "dtype: int64"
            ]
          },
          "metadata": {
            "tags": []
          },
          "execution_count": 155
        }
      ]
    },
    {
      "cell_type": "code",
      "metadata": {
        "id": "QN8FItuAbetJ"
      },
      "source": [
        "#Removing the null values\n",
        "data = data.fillna(data.mean())"
      ],
      "execution_count": 156,
      "outputs": []
    },
    {
      "cell_type": "code",
      "metadata": {
        "id": "shbMSgnWbetN"
      },
      "source": [
        "data = data.dropna(how=\"all\",axis=1)"
      ],
      "execution_count": 157,
      "outputs": []
    },
    {
      "cell_type": "code",
      "metadata": {
        "id": "hKHZhcd8betR",
        "outputId": "bdedc831-0860-4077-bf27-07cbd3445d95",
        "colab": {
          "base_uri": "https://localhost:8080/",
          "height": 235
        }
      },
      "source": [
        "##Defining the features and labels\n",
        "X = data.iloc[:,7:]\n",
        "X.tail()"
      ],
      "execution_count": 158,
      "outputs": [
        {
          "output_type": "execute_result",
          "data": {
            "text/html": [
              "<div>\n",
              "<style scoped>\n",
              "    .dataframe tbody tr th:only-of-type {\n",
              "        vertical-align: middle;\n",
              "    }\n",
              "\n",
              "    .dataframe tbody tr th {\n",
              "        vertical-align: top;\n",
              "    }\n",
              "\n",
              "    .dataframe thead th {\n",
              "        text-align: right;\n",
              "    }\n",
              "</style>\n",
              "<table border=\"1\" class=\"dataframe\">\n",
              "  <thead>\n",
              "    <tr style=\"text-align: right;\">\n",
              "      <th></th>\n",
              "      <th>MA_10</th>\n",
              "      <th>WMA_10</th>\n",
              "      <th>MOM_10</th>\n",
              "      <th>SO_10</th>\n",
              "      <th>MACD_12_26</th>\n",
              "      <th>MACDsign_12_26</th>\n",
              "      <th>MACDdiff_12_26</th>\n",
              "    </tr>\n",
              "    <tr>\n",
              "      <th>datetime</th>\n",
              "      <th></th>\n",
              "      <th></th>\n",
              "      <th></th>\n",
              "      <th></th>\n",
              "      <th></th>\n",
              "      <th></th>\n",
              "      <th></th>\n",
              "    </tr>\n",
              "  </thead>\n",
              "  <tbody>\n",
              "    <tr>\n",
              "      <th>2020-05-26</th>\n",
              "      <td>0.654171</td>\n",
              "      <td>0.636378</td>\n",
              "      <td>-0.108171</td>\n",
              "      <td>0.039918</td>\n",
              "      <td>0.282535</td>\n",
              "      <td>0.430960</td>\n",
              "      <td>-0.188950</td>\n",
              "    </tr>\n",
              "    <tr>\n",
              "      <th>2020-05-27</th>\n",
              "      <td>0.632517</td>\n",
              "      <td>0.624074</td>\n",
              "      <td>-0.176150</td>\n",
              "      <td>0.027478</td>\n",
              "      <td>0.240601</td>\n",
              "      <td>0.401001</td>\n",
              "      <td>-0.224005</td>\n",
              "    </tr>\n",
              "    <tr>\n",
              "      <th>2020-05-30</th>\n",
              "      <td>0.620476</td>\n",
              "      <td>0.621492</td>\n",
              "      <td>-0.099426</td>\n",
              "      <td>0.022712</td>\n",
              "      <td>0.218296</td>\n",
              "      <td>0.371840</td>\n",
              "      <td>-0.218073</td>\n",
              "    </tr>\n",
              "    <tr>\n",
              "      <th>2020-05-31</th>\n",
              "      <td>0.616625</td>\n",
              "      <td>0.626720</td>\n",
              "      <td>-0.034045</td>\n",
              "      <td>0.018408</td>\n",
              "      <td>0.211368</td>\n",
              "      <td>0.346898</td>\n",
              "      <td>-0.186714</td>\n",
              "    </tr>\n",
              "    <tr>\n",
              "      <th>2020-06-01</th>\n",
              "      <td>0.620054</td>\n",
              "      <td>0.635028</td>\n",
              "      <td>0.024055</td>\n",
              "      <td>0.018408</td>\n",
              "      <td>0.210650</td>\n",
              "      <td>0.326777</td>\n",
              "      <td>-0.150875</td>\n",
              "    </tr>\n",
              "  </tbody>\n",
              "</table>\n",
              "</div>"
            ],
            "text/plain": [
              "               MA_10    WMA_10  ...  MACDsign_12_26  MACDdiff_12_26\n",
              "datetime                        ...                                \n",
              "2020-05-26  0.654171  0.636378  ...        0.430960       -0.188950\n",
              "2020-05-27  0.632517  0.624074  ...        0.401001       -0.224005\n",
              "2020-05-30  0.620476  0.621492  ...        0.371840       -0.218073\n",
              "2020-05-31  0.616625  0.626720  ...        0.346898       -0.186714\n",
              "2020-06-01  0.620054  0.635028  ...        0.326777       -0.150875\n",
              "\n",
              "[5 rows x 7 columns]"
            ]
          },
          "metadata": {
            "tags": []
          },
          "execution_count": 158
        }
      ]
    },
    {
      "cell_type": "code",
      "metadata": {
        "id": "-RGklbtnbetV",
        "outputId": "0c84853b-8237-4bcf-e0f7-3c943f1a8dcf",
        "colab": {
          "base_uri": "https://localhost:8080/"
        }
      },
      "source": [
        "Y = data.iloc[:,3]\n",
        "Y.tail()"
      ],
      "execution_count": 159,
      "outputs": [
        {
          "output_type": "execute_result",
          "data": {
            "text/plain": [
              "datetime\n",
              "2020-05-26    0.537230\n",
              "2020-05-27    0.498516\n",
              "2020-05-30    0.534692\n",
              "2020-05-31    0.570173\n",
              "2020-06-01    0.589652\n",
              "Name: <CLOSE>, dtype: float64"
            ]
          },
          "metadata": {
            "tags": []
          },
          "execution_count": 159
        }
      ]
    },
    {
      "cell_type": "code",
      "metadata": {
        "id": "1Tn80CwmbetX",
        "outputId": "9a0a0a53-a716-4675-bc3c-f35f0ded17fe",
        "colab": {
          "base_uri": "https://localhost:8080/"
        }
      },
      "source": [
        "X.isnull().sum()"
      ],
      "execution_count": 160,
      "outputs": [
        {
          "output_type": "execute_result",
          "data": {
            "text/plain": [
              "MA_10             0\n",
              "WMA_10            0\n",
              "MOM_10            0\n",
              "SO_10             0\n",
              "MACD_12_26        0\n",
              "MACDsign_12_26    0\n",
              "MACDdiff_12_26    0\n",
              "dtype: int64"
            ]
          },
          "metadata": {
            "tags": []
          },
          "execution_count": 160
        }
      ]
    },
    {
      "cell_type": "markdown",
      "metadata": {
        "id": "IRkULxA7sCFy"
      },
      "source": [
        "## Visualising the technical indicators i.e. our features"
      ]
    },
    {
      "cell_type": "code",
      "metadata": {
        "id": "0UP3raQjr7Ty",
        "outputId": "03044911-63d2-4ff5-f316-fc28880b7476",
        "colab": {
          "base_uri": "https://localhost:8080/",
          "height": 887
        }
      },
      "source": [
        "X.hist(bins=50,figsize=(20,15))"
      ],
      "execution_count": 161,
      "outputs": [
        {
          "output_type": "execute_result",
          "data": {
            "text/plain": [
              "array([[<matplotlib.axes._subplots.AxesSubplot object at 0x7f28d86cd748>,\n",
              "        <matplotlib.axes._subplots.AxesSubplot object at 0x7f28d8696c88>,\n",
              "        <matplotlib.axes._subplots.AxesSubplot object at 0x7f28d06c5ef0>],\n",
              "       [<matplotlib.axes._subplots.AxesSubplot object at 0x7f28d07bd198>,\n",
              "        <matplotlib.axes._subplots.AxesSubplot object at 0x7f28d0765400>,\n",
              "        <matplotlib.axes._subplots.AxesSubplot object at 0x7f28cfd76e10>],\n",
              "       [<matplotlib.axes._subplots.AxesSubplot object at 0x7f28cfd171d0>,\n",
              "        <matplotlib.axes._subplots.AxesSubplot object at 0x7f28cfd49518>,\n",
              "        <matplotlib.axes._subplots.AxesSubplot object at 0x7f28cfd49588>]],\n",
              "      dtype=object)"
            ]
          },
          "metadata": {
            "tags": []
          },
          "execution_count": 161
        },
        {
          "output_type": "display_data",
          "data": {
            "image/png": "[encoded data removed]",
            "text/plain": [
              "<Figure size 1440x1080 with 9 Axes>"
            ]
          },
          "metadata": {
            "tags": [],
            "needs_background": "light"
          }
        }
      ]
    },
    {
      "cell_type": "code",
      "metadata": {
        "id": "QjK-zRQgbeta"
      },
      "source": [
        "#Splitting data into training and test set\n",
        "from sklearn.model_selection import train_test_split\n",
        "x_train,x_test,y_train,y_test = train_test_split(X,Y,test_size = 0.1,random_state = 0)"
      ],
      "execution_count": 162,
      "outputs": []
    },
    {
      "cell_type": "markdown",
      "metadata": {
        "id": "bdSjkPr_betc"
      },
      "source": [
        "# Predicting using Decision Trees"
      ]
    },
    {
      "cell_type": "code",
      "metadata": {
        "id": "7RX-ujiabetd",
        "outputId": "3474621c-cf93-4a16-c57f-d7f6c52b351c",
        "colab": {
          "base_uri": "https://localhost:8080/"
        }
      },
      "source": [
        "#Decision Tree\n",
        "from sklearn.tree import DecisionTreeRegressor\n",
        "Regressor = DecisionTreeRegressor(max_depth=10)\n",
        "Regressor.fit(x_train,y_train)"
      ],
      "execution_count": 163,
      "outputs": [
        {
          "output_type": "execute_result",
          "data": {
            "text/plain": [
              "DecisionTreeRegressor(ccp_alpha=0.0, criterion='mse', max_depth=10,\n",
              "                      max_features=None, max_leaf_nodes=None,\n",
              "                      min_impurity_decrease=0.0, min_impurity_split=None,\n",
              "                      min_samples_leaf=1, min_samples_split=2,\n",
              "                      min_weight_fraction_leaf=0.0, presort='deprecated',\n",
              "                      random_state=None, splitter='best')"
            ]
          },
          "metadata": {
            "tags": []
          },
          "execution_count": 163
        }
      ]
    },
    {
      "cell_type": "markdown",
      "metadata": {
        "id": "tmAA0_rPbetl"
      },
      "source": [
        "## Evaluating the Model"
      ]
    },
    {
      "cell_type": "code",
      "metadata": {
        "id": "pCwX7Hwpbetm",
        "outputId": "0cd2ac5c-f701-4fd4-9104-e4bf61518e71",
        "colab": {
          "base_uri": "https://localhost:8080/"
        }
      },
      "source": [
        "y_pred = Regressor.predict(x_test)\n",
        "from sklearn.metrics import r2_score,mean_squared_error\n",
        "mse = mean_squared_error(y_test,y_pred)\n",
        "rmse = np.sqrt(mse)\n",
        "rmse"
      ],
      "execution_count": 164,
      "outputs": [
        {
          "output_type": "execute_result",
          "data": {
            "text/plain": [
              "0.024631886252631897"
            ]
          },
          "metadata": {
            "tags": []
          },
          "execution_count": 164
        }
      ]
    },
    {
      "cell_type": "markdown",
      "metadata": {
        "id": "CiWT_doibeto"
      },
      "source": [
        "# Using Bagging Regressor"
      ]
    },
    {
      "cell_type": "code",
      "metadata": {
        "id": "6KWr75vGbetp"
      },
      "source": [
        "#import necessary libraries\n",
        "from sklearn.ensemble import BaggingRegressor"
      ],
      "execution_count": 165,
      "outputs": []
    },
    {
      "cell_type": "code",
      "metadata": {
        "id": "6m5OsIUsbetr",
        "outputId": "e5db5367-cdc8-48ad-a8dd-ba5b78114844",
        "colab": {
          "base_uri": "https://localhost:8080/"
        }
      },
      "source": [
        "regr = BaggingRegressor(base_estimator=Regressor,\n",
        "n_estimators=50, random_state=0)\n",
        "regr.fit(x_train,y_train)\n",
        "    "
      ],
      "execution_count": 166,
      "outputs": [
        {
          "output_type": "execute_result",
          "data": {
            "text/plain": [
              "BaggingRegressor(base_estimator=DecisionTreeRegressor(ccp_alpha=0.0,\n",
              "                                                      criterion='mse',\n",
              "                                                      max_depth=10,\n",
              "                                                      max_features=None,\n",
              "                                                      max_leaf_nodes=None,\n",
              "                                                      min_impurity_decrease=0.0,\n",
              "                                                      min_impurity_split=None,\n",
              "                                                      min_samples_leaf=1,\n",
              "                                                      min_samples_split=2,\n",
              "                                                      min_weight_fraction_leaf=0.0,\n",
              "                                                      presort='deprecated',\n",
              "                                                      random_state=None,\n",
              "                                                      splitter='best'),\n",
              "                 bootstrap=True, bootstrap_features=False, max_features=1.0,\n",
              "                 max_samples=1.0, n_estimators=50, n_jobs=None, oob_score=False,\n",
              "                 random_state=0, verbose=0, warm_start=False)"
            ]
          },
          "metadata": {
            "tags": []
          },
          "execution_count": 166
        }
      ]
    },
    {
      "cell_type": "markdown",
      "metadata": {
        "id": "KvdNXLTXbetw"
      },
      "source": [
        "## Evaluating Bagging Regressor"
      ]
    },
    {
      "cell_type": "code",
      "metadata": {
        "id": "Af_3vxHkbetx"
      },
      "source": [
        "y_pred_br = regr.predict(x_test)"
      ],
      "execution_count": 167,
      "outputs": []
    },
    {
      "cell_type": "code",
      "metadata": {
        "id": "PXoR2Bxpbetz",
        "outputId": "6ce9e9a5-f30c-496d-99b6-398828896525",
        "colab": {
          "base_uri": "https://localhost:8080/"
        }
      },
      "source": [
        "from sklearn.metrics import r2_score,mean_squared_error\n",
        "mse = mean_squared_error(y_test,y_pred_br)\n",
        "rmse = np.sqrt(mse)\n",
        "rmse"
      ],
      "execution_count": 168,
      "outputs": [
        {
          "output_type": "execute_result",
          "data": {
            "text/plain": [
              "0.025203987499292875"
            ]
          },
          "metadata": {
            "tags": []
          },
          "execution_count": 168
        }
      ]
    },
    {
      "cell_type": "markdown",
      "metadata": {
        "id": "phoe90D7bet1"
      },
      "source": [
        "# Using Random Forest"
      ]
    },
    {
      "cell_type": "code",
      "metadata": {
        "id": "cM6Op45nbet2",
        "outputId": "337284fa-5c1e-402f-b5b3-0c7e20074f49",
        "colab": {
          "base_uri": "https://localhost:8080/"
        }
      },
      "source": [
        "#importing the libraries\n",
        "from sklearn.ensemble import RandomForestRegressor\n",
        "rf = RandomForestRegressor(n_estimators=50,max_depth=10,random_state=1)\n",
        "rf.fit(x_train,y_train)"
      ],
      "execution_count": 169,
      "outputs": [
        {
          "output_type": "execute_result",
          "data": {
            "text/plain": [
              "RandomForestRegressor(bootstrap=True, ccp_alpha=0.0, criterion='mse',\n",
              "                      max_depth=10, max_features='auto', max_leaf_nodes=None,\n",
              "                      max_samples=None, min_impurity_decrease=0.0,\n",
              "                      min_impurity_split=None, min_samples_leaf=1,\n",
              "                      min_samples_split=2, min_weight_fraction_leaf=0.0,\n",
              "                      n_estimators=50, n_jobs=None, oob_score=False,\n",
              "                      random_state=1, verbose=0, warm_start=False)"
            ]
          },
          "metadata": {
            "tags": []
          },
          "execution_count": 169
        }
      ]
    },
    {
      "cell_type": "markdown",
      "metadata": {
        "id": "j4GVbyhAbet9"
      },
      "source": [
        "## Evaluating Random Forest"
      ]
    },
    {
      "cell_type": "code",
      "metadata": {
        "id": "Rp1ihgYjbet-"
      },
      "source": [
        "y_pred_rf = rf.predict(x_test)\n"
      ],
      "execution_count": 170,
      "outputs": []
    },
    {
      "cell_type": "code",
      "metadata": {
        "id": "J6mI-BUbbeuA",
        "outputId": "3966bd0b-d01b-4929-811a-e713e68f7e0c",
        "colab": {
          "base_uri": "https://localhost:8080/"
        }
      },
      "source": [
        "from sklearn.metrics import r2_score,mean_squared_error\n",
        "mse = mean_squared_error(y_test,y_pred_rf)\n",
        "rmse = np.sqrt(mse)\n",
        "rmse"
      ],
      "execution_count": 171,
      "outputs": [
        {
          "output_type": "execute_result",
          "data": {
            "text/plain": [
              "0.024904988095471963"
            ]
          },
          "metadata": {
            "tags": []
          },
          "execution_count": 171
        }
      ]
    },
    {
      "cell_type": "markdown",
      "metadata": {
        "id": "6e1uCe8lbeuD"
      },
      "source": [
        " ## Using AdaBoost Regressor"
      ]
    },
    {
      "cell_type": "code",
      "metadata": {
        "id": "uX6q6_kGbeuD",
        "outputId": "31312738-e329-48b4-ffd4-d4c5d0bea643",
        "colab": {
          "base_uri": "https://localhost:8080/"
        }
      },
      "source": [
        "#importing necessary libraries\n",
        "from sklearn.ensemble import AdaBoostRegressor\n",
        "adb_reg = AdaBoostRegressor(base_estimator=Regressor,n_estimators=100,learning_rate=0.1)\n",
        "adb_reg.fit(x_train,y_train)\n",
        "\n"
      ],
      "execution_count": 172,
      "outputs": [
        {
          "output_type": "execute_result",
          "data": {
            "text/plain": [
              "AdaBoostRegressor(base_estimator=DecisionTreeRegressor(ccp_alpha=0.0,\n",
              "                                                       criterion='mse',\n",
              "                                                       max_depth=10,\n",
              "                                                       max_features=None,\n",
              "                                                       max_leaf_nodes=None,\n",
              "                                                       min_impurity_decrease=0.0,\n",
              "                                                       min_impurity_split=None,\n",
              "                                                       min_samples_leaf=1,\n",
              "                                                       min_samples_split=2,\n",
              "                                                       min_weight_fraction_leaf=0.0,\n",
              "                                                       presort='deprecated',\n",
              "                                                       random_state=None,\n",
              "                                                       splitter='best'),\n",
              "                  learning_rate=0.1, loss='linear', n_estimators=100,\n",
              "                  random_state=None)"
            ]
          },
          "metadata": {
            "tags": []
          },
          "execution_count": 172
        }
      ]
    },
    {
      "cell_type": "markdown",
      "metadata": {
        "id": "pTiNntHcbeuH"
      },
      "source": [
        "## Evaluating AdaBoost Regressor"
      ]
    },
    {
      "cell_type": "code",
      "metadata": {
        "id": "pGnz1YOibeuI",
        "outputId": "5792fe56-59b0-4871-a329-b74d195ff9e5",
        "colab": {
          "base_uri": "https://localhost:8080/"
        }
      },
      "source": [
        "y_pred_adb = adb_reg.predict(x_test)\n",
        "from sklearn.metrics import r2_score,mean_squared_error\n",
        "mse = mean_squared_error(y_test,y_pred_adb)\n",
        "rmse = np.sqrt(mse)\n",
        "rmse"
      ],
      "execution_count": 173,
      "outputs": [
        {
          "output_type": "execute_result",
          "data": {
            "text/plain": [
              "0.025460734915021488"
            ]
          },
          "metadata": {
            "tags": []
          },
          "execution_count": 173
        }
      ]
    },
    {
      "cell_type": "markdown",
      "metadata": {
        "id": "8Q-98ibGbeuJ"
      },
      "source": [
        "## Using Gradient Boosting"
      ]
    },
    {
      "cell_type": "code",
      "metadata": {
        "id": "4StZOXBBbeuK",
        "outputId": "283b0f55-002e-4048-dd43-d3c546baedc8",
        "colab": {
          "base_uri": "https://localhost:8080/"
        }
      },
      "source": [
        "#importing necessary libraries\n",
        "from sklearn.ensemble import GradientBoostingRegressor\n",
        "gdbt = GradientBoostingRegressor(max_depth=10,learning_rate=0.1,n_estimators=50,random_state=1)\n",
        "gdbt.fit(x_train,y_train)"
      ],
      "execution_count": 174,
      "outputs": [
        {
          "output_type": "execute_result",
          "data": {
            "text/plain": [
              "GradientBoostingRegressor(alpha=0.9, ccp_alpha=0.0, criterion='friedman_mse',\n",
              "                          init=None, learning_rate=0.1, loss='ls', max_depth=10,\n",
              "                          max_features=None, max_leaf_nodes=None,\n",
              "                          min_impurity_decrease=0.0, min_impurity_split=None,\n",
              "                          min_samples_leaf=1, min_samples_split=2,\n",
              "                          min_weight_fraction_leaf=0.0, n_estimators=50,\n",
              "                          n_iter_no_change=None, presort='deprecated',\n",
              "                          random_state=1, subsample=1.0, tol=0.0001,\n",
              "                          validation_fraction=0.1, verbose=0, warm_start=False)"
            ]
          },
          "metadata": {
            "tags": []
          },
          "execution_count": 174
        }
      ]
    },
    {
      "cell_type": "markdown",
      "metadata": {
        "id": "fhjqy5udbeuP"
      },
      "source": [
        "## Evaluating gradient boosting"
      ]
    },
    {
      "cell_type": "code",
      "metadata": {
        "id": "CpcZr0-EbeuQ",
        "outputId": "838d1436-4c39-4c77-df1c-92c537d47a44",
        "colab": {
          "base_uri": "https://localhost:8080/"
        }
      },
      "source": [
        "y_pred_gdbt = gdbt.predict(x_test)\n",
        "from sklearn.metrics import r2_score,mean_squared_error\n",
        "mse = mean_squared_error(y_test,y_pred_gdbt)\n",
        "rmse = np.sqrt(mse)\n",
        "rmse"
      ],
      "execution_count": 175,
      "outputs": [
        {
          "output_type": "execute_result",
          "data": {
            "text/plain": [
              "0.024275878387442162"
            ]
          },
          "metadata": {
            "tags": []
          },
          "execution_count": 175
        }
      ]
    },
    {
      "cell_type": "markdown",
      "metadata": {
        "id": "Pnedc35lbeuS"
      },
      "source": [
        "## Using XGBoost"
      ]
    },
    {
      "cell_type": "code",
      "metadata": {
        "id": "clUQp-jMbeuT"
      },
      "source": [
        "import xgboost as xgb\n",
        "from xgboost import XGBRegressor\n",
        "from sklearn.metrics import mean_squared_error"
      ],
      "execution_count": 176,
      "outputs": []
    },
    {
      "cell_type": "markdown",
      "metadata": {
        "id": "GdaVicrEb78c"
      },
      "source": [
        "##Using Deep Learning Models"
      ]
    },
    {
      "cell_type": "code",
      "metadata": {
        "id": "zNH4J9l5cAY6",
        "outputId": "54a05fc8-c0f0-4996-a308-96b595bc7964",
        "colab": {
          "base_uri": "https://localhost:8080/"
        }
      },
      "source": [
        "from google.colab import drive\n",
        "drive.mount('/content/drive')"
      ],
      "execution_count": 177,
      "outputs": [
        {
          "output_type": "stream",
          "text": [
            "Drive already mounted at /content/drive; to attempt to forcibly remount, call drive.mount(\"/content/drive\", force_remount=True).\n"
          ],
          "name": "stdout"
        }
      ]
    },
    {
      "cell_type": "markdown",
      "metadata": {
        "id": "iHWdf4aa2XDq"
      },
      "source": [
        "### Training and testing set"
      ]
    },
    {
      "cell_type": "code",
      "metadata": {
        "id": "z3Eyzb3Rlmir",
        "outputId": "4b4bdb34-452b-4f0c-8d43-d3a3a66af1e5",
        "colab": {
          "base_uri": "https://localhost:8080/"
        }
      },
      "source": [
        "from sklearn.model_selection import train_test_split\n",
        "x_train,x_test,y_train,y_test = train_test_split(X,Y,test_size = 0.1,random_state = 0)\n",
        "print(x_train.shape, x_test.shape, y_train.shape, y_test.shape)"
      ],
      "execution_count": 178,
      "outputs": [
        {
          "output_type": "stream",
          "text": [
            "(1381, 7) (154, 7) (1381,) (154,)\n"
          ],
          "name": "stdout"
        }
      ]
    },
    {
      "cell_type": "code",
      "metadata": {
        "id": "F3gqK-K0jGk9"
      },
      "source": [
        "from sklearn.preprocessing import MinMaxScaler\n",
        "sc = MinMaxScaler(feature_range = (0, 1))\n",
        "X_train_scaled = sc.fit_transform(x_train)"
      ],
      "execution_count": 179,
      "outputs": []
    },
    {
      "cell_type": "code",
      "metadata": {
        "id": "YKfTIM7Fjq6Y"
      },
      "source": [
        "X_train, Y_train = np.array(x_train), np.array(y_train)\n",
        "X_train = np.reshape(X_train, (X_train.shape[0], X_train.shape[1], 1))"
      ],
      "execution_count": 180,
      "outputs": []
    },
    {
      "cell_type": "markdown",
      "metadata": {
        "id": "XbP1VNrmBEdH"
      },
      "source": [
        "## Using ANN"
      ]
    },
    {
      "cell_type": "markdown",
      "metadata": {
        "id": "BvTCIFZ6BJgy"
      },
      "source": [
        "### Importing Libraries"
      ]
    },
    {
      "cell_type": "code",
      "metadata": {
        "id": "Y5R1YEo_BMOc"
      },
      "source": [
        "import tensorflow as tf \n",
        "import pandas as pd \n",
        "import numpy as np \n",
        "import matplotlib.pyplot as plt \n",
        "import keras \n",
        "from keras.models import Sequential \n",
        "from keras.layers import Dense \n",
        "from sklearn.metrics import confusion_matrix "
      ],
      "execution_count": 181,
      "outputs": []
    },
    {
      "cell_type": "markdown",
      "metadata": {
        "id": "2Z2AxsQ1BfHR"
      },
      "source": [
        "### Building the ANN Model\n"
      ]
    },
    {
      "cell_type": "code",
      "metadata": {
        "id": "LAmG88bQBjbd"
      },
      "source": [
        "classifier = Sequential() \n",
        "classifier.add(Dense(units=50,activation = \"relu\",input_shape = (X_train.shape[1], 1))) \n",
        "classifier.add(Dense(units=50,activation = \"relu\")) \n",
        "classifier.add(Dense(activation = \"sigmoid\", units = 1)) \n",
        "classifier.compile(optimizer = 'adam' , loss = 'mean_squared_error' ) "
      ],
      "execution_count": 209,
      "outputs": []
    },
    {
      "cell_type": "code",
      "metadata": {
        "id": "MM6hH_Q3BGvK",
        "outputId": "2f901bfe-dfb8-4677-f28d-5855bdb63532",
        "colab": {
          "base_uri": "https://localhost:8080/"
        }
      },
      "source": [
        "classifier.fit(X_train, Y_train, epochs = 15, batch_size = 32)"
      ],
      "execution_count": 210,
      "outputs": [
        {
          "output_type": "stream",
          "text": [
            "Epoch 1/15\n",
            "44/44 [==============================] - 0s 2ms/step - loss: 0.2290\n",
            "Epoch 2/15\n",
            "44/44 [==============================] - 0s 2ms/step - loss: 0.0768\n",
            "Epoch 3/15\n",
            "44/44 [==============================] - 0s 2ms/step - loss: 0.0354\n",
            "Epoch 4/15\n",
            "44/44 [==============================] - 0s 2ms/step - loss: 0.0307\n",
            "Epoch 5/15\n",
            "44/44 [==============================] - 0s 2ms/step - loss: 0.0283\n",
            "Epoch 6/15\n",
            "44/44 [==============================] - 0s 1ms/step - loss: 0.0276\n",
            "Epoch 7/15\n",
            "44/44 [==============================] - 0s 2ms/step - loss: 0.0273\n",
            "Epoch 8/15\n",
            "44/44 [==============================] - 0s 1ms/step - loss: 0.0271\n",
            "Epoch 9/15\n",
            "44/44 [==============================] - 0s 1ms/step - loss: 0.0270\n",
            "Epoch 10/15\n",
            "44/44 [==============================] - 0s 1ms/step - loss: 0.0269\n",
            "Epoch 11/15\n",
            "44/44 [==============================] - 0s 1ms/step - loss: 0.0267\n",
            "Epoch 12/15\n",
            "44/44 [==============================] - 0s 1ms/step - loss: 0.0267\n",
            "Epoch 13/15\n",
            "44/44 [==============================] - 0s 2ms/step - loss: 0.0266\n",
            "Epoch 14/15\n",
            "44/44 [==============================] - 0s 1ms/step - loss: 0.0265\n",
            "Epoch 15/15\n",
            "44/44 [==============================] - 0s 2ms/step - loss: 0.0265\n"
          ],
          "name": "stdout"
        },
        {
          "output_type": "execute_result",
          "data": {
            "text/plain": [
              "<tensorflow.python.keras.callbacks.History at 0x7f28caad5780>"
            ]
          },
          "metadata": {
            "tags": []
          },
          "execution_count": 210
        }
      ]
    },
    {
      "cell_type": "code",
      "metadata": {
        "id": "6PwBrITMG5wB"
      },
      "source": [
        "X_test = np.array(x_test)\n",
        "X_test = np.reshape(X_test, (X_test.shape[0],X_test.shape[1], 1))\n",
        "predicted_stock_price = classifier.predict(X_test)"
      ],
      "execution_count": 211,
      "outputs": []
    },
    {
      "cell_type": "code",
      "metadata": {
        "id": "6pshVd1NG_LW"
      },
      "source": [
        "real_stock_price = np.asarray(y_test)\n",
        "# real_stock_price=real_stock_price.reshape(1167,1)"
      ],
      "execution_count": 212,
      "outputs": []
    },
    {
      "cell_type": "code",
      "metadata": {
        "id": "McQ0BuP-HD-w",
        "outputId": "6cf2a1fe-e912-4fe9-e16a-4376c1337609",
        "colab": {
          "base_uri": "https://localhost:8080/"
        }
      },
      "source": [
        "predicted_stock_price"
      ],
      "execution_count": 213,
      "outputs": [
        {
          "output_type": "execute_result",
          "data": {
            "text/plain": [
              "array([[[0.00629717],\n",
              "        [0.00655535],\n",
              "        [0.0198217 ],\n",
              "        ...,\n",
              "        [0.01497445],\n",
              "        [0.01169312],\n",
              "        [0.01933071]],\n",
              "\n",
              "       [[0.00040558],\n",
              "        [0.00038746],\n",
              "        [0.01053974],\n",
              "        ...,\n",
              "        [0.00974298],\n",
              "        [0.00944665],\n",
              "        [0.01134592]],\n",
              "\n",
              "       [[0.00187373],\n",
              "        [0.00183234],\n",
              "        [0.01010534],\n",
              "        ...,\n",
              "        [0.00844327],\n",
              "        [0.00765139],\n",
              "        [0.01280653]],\n",
              "\n",
              "       ...,\n",
              "\n",
              "       [[0.00452185],\n",
              "        [0.00446105],\n",
              "        [0.00885519],\n",
              "        ...,\n",
              "        [0.01504013],\n",
              "        [0.01757216],\n",
              "        [0.0091449 ]],\n",
              "\n",
              "       [[0.32313797],\n",
              "        [0.32806802],\n",
              "        [0.01038629],\n",
              "        ...,\n",
              "        [0.00707841],\n",
              "        [0.0064415 ],\n",
              "        [0.01248378]],\n",
              "\n",
              "       [[0.00220099],\n",
              "        [0.00211614],\n",
              "        [0.00982472],\n",
              "        ...,\n",
              "        [0.01032147],\n",
              "        [0.01095656],\n",
              "        [0.00975955]]], dtype=float32)"
            ]
          },
          "metadata": {
            "tags": []
          },
          "execution_count": 213
        }
      ]
    },
    {
      "cell_type": "code",
      "metadata": {
        "id": "uJSsKEm9HF1A",
        "outputId": "0c75a23e-b06e-41fa-ff6e-fd42fb681fdd",
        "colab": {
          "base_uri": "https://localhost:8080/"
        }
      },
      "source": [
        "real_stock_price"
      ],
      "execution_count": 187,
      "outputs": [
        {
          "output_type": "execute_result",
          "data": {
            "text/plain": [
              "array([-0.0097092 , -0.24550884, -0.12748625,  0.02118783, -0.14009061,\n",
              "       -0.24837347, -0.16218915, -0.07706884, -0.21804936, -0.04216132,\n",
              "        0.21450916, -0.12732256, -0.01928524,  0.15680741, -0.01065044,\n",
              "       -0.14332354,  0.08727885, -0.13170135, -0.15813775, -0.03168498,\n",
              "       -0.24718669, -0.18260984,  0.10303429,  0.04766516, -0.21387519,\n",
              "        0.72879137, -0.2013936 , -0.01723908,  0.03727066,  0.24622467,\n",
              "        0.02118783, -0.04862719, -0.24972393,  0.22441259,  0.26660443,\n",
              "        0.19171493, -0.14455124, -0.25181102, -0.02689696, -0.17618489,\n",
              "        0.23464339, -0.18666124,  0.08265452,  0.02049214, -0.14258692,\n",
              "        0.46753748,  0.20554698, -0.24915101,  0.04410484,  0.14837723,\n",
              "       -0.25246579, -0.0819387 , -0.17323842, -0.01711631,  0.15336986,\n",
              "       -0.00958643, -0.1767169 , -0.01388337, -0.06323678,  0.07631142,\n",
              "        0.01746382,  0.03350573, -0.15007587,  0.26660443, -0.24800516,\n",
              "       -0.12167515, -0.21784474, -0.0438801 , -0.07240359,  0.02122876,\n",
              "        0.15377909, -0.10375078, -0.23973867,  0.31501661,  0.28686143,\n",
              "       -0.0662651 , -0.24714577, -0.11782837,  0.02122876, -0.04539426,\n",
              "        0.12721992, -0.23089925, -0.18813448,  0.30720028,  0.04991594,\n",
              "       -0.02399141,  0.04717408, -0.1310875 , -0.24812793, -0.01457907,\n",
              "       -0.07473621,  0.26996014,  0.15427017, -0.09589352, -0.17094672,\n",
              "        0.18880938, -0.1460654 , -0.05914446, -0.02636496,  0.24217327,\n",
              "       -0.00140179, -0.25262948,  0.21013038, -0.23454142, -0.0882818 ,\n",
              "        0.28694328,  0.1946614 , -0.24514053,  0.33396407,  0.30765043,\n",
              "       -0.02227263,  0.14886831,  0.19061   , -0.23323187, -0.18031814,\n",
              "        0.12865223, -0.08574456,  0.07131879,  0.20697929, -0.24440392,\n",
              "       -0.0230911 , -0.06155893,  0.06407538, -0.13509797, -0.07780545,\n",
              "       -0.09306982,  0.08727885, -0.06041308,  0.28694328, -0.10923449,\n",
              "        0.24037264,  0.00326346,  0.07794835, -0.12752718, -0.04662195,\n",
              "       -0.1275681 , -0.15228573,  0.20395097,  0.26660443,  0.15439294,\n",
              "        0.24295081,  0.01198011, -0.17692151, -0.21362965, -0.1744252 ,\n",
              "       -0.24113006, -0.23044909,  0.16908438,  0.1992448 ,  0.07348772,\n",
              "       -0.26114152, -0.06712449,  0.26660443, -0.11926068])"
            ]
          },
          "metadata": {
            "tags": []
          },
          "execution_count": 187
        }
      ]
    },
    {
      "cell_type": "code",
      "metadata": {
        "id": "XXVCWDOMHW2k",
        "outputId": "fa7a17a7-bb59-4ed7-bb5a-1528152d4e77",
        "colab": {
          "base_uri": "https://localhost:8080/",
          "height": 69
        }
      },
      "source": [
        "\"\"\" plt.figure(figsize=(20,10))\n",
        "plt.plot(real_stock_price, color = 'green', label = 'Stock Price')\n",
        "plt.plot(predicted_stock_price, color = 'red', label = 'Predicted Stock Price')\n",
        "plt.title('Stock Price Prediction Using ANN')\n",
        "plt.xlabel('Trading Day')\n",
        "plt.ylabel('Stock Price')\n",
        "plt.legend()\n",
        "plt.show() \"\"\" #error"
      ],
      "execution_count": 225,
      "outputs": [
        {
          "output_type": "execute_result",
          "data": {
            "application/vnd.google.colaboratory.intrinsic+json": {
              "type": "string"
            },
            "text/plain": [
              "\" plt.figure(figsize=(20,10))\\nplt.plot(real_stock_price, color = 'green', label = 'Stock Price')\\nplt.plot(predicted_stock_price, color = 'red', label = 'Predicted Stock Price')\\nplt.title('Stock Price Prediction Using ANN')\\nplt.xlabel('Trading Day')\\nplt.ylabel('Stock Price')\\nplt.legend()\\nplt.show() \""
            ]
          },
          "metadata": {
            "tags": []
          },
          "execution_count": 225
        }
      ]
    },
    {
      "cell_type": "markdown",
      "metadata": {
        "id": "MqGBMKv0HvVM"
      },
      "source": [
        "## Using LSTM"
      ]
    },
    {
      "cell_type": "markdown",
      "metadata": {
        "id": "B2uIFD452b24"
      },
      "source": [
        "### Importing libraries"
      ]
    },
    {
      "cell_type": "code",
      "metadata": {
        "id": "ccMkltE9ebcw",
        "outputId": "62533cdb-7eff-4a50-c489-6ed6e687602f",
        "colab": {
          "base_uri": "https://localhost:8080/"
        }
      },
      "source": [
        "pip install nsepy"
      ],
      "execution_count": 215,
      "outputs": [
        {
          "output_type": "stream",
          "text": [
            "Requirement already satisfied: nsepy in /usr/local/lib/python3.6/dist-packages (0.8)\n",
            "Requirement already satisfied: beautifulsoup4 in /usr/local/lib/python3.6/dist-packages (from nsepy) (4.6.3)\n",
            "Requirement already satisfied: pandas in /usr/local/lib/python3.6/dist-packages (from nsepy) (1.1.4)\n",
            "Requirement already satisfied: click in /usr/local/lib/python3.6/dist-packages (from nsepy) (7.1.2)\n",
            "Requirement already satisfied: six in /usr/local/lib/python3.6/dist-packages (from nsepy) (1.15.0)\n",
            "Requirement already satisfied: lxml in /usr/local/lib/python3.6/dist-packages (from nsepy) (4.2.6)\n",
            "Requirement already satisfied: numpy in /usr/local/lib/python3.6/dist-packages (from nsepy) (1.18.5)\n",
            "Requirement already satisfied: requests in /usr/local/lib/python3.6/dist-packages (from nsepy) (2.23.0)\n",
            "Requirement already satisfied: python-dateutil>=2.7.3 in /usr/local/lib/python3.6/dist-packages (from pandas->nsepy) (2.8.1)\n",
            "Requirement already satisfied: pytz>=2017.2 in /usr/local/lib/python3.6/dist-packages (from pandas->nsepy) (2018.9)\n",
            "Requirement already satisfied: certifi>=2017.4.17 in /usr/local/lib/python3.6/dist-packages (from requests->nsepy) (2020.6.20)\n",
            "Requirement already satisfied: chardet<4,>=3.0.2 in /usr/local/lib/python3.6/dist-packages (from requests->nsepy) (3.0.4)\n",
            "Requirement already satisfied: urllib3!=1.25.0,!=1.25.1,<1.26,>=1.21.1 in /usr/local/lib/python3.6/dist-packages (from requests->nsepy) (1.24.3)\n",
            "Requirement already satisfied: idna<3,>=2.5 in /usr/local/lib/python3.6/dist-packages (from requests->nsepy) (2.10)\n"
          ],
          "name": "stdout"
        }
      ]
    },
    {
      "cell_type": "code",
      "metadata": {
        "id": "7fcRAPcyeVTV"
      },
      "source": [
        "from nsepy import get_history as gh\n",
        "import datetime as dt\n",
        "from matplotlib import pyplot as plt\n",
        "from sklearn import model_selection\n",
        "from sklearn.metrics import confusion_matrix\n",
        "from sklearn.preprocessing import StandardScaler\n",
        "from sklearn.model_selection import train_test_split\n",
        "import numpy as np\n",
        "import pandas as pd\n",
        "from sklearn.preprocessing import MinMaxScaler\n",
        "from keras.models import Sequential\n",
        "from keras.layers import Dense\n",
        "from keras.layers import LSTM\n",
        "from keras.layers import Dropout"
      ],
      "execution_count": 216,
      "outputs": []
    },
    {
      "cell_type": "markdown",
      "metadata": {
        "id": "33TKI23A2NVQ"
      },
      "source": [
        "### Building the LSTM"
      ]
    },
    {
      "cell_type": "code",
      "metadata": {
        "id": "SrT0kjBsc2Pm"
      },
      "source": [
        "regressor = Sequential()\n",
        "regressor.add(LSTM(units = 50, return_sequences = True, input_shape = (X_train.shape[1], 1)))\n",
        "regressor.add(Dropout(0.2))\n",
        "regressor.add(LSTM(units = 50, return_sequences = True))\n",
        "regressor.add(Dropout(0.2))\n",
        "regressor.add(LSTM(units = 50, return_sequences = True))\n",
        "regressor.add(Dropout(0.2))\n",
        "regressor.add(LSTM(units = 50))\n",
        "regressor.add(Dropout(0.2))\n",
        "regressor.add(Dense(units = 1))"
      ],
      "execution_count": 217,
      "outputs": []
    },
    {
      "cell_type": "markdown",
      "metadata": {
        "id": "L_LlaDFB2qDN"
      },
      "source": [
        "### Compiling and training the model defined in the above step.\n",
        "(Iteratively, we can increase or decrease the epochs and batch size to get more accuracy.)"
      ]
    },
    {
      "cell_type": "code",
      "metadata": {
        "id": "NEg-dl9jeOSR",
        "outputId": "f40d00d5-a6fe-4232-9bb6-e3e738ac9f7f",
        "colab": {
          "base_uri": "https://localhost:8080/"
        }
      },
      "source": [
        "regressor.compile(optimizer = 'adam', loss = 'mean_squared_error')\n",
        "regressor.fit(X_train, Y_train, epochs = 15, batch_size = 32)"
      ],
      "execution_count": 218,
      "outputs": [
        {
          "output_type": "stream",
          "text": [
            "Epoch 1/15\n",
            "44/44 [==============================] - 1s 17ms/step - loss: 0.0132\n",
            "Epoch 2/15\n",
            "44/44 [==============================] - 1s 17ms/step - loss: 0.0014\n",
            "Epoch 3/15\n",
            "44/44 [==============================] - 1s 16ms/step - loss: 0.0016\n",
            "Epoch 4/15\n",
            "44/44 [==============================] - 1s 16ms/step - loss: 0.0014\n",
            "Epoch 5/15\n",
            "44/44 [==============================] - 1s 17ms/step - loss: 0.0014\n",
            "Epoch 6/15\n",
            "44/44 [==============================] - 1s 16ms/step - loss: 0.0013\n",
            "Epoch 7/15\n",
            "44/44 [==============================] - 1s 16ms/step - loss: 0.0013\n",
            "Epoch 8/15\n",
            "44/44 [==============================] - 1s 17ms/step - loss: 0.0013\n",
            "Epoch 9/15\n",
            "44/44 [==============================] - 1s 16ms/step - loss: 0.0014\n",
            "Epoch 10/15\n",
            "44/44 [==============================] - 1s 16ms/step - loss: 0.0013\n",
            "Epoch 11/15\n",
            "44/44 [==============================] - 1s 17ms/step - loss: 0.0015\n",
            "Epoch 12/15\n",
            "44/44 [==============================] - 1s 16ms/step - loss: 0.0013\n",
            "Epoch 13/15\n",
            "44/44 [==============================] - 1s 16ms/step - loss: 0.0012\n",
            "Epoch 14/15\n",
            "44/44 [==============================] - 1s 16ms/step - loss: 0.0013\n",
            "Epoch 15/15\n",
            "44/44 [==============================] - 1s 16ms/step - loss: 0.0013\n"
          ],
          "name": "stdout"
        },
        {
          "output_type": "execute_result",
          "data": {
            "text/plain": [
              "<tensorflow.python.keras.callbacks.History at 0x7f28c96126d8>"
            ]
          },
          "metadata": {
            "tags": []
          },
          "execution_count": 218
        }
      ]
    },
    {
      "cell_type": "code",
      "metadata": {
        "id": "r2ZrIgaX03cC"
      },
      "source": [
        "X_test = np.array(x_test)\n",
        "X_test = np.reshape(X_test, (X_test.shape[0],X_test.shape[1], 1))\n",
        "predicted_stock_price = regressor.predict(X_test)"
      ],
      "execution_count": 219,
      "outputs": []
    },
    {
      "cell_type": "code",
      "metadata": {
        "id": "LDrGcESafEp5"
      },
      "source": [
        "real_stock_price = np.asarray(y_test)\n",
        "# real_stock_price=real_stock_price.reshape(1167,1)"
      ],
      "execution_count": 220,
      "outputs": []
    },
    {
      "cell_type": "code",
      "metadata": {
        "id": "koD72IuliN0t",
        "outputId": "01d2f4a6-756e-4ab8-ff93-9996eb77e92c",
        "colab": {
          "base_uri": "https://localhost:8080/"
        }
      },
      "source": [
        "predicted_stock_price"
      ],
      "execution_count": 221,
      "outputs": [
        {
          "output_type": "execute_result",
          "data": {
            "text/plain": [
              "array([[-1.78811587e-02],\n",
              "       [-2.27249086e-01],\n",
              "       [-1.19245403e-01],\n",
              "       [-6.24104775e-02],\n",
              "       [-1.20400697e-01],\n",
              "       [-2.28339821e-01],\n",
              "       [-1.58334076e-01],\n",
              "       [-6.96533024e-02],\n",
              "       [-2.03469634e-01],\n",
              "       [-3.84858996e-02],\n",
              "       [ 2.53620706e-02],\n",
              "       [-1.18442476e-01],\n",
              "       [-1.47226779e-02],\n",
              "       [ 1.31764010e-01],\n",
              "       [-7.47638615e-03],\n",
              "       [-1.31911695e-01],\n",
              "       [ 7.72431642e-02],\n",
              "       [-9.87963304e-02],\n",
              "       [-1.47522375e-01],\n",
              "       [-2.87267417e-02],\n",
              "       [-2.27941260e-01],\n",
              "       [-1.63518533e-01],\n",
              "       [ 8.16238485e-03],\n",
              "       [ 8.53215456e-02],\n",
              "       [-2.02061579e-01],\n",
              "       [ 6.22966588e-01],\n",
              "       [-1.93503350e-01],\n",
              "       [-7.89343100e-03],\n",
              "       [ 9.94866062e-03],\n",
              "       [ 2.26549700e-01],\n",
              "       [-4.25624736e-02],\n",
              "       [-3.44688632e-02],\n",
              "       [-2.30480745e-01],\n",
              "       [ 2.24172369e-01],\n",
              "       [ 2.48734206e-01],\n",
              "       [ 1.82287470e-01],\n",
              "       [-1.31255731e-01],\n",
              "       [-2.37603202e-01],\n",
              "       [-7.36091882e-02],\n",
              "       [-1.62377715e-01],\n",
              "       [ 2.28477359e-01],\n",
              "       [-1.75016329e-01],\n",
              "       [ 7.43016228e-02],\n",
              "       [ 5.26385382e-03],\n",
              "       [-1.36280373e-01],\n",
              "       [ 3.98998976e-01],\n",
              "       [ 1.77877441e-01],\n",
              "       [-2.27371767e-01],\n",
              "       [ 4.05659005e-02],\n",
              "       [ 1.54449448e-01],\n",
              "       [-2.38502055e-01],\n",
              "       [-6.52106777e-02],\n",
              "       [-1.64665848e-01],\n",
              "       [-5.61244180e-03],\n",
              "       [ 1.42440021e-01],\n",
              "       [-4.72581154e-03],\n",
              "       [-1.69492483e-01],\n",
              "       [-4.72333655e-03],\n",
              "       [-5.81863895e-02],\n",
              "       [ 5.01868911e-02],\n",
              "       [ 2.27952115e-02],\n",
              "       [ 4.41166647e-02],\n",
              "       [-1.29520461e-01],\n",
              "       [ 2.41119891e-01],\n",
              "       [-2.29571939e-01],\n",
              "       [-7.68197700e-02],\n",
              "       [-2.02902764e-01],\n",
              "       [-4.92589884e-02],\n",
              "       [-7.12627247e-02],\n",
              "       [-6.28257468e-02],\n",
              "       [ 1.44372717e-01],\n",
              "       [-7.59424344e-02],\n",
              "       [-2.18446881e-01],\n",
              "       [ 3.03130805e-01],\n",
              "       [ 2.67892212e-01],\n",
              "       [-5.06184846e-02],\n",
              "       [-2.28814900e-01],\n",
              "       [-1.15413055e-01],\n",
              "       [-6.18542619e-02],\n",
              "       [-1.81061625e-02],\n",
              "       [ 1.05065688e-01],\n",
              "       [-2.11028576e-01],\n",
              "       [-1.73598185e-01],\n",
              "       [ 3.04261893e-01],\n",
              "       [ 1.98450871e-02],\n",
              "       [-3.29611599e-02],\n",
              "       [ 4.41805124e-02],\n",
              "       [-1.19440272e-01],\n",
              "       [-2.29655698e-01],\n",
              "       [-6.15664711e-03],\n",
              "       [-6.26510158e-02],\n",
              "       [ 2.28482157e-01],\n",
              "       [ 1.42116949e-01],\n",
              "       [-9.30977985e-02],\n",
              "       [-1.65869087e-01],\n",
              "       [ 1.60598606e-01],\n",
              "       [-1.27379626e-01],\n",
              "       [-5.88937774e-02],\n",
              "       [-1.26195401e-02],\n",
              "       [ 2.16171592e-01],\n",
              "       [ 3.99691798e-03],\n",
              "       [-2.31658712e-01],\n",
              "       [ 1.92810223e-01],\n",
              "       [-2.12467849e-01],\n",
              "       [-7.88710043e-02],\n",
              "       [ 2.62755305e-01],\n",
              "       [ 1.76987529e-01],\n",
              "       [-2.25848049e-01],\n",
              "       [ 3.78925323e-01],\n",
              "       [ 2.84089148e-01],\n",
              "       [-1.35331666e-02],\n",
              "       [ 1.47931650e-01],\n",
              "       [ 1.76878616e-01],\n",
              "       [-2.21080527e-01],\n",
              "       [-1.70501620e-01],\n",
              "       [ 1.10488296e-01],\n",
              "       [-8.56922567e-02],\n",
              "       [ 3.88640240e-02],\n",
              "       [ 1.90273434e-01],\n",
              "       [-2.26998568e-01],\n",
              "       [-5.16655333e-02],\n",
              "       [-5.76921143e-02],\n",
              "       [ 5.21461628e-02],\n",
              "       [-1.25986069e-01],\n",
              "       [-7.02154636e-02],\n",
              "       [-7.98141956e-02],\n",
              "       [ 7.72964880e-02],\n",
              "       [-4.73673679e-02],\n",
              "       [ 2.64664799e-01],\n",
              "       [-9.23086554e-02],\n",
              "       [ 2.13204876e-01],\n",
              "       [-1.55544924e-02],\n",
              "       [ 8.12651068e-02],\n",
              "       [-1.16361678e-01],\n",
              "       [-5.88336885e-02],\n",
              "       [-1.11612551e-01],\n",
              "       [-1.45634100e-01],\n",
              "       [ 2.52806365e-01],\n",
              "       [ 2.40924329e-01],\n",
              "       [ 1.49871171e-01],\n",
              "       [ 1.91518202e-01],\n",
              "       [-3.03336885e-04],\n",
              "       [-1.61039010e-01],\n",
              "       [-1.93314299e-01],\n",
              "       [-1.66788459e-01],\n",
              "       [-2.20261946e-01],\n",
              "       [-2.12632909e-01],\n",
              "       [ 1.43521577e-01],\n",
              "       [ 1.85391977e-01],\n",
              "       [ 8.19235966e-02],\n",
              "       [ 2.79040216e-03],\n",
              "       [-5.42549156e-02],\n",
              "       [ 2.41501331e-01],\n",
              "       [-1.03754878e-01]], dtype=float32)"
            ]
          },
          "metadata": {
            "tags": []
          },
          "execution_count": 221
        }
      ]
    },
    {
      "cell_type": "code",
      "metadata": {
        "id": "bXqa74JLiSvC",
        "outputId": "195666ea-b30e-4368-d8d1-9b1f7fe8fed5",
        "colab": {
          "base_uri": "https://localhost:8080/"
        }
      },
      "source": [
        "real_stock_price"
      ],
      "execution_count": 222,
      "outputs": [
        {
          "output_type": "execute_result",
          "data": {
            "text/plain": [
              "array([-0.0097092 , -0.24550884, -0.12748625,  0.02118783, -0.14009061,\n",
              "       -0.24837347, -0.16218915, -0.07706884, -0.21804936, -0.04216132,\n",
              "        0.21450916, -0.12732256, -0.01928524,  0.15680741, -0.01065044,\n",
              "       -0.14332354,  0.08727885, -0.13170135, -0.15813775, -0.03168498,\n",
              "       -0.24718669, -0.18260984,  0.10303429,  0.04766516, -0.21387519,\n",
              "        0.72879137, -0.2013936 , -0.01723908,  0.03727066,  0.24622467,\n",
              "        0.02118783, -0.04862719, -0.24972393,  0.22441259,  0.26660443,\n",
              "        0.19171493, -0.14455124, -0.25181102, -0.02689696, -0.17618489,\n",
              "        0.23464339, -0.18666124,  0.08265452,  0.02049214, -0.14258692,\n",
              "        0.46753748,  0.20554698, -0.24915101,  0.04410484,  0.14837723,\n",
              "       -0.25246579, -0.0819387 , -0.17323842, -0.01711631,  0.15336986,\n",
              "       -0.00958643, -0.1767169 , -0.01388337, -0.06323678,  0.07631142,\n",
              "        0.01746382,  0.03350573, -0.15007587,  0.26660443, -0.24800516,\n",
              "       -0.12167515, -0.21784474, -0.0438801 , -0.07240359,  0.02122876,\n",
              "        0.15377909, -0.10375078, -0.23973867,  0.31501661,  0.28686143,\n",
              "       -0.0662651 , -0.24714577, -0.11782837,  0.02122876, -0.04539426,\n",
              "        0.12721992, -0.23089925, -0.18813448,  0.30720028,  0.04991594,\n",
              "       -0.02399141,  0.04717408, -0.1310875 , -0.24812793, -0.01457907,\n",
              "       -0.07473621,  0.26996014,  0.15427017, -0.09589352, -0.17094672,\n",
              "        0.18880938, -0.1460654 , -0.05914446, -0.02636496,  0.24217327,\n",
              "       -0.00140179, -0.25262948,  0.21013038, -0.23454142, -0.0882818 ,\n",
              "        0.28694328,  0.1946614 , -0.24514053,  0.33396407,  0.30765043,\n",
              "       -0.02227263,  0.14886831,  0.19061   , -0.23323187, -0.18031814,\n",
              "        0.12865223, -0.08574456,  0.07131879,  0.20697929, -0.24440392,\n",
              "       -0.0230911 , -0.06155893,  0.06407538, -0.13509797, -0.07780545,\n",
              "       -0.09306982,  0.08727885, -0.06041308,  0.28694328, -0.10923449,\n",
              "        0.24037264,  0.00326346,  0.07794835, -0.12752718, -0.04662195,\n",
              "       -0.1275681 , -0.15228573,  0.20395097,  0.26660443,  0.15439294,\n",
              "        0.24295081,  0.01198011, -0.17692151, -0.21362965, -0.1744252 ,\n",
              "       -0.24113006, -0.23044909,  0.16908438,  0.1992448 ,  0.07348772,\n",
              "       -0.26114152, -0.06712449,  0.26660443, -0.11926068])"
            ]
          },
          "metadata": {
            "tags": []
          },
          "execution_count": 222
        }
      ]
    },
    {
      "cell_type": "markdown",
      "metadata": {
        "id": "oWXVsRgp2DcB"
      },
      "source": [
        "### Plotting the results"
      ]
    },
    {
      "cell_type": "code",
      "metadata": {
        "id": "bTm04GWiiU9O",
        "outputId": "9984a164-f911-4e59-ca56-3e8b9d1b53da",
        "colab": {
          "base_uri": "https://localhost:8080/",
          "height": 500
        }
      },
      "source": [
        "plt.figure(figsize=(20,10))\n",
        "plt.plot(real_stock_price, color = 'green', label = 'Stock Price')\n",
        "plt.plot(predicted_stock_price, color = 'red', label = 'Predicted Stock Price')\n",
        "plt.title('Stock Price Prediction')\n",
        "plt.xlabel('Trading Day')\n",
        "plt.ylabel('Stock Price')\n",
        "plt.legend()\n",
        "plt.show()"
      ],
      "execution_count": 223,
      "outputs": [
        {
          "output_type": "display_data",
          "data": {
            "image/png": "[encoded data removed]",
            "text/plain": [
              "<Figure size 1440x720 with 1 Axes>"
            ]
          },
          "metadata": {
            "tags": [],
            "needs_background": "light"
          }
        }
      ]
    },
    {
      "cell_type": "code",
      "metadata": {
        "id": "7hCjZ69viYqn",
        "outputId": "e193f2eb-6f56-43fc-ff01-a3b5cb54c53e",
        "colab": {
          "base_uri": "https://localhost:8080/"
        }
      },
      "source": [
        "from sklearn.metrics import mean_squared_error as MSE\n",
        "rmse = MSE(real_stock_price,predicted_stock_price)**(1/2)\n",
        "rmse"
      ],
      "execution_count": 224,
      "outputs": [
        {
          "output_type": "execute_result",
          "data": {
            "text/plain": [
              "0.03644112273852919"
            ]
          },
          "metadata": {
            "tags": []
          },
          "execution_count": 224
        }
      ]
    }
  ]
}