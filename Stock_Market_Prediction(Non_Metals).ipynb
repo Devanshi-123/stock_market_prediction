{
  "nbformat": 4,
  "nbformat_minor": 0,
  "metadata": {
    "kernelspec": {
      "display_name": "Python 3",
      "language": "python",
      "name": "python3"
    },
    "language_info": {
      "codemirror_mode": {
        "name": "ipython",
        "version": 3
      },
      "file_extension": ".py",
      "mimetype": "text/x-python",
      "name": "python",
      "nbconvert_exporter": "python",
      "pygments_lexer": "ipython3",
      "version": "3.8.3"
    },
    "colab": {
      "name": "Stock_Market_Prediction(Non Metals).ipynb",
      "provenance": [],
      "collapsed_sections": [
        "vfZGT9zFbes9"
      ],
      "include_colab_link": true
    }
  },
  "cells": [
    {
      "cell_type": "markdown",
      "metadata": {
        "id": "view-in-github",
        "colab_type": "text"
      },
      "source": [
        "<a href=\"https://colab.research.google.com/github/Devanshi-123/stock_market_prediction/blob/main/Stock_Market_Prediction(Non_Metals).ipynb\" target=\"_parent\"><img src=\"https://colab.research.google.com/assets/colab-badge.svg\" alt=\"Open In Colab\"/></a>"
      ]
    },
    {
      "cell_type": "markdown",
      "metadata": {
        "id": "tieXgez1berr"
      },
      "source": [
        "#  **Stock Market Prediction Using Different Machine Learning And Deep Learning Algorithms**\n"
      ]
    },
    {
      "cell_type": "markdown",
      "metadata": {
        "id": "2501HdlZfGAG"
      },
      "source": [
        "## **Importing the necessary libraries**"
      ]
    },
    {
      "cell_type": "code",
      "metadata": {
        "id": "bExe6rckbers"
      },
      "source": [
        "import pandas as pd\n",
        "import numpy as np\n",
        "import matplotlib.pyplot as plt\n",
        "%matplotlib inline"
      ],
      "execution_count": 147,
      "outputs": []
    },
    {
      "cell_type": "code",
      "metadata": {
        "id": "YoioHTGgcPVu",
        "outputId": "ed6e7b93-cd4f-4619-b336-1831d22d9ce9",
        "colab": {
          "base_uri": "https://localhost:8080/"
        }
      },
      "source": [
        "cd /content/drive/My Drive/Stock Market Prediction(Mini Project)"
      ],
      "execution_count": 148,
      "outputs": [
        {
          "output_type": "stream",
          "text": [
            "/content/drive/My Drive/Stock Market Prediction(Mini Project)\n"
          ],
          "name": "stdout"
        }
      ]
    },
    {
      "cell_type": "markdown",
      "metadata": {
        "id": "c1-boyHyfakV"
      },
      "source": [
        "## **Importing the dataset**"
      ]
    },
    {
      "cell_type": "code",
      "metadata": {
        "id": "1fMnpg-sbery",
        "outputId": "79852abf-1077-4e9c-d92b-a86726cb58c5",
        "colab": {
          "base_uri": "https://localhost:8080/"
        }
      },
      "source": [
        "##Metallic Dataset\n",
        "df=pd.read_csv(\"Stock_KSIM1.csv\")\n",
        "df.info()"
      ],
      "execution_count": 149,
      "outputs": [
        {
          "output_type": "stream",
          "text": [
            "<class 'pandas.core.frame.DataFrame'>\n",
            "RangeIndex: 3546 entries, 0 to 3545\n",
            "Data columns (total 13 columns):\n",
            " #   Column        Non-Null Count  Dtype  \n",
            "---  ------        --------------  -----  \n",
            " 0   Unnamed: 0    3546 non-null   int64  \n",
            " 1   <TICKER>      3546 non-null   object \n",
            " 2   <DTYYYYMMDD>  3546 non-null   int64  \n",
            " 3   <FIRST>       3546 non-null   float64\n",
            " 4   <HIGH>        3546 non-null   float64\n",
            " 5   <LOW>         3546 non-null   float64\n",
            " 6   <CLOSE>       3546 non-null   float64\n",
            " 7   <VALUE>       3546 non-null   int64  \n",
            " 8   <VOL>         3546 non-null   int64  \n",
            " 9   <OPENINT>     3546 non-null   int64  \n",
            " 10  <PER>         3546 non-null   object \n",
            " 11  <OPEN>        3546 non-null   float64\n",
            " 12  <LAST>        3546 non-null   float64\n",
            "dtypes: float64(6), int64(5), object(2)\n",
            "memory usage: 360.3+ KB\n"
          ],
          "name": "stdout"
        }
      ]
    },
    {
      "cell_type": "code",
      "metadata": {
        "id": "F00sCC1zqlJZ",
        "outputId": "f685192c-b9f5-4184-c679-71699bd61cef",
        "colab": {
          "base_uri": "https://localhost:8080/",
          "height": 204
        }
      },
      "source": [
        "df.head()"
      ],
      "execution_count": 150,
      "outputs": [
        {
          "output_type": "execute_result",
          "data": {
            "text/html": [
              "<div>\n",
              "<style scoped>\n",
              "    .dataframe tbody tr th:only-of-type {\n",
              "        vertical-align: middle;\n",
              "    }\n",
              "\n",
              "    .dataframe tbody tr th {\n",
              "        vertical-align: top;\n",
              "    }\n",
              "\n",
              "    .dataframe thead th {\n",
              "        text-align: right;\n",
              "    }\n",
              "</style>\n",
              "<table border=\"1\" class=\"dataframe\">\n",
              "  <thead>\n",
              "    <tr style=\"text-align: right;\">\n",
              "      <th></th>\n",
              "      <th>Unnamed: 0</th>\n",
              "      <th>&lt;TICKER&gt;</th>\n",
              "      <th>&lt;DTYYYYMMDD&gt;</th>\n",
              "      <th>&lt;FIRST&gt;</th>\n",
              "      <th>&lt;HIGH&gt;</th>\n",
              "      <th>&lt;LOW&gt;</th>\n",
              "      <th>&lt;CLOSE&gt;</th>\n",
              "      <th>&lt;VALUE&gt;</th>\n",
              "      <th>&lt;VOL&gt;</th>\n",
              "      <th>&lt;OPENINT&gt;</th>\n",
              "      <th>&lt;PER&gt;</th>\n",
              "      <th>&lt;OPEN&gt;</th>\n",
              "      <th>&lt;LAST&gt;</th>\n",
              "    </tr>\n",
              "  </thead>\n",
              "  <tbody>\n",
              "    <tr>\n",
              "      <th>0</th>\n",
              "      <td>0</td>\n",
              "      <td>Calcimine</td>\n",
              "      <td>20010501</td>\n",
              "      <td>5750.0</td>\n",
              "      <td>5750.0</td>\n",
              "      <td>5750.0</td>\n",
              "      <td>5750.0</td>\n",
              "      <td>575000</td>\n",
              "      <td>100</td>\n",
              "      <td>1</td>\n",
              "      <td>D</td>\n",
              "      <td>5750.0</td>\n",
              "      <td>5750.0</td>\n",
              "    </tr>\n",
              "    <tr>\n",
              "      <th>1</th>\n",
              "      <td>1</td>\n",
              "      <td>Calcimine</td>\n",
              "      <td>20010506</td>\n",
              "      <td>5807.0</td>\n",
              "      <td>5807.0</td>\n",
              "      <td>5807.0</td>\n",
              "      <td>5807.0</td>\n",
              "      <td>9947391</td>\n",
              "      <td>1713</td>\n",
              "      <td>3</td>\n",
              "      <td>D</td>\n",
              "      <td>5750.0</td>\n",
              "      <td>5807.0</td>\n",
              "    </tr>\n",
              "    <tr>\n",
              "      <th>2</th>\n",
              "      <td>2</td>\n",
              "      <td>Calcimine</td>\n",
              "      <td>20010512</td>\n",
              "      <td>5865.0</td>\n",
              "      <td>5865.0</td>\n",
              "      <td>5865.0</td>\n",
              "      <td>5865.0</td>\n",
              "      <td>2991150</td>\n",
              "      <td>510</td>\n",
              "      <td>2</td>\n",
              "      <td>D</td>\n",
              "      <td>5807.0</td>\n",
              "      <td>5865.0</td>\n",
              "    </tr>\n",
              "    <tr>\n",
              "      <th>3</th>\n",
              "      <td>3</td>\n",
              "      <td>Calcimine</td>\n",
              "      <td>20010513</td>\n",
              "      <td>5923.0</td>\n",
              "      <td>5923.0</td>\n",
              "      <td>5923.0</td>\n",
              "      <td>5923.0</td>\n",
              "      <td>11846000</td>\n",
              "      <td>2000</td>\n",
              "      <td>2</td>\n",
              "      <td>D</td>\n",
              "      <td>5865.0</td>\n",
              "      <td>5923.0</td>\n",
              "    </tr>\n",
              "    <tr>\n",
              "      <th>4</th>\n",
              "      <td>4</td>\n",
              "      <td>Calcimine</td>\n",
              "      <td>20010515</td>\n",
              "      <td>5982.0</td>\n",
              "      <td>5982.0</td>\n",
              "      <td>5982.0</td>\n",
              "      <td>5982.0</td>\n",
              "      <td>5982000</td>\n",
              "      <td>1000</td>\n",
              "      <td>1</td>\n",
              "      <td>D</td>\n",
              "      <td>5923.0</td>\n",
              "      <td>5982.0</td>\n",
              "    </tr>\n",
              "  </tbody>\n",
              "</table>\n",
              "</div>"
            ],
            "text/plain": [
              "   Unnamed: 0   <TICKER>  <DTYYYYMMDD>  ...  <PER>  <OPEN>  <LAST>\n",
              "0           0  Calcimine      20010501  ...      D  5750.0  5750.0\n",
              "1           1  Calcimine      20010506  ...      D  5750.0  5807.0\n",
              "2           2  Calcimine      20010512  ...      D  5807.0  5865.0\n",
              "3           3  Calcimine      20010513  ...      D  5865.0  5923.0\n",
              "4           4  Calcimine      20010515  ...      D  5923.0  5982.0\n",
              "\n",
              "[5 rows x 13 columns]"
            ]
          },
          "metadata": {
            "tags": []
          },
          "execution_count": 150
        }
      ]
    },
    {
      "cell_type": "markdown",
      "metadata": {
        "id": "9gsprJSuhGF4"
      },
      "source": [
        "## **Exploratory Data Analysis**"
      ]
    },
    {
      "cell_type": "code",
      "metadata": {
        "id": "3KYyTRW7gcjz",
        "outputId": "742e6863-d359-4322-9a79-9cc9bee4b651",
        "colab": {
          "base_uri": "https://localhost:8080/",
          "height": 317
        }
      },
      "source": [
        "df.describe()"
      ],
      "execution_count": 151,
      "outputs": [
        {
          "output_type": "execute_result",
          "data": {
            "text/html": [
              "<div>\n",
              "<style scoped>\n",
              "    .dataframe tbody tr th:only-of-type {\n",
              "        vertical-align: middle;\n",
              "    }\n",
              "\n",
              "    .dataframe tbody tr th {\n",
              "        vertical-align: top;\n",
              "    }\n",
              "\n",
              "    .dataframe thead th {\n",
              "        text-align: right;\n",
              "    }\n",
              "</style>\n",
              "<table border=\"1\" class=\"dataframe\">\n",
              "  <thead>\n",
              "    <tr style=\"text-align: right;\">\n",
              "      <th></th>\n",
              "      <th>Unnamed: 0</th>\n",
              "      <th>&lt;DTYYYYMMDD&gt;</th>\n",
              "      <th>&lt;FIRST&gt;</th>\n",
              "      <th>&lt;HIGH&gt;</th>\n",
              "      <th>&lt;LOW&gt;</th>\n",
              "      <th>&lt;CLOSE&gt;</th>\n",
              "      <th>&lt;VALUE&gt;</th>\n",
              "      <th>&lt;VOL&gt;</th>\n",
              "      <th>&lt;OPENINT&gt;</th>\n",
              "      <th>&lt;OPEN&gt;</th>\n",
              "      <th>&lt;LAST&gt;</th>\n",
              "    </tr>\n",
              "  </thead>\n",
              "  <tbody>\n",
              "    <tr>\n",
              "      <th>count</th>\n",
              "      <td>3546.000000</td>\n",
              "      <td>3.546000e+03</td>\n",
              "      <td>3546.000000</td>\n",
              "      <td>3546.000000</td>\n",
              "      <td>3546.000000</td>\n",
              "      <td>3546.000000</td>\n",
              "      <td>3.546000e+03</td>\n",
              "      <td>3.546000e+03</td>\n",
              "      <td>3546.000000</td>\n",
              "      <td>3546.000000</td>\n",
              "      <td>3546.000000</td>\n",
              "    </tr>\n",
              "    <tr>\n",
              "      <th>mean</th>\n",
              "      <td>1772.500000</td>\n",
              "      <td>2.011695e+07</td>\n",
              "      <td>8603.097857</td>\n",
              "      <td>8720.517202</td>\n",
              "      <td>8469.620135</td>\n",
              "      <td>8601.823463</td>\n",
              "      <td>1.865224e+10</td>\n",
              "      <td>2.024808e+06</td>\n",
              "      <td>404.249295</td>\n",
              "      <td>8585.450931</td>\n",
              "      <td>8594.951213</td>\n",
              "    </tr>\n",
              "    <tr>\n",
              "      <th>std</th>\n",
              "      <td>1023.786355</td>\n",
              "      <td>5.191054e+04</td>\n",
              "      <td>6669.430644</td>\n",
              "      <td>6763.880904</td>\n",
              "      <td>6564.485202</td>\n",
              "      <td>6682.042300</td>\n",
              "      <td>5.608826e+10</td>\n",
              "      <td>3.329542e+06</td>\n",
              "      <td>672.187749</td>\n",
              "      <td>6660.965520</td>\n",
              "      <td>6677.021620</td>\n",
              "    </tr>\n",
              "    <tr>\n",
              "      <th>min</th>\n",
              "      <td>0.000000</td>\n",
              "      <td>2.001050e+07</td>\n",
              "      <td>1305.000000</td>\n",
              "      <td>1305.000000</td>\n",
              "      <td>1305.000000</td>\n",
              "      <td>1305.000000</td>\n",
              "      <td>4.518000e+04</td>\n",
              "      <td>1.000000e+01</td>\n",
              "      <td>1.000000</td>\n",
              "      <td>1305.000000</td>\n",
              "      <td>1305.000000</td>\n",
              "    </tr>\n",
              "    <tr>\n",
              "      <th>25%</th>\n",
              "      <td>886.250000</td>\n",
              "      <td>2.007121e+07</td>\n",
              "      <td>3840.000000</td>\n",
              "      <td>3890.000000</td>\n",
              "      <td>3784.000000</td>\n",
              "      <td>3828.000000</td>\n",
              "      <td>1.053480e+09</td>\n",
              "      <td>1.356290e+05</td>\n",
              "      <td>53.000000</td>\n",
              "      <td>3827.250000</td>\n",
              "      <td>3820.000000</td>\n",
              "    </tr>\n",
              "    <tr>\n",
              "      <th>50%</th>\n",
              "      <td>1772.500000</td>\n",
              "      <td>2.012072e+07</td>\n",
              "      <td>7112.000000</td>\n",
              "      <td>7200.000000</td>\n",
              "      <td>7000.000000</td>\n",
              "      <td>7099.500000</td>\n",
              "      <td>4.940772e+09</td>\n",
              "      <td>8.506735e+05</td>\n",
              "      <td>223.000000</td>\n",
              "      <td>7083.000000</td>\n",
              "      <td>7094.000000</td>\n",
              "    </tr>\n",
              "    <tr>\n",
              "      <th>75%</th>\n",
              "      <td>2658.750000</td>\n",
              "      <td>2.016071e+07</td>\n",
              "      <td>10914.500000</td>\n",
              "      <td>11000.000000</td>\n",
              "      <td>10731.500000</td>\n",
              "      <td>10883.000000</td>\n",
              "      <td>1.466050e+10</td>\n",
              "      <td>2.499011e+06</td>\n",
              "      <td>489.750000</td>\n",
              "      <td>10857.750000</td>\n",
              "      <td>10896.750000</td>\n",
              "    </tr>\n",
              "    <tr>\n",
              "      <th>max</th>\n",
              "      <td>3545.000000</td>\n",
              "      <td>2.020060e+07</td>\n",
              "      <td>42650.000000</td>\n",
              "      <td>43000.000000</td>\n",
              "      <td>40660.000000</td>\n",
              "      <td>42504.000000</td>\n",
              "      <td>1.322401e+12</td>\n",
              "      <td>4.071108e+07</td>\n",
              "      <td>14028.000000</td>\n",
              "      <td>42504.000000</td>\n",
              "      <td>42703.000000</td>\n",
              "    </tr>\n",
              "  </tbody>\n",
              "</table>\n",
              "</div>"
            ],
            "text/plain": [
              "        Unnamed: 0  <DTYYYYMMDD>  ...        <OPEN>        <LAST>\n",
              "count  3546.000000  3.546000e+03  ...   3546.000000   3546.000000\n",
              "mean   1772.500000  2.011695e+07  ...   8585.450931   8594.951213\n",
              "std    1023.786355  5.191054e+04  ...   6660.965520   6677.021620\n",
              "min       0.000000  2.001050e+07  ...   1305.000000   1305.000000\n",
              "25%     886.250000  2.007121e+07  ...   3827.250000   3820.000000\n",
              "50%    1772.500000  2.012072e+07  ...   7083.000000   7094.000000\n",
              "75%    2658.750000  2.016071e+07  ...  10857.750000  10896.750000\n",
              "max    3545.000000  2.020060e+07  ...  42504.000000  42703.000000\n",
              "\n",
              "[8 rows x 11 columns]"
            ]
          },
          "metadata": {
            "tags": []
          },
          "execution_count": 151
        }
      ]
    },
    {
      "cell_type": "code",
      "metadata": {
        "id": "mkJ2qxhUTjGJ",
        "outputId": "cb3a5823-977a-4d57-dbe8-32325849c080",
        "colab": {
          "base_uri": "https://localhost:8080/",
          "height": 555
        }
      },
      "source": [
        "import seaborn as sns\n",
        "plt.figure(1 , figsize = (17 , 8))\n",
        "cor = sns.heatmap(df.corr(), annot = True)"
      ],
      "execution_count": 152,
      "outputs": [
        {
          "output_type": "display_data",
          "data": {
            "image/png": "[encoded data removed]",
            "text/plain": [
              "<Figure size 1224x576 with 2 Axes>"
            ]
          },
          "metadata": {
            "tags": [],
            "needs_background": "light"
          }
        }
      ]
    },
    {
      "cell_type": "code",
      "metadata": {
        "id": "VWy495nCOFQ_",
        "outputId": "4ff6252e-4d7c-4da2-eab0-29e4180ac7cc",
        "colab": {
          "base_uri": "https://localhost:8080/",
          "height": 235
        }
      },
      "source": [
        "df['datetime'] = pd.to_datetime(df['<DTYYYYMMDD>'], format='%Y%m%d')\n",
        "df.index = df['datetime']\n",
        "df.dropna()\n",
        "df_new = df[[\"<FIRST>\",\"<HIGH>\",\"<LOW>\",\"<CLOSE>\",\"<VALUE>\",\"<VOL>\"]]\n",
        "df_new.head()"
      ],
      "execution_count": 153,
      "outputs": [
        {
          "output_type": "execute_result",
          "data": {
            "text/html": [
              "<div>\n",
              "<style scoped>\n",
              "    .dataframe tbody tr th:only-of-type {\n",
              "        vertical-align: middle;\n",
              "    }\n",
              "\n",
              "    .dataframe tbody tr th {\n",
              "        vertical-align: top;\n",
              "    }\n",
              "\n",
              "    .dataframe thead th {\n",
              "        text-align: right;\n",
              "    }\n",
              "</style>\n",
              "<table border=\"1\" class=\"dataframe\">\n",
              "  <thead>\n",
              "    <tr style=\"text-align: right;\">\n",
              "      <th></th>\n",
              "      <th>&lt;FIRST&gt;</th>\n",
              "      <th>&lt;HIGH&gt;</th>\n",
              "      <th>&lt;LOW&gt;</th>\n",
              "      <th>&lt;CLOSE&gt;</th>\n",
              "      <th>&lt;VALUE&gt;</th>\n",
              "      <th>&lt;VOL&gt;</th>\n",
              "    </tr>\n",
              "    <tr>\n",
              "      <th>datetime</th>\n",
              "      <th></th>\n",
              "      <th></th>\n",
              "      <th></th>\n",
              "      <th></th>\n",
              "      <th></th>\n",
              "      <th></th>\n",
              "    </tr>\n",
              "  </thead>\n",
              "  <tbody>\n",
              "    <tr>\n",
              "      <th>2001-05-01</th>\n",
              "      <td>5750.0</td>\n",
              "      <td>5750.0</td>\n",
              "      <td>5750.0</td>\n",
              "      <td>5750.0</td>\n",
              "      <td>575000</td>\n",
              "      <td>100</td>\n",
              "    </tr>\n",
              "    <tr>\n",
              "      <th>2001-05-06</th>\n",
              "      <td>5807.0</td>\n",
              "      <td>5807.0</td>\n",
              "      <td>5807.0</td>\n",
              "      <td>5807.0</td>\n",
              "      <td>9947391</td>\n",
              "      <td>1713</td>\n",
              "    </tr>\n",
              "    <tr>\n",
              "      <th>2001-05-12</th>\n",
              "      <td>5865.0</td>\n",
              "      <td>5865.0</td>\n",
              "      <td>5865.0</td>\n",
              "      <td>5865.0</td>\n",
              "      <td>2991150</td>\n",
              "      <td>510</td>\n",
              "    </tr>\n",
              "    <tr>\n",
              "      <th>2001-05-13</th>\n",
              "      <td>5923.0</td>\n",
              "      <td>5923.0</td>\n",
              "      <td>5923.0</td>\n",
              "      <td>5923.0</td>\n",
              "      <td>11846000</td>\n",
              "      <td>2000</td>\n",
              "    </tr>\n",
              "    <tr>\n",
              "      <th>2001-05-15</th>\n",
              "      <td>5982.0</td>\n",
              "      <td>5982.0</td>\n",
              "      <td>5982.0</td>\n",
              "      <td>5982.0</td>\n",
              "      <td>5982000</td>\n",
              "      <td>1000</td>\n",
              "    </tr>\n",
              "  </tbody>\n",
              "</table>\n",
              "</div>"
            ],
            "text/plain": [
              "            <FIRST>  <HIGH>   <LOW>  <CLOSE>   <VALUE>  <VOL>\n",
              "datetime                                                     \n",
              "2001-05-01   5750.0  5750.0  5750.0   5750.0    575000    100\n",
              "2001-05-06   5807.0  5807.0  5807.0   5807.0   9947391   1713\n",
              "2001-05-12   5865.0  5865.0  5865.0   5865.0   2991150    510\n",
              "2001-05-13   5923.0  5923.0  5923.0   5923.0  11846000   2000\n",
              "2001-05-15   5982.0  5982.0  5982.0   5982.0   5982000   1000"
            ]
          },
          "metadata": {
            "tags": []
          },
          "execution_count": 153
        }
      ]
    },
    {
      "cell_type": "code",
      "metadata": {
        "id": "hLz42nBYber_",
        "outputId": "53490b3c-6292-4716-f96e-4caf2be3f1c6",
        "colab": {
          "base_uri": "https://localhost:8080/"
        }
      },
      "source": [
        "df_new.shape"
      ],
      "execution_count": 154,
      "outputs": [
        {
          "output_type": "execute_result",
          "data": {
            "text/plain": [
              "(3546, 6)"
            ]
          },
          "metadata": {
            "tags": []
          },
          "execution_count": 154
        }
      ]
    },
    {
      "cell_type": "code",
      "metadata": {
        "id": "kvkvBjzCbesH",
        "outputId": "25fd2864-4df6-4d4d-fa8e-c97ae5db2aab",
        "colab": {
          "base_uri": "https://localhost:8080/"
        }
      },
      "source": [
        "#Calculating the change in price\n",
        "df_new['change_in_price'] = df_new['<CLOSE>'].diff()"
      ],
      "execution_count": 155,
      "outputs": [
        {
          "output_type": "stream",
          "text": [
            "/usr/local/lib/python3.6/dist-packages/ipykernel_launcher.py:2: SettingWithCopyWarning: \n",
            "A value is trying to be set on a copy of a slice from a DataFrame.\n",
            "Try using .loc[row_indexer,col_indexer] = value instead\n",
            "\n",
            "See the caveats in the documentation: https://pandas.pydata.org/pandas-docs/stable/user_guide/indexing.html#returning-a-view-versus-a-copy\n",
            "  \n"
          ],
          "name": "stderr"
        }
      ]
    },
    {
      "cell_type": "markdown",
      "metadata": {
        "id": "6Q4sHYAVhXdc"
      },
      "source": [
        "## **Data Visualisation**"
      ]
    },
    {
      "cell_type": "code",
      "metadata": {
        "id": "xvmCMSnkZO6R",
        "outputId": "44c8bfb2-287a-4cc3-94dc-0e95fb600fcc",
        "colab": {
          "base_uri": "https://localhost:8080/",
          "height": 498
        }
      },
      "source": [
        "plt.figure(figsize=(16,8))\n",
        "plt.plot(df_new['change_in_price'], label='Change In Price')"
      ],
      "execution_count": 156,
      "outputs": [
        {
          "output_type": "execute_result",
          "data": {
            "text/plain": [
              "[<matplotlib.lines.Line2D at 0x7f972e743748>]"
            ]
          },
          "metadata": {
            "tags": []
          },
          "execution_count": 156
        },
        {
          "output_type": "display_data",
          "data": {
            "image/png": "[encoded data removed]",
            "text/plain": [
              "<Figure size 1152x576 with 1 Axes>"
            ]
          },
          "metadata": {
            "tags": [],
            "needs_background": "light"
          }
        }
      ]
    },
    {
      "cell_type": "code",
      "metadata": {
        "id": "AiDa4AToWnzp",
        "outputId": "0fdb5180-6539-4381-fdd7-1e84991127eb",
        "colab": {
          "base_uri": "https://localhost:8080/",
          "height": 499
        }
      },
      "source": [
        "plt.figure(figsize=(16,8))\n",
        "plt.plot(df_new['<CLOSE>'], label='Close Price history')"
      ],
      "execution_count": 157,
      "outputs": [
        {
          "output_type": "execute_result",
          "data": {
            "text/plain": [
              "[<matplotlib.lines.Line2D at 0x7f972e6f33c8>]"
            ]
          },
          "metadata": {
            "tags": []
          },
          "execution_count": 157
        },
        {
          "output_type": "display_data",
          "data": {
            "image/png": "[encoded data removed]",
            "text/plain": [
              "<Figure size 1152x576 with 1 Axes>"
            ]
          },
          "metadata": {
            "tags": [],
            "needs_background": "light"
          }
        }
      ]
    },
    {
      "cell_type": "markdown",
      "metadata": {
        "id": "1vZkESASbesL"
      },
      "source": [
        "## **Calculating the technical indicators**"
      ]
    },
    {
      "cell_type": "code",
      "metadata": {
        "id": "iqjLW__ObesM",
        "outputId": "b7a9e560-4112-48bc-ec2f-3e7b30245df4",
        "colab": {
          "base_uri": "https://localhost:8080/",
          "height": 235
        }
      },
      "source": [
        "#1. Simple n day moving average\n",
        "#A moving average (MA) is a widely used technical indicator that smooths out price trends by filtering out the “noise” from random short-term price fluctuations.\n",
        "##The most common applications of moving averages are to identify trend direction and to determine support and resistance levels.\n",
        "def moving_average(df, n):\n",
        "    \"\"\"Calculate the moving average for the given data.\n",
        "    :param df: pandas.DataFrame\n",
        "    :param n:\n",
        "    :return: pandas.DataFrame\n",
        "    \"\"\"\n",
        "    MA = pd.Series(df['<CLOSE>'].rolling(n, min_periods=n).mean(), name='MA_' + str(n))\n",
        "    df = df.join(MA)\n",
        "    return df\n",
        "df_new = moving_average(df_new,10)\n",
        "df_new.tail()"
      ],
      "execution_count": 158,
      "outputs": [
        {
          "output_type": "execute_result",
          "data": {
            "text/html": [
              "<div>\n",
              "<style scoped>\n",
              "    .dataframe tbody tr th:only-of-type {\n",
              "        vertical-align: middle;\n",
              "    }\n",
              "\n",
              "    .dataframe tbody tr th {\n",
              "        vertical-align: top;\n",
              "    }\n",
              "\n",
              "    .dataframe thead th {\n",
              "        text-align: right;\n",
              "    }\n",
              "</style>\n",
              "<table border=\"1\" class=\"dataframe\">\n",
              "  <thead>\n",
              "    <tr style=\"text-align: right;\">\n",
              "      <th></th>\n",
              "      <th>&lt;FIRST&gt;</th>\n",
              "      <th>&lt;HIGH&gt;</th>\n",
              "      <th>&lt;LOW&gt;</th>\n",
              "      <th>&lt;CLOSE&gt;</th>\n",
              "      <th>&lt;VALUE&gt;</th>\n",
              "      <th>&lt;VOL&gt;</th>\n",
              "      <th>change_in_price</th>\n",
              "      <th>MA_10</th>\n",
              "    </tr>\n",
              "    <tr>\n",
              "      <th>datetime</th>\n",
              "      <th></th>\n",
              "      <th></th>\n",
              "      <th></th>\n",
              "      <th></th>\n",
              "      <th></th>\n",
              "      <th></th>\n",
              "      <th></th>\n",
              "      <th></th>\n",
              "    </tr>\n",
              "  </thead>\n",
              "  <tbody>\n",
              "    <tr>\n",
              "      <th>2020-05-26</th>\n",
              "      <td>34051.0</td>\n",
              "      <td>35000.0</td>\n",
              "      <td>33429.0</td>\n",
              "      <td>33887.0</td>\n",
              "      <td>91075271139</td>\n",
              "      <td>2688840</td>\n",
              "      <td>-1301.0</td>\n",
              "      <td>35695.6</td>\n",
              "    </tr>\n",
              "    <tr>\n",
              "      <th>2020-05-27</th>\n",
              "      <td>32466.0</td>\n",
              "      <td>35565.0</td>\n",
              "      <td>32466.0</td>\n",
              "      <td>35051.0</td>\n",
              "      <td>188533230075</td>\n",
              "      <td>5378788</td>\n",
              "      <td>1164.0</td>\n",
              "      <td>35527.1</td>\n",
              "    </tr>\n",
              "    <tr>\n",
              "      <th>2020-05-30</th>\n",
              "      <td>36803.0</td>\n",
              "      <td>36803.0</td>\n",
              "      <td>36803.0</td>\n",
              "      <td>36803.0</td>\n",
              "      <td>112049162498</td>\n",
              "      <td>3044566</td>\n",
              "      <td>1752.0</td>\n",
              "      <td>35706.8</td>\n",
              "    </tr>\n",
              "    <tr>\n",
              "      <th>2020-05-31</th>\n",
              "      <td>38643.0</td>\n",
              "      <td>38643.0</td>\n",
              "      <td>36810.0</td>\n",
              "      <td>38615.0</td>\n",
              "      <td>771614696040</td>\n",
              "      <td>19982276</td>\n",
              "      <td>1812.0</td>\n",
              "      <td>36009.5</td>\n",
              "    </tr>\n",
              "    <tr>\n",
              "      <th>2020-06-01</th>\n",
              "      <td>40490.0</td>\n",
              "      <td>40545.0</td>\n",
              "      <td>38700.0</td>\n",
              "      <td>40451.0</td>\n",
              "      <td>266346818518</td>\n",
              "      <td>6584463</td>\n",
              "      <td>1836.0</td>\n",
              "      <td>36637.2</td>\n",
              "    </tr>\n",
              "  </tbody>\n",
              "</table>\n",
              "</div>"
            ],
            "text/plain": [
              "            <FIRST>   <HIGH>    <LOW>  ...     <VOL>  change_in_price    MA_10\n",
              "datetime                               ...                                    \n",
              "2020-05-26  34051.0  35000.0  33429.0  ...   2688840          -1301.0  35695.6\n",
              "2020-05-27  32466.0  35565.0  32466.0  ...   5378788           1164.0  35527.1\n",
              "2020-05-30  36803.0  36803.0  36803.0  ...   3044566           1752.0  35706.8\n",
              "2020-05-31  38643.0  38643.0  36810.0  ...  19982276           1812.0  36009.5\n",
              "2020-06-01  40490.0  40545.0  38700.0  ...   6584463           1836.0  36637.2\n",
              "\n",
              "[5 rows x 8 columns]"
            ]
          },
          "metadata": {
            "tags": []
          },
          "execution_count": 158
        }
      ]
    },
    {
      "cell_type": "code",
      "metadata": {
        "id": "080HB4bObesP",
        "outputId": "4a9a57c8-0c46-4549-d99a-407bc71d85d6",
        "colab": {
          "base_uri": "https://localhost:8080/",
          "height": 235
        }
      },
      "source": [
        "#2. Weighted Moving Average (WMA)\n",
        "def weighted_moving_average(df, n):\n",
        "    \"\"\"\n",
        "    :param df: pandas.DataFrame\n",
        "    :param n:\n",
        "    :return: pandas.DataFrame\n",
        "    \"\"\"\n",
        "    WMA = pd.Series(df['<CLOSE>'].ewm(span=n, min_periods=n).mean(), name='WMA_' + str(n))\n",
        "    df = df.join(WMA)\n",
        "    return df\n",
        "df_new = weighted_moving_average(df_new,10)\n",
        "df_new.tail()"
      ],
      "execution_count": 159,
      "outputs": [
        {
          "output_type": "execute_result",
          "data": {
            "text/html": [
              "<div>\n",
              "<style scoped>\n",
              "    .dataframe tbody tr th:only-of-type {\n",
              "        vertical-align: middle;\n",
              "    }\n",
              "\n",
              "    .dataframe tbody tr th {\n",
              "        vertical-align: top;\n",
              "    }\n",
              "\n",
              "    .dataframe thead th {\n",
              "        text-align: right;\n",
              "    }\n",
              "</style>\n",
              "<table border=\"1\" class=\"dataframe\">\n",
              "  <thead>\n",
              "    <tr style=\"text-align: right;\">\n",
              "      <th></th>\n",
              "      <th>&lt;FIRST&gt;</th>\n",
              "      <th>&lt;HIGH&gt;</th>\n",
              "      <th>&lt;LOW&gt;</th>\n",
              "      <th>&lt;CLOSE&gt;</th>\n",
              "      <th>&lt;VALUE&gt;</th>\n",
              "      <th>&lt;VOL&gt;</th>\n",
              "      <th>change_in_price</th>\n",
              "      <th>MA_10</th>\n",
              "      <th>WMA_10</th>\n",
              "    </tr>\n",
              "    <tr>\n",
              "      <th>datetime</th>\n",
              "      <th></th>\n",
              "      <th></th>\n",
              "      <th></th>\n",
              "      <th></th>\n",
              "      <th></th>\n",
              "      <th></th>\n",
              "      <th></th>\n",
              "      <th></th>\n",
              "      <th></th>\n",
              "    </tr>\n",
              "  </thead>\n",
              "  <tbody>\n",
              "    <tr>\n",
              "      <th>2020-05-26</th>\n",
              "      <td>34051.0</td>\n",
              "      <td>35000.0</td>\n",
              "      <td>33429.0</td>\n",
              "      <td>33887.0</td>\n",
              "      <td>91075271139</td>\n",
              "      <td>2688840</td>\n",
              "      <td>-1301.0</td>\n",
              "      <td>35695.6</td>\n",
              "      <td>35967.692374</td>\n",
              "    </tr>\n",
              "    <tr>\n",
              "      <th>2020-05-27</th>\n",
              "      <td>32466.0</td>\n",
              "      <td>35565.0</td>\n",
              "      <td>32466.0</td>\n",
              "      <td>35051.0</td>\n",
              "      <td>188533230075</td>\n",
              "      <td>5378788</td>\n",
              "      <td>1164.0</td>\n",
              "      <td>35527.1</td>\n",
              "      <td>35801.021033</td>\n",
              "    </tr>\n",
              "    <tr>\n",
              "      <th>2020-05-30</th>\n",
              "      <td>36803.0</td>\n",
              "      <td>36803.0</td>\n",
              "      <td>36803.0</td>\n",
              "      <td>36803.0</td>\n",
              "      <td>112049162498</td>\n",
              "      <td>3044566</td>\n",
              "      <td>1752.0</td>\n",
              "      <td>35706.8</td>\n",
              "      <td>35983.199027</td>\n",
              "    </tr>\n",
              "    <tr>\n",
              "      <th>2020-05-31</th>\n",
              "      <td>38643.0</td>\n",
              "      <td>38643.0</td>\n",
              "      <td>36810.0</td>\n",
              "      <td>38615.0</td>\n",
              "      <td>771614696040</td>\n",
              "      <td>19982276</td>\n",
              "      <td>1812.0</td>\n",
              "      <td>36009.5</td>\n",
              "      <td>36461.708295</td>\n",
              "    </tr>\n",
              "    <tr>\n",
              "      <th>2020-06-01</th>\n",
              "      <td>40490.0</td>\n",
              "      <td>40545.0</td>\n",
              "      <td>38700.0</td>\n",
              "      <td>40451.0</td>\n",
              "      <td>266346818518</td>\n",
              "      <td>6584463</td>\n",
              "      <td>1836.0</td>\n",
              "      <td>36637.2</td>\n",
              "      <td>37187.034059</td>\n",
              "    </tr>\n",
              "  </tbody>\n",
              "</table>\n",
              "</div>"
            ],
            "text/plain": [
              "            <FIRST>   <HIGH>    <LOW>  ...  change_in_price    MA_10        WMA_10\n",
              "datetime                               ...                                        \n",
              "2020-05-26  34051.0  35000.0  33429.0  ...          -1301.0  35695.6  35967.692374\n",
              "2020-05-27  32466.0  35565.0  32466.0  ...           1164.0  35527.1  35801.021033\n",
              "2020-05-30  36803.0  36803.0  36803.0  ...           1752.0  35706.8  35983.199027\n",
              "2020-05-31  38643.0  38643.0  36810.0  ...           1812.0  36009.5  36461.708295\n",
              "2020-06-01  40490.0  40545.0  38700.0  ...           1836.0  36637.2  37187.034059\n",
              "\n",
              "[5 rows x 9 columns]"
            ]
          },
          "metadata": {
            "tags": []
          },
          "execution_count": 159
        }
      ]
    },
    {
      "cell_type": "code",
      "metadata": {
        "id": "lTZOxNVrbesS",
        "outputId": "9bf8b70d-8c9c-4b9c-9bd8-5efabf3257ac",
        "colab": {
          "base_uri": "https://localhost:8080/",
          "height": 235
        }
      },
      "source": [
        "#3. Momentum\n",
        "def momentum(df, n):\n",
        "    \"\"\"\n",
        "    :param df: pandas.DataFrame\n",
        "    :param n:\n",
        "    :return: pandas.DataFrame\n",
        "    \"\"\"\n",
        "    M = pd.Series(df['<CLOSE>'].diff(n), name='MOM_' + str(n))\n",
        "    df = df.join(M)\n",
        "    return df\n",
        "df_new = momentum(df_new,10)\n",
        "df_new.tail()"
      ],
      "execution_count": 160,
      "outputs": [
        {
          "output_type": "execute_result",
          "data": {
            "text/html": [
              "<div>\n",
              "<style scoped>\n",
              "    .dataframe tbody tr th:only-of-type {\n",
              "        vertical-align: middle;\n",
              "    }\n",
              "\n",
              "    .dataframe tbody tr th {\n",
              "        vertical-align: top;\n",
              "    }\n",
              "\n",
              "    .dataframe thead th {\n",
              "        text-align: right;\n",
              "    }\n",
              "</style>\n",
              "<table border=\"1\" class=\"dataframe\">\n",
              "  <thead>\n",
              "    <tr style=\"text-align: right;\">\n",
              "      <th></th>\n",
              "      <th>&lt;FIRST&gt;</th>\n",
              "      <th>&lt;HIGH&gt;</th>\n",
              "      <th>&lt;LOW&gt;</th>\n",
              "      <th>&lt;CLOSE&gt;</th>\n",
              "      <th>&lt;VALUE&gt;</th>\n",
              "      <th>&lt;VOL&gt;</th>\n",
              "      <th>change_in_price</th>\n",
              "      <th>MA_10</th>\n",
              "      <th>WMA_10</th>\n",
              "      <th>MOM_10</th>\n",
              "    </tr>\n",
              "    <tr>\n",
              "      <th>datetime</th>\n",
              "      <th></th>\n",
              "      <th></th>\n",
              "      <th></th>\n",
              "      <th></th>\n",
              "      <th></th>\n",
              "      <th></th>\n",
              "      <th></th>\n",
              "      <th></th>\n",
              "      <th></th>\n",
              "      <th></th>\n",
              "    </tr>\n",
              "  </thead>\n",
              "  <tbody>\n",
              "    <tr>\n",
              "      <th>2020-05-26</th>\n",
              "      <td>34051.0</td>\n",
              "      <td>35000.0</td>\n",
              "      <td>33429.0</td>\n",
              "      <td>33887.0</td>\n",
              "      <td>91075271139</td>\n",
              "      <td>2688840</td>\n",
              "      <td>-1301.0</td>\n",
              "      <td>35695.6</td>\n",
              "      <td>35967.692374</td>\n",
              "      <td>-4663.0</td>\n",
              "    </tr>\n",
              "    <tr>\n",
              "      <th>2020-05-27</th>\n",
              "      <td>32466.0</td>\n",
              "      <td>35565.0</td>\n",
              "      <td>32466.0</td>\n",
              "      <td>35051.0</td>\n",
              "      <td>188533230075</td>\n",
              "      <td>5378788</td>\n",
              "      <td>1164.0</td>\n",
              "      <td>35527.1</td>\n",
              "      <td>35801.021033</td>\n",
              "      <td>-1685.0</td>\n",
              "    </tr>\n",
              "    <tr>\n",
              "      <th>2020-05-30</th>\n",
              "      <td>36803.0</td>\n",
              "      <td>36803.0</td>\n",
              "      <td>36803.0</td>\n",
              "      <td>36803.0</td>\n",
              "      <td>112049162498</td>\n",
              "      <td>3044566</td>\n",
              "      <td>1752.0</td>\n",
              "      <td>35706.8</td>\n",
              "      <td>35983.199027</td>\n",
              "      <td>1797.0</td>\n",
              "    </tr>\n",
              "    <tr>\n",
              "      <th>2020-05-31</th>\n",
              "      <td>38643.0</td>\n",
              "      <td>38643.0</td>\n",
              "      <td>36810.0</td>\n",
              "      <td>38615.0</td>\n",
              "      <td>771614696040</td>\n",
              "      <td>19982276</td>\n",
              "      <td>1812.0</td>\n",
              "      <td>36009.5</td>\n",
              "      <td>36461.708295</td>\n",
              "      <td>3027.0</td>\n",
              "    </tr>\n",
              "    <tr>\n",
              "      <th>2020-06-01</th>\n",
              "      <td>40490.0</td>\n",
              "      <td>40545.0</td>\n",
              "      <td>38700.0</td>\n",
              "      <td>40451.0</td>\n",
              "      <td>266346818518</td>\n",
              "      <td>6584463</td>\n",
              "      <td>1836.0</td>\n",
              "      <td>36637.2</td>\n",
              "      <td>37187.034059</td>\n",
              "      <td>6277.0</td>\n",
              "    </tr>\n",
              "  </tbody>\n",
              "</table>\n",
              "</div>"
            ],
            "text/plain": [
              "            <FIRST>   <HIGH>    <LOW>  ...    MA_10        WMA_10  MOM_10\n",
              "datetime                               ...                               \n",
              "2020-05-26  34051.0  35000.0  33429.0  ...  35695.6  35967.692374 -4663.0\n",
              "2020-05-27  32466.0  35565.0  32466.0  ...  35527.1  35801.021033 -1685.0\n",
              "2020-05-30  36803.0  36803.0  36803.0  ...  35706.8  35983.199027  1797.0\n",
              "2020-05-31  38643.0  38643.0  36810.0  ...  36009.5  36461.708295  3027.0\n",
              "2020-06-01  40490.0  40545.0  38700.0  ...  36637.2  37187.034059  6277.0\n",
              "\n",
              "[5 rows x 10 columns]"
            ]
          },
          "metadata": {
            "tags": []
          },
          "execution_count": 160
        }
      ]
    },
    {
      "cell_type": "code",
      "metadata": {
        "id": "9WasGdiqbesV",
        "outputId": "5b5f37cf-2f9e-4ab7-e563-962b93ae6378",
        "colab": {
          "base_uri": "https://localhost:8080/",
          "height": 340
        }
      },
      "source": [
        "#4. Stochastic K%\n",
        "def stochastic_oscillator_k(df):\n",
        "    \"\"\"Calculate stochastic oscillator %K for given data.\n",
        "    :param df: pandas.DataFrame\n",
        "    :return: pandas.DataFrame\n",
        "    \"\"\"\n",
        "    SOk = pd.Series((df['<CLOSE>'] - df['<LOW>']) / (df['<HIGH>'] - df['<LOW>']), name='SO_k')\n",
        "    df = df.join(SOk)\n",
        "    return df\n",
        "df_new = stochastic_oscillator_k(df_new)\n",
        "df_new.tail()"
      ],
      "execution_count": 161,
      "outputs": [
        {
          "output_type": "execute_result",
          "data": {
            "text/html": [
              "<div>\n",
              "<style scoped>\n",
              "    .dataframe tbody tr th:only-of-type {\n",
              "        vertical-align: middle;\n",
              "    }\n",
              "\n",
              "    .dataframe tbody tr th {\n",
              "        vertical-align: top;\n",
              "    }\n",
              "\n",
              "    .dataframe thead th {\n",
              "        text-align: right;\n",
              "    }\n",
              "</style>\n",
              "<table border=\"1\" class=\"dataframe\">\n",
              "  <thead>\n",
              "    <tr style=\"text-align: right;\">\n",
              "      <th></th>\n",
              "      <th>&lt;FIRST&gt;</th>\n",
              "      <th>&lt;HIGH&gt;</th>\n",
              "      <th>&lt;LOW&gt;</th>\n",
              "      <th>&lt;CLOSE&gt;</th>\n",
              "      <th>&lt;VALUE&gt;</th>\n",
              "      <th>&lt;VOL&gt;</th>\n",
              "      <th>change_in_price</th>\n",
              "      <th>MA_10</th>\n",
              "      <th>WMA_10</th>\n",
              "      <th>MOM_10</th>\n",
              "      <th>SO_k</th>\n",
              "    </tr>\n",
              "    <tr>\n",
              "      <th>datetime</th>\n",
              "      <th></th>\n",
              "      <th></th>\n",
              "      <th></th>\n",
              "      <th></th>\n",
              "      <th></th>\n",
              "      <th></th>\n",
              "      <th></th>\n",
              "      <th></th>\n",
              "      <th></th>\n",
              "      <th></th>\n",
              "      <th></th>\n",
              "    </tr>\n",
              "  </thead>\n",
              "  <tbody>\n",
              "    <tr>\n",
              "      <th>2020-05-26</th>\n",
              "      <td>34051.0</td>\n",
              "      <td>35000.0</td>\n",
              "      <td>33429.0</td>\n",
              "      <td>33887.0</td>\n",
              "      <td>91075271139</td>\n",
              "      <td>2688840</td>\n",
              "      <td>-1301.0</td>\n",
              "      <td>35695.6</td>\n",
              "      <td>35967.692374</td>\n",
              "      <td>-4663.0</td>\n",
              "      <td>0.291534</td>\n",
              "    </tr>\n",
              "    <tr>\n",
              "      <th>2020-05-27</th>\n",
              "      <td>32466.0</td>\n",
              "      <td>35565.0</td>\n",
              "      <td>32466.0</td>\n",
              "      <td>35051.0</td>\n",
              "      <td>188533230075</td>\n",
              "      <td>5378788</td>\n",
              "      <td>1164.0</td>\n",
              "      <td>35527.1</td>\n",
              "      <td>35801.021033</td>\n",
              "      <td>-1685.0</td>\n",
              "      <td>0.834140</td>\n",
              "    </tr>\n",
              "    <tr>\n",
              "      <th>2020-05-30</th>\n",
              "      <td>36803.0</td>\n",
              "      <td>36803.0</td>\n",
              "      <td>36803.0</td>\n",
              "      <td>36803.0</td>\n",
              "      <td>112049162498</td>\n",
              "      <td>3044566</td>\n",
              "      <td>1752.0</td>\n",
              "      <td>35706.8</td>\n",
              "      <td>35983.199027</td>\n",
              "      <td>1797.0</td>\n",
              "      <td>NaN</td>\n",
              "    </tr>\n",
              "    <tr>\n",
              "      <th>2020-05-31</th>\n",
              "      <td>38643.0</td>\n",
              "      <td>38643.0</td>\n",
              "      <td>36810.0</td>\n",
              "      <td>38615.0</td>\n",
              "      <td>771614696040</td>\n",
              "      <td>19982276</td>\n",
              "      <td>1812.0</td>\n",
              "      <td>36009.5</td>\n",
              "      <td>36461.708295</td>\n",
              "      <td>3027.0</td>\n",
              "      <td>0.984724</td>\n",
              "    </tr>\n",
              "    <tr>\n",
              "      <th>2020-06-01</th>\n",
              "      <td>40490.0</td>\n",
              "      <td>40545.0</td>\n",
              "      <td>38700.0</td>\n",
              "      <td>40451.0</td>\n",
              "      <td>266346818518</td>\n",
              "      <td>6584463</td>\n",
              "      <td>1836.0</td>\n",
              "      <td>36637.2</td>\n",
              "      <td>37187.034059</td>\n",
              "      <td>6277.0</td>\n",
              "      <td>0.949051</td>\n",
              "    </tr>\n",
              "  </tbody>\n",
              "</table>\n",
              "</div>"
            ],
            "text/plain": [
              "            <FIRST>   <HIGH>    <LOW>  ...        WMA_10  MOM_10      SO_k\n",
              "datetime                               ...                                \n",
              "2020-05-26  34051.0  35000.0  33429.0  ...  35967.692374 -4663.0  0.291534\n",
              "2020-05-27  32466.0  35565.0  32466.0  ...  35801.021033 -1685.0  0.834140\n",
              "2020-05-30  36803.0  36803.0  36803.0  ...  35983.199027  1797.0       NaN\n",
              "2020-05-31  38643.0  38643.0  36810.0  ...  36461.708295  3027.0  0.984724\n",
              "2020-06-01  40490.0  40545.0  38700.0  ...  37187.034059  6277.0  0.949051\n",
              "\n",
              "[5 rows x 11 columns]"
            ]
          },
          "metadata": {
            "tags": []
          },
          "execution_count": 161
        }
      ]
    },
    {
      "cell_type": "code",
      "metadata": {
        "id": "d5u31Lq2besX",
        "outputId": "61dc3faa-a0f9-4da5-d352-3374a416c8d5",
        "colab": {
          "base_uri": "https://localhost:8080/",
          "height": 340
        }
      },
      "source": [
        "#5. Stochastic D%\n",
        "def stochastic_oscillator_d(df, n):\n",
        "    \"\"\"Calculate stochastic oscillator %D for given data.\n",
        "    :param df: pandas.DataFrame\n",
        "    :param n:\n",
        "    :return: pandas.DataFrame\n",
        "    \"\"\"\n",
        "    SOk = pd.Series((df['<CLOSE>'] - df['<LOW>']) / (df['<HIGH>'] - df['<LOW>']), name='SO%k')\n",
        "    SOd = pd.Series(SOk.ewm(span=n, min_periods=n).mean(), name='SO_' + str(n))\n",
        "    df = df.join(SOd)\n",
        "    return df\n",
        "df_new = stochastic_oscillator_d(df_new,10)\n",
        "df_new.tail()"
      ],
      "execution_count": 162,
      "outputs": [
        {
          "output_type": "execute_result",
          "data": {
            "text/html": [
              "<div>\n",
              "<style scoped>\n",
              "    .dataframe tbody tr th:only-of-type {\n",
              "        vertical-align: middle;\n",
              "    }\n",
              "\n",
              "    .dataframe tbody tr th {\n",
              "        vertical-align: top;\n",
              "    }\n",
              "\n",
              "    .dataframe thead th {\n",
              "        text-align: right;\n",
              "    }\n",
              "</style>\n",
              "<table border=\"1\" class=\"dataframe\">\n",
              "  <thead>\n",
              "    <tr style=\"text-align: right;\">\n",
              "      <th></th>\n",
              "      <th>&lt;FIRST&gt;</th>\n",
              "      <th>&lt;HIGH&gt;</th>\n",
              "      <th>&lt;LOW&gt;</th>\n",
              "      <th>&lt;CLOSE&gt;</th>\n",
              "      <th>&lt;VALUE&gt;</th>\n",
              "      <th>&lt;VOL&gt;</th>\n",
              "      <th>change_in_price</th>\n",
              "      <th>MA_10</th>\n",
              "      <th>WMA_10</th>\n",
              "      <th>MOM_10</th>\n",
              "      <th>SO_k</th>\n",
              "      <th>SO_10</th>\n",
              "    </tr>\n",
              "    <tr>\n",
              "      <th>datetime</th>\n",
              "      <th></th>\n",
              "      <th></th>\n",
              "      <th></th>\n",
              "      <th></th>\n",
              "      <th></th>\n",
              "      <th></th>\n",
              "      <th></th>\n",
              "      <th></th>\n",
              "      <th></th>\n",
              "      <th></th>\n",
              "      <th></th>\n",
              "      <th></th>\n",
              "    </tr>\n",
              "  </thead>\n",
              "  <tbody>\n",
              "    <tr>\n",
              "      <th>2020-05-26</th>\n",
              "      <td>34051.0</td>\n",
              "      <td>35000.0</td>\n",
              "      <td>33429.0</td>\n",
              "      <td>33887.0</td>\n",
              "      <td>91075271139</td>\n",
              "      <td>2688840</td>\n",
              "      <td>-1301.0</td>\n",
              "      <td>35695.6</td>\n",
              "      <td>35967.692374</td>\n",
              "      <td>-4663.0</td>\n",
              "      <td>0.291534</td>\n",
              "      <td>0.419589</td>\n",
              "    </tr>\n",
              "    <tr>\n",
              "      <th>2020-05-27</th>\n",
              "      <td>32466.0</td>\n",
              "      <td>35565.0</td>\n",
              "      <td>32466.0</td>\n",
              "      <td>35051.0</td>\n",
              "      <td>188533230075</td>\n",
              "      <td>5378788</td>\n",
              "      <td>1164.0</td>\n",
              "      <td>35527.1</td>\n",
              "      <td>35801.021033</td>\n",
              "      <td>-1685.0</td>\n",
              "      <td>0.834140</td>\n",
              "      <td>0.495334</td>\n",
              "    </tr>\n",
              "    <tr>\n",
              "      <th>2020-05-30</th>\n",
              "      <td>36803.0</td>\n",
              "      <td>36803.0</td>\n",
              "      <td>36803.0</td>\n",
              "      <td>36803.0</td>\n",
              "      <td>112049162498</td>\n",
              "      <td>3044566</td>\n",
              "      <td>1752.0</td>\n",
              "      <td>35706.8</td>\n",
              "      <td>35983.199027</td>\n",
              "      <td>1797.0</td>\n",
              "      <td>NaN</td>\n",
              "      <td>0.495334</td>\n",
              "    </tr>\n",
              "    <tr>\n",
              "      <th>2020-05-31</th>\n",
              "      <td>38643.0</td>\n",
              "      <td>38643.0</td>\n",
              "      <td>36810.0</td>\n",
              "      <td>38615.0</td>\n",
              "      <td>771614696040</td>\n",
              "      <td>19982276</td>\n",
              "      <td>1812.0</td>\n",
              "      <td>36009.5</td>\n",
              "      <td>36461.708295</td>\n",
              "      <td>3027.0</td>\n",
              "      <td>0.984724</td>\n",
              "      <td>0.600269</td>\n",
              "    </tr>\n",
              "    <tr>\n",
              "      <th>2020-06-01</th>\n",
              "      <td>40490.0</td>\n",
              "      <td>40545.0</td>\n",
              "      <td>38700.0</td>\n",
              "      <td>40451.0</td>\n",
              "      <td>266346818518</td>\n",
              "      <td>6584463</td>\n",
              "      <td>1836.0</td>\n",
              "      <td>36637.2</td>\n",
              "      <td>37187.034059</td>\n",
              "      <td>6277.0</td>\n",
              "      <td>0.949051</td>\n",
              "      <td>0.672694</td>\n",
              "    </tr>\n",
              "  </tbody>\n",
              "</table>\n",
              "</div>"
            ],
            "text/plain": [
              "            <FIRST>   <HIGH>    <LOW>  ...  MOM_10      SO_k     SO_10\n",
              "datetime                               ...                            \n",
              "2020-05-26  34051.0  35000.0  33429.0  ... -4663.0  0.291534  0.419589\n",
              "2020-05-27  32466.0  35565.0  32466.0  ... -1685.0  0.834140  0.495334\n",
              "2020-05-30  36803.0  36803.0  36803.0  ...  1797.0       NaN  0.495334\n",
              "2020-05-31  38643.0  38643.0  36810.0  ...  3027.0  0.984724  0.600269\n",
              "2020-06-01  40490.0  40545.0  38700.0  ...  6277.0  0.949051  0.672694\n",
              "\n",
              "[5 rows x 12 columns]"
            ]
          },
          "metadata": {
            "tags": []
          },
          "execution_count": 162
        }
      ]
    },
    {
      "cell_type": "code",
      "metadata": {
        "id": "oki_RUaObesb",
        "outputId": "e42345c0-f311-48df-b2a2-865ad570026b",
        "colab": {
          "base_uri": "https://localhost:8080/",
          "height": 171
        }
      },
      "source": [
        "#6. Relative Strength Index\n",
        "#Error\n",
        "\"\"\"\n",
        "def relative_strength_index(df, n):\n",
        "    Calculate Relative Strength Index(RSI) for given data.\n",
        "    :param df: pandas.DataFrame\n",
        "    :param n:\n",
        "    :return: pandas.DataFrame\n",
        "    i = df.index[0]\n",
        "    UpI = [0]\n",
        "    DoI = [0]\n",
        "    while i + 1 <= df.index[-1]:\n",
        "        UpMove = float(df.loc[i + 1, 'high']) - float(df.loc[i, 'high'])\n",
        "        DoMove = float(df.loc[i, 'low']) - float(df.loc[i + 1, 'low'])\n",
        "        if UpMove > DoMove and UpMove > 0:\n",
        "            UpD = UpMove\n",
        "        else:\n",
        "            UpD = 0\n",
        "        UpI.append(UpD)\n",
        "        if DoMove > UpMove and DoMove > 0:\n",
        "            DoD = DoMove\n",
        "        else:\n",
        "            DoD = 0\n",
        "        DoI.append(DoD)\n",
        "        i = i + 1\n",
        "    UpI = pd.Series(UpI)\n",
        "\n",
        "    DoI = pd.Series(DoI)\n",
        "    PosDI = pd.Series(UpI.ewm(span=n, min_periods=n).mean())\n",
        "    NegDI = pd.Series(DoI.ewm(span=n, min_periods=n).mean())\n",
        "\n",
        "    # rsi = pd.Series(PosDI / (PosDI + NegDI), name='RSI_' + str(n))\n",
        "    rsi = pd.DataFrame(PosDI / (PosDI + NegDI), columns=['RSI_' + str(n)])\n",
        "    rsi = rsi.set_index(df.index)\n",
        "    df = df.join(rsi)\n",
        "    return df\n",
        "\"\"\""
      ],
      "execution_count": 163,
      "outputs": [
        {
          "output_type": "execute_result",
          "data": {
            "application/vnd.google.colaboratory.intrinsic+json": {
              "type": "string"
            },
            "text/plain": [
              "\"\\ndef relative_strength_index(df, n):\\n    Calculate Relative Strength Index(RSI) for given data.\\n    :param df: pandas.DataFrame\\n    :param n:\\n    :return: pandas.DataFrame\\n    i = df.index[0]\\n    UpI = [0]\\n    DoI = [0]\\n    while i + 1 <= df.index[-1]:\\n        UpMove = float(df.loc[i + 1, 'high']) - float(df.loc[i, 'high'])\\n        DoMove = float(df.loc[i, 'low']) - float(df.loc[i + 1, 'low'])\\n        if UpMove > DoMove and UpMove > 0:\\n            UpD = UpMove\\n        else:\\n            UpD = 0\\n        UpI.append(UpD)\\n        if DoMove > UpMove and DoMove > 0:\\n            DoD = DoMove\\n        else:\\n            DoD = 0\\n        DoI.append(DoD)\\n        i = i + 1\\n    UpI = pd.Series(UpI)\\n\\n    DoI = pd.Series(DoI)\\n    PosDI = pd.Series(UpI.ewm(span=n, min_periods=n).mean())\\n    NegDI = pd.Series(DoI.ewm(span=n, min_periods=n).mean())\\n\\n    # rsi = pd.Series(PosDI / (PosDI + NegDI), name='RSI_' + str(n))\\n    rsi = pd.DataFrame(PosDI / (PosDI + NegDI), columns=['RSI_' + str(n)])\\n    rsi = rsi.set_index(df.index)\\n    df = df.join(rsi)\\n    return df\\n\""
            ]
          },
          "metadata": {
            "tags": []
          },
          "execution_count": 163
        }
      ]
    },
    {
      "cell_type": "code",
      "metadata": {
        "id": "SzBt7Xdobese",
        "outputId": "4f3ec68e-85e0-4d44-92a1-536b468b4888",
        "colab": {
          "base_uri": "https://localhost:8080/",
          "height": 340
        }
      },
      "source": [
        "#7. Signal\n",
        "def macd(df, n_fast, n_slow):\n",
        "    \"\"\"Calculate MACD, MACD Signal and MACD difference\n",
        "    :param df: pandas.DataFrame\n",
        "    :param n_fast:\n",
        "    :param n_slow:\n",
        "    :return: pandas.DataFrame\n",
        "    \"\"\"\n",
        "    EMAfast = pd.Series(df['<CLOSE>'].ewm(span=n_fast, min_periods=n_slow).mean())\n",
        "    EMAslow = pd.Series(df['<CLOSE>'].ewm(span=n_slow, min_periods=n_slow).mean())\n",
        "    MACD = pd.Series(EMAfast - EMAslow, name='MACD_' + str(n_fast) + '_' + str(n_slow))\n",
        "    MACDsign = pd.Series(MACD.ewm(span=9, min_periods=9).mean(), name='MACDsign_' + str(n_fast) + '_' + str(n_slow))\n",
        "    MACDdiff = pd.Series(MACD - MACDsign, name='MACDdiff_' + str(n_fast) + '_' + str(n_slow))\n",
        "    df = df.join(MACD)\n",
        "    df = df.join(MACDsign)\n",
        "    df = df.join(MACDdiff)\n",
        "    return df\n",
        "df_new = macd(df_new,12,26)\n",
        "df_new.head()"
      ],
      "execution_count": 164,
      "outputs": [
        {
          "output_type": "execute_result",
          "data": {
            "text/html": [
              "<div>\n",
              "<style scoped>\n",
              "    .dataframe tbody tr th:only-of-type {\n",
              "        vertical-align: middle;\n",
              "    }\n",
              "\n",
              "    .dataframe tbody tr th {\n",
              "        vertical-align: top;\n",
              "    }\n",
              "\n",
              "    .dataframe thead th {\n",
              "        text-align: right;\n",
              "    }\n",
              "</style>\n",
              "<table border=\"1\" class=\"dataframe\">\n",
              "  <thead>\n",
              "    <tr style=\"text-align: right;\">\n",
              "      <th></th>\n",
              "      <th>&lt;FIRST&gt;</th>\n",
              "      <th>&lt;HIGH&gt;</th>\n",
              "      <th>&lt;LOW&gt;</th>\n",
              "      <th>&lt;CLOSE&gt;</th>\n",
              "      <th>&lt;VALUE&gt;</th>\n",
              "      <th>&lt;VOL&gt;</th>\n",
              "      <th>change_in_price</th>\n",
              "      <th>MA_10</th>\n",
              "      <th>WMA_10</th>\n",
              "      <th>MOM_10</th>\n",
              "      <th>SO_k</th>\n",
              "      <th>SO_10</th>\n",
              "      <th>MACD_12_26</th>\n",
              "      <th>MACDsign_12_26</th>\n",
              "      <th>MACDdiff_12_26</th>\n",
              "    </tr>\n",
              "    <tr>\n",
              "      <th>datetime</th>\n",
              "      <th></th>\n",
              "      <th></th>\n",
              "      <th></th>\n",
              "      <th></th>\n",
              "      <th></th>\n",
              "      <th></th>\n",
              "      <th></th>\n",
              "      <th></th>\n",
              "      <th></th>\n",
              "      <th></th>\n",
              "      <th></th>\n",
              "      <th></th>\n",
              "      <th></th>\n",
              "      <th></th>\n",
              "      <th></th>\n",
              "    </tr>\n",
              "  </thead>\n",
              "  <tbody>\n",
              "    <tr>\n",
              "      <th>2001-05-01</th>\n",
              "      <td>5750.0</td>\n",
              "      <td>5750.0</td>\n",
              "      <td>5750.0</td>\n",
              "      <td>5750.0</td>\n",
              "      <td>575000</td>\n",
              "      <td>100</td>\n",
              "      <td>NaN</td>\n",
              "      <td>NaN</td>\n",
              "      <td>NaN</td>\n",
              "      <td>NaN</td>\n",
              "      <td>NaN</td>\n",
              "      <td>NaN</td>\n",
              "      <td>NaN</td>\n",
              "      <td>NaN</td>\n",
              "      <td>NaN</td>\n",
              "    </tr>\n",
              "    <tr>\n",
              "      <th>2001-05-06</th>\n",
              "      <td>5807.0</td>\n",
              "      <td>5807.0</td>\n",
              "      <td>5807.0</td>\n",
              "      <td>5807.0</td>\n",
              "      <td>9947391</td>\n",
              "      <td>1713</td>\n",
              "      <td>57.0</td>\n",
              "      <td>NaN</td>\n",
              "      <td>NaN</td>\n",
              "      <td>NaN</td>\n",
              "      <td>NaN</td>\n",
              "      <td>NaN</td>\n",
              "      <td>NaN</td>\n",
              "      <td>NaN</td>\n",
              "      <td>NaN</td>\n",
              "    </tr>\n",
              "    <tr>\n",
              "      <th>2001-05-12</th>\n",
              "      <td>5865.0</td>\n",
              "      <td>5865.0</td>\n",
              "      <td>5865.0</td>\n",
              "      <td>5865.0</td>\n",
              "      <td>2991150</td>\n",
              "      <td>510</td>\n",
              "      <td>58.0</td>\n",
              "      <td>NaN</td>\n",
              "      <td>NaN</td>\n",
              "      <td>NaN</td>\n",
              "      <td>NaN</td>\n",
              "      <td>NaN</td>\n",
              "      <td>NaN</td>\n",
              "      <td>NaN</td>\n",
              "      <td>NaN</td>\n",
              "    </tr>\n",
              "    <tr>\n",
              "      <th>2001-05-13</th>\n",
              "      <td>5923.0</td>\n",
              "      <td>5923.0</td>\n",
              "      <td>5923.0</td>\n",
              "      <td>5923.0</td>\n",
              "      <td>11846000</td>\n",
              "      <td>2000</td>\n",
              "      <td>58.0</td>\n",
              "      <td>NaN</td>\n",
              "      <td>NaN</td>\n",
              "      <td>NaN</td>\n",
              "      <td>NaN</td>\n",
              "      <td>NaN</td>\n",
              "      <td>NaN</td>\n",
              "      <td>NaN</td>\n",
              "      <td>NaN</td>\n",
              "    </tr>\n",
              "    <tr>\n",
              "      <th>2001-05-15</th>\n",
              "      <td>5982.0</td>\n",
              "      <td>5982.0</td>\n",
              "      <td>5982.0</td>\n",
              "      <td>5982.0</td>\n",
              "      <td>5982000</td>\n",
              "      <td>1000</td>\n",
              "      <td>59.0</td>\n",
              "      <td>NaN</td>\n",
              "      <td>NaN</td>\n",
              "      <td>NaN</td>\n",
              "      <td>NaN</td>\n",
              "      <td>NaN</td>\n",
              "      <td>NaN</td>\n",
              "      <td>NaN</td>\n",
              "      <td>NaN</td>\n",
              "    </tr>\n",
              "  </tbody>\n",
              "</table>\n",
              "</div>"
            ],
            "text/plain": [
              "            <FIRST>  <HIGH>   <LOW>  ...  MACD_12_26  MACDsign_12_26  MACDdiff_12_26\n",
              "datetime                             ...                                            \n",
              "2001-05-01   5750.0  5750.0  5750.0  ...         NaN             NaN             NaN\n",
              "2001-05-06   5807.0  5807.0  5807.0  ...         NaN             NaN             NaN\n",
              "2001-05-12   5865.0  5865.0  5865.0  ...         NaN             NaN             NaN\n",
              "2001-05-13   5923.0  5923.0  5923.0  ...         NaN             NaN             NaN\n",
              "2001-05-15   5982.0  5982.0  5982.0  ...         NaN             NaN             NaN\n",
              "\n",
              "[5 rows x 15 columns]"
            ]
          },
          "metadata": {
            "tags": []
          },
          "execution_count": 164
        }
      ]
    },
    {
      "cell_type": "code",
      "metadata": {
        "id": "cfobRA3dbesh"
      },
      "source": [
        "#8. Larry Williams R%\n",
        "#lEFT"
      ],
      "execution_count": 165,
      "outputs": []
    },
    {
      "cell_type": "code",
      "metadata": {
        "id": "tAAH6tYWbesm",
        "outputId": "e99d6abe-06e0-4fba-d207-f3ecec1358bb",
        "colab": {
          "base_uri": "https://localhost:8080/",
          "height": 374
        }
      },
      "source": [
        "#9. Accumulation / Distribution\n",
        "def accumulation_distribution(df, n):\n",
        "    \"\"\"Calculate Accumulation/Distribution for given data.\n",
        "    :param df: pandas.DataFrame\n",
        "    :param n:\n",
        "    :return: pandas.DataFrame\n",
        "    \"\"\"\n",
        "    ad = (2 * df['<CLOSE>'] - df['<HIGH>'] - df['<LOW>']) / (df['<HIGH>'] - df['<LOW>']) * df['<VOL>']\n",
        "    M = ad.diff(n - 1)\n",
        "    N = ad.shift(n - 1)\n",
        "    ROC = M / N\n",
        "    AD = pd.Series(ROC, name='Acc/Dist_ROC_' + str(n))\n",
        "    df = df.join(AD)\n",
        "    return df\n",
        "df_new = accumulation_distribution(df_new,10)\n",
        "df_new.tail()"
      ],
      "execution_count": 166,
      "outputs": [
        {
          "output_type": "stream",
          "text": [
            "/usr/local/lib/python3.6/dist-packages/pandas/core/algorithms.py:1977: RuntimeWarning: invalid value encountered in subtract\n",
            "  out_arr[res_indexer] = arr[res_indexer] - arr[lag_indexer]\n"
          ],
          "name": "stderr"
        },
        {
          "output_type": "execute_result",
          "data": {
            "text/html": [
              "<div>\n",
              "<style scoped>\n",
              "    .dataframe tbody tr th:only-of-type {\n",
              "        vertical-align: middle;\n",
              "    }\n",
              "\n",
              "    .dataframe tbody tr th {\n",
              "        vertical-align: top;\n",
              "    }\n",
              "\n",
              "    .dataframe thead th {\n",
              "        text-align: right;\n",
              "    }\n",
              "</style>\n",
              "<table border=\"1\" class=\"dataframe\">\n",
              "  <thead>\n",
              "    <tr style=\"text-align: right;\">\n",
              "      <th></th>\n",
              "      <th>&lt;FIRST&gt;</th>\n",
              "      <th>&lt;HIGH&gt;</th>\n",
              "      <th>&lt;LOW&gt;</th>\n",
              "      <th>&lt;CLOSE&gt;</th>\n",
              "      <th>&lt;VALUE&gt;</th>\n",
              "      <th>&lt;VOL&gt;</th>\n",
              "      <th>change_in_price</th>\n",
              "      <th>MA_10</th>\n",
              "      <th>WMA_10</th>\n",
              "      <th>MOM_10</th>\n",
              "      <th>SO_k</th>\n",
              "      <th>SO_10</th>\n",
              "      <th>MACD_12_26</th>\n",
              "      <th>MACDsign_12_26</th>\n",
              "      <th>MACDdiff_12_26</th>\n",
              "      <th>Acc/Dist_ROC_10</th>\n",
              "    </tr>\n",
              "    <tr>\n",
              "      <th>datetime</th>\n",
              "      <th></th>\n",
              "      <th></th>\n",
              "      <th></th>\n",
              "      <th></th>\n",
              "      <th></th>\n",
              "      <th></th>\n",
              "      <th></th>\n",
              "      <th></th>\n",
              "      <th></th>\n",
              "      <th></th>\n",
              "      <th></th>\n",
              "      <th></th>\n",
              "      <th></th>\n",
              "      <th></th>\n",
              "      <th></th>\n",
              "      <th></th>\n",
              "    </tr>\n",
              "  </thead>\n",
              "  <tbody>\n",
              "    <tr>\n",
              "      <th>2020-05-26</th>\n",
              "      <td>34051.0</td>\n",
              "      <td>35000.0</td>\n",
              "      <td>33429.0</td>\n",
              "      <td>33887.0</td>\n",
              "      <td>91075271139</td>\n",
              "      <td>2688840</td>\n",
              "      <td>-1301.0</td>\n",
              "      <td>35695.6</td>\n",
              "      <td>35967.692374</td>\n",
              "      <td>-4663.0</td>\n",
              "      <td>0.291534</td>\n",
              "      <td>0.419589</td>\n",
              "      <td>1266.534887</td>\n",
              "      <td>2158.477473</td>\n",
              "      <td>-891.942586</td>\n",
              "      <td>-0.899763</td>\n",
              "    </tr>\n",
              "    <tr>\n",
              "      <th>2020-05-27</th>\n",
              "      <td>32466.0</td>\n",
              "      <td>35565.0</td>\n",
              "      <td>32466.0</td>\n",
              "      <td>35051.0</td>\n",
              "      <td>188533230075</td>\n",
              "      <td>5378788</td>\n",
              "      <td>1164.0</td>\n",
              "      <td>35527.1</td>\n",
              "      <td>35801.021033</td>\n",
              "      <td>-1685.0</td>\n",
              "      <td>0.834140</td>\n",
              "      <td>0.495334</td>\n",
              "      <td>1094.286967</td>\n",
              "      <td>1945.639372</td>\n",
              "      <td>-851.352406</td>\n",
              "      <td>-1.441125</td>\n",
              "    </tr>\n",
              "    <tr>\n",
              "      <th>2020-05-30</th>\n",
              "      <td>36803.0</td>\n",
              "      <td>36803.0</td>\n",
              "      <td>36803.0</td>\n",
              "      <td>36803.0</td>\n",
              "      <td>112049162498</td>\n",
              "      <td>3044566</td>\n",
              "      <td>1752.0</td>\n",
              "      <td>35706.8</td>\n",
              "      <td>35983.199027</td>\n",
              "      <td>1797.0</td>\n",
              "      <td>NaN</td>\n",
              "      <td>0.495334</td>\n",
              "      <td>1086.625069</td>\n",
              "      <td>1773.836511</td>\n",
              "      <td>-687.211443</td>\n",
              "      <td>NaN</td>\n",
              "    </tr>\n",
              "    <tr>\n",
              "      <th>2020-05-31</th>\n",
              "      <td>38643.0</td>\n",
              "      <td>38643.0</td>\n",
              "      <td>36810.0</td>\n",
              "      <td>38615.0</td>\n",
              "      <td>771614696040</td>\n",
              "      <td>19982276</td>\n",
              "      <td>1812.0</td>\n",
              "      <td>36009.5</td>\n",
              "      <td>36461.708295</td>\n",
              "      <td>3027.0</td>\n",
              "      <td>0.984724</td>\n",
              "      <td>0.600269</td>\n",
              "      <td>1212.785974</td>\n",
              "      <td>1661.626404</td>\n",
              "      <td>-448.840430</td>\n",
              "      <td>-4.146097</td>\n",
              "    </tr>\n",
              "    <tr>\n",
              "      <th>2020-06-01</th>\n",
              "      <td>40490.0</td>\n",
              "      <td>40545.0</td>\n",
              "      <td>38700.0</td>\n",
              "      <td>40451.0</td>\n",
              "      <td>266346818518</td>\n",
              "      <td>6584463</td>\n",
              "      <td>1836.0</td>\n",
              "      <td>36637.2</td>\n",
              "      <td>37187.034059</td>\n",
              "      <td>6277.0</td>\n",
              "      <td>0.949051</td>\n",
              "      <td>0.672694</td>\n",
              "      <td>1444.270604</td>\n",
              "      <td>1618.155244</td>\n",
              "      <td>-173.884640</td>\n",
              "      <td>0.464400</td>\n",
              "    </tr>\n",
              "  </tbody>\n",
              "</table>\n",
              "</div>"
            ],
            "text/plain": [
              "            <FIRST>   <HIGH>  ...  MACDdiff_12_26  Acc/Dist_ROC_10\n",
              "datetime                      ...                                 \n",
              "2020-05-26  34051.0  35000.0  ...     -891.942586        -0.899763\n",
              "2020-05-27  32466.0  35565.0  ...     -851.352406        -1.441125\n",
              "2020-05-30  36803.0  36803.0  ...     -687.211443              NaN\n",
              "2020-05-31  38643.0  38643.0  ...     -448.840430        -4.146097\n",
              "2020-06-01  40490.0  40545.0  ...     -173.884640         0.464400\n",
              "\n",
              "[5 rows x 16 columns]"
            ]
          },
          "metadata": {
            "tags": []
          },
          "execution_count": 166
        }
      ]
    },
    {
      "cell_type": "code",
      "metadata": {
        "id": "XCFLfxtUbesq",
        "outputId": "41cdb7ce-5ac4-49fe-b915-e21d9e3a407e",
        "colab": {
          "base_uri": "https://localhost:8080/",
          "height": 340
        }
      },
      "source": [
        "#10. Commodity Channel Index\n",
        "def commodity_channel_index(df, n):\n",
        "    \"\"\"Calculate Commodity Channel Index for given data.\n",
        "    :param df: pandas.DataFrame\n",
        "    :param n:\n",
        "    :return: pandas.DataFrame\n",
        "    \"\"\"\n",
        "    PP = (df['<HIGH>'] + df['<LOW>'] + df['<CLOSE>']) / 3\n",
        "    CCI = pd.Series((PP - PP.rolling(n, min_periods=n).mean()) / PP.rolling(n, min_periods=n).std(),\n",
        "                    name='CCI_' + str(n))\n",
        "    df = df.join(CCI)\n",
        "    return df\n",
        "df_new = commodity_channel_index(df_new,10)\n",
        "df_new.tail()"
      ],
      "execution_count": 167,
      "outputs": [
        {
          "output_type": "execute_result",
          "data": {
            "text/html": [
              "<div>\n",
              "<style scoped>\n",
              "    .dataframe tbody tr th:only-of-type {\n",
              "        vertical-align: middle;\n",
              "    }\n",
              "\n",
              "    .dataframe tbody tr th {\n",
              "        vertical-align: top;\n",
              "    }\n",
              "\n",
              "    .dataframe thead th {\n",
              "        text-align: right;\n",
              "    }\n",
              "</style>\n",
              "<table border=\"1\" class=\"dataframe\">\n",
              "  <thead>\n",
              "    <tr style=\"text-align: right;\">\n",
              "      <th></th>\n",
              "      <th>&lt;FIRST&gt;</th>\n",
              "      <th>&lt;HIGH&gt;</th>\n",
              "      <th>&lt;LOW&gt;</th>\n",
              "      <th>&lt;CLOSE&gt;</th>\n",
              "      <th>&lt;VALUE&gt;</th>\n",
              "      <th>&lt;VOL&gt;</th>\n",
              "      <th>change_in_price</th>\n",
              "      <th>MA_10</th>\n",
              "      <th>WMA_10</th>\n",
              "      <th>MOM_10</th>\n",
              "      <th>SO_k</th>\n",
              "      <th>SO_10</th>\n",
              "      <th>MACD_12_26</th>\n",
              "      <th>MACDsign_12_26</th>\n",
              "      <th>MACDdiff_12_26</th>\n",
              "      <th>Acc/Dist_ROC_10</th>\n",
              "      <th>CCI_10</th>\n",
              "    </tr>\n",
              "    <tr>\n",
              "      <th>datetime</th>\n",
              "      <th></th>\n",
              "      <th></th>\n",
              "      <th></th>\n",
              "      <th></th>\n",
              "      <th></th>\n",
              "      <th></th>\n",
              "      <th></th>\n",
              "      <th></th>\n",
              "      <th></th>\n",
              "      <th></th>\n",
              "      <th></th>\n",
              "      <th></th>\n",
              "      <th></th>\n",
              "      <th></th>\n",
              "      <th></th>\n",
              "      <th></th>\n",
              "      <th></th>\n",
              "    </tr>\n",
              "  </thead>\n",
              "  <tbody>\n",
              "    <tr>\n",
              "      <th>2020-05-26</th>\n",
              "      <td>34051.0</td>\n",
              "      <td>35000.0</td>\n",
              "      <td>33429.0</td>\n",
              "      <td>33887.0</td>\n",
              "      <td>91075271139</td>\n",
              "      <td>2688840</td>\n",
              "      <td>-1301.0</td>\n",
              "      <td>35695.6</td>\n",
              "      <td>35967.692374</td>\n",
              "      <td>-4663.0</td>\n",
              "      <td>0.291534</td>\n",
              "      <td>0.419589</td>\n",
              "      <td>1266.534887</td>\n",
              "      <td>2158.477473</td>\n",
              "      <td>-891.942586</td>\n",
              "      <td>-0.899763</td>\n",
              "      <td>-1.379473</td>\n",
              "    </tr>\n",
              "    <tr>\n",
              "      <th>2020-05-27</th>\n",
              "      <td>32466.0</td>\n",
              "      <td>35565.0</td>\n",
              "      <td>32466.0</td>\n",
              "      <td>35051.0</td>\n",
              "      <td>188533230075</td>\n",
              "      <td>5378788</td>\n",
              "      <td>1164.0</td>\n",
              "      <td>35527.1</td>\n",
              "      <td>35801.021033</td>\n",
              "      <td>-1685.0</td>\n",
              "      <td>0.834140</td>\n",
              "      <td>0.495334</td>\n",
              "      <td>1094.286967</td>\n",
              "      <td>1945.639372</td>\n",
              "      <td>-851.352406</td>\n",
              "      <td>-1.441125</td>\n",
              "      <td>-0.962640</td>\n",
              "    </tr>\n",
              "    <tr>\n",
              "      <th>2020-05-30</th>\n",
              "      <td>36803.0</td>\n",
              "      <td>36803.0</td>\n",
              "      <td>36803.0</td>\n",
              "      <td>36803.0</td>\n",
              "      <td>112049162498</td>\n",
              "      <td>3044566</td>\n",
              "      <td>1752.0</td>\n",
              "      <td>35706.8</td>\n",
              "      <td>35983.199027</td>\n",
              "      <td>1797.0</td>\n",
              "      <td>NaN</td>\n",
              "      <td>0.495334</td>\n",
              "      <td>1086.625069</td>\n",
              "      <td>1773.836511</td>\n",
              "      <td>-687.211443</td>\n",
              "      <td>NaN</td>\n",
              "      <td>0.878543</td>\n",
              "    </tr>\n",
              "    <tr>\n",
              "      <th>2020-05-31</th>\n",
              "      <td>38643.0</td>\n",
              "      <td>38643.0</td>\n",
              "      <td>36810.0</td>\n",
              "      <td>38615.0</td>\n",
              "      <td>771614696040</td>\n",
              "      <td>19982276</td>\n",
              "      <td>1812.0</td>\n",
              "      <td>36009.5</td>\n",
              "      <td>36461.708295</td>\n",
              "      <td>3027.0</td>\n",
              "      <td>0.984724</td>\n",
              "      <td>0.600269</td>\n",
              "      <td>1212.785974</td>\n",
              "      <td>1661.626404</td>\n",
              "      <td>-448.840430</td>\n",
              "      <td>-4.146097</td>\n",
              "      <td>1.406626</td>\n",
              "    </tr>\n",
              "    <tr>\n",
              "      <th>2020-06-01</th>\n",
              "      <td>40490.0</td>\n",
              "      <td>40545.0</td>\n",
              "      <td>38700.0</td>\n",
              "      <td>40451.0</td>\n",
              "      <td>266346818518</td>\n",
              "      <td>6584463</td>\n",
              "      <td>1836.0</td>\n",
              "      <td>36637.2</td>\n",
              "      <td>37187.034059</td>\n",
              "      <td>6277.0</td>\n",
              "      <td>0.949051</td>\n",
              "      <td>0.672694</td>\n",
              "      <td>1444.270604</td>\n",
              "      <td>1618.155244</td>\n",
              "      <td>-173.884640</td>\n",
              "      <td>0.464400</td>\n",
              "      <td>1.838765</td>\n",
              "    </tr>\n",
              "  </tbody>\n",
              "</table>\n",
              "</div>"
            ],
            "text/plain": [
              "            <FIRST>   <HIGH>  ...  Acc/Dist_ROC_10    CCI_10\n",
              "datetime                      ...                           \n",
              "2020-05-26  34051.0  35000.0  ...        -0.899763 -1.379473\n",
              "2020-05-27  32466.0  35565.0  ...        -1.441125 -0.962640\n",
              "2020-05-30  36803.0  36803.0  ...              NaN  0.878543\n",
              "2020-05-31  38643.0  38643.0  ...        -4.146097  1.406626\n",
              "2020-06-01  40490.0  40545.0  ...         0.464400  1.838765\n",
              "\n",
              "[5 rows x 17 columns]"
            ]
          },
          "metadata": {
            "tags": []
          },
          "execution_count": 167
        }
      ]
    },
    {
      "cell_type": "code",
      "metadata": {
        "id": "HHQkL2Fybesu",
        "outputId": "289707bd-2244-49d0-9bf8-527d944b1254",
        "colab": {
          "base_uri": "https://localhost:8080/"
        }
      },
      "source": [
        "df_new.mean()"
      ],
      "execution_count": 168,
      "outputs": [
        {
          "output_type": "execute_result",
          "data": {
            "text/plain": [
              "<FIRST>            8.603098e+03\n",
              "<HIGH>             8.720517e+03\n",
              "<LOW>              8.469620e+03\n",
              "<CLOSE>            8.601823e+03\n",
              "<VALUE>            1.865224e+10\n",
              "<VOL>              2.024808e+06\n",
              "change_in_price    9.788717e+00\n",
              "MA_10              8.568869e+03\n",
              "WMA_10             8.568839e+03\n",
              "MOM_10             8.660436e+01\n",
              "SO_k                        NaN\n",
              "SO_10              4.549134e-01\n",
              "MACD_12_26         5.847584e+01\n",
              "MACDsign_12_26     5.717177e+01\n",
              "MACDdiff_12_26     2.158280e+00\n",
              "Acc/Dist_ROC_10             NaN\n",
              "CCI_10             5.258992e-02\n",
              "dtype: float64"
            ]
          },
          "metadata": {
            "tags": []
          },
          "execution_count": 168
        }
      ]
    },
    {
      "cell_type": "code",
      "metadata": {
        "id": "mSwQUUeKbesx",
        "outputId": "e6c02f60-4d95-4492-b203-5826406ee477",
        "colab": {
          "base_uri": "https://localhost:8080/"
        }
      },
      "source": [
        "df_new.min()"
      ],
      "execution_count": 169,
      "outputs": [
        {
          "output_type": "execute_result",
          "data": {
            "text/plain": [
              "<FIRST>            1.305000e+03\n",
              "<HIGH>             1.305000e+03\n",
              "<LOW>              1.305000e+03\n",
              "<CLOSE>            1.305000e+03\n",
              "<VALUE>            4.518000e+04\n",
              "<VOL>              1.000000e+01\n",
              "change_in_price   -7.981000e+03\n",
              "MA_10              1.346300e+03\n",
              "WMA_10             1.371534e+03\n",
              "MOM_10            -1.022100e+04\n",
              "SO_k                       -inf\n",
              "SO_10             -1.365027e+01\n",
              "MACD_12_26        -3.400683e+03\n",
              "MACDsign_12_26    -3.055329e+03\n",
              "MACDdiff_12_26    -1.081572e+03\n",
              "Acc/Dist_ROC_10            -inf\n",
              "CCI_10            -2.845202e+00\n",
              "dtype: float64"
            ]
          },
          "metadata": {
            "tags": []
          },
          "execution_count": 169
        }
      ]
    },
    {
      "cell_type": "code",
      "metadata": {
        "id": "mMVVklQPbes1",
        "outputId": "a11fa9a9-33d6-4ac1-ff42-defc107839aa",
        "colab": {
          "base_uri": "https://localhost:8080/"
        }
      },
      "source": [
        "df_new.max()"
      ],
      "execution_count": 170,
      "outputs": [
        {
          "output_type": "execute_result",
          "data": {
            "text/plain": [
              "<FIRST>            4.265000e+04\n",
              "<HIGH>             4.300000e+04\n",
              "<LOW>              4.066000e+04\n",
              "<CLOSE>            4.250400e+04\n",
              "<VALUE>            1.322401e+12\n",
              "<VOL>              4.071108e+07\n",
              "change_in_price    1.007700e+04\n",
              "MA_10              3.948840e+04\n",
              "WMA_10             3.844612e+04\n",
              "MOM_10             1.391100e+04\n",
              "SO_k                        inf\n",
              "SO_10              1.105947e+01\n",
              "MACD_12_26         4.900759e+03\n",
              "MACDsign_12_26     4.247434e+03\n",
              "MACDdiff_12_26     1.352562e+03\n",
              "Acc/Dist_ROC_10             inf\n",
              "CCI_10             2.811525e+00\n",
              "dtype: float64"
            ]
          },
          "metadata": {
            "tags": []
          },
          "execution_count": 170
        }
      ]
    },
    {
      "cell_type": "code",
      "metadata": {
        "id": "uNTpjP7Xbes4",
        "outputId": "abb79099-0e48-49e2-dd76-aba786fd7c10",
        "colab": {
          "base_uri": "https://localhost:8080/"
        }
      },
      "source": [
        "df_new.std()"
      ],
      "execution_count": 171,
      "outputs": [
        {
          "output_type": "execute_result",
          "data": {
            "text/plain": [
              "<FIRST>            6.669431e+03\n",
              "<HIGH>             6.763881e+03\n",
              "<LOW>              6.564485e+03\n",
              "<CLOSE>            6.682042e+03\n",
              "<VALUE>            5.608826e+10\n",
              "<VOL>              3.329542e+06\n",
              "change_in_price    4.226386e+02\n",
              "MA_10              6.583125e+03\n",
              "WMA_10             6.565135e+03\n",
              "MOM_10             1.604955e+03\n",
              "SO_k                        NaN\n",
              "SO_10              1.194016e+00\n",
              "MACD_12_26         6.114367e+02\n",
              "MACDsign_12_26     5.783136e+02\n",
              "MACDdiff_12_26     1.727040e+02\n",
              "Acc/Dist_ROC_10             NaN\n",
              "CCI_10             1.278361e+00\n",
              "dtype: float64"
            ]
          },
          "metadata": {
            "tags": []
          },
          "execution_count": 171
        }
      ]
    },
    {
      "cell_type": "markdown",
      "metadata": {
        "id": "vfZGT9zFbes9"
      },
      "source": [
        "## **Normalizing Data**"
      ]
    },
    {
      "cell_type": "code",
      "metadata": {
        "id": "8tYyjDyjbes-",
        "outputId": "794805d6-9009-4258-b941-44285624c538",
        "colab": {
          "base_uri": "https://localhost:8080/",
          "height": 340
        }
      },
      "source": [
        "data = (df_new - df_new.mean()) / (df_new.max() - df_new.min())\n",
        "data.tail()"
      ],
      "execution_count": 172,
      "outputs": [
        {
          "output_type": "execute_result",
          "data": {
            "text/html": [
              "<div>\n",
              "<style scoped>\n",
              "    .dataframe tbody tr th:only-of-type {\n",
              "        vertical-align: middle;\n",
              "    }\n",
              "\n",
              "    .dataframe tbody tr th {\n",
              "        vertical-align: top;\n",
              "    }\n",
              "\n",
              "    .dataframe thead th {\n",
              "        text-align: right;\n",
              "    }\n",
              "</style>\n",
              "<table border=\"1\" class=\"dataframe\">\n",
              "  <thead>\n",
              "    <tr style=\"text-align: right;\">\n",
              "      <th></th>\n",
              "      <th>&lt;FIRST&gt;</th>\n",
              "      <th>&lt;HIGH&gt;</th>\n",
              "      <th>&lt;LOW&gt;</th>\n",
              "      <th>&lt;CLOSE&gt;</th>\n",
              "      <th>&lt;VALUE&gt;</th>\n",
              "      <th>&lt;VOL&gt;</th>\n",
              "      <th>change_in_price</th>\n",
              "      <th>MA_10</th>\n",
              "      <th>WMA_10</th>\n",
              "      <th>MOM_10</th>\n",
              "      <th>SO_k</th>\n",
              "      <th>SO_10</th>\n",
              "      <th>MACD_12_26</th>\n",
              "      <th>MACDsign_12_26</th>\n",
              "      <th>MACDdiff_12_26</th>\n",
              "      <th>Acc/Dist_ROC_10</th>\n",
              "      <th>CCI_10</th>\n",
              "    </tr>\n",
              "    <tr>\n",
              "      <th>datetime</th>\n",
              "      <th></th>\n",
              "      <th></th>\n",
              "      <th></th>\n",
              "      <th></th>\n",
              "      <th></th>\n",
              "      <th></th>\n",
              "      <th></th>\n",
              "      <th></th>\n",
              "      <th></th>\n",
              "      <th></th>\n",
              "      <th></th>\n",
              "      <th></th>\n",
              "      <th></th>\n",
              "      <th></th>\n",
              "      <th></th>\n",
              "      <th></th>\n",
              "      <th></th>\n",
              "    </tr>\n",
              "  </thead>\n",
              "  <tbody>\n",
              "    <tr>\n",
              "      <th>2020-05-26</th>\n",
              "      <td>0.615501</td>\n",
              "      <td>0.630279</td>\n",
              "      <td>0.634211</td>\n",
              "      <td>0.613733</td>\n",
              "      <td>0.054766</td>\n",
              "      <td>0.016311</td>\n",
              "      <td>-0.072588</td>\n",
              "      <td>0.711202</td>\n",
              "      <td>0.739020</td>\n",
              "      <td>-0.196818</td>\n",
              "      <td>NaN</td>\n",
              "      <td>-0.001430</td>\n",
              "      <td>0.145524</td>\n",
              "      <td>0.287741</td>\n",
              "      <td>-0.367318</td>\n",
              "      <td>NaN</td>\n",
              "      <td>-0.253161</td>\n",
              "    </tr>\n",
              "    <tr>\n",
              "      <th>2020-05-27</th>\n",
              "      <td>0.577165</td>\n",
              "      <td>0.643830</td>\n",
              "      <td>0.609742</td>\n",
              "      <td>0.641986</td>\n",
              "      <td>0.128464</td>\n",
              "      <td>0.082385</td>\n",
              "      <td>0.063917</td>\n",
              "      <td>0.706784</td>\n",
              "      <td>0.734524</td>\n",
              "      <td>-0.073413</td>\n",
              "      <td>NaN</td>\n",
              "      <td>0.001636</td>\n",
              "      <td>0.124775</td>\n",
              "      <td>0.258596</td>\n",
              "      <td>-0.350642</td>\n",
              "      <td>NaN</td>\n",
              "      <td>-0.179473</td>\n",
              "    </tr>\n",
              "    <tr>\n",
              "      <th>2020-05-30</th>\n",
              "      <td>0.682063</td>\n",
              "      <td>0.673522</td>\n",
              "      <td>0.719944</td>\n",
              "      <td>0.684511</td>\n",
              "      <td>0.070627</td>\n",
              "      <td>0.025049</td>\n",
              "      <td>0.096479</td>\n",
              "      <td>0.711495</td>\n",
              "      <td>0.739438</td>\n",
              "      <td>0.070877</td>\n",
              "      <td>NaN</td>\n",
              "      <td>0.001636</td>\n",
              "      <td>0.123852</td>\n",
              "      <td>0.235071</td>\n",
              "      <td>-0.283209</td>\n",
              "      <td>NaN</td>\n",
              "      <td>0.146013</td>\n",
              "    </tr>\n",
              "    <tr>\n",
              "      <th>2020-05-31</th>\n",
              "      <td>0.726567</td>\n",
              "      <td>0.717652</td>\n",
              "      <td>0.720121</td>\n",
              "      <td>0.728493</td>\n",
              "      <td>0.569390</td>\n",
              "      <td>0.441096</td>\n",
              "      <td>0.099801</td>\n",
              "      <td>0.719432</td>\n",
              "      <td>0.752345</td>\n",
              "      <td>0.121846</td>\n",
              "      <td>NaN</td>\n",
              "      <td>0.005883</td>\n",
              "      <td>0.139049</td>\n",
              "      <td>0.219705</td>\n",
              "      <td>-0.185281</td>\n",
              "      <td>NaN</td>\n",
              "      <td>0.239367</td>\n",
              "    </tr>\n",
              "    <tr>\n",
              "      <th>2020-06-01</th>\n",
              "      <td>0.771240</td>\n",
              "      <td>0.763269</td>\n",
              "      <td>0.768146</td>\n",
              "      <td>0.773057</td>\n",
              "      <td>0.187307</td>\n",
              "      <td>0.112000</td>\n",
              "      <td>0.101130</td>\n",
              "      <td>0.735888</td>\n",
              "      <td>0.771909</td>\n",
              "      <td>0.256522</td>\n",
              "      <td>NaN</td>\n",
              "      <td>0.008814</td>\n",
              "      <td>0.166934</td>\n",
              "      <td>0.213752</td>\n",
              "      <td>-0.072323</td>\n",
              "      <td>NaN</td>\n",
              "      <td>0.315761</td>\n",
              "    </tr>\n",
              "  </tbody>\n",
              "</table>\n",
              "</div>"
            ],
            "text/plain": [
              "             <FIRST>    <HIGH>  ...  Acc/Dist_ROC_10    CCI_10\n",
              "datetime                        ...                           \n",
              "2020-05-26  0.615501  0.630279  ...              NaN -0.253161\n",
              "2020-05-27  0.577165  0.643830  ...              NaN -0.179473\n",
              "2020-05-30  0.682063  0.673522  ...              NaN  0.146013\n",
              "2020-05-31  0.726567  0.717652  ...              NaN  0.239367\n",
              "2020-06-01  0.771240  0.763269  ...              NaN  0.315761\n",
              "\n",
              "[5 rows x 17 columns]"
            ]
          },
          "metadata": {
            "tags": []
          },
          "execution_count": 172
        }
      ]
    },
    {
      "cell_type": "code",
      "metadata": {
        "id": "YcwrDXOzbetB",
        "outputId": "abfa5929-891c-4daa-e794-2e019f6e0e48",
        "colab": {
          "base_uri": "https://localhost:8080/",
          "height": 554
        }
      },
      "source": [
        "import seaborn as sns\n",
        "plt.figure(1 , figsize = (17 , 8))\n",
        "cor = sns.heatmap(data.corr(), annot = True)"
      ],
      "execution_count": 173,
      "outputs": [
        {
          "output_type": "display_data",
          "data": {
            "image/png": "[encoded data removed]",
            "text/plain": [
              "<Figure size 1224x576 with 2 Axes>"
            ]
          },
          "metadata": {
            "tags": [],
            "needs_background": "light"
          }
        }
      ]
    },
    {
      "cell_type": "code",
      "metadata": {
        "id": "Nw7aDwgebetG",
        "outputId": "d65c3764-d64a-4982-afd6-5ee338784081",
        "colab": {
          "base_uri": "https://localhost:8080/"
        }
      },
      "source": [
        "#To check null values\n",
        "data.isnull().sum()"
      ],
      "execution_count": 174,
      "outputs": [
        {
          "output_type": "execute_result",
          "data": {
            "text/plain": [
              "<FIRST>               0\n",
              "<HIGH>                0\n",
              "<LOW>                 0\n",
              "<CLOSE>               0\n",
              "<VALUE>               0\n",
              "<VOL>                 0\n",
              "change_in_price       1\n",
              "MA_10                 9\n",
              "WMA_10                9\n",
              "MOM_10               10\n",
              "SO_k               3546\n",
              "SO_10                37\n",
              "MACD_12_26           25\n",
              "MACDsign_12_26       33\n",
              "MACDdiff_12_26       33\n",
              "Acc/Dist_ROC_10    3546\n",
              "CCI_10                9\n",
              "dtype: int64"
            ]
          },
          "metadata": {
            "tags": []
          },
          "execution_count": 174
        }
      ]
    },
    {
      "cell_type": "code",
      "metadata": {
        "id": "QN8FItuAbetJ"
      },
      "source": [
        "#Removing the null values\n",
        "data = data.fillna(data.mean())"
      ],
      "execution_count": 175,
      "outputs": []
    },
    {
      "cell_type": "code",
      "metadata": {
        "id": "shbMSgnWbetN"
      },
      "source": [
        "data = data.dropna(how=\"all\",axis=1)"
      ],
      "execution_count": 176,
      "outputs": []
    },
    {
      "cell_type": "code",
      "metadata": {
        "id": "hKHZhcd8betR",
        "outputId": "ac99badd-aa0f-4fa9-d081-27d9c2232e51",
        "colab": {
          "base_uri": "https://localhost:8080/",
          "height": 235
        }
      },
      "source": [
        "##Defining the features and labels\n",
        "X = data.iloc[:,7:]\n",
        "X.tail()"
      ],
      "execution_count": 177,
      "outputs": [
        {
          "output_type": "execute_result",
          "data": {
            "text/html": [
              "<div>\n",
              "<style scoped>\n",
              "    .dataframe tbody tr th:only-of-type {\n",
              "        vertical-align: middle;\n",
              "    }\n",
              "\n",
              "    .dataframe tbody tr th {\n",
              "        vertical-align: top;\n",
              "    }\n",
              "\n",
              "    .dataframe thead th {\n",
              "        text-align: right;\n",
              "    }\n",
              "</style>\n",
              "<table border=\"1\" class=\"dataframe\">\n",
              "  <thead>\n",
              "    <tr style=\"text-align: right;\">\n",
              "      <th></th>\n",
              "      <th>MA_10</th>\n",
              "      <th>WMA_10</th>\n",
              "      <th>MOM_10</th>\n",
              "      <th>SO_10</th>\n",
              "      <th>MACD_12_26</th>\n",
              "      <th>MACDsign_12_26</th>\n",
              "      <th>MACDdiff_12_26</th>\n",
              "      <th>CCI_10</th>\n",
              "    </tr>\n",
              "    <tr>\n",
              "      <th>datetime</th>\n",
              "      <th></th>\n",
              "      <th></th>\n",
              "      <th></th>\n",
              "      <th></th>\n",
              "      <th></th>\n",
              "      <th></th>\n",
              "      <th></th>\n",
              "      <th></th>\n",
              "    </tr>\n",
              "  </thead>\n",
              "  <tbody>\n",
              "    <tr>\n",
              "      <th>2020-05-26</th>\n",
              "      <td>0.711202</td>\n",
              "      <td>0.739020</td>\n",
              "      <td>-0.196818</td>\n",
              "      <td>-0.001430</td>\n",
              "      <td>0.145524</td>\n",
              "      <td>0.287741</td>\n",
              "      <td>-0.367318</td>\n",
              "      <td>-0.253161</td>\n",
              "    </tr>\n",
              "    <tr>\n",
              "      <th>2020-05-27</th>\n",
              "      <td>0.706784</td>\n",
              "      <td>0.734524</td>\n",
              "      <td>-0.073413</td>\n",
              "      <td>0.001636</td>\n",
              "      <td>0.124775</td>\n",
              "      <td>0.258596</td>\n",
              "      <td>-0.350642</td>\n",
              "      <td>-0.179473</td>\n",
              "    </tr>\n",
              "    <tr>\n",
              "      <th>2020-05-30</th>\n",
              "      <td>0.711495</td>\n",
              "      <td>0.739438</td>\n",
              "      <td>0.070877</td>\n",
              "      <td>0.001636</td>\n",
              "      <td>0.123852</td>\n",
              "      <td>0.235071</td>\n",
              "      <td>-0.283209</td>\n",
              "      <td>0.146013</td>\n",
              "    </tr>\n",
              "    <tr>\n",
              "      <th>2020-05-31</th>\n",
              "      <td>0.719432</td>\n",
              "      <td>0.752345</td>\n",
              "      <td>0.121846</td>\n",
              "      <td>0.005883</td>\n",
              "      <td>0.139049</td>\n",
              "      <td>0.219705</td>\n",
              "      <td>-0.185281</td>\n",
              "      <td>0.239367</td>\n",
              "    </tr>\n",
              "    <tr>\n",
              "      <th>2020-06-01</th>\n",
              "      <td>0.735888</td>\n",
              "      <td>0.771909</td>\n",
              "      <td>0.256522</td>\n",
              "      <td>0.008814</td>\n",
              "      <td>0.166934</td>\n",
              "      <td>0.213752</td>\n",
              "      <td>-0.072323</td>\n",
              "      <td>0.315761</td>\n",
              "    </tr>\n",
              "  </tbody>\n",
              "</table>\n",
              "</div>"
            ],
            "text/plain": [
              "               MA_10    WMA_10  ...  MACDdiff_12_26    CCI_10\n",
              "datetime                        ...                          \n",
              "2020-05-26  0.711202  0.739020  ...       -0.367318 -0.253161\n",
              "2020-05-27  0.706784  0.734524  ...       -0.350642 -0.179473\n",
              "2020-05-30  0.711495  0.739438  ...       -0.283209  0.146013\n",
              "2020-05-31  0.719432  0.752345  ...       -0.185281  0.239367\n",
              "2020-06-01  0.735888  0.771909  ...       -0.072323  0.315761\n",
              "\n",
              "[5 rows x 8 columns]"
            ]
          },
          "metadata": {
            "tags": []
          },
          "execution_count": 177
        }
      ]
    },
    {
      "cell_type": "code",
      "metadata": {
        "id": "-RGklbtnbetV",
        "outputId": "160e6332-822f-4798-abd3-309acd3669af",
        "colab": {
          "base_uri": "https://localhost:8080/"
        }
      },
      "source": [
        "Y = data.iloc[:,3]\n",
        "Y.tail()"
      ],
      "execution_count": 178,
      "outputs": [
        {
          "output_type": "execute_result",
          "data": {
            "text/plain": [
              "datetime\n",
              "2020-05-26    0.613733\n",
              "2020-05-27    0.641986\n",
              "2020-05-30    0.684511\n",
              "2020-05-31    0.728493\n",
              "2020-06-01    0.773057\n",
              "Name: <CLOSE>, dtype: float64"
            ]
          },
          "metadata": {
            "tags": []
          },
          "execution_count": 178
        }
      ]
    },
    {
      "cell_type": "code",
      "metadata": {
        "id": "1Tn80CwmbetX",
        "outputId": "a6de4079-0048-4d81-b115-ca359e7629b7",
        "colab": {
          "base_uri": "https://localhost:8080/"
        }
      },
      "source": [
        "X.isnull().sum()"
      ],
      "execution_count": 179,
      "outputs": [
        {
          "output_type": "execute_result",
          "data": {
            "text/plain": [
              "MA_10             0\n",
              "WMA_10            0\n",
              "MOM_10            0\n",
              "SO_10             0\n",
              "MACD_12_26        0\n",
              "MACDsign_12_26    0\n",
              "MACDdiff_12_26    0\n",
              "CCI_10            0\n",
              "dtype: int64"
            ]
          },
          "metadata": {
            "tags": []
          },
          "execution_count": 179
        }
      ]
    },
    {
      "cell_type": "markdown",
      "metadata": {
        "id": "IRkULxA7sCFy"
      },
      "source": [
        "## Visualising the technical indicators i.e. our features"
      ]
    },
    {
      "cell_type": "code",
      "metadata": {
        "id": "0UP3raQjr7Ty",
        "outputId": "7fc1ae94-6883-4bcd-a8e4-e8a5a9237ab9",
        "colab": {
          "base_uri": "https://localhost:8080/",
          "height": 885
        }
      },
      "source": [
        "X.hist(bins=50,figsize=(20,15))"
      ],
      "execution_count": 180,
      "outputs": [
        {
          "output_type": "execute_result",
          "data": {
            "text/plain": [
              "array([[<matplotlib.axes._subplots.AxesSubplot object at 0x7f972e6a4e48>,\n",
              "        <matplotlib.axes._subplots.AxesSubplot object at 0x7f972e3a2ef0>,\n",
              "        <matplotlib.axes._subplots.AxesSubplot object at 0x7f972e3891d0>],\n",
              "       [<matplotlib.axes._subplots.AxesSubplot object at 0x7f972e33a550>,\n",
              "        <matplotlib.axes._subplots.AxesSubplot object at 0x7f972e2eb8d0>,\n",
              "        <matplotlib.axes._subplots.AxesSubplot object at 0x7f972e29ec50>],\n",
              "       [<matplotlib.axes._subplots.AxesSubplot object at 0x7f972e2d1fd0>,\n",
              "        <matplotlib.axes._subplots.AxesSubplot object at 0x7f972e28e358>,\n",
              "        <matplotlib.axes._subplots.AxesSubplot object at 0x7f972e28e3c8>]],\n",
              "      dtype=object)"
            ]
          },
          "metadata": {
            "tags": []
          },
          "execution_count": 180
        },
        {
          "output_type": "display_data",
          "data": {
            "image/png": "[encoded data removed]",
            "text/plain": [
              "<Figure size 1440x1080 with 9 Axes>"
            ]
          },
          "metadata": {
            "tags": [],
            "needs_background": "light"
          }
        }
      ]
    },
    {
      "cell_type": "code",
      "metadata": {
        "id": "QjK-zRQgbeta"
      },
      "source": [
        "#Splitting data into training and test set\n",
        "from sklearn.model_selection import train_test_split\n",
        "x_train,x_test,y_train,y_test = train_test_split(X,Y,test_size = 0.1,random_state = 0)"
      ],
      "execution_count": 181,
      "outputs": []
    },
    {
      "cell_type": "markdown",
      "metadata": {
        "id": "bdSjkPr_betc"
      },
      "source": [
        "# Predicting using Decision Trees"
      ]
    },
    {
      "cell_type": "code",
      "metadata": {
        "id": "7RX-ujiabetd",
        "outputId": "791e09d7-e24c-486a-b9a5-800a1a5105f1",
        "colab": {
          "base_uri": "https://localhost:8080/"
        }
      },
      "source": [
        "#Decision Tree\n",
        "from sklearn.tree import DecisionTreeRegressor\n",
        "Regressor = DecisionTreeRegressor(max_depth=10)\n",
        "Regressor.fit(x_train,y_train)"
      ],
      "execution_count": 182,
      "outputs": [
        {
          "output_type": "execute_result",
          "data": {
            "text/plain": [
              "DecisionTreeRegressor(ccp_alpha=0.0, criterion='mse', max_depth=10,\n",
              "                      max_features=None, max_leaf_nodes=None,\n",
              "                      min_impurity_decrease=0.0, min_impurity_split=None,\n",
              "                      min_samples_leaf=1, min_samples_split=2,\n",
              "                      min_weight_fraction_leaf=0.0, presort='deprecated',\n",
              "                      random_state=None, splitter='best')"
            ]
          },
          "metadata": {
            "tags": []
          },
          "execution_count": 182
        }
      ]
    },
    {
      "cell_type": "markdown",
      "metadata": {
        "id": "tmAA0_rPbetl"
      },
      "source": [
        "## Evaluating the Model"
      ]
    },
    {
      "cell_type": "code",
      "metadata": {
        "id": "pCwX7Hwpbetm",
        "outputId": "397db4a1-acc9-45a4-e82a-f9dfcdd7c097",
        "colab": {
          "base_uri": "https://localhost:8080/"
        }
      },
      "source": [
        "y_pred = Regressor.predict(x_test)\n",
        "from sklearn.metrics import r2_score,mean_squared_error\n",
        "mse = mean_squared_error(y_test,y_pred)\n",
        "rmse = np.sqrt(mse)\n",
        "rmse"
      ],
      "execution_count": 183,
      "outputs": [
        {
          "output_type": "execute_result",
          "data": {
            "text/plain": [
              "0.011988600566549882"
            ]
          },
          "metadata": {
            "tags": []
          },
          "execution_count": 183
        }
      ]
    },
    {
      "cell_type": "markdown",
      "metadata": {
        "id": "CiWT_doibeto"
      },
      "source": [
        "# Using Bagging Regressor"
      ]
    },
    {
      "cell_type": "code",
      "metadata": {
        "id": "6KWr75vGbetp"
      },
      "source": [
        "#import necessary libraries\n",
        "from sklearn.ensemble import BaggingRegressor"
      ],
      "execution_count": 184,
      "outputs": []
    },
    {
      "cell_type": "code",
      "metadata": {
        "id": "6m5OsIUsbetr",
        "outputId": "5d81a699-2ff0-494d-abd8-8fbe2f3ab411",
        "colab": {
          "base_uri": "https://localhost:8080/"
        }
      },
      "source": [
        "regr = BaggingRegressor(base_estimator=Regressor,\n",
        "n_estimators=50, random_state=0)\n",
        "regr.fit(x_train,y_train)\n",
        "    "
      ],
      "execution_count": 185,
      "outputs": [
        {
          "output_type": "execute_result",
          "data": {
            "text/plain": [
              "BaggingRegressor(base_estimator=DecisionTreeRegressor(ccp_alpha=0.0,\n",
              "                                                      criterion='mse',\n",
              "                                                      max_depth=10,\n",
              "                                                      max_features=None,\n",
              "                                                      max_leaf_nodes=None,\n",
              "                                                      min_impurity_decrease=0.0,\n",
              "                                                      min_impurity_split=None,\n",
              "                                                      min_samples_leaf=1,\n",
              "                                                      min_samples_split=2,\n",
              "                                                      min_weight_fraction_leaf=0.0,\n",
              "                                                      presort='deprecated',\n",
              "                                                      random_state=None,\n",
              "                                                      splitter='best'),\n",
              "                 bootstrap=True, bootstrap_features=False, max_features=1.0,\n",
              "                 max_samples=1.0, n_estimators=50, n_jobs=None, oob_score=False,\n",
              "                 random_state=0, verbose=0, warm_start=False)"
            ]
          },
          "metadata": {
            "tags": []
          },
          "execution_count": 185
        }
      ]
    },
    {
      "cell_type": "markdown",
      "metadata": {
        "id": "KvdNXLTXbetw"
      },
      "source": [
        "## Evaluating Bagging Regressor"
      ]
    },
    {
      "cell_type": "code",
      "metadata": {
        "id": "Af_3vxHkbetx"
      },
      "source": [
        "y_pred_br = regr.predict(x_test)"
      ],
      "execution_count": 186,
      "outputs": []
    },
    {
      "cell_type": "code",
      "metadata": {
        "id": "PXoR2Bxpbetz",
        "outputId": "b88facd6-f4d5-4a3e-cb46-d174da7a6a30",
        "colab": {
          "base_uri": "https://localhost:8080/"
        }
      },
      "source": [
        "from sklearn.metrics import r2_score,mean_squared_error\n",
        "mse = mean_squared_error(y_test,y_pred_br)\n",
        "rmse = np.sqrt(mse)\n",
        "rmse"
      ],
      "execution_count": 187,
      "outputs": [
        {
          "output_type": "execute_result",
          "data": {
            "text/plain": [
              "0.0064264886201641615"
            ]
          },
          "metadata": {
            "tags": []
          },
          "execution_count": 187
        }
      ]
    },
    {
      "cell_type": "markdown",
      "metadata": {
        "id": "phoe90D7bet1"
      },
      "source": [
        "# Using Random Forest"
      ]
    },
    {
      "cell_type": "code",
      "metadata": {
        "id": "cM6Op45nbet2",
        "outputId": "4b0b576c-50d9-4f87-8592-40617008f202",
        "colab": {
          "base_uri": "https://localhost:8080/"
        }
      },
      "source": [
        "#importing the libraries\n",
        "from sklearn.ensemble import RandomForestRegressor\n",
        "rf = RandomForestRegressor(n_estimators=50,max_depth=10,random_state=1)\n",
        "rf.fit(x_train,y_train)"
      ],
      "execution_count": 188,
      "outputs": [
        {
          "output_type": "execute_result",
          "data": {
            "text/plain": [
              "RandomForestRegressor(bootstrap=True, ccp_alpha=0.0, criterion='mse',\n",
              "                      max_depth=10, max_features='auto', max_leaf_nodes=None,\n",
              "                      max_samples=None, min_impurity_decrease=0.0,\n",
              "                      min_impurity_split=None, min_samples_leaf=1,\n",
              "                      min_samples_split=2, min_weight_fraction_leaf=0.0,\n",
              "                      n_estimators=50, n_jobs=None, oob_score=False,\n",
              "                      random_state=1, verbose=0, warm_start=False)"
            ]
          },
          "metadata": {
            "tags": []
          },
          "execution_count": 188
        }
      ]
    },
    {
      "cell_type": "markdown",
      "metadata": {
        "id": "j4GVbyhAbet9"
      },
      "source": [
        "## Evaluating Random Forest"
      ]
    },
    {
      "cell_type": "code",
      "metadata": {
        "id": "Rp1ihgYjbet-"
      },
      "source": [
        "y_pred_rf = rf.predict(x_test)\n"
      ],
      "execution_count": 189,
      "outputs": []
    },
    {
      "cell_type": "code",
      "metadata": {
        "id": "J6mI-BUbbeuA",
        "outputId": "053736f0-2381-4ef2-db2e-85010e28a498",
        "colab": {
          "base_uri": "https://localhost:8080/"
        }
      },
      "source": [
        "from sklearn.metrics import r2_score,mean_squared_error\n",
        "mse = mean_squared_error(y_test,y_pred_rf)\n",
        "rmse = np.sqrt(mse)\n",
        "rmse"
      ],
      "execution_count": 190,
      "outputs": [
        {
          "output_type": "execute_result",
          "data": {
            "text/plain": [
              "0.006255250212291718"
            ]
          },
          "metadata": {
            "tags": []
          },
          "execution_count": 190
        }
      ]
    },
    {
      "cell_type": "markdown",
      "metadata": {
        "id": "6e1uCe8lbeuD"
      },
      "source": [
        " ## Using AdaBoost Regressor"
      ]
    },
    {
      "cell_type": "code",
      "metadata": {
        "id": "uX6q6_kGbeuD",
        "outputId": "adadf3f1-76a9-4377-f47a-5e7d39ebc6cf",
        "colab": {
          "base_uri": "https://localhost:8080/"
        }
      },
      "source": [
        "#importing necessary libraries\n",
        "from sklearn.ensemble import AdaBoostRegressor\n",
        "adb_reg = AdaBoostRegressor(base_estimator=Regressor,n_estimators=100,learning_rate=0.1)\n",
        "adb_reg.fit(x_train,y_train)\n",
        "\n"
      ],
      "execution_count": 191,
      "outputs": [
        {
          "output_type": "execute_result",
          "data": {
            "text/plain": [
              "AdaBoostRegressor(base_estimator=DecisionTreeRegressor(ccp_alpha=0.0,\n",
              "                                                       criterion='mse',\n",
              "                                                       max_depth=10,\n",
              "                                                       max_features=None,\n",
              "                                                       max_leaf_nodes=None,\n",
              "                                                       min_impurity_decrease=0.0,\n",
              "                                                       min_impurity_split=None,\n",
              "                                                       min_samples_leaf=1,\n",
              "                                                       min_samples_split=2,\n",
              "                                                       min_weight_fraction_leaf=0.0,\n",
              "                                                       presort='deprecated',\n",
              "                                                       random_state=None,\n",
              "                                                       splitter='best'),\n",
              "                  learning_rate=0.1, loss='linear', n_estimators=100,\n",
              "                  random_state=None)"
            ]
          },
          "metadata": {
            "tags": []
          },
          "execution_count": 191
        }
      ]
    },
    {
      "cell_type": "markdown",
      "metadata": {
        "id": "pTiNntHcbeuH"
      },
      "source": [
        "## Evaluating AdaBoost Regressor"
      ]
    },
    {
      "cell_type": "code",
      "metadata": {
        "id": "pGnz1YOibeuI",
        "outputId": "34f87e20-b1b6-464f-e557-015e3645ab1e",
        "colab": {
          "base_uri": "https://localhost:8080/"
        }
      },
      "source": [
        "y_pred_adb = adb_reg.predict(x_test)\n",
        "from sklearn.metrics import r2_score,mean_squared_error\n",
        "mse = mean_squared_error(y_test,y_pred_adb)\n",
        "rmse = np.sqrt(mse)\n",
        "rmse"
      ],
      "execution_count": 192,
      "outputs": [
        {
          "output_type": "execute_result",
          "data": {
            "text/plain": [
              "0.007392483396593848"
            ]
          },
          "metadata": {
            "tags": []
          },
          "execution_count": 192
        }
      ]
    },
    {
      "cell_type": "markdown",
      "metadata": {
        "id": "8Q-98ibGbeuJ"
      },
      "source": [
        "## Using Gradient Boosting"
      ]
    },
    {
      "cell_type": "code",
      "metadata": {
        "id": "4StZOXBBbeuK",
        "outputId": "acebccda-85c7-4836-94d1-3c52f0b6b742",
        "colab": {
          "base_uri": "https://localhost:8080/"
        }
      },
      "source": [
        "#importing necessary libraries\n",
        "from sklearn.ensemble import GradientBoostingRegressor\n",
        "gdbt = GradientBoostingRegressor(max_depth=10,learning_rate=0.1,n_estimators=50,random_state=1)\n",
        "gdbt.fit(x_train,y_train)"
      ],
      "execution_count": 193,
      "outputs": [
        {
          "output_type": "execute_result",
          "data": {
            "text/plain": [
              "GradientBoostingRegressor(alpha=0.9, ccp_alpha=0.0, criterion='friedman_mse',\n",
              "                          init=None, learning_rate=0.1, loss='ls', max_depth=10,\n",
              "                          max_features=None, max_leaf_nodes=None,\n",
              "                          min_impurity_decrease=0.0, min_impurity_split=None,\n",
              "                          min_samples_leaf=1, min_samples_split=2,\n",
              "                          min_weight_fraction_leaf=0.0, n_estimators=50,\n",
              "                          n_iter_no_change=None, presort='deprecated',\n",
              "                          random_state=1, subsample=1.0, tol=0.0001,\n",
              "                          validation_fraction=0.1, verbose=0, warm_start=False)"
            ]
          },
          "metadata": {
            "tags": []
          },
          "execution_count": 193
        }
      ]
    },
    {
      "cell_type": "markdown",
      "metadata": {
        "id": "fhjqy5udbeuP"
      },
      "source": [
        "## Evaluating gradient boosting"
      ]
    },
    {
      "cell_type": "code",
      "metadata": {
        "id": "CpcZr0-EbeuQ",
        "outputId": "86c2ed8b-fc00-4dee-c981-5a9cf3a66038",
        "colab": {
          "base_uri": "https://localhost:8080/"
        }
      },
      "source": [
        "y_pred_gdbt = gdbt.predict(x_test)\n",
        "from sklearn.metrics import r2_score,mean_squared_error\n",
        "mse = mean_squared_error(y_test,y_pred_gdbt)\n",
        "rmse = np.sqrt(mse)\n",
        "rmse"
      ],
      "execution_count": 194,
      "outputs": [
        {
          "output_type": "execute_result",
          "data": {
            "text/plain": [
              "0.00994388739556095"
            ]
          },
          "metadata": {
            "tags": []
          },
          "execution_count": 194
        }
      ]
    },
    {
      "cell_type": "markdown",
      "metadata": {
        "id": "Pnedc35lbeuS"
      },
      "source": [
        "## Using XGBoost"
      ]
    },
    {
      "cell_type": "code",
      "metadata": {
        "id": "clUQp-jMbeuT"
      },
      "source": [
        "import xgboost as xgb\n",
        "from xgboost import XGBRegressor\n",
        "from sklearn.metrics import mean_squared_error"
      ],
      "execution_count": 195,
      "outputs": []
    },
    {
      "cell_type": "markdown",
      "metadata": {
        "id": "GdaVicrEb78c"
      },
      "source": [
        "##Using Deep Learning Models"
      ]
    },
    {
      "cell_type": "code",
      "metadata": {
        "id": "zNH4J9l5cAY6",
        "outputId": "96bf6f68-8aa5-450a-a98d-553ca297efdd",
        "colab": {
          "base_uri": "https://localhost:8080/"
        }
      },
      "source": [
        "from google.colab import drive\n",
        "drive.mount('/content/drive')"
      ],
      "execution_count": 196,
      "outputs": [
        {
          "output_type": "stream",
          "text": [
            "Drive already mounted at /content/drive; to attempt to forcibly remount, call drive.mount(\"/content/drive\", force_remount=True).\n"
          ],
          "name": "stdout"
        }
      ]
    },
    {
      "cell_type": "markdown",
      "metadata": {
        "id": "iHWdf4aa2XDq"
      },
      "source": [
        "### Training and testing set"
      ]
    },
    {
      "cell_type": "code",
      "metadata": {
        "id": "z3Eyzb3Rlmir",
        "outputId": "b5adc975-e752-415a-96a0-345e21962e41",
        "colab": {
          "base_uri": "https://localhost:8080/"
        }
      },
      "source": [
        "from sklearn.model_selection import train_test_split\n",
        "x_train,x_test,y_train,y_test = train_test_split(X,Y,test_size = 0.1,random_state = 0)\n",
        "print(x_train.shape, x_test.shape, y_train.shape, y_test.shape)"
      ],
      "execution_count": 197,
      "outputs": [
        {
          "output_type": "stream",
          "text": [
            "(3191, 8) (355, 8) (3191,) (355,)\n"
          ],
          "name": "stdout"
        }
      ]
    },
    {
      "cell_type": "code",
      "metadata": {
        "id": "F3gqK-K0jGk9"
      },
      "source": [
        "from sklearn.preprocessing import MinMaxScaler\n",
        "sc = MinMaxScaler(feature_range = (0, 1))\n",
        "X_train_scaled = sc.fit_transform(x_train)"
      ],
      "execution_count": 198,
      "outputs": []
    },
    {
      "cell_type": "code",
      "metadata": {
        "id": "YKfTIM7Fjq6Y"
      },
      "source": [
        "X_train, Y_train = np.array(x_train), np.array(y_train)\n",
        "X_train = np.reshape(X_train, (X_train.shape[0], X_train.shape[1], 1))"
      ],
      "execution_count": 199,
      "outputs": []
    },
    {
      "cell_type": "markdown",
      "metadata": {
        "id": "XbP1VNrmBEdH"
      },
      "source": [
        "## Using ANN"
      ]
    },
    {
      "cell_type": "markdown",
      "metadata": {
        "id": "BvTCIFZ6BJgy"
      },
      "source": [
        "### Importing Libraries"
      ]
    },
    {
      "cell_type": "code",
      "metadata": {
        "id": "Y5R1YEo_BMOc"
      },
      "source": [
        "import tensorflow as tf \n",
        "import pandas as pd \n",
        "import numpy as np \n",
        "import matplotlib.pyplot as plt \n",
        "import keras \n",
        "from keras.models import Sequential \n",
        "from keras.layers import Dense \n",
        "from sklearn.metrics import confusion_matrix "
      ],
      "execution_count": 200,
      "outputs": []
    },
    {
      "cell_type": "markdown",
      "metadata": {
        "id": "2Z2AxsQ1BfHR"
      },
      "source": [
        "### Building the ANN Model\n"
      ]
    },
    {
      "cell_type": "code",
      "metadata": {
        "id": "LAmG88bQBjbd"
      },
      "source": [
        "classifier = Sequential() \n",
        "classifier.add(Dense(units=50,activation = \"relu\",input_shape = (X_train.shape[1], 1))) \n",
        "classifier.add(Dense(units=50,activation = \"relu\")) \n",
        "classifier.add(Dense(activation = \"sigmoid\", units = 1)) \n",
        "classifier.compile(optimizer = 'adam' , loss = 'mean_squared_error' ) "
      ],
      "execution_count": 201,
      "outputs": []
    },
    {
      "cell_type": "code",
      "metadata": {
        "id": "MM6hH_Q3BGvK",
        "outputId": "95f2300a-38be-41a5-b03d-564d36f1cffc",
        "colab": {
          "base_uri": "https://localhost:8080/"
        }
      },
      "source": [
        "classifier.fit(X_train, Y_train, epochs = 15, batch_size = 32)"
      ],
      "execution_count": 202,
      "outputs": [
        {
          "output_type": "stream",
          "text": [
            "Epoch 1/15\n",
            "100/100 [==============================] - 0s 2ms/step - loss: 0.1229\n",
            "Epoch 2/15\n",
            "100/100 [==============================] - 0s 1ms/step - loss: 0.0267\n",
            "Epoch 3/15\n",
            "100/100 [==============================] - 0s 1ms/step - loss: 0.0231\n",
            "Epoch 4/15\n",
            "100/100 [==============================] - 0s 2ms/step - loss: 0.0219\n",
            "Epoch 5/15\n",
            "100/100 [==============================] - 0s 1ms/step - loss: 0.0217\n",
            "Epoch 6/15\n",
            "100/100 [==============================] - 0s 1ms/step - loss: 0.0216\n",
            "Epoch 7/15\n",
            "100/100 [==============================] - 0s 1ms/step - loss: 0.0215\n",
            "Epoch 8/15\n",
            "100/100 [==============================] - 0s 1ms/step - loss: 0.0214\n",
            "Epoch 9/15\n",
            "100/100 [==============================] - 0s 1ms/step - loss: 0.0214\n",
            "Epoch 10/15\n",
            "100/100 [==============================] - 0s 1ms/step - loss: 0.0213\n",
            "Epoch 11/15\n",
            "100/100 [==============================] - 0s 1ms/step - loss: 0.0212\n",
            "Epoch 12/15\n",
            "100/100 [==============================] - 0s 1ms/step - loss: 0.0211\n",
            "Epoch 13/15\n",
            "100/100 [==============================] - 0s 1ms/step - loss: 0.0211\n",
            "Epoch 14/15\n",
            "100/100 [==============================] - 0s 1ms/step - loss: 0.0210\n",
            "Epoch 15/15\n",
            "100/100 [==============================] - 0s 1ms/step - loss: 0.0210\n"
          ],
          "name": "stdout"
        },
        {
          "output_type": "execute_result",
          "data": {
            "text/plain": [
              "<tensorflow.python.keras.callbacks.History at 0x7f972dc07fd0>"
            ]
          },
          "metadata": {
            "tags": []
          },
          "execution_count": 202
        }
      ]
    },
    {
      "cell_type": "code",
      "metadata": {
        "id": "6PwBrITMG5wB"
      },
      "source": [
        "X_test = np.array(x_test)\n",
        "X_test = np.reshape(X_test, (X_test.shape[0],X_test.shape[1], 1))\n",
        "predicted_stock_price = classifier.predict(X_test)"
      ],
      "execution_count": 203,
      "outputs": []
    },
    {
      "cell_type": "code",
      "metadata": {
        "id": "6pshVd1NG_LW"
      },
      "source": [
        "real_stock_price = np.asarray(y_test)\n",
        "# real_stock_price=real_stock_price.reshape(1167,1)"
      ],
      "execution_count": 204,
      "outputs": []
    },
    {
      "cell_type": "code",
      "metadata": {
        "id": "McQ0BuP-HD-w",
        "outputId": "93bef380-d367-4633-a52f-502fcfc45759",
        "colab": {
          "base_uri": "https://localhost:8080/"
        }
      },
      "source": [
        "predicted_stock_price"
      ],
      "execution_count": 205,
      "outputs": [
        {
          "output_type": "execute_result",
          "data": {
            "text/plain": [
              "array([[[2.0665154e-01],\n",
              "        [2.1337956e-01],\n",
              "        [8.1537157e-02],\n",
              "        ...,\n",
              "        [6.7487955e-03],\n",
              "        [1.1389613e-01],\n",
              "        [1.1545470e-01]],\n",
              "\n",
              "       [[2.0393729e-04],\n",
              "        [1.8924475e-04],\n",
              "        [4.7725141e-03],\n",
              "        ...,\n",
              "        [4.2848587e-03],\n",
              "        [3.7370622e-03],\n",
              "        [1.3953906e-01]],\n",
              "\n",
              "       [[2.6206881e-02],\n",
              "        [2.5844872e-02],\n",
              "        [5.1586926e-03],\n",
              "        ...,\n",
              "        [2.1586627e-02],\n",
              "        [2.6138127e-03],\n",
              "        [3.1136572e-03]],\n",
              "\n",
              "       ...,\n",
              "\n",
              "       [[1.8893778e-03],\n",
              "        [1.7606914e-03],\n",
              "        [2.6941299e-03],\n",
              "        ...,\n",
              "        [9.2551708e-03],\n",
              "        [1.9748509e-03],\n",
              "        [3.1419568e-06]],\n",
              "\n",
              "       [[1.2812614e-03],\n",
              "        [1.1251271e-03],\n",
              "        [6.9138408e-04],\n",
              "        ...,\n",
              "        [4.7224760e-03],\n",
              "        [4.7224760e-03],\n",
              "        [8.7909063e-07]],\n",
              "\n",
              "       [[2.2190210e-01],\n",
              "        [2.2120726e-01],\n",
              "        [2.8255463e-02],\n",
              "        ...,\n",
              "        [1.2606961e-01],\n",
              "        [9.0806484e-03],\n",
              "        [4.5377016e-04]]], dtype=float32)"
            ]
          },
          "metadata": {
            "tags": []
          },
          "execution_count": 205
        }
      ]
    },
    {
      "cell_type": "code",
      "metadata": {
        "id": "uJSsKEm9HF1A",
        "outputId": "49ebc9de-9434-4e23-ae45-1cd960b637c5",
        "colab": {
          "base_uri": "https://localhost:8080/"
        }
      },
      "source": [
        "real_stock_price"
      ],
      "execution_count": 206,
      "outputs": [
        {
          "output_type": "execute_result",
          "data": {
            "text/plain": [
              "array([ 3.27002513e-01, -1.58567525e-01,  5.18259311e-02, -4.05064070e-02,\n",
              "        2.29645781e-01, -1.32523204e-01,  2.05630364e-02,  1.00288001e-02,\n",
              "       -4.87447421e-03,  4.34276690e-02, -1.20217080e-01, -9.88330654e-02,\n",
              "        6.80894598e-01,  8.34771848e-02,  1.95518739e-01,  1.95810008e-01,\n",
              "        1.29473447e-01,  4.70962318e-01, -6.19875109e-02,  5.37191810e-02,\n",
              "       -1.65145355e-01, -1.14925689e-01,  2.21927147e-01,  3.68371488e-04,\n",
              "        2.37184528e-02, -1.13226619e-01, -4.87590345e-02, -1.69951296e-01,\n",
              "        1.04400023e-01,  2.24111666e-01, -1.43081712e-01, -1.06017706e-01,\n",
              "       -1.07959501e-01,  7.40352081e-02,  6.06572406e-01,  4.62918162e-02,\n",
              "       -1.59684057e-01, -6.42933921e-02, -4.45841759e-02, -1.39523645e-02,\n",
              "       -1.41795273e-01, -1.12474173e-01, -3.17926033e-02, -1.31066858e-01,\n",
              "       -1.02401113e-01, -1.47814837e-01,  4.76180891e-01, -2.88556388e-02,\n",
              "       -1.39076761e-01,  2.03819912e-01,  6.03455554e-02,  3.26992533e-02,\n",
              "        1.01802872e-01, -4.79094993e-02,  1.05142488e-02,  1.44376721e-01,\n",
              "       -1.27144703e-02,  2.56612455e-01,  1.80566920e-01, -1.58518980e-01,\n",
              "       -7.17450293e-02, -4.48997175e-02, -1.57548083e-01, -6.96818724e-02,\n",
              "       -3.86374296e-02,  2.85574151e-05,  9.44240525e-02, -9.68427259e-02,\n",
              "       -1.13663522e-01, -9.65514567e-02,  2.01174216e-01,  6.08552765e-02,\n",
              "       -1.04658450e-01,  1.05613644e-01,  3.36701507e-02, -8.74250216e-02,\n",
              "       -1.04901174e-01, -2.11370049e-02, -1.67135694e-01, -2.84915523e-02,\n",
              "       -9.53863798e-02, -1.20168535e-01, -1.66383249e-01, -1.42280722e-01,\n",
              "        1.18259582e-01, -1.32329024e-01, -1.22450144e-01, -9.60902804e-02,\n",
              "        1.67993799e-01, -2.81517382e-02, -1.30387229e-01,  2.32087317e-02,\n",
              "       -1.38469950e-01,  1.74231815e-01, -1.46528398e-01, -1.57727970e-02,\n",
              "        4.93986878e-02, -1.59174336e-01,  1.40857218e-01,  1.93941031e-01,\n",
              "       -7.68179680e-02,  5.17298394e-01,  4.80879763e-02, -2.45836905e-02,\n",
              "        1.50250650e-01, -1.59514150e-01,  1.41208614e-03,  3.83547304e-02,\n",
              "        4.56617310e-01,  8.73365018e-02, -3.23751417e-02, -1.52936320e-01,\n",
              "       -1.31455216e-01, -3.35644910e-02,  5.13162100e-02, -1.20799618e-01,\n",
              "        4.33548517e-02,  3.98353488e-02, -8.09928266e-02, -7.71092372e-02,\n",
              "       -5.99100617e-03, -6.68662701e-02, -1.48057561e-01, -5.29708562e-04,\n",
              "        9.25065302e-02,  1.23186887e-01,  6.53699492e-02, -4.17443011e-02,\n",
              "        1.26390848e-01, -1.32353297e-01, -1.12207176e-01, -3.57004651e-02,\n",
              "       -1.87825788e-02, -1.65849255e-01,  1.38915424e-01,  1.61780056e-01,\n",
              "       -1.41795273e-01,  2.28262252e-01, -1.59247153e-01, -1.11124897e-02,\n",
              "       -3.42198467e-02, -1.16818939e-01, -2.56031327e-02, -1.25047294e-01,\n",
              "        1.00225164e-01, -1.20726801e-01, -2.08700081e-02,  1.57605198e-01,\n",
              "       -1.08954670e-01, -1.14585875e-01, -1.30872678e-01,  1.02045597e-01,\n",
              "        5.21414728e-02, -1.51261522e-01, -3.47538402e-02, -1.17741291e-01,\n",
              "       -1.70096931e-01, -3.16955136e-02, -1.10289654e-01,  2.09184119e-01,\n",
              "        9.82348246e-02, -2.56516775e-02, -1.11430459e-01, -2.93896323e-02,\n",
              "       -1.53567404e-01,  4.80151590e-02, -9.96826006e-02, -3.94384199e-02,\n",
              "        2.89016154e-01, -1.23493858e-01, -7.89539422e-02,  7.83314288e-02,\n",
              "        3.02851441e-01,  7.86855353e-03,  1.79960109e-01,  2.18698913e-01,\n",
              "        2.12849257e-01,  3.87673618e-02,  6.33796096e-02,  5.80539666e-03,\n",
              "       -1.56116009e-01,  1.62532502e-01, -1.16284945e-01,  6.57583081e-02,\n",
              "       -1.13299436e-01,  4.78583862e-01,  2.46393760e-01, -1.20265624e-01,\n",
              "        8.71808871e-03,  5.07722364e-03,  5.98358343e-02, -1.29319242e-01,\n",
              "        2.04717992e-01,  4.83792455e-02, -1.04197273e-01, -9.40271235e-02,\n",
              "        7.61891709e-01, -3.98753237e-02,  1.14667262e-01, -6.78371675e-02,\n",
              "       -4.24724742e-02, -1.18615099e-01,  1.44667990e-01, -2.54089532e-02,\n",
              "       -1.66820153e-01, -7.13809428e-02, -1.66553156e-01,  3.06346672e-01,\n",
              "       -3.12828822e-02, -1.35397331e-02, -1.68058047e-01,  2.25325288e-01,\n",
              "       -8.02646536e-02,  1.73115283e-01,  1.88639660e-02, -2.97537189e-02,\n",
              "       -5.74828183e-03, -1.28178438e-01, -4.47055381e-02,  4.69471719e-02,\n",
              "       -5.09920984e-02,  1.02506773e-01,  2.76263146e-02,  1.97776076e-01,\n",
              "        1.29109360e-01, -5.23856072e-03, -8.84201913e-02,  4.34033966e-02,\n",
              "       -1.32159117e-01, -1.43033167e-01, -1.37644687e-01, -3.20596001e-02,\n",
              "        2.38796489e-01, -4.82735858e-02,  5.28696458e-02,  2.47777289e-01,\n",
              "        4.69957168e-02, -1.75655318e-01, -4.09775633e-03, -1.03469100e-01,\n",
              "       -3.15013341e-02,  5.14618446e-02,  3.40827820e-02,  9.95598284e-03,\n",
              "       -4.45113586e-02, -8.68424831e-02, -2.99721708e-02, -1.55727650e-01,\n",
              "       -6.77158053e-02, -1.20726801e-01,  1.50372012e-01, -1.62985108e-01,\n",
              "       -1.65266717e-01, -1.64854085e-01, -9.57504663e-02, -1.53931490e-01,\n",
              "       -9.30076813e-02,  1.62872316e-01,  1.09934138e-01, -6.47302960e-02,\n",
              "       -1.43494344e-01, -1.30411502e-01, -1.66189069e-01, -1.07910956e-01,\n",
              "       -1.57378176e-01, -1.63786098e-01,  1.07409805e-01, -6.21331455e-02,\n",
              "        3.97382591e-02, -4.05306795e-02, -6.40263954e-02,  4.20198679e-02,\n",
              "       -1.14707237e-01,  7.67294482e-02, -1.67194219e-02,  2.60738769e-01,\n",
              "        4.49262762e-01, -1.25362836e-01,  2.04984988e-01,  4.69287520e-01,\n",
              "       -2.74963825e-02, -8.63327620e-02, -1.18056833e-01, -3.66085252e-03,\n",
              "       -5.53368641e-02, -1.22789958e-01,  1.14508937e-03,  7.11380775e-01,\n",
              "        4.97142294e-02, -2.32487066e-02, -8.26676245e-02, -2.75206549e-02,\n",
              "        3.15230383e-01, -9.65271842e-02, -1.18954913e-01, -2.90740907e-02,\n",
              "       -1.98020210e-02, -5.47300532e-02, -4.68415122e-02,  3.20924425e-02,\n",
              "        3.97139867e-02, -6.35894916e-02, -1.65121082e-01, -6.40992127e-02,\n",
              "       -1.45072052e-01,  7.31028755e-03, -1.31261037e-01, -1.16236400e-01,\n",
              "       -1.99233832e-02,  9.84775489e-02, -1.65412351e-01,  2.43529613e-01,\n",
              "        5.07152517e-01, -1.58858794e-01,  4.74568931e-02, -3.09187957e-02,\n",
              "       -1.95350242e-02, -8.12698034e-03, -1.61164675e-01,  3.73352882e-02,\n",
              "        5.09763960e-02,  4.63801950e-01, -3.76422598e-02, -1.61528762e-01,\n",
              "        1.99076807e-02, -2.17438157e-02, -9.85175238e-02,  1.25177226e-01,\n",
              "       -7.69878750e-02, -1.33940985e-02, -8.36142494e-02, -1.11114917e-01,\n",
              "       -3.75451701e-02, -1.11648910e-01,  1.79329026e-01, -5.70359344e-02,\n",
              "        8.98508549e-03, -1.19683086e-01, -1.68956127e-01, -1.69805662e-01,\n",
              "        9.81034824e-03, -4.66230603e-02, -3.02634400e-02,  2.61699686e-02,\n",
              "       -6.61866420e-02,  2.10567648e-01,  1.94717749e-01, -1.43542888e-01,\n",
              "       -8.52162301e-02, -1.62097008e-02, -1.65460896e-01, -2.05787389e-02,\n",
              "       -5.12348228e-02, -1.19221910e-01,  3.04890326e-01])"
            ]
          },
          "metadata": {
            "tags": []
          },
          "execution_count": 206
        }
      ]
    },
    {
      "cell_type": "code",
      "metadata": {
        "id": "XXVCWDOMHW2k",
        "outputId": "cf9cfdd5-433c-4010-ef2f-63b76623ff95",
        "colab": {
          "base_uri": "https://localhost:8080/",
          "height": 69
        }
      },
      "source": [
        "\"\"\" plt.figure(figsize=(20,10))\n",
        "plt.plot(real_stock_price, color = 'green', label = 'Stock Price')\n",
        "plt.plot(predicted_stock_price, color = 'red', label = 'Predicted Stock Price')\n",
        "plt.title('Stock Price Prediction Using ANN')\n",
        "plt.xlabel('Trading Day')\n",
        "plt.ylabel('Stock Price')\n",
        "plt.legend()\n",
        "plt.show() \"\"\" #error"
      ],
      "execution_count": 207,
      "outputs": [
        {
          "output_type": "execute_result",
          "data": {
            "application/vnd.google.colaboratory.intrinsic+json": {
              "type": "string"
            },
            "text/plain": [
              "\" plt.figure(figsize=(20,10))\\nplt.plot(real_stock_price, color = 'green', label = 'Stock Price')\\nplt.plot(predicted_stock_price, color = 'red', label = 'Predicted Stock Price')\\nplt.title('Stock Price Prediction Using ANN')\\nplt.xlabel('Trading Day')\\nplt.ylabel('Stock Price')\\nplt.legend()\\nplt.show() \""
            ]
          },
          "metadata": {
            "tags": []
          },
          "execution_count": 207
        }
      ]
    },
    {
      "cell_type": "markdown",
      "metadata": {
        "id": "MqGBMKv0HvVM"
      },
      "source": [
        "## Using LSTM"
      ]
    },
    {
      "cell_type": "markdown",
      "metadata": {
        "id": "B2uIFD452b24"
      },
      "source": [
        "### Importing libraries"
      ]
    },
    {
      "cell_type": "code",
      "metadata": {
        "id": "ccMkltE9ebcw",
        "outputId": "924a8302-a3a2-4fbf-ae5c-29502af05bb5",
        "colab": {
          "base_uri": "https://localhost:8080/"
        }
      },
      "source": [
        "pip install nsepy"
      ],
      "execution_count": 208,
      "outputs": [
        {
          "output_type": "stream",
          "text": [
            "Requirement already satisfied: nsepy in /usr/local/lib/python3.6/dist-packages (0.8)\n",
            "Requirement already satisfied: lxml in /usr/local/lib/python3.6/dist-packages (from nsepy) (4.2.6)\n",
            "Requirement already satisfied: click in /usr/local/lib/python3.6/dist-packages (from nsepy) (7.1.2)\n",
            "Requirement already satisfied: beautifulsoup4 in /usr/local/lib/python3.6/dist-packages (from nsepy) (4.6.3)\n",
            "Requirement already satisfied: numpy in /usr/local/lib/python3.6/dist-packages (from nsepy) (1.18.5)\n",
            "Requirement already satisfied: requests in /usr/local/lib/python3.6/dist-packages (from nsepy) (2.23.0)\n",
            "Requirement already satisfied: six in /usr/local/lib/python3.6/dist-packages (from nsepy) (1.15.0)\n",
            "Requirement already satisfied: pandas in /usr/local/lib/python3.6/dist-packages (from nsepy) (1.1.4)\n",
            "Requirement already satisfied: chardet<4,>=3.0.2 in /usr/local/lib/python3.6/dist-packages (from requests->nsepy) (3.0.4)\n",
            "Requirement already satisfied: idna<3,>=2.5 in /usr/local/lib/python3.6/dist-packages (from requests->nsepy) (2.10)\n",
            "Requirement already satisfied: urllib3!=1.25.0,!=1.25.1,<1.26,>=1.21.1 in /usr/local/lib/python3.6/dist-packages (from requests->nsepy) (1.24.3)\n",
            "Requirement already satisfied: certifi>=2017.4.17 in /usr/local/lib/python3.6/dist-packages (from requests->nsepy) (2020.6.20)\n",
            "Requirement already satisfied: pytz>=2017.2 in /usr/local/lib/python3.6/dist-packages (from pandas->nsepy) (2018.9)\n",
            "Requirement already satisfied: python-dateutil>=2.7.3 in /usr/local/lib/python3.6/dist-packages (from pandas->nsepy) (2.8.1)\n"
          ],
          "name": "stdout"
        }
      ]
    },
    {
      "cell_type": "code",
      "metadata": {
        "id": "7fcRAPcyeVTV"
      },
      "source": [
        "from nsepy import get_history as gh\n",
        "import datetime as dt\n",
        "from matplotlib import pyplot as plt\n",
        "from sklearn import model_selection\n",
        "from sklearn.metrics import confusion_matrix\n",
        "from sklearn.preprocessing import StandardScaler\n",
        "from sklearn.model_selection import train_test_split\n",
        "import numpy as np\n",
        "import pandas as pd\n",
        "from sklearn.preprocessing import MinMaxScaler\n",
        "from keras.models import Sequential\n",
        "from keras.layers import Dense\n",
        "from keras.layers import LSTM\n",
        "from keras.layers import Dropout"
      ],
      "execution_count": 209,
      "outputs": []
    },
    {
      "cell_type": "markdown",
      "metadata": {
        "id": "33TKI23A2NVQ"
      },
      "source": [
        "### Building the LSTM"
      ]
    },
    {
      "cell_type": "code",
      "metadata": {
        "id": "SrT0kjBsc2Pm"
      },
      "source": [
        "regressor = Sequential()\n",
        "regressor.add(LSTM(units = 50, return_sequences = True, input_shape = (X_train.shape[1], 1)))\n",
        "regressor.add(Dropout(0.2))\n",
        "regressor.add(LSTM(units = 50, return_sequences = True))\n",
        "regressor.add(Dropout(0.2))\n",
        "regressor.add(LSTM(units = 50, return_sequences = True))\n",
        "regressor.add(Dropout(0.2))\n",
        "regressor.add(LSTM(units = 50))\n",
        "regressor.add(Dropout(0.2))\n",
        "regressor.add(Dense(units = 1))"
      ],
      "execution_count": 210,
      "outputs": []
    },
    {
      "cell_type": "markdown",
      "metadata": {
        "id": "L_LlaDFB2qDN"
      },
      "source": [
        "### Compiling and training the model defined in the above step.\n",
        "(Iteratively, we can increase or decrease the epochs and batch size to get more accuracy.)"
      ]
    },
    {
      "cell_type": "code",
      "metadata": {
        "id": "NEg-dl9jeOSR",
        "outputId": "30d7cd38-53fd-4207-c135-680e479e169f",
        "colab": {
          "base_uri": "https://localhost:8080/"
        }
      },
      "source": [
        "regressor.compile(optimizer = 'adam', loss = 'mean_squared_error')\n",
        "regressor.fit(X_train, Y_train, epochs = 15, batch_size = 32)"
      ],
      "execution_count": 211,
      "outputs": [
        {
          "output_type": "stream",
          "text": [
            "Epoch 1/15\n",
            "100/100 [==============================] - 2s 19ms/step - loss: 0.0044\n",
            "Epoch 2/15\n",
            "100/100 [==============================] - 2s 19ms/step - loss: 7.6051e-04\n",
            "Epoch 3/15\n",
            "100/100 [==============================] - 2s 18ms/step - loss: 7.1296e-04\n",
            "Epoch 4/15\n",
            "100/100 [==============================] - 2s 18ms/step - loss: 6.1138e-04\n",
            "Epoch 5/15\n",
            "100/100 [==============================] - 2s 19ms/step - loss: 6.0814e-04\n",
            "Epoch 6/15\n",
            "100/100 [==============================] - 2s 18ms/step - loss: 6.0267e-04\n",
            "Epoch 7/15\n",
            "100/100 [==============================] - 2s 18ms/step - loss: 5.6015e-04\n",
            "Epoch 8/15\n",
            "100/100 [==============================] - 2s 19ms/step - loss: 4.6675e-04\n",
            "Epoch 9/15\n",
            "100/100 [==============================] - 2s 20ms/step - loss: 4.8052e-04\n",
            "Epoch 10/15\n",
            "100/100 [==============================] - 2s 20ms/step - loss: 5.4367e-04\n",
            "Epoch 11/15\n",
            "100/100 [==============================] - 2s 20ms/step - loss: 4.7848e-04\n",
            "Epoch 12/15\n",
            "100/100 [==============================] - 2s 20ms/step - loss: 5.2952e-04\n",
            "Epoch 13/15\n",
            "100/100 [==============================] - 2s 19ms/step - loss: 4.4429e-04\n",
            "Epoch 14/15\n",
            "100/100 [==============================] - 2s 19ms/step - loss: 5.7637e-04\n",
            "Epoch 15/15\n",
            "100/100 [==============================] - 2s 18ms/step - loss: 4.6511e-04\n"
          ],
          "name": "stdout"
        },
        {
          "output_type": "execute_result",
          "data": {
            "text/plain": [
              "<tensorflow.python.keras.callbacks.History at 0x7f972bf62fd0>"
            ]
          },
          "metadata": {
            "tags": []
          },
          "execution_count": 211
        }
      ]
    },
    {
      "cell_type": "code",
      "metadata": {
        "id": "r2ZrIgaX03cC"
      },
      "source": [
        "X_test = np.array(x_test)\n",
        "X_test = np.reshape(X_test, (X_test.shape[0],X_test.shape[1], 1))\n",
        "predicted_stock_price = regressor.predict(X_test)"
      ],
      "execution_count": 212,
      "outputs": []
    },
    {
      "cell_type": "code",
      "metadata": {
        "id": "LDrGcESafEp5"
      },
      "source": [
        "real_stock_price = np.asarray(y_test)\n",
        "# real_stock_price=real_stock_price.reshape(1167,1)"
      ],
      "execution_count": 213,
      "outputs": []
    },
    {
      "cell_type": "code",
      "metadata": {
        "id": "koD72IuliN0t",
        "outputId": "198ccc85-8a20-4b44-c479-ef76f1188ae3",
        "colab": {
          "base_uri": "https://localhost:8080/"
        }
      },
      "source": [
        "predicted_stock_price"
      ],
      "execution_count": 214,
      "outputs": [
        {
          "output_type": "execute_result",
          "data": {
            "text/plain": [
              "array([[ 2.91061312e-01],\n",
              "       [-1.50657415e-01],\n",
              "       [ 3.39160897e-02],\n",
              "       [-4.82967272e-02],\n",
              "       [ 2.00635403e-01],\n",
              "       [-1.29184753e-01],\n",
              "       [ 6.09705341e-04],\n",
              "       [-8.18473380e-03],\n",
              "       [-1.82141382e-02],\n",
              "       [ 1.72450561e-02],\n",
              "       [-1.16360471e-01],\n",
              "       [-1.00626640e-01],\n",
              "       [ 5.68714261e-01],\n",
              "       [ 4.98192981e-02],\n",
              "       [ 1.62339255e-01],\n",
              "       [ 1.54247031e-01],\n",
              "       [ 1.07016228e-01],\n",
              "       [ 4.24050480e-01],\n",
              "       [-6.90137595e-02],\n",
              "       [ 3.28045450e-02],\n",
              "       [-1.56168565e-01],\n",
              "       [-1.12935297e-01],\n",
              "       [ 1.76401943e-01],\n",
              "       [-9.30223893e-03],\n",
              "       [ 6.86562434e-03],\n",
              "       [-1.10687301e-01],\n",
              "       [-6.20843321e-02],\n",
              "       [-1.56649262e-01],\n",
              "       [ 7.74550959e-02],\n",
              "       [ 1.85752019e-01],\n",
              "       [-1.37272522e-01],\n",
              "       [-1.07701562e-01],\n",
              "       [-1.06699534e-01],\n",
              "       [ 4.20149639e-02],\n",
              "       [ 5.39524972e-01],\n",
              "       [ 3.38845514e-02],\n",
              "       [-1.48369968e-01],\n",
              "       [-5.90767823e-02],\n",
              "       [-5.06936088e-02],\n",
              "       [-2.21938044e-02],\n",
              "       [-1.39905542e-01],\n",
              "       [-1.12650499e-01],\n",
              "       [-4.45935503e-02],\n",
              "       [-1.25339746e-01],\n",
              "       [-1.01226665e-01],\n",
              "       [-1.42075121e-01],\n",
              "       [ 5.05973697e-01],\n",
              "       [-4.32090014e-02],\n",
              "       [-1.36493266e-01],\n",
              "       [ 1.82270095e-01],\n",
              "       [ 3.50024700e-02],\n",
              "       [ 1.18583972e-02],\n",
              "       [ 8.83084163e-02],\n",
              "       [-5.62990755e-02],\n",
              "       [-3.57949780e-03],\n",
              "       [ 1.15352623e-01],\n",
              "       [-3.04074045e-02],\n",
              "       [ 2.20858529e-01],\n",
              "       [ 1.53803185e-01],\n",
              "       [-1.48564786e-01],\n",
              "       [-8.07786211e-02],\n",
              "       [-5.38103506e-02],\n",
              "       [-1.49601996e-01],\n",
              "       [-7.48731717e-02],\n",
              "       [-4.85649817e-02],\n",
              "       [-1.55167608e-02],\n",
              "       [ 6.83079511e-02],\n",
              "       [-9.71394181e-02],\n",
              "       [-1.10189483e-01],\n",
              "       [-9.22232568e-02],\n",
              "       [ 1.64399847e-01],\n",
              "       [ 2.70233024e-02],\n",
              "       [-1.04956590e-01],\n",
              "       [ 8.53254199e-02],\n",
              "       [ 2.04504281e-02],\n",
              "       [-8.70596543e-02],\n",
              "       [-1.04700297e-01],\n",
              "       [-3.08804885e-02],\n",
              "       [-1.56051174e-01],\n",
              "       [-3.57871652e-02],\n",
              "       [-9.78318974e-02],\n",
              "       [-1.14387810e-01],\n",
              "       [-1.55929267e-01],\n",
              "       [-1.34314567e-01],\n",
              "       [ 1.07025295e-01],\n",
              "       [-1.27122521e-01],\n",
              "       [-1.17808618e-01],\n",
              "       [-9.80554819e-02],\n",
              "       [ 1.28338501e-01],\n",
              "       [-3.93966809e-02],\n",
              "       [-1.24648489e-01],\n",
              "       [ 2.07664054e-02],\n",
              "       [-1.34014621e-01],\n",
              "       [ 1.37892276e-01],\n",
              "       [-1.38633788e-01],\n",
              "       [-2.80632991e-02],\n",
              "       [ 2.90122442e-02],\n",
              "       [-1.47694737e-01],\n",
              "       [ 1.16575539e-01],\n",
              "       [ 1.60487562e-01],\n",
              "       [-7.59036094e-02],\n",
              "       [ 5.06810248e-01],\n",
              "       [ 2.86110304e-02],\n",
              "       [-3.51874344e-02],\n",
              "       [ 1.19082391e-01],\n",
              "       [-1.49781078e-01],\n",
              "       [-1.97544079e-02],\n",
              "       [-3.24067986e-03],\n",
              "       [ 3.97815436e-01],\n",
              "       [ 6.50580749e-02],\n",
              "       [-4.49158065e-02],\n",
              "       [-1.78563505e-01],\n",
              "       [-1.25348493e-01],\n",
              "       [-3.28070000e-02],\n",
              "       [ 3.37765589e-02],\n",
              "       [-1.19450860e-01],\n",
              "       [ 2.70198621e-02],\n",
              "       [ 2.31661461e-02],\n",
              "       [-8.03981200e-02],\n",
              "       [-7.84595013e-02],\n",
              "       [-1.28854616e-02],\n",
              "       [-9.42167714e-02],\n",
              "       [-1.41283393e-01],\n",
              "       [-1.54564781e-02],\n",
              "       [ 6.91816807e-02],\n",
              "       [ 9.30939466e-02],\n",
              "       [ 4.38555256e-02],\n",
              "       [-4.79270630e-02],\n",
              "       [ 9.73181725e-02],\n",
              "       [-1.26766697e-01],\n",
              "       [-1.11023538e-01],\n",
              "       [-4.17054333e-02],\n",
              "       [-3.34434360e-02],\n",
              "       [-1.56872705e-01],\n",
              "       [ 1.16910055e-01],\n",
              "       [ 1.32409483e-01],\n",
              "       [-1.72523662e-01],\n",
              "       [ 2.10275397e-01],\n",
              "       [-1.49329588e-01],\n",
              "       [-1.47016272e-02],\n",
              "       [-1.51349129e-02],\n",
              "       [-1.13748401e-01],\n",
              "       [-1.80311874e-02],\n",
              "       [-1.19057387e-01],\n",
              "       [ 8.60521272e-02],\n",
              "       [-1.14729121e-01],\n",
              "       [-2.57741790e-02],\n",
              "       [ 1.51259288e-01],\n",
              "       [-1.08770706e-01],\n",
              "       [-1.11979850e-01],\n",
              "       [-1.24386050e-01],\n",
              "       [ 7.54556805e-02],\n",
              "       [ 1.73947066e-02],\n",
              "       [-1.40515193e-01],\n",
              "       [-3.98153439e-02],\n",
              "       [-1.17002144e-01],\n",
              "       [-1.60200134e-01],\n",
              "       [-4.86302003e-02],\n",
              "       [-1.11598834e-01],\n",
              "       [ 1.50393084e-01],\n",
              "       [ 8.38466585e-02],\n",
              "       [-2.37453822e-02],\n",
              "       [-1.20283909e-01],\n",
              "       [-3.89618017e-02],\n",
              "       [-1.46539167e-01],\n",
              "       [ 2.91582979e-02],\n",
              "       [-9.85981598e-02],\n",
              "       [-2.88984459e-02],\n",
              "       [ 2.67200112e-01],\n",
              "       [-1.22057751e-01],\n",
              "       [-8.26997757e-02],\n",
              "       [ 4.43141386e-02],\n",
              "       [ 2.48391077e-01],\n",
              "       [-1.11484854e-02],\n",
              "       [ 1.53612569e-01],\n",
              "       [ 1.92274436e-01],\n",
              "       [ 1.73991993e-01],\n",
              "       [ 1.26120364e-02],\n",
              "       [ 4.92142439e-02],\n",
              "       [-7.62468716e-03],\n",
              "       [-1.43559828e-01],\n",
              "       [ 1.17200099e-01],\n",
              "       [-1.15031935e-01],\n",
              "       [ 5.55803739e-02],\n",
              "       [-1.11318335e-01],\n",
              "       [ 4.24739271e-01],\n",
              "       [ 2.02501938e-01],\n",
              "       [-1.17498711e-01],\n",
              "       [-1.24953338e-04],\n",
              "       [-6.47341507e-03],\n",
              "       [ 3.77804339e-02],\n",
              "       [-1.25606477e-01],\n",
              "       [ 1.82747245e-01],\n",
              "       [ 3.63156088e-02],\n",
              "       [-1.02054305e-01],\n",
              "       [-9.99371111e-02],\n",
              "       [ 7.08464444e-01],\n",
              "       [-5.59845194e-02],\n",
              "       [ 1.07224718e-01],\n",
              "       [-1.49704255e-02],\n",
              "       [-4.89178933e-02],\n",
              "       [-1.15403533e-01],\n",
              "       [ 1.17068663e-01],\n",
              "       [-3.80141065e-02],\n",
              "       [-1.58069476e-01],\n",
              "       [-7.76953995e-02],\n",
              "       [-1.54874921e-01],\n",
              "       [ 2.57691920e-01],\n",
              "       [-3.76739688e-02],\n",
              "       [-2.99261641e-02],\n",
              "       [-1.57463521e-01],\n",
              "       [ 1.74579099e-01],\n",
              "       [-8.46495330e-02],\n",
              "       [ 1.45482808e-01],\n",
              "       [ 3.19600627e-02],\n",
              "       [-3.69090363e-02],\n",
              "       [-1.76802296e-02],\n",
              "       [-1.27075151e-01],\n",
              "       [-6.08821064e-02],\n",
              "       [ 3.29992734e-02],\n",
              "       [-5.98569661e-02],\n",
              "       [ 7.16505796e-02],\n",
              "       [ 1.19016794e-02],\n",
              "       [ 1.64942741e-01],\n",
              "       [ 1.04263738e-01],\n",
              "       [-3.67234498e-02],\n",
              "       [-9.13437232e-02],\n",
              "       [ 2.63788383e-02],\n",
              "       [-1.24249235e-01],\n",
              "       [-1.35937855e-01],\n",
              "       [-1.33449227e-01],\n",
              "       [-4.03428338e-02],\n",
              "       [ 1.99764565e-01],\n",
              "       [-6.01989217e-02],\n",
              "       [ 3.12594660e-02],\n",
              "       [ 2.08351314e-01],\n",
              "       [ 2.39043217e-02],\n",
              "       [-1.62404850e-01],\n",
              "       [-1.93736758e-02],\n",
              "       [-1.05471849e-01],\n",
              "       [-4.98263203e-02],\n",
              "       [ 2.92745382e-02],\n",
              "       [ 1.73505042e-02],\n",
              "       [-3.76688968e-03],\n",
              "       [-5.75087778e-02],\n",
              "       [-1.05201542e-01],\n",
              "       [-4.17665057e-02],\n",
              "       [-1.39230251e-01],\n",
              "       [-6.68877959e-02],\n",
              "       [-1.20820113e-01],\n",
              "       [ 1.21364214e-01],\n",
              "       [-1.55117139e-01],\n",
              "       [-1.55789018e-01],\n",
              "       [-1.54552609e-01],\n",
              "       [-9.64671001e-02],\n",
              "       [-1.48389295e-01],\n",
              "       [-9.46100578e-02],\n",
              "       [ 1.19309776e-01],\n",
              "       [ 8.63250196e-02],\n",
              "       [-6.78631365e-02],\n",
              "       [-1.37984172e-01],\n",
              "       [-1.24361165e-01],\n",
              "       [-1.54553056e-01],\n",
              "       [-1.07980967e-01],\n",
              "       [-1.46700457e-01],\n",
              "       [-1.53640211e-01],\n",
              "       [ 7.94003010e-02],\n",
              "       [-7.12105036e-02],\n",
              "       [ 1.27926702e-02],\n",
              "       [-4.59785946e-02],\n",
              "       [-7.27171153e-02],\n",
              "       [ 2.23899018e-02],\n",
              "       [-1.10464156e-01],\n",
              "       [ 5.04760034e-02],\n",
              "       [-3.09396833e-02],\n",
              "       [ 2.33914882e-01],\n",
              "       [ 4.14172560e-01],\n",
              "       [-1.23482436e-01],\n",
              "       [ 1.65761486e-01],\n",
              "       [ 4.24254000e-01],\n",
              "       [-3.85391675e-02],\n",
              "       [-7.72785321e-02],\n",
              "       [-1.15203626e-01],\n",
              "       [-2.05521453e-02],\n",
              "       [-5.36604784e-02],\n",
              "       [-1.17441237e-01],\n",
              "       [-1.05252117e-02],\n",
              "       [ 6.38453007e-01],\n",
              "       [ 3.13911624e-02],\n",
              "       [-4.25597019e-02],\n",
              "       [-8.65548626e-02],\n",
              "       [-3.69882248e-02],\n",
              "       [ 2.75453389e-01],\n",
              "       [-9.83597040e-02],\n",
              "       [-1.18317053e-01],\n",
              "       [-3.60763855e-02],\n",
              "       [-3.22262384e-02],\n",
              "       [-6.37551323e-02],\n",
              "       [-5.73358200e-02],\n",
              "       [ 6.27966598e-03],\n",
              "       [ 1.80233438e-02],\n",
              "       [-1.49704255e-02],\n",
              "       [-1.52074307e-01],\n",
              "       [-7.33112842e-02],\n",
              "       [-1.36895522e-01],\n",
              "       [-7.04655517e-03],\n",
              "       [-1.26508698e-01],\n",
              "       [-1.15982920e-01],\n",
              "       [-3.17645594e-02],\n",
              "       [ 7.92991892e-02],\n",
              "       [-1.55946225e-01],\n",
              "       [ 2.11322024e-01],\n",
              "       [ 4.60657179e-01],\n",
              "       [-1.50771156e-01],\n",
              "       [ 3.05573996e-02],\n",
              "       [-3.19100060e-02],\n",
              "       [-1.47141749e-02],\n",
              "       [-1.45339528e-02],\n",
              "       [-1.52637646e-01],\n",
              "       [ 3.41429859e-02],\n",
              "       [ 3.04863863e-02],\n",
              "       [ 4.90698844e-01],\n",
              "       [-4.82841730e-02],\n",
              "       [-1.47963077e-01],\n",
              "       [ 1.23683931e-02],\n",
              "       [-4.29592691e-02],\n",
              "       [-1.01358026e-01],\n",
              "       [ 9.96839330e-02],\n",
              "       [-8.08700025e-02],\n",
              "       [-2.97032986e-02],\n",
              "       [-8.67647305e-02],\n",
              "       [-1.07120924e-01],\n",
              "       [-4.69246805e-02],\n",
              "       [-1.10870682e-01],\n",
              "       [ 1.52297497e-01],\n",
              "       [-6.46929368e-02],\n",
              "       [-1.26021523e-02],\n",
              "       [-1.15184188e-01],\n",
              "       [-1.59611598e-01],\n",
              "       [-1.59975961e-01],\n",
              "       [-7.70685123e-03],\n",
              "       [-5.58982939e-02],\n",
              "       [-4.47248705e-02],\n",
              "       [ 1.95154082e-02],\n",
              "       [-6.24356568e-02],\n",
              "       [ 1.64296687e-01],\n",
              "       [ 1.61256224e-01],\n",
              "       [-1.35479316e-01],\n",
              "       [-8.60087946e-02],\n",
              "       [-3.46022546e-02],\n",
              "       [-1.53626308e-01],\n",
              "       [-3.40474136e-02],\n",
              "       [-5.28854728e-02],\n",
              "       [-8.46362785e-02],\n",
              "       [ 3.06696951e-01]], dtype=float32)"
            ]
          },
          "metadata": {
            "tags": []
          },
          "execution_count": 214
        }
      ]
    },
    {
      "cell_type": "code",
      "metadata": {
        "id": "bXqa74JLiSvC",
        "outputId": "bfdc4aec-6d5b-41e1-df24-fc8f0616b57b",
        "colab": {
          "base_uri": "https://localhost:8080/"
        }
      },
      "source": [
        "real_stock_price"
      ],
      "execution_count": 215,
      "outputs": [
        {
          "output_type": "execute_result",
          "data": {
            "text/plain": [
              "array([ 3.27002513e-01, -1.58567525e-01,  5.18259311e-02, -4.05064070e-02,\n",
              "        2.29645781e-01, -1.32523204e-01,  2.05630364e-02,  1.00288001e-02,\n",
              "       -4.87447421e-03,  4.34276690e-02, -1.20217080e-01, -9.88330654e-02,\n",
              "        6.80894598e-01,  8.34771848e-02,  1.95518739e-01,  1.95810008e-01,\n",
              "        1.29473447e-01,  4.70962318e-01, -6.19875109e-02,  5.37191810e-02,\n",
              "       -1.65145355e-01, -1.14925689e-01,  2.21927147e-01,  3.68371488e-04,\n",
              "        2.37184528e-02, -1.13226619e-01, -4.87590345e-02, -1.69951296e-01,\n",
              "        1.04400023e-01,  2.24111666e-01, -1.43081712e-01, -1.06017706e-01,\n",
              "       -1.07959501e-01,  7.40352081e-02,  6.06572406e-01,  4.62918162e-02,\n",
              "       -1.59684057e-01, -6.42933921e-02, -4.45841759e-02, -1.39523645e-02,\n",
              "       -1.41795273e-01, -1.12474173e-01, -3.17926033e-02, -1.31066858e-01,\n",
              "       -1.02401113e-01, -1.47814837e-01,  4.76180891e-01, -2.88556388e-02,\n",
              "       -1.39076761e-01,  2.03819912e-01,  6.03455554e-02,  3.26992533e-02,\n",
              "        1.01802872e-01, -4.79094993e-02,  1.05142488e-02,  1.44376721e-01,\n",
              "       -1.27144703e-02,  2.56612455e-01,  1.80566920e-01, -1.58518980e-01,\n",
              "       -7.17450293e-02, -4.48997175e-02, -1.57548083e-01, -6.96818724e-02,\n",
              "       -3.86374296e-02,  2.85574151e-05,  9.44240525e-02, -9.68427259e-02,\n",
              "       -1.13663522e-01, -9.65514567e-02,  2.01174216e-01,  6.08552765e-02,\n",
              "       -1.04658450e-01,  1.05613644e-01,  3.36701507e-02, -8.74250216e-02,\n",
              "       -1.04901174e-01, -2.11370049e-02, -1.67135694e-01, -2.84915523e-02,\n",
              "       -9.53863798e-02, -1.20168535e-01, -1.66383249e-01, -1.42280722e-01,\n",
              "        1.18259582e-01, -1.32329024e-01, -1.22450144e-01, -9.60902804e-02,\n",
              "        1.67993799e-01, -2.81517382e-02, -1.30387229e-01,  2.32087317e-02,\n",
              "       -1.38469950e-01,  1.74231815e-01, -1.46528398e-01, -1.57727970e-02,\n",
              "        4.93986878e-02, -1.59174336e-01,  1.40857218e-01,  1.93941031e-01,\n",
              "       -7.68179680e-02,  5.17298394e-01,  4.80879763e-02, -2.45836905e-02,\n",
              "        1.50250650e-01, -1.59514150e-01,  1.41208614e-03,  3.83547304e-02,\n",
              "        4.56617310e-01,  8.73365018e-02, -3.23751417e-02, -1.52936320e-01,\n",
              "       -1.31455216e-01, -3.35644910e-02,  5.13162100e-02, -1.20799618e-01,\n",
              "        4.33548517e-02,  3.98353488e-02, -8.09928266e-02, -7.71092372e-02,\n",
              "       -5.99100617e-03, -6.68662701e-02, -1.48057561e-01, -5.29708562e-04,\n",
              "        9.25065302e-02,  1.23186887e-01,  6.53699492e-02, -4.17443011e-02,\n",
              "        1.26390848e-01, -1.32353297e-01, -1.12207176e-01, -3.57004651e-02,\n",
              "       -1.87825788e-02, -1.65849255e-01,  1.38915424e-01,  1.61780056e-01,\n",
              "       -1.41795273e-01,  2.28262252e-01, -1.59247153e-01, -1.11124897e-02,\n",
              "       -3.42198467e-02, -1.16818939e-01, -2.56031327e-02, -1.25047294e-01,\n",
              "        1.00225164e-01, -1.20726801e-01, -2.08700081e-02,  1.57605198e-01,\n",
              "       -1.08954670e-01, -1.14585875e-01, -1.30872678e-01,  1.02045597e-01,\n",
              "        5.21414728e-02, -1.51261522e-01, -3.47538402e-02, -1.17741291e-01,\n",
              "       -1.70096931e-01, -3.16955136e-02, -1.10289654e-01,  2.09184119e-01,\n",
              "        9.82348246e-02, -2.56516775e-02, -1.11430459e-01, -2.93896323e-02,\n",
              "       -1.53567404e-01,  4.80151590e-02, -9.96826006e-02, -3.94384199e-02,\n",
              "        2.89016154e-01, -1.23493858e-01, -7.89539422e-02,  7.83314288e-02,\n",
              "        3.02851441e-01,  7.86855353e-03,  1.79960109e-01,  2.18698913e-01,\n",
              "        2.12849257e-01,  3.87673618e-02,  6.33796096e-02,  5.80539666e-03,\n",
              "       -1.56116009e-01,  1.62532502e-01, -1.16284945e-01,  6.57583081e-02,\n",
              "       -1.13299436e-01,  4.78583862e-01,  2.46393760e-01, -1.20265624e-01,\n",
              "        8.71808871e-03,  5.07722364e-03,  5.98358343e-02, -1.29319242e-01,\n",
              "        2.04717992e-01,  4.83792455e-02, -1.04197273e-01, -9.40271235e-02,\n",
              "        7.61891709e-01, -3.98753237e-02,  1.14667262e-01, -6.78371675e-02,\n",
              "       -4.24724742e-02, -1.18615099e-01,  1.44667990e-01, -2.54089532e-02,\n",
              "       -1.66820153e-01, -7.13809428e-02, -1.66553156e-01,  3.06346672e-01,\n",
              "       -3.12828822e-02, -1.35397331e-02, -1.68058047e-01,  2.25325288e-01,\n",
              "       -8.02646536e-02,  1.73115283e-01,  1.88639660e-02, -2.97537189e-02,\n",
              "       -5.74828183e-03, -1.28178438e-01, -4.47055381e-02,  4.69471719e-02,\n",
              "       -5.09920984e-02,  1.02506773e-01,  2.76263146e-02,  1.97776076e-01,\n",
              "        1.29109360e-01, -5.23856072e-03, -8.84201913e-02,  4.34033966e-02,\n",
              "       -1.32159117e-01, -1.43033167e-01, -1.37644687e-01, -3.20596001e-02,\n",
              "        2.38796489e-01, -4.82735858e-02,  5.28696458e-02,  2.47777289e-01,\n",
              "        4.69957168e-02, -1.75655318e-01, -4.09775633e-03, -1.03469100e-01,\n",
              "       -3.15013341e-02,  5.14618446e-02,  3.40827820e-02,  9.95598284e-03,\n",
              "       -4.45113586e-02, -8.68424831e-02, -2.99721708e-02, -1.55727650e-01,\n",
              "       -6.77158053e-02, -1.20726801e-01,  1.50372012e-01, -1.62985108e-01,\n",
              "       -1.65266717e-01, -1.64854085e-01, -9.57504663e-02, -1.53931490e-01,\n",
              "       -9.30076813e-02,  1.62872316e-01,  1.09934138e-01, -6.47302960e-02,\n",
              "       -1.43494344e-01, -1.30411502e-01, -1.66189069e-01, -1.07910956e-01,\n",
              "       -1.57378176e-01, -1.63786098e-01,  1.07409805e-01, -6.21331455e-02,\n",
              "        3.97382591e-02, -4.05306795e-02, -6.40263954e-02,  4.20198679e-02,\n",
              "       -1.14707237e-01,  7.67294482e-02, -1.67194219e-02,  2.60738769e-01,\n",
              "        4.49262762e-01, -1.25362836e-01,  2.04984988e-01,  4.69287520e-01,\n",
              "       -2.74963825e-02, -8.63327620e-02, -1.18056833e-01, -3.66085252e-03,\n",
              "       -5.53368641e-02, -1.22789958e-01,  1.14508937e-03,  7.11380775e-01,\n",
              "        4.97142294e-02, -2.32487066e-02, -8.26676245e-02, -2.75206549e-02,\n",
              "        3.15230383e-01, -9.65271842e-02, -1.18954913e-01, -2.90740907e-02,\n",
              "       -1.98020210e-02, -5.47300532e-02, -4.68415122e-02,  3.20924425e-02,\n",
              "        3.97139867e-02, -6.35894916e-02, -1.65121082e-01, -6.40992127e-02,\n",
              "       -1.45072052e-01,  7.31028755e-03, -1.31261037e-01, -1.16236400e-01,\n",
              "       -1.99233832e-02,  9.84775489e-02, -1.65412351e-01,  2.43529613e-01,\n",
              "        5.07152517e-01, -1.58858794e-01,  4.74568931e-02, -3.09187957e-02,\n",
              "       -1.95350242e-02, -8.12698034e-03, -1.61164675e-01,  3.73352882e-02,\n",
              "        5.09763960e-02,  4.63801950e-01, -3.76422598e-02, -1.61528762e-01,\n",
              "        1.99076807e-02, -2.17438157e-02, -9.85175238e-02,  1.25177226e-01,\n",
              "       -7.69878750e-02, -1.33940985e-02, -8.36142494e-02, -1.11114917e-01,\n",
              "       -3.75451701e-02, -1.11648910e-01,  1.79329026e-01, -5.70359344e-02,\n",
              "        8.98508549e-03, -1.19683086e-01, -1.68956127e-01, -1.69805662e-01,\n",
              "        9.81034824e-03, -4.66230603e-02, -3.02634400e-02,  2.61699686e-02,\n",
              "       -6.61866420e-02,  2.10567648e-01,  1.94717749e-01, -1.43542888e-01,\n",
              "       -8.52162301e-02, -1.62097008e-02, -1.65460896e-01, -2.05787389e-02,\n",
              "       -5.12348228e-02, -1.19221910e-01,  3.04890326e-01])"
            ]
          },
          "metadata": {
            "tags": []
          },
          "execution_count": 215
        }
      ]
    },
    {
      "cell_type": "markdown",
      "metadata": {
        "id": "oWXVsRgp2DcB"
      },
      "source": [
        "### Plotting the results"
      ]
    },
    {
      "cell_type": "code",
      "metadata": {
        "id": "bTm04GWiiU9O",
        "outputId": "e943974f-d279-4e41-d6db-5292513a0b63",
        "colab": {
          "base_uri": "https://localhost:8080/",
          "height": 502
        }
      },
      "source": [
        "plt.figure(figsize=(20,10))\n",
        "plt.plot(real_stock_price, color = 'green', label = 'Stock Price')\n",
        "plt.plot(predicted_stock_price, color = 'red', label = 'Predicted Stock Price')\n",
        "plt.title('Stock Price Prediction')\n",
        "plt.xlabel('Trading Day')\n",
        "plt.ylabel('Stock Price')\n",
        "plt.legend()\n",
        "plt.show()"
      ],
      "execution_count": 216,
      "outputs": [
        {
          "output_type": "display_data",
          "data": {
            "image/png": "[encoded data removed]",
            "text/plain": [
              "<Figure size 1440x720 with 1 Axes>"
            ]
          },
          "metadata": {
            "tags": [],
            "needs_background": "light"
          }
        }
      ]
    },
    {
      "cell_type": "code",
      "metadata": {
        "id": "7hCjZ69viYqn",
        "outputId": "7f3d7b2e-270f-41c4-938e-096f2b04fe0f",
        "colab": {
          "base_uri": "https://localhost:8080/"
        }
      },
      "source": [
        "from sklearn.metrics import mean_squared_error as MSE\n",
        "rmse = MSE(real_stock_price,predicted_stock_price)**(1/2)\n",
        "rmse"
      ],
      "execution_count": 217,
      "outputs": [
        {
          "output_type": "execute_result",
          "data": {
            "text/plain": [
              "0.021174239196095155"
            ]
          },
          "metadata": {
            "tags": []
          },
          "execution_count": 217
        }
      ]
    }
  ]
}