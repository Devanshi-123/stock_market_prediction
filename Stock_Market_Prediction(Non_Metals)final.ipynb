{
  "nbformat": 4,
  "nbformat_minor": 0,
  "metadata": {
    "kernelspec": {
      "display_name": "Python 3",
      "language": "python",
      "name": "python3"
    },
    "language_info": {
      "codemirror_mode": {
        "name": "ipython",
        "version": 3
      },
      "file_extension": ".py",
      "mimetype": "text/x-python",
      "name": "python",
      "nbconvert_exporter": "python",
      "pygments_lexer": "ipython3",
      "version": "3.8.3"
    },
    "colab": {
      "name": "Stock_Market_Prediction(Non Metals)final.ipynb",
      "provenance": [],
      "collapsed_sections": [
        "vfZGT9zFbes9"
      ],
      "toc_visible": true,
      "include_colab_link": true
    }
  },
  "cells": [
    {
      "cell_type": "markdown",
      "metadata": {
        "id": "view-in-github",
        "colab_type": "text"
      },
      "source": [
        "<a href=\"https://colab.research.google.com/github/Devanshi-123/stock_market_prediction/blob/main/Stock_Market_Prediction(Non_Metals)final.ipynb\" target=\"_parent\"><img src=\"https://colab.research.google.com/assets/colab-badge.svg\" alt=\"Open In Colab\"/></a>"
      ]
    },
    {
      "cell_type": "markdown",
      "metadata": {
        "id": "tieXgez1berr"
      },
      "source": [
        "#  **Stock Market Prediction Using Different Machine Learning And Deep Learning Algorithms**\n"
      ]
    },
    {
      "cell_type": "markdown",
      "metadata": {
        "id": "2501HdlZfGAG"
      },
      "source": [
        "## **Importing the necessary libraries**"
      ]
    },
    {
      "cell_type": "code",
      "metadata": {
        "id": "bExe6rckbers"
      },
      "source": [
        "import pandas as pd\n",
        "import numpy as np\n",
        "import matplotlib.pyplot as plt\n",
        "%matplotlib inline"
      ],
      "execution_count": null,
      "outputs": []
    },
    {
      "cell_type": "code",
      "metadata": {
        "id": "YoioHTGgcPVu",
        "colab": {
          "base_uri": "https://localhost:8080/"
        },
        "outputId": "1ccde644-9357-4bb4-c4e5-fc9fbdd05709"
      },
      "source": [
        "cd /content/drive/My Drive/Stock Market Prediction(Mini Project)"
      ],
      "execution_count": null,
      "outputs": [
        {
          "output_type": "stream",
          "text": [
            "/content/drive/My Drive/Stock Market Prediction(Mini Project)\n"
          ],
          "name": "stdout"
        }
      ]
    },
    {
      "cell_type": "markdown",
      "metadata": {
        "id": "c1-boyHyfakV"
      },
      "source": [
        "## **Importing the dataset**"
      ]
    },
    {
      "cell_type": "code",
      "metadata": {
        "id": "1fMnpg-sbery",
        "colab": {
          "base_uri": "https://localhost:8080/"
        },
        "outputId": "04e15164-219d-421c-8b7f-470cd4ae0d3f"
      },
      "source": [
        "##Metallic Dataset\n",
        "df=pd.read_csv(\"Stock_KSIM1.csv\")\n",
        "df.info()"
      ],
      "execution_count": null,
      "outputs": [
        {
          "output_type": "stream",
          "text": [
            "<class 'pandas.core.frame.DataFrame'>\n",
            "RangeIndex: 3546 entries, 0 to 3545\n",
            "Data columns (total 13 columns):\n",
            " #   Column        Non-Null Count  Dtype  \n",
            "---  ------        --------------  -----  \n",
            " 0   Unnamed: 0    3546 non-null   int64  \n",
            " 1   <TICKER>      3546 non-null   object \n",
            " 2   <DTYYYYMMDD>  3546 non-null   int64  \n",
            " 3   <FIRST>       3546 non-null   float64\n",
            " 4   <HIGH>        3546 non-null   float64\n",
            " 5   <LOW>         3546 non-null   float64\n",
            " 6   <CLOSE>       3546 non-null   float64\n",
            " 7   <VALUE>       3546 non-null   int64  \n",
            " 8   <VOL>         3546 non-null   int64  \n",
            " 9   <OPENINT>     3546 non-null   int64  \n",
            " 10  <PER>         3546 non-null   object \n",
            " 11  <OPEN>        3546 non-null   float64\n",
            " 12  <LAST>        3546 non-null   float64\n",
            "dtypes: float64(6), int64(5), object(2)\n",
            "memory usage: 360.3+ KB\n"
          ],
          "name": "stdout"
        }
      ]
    },
    {
      "cell_type": "code",
      "metadata": {
        "id": "F00sCC1zqlJZ",
        "colab": {
          "base_uri": "https://localhost:8080/",
          "height": 194
        },
        "outputId": "372f8ad8-e5bc-4f6b-877d-cc1a6d02e176"
      },
      "source": [
        "df.head()"
      ],
      "execution_count": null,
      "outputs": [
        {
          "output_type": "execute_result",
          "data": {
            "text/html": [
              "<div>\n",
              "<style scoped>\n",
              "    .dataframe tbody tr th:only-of-type {\n",
              "        vertical-align: middle;\n",
              "    }\n",
              "\n",
              "    .dataframe tbody tr th {\n",
              "        vertical-align: top;\n",
              "    }\n",
              "\n",
              "    .dataframe thead th {\n",
              "        text-align: right;\n",
              "    }\n",
              "</style>\n",
              "<table border=\"1\" class=\"dataframe\">\n",
              "  <thead>\n",
              "    <tr style=\"text-align: right;\">\n",
              "      <th></th>\n",
              "      <th>Unnamed: 0</th>\n",
              "      <th>&lt;TICKER&gt;</th>\n",
              "      <th>&lt;DTYYYYMMDD&gt;</th>\n",
              "      <th>&lt;FIRST&gt;</th>\n",
              "      <th>&lt;HIGH&gt;</th>\n",
              "      <th>&lt;LOW&gt;</th>\n",
              "      <th>&lt;CLOSE&gt;</th>\n",
              "      <th>&lt;VALUE&gt;</th>\n",
              "      <th>&lt;VOL&gt;</th>\n",
              "      <th>&lt;OPENINT&gt;</th>\n",
              "      <th>&lt;PER&gt;</th>\n",
              "      <th>&lt;OPEN&gt;</th>\n",
              "      <th>&lt;LAST&gt;</th>\n",
              "    </tr>\n",
              "  </thead>\n",
              "  <tbody>\n",
              "    <tr>\n",
              "      <th>0</th>\n",
              "      <td>0</td>\n",
              "      <td>Calcimine</td>\n",
              "      <td>20010501</td>\n",
              "      <td>5750.0</td>\n",
              "      <td>5750.0</td>\n",
              "      <td>5750.0</td>\n",
              "      <td>5750.0</td>\n",
              "      <td>575000</td>\n",
              "      <td>100</td>\n",
              "      <td>1</td>\n",
              "      <td>D</td>\n",
              "      <td>5750.0</td>\n",
              "      <td>5750.0</td>\n",
              "    </tr>\n",
              "    <tr>\n",
              "      <th>1</th>\n",
              "      <td>1</td>\n",
              "      <td>Calcimine</td>\n",
              "      <td>20010506</td>\n",
              "      <td>5807.0</td>\n",
              "      <td>5807.0</td>\n",
              "      <td>5807.0</td>\n",
              "      <td>5807.0</td>\n",
              "      <td>9947391</td>\n",
              "      <td>1713</td>\n",
              "      <td>3</td>\n",
              "      <td>D</td>\n",
              "      <td>5750.0</td>\n",
              "      <td>5807.0</td>\n",
              "    </tr>\n",
              "    <tr>\n",
              "      <th>2</th>\n",
              "      <td>2</td>\n",
              "      <td>Calcimine</td>\n",
              "      <td>20010512</td>\n",
              "      <td>5865.0</td>\n",
              "      <td>5865.0</td>\n",
              "      <td>5865.0</td>\n",
              "      <td>5865.0</td>\n",
              "      <td>2991150</td>\n",
              "      <td>510</td>\n",
              "      <td>2</td>\n",
              "      <td>D</td>\n",
              "      <td>5807.0</td>\n",
              "      <td>5865.0</td>\n",
              "    </tr>\n",
              "    <tr>\n",
              "      <th>3</th>\n",
              "      <td>3</td>\n",
              "      <td>Calcimine</td>\n",
              "      <td>20010513</td>\n",
              "      <td>5923.0</td>\n",
              "      <td>5923.0</td>\n",
              "      <td>5923.0</td>\n",
              "      <td>5923.0</td>\n",
              "      <td>11846000</td>\n",
              "      <td>2000</td>\n",
              "      <td>2</td>\n",
              "      <td>D</td>\n",
              "      <td>5865.0</td>\n",
              "      <td>5923.0</td>\n",
              "    </tr>\n",
              "    <tr>\n",
              "      <th>4</th>\n",
              "      <td>4</td>\n",
              "      <td>Calcimine</td>\n",
              "      <td>20010515</td>\n",
              "      <td>5982.0</td>\n",
              "      <td>5982.0</td>\n",
              "      <td>5982.0</td>\n",
              "      <td>5982.0</td>\n",
              "      <td>5982000</td>\n",
              "      <td>1000</td>\n",
              "      <td>1</td>\n",
              "      <td>D</td>\n",
              "      <td>5923.0</td>\n",
              "      <td>5982.0</td>\n",
              "    </tr>\n",
              "  </tbody>\n",
              "</table>\n",
              "</div>"
            ],
            "text/plain": [
              "   Unnamed: 0   <TICKER>  <DTYYYYMMDD>  ...  <PER>  <OPEN>  <LAST>\n",
              "0           0  Calcimine      20010501  ...      D  5750.0  5750.0\n",
              "1           1  Calcimine      20010506  ...      D  5750.0  5807.0\n",
              "2           2  Calcimine      20010512  ...      D  5807.0  5865.0\n",
              "3           3  Calcimine      20010513  ...      D  5865.0  5923.0\n",
              "4           4  Calcimine      20010515  ...      D  5923.0  5982.0\n",
              "\n",
              "[5 rows x 13 columns]"
            ]
          },
          "metadata": {
            "tags": []
          },
          "execution_count": 648
        }
      ]
    },
    {
      "cell_type": "markdown",
      "metadata": {
        "id": "9gsprJSuhGF4"
      },
      "source": [
        "## **Exploratory Data Analysis**"
      ]
    },
    {
      "cell_type": "code",
      "metadata": {
        "id": "3KYyTRW7gcjz",
        "colab": {
          "base_uri": "https://localhost:8080/",
          "height": 282
        },
        "outputId": "b9f1afbd-700b-41cb-db3d-e746851ebcfd"
      },
      "source": [
        "df.describe()"
      ],
      "execution_count": null,
      "outputs": [
        {
          "output_type": "execute_result",
          "data": {
            "text/html": [
              "<div>\n",
              "<style scoped>\n",
              "    .dataframe tbody tr th:only-of-type {\n",
              "        vertical-align: middle;\n",
              "    }\n",
              "\n",
              "    .dataframe tbody tr th {\n",
              "        vertical-align: top;\n",
              "    }\n",
              "\n",
              "    .dataframe thead th {\n",
              "        text-align: right;\n",
              "    }\n",
              "</style>\n",
              "<table border=\"1\" class=\"dataframe\">\n",
              "  <thead>\n",
              "    <tr style=\"text-align: right;\">\n",
              "      <th></th>\n",
              "      <th>Unnamed: 0</th>\n",
              "      <th>&lt;DTYYYYMMDD&gt;</th>\n",
              "      <th>&lt;FIRST&gt;</th>\n",
              "      <th>&lt;HIGH&gt;</th>\n",
              "      <th>&lt;LOW&gt;</th>\n",
              "      <th>&lt;CLOSE&gt;</th>\n",
              "      <th>&lt;VALUE&gt;</th>\n",
              "      <th>&lt;VOL&gt;</th>\n",
              "      <th>&lt;OPENINT&gt;</th>\n",
              "      <th>&lt;OPEN&gt;</th>\n",
              "      <th>&lt;LAST&gt;</th>\n",
              "    </tr>\n",
              "  </thead>\n",
              "  <tbody>\n",
              "    <tr>\n",
              "      <th>count</th>\n",
              "      <td>3546.000000</td>\n",
              "      <td>3.546000e+03</td>\n",
              "      <td>3546.000000</td>\n",
              "      <td>3546.000000</td>\n",
              "      <td>3546.000000</td>\n",
              "      <td>3546.000000</td>\n",
              "      <td>3.546000e+03</td>\n",
              "      <td>3.546000e+03</td>\n",
              "      <td>3546.000000</td>\n",
              "      <td>3546.000000</td>\n",
              "      <td>3546.000000</td>\n",
              "    </tr>\n",
              "    <tr>\n",
              "      <th>mean</th>\n",
              "      <td>1772.500000</td>\n",
              "      <td>2.011695e+07</td>\n",
              "      <td>8603.097857</td>\n",
              "      <td>8720.517202</td>\n",
              "      <td>8469.620135</td>\n",
              "      <td>8601.823463</td>\n",
              "      <td>1.865224e+10</td>\n",
              "      <td>2.024808e+06</td>\n",
              "      <td>404.249295</td>\n",
              "      <td>8585.450931</td>\n",
              "      <td>8594.951213</td>\n",
              "    </tr>\n",
              "    <tr>\n",
              "      <th>std</th>\n",
              "      <td>1023.786355</td>\n",
              "      <td>5.191054e+04</td>\n",
              "      <td>6669.430644</td>\n",
              "      <td>6763.880904</td>\n",
              "      <td>6564.485202</td>\n",
              "      <td>6682.042300</td>\n",
              "      <td>5.608826e+10</td>\n",
              "      <td>3.329542e+06</td>\n",
              "      <td>672.187749</td>\n",
              "      <td>6660.965520</td>\n",
              "      <td>6677.021620</td>\n",
              "    </tr>\n",
              "    <tr>\n",
              "      <th>min</th>\n",
              "      <td>0.000000</td>\n",
              "      <td>2.001050e+07</td>\n",
              "      <td>1305.000000</td>\n",
              "      <td>1305.000000</td>\n",
              "      <td>1305.000000</td>\n",
              "      <td>1305.000000</td>\n",
              "      <td>4.518000e+04</td>\n",
              "      <td>1.000000e+01</td>\n",
              "      <td>1.000000</td>\n",
              "      <td>1305.000000</td>\n",
              "      <td>1305.000000</td>\n",
              "    </tr>\n",
              "    <tr>\n",
              "      <th>25%</th>\n",
              "      <td>886.250000</td>\n",
              "      <td>2.007121e+07</td>\n",
              "      <td>3840.000000</td>\n",
              "      <td>3890.000000</td>\n",
              "      <td>3784.000000</td>\n",
              "      <td>3828.000000</td>\n",
              "      <td>1.053480e+09</td>\n",
              "      <td>1.356290e+05</td>\n",
              "      <td>53.000000</td>\n",
              "      <td>3827.250000</td>\n",
              "      <td>3820.000000</td>\n",
              "    </tr>\n",
              "    <tr>\n",
              "      <th>50%</th>\n",
              "      <td>1772.500000</td>\n",
              "      <td>2.012072e+07</td>\n",
              "      <td>7112.000000</td>\n",
              "      <td>7200.000000</td>\n",
              "      <td>7000.000000</td>\n",
              "      <td>7099.500000</td>\n",
              "      <td>4.940772e+09</td>\n",
              "      <td>8.506735e+05</td>\n",
              "      <td>223.000000</td>\n",
              "      <td>7083.000000</td>\n",
              "      <td>7094.000000</td>\n",
              "    </tr>\n",
              "    <tr>\n",
              "      <th>75%</th>\n",
              "      <td>2658.750000</td>\n",
              "      <td>2.016071e+07</td>\n",
              "      <td>10914.500000</td>\n",
              "      <td>11000.000000</td>\n",
              "      <td>10731.500000</td>\n",
              "      <td>10883.000000</td>\n",
              "      <td>1.466050e+10</td>\n",
              "      <td>2.499011e+06</td>\n",
              "      <td>489.750000</td>\n",
              "      <td>10857.750000</td>\n",
              "      <td>10896.750000</td>\n",
              "    </tr>\n",
              "    <tr>\n",
              "      <th>max</th>\n",
              "      <td>3545.000000</td>\n",
              "      <td>2.020060e+07</td>\n",
              "      <td>42650.000000</td>\n",
              "      <td>43000.000000</td>\n",
              "      <td>40660.000000</td>\n",
              "      <td>42504.000000</td>\n",
              "      <td>1.322401e+12</td>\n",
              "      <td>4.071108e+07</td>\n",
              "      <td>14028.000000</td>\n",
              "      <td>42504.000000</td>\n",
              "      <td>42703.000000</td>\n",
              "    </tr>\n",
              "  </tbody>\n",
              "</table>\n",
              "</div>"
            ],
            "text/plain": [
              "        Unnamed: 0  <DTYYYYMMDD>  ...        <OPEN>        <LAST>\n",
              "count  3546.000000  3.546000e+03  ...   3546.000000   3546.000000\n",
              "mean   1772.500000  2.011695e+07  ...   8585.450931   8594.951213\n",
              "std    1023.786355  5.191054e+04  ...   6660.965520   6677.021620\n",
              "min       0.000000  2.001050e+07  ...   1305.000000   1305.000000\n",
              "25%     886.250000  2.007121e+07  ...   3827.250000   3820.000000\n",
              "50%    1772.500000  2.012072e+07  ...   7083.000000   7094.000000\n",
              "75%    2658.750000  2.016071e+07  ...  10857.750000  10896.750000\n",
              "max    3545.000000  2.020060e+07  ...  42504.000000  42703.000000\n",
              "\n",
              "[8 rows x 11 columns]"
            ]
          },
          "metadata": {
            "tags": []
          },
          "execution_count": 649
        }
      ]
    },
    {
      "cell_type": "code",
      "metadata": {
        "id": "mkJ2qxhUTjGJ",
        "colab": {
          "base_uri": "https://localhost:8080/",
          "height": 564
        },
        "outputId": "3710eb28-9158-45ca-f413-ba19cdd2c670"
      },
      "source": [
        "import seaborn as sns\n",
        "plt.figure(1 , figsize = (17 , 8))\n",
        "cor = sns.heatmap(df.corr(), annot = True)"
      ],
      "execution_count": null,
      "outputs": [
        {
          "output_type": "display_data",
          "data": {
            "image/png": "[encoded data removed]",
            "text/plain": [
              "<Figure size 1224x576 with 2 Axes>"
            ]
          },
          "metadata": {
            "tags": [],
            "needs_background": "light"
          }
        }
      ]
    },
    {
      "cell_type": "code",
      "metadata": {
        "id": "VWy495nCOFQ_",
        "colab": {
          "base_uri": "https://localhost:8080/",
          "height": 223
        },
        "outputId": "551bf118-52fd-45a0-87ff-b912af82e7ca"
      },
      "source": [
        "df['datetime'] = pd.to_datetime(df['<DTYYYYMMDD>'], format='%Y%m%d')\n",
        "df.index = df['datetime']\n",
        "df.dropna()\n",
        "df_new = df[[\"<FIRST>\",\"<HIGH>\",\"<LOW>\",\"<CLOSE>\",\"<VALUE>\",\"<VOL>\"]]\n",
        "df_new.head()"
      ],
      "execution_count": null,
      "outputs": [
        {
          "output_type": "execute_result",
          "data": {
            "text/html": [
              "<div>\n",
              "<style scoped>\n",
              "    .dataframe tbody tr th:only-of-type {\n",
              "        vertical-align: middle;\n",
              "    }\n",
              "\n",
              "    .dataframe tbody tr th {\n",
              "        vertical-align: top;\n",
              "    }\n",
              "\n",
              "    .dataframe thead th {\n",
              "        text-align: right;\n",
              "    }\n",
              "</style>\n",
              "<table border=\"1\" class=\"dataframe\">\n",
              "  <thead>\n",
              "    <tr style=\"text-align: right;\">\n",
              "      <th></th>\n",
              "      <th>&lt;FIRST&gt;</th>\n",
              "      <th>&lt;HIGH&gt;</th>\n",
              "      <th>&lt;LOW&gt;</th>\n",
              "      <th>&lt;CLOSE&gt;</th>\n",
              "      <th>&lt;VALUE&gt;</th>\n",
              "      <th>&lt;VOL&gt;</th>\n",
              "    </tr>\n",
              "    <tr>\n",
              "      <th>datetime</th>\n",
              "      <th></th>\n",
              "      <th></th>\n",
              "      <th></th>\n",
              "      <th></th>\n",
              "      <th></th>\n",
              "      <th></th>\n",
              "    </tr>\n",
              "  </thead>\n",
              "  <tbody>\n",
              "    <tr>\n",
              "      <th>2001-05-01</th>\n",
              "      <td>5750.0</td>\n",
              "      <td>5750.0</td>\n",
              "      <td>5750.0</td>\n",
              "      <td>5750.0</td>\n",
              "      <td>575000</td>\n",
              "      <td>100</td>\n",
              "    </tr>\n",
              "    <tr>\n",
              "      <th>2001-05-06</th>\n",
              "      <td>5807.0</td>\n",
              "      <td>5807.0</td>\n",
              "      <td>5807.0</td>\n",
              "      <td>5807.0</td>\n",
              "      <td>9947391</td>\n",
              "      <td>1713</td>\n",
              "    </tr>\n",
              "    <tr>\n",
              "      <th>2001-05-12</th>\n",
              "      <td>5865.0</td>\n",
              "      <td>5865.0</td>\n",
              "      <td>5865.0</td>\n",
              "      <td>5865.0</td>\n",
              "      <td>2991150</td>\n",
              "      <td>510</td>\n",
              "    </tr>\n",
              "    <tr>\n",
              "      <th>2001-05-13</th>\n",
              "      <td>5923.0</td>\n",
              "      <td>5923.0</td>\n",
              "      <td>5923.0</td>\n",
              "      <td>5923.0</td>\n",
              "      <td>11846000</td>\n",
              "      <td>2000</td>\n",
              "    </tr>\n",
              "    <tr>\n",
              "      <th>2001-05-15</th>\n",
              "      <td>5982.0</td>\n",
              "      <td>5982.0</td>\n",
              "      <td>5982.0</td>\n",
              "      <td>5982.0</td>\n",
              "      <td>5982000</td>\n",
              "      <td>1000</td>\n",
              "    </tr>\n",
              "  </tbody>\n",
              "</table>\n",
              "</div>"
            ],
            "text/plain": [
              "            <FIRST>  <HIGH>   <LOW>  <CLOSE>   <VALUE>  <VOL>\n",
              "datetime                                                     \n",
              "2001-05-01   5750.0  5750.0  5750.0   5750.0    575000    100\n",
              "2001-05-06   5807.0  5807.0  5807.0   5807.0   9947391   1713\n",
              "2001-05-12   5865.0  5865.0  5865.0   5865.0   2991150    510\n",
              "2001-05-13   5923.0  5923.0  5923.0   5923.0  11846000   2000\n",
              "2001-05-15   5982.0  5982.0  5982.0   5982.0   5982000   1000"
            ]
          },
          "metadata": {
            "tags": []
          },
          "execution_count": 651
        }
      ]
    },
    {
      "cell_type": "code",
      "metadata": {
        "id": "hLz42nBYber_",
        "colab": {
          "base_uri": "https://localhost:8080/"
        },
        "outputId": "ca9f4cf9-b938-4843-a029-6efa4f600291"
      },
      "source": [
        "df_new.shape"
      ],
      "execution_count": null,
      "outputs": [
        {
          "output_type": "execute_result",
          "data": {
            "text/plain": [
              "(3546, 6)"
            ]
          },
          "metadata": {
            "tags": []
          },
          "execution_count": 652
        }
      ]
    },
    {
      "cell_type": "code",
      "metadata": {
        "id": "kvkvBjzCbesH",
        "colab": {
          "base_uri": "https://localhost:8080/"
        },
        "outputId": "140c4116-f5a4-4cd9-cd9c-5129a0a3ea09"
      },
      "source": [
        "#Calculating the change in price\n",
        "df_new['change_in_price'] = df_new['<CLOSE>'].diff()"
      ],
      "execution_count": null,
      "outputs": [
        {
          "output_type": "stream",
          "text": [
            "/usr/local/lib/python3.6/dist-packages/ipykernel_launcher.py:2: SettingWithCopyWarning: \n",
            "A value is trying to be set on a copy of a slice from a DataFrame.\n",
            "Try using .loc[row_indexer,col_indexer] = value instead\n",
            "\n",
            "See the caveats in the documentation: https://pandas.pydata.org/pandas-docs/stable/user_guide/indexing.html#returning-a-view-versus-a-copy\n",
            "  \n"
          ],
          "name": "stderr"
        }
      ]
    },
    {
      "cell_type": "markdown",
      "metadata": {
        "id": "6Q4sHYAVhXdc"
      },
      "source": [
        "## **Data Visualisation**"
      ]
    },
    {
      "cell_type": "code",
      "metadata": {
        "id": "xvmCMSnkZO6R",
        "colab": {
          "base_uri": "https://localhost:8080/",
          "height": 500
        },
        "outputId": "5380316b-7b51-4635-9000-4bd396e5b33f"
      },
      "source": [
        "plt.figure(figsize=(16,8))\n",
        "plt.plot(df_new['change_in_price'], label='Change In Price')"
      ],
      "execution_count": null,
      "outputs": [
        {
          "output_type": "execute_result",
          "data": {
            "text/plain": [
              "[<matplotlib.lines.Line2D at 0x7f3c6dda9860>]"
            ]
          },
          "metadata": {
            "tags": []
          },
          "execution_count": 654
        },
        {
          "output_type": "display_data",
          "data": {
            "image/png": "[encoded data removed]",
            "text/plain": [
              "<Figure size 1152x576 with 1 Axes>"
            ]
          },
          "metadata": {
            "tags": [],
            "needs_background": "light"
          }
        }
      ]
    },
    {
      "cell_type": "code",
      "metadata": {
        "id": "AiDa4AToWnzp",
        "colab": {
          "base_uri": "https://localhost:8080/",
          "height": 500
        },
        "outputId": "f354aaab-b6c7-4774-f2a0-6a68cae61251"
      },
      "source": [
        "plt.figure(figsize=(16,8))\n",
        "plt.plot(df_new['<CLOSE>'], label='Close Price history')"
      ],
      "execution_count": null,
      "outputs": [
        {
          "output_type": "execute_result",
          "data": {
            "text/plain": [
              "[<matplotlib.lines.Line2D at 0x7f3c7483c470>]"
            ]
          },
          "metadata": {
            "tags": []
          },
          "execution_count": 655
        },
        {
          "output_type": "display_data",
          "data": {
            "image/png": "[encoded data removed]",
            "text/plain": [
              "<Figure size 1152x576 with 1 Axes>"
            ]
          },
          "metadata": {
            "tags": [],
            "needs_background": "light"
          }
        }
      ]
    },
    {
      "cell_type": "markdown",
      "metadata": {
        "id": "1vZkESASbesL"
      },
      "source": [
        "## **Calculating the technical indicators**"
      ]
    },
    {
      "cell_type": "code",
      "metadata": {
        "id": "iqjLW__ObesM",
        "colab": {
          "base_uri": "https://localhost:8080/",
          "height": 223
        },
        "outputId": "ab7ecb3f-b796-4709-b38c-cbd5ea864845"
      },
      "source": [
        "#1. Simple n day moving average\n",
        "#A moving average (MA) is a widely used technical indicator that smooths out price trends by filtering out the “noise” from random short-term price fluctuations.\n",
        "##The most common applications of moving averages are to identify trend direction and to determine support and resistance levels.\n",
        "def moving_average(df, n):\n",
        "    \"\"\"Calculate the moving average for the given data.\n",
        "    :param df: pandas.DataFrame\n",
        "    :param n:\n",
        "    :return: pandas.DataFrame\n",
        "    \"\"\"\n",
        "    MA = pd.Series(df['<CLOSE>'].rolling(n, min_periods=n).mean(), name='MA_' + str(n))\n",
        "    df = df.join(MA)\n",
        "    return df\n",
        "df_new = moving_average(df_new,10)\n",
        "df_new.tail()"
      ],
      "execution_count": null,
      "outputs": [
        {
          "output_type": "execute_result",
          "data": {
            "text/html": [
              "<div>\n",
              "<style scoped>\n",
              "    .dataframe tbody tr th:only-of-type {\n",
              "        vertical-align: middle;\n",
              "    }\n",
              "\n",
              "    .dataframe tbody tr th {\n",
              "        vertical-align: top;\n",
              "    }\n",
              "\n",
              "    .dataframe thead th {\n",
              "        text-align: right;\n",
              "    }\n",
              "</style>\n",
              "<table border=\"1\" class=\"dataframe\">\n",
              "  <thead>\n",
              "    <tr style=\"text-align: right;\">\n",
              "      <th></th>\n",
              "      <th>&lt;FIRST&gt;</th>\n",
              "      <th>&lt;HIGH&gt;</th>\n",
              "      <th>&lt;LOW&gt;</th>\n",
              "      <th>&lt;CLOSE&gt;</th>\n",
              "      <th>&lt;VALUE&gt;</th>\n",
              "      <th>&lt;VOL&gt;</th>\n",
              "      <th>change_in_price</th>\n",
              "      <th>MA_10</th>\n",
              "    </tr>\n",
              "    <tr>\n",
              "      <th>datetime</th>\n",
              "      <th></th>\n",
              "      <th></th>\n",
              "      <th></th>\n",
              "      <th></th>\n",
              "      <th></th>\n",
              "      <th></th>\n",
              "      <th></th>\n",
              "      <th></th>\n",
              "    </tr>\n",
              "  </thead>\n",
              "  <tbody>\n",
              "    <tr>\n",
              "      <th>2020-05-26</th>\n",
              "      <td>34051.0</td>\n",
              "      <td>35000.0</td>\n",
              "      <td>33429.0</td>\n",
              "      <td>33887.0</td>\n",
              "      <td>91075271139</td>\n",
              "      <td>2688840</td>\n",
              "      <td>-1301.0</td>\n",
              "      <td>35695.6</td>\n",
              "    </tr>\n",
              "    <tr>\n",
              "      <th>2020-05-27</th>\n",
              "      <td>32466.0</td>\n",
              "      <td>35565.0</td>\n",
              "      <td>32466.0</td>\n",
              "      <td>35051.0</td>\n",
              "      <td>188533230075</td>\n",
              "      <td>5378788</td>\n",
              "      <td>1164.0</td>\n",
              "      <td>35527.1</td>\n",
              "    </tr>\n",
              "    <tr>\n",
              "      <th>2020-05-30</th>\n",
              "      <td>36803.0</td>\n",
              "      <td>36803.0</td>\n",
              "      <td>36803.0</td>\n",
              "      <td>36803.0</td>\n",
              "      <td>112049162498</td>\n",
              "      <td>3044566</td>\n",
              "      <td>1752.0</td>\n",
              "      <td>35706.8</td>\n",
              "    </tr>\n",
              "    <tr>\n",
              "      <th>2020-05-31</th>\n",
              "      <td>38643.0</td>\n",
              "      <td>38643.0</td>\n",
              "      <td>36810.0</td>\n",
              "      <td>38615.0</td>\n",
              "      <td>771614696040</td>\n",
              "      <td>19982276</td>\n",
              "      <td>1812.0</td>\n",
              "      <td>36009.5</td>\n",
              "    </tr>\n",
              "    <tr>\n",
              "      <th>2020-06-01</th>\n",
              "      <td>40490.0</td>\n",
              "      <td>40545.0</td>\n",
              "      <td>38700.0</td>\n",
              "      <td>40451.0</td>\n",
              "      <td>266346818518</td>\n",
              "      <td>6584463</td>\n",
              "      <td>1836.0</td>\n",
              "      <td>36637.2</td>\n",
              "    </tr>\n",
              "  </tbody>\n",
              "</table>\n",
              "</div>"
            ],
            "text/plain": [
              "            <FIRST>   <HIGH>    <LOW>  ...     <VOL>  change_in_price    MA_10\n",
              "datetime                               ...                                    \n",
              "2020-05-26  34051.0  35000.0  33429.0  ...   2688840          -1301.0  35695.6\n",
              "2020-05-27  32466.0  35565.0  32466.0  ...   5378788           1164.0  35527.1\n",
              "2020-05-30  36803.0  36803.0  36803.0  ...   3044566           1752.0  35706.8\n",
              "2020-05-31  38643.0  38643.0  36810.0  ...  19982276           1812.0  36009.5\n",
              "2020-06-01  40490.0  40545.0  38700.0  ...   6584463           1836.0  36637.2\n",
              "\n",
              "[5 rows x 8 columns]"
            ]
          },
          "metadata": {
            "tags": []
          },
          "execution_count": 656
        }
      ]
    },
    {
      "cell_type": "code",
      "metadata": {
        "id": "080HB4bObesP",
        "colab": {
          "base_uri": "https://localhost:8080/",
          "height": 223
        },
        "outputId": "18a5957a-64ad-49dc-d794-9d35e7df548f"
      },
      "source": [
        "#2. Weighted Moving Average (WMA)\n",
        "def weighted_moving_average(df, n):\n",
        "    \"\"\"\n",
        "    :param df: pandas.DataFrame\n",
        "    :param n:\n",
        "    :return: pandas.DataFrame\n",
        "    \"\"\"\n",
        "    WMA = pd.Series(df['<CLOSE>'].ewm(span=n, min_periods=n).mean(), name='WMA_' + str(n))\n",
        "    df = df.join(WMA)\n",
        "    return df\n",
        "df_new = weighted_moving_average(df_new,10)\n",
        "df_new.tail()"
      ],
      "execution_count": null,
      "outputs": [
        {
          "output_type": "execute_result",
          "data": {
            "text/html": [
              "<div>\n",
              "<style scoped>\n",
              "    .dataframe tbody tr th:only-of-type {\n",
              "        vertical-align: middle;\n",
              "    }\n",
              "\n",
              "    .dataframe tbody tr th {\n",
              "        vertical-align: top;\n",
              "    }\n",
              "\n",
              "    .dataframe thead th {\n",
              "        text-align: right;\n",
              "    }\n",
              "</style>\n",
              "<table border=\"1\" class=\"dataframe\">\n",
              "  <thead>\n",
              "    <tr style=\"text-align: right;\">\n",
              "      <th></th>\n",
              "      <th>&lt;FIRST&gt;</th>\n",
              "      <th>&lt;HIGH&gt;</th>\n",
              "      <th>&lt;LOW&gt;</th>\n",
              "      <th>&lt;CLOSE&gt;</th>\n",
              "      <th>&lt;VALUE&gt;</th>\n",
              "      <th>&lt;VOL&gt;</th>\n",
              "      <th>change_in_price</th>\n",
              "      <th>MA_10</th>\n",
              "      <th>WMA_10</th>\n",
              "    </tr>\n",
              "    <tr>\n",
              "      <th>datetime</th>\n",
              "      <th></th>\n",
              "      <th></th>\n",
              "      <th></th>\n",
              "      <th></th>\n",
              "      <th></th>\n",
              "      <th></th>\n",
              "      <th></th>\n",
              "      <th></th>\n",
              "      <th></th>\n",
              "    </tr>\n",
              "  </thead>\n",
              "  <tbody>\n",
              "    <tr>\n",
              "      <th>2020-05-26</th>\n",
              "      <td>34051.0</td>\n",
              "      <td>35000.0</td>\n",
              "      <td>33429.0</td>\n",
              "      <td>33887.0</td>\n",
              "      <td>91075271139</td>\n",
              "      <td>2688840</td>\n",
              "      <td>-1301.0</td>\n",
              "      <td>35695.6</td>\n",
              "      <td>35967.692374</td>\n",
              "    </tr>\n",
              "    <tr>\n",
              "      <th>2020-05-27</th>\n",
              "      <td>32466.0</td>\n",
              "      <td>35565.0</td>\n",
              "      <td>32466.0</td>\n",
              "      <td>35051.0</td>\n",
              "      <td>188533230075</td>\n",
              "      <td>5378788</td>\n",
              "      <td>1164.0</td>\n",
              "      <td>35527.1</td>\n",
              "      <td>35801.021033</td>\n",
              "    </tr>\n",
              "    <tr>\n",
              "      <th>2020-05-30</th>\n",
              "      <td>36803.0</td>\n",
              "      <td>36803.0</td>\n",
              "      <td>36803.0</td>\n",
              "      <td>36803.0</td>\n",
              "      <td>112049162498</td>\n",
              "      <td>3044566</td>\n",
              "      <td>1752.0</td>\n",
              "      <td>35706.8</td>\n",
              "      <td>35983.199027</td>\n",
              "    </tr>\n",
              "    <tr>\n",
              "      <th>2020-05-31</th>\n",
              "      <td>38643.0</td>\n",
              "      <td>38643.0</td>\n",
              "      <td>36810.0</td>\n",
              "      <td>38615.0</td>\n",
              "      <td>771614696040</td>\n",
              "      <td>19982276</td>\n",
              "      <td>1812.0</td>\n",
              "      <td>36009.5</td>\n",
              "      <td>36461.708295</td>\n",
              "    </tr>\n",
              "    <tr>\n",
              "      <th>2020-06-01</th>\n",
              "      <td>40490.0</td>\n",
              "      <td>40545.0</td>\n",
              "      <td>38700.0</td>\n",
              "      <td>40451.0</td>\n",
              "      <td>266346818518</td>\n",
              "      <td>6584463</td>\n",
              "      <td>1836.0</td>\n",
              "      <td>36637.2</td>\n",
              "      <td>37187.034059</td>\n",
              "    </tr>\n",
              "  </tbody>\n",
              "</table>\n",
              "</div>"
            ],
            "text/plain": [
              "            <FIRST>   <HIGH>    <LOW>  ...  change_in_price    MA_10        WMA_10\n",
              "datetime                               ...                                        \n",
              "2020-05-26  34051.0  35000.0  33429.0  ...          -1301.0  35695.6  35967.692374\n",
              "2020-05-27  32466.0  35565.0  32466.0  ...           1164.0  35527.1  35801.021033\n",
              "2020-05-30  36803.0  36803.0  36803.0  ...           1752.0  35706.8  35983.199027\n",
              "2020-05-31  38643.0  38643.0  36810.0  ...           1812.0  36009.5  36461.708295\n",
              "2020-06-01  40490.0  40545.0  38700.0  ...           1836.0  36637.2  37187.034059\n",
              "\n",
              "[5 rows x 9 columns]"
            ]
          },
          "metadata": {
            "tags": []
          },
          "execution_count": 657
        }
      ]
    },
    {
      "cell_type": "code",
      "metadata": {
        "id": "lTZOxNVrbesS",
        "colab": {
          "base_uri": "https://localhost:8080/",
          "height": 223
        },
        "outputId": "d73ef9a2-9c3f-44ce-ab46-75fe0dd3f91a"
      },
      "source": [
        "#3. Momentum\n",
        "def momentum(df, n):\n",
        "    \"\"\"\n",
        "    :param df: pandas.DataFrame\n",
        "    :param n:\n",
        "    :return: pandas.DataFrame\n",
        "    \"\"\"\n",
        "    M = pd.Series(df['<CLOSE>'].diff(n), name='MOM_' + str(n))\n",
        "    df = df.join(M)\n",
        "    return df\n",
        "df_new = momentum(df_new,10)\n",
        "df_new.tail()"
      ],
      "execution_count": null,
      "outputs": [
        {
          "output_type": "execute_result",
          "data": {
            "text/html": [
              "<div>\n",
              "<style scoped>\n",
              "    .dataframe tbody tr th:only-of-type {\n",
              "        vertical-align: middle;\n",
              "    }\n",
              "\n",
              "    .dataframe tbody tr th {\n",
              "        vertical-align: top;\n",
              "    }\n",
              "\n",
              "    .dataframe thead th {\n",
              "        text-align: right;\n",
              "    }\n",
              "</style>\n",
              "<table border=\"1\" class=\"dataframe\">\n",
              "  <thead>\n",
              "    <tr style=\"text-align: right;\">\n",
              "      <th></th>\n",
              "      <th>&lt;FIRST&gt;</th>\n",
              "      <th>&lt;HIGH&gt;</th>\n",
              "      <th>&lt;LOW&gt;</th>\n",
              "      <th>&lt;CLOSE&gt;</th>\n",
              "      <th>&lt;VALUE&gt;</th>\n",
              "      <th>&lt;VOL&gt;</th>\n",
              "      <th>change_in_price</th>\n",
              "      <th>MA_10</th>\n",
              "      <th>WMA_10</th>\n",
              "      <th>MOM_10</th>\n",
              "    </tr>\n",
              "    <tr>\n",
              "      <th>datetime</th>\n",
              "      <th></th>\n",
              "      <th></th>\n",
              "      <th></th>\n",
              "      <th></th>\n",
              "      <th></th>\n",
              "      <th></th>\n",
              "      <th></th>\n",
              "      <th></th>\n",
              "      <th></th>\n",
              "      <th></th>\n",
              "    </tr>\n",
              "  </thead>\n",
              "  <tbody>\n",
              "    <tr>\n",
              "      <th>2020-05-26</th>\n",
              "      <td>34051.0</td>\n",
              "      <td>35000.0</td>\n",
              "      <td>33429.0</td>\n",
              "      <td>33887.0</td>\n",
              "      <td>91075271139</td>\n",
              "      <td>2688840</td>\n",
              "      <td>-1301.0</td>\n",
              "      <td>35695.6</td>\n",
              "      <td>35967.692374</td>\n",
              "      <td>-4663.0</td>\n",
              "    </tr>\n",
              "    <tr>\n",
              "      <th>2020-05-27</th>\n",
              "      <td>32466.0</td>\n",
              "      <td>35565.0</td>\n",
              "      <td>32466.0</td>\n",
              "      <td>35051.0</td>\n",
              "      <td>188533230075</td>\n",
              "      <td>5378788</td>\n",
              "      <td>1164.0</td>\n",
              "      <td>35527.1</td>\n",
              "      <td>35801.021033</td>\n",
              "      <td>-1685.0</td>\n",
              "    </tr>\n",
              "    <tr>\n",
              "      <th>2020-05-30</th>\n",
              "      <td>36803.0</td>\n",
              "      <td>36803.0</td>\n",
              "      <td>36803.0</td>\n",
              "      <td>36803.0</td>\n",
              "      <td>112049162498</td>\n",
              "      <td>3044566</td>\n",
              "      <td>1752.0</td>\n",
              "      <td>35706.8</td>\n",
              "      <td>35983.199027</td>\n",
              "      <td>1797.0</td>\n",
              "    </tr>\n",
              "    <tr>\n",
              "      <th>2020-05-31</th>\n",
              "      <td>38643.0</td>\n",
              "      <td>38643.0</td>\n",
              "      <td>36810.0</td>\n",
              "      <td>38615.0</td>\n",
              "      <td>771614696040</td>\n",
              "      <td>19982276</td>\n",
              "      <td>1812.0</td>\n",
              "      <td>36009.5</td>\n",
              "      <td>36461.708295</td>\n",
              "      <td>3027.0</td>\n",
              "    </tr>\n",
              "    <tr>\n",
              "      <th>2020-06-01</th>\n",
              "      <td>40490.0</td>\n",
              "      <td>40545.0</td>\n",
              "      <td>38700.0</td>\n",
              "      <td>40451.0</td>\n",
              "      <td>266346818518</td>\n",
              "      <td>6584463</td>\n",
              "      <td>1836.0</td>\n",
              "      <td>36637.2</td>\n",
              "      <td>37187.034059</td>\n",
              "      <td>6277.0</td>\n",
              "    </tr>\n",
              "  </tbody>\n",
              "</table>\n",
              "</div>"
            ],
            "text/plain": [
              "            <FIRST>   <HIGH>    <LOW>  ...    MA_10        WMA_10  MOM_10\n",
              "datetime                               ...                               \n",
              "2020-05-26  34051.0  35000.0  33429.0  ...  35695.6  35967.692374 -4663.0\n",
              "2020-05-27  32466.0  35565.0  32466.0  ...  35527.1  35801.021033 -1685.0\n",
              "2020-05-30  36803.0  36803.0  36803.0  ...  35706.8  35983.199027  1797.0\n",
              "2020-05-31  38643.0  38643.0  36810.0  ...  36009.5  36461.708295  3027.0\n",
              "2020-06-01  40490.0  40545.0  38700.0  ...  36637.2  37187.034059  6277.0\n",
              "\n",
              "[5 rows x 10 columns]"
            ]
          },
          "metadata": {
            "tags": []
          },
          "execution_count": 658
        }
      ]
    },
    {
      "cell_type": "code",
      "metadata": {
        "id": "9WasGdiqbesV",
        "colab": {
          "base_uri": "https://localhost:8080/",
          "height": 223
        },
        "outputId": "c65665c5-1398-485a-b990-2ceec75edd38"
      },
      "source": [
        "#4. Stochastic K%\n",
        "def stochastic_oscillator_k(df):\n",
        "    \"\"\"Calculate stochastic oscillator %K for given data.\n",
        "    :param df: pandas.DataFrame\n",
        "    :return: pandas.DataFrame\n",
        "    \"\"\"\n",
        "    SOk = pd.Series((df['<CLOSE>'] - df['<LOW>']) / (df['<HIGH>'] - df['<LOW>']), name='SO_k')\n",
        "    df = df.join(SOk)\n",
        "    return df\n",
        "df_new = stochastic_oscillator_k(df_new)\n",
        "df_new.tail()"
      ],
      "execution_count": null,
      "outputs": [
        {
          "output_type": "execute_result",
          "data": {
            "text/html": [
              "<div>\n",
              "<style scoped>\n",
              "    .dataframe tbody tr th:only-of-type {\n",
              "        vertical-align: middle;\n",
              "    }\n",
              "\n",
              "    .dataframe tbody tr th {\n",
              "        vertical-align: top;\n",
              "    }\n",
              "\n",
              "    .dataframe thead th {\n",
              "        text-align: right;\n",
              "    }\n",
              "</style>\n",
              "<table border=\"1\" class=\"dataframe\">\n",
              "  <thead>\n",
              "    <tr style=\"text-align: right;\">\n",
              "      <th></th>\n",
              "      <th>&lt;FIRST&gt;</th>\n",
              "      <th>&lt;HIGH&gt;</th>\n",
              "      <th>&lt;LOW&gt;</th>\n",
              "      <th>&lt;CLOSE&gt;</th>\n",
              "      <th>&lt;VALUE&gt;</th>\n",
              "      <th>&lt;VOL&gt;</th>\n",
              "      <th>change_in_price</th>\n",
              "      <th>MA_10</th>\n",
              "      <th>WMA_10</th>\n",
              "      <th>MOM_10</th>\n",
              "      <th>SO_k</th>\n",
              "    </tr>\n",
              "    <tr>\n",
              "      <th>datetime</th>\n",
              "      <th></th>\n",
              "      <th></th>\n",
              "      <th></th>\n",
              "      <th></th>\n",
              "      <th></th>\n",
              "      <th></th>\n",
              "      <th></th>\n",
              "      <th></th>\n",
              "      <th></th>\n",
              "      <th></th>\n",
              "      <th></th>\n",
              "    </tr>\n",
              "  </thead>\n",
              "  <tbody>\n",
              "    <tr>\n",
              "      <th>2020-05-26</th>\n",
              "      <td>34051.0</td>\n",
              "      <td>35000.0</td>\n",
              "      <td>33429.0</td>\n",
              "      <td>33887.0</td>\n",
              "      <td>91075271139</td>\n",
              "      <td>2688840</td>\n",
              "      <td>-1301.0</td>\n",
              "      <td>35695.6</td>\n",
              "      <td>35967.692374</td>\n",
              "      <td>-4663.0</td>\n",
              "      <td>0.291534</td>\n",
              "    </tr>\n",
              "    <tr>\n",
              "      <th>2020-05-27</th>\n",
              "      <td>32466.0</td>\n",
              "      <td>35565.0</td>\n",
              "      <td>32466.0</td>\n",
              "      <td>35051.0</td>\n",
              "      <td>188533230075</td>\n",
              "      <td>5378788</td>\n",
              "      <td>1164.0</td>\n",
              "      <td>35527.1</td>\n",
              "      <td>35801.021033</td>\n",
              "      <td>-1685.0</td>\n",
              "      <td>0.834140</td>\n",
              "    </tr>\n",
              "    <tr>\n",
              "      <th>2020-05-30</th>\n",
              "      <td>36803.0</td>\n",
              "      <td>36803.0</td>\n",
              "      <td>36803.0</td>\n",
              "      <td>36803.0</td>\n",
              "      <td>112049162498</td>\n",
              "      <td>3044566</td>\n",
              "      <td>1752.0</td>\n",
              "      <td>35706.8</td>\n",
              "      <td>35983.199027</td>\n",
              "      <td>1797.0</td>\n",
              "      <td>NaN</td>\n",
              "    </tr>\n",
              "    <tr>\n",
              "      <th>2020-05-31</th>\n",
              "      <td>38643.0</td>\n",
              "      <td>38643.0</td>\n",
              "      <td>36810.0</td>\n",
              "      <td>38615.0</td>\n",
              "      <td>771614696040</td>\n",
              "      <td>19982276</td>\n",
              "      <td>1812.0</td>\n",
              "      <td>36009.5</td>\n",
              "      <td>36461.708295</td>\n",
              "      <td>3027.0</td>\n",
              "      <td>0.984724</td>\n",
              "    </tr>\n",
              "    <tr>\n",
              "      <th>2020-06-01</th>\n",
              "      <td>40490.0</td>\n",
              "      <td>40545.0</td>\n",
              "      <td>38700.0</td>\n",
              "      <td>40451.0</td>\n",
              "      <td>266346818518</td>\n",
              "      <td>6584463</td>\n",
              "      <td>1836.0</td>\n",
              "      <td>36637.2</td>\n",
              "      <td>37187.034059</td>\n",
              "      <td>6277.0</td>\n",
              "      <td>0.949051</td>\n",
              "    </tr>\n",
              "  </tbody>\n",
              "</table>\n",
              "</div>"
            ],
            "text/plain": [
              "            <FIRST>   <HIGH>    <LOW>  ...        WMA_10  MOM_10      SO_k\n",
              "datetime                               ...                                \n",
              "2020-05-26  34051.0  35000.0  33429.0  ...  35967.692374 -4663.0  0.291534\n",
              "2020-05-27  32466.0  35565.0  32466.0  ...  35801.021033 -1685.0  0.834140\n",
              "2020-05-30  36803.0  36803.0  36803.0  ...  35983.199027  1797.0       NaN\n",
              "2020-05-31  38643.0  38643.0  36810.0  ...  36461.708295  3027.0  0.984724\n",
              "2020-06-01  40490.0  40545.0  38700.0  ...  37187.034059  6277.0  0.949051\n",
              "\n",
              "[5 rows x 11 columns]"
            ]
          },
          "metadata": {
            "tags": []
          },
          "execution_count": 659
        }
      ]
    },
    {
      "cell_type": "code",
      "metadata": {
        "id": "d5u31Lq2besX",
        "colab": {
          "base_uri": "https://localhost:8080/",
          "height": 223
        },
        "outputId": "f3d167d4-4414-44dd-df7d-e39771d8d4ef"
      },
      "source": [
        "#5. Stochastic D%\n",
        "def stochastic_oscillator_d(df, n):\n",
        "    \"\"\"Calculate stochastic oscillator %D for given data.\n",
        "    :param df: pandas.DataFrame\n",
        "    :param n:\n",
        "    :return: pandas.DataFrame\n",
        "    \"\"\"\n",
        "    SOk = pd.Series((df['<CLOSE>'] - df['<LOW>']) / (df['<HIGH>'] - df['<LOW>']), name='SO%k')\n",
        "    SOd = pd.Series(SOk.ewm(span=n, min_periods=n).mean(), name='SO_' + str(n))\n",
        "    df = df.join(SOd)\n",
        "    return df\n",
        "df_new = stochastic_oscillator_d(df_new,10)\n",
        "df_new.tail()"
      ],
      "execution_count": null,
      "outputs": [
        {
          "output_type": "execute_result",
          "data": {
            "text/html": [
              "<div>\n",
              "<style scoped>\n",
              "    .dataframe tbody tr th:only-of-type {\n",
              "        vertical-align: middle;\n",
              "    }\n",
              "\n",
              "    .dataframe tbody tr th {\n",
              "        vertical-align: top;\n",
              "    }\n",
              "\n",
              "    .dataframe thead th {\n",
              "        text-align: right;\n",
              "    }\n",
              "</style>\n",
              "<table border=\"1\" class=\"dataframe\">\n",
              "  <thead>\n",
              "    <tr style=\"text-align: right;\">\n",
              "      <th></th>\n",
              "      <th>&lt;FIRST&gt;</th>\n",
              "      <th>&lt;HIGH&gt;</th>\n",
              "      <th>&lt;LOW&gt;</th>\n",
              "      <th>&lt;CLOSE&gt;</th>\n",
              "      <th>&lt;VALUE&gt;</th>\n",
              "      <th>&lt;VOL&gt;</th>\n",
              "      <th>change_in_price</th>\n",
              "      <th>MA_10</th>\n",
              "      <th>WMA_10</th>\n",
              "      <th>MOM_10</th>\n",
              "      <th>SO_k</th>\n",
              "      <th>SO_10</th>\n",
              "    </tr>\n",
              "    <tr>\n",
              "      <th>datetime</th>\n",
              "      <th></th>\n",
              "      <th></th>\n",
              "      <th></th>\n",
              "      <th></th>\n",
              "      <th></th>\n",
              "      <th></th>\n",
              "      <th></th>\n",
              "      <th></th>\n",
              "      <th></th>\n",
              "      <th></th>\n",
              "      <th></th>\n",
              "      <th></th>\n",
              "    </tr>\n",
              "  </thead>\n",
              "  <tbody>\n",
              "    <tr>\n",
              "      <th>2020-05-26</th>\n",
              "      <td>34051.0</td>\n",
              "      <td>35000.0</td>\n",
              "      <td>33429.0</td>\n",
              "      <td>33887.0</td>\n",
              "      <td>91075271139</td>\n",
              "      <td>2688840</td>\n",
              "      <td>-1301.0</td>\n",
              "      <td>35695.6</td>\n",
              "      <td>35967.692374</td>\n",
              "      <td>-4663.0</td>\n",
              "      <td>0.291534</td>\n",
              "      <td>0.419589</td>\n",
              "    </tr>\n",
              "    <tr>\n",
              "      <th>2020-05-27</th>\n",
              "      <td>32466.0</td>\n",
              "      <td>35565.0</td>\n",
              "      <td>32466.0</td>\n",
              "      <td>35051.0</td>\n",
              "      <td>188533230075</td>\n",
              "      <td>5378788</td>\n",
              "      <td>1164.0</td>\n",
              "      <td>35527.1</td>\n",
              "      <td>35801.021033</td>\n",
              "      <td>-1685.0</td>\n",
              "      <td>0.834140</td>\n",
              "      <td>0.495334</td>\n",
              "    </tr>\n",
              "    <tr>\n",
              "      <th>2020-05-30</th>\n",
              "      <td>36803.0</td>\n",
              "      <td>36803.0</td>\n",
              "      <td>36803.0</td>\n",
              "      <td>36803.0</td>\n",
              "      <td>112049162498</td>\n",
              "      <td>3044566</td>\n",
              "      <td>1752.0</td>\n",
              "      <td>35706.8</td>\n",
              "      <td>35983.199027</td>\n",
              "      <td>1797.0</td>\n",
              "      <td>NaN</td>\n",
              "      <td>0.495334</td>\n",
              "    </tr>\n",
              "    <tr>\n",
              "      <th>2020-05-31</th>\n",
              "      <td>38643.0</td>\n",
              "      <td>38643.0</td>\n",
              "      <td>36810.0</td>\n",
              "      <td>38615.0</td>\n",
              "      <td>771614696040</td>\n",
              "      <td>19982276</td>\n",
              "      <td>1812.0</td>\n",
              "      <td>36009.5</td>\n",
              "      <td>36461.708295</td>\n",
              "      <td>3027.0</td>\n",
              "      <td>0.984724</td>\n",
              "      <td>0.600269</td>\n",
              "    </tr>\n",
              "    <tr>\n",
              "      <th>2020-06-01</th>\n",
              "      <td>40490.0</td>\n",
              "      <td>40545.0</td>\n",
              "      <td>38700.0</td>\n",
              "      <td>40451.0</td>\n",
              "      <td>266346818518</td>\n",
              "      <td>6584463</td>\n",
              "      <td>1836.0</td>\n",
              "      <td>36637.2</td>\n",
              "      <td>37187.034059</td>\n",
              "      <td>6277.0</td>\n",
              "      <td>0.949051</td>\n",
              "      <td>0.672694</td>\n",
              "    </tr>\n",
              "  </tbody>\n",
              "</table>\n",
              "</div>"
            ],
            "text/plain": [
              "            <FIRST>   <HIGH>    <LOW>  ...  MOM_10      SO_k     SO_10\n",
              "datetime                               ...                            \n",
              "2020-05-26  34051.0  35000.0  33429.0  ... -4663.0  0.291534  0.419589\n",
              "2020-05-27  32466.0  35565.0  32466.0  ... -1685.0  0.834140  0.495334\n",
              "2020-05-30  36803.0  36803.0  36803.0  ...  1797.0       NaN  0.495334\n",
              "2020-05-31  38643.0  38643.0  36810.0  ...  3027.0  0.984724  0.600269\n",
              "2020-06-01  40490.0  40545.0  38700.0  ...  6277.0  0.949051  0.672694\n",
              "\n",
              "[5 rows x 12 columns]"
            ]
          },
          "metadata": {
            "tags": []
          },
          "execution_count": 660
        }
      ]
    },
    {
      "cell_type": "code",
      "metadata": {
        "id": "oki_RUaObesb",
        "colab": {
          "base_uri": "https://localhost:8080/",
          "height": 124
        },
        "outputId": "25f6f600-c913-4669-c515-2fe68faf1dda"
      },
      "source": [
        "#6. Relative Strength Index\n",
        "#Error\n",
        "\"\"\"\n",
        "def relative_strength_index(df, n):\n",
        "    Calculate Relative Strength Index(RSI) for given data.\n",
        "    :param df: pandas.DataFrame\n",
        "    :param n:\n",
        "    :return: pandas.DataFrame\n",
        "    i = df.index[0]\n",
        "    UpI = [0]\n",
        "    DoI = [0]\n",
        "    while i + 1 <= df.index[-1]:\n",
        "        UpMove = float(df.loc[i + 1, 'high']) - float(df.loc[i, 'high'])\n",
        "        DoMove = float(df.loc[i, 'low']) - float(df.loc[i + 1, 'low'])\n",
        "        if UpMove > DoMove and UpMove > 0:\n",
        "            UpD = UpMove\n",
        "        else:\n",
        "            UpD = 0\n",
        "        UpI.append(UpD)\n",
        "        if DoMove > UpMove and DoMove > 0:\n",
        "            DoD = DoMove\n",
        "        else:\n",
        "            DoD = 0\n",
        "        DoI.append(DoD)\n",
        "        i = i + 1\n",
        "    UpI = pd.Series(UpI)\n",
        "\n",
        "    DoI = pd.Series(DoI)\n",
        "    PosDI = pd.Series(UpI.ewm(span=n, min_periods=n).mean())\n",
        "    NegDI = pd.Series(DoI.ewm(span=n, min_periods=n).mean())\n",
        "\n",
        "    # rsi = pd.Series(PosDI / (PosDI + NegDI), name='RSI_' + str(n))\n",
        "    rsi = pd.DataFrame(PosDI / (PosDI + NegDI), columns=['RSI_' + str(n)])\n",
        "    rsi = rsi.set_index(df.index)\n",
        "    df = df.join(rsi)\n",
        "    return df\n",
        "\"\"\""
      ],
      "execution_count": null,
      "outputs": [
        {
          "output_type": "execute_result",
          "data": {
            "application/vnd.google.colaboratory.intrinsic+json": {
              "type": "string"
            },
            "text/plain": [
              "\"\\ndef relative_strength_index(df, n):\\n    Calculate Relative Strength Index(RSI) for given data.\\n    :param df: pandas.DataFrame\\n    :param n:\\n    :return: pandas.DataFrame\\n    i = df.index[0]\\n    UpI = [0]\\n    DoI = [0]\\n    while i + 1 <= df.index[-1]:\\n        UpMove = float(df.loc[i + 1, 'high']) - float(df.loc[i, 'high'])\\n        DoMove = float(df.loc[i, 'low']) - float(df.loc[i + 1, 'low'])\\n        if UpMove > DoMove and UpMove > 0:\\n            UpD = UpMove\\n        else:\\n            UpD = 0\\n        UpI.append(UpD)\\n        if DoMove > UpMove and DoMove > 0:\\n            DoD = DoMove\\n        else:\\n            DoD = 0\\n        DoI.append(DoD)\\n        i = i + 1\\n    UpI = pd.Series(UpI)\\n\\n    DoI = pd.Series(DoI)\\n    PosDI = pd.Series(UpI.ewm(span=n, min_periods=n).mean())\\n    NegDI = pd.Series(DoI.ewm(span=n, min_periods=n).mean())\\n\\n    # rsi = pd.Series(PosDI / (PosDI + NegDI), name='RSI_' + str(n))\\n    rsi = pd.DataFrame(PosDI / (PosDI + NegDI), columns=['RSI_' + str(n)])\\n    rsi = rsi.set_index(df.index)\\n    df = df.join(rsi)\\n    return df\\n\""
            ]
          },
          "metadata": {
            "tags": []
          },
          "execution_count": 661
        }
      ]
    },
    {
      "cell_type": "code",
      "metadata": {
        "id": "SzBt7Xdobese",
        "colab": {
          "base_uri": "https://localhost:8080/",
          "height": 223
        },
        "outputId": "c0463938-4a71-4424-d8b5-8d0f5381c6ec"
      },
      "source": [
        "#7. Signal\n",
        "def macd(df, n_fast, n_slow):\n",
        "    \"\"\"Calculate MACD, MACD Signal and MACD difference\n",
        "    :param df: pandas.DataFrame\n",
        "    :param n_fast:\n",
        "    :param n_slow:\n",
        "    :return: pandas.DataFrame\n",
        "    \"\"\"\n",
        "    EMAfast = pd.Series(df['<CLOSE>'].ewm(span=n_fast, min_periods=n_slow).mean())\n",
        "    EMAslow = pd.Series(df['<CLOSE>'].ewm(span=n_slow, min_periods=n_slow).mean())\n",
        "    MACD = pd.Series(EMAfast - EMAslow, name='MACD_' + str(n_fast) + '_' + str(n_slow))\n",
        "    MACDsign = pd.Series(MACD.ewm(span=9, min_periods=9).mean(), name='MACDsign_' + str(n_fast) + '_' + str(n_slow))\n",
        "    MACDdiff = pd.Series(MACD - MACDsign, name='MACDdiff_' + str(n_fast) + '_' + str(n_slow))\n",
        "    df = df.join(MACD)\n",
        "    df = df.join(MACDsign)\n",
        "    df = df.join(MACDdiff)\n",
        "    return df\n",
        "df_new = macd(df_new,12,26)\n",
        "df_new.head()"
      ],
      "execution_count": null,
      "outputs": [
        {
          "output_type": "execute_result",
          "data": {
            "text/html": [
              "<div>\n",
              "<style scoped>\n",
              "    .dataframe tbody tr th:only-of-type {\n",
              "        vertical-align: middle;\n",
              "    }\n",
              "\n",
              "    .dataframe tbody tr th {\n",
              "        vertical-align: top;\n",
              "    }\n",
              "\n",
              "    .dataframe thead th {\n",
              "        text-align: right;\n",
              "    }\n",
              "</style>\n",
              "<table border=\"1\" class=\"dataframe\">\n",
              "  <thead>\n",
              "    <tr style=\"text-align: right;\">\n",
              "      <th></th>\n",
              "      <th>&lt;FIRST&gt;</th>\n",
              "      <th>&lt;HIGH&gt;</th>\n",
              "      <th>&lt;LOW&gt;</th>\n",
              "      <th>&lt;CLOSE&gt;</th>\n",
              "      <th>&lt;VALUE&gt;</th>\n",
              "      <th>&lt;VOL&gt;</th>\n",
              "      <th>change_in_price</th>\n",
              "      <th>MA_10</th>\n",
              "      <th>WMA_10</th>\n",
              "      <th>MOM_10</th>\n",
              "      <th>SO_k</th>\n",
              "      <th>SO_10</th>\n",
              "      <th>MACD_12_26</th>\n",
              "      <th>MACDsign_12_26</th>\n",
              "      <th>MACDdiff_12_26</th>\n",
              "    </tr>\n",
              "    <tr>\n",
              "      <th>datetime</th>\n",
              "      <th></th>\n",
              "      <th></th>\n",
              "      <th></th>\n",
              "      <th></th>\n",
              "      <th></th>\n",
              "      <th></th>\n",
              "      <th></th>\n",
              "      <th></th>\n",
              "      <th></th>\n",
              "      <th></th>\n",
              "      <th></th>\n",
              "      <th></th>\n",
              "      <th></th>\n",
              "      <th></th>\n",
              "      <th></th>\n",
              "    </tr>\n",
              "  </thead>\n",
              "  <tbody>\n",
              "    <tr>\n",
              "      <th>2001-05-01</th>\n",
              "      <td>5750.0</td>\n",
              "      <td>5750.0</td>\n",
              "      <td>5750.0</td>\n",
              "      <td>5750.0</td>\n",
              "      <td>575000</td>\n",
              "      <td>100</td>\n",
              "      <td>NaN</td>\n",
              "      <td>NaN</td>\n",
              "      <td>NaN</td>\n",
              "      <td>NaN</td>\n",
              "      <td>NaN</td>\n",
              "      <td>NaN</td>\n",
              "      <td>NaN</td>\n",
              "      <td>NaN</td>\n",
              "      <td>NaN</td>\n",
              "    </tr>\n",
              "    <tr>\n",
              "      <th>2001-05-06</th>\n",
              "      <td>5807.0</td>\n",
              "      <td>5807.0</td>\n",
              "      <td>5807.0</td>\n",
              "      <td>5807.0</td>\n",
              "      <td>9947391</td>\n",
              "      <td>1713</td>\n",
              "      <td>57.0</td>\n",
              "      <td>NaN</td>\n",
              "      <td>NaN</td>\n",
              "      <td>NaN</td>\n",
              "      <td>NaN</td>\n",
              "      <td>NaN</td>\n",
              "      <td>NaN</td>\n",
              "      <td>NaN</td>\n",
              "      <td>NaN</td>\n",
              "    </tr>\n",
              "    <tr>\n",
              "      <th>2001-05-12</th>\n",
              "      <td>5865.0</td>\n",
              "      <td>5865.0</td>\n",
              "      <td>5865.0</td>\n",
              "      <td>5865.0</td>\n",
              "      <td>2991150</td>\n",
              "      <td>510</td>\n",
              "      <td>58.0</td>\n",
              "      <td>NaN</td>\n",
              "      <td>NaN</td>\n",
              "      <td>NaN</td>\n",
              "      <td>NaN</td>\n",
              "      <td>NaN</td>\n",
              "      <td>NaN</td>\n",
              "      <td>NaN</td>\n",
              "      <td>NaN</td>\n",
              "    </tr>\n",
              "    <tr>\n",
              "      <th>2001-05-13</th>\n",
              "      <td>5923.0</td>\n",
              "      <td>5923.0</td>\n",
              "      <td>5923.0</td>\n",
              "      <td>5923.0</td>\n",
              "      <td>11846000</td>\n",
              "      <td>2000</td>\n",
              "      <td>58.0</td>\n",
              "      <td>NaN</td>\n",
              "      <td>NaN</td>\n",
              "      <td>NaN</td>\n",
              "      <td>NaN</td>\n",
              "      <td>NaN</td>\n",
              "      <td>NaN</td>\n",
              "      <td>NaN</td>\n",
              "      <td>NaN</td>\n",
              "    </tr>\n",
              "    <tr>\n",
              "      <th>2001-05-15</th>\n",
              "      <td>5982.0</td>\n",
              "      <td>5982.0</td>\n",
              "      <td>5982.0</td>\n",
              "      <td>5982.0</td>\n",
              "      <td>5982000</td>\n",
              "      <td>1000</td>\n",
              "      <td>59.0</td>\n",
              "      <td>NaN</td>\n",
              "      <td>NaN</td>\n",
              "      <td>NaN</td>\n",
              "      <td>NaN</td>\n",
              "      <td>NaN</td>\n",
              "      <td>NaN</td>\n",
              "      <td>NaN</td>\n",
              "      <td>NaN</td>\n",
              "    </tr>\n",
              "  </tbody>\n",
              "</table>\n",
              "</div>"
            ],
            "text/plain": [
              "            <FIRST>  <HIGH>   <LOW>  ...  MACD_12_26  MACDsign_12_26  MACDdiff_12_26\n",
              "datetime                             ...                                            \n",
              "2001-05-01   5750.0  5750.0  5750.0  ...         NaN             NaN             NaN\n",
              "2001-05-06   5807.0  5807.0  5807.0  ...         NaN             NaN             NaN\n",
              "2001-05-12   5865.0  5865.0  5865.0  ...         NaN             NaN             NaN\n",
              "2001-05-13   5923.0  5923.0  5923.0  ...         NaN             NaN             NaN\n",
              "2001-05-15   5982.0  5982.0  5982.0  ...         NaN             NaN             NaN\n",
              "\n",
              "[5 rows x 15 columns]"
            ]
          },
          "metadata": {
            "tags": []
          },
          "execution_count": 662
        }
      ]
    },
    {
      "cell_type": "code",
      "metadata": {
        "id": "cfobRA3dbesh"
      },
      "source": [
        "#8. Larry Williams R%\n",
        "#lEFT"
      ],
      "execution_count": null,
      "outputs": []
    },
    {
      "cell_type": "code",
      "metadata": {
        "id": "tAAH6tYWbesm",
        "colab": {
          "base_uri": "https://localhost:8080/",
          "height": 363
        },
        "outputId": "a91d0d97-54e8-47a3-de30-29c7397e0108"
      },
      "source": [
        "#9. Accumulation / Distribution\n",
        "def accumulation_distribution(df, n):\n",
        "    \"\"\"Calculate Accumulation/Distribution for given data.\n",
        "    :param df: pandas.DataFrame\n",
        "    :param n:\n",
        "    :return: pandas.DataFrame\n",
        "    \"\"\"\n",
        "    ad = (2 * df['<CLOSE>'] - df['<HIGH>'] - df['<LOW>']) / (df['<HIGH>'] - df['<LOW>']) * df['<VOL>']\n",
        "    M = ad.diff(n - 1)\n",
        "    N = ad.shift(n - 1)\n",
        "    ROC = M / N\n",
        "    AD = pd.Series(ROC, name='Acc/Dist_ROC_' + str(n))\n",
        "    df = df.join(AD)\n",
        "    return df\n",
        "df_new = accumulation_distribution(df_new,10)\n",
        "df_new.tail()"
      ],
      "execution_count": null,
      "outputs": [
        {
          "output_type": "stream",
          "text": [
            "/usr/local/lib/python3.6/dist-packages/pandas/core/algorithms.py:1977: RuntimeWarning: invalid value encountered in subtract\n",
            "  out_arr[res_indexer] = arr[res_indexer] - arr[lag_indexer]\n"
          ],
          "name": "stderr"
        },
        {
          "output_type": "execute_result",
          "data": {
            "text/html": [
              "<div>\n",
              "<style scoped>\n",
              "    .dataframe tbody tr th:only-of-type {\n",
              "        vertical-align: middle;\n",
              "    }\n",
              "\n",
              "    .dataframe tbody tr th {\n",
              "        vertical-align: top;\n",
              "    }\n",
              "\n",
              "    .dataframe thead th {\n",
              "        text-align: right;\n",
              "    }\n",
              "</style>\n",
              "<table border=\"1\" class=\"dataframe\">\n",
              "  <thead>\n",
              "    <tr style=\"text-align: right;\">\n",
              "      <th></th>\n",
              "      <th>&lt;FIRST&gt;</th>\n",
              "      <th>&lt;HIGH&gt;</th>\n",
              "      <th>&lt;LOW&gt;</th>\n",
              "      <th>&lt;CLOSE&gt;</th>\n",
              "      <th>&lt;VALUE&gt;</th>\n",
              "      <th>&lt;VOL&gt;</th>\n",
              "      <th>change_in_price</th>\n",
              "      <th>MA_10</th>\n",
              "      <th>WMA_10</th>\n",
              "      <th>MOM_10</th>\n",
              "      <th>SO_k</th>\n",
              "      <th>SO_10</th>\n",
              "      <th>MACD_12_26</th>\n",
              "      <th>MACDsign_12_26</th>\n",
              "      <th>MACDdiff_12_26</th>\n",
              "      <th>Acc/Dist_ROC_10</th>\n",
              "    </tr>\n",
              "    <tr>\n",
              "      <th>datetime</th>\n",
              "      <th></th>\n",
              "      <th></th>\n",
              "      <th></th>\n",
              "      <th></th>\n",
              "      <th></th>\n",
              "      <th></th>\n",
              "      <th></th>\n",
              "      <th></th>\n",
              "      <th></th>\n",
              "      <th></th>\n",
              "      <th></th>\n",
              "      <th></th>\n",
              "      <th></th>\n",
              "      <th></th>\n",
              "      <th></th>\n",
              "      <th></th>\n",
              "    </tr>\n",
              "  </thead>\n",
              "  <tbody>\n",
              "    <tr>\n",
              "      <th>2020-05-26</th>\n",
              "      <td>34051.0</td>\n",
              "      <td>35000.0</td>\n",
              "      <td>33429.0</td>\n",
              "      <td>33887.0</td>\n",
              "      <td>91075271139</td>\n",
              "      <td>2688840</td>\n",
              "      <td>-1301.0</td>\n",
              "      <td>35695.6</td>\n",
              "      <td>35967.692374</td>\n",
              "      <td>-4663.0</td>\n",
              "      <td>0.291534</td>\n",
              "      <td>0.419589</td>\n",
              "      <td>1266.534887</td>\n",
              "      <td>2158.477473</td>\n",
              "      <td>-891.942586</td>\n",
              "      <td>-0.899763</td>\n",
              "    </tr>\n",
              "    <tr>\n",
              "      <th>2020-05-27</th>\n",
              "      <td>32466.0</td>\n",
              "      <td>35565.0</td>\n",
              "      <td>32466.0</td>\n",
              "      <td>35051.0</td>\n",
              "      <td>188533230075</td>\n",
              "      <td>5378788</td>\n",
              "      <td>1164.0</td>\n",
              "      <td>35527.1</td>\n",
              "      <td>35801.021033</td>\n",
              "      <td>-1685.0</td>\n",
              "      <td>0.834140</td>\n",
              "      <td>0.495334</td>\n",
              "      <td>1094.286967</td>\n",
              "      <td>1945.639372</td>\n",
              "      <td>-851.352406</td>\n",
              "      <td>-1.441125</td>\n",
              "    </tr>\n",
              "    <tr>\n",
              "      <th>2020-05-30</th>\n",
              "      <td>36803.0</td>\n",
              "      <td>36803.0</td>\n",
              "      <td>36803.0</td>\n",
              "      <td>36803.0</td>\n",
              "      <td>112049162498</td>\n",
              "      <td>3044566</td>\n",
              "      <td>1752.0</td>\n",
              "      <td>35706.8</td>\n",
              "      <td>35983.199027</td>\n",
              "      <td>1797.0</td>\n",
              "      <td>NaN</td>\n",
              "      <td>0.495334</td>\n",
              "      <td>1086.625069</td>\n",
              "      <td>1773.836511</td>\n",
              "      <td>-687.211443</td>\n",
              "      <td>NaN</td>\n",
              "    </tr>\n",
              "    <tr>\n",
              "      <th>2020-05-31</th>\n",
              "      <td>38643.0</td>\n",
              "      <td>38643.0</td>\n",
              "      <td>36810.0</td>\n",
              "      <td>38615.0</td>\n",
              "      <td>771614696040</td>\n",
              "      <td>19982276</td>\n",
              "      <td>1812.0</td>\n",
              "      <td>36009.5</td>\n",
              "      <td>36461.708295</td>\n",
              "      <td>3027.0</td>\n",
              "      <td>0.984724</td>\n",
              "      <td>0.600269</td>\n",
              "      <td>1212.785974</td>\n",
              "      <td>1661.626404</td>\n",
              "      <td>-448.840430</td>\n",
              "      <td>-4.146097</td>\n",
              "    </tr>\n",
              "    <tr>\n",
              "      <th>2020-06-01</th>\n",
              "      <td>40490.0</td>\n",
              "      <td>40545.0</td>\n",
              "      <td>38700.0</td>\n",
              "      <td>40451.0</td>\n",
              "      <td>266346818518</td>\n",
              "      <td>6584463</td>\n",
              "      <td>1836.0</td>\n",
              "      <td>36637.2</td>\n",
              "      <td>37187.034059</td>\n",
              "      <td>6277.0</td>\n",
              "      <td>0.949051</td>\n",
              "      <td>0.672694</td>\n",
              "      <td>1444.270604</td>\n",
              "      <td>1618.155244</td>\n",
              "      <td>-173.884640</td>\n",
              "      <td>0.464400</td>\n",
              "    </tr>\n",
              "  </tbody>\n",
              "</table>\n",
              "</div>"
            ],
            "text/plain": [
              "            <FIRST>   <HIGH>  ...  MACDdiff_12_26  Acc/Dist_ROC_10\n",
              "datetime                      ...                                 \n",
              "2020-05-26  34051.0  35000.0  ...     -891.942586        -0.899763\n",
              "2020-05-27  32466.0  35565.0  ...     -851.352406        -1.441125\n",
              "2020-05-30  36803.0  36803.0  ...     -687.211443              NaN\n",
              "2020-05-31  38643.0  38643.0  ...     -448.840430        -4.146097\n",
              "2020-06-01  40490.0  40545.0  ...     -173.884640         0.464400\n",
              "\n",
              "[5 rows x 16 columns]"
            ]
          },
          "metadata": {
            "tags": []
          },
          "execution_count": 664
        }
      ]
    },
    {
      "cell_type": "code",
      "metadata": {
        "id": "XCFLfxtUbesq",
        "colab": {
          "base_uri": "https://localhost:8080/",
          "height": 328
        },
        "outputId": "2f11bc2a-8462-43ad-8b7a-63e4db98e370"
      },
      "source": [
        "#10. Commodity Channel Index\n",
        "def commodity_channel_index(df, n):\n",
        "    \"\"\"Calculate Commodity Channel Index for given data.\n",
        "    :param df: pandas.DataFrame\n",
        "    :param n:\n",
        "    :return: pandas.DataFrame\n",
        "    \"\"\"\n",
        "    PP = (df['<HIGH>'] + df['<LOW>'] + df['<CLOSE>']) / 3\n",
        "    CCI = pd.Series((PP - PP.rolling(n, min_periods=n).mean()) / PP.rolling(n, min_periods=n).std(),\n",
        "                    name='CCI_' + str(n))\n",
        "    df = df.join(CCI)\n",
        "    return df\n",
        "df_new = commodity_channel_index(df_new,10)\n",
        "df_new.tail()"
      ],
      "execution_count": null,
      "outputs": [
        {
          "output_type": "execute_result",
          "data": {
            "text/html": [
              "<div>\n",
              "<style scoped>\n",
              "    .dataframe tbody tr th:only-of-type {\n",
              "        vertical-align: middle;\n",
              "    }\n",
              "\n",
              "    .dataframe tbody tr th {\n",
              "        vertical-align: top;\n",
              "    }\n",
              "\n",
              "    .dataframe thead th {\n",
              "        text-align: right;\n",
              "    }\n",
              "</style>\n",
              "<table border=\"1\" class=\"dataframe\">\n",
              "  <thead>\n",
              "    <tr style=\"text-align: right;\">\n",
              "      <th></th>\n",
              "      <th>&lt;FIRST&gt;</th>\n",
              "      <th>&lt;HIGH&gt;</th>\n",
              "      <th>&lt;LOW&gt;</th>\n",
              "      <th>&lt;CLOSE&gt;</th>\n",
              "      <th>&lt;VALUE&gt;</th>\n",
              "      <th>&lt;VOL&gt;</th>\n",
              "      <th>change_in_price</th>\n",
              "      <th>MA_10</th>\n",
              "      <th>WMA_10</th>\n",
              "      <th>MOM_10</th>\n",
              "      <th>SO_k</th>\n",
              "      <th>SO_10</th>\n",
              "      <th>MACD_12_26</th>\n",
              "      <th>MACDsign_12_26</th>\n",
              "      <th>MACDdiff_12_26</th>\n",
              "      <th>Acc/Dist_ROC_10</th>\n",
              "      <th>CCI_10</th>\n",
              "    </tr>\n",
              "    <tr>\n",
              "      <th>datetime</th>\n",
              "      <th></th>\n",
              "      <th></th>\n",
              "      <th></th>\n",
              "      <th></th>\n",
              "      <th></th>\n",
              "      <th></th>\n",
              "      <th></th>\n",
              "      <th></th>\n",
              "      <th></th>\n",
              "      <th></th>\n",
              "      <th></th>\n",
              "      <th></th>\n",
              "      <th></th>\n",
              "      <th></th>\n",
              "      <th></th>\n",
              "      <th></th>\n",
              "      <th></th>\n",
              "    </tr>\n",
              "  </thead>\n",
              "  <tbody>\n",
              "    <tr>\n",
              "      <th>2020-05-26</th>\n",
              "      <td>34051.0</td>\n",
              "      <td>35000.0</td>\n",
              "      <td>33429.0</td>\n",
              "      <td>33887.0</td>\n",
              "      <td>91075271139</td>\n",
              "      <td>2688840</td>\n",
              "      <td>-1301.0</td>\n",
              "      <td>35695.6</td>\n",
              "      <td>35967.692374</td>\n",
              "      <td>-4663.0</td>\n",
              "      <td>0.291534</td>\n",
              "      <td>0.419589</td>\n",
              "      <td>1266.534887</td>\n",
              "      <td>2158.477473</td>\n",
              "      <td>-891.942586</td>\n",
              "      <td>-0.899763</td>\n",
              "      <td>-1.379473</td>\n",
              "    </tr>\n",
              "    <tr>\n",
              "      <th>2020-05-27</th>\n",
              "      <td>32466.0</td>\n",
              "      <td>35565.0</td>\n",
              "      <td>32466.0</td>\n",
              "      <td>35051.0</td>\n",
              "      <td>188533230075</td>\n",
              "      <td>5378788</td>\n",
              "      <td>1164.0</td>\n",
              "      <td>35527.1</td>\n",
              "      <td>35801.021033</td>\n",
              "      <td>-1685.0</td>\n",
              "      <td>0.834140</td>\n",
              "      <td>0.495334</td>\n",
              "      <td>1094.286967</td>\n",
              "      <td>1945.639372</td>\n",
              "      <td>-851.352406</td>\n",
              "      <td>-1.441125</td>\n",
              "      <td>-0.962640</td>\n",
              "    </tr>\n",
              "    <tr>\n",
              "      <th>2020-05-30</th>\n",
              "      <td>36803.0</td>\n",
              "      <td>36803.0</td>\n",
              "      <td>36803.0</td>\n",
              "      <td>36803.0</td>\n",
              "      <td>112049162498</td>\n",
              "      <td>3044566</td>\n",
              "      <td>1752.0</td>\n",
              "      <td>35706.8</td>\n",
              "      <td>35983.199027</td>\n",
              "      <td>1797.0</td>\n",
              "      <td>NaN</td>\n",
              "      <td>0.495334</td>\n",
              "      <td>1086.625069</td>\n",
              "      <td>1773.836511</td>\n",
              "      <td>-687.211443</td>\n",
              "      <td>NaN</td>\n",
              "      <td>0.878543</td>\n",
              "    </tr>\n",
              "    <tr>\n",
              "      <th>2020-05-31</th>\n",
              "      <td>38643.0</td>\n",
              "      <td>38643.0</td>\n",
              "      <td>36810.0</td>\n",
              "      <td>38615.0</td>\n",
              "      <td>771614696040</td>\n",
              "      <td>19982276</td>\n",
              "      <td>1812.0</td>\n",
              "      <td>36009.5</td>\n",
              "      <td>36461.708295</td>\n",
              "      <td>3027.0</td>\n",
              "      <td>0.984724</td>\n",
              "      <td>0.600269</td>\n",
              "      <td>1212.785974</td>\n",
              "      <td>1661.626404</td>\n",
              "      <td>-448.840430</td>\n",
              "      <td>-4.146097</td>\n",
              "      <td>1.406626</td>\n",
              "    </tr>\n",
              "    <tr>\n",
              "      <th>2020-06-01</th>\n",
              "      <td>40490.0</td>\n",
              "      <td>40545.0</td>\n",
              "      <td>38700.0</td>\n",
              "      <td>40451.0</td>\n",
              "      <td>266346818518</td>\n",
              "      <td>6584463</td>\n",
              "      <td>1836.0</td>\n",
              "      <td>36637.2</td>\n",
              "      <td>37187.034059</td>\n",
              "      <td>6277.0</td>\n",
              "      <td>0.949051</td>\n",
              "      <td>0.672694</td>\n",
              "      <td>1444.270604</td>\n",
              "      <td>1618.155244</td>\n",
              "      <td>-173.884640</td>\n",
              "      <td>0.464400</td>\n",
              "      <td>1.838765</td>\n",
              "    </tr>\n",
              "  </tbody>\n",
              "</table>\n",
              "</div>"
            ],
            "text/plain": [
              "            <FIRST>   <HIGH>  ...  Acc/Dist_ROC_10    CCI_10\n",
              "datetime                      ...                           \n",
              "2020-05-26  34051.0  35000.0  ...        -0.899763 -1.379473\n",
              "2020-05-27  32466.0  35565.0  ...        -1.441125 -0.962640\n",
              "2020-05-30  36803.0  36803.0  ...              NaN  0.878543\n",
              "2020-05-31  38643.0  38643.0  ...        -4.146097  1.406626\n",
              "2020-06-01  40490.0  40545.0  ...         0.464400  1.838765\n",
              "\n",
              "[5 rows x 17 columns]"
            ]
          },
          "metadata": {
            "tags": []
          },
          "execution_count": 665
        }
      ]
    },
    {
      "cell_type": "code",
      "metadata": {
        "id": "HHQkL2Fybesu",
        "colab": {
          "base_uri": "https://localhost:8080/"
        },
        "outputId": "3a6a5644-76ac-4c61-d2f8-eb70d2ee3718"
      },
      "source": [
        "df_new.mean()"
      ],
      "execution_count": null,
      "outputs": [
        {
          "output_type": "execute_result",
          "data": {
            "text/plain": [
              "<FIRST>            8.603098e+03\n",
              "<HIGH>             8.720517e+03\n",
              "<LOW>              8.469620e+03\n",
              "<CLOSE>            8.601823e+03\n",
              "<VALUE>            1.865224e+10\n",
              "<VOL>              2.024808e+06\n",
              "change_in_price    9.788717e+00\n",
              "MA_10              8.568869e+03\n",
              "WMA_10             8.568839e+03\n",
              "MOM_10             8.660436e+01\n",
              "SO_k                        NaN\n",
              "SO_10              4.549134e-01\n",
              "MACD_12_26         5.847584e+01\n",
              "MACDsign_12_26     5.717177e+01\n",
              "MACDdiff_12_26     2.158280e+00\n",
              "Acc/Dist_ROC_10             NaN\n",
              "CCI_10             5.258992e-02\n",
              "dtype: float64"
            ]
          },
          "metadata": {
            "tags": []
          },
          "execution_count": 666
        }
      ]
    },
    {
      "cell_type": "code",
      "metadata": {
        "id": "mSwQUUeKbesx",
        "colab": {
          "base_uri": "https://localhost:8080/"
        },
        "outputId": "e9fa357d-6901-4dd6-b227-3255bf7c056f"
      },
      "source": [
        "df_new.min()"
      ],
      "execution_count": null,
      "outputs": [
        {
          "output_type": "execute_result",
          "data": {
            "text/plain": [
              "<FIRST>            1.305000e+03\n",
              "<HIGH>             1.305000e+03\n",
              "<LOW>              1.305000e+03\n",
              "<CLOSE>            1.305000e+03\n",
              "<VALUE>            4.518000e+04\n",
              "<VOL>              1.000000e+01\n",
              "change_in_price   -7.981000e+03\n",
              "MA_10              1.346300e+03\n",
              "WMA_10             1.371534e+03\n",
              "MOM_10            -1.022100e+04\n",
              "SO_k                       -inf\n",
              "SO_10             -1.365027e+01\n",
              "MACD_12_26        -3.400683e+03\n",
              "MACDsign_12_26    -3.055329e+03\n",
              "MACDdiff_12_26    -1.081572e+03\n",
              "Acc/Dist_ROC_10            -inf\n",
              "CCI_10            -2.845202e+00\n",
              "dtype: float64"
            ]
          },
          "metadata": {
            "tags": []
          },
          "execution_count": 667
        }
      ]
    },
    {
      "cell_type": "code",
      "metadata": {
        "id": "mMVVklQPbes1",
        "colab": {
          "base_uri": "https://localhost:8080/"
        },
        "outputId": "b069736e-f6c2-4861-c1f1-8dc0a74eca8b"
      },
      "source": [
        "df_new.max()"
      ],
      "execution_count": null,
      "outputs": [
        {
          "output_type": "execute_result",
          "data": {
            "text/plain": [
              "<FIRST>            4.265000e+04\n",
              "<HIGH>             4.300000e+04\n",
              "<LOW>              4.066000e+04\n",
              "<CLOSE>            4.250400e+04\n",
              "<VALUE>            1.322401e+12\n",
              "<VOL>              4.071108e+07\n",
              "change_in_price    1.007700e+04\n",
              "MA_10              3.948840e+04\n",
              "WMA_10             3.844612e+04\n",
              "MOM_10             1.391100e+04\n",
              "SO_k                        inf\n",
              "SO_10              1.105947e+01\n",
              "MACD_12_26         4.900759e+03\n",
              "MACDsign_12_26     4.247434e+03\n",
              "MACDdiff_12_26     1.352562e+03\n",
              "Acc/Dist_ROC_10             inf\n",
              "CCI_10             2.811525e+00\n",
              "dtype: float64"
            ]
          },
          "metadata": {
            "tags": []
          },
          "execution_count": 668
        }
      ]
    },
    {
      "cell_type": "code",
      "metadata": {
        "id": "uNTpjP7Xbes4",
        "colab": {
          "base_uri": "https://localhost:8080/"
        },
        "outputId": "42278bfa-b787-43ec-e3e6-6491169265ec"
      },
      "source": [
        "df_new.std()"
      ],
      "execution_count": null,
      "outputs": [
        {
          "output_type": "execute_result",
          "data": {
            "text/plain": [
              "<FIRST>            6.669431e+03\n",
              "<HIGH>             6.763881e+03\n",
              "<LOW>              6.564485e+03\n",
              "<CLOSE>            6.682042e+03\n",
              "<VALUE>            5.608826e+10\n",
              "<VOL>              3.329542e+06\n",
              "change_in_price    4.226386e+02\n",
              "MA_10              6.583125e+03\n",
              "WMA_10             6.565135e+03\n",
              "MOM_10             1.604955e+03\n",
              "SO_k                        NaN\n",
              "SO_10              1.194016e+00\n",
              "MACD_12_26         6.114367e+02\n",
              "MACDsign_12_26     5.783136e+02\n",
              "MACDdiff_12_26     1.727040e+02\n",
              "Acc/Dist_ROC_10             NaN\n",
              "CCI_10             1.278361e+00\n",
              "dtype: float64"
            ]
          },
          "metadata": {
            "tags": []
          },
          "execution_count": 669
        }
      ]
    },
    {
      "cell_type": "markdown",
      "metadata": {
        "id": "vfZGT9zFbes9"
      },
      "source": [
        "## **Normalizing Data**"
      ]
    },
    {
      "cell_type": "code",
      "metadata": {
        "id": "8tYyjDyjbes-",
        "colab": {
          "base_uri": "https://localhost:8080/"
        },
        "outputId": "c512e656-4201-4929-b6ff-d59c1dc2e6fa"
      },
      "source": [
        "data = (df_new - df_new.mean()) / (df_new.max() - df_new.min())\n",
        "data.tail()"
      ],
      "execution_count": null,
      "outputs": [
        {
          "output_type": "execute_result",
          "data": {
            "text/html": [
              "<div>\n",
              "<style scoped>\n",
              "    .dataframe tbody tr th:only-of-type {\n",
              "        vertical-align: middle;\n",
              "    }\n",
              "\n",
              "    .dataframe tbody tr th {\n",
              "        vertical-align: top;\n",
              "    }\n",
              "\n",
              "    .dataframe thead th {\n",
              "        text-align: right;\n",
              "    }\n",
              "</style>\n",
              "<table border=\"1\" class=\"dataframe\">\n",
              "  <thead>\n",
              "    <tr style=\"text-align: right;\">\n",
              "      <th></th>\n",
              "      <th>&lt;FIRST&gt;</th>\n",
              "      <th>&lt;HIGH&gt;</th>\n",
              "      <th>&lt;LOW&gt;</th>\n",
              "      <th>&lt;CLOSE&gt;</th>\n",
              "      <th>&lt;VALUE&gt;</th>\n",
              "      <th>&lt;VOL&gt;</th>\n",
              "      <th>change_in_price</th>\n",
              "      <th>MA_10</th>\n",
              "      <th>WMA_10</th>\n",
              "      <th>MOM_10</th>\n",
              "      <th>SO_k</th>\n",
              "      <th>SO_10</th>\n",
              "      <th>MACD_12_26</th>\n",
              "      <th>MACDsign_12_26</th>\n",
              "      <th>MACDdiff_12_26</th>\n",
              "      <th>Acc/Dist_ROC_10</th>\n",
              "      <th>CCI_10</th>\n",
              "    </tr>\n",
              "    <tr>\n",
              "      <th>datetime</th>\n",
              "      <th></th>\n",
              "      <th></th>\n",
              "      <th></th>\n",
              "      <th></th>\n",
              "      <th></th>\n",
              "      <th></th>\n",
              "      <th></th>\n",
              "      <th></th>\n",
              "      <th></th>\n",
              "      <th></th>\n",
              "      <th></th>\n",
              "      <th></th>\n",
              "      <th></th>\n",
              "      <th></th>\n",
              "      <th></th>\n",
              "      <th></th>\n",
              "      <th></th>\n",
              "    </tr>\n",
              "  </thead>\n",
              "  <tbody>\n",
              "    <tr>\n",
              "      <th>2020-05-26</th>\n",
              "      <td>0.615501</td>\n",
              "      <td>0.630279</td>\n",
              "      <td>0.634211</td>\n",
              "      <td>0.613733</td>\n",
              "      <td>0.054766</td>\n",
              "      <td>0.016311</td>\n",
              "      <td>-0.072588</td>\n",
              "      <td>0.711202</td>\n",
              "      <td>0.739020</td>\n",
              "      <td>-0.196818</td>\n",
              "      <td>NaN</td>\n",
              "      <td>-0.001430</td>\n",
              "      <td>0.145524</td>\n",
              "      <td>0.287741</td>\n",
              "      <td>-0.367318</td>\n",
              "      <td>NaN</td>\n",
              "      <td>-0.253161</td>\n",
              "    </tr>\n",
              "    <tr>\n",
              "      <th>2020-05-27</th>\n",
              "      <td>0.577165</td>\n",
              "      <td>0.643830</td>\n",
              "      <td>0.609742</td>\n",
              "      <td>0.641986</td>\n",
              "      <td>0.128464</td>\n",
              "      <td>0.082385</td>\n",
              "      <td>0.063917</td>\n",
              "      <td>0.706784</td>\n",
              "      <td>0.734524</td>\n",
              "      <td>-0.073413</td>\n",
              "      <td>NaN</td>\n",
              "      <td>0.001636</td>\n",
              "      <td>0.124775</td>\n",
              "      <td>0.258596</td>\n",
              "      <td>-0.350642</td>\n",
              "      <td>NaN</td>\n",
              "      <td>-0.179473</td>\n",
              "    </tr>\n",
              "    <tr>\n",
              "      <th>2020-05-30</th>\n",
              "      <td>0.682063</td>\n",
              "      <td>0.673522</td>\n",
              "      <td>0.719944</td>\n",
              "      <td>0.684511</td>\n",
              "      <td>0.070627</td>\n",
              "      <td>0.025049</td>\n",
              "      <td>0.096479</td>\n",
              "      <td>0.711495</td>\n",
              "      <td>0.739438</td>\n",
              "      <td>0.070877</td>\n",
              "      <td>NaN</td>\n",
              "      <td>0.001636</td>\n",
              "      <td>0.123852</td>\n",
              "      <td>0.235071</td>\n",
              "      <td>-0.283209</td>\n",
              "      <td>NaN</td>\n",
              "      <td>0.146013</td>\n",
              "    </tr>\n",
              "    <tr>\n",
              "      <th>2020-05-31</th>\n",
              "      <td>0.726567</td>\n",
              "      <td>0.717652</td>\n",
              "      <td>0.720121</td>\n",
              "      <td>0.728493</td>\n",
              "      <td>0.569390</td>\n",
              "      <td>0.441096</td>\n",
              "      <td>0.099801</td>\n",
              "      <td>0.719432</td>\n",
              "      <td>0.752345</td>\n",
              "      <td>0.121846</td>\n",
              "      <td>NaN</td>\n",
              "      <td>0.005883</td>\n",
              "      <td>0.139049</td>\n",
              "      <td>0.219705</td>\n",
              "      <td>-0.185281</td>\n",
              "      <td>NaN</td>\n",
              "      <td>0.239367</td>\n",
              "    </tr>\n",
              "    <tr>\n",
              "      <th>2020-06-01</th>\n",
              "      <td>0.771240</td>\n",
              "      <td>0.763269</td>\n",
              "      <td>0.768146</td>\n",
              "      <td>0.773057</td>\n",
              "      <td>0.187307</td>\n",
              "      <td>0.112000</td>\n",
              "      <td>0.101130</td>\n",
              "      <td>0.735888</td>\n",
              "      <td>0.771909</td>\n",
              "      <td>0.256522</td>\n",
              "      <td>NaN</td>\n",
              "      <td>0.008814</td>\n",
              "      <td>0.166934</td>\n",
              "      <td>0.213752</td>\n",
              "      <td>-0.072323</td>\n",
              "      <td>NaN</td>\n",
              "      <td>0.315761</td>\n",
              "    </tr>\n",
              "  </tbody>\n",
              "</table>\n",
              "</div>"
            ],
            "text/plain": [
              "             <FIRST>    <HIGH>  ...  Acc/Dist_ROC_10    CCI_10\n",
              "datetime                        ...                           \n",
              "2020-05-26  0.615501  0.630279  ...              NaN -0.253161\n",
              "2020-05-27  0.577165  0.643830  ...              NaN -0.179473\n",
              "2020-05-30  0.682063  0.673522  ...              NaN  0.146013\n",
              "2020-05-31  0.726567  0.717652  ...              NaN  0.239367\n",
              "2020-06-01  0.771240  0.763269  ...              NaN  0.315761\n",
              "\n",
              "[5 rows x 17 columns]"
            ]
          },
          "metadata": {
            "tags": []
          },
          "execution_count": 670
        }
      ]
    },
    {
      "cell_type": "code",
      "metadata": {
        "id": "YcwrDXOzbetB",
        "colab": {
          "base_uri": "https://localhost:8080/"
        },
        "outputId": "d250b170-a90d-4517-886c-7048d9f3d0f0"
      },
      "source": [
        "import seaborn as sns\n",
        "plt.figure(1 , figsize = (17 , 8))\n",
        "cor = sns.heatmap(data.corr(), annot = True)"
      ],
      "execution_count": null,
      "outputs": [
        {
          "output_type": "display_data",
          "data": {
            "image/png": "[encoded data removed]",
            "text/plain": [
              "<Figure size 1224x576 with 2 Axes>"
            ]
          },
          "metadata": {
            "tags": [],
            "needs_background": "light"
          }
        }
      ]
    },
    {
      "cell_type": "code",
      "metadata": {
        "id": "Nw7aDwgebetG",
        "colab": {
          "base_uri": "https://localhost:8080/"
        },
        "outputId": "e39aa2c4-161c-4e70-baf0-97b058b56e9c"
      },
      "source": [
        "#To check null values\n",
        "data.isnull().sum()"
      ],
      "execution_count": null,
      "outputs": [
        {
          "output_type": "execute_result",
          "data": {
            "text/plain": [
              "<FIRST>               0\n",
              "<HIGH>                0\n",
              "<LOW>                 0\n",
              "<CLOSE>               0\n",
              "<VALUE>               0\n",
              "<VOL>                 0\n",
              "change_in_price       1\n",
              "MA_10                 9\n",
              "WMA_10                9\n",
              "MOM_10               10\n",
              "SO_k               3546\n",
              "SO_10                37\n",
              "MACD_12_26           25\n",
              "MACDsign_12_26       33\n",
              "MACDdiff_12_26       33\n",
              "Acc/Dist_ROC_10    3546\n",
              "CCI_10                9\n",
              "dtype: int64"
            ]
          },
          "metadata": {
            "tags": []
          },
          "execution_count": 672
        }
      ]
    },
    {
      "cell_type": "code",
      "metadata": {
        "id": "QN8FItuAbetJ"
      },
      "source": [
        "#Removing the null values\n",
        "data = data.fillna(data.mean())"
      ],
      "execution_count": null,
      "outputs": []
    },
    {
      "cell_type": "code",
      "metadata": {
        "id": "shbMSgnWbetN"
      },
      "source": [
        "data = data.dropna(how=\"all\",axis=1)"
      ],
      "execution_count": null,
      "outputs": []
    },
    {
      "cell_type": "code",
      "metadata": {
        "id": "hKHZhcd8betR",
        "colab": {
          "base_uri": "https://localhost:8080/"
        },
        "outputId": "f65e4b3e-ea3a-4388-b3bd-d23ee3ee6630"
      },
      "source": [
        "##Defining the features and labels\n",
        "X = data.iloc[:,7:]\n",
        "X.tail()"
      ],
      "execution_count": null,
      "outputs": [
        {
          "output_type": "execute_result",
          "data": {
            "text/html": [
              "<div>\n",
              "<style scoped>\n",
              "    .dataframe tbody tr th:only-of-type {\n",
              "        vertical-align: middle;\n",
              "    }\n",
              "\n",
              "    .dataframe tbody tr th {\n",
              "        vertical-align: top;\n",
              "    }\n",
              "\n",
              "    .dataframe thead th {\n",
              "        text-align: right;\n",
              "    }\n",
              "</style>\n",
              "<table border=\"1\" class=\"dataframe\">\n",
              "  <thead>\n",
              "    <tr style=\"text-align: right;\">\n",
              "      <th></th>\n",
              "      <th>MA_10</th>\n",
              "      <th>WMA_10</th>\n",
              "      <th>MOM_10</th>\n",
              "      <th>SO_10</th>\n",
              "      <th>MACD_12_26</th>\n",
              "      <th>MACDsign_12_26</th>\n",
              "      <th>MACDdiff_12_26</th>\n",
              "      <th>CCI_10</th>\n",
              "    </tr>\n",
              "    <tr>\n",
              "      <th>datetime</th>\n",
              "      <th></th>\n",
              "      <th></th>\n",
              "      <th></th>\n",
              "      <th></th>\n",
              "      <th></th>\n",
              "      <th></th>\n",
              "      <th></th>\n",
              "      <th></th>\n",
              "    </tr>\n",
              "  </thead>\n",
              "  <tbody>\n",
              "    <tr>\n",
              "      <th>2020-05-26</th>\n",
              "      <td>0.711202</td>\n",
              "      <td>0.739020</td>\n",
              "      <td>-0.196818</td>\n",
              "      <td>-0.001430</td>\n",
              "      <td>0.145524</td>\n",
              "      <td>0.287741</td>\n",
              "      <td>-0.367318</td>\n",
              "      <td>-0.253161</td>\n",
              "    </tr>\n",
              "    <tr>\n",
              "      <th>2020-05-27</th>\n",
              "      <td>0.706784</td>\n",
              "      <td>0.734524</td>\n",
              "      <td>-0.073413</td>\n",
              "      <td>0.001636</td>\n",
              "      <td>0.124775</td>\n",
              "      <td>0.258596</td>\n",
              "      <td>-0.350642</td>\n",
              "      <td>-0.179473</td>\n",
              "    </tr>\n",
              "    <tr>\n",
              "      <th>2020-05-30</th>\n",
              "      <td>0.711495</td>\n",
              "      <td>0.739438</td>\n",
              "      <td>0.070877</td>\n",
              "      <td>0.001636</td>\n",
              "      <td>0.123852</td>\n",
              "      <td>0.235071</td>\n",
              "      <td>-0.283209</td>\n",
              "      <td>0.146013</td>\n",
              "    </tr>\n",
              "    <tr>\n",
              "      <th>2020-05-31</th>\n",
              "      <td>0.719432</td>\n",
              "      <td>0.752345</td>\n",
              "      <td>0.121846</td>\n",
              "      <td>0.005883</td>\n",
              "      <td>0.139049</td>\n",
              "      <td>0.219705</td>\n",
              "      <td>-0.185281</td>\n",
              "      <td>0.239367</td>\n",
              "    </tr>\n",
              "    <tr>\n",
              "      <th>2020-06-01</th>\n",
              "      <td>0.735888</td>\n",
              "      <td>0.771909</td>\n",
              "      <td>0.256522</td>\n",
              "      <td>0.008814</td>\n",
              "      <td>0.166934</td>\n",
              "      <td>0.213752</td>\n",
              "      <td>-0.072323</td>\n",
              "      <td>0.315761</td>\n",
              "    </tr>\n",
              "  </tbody>\n",
              "</table>\n",
              "</div>"
            ],
            "text/plain": [
              "               MA_10    WMA_10  ...  MACDdiff_12_26    CCI_10\n",
              "datetime                        ...                          \n",
              "2020-05-26  0.711202  0.739020  ...       -0.367318 -0.253161\n",
              "2020-05-27  0.706784  0.734524  ...       -0.350642 -0.179473\n",
              "2020-05-30  0.711495  0.739438  ...       -0.283209  0.146013\n",
              "2020-05-31  0.719432  0.752345  ...       -0.185281  0.239367\n",
              "2020-06-01  0.735888  0.771909  ...       -0.072323  0.315761\n",
              "\n",
              "[5 rows x 8 columns]"
            ]
          },
          "metadata": {
            "tags": []
          },
          "execution_count": 675
        }
      ]
    },
    {
      "cell_type": "code",
      "metadata": {
        "id": "-RGklbtnbetV",
        "colab": {
          "base_uri": "https://localhost:8080/"
        },
        "outputId": "a356dfbf-b59a-411b-dad1-b7d1081015f2"
      },
      "source": [
        "Y = data.iloc[:,3]\n",
        "Y.tail()"
      ],
      "execution_count": null,
      "outputs": [
        {
          "output_type": "execute_result",
          "data": {
            "text/plain": [
              "datetime\n",
              "2020-05-26    0.613733\n",
              "2020-05-27    0.641986\n",
              "2020-05-30    0.684511\n",
              "2020-05-31    0.728493\n",
              "2020-06-01    0.773057\n",
              "Name: <CLOSE>, dtype: float64"
            ]
          },
          "metadata": {
            "tags": []
          },
          "execution_count": 676
        }
      ]
    },
    {
      "cell_type": "code",
      "metadata": {
        "id": "1Tn80CwmbetX",
        "colab": {
          "base_uri": "https://localhost:8080/"
        },
        "outputId": "4a706166-dfe9-4c44-add5-db202e34ea40"
      },
      "source": [
        "X.isnull().sum()"
      ],
      "execution_count": null,
      "outputs": [
        {
          "output_type": "execute_result",
          "data": {
            "text/plain": [
              "MA_10             0\n",
              "WMA_10            0\n",
              "MOM_10            0\n",
              "SO_10             0\n",
              "MACD_12_26        0\n",
              "MACDsign_12_26    0\n",
              "MACDdiff_12_26    0\n",
              "CCI_10            0\n",
              "dtype: int64"
            ]
          },
          "metadata": {
            "tags": []
          },
          "execution_count": 677
        }
      ]
    },
    {
      "cell_type": "markdown",
      "metadata": {
        "id": "IRkULxA7sCFy"
      },
      "source": [
        "## Visualising the technical indicators i.e. our features"
      ]
    },
    {
      "cell_type": "code",
      "metadata": {
        "id": "0UP3raQjr7Ty",
        "colab": {
          "base_uri": "https://localhost:8080/",
          "height": 1000
        },
        "outputId": "f2aee307-89b1-4f87-86ea-74a6a5d8af27"
      },
      "source": [
        "X.hist(bins=50,figsize=(20,15))"
      ],
      "execution_count": null,
      "outputs": [
        {
          "output_type": "execute_result",
          "data": {
            "text/plain": [
              "array([[<matplotlib.axes._subplots.AxesSubplot object at 0x7f3c74896320>,\n",
              "        <matplotlib.axes._subplots.AxesSubplot object at 0x7f3c67d926a0>,\n",
              "        <matplotlib.axes._subplots.AxesSubplot object at 0x7f3c67dc09e8>],\n",
              "       [<matplotlib.axes._subplots.AxesSubplot object at 0x7f3c67d73d68>,\n",
              "        <matplotlib.axes._subplots.AxesSubplot object at 0x7f3c67d31128>,\n",
              "        <matplotlib.axes._subplots.AxesSubplot object at 0x7f3c67ce44a8>],\n",
              "       [<matplotlib.axes._subplots.AxesSubplot object at 0x7f3c67c95828>,\n",
              "        <matplotlib.axes._subplots.AxesSubplot object at 0x7f3c67c48b70>,\n",
              "        <matplotlib.axes._subplots.AxesSubplot object at 0x7f3c67c48be0>]],\n",
              "      dtype=object)"
            ]
          },
          "metadata": {
            "tags": []
          },
          "execution_count": 678
        },
        {
          "output_type": "display_data",
          "data": {
            "image/png": "[encoded data removed]",
            "text/plain": [
              "<Figure size 1440x1080 with 9 Axes>"
            ]
          },
          "metadata": {
            "tags": [],
            "needs_background": "light"
          }
        }
      ]
    },
    {
      "cell_type": "code",
      "metadata": {
        "id": "QjK-zRQgbeta"
      },
      "source": [
        "#Splitting data into training and test set\n",
        "#from sklearn.model_selection import train_test_split\n",
        "total_days = len(X)\n",
        "hold_days=30\n",
        "x_train = X[0:(total_days-hold_days)]\n",
        "y_train = Y[0:(total_days-hold_days)]"
      ],
      "execution_count": null,
      "outputs": []
    },
    {
      "cell_type": "markdown",
      "metadata": {
        "id": "bdSjkPr_betc"
      },
      "source": [
        "# Predicting using Decision Trees"
      ]
    },
    {
      "cell_type": "code",
      "metadata": {
        "id": "7RX-ujiabetd",
        "colab": {
          "base_uri": "https://localhost:8080/"
        },
        "outputId": "71bb1cba-3739-45ce-d1e8-881b6e245871"
      },
      "source": [
        "#Decision Tree\n",
        "from sklearn.tree import DecisionTreeRegressor\n",
        "Regressor = DecisionTreeRegressor(max_depth=10)\n",
        "Regressor.fit(x_train,y_train)"
      ],
      "execution_count": null,
      "outputs": [
        {
          "output_type": "execute_result",
          "data": {
            "text/plain": [
              "DecisionTreeRegressor(ccp_alpha=0.0, criterion='mse', max_depth=10,\n",
              "                      max_features=None, max_leaf_nodes=None,\n",
              "                      min_impurity_decrease=0.0, min_impurity_split=None,\n",
              "                      min_samples_leaf=1, min_samples_split=2,\n",
              "                      min_weight_fraction_leaf=0.0, presort='deprecated',\n",
              "                      random_state=None, splitter='best')"
            ]
          },
          "metadata": {
            "tags": []
          },
          "execution_count": 680
        }
      ]
    },
    {
      "cell_type": "markdown",
      "metadata": {
        "id": "tmAA0_rPbetl"
      },
      "source": [
        "## Evaluating the Model"
      ]
    },
    {
      "cell_type": "code",
      "metadata": {
        "id": "pCwX7Hwpbetm",
        "colab": {
          "base_uri": "https://localhost:8080/"
        },
        "outputId": "addf2ecd-b195-4259-b65c-c0e2b712fd6c"
      },
      "source": [
        "y_pred = Regressor.predict(X)\n",
        "from sklearn.metrics import r2_score,mean_squared_error\n",
        "mse = mean_squared_error(Y,y_pred)\n",
        "rmse = np.sqrt(mse)\n",
        "rmse"
      ],
      "execution_count": null,
      "outputs": [
        {
          "output_type": "execute_result",
          "data": {
            "text/plain": [
              "0.013266401373820368"
            ]
          },
          "metadata": {
            "tags": []
          },
          "execution_count": 681
        }
      ]
    },
    {
      "cell_type": "code",
      "metadata": {
        "id": "EW6CbXYgSzMZ",
        "colab": {
          "base_uri": "https://localhost:8080/",
          "height": 265
        },
        "outputId": "191648a7-9089-452e-e0d5-56ed3d1c31c3"
      },
      "source": [
        "plt.plot(X.index,Y)\n",
        "plt.plot(X.index, y_pred, c='#f5ef42')\n",
        "plt.show()"
      ],
      "execution_count": null,
      "outputs": [
        {
          "output_type": "display_data",
          "data": {
            "image/png": "[encoded data removed]",
            "text/plain": [
              "<Figure size 432x288 with 1 Axes>"
            ]
          },
          "metadata": {
            "tags": [],
            "needs_background": "light"
          }
        }
      ]
    },
    {
      "cell_type": "markdown",
      "metadata": {
        "id": "CiWT_doibeto"
      },
      "source": [
        "# Using Bagging Regressor"
      ]
    },
    {
      "cell_type": "code",
      "metadata": {
        "id": "6KWr75vGbetp"
      },
      "source": [
        "#import necessary libraries\n",
        "from sklearn.ensemble import BaggingRegressor"
      ],
      "execution_count": null,
      "outputs": []
    },
    {
      "cell_type": "code",
      "metadata": {
        "id": "6m5OsIUsbetr",
        "colab": {
          "base_uri": "https://localhost:8080/"
        },
        "outputId": "58dc29bb-40a9-4569-c3e5-0146505e0525"
      },
      "source": [
        "regr = BaggingRegressor(base_estimator=Regressor,\n",
        "n_estimators=50, random_state=0)\n",
        "regr.fit(x_train,y_train)\n",
        "    "
      ],
      "execution_count": null,
      "outputs": [
        {
          "output_type": "execute_result",
          "data": {
            "text/plain": [
              "BaggingRegressor(base_estimator=DecisionTreeRegressor(ccp_alpha=0.0,\n",
              "                                                      criterion='mse',\n",
              "                                                      max_depth=10,\n",
              "                                                      max_features=None,\n",
              "                                                      max_leaf_nodes=None,\n",
              "                                                      min_impurity_decrease=0.0,\n",
              "                                                      min_impurity_split=None,\n",
              "                                                      min_samples_leaf=1,\n",
              "                                                      min_samples_split=2,\n",
              "                                                      min_weight_fraction_leaf=0.0,\n",
              "                                                      presort='deprecated',\n",
              "                                                      random_state=None,\n",
              "                                                      splitter='best'),\n",
              "                 bootstrap=True, bootstrap_features=False, max_features=1.0,\n",
              "                 max_samples=1.0, n_estimators=50, n_jobs=None, oob_score=False,\n",
              "                 random_state=0, verbose=0, warm_start=False)"
            ]
          },
          "metadata": {
            "tags": []
          },
          "execution_count": 684
        }
      ]
    },
    {
      "cell_type": "markdown",
      "metadata": {
        "id": "KvdNXLTXbetw"
      },
      "source": [
        "## Evaluating Bagging Regressor"
      ]
    },
    {
      "cell_type": "code",
      "metadata": {
        "id": "Af_3vxHkbetx"
      },
      "source": [
        "y_pred_br = regr.predict(X)"
      ],
      "execution_count": null,
      "outputs": []
    },
    {
      "cell_type": "code",
      "metadata": {
        "id": "PXoR2Bxpbetz",
        "colab": {
          "base_uri": "https://localhost:8080/"
        },
        "outputId": "d671208c-06a0-402f-df9b-fbb4e2cafabb"
      },
      "source": [
        "from sklearn.metrics import r2_score,mean_squared_error\n",
        "mse = mean_squared_error(Y,y_pred_br)\n",
        "rmse = np.sqrt(mse)\n",
        "rmse"
      ],
      "execution_count": null,
      "outputs": [
        {
          "output_type": "execute_result",
          "data": {
            "text/plain": [
              "0.012214181180964746"
            ]
          },
          "metadata": {
            "tags": []
          },
          "execution_count": 686
        }
      ]
    },
    {
      "cell_type": "code",
      "metadata": {
        "id": "NRz2RSH3fQGM",
        "colab": {
          "base_uri": "https://localhost:8080/",
          "height": 265
        },
        "outputId": "f5bb7ee5-f781-498b-958d-0255c6602a62"
      },
      "source": [
        "plt.plot(X.index,Y)\n",
        "plt.plot(X.index, y_pred_br, c='#f5ef42')\n",
        "plt.show()"
      ],
      "execution_count": null,
      "outputs": [
        {
          "output_type": "display_data",
          "data": {
            "image/png": "[encoded data removed]",
            "text/plain": [
              "<Figure size 432x288 with 1 Axes>"
            ]
          },
          "metadata": {
            "tags": [],
            "needs_background": "light"
          }
        }
      ]
    },
    {
      "cell_type": "markdown",
      "metadata": {
        "id": "phoe90D7bet1"
      },
      "source": [
        "# Using Random Forest"
      ]
    },
    {
      "cell_type": "code",
      "metadata": {
        "id": "cM6Op45nbet2",
        "colab": {
          "base_uri": "https://localhost:8080/"
        },
        "outputId": "29cbdfe7-f8bf-4879-9820-19303abbd598"
      },
      "source": [
        "#importing the libraries\n",
        "from sklearn.ensemble import RandomForestRegressor\n",
        "rf = RandomForestRegressor(n_estimators=50,max_depth=10,random_state=1)\n",
        "rf.fit(x_train,y_train)"
      ],
      "execution_count": null,
      "outputs": [
        {
          "output_type": "execute_result",
          "data": {
            "text/plain": [
              "RandomForestRegressor(bootstrap=True, ccp_alpha=0.0, criterion='mse',\n",
              "                      max_depth=10, max_features='auto', max_leaf_nodes=None,\n",
              "                      max_samples=None, min_impurity_decrease=0.0,\n",
              "                      min_impurity_split=None, min_samples_leaf=1,\n",
              "                      min_samples_split=2, min_weight_fraction_leaf=0.0,\n",
              "                      n_estimators=50, n_jobs=None, oob_score=False,\n",
              "                      random_state=1, verbose=0, warm_start=False)"
            ]
          },
          "metadata": {
            "tags": []
          },
          "execution_count": 688
        }
      ]
    },
    {
      "cell_type": "markdown",
      "metadata": {
        "id": "j4GVbyhAbet9"
      },
      "source": [
        "## Evaluating Random Forest"
      ]
    },
    {
      "cell_type": "code",
      "metadata": {
        "id": "Rp1ihgYjbet-"
      },
      "source": [
        "y_pred_rf = rf.predict(X)\n"
      ],
      "execution_count": null,
      "outputs": []
    },
    {
      "cell_type": "code",
      "metadata": {
        "id": "J6mI-BUbbeuA",
        "colab": {
          "base_uri": "https://localhost:8080/"
        },
        "outputId": "bef7ec62-54c4-4d26-aaa4-9ae5da8544de"
      },
      "source": [
        "from sklearn.metrics import r2_score,mean_squared_error\n",
        "mse = mean_squared_error(Y,y_pred_rf)\n",
        "rmse = np.sqrt(mse)\n",
        "rmse"
      ],
      "execution_count": null,
      "outputs": [
        {
          "output_type": "execute_result",
          "data": {
            "text/plain": [
              "0.013249777681027575"
            ]
          },
          "metadata": {
            "tags": []
          },
          "execution_count": 690
        }
      ]
    },
    {
      "cell_type": "code",
      "metadata": {
        "id": "uj2B69g3gnSx",
        "colab": {
          "base_uri": "https://localhost:8080/",
          "height": 265
        },
        "outputId": "5c450359-64e1-4230-f494-5c8d3ef7ca0e"
      },
      "source": [
        "plt.plot(X.index,Y)\n",
        "plt.plot(X.index, y_pred_rf, c='#f5ef42')\n",
        "plt.show()"
      ],
      "execution_count": null,
      "outputs": [
        {
          "output_type": "display_data",
          "data": {
            "image/png": "[encoded data removed]",
            "text/plain": [
              "<Figure size 432x288 with 1 Axes>"
            ]
          },
          "metadata": {
            "tags": [],
            "needs_background": "light"
          }
        }
      ]
    },
    {
      "cell_type": "markdown",
      "metadata": {
        "id": "6e1uCe8lbeuD"
      },
      "source": [
        " ## Using AdaBoost Regressor"
      ]
    },
    {
      "cell_type": "code",
      "metadata": {
        "id": "uX6q6_kGbeuD",
        "colab": {
          "base_uri": "https://localhost:8080/"
        },
        "outputId": "a3b9b31e-27e9-4202-a73c-e9cd880bd749"
      },
      "source": [
        "#importing necessary libraries\n",
        "from sklearn.ensemble import AdaBoostRegressor\n",
        "adb_reg = AdaBoostRegressor(base_estimator=Regressor,n_estimators=100,learning_rate=0.1)\n",
        "adb_reg.fit(x_train,y_train)\n",
        "\n"
      ],
      "execution_count": null,
      "outputs": [
        {
          "output_type": "execute_result",
          "data": {
            "text/plain": [
              "AdaBoostRegressor(base_estimator=DecisionTreeRegressor(ccp_alpha=0.0,\n",
              "                                                       criterion='mse',\n",
              "                                                       max_depth=10,\n",
              "                                                       max_features=None,\n",
              "                                                       max_leaf_nodes=None,\n",
              "                                                       min_impurity_decrease=0.0,\n",
              "                                                       min_impurity_split=None,\n",
              "                                                       min_samples_leaf=1,\n",
              "                                                       min_samples_split=2,\n",
              "                                                       min_weight_fraction_leaf=0.0,\n",
              "                                                       presort='deprecated',\n",
              "                                                       random_state=None,\n",
              "                                                       splitter='best'),\n",
              "                  learning_rate=0.1, loss='linear', n_estimators=100,\n",
              "                  random_state=None)"
            ]
          },
          "metadata": {
            "tags": []
          },
          "execution_count": 692
        }
      ]
    },
    {
      "cell_type": "markdown",
      "metadata": {
        "id": "pTiNntHcbeuH"
      },
      "source": [
        "## Evaluating AdaBoost Regressor"
      ]
    },
    {
      "cell_type": "code",
      "metadata": {
        "id": "pGnz1YOibeuI",
        "colab": {
          "base_uri": "https://localhost:8080/"
        },
        "outputId": "c0aadb29-88db-447c-fe0a-614c3ee71e30"
      },
      "source": [
        "y_pred_adb = adb_reg.predict(X)\n",
        "from sklearn.metrics import r2_score,mean_squared_error\n",
        "mse = mean_squared_error(Y,y_pred_adb)\n",
        "rmse = np.sqrt(mse)\n",
        "rmse"
      ],
      "execution_count": null,
      "outputs": [
        {
          "output_type": "execute_result",
          "data": {
            "text/plain": [
              "0.01302924691946358"
            ]
          },
          "metadata": {
            "tags": []
          },
          "execution_count": 693
        }
      ]
    },
    {
      "cell_type": "code",
      "metadata": {
        "id": "BfFSD3AChDmn",
        "colab": {
          "base_uri": "https://localhost:8080/",
          "height": 265
        },
        "outputId": "dfd82573-2c33-4b9c-e123-a00073fa91ec"
      },
      "source": [
        "plt.plot(X.index,Y)\n",
        "plt.plot(X.index, y_pred_adb, c='#f5ef42')\n",
        "plt.show()"
      ],
      "execution_count": null,
      "outputs": [
        {
          "output_type": "display_data",
          "data": {
            "image/png": "[encoded data removed]",
            "text/plain": [
              "<Figure size 432x288 with 1 Axes>"
            ]
          },
          "metadata": {
            "tags": [],
            "needs_background": "light"
          }
        }
      ]
    },
    {
      "cell_type": "markdown",
      "metadata": {
        "id": "8Q-98ibGbeuJ"
      },
      "source": [
        "## Using Gradient Boosting"
      ]
    },
    {
      "cell_type": "code",
      "metadata": {
        "id": "4StZOXBBbeuK",
        "colab": {
          "base_uri": "https://localhost:8080/"
        },
        "outputId": "ca8b36f2-a288-4a8c-89a5-25b4674dc2ee"
      },
      "source": [
        "#importing necessary libraries\n",
        "from sklearn.ensemble import GradientBoostingRegressor\n",
        "gdbt = GradientBoostingRegressor(max_depth=10,learning_rate=0.1,n_estimators=50,random_state=1)\n",
        "gdbt.fit(x_train,y_train)"
      ],
      "execution_count": null,
      "outputs": [
        {
          "output_type": "execute_result",
          "data": {
            "text/plain": [
              "GradientBoostingRegressor(alpha=0.9, ccp_alpha=0.0, criterion='friedman_mse',\n",
              "                          init=None, learning_rate=0.1, loss='ls', max_depth=10,\n",
              "                          max_features=None, max_leaf_nodes=None,\n",
              "                          min_impurity_decrease=0.0, min_impurity_split=None,\n",
              "                          min_samples_leaf=1, min_samples_split=2,\n",
              "                          min_weight_fraction_leaf=0.0, n_estimators=50,\n",
              "                          n_iter_no_change=None, presort='deprecated',\n",
              "                          random_state=1, subsample=1.0, tol=0.0001,\n",
              "                          validation_fraction=0.1, verbose=0, warm_start=False)"
            ]
          },
          "metadata": {
            "tags": []
          },
          "execution_count": 695
        }
      ]
    },
    {
      "cell_type": "markdown",
      "metadata": {
        "id": "fhjqy5udbeuP"
      },
      "source": [
        "## Evaluating gradient boosting"
      ]
    },
    {
      "cell_type": "code",
      "metadata": {
        "id": "CpcZr0-EbeuQ",
        "colab": {
          "base_uri": "https://localhost:8080/"
        },
        "outputId": "aefb809b-12c5-41eb-9428-606735c6b789"
      },
      "source": [
        "y_pred_gdbt = gdbt.predict(X)\n",
        "from sklearn.metrics import r2_score,mean_squared_error\n",
        "mse = mean_squared_error(Y,y_pred_gdbt)\n",
        "rmse = np.sqrt(mse)\n",
        "rmse"
      ],
      "execution_count": null,
      "outputs": [
        {
          "output_type": "execute_result",
          "data": {
            "text/plain": [
              "0.013701336864860006"
            ]
          },
          "metadata": {
            "tags": []
          },
          "execution_count": 731
        }
      ]
    },
    {
      "cell_type": "markdown",
      "metadata": {
        "id": "GdaVicrEb78c"
      },
      "source": [
        "##Using Deep Learning Models"
      ]
    },
    {
      "cell_type": "code",
      "metadata": {
        "id": "zNH4J9l5cAY6",
        "colab": {
          "base_uri": "https://localhost:8080/"
        },
        "outputId": "d9ff89fd-6f2a-402e-aa7b-6dc5093bdabf"
      },
      "source": [
        "from google.colab import drive\n",
        "drive.mount('/content/drive')"
      ],
      "execution_count": null,
      "outputs": [
        {
          "output_type": "stream",
          "text": [
            "Drive already mounted at /content/drive; to attempt to forcibly remount, call drive.mount(\"/content/drive\", force_remount=True).\n"
          ],
          "name": "stdout"
        }
      ]
    },
    {
      "cell_type": "markdown",
      "metadata": {
        "id": "XbP1VNrmBEdH"
      },
      "source": [
        "## Using ANN"
      ]
    },
    {
      "cell_type": "markdown",
      "metadata": {
        "id": "BvTCIFZ6BJgy"
      },
      "source": [
        "### Importing Libraries"
      ]
    },
    {
      "cell_type": "code",
      "metadata": {
        "id": "Y5R1YEo_BMOc"
      },
      "source": [
        "import tensorflow as tf \n",
        "import pandas as pd \n",
        "import numpy as np \n",
        "import matplotlib.pyplot as plt \n",
        "import keras \n",
        "from keras.models import Sequential \n",
        "from keras.layers import Dense \n",
        "from sklearn.metrics import confusion_matrix "
      ],
      "execution_count": null,
      "outputs": []
    },
    {
      "cell_type": "markdown",
      "metadata": {
        "id": "2Z2AxsQ1BfHR"
      },
      "source": [
        "### Building the ANN Model\n"
      ]
    },
    {
      "cell_type": "code",
      "metadata": {
        "id": "LAmG88bQBjbd"
      },
      "source": [
        "classifier = Sequential() \n",
        "classifier.add(Dense(units=50,activation = \"relu\",input_shape = (X_train.shape[1], 1))) \n",
        "classifier.add(Dense(units=50,activation = \"relu\")) \n",
        "classifier.add(Dense(activation = \"sigmoid\", units = 1)) \n",
        "classifier.compile(optimizer = 'adam' , loss = 'mean_squared_error' ) "
      ],
      "execution_count": null,
      "outputs": []
    },
    {
      "cell_type": "code",
      "metadata": {
        "id": "MM6hH_Q3BGvK",
        "colab": {
          "base_uri": "https://localhost:8080/"
        },
        "outputId": "8179cd1a-7509-4417-fb6d-8a935712d2d9"
      },
      "source": [
        "classifier.fit(X_train, Y_train, epochs = 15, batch_size = 32)"
      ],
      "execution_count": null,
      "outputs": [
        {
          "output_type": "stream",
          "text": [
            "Epoch 1/15\n",
            "110/110 [==============================] - 0s 2ms/step - loss: 0.1176\n",
            "Epoch 2/15\n",
            "110/110 [==============================] - 0s 2ms/step - loss: 0.0231\n",
            "Epoch 3/15\n",
            "110/110 [==============================] - 0s 2ms/step - loss: 0.0206\n",
            "Epoch 4/15\n",
            "110/110 [==============================] - 0s 2ms/step - loss: 0.0199\n",
            "Epoch 5/15\n",
            "110/110 [==============================] - 0s 1ms/step - loss: 0.0197\n",
            "Epoch 6/15\n",
            "110/110 [==============================] - 0s 1ms/step - loss: 0.0196\n",
            "Epoch 7/15\n",
            "110/110 [==============================] - 0s 1ms/step - loss: 0.0196\n",
            "Epoch 8/15\n",
            "110/110 [==============================] - 0s 2ms/step - loss: 0.0195\n",
            "Epoch 9/15\n",
            "110/110 [==============================] - 0s 1ms/step - loss: 0.0195\n",
            "Epoch 10/15\n",
            "110/110 [==============================] - 0s 1ms/step - loss: 0.0194\n",
            "Epoch 11/15\n",
            "110/110 [==============================] - 0s 1ms/step - loss: 0.0193\n",
            "Epoch 12/15\n",
            "110/110 [==============================] - 0s 1ms/step - loss: 0.0193\n",
            "Epoch 13/15\n",
            "110/110 [==============================] - 0s 1ms/step - loss: 0.0192\n",
            "Epoch 14/15\n",
            "110/110 [==============================] - 0s 1ms/step - loss: 0.0192\n",
            "Epoch 15/15\n",
            "110/110 [==============================] - 0s 2ms/step - loss: 0.0191\n"
          ],
          "name": "stdout"
        },
        {
          "output_type": "execute_result",
          "data": {
            "text/plain": [
              "<tensorflow.python.keras.callbacks.History at 0x7f3c65067eb8>"
            ]
          },
          "metadata": {
            "tags": []
          },
          "execution_count": 715
        }
      ]
    },
    {
      "cell_type": "code",
      "metadata": {
        "id": "6PwBrITMG5wB"
      },
      "source": [
        "X_test = np.array(x_test)\n",
        "X_test = np.reshape(X_test, (X_test.shape[0],X_test.shape[1], 1))\n",
        "predicted_stock_price = classifier.predict(X_test)"
      ],
      "execution_count": null,
      "outputs": []
    },
    {
      "cell_type": "code",
      "metadata": {
        "id": "6pshVd1NG_LW"
      },
      "source": [
        "real_stock_price = np.asarray(y_test)\n",
        "# real_stock_price=real_stock_price.reshape(1167,1)"
      ],
      "execution_count": null,
      "outputs": []
    },
    {
      "cell_type": "code",
      "metadata": {
        "id": "McQ0BuP-HD-w",
        "colab": {
          "base_uri": "https://localhost:8080/"
        },
        "outputId": "4a6cd1a6-e21a-4292-f8c2-117bb5b6768b"
      },
      "source": [
        "predicted_stock_price"
      ],
      "execution_count": null,
      "outputs": [
        {
          "output_type": "execute_result",
          "data": {
            "text/plain": [
              "array([[[1.12428159e-01],\n",
              "        [1.14908546e-01],\n",
              "        [2.39646435e-03],\n",
              "        [6.91685081e-03],\n",
              "        [1.52629614e-03],\n",
              "        [1.57633424e-03],\n",
              "        [2.89657712e-03],\n",
              "        [3.55213881e-04]],\n",
              "\n",
              "       [[4.54008579e-04],\n",
              "        [4.30703163e-04],\n",
              "        [5.65999746e-03],\n",
              "        [6.55516982e-03],\n",
              "        [3.78620625e-03],\n",
              "        [3.38625908e-03],\n",
              "        [7.32654333e-03],\n",
              "        [9.86159742e-02]],\n",
              "\n",
              "       [[8.65727663e-04],\n",
              "        [8.38249922e-04],\n",
              "        [7.22676516e-03],\n",
              "        [6.26397133e-03],\n",
              "        [6.26260042e-03],\n",
              "        [5.74535131e-03],\n",
              "        [7.75671005e-03],\n",
              "        [2.88502574e-02]],\n",
              "\n",
              "       [[8.24540854e-04],\n",
              "        [7.81863928e-04],\n",
              "        [4.22275066e-03],\n",
              "        [8.83281231e-03],\n",
              "        [3.66529822e-03],\n",
              "        [3.63561511e-03],\n",
              "        [4.83468175e-03],\n",
              "        [1.31726265e-04]],\n",
              "\n",
              "       [[5.20578027e-03],\n",
              "        [5.08034229e-03],\n",
              "        [6.07788563e-03],\n",
              "        [6.24105334e-03],\n",
              "        [1.29311681e-02],\n",
              "        [1.50160789e-02],\n",
              "        [5.13666868e-03],\n",
              "        [8.06097388e-02]],\n",
              "\n",
              "       [[1.05642855e-01],\n",
              "        [1.08758777e-01],\n",
              "        [4.80803847e-03],\n",
              "        [9.37765837e-03],\n",
              "        [2.23529339e-03],\n",
              "        [1.64416432e-03],\n",
              "        [1.27868056e-02],\n",
              "        [5.53399324e-04]],\n",
              "\n",
              "       [[1.85048580e-03],\n",
              "        [1.75631046e-03],\n",
              "        [2.95814872e-03],\n",
              "        [6.50006533e-03],\n",
              "        [3.95351648e-03],\n",
              "        [4.06271219e-03],\n",
              "        [4.47842479e-03],\n",
              "        [8.05112177e-06]],\n",
              "\n",
              "       [[1.19793117e-02],\n",
              "        [1.47743821e-02],\n",
              "        [1.25617981e-02],\n",
              "        [4.99942899e-03],\n",
              "        [1.70817971e-03],\n",
              "        [1.32799149e-03],\n",
              "        [8.95464420e-03],\n",
              "        [1.51865929e-01]],\n",
              "\n",
              "       [[5.79140961e-01],\n",
              "        [5.89498580e-01],\n",
              "        [2.66873538e-02],\n",
              "        [8.52674246e-03],\n",
              "        [8.19692910e-02],\n",
              "        [8.24239552e-02],\n",
              "        [1.99466348e-02],\n",
              "        [8.38059187e-03]],\n",
              "\n",
              "       [[5.28135896e-03],\n",
              "        [4.81444597e-03],\n",
              "        [1.54469907e-02],\n",
              "        [6.07278943e-03],\n",
              "        [4.38871682e-02],\n",
              "        [5.49032688e-02],\n",
              "        [6.66868687e-03],\n",
              "        [1.84014440e-03]],\n",
              "\n",
              "       [[4.26399708e-03],\n",
              "        [4.52360511e-03],\n",
              "        [1.34472549e-02],\n",
              "        [6.90412521e-03],\n",
              "        [1.25449896e-02],\n",
              "        [9.77316499e-03],\n",
              "        [1.68484151e-02],\n",
              "        [1.03495389e-01]],\n",
              "\n",
              "       [[1.96567178e-03],\n",
              "        [1.94224715e-03],\n",
              "        [5.40205836e-03],\n",
              "        [5.87329268e-03],\n",
              "        [5.41916490e-03],\n",
              "        [6.00901246e-03],\n",
              "        [4.30375338e-03],\n",
              "        [8.29512477e-02]],\n",
              "\n",
              "       [[3.39105725e-03],\n",
              "        [3.31220031e-03],\n",
              "        [1.27163827e-02],\n",
              "        [6.68492913e-03],\n",
              "        [1.46615207e-02],\n",
              "        [1.28278732e-02],\n",
              "        [1.27077103e-02],\n",
              "        [7.92040527e-02]],\n",
              "\n",
              "       [[7.90387392e-04],\n",
              "        [7.46458769e-04],\n",
              "        [4.60258126e-03],\n",
              "        [6.26608729e-03],\n",
              "        [4.51496243e-03],\n",
              "        [4.55564260e-03],\n",
              "        [5.02076745e-03],\n",
              "        [1.08021498e-03]],\n",
              "\n",
              "       [[3.58489156e-03],\n",
              "        [3.57264280e-03],\n",
              "        [8.73529911e-03],\n",
              "        [6.94370270e-03],\n",
              "        [1.27105713e-02],\n",
              "        [1.23343766e-02],\n",
              "        [8.77290964e-03],\n",
              "        [2.16230363e-01]],\n",
              "\n",
              "       [[8.95321369e-04],\n",
              "        [8.54551792e-04],\n",
              "        [6.80768490e-03],\n",
              "        [6.40192628e-03],\n",
              "        [6.71124458e-03],\n",
              "        [6.81358576e-03],\n",
              "        [5.88881969e-03],\n",
              "        [1.51492655e-02]],\n",
              "\n",
              "       [[8.27679038e-03],\n",
              "        [8.58449936e-03],\n",
              "        [7.85544515e-03],\n",
              "        [6.39018416e-03],\n",
              "        [7.57563114e-03],\n",
              "        [6.85164332e-03],\n",
              "        [8.75389576e-03],\n",
              "        [9.73766148e-02]],\n",
              "\n",
              "       [[2.69764662e-03],\n",
              "        [2.60663033e-03],\n",
              "        [4.56705689e-03],\n",
              "        [5.77193499e-03],\n",
              "        [3.68675590e-03],\n",
              "        [3.36956978e-03],\n",
              "        [6.63307309e-03],\n",
              "        [5.25474548e-04]],\n",
              "\n",
              "       [[8.75845551e-02],\n",
              "        [8.97383690e-02],\n",
              "        [2.47374177e-03],\n",
              "        [6.04385138e-03],\n",
              "        [1.61823630e-03],\n",
              "        [2.58252025e-03],\n",
              "        [8.49157572e-04],\n",
              "        [1.42216682e-04]],\n",
              "\n",
              "       [[9.82165337e-04],\n",
              "        [9.18626785e-04],\n",
              "        [6.73630834e-03],\n",
              "        [5.83320856e-03],\n",
              "        [6.48596883e-03],\n",
              "        [6.28253818e-03],\n",
              "        [6.68668747e-03],\n",
              "        [6.52968884e-04]],\n",
              "\n",
              "       [[5.37723303e-04],\n",
              "        [5.11944294e-04],\n",
              "        [5.15592098e-03],\n",
              "        [5.75414300e-03],\n",
              "        [4.91926074e-03],\n",
              "        [4.87551093e-03],\n",
              "        [5.58543205e-03],\n",
              "        [2.88446546e-02]],\n",
              "\n",
              "       [[1.59233868e-01],\n",
              "        [1.63943082e-01],\n",
              "        [2.61655450e-03],\n",
              "        [9.05206800e-03],\n",
              "        [4.14389372e-03],\n",
              "        [5.52693009e-03],\n",
              "        [2.30944157e-03],\n",
              "        [1.22756637e-05]],\n",
              "\n",
              "       [[5.29551506e-03],\n",
              "        [4.66153026e-03],\n",
              "        [1.91614032e-03],\n",
              "        [5.47140837e-03],\n",
              "        [2.32797861e-03],\n",
              "        [3.20875645e-03],\n",
              "        [1.48394704e-03],\n",
              "        [9.39488411e-04]],\n",
              "\n",
              "       [[5.79625368e-04],\n",
              "        [5.35637140e-04],\n",
              "        [4.79450822e-03],\n",
              "        [5.88011742e-03],\n",
              "        [6.57072663e-03],\n",
              "        [7.12600350e-03],\n",
              "        [4.83119488e-03],\n",
              "        [3.11434269e-04]],\n",
              "\n",
              "       [[2.00670958e-03],\n",
              "        [2.00223923e-03],\n",
              "        [3.91840935e-03],\n",
              "        [5.61127067e-03],\n",
              "        [3.57964635e-03],\n",
              "        [4.03705239e-03],\n",
              "        [3.24007869e-03],\n",
              "        [2.12344527e-03]],\n",
              "\n",
              "       [[4.10735607e-04],\n",
              "        [3.81380320e-04],\n",
              "        [6.73630834e-03],\n",
              "        [8.18917155e-03],\n",
              "        [5.66500425e-03],\n",
              "        [4.98890877e-03],\n",
              "        [8.48764181e-03],\n",
              "        [7.55488575e-02]],\n",
              "\n",
              "       [[2.10845470e-03],\n",
              "        [2.11995840e-03],\n",
              "        [9.57754254e-03],\n",
              "        [6.92728162e-03],\n",
              "        [8.98444653e-03],\n",
              "        [8.05822015e-03],\n",
              "        [9.62942839e-03],\n",
              "        [1.32435828e-01]],\n",
              "\n",
              "       [[1.04638934e-03],\n",
              "        [1.01342797e-03],\n",
              "        [7.36778975e-03],\n",
              "        [5.97679615e-03],\n",
              "        [7.02717900e-03],\n",
              "        [6.59236312e-03],\n",
              "        [7.60668516e-03],\n",
              "        [8.11170042e-02]],\n",
              "\n",
              "       [[8.93506408e-03],\n",
              "        [9.04002786e-03],\n",
              "        [3.54328752e-03],\n",
              "        [5.57735562e-03],\n",
              "        [8.10387731e-03],\n",
              "        [1.34290457e-02],\n",
              "        [1.97818875e-03],\n",
              "        [2.97158957e-04]],\n",
              "\n",
              "       [[7.98034668e-03],\n",
              "        [7.28005171e-03],\n",
              "        [8.17185640e-03],\n",
              "        [5.73897362e-03],\n",
              "        [9.33125615e-03],\n",
              "        [1.12978518e-02],\n",
              "        [4.16082144e-03],\n",
              "        [5.25176525e-04]],\n",
              "\n",
              "       [[3.98610890e-01],\n",
              "        [4.29601431e-01],\n",
              "        [6.15316629e-03],\n",
              "        [6.25982881e-03],\n",
              "        [5.44551015e-03],\n",
              "        [1.00836158e-02],\n",
              "        [1.39868259e-03],\n",
              "        [9.36168432e-02]],\n",
              "\n",
              "       [[2.75474787e-03],\n",
              "        [2.65097618e-03],\n",
              "        [8.23670626e-03],\n",
              "        [6.20448589e-03],\n",
              "        [1.68082714e-02],\n",
              "        [1.99437439e-02],\n",
              "        [5.35184145e-03],\n",
              "        [4.23836708e-03]],\n",
              "\n",
              "       [[5.96860349e-02],\n",
              "        [5.91660738e-02],\n",
              "        [1.18812919e-03],\n",
              "        [5.09819388e-03],\n",
              "        [6.98143244e-03],\n",
              "        [1.87370777e-02],\n",
              "        [7.19964504e-04],\n",
              "        [5.77701721e-05]],\n",
              "\n",
              "       [[1.67371899e-01],\n",
              "        [1.74017787e-01],\n",
              "        [5.81277609e-02],\n",
              "        [5.02711535e-03],\n",
              "        [1.85807943e-02],\n",
              "        [5.51259518e-03],\n",
              "        [9.85614657e-02],\n",
              "        [8.14468861e-02]],\n",
              "\n",
              "       [[6.14798069e-03],\n",
              "        [6.16714358e-03],\n",
              "        [4.49368358e-03],\n",
              "        [6.11048937e-03],\n",
              "        [2.37226486e-03],\n",
              "        [2.29185820e-03],\n",
              "        [4.36085463e-03],\n",
              "        [1.12351775e-03]],\n",
              "\n",
              "       [[4.65035439e-04],\n",
              "        [4.33504581e-04],\n",
              "        [4.91362810e-03],\n",
              "        [5.72258234e-03],\n",
              "        [5.28937578e-03],\n",
              "        [5.39016724e-03],\n",
              "        [5.28147817e-03],\n",
              "        [2.20596790e-04]],\n",
              "\n",
              "       [[3.32248211e-03],\n",
              "        [3.17814946e-03],\n",
              "        [3.62265110e-03],\n",
              "        [5.55846095e-03],\n",
              "        [5.29092550e-03],\n",
              "        [6.54569268e-03],\n",
              "        [3.31747532e-03],\n",
              "        [4.07495572e-05]],\n",
              "\n",
              "       [[6.94870949e-04],\n",
              "        [6.61998987e-04],\n",
              "        [5.90404868e-03],\n",
              "        [5.68264723e-03],\n",
              "        [4.65756655e-03],\n",
              "        [4.40630317e-03],\n",
              "        [6.48665428e-03],\n",
              "        [2.24459380e-01]],\n",
              "\n",
              "       [[8.55863094e-04],\n",
              "        [8.35537910e-04],\n",
              "        [8.36780667e-03],\n",
              "        [6.46772981e-03],\n",
              "        [6.26948476e-03],\n",
              "        [5.60539961e-03],\n",
              "        [8.38202238e-03],\n",
              "        [9.88756716e-02]],\n",
              "\n",
              "       [[1.58717096e-01],\n",
              "        [1.64988935e-01],\n",
              "        [6.56104088e-03],\n",
              "        [5.99542260e-03],\n",
              "        [1.97242498e-02],\n",
              "        [3.32702398e-02],\n",
              "        [2.43589282e-03],\n",
              "        [2.66371965e-02]],\n",
              "\n",
              "       [[3.77165020e-01],\n",
              "        [4.10012662e-01],\n",
              "        [1.23471022e-04],\n",
              "        [9.12508368e-03],\n",
              "        [3.93152237e-04],\n",
              "        [7.92801380e-04],\n",
              "        [1.99139118e-04],\n",
              "        [1.38866901e-03]],\n",
              "\n",
              "       [[3.24869156e-03],\n",
              "        [3.06004286e-03],\n",
              "        [6.66564703e-03],\n",
              "        [7.10305572e-03],\n",
              "        [2.47019529e-02],\n",
              "        [3.60432863e-02],\n",
              "        [3.61675024e-03],\n",
              "        [9.71794128e-04]],\n",
              "\n",
              "       [[6.96748495e-04],\n",
              "        [6.67214394e-04],\n",
              "        [5.05641103e-03],\n",
              "        [5.71948290e-03],\n",
              "        [4.13936377e-03],\n",
              "        [4.00364399e-03],\n",
              "        [5.62801957e-03],\n",
              "        [8.82229209e-03]],\n",
              "\n",
              "       [[1.10462308e-03],\n",
              "        [1.04755163e-03],\n",
              "        [4.15650010e-03],\n",
              "        [5.45468926e-03],\n",
              "        [3.59562039e-03],\n",
              "        [3.42440605e-03],\n",
              "        [5.56612015e-03],\n",
              "        [2.70678156e-05]],\n",
              "\n",
              "       [[3.39273512e-01],\n",
              "        [3.46111566e-01],\n",
              "        [2.95060873e-03],\n",
              "        [5.74102998e-03],\n",
              "        [1.08986586e-01],\n",
              "        [1.48314536e-01],\n",
              "        [7.22944736e-04],\n",
              "        [7.73489475e-04]],\n",
              "\n",
              "       [[5.97169995e-03],\n",
              "        [6.46141171e-03],\n",
              "        [7.97352195e-03],\n",
              "        [6.44835830e-03],\n",
              "        [5.01093268e-03],\n",
              "        [4.17053699e-03],\n",
              "        [1.08337402e-02],\n",
              "        [1.37610406e-01]],\n",
              "\n",
              "       [[7.68393278e-04],\n",
              "        [7.39961863e-04],\n",
              "        [6.48075342e-03],\n",
              "        [6.77844882e-03],\n",
              "        [9.82746482e-03],\n",
              "        [1.01813078e-02],\n",
              "        [6.48027658e-03],\n",
              "        [1.72187030e-01]],\n",
              "\n",
              "       [[4.80723381e-03],\n",
              "        [5.05346060e-03],\n",
              "        [6.37903810e-03],\n",
              "        [6.17113709e-03],\n",
              "        [2.10723281e-02],\n",
              "        [2.92252898e-02],\n",
              "        [3.88857722e-03],\n",
              "        [1.33624107e-01]],\n",
              "\n",
              "       [[8.25047493e-04],\n",
              "        [7.74830580e-04],\n",
              "        [5.33589721e-03],\n",
              "        [5.97631931e-03],\n",
              "        [4.85295057e-03],\n",
              "        [4.75335121e-03],\n",
              "        [5.81204891e-03],\n",
              "        [4.72470128e-05]],\n",
              "\n",
              "       [[8.91983509e-04],\n",
              "        [8.49723816e-04],\n",
              "        [5.28454781e-03],\n",
              "        [6.17635250e-03],\n",
              "        [5.39249182e-03],\n",
              "        [5.28931618e-03],\n",
              "        [5.96952438e-03],\n",
              "        [3.06114554e-03]],\n",
              "\n",
              "       [[5.73149323e-03],\n",
              "        [5.75226545e-03],\n",
              "        [5.04496694e-03],\n",
              "        [6.14219904e-03],\n",
              "        [6.27470016e-03],\n",
              "        [7.35396147e-03],\n",
              "        [3.95938754e-03],\n",
              "        [1.85248256e-03]],\n",
              "\n",
              "       [[9.06825066e-04],\n",
              "        [8.62985849e-04],\n",
              "        [4.95827198e-03],\n",
              "        [6.01053238e-03],\n",
              "        [5.67865372e-03],\n",
              "        [5.57622313e-03],\n",
              "        [6.07693195e-03],\n",
              "        [3.52701545e-03]],\n",
              "\n",
              "       [[6.42961562e-02],\n",
              "        [6.72035217e-02],\n",
              "        [1.20458007e-02],\n",
              "        [6.34554029e-03],\n",
              "        [5.02055287e-02],\n",
              "        [6.62388802e-02],\n",
              "        [5.71396947e-03],\n",
              "        [2.06895828e-01]],\n",
              "\n",
              "       [[4.05579805e-04],\n",
              "        [3.81767750e-04],\n",
              "        [6.12080097e-03],\n",
              "        [7.06714392e-03],\n",
              "        [4.97516990e-03],\n",
              "        [4.70444560e-03],\n",
              "        [6.67652488e-03],\n",
              "        [1.53640360e-01]],\n",
              "\n",
              "       [[7.21961260e-04],\n",
              "        [6.84618950e-04],\n",
              "        [4.40990925e-03],\n",
              "        [5.59905171e-03],\n",
              "        [4.14833426e-03],\n",
              "        [4.14007902e-03],\n",
              "        [5.00801206e-03],\n",
              "        [1.02367997e-03]],\n",
              "\n",
              "       [[1.36189908e-01],\n",
              "        [1.42072916e-01],\n",
              "        [3.37322652e-02],\n",
              "        [6.52387738e-03],\n",
              "        [4.20283079e-02],\n",
              "        [5.67556620e-02],\n",
              "        [5.15156984e-03],\n",
              "        [2.09250778e-01]],\n",
              "\n",
              "       [[5.88248670e-02],\n",
              "        [6.46075904e-02],\n",
              "        [1.31799281e-02],\n",
              "        [5.98961115e-03],\n",
              "        [4.74619865e-03],\n",
              "        [3.56712937e-03],\n",
              "        [1.58959031e-02],\n",
              "        [9.62135196e-02]],\n",
              "\n",
              "       [[3.98784876e-04],\n",
              "        [3.75688076e-04],\n",
              "        [5.97721338e-03],\n",
              "        [4.28605080e-03],\n",
              "        [5.11080027e-03],\n",
              "        [4.97192144e-03],\n",
              "        [6.04781508e-03],\n",
              "        [1.41037852e-01]],\n",
              "\n",
              "       [[8.99016857e-03],\n",
              "        [8.46970081e-03],\n",
              "        [3.18896770e-03],\n",
              "        [6.33683801e-03],\n",
              "        [5.88479638e-03],\n",
              "        [7.33959675e-03],\n",
              "        [3.36548686e-03],\n",
              "        [1.81394007e-05]],\n",
              "\n",
              "       [[9.34392214e-04],\n",
              "        [8.85099173e-04],\n",
              "        [4.60579991e-03],\n",
              "        [6.03291392e-03],\n",
              "        [5.44443727e-03],\n",
              "        [5.82978129e-03],\n",
              "        [4.68412042e-03],\n",
              "        [3.02433968e-04]],\n",
              "\n",
              "       [[1.54351354e-01],\n",
              "        [1.53026789e-01],\n",
              "        [1.45897269e-03],\n",
              "        [5.63928485e-03],\n",
              "        [4.74333763e-03],\n",
              "        [1.36777461e-02],\n",
              "        [5.57601452e-04],\n",
              "        [6.64588879e-05]],\n",
              "\n",
              "       [[1.90952420e-03],\n",
              "        [1.94224715e-03],\n",
              "        [2.55534053e-03],\n",
              "        [5.89525700e-03],\n",
              "        [2.38513947e-03],\n",
              "        [2.61089206e-03],\n",
              "        [2.94119120e-03],\n",
              "        [1.62589550e-03]],\n",
              "\n",
              "       [[9.43869352e-04],\n",
              "        [8.91506672e-04],\n",
              "        [5.90404868e-03],\n",
              "        [5.79693913e-03],\n",
              "        [5.74949384e-03],\n",
              "        [5.89853525e-03],\n",
              "        [5.35613298e-03],\n",
              "        [1.58053637e-03]],\n",
              "\n",
              "       [[2.83530354e-03],\n",
              "        [2.77408957e-03],\n",
              "        [4.21983004e-03],\n",
              "        [5.57041168e-03],\n",
              "        [3.77720594e-03],\n",
              "        [3.14778090e-03],\n",
              "        [9.65407491e-03],\n",
              "        [2.13908097e-05]],\n",
              "\n",
              "       [[4.00358438e-03],\n",
              "        [4.00117040e-03],\n",
              "        [5.24282455e-03],\n",
              "        [5.88434935e-03],\n",
              "        [5.50863147e-03],\n",
              "        [4.81045246e-03],\n",
              "        [8.78927112e-03],\n",
              "        [1.87641084e-02]],\n",
              "\n",
              "       [[5.24824858e-03],\n",
              "        [5.20405173e-03],\n",
              "        [6.19664788e-03],\n",
              "        [6.22826815e-03],\n",
              "        [1.27822757e-02],\n",
              "        [1.48618221e-02],\n",
              "        [5.09425998e-03],\n",
              "        [8.97022188e-02]],\n",
              "\n",
              "       [[1.63968146e-01],\n",
              "        [1.68778449e-01],\n",
              "        [4.01028991e-03],\n",
              "        [6.04951382e-03],\n",
              "        [1.57127678e-02],\n",
              "        [2.61575580e-02],\n",
              "        [2.35718489e-03],\n",
              "        [2.01195478e-04]],\n",
              "\n",
              "       [[1.07231736e-03],\n",
              "        [1.02317333e-03],\n",
              "        [7.36132264e-03],\n",
              "        [5.89272380e-03],\n",
              "        [6.96754456e-03],\n",
              "        [6.79412484e-03],\n",
              "        [6.75013661e-03],\n",
              "        [2.36429572e-02]],\n",
              "\n",
              "       [[1.99624896e-03],\n",
              "        [1.86184049e-03],\n",
              "        [3.05077434e-03],\n",
              "        [5.70940971e-03],\n",
              "        [3.69384885e-03],\n",
              "        [3.98629904e-03],\n",
              "        [3.74227762e-03],\n",
              "        [1.57237053e-04]],\n",
              "\n",
              "       [[6.24924898e-04],\n",
              "        [5.92142344e-04],\n",
              "        [3.63230705e-03],\n",
              "        [7.72544742e-03],\n",
              "        [2.71084905e-03],\n",
              "        [2.68182158e-03],\n",
              "        [4.28169966e-03],\n",
              "        [2.78562307e-04]],\n",
              "\n",
              "       [[7.89254904e-04],\n",
              "        [7.43180513e-04],\n",
              "        [6.16395473e-03],\n",
              "        [5.97617030e-03],\n",
              "        [4.69407439e-03],\n",
              "        [4.37128544e-03],\n",
              "        [6.91401958e-03],\n",
              "        [1.20118260e-03]]], dtype=float32)"
            ]
          },
          "metadata": {
            "tags": []
          },
          "execution_count": 718
        }
      ]
    },
    {
      "cell_type": "code",
      "metadata": {
        "id": "uJSsKEm9HF1A",
        "colab": {
          "base_uri": "https://localhost:8080/"
        },
        "outputId": "318e40ee-b8b1-4ca7-a417-211a23f45700"
      },
      "source": [
        "real_stock_price"
      ],
      "execution_count": null,
      "outputs": [
        {
          "output_type": "execute_result",
          "data": {
            "text/plain": [
              "array([ 0.19690227, -0.1592957 , -0.11320235, -0.12257151, -0.0024715 ,\n",
              "        0.19394103, -0.08633276,  0.04197132,  0.62909722, -0.00943769,\n",
              "       -0.00157342, -0.05975445, -0.02312734, -0.12223169, -0.01135521,\n",
              "       -0.11191591,  0.01954359, -0.04565216,  0.1296919 , -0.10885758,\n",
              "       -0.14805756,  0.27030211, -0.02232635, -0.14575168, -0.06213315,\n",
              "       -0.16606771, -0.04659879, -0.0989787 ,  0.00866954,  0.00500441,\n",
              "        0.51050211, -0.04089477,  0.07396239,  0.32343447, -0.00302977,\n",
              "       -0.16046077, -0.04043359, -0.12817844, -0.11043529,  0.29413764,\n",
              "        0.46737   , -0.03261787, -0.12987751, -0.10533808,  0.45567068,\n",
              "        0.01277159, -0.11601795,  0.00541704, -0.12104234, -0.11344507,\n",
              "       -0.00577255, -0.112013  ,  0.12755592, -0.16592207, -0.12939206,\n",
              "        0.27906446,  0.10973996, -0.16715997,  0.00255289, -0.11242563,\n",
              "        0.23498572, -0.06710899, -0.11016829, -0.04453563, -0.01895249,\n",
              "       -0.0013307 ,  0.27940427, -0.09946415, -0.07101686, -0.1424749 ,\n",
              "       -0.1226686 ])"
            ]
          },
          "metadata": {
            "tags": []
          },
          "execution_count": 719
        }
      ]
    },
    {
      "cell_type": "code",
      "metadata": {
        "id": "XXVCWDOMHW2k",
        "colab": {
          "base_uri": "https://localhost:8080/",
          "height": 53
        },
        "outputId": "3d4ea581-d7b0-44ab-d87d-b24fceae81d0"
      },
      "source": [
        "\"\"\" plt.figure(figsize=(20,10))\n",
        "plt.plot(real_stock_price, color = 'green', label = 'Stock Price')\n",
        "plt.plot(predicted_stock_price, color = 'red', label = 'Predicted Stock Price')\n",
        "plt.title('Stock Price Prediction Using ANN')\n",
        "plt.xlabel('Trading Day')\n",
        "plt.ylabel('Stock Price')\n",
        "plt.legend()\n",
        "plt.show() \"\"\" #error"
      ],
      "execution_count": null,
      "outputs": [
        {
          "output_type": "execute_result",
          "data": {
            "application/vnd.google.colaboratory.intrinsic+json": {
              "type": "string"
            },
            "text/plain": [
              "\" plt.figure(figsize=(20,10))\\nplt.plot(real_stock_price, color = 'green', label = 'Stock Price')\\nplt.plot(predicted_stock_price, color = 'red', label = 'Predicted Stock Price')\\nplt.title('Stock Price Prediction Using ANN')\\nplt.xlabel('Trading Day')\\nplt.ylabel('Stock Price')\\nplt.legend()\\nplt.show() \""
            ]
          },
          "metadata": {
            "tags": []
          },
          "execution_count": 720
        }
      ]
    },
    {
      "cell_type": "markdown",
      "metadata": {
        "id": "MqGBMKv0HvVM"
      },
      "source": [
        "## Using LSTM"
      ]
    },
    {
      "cell_type": "markdown",
      "metadata": {
        "id": "B2uIFD452b24"
      },
      "source": [
        "### Importing libraries"
      ]
    },
    {
      "cell_type": "code",
      "metadata": {
        "id": "ccMkltE9ebcw",
        "colab": {
          "base_uri": "https://localhost:8080/"
        },
        "outputId": "bcc4fd82-97fc-44b2-e0b0-d94ad39ee626"
      },
      "source": [
        "pip install nsepy"
      ],
      "execution_count": null,
      "outputs": [
        {
          "output_type": "stream",
          "text": [
            "Requirement already satisfied: nsepy in /usr/local/lib/python3.6/dist-packages (0.8)\n",
            "Requirement already satisfied: beautifulsoup4 in /usr/local/lib/python3.6/dist-packages (from nsepy) (4.6.3)\n",
            "Requirement already satisfied: requests in /usr/local/lib/python3.6/dist-packages (from nsepy) (2.23.0)\n",
            "Requirement already satisfied: numpy in /usr/local/lib/python3.6/dist-packages (from nsepy) (1.18.5)\n",
            "Requirement already satisfied: six in /usr/local/lib/python3.6/dist-packages (from nsepy) (1.15.0)\n",
            "Requirement already satisfied: lxml in /usr/local/lib/python3.6/dist-packages (from nsepy) (4.2.6)\n",
            "Requirement already satisfied: click in /usr/local/lib/python3.6/dist-packages (from nsepy) (7.1.2)\n",
            "Requirement already satisfied: pandas in /usr/local/lib/python3.6/dist-packages (from nsepy) (1.1.4)\n",
            "Requirement already satisfied: certifi>=2017.4.17 in /usr/local/lib/python3.6/dist-packages (from requests->nsepy) (2020.6.20)\n",
            "Requirement already satisfied: idna<3,>=2.5 in /usr/local/lib/python3.6/dist-packages (from requests->nsepy) (2.10)\n",
            "Requirement already satisfied: urllib3!=1.25.0,!=1.25.1,<1.26,>=1.21.1 in /usr/local/lib/python3.6/dist-packages (from requests->nsepy) (1.24.3)\n",
            "Requirement already satisfied: chardet<4,>=3.0.2 in /usr/local/lib/python3.6/dist-packages (from requests->nsepy) (3.0.4)\n",
            "Requirement already satisfied: python-dateutil>=2.7.3 in /usr/local/lib/python3.6/dist-packages (from pandas->nsepy) (2.8.1)\n",
            "Requirement already satisfied: pytz>=2017.2 in /usr/local/lib/python3.6/dist-packages (from pandas->nsepy) (2018.9)\n"
          ],
          "name": "stdout"
        }
      ]
    },
    {
      "cell_type": "code",
      "metadata": {
        "id": "7fcRAPcyeVTV"
      },
      "source": [
        "from nsepy import get_history as gh\n",
        "import datetime as dt\n",
        "from matplotlib import pyplot as plt\n",
        "from sklearn import model_selection\n",
        "from sklearn.metrics import confusion_matrix\n",
        "from sklearn.preprocessing import StandardScaler\n",
        "from sklearn.model_selection import train_test_split\n",
        "import numpy as np\n",
        "import pandas as pd\n",
        "from sklearn.preprocessing import MinMaxScaler\n",
        "from keras.models import Sequential\n",
        "from keras.layers import Dense\n",
        "from keras.layers import LSTM\n",
        "from keras.layers import Dropout"
      ],
      "execution_count": null,
      "outputs": []
    },
    {
      "cell_type": "markdown",
      "metadata": {
        "id": "33TKI23A2NVQ"
      },
      "source": [
        "### Building the LSTM"
      ]
    },
    {
      "cell_type": "code",
      "metadata": {
        "id": "SrT0kjBsc2Pm"
      },
      "source": [
        "regressor = Sequential()\n",
        "regressor.add(LSTM(units = 50, return_sequences = True, input_shape = (X_train.shape[1], 1)))\n",
        "regressor.add(Dropout(0.2))\n",
        "regressor.add(LSTM(units = 50, return_sequences = True))\n",
        "regressor.add(Dropout(0.2))\n",
        "regressor.add(LSTM(units = 50, return_sequences = True))\n",
        "regressor.add(Dropout(0.2))\n",
        "regressor.add(LSTM(units = 50))\n",
        "regressor.add(Dropout(0.2))\n",
        "regressor.add(Dense(units = 1))"
      ],
      "execution_count": null,
      "outputs": []
    },
    {
      "cell_type": "markdown",
      "metadata": {
        "id": "L_LlaDFB2qDN"
      },
      "source": [
        "### Compiling and training the model defined in the above step.\n",
        "(Iteratively, we can increase or decrease the epochs and batch size to get more accuracy.)"
      ]
    },
    {
      "cell_type": "code",
      "metadata": {
        "id": "NEg-dl9jeOSR",
        "colab": {
          "base_uri": "https://localhost:8080/"
        },
        "outputId": "c109ce84-bfbe-4f54-8e22-aa6e8326b840"
      },
      "source": [
        "regressor.compile(optimizer = 'adam', loss = 'mean_squared_error')\n",
        "regressor.fit(X_train, Y_train, epochs = 15, batch_size = 32)"
      ],
      "execution_count": null,
      "outputs": [
        {
          "output_type": "stream",
          "text": [
            "Epoch 1/15\n",
            "110/110 [==============================] - 3s 25ms/step - loss: 0.0044\n",
            "Epoch 2/15\n",
            "110/110 [==============================] - 2s 20ms/step - loss: 6.5382e-04\n",
            "Epoch 3/15\n",
            "110/110 [==============================] - 2s 20ms/step - loss: 5.9109e-04\n",
            "Epoch 4/15\n",
            "110/110 [==============================] - 2s 19ms/step - loss: 4.7842e-04\n",
            "Epoch 5/15\n",
            "110/110 [==============================] - 2s 21ms/step - loss: 5.1958e-04\n",
            "Epoch 6/15\n",
            "110/110 [==============================] - 2s 22ms/step - loss: 5.9382e-04\n",
            "Epoch 7/15\n",
            "110/110 [==============================] - 2s 22ms/step - loss: 5.0959e-04\n",
            "Epoch 8/15\n",
            "110/110 [==============================] - 2s 21ms/step - loss: 4.2392e-04\n",
            "Epoch 9/15\n",
            "110/110 [==============================] - 2s 18ms/step - loss: 4.1295e-04\n",
            "Epoch 10/15\n",
            "110/110 [==============================] - 2s 19ms/step - loss: 4.8293e-04\n",
            "Epoch 11/15\n",
            "110/110 [==============================] - 2s 18ms/step - loss: 4.7255e-04\n",
            "Epoch 12/15\n",
            "110/110 [==============================] - 2s 19ms/step - loss: 4.2313e-04\n",
            "Epoch 13/15\n",
            "110/110 [==============================] - 2s 19ms/step - loss: 4.5183e-04\n",
            "Epoch 14/15\n",
            "110/110 [==============================] - 2s 19ms/step - loss: 3.7971e-04\n",
            "Epoch 15/15\n",
            "110/110 [==============================] - 2s 19ms/step - loss: 4.1101e-04\n"
          ],
          "name": "stdout"
        },
        {
          "output_type": "execute_result",
          "data": {
            "text/plain": [
              "<tensorflow.python.keras.callbacks.History at 0x7f3c632fd6a0>"
            ]
          },
          "metadata": {
            "tags": []
          },
          "execution_count": 724
        }
      ]
    },
    {
      "cell_type": "code",
      "metadata": {
        "id": "r2ZrIgaX03cC"
      },
      "source": [
        "X_test = np.array(X)\n",
        "X_test = np.reshape(X_test, (X_test.shape[0],X_test.shape[1], 1))\n",
        "predicted_stock_price = regressor.predict(X_test)"
      ],
      "execution_count": null,
      "outputs": []
    },
    {
      "cell_type": "code",
      "metadata": {
        "id": "LDrGcESafEp5"
      },
      "source": [
        "real_stock_price = np.asarray(Y)\n",
        "# real_stock_price=real_stock_price.reshape(1167,1)"
      ],
      "execution_count": null,
      "outputs": []
    },
    {
      "cell_type": "code",
      "metadata": {
        "id": "koD72IuliN0t",
        "colab": {
          "base_uri": "https://localhost:8080/"
        },
        "outputId": "47620411-8c65-4de9-9d10-aa3ee4ed3e66"
      },
      "source": [
        "predicted_stock_price"
      ],
      "execution_count": null,
      "outputs": [
        {
          "output_type": "execute_result",
          "data": {
            "text/plain": [
              "array([[0.00133786],\n",
              "       [0.00133786],\n",
              "       [0.00133786],\n",
              "       ...,\n",
              "       [0.6684393 ],\n",
              "       [0.68381995],\n",
              "       [0.71631044]], dtype=float32)"
            ]
          },
          "metadata": {
            "tags": []
          },
          "execution_count": 734
        }
      ]
    },
    {
      "cell_type": "code",
      "metadata": {
        "id": "bXqa74JLiSvC",
        "colab": {
          "base_uri": "https://localhost:8080/"
        },
        "outputId": "94b97c54-ae98-47ad-e2e2-bb6cf218493c"
      },
      "source": [
        "real_stock_price"
      ],
      "execution_count": null,
      "outputs": [
        {
          "output_type": "execute_result",
          "data": {
            "text/plain": [
              "array([-0.0692207 , -0.06783717, -0.06642937, ...,  0.68451119,\n",
              "        0.72849284,  0.77305703])"
            ]
          },
          "metadata": {
            "tags": []
          },
          "execution_count": 735
        }
      ]
    },
    {
      "cell_type": "markdown",
      "metadata": {
        "id": "oWXVsRgp2DcB"
      },
      "source": [
        "### Plotting the results"
      ]
    },
    {
      "cell_type": "code",
      "metadata": {
        "id": "bTm04GWiiU9O",
        "colab": {
          "base_uri": "https://localhost:8080/",
          "height": 621
        },
        "outputId": "328fa760-7856-45e1-e5a5-7a844a075a6b"
      },
      "source": [
        "plt.figure(figsize=(20,10))\n",
        "plt.plot(real_stock_price, color = 'green', label = 'Stock Price')\n",
        "plt.plot(predicted_stock_price, color = 'red', label = 'Predicted Stock Price')\n",
        "plt.title('Stock Price Prediction')\n",
        "plt.xlabel('Trading Day')\n",
        "plt.ylabel('Stock Price')\n",
        "plt.legend()\n",
        "plt.show()"
      ],
      "execution_count": null,
      "outputs": [
        {
          "output_type": "display_data",
          "data": {
            "image/png": "[encoded data removed]",
            "text/plain": [
              "<Figure size 1440x720 with 1 Axes>"
            ]
          },
          "metadata": {
            "tags": [],
            "needs_background": "light"
          }
        }
      ]
    },
    {
      "cell_type": "code",
      "metadata": {
        "id": "7hCjZ69viYqn",
        "colab": {
          "base_uri": "https://localhost:8080/"
        },
        "outputId": "a90f795e-0b8a-4e88-d5ca-75c1431d3ee0"
      },
      "source": [
        "from sklearn.metrics import mean_squared_error as MSE\n",
        "rmse = MSE(real_stock_price,predicted_stock_price)**(1/2)\n",
        "rmse"
      ],
      "execution_count": null,
      "outputs": [
        {
          "output_type": "execute_result",
          "data": {
            "text/plain": [
              "0.013017993529499682"
            ]
          },
          "metadata": {
            "tags": []
          },
          "execution_count": 738
        }
      ]
    }
  ]
}