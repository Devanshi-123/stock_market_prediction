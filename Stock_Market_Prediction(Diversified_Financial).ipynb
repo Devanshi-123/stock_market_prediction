{
  "nbformat": 4,
  "nbformat_minor": 0,
  "metadata": {
    "kernelspec": {
      "display_name": "Python 3",
      "language": "python",
      "name": "python3"
    },
    "language_info": {
      "codemirror_mode": {
        "name": "ipython",
        "version": 3
      },
      "file_extension": ".py",
      "mimetype": "text/x-python",
      "name": "python",
      "nbconvert_exporter": "python",
      "pygments_lexer": "ipython3",
      "version": "3.8.3"
    },
    "colab": {
      "name": "Stock_Market_Prediction(Diversified Financial).ipynb",
      "provenance": [],
      "collapsed_sections": [
        "vfZGT9zFbes9"
      ],
      "include_colab_link": true
    }
  },
  "cells": [
    {
      "cell_type": "markdown",
      "metadata": {
        "id": "view-in-github",
        "colab_type": "text"
      },
      "source": [
        "<a href=\"https://colab.research.google.com/github/Devanshi-123/stock_market_prediction/blob/main/Stock_Market_Prediction(Diversified_Financial).ipynb\" target=\"_parent\"><img src=\"https://colab.research.google.com/assets/colab-badge.svg\" alt=\"Open In Colab\"/></a>"
      ]
    },
    {
      "cell_type": "markdown",
      "metadata": {
        "id": "tieXgez1berr"
      },
      "source": [
        "#  **Stock Market Prediction Using Different Machine Learning And Deep Learning Algorithms**\n"
      ]
    },
    {
      "cell_type": "markdown",
      "metadata": {
        "id": "2501HdlZfGAG"
      },
      "source": [
        "## **Importing the necessary libraries**"
      ]
    },
    {
      "cell_type": "code",
      "metadata": {
        "id": "bExe6rckbers"
      },
      "source": [
        "import pandas as pd\n",
        "import numpy as np\n",
        "import matplotlib.pyplot as plt\n",
        "%matplotlib inline"
      ],
      "execution_count": 218,
      "outputs": []
    },
    {
      "cell_type": "code",
      "metadata": {
        "id": "YoioHTGgcPVu",
        "outputId": "cf108d75-4b74-43ca-e308-5540b9f64d61",
        "colab": {
          "base_uri": "https://localhost:8080/"
        }
      },
      "source": [
        "cd /content/drive/My Drive/Stock Market Prediction(Mini Project)"
      ],
      "execution_count": 219,
      "outputs": [
        {
          "output_type": "stream",
          "text": [
            "/content/drive/My Drive/Stock Market Prediction(Mini Project)\n"
          ],
          "name": "stdout"
        }
      ]
    },
    {
      "cell_type": "markdown",
      "metadata": {
        "id": "c1-boyHyfakV"
      },
      "source": [
        "## **Importing the dataset**"
      ]
    },
    {
      "cell_type": "code",
      "metadata": {
        "id": "1fMnpg-sbery",
        "outputId": "c6637329-82ef-4397-f552-fd8f2a5b2446",
        "colab": {
          "base_uri": "https://localhost:8080/"
        }
      },
      "source": [
        "##Metallic Dataset\n",
        "df=pd.read_csv(\"Stock_AYEG1.csv\")\n",
        "df.info()"
      ],
      "execution_count": 220,
      "outputs": [
        {
          "output_type": "stream",
          "text": [
            "<class 'pandas.core.frame.DataFrame'>\n",
            "RangeIndex: 2496 entries, 0 to 2495\n",
            "Data columns (total 13 columns):\n",
            " #   Column        Non-Null Count  Dtype  \n",
            "---  ------        --------------  -----  \n",
            " 0   Unnamed: 0    2496 non-null   int64  \n",
            " 1   <TICKER>      2496 non-null   object \n",
            " 2   <DTYYYYMMDD>  2496 non-null   int64  \n",
            " 3   <FIRST>       2496 non-null   float64\n",
            " 4   <HIGH>        2496 non-null   float64\n",
            " 5   <LOW>         2496 non-null   float64\n",
            " 6   <CLOSE>       2496 non-null   float64\n",
            " 7   <VALUE>       2496 non-null   int64  \n",
            " 8   <VOL>         2496 non-null   int64  \n",
            " 9   <OPENINT>     2496 non-null   int64  \n",
            " 10  <PER>         2496 non-null   object \n",
            " 11  <OPEN>        2496 non-null   float64\n",
            " 12  <LAST>        2496 non-null   float64\n",
            "dtypes: float64(6), int64(5), object(2)\n",
            "memory usage: 253.6+ KB\n"
          ],
          "name": "stdout"
        }
      ]
    },
    {
      "cell_type": "code",
      "metadata": {
        "id": "F00sCC1zqlJZ",
        "outputId": "435dd967-1297-4d8d-c9c5-4c6a10d5e7dd",
        "colab": {
          "base_uri": "https://localhost:8080/",
          "height": 241
        }
      },
      "source": [
        "df.head()"
      ],
      "execution_count": 221,
      "outputs": [
        {
          "output_type": "execute_result",
          "data": {
            "text/html": [
              "<div>\n",
              "<style scoped>\n",
              "    .dataframe tbody tr th:only-of-type {\n",
              "        vertical-align: middle;\n",
              "    }\n",
              "\n",
              "    .dataframe tbody tr th {\n",
              "        vertical-align: top;\n",
              "    }\n",
              "\n",
              "    .dataframe thead th {\n",
              "        text-align: right;\n",
              "    }\n",
              "</style>\n",
              "<table border=\"1\" class=\"dataframe\">\n",
              "  <thead>\n",
              "    <tr style=\"text-align: right;\">\n",
              "      <th></th>\n",
              "      <th>Unnamed: 0</th>\n",
              "      <th>&lt;TICKER&gt;</th>\n",
              "      <th>&lt;DTYYYYMMDD&gt;</th>\n",
              "      <th>&lt;FIRST&gt;</th>\n",
              "      <th>&lt;HIGH&gt;</th>\n",
              "      <th>&lt;LOW&gt;</th>\n",
              "      <th>&lt;CLOSE&gt;</th>\n",
              "      <th>&lt;VALUE&gt;</th>\n",
              "      <th>&lt;VOL&gt;</th>\n",
              "      <th>&lt;OPENINT&gt;</th>\n",
              "      <th>&lt;PER&gt;</th>\n",
              "      <th>&lt;OPEN&gt;</th>\n",
              "      <th>&lt;LAST&gt;</th>\n",
              "    </tr>\n",
              "  </thead>\n",
              "  <tbody>\n",
              "    <tr>\n",
              "      <th>0</th>\n",
              "      <td>0</td>\n",
              "      <td>Pardis.Invsetment</td>\n",
              "      <td>20011223</td>\n",
              "      <td>1000.0</td>\n",
              "      <td>1000.0</td>\n",
              "      <td>1000.0</td>\n",
              "      <td>1000.0</td>\n",
              "      <td>1000000</td>\n",
              "      <td>1000</td>\n",
              "      <td>1</td>\n",
              "      <td>D</td>\n",
              "      <td>0.0</td>\n",
              "      <td>1000.0</td>\n",
              "    </tr>\n",
              "    <tr>\n",
              "      <th>1</th>\n",
              "      <td>1</td>\n",
              "      <td>Pardis.Invsetment</td>\n",
              "      <td>20020129</td>\n",
              "      <td>1000.0</td>\n",
              "      <td>1000.0</td>\n",
              "      <td>1000.0</td>\n",
              "      <td>1000.0</td>\n",
              "      <td>10000</td>\n",
              "      <td>10</td>\n",
              "      <td>1</td>\n",
              "      <td>D</td>\n",
              "      <td>1000.0</td>\n",
              "      <td>1000.0</td>\n",
              "    </tr>\n",
              "    <tr>\n",
              "      <th>2</th>\n",
              "      <td>2</td>\n",
              "      <td>Pardis.Invsetment</td>\n",
              "      <td>20020902</td>\n",
              "      <td>1000.0</td>\n",
              "      <td>1000.0</td>\n",
              "      <td>1000.0</td>\n",
              "      <td>1000.0</td>\n",
              "      <td>1000000</td>\n",
              "      <td>1000</td>\n",
              "      <td>1</td>\n",
              "      <td>D</td>\n",
              "      <td>1000.0</td>\n",
              "      <td>1000.0</td>\n",
              "    </tr>\n",
              "    <tr>\n",
              "      <th>3</th>\n",
              "      <td>3</td>\n",
              "      <td>Pardis.Invsetment</td>\n",
              "      <td>20030224</td>\n",
              "      <td>1000.0</td>\n",
              "      <td>1000.0</td>\n",
              "      <td>1000.0</td>\n",
              "      <td>1000.0</td>\n",
              "      <td>2000000</td>\n",
              "      <td>2000</td>\n",
              "      <td>1</td>\n",
              "      <td>D</td>\n",
              "      <td>1000.0</td>\n",
              "      <td>1000.0</td>\n",
              "    </tr>\n",
              "    <tr>\n",
              "      <th>4</th>\n",
              "      <td>4</td>\n",
              "      <td>Pardis.Invsetment</td>\n",
              "      <td>20030318</td>\n",
              "      <td>1000.0</td>\n",
              "      <td>1000.0</td>\n",
              "      <td>1000.0</td>\n",
              "      <td>1000.0</td>\n",
              "      <td>50000</td>\n",
              "      <td>50</td>\n",
              "      <td>1</td>\n",
              "      <td>D</td>\n",
              "      <td>1000.0</td>\n",
              "      <td>1000.0</td>\n",
              "    </tr>\n",
              "  </tbody>\n",
              "</table>\n",
              "</div>"
            ],
            "text/plain": [
              "   Unnamed: 0           <TICKER>  <DTYYYYMMDD>  ...  <PER>  <OPEN>  <LAST>\n",
              "0           0  Pardis.Invsetment      20011223  ...      D     0.0  1000.0\n",
              "1           1  Pardis.Invsetment      20020129  ...      D  1000.0  1000.0\n",
              "2           2  Pardis.Invsetment      20020902  ...      D  1000.0  1000.0\n",
              "3           3  Pardis.Invsetment      20030224  ...      D  1000.0  1000.0\n",
              "4           4  Pardis.Invsetment      20030318  ...      D  1000.0  1000.0\n",
              "\n",
              "[5 rows x 13 columns]"
            ]
          },
          "metadata": {
            "tags": []
          },
          "execution_count": 221
        }
      ]
    },
    {
      "cell_type": "markdown",
      "metadata": {
        "id": "9gsprJSuhGF4"
      },
      "source": [
        "## **Exploratory Data Analysis**"
      ]
    },
    {
      "cell_type": "code",
      "metadata": {
        "id": "3KYyTRW7gcjz",
        "outputId": "89c6a1dd-7b47-47aa-ef99-294b0a2efd83",
        "colab": {
          "base_uri": "https://localhost:8080/",
          "height": 317
        }
      },
      "source": [
        "df.describe()"
      ],
      "execution_count": 222,
      "outputs": [
        {
          "output_type": "execute_result",
          "data": {
            "text/html": [
              "<div>\n",
              "<style scoped>\n",
              "    .dataframe tbody tr th:only-of-type {\n",
              "        vertical-align: middle;\n",
              "    }\n",
              "\n",
              "    .dataframe tbody tr th {\n",
              "        vertical-align: top;\n",
              "    }\n",
              "\n",
              "    .dataframe thead th {\n",
              "        text-align: right;\n",
              "    }\n",
              "</style>\n",
              "<table border=\"1\" class=\"dataframe\">\n",
              "  <thead>\n",
              "    <tr style=\"text-align: right;\">\n",
              "      <th></th>\n",
              "      <th>Unnamed: 0</th>\n",
              "      <th>&lt;DTYYYYMMDD&gt;</th>\n",
              "      <th>&lt;FIRST&gt;</th>\n",
              "      <th>&lt;HIGH&gt;</th>\n",
              "      <th>&lt;LOW&gt;</th>\n",
              "      <th>&lt;CLOSE&gt;</th>\n",
              "      <th>&lt;VALUE&gt;</th>\n",
              "      <th>&lt;VOL&gt;</th>\n",
              "      <th>&lt;OPENINT&gt;</th>\n",
              "      <th>&lt;OPEN&gt;</th>\n",
              "      <th>&lt;LAST&gt;</th>\n",
              "    </tr>\n",
              "  </thead>\n",
              "  <tbody>\n",
              "    <tr>\n",
              "      <th>count</th>\n",
              "      <td>2496.000000</td>\n",
              "      <td>2.496000e+03</td>\n",
              "      <td>2496.000000</td>\n",
              "      <td>2496.000000</td>\n",
              "      <td>2496.000000</td>\n",
              "      <td>2496.000000</td>\n",
              "      <td>2.496000e+03</td>\n",
              "      <td>2.496000e+03</td>\n",
              "      <td>2496.000000</td>\n",
              "      <td>2496.000000</td>\n",
              "      <td>2496.000000</td>\n",
              "    </tr>\n",
              "    <tr>\n",
              "      <th>mean</th>\n",
              "      <td>1247.500000</td>\n",
              "      <td>2.014363e+07</td>\n",
              "      <td>1422.473958</td>\n",
              "      <td>1440.773237</td>\n",
              "      <td>1396.182692</td>\n",
              "      <td>1417.616587</td>\n",
              "      <td>6.920851e+09</td>\n",
              "      <td>2.606767e+06</td>\n",
              "      <td>245.403846</td>\n",
              "      <td>1412.841747</td>\n",
              "      <td>1417.481571</td>\n",
              "    </tr>\n",
              "    <tr>\n",
              "      <th>std</th>\n",
              "      <td>720.677459</td>\n",
              "      <td>3.497205e+04</td>\n",
              "      <td>893.650137</td>\n",
              "      <td>905.768022</td>\n",
              "      <td>868.202003</td>\n",
              "      <td>883.886601</td>\n",
              "      <td>2.500800e+10</td>\n",
              "      <td>7.601022e+06</td>\n",
              "      <td>591.602922</td>\n",
              "      <td>874.045896</td>\n",
              "      <td>887.555199</td>\n",
              "    </tr>\n",
              "    <tr>\n",
              "      <th>min</th>\n",
              "      <td>0.000000</td>\n",
              "      <td>2.001122e+07</td>\n",
              "      <td>708.000000</td>\n",
              "      <td>748.000000</td>\n",
              "      <td>702.000000</td>\n",
              "      <td>732.000000</td>\n",
              "      <td>1.042000e+03</td>\n",
              "      <td>1.000000e+00</td>\n",
              "      <td>1.000000</td>\n",
              "      <td>0.000000</td>\n",
              "      <td>721.000000</td>\n",
              "    </tr>\n",
              "    <tr>\n",
              "      <th>25%</th>\n",
              "      <td>623.750000</td>\n",
              "      <td>2.012041e+07</td>\n",
              "      <td>1030.000000</td>\n",
              "      <td>1038.750000</td>\n",
              "      <td>1020.000000</td>\n",
              "      <td>1033.000000</td>\n",
              "      <td>7.551238e+07</td>\n",
              "      <td>7.259300e+04</td>\n",
              "      <td>14.000000</td>\n",
              "      <td>1032.000000</td>\n",
              "      <td>1031.000000</td>\n",
              "    </tr>\n",
              "    <tr>\n",
              "      <th>50%</th>\n",
              "      <td>1247.500000</td>\n",
              "      <td>2.014567e+07</td>\n",
              "      <td>1141.000000</td>\n",
              "      <td>1153.000000</td>\n",
              "      <td>1122.000000</td>\n",
              "      <td>1139.500000</td>\n",
              "      <td>3.585771e+08</td>\n",
              "      <td>3.225290e+05</td>\n",
              "      <td>45.000000</td>\n",
              "      <td>1138.000000</td>\n",
              "      <td>1139.000000</td>\n",
              "    </tr>\n",
              "    <tr>\n",
              "      <th>75%</th>\n",
              "      <td>1871.250000</td>\n",
              "      <td>2.017083e+07</td>\n",
              "      <td>1490.000000</td>\n",
              "      <td>1504.500000</td>\n",
              "      <td>1468.000000</td>\n",
              "      <td>1487.250000</td>\n",
              "      <td>1.929998e+09</td>\n",
              "      <td>1.389884e+06</td>\n",
              "      <td>156.000000</td>\n",
              "      <td>1486.000000</td>\n",
              "      <td>1488.500000</td>\n",
              "    </tr>\n",
              "    <tr>\n",
              "      <th>max</th>\n",
              "      <td>2495.000000</td>\n",
              "      <td>2.020060e+07</td>\n",
              "      <td>9255.000000</td>\n",
              "      <td>9255.000000</td>\n",
              "      <td>9255.000000</td>\n",
              "      <td>8978.000000</td>\n",
              "      <td>3.938869e+11</td>\n",
              "      <td>1.953190e+08</td>\n",
              "      <td>9629.000000</td>\n",
              "      <td>8978.000000</td>\n",
              "      <td>9255.000000</td>\n",
              "    </tr>\n",
              "  </tbody>\n",
              "</table>\n",
              "</div>"
            ],
            "text/plain": [
              "        Unnamed: 0  <DTYYYYMMDD>  ...       <OPEN>       <LAST>\n",
              "count  2496.000000  2.496000e+03  ...  2496.000000  2496.000000\n",
              "mean   1247.500000  2.014363e+07  ...  1412.841747  1417.481571\n",
              "std     720.677459  3.497205e+04  ...   874.045896   887.555199\n",
              "min       0.000000  2.001122e+07  ...     0.000000   721.000000\n",
              "25%     623.750000  2.012041e+07  ...  1032.000000  1031.000000\n",
              "50%    1247.500000  2.014567e+07  ...  1138.000000  1139.000000\n",
              "75%    1871.250000  2.017083e+07  ...  1486.000000  1488.500000\n",
              "max    2495.000000  2.020060e+07  ...  8978.000000  9255.000000\n",
              "\n",
              "[8 rows x 11 columns]"
            ]
          },
          "metadata": {
            "tags": []
          },
          "execution_count": 222
        }
      ]
    },
    {
      "cell_type": "code",
      "metadata": {
        "id": "mkJ2qxhUTjGJ",
        "outputId": "0f65c79e-a490-4d9b-8bb7-8effa3d6523a",
        "colab": {
          "base_uri": "https://localhost:8080/",
          "height": 555
        }
      },
      "source": [
        "import seaborn as sns\n",
        "plt.figure(1 , figsize = (17 , 8))\n",
        "cor = sns.heatmap(df.corr(), annot = True)"
      ],
      "execution_count": 223,
      "outputs": [
        {
          "output_type": "display_data",
          "data": {
            "image/png": "[encoded data removed]",
            "text/plain": [
              "<Figure size 1224x576 with 2 Axes>"
            ]
          },
          "metadata": {
            "tags": [],
            "needs_background": "light"
          }
        }
      ]
    },
    {
      "cell_type": "code",
      "metadata": {
        "id": "VWy495nCOFQ_",
        "outputId": "be70a7b0-7f10-43e9-e867-ea7a868c62d2",
        "colab": {
          "base_uri": "https://localhost:8080/",
          "height": 235
        }
      },
      "source": [
        "df['datetime'] = pd.to_datetime(df['<DTYYYYMMDD>'], format='%Y%m%d')\n",
        "df.index = df['datetime']\n",
        "df.dropna()\n",
        "df_new = df[[\"<FIRST>\",\"<HIGH>\",\"<LOW>\",\"<CLOSE>\",\"<VALUE>\",\"<VOL>\"]]\n",
        "df_new.head()"
      ],
      "execution_count": 224,
      "outputs": [
        {
          "output_type": "execute_result",
          "data": {
            "text/html": [
              "<div>\n",
              "<style scoped>\n",
              "    .dataframe tbody tr th:only-of-type {\n",
              "        vertical-align: middle;\n",
              "    }\n",
              "\n",
              "    .dataframe tbody tr th {\n",
              "        vertical-align: top;\n",
              "    }\n",
              "\n",
              "    .dataframe thead th {\n",
              "        text-align: right;\n",
              "    }\n",
              "</style>\n",
              "<table border=\"1\" class=\"dataframe\">\n",
              "  <thead>\n",
              "    <tr style=\"text-align: right;\">\n",
              "      <th></th>\n",
              "      <th>&lt;FIRST&gt;</th>\n",
              "      <th>&lt;HIGH&gt;</th>\n",
              "      <th>&lt;LOW&gt;</th>\n",
              "      <th>&lt;CLOSE&gt;</th>\n",
              "      <th>&lt;VALUE&gt;</th>\n",
              "      <th>&lt;VOL&gt;</th>\n",
              "    </tr>\n",
              "    <tr>\n",
              "      <th>datetime</th>\n",
              "      <th></th>\n",
              "      <th></th>\n",
              "      <th></th>\n",
              "      <th></th>\n",
              "      <th></th>\n",
              "      <th></th>\n",
              "    </tr>\n",
              "  </thead>\n",
              "  <tbody>\n",
              "    <tr>\n",
              "      <th>2001-12-23</th>\n",
              "      <td>1000.0</td>\n",
              "      <td>1000.0</td>\n",
              "      <td>1000.0</td>\n",
              "      <td>1000.0</td>\n",
              "      <td>1000000</td>\n",
              "      <td>1000</td>\n",
              "    </tr>\n",
              "    <tr>\n",
              "      <th>2002-01-29</th>\n",
              "      <td>1000.0</td>\n",
              "      <td>1000.0</td>\n",
              "      <td>1000.0</td>\n",
              "      <td>1000.0</td>\n",
              "      <td>10000</td>\n",
              "      <td>10</td>\n",
              "    </tr>\n",
              "    <tr>\n",
              "      <th>2002-09-02</th>\n",
              "      <td>1000.0</td>\n",
              "      <td>1000.0</td>\n",
              "      <td>1000.0</td>\n",
              "      <td>1000.0</td>\n",
              "      <td>1000000</td>\n",
              "      <td>1000</td>\n",
              "    </tr>\n",
              "    <tr>\n",
              "      <th>2003-02-24</th>\n",
              "      <td>1000.0</td>\n",
              "      <td>1000.0</td>\n",
              "      <td>1000.0</td>\n",
              "      <td>1000.0</td>\n",
              "      <td>2000000</td>\n",
              "      <td>2000</td>\n",
              "    </tr>\n",
              "    <tr>\n",
              "      <th>2003-03-18</th>\n",
              "      <td>1000.0</td>\n",
              "      <td>1000.0</td>\n",
              "      <td>1000.0</td>\n",
              "      <td>1000.0</td>\n",
              "      <td>50000</td>\n",
              "      <td>50</td>\n",
              "    </tr>\n",
              "  </tbody>\n",
              "</table>\n",
              "</div>"
            ],
            "text/plain": [
              "            <FIRST>  <HIGH>   <LOW>  <CLOSE>  <VALUE>  <VOL>\n",
              "datetime                                                    \n",
              "2001-12-23   1000.0  1000.0  1000.0   1000.0  1000000   1000\n",
              "2002-01-29   1000.0  1000.0  1000.0   1000.0    10000     10\n",
              "2002-09-02   1000.0  1000.0  1000.0   1000.0  1000000   1000\n",
              "2003-02-24   1000.0  1000.0  1000.0   1000.0  2000000   2000\n",
              "2003-03-18   1000.0  1000.0  1000.0   1000.0    50000     50"
            ]
          },
          "metadata": {
            "tags": []
          },
          "execution_count": 224
        }
      ]
    },
    {
      "cell_type": "code",
      "metadata": {
        "id": "hLz42nBYber_",
        "outputId": "d074e3d5-66b6-444b-9031-4b946af5a074",
        "colab": {
          "base_uri": "https://localhost:8080/"
        }
      },
      "source": [
        "df_new.shape"
      ],
      "execution_count": 225,
      "outputs": [
        {
          "output_type": "execute_result",
          "data": {
            "text/plain": [
              "(2496, 6)"
            ]
          },
          "metadata": {
            "tags": []
          },
          "execution_count": 225
        }
      ]
    },
    {
      "cell_type": "code",
      "metadata": {
        "id": "kvkvBjzCbesH",
        "outputId": "f7abd947-3635-4718-a52d-1a74f31d6f7a",
        "colab": {
          "base_uri": "https://localhost:8080/"
        }
      },
      "source": [
        "#Calculating the change in price\n",
        "df_new['change_in_price'] = df_new['<CLOSE>'].diff()"
      ],
      "execution_count": 226,
      "outputs": [
        {
          "output_type": "stream",
          "text": [
            "/usr/local/lib/python3.6/dist-packages/ipykernel_launcher.py:2: SettingWithCopyWarning: \n",
            "A value is trying to be set on a copy of a slice from a DataFrame.\n",
            "Try using .loc[row_indexer,col_indexer] = value instead\n",
            "\n",
            "See the caveats in the documentation: https://pandas.pydata.org/pandas-docs/stable/user_guide/indexing.html#returning-a-view-versus-a-copy\n",
            "  \n"
          ],
          "name": "stderr"
        }
      ]
    },
    {
      "cell_type": "markdown",
      "metadata": {
        "id": "6Q4sHYAVhXdc"
      },
      "source": [
        "## **Data Visualisation**"
      ]
    },
    {
      "cell_type": "code",
      "metadata": {
        "id": "xvmCMSnkZO6R",
        "outputId": "fe86f17d-473e-4dad-b463-75709138bece",
        "colab": {
          "base_uri": "https://localhost:8080/",
          "height": 498
        }
      },
      "source": [
        "plt.figure(figsize=(16,8))\n",
        "plt.plot(df_new['change_in_price'], label='Change In Price')"
      ],
      "execution_count": 227,
      "outputs": [
        {
          "output_type": "execute_result",
          "data": {
            "text/plain": [
              "[<matplotlib.lines.Line2D at 0x7f972aa59f98>]"
            ]
          },
          "metadata": {
            "tags": []
          },
          "execution_count": 227
        },
        {
          "output_type": "display_data",
          "data": {
            "image/png": "[encoded data removed]",
            "text/plain": [
              "<Figure size 1152x576 with 1 Axes>"
            ]
          },
          "metadata": {
            "tags": [],
            "needs_background": "light"
          }
        }
      ]
    },
    {
      "cell_type": "code",
      "metadata": {
        "id": "AiDa4AToWnzp",
        "outputId": "aa9283e0-41db-49c4-80cf-c9d3c4bf6811",
        "colab": {
          "base_uri": "https://localhost:8080/",
          "height": 500
        }
      },
      "source": [
        "plt.figure(figsize=(16,8))\n",
        "plt.plot(df_new['<CLOSE>'], label='Close Price history')"
      ],
      "execution_count": 228,
      "outputs": [
        {
          "output_type": "execute_result",
          "data": {
            "text/plain": [
              "[<matplotlib.lines.Line2D at 0x7f972aa46c88>]"
            ]
          },
          "metadata": {
            "tags": []
          },
          "execution_count": 228
        },
        {
          "output_type": "display_data",
          "data": {
            "image/png": "[encoded data removed]",
            "text/plain": [
              "<Figure size 1152x576 with 1 Axes>"
            ]
          },
          "metadata": {
            "tags": [],
            "needs_background": "light"
          }
        }
      ]
    },
    {
      "cell_type": "markdown",
      "metadata": {
        "id": "1vZkESASbesL"
      },
      "source": [
        "## **Calculating the technical indicators**"
      ]
    },
    {
      "cell_type": "code",
      "metadata": {
        "id": "iqjLW__ObesM",
        "outputId": "5f839dd2-8dbe-4220-c59e-4b1893ad6e59",
        "colab": {
          "base_uri": "https://localhost:8080/",
          "height": 235
        }
      },
      "source": [
        "#1. Simple n day moving average\n",
        "#A moving average (MA) is a widely used technical indicator that smooths out price trends by filtering out the “noise” from random short-term price fluctuations.\n",
        "##The most common applications of moving averages are to identify trend direction and to determine support and resistance levels.\n",
        "def moving_average(df, n):\n",
        "    \"\"\"Calculate the moving average for the given data.\n",
        "    :param df: pandas.DataFrame\n",
        "    :param n:\n",
        "    :return: pandas.DataFrame\n",
        "    \"\"\"\n",
        "    MA = pd.Series(df['<CLOSE>'].rolling(n, min_periods=n).mean(), name='MA_' + str(n))\n",
        "    df = df.join(MA)\n",
        "    return df\n",
        "df_new = moving_average(df_new,10)\n",
        "df_new.tail()"
      ],
      "execution_count": 229,
      "outputs": [
        {
          "output_type": "execute_result",
          "data": {
            "text/html": [
              "<div>\n",
              "<style scoped>\n",
              "    .dataframe tbody tr th:only-of-type {\n",
              "        vertical-align: middle;\n",
              "    }\n",
              "\n",
              "    .dataframe tbody tr th {\n",
              "        vertical-align: top;\n",
              "    }\n",
              "\n",
              "    .dataframe thead th {\n",
              "        text-align: right;\n",
              "    }\n",
              "</style>\n",
              "<table border=\"1\" class=\"dataframe\">\n",
              "  <thead>\n",
              "    <tr style=\"text-align: right;\">\n",
              "      <th></th>\n",
              "      <th>&lt;FIRST&gt;</th>\n",
              "      <th>&lt;HIGH&gt;</th>\n",
              "      <th>&lt;LOW&gt;</th>\n",
              "      <th>&lt;CLOSE&gt;</th>\n",
              "      <th>&lt;VALUE&gt;</th>\n",
              "      <th>&lt;VOL&gt;</th>\n",
              "      <th>change_in_price</th>\n",
              "      <th>MA_10</th>\n",
              "    </tr>\n",
              "    <tr>\n",
              "      <th>datetime</th>\n",
              "      <th></th>\n",
              "      <th></th>\n",
              "      <th></th>\n",
              "      <th></th>\n",
              "      <th></th>\n",
              "      <th></th>\n",
              "      <th></th>\n",
              "      <th></th>\n",
              "    </tr>\n",
              "  </thead>\n",
              "  <tbody>\n",
              "    <tr>\n",
              "      <th>2020-05-26</th>\n",
              "      <td>8190.0</td>\n",
              "      <td>8516.0</td>\n",
              "      <td>8190.0</td>\n",
              "      <td>8587.0</td>\n",
              "      <td>10371275460</td>\n",
              "      <td>1266334</td>\n",
              "      <td>-34.0</td>\n",
              "      <td>8518.1</td>\n",
              "    </tr>\n",
              "    <tr>\n",
              "      <th>2020-05-27</th>\n",
              "      <td>8097.0</td>\n",
              "      <td>8300.0</td>\n",
              "      <td>8097.0</td>\n",
              "      <td>8108.0</td>\n",
              "      <td>188257315089</td>\n",
              "      <td>23218666</td>\n",
              "      <td>-479.0</td>\n",
              "      <td>8477.8</td>\n",
              "    </tr>\n",
              "    <tr>\n",
              "      <th>2020-05-30</th>\n",
              "      <td>8334.0</td>\n",
              "      <td>8340.0</td>\n",
              "      <td>7703.0</td>\n",
              "      <td>7936.0</td>\n",
              "      <td>235877669098</td>\n",
              "      <td>29722192</td>\n",
              "      <td>-172.0</td>\n",
              "      <td>8389.9</td>\n",
              "    </tr>\n",
              "    <tr>\n",
              "      <th>2020-05-31</th>\n",
              "      <td>8000.0</td>\n",
              "      <td>8079.0</td>\n",
              "      <td>7540.0</td>\n",
              "      <td>7605.0</td>\n",
              "      <td>185150285046</td>\n",
              "      <td>24346946</td>\n",
              "      <td>-331.0</td>\n",
              "      <td>8252.6</td>\n",
              "    </tr>\n",
              "    <tr>\n",
              "      <th>2020-06-01</th>\n",
              "      <td>7800.0</td>\n",
              "      <td>7985.0</td>\n",
              "      <td>7619.0</td>\n",
              "      <td>7845.0</td>\n",
              "      <td>88286063628</td>\n",
              "      <td>11254209</td>\n",
              "      <td>240.0</td>\n",
              "      <td>8220.8</td>\n",
              "    </tr>\n",
              "  </tbody>\n",
              "</table>\n",
              "</div>"
            ],
            "text/plain": [
              "            <FIRST>  <HIGH>   <LOW>  ...     <VOL>  change_in_price   MA_10\n",
              "datetime                             ...                                   \n",
              "2020-05-26   8190.0  8516.0  8190.0  ...   1266334            -34.0  8518.1\n",
              "2020-05-27   8097.0  8300.0  8097.0  ...  23218666           -479.0  8477.8\n",
              "2020-05-30   8334.0  8340.0  7703.0  ...  29722192           -172.0  8389.9\n",
              "2020-05-31   8000.0  8079.0  7540.0  ...  24346946           -331.0  8252.6\n",
              "2020-06-01   7800.0  7985.0  7619.0  ...  11254209            240.0  8220.8\n",
              "\n",
              "[5 rows x 8 columns]"
            ]
          },
          "metadata": {
            "tags": []
          },
          "execution_count": 229
        }
      ]
    },
    {
      "cell_type": "code",
      "metadata": {
        "id": "080HB4bObesP",
        "outputId": "6b537373-64ac-4b0f-851d-c306c13cc618",
        "colab": {
          "base_uri": "https://localhost:8080/",
          "height": 235
        }
      },
      "source": [
        "#2. Weighted Moving Average (WMA)\n",
        "def weighted_moving_average(df, n):\n",
        "    \"\"\"\n",
        "    :param df: pandas.DataFrame\n",
        "    :param n:\n",
        "    :return: pandas.DataFrame\n",
        "    \"\"\"\n",
        "    WMA = pd.Series(df['<CLOSE>'].ewm(span=n, min_periods=n).mean(), name='WMA_' + str(n))\n",
        "    df = df.join(WMA)\n",
        "    return df\n",
        "df_new = weighted_moving_average(df_new,10)\n",
        "df_new.tail()"
      ],
      "execution_count": 230,
      "outputs": [
        {
          "output_type": "execute_result",
          "data": {
            "text/html": [
              "<div>\n",
              "<style scoped>\n",
              "    .dataframe tbody tr th:only-of-type {\n",
              "        vertical-align: middle;\n",
              "    }\n",
              "\n",
              "    .dataframe tbody tr th {\n",
              "        vertical-align: top;\n",
              "    }\n",
              "\n",
              "    .dataframe thead th {\n",
              "        text-align: right;\n",
              "    }\n",
              "</style>\n",
              "<table border=\"1\" class=\"dataframe\">\n",
              "  <thead>\n",
              "    <tr style=\"text-align: right;\">\n",
              "      <th></th>\n",
              "      <th>&lt;FIRST&gt;</th>\n",
              "      <th>&lt;HIGH&gt;</th>\n",
              "      <th>&lt;LOW&gt;</th>\n",
              "      <th>&lt;CLOSE&gt;</th>\n",
              "      <th>&lt;VALUE&gt;</th>\n",
              "      <th>&lt;VOL&gt;</th>\n",
              "      <th>change_in_price</th>\n",
              "      <th>MA_10</th>\n",
              "      <th>WMA_10</th>\n",
              "    </tr>\n",
              "    <tr>\n",
              "      <th>datetime</th>\n",
              "      <th></th>\n",
              "      <th></th>\n",
              "      <th></th>\n",
              "      <th></th>\n",
              "      <th></th>\n",
              "      <th></th>\n",
              "      <th></th>\n",
              "      <th></th>\n",
              "      <th></th>\n",
              "    </tr>\n",
              "  </thead>\n",
              "  <tbody>\n",
              "    <tr>\n",
              "      <th>2020-05-26</th>\n",
              "      <td>8190.0</td>\n",
              "      <td>8516.0</td>\n",
              "      <td>8190.0</td>\n",
              "      <td>8587.0</td>\n",
              "      <td>10371275460</td>\n",
              "      <td>1266334</td>\n",
              "      <td>-34.0</td>\n",
              "      <td>8518.1</td>\n",
              "      <td>8333.958415</td>\n",
              "    </tr>\n",
              "    <tr>\n",
              "      <th>2020-05-27</th>\n",
              "      <td>8097.0</td>\n",
              "      <td>8300.0</td>\n",
              "      <td>8097.0</td>\n",
              "      <td>8108.0</td>\n",
              "      <td>188257315089</td>\n",
              "      <td>23218666</td>\n",
              "      <td>-479.0</td>\n",
              "      <td>8477.8</td>\n",
              "      <td>8292.875067</td>\n",
              "    </tr>\n",
              "    <tr>\n",
              "      <th>2020-05-30</th>\n",
              "      <td>8334.0</td>\n",
              "      <td>8340.0</td>\n",
              "      <td>7703.0</td>\n",
              "      <td>7936.0</td>\n",
              "      <td>235877669098</td>\n",
              "      <td>29722192</td>\n",
              "      <td>-172.0</td>\n",
              "      <td>8389.9</td>\n",
              "      <td>8227.988691</td>\n",
              "    </tr>\n",
              "    <tr>\n",
              "      <th>2020-05-31</th>\n",
              "      <td>8000.0</td>\n",
              "      <td>8079.0</td>\n",
              "      <td>7540.0</td>\n",
              "      <td>7605.0</td>\n",
              "      <td>185150285046</td>\n",
              "      <td>24346946</td>\n",
              "      <td>-331.0</td>\n",
              "      <td>8252.6</td>\n",
              "      <td>8114.718020</td>\n",
              "    </tr>\n",
              "    <tr>\n",
              "      <th>2020-06-01</th>\n",
              "      <td>7800.0</td>\n",
              "      <td>7985.0</td>\n",
              "      <td>7619.0</td>\n",
              "      <td>7845.0</td>\n",
              "      <td>88286063628</td>\n",
              "      <td>11254209</td>\n",
              "      <td>240.0</td>\n",
              "      <td>8220.8</td>\n",
              "      <td>8065.678380</td>\n",
              "    </tr>\n",
              "  </tbody>\n",
              "</table>\n",
              "</div>"
            ],
            "text/plain": [
              "            <FIRST>  <HIGH>   <LOW>  ...  change_in_price   MA_10       WMA_10\n",
              "datetime                             ...                                      \n",
              "2020-05-26   8190.0  8516.0  8190.0  ...            -34.0  8518.1  8333.958415\n",
              "2020-05-27   8097.0  8300.0  8097.0  ...           -479.0  8477.8  8292.875067\n",
              "2020-05-30   8334.0  8340.0  7703.0  ...           -172.0  8389.9  8227.988691\n",
              "2020-05-31   8000.0  8079.0  7540.0  ...           -331.0  8252.6  8114.718020\n",
              "2020-06-01   7800.0  7985.0  7619.0  ...            240.0  8220.8  8065.678380\n",
              "\n",
              "[5 rows x 9 columns]"
            ]
          },
          "metadata": {
            "tags": []
          },
          "execution_count": 230
        }
      ]
    },
    {
      "cell_type": "code",
      "metadata": {
        "id": "lTZOxNVrbesS",
        "outputId": "7638e0a9-b161-4cf7-be34-5ffc3dce616c",
        "colab": {
          "base_uri": "https://localhost:8080/",
          "height": 235
        }
      },
      "source": [
        "#3. Momentum\n",
        "def momentum(df, n):\n",
        "    \"\"\"\n",
        "    :param df: pandas.DataFrame\n",
        "    :param n:\n",
        "    :return: pandas.DataFrame\n",
        "    \"\"\"\n",
        "    M = pd.Series(df['<CLOSE>'].diff(n), name='MOM_' + str(n))\n",
        "    df = df.join(M)\n",
        "    return df\n",
        "df_new = momentum(df_new,10)\n",
        "df_new.tail()"
      ],
      "execution_count": 231,
      "outputs": [
        {
          "output_type": "execute_result",
          "data": {
            "text/html": [
              "<div>\n",
              "<style scoped>\n",
              "    .dataframe tbody tr th:only-of-type {\n",
              "        vertical-align: middle;\n",
              "    }\n",
              "\n",
              "    .dataframe tbody tr th {\n",
              "        vertical-align: top;\n",
              "    }\n",
              "\n",
              "    .dataframe thead th {\n",
              "        text-align: right;\n",
              "    }\n",
              "</style>\n",
              "<table border=\"1\" class=\"dataframe\">\n",
              "  <thead>\n",
              "    <tr style=\"text-align: right;\">\n",
              "      <th></th>\n",
              "      <th>&lt;FIRST&gt;</th>\n",
              "      <th>&lt;HIGH&gt;</th>\n",
              "      <th>&lt;LOW&gt;</th>\n",
              "      <th>&lt;CLOSE&gt;</th>\n",
              "      <th>&lt;VALUE&gt;</th>\n",
              "      <th>&lt;VOL&gt;</th>\n",
              "      <th>change_in_price</th>\n",
              "      <th>MA_10</th>\n",
              "      <th>WMA_10</th>\n",
              "      <th>MOM_10</th>\n",
              "    </tr>\n",
              "    <tr>\n",
              "      <th>datetime</th>\n",
              "      <th></th>\n",
              "      <th></th>\n",
              "      <th></th>\n",
              "      <th></th>\n",
              "      <th></th>\n",
              "      <th></th>\n",
              "      <th></th>\n",
              "      <th></th>\n",
              "      <th></th>\n",
              "      <th></th>\n",
              "    </tr>\n",
              "  </thead>\n",
              "  <tbody>\n",
              "    <tr>\n",
              "      <th>2020-05-26</th>\n",
              "      <td>8190.0</td>\n",
              "      <td>8516.0</td>\n",
              "      <td>8190.0</td>\n",
              "      <td>8587.0</td>\n",
              "      <td>10371275460</td>\n",
              "      <td>1266334</td>\n",
              "      <td>-34.0</td>\n",
              "      <td>8518.1</td>\n",
              "      <td>8333.958415</td>\n",
              "      <td>464.0</td>\n",
              "    </tr>\n",
              "    <tr>\n",
              "      <th>2020-05-27</th>\n",
              "      <td>8097.0</td>\n",
              "      <td>8300.0</td>\n",
              "      <td>8097.0</td>\n",
              "      <td>8108.0</td>\n",
              "      <td>188257315089</td>\n",
              "      <td>23218666</td>\n",
              "      <td>-479.0</td>\n",
              "      <td>8477.8</td>\n",
              "      <td>8292.875067</td>\n",
              "      <td>-403.0</td>\n",
              "    </tr>\n",
              "    <tr>\n",
              "      <th>2020-05-30</th>\n",
              "      <td>8334.0</td>\n",
              "      <td>8340.0</td>\n",
              "      <td>7703.0</td>\n",
              "      <td>7936.0</td>\n",
              "      <td>235877669098</td>\n",
              "      <td>29722192</td>\n",
              "      <td>-172.0</td>\n",
              "      <td>8389.9</td>\n",
              "      <td>8227.988691</td>\n",
              "      <td>-879.0</td>\n",
              "    </tr>\n",
              "    <tr>\n",
              "      <th>2020-05-31</th>\n",
              "      <td>8000.0</td>\n",
              "      <td>8079.0</td>\n",
              "      <td>7540.0</td>\n",
              "      <td>7605.0</td>\n",
              "      <td>185150285046</td>\n",
              "      <td>24346946</td>\n",
              "      <td>-331.0</td>\n",
              "      <td>8252.6</td>\n",
              "      <td>8114.718020</td>\n",
              "      <td>-1373.0</td>\n",
              "    </tr>\n",
              "    <tr>\n",
              "      <th>2020-06-01</th>\n",
              "      <td>7800.0</td>\n",
              "      <td>7985.0</td>\n",
              "      <td>7619.0</td>\n",
              "      <td>7845.0</td>\n",
              "      <td>88286063628</td>\n",
              "      <td>11254209</td>\n",
              "      <td>240.0</td>\n",
              "      <td>8220.8</td>\n",
              "      <td>8065.678380</td>\n",
              "      <td>-318.0</td>\n",
              "    </tr>\n",
              "  </tbody>\n",
              "</table>\n",
              "</div>"
            ],
            "text/plain": [
              "            <FIRST>  <HIGH>   <LOW>  ...   MA_10       WMA_10  MOM_10\n",
              "datetime                             ...                             \n",
              "2020-05-26   8190.0  8516.0  8190.0  ...  8518.1  8333.958415   464.0\n",
              "2020-05-27   8097.0  8300.0  8097.0  ...  8477.8  8292.875067  -403.0\n",
              "2020-05-30   8334.0  8340.0  7703.0  ...  8389.9  8227.988691  -879.0\n",
              "2020-05-31   8000.0  8079.0  7540.0  ...  8252.6  8114.718020 -1373.0\n",
              "2020-06-01   7800.0  7985.0  7619.0  ...  8220.8  8065.678380  -318.0\n",
              "\n",
              "[5 rows x 10 columns]"
            ]
          },
          "metadata": {
            "tags": []
          },
          "execution_count": 231
        }
      ]
    },
    {
      "cell_type": "code",
      "metadata": {
        "id": "9WasGdiqbesV",
        "outputId": "4cfd7e25-8fb8-4d73-f271-28458f7abb0d",
        "colab": {
          "base_uri": "https://localhost:8080/",
          "height": 320
        }
      },
      "source": [
        "#4. Stochastic K%\n",
        "def stochastic_oscillator_k(df):\n",
        "    \"\"\"Calculate stochastic oscillator %K for given data.\n",
        "    :param df: pandas.DataFrame\n",
        "    :return: pandas.DataFrame\n",
        "    \"\"\"\n",
        "    SOk = pd.Series((df['<CLOSE>'] - df['<LOW>']) / (df['<HIGH>'] - df['<LOW>']), name='SO_k')\n",
        "    df = df.join(SOk)\n",
        "    return df\n",
        "df_new = stochastic_oscillator_k(df_new)\n",
        "df_new.tail()"
      ],
      "execution_count": 232,
      "outputs": [
        {
          "output_type": "execute_result",
          "data": {
            "text/html": [
              "<div>\n",
              "<style scoped>\n",
              "    .dataframe tbody tr th:only-of-type {\n",
              "        vertical-align: middle;\n",
              "    }\n",
              "\n",
              "    .dataframe tbody tr th {\n",
              "        vertical-align: top;\n",
              "    }\n",
              "\n",
              "    .dataframe thead th {\n",
              "        text-align: right;\n",
              "    }\n",
              "</style>\n",
              "<table border=\"1\" class=\"dataframe\">\n",
              "  <thead>\n",
              "    <tr style=\"text-align: right;\">\n",
              "      <th></th>\n",
              "      <th>&lt;FIRST&gt;</th>\n",
              "      <th>&lt;HIGH&gt;</th>\n",
              "      <th>&lt;LOW&gt;</th>\n",
              "      <th>&lt;CLOSE&gt;</th>\n",
              "      <th>&lt;VALUE&gt;</th>\n",
              "      <th>&lt;VOL&gt;</th>\n",
              "      <th>change_in_price</th>\n",
              "      <th>MA_10</th>\n",
              "      <th>WMA_10</th>\n",
              "      <th>MOM_10</th>\n",
              "      <th>SO_k</th>\n",
              "    </tr>\n",
              "    <tr>\n",
              "      <th>datetime</th>\n",
              "      <th></th>\n",
              "      <th></th>\n",
              "      <th></th>\n",
              "      <th></th>\n",
              "      <th></th>\n",
              "      <th></th>\n",
              "      <th></th>\n",
              "      <th></th>\n",
              "      <th></th>\n",
              "      <th></th>\n",
              "      <th></th>\n",
              "    </tr>\n",
              "  </thead>\n",
              "  <tbody>\n",
              "    <tr>\n",
              "      <th>2020-05-26</th>\n",
              "      <td>8190.0</td>\n",
              "      <td>8516.0</td>\n",
              "      <td>8190.0</td>\n",
              "      <td>8587.0</td>\n",
              "      <td>10371275460</td>\n",
              "      <td>1266334</td>\n",
              "      <td>-34.0</td>\n",
              "      <td>8518.1</td>\n",
              "      <td>8333.958415</td>\n",
              "      <td>464.0</td>\n",
              "      <td>1.217791</td>\n",
              "    </tr>\n",
              "    <tr>\n",
              "      <th>2020-05-27</th>\n",
              "      <td>8097.0</td>\n",
              "      <td>8300.0</td>\n",
              "      <td>8097.0</td>\n",
              "      <td>8108.0</td>\n",
              "      <td>188257315089</td>\n",
              "      <td>23218666</td>\n",
              "      <td>-479.0</td>\n",
              "      <td>8477.8</td>\n",
              "      <td>8292.875067</td>\n",
              "      <td>-403.0</td>\n",
              "      <td>0.054187</td>\n",
              "    </tr>\n",
              "    <tr>\n",
              "      <th>2020-05-30</th>\n",
              "      <td>8334.0</td>\n",
              "      <td>8340.0</td>\n",
              "      <td>7703.0</td>\n",
              "      <td>7936.0</td>\n",
              "      <td>235877669098</td>\n",
              "      <td>29722192</td>\n",
              "      <td>-172.0</td>\n",
              "      <td>8389.9</td>\n",
              "      <td>8227.988691</td>\n",
              "      <td>-879.0</td>\n",
              "      <td>0.365777</td>\n",
              "    </tr>\n",
              "    <tr>\n",
              "      <th>2020-05-31</th>\n",
              "      <td>8000.0</td>\n",
              "      <td>8079.0</td>\n",
              "      <td>7540.0</td>\n",
              "      <td>7605.0</td>\n",
              "      <td>185150285046</td>\n",
              "      <td>24346946</td>\n",
              "      <td>-331.0</td>\n",
              "      <td>8252.6</td>\n",
              "      <td>8114.718020</td>\n",
              "      <td>-1373.0</td>\n",
              "      <td>0.120594</td>\n",
              "    </tr>\n",
              "    <tr>\n",
              "      <th>2020-06-01</th>\n",
              "      <td>7800.0</td>\n",
              "      <td>7985.0</td>\n",
              "      <td>7619.0</td>\n",
              "      <td>7845.0</td>\n",
              "      <td>88286063628</td>\n",
              "      <td>11254209</td>\n",
              "      <td>240.0</td>\n",
              "      <td>8220.8</td>\n",
              "      <td>8065.678380</td>\n",
              "      <td>-318.0</td>\n",
              "      <td>0.617486</td>\n",
              "    </tr>\n",
              "  </tbody>\n",
              "</table>\n",
              "</div>"
            ],
            "text/plain": [
              "            <FIRST>  <HIGH>   <LOW>  ...       WMA_10  MOM_10      SO_k\n",
              "datetime                             ...                               \n",
              "2020-05-26   8190.0  8516.0  8190.0  ...  8333.958415   464.0  1.217791\n",
              "2020-05-27   8097.0  8300.0  8097.0  ...  8292.875067  -403.0  0.054187\n",
              "2020-05-30   8334.0  8340.0  7703.0  ...  8227.988691  -879.0  0.365777\n",
              "2020-05-31   8000.0  8079.0  7540.0  ...  8114.718020 -1373.0  0.120594\n",
              "2020-06-01   7800.0  7985.0  7619.0  ...  8065.678380  -318.0  0.617486\n",
              "\n",
              "[5 rows x 11 columns]"
            ]
          },
          "metadata": {
            "tags": []
          },
          "execution_count": 232
        }
      ]
    },
    {
      "cell_type": "code",
      "metadata": {
        "id": "d5u31Lq2besX",
        "outputId": "6a22d818-5c1c-4005-dca3-3e7361d3020d",
        "colab": {
          "base_uri": "https://localhost:8080/",
          "height": 340
        }
      },
      "source": [
        "#5. Stochastic D%\n",
        "def stochastic_oscillator_d(df, n):\n",
        "    \"\"\"Calculate stochastic oscillator %D for given data.\n",
        "    :param df: pandas.DataFrame\n",
        "    :param n:\n",
        "    :return: pandas.DataFrame\n",
        "    \"\"\"\n",
        "    SOk = pd.Series((df['<CLOSE>'] - df['<LOW>']) / (df['<HIGH>'] - df['<LOW>']), name='SO%k')\n",
        "    SOd = pd.Series(SOk.ewm(span=n, min_periods=n).mean(), name='SO_' + str(n))\n",
        "    df = df.join(SOd)\n",
        "    return df\n",
        "df_new = stochastic_oscillator_d(df_new,10)\n",
        "df_new.tail()"
      ],
      "execution_count": 233,
      "outputs": [
        {
          "output_type": "execute_result",
          "data": {
            "text/html": [
              "<div>\n",
              "<style scoped>\n",
              "    .dataframe tbody tr th:only-of-type {\n",
              "        vertical-align: middle;\n",
              "    }\n",
              "\n",
              "    .dataframe tbody tr th {\n",
              "        vertical-align: top;\n",
              "    }\n",
              "\n",
              "    .dataframe thead th {\n",
              "        text-align: right;\n",
              "    }\n",
              "</style>\n",
              "<table border=\"1\" class=\"dataframe\">\n",
              "  <thead>\n",
              "    <tr style=\"text-align: right;\">\n",
              "      <th></th>\n",
              "      <th>&lt;FIRST&gt;</th>\n",
              "      <th>&lt;HIGH&gt;</th>\n",
              "      <th>&lt;LOW&gt;</th>\n",
              "      <th>&lt;CLOSE&gt;</th>\n",
              "      <th>&lt;VALUE&gt;</th>\n",
              "      <th>&lt;VOL&gt;</th>\n",
              "      <th>change_in_price</th>\n",
              "      <th>MA_10</th>\n",
              "      <th>WMA_10</th>\n",
              "      <th>MOM_10</th>\n",
              "      <th>SO_k</th>\n",
              "      <th>SO_10</th>\n",
              "    </tr>\n",
              "    <tr>\n",
              "      <th>datetime</th>\n",
              "      <th></th>\n",
              "      <th></th>\n",
              "      <th></th>\n",
              "      <th></th>\n",
              "      <th></th>\n",
              "      <th></th>\n",
              "      <th></th>\n",
              "      <th></th>\n",
              "      <th></th>\n",
              "      <th></th>\n",
              "      <th></th>\n",
              "      <th></th>\n",
              "    </tr>\n",
              "  </thead>\n",
              "  <tbody>\n",
              "    <tr>\n",
              "      <th>2020-05-26</th>\n",
              "      <td>8190.0</td>\n",
              "      <td>8516.0</td>\n",
              "      <td>8190.0</td>\n",
              "      <td>8587.0</td>\n",
              "      <td>10371275460</td>\n",
              "      <td>1266334</td>\n",
              "      <td>-34.0</td>\n",
              "      <td>8518.1</td>\n",
              "      <td>8333.958415</td>\n",
              "      <td>464.0</td>\n",
              "      <td>1.217791</td>\n",
              "      <td>0.741580</td>\n",
              "    </tr>\n",
              "    <tr>\n",
              "      <th>2020-05-27</th>\n",
              "      <td>8097.0</td>\n",
              "      <td>8300.0</td>\n",
              "      <td>8097.0</td>\n",
              "      <td>8108.0</td>\n",
              "      <td>188257315089</td>\n",
              "      <td>23218666</td>\n",
              "      <td>-479.0</td>\n",
              "      <td>8477.8</td>\n",
              "      <td>8292.875067</td>\n",
              "      <td>-403.0</td>\n",
              "      <td>0.054187</td>\n",
              "      <td>0.594541</td>\n",
              "    </tr>\n",
              "    <tr>\n",
              "      <th>2020-05-30</th>\n",
              "      <td>8334.0</td>\n",
              "      <td>8340.0</td>\n",
              "      <td>7703.0</td>\n",
              "      <td>7936.0</td>\n",
              "      <td>235877669098</td>\n",
              "      <td>29722192</td>\n",
              "      <td>-172.0</td>\n",
              "      <td>8389.9</td>\n",
              "      <td>8227.988691</td>\n",
              "      <td>-879.0</td>\n",
              "      <td>0.365777</td>\n",
              "      <td>0.547128</td>\n",
              "    </tr>\n",
              "    <tr>\n",
              "      <th>2020-05-31</th>\n",
              "      <td>8000.0</td>\n",
              "      <td>8079.0</td>\n",
              "      <td>7540.0</td>\n",
              "      <td>7605.0</td>\n",
              "      <td>185150285046</td>\n",
              "      <td>24346946</td>\n",
              "      <td>-331.0</td>\n",
              "      <td>8252.6</td>\n",
              "      <td>8114.718020</td>\n",
              "      <td>-1373.0</td>\n",
              "      <td>0.120594</td>\n",
              "      <td>0.460918</td>\n",
              "    </tr>\n",
              "    <tr>\n",
              "      <th>2020-06-01</th>\n",
              "      <td>7800.0</td>\n",
              "      <td>7985.0</td>\n",
              "      <td>7619.0</td>\n",
              "      <td>7845.0</td>\n",
              "      <td>88286063628</td>\n",
              "      <td>11254209</td>\n",
              "      <td>240.0</td>\n",
              "      <td>8220.8</td>\n",
              "      <td>8065.678380</td>\n",
              "      <td>-318.0</td>\n",
              "      <td>0.617486</td>\n",
              "      <td>0.491934</td>\n",
              "    </tr>\n",
              "  </tbody>\n",
              "</table>\n",
              "</div>"
            ],
            "text/plain": [
              "            <FIRST>  <HIGH>   <LOW>  ...  MOM_10      SO_k     SO_10\n",
              "datetime                             ...                            \n",
              "2020-05-26   8190.0  8516.0  8190.0  ...   464.0  1.217791  0.741580\n",
              "2020-05-27   8097.0  8300.0  8097.0  ...  -403.0  0.054187  0.594541\n",
              "2020-05-30   8334.0  8340.0  7703.0  ...  -879.0  0.365777  0.547128\n",
              "2020-05-31   8000.0  8079.0  7540.0  ... -1373.0  0.120594  0.460918\n",
              "2020-06-01   7800.0  7985.0  7619.0  ...  -318.0  0.617486  0.491934\n",
              "\n",
              "[5 rows x 12 columns]"
            ]
          },
          "metadata": {
            "tags": []
          },
          "execution_count": 233
        }
      ]
    },
    {
      "cell_type": "code",
      "metadata": {
        "id": "oki_RUaObesb",
        "outputId": "55364460-e89f-4220-884d-944df2ccc074",
        "colab": {
          "base_uri": "https://localhost:8080/",
          "height": 171
        }
      },
      "source": [
        "#6. Relative Strength Index\n",
        "#Error\n",
        "\"\"\"\n",
        "def relative_strength_index(df, n):\n",
        "    Calculate Relative Strength Index(RSI) for given data.\n",
        "    :param df: pandas.DataFrame\n",
        "    :param n:\n",
        "    :return: pandas.DataFrame\n",
        "    i = df.index[0]\n",
        "    UpI = [0]\n",
        "    DoI = [0]\n",
        "    while i + 1 <= df.index[-1]:\n",
        "        UpMove = float(df.loc[i + 1, 'high']) - float(df.loc[i, 'high'])\n",
        "        DoMove = float(df.loc[i, 'low']) - float(df.loc[i + 1, 'low'])\n",
        "        if UpMove > DoMove and UpMove > 0:\n",
        "            UpD = UpMove\n",
        "        else:\n",
        "            UpD = 0\n",
        "        UpI.append(UpD)\n",
        "        if DoMove > UpMove and DoMove > 0:\n",
        "            DoD = DoMove\n",
        "        else:\n",
        "            DoD = 0\n",
        "        DoI.append(DoD)\n",
        "        i = i + 1\n",
        "    UpI = pd.Series(UpI)\n",
        "\n",
        "    DoI = pd.Series(DoI)\n",
        "    PosDI = pd.Series(UpI.ewm(span=n, min_periods=n).mean())\n",
        "    NegDI = pd.Series(DoI.ewm(span=n, min_periods=n).mean())\n",
        "\n",
        "    # rsi = pd.Series(PosDI / (PosDI + NegDI), name='RSI_' + str(n))\n",
        "    rsi = pd.DataFrame(PosDI / (PosDI + NegDI), columns=['RSI_' + str(n)])\n",
        "    rsi = rsi.set_index(df.index)\n",
        "    df = df.join(rsi)\n",
        "    return df\n",
        "\"\"\""
      ],
      "execution_count": 234,
      "outputs": [
        {
          "output_type": "execute_result",
          "data": {
            "application/vnd.google.colaboratory.intrinsic+json": {
              "type": "string"
            },
            "text/plain": [
              "\"\\ndef relative_strength_index(df, n):\\n    Calculate Relative Strength Index(RSI) for given data.\\n    :param df: pandas.DataFrame\\n    :param n:\\n    :return: pandas.DataFrame\\n    i = df.index[0]\\n    UpI = [0]\\n    DoI = [0]\\n    while i + 1 <= df.index[-1]:\\n        UpMove = float(df.loc[i + 1, 'high']) - float(df.loc[i, 'high'])\\n        DoMove = float(df.loc[i, 'low']) - float(df.loc[i + 1, 'low'])\\n        if UpMove > DoMove and UpMove > 0:\\n            UpD = UpMove\\n        else:\\n            UpD = 0\\n        UpI.append(UpD)\\n        if DoMove > UpMove and DoMove > 0:\\n            DoD = DoMove\\n        else:\\n            DoD = 0\\n        DoI.append(DoD)\\n        i = i + 1\\n    UpI = pd.Series(UpI)\\n\\n    DoI = pd.Series(DoI)\\n    PosDI = pd.Series(UpI.ewm(span=n, min_periods=n).mean())\\n    NegDI = pd.Series(DoI.ewm(span=n, min_periods=n).mean())\\n\\n    # rsi = pd.Series(PosDI / (PosDI + NegDI), name='RSI_' + str(n))\\n    rsi = pd.DataFrame(PosDI / (PosDI + NegDI), columns=['RSI_' + str(n)])\\n    rsi = rsi.set_index(df.index)\\n    df = df.join(rsi)\\n    return df\\n\""
            ]
          },
          "metadata": {
            "tags": []
          },
          "execution_count": 234
        }
      ]
    },
    {
      "cell_type": "code",
      "metadata": {
        "id": "SzBt7Xdobese",
        "outputId": "42065f3c-c3ca-4d52-cfc0-86da596cb432",
        "colab": {
          "base_uri": "https://localhost:8080/",
          "height": 340
        }
      },
      "source": [
        "#7. Signal\n",
        "def macd(df, n_fast, n_slow):\n",
        "    \"\"\"Calculate MACD, MACD Signal and MACD difference\n",
        "    :param df: pandas.DataFrame\n",
        "    :param n_fast:\n",
        "    :param n_slow:\n",
        "    :return: pandas.DataFrame\n",
        "    \"\"\"\n",
        "    EMAfast = pd.Series(df['<CLOSE>'].ewm(span=n_fast, min_periods=n_slow).mean())\n",
        "    EMAslow = pd.Series(df['<CLOSE>'].ewm(span=n_slow, min_periods=n_slow).mean())\n",
        "    MACD = pd.Series(EMAfast - EMAslow, name='MACD_' + str(n_fast) + '_' + str(n_slow))\n",
        "    MACDsign = pd.Series(MACD.ewm(span=9, min_periods=9).mean(), name='MACDsign_' + str(n_fast) + '_' + str(n_slow))\n",
        "    MACDdiff = pd.Series(MACD - MACDsign, name='MACDdiff_' + str(n_fast) + '_' + str(n_slow))\n",
        "    df = df.join(MACD)\n",
        "    df = df.join(MACDsign)\n",
        "    df = df.join(MACDdiff)\n",
        "    return df\n",
        "df_new = macd(df_new,12,26)\n",
        "df_new.head()"
      ],
      "execution_count": 235,
      "outputs": [
        {
          "output_type": "execute_result",
          "data": {
            "text/html": [
              "<div>\n",
              "<style scoped>\n",
              "    .dataframe tbody tr th:only-of-type {\n",
              "        vertical-align: middle;\n",
              "    }\n",
              "\n",
              "    .dataframe tbody tr th {\n",
              "        vertical-align: top;\n",
              "    }\n",
              "\n",
              "    .dataframe thead th {\n",
              "        text-align: right;\n",
              "    }\n",
              "</style>\n",
              "<table border=\"1\" class=\"dataframe\">\n",
              "  <thead>\n",
              "    <tr style=\"text-align: right;\">\n",
              "      <th></th>\n",
              "      <th>&lt;FIRST&gt;</th>\n",
              "      <th>&lt;HIGH&gt;</th>\n",
              "      <th>&lt;LOW&gt;</th>\n",
              "      <th>&lt;CLOSE&gt;</th>\n",
              "      <th>&lt;VALUE&gt;</th>\n",
              "      <th>&lt;VOL&gt;</th>\n",
              "      <th>change_in_price</th>\n",
              "      <th>MA_10</th>\n",
              "      <th>WMA_10</th>\n",
              "      <th>MOM_10</th>\n",
              "      <th>SO_k</th>\n",
              "      <th>SO_10</th>\n",
              "      <th>MACD_12_26</th>\n",
              "      <th>MACDsign_12_26</th>\n",
              "      <th>MACDdiff_12_26</th>\n",
              "    </tr>\n",
              "    <tr>\n",
              "      <th>datetime</th>\n",
              "      <th></th>\n",
              "      <th></th>\n",
              "      <th></th>\n",
              "      <th></th>\n",
              "      <th></th>\n",
              "      <th></th>\n",
              "      <th></th>\n",
              "      <th></th>\n",
              "      <th></th>\n",
              "      <th></th>\n",
              "      <th></th>\n",
              "      <th></th>\n",
              "      <th></th>\n",
              "      <th></th>\n",
              "      <th></th>\n",
              "    </tr>\n",
              "  </thead>\n",
              "  <tbody>\n",
              "    <tr>\n",
              "      <th>2001-12-23</th>\n",
              "      <td>1000.0</td>\n",
              "      <td>1000.0</td>\n",
              "      <td>1000.0</td>\n",
              "      <td>1000.0</td>\n",
              "      <td>1000000</td>\n",
              "      <td>1000</td>\n",
              "      <td>NaN</td>\n",
              "      <td>NaN</td>\n",
              "      <td>NaN</td>\n",
              "      <td>NaN</td>\n",
              "      <td>NaN</td>\n",
              "      <td>NaN</td>\n",
              "      <td>NaN</td>\n",
              "      <td>NaN</td>\n",
              "      <td>NaN</td>\n",
              "    </tr>\n",
              "    <tr>\n",
              "      <th>2002-01-29</th>\n",
              "      <td>1000.0</td>\n",
              "      <td>1000.0</td>\n",
              "      <td>1000.0</td>\n",
              "      <td>1000.0</td>\n",
              "      <td>10000</td>\n",
              "      <td>10</td>\n",
              "      <td>0.0</td>\n",
              "      <td>NaN</td>\n",
              "      <td>NaN</td>\n",
              "      <td>NaN</td>\n",
              "      <td>NaN</td>\n",
              "      <td>NaN</td>\n",
              "      <td>NaN</td>\n",
              "      <td>NaN</td>\n",
              "      <td>NaN</td>\n",
              "    </tr>\n",
              "    <tr>\n",
              "      <th>2002-09-02</th>\n",
              "      <td>1000.0</td>\n",
              "      <td>1000.0</td>\n",
              "      <td>1000.0</td>\n",
              "      <td>1000.0</td>\n",
              "      <td>1000000</td>\n",
              "      <td>1000</td>\n",
              "      <td>0.0</td>\n",
              "      <td>NaN</td>\n",
              "      <td>NaN</td>\n",
              "      <td>NaN</td>\n",
              "      <td>NaN</td>\n",
              "      <td>NaN</td>\n",
              "      <td>NaN</td>\n",
              "      <td>NaN</td>\n",
              "      <td>NaN</td>\n",
              "    </tr>\n",
              "    <tr>\n",
              "      <th>2003-02-24</th>\n",
              "      <td>1000.0</td>\n",
              "      <td>1000.0</td>\n",
              "      <td>1000.0</td>\n",
              "      <td>1000.0</td>\n",
              "      <td>2000000</td>\n",
              "      <td>2000</td>\n",
              "      <td>0.0</td>\n",
              "      <td>NaN</td>\n",
              "      <td>NaN</td>\n",
              "      <td>NaN</td>\n",
              "      <td>NaN</td>\n",
              "      <td>NaN</td>\n",
              "      <td>NaN</td>\n",
              "      <td>NaN</td>\n",
              "      <td>NaN</td>\n",
              "    </tr>\n",
              "    <tr>\n",
              "      <th>2003-03-18</th>\n",
              "      <td>1000.0</td>\n",
              "      <td>1000.0</td>\n",
              "      <td>1000.0</td>\n",
              "      <td>1000.0</td>\n",
              "      <td>50000</td>\n",
              "      <td>50</td>\n",
              "      <td>0.0</td>\n",
              "      <td>NaN</td>\n",
              "      <td>NaN</td>\n",
              "      <td>NaN</td>\n",
              "      <td>NaN</td>\n",
              "      <td>NaN</td>\n",
              "      <td>NaN</td>\n",
              "      <td>NaN</td>\n",
              "      <td>NaN</td>\n",
              "    </tr>\n",
              "  </tbody>\n",
              "</table>\n",
              "</div>"
            ],
            "text/plain": [
              "            <FIRST>  <HIGH>   <LOW>  ...  MACD_12_26  MACDsign_12_26  MACDdiff_12_26\n",
              "datetime                             ...                                            \n",
              "2001-12-23   1000.0  1000.0  1000.0  ...         NaN             NaN             NaN\n",
              "2002-01-29   1000.0  1000.0  1000.0  ...         NaN             NaN             NaN\n",
              "2002-09-02   1000.0  1000.0  1000.0  ...         NaN             NaN             NaN\n",
              "2003-02-24   1000.0  1000.0  1000.0  ...         NaN             NaN             NaN\n",
              "2003-03-18   1000.0  1000.0  1000.0  ...         NaN             NaN             NaN\n",
              "\n",
              "[5 rows x 15 columns]"
            ]
          },
          "metadata": {
            "tags": []
          },
          "execution_count": 235
        }
      ]
    },
    {
      "cell_type": "code",
      "metadata": {
        "id": "cfobRA3dbesh"
      },
      "source": [
        "#8. Larry Williams R%\n",
        "#lEFT"
      ],
      "execution_count": 236,
      "outputs": []
    },
    {
      "cell_type": "code",
      "metadata": {
        "id": "tAAH6tYWbesm",
        "outputId": "76008bba-0fc5-4e72-faf2-e0da611e3d5d",
        "colab": {
          "base_uri": "https://localhost:8080/",
          "height": 374
        }
      },
      "source": [
        "#9. Accumulation / Distribution\n",
        "def accumulation_distribution(df, n):\n",
        "    \"\"\"Calculate Accumulation/Distribution for given data.\n",
        "    :param df: pandas.DataFrame\n",
        "    :param n:\n",
        "    :return: pandas.DataFrame\n",
        "    \"\"\"\n",
        "    ad = (2 * df['<CLOSE>'] - df['<HIGH>'] - df['<LOW>']) / (df['<HIGH>'] - df['<LOW>']) * df['<VOL>']\n",
        "    M = ad.diff(n - 1)\n",
        "    N = ad.shift(n - 1)\n",
        "    ROC = M / N\n",
        "    AD = pd.Series(ROC, name='Acc/Dist_ROC_' + str(n))\n",
        "    df = df.join(AD)\n",
        "    return df\n",
        "df_new = accumulation_distribution(df_new,10)\n",
        "df_new.tail()"
      ],
      "execution_count": 237,
      "outputs": [
        {
          "output_type": "stream",
          "text": [
            "/usr/local/lib/python3.6/dist-packages/pandas/core/algorithms.py:1977: RuntimeWarning: invalid value encountered in subtract\n",
            "  out_arr[res_indexer] = arr[res_indexer] - arr[lag_indexer]\n"
          ],
          "name": "stderr"
        },
        {
          "output_type": "execute_result",
          "data": {
            "text/html": [
              "<div>\n",
              "<style scoped>\n",
              "    .dataframe tbody tr th:only-of-type {\n",
              "        vertical-align: middle;\n",
              "    }\n",
              "\n",
              "    .dataframe tbody tr th {\n",
              "        vertical-align: top;\n",
              "    }\n",
              "\n",
              "    .dataframe thead th {\n",
              "        text-align: right;\n",
              "    }\n",
              "</style>\n",
              "<table border=\"1\" class=\"dataframe\">\n",
              "  <thead>\n",
              "    <tr style=\"text-align: right;\">\n",
              "      <th></th>\n",
              "      <th>&lt;FIRST&gt;</th>\n",
              "      <th>&lt;HIGH&gt;</th>\n",
              "      <th>&lt;LOW&gt;</th>\n",
              "      <th>&lt;CLOSE&gt;</th>\n",
              "      <th>&lt;VALUE&gt;</th>\n",
              "      <th>&lt;VOL&gt;</th>\n",
              "      <th>change_in_price</th>\n",
              "      <th>MA_10</th>\n",
              "      <th>WMA_10</th>\n",
              "      <th>MOM_10</th>\n",
              "      <th>SO_k</th>\n",
              "      <th>SO_10</th>\n",
              "      <th>MACD_12_26</th>\n",
              "      <th>MACDsign_12_26</th>\n",
              "      <th>MACDdiff_12_26</th>\n",
              "      <th>Acc/Dist_ROC_10</th>\n",
              "    </tr>\n",
              "    <tr>\n",
              "      <th>datetime</th>\n",
              "      <th></th>\n",
              "      <th></th>\n",
              "      <th></th>\n",
              "      <th></th>\n",
              "      <th></th>\n",
              "      <th></th>\n",
              "      <th></th>\n",
              "      <th></th>\n",
              "      <th></th>\n",
              "      <th></th>\n",
              "      <th></th>\n",
              "      <th></th>\n",
              "      <th></th>\n",
              "      <th></th>\n",
              "      <th></th>\n",
              "      <th></th>\n",
              "    </tr>\n",
              "  </thead>\n",
              "  <tbody>\n",
              "    <tr>\n",
              "      <th>2020-05-26</th>\n",
              "      <td>8190.0</td>\n",
              "      <td>8516.0</td>\n",
              "      <td>8190.0</td>\n",
              "      <td>8587.0</td>\n",
              "      <td>10371275460</td>\n",
              "      <td>1266334</td>\n",
              "      <td>-34.0</td>\n",
              "      <td>8518.1</td>\n",
              "      <td>8333.958415</td>\n",
              "      <td>464.0</td>\n",
              "      <td>1.217791</td>\n",
              "      <td>0.741580</td>\n",
              "      <td>936.098913</td>\n",
              "      <td>973.276660</td>\n",
              "      <td>-37.177747</td>\n",
              "      <td>NaN</td>\n",
              "    </tr>\n",
              "    <tr>\n",
              "      <th>2020-05-27</th>\n",
              "      <td>8097.0</td>\n",
              "      <td>8300.0</td>\n",
              "      <td>8097.0</td>\n",
              "      <td>8108.0</td>\n",
              "      <td>188257315089</td>\n",
              "      <td>23218666</td>\n",
              "      <td>-479.0</td>\n",
              "      <td>8477.8</td>\n",
              "      <td>8292.875067</td>\n",
              "      <td>-403.0</td>\n",
              "      <td>0.054187</td>\n",
              "      <td>0.594541</td>\n",
              "      <td>858.789162</td>\n",
              "      <td>950.379160</td>\n",
              "      <td>-91.589998</td>\n",
              "      <td>NaN</td>\n",
              "    </tr>\n",
              "    <tr>\n",
              "      <th>2020-05-30</th>\n",
              "      <td>8334.0</td>\n",
              "      <td>8340.0</td>\n",
              "      <td>7703.0</td>\n",
              "      <td>7936.0</td>\n",
              "      <td>235877669098</td>\n",
              "      <td>29722192</td>\n",
              "      <td>-172.0</td>\n",
              "      <td>8389.9</td>\n",
              "      <td>8227.988691</td>\n",
              "      <td>-879.0</td>\n",
              "      <td>0.365777</td>\n",
              "      <td>0.547128</td>\n",
              "      <td>774.711276</td>\n",
              "      <td>915.245584</td>\n",
              "      <td>-140.534308</td>\n",
              "      <td>NaN</td>\n",
              "    </tr>\n",
              "    <tr>\n",
              "      <th>2020-05-31</th>\n",
              "      <td>8000.0</td>\n",
              "      <td>8079.0</td>\n",
              "      <td>7540.0</td>\n",
              "      <td>7605.0</td>\n",
              "      <td>185150285046</td>\n",
              "      <td>24346946</td>\n",
              "      <td>-331.0</td>\n",
              "      <td>8252.6</td>\n",
              "      <td>8114.718020</td>\n",
              "      <td>-1373.0</td>\n",
              "      <td>0.120594</td>\n",
              "      <td>0.460918</td>\n",
              "      <td>673.605111</td>\n",
              "      <td>866.917489</td>\n",
              "      <td>-193.312378</td>\n",
              "      <td>3.756763</td>\n",
              "    </tr>\n",
              "    <tr>\n",
              "      <th>2020-06-01</th>\n",
              "      <td>7800.0</td>\n",
              "      <td>7985.0</td>\n",
              "      <td>7619.0</td>\n",
              "      <td>7845.0</td>\n",
              "      <td>88286063628</td>\n",
              "      <td>11254209</td>\n",
              "      <td>240.0</td>\n",
              "      <td>8220.8</td>\n",
              "      <td>8065.678380</td>\n",
              "      <td>-318.0</td>\n",
              "      <td>0.617486</td>\n",
              "      <td>0.491934</td>\n",
              "      <td>605.859767</td>\n",
              "      <td>814.705945</td>\n",
              "      <td>-208.846178</td>\n",
              "      <td>-1.068315</td>\n",
              "    </tr>\n",
              "  </tbody>\n",
              "</table>\n",
              "</div>"
            ],
            "text/plain": [
              "            <FIRST>  <HIGH>  ...  MACDdiff_12_26  Acc/Dist_ROC_10\n",
              "datetime                     ...                                 \n",
              "2020-05-26   8190.0  8516.0  ...      -37.177747              NaN\n",
              "2020-05-27   8097.0  8300.0  ...      -91.589998              NaN\n",
              "2020-05-30   8334.0  8340.0  ...     -140.534308              NaN\n",
              "2020-05-31   8000.0  8079.0  ...     -193.312378         3.756763\n",
              "2020-06-01   7800.0  7985.0  ...     -208.846178        -1.068315\n",
              "\n",
              "[5 rows x 16 columns]"
            ]
          },
          "metadata": {
            "tags": []
          },
          "execution_count": 237
        }
      ]
    },
    {
      "cell_type": "code",
      "metadata": {
        "id": "XCFLfxtUbesq",
        "outputId": "b15591e9-167c-41e7-f984-125c3015e8fe",
        "colab": {
          "base_uri": "https://localhost:8080/",
          "height": 340
        }
      },
      "source": [
        "#10. Commodity Channel Index\n",
        "def commodity_channel_index(df, n):\n",
        "    \"\"\"Calculate Commodity Channel Index for given data.\n",
        "    :param df: pandas.DataFrame\n",
        "    :param n:\n",
        "    :return: pandas.DataFrame\n",
        "    \"\"\"\n",
        "    PP = (df['<HIGH>'] + df['<LOW>'] + df['<CLOSE>']) / 3\n",
        "    CCI = pd.Series((PP - PP.rolling(n, min_periods=n).mean()) / PP.rolling(n, min_periods=n).std(),\n",
        "                    name='CCI_' + str(n))\n",
        "    df = df.join(CCI)\n",
        "    return df\n",
        "df_new = commodity_channel_index(df_new,10)\n",
        "df_new.tail()"
      ],
      "execution_count": 238,
      "outputs": [
        {
          "output_type": "execute_result",
          "data": {
            "text/html": [
              "<div>\n",
              "<style scoped>\n",
              "    .dataframe tbody tr th:only-of-type {\n",
              "        vertical-align: middle;\n",
              "    }\n",
              "\n",
              "    .dataframe tbody tr th {\n",
              "        vertical-align: top;\n",
              "    }\n",
              "\n",
              "    .dataframe thead th {\n",
              "        text-align: right;\n",
              "    }\n",
              "</style>\n",
              "<table border=\"1\" class=\"dataframe\">\n",
              "  <thead>\n",
              "    <tr style=\"text-align: right;\">\n",
              "      <th></th>\n",
              "      <th>&lt;FIRST&gt;</th>\n",
              "      <th>&lt;HIGH&gt;</th>\n",
              "      <th>&lt;LOW&gt;</th>\n",
              "      <th>&lt;CLOSE&gt;</th>\n",
              "      <th>&lt;VALUE&gt;</th>\n",
              "      <th>&lt;VOL&gt;</th>\n",
              "      <th>change_in_price</th>\n",
              "      <th>MA_10</th>\n",
              "      <th>WMA_10</th>\n",
              "      <th>MOM_10</th>\n",
              "      <th>SO_k</th>\n",
              "      <th>SO_10</th>\n",
              "      <th>MACD_12_26</th>\n",
              "      <th>MACDsign_12_26</th>\n",
              "      <th>MACDdiff_12_26</th>\n",
              "      <th>Acc/Dist_ROC_10</th>\n",
              "      <th>CCI_10</th>\n",
              "    </tr>\n",
              "    <tr>\n",
              "      <th>datetime</th>\n",
              "      <th></th>\n",
              "      <th></th>\n",
              "      <th></th>\n",
              "      <th></th>\n",
              "      <th></th>\n",
              "      <th></th>\n",
              "      <th></th>\n",
              "      <th></th>\n",
              "      <th></th>\n",
              "      <th></th>\n",
              "      <th></th>\n",
              "      <th></th>\n",
              "      <th></th>\n",
              "      <th></th>\n",
              "      <th></th>\n",
              "      <th></th>\n",
              "      <th></th>\n",
              "    </tr>\n",
              "  </thead>\n",
              "  <tbody>\n",
              "    <tr>\n",
              "      <th>2020-05-26</th>\n",
              "      <td>8190.0</td>\n",
              "      <td>8516.0</td>\n",
              "      <td>8190.0</td>\n",
              "      <td>8587.0</td>\n",
              "      <td>10371275460</td>\n",
              "      <td>1266334</td>\n",
              "      <td>-34.0</td>\n",
              "      <td>8518.1</td>\n",
              "      <td>8333.958415</td>\n",
              "      <td>464.0</td>\n",
              "      <td>1.217791</td>\n",
              "      <td>0.741580</td>\n",
              "      <td>936.098913</td>\n",
              "      <td>973.276660</td>\n",
              "      <td>-37.177747</td>\n",
              "      <td>NaN</td>\n",
              "      <td>-0.256277</td>\n",
              "    </tr>\n",
              "    <tr>\n",
              "      <th>2020-05-27</th>\n",
              "      <td>8097.0</td>\n",
              "      <td>8300.0</td>\n",
              "      <td>8097.0</td>\n",
              "      <td>8108.0</td>\n",
              "      <td>188257315089</td>\n",
              "      <td>23218666</td>\n",
              "      <td>-479.0</td>\n",
              "      <td>8477.8</td>\n",
              "      <td>8292.875067</td>\n",
              "      <td>-403.0</td>\n",
              "      <td>0.054187</td>\n",
              "      <td>0.594541</td>\n",
              "      <td>858.789162</td>\n",
              "      <td>950.379160</td>\n",
              "      <td>-91.589998</td>\n",
              "      <td>NaN</td>\n",
              "      <td>-0.800125</td>\n",
              "    </tr>\n",
              "    <tr>\n",
              "      <th>2020-05-30</th>\n",
              "      <td>8334.0</td>\n",
              "      <td>8340.0</td>\n",
              "      <td>7703.0</td>\n",
              "      <td>7936.0</td>\n",
              "      <td>235877669098</td>\n",
              "      <td>29722192</td>\n",
              "      <td>-172.0</td>\n",
              "      <td>8389.9</td>\n",
              "      <td>8227.988691</td>\n",
              "      <td>-879.0</td>\n",
              "      <td>0.365777</td>\n",
              "      <td>0.547128</td>\n",
              "      <td>774.711276</td>\n",
              "      <td>915.245584</td>\n",
              "      <td>-140.534308</td>\n",
              "      <td>NaN</td>\n",
              "      <td>-1.003493</td>\n",
              "    </tr>\n",
              "    <tr>\n",
              "      <th>2020-05-31</th>\n",
              "      <td>8000.0</td>\n",
              "      <td>8079.0</td>\n",
              "      <td>7540.0</td>\n",
              "      <td>7605.0</td>\n",
              "      <td>185150285046</td>\n",
              "      <td>24346946</td>\n",
              "      <td>-331.0</td>\n",
              "      <td>8252.6</td>\n",
              "      <td>8114.718020</td>\n",
              "      <td>-1373.0</td>\n",
              "      <td>0.120594</td>\n",
              "      <td>0.460918</td>\n",
              "      <td>673.605111</td>\n",
              "      <td>866.917489</td>\n",
              "      <td>-193.312378</td>\n",
              "      <td>3.756763</td>\n",
              "      <td>-1.435668</td>\n",
              "    </tr>\n",
              "    <tr>\n",
              "      <th>2020-06-01</th>\n",
              "      <td>7800.0</td>\n",
              "      <td>7985.0</td>\n",
              "      <td>7619.0</td>\n",
              "      <td>7845.0</td>\n",
              "      <td>88286063628</td>\n",
              "      <td>11254209</td>\n",
              "      <td>240.0</td>\n",
              "      <td>8220.8</td>\n",
              "      <td>8065.678380</td>\n",
              "      <td>-318.0</td>\n",
              "      <td>0.617486</td>\n",
              "      <td>0.491934</td>\n",
              "      <td>605.859767</td>\n",
              "      <td>814.705945</td>\n",
              "      <td>-208.846178</td>\n",
              "      <td>-1.068315</td>\n",
              "      <td>-1.031068</td>\n",
              "    </tr>\n",
              "  </tbody>\n",
              "</table>\n",
              "</div>"
            ],
            "text/plain": [
              "            <FIRST>  <HIGH>   <LOW>  ...  MACDdiff_12_26  Acc/Dist_ROC_10    CCI_10\n",
              "datetime                             ...                                           \n",
              "2020-05-26   8190.0  8516.0  8190.0  ...      -37.177747              NaN -0.256277\n",
              "2020-05-27   8097.0  8300.0  8097.0  ...      -91.589998              NaN -0.800125\n",
              "2020-05-30   8334.0  8340.0  7703.0  ...     -140.534308              NaN -1.003493\n",
              "2020-05-31   8000.0  8079.0  7540.0  ...     -193.312378         3.756763 -1.435668\n",
              "2020-06-01   7800.0  7985.0  7619.0  ...     -208.846178        -1.068315 -1.031068\n",
              "\n",
              "[5 rows x 17 columns]"
            ]
          },
          "metadata": {
            "tags": []
          },
          "execution_count": 238
        }
      ]
    },
    {
      "cell_type": "code",
      "metadata": {
        "id": "HHQkL2Fybesu",
        "outputId": "59230ab4-d461-4377-ea6f-f8f8d221a2f1",
        "colab": {
          "base_uri": "https://localhost:8080/"
        }
      },
      "source": [
        "df_new.mean()"
      ],
      "execution_count": 239,
      "outputs": [
        {
          "output_type": "execute_result",
          "data": {
            "text/plain": [
              "<FIRST>            1.422474e+03\n",
              "<HIGH>             1.440773e+03\n",
              "<LOW>              1.396183e+03\n",
              "<CLOSE>            1.417617e+03\n",
              "<VALUE>            6.920851e+09\n",
              "<VOL>              2.606767e+06\n",
              "change_in_price    2.743487e+00\n",
              "MA_10              1.406251e+03\n",
              "WMA_10             1.406375e+03\n",
              "MOM_10             2.905873e+01\n",
              "SO_k                        NaN\n",
              "SO_10              4.953993e-01\n",
              "MACD_12_26         1.606395e+01\n",
              "MACDsign_12_26     1.481071e+01\n",
              "MACDdiff_12_26     1.388410e+00\n",
              "Acc/Dist_ROC_10             NaN\n",
              "CCI_10             7.574129e-02\n",
              "dtype: float64"
            ]
          },
          "metadata": {
            "tags": []
          },
          "execution_count": 239
        }
      ]
    },
    {
      "cell_type": "code",
      "metadata": {
        "id": "mSwQUUeKbesx",
        "outputId": "7cc092a5-8b82-4bbe-c725-0c68e06574cb",
        "colab": {
          "base_uri": "https://localhost:8080/"
        }
      },
      "source": [
        "df_new.min()"
      ],
      "execution_count": 240,
      "outputs": [
        {
          "output_type": "execute_result",
          "data": {
            "text/plain": [
              "<FIRST>             708.000000\n",
              "<HIGH>              748.000000\n",
              "<LOW>               702.000000\n",
              "<CLOSE>             732.000000\n",
              "<VALUE>            1042.000000\n",
              "<VOL>                 1.000000\n",
              "change_in_price   -1049.000000\n",
              "MA_10               742.500000\n",
              "WMA_10              743.364292\n",
              "MOM_10            -1373.000000\n",
              "SO_k                      -inf\n",
              "SO_10               -10.499717\n",
              "MACD_12_26         -275.745186\n",
              "MACDsign_12_26     -251.258879\n",
              "MACDdiff_12_26     -208.846178\n",
              "Acc/Dist_ROC_10           -inf\n",
              "CCI_10               -2.846050\n",
              "dtype: float64"
            ]
          },
          "metadata": {
            "tags": []
          },
          "execution_count": 240
        }
      ]
    },
    {
      "cell_type": "code",
      "metadata": {
        "id": "mMVVklQPbes1",
        "outputId": "e64be483-4986-4ab2-ebaf-5e802008ab7b",
        "colab": {
          "base_uri": "https://localhost:8080/"
        }
      },
      "source": [
        "df_new.max()"
      ],
      "execution_count": 241,
      "outputs": [
        {
          "output_type": "execute_result",
          "data": {
            "text/plain": [
              "<FIRST>            9.255000e+03\n",
              "<HIGH>             9.255000e+03\n",
              "<LOW>              9.255000e+03\n",
              "<CLOSE>            8.978000e+03\n",
              "<VALUE>            3.938869e+11\n",
              "<VOL>              1.953190e+08\n",
              "change_in_price    8.870000e+02\n",
              "MA_10              8.518100e+03\n",
              "WMA_10             8.333958e+03\n",
              "MOM_10             2.701000e+03\n",
              "SO_k                        inf\n",
              "SO_10              1.413943e+01\n",
              "MACD_12_26         1.144436e+03\n",
              "MACDsign_12_26     9.851170e+02\n",
              "MACDdiff_12_26     2.253252e+02\n",
              "Acc/Dist_ROC_10             inf\n",
              "CCI_10             2.828932e+00\n",
              "dtype: float64"
            ]
          },
          "metadata": {
            "tags": []
          },
          "execution_count": 241
        }
      ]
    },
    {
      "cell_type": "code",
      "metadata": {
        "id": "uNTpjP7Xbes4",
        "outputId": "1fa1f18e-4e8e-437e-9a91-e387a990cb7a",
        "colab": {
          "base_uri": "https://localhost:8080/"
        }
      },
      "source": [
        "df_new.std()"
      ],
      "execution_count": 242,
      "outputs": [
        {
          "output_type": "execute_result",
          "data": {
            "text/plain": [
              "<FIRST>            8.936501e+02\n",
              "<HIGH>             9.057680e+02\n",
              "<LOW>              8.682020e+02\n",
              "<CLOSE>            8.838866e+02\n",
              "<VALUE>            2.500800e+10\n",
              "<VOL>              7.601022e+06\n",
              "change_in_price    6.123000e+01\n",
              "MA_10              8.325634e+02\n",
              "WMA_10             8.293433e+02\n",
              "MOM_10             2.533848e+02\n",
              "SO_k                        NaN\n",
              "SO_10              9.967414e-01\n",
              "MACD_12_26         1.026761e+02\n",
              "MACDsign_12_26     9.396549e+01\n",
              "MACDdiff_12_26     2.372482e+01\n",
              "Acc/Dist_ROC_10             NaN\n",
              "CCI_10             1.215484e+00\n",
              "dtype: float64"
            ]
          },
          "metadata": {
            "tags": []
          },
          "execution_count": 242
        }
      ]
    },
    {
      "cell_type": "markdown",
      "metadata": {
        "id": "vfZGT9zFbes9"
      },
      "source": [
        "## **Normalizing Data**"
      ]
    },
    {
      "cell_type": "code",
      "metadata": {
        "id": "8tYyjDyjbes-",
        "outputId": "42b755c6-5021-41a6-e2ac-d24f40132ab4",
        "colab": {
          "base_uri": "https://localhost:8080/",
          "height": 340
        }
      },
      "source": [
        "data = (df_new - df_new.mean()) / (df_new.max() - df_new.min())\n",
        "data.tail()"
      ],
      "execution_count": 243,
      "outputs": [
        {
          "output_type": "execute_result",
          "data": {
            "text/html": [
              "<div>\n",
              "<style scoped>\n",
              "    .dataframe tbody tr th:only-of-type {\n",
              "        vertical-align: middle;\n",
              "    }\n",
              "\n",
              "    .dataframe tbody tr th {\n",
              "        vertical-align: top;\n",
              "    }\n",
              "\n",
              "    .dataframe thead th {\n",
              "        text-align: right;\n",
              "    }\n",
              "</style>\n",
              "<table border=\"1\" class=\"dataframe\">\n",
              "  <thead>\n",
              "    <tr style=\"text-align: right;\">\n",
              "      <th></th>\n",
              "      <th>&lt;FIRST&gt;</th>\n",
              "      <th>&lt;HIGH&gt;</th>\n",
              "      <th>&lt;LOW&gt;</th>\n",
              "      <th>&lt;CLOSE&gt;</th>\n",
              "      <th>&lt;VALUE&gt;</th>\n",
              "      <th>&lt;VOL&gt;</th>\n",
              "      <th>change_in_price</th>\n",
              "      <th>MA_10</th>\n",
              "      <th>WMA_10</th>\n",
              "      <th>MOM_10</th>\n",
              "      <th>SO_k</th>\n",
              "      <th>SO_10</th>\n",
              "      <th>MACD_12_26</th>\n",
              "      <th>MACDsign_12_26</th>\n",
              "      <th>MACDdiff_12_26</th>\n",
              "      <th>Acc/Dist_ROC_10</th>\n",
              "      <th>CCI_10</th>\n",
              "    </tr>\n",
              "    <tr>\n",
              "      <th>datetime</th>\n",
              "      <th></th>\n",
              "      <th></th>\n",
              "      <th></th>\n",
              "      <th></th>\n",
              "      <th></th>\n",
              "      <th></th>\n",
              "      <th></th>\n",
              "      <th></th>\n",
              "      <th></th>\n",
              "      <th></th>\n",
              "      <th></th>\n",
              "      <th></th>\n",
              "      <th></th>\n",
              "      <th></th>\n",
              "      <th></th>\n",
              "      <th></th>\n",
              "      <th></th>\n",
              "    </tr>\n",
              "  </thead>\n",
              "  <tbody>\n",
              "    <tr>\n",
              "      <th>2020-05-26</th>\n",
              "      <td>0.791801</td>\n",
              "      <td>0.831695</td>\n",
              "      <td>0.794320</td>\n",
              "      <td>0.869438</td>\n",
              "      <td>0.008760</td>\n",
              "      <td>-0.006863</td>\n",
              "      <td>-0.018979</td>\n",
              "      <td>0.914637</td>\n",
              "      <td>0.912654</td>\n",
              "      <td>0.106760</td>\n",
              "      <td>NaN</td>\n",
              "      <td>0.009991</td>\n",
              "      <td>0.647829</td>\n",
              "      <td>0.775222</td>\n",
              "      <td>-0.088827</td>\n",
              "      <td>NaN</td>\n",
              "      <td>-0.058506</td>\n",
              "    </tr>\n",
              "    <tr>\n",
              "      <th>2020-05-27</th>\n",
              "      <td>0.780920</td>\n",
              "      <td>0.806304</td>\n",
              "      <td>0.783446</td>\n",
              "      <td>0.811349</td>\n",
              "      <td>0.460377</td>\n",
              "      <td>0.105529</td>\n",
              "      <td>-0.248834</td>\n",
              "      <td>0.909454</td>\n",
              "      <td>0.907241</td>\n",
              "      <td>-0.106053</td>\n",
              "      <td>NaN</td>\n",
              "      <td>0.004024</td>\n",
              "      <td>0.593393</td>\n",
              "      <td>0.756702</td>\n",
              "      <td>-0.214151</td>\n",
              "      <td>NaN</td>\n",
              "      <td>-0.154338</td>\n",
              "    </tr>\n",
              "    <tr>\n",
              "      <th>2020-05-30</th>\n",
              "      <td>0.808649</td>\n",
              "      <td>0.811006</td>\n",
              "      <td>0.737381</td>\n",
              "      <td>0.790490</td>\n",
              "      <td>0.581275</td>\n",
              "      <td>0.138826</td>\n",
              "      <td>-0.090260</td>\n",
              "      <td>0.898149</td>\n",
              "      <td>0.898693</td>\n",
              "      <td>-0.222891</td>\n",
              "      <td>NaN</td>\n",
              "      <td>0.002099</td>\n",
              "      <td>0.534190</td>\n",
              "      <td>0.728286</td>\n",
              "      <td>-0.326882</td>\n",
              "      <td>NaN</td>\n",
              "      <td>-0.190174</td>\n",
              "    </tr>\n",
              "    <tr>\n",
              "      <th>2020-05-31</th>\n",
              "      <td>0.769571</td>\n",
              "      <td>0.780325</td>\n",
              "      <td>0.718323</td>\n",
              "      <td>0.750350</td>\n",
              "      <td>0.452489</td>\n",
              "      <td>0.111306</td>\n",
              "      <td>-0.172388</td>\n",
              "      <td>0.880491</td>\n",
              "      <td>0.883770</td>\n",
              "      <td>-0.344148</td>\n",
              "      <td>NaN</td>\n",
              "      <td>-0.001399</td>\n",
              "      <td>0.462998</td>\n",
              "      <td>0.689197</td>\n",
              "      <td>-0.448442</td>\n",
              "      <td>NaN</td>\n",
              "      <td>-0.266328</td>\n",
              "    </tr>\n",
              "    <tr>\n",
              "      <th>2020-06-01</th>\n",
              "      <td>0.746171</td>\n",
              "      <td>0.769276</td>\n",
              "      <td>0.727560</td>\n",
              "      <td>0.779455</td>\n",
              "      <td>0.206570</td>\n",
              "      <td>0.044273</td>\n",
              "      <td>0.122550</td>\n",
              "      <td>0.876402</td>\n",
              "      <td>0.877310</td>\n",
              "      <td>-0.085189</td>\n",
              "      <td>NaN</td>\n",
              "      <td>-0.000141</td>\n",
              "      <td>0.415296</td>\n",
              "      <td>0.646968</td>\n",
              "      <td>-0.484220</td>\n",
              "      <td>NaN</td>\n",
              "      <td>-0.195033</td>\n",
              "    </tr>\n",
              "  </tbody>\n",
              "</table>\n",
              "</div>"
            ],
            "text/plain": [
              "             <FIRST>    <HIGH>  ...  Acc/Dist_ROC_10    CCI_10\n",
              "datetime                        ...                           \n",
              "2020-05-26  0.791801  0.831695  ...              NaN -0.058506\n",
              "2020-05-27  0.780920  0.806304  ...              NaN -0.154338\n",
              "2020-05-30  0.808649  0.811006  ...              NaN -0.190174\n",
              "2020-05-31  0.769571  0.780325  ...              NaN -0.266328\n",
              "2020-06-01  0.746171  0.769276  ...              NaN -0.195033\n",
              "\n",
              "[5 rows x 17 columns]"
            ]
          },
          "metadata": {
            "tags": []
          },
          "execution_count": 243
        }
      ]
    },
    {
      "cell_type": "code",
      "metadata": {
        "id": "YcwrDXOzbetB",
        "outputId": "5c6814f6-8bcc-4ed1-c4cd-bb16f1f6391d",
        "colab": {
          "base_uri": "https://localhost:8080/",
          "height": 554
        }
      },
      "source": [
        "import seaborn as sns\n",
        "plt.figure(1 , figsize = (17 , 8))\n",
        "cor = sns.heatmap(data.corr(), annot = True)"
      ],
      "execution_count": 244,
      "outputs": [
        {
          "output_type": "display_data",
          "data": {
            "image/png": "[encoded data removed]",
            "text/plain": [
              "<Figure size 1224x576 with 2 Axes>"
            ]
          },
          "metadata": {
            "tags": [],
            "needs_background": "light"
          }
        }
      ]
    },
    {
      "cell_type": "code",
      "metadata": {
        "id": "Nw7aDwgebetG",
        "outputId": "7a40f73b-4d61-4ceb-cbaa-60a3a34486b2",
        "colab": {
          "base_uri": "https://localhost:8080/"
        }
      },
      "source": [
        "#To check null values\n",
        "data.isnull().sum()"
      ],
      "execution_count": 245,
      "outputs": [
        {
          "output_type": "execute_result",
          "data": {
            "text/plain": [
              "<FIRST>               0\n",
              "<HIGH>                0\n",
              "<LOW>                 0\n",
              "<CLOSE>               0\n",
              "<VALUE>               0\n",
              "<VOL>                 0\n",
              "change_in_price       1\n",
              "MA_10                 9\n",
              "WMA_10                9\n",
              "MOM_10               10\n",
              "SO_k               2496\n",
              "SO_10                25\n",
              "MACD_12_26           25\n",
              "MACDsign_12_26       33\n",
              "MACDdiff_12_26       33\n",
              "Acc/Dist_ROC_10    2496\n",
              "CCI_10                9\n",
              "dtype: int64"
            ]
          },
          "metadata": {
            "tags": []
          },
          "execution_count": 245
        }
      ]
    },
    {
      "cell_type": "code",
      "metadata": {
        "id": "QN8FItuAbetJ"
      },
      "source": [
        "#Removing the null values\n",
        "data = data.fillna(data.mean())"
      ],
      "execution_count": 246,
      "outputs": []
    },
    {
      "cell_type": "code",
      "metadata": {
        "id": "shbMSgnWbetN"
      },
      "source": [
        "data = data.dropna(how=\"all\",axis=1)"
      ],
      "execution_count": 247,
      "outputs": []
    },
    {
      "cell_type": "code",
      "metadata": {
        "id": "hKHZhcd8betR",
        "outputId": "cff4948c-4cb2-418e-d56d-50ba29338103",
        "colab": {
          "base_uri": "https://localhost:8080/",
          "height": 235
        }
      },
      "source": [
        "##Defining the features and labels\n",
        "X = data.iloc[:,7:]\n",
        "X.tail()"
      ],
      "execution_count": 248,
      "outputs": [
        {
          "output_type": "execute_result",
          "data": {
            "text/html": [
              "<div>\n",
              "<style scoped>\n",
              "    .dataframe tbody tr th:only-of-type {\n",
              "        vertical-align: middle;\n",
              "    }\n",
              "\n",
              "    .dataframe tbody tr th {\n",
              "        vertical-align: top;\n",
              "    }\n",
              "\n",
              "    .dataframe thead th {\n",
              "        text-align: right;\n",
              "    }\n",
              "</style>\n",
              "<table border=\"1\" class=\"dataframe\">\n",
              "  <thead>\n",
              "    <tr style=\"text-align: right;\">\n",
              "      <th></th>\n",
              "      <th>MA_10</th>\n",
              "      <th>WMA_10</th>\n",
              "      <th>MOM_10</th>\n",
              "      <th>SO_10</th>\n",
              "      <th>MACD_12_26</th>\n",
              "      <th>MACDsign_12_26</th>\n",
              "      <th>MACDdiff_12_26</th>\n",
              "      <th>CCI_10</th>\n",
              "    </tr>\n",
              "    <tr>\n",
              "      <th>datetime</th>\n",
              "      <th></th>\n",
              "      <th></th>\n",
              "      <th></th>\n",
              "      <th></th>\n",
              "      <th></th>\n",
              "      <th></th>\n",
              "      <th></th>\n",
              "      <th></th>\n",
              "    </tr>\n",
              "  </thead>\n",
              "  <tbody>\n",
              "    <tr>\n",
              "      <th>2020-05-26</th>\n",
              "      <td>0.914637</td>\n",
              "      <td>0.912654</td>\n",
              "      <td>0.106760</td>\n",
              "      <td>0.009991</td>\n",
              "      <td>0.647829</td>\n",
              "      <td>0.775222</td>\n",
              "      <td>-0.088827</td>\n",
              "      <td>-0.058506</td>\n",
              "    </tr>\n",
              "    <tr>\n",
              "      <th>2020-05-27</th>\n",
              "      <td>0.909454</td>\n",
              "      <td>0.907241</td>\n",
              "      <td>-0.106053</td>\n",
              "      <td>0.004024</td>\n",
              "      <td>0.593393</td>\n",
              "      <td>0.756702</td>\n",
              "      <td>-0.214151</td>\n",
              "      <td>-0.154338</td>\n",
              "    </tr>\n",
              "    <tr>\n",
              "      <th>2020-05-30</th>\n",
              "      <td>0.898149</td>\n",
              "      <td>0.898693</td>\n",
              "      <td>-0.222891</td>\n",
              "      <td>0.002099</td>\n",
              "      <td>0.534190</td>\n",
              "      <td>0.728286</td>\n",
              "      <td>-0.326882</td>\n",
              "      <td>-0.190174</td>\n",
              "    </tr>\n",
              "    <tr>\n",
              "      <th>2020-05-31</th>\n",
              "      <td>0.880491</td>\n",
              "      <td>0.883770</td>\n",
              "      <td>-0.344148</td>\n",
              "      <td>-0.001399</td>\n",
              "      <td>0.462998</td>\n",
              "      <td>0.689197</td>\n",
              "      <td>-0.448442</td>\n",
              "      <td>-0.266328</td>\n",
              "    </tr>\n",
              "    <tr>\n",
              "      <th>2020-06-01</th>\n",
              "      <td>0.876402</td>\n",
              "      <td>0.877310</td>\n",
              "      <td>-0.085189</td>\n",
              "      <td>-0.000141</td>\n",
              "      <td>0.415296</td>\n",
              "      <td>0.646968</td>\n",
              "      <td>-0.484220</td>\n",
              "      <td>-0.195033</td>\n",
              "    </tr>\n",
              "  </tbody>\n",
              "</table>\n",
              "</div>"
            ],
            "text/plain": [
              "               MA_10    WMA_10  ...  MACDdiff_12_26    CCI_10\n",
              "datetime                        ...                          \n",
              "2020-05-26  0.914637  0.912654  ...       -0.088827 -0.058506\n",
              "2020-05-27  0.909454  0.907241  ...       -0.214151 -0.154338\n",
              "2020-05-30  0.898149  0.898693  ...       -0.326882 -0.190174\n",
              "2020-05-31  0.880491  0.883770  ...       -0.448442 -0.266328\n",
              "2020-06-01  0.876402  0.877310  ...       -0.484220 -0.195033\n",
              "\n",
              "[5 rows x 8 columns]"
            ]
          },
          "metadata": {
            "tags": []
          },
          "execution_count": 248
        }
      ]
    },
    {
      "cell_type": "code",
      "metadata": {
        "id": "-RGklbtnbetV",
        "outputId": "6ff9076b-3850-4ea2-8804-bdd0d785d53f",
        "colab": {
          "base_uri": "https://localhost:8080/"
        }
      },
      "source": [
        "Y = data.iloc[:,3]\n",
        "Y.tail()"
      ],
      "execution_count": 249,
      "outputs": [
        {
          "output_type": "execute_result",
          "data": {
            "text/plain": [
              "datetime\n",
              "2020-05-26    0.869438\n",
              "2020-05-27    0.811349\n",
              "2020-05-30    0.790490\n",
              "2020-05-31    0.750350\n",
              "2020-06-01    0.779455\n",
              "Name: <CLOSE>, dtype: float64"
            ]
          },
          "metadata": {
            "tags": []
          },
          "execution_count": 249
        }
      ]
    },
    {
      "cell_type": "code",
      "metadata": {
        "id": "1Tn80CwmbetX",
        "outputId": "16bd7c39-93cd-4950-bf1c-7c6a586632c0",
        "colab": {
          "base_uri": "https://localhost:8080/"
        }
      },
      "source": [
        "X.isnull().sum()"
      ],
      "execution_count": 250,
      "outputs": [
        {
          "output_type": "execute_result",
          "data": {
            "text/plain": [
              "MA_10             0\n",
              "WMA_10            0\n",
              "MOM_10            0\n",
              "SO_10             0\n",
              "MACD_12_26        0\n",
              "MACDsign_12_26    0\n",
              "MACDdiff_12_26    0\n",
              "CCI_10            0\n",
              "dtype: int64"
            ]
          },
          "metadata": {
            "tags": []
          },
          "execution_count": 250
        }
      ]
    },
    {
      "cell_type": "markdown",
      "metadata": {
        "id": "IRkULxA7sCFy"
      },
      "source": [
        "## Visualising the technical indicators i.e. our features"
      ]
    },
    {
      "cell_type": "code",
      "metadata": {
        "id": "0UP3raQjr7Ty",
        "outputId": "677f17cf-8101-4122-8202-12370b74edcd",
        "colab": {
          "base_uri": "https://localhost:8080/",
          "height": 887
        }
      },
      "source": [
        "X.hist(bins=50,figsize=(20,15))"
      ],
      "execution_count": 251,
      "outputs": [
        {
          "output_type": "execute_result",
          "data": {
            "text/plain": [
              "array([[<matplotlib.axes._subplots.AxesSubplot object at 0x7f972a901940>,\n",
              "        <matplotlib.axes._subplots.AxesSubplot object at 0x7f972a6d42b0>,\n",
              "        <matplotlib.axes._subplots.AxesSubplot object at 0x7f972a69d518>],\n",
              "       [<matplotlib.axes._subplots.AxesSubplot object at 0x7f972a6cd7b8>,\n",
              "        <matplotlib.axes._subplots.AxesSubplot object at 0x7f972a681b38>,\n",
              "        <matplotlib.axes._subplots.AxesSubplot object at 0x7f972a632eb8>],\n",
              "       [<matplotlib.axes._subplots.AxesSubplot object at 0x7f972a5f1278>,\n",
              "        <matplotlib.axes._subplots.AxesSubplot object at 0x7f972a5a35c0>,\n",
              "        <matplotlib.axes._subplots.AxesSubplot object at 0x7f972a5a3630>]],\n",
              "      dtype=object)"
            ]
          },
          "metadata": {
            "tags": []
          },
          "execution_count": 251
        },
        {
          "output_type": "display_data",
          "data": {
            "image/png": "[encoded data removed]",
            "text/plain": [
              "<Figure size 1440x1080 with 9 Axes>"
            ]
          },
          "metadata": {
            "tags": [],
            "needs_background": "light"
          }
        }
      ]
    },
    {
      "cell_type": "code",
      "metadata": {
        "id": "QjK-zRQgbeta"
      },
      "source": [
        "#Splitting data into training and test set\n",
        "from sklearn.model_selection import train_test_split\n",
        "x_train,x_test,y_train,y_test = train_test_split(X,Y,test_size = 0.1,random_state = 0)"
      ],
      "execution_count": 252,
      "outputs": []
    },
    {
      "cell_type": "markdown",
      "metadata": {
        "id": "bdSjkPr_betc"
      },
      "source": [
        "# Predicting using Decision Trees"
      ]
    },
    {
      "cell_type": "code",
      "metadata": {
        "id": "7RX-ujiabetd",
        "outputId": "752df1b6-d67f-4809-c085-8aeb7ca793ed",
        "colab": {
          "base_uri": "https://localhost:8080/"
        }
      },
      "source": [
        "#Decision Tree\n",
        "from sklearn.tree import DecisionTreeRegressor\n",
        "Regressor = DecisionTreeRegressor(max_depth=10)\n",
        "Regressor.fit(x_train,y_train)"
      ],
      "execution_count": 253,
      "outputs": [
        {
          "output_type": "execute_result",
          "data": {
            "text/plain": [
              "DecisionTreeRegressor(ccp_alpha=0.0, criterion='mse', max_depth=10,\n",
              "                      max_features=None, max_leaf_nodes=None,\n",
              "                      min_impurity_decrease=0.0, min_impurity_split=None,\n",
              "                      min_samples_leaf=1, min_samples_split=2,\n",
              "                      min_weight_fraction_leaf=0.0, presort='deprecated',\n",
              "                      random_state=None, splitter='best')"
            ]
          },
          "metadata": {
            "tags": []
          },
          "execution_count": 253
        }
      ]
    },
    {
      "cell_type": "markdown",
      "metadata": {
        "id": "tmAA0_rPbetl"
      },
      "source": [
        "## Evaluating the Model"
      ]
    },
    {
      "cell_type": "code",
      "metadata": {
        "id": "pCwX7Hwpbetm",
        "outputId": "8c7decf1-e11d-486a-b096-ba739f224111",
        "colab": {
          "base_uri": "https://localhost:8080/"
        }
      },
      "source": [
        "y_pred = Regressor.predict(x_test)\n",
        "from sklearn.metrics import r2_score,mean_squared_error\n",
        "mse = mean_squared_error(y_test,y_pred)\n",
        "rmse = np.sqrt(mse)\n",
        "rmse"
      ],
      "execution_count": 254,
      "outputs": [
        {
          "output_type": "execute_result",
          "data": {
            "text/plain": [
              "0.012402581850193226"
            ]
          },
          "metadata": {
            "tags": []
          },
          "execution_count": 254
        }
      ]
    },
    {
      "cell_type": "markdown",
      "metadata": {
        "id": "CiWT_doibeto"
      },
      "source": [
        "# Using Bagging Regressor"
      ]
    },
    {
      "cell_type": "code",
      "metadata": {
        "id": "6KWr75vGbetp"
      },
      "source": [
        "#import necessary libraries\n",
        "from sklearn.ensemble import BaggingRegressor"
      ],
      "execution_count": 255,
      "outputs": []
    },
    {
      "cell_type": "code",
      "metadata": {
        "id": "6m5OsIUsbetr",
        "outputId": "1e6fea6e-caa8-4f42-98db-57d2afab86ff",
        "colab": {
          "base_uri": "https://localhost:8080/"
        }
      },
      "source": [
        "regr = BaggingRegressor(base_estimator=Regressor,\n",
        "n_estimators=50, random_state=0)\n",
        "regr.fit(x_train,y_train)\n",
        "    "
      ],
      "execution_count": 256,
      "outputs": [
        {
          "output_type": "execute_result",
          "data": {
            "text/plain": [
              "BaggingRegressor(base_estimator=DecisionTreeRegressor(ccp_alpha=0.0,\n",
              "                                                      criterion='mse',\n",
              "                                                      max_depth=10,\n",
              "                                                      max_features=None,\n",
              "                                                      max_leaf_nodes=None,\n",
              "                                                      min_impurity_decrease=0.0,\n",
              "                                                      min_impurity_split=None,\n",
              "                                                      min_samples_leaf=1,\n",
              "                                                      min_samples_split=2,\n",
              "                                                      min_weight_fraction_leaf=0.0,\n",
              "                                                      presort='deprecated',\n",
              "                                                      random_state=None,\n",
              "                                                      splitter='best'),\n",
              "                 bootstrap=True, bootstrap_features=False, max_features=1.0,\n",
              "                 max_samples=1.0, n_estimators=50, n_jobs=None, oob_score=False,\n",
              "                 random_state=0, verbose=0, warm_start=False)"
            ]
          },
          "metadata": {
            "tags": []
          },
          "execution_count": 256
        }
      ]
    },
    {
      "cell_type": "markdown",
      "metadata": {
        "id": "KvdNXLTXbetw"
      },
      "source": [
        "## Evaluating Bagging Regressor"
      ]
    },
    {
      "cell_type": "code",
      "metadata": {
        "id": "Af_3vxHkbetx"
      },
      "source": [
        "y_pred_br = regr.predict(x_test)"
      ],
      "execution_count": 257,
      "outputs": []
    },
    {
      "cell_type": "code",
      "metadata": {
        "id": "PXoR2Bxpbetz",
        "outputId": "e649df75-2848-4bf7-d397-0a3361640597",
        "colab": {
          "base_uri": "https://localhost:8080/"
        }
      },
      "source": [
        "from sklearn.metrics import r2_score,mean_squared_error\n",
        "mse = mean_squared_error(y_test,y_pred_br)\n",
        "rmse = np.sqrt(mse)\n",
        "rmse"
      ],
      "execution_count": 258,
      "outputs": [
        {
          "output_type": "execute_result",
          "data": {
            "text/plain": [
              "0.006677556330669477"
            ]
          },
          "metadata": {
            "tags": []
          },
          "execution_count": 258
        }
      ]
    },
    {
      "cell_type": "markdown",
      "metadata": {
        "id": "phoe90D7bet1"
      },
      "source": [
        "# Using Random Forest"
      ]
    },
    {
      "cell_type": "code",
      "metadata": {
        "id": "cM6Op45nbet2",
        "outputId": "f8d266a5-21f2-4576-a272-a245f550df99",
        "colab": {
          "base_uri": "https://localhost:8080/"
        }
      },
      "source": [
        "#importing the libraries\n",
        "from sklearn.ensemble import RandomForestRegressor\n",
        "rf = RandomForestRegressor(n_estimators=50,max_depth=10,random_state=1)\n",
        "rf.fit(x_train,y_train)"
      ],
      "execution_count": 259,
      "outputs": [
        {
          "output_type": "execute_result",
          "data": {
            "text/plain": [
              "RandomForestRegressor(bootstrap=True, ccp_alpha=0.0, criterion='mse',\n",
              "                      max_depth=10, max_features='auto', max_leaf_nodes=None,\n",
              "                      max_samples=None, min_impurity_decrease=0.0,\n",
              "                      min_impurity_split=None, min_samples_leaf=1,\n",
              "                      min_samples_split=2, min_weight_fraction_leaf=0.0,\n",
              "                      n_estimators=50, n_jobs=None, oob_score=False,\n",
              "                      random_state=1, verbose=0, warm_start=False)"
            ]
          },
          "metadata": {
            "tags": []
          },
          "execution_count": 259
        }
      ]
    },
    {
      "cell_type": "markdown",
      "metadata": {
        "id": "j4GVbyhAbet9"
      },
      "source": [
        "## Evaluating Random Forest"
      ]
    },
    {
      "cell_type": "code",
      "metadata": {
        "id": "Rp1ihgYjbet-"
      },
      "source": [
        "y_pred_rf = rf.predict(x_test)\n"
      ],
      "execution_count": 260,
      "outputs": []
    },
    {
      "cell_type": "code",
      "metadata": {
        "id": "J6mI-BUbbeuA",
        "outputId": "fd587b2f-a6d8-41f9-ed21-814934d3fbe7",
        "colab": {
          "base_uri": "https://localhost:8080/"
        }
      },
      "source": [
        "from sklearn.metrics import r2_score,mean_squared_error\n",
        "mse = mean_squared_error(y_test,y_pred_rf)\n",
        "rmse = np.sqrt(mse)\n",
        "rmse"
      ],
      "execution_count": 261,
      "outputs": [
        {
          "output_type": "execute_result",
          "data": {
            "text/plain": [
              "0.007150005327828529"
            ]
          },
          "metadata": {
            "tags": []
          },
          "execution_count": 261
        }
      ]
    },
    {
      "cell_type": "markdown",
      "metadata": {
        "id": "6e1uCe8lbeuD"
      },
      "source": [
        " ## Using AdaBoost Regressor"
      ]
    },
    {
      "cell_type": "code",
      "metadata": {
        "id": "uX6q6_kGbeuD",
        "outputId": "a2cf33d6-e274-4bc6-8462-cf35c65cc7fd",
        "colab": {
          "base_uri": "https://localhost:8080/"
        }
      },
      "source": [
        "#importing necessary libraries\n",
        "from sklearn.ensemble import AdaBoostRegressor\n",
        "adb_reg = AdaBoostRegressor(base_estimator=Regressor,n_estimators=100,learning_rate=0.1)\n",
        "adb_reg.fit(x_train,y_train)\n",
        "\n"
      ],
      "execution_count": 262,
      "outputs": [
        {
          "output_type": "execute_result",
          "data": {
            "text/plain": [
              "AdaBoostRegressor(base_estimator=DecisionTreeRegressor(ccp_alpha=0.0,\n",
              "                                                       criterion='mse',\n",
              "                                                       max_depth=10,\n",
              "                                                       max_features=None,\n",
              "                                                       max_leaf_nodes=None,\n",
              "                                                       min_impurity_decrease=0.0,\n",
              "                                                       min_impurity_split=None,\n",
              "                                                       min_samples_leaf=1,\n",
              "                                                       min_samples_split=2,\n",
              "                                                       min_weight_fraction_leaf=0.0,\n",
              "                                                       presort='deprecated',\n",
              "                                                       random_state=None,\n",
              "                                                       splitter='best'),\n",
              "                  learning_rate=0.1, loss='linear', n_estimators=100,\n",
              "                  random_state=None)"
            ]
          },
          "metadata": {
            "tags": []
          },
          "execution_count": 262
        }
      ]
    },
    {
      "cell_type": "markdown",
      "metadata": {
        "id": "pTiNntHcbeuH"
      },
      "source": [
        "## Evaluating AdaBoost Regressor"
      ]
    },
    {
      "cell_type": "code",
      "metadata": {
        "id": "pGnz1YOibeuI",
        "outputId": "0e835259-c1a3-4f85-aba1-91e6322c9357",
        "colab": {
          "base_uri": "https://localhost:8080/"
        }
      },
      "source": [
        "y_pred_adb = adb_reg.predict(x_test)\n",
        "from sklearn.metrics import r2_score,mean_squared_error\n",
        "mse = mean_squared_error(y_test,y_pred_adb)\n",
        "rmse = np.sqrt(mse)\n",
        "rmse"
      ],
      "execution_count": 263,
      "outputs": [
        {
          "output_type": "execute_result",
          "data": {
            "text/plain": [
              "0.006720856221108317"
            ]
          },
          "metadata": {
            "tags": []
          },
          "execution_count": 263
        }
      ]
    },
    {
      "cell_type": "markdown",
      "metadata": {
        "id": "8Q-98ibGbeuJ"
      },
      "source": [
        "## Using Gradient Boosting"
      ]
    },
    {
      "cell_type": "code",
      "metadata": {
        "id": "4StZOXBBbeuK",
        "outputId": "80ac57a4-3967-44ec-f438-35cca4c837a3",
        "colab": {
          "base_uri": "https://localhost:8080/"
        }
      },
      "source": [
        "#importing necessary libraries\n",
        "from sklearn.ensemble import GradientBoostingRegressor\n",
        "gdbt = GradientBoostingRegressor(max_depth=10,learning_rate=0.1,n_estimators=50,random_state=1)\n",
        "gdbt.fit(x_train,y_train)"
      ],
      "execution_count": 264,
      "outputs": [
        {
          "output_type": "execute_result",
          "data": {
            "text/plain": [
              "GradientBoostingRegressor(alpha=0.9, ccp_alpha=0.0, criterion='friedman_mse',\n",
              "                          init=None, learning_rate=0.1, loss='ls', max_depth=10,\n",
              "                          max_features=None, max_leaf_nodes=None,\n",
              "                          min_impurity_decrease=0.0, min_impurity_split=None,\n",
              "                          min_samples_leaf=1, min_samples_split=2,\n",
              "                          min_weight_fraction_leaf=0.0, n_estimators=50,\n",
              "                          n_iter_no_change=None, presort='deprecated',\n",
              "                          random_state=1, subsample=1.0, tol=0.0001,\n",
              "                          validation_fraction=0.1, verbose=0, warm_start=False)"
            ]
          },
          "metadata": {
            "tags": []
          },
          "execution_count": 264
        }
      ]
    },
    {
      "cell_type": "markdown",
      "metadata": {
        "id": "fhjqy5udbeuP"
      },
      "source": [
        "## Evaluating gradient boosting"
      ]
    },
    {
      "cell_type": "code",
      "metadata": {
        "id": "CpcZr0-EbeuQ",
        "outputId": "973d734d-34c4-47a2-9207-5870689e5135",
        "colab": {
          "base_uri": "https://localhost:8080/"
        }
      },
      "source": [
        "y_pred_gdbt = gdbt.predict(x_test)\n",
        "from sklearn.metrics import r2_score,mean_squared_error\n",
        "mse = mean_squared_error(y_test,y_pred_gdbt)\n",
        "rmse = np.sqrt(mse)\n",
        "rmse"
      ],
      "execution_count": 265,
      "outputs": [
        {
          "output_type": "execute_result",
          "data": {
            "text/plain": [
              "0.008869627229871663"
            ]
          },
          "metadata": {
            "tags": []
          },
          "execution_count": 265
        }
      ]
    },
    {
      "cell_type": "markdown",
      "metadata": {
        "id": "Pnedc35lbeuS"
      },
      "source": [
        "## Using XGBoost"
      ]
    },
    {
      "cell_type": "code",
      "metadata": {
        "id": "clUQp-jMbeuT"
      },
      "source": [
        "import xgboost as xgb\n",
        "from xgboost import XGBRegressor\n",
        "from sklearn.metrics import mean_squared_error"
      ],
      "execution_count": 266,
      "outputs": []
    },
    {
      "cell_type": "markdown",
      "metadata": {
        "id": "GdaVicrEb78c"
      },
      "source": [
        "##Using Deep Learning Models"
      ]
    },
    {
      "cell_type": "code",
      "metadata": {
        "id": "zNH4J9l5cAY6",
        "outputId": "6cf7d368-14b3-4d1e-94f8-8572ffde5d85",
        "colab": {
          "base_uri": "https://localhost:8080/"
        }
      },
      "source": [
        "from google.colab import drive\n",
        "drive.mount('/content/drive')"
      ],
      "execution_count": 267,
      "outputs": [
        {
          "output_type": "stream",
          "text": [
            "Drive already mounted at /content/drive; to attempt to forcibly remount, call drive.mount(\"/content/drive\", force_remount=True).\n"
          ],
          "name": "stdout"
        }
      ]
    },
    {
      "cell_type": "markdown",
      "metadata": {
        "id": "iHWdf4aa2XDq"
      },
      "source": [
        "### Training and testing set"
      ]
    },
    {
      "cell_type": "code",
      "metadata": {
        "id": "z3Eyzb3Rlmir",
        "outputId": "663ab0c2-825c-48ad-9459-34b72cd03447",
        "colab": {
          "base_uri": "https://localhost:8080/"
        }
      },
      "source": [
        "from sklearn.model_selection import train_test_split\n",
        "x_train,x_test,y_train,y_test = train_test_split(X,Y,test_size = 0.1,random_state = 0)\n",
        "print(x_train.shape, x_test.shape, y_train.shape, y_test.shape)"
      ],
      "execution_count": 268,
      "outputs": [
        {
          "output_type": "stream",
          "text": [
            "(2246, 8) (250, 8) (2246,) (250,)\n"
          ],
          "name": "stdout"
        }
      ]
    },
    {
      "cell_type": "code",
      "metadata": {
        "id": "F3gqK-K0jGk9"
      },
      "source": [
        "from sklearn.preprocessing import MinMaxScaler\n",
        "sc = MinMaxScaler(feature_range = (0, 1))\n",
        "X_train_scaled = sc.fit_transform(x_train)"
      ],
      "execution_count": 269,
      "outputs": []
    },
    {
      "cell_type": "code",
      "metadata": {
        "id": "YKfTIM7Fjq6Y"
      },
      "source": [
        "X_train, Y_train = np.array(x_train), np.array(y_train)\n",
        "X_train = np.reshape(X_train, (X_train.shape[0], X_train.shape[1], 1))"
      ],
      "execution_count": 270,
      "outputs": []
    },
    {
      "cell_type": "markdown",
      "metadata": {
        "id": "XbP1VNrmBEdH"
      },
      "source": [
        "## Using ANN"
      ]
    },
    {
      "cell_type": "markdown",
      "metadata": {
        "id": "BvTCIFZ6BJgy"
      },
      "source": [
        "### Importing Libraries"
      ]
    },
    {
      "cell_type": "code",
      "metadata": {
        "id": "Y5R1YEo_BMOc"
      },
      "source": [
        "import tensorflow as tf \n",
        "import pandas as pd \n",
        "import numpy as np \n",
        "import matplotlib.pyplot as plt \n",
        "import keras \n",
        "from keras.models import Sequential \n",
        "from keras.layers import Dense \n",
        "from sklearn.metrics import confusion_matrix "
      ],
      "execution_count": 271,
      "outputs": []
    },
    {
      "cell_type": "markdown",
      "metadata": {
        "id": "2Z2AxsQ1BfHR"
      },
      "source": [
        "### Building the ANN Model\n"
      ]
    },
    {
      "cell_type": "code",
      "metadata": {
        "id": "LAmG88bQBjbd"
      },
      "source": [
        "classifier = Sequential() \n",
        "classifier.add(Dense(units=50,activation = \"relu\",input_shape = (X_train.shape[1], 1))) \n",
        "classifier.add(Dense(units=50,activation = \"relu\")) \n",
        "classifier.add(Dense(activation = \"sigmoid\", units = 1)) \n",
        "classifier.compile(optimizer = 'adam' , loss = 'mean_squared_error' ) "
      ],
      "execution_count": 272,
      "outputs": []
    },
    {
      "cell_type": "code",
      "metadata": {
        "id": "MM6hH_Q3BGvK",
        "outputId": "bd5e1f14-2f77-48dc-8176-591e559933cd",
        "colab": {
          "base_uri": "https://localhost:8080/"
        }
      },
      "source": [
        "classifier.fit(X_train, Y_train, epochs = 15, batch_size = 32)"
      ],
      "execution_count": 273,
      "outputs": [
        {
          "output_type": "stream",
          "text": [
            "Epoch 1/15\n",
            "71/71 [==============================] - 0s 1ms/step - loss: 0.1535\n",
            "Epoch 2/15\n",
            "71/71 [==============================] - 0s 1ms/step - loss: 0.0165\n",
            "Epoch 3/15\n",
            "71/71 [==============================] - 0s 1ms/step - loss: 0.0111\n",
            "Epoch 4/15\n",
            "71/71 [==============================] - 0s 2ms/step - loss: 0.0101\n",
            "Epoch 5/15\n",
            "71/71 [==============================] - 0s 1ms/step - loss: 0.0086\n",
            "Epoch 6/15\n",
            "71/71 [==============================] - 0s 1ms/step - loss: 0.0082\n",
            "Epoch 7/15\n",
            "71/71 [==============================] - 0s 1ms/step - loss: 0.0079\n",
            "Epoch 8/15\n",
            "71/71 [==============================] - 0s 1ms/step - loss: 0.0078\n",
            "Epoch 9/15\n",
            "71/71 [==============================] - 0s 1ms/step - loss: 0.0078\n",
            "Epoch 10/15\n",
            "71/71 [==============================] - 0s 1ms/step - loss: 0.0078\n",
            "Epoch 11/15\n",
            "71/71 [==============================] - 0s 1ms/step - loss: 0.0077\n",
            "Epoch 12/15\n",
            "71/71 [==============================] - 0s 1ms/step - loss: 0.0077\n",
            "Epoch 13/15\n",
            "71/71 [==============================] - 0s 1ms/step - loss: 0.0077\n",
            "Epoch 14/15\n",
            "71/71 [==============================] - 0s 1ms/step - loss: 0.0077\n",
            "Epoch 15/15\n",
            "71/71 [==============================] - 0s 1ms/step - loss: 0.0077\n"
          ],
          "name": "stdout"
        },
        {
          "output_type": "execute_result",
          "data": {
            "text/plain": [
              "<tensorflow.python.keras.callbacks.History at 0x7f972ab68358>"
            ]
          },
          "metadata": {
            "tags": []
          },
          "execution_count": 273
        }
      ]
    },
    {
      "cell_type": "code",
      "metadata": {
        "id": "6PwBrITMG5wB"
      },
      "source": [
        "X_test = np.array(x_test)\n",
        "X_test = np.reshape(X_test, (X_test.shape[0],X_test.shape[1], 1))\n",
        "predicted_stock_price = classifier.predict(X_test)"
      ],
      "execution_count": 274,
      "outputs": []
    },
    {
      "cell_type": "code",
      "metadata": {
        "id": "6pshVd1NG_LW"
      },
      "source": [
        "real_stock_price = np.asarray(y_test)\n",
        "# real_stock_price=real_stock_price.reshape(1167,1)"
      ],
      "execution_count": 275,
      "outputs": []
    },
    {
      "cell_type": "code",
      "metadata": {
        "id": "McQ0BuP-HD-w",
        "outputId": "3373b03d-c95a-4af3-d90e-b3fc54fcf3a2",
        "colab": {
          "base_uri": "https://localhost:8080/"
        }
      },
      "source": [
        "predicted_stock_price"
      ],
      "execution_count": 276,
      "outputs": [
        {
          "output_type": "execute_result",
          "data": {
            "text/plain": [
              "array([[[0.03578991],\n",
              "        [0.04023281],\n",
              "        [0.01399603],\n",
              "        ...,\n",
              "        [0.00287214],\n",
              "        [0.02399677],\n",
              "        [0.17018104]],\n",
              "\n",
              "       [[0.00272536],\n",
              "        [0.00270769],\n",
              "        [0.00510222],\n",
              "        ...,\n",
              "        [0.00417534],\n",
              "        [0.00497469],\n",
              "        [0.26452452]],\n",
              "\n",
              "       [[0.01887557],\n",
              "        [0.01401004],\n",
              "        [0.00073868],\n",
              "        ...,\n",
              "        [0.0020791 ],\n",
              "        [0.00052127],\n",
              "        [0.00110954]],\n",
              "\n",
              "       ...,\n",
              "\n",
              "       [[0.0031234 ],\n",
              "        [0.00310484],\n",
              "        [0.00460911],\n",
              "        ...,\n",
              "        [0.00396943],\n",
              "        [0.00489435],\n",
              "        [0.00071985]],\n",
              "\n",
              "       [[0.0033201 ],\n",
              "        [0.00326911],\n",
              "        [0.00578317],\n",
              "        ...,\n",
              "        [0.00380293],\n",
              "        [0.00664634],\n",
              "        [0.05830723]],\n",
              "\n",
              "       [[0.00315264],\n",
              "        [0.00306624],\n",
              "        [0.00316933],\n",
              "        ...,\n",
              "        [0.00466415],\n",
              "        [0.00304833],\n",
              "        [0.00057846]]], dtype=float32)"
            ]
          },
          "metadata": {
            "tags": []
          },
          "execution_count": 276
        }
      ]
    },
    {
      "cell_type": "code",
      "metadata": {
        "id": "uJSsKEm9HF1A",
        "outputId": "bf455f6c-a8cc-497c-91c8-4de4d8f42ac6",
        "colab": {
          "base_uri": "https://localhost:8080/"
        }
      },
      "source": [
        "real_stock_price"
      ],
      "execution_count": 277,
      "outputs": [
        {
          "output_type": "execute_result",
          "data": {
            "text/plain": [
              "array([ 0.16655147, -0.05355525,  0.02042001,  0.00768656, -0.02978615,\n",
              "        0.04625072,  0.04612945, -0.04688535, -0.07926468, -0.02020575,\n",
              "        0.02466449,  0.01860095, -0.0245715 ,  0.00319954,  0.13065528,\n",
              "       -0.04239832, -0.03681986, -0.03815384, -0.0445812 , -0.03136267,\n",
              "        0.25883864, -0.00177257,  0.16582384,  0.11161574, -0.03027123,\n",
              "       -0.0596188 , -0.03196903, -0.03924528, -0.05779973, -0.04797679,\n",
              "       -0.02602675, -0.05282762,  0.04358276, -0.06119532,  0.03958082,\n",
              "       -0.04445993, -0.03863893, -0.04106434, -0.0454301 , -0.0320903 ,\n",
              "       -0.02384387, -0.01741652,  0.18195288, -0.04591518, -0.04021545,\n",
              "        0.13077655, -0.0483406 , -0.05440415, -0.04421739, -0.03306046,\n",
              "       -0.02639056, -0.04009418, -0.04591518,  0.30285998,  0.00283573,\n",
              "        0.02042001, -0.02311625,  0.1009439 , -0.07841579, -0.02105464,\n",
              "        0.17043214, -0.03342428, -0.00116621, -0.03269665, -0.04409612,\n",
              "       -0.01596126, -0.06677378, -0.02445023, -0.08132629, -0.04931077,\n",
              "        0.10955414, -0.02602675, -0.04070053, -0.03754749, -0.07841579,\n",
              "       -0.0320903 ,  0.02781754, -0.05028093, -0.02105464,  0.01484155,\n",
              "        0.10712872,  0.17443408, -0.06034642,  0.03703413, -0.02990742,\n",
              "       -0.02117591, -0.04409612, -0.04567264, -0.05852736, -0.05452542,\n",
              "       -0.03075632, -0.0483406 , -0.05234254, -0.03560715,  0.14496525,\n",
              "       -0.03172648, -0.06022515, -0.0454301 , -0.02978615,  0.07535574,\n",
              "        0.10652236, -0.02590548, -0.03827511, -0.02760327,  0.91515685,\n",
              "        0.00611004,  0.12980638, -0.0437323 , -0.04470247, -0.0303925 ,\n",
              "       -0.057921  , -0.0303925 ,  0.01908603, -0.03051377, -0.04688535,\n",
              "       -0.03973036, -0.0045618 , -0.08047739, -0.01026153, -0.05028093,\n",
              "       -0.027482  , -0.02348006, -0.04239832, -0.04688535,  0.14363127,\n",
              "        0.02454322,  0.41261016, -0.04943204, -0.04470247, -0.04445993,\n",
              "        0.76635744,  0.00841419,  0.01459901, -0.04567264, -0.01474856,\n",
              "        0.14763321, -0.07065445, -0.04591518,  0.03460871, -0.06798649,\n",
              "       -0.02942234,  0.26672125, -0.0350008 ,  0.03072804, -0.02881598,\n",
              "       -0.07113953, -0.00104494,  0.05789273, -0.04931077, -0.05246381,\n",
              "        0.01193105, -0.04409612, -0.07865833,  0.02114764, -0.03306046,\n",
              "        0.70596452, -0.0474917 ,  0.91685465, -0.04300468, -0.03306046,\n",
              "       -0.04797679, -0.03221157, -0.05525304, -0.03136267, -0.08266027,\n",
              "        0.00222937, -0.02930107, -0.04130689, -0.04348976,  0.18013381,\n",
              "        0.01435647, -0.05367652, -0.03463699, -0.0254204 , -0.03366682,\n",
              "       -0.05573813,  0.13696136,  0.04285513,  0.01011198, -0.04445993,\n",
              "        0.11610277,  0.02927279, -0.04567264,  0.14945227, -0.02954361,\n",
              "       -0.07671799, -0.04239832, -0.02214608, -0.04094307, -0.03463699,\n",
              "       -0.0483406 , -0.05719338, -0.05731465, -0.06022515, -0.03330301,\n",
              "        0.08627012, -0.04239832,  0.01447774, -0.03245411, -0.05901244,\n",
              "       -0.04567264, -0.03075632,  0.17782966,  0.06237975, -0.06265057,\n",
              "        0.03412363,  0.00986944, -0.04555137,  0.11974089,  0.13550611,\n",
              "       -0.04676408, -0.0358497 , -0.03330301, -0.04130689, -0.04809806,\n",
              "       -0.02517785, -0.01377839, -0.03403063, -0.07417131,  0.12738096,\n",
              "       -0.07574783, -0.05428287, -0.02893725,  0.0296366 , -0.04664281,\n",
              "       -0.04640027,  0.16048792, -0.07405003,  0.01981366, -0.06604615,\n",
              "       -0.00771484, -0.04045799, -0.0483406 ,  0.03812557,  0.0809342 ,\n",
              "        0.86022113, -0.01486983, -0.03742622, -0.05743592, -0.05755719,\n",
              "        0.18231669,  0.24756044, -0.04724916,  0.16412605,  0.03582142,\n",
              "       -0.0445812 , -0.04433866, -0.03924528, -0.03099886, -0.05028093])"
            ]
          },
          "metadata": {
            "tags": []
          },
          "execution_count": 277
        }
      ]
    },
    {
      "cell_type": "code",
      "metadata": {
        "id": "XXVCWDOMHW2k",
        "outputId": "2f0f401b-1871-473d-d5c1-5287649c1b6c",
        "colab": {
          "base_uri": "https://localhost:8080/",
          "height": 69
        }
      },
      "source": [
        "\"\"\" plt.figure(figsize=(20,10))\n",
        "plt.plot(real_stock_price, color = 'green', label = 'Stock Price')\n",
        "plt.plot(predicted_stock_price, color = 'red', label = 'Predicted Stock Price')\n",
        "plt.title('Stock Price Prediction Using ANN')\n",
        "plt.xlabel('Trading Day')\n",
        "plt.ylabel('Stock Price')\n",
        "plt.legend()\n",
        "plt.show() \"\"\" #error"
      ],
      "execution_count": 278,
      "outputs": [
        {
          "output_type": "execute_result",
          "data": {
            "application/vnd.google.colaboratory.intrinsic+json": {
              "type": "string"
            },
            "text/plain": [
              "\" plt.figure(figsize=(20,10))\\nplt.plot(real_stock_price, color = 'green', label = 'Stock Price')\\nplt.plot(predicted_stock_price, color = 'red', label = 'Predicted Stock Price')\\nplt.title('Stock Price Prediction Using ANN')\\nplt.xlabel('Trading Day')\\nplt.ylabel('Stock Price')\\nplt.legend()\\nplt.show() \""
            ]
          },
          "metadata": {
            "tags": []
          },
          "execution_count": 278
        }
      ]
    },
    {
      "cell_type": "markdown",
      "metadata": {
        "id": "MqGBMKv0HvVM"
      },
      "source": [
        "## Using LSTM"
      ]
    },
    {
      "cell_type": "markdown",
      "metadata": {
        "id": "B2uIFD452b24"
      },
      "source": [
        "### Importing libraries"
      ]
    },
    {
      "cell_type": "code",
      "metadata": {
        "id": "ccMkltE9ebcw",
        "outputId": "e5f2a071-6dbb-4e50-9139-729f28f80ab5",
        "colab": {
          "base_uri": "https://localhost:8080/"
        }
      },
      "source": [
        "pip install nsepy"
      ],
      "execution_count": 279,
      "outputs": [
        {
          "output_type": "stream",
          "text": [
            "Requirement already satisfied: nsepy in /usr/local/lib/python3.6/dist-packages (0.8)\n",
            "Requirement already satisfied: beautifulsoup4 in /usr/local/lib/python3.6/dist-packages (from nsepy) (4.6.3)\n",
            "Requirement already satisfied: pandas in /usr/local/lib/python3.6/dist-packages (from nsepy) (1.1.4)\n",
            "Requirement already satisfied: six in /usr/local/lib/python3.6/dist-packages (from nsepy) (1.15.0)\n",
            "Requirement already satisfied: click in /usr/local/lib/python3.6/dist-packages (from nsepy) (7.1.2)\n",
            "Requirement already satisfied: numpy in /usr/local/lib/python3.6/dist-packages (from nsepy) (1.18.5)\n",
            "Requirement already satisfied: requests in /usr/local/lib/python3.6/dist-packages (from nsepy) (2.23.0)\n",
            "Requirement already satisfied: lxml in /usr/local/lib/python3.6/dist-packages (from nsepy) (4.2.6)\n",
            "Requirement already satisfied: pytz>=2017.2 in /usr/local/lib/python3.6/dist-packages (from pandas->nsepy) (2018.9)\n",
            "Requirement already satisfied: python-dateutil>=2.7.3 in /usr/local/lib/python3.6/dist-packages (from pandas->nsepy) (2.8.1)\n",
            "Requirement already satisfied: urllib3!=1.25.0,!=1.25.1,<1.26,>=1.21.1 in /usr/local/lib/python3.6/dist-packages (from requests->nsepy) (1.24.3)\n",
            "Requirement already satisfied: certifi>=2017.4.17 in /usr/local/lib/python3.6/dist-packages (from requests->nsepy) (2020.6.20)\n",
            "Requirement already satisfied: idna<3,>=2.5 in /usr/local/lib/python3.6/dist-packages (from requests->nsepy) (2.10)\n",
            "Requirement already satisfied: chardet<4,>=3.0.2 in /usr/local/lib/python3.6/dist-packages (from requests->nsepy) (3.0.4)\n"
          ],
          "name": "stdout"
        }
      ]
    },
    {
      "cell_type": "code",
      "metadata": {
        "id": "7fcRAPcyeVTV"
      },
      "source": [
        "from nsepy import get_history as gh\n",
        "import datetime as dt\n",
        "from matplotlib import pyplot as plt\n",
        "from sklearn import model_selection\n",
        "from sklearn.metrics import confusion_matrix\n",
        "from sklearn.preprocessing import StandardScaler\n",
        "from sklearn.model_selection import train_test_split\n",
        "import numpy as np\n",
        "import pandas as pd\n",
        "from sklearn.preprocessing import MinMaxScaler\n",
        "from keras.models import Sequential\n",
        "from keras.layers import Dense\n",
        "from keras.layers import LSTM\n",
        "from keras.layers import Dropout"
      ],
      "execution_count": 280,
      "outputs": []
    },
    {
      "cell_type": "markdown",
      "metadata": {
        "id": "33TKI23A2NVQ"
      },
      "source": [
        "### Building the LSTM"
      ]
    },
    {
      "cell_type": "code",
      "metadata": {
        "id": "SrT0kjBsc2Pm"
      },
      "source": [
        "regressor = Sequential()\n",
        "regressor.add(LSTM(units = 50, return_sequences = True, input_shape = (X_train.shape[1], 1)))\n",
        "regressor.add(Dropout(0.2))\n",
        "regressor.add(LSTM(units = 50, return_sequences = True))\n",
        "regressor.add(Dropout(0.2))\n",
        "regressor.add(LSTM(units = 50, return_sequences = True))\n",
        "regressor.add(Dropout(0.2))\n",
        "regressor.add(LSTM(units = 50))\n",
        "regressor.add(Dropout(0.2))\n",
        "regressor.add(Dense(units = 1))"
      ],
      "execution_count": 281,
      "outputs": []
    },
    {
      "cell_type": "markdown",
      "metadata": {
        "id": "L_LlaDFB2qDN"
      },
      "source": [
        "### Compiling and training the model defined in the above step.\n",
        "(Iteratively, we can increase or decrease the epochs and batch size to get more accuracy.)"
      ]
    },
    {
      "cell_type": "code",
      "metadata": {
        "id": "NEg-dl9jeOSR",
        "outputId": "2f3522b5-f9dd-4054-8004-a13ff1092631",
        "colab": {
          "base_uri": "https://localhost:8080/"
        }
      },
      "source": [
        "regressor.compile(optimizer = 'adam', loss = 'mean_squared_error')\n",
        "regressor.fit(X_train, Y_train, epochs = 15, batch_size = 32)"
      ],
      "execution_count": 282,
      "outputs": [
        {
          "output_type": "stream",
          "text": [
            "Epoch 1/15\n",
            "71/71 [==============================] - 1s 17ms/step - loss: 0.0028\n",
            "Epoch 2/15\n",
            "71/71 [==============================] - 1s 18ms/step - loss: 4.2202e-04\n",
            "Epoch 3/15\n",
            "71/71 [==============================] - 1s 18ms/step - loss: 4.3559e-04\n",
            "Epoch 4/15\n",
            "71/71 [==============================] - 1s 19ms/step - loss: 4.6036e-04\n",
            "Epoch 5/15\n",
            "71/71 [==============================] - 1s 18ms/step - loss: 3.7331e-04\n",
            "Epoch 6/15\n",
            "71/71 [==============================] - 1s 18ms/step - loss: 5.0660e-04\n",
            "Epoch 7/15\n",
            "71/71 [==============================] - 1s 18ms/step - loss: 4.8104e-04\n",
            "Epoch 8/15\n",
            "71/71 [==============================] - 1s 18ms/step - loss: 3.5701e-04\n",
            "Epoch 9/15\n",
            "71/71 [==============================] - 1s 18ms/step - loss: 4.8745e-04\n",
            "Epoch 10/15\n",
            "71/71 [==============================] - 1s 18ms/step - loss: 4.4222e-04\n",
            "Epoch 11/15\n",
            "71/71 [==============================] - 1s 18ms/step - loss: 6.5154e-04\n",
            "Epoch 12/15\n",
            "71/71 [==============================] - 1s 18ms/step - loss: 2.7335e-04\n",
            "Epoch 13/15\n",
            "71/71 [==============================] - 1s 18ms/step - loss: 4.0532e-04\n",
            "Epoch 14/15\n",
            "71/71 [==============================] - 1s 18ms/step - loss: 4.3493e-04\n",
            "Epoch 15/15\n",
            "71/71 [==============================] - 1s 18ms/step - loss: 3.3384e-04\n"
          ],
          "name": "stdout"
        },
        {
          "output_type": "execute_result",
          "data": {
            "text/plain": [
              "<tensorflow.python.keras.callbacks.History at 0x7f972e423978>"
            ]
          },
          "metadata": {
            "tags": []
          },
          "execution_count": 282
        }
      ]
    },
    {
      "cell_type": "code",
      "metadata": {
        "id": "r2ZrIgaX03cC"
      },
      "source": [
        "X_test = np.array(x_test)\n",
        "X_test = np.reshape(X_test, (X_test.shape[0],X_test.shape[1], 1))\n",
        "predicted_stock_price = regressor.predict(X_test)"
      ],
      "execution_count": 283,
      "outputs": []
    },
    {
      "cell_type": "code",
      "metadata": {
        "id": "LDrGcESafEp5"
      },
      "source": [
        "real_stock_price = np.asarray(y_test)\n",
        "# real_stock_price=real_stock_price.reshape(1167,1)"
      ],
      "execution_count": 284,
      "outputs": []
    },
    {
      "cell_type": "code",
      "metadata": {
        "id": "koD72IuliN0t",
        "outputId": "512522b7-b5fd-4436-d6b4-6b820d5ecbe3",
        "colab": {
          "base_uri": "https://localhost:8080/"
        }
      },
      "source": [
        "predicted_stock_price"
      ],
      "execution_count": 285,
      "outputs": [
        {
          "output_type": "execute_result",
          "data": {
            "text/plain": [
              "array([[ 1.63839832e-01],\n",
              "       [-5.87661602e-02],\n",
              "       [ 4.97394521e-03],\n",
              "       [ 1.99130271e-03],\n",
              "       [-3.86654995e-02],\n",
              "       [ 4.02389355e-02],\n",
              "       [ 3.97091657e-02],\n",
              "       [-5.74104749e-02],\n",
              "       [-8.51452574e-02],\n",
              "       [-2.36933269e-02],\n",
              "       [ 1.86425578e-02],\n",
              "       [ 1.41738374e-02],\n",
              "       [-2.59441100e-02],\n",
              "       [-4.94934293e-03],\n",
              "       [ 1.37245640e-01],\n",
              "       [-6.54014871e-02],\n",
              "       [-3.99628133e-02],\n",
              "       [-4.12085243e-02],\n",
              "       [-5.64490557e-02],\n",
              "       [-4.48485650e-02],\n",
              "       [ 2.75412261e-01],\n",
              "       [-7.83673767e-03],\n",
              "       [ 1.91637427e-01],\n",
              "       [ 1.24102078e-01],\n",
              "       [-3.74108851e-02],\n",
              "       [-5.82707264e-02],\n",
              "       [-1.88081246e-02],\n",
              "       [-5.11601642e-02],\n",
              "       [-6.42815083e-02],\n",
              "       [-5.48199527e-02],\n",
              "       [-2.78260838e-02],\n",
              "       [-5.40858358e-02],\n",
              "       [ 3.59513946e-02],\n",
              "       [-6.61342070e-02],\n",
              "       [ 5.23741171e-02],\n",
              "       [-5.46039119e-02],\n",
              "       [-4.43520732e-02],\n",
              "       [-4.37384173e-02],\n",
              "       [-5.01919053e-02],\n",
              "       [-2.76560076e-02],\n",
              "       [-2.98761968e-02],\n",
              "       [-2.39902530e-02],\n",
              "       [ 1.90116853e-01],\n",
              "       [-5.23938946e-02],\n",
              "       [-4.84286621e-02],\n",
              "       [ 1.27342924e-01],\n",
              "       [-5.42924739e-02],\n",
              "       [-6.15020841e-02],\n",
              "       [-5.26990183e-02],\n",
              "       [-3.69480513e-02],\n",
              "       [-4.04186770e-02],\n",
              "       [-1.63677502e-02],\n",
              "       [-3.78018357e-02],\n",
              "       [ 3.17435205e-01],\n",
              "       [ 1.80839887e-03],\n",
              "       [ 2.91743726e-02],\n",
              "       [-2.29734015e-02],\n",
              "       [ 1.15314983e-01],\n",
              "       [-8.28504488e-02],\n",
              "       [-2.23351419e-02],\n",
              "       [ 1.91671416e-01],\n",
              "       [-3.17402743e-02],\n",
              "       [ 5.59164910e-03],\n",
              "       [-4.21938524e-02],\n",
              "       [-5.03188223e-02],\n",
              "       [-1.34696113e-02],\n",
              "       [-7.62252808e-02],\n",
              "       [-2.77767070e-02],\n",
              "       [-8.69824365e-02],\n",
              "       [-5.44186383e-02],\n",
              "       [ 1.16290517e-01],\n",
              "       [-2.47519724e-02],\n",
              "       [-4.71242592e-02],\n",
              "       [-4.43441868e-02],\n",
              "       [-8.17405656e-02],\n",
              "       [-2.83011924e-02],\n",
              "       [ 1.32507253e-02],\n",
              "       [-5.74378930e-02],\n",
              "       [-2.91068833e-02],\n",
              "       [ 1.51923960e-02],\n",
              "       [ 1.42555997e-01],\n",
              "       [ 2.27591947e-01],\n",
              "       [-6.31740540e-02],\n",
              "       [ 4.01987135e-02],\n",
              "       [-3.49793956e-02],\n",
              "       [-2.90219039e-02],\n",
              "       [-5.00271022e-02],\n",
              "       [-4.84365076e-02],\n",
              "       [-5.80547825e-02],\n",
              "       [-5.63524775e-02],\n",
              "       [-3.62075269e-02],\n",
              "       [-5.50274663e-02],\n",
              "       [-5.82985543e-02],\n",
              "       [-3.51404399e-02],\n",
              "       [ 1.62038758e-01],\n",
              "       [-3.22913192e-02],\n",
              "       [-6.70088455e-02],\n",
              "       [-5.23074865e-02],\n",
              "       [-3.55891958e-02],\n",
              "       [ 8.95623788e-02],\n",
              "       [ 1.16979025e-01],\n",
              "       [-2.36241054e-02],\n",
              "       [-4.57486585e-02],\n",
              "       [-3.05999108e-02],\n",
              "       [ 9.37408268e-01],\n",
              "       [ 7.40922696e-04],\n",
              "       [ 1.45190135e-01],\n",
              "       [-4.80277054e-02],\n",
              "       [-4.87520471e-02],\n",
              "       [-3.60986032e-02],\n",
              "       [-6.83724284e-02],\n",
              "       [-3.38124596e-02],\n",
              "       [ 2.13687681e-02],\n",
              "       [-3.57681476e-02],\n",
              "       [-5.17751686e-02],\n",
              "       [-3.90085392e-02],\n",
              "       [ 4.36262712e-02],\n",
              "       [-8.48140270e-02],\n",
              "       [-9.54086334e-03],\n",
              "       [-5.74732684e-02],\n",
              "       [-3.18980180e-02],\n",
              "       [-2.09413096e-02],\n",
              "       [-4.71612103e-02],\n",
              "       [-5.20897098e-02],\n",
              "       [ 1.83213726e-01],\n",
              "       [ 3.03364042e-02],\n",
              "       [ 4.81286317e-01],\n",
              "       [-5.44661246e-02],\n",
              "       [-6.55534640e-02],\n",
              "       [-4.95793931e-02],\n",
              "       [ 8.39342773e-01],\n",
              "       [ 7.98364356e-03],\n",
              "       [ 4.24622791e-03],\n",
              "       [-4.89881672e-02],\n",
              "       [-2.84146033e-02],\n",
              "       [ 1.41861066e-01],\n",
              "       [-7.70748705e-02],\n",
              "       [-1.39626311e-02],\n",
              "       [ 4.46985960e-02],\n",
              "       [-7.06828386e-02],\n",
              "       [-3.36984508e-02],\n",
              "       [ 2.79447943e-01],\n",
              "       [-4.13804948e-02],\n",
              "       [ 3.42056341e-02],\n",
              "       [-3.19656767e-02],\n",
              "       [-8.01094621e-02],\n",
              "       [ 9.26016644e-03],\n",
              "       [ 6.94673136e-02],\n",
              "       [-5.37747592e-02],\n",
              "       [-5.32050133e-02],\n",
              "       [-6.72295615e-02],\n",
              "       [-5.10101840e-02],\n",
              "       [-8.21531564e-02],\n",
              "       [ 1.63460858e-02],\n",
              "       [-3.87276858e-02],\n",
              "       [ 7.84859180e-01],\n",
              "       [-6.20645955e-02],\n",
              "       [ 9.48988020e-01],\n",
              "       [-4.78963740e-02],\n",
              "       [-4.80828360e-02],\n",
              "       [-5.40983677e-02],\n",
              "       [-4.11190763e-02],\n",
              "       [-5.62309027e-02],\n",
              "       [-2.99280640e-02],\n",
              "       [-8.78141820e-02],\n",
              "       [ 7.40033481e-03],\n",
              "       [-3.51517238e-02],\n",
              "       [-5.03359437e-02],\n",
              "       [-4.73709218e-02],\n",
              "       [ 2.08757102e-01],\n",
              "       [ 1.01924753e-02],\n",
              "       [-5.65052964e-02],\n",
              "       [-3.94521020e-02],\n",
              "       [-1.89895947e-02],\n",
              "       [-4.55457121e-02],\n",
              "       [-6.02272637e-02],\n",
              "       [ 1.41186908e-01],\n",
              "       [ 4.04600948e-02],\n",
              "       [-1.00200167e-02],\n",
              "       [-4.85117584e-02],\n",
              "       [ 1.20295197e-01],\n",
              "       [ 1.58584360e-02],\n",
              "       [-4.99097630e-02],\n",
              "       [ 1.69819817e-01],\n",
              "       [-3.85372452e-02],\n",
              "       [-8.20729733e-02],\n",
              "       [-4.54485156e-02],\n",
              "       [-5.25959432e-02],\n",
              "       [-4.92443629e-02],\n",
              "       [-2.67326888e-02],\n",
              "       [-5.24191000e-02],\n",
              "       [-6.26255125e-02],\n",
              "       [-6.01637997e-02],\n",
              "       [-6.64349869e-02],\n",
              "       [-3.78023125e-02],\n",
              "       [ 8.97138193e-02],\n",
              "       [-4.67304476e-02],\n",
              "       [ 2.30160803e-02],\n",
              "       [-3.65082882e-02],\n",
              "       [-5.93142100e-02],\n",
              "       [-4.85809557e-02],\n",
              "       [-3.58141214e-02],\n",
              "       [ 1.94457963e-01],\n",
              "       [ 6.60307407e-02],\n",
              "       [-2.38147750e-02],\n",
              "       [ 3.72995995e-02],\n",
              "       [ 3.13987839e-03],\n",
              "       [-5.16926311e-02],\n",
              "       [ 1.05782785e-01],\n",
              "       [ 1.41989022e-01],\n",
              "       [-5.40097319e-02],\n",
              "       [-4.57680263e-02],\n",
              "       [-2.95716487e-02],\n",
              "       [-4.52457555e-02],\n",
              "       [-5.70270941e-02],\n",
              "       [-2.77079567e-02],\n",
              "       [-2.04431526e-02],\n",
              "       [-5.10848090e-02],\n",
              "       [-7.72891566e-02],\n",
              "       [ 1.37782469e-01],\n",
              "       [-7.80255571e-02],\n",
              "       [-7.35665038e-02],\n",
              "       [-3.43376063e-02],\n",
              "       [ 2.13865843e-02],\n",
              "       [-5.40987663e-02],\n",
              "       [-4.90640812e-02],\n",
              "       [ 1.62863463e-01],\n",
              "       [-7.69453719e-02],\n",
              "       [ 2.67729834e-02],\n",
              "       [-6.90451562e-02],\n",
              "       [-7.36193126e-03],\n",
              "       [-4.59749103e-02],\n",
              "       [-5.22097088e-02],\n",
              "       [ 3.74077410e-02],\n",
              "       [ 9.71050411e-02],\n",
              "       [ 8.97543252e-01],\n",
              "       [-1.86881367e-02],\n",
              "       [-4.25991341e-02],\n",
              "       [-6.23368099e-02],\n",
              "       [-6.37721643e-02],\n",
              "       [ 2.08188906e-01],\n",
              "       [ 2.38763630e-01],\n",
              "       [-5.24873771e-02],\n",
              "       [ 1.76471680e-01],\n",
              "       [ 4.48222905e-02],\n",
              "       [-5.69161512e-02],\n",
              "       [-4.28536981e-02],\n",
              "       [-4.96302843e-02],\n",
              "       [-3.22905369e-02],\n",
              "       [-5.17730378e-02]], dtype=float32)"
            ]
          },
          "metadata": {
            "tags": []
          },
          "execution_count": 285
        }
      ]
    },
    {
      "cell_type": "code",
      "metadata": {
        "id": "bXqa74JLiSvC",
        "outputId": "83c4249f-7c36-4b4c-edd5-4ddab877e3c3",
        "colab": {
          "base_uri": "https://localhost:8080/"
        }
      },
      "source": [
        "real_stock_price"
      ],
      "execution_count": 286,
      "outputs": [
        {
          "output_type": "execute_result",
          "data": {
            "text/plain": [
              "array([ 0.16655147, -0.05355525,  0.02042001,  0.00768656, -0.02978615,\n",
              "        0.04625072,  0.04612945, -0.04688535, -0.07926468, -0.02020575,\n",
              "        0.02466449,  0.01860095, -0.0245715 ,  0.00319954,  0.13065528,\n",
              "       -0.04239832, -0.03681986, -0.03815384, -0.0445812 , -0.03136267,\n",
              "        0.25883864, -0.00177257,  0.16582384,  0.11161574, -0.03027123,\n",
              "       -0.0596188 , -0.03196903, -0.03924528, -0.05779973, -0.04797679,\n",
              "       -0.02602675, -0.05282762,  0.04358276, -0.06119532,  0.03958082,\n",
              "       -0.04445993, -0.03863893, -0.04106434, -0.0454301 , -0.0320903 ,\n",
              "       -0.02384387, -0.01741652,  0.18195288, -0.04591518, -0.04021545,\n",
              "        0.13077655, -0.0483406 , -0.05440415, -0.04421739, -0.03306046,\n",
              "       -0.02639056, -0.04009418, -0.04591518,  0.30285998,  0.00283573,\n",
              "        0.02042001, -0.02311625,  0.1009439 , -0.07841579, -0.02105464,\n",
              "        0.17043214, -0.03342428, -0.00116621, -0.03269665, -0.04409612,\n",
              "       -0.01596126, -0.06677378, -0.02445023, -0.08132629, -0.04931077,\n",
              "        0.10955414, -0.02602675, -0.04070053, -0.03754749, -0.07841579,\n",
              "       -0.0320903 ,  0.02781754, -0.05028093, -0.02105464,  0.01484155,\n",
              "        0.10712872,  0.17443408, -0.06034642,  0.03703413, -0.02990742,\n",
              "       -0.02117591, -0.04409612, -0.04567264, -0.05852736, -0.05452542,\n",
              "       -0.03075632, -0.0483406 , -0.05234254, -0.03560715,  0.14496525,\n",
              "       -0.03172648, -0.06022515, -0.0454301 , -0.02978615,  0.07535574,\n",
              "        0.10652236, -0.02590548, -0.03827511, -0.02760327,  0.91515685,\n",
              "        0.00611004,  0.12980638, -0.0437323 , -0.04470247, -0.0303925 ,\n",
              "       -0.057921  , -0.0303925 ,  0.01908603, -0.03051377, -0.04688535,\n",
              "       -0.03973036, -0.0045618 , -0.08047739, -0.01026153, -0.05028093,\n",
              "       -0.027482  , -0.02348006, -0.04239832, -0.04688535,  0.14363127,\n",
              "        0.02454322,  0.41261016, -0.04943204, -0.04470247, -0.04445993,\n",
              "        0.76635744,  0.00841419,  0.01459901, -0.04567264, -0.01474856,\n",
              "        0.14763321, -0.07065445, -0.04591518,  0.03460871, -0.06798649,\n",
              "       -0.02942234,  0.26672125, -0.0350008 ,  0.03072804, -0.02881598,\n",
              "       -0.07113953, -0.00104494,  0.05789273, -0.04931077, -0.05246381,\n",
              "        0.01193105, -0.04409612, -0.07865833,  0.02114764, -0.03306046,\n",
              "        0.70596452, -0.0474917 ,  0.91685465, -0.04300468, -0.03306046,\n",
              "       -0.04797679, -0.03221157, -0.05525304, -0.03136267, -0.08266027,\n",
              "        0.00222937, -0.02930107, -0.04130689, -0.04348976,  0.18013381,\n",
              "        0.01435647, -0.05367652, -0.03463699, -0.0254204 , -0.03366682,\n",
              "       -0.05573813,  0.13696136,  0.04285513,  0.01011198, -0.04445993,\n",
              "        0.11610277,  0.02927279, -0.04567264,  0.14945227, -0.02954361,\n",
              "       -0.07671799, -0.04239832, -0.02214608, -0.04094307, -0.03463699,\n",
              "       -0.0483406 , -0.05719338, -0.05731465, -0.06022515, -0.03330301,\n",
              "        0.08627012, -0.04239832,  0.01447774, -0.03245411, -0.05901244,\n",
              "       -0.04567264, -0.03075632,  0.17782966,  0.06237975, -0.06265057,\n",
              "        0.03412363,  0.00986944, -0.04555137,  0.11974089,  0.13550611,\n",
              "       -0.04676408, -0.0358497 , -0.03330301, -0.04130689, -0.04809806,\n",
              "       -0.02517785, -0.01377839, -0.03403063, -0.07417131,  0.12738096,\n",
              "       -0.07574783, -0.05428287, -0.02893725,  0.0296366 , -0.04664281,\n",
              "       -0.04640027,  0.16048792, -0.07405003,  0.01981366, -0.06604615,\n",
              "       -0.00771484, -0.04045799, -0.0483406 ,  0.03812557,  0.0809342 ,\n",
              "        0.86022113, -0.01486983, -0.03742622, -0.05743592, -0.05755719,\n",
              "        0.18231669,  0.24756044, -0.04724916,  0.16412605,  0.03582142,\n",
              "       -0.0445812 , -0.04433866, -0.03924528, -0.03099886, -0.05028093])"
            ]
          },
          "metadata": {
            "tags": []
          },
          "execution_count": 286
        }
      ]
    },
    {
      "cell_type": "markdown",
      "metadata": {
        "id": "oWXVsRgp2DcB"
      },
      "source": [
        "### Plotting the results"
      ]
    },
    {
      "cell_type": "code",
      "metadata": {
        "id": "bTm04GWiiU9O",
        "outputId": "9132acce-462b-463f-c69c-471183c87766",
        "colab": {
          "base_uri": "https://localhost:8080/",
          "height": 505
        }
      },
      "source": [
        "plt.figure(figsize=(20,10))\n",
        "plt.plot(real_stock_price, color = 'green', label = 'Stock Price')\n",
        "plt.plot(predicted_stock_price, color = 'red', label = 'Predicted Stock Price')\n",
        "plt.title('Stock Price Prediction')\n",
        "plt.xlabel('Trading Day')\n",
        "plt.ylabel('Stock Price')\n",
        "plt.legend()\n",
        "plt.show()"
      ],
      "execution_count": 287,
      "outputs": [
        {
          "output_type": "display_data",
          "data": {
            "image/png": "[encoded data removed]",
            "text/plain": [
              "<Figure size 1440x720 with 1 Axes>"
            ]
          },
          "metadata": {
            "tags": [],
            "needs_background": "light"
          }
        }
      ]
    },
    {
      "cell_type": "code",
      "metadata": {
        "id": "7hCjZ69viYqn",
        "outputId": "29dcde90-b59f-4bed-b142-367b84bbe10c",
        "colab": {
          "base_uri": "https://localhost:8080/"
        }
      },
      "source": [
        "from sklearn.metrics import mean_squared_error as MSE\n",
        "rmse = MSE(real_stock_price,predicted_stock_price)**(1/2)\n",
        "rmse"
      ],
      "execution_count": 288,
      "outputs": [
        {
          "output_type": "execute_result",
          "data": {
            "text/plain": [
              "0.01471334736202281"
            ]
          },
          "metadata": {
            "tags": []
          },
          "execution_count": 288
        }
      ]
    }
  ]
}