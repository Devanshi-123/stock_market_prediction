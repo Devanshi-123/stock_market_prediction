{
  "nbformat": 4,
  "nbformat_minor": 0,
  "metadata": {
    "kernelspec": {
      "display_name": "Python 3",
      "language": "python",
      "name": "python3"
    },
    "language_info": {
      "codemirror_mode": {
        "name": "ipython",
        "version": 3
      },
      "file_extension": ".py",
      "mimetype": "text/x-python",
      "name": "python",
      "nbconvert_exporter": "python",
      "pygments_lexer": "ipython3",
      "version": "3.8.3"
    },
    "colab": {
      "name": "Stock_Market_Prediction(Diversified Financial)final.ipynb",
      "provenance": [],
      "collapsed_sections": [
        "vfZGT9zFbes9"
      ],
      "toc_visible": true,
      "include_colab_link": true
    }
  },
  "cells": [
    {
      "cell_type": "markdown",
      "metadata": {
        "id": "view-in-github",
        "colab_type": "text"
      },
      "source": [
        "<a href=\"https://colab.research.google.com/github/Devanshi-123/stock_market_prediction/blob/main/Stock_Market_Prediction(Diversified_Financial)final.ipynb\" target=\"_parent\"><img src=\"https://colab.research.google.com/assets/colab-badge.svg\" alt=\"Open In Colab\"/></a>"
      ]
    },
    {
      "cell_type": "markdown",
      "metadata": {
        "id": "tieXgez1berr"
      },
      "source": [
        "#  **Stock Market Prediction Using Different Machine Learning And Deep Learning Algorithms**\n"
      ]
    },
    {
      "cell_type": "markdown",
      "metadata": {
        "id": "2501HdlZfGAG"
      },
      "source": [
        "## **Importing the necessary libraries**"
      ]
    },
    {
      "cell_type": "code",
      "metadata": {
        "id": "bExe6rckbers"
      },
      "source": [
        "import pandas as pd\n",
        "import numpy as np\n",
        "import matplotlib.pyplot as plt\n",
        "%matplotlib inline"
      ],
      "execution_count": 241,
      "outputs": []
    },
    {
      "cell_type": "code",
      "metadata": {
        "id": "YoioHTGgcPVu",
        "colab": {
          "base_uri": "https://localhost:8080/"
        },
        "outputId": "7314da43-097d-4fde-8546-ca0a13c39ca3"
      },
      "source": [
        "cd /content/drive/My Drive/Stock Market Prediction(Mini Project)"
      ],
      "execution_count": 242,
      "outputs": [
        {
          "output_type": "stream",
          "text": [
            "/content/drive/My Drive/Stock Market Prediction(Mini Project)\n"
          ],
          "name": "stdout"
        }
      ]
    },
    {
      "cell_type": "markdown",
      "metadata": {
        "id": "c1-boyHyfakV"
      },
      "source": [
        "## **Importing the dataset**"
      ]
    },
    {
      "cell_type": "code",
      "metadata": {
        "id": "1fMnpg-sbery",
        "colab": {
          "base_uri": "https://localhost:8080/"
        },
        "outputId": "2099b056-bdd3-4746-ffae-20c1f68d3146"
      },
      "source": [
        "##Metallic Dataset\n",
        "df=pd.read_csv(\"Stock_AYEG1.csv\")\n",
        "df.info()"
      ],
      "execution_count": 243,
      "outputs": [
        {
          "output_type": "stream",
          "text": [
            "<class 'pandas.core.frame.DataFrame'>\n",
            "RangeIndex: 2496 entries, 0 to 2495\n",
            "Data columns (total 13 columns):\n",
            " #   Column        Non-Null Count  Dtype  \n",
            "---  ------        --------------  -----  \n",
            " 0   Unnamed: 0    2496 non-null   int64  \n",
            " 1   <TICKER>      2496 non-null   object \n",
            " 2   <DTYYYYMMDD>  2496 non-null   int64  \n",
            " 3   <FIRST>       2496 non-null   float64\n",
            " 4   <HIGH>        2496 non-null   float64\n",
            " 5   <LOW>         2496 non-null   float64\n",
            " 6   <CLOSE>       2496 non-null   float64\n",
            " 7   <VALUE>       2496 non-null   int64  \n",
            " 8   <VOL>         2496 non-null   int64  \n",
            " 9   <OPENINT>     2496 non-null   int64  \n",
            " 10  <PER>         2496 non-null   object \n",
            " 11  <OPEN>        2496 non-null   float64\n",
            " 12  <LAST>        2496 non-null   float64\n",
            "dtypes: float64(6), int64(5), object(2)\n",
            "memory usage: 253.6+ KB\n"
          ],
          "name": "stdout"
        }
      ]
    },
    {
      "cell_type": "code",
      "metadata": {
        "id": "F00sCC1zqlJZ",
        "colab": {
          "base_uri": "https://localhost:8080/",
          "height": 194
        },
        "outputId": "cbdf079d-cb25-4937-e0e1-25714507734e"
      },
      "source": [
        "df.head()"
      ],
      "execution_count": 244,
      "outputs": [
        {
          "output_type": "execute_result",
          "data": {
            "text/html": [
              "<div>\n",
              "<style scoped>\n",
              "    .dataframe tbody tr th:only-of-type {\n",
              "        vertical-align: middle;\n",
              "    }\n",
              "\n",
              "    .dataframe tbody tr th {\n",
              "        vertical-align: top;\n",
              "    }\n",
              "\n",
              "    .dataframe thead th {\n",
              "        text-align: right;\n",
              "    }\n",
              "</style>\n",
              "<table border=\"1\" class=\"dataframe\">\n",
              "  <thead>\n",
              "    <tr style=\"text-align: right;\">\n",
              "      <th></th>\n",
              "      <th>Unnamed: 0</th>\n",
              "      <th>&lt;TICKER&gt;</th>\n",
              "      <th>&lt;DTYYYYMMDD&gt;</th>\n",
              "      <th>&lt;FIRST&gt;</th>\n",
              "      <th>&lt;HIGH&gt;</th>\n",
              "      <th>&lt;LOW&gt;</th>\n",
              "      <th>&lt;CLOSE&gt;</th>\n",
              "      <th>&lt;VALUE&gt;</th>\n",
              "      <th>&lt;VOL&gt;</th>\n",
              "      <th>&lt;OPENINT&gt;</th>\n",
              "      <th>&lt;PER&gt;</th>\n",
              "      <th>&lt;OPEN&gt;</th>\n",
              "      <th>&lt;LAST&gt;</th>\n",
              "    </tr>\n",
              "  </thead>\n",
              "  <tbody>\n",
              "    <tr>\n",
              "      <th>0</th>\n",
              "      <td>0</td>\n",
              "      <td>Pardis.Invsetment</td>\n",
              "      <td>20011223</td>\n",
              "      <td>1000.0</td>\n",
              "      <td>1000.0</td>\n",
              "      <td>1000.0</td>\n",
              "      <td>1000.0</td>\n",
              "      <td>1000000</td>\n",
              "      <td>1000</td>\n",
              "      <td>1</td>\n",
              "      <td>D</td>\n",
              "      <td>0.0</td>\n",
              "      <td>1000.0</td>\n",
              "    </tr>\n",
              "    <tr>\n",
              "      <th>1</th>\n",
              "      <td>1</td>\n",
              "      <td>Pardis.Invsetment</td>\n",
              "      <td>20020129</td>\n",
              "      <td>1000.0</td>\n",
              "      <td>1000.0</td>\n",
              "      <td>1000.0</td>\n",
              "      <td>1000.0</td>\n",
              "      <td>10000</td>\n",
              "      <td>10</td>\n",
              "      <td>1</td>\n",
              "      <td>D</td>\n",
              "      <td>1000.0</td>\n",
              "      <td>1000.0</td>\n",
              "    </tr>\n",
              "    <tr>\n",
              "      <th>2</th>\n",
              "      <td>2</td>\n",
              "      <td>Pardis.Invsetment</td>\n",
              "      <td>20020902</td>\n",
              "      <td>1000.0</td>\n",
              "      <td>1000.0</td>\n",
              "      <td>1000.0</td>\n",
              "      <td>1000.0</td>\n",
              "      <td>1000000</td>\n",
              "      <td>1000</td>\n",
              "      <td>1</td>\n",
              "      <td>D</td>\n",
              "      <td>1000.0</td>\n",
              "      <td>1000.0</td>\n",
              "    </tr>\n",
              "    <tr>\n",
              "      <th>3</th>\n",
              "      <td>3</td>\n",
              "      <td>Pardis.Invsetment</td>\n",
              "      <td>20030224</td>\n",
              "      <td>1000.0</td>\n",
              "      <td>1000.0</td>\n",
              "      <td>1000.0</td>\n",
              "      <td>1000.0</td>\n",
              "      <td>2000000</td>\n",
              "      <td>2000</td>\n",
              "      <td>1</td>\n",
              "      <td>D</td>\n",
              "      <td>1000.0</td>\n",
              "      <td>1000.0</td>\n",
              "    </tr>\n",
              "    <tr>\n",
              "      <th>4</th>\n",
              "      <td>4</td>\n",
              "      <td>Pardis.Invsetment</td>\n",
              "      <td>20030318</td>\n",
              "      <td>1000.0</td>\n",
              "      <td>1000.0</td>\n",
              "      <td>1000.0</td>\n",
              "      <td>1000.0</td>\n",
              "      <td>50000</td>\n",
              "      <td>50</td>\n",
              "      <td>1</td>\n",
              "      <td>D</td>\n",
              "      <td>1000.0</td>\n",
              "      <td>1000.0</td>\n",
              "    </tr>\n",
              "  </tbody>\n",
              "</table>\n",
              "</div>"
            ],
            "text/plain": [
              "   Unnamed: 0           <TICKER>  <DTYYYYMMDD>  ...  <PER>  <OPEN>  <LAST>\n",
              "0           0  Pardis.Invsetment      20011223  ...      D     0.0  1000.0\n",
              "1           1  Pardis.Invsetment      20020129  ...      D  1000.0  1000.0\n",
              "2           2  Pardis.Invsetment      20020902  ...      D  1000.0  1000.0\n",
              "3           3  Pardis.Invsetment      20030224  ...      D  1000.0  1000.0\n",
              "4           4  Pardis.Invsetment      20030318  ...      D  1000.0  1000.0\n",
              "\n",
              "[5 rows x 13 columns]"
            ]
          },
          "metadata": {
            "tags": []
          },
          "execution_count": 244
        }
      ]
    },
    {
      "cell_type": "markdown",
      "metadata": {
        "id": "9gsprJSuhGF4"
      },
      "source": [
        "## **Exploratory Data Analysis**"
      ]
    },
    {
      "cell_type": "code",
      "metadata": {
        "id": "3KYyTRW7gcjz",
        "colab": {
          "base_uri": "https://localhost:8080/",
          "height": 282
        },
        "outputId": "6a7ce993-6392-4175-b56c-0491490663e0"
      },
      "source": [
        "df.describe()"
      ],
      "execution_count": 245,
      "outputs": [
        {
          "output_type": "execute_result",
          "data": {
            "text/html": [
              "<div>\n",
              "<style scoped>\n",
              "    .dataframe tbody tr th:only-of-type {\n",
              "        vertical-align: middle;\n",
              "    }\n",
              "\n",
              "    .dataframe tbody tr th {\n",
              "        vertical-align: top;\n",
              "    }\n",
              "\n",
              "    .dataframe thead th {\n",
              "        text-align: right;\n",
              "    }\n",
              "</style>\n",
              "<table border=\"1\" class=\"dataframe\">\n",
              "  <thead>\n",
              "    <tr style=\"text-align: right;\">\n",
              "      <th></th>\n",
              "      <th>Unnamed: 0</th>\n",
              "      <th>&lt;DTYYYYMMDD&gt;</th>\n",
              "      <th>&lt;FIRST&gt;</th>\n",
              "      <th>&lt;HIGH&gt;</th>\n",
              "      <th>&lt;LOW&gt;</th>\n",
              "      <th>&lt;CLOSE&gt;</th>\n",
              "      <th>&lt;VALUE&gt;</th>\n",
              "      <th>&lt;VOL&gt;</th>\n",
              "      <th>&lt;OPENINT&gt;</th>\n",
              "      <th>&lt;OPEN&gt;</th>\n",
              "      <th>&lt;LAST&gt;</th>\n",
              "    </tr>\n",
              "  </thead>\n",
              "  <tbody>\n",
              "    <tr>\n",
              "      <th>count</th>\n",
              "      <td>2496.000000</td>\n",
              "      <td>2.496000e+03</td>\n",
              "      <td>2496.000000</td>\n",
              "      <td>2496.000000</td>\n",
              "      <td>2496.000000</td>\n",
              "      <td>2496.000000</td>\n",
              "      <td>2.496000e+03</td>\n",
              "      <td>2.496000e+03</td>\n",
              "      <td>2496.000000</td>\n",
              "      <td>2496.000000</td>\n",
              "      <td>2496.000000</td>\n",
              "    </tr>\n",
              "    <tr>\n",
              "      <th>mean</th>\n",
              "      <td>1247.500000</td>\n",
              "      <td>2.014363e+07</td>\n",
              "      <td>1422.473958</td>\n",
              "      <td>1440.773237</td>\n",
              "      <td>1396.182692</td>\n",
              "      <td>1417.616587</td>\n",
              "      <td>6.920851e+09</td>\n",
              "      <td>2.606767e+06</td>\n",
              "      <td>245.403846</td>\n",
              "      <td>1412.841747</td>\n",
              "      <td>1417.481571</td>\n",
              "    </tr>\n",
              "    <tr>\n",
              "      <th>std</th>\n",
              "      <td>720.677459</td>\n",
              "      <td>3.497205e+04</td>\n",
              "      <td>893.650137</td>\n",
              "      <td>905.768022</td>\n",
              "      <td>868.202003</td>\n",
              "      <td>883.886601</td>\n",
              "      <td>2.500800e+10</td>\n",
              "      <td>7.601022e+06</td>\n",
              "      <td>591.602922</td>\n",
              "      <td>874.045896</td>\n",
              "      <td>887.555199</td>\n",
              "    </tr>\n",
              "    <tr>\n",
              "      <th>min</th>\n",
              "      <td>0.000000</td>\n",
              "      <td>2.001122e+07</td>\n",
              "      <td>708.000000</td>\n",
              "      <td>748.000000</td>\n",
              "      <td>702.000000</td>\n",
              "      <td>732.000000</td>\n",
              "      <td>1.042000e+03</td>\n",
              "      <td>1.000000e+00</td>\n",
              "      <td>1.000000</td>\n",
              "      <td>0.000000</td>\n",
              "      <td>721.000000</td>\n",
              "    </tr>\n",
              "    <tr>\n",
              "      <th>25%</th>\n",
              "      <td>623.750000</td>\n",
              "      <td>2.012041e+07</td>\n",
              "      <td>1030.000000</td>\n",
              "      <td>1038.750000</td>\n",
              "      <td>1020.000000</td>\n",
              "      <td>1033.000000</td>\n",
              "      <td>7.551238e+07</td>\n",
              "      <td>7.259300e+04</td>\n",
              "      <td>14.000000</td>\n",
              "      <td>1032.000000</td>\n",
              "      <td>1031.000000</td>\n",
              "    </tr>\n",
              "    <tr>\n",
              "      <th>50%</th>\n",
              "      <td>1247.500000</td>\n",
              "      <td>2.014567e+07</td>\n",
              "      <td>1141.000000</td>\n",
              "      <td>1153.000000</td>\n",
              "      <td>1122.000000</td>\n",
              "      <td>1139.500000</td>\n",
              "      <td>3.585771e+08</td>\n",
              "      <td>3.225290e+05</td>\n",
              "      <td>45.000000</td>\n",
              "      <td>1138.000000</td>\n",
              "      <td>1139.000000</td>\n",
              "    </tr>\n",
              "    <tr>\n",
              "      <th>75%</th>\n",
              "      <td>1871.250000</td>\n",
              "      <td>2.017083e+07</td>\n",
              "      <td>1490.000000</td>\n",
              "      <td>1504.500000</td>\n",
              "      <td>1468.000000</td>\n",
              "      <td>1487.250000</td>\n",
              "      <td>1.929998e+09</td>\n",
              "      <td>1.389884e+06</td>\n",
              "      <td>156.000000</td>\n",
              "      <td>1486.000000</td>\n",
              "      <td>1488.500000</td>\n",
              "    </tr>\n",
              "    <tr>\n",
              "      <th>max</th>\n",
              "      <td>2495.000000</td>\n",
              "      <td>2.020060e+07</td>\n",
              "      <td>9255.000000</td>\n",
              "      <td>9255.000000</td>\n",
              "      <td>9255.000000</td>\n",
              "      <td>8978.000000</td>\n",
              "      <td>3.938869e+11</td>\n",
              "      <td>1.953190e+08</td>\n",
              "      <td>9629.000000</td>\n",
              "      <td>8978.000000</td>\n",
              "      <td>9255.000000</td>\n",
              "    </tr>\n",
              "  </tbody>\n",
              "</table>\n",
              "</div>"
            ],
            "text/plain": [
              "        Unnamed: 0  <DTYYYYMMDD>  ...       <OPEN>       <LAST>\n",
              "count  2496.000000  2.496000e+03  ...  2496.000000  2496.000000\n",
              "mean   1247.500000  2.014363e+07  ...  1412.841747  1417.481571\n",
              "std     720.677459  3.497205e+04  ...   874.045896   887.555199\n",
              "min       0.000000  2.001122e+07  ...     0.000000   721.000000\n",
              "25%     623.750000  2.012041e+07  ...  1032.000000  1031.000000\n",
              "50%    1247.500000  2.014567e+07  ...  1138.000000  1139.000000\n",
              "75%    1871.250000  2.017083e+07  ...  1486.000000  1488.500000\n",
              "max    2495.000000  2.020060e+07  ...  8978.000000  9255.000000\n",
              "\n",
              "[8 rows x 11 columns]"
            ]
          },
          "metadata": {
            "tags": []
          },
          "execution_count": 245
        }
      ]
    },
    {
      "cell_type": "code",
      "metadata": {
        "id": "mkJ2qxhUTjGJ",
        "colab": {
          "base_uri": "https://localhost:8080/",
          "height": 564
        },
        "outputId": "c5eb27b5-bc9a-4673-e77b-0c6e73a410c2"
      },
      "source": [
        "import seaborn as sns\n",
        "plt.figure(1 , figsize = (17 , 8))\n",
        "cor = sns.heatmap(df.corr(), annot = True)"
      ],
      "execution_count": 246,
      "outputs": [
        {
          "output_type": "display_data",
          "data": {
            "image/png": "[encoded data removed]",
            "text/plain": [
              "<Figure size 1224x576 with 2 Axes>"
            ]
          },
          "metadata": {
            "tags": [],
            "needs_background": "light"
          }
        }
      ]
    },
    {
      "cell_type": "code",
      "metadata": {
        "id": "VWy495nCOFQ_",
        "colab": {
          "base_uri": "https://localhost:8080/",
          "height": 223
        },
        "outputId": "9b7c4618-d770-4754-d4b9-88acadd37c53"
      },
      "source": [
        "df['datetime'] = pd.to_datetime(df['<DTYYYYMMDD>'], format='%Y%m%d')\n",
        "df.index = df['datetime']\n",
        "df.dropna()\n",
        "df_new = df[[\"<FIRST>\",\"<HIGH>\",\"<LOW>\",\"<CLOSE>\",\"<VALUE>\",\"<VOL>\"]]\n",
        "df_new.head()"
      ],
      "execution_count": 247,
      "outputs": [
        {
          "output_type": "execute_result",
          "data": {
            "text/html": [
              "<div>\n",
              "<style scoped>\n",
              "    .dataframe tbody tr th:only-of-type {\n",
              "        vertical-align: middle;\n",
              "    }\n",
              "\n",
              "    .dataframe tbody tr th {\n",
              "        vertical-align: top;\n",
              "    }\n",
              "\n",
              "    .dataframe thead th {\n",
              "        text-align: right;\n",
              "    }\n",
              "</style>\n",
              "<table border=\"1\" class=\"dataframe\">\n",
              "  <thead>\n",
              "    <tr style=\"text-align: right;\">\n",
              "      <th></th>\n",
              "      <th>&lt;FIRST&gt;</th>\n",
              "      <th>&lt;HIGH&gt;</th>\n",
              "      <th>&lt;LOW&gt;</th>\n",
              "      <th>&lt;CLOSE&gt;</th>\n",
              "      <th>&lt;VALUE&gt;</th>\n",
              "      <th>&lt;VOL&gt;</th>\n",
              "    </tr>\n",
              "    <tr>\n",
              "      <th>datetime</th>\n",
              "      <th></th>\n",
              "      <th></th>\n",
              "      <th></th>\n",
              "      <th></th>\n",
              "      <th></th>\n",
              "      <th></th>\n",
              "    </tr>\n",
              "  </thead>\n",
              "  <tbody>\n",
              "    <tr>\n",
              "      <th>2001-12-23</th>\n",
              "      <td>1000.0</td>\n",
              "      <td>1000.0</td>\n",
              "      <td>1000.0</td>\n",
              "      <td>1000.0</td>\n",
              "      <td>1000000</td>\n",
              "      <td>1000</td>\n",
              "    </tr>\n",
              "    <tr>\n",
              "      <th>2002-01-29</th>\n",
              "      <td>1000.0</td>\n",
              "      <td>1000.0</td>\n",
              "      <td>1000.0</td>\n",
              "      <td>1000.0</td>\n",
              "      <td>10000</td>\n",
              "      <td>10</td>\n",
              "    </tr>\n",
              "    <tr>\n",
              "      <th>2002-09-02</th>\n",
              "      <td>1000.0</td>\n",
              "      <td>1000.0</td>\n",
              "      <td>1000.0</td>\n",
              "      <td>1000.0</td>\n",
              "      <td>1000000</td>\n",
              "      <td>1000</td>\n",
              "    </tr>\n",
              "    <tr>\n",
              "      <th>2003-02-24</th>\n",
              "      <td>1000.0</td>\n",
              "      <td>1000.0</td>\n",
              "      <td>1000.0</td>\n",
              "      <td>1000.0</td>\n",
              "      <td>2000000</td>\n",
              "      <td>2000</td>\n",
              "    </tr>\n",
              "    <tr>\n",
              "      <th>2003-03-18</th>\n",
              "      <td>1000.0</td>\n",
              "      <td>1000.0</td>\n",
              "      <td>1000.0</td>\n",
              "      <td>1000.0</td>\n",
              "      <td>50000</td>\n",
              "      <td>50</td>\n",
              "    </tr>\n",
              "  </tbody>\n",
              "</table>\n",
              "</div>"
            ],
            "text/plain": [
              "            <FIRST>  <HIGH>   <LOW>  <CLOSE>  <VALUE>  <VOL>\n",
              "datetime                                                    \n",
              "2001-12-23   1000.0  1000.0  1000.0   1000.0  1000000   1000\n",
              "2002-01-29   1000.0  1000.0  1000.0   1000.0    10000     10\n",
              "2002-09-02   1000.0  1000.0  1000.0   1000.0  1000000   1000\n",
              "2003-02-24   1000.0  1000.0  1000.0   1000.0  2000000   2000\n",
              "2003-03-18   1000.0  1000.0  1000.0   1000.0    50000     50"
            ]
          },
          "metadata": {
            "tags": []
          },
          "execution_count": 247
        }
      ]
    },
    {
      "cell_type": "code",
      "metadata": {
        "id": "hLz42nBYber_",
        "colab": {
          "base_uri": "https://localhost:8080/"
        },
        "outputId": "61985358-5fb5-4566-fae4-e846ee1c9510"
      },
      "source": [
        "df_new.shape"
      ],
      "execution_count": 248,
      "outputs": [
        {
          "output_type": "execute_result",
          "data": {
            "text/plain": [
              "(2496, 6)"
            ]
          },
          "metadata": {
            "tags": []
          },
          "execution_count": 248
        }
      ]
    },
    {
      "cell_type": "code",
      "metadata": {
        "id": "kvkvBjzCbesH",
        "colab": {
          "base_uri": "https://localhost:8080/"
        },
        "outputId": "5f823b63-26d1-4dd8-93e0-3bdd26be6a98"
      },
      "source": [
        "#Calculating the change in price\n",
        "df_new['change_in_price'] = df_new['<CLOSE>'].diff()"
      ],
      "execution_count": 249,
      "outputs": [
        {
          "output_type": "stream",
          "text": [
            "/usr/local/lib/python3.6/dist-packages/ipykernel_launcher.py:2: SettingWithCopyWarning: \n",
            "A value is trying to be set on a copy of a slice from a DataFrame.\n",
            "Try using .loc[row_indexer,col_indexer] = value instead\n",
            "\n",
            "See the caveats in the documentation: https://pandas.pydata.org/pandas-docs/stable/user_guide/indexing.html#returning-a-view-versus-a-copy\n",
            "  \n"
          ],
          "name": "stderr"
        }
      ]
    },
    {
      "cell_type": "markdown",
      "metadata": {
        "id": "6Q4sHYAVhXdc"
      },
      "source": [
        "## **Data Visualisation**"
      ]
    },
    {
      "cell_type": "code",
      "metadata": {
        "id": "xvmCMSnkZO6R",
        "colab": {
          "base_uri": "https://localhost:8080/",
          "height": 500
        },
        "outputId": "d2f9b530-a439-457a-9b57-326042d0bc75"
      },
      "source": [
        "plt.figure(figsize=(16,8))\n",
        "plt.plot(df_new['change_in_price'], label='Change In Price')"
      ],
      "execution_count": 250,
      "outputs": [
        {
          "output_type": "execute_result",
          "data": {
            "text/plain": [
              "[<matplotlib.lines.Line2D at 0x7fe424918710>]"
            ]
          },
          "metadata": {
            "tags": []
          },
          "execution_count": 250
        },
        {
          "output_type": "display_data",
          "data": {
            "image/png": "[encoded data removed]",
            "text/plain": [
              "<Figure size 1152x576 with 1 Axes>"
            ]
          },
          "metadata": {
            "tags": [],
            "needs_background": "light"
          }
        }
      ]
    },
    {
      "cell_type": "code",
      "metadata": {
        "id": "AiDa4AToWnzp",
        "colab": {
          "base_uri": "https://localhost:8080/",
          "height": 500
        },
        "outputId": "a4d442e9-c055-4e13-8239-1c6be64dca39"
      },
      "source": [
        "plt.figure(figsize=(16,8))\n",
        "plt.plot(df_new['<CLOSE>'], label='Close Price history')"
      ],
      "execution_count": 251,
      "outputs": [
        {
          "output_type": "execute_result",
          "data": {
            "text/plain": [
              "[<matplotlib.lines.Line2D at 0x7fe4211ab3c8>]"
            ]
          },
          "metadata": {
            "tags": []
          },
          "execution_count": 251
        },
        {
          "output_type": "display_data",
          "data": {
            "image/png": "[encoded data removed]",
            "text/plain": [
              "<Figure size 1152x576 with 1 Axes>"
            ]
          },
          "metadata": {
            "tags": [],
            "needs_background": "light"
          }
        }
      ]
    },
    {
      "cell_type": "markdown",
      "metadata": {
        "id": "1vZkESASbesL"
      },
      "source": [
        "## **Calculating the technical indicators**"
      ]
    },
    {
      "cell_type": "code",
      "metadata": {
        "id": "iqjLW__ObesM",
        "colab": {
          "base_uri": "https://localhost:8080/",
          "height": 223
        },
        "outputId": "862646ae-32e8-4fd4-fc8d-ec36566e27d8"
      },
      "source": [
        "#1. Simple n day moving average\n",
        "#A moving average (MA) is a widely used technical indicator that smooths out price trends by filtering out the “noise” from random short-term price fluctuations.\n",
        "##The most common applications of moving averages are to identify trend direction and to determine support and resistance levels.\n",
        "def moving_average(df, n):\n",
        "    \"\"\"Calculate the moving average for the given data.\n",
        "    :param df: pandas.DataFrame\n",
        "    :param n:\n",
        "    :return: pandas.DataFrame\n",
        "    \"\"\"\n",
        "    MA = pd.Series(df['<CLOSE>'].rolling(n, min_periods=n).mean(), name='MA_' + str(n))\n",
        "    df = df.join(MA)\n",
        "    return df\n",
        "df_new = moving_average(df_new,10)\n",
        "df_new.tail()"
      ],
      "execution_count": 252,
      "outputs": [
        {
          "output_type": "execute_result",
          "data": {
            "text/html": [
              "<div>\n",
              "<style scoped>\n",
              "    .dataframe tbody tr th:only-of-type {\n",
              "        vertical-align: middle;\n",
              "    }\n",
              "\n",
              "    .dataframe tbody tr th {\n",
              "        vertical-align: top;\n",
              "    }\n",
              "\n",
              "    .dataframe thead th {\n",
              "        text-align: right;\n",
              "    }\n",
              "</style>\n",
              "<table border=\"1\" class=\"dataframe\">\n",
              "  <thead>\n",
              "    <tr style=\"text-align: right;\">\n",
              "      <th></th>\n",
              "      <th>&lt;FIRST&gt;</th>\n",
              "      <th>&lt;HIGH&gt;</th>\n",
              "      <th>&lt;LOW&gt;</th>\n",
              "      <th>&lt;CLOSE&gt;</th>\n",
              "      <th>&lt;VALUE&gt;</th>\n",
              "      <th>&lt;VOL&gt;</th>\n",
              "      <th>change_in_price</th>\n",
              "      <th>MA_10</th>\n",
              "    </tr>\n",
              "    <tr>\n",
              "      <th>datetime</th>\n",
              "      <th></th>\n",
              "      <th></th>\n",
              "      <th></th>\n",
              "      <th></th>\n",
              "      <th></th>\n",
              "      <th></th>\n",
              "      <th></th>\n",
              "      <th></th>\n",
              "    </tr>\n",
              "  </thead>\n",
              "  <tbody>\n",
              "    <tr>\n",
              "      <th>2020-05-26</th>\n",
              "      <td>8190.0</td>\n",
              "      <td>8516.0</td>\n",
              "      <td>8190.0</td>\n",
              "      <td>8587.0</td>\n",
              "      <td>10371275460</td>\n",
              "      <td>1266334</td>\n",
              "      <td>-34.0</td>\n",
              "      <td>8518.1</td>\n",
              "    </tr>\n",
              "    <tr>\n",
              "      <th>2020-05-27</th>\n",
              "      <td>8097.0</td>\n",
              "      <td>8300.0</td>\n",
              "      <td>8097.0</td>\n",
              "      <td>8108.0</td>\n",
              "      <td>188257315089</td>\n",
              "      <td>23218666</td>\n",
              "      <td>-479.0</td>\n",
              "      <td>8477.8</td>\n",
              "    </tr>\n",
              "    <tr>\n",
              "      <th>2020-05-30</th>\n",
              "      <td>8334.0</td>\n",
              "      <td>8340.0</td>\n",
              "      <td>7703.0</td>\n",
              "      <td>7936.0</td>\n",
              "      <td>235877669098</td>\n",
              "      <td>29722192</td>\n",
              "      <td>-172.0</td>\n",
              "      <td>8389.9</td>\n",
              "    </tr>\n",
              "    <tr>\n",
              "      <th>2020-05-31</th>\n",
              "      <td>8000.0</td>\n",
              "      <td>8079.0</td>\n",
              "      <td>7540.0</td>\n",
              "      <td>7605.0</td>\n",
              "      <td>185150285046</td>\n",
              "      <td>24346946</td>\n",
              "      <td>-331.0</td>\n",
              "      <td>8252.6</td>\n",
              "    </tr>\n",
              "    <tr>\n",
              "      <th>2020-06-01</th>\n",
              "      <td>7800.0</td>\n",
              "      <td>7985.0</td>\n",
              "      <td>7619.0</td>\n",
              "      <td>7845.0</td>\n",
              "      <td>88286063628</td>\n",
              "      <td>11254209</td>\n",
              "      <td>240.0</td>\n",
              "      <td>8220.8</td>\n",
              "    </tr>\n",
              "  </tbody>\n",
              "</table>\n",
              "</div>"
            ],
            "text/plain": [
              "            <FIRST>  <HIGH>   <LOW>  ...     <VOL>  change_in_price   MA_10\n",
              "datetime                             ...                                   \n",
              "2020-05-26   8190.0  8516.0  8190.0  ...   1266334            -34.0  8518.1\n",
              "2020-05-27   8097.0  8300.0  8097.0  ...  23218666           -479.0  8477.8\n",
              "2020-05-30   8334.0  8340.0  7703.0  ...  29722192           -172.0  8389.9\n",
              "2020-05-31   8000.0  8079.0  7540.0  ...  24346946           -331.0  8252.6\n",
              "2020-06-01   7800.0  7985.0  7619.0  ...  11254209            240.0  8220.8\n",
              "\n",
              "[5 rows x 8 columns]"
            ]
          },
          "metadata": {
            "tags": []
          },
          "execution_count": 252
        }
      ]
    },
    {
      "cell_type": "code",
      "metadata": {
        "id": "080HB4bObesP",
        "colab": {
          "base_uri": "https://localhost:8080/",
          "height": 223
        },
        "outputId": "f5e7a5e9-9006-4ca4-de9d-76bd053cf0fa"
      },
      "source": [
        "#2. Weighted Moving Average (WMA)\n",
        "def weighted_moving_average(df, n):\n",
        "    \"\"\"\n",
        "    :param df: pandas.DataFrame\n",
        "    :param n:\n",
        "    :return: pandas.DataFrame\n",
        "    \"\"\"\n",
        "    WMA = pd.Series(df['<CLOSE>'].ewm(span=n, min_periods=n).mean(), name='WMA_' + str(n))\n",
        "    df = df.join(WMA)\n",
        "    return df\n",
        "df_new = weighted_moving_average(df_new,10)\n",
        "df_new.tail()"
      ],
      "execution_count": 253,
      "outputs": [
        {
          "output_type": "execute_result",
          "data": {
            "text/html": [
              "<div>\n",
              "<style scoped>\n",
              "    .dataframe tbody tr th:only-of-type {\n",
              "        vertical-align: middle;\n",
              "    }\n",
              "\n",
              "    .dataframe tbody tr th {\n",
              "        vertical-align: top;\n",
              "    }\n",
              "\n",
              "    .dataframe thead th {\n",
              "        text-align: right;\n",
              "    }\n",
              "</style>\n",
              "<table border=\"1\" class=\"dataframe\">\n",
              "  <thead>\n",
              "    <tr style=\"text-align: right;\">\n",
              "      <th></th>\n",
              "      <th>&lt;FIRST&gt;</th>\n",
              "      <th>&lt;HIGH&gt;</th>\n",
              "      <th>&lt;LOW&gt;</th>\n",
              "      <th>&lt;CLOSE&gt;</th>\n",
              "      <th>&lt;VALUE&gt;</th>\n",
              "      <th>&lt;VOL&gt;</th>\n",
              "      <th>change_in_price</th>\n",
              "      <th>MA_10</th>\n",
              "      <th>WMA_10</th>\n",
              "    </tr>\n",
              "    <tr>\n",
              "      <th>datetime</th>\n",
              "      <th></th>\n",
              "      <th></th>\n",
              "      <th></th>\n",
              "      <th></th>\n",
              "      <th></th>\n",
              "      <th></th>\n",
              "      <th></th>\n",
              "      <th></th>\n",
              "      <th></th>\n",
              "    </tr>\n",
              "  </thead>\n",
              "  <tbody>\n",
              "    <tr>\n",
              "      <th>2020-05-26</th>\n",
              "      <td>8190.0</td>\n",
              "      <td>8516.0</td>\n",
              "      <td>8190.0</td>\n",
              "      <td>8587.0</td>\n",
              "      <td>10371275460</td>\n",
              "      <td>1266334</td>\n",
              "      <td>-34.0</td>\n",
              "      <td>8518.1</td>\n",
              "      <td>8333.958415</td>\n",
              "    </tr>\n",
              "    <tr>\n",
              "      <th>2020-05-27</th>\n",
              "      <td>8097.0</td>\n",
              "      <td>8300.0</td>\n",
              "      <td>8097.0</td>\n",
              "      <td>8108.0</td>\n",
              "      <td>188257315089</td>\n",
              "      <td>23218666</td>\n",
              "      <td>-479.0</td>\n",
              "      <td>8477.8</td>\n",
              "      <td>8292.875067</td>\n",
              "    </tr>\n",
              "    <tr>\n",
              "      <th>2020-05-30</th>\n",
              "      <td>8334.0</td>\n",
              "      <td>8340.0</td>\n",
              "      <td>7703.0</td>\n",
              "      <td>7936.0</td>\n",
              "      <td>235877669098</td>\n",
              "      <td>29722192</td>\n",
              "      <td>-172.0</td>\n",
              "      <td>8389.9</td>\n",
              "      <td>8227.988691</td>\n",
              "    </tr>\n",
              "    <tr>\n",
              "      <th>2020-05-31</th>\n",
              "      <td>8000.0</td>\n",
              "      <td>8079.0</td>\n",
              "      <td>7540.0</td>\n",
              "      <td>7605.0</td>\n",
              "      <td>185150285046</td>\n",
              "      <td>24346946</td>\n",
              "      <td>-331.0</td>\n",
              "      <td>8252.6</td>\n",
              "      <td>8114.718020</td>\n",
              "    </tr>\n",
              "    <tr>\n",
              "      <th>2020-06-01</th>\n",
              "      <td>7800.0</td>\n",
              "      <td>7985.0</td>\n",
              "      <td>7619.0</td>\n",
              "      <td>7845.0</td>\n",
              "      <td>88286063628</td>\n",
              "      <td>11254209</td>\n",
              "      <td>240.0</td>\n",
              "      <td>8220.8</td>\n",
              "      <td>8065.678380</td>\n",
              "    </tr>\n",
              "  </tbody>\n",
              "</table>\n",
              "</div>"
            ],
            "text/plain": [
              "            <FIRST>  <HIGH>   <LOW>  ...  change_in_price   MA_10       WMA_10\n",
              "datetime                             ...                                      \n",
              "2020-05-26   8190.0  8516.0  8190.0  ...            -34.0  8518.1  8333.958415\n",
              "2020-05-27   8097.0  8300.0  8097.0  ...           -479.0  8477.8  8292.875067\n",
              "2020-05-30   8334.0  8340.0  7703.0  ...           -172.0  8389.9  8227.988691\n",
              "2020-05-31   8000.0  8079.0  7540.0  ...           -331.0  8252.6  8114.718020\n",
              "2020-06-01   7800.0  7985.0  7619.0  ...            240.0  8220.8  8065.678380\n",
              "\n",
              "[5 rows x 9 columns]"
            ]
          },
          "metadata": {
            "tags": []
          },
          "execution_count": 253
        }
      ]
    },
    {
      "cell_type": "code",
      "metadata": {
        "id": "lTZOxNVrbesS",
        "colab": {
          "base_uri": "https://localhost:8080/",
          "height": 223
        },
        "outputId": "2662006f-e01a-417b-c9f7-4027db6969ad"
      },
      "source": [
        "#3. Momentum\n",
        "def momentum(df, n):\n",
        "    \"\"\"\n",
        "    :param df: pandas.DataFrame\n",
        "    :param n:\n",
        "    :return: pandas.DataFrame\n",
        "    \"\"\"\n",
        "    M = pd.Series(df['<CLOSE>'].diff(n), name='MOM_' + str(n))\n",
        "    df = df.join(M)\n",
        "    return df\n",
        "df_new = momentum(df_new,10)\n",
        "df_new.tail()"
      ],
      "execution_count": 254,
      "outputs": [
        {
          "output_type": "execute_result",
          "data": {
            "text/html": [
              "<div>\n",
              "<style scoped>\n",
              "    .dataframe tbody tr th:only-of-type {\n",
              "        vertical-align: middle;\n",
              "    }\n",
              "\n",
              "    .dataframe tbody tr th {\n",
              "        vertical-align: top;\n",
              "    }\n",
              "\n",
              "    .dataframe thead th {\n",
              "        text-align: right;\n",
              "    }\n",
              "</style>\n",
              "<table border=\"1\" class=\"dataframe\">\n",
              "  <thead>\n",
              "    <tr style=\"text-align: right;\">\n",
              "      <th></th>\n",
              "      <th>&lt;FIRST&gt;</th>\n",
              "      <th>&lt;HIGH&gt;</th>\n",
              "      <th>&lt;LOW&gt;</th>\n",
              "      <th>&lt;CLOSE&gt;</th>\n",
              "      <th>&lt;VALUE&gt;</th>\n",
              "      <th>&lt;VOL&gt;</th>\n",
              "      <th>change_in_price</th>\n",
              "      <th>MA_10</th>\n",
              "      <th>WMA_10</th>\n",
              "      <th>MOM_10</th>\n",
              "    </tr>\n",
              "    <tr>\n",
              "      <th>datetime</th>\n",
              "      <th></th>\n",
              "      <th></th>\n",
              "      <th></th>\n",
              "      <th></th>\n",
              "      <th></th>\n",
              "      <th></th>\n",
              "      <th></th>\n",
              "      <th></th>\n",
              "      <th></th>\n",
              "      <th></th>\n",
              "    </tr>\n",
              "  </thead>\n",
              "  <tbody>\n",
              "    <tr>\n",
              "      <th>2020-05-26</th>\n",
              "      <td>8190.0</td>\n",
              "      <td>8516.0</td>\n",
              "      <td>8190.0</td>\n",
              "      <td>8587.0</td>\n",
              "      <td>10371275460</td>\n",
              "      <td>1266334</td>\n",
              "      <td>-34.0</td>\n",
              "      <td>8518.1</td>\n",
              "      <td>8333.958415</td>\n",
              "      <td>464.0</td>\n",
              "    </tr>\n",
              "    <tr>\n",
              "      <th>2020-05-27</th>\n",
              "      <td>8097.0</td>\n",
              "      <td>8300.0</td>\n",
              "      <td>8097.0</td>\n",
              "      <td>8108.0</td>\n",
              "      <td>188257315089</td>\n",
              "      <td>23218666</td>\n",
              "      <td>-479.0</td>\n",
              "      <td>8477.8</td>\n",
              "      <td>8292.875067</td>\n",
              "      <td>-403.0</td>\n",
              "    </tr>\n",
              "    <tr>\n",
              "      <th>2020-05-30</th>\n",
              "      <td>8334.0</td>\n",
              "      <td>8340.0</td>\n",
              "      <td>7703.0</td>\n",
              "      <td>7936.0</td>\n",
              "      <td>235877669098</td>\n",
              "      <td>29722192</td>\n",
              "      <td>-172.0</td>\n",
              "      <td>8389.9</td>\n",
              "      <td>8227.988691</td>\n",
              "      <td>-879.0</td>\n",
              "    </tr>\n",
              "    <tr>\n",
              "      <th>2020-05-31</th>\n",
              "      <td>8000.0</td>\n",
              "      <td>8079.0</td>\n",
              "      <td>7540.0</td>\n",
              "      <td>7605.0</td>\n",
              "      <td>185150285046</td>\n",
              "      <td>24346946</td>\n",
              "      <td>-331.0</td>\n",
              "      <td>8252.6</td>\n",
              "      <td>8114.718020</td>\n",
              "      <td>-1373.0</td>\n",
              "    </tr>\n",
              "    <tr>\n",
              "      <th>2020-06-01</th>\n",
              "      <td>7800.0</td>\n",
              "      <td>7985.0</td>\n",
              "      <td>7619.0</td>\n",
              "      <td>7845.0</td>\n",
              "      <td>88286063628</td>\n",
              "      <td>11254209</td>\n",
              "      <td>240.0</td>\n",
              "      <td>8220.8</td>\n",
              "      <td>8065.678380</td>\n",
              "      <td>-318.0</td>\n",
              "    </tr>\n",
              "  </tbody>\n",
              "</table>\n",
              "</div>"
            ],
            "text/plain": [
              "            <FIRST>  <HIGH>   <LOW>  ...   MA_10       WMA_10  MOM_10\n",
              "datetime                             ...                             \n",
              "2020-05-26   8190.0  8516.0  8190.0  ...  8518.1  8333.958415   464.0\n",
              "2020-05-27   8097.0  8300.0  8097.0  ...  8477.8  8292.875067  -403.0\n",
              "2020-05-30   8334.0  8340.0  7703.0  ...  8389.9  8227.988691  -879.0\n",
              "2020-05-31   8000.0  8079.0  7540.0  ...  8252.6  8114.718020 -1373.0\n",
              "2020-06-01   7800.0  7985.0  7619.0  ...  8220.8  8065.678380  -318.0\n",
              "\n",
              "[5 rows x 10 columns]"
            ]
          },
          "metadata": {
            "tags": []
          },
          "execution_count": 254
        }
      ]
    },
    {
      "cell_type": "code",
      "metadata": {
        "id": "9WasGdiqbesV",
        "colab": {
          "base_uri": "https://localhost:8080/",
          "height": 223
        },
        "outputId": "2b032d92-2cda-4a88-d677-ce948a8bf6be"
      },
      "source": [
        "#4. Stochastic K%\n",
        "def stochastic_oscillator_k(df):\n",
        "    \"\"\"Calculate stochastic oscillator %K for given data.\n",
        "    :param df: pandas.DataFrame\n",
        "    :return: pandas.DataFrame\n",
        "    \"\"\"\n",
        "    SOk = pd.Series((df['<CLOSE>'] - df['<LOW>']) / (df['<HIGH>'] - df['<LOW>']), name='SO_k')\n",
        "    df = df.join(SOk)\n",
        "    return df\n",
        "df_new = stochastic_oscillator_k(df_new)\n",
        "df_new.tail()"
      ],
      "execution_count": 255,
      "outputs": [
        {
          "output_type": "execute_result",
          "data": {
            "text/html": [
              "<div>\n",
              "<style scoped>\n",
              "    .dataframe tbody tr th:only-of-type {\n",
              "        vertical-align: middle;\n",
              "    }\n",
              "\n",
              "    .dataframe tbody tr th {\n",
              "        vertical-align: top;\n",
              "    }\n",
              "\n",
              "    .dataframe thead th {\n",
              "        text-align: right;\n",
              "    }\n",
              "</style>\n",
              "<table border=\"1\" class=\"dataframe\">\n",
              "  <thead>\n",
              "    <tr style=\"text-align: right;\">\n",
              "      <th></th>\n",
              "      <th>&lt;FIRST&gt;</th>\n",
              "      <th>&lt;HIGH&gt;</th>\n",
              "      <th>&lt;LOW&gt;</th>\n",
              "      <th>&lt;CLOSE&gt;</th>\n",
              "      <th>&lt;VALUE&gt;</th>\n",
              "      <th>&lt;VOL&gt;</th>\n",
              "      <th>change_in_price</th>\n",
              "      <th>MA_10</th>\n",
              "      <th>WMA_10</th>\n",
              "      <th>MOM_10</th>\n",
              "      <th>SO_k</th>\n",
              "    </tr>\n",
              "    <tr>\n",
              "      <th>datetime</th>\n",
              "      <th></th>\n",
              "      <th></th>\n",
              "      <th></th>\n",
              "      <th></th>\n",
              "      <th></th>\n",
              "      <th></th>\n",
              "      <th></th>\n",
              "      <th></th>\n",
              "      <th></th>\n",
              "      <th></th>\n",
              "      <th></th>\n",
              "    </tr>\n",
              "  </thead>\n",
              "  <tbody>\n",
              "    <tr>\n",
              "      <th>2020-05-26</th>\n",
              "      <td>8190.0</td>\n",
              "      <td>8516.0</td>\n",
              "      <td>8190.0</td>\n",
              "      <td>8587.0</td>\n",
              "      <td>10371275460</td>\n",
              "      <td>1266334</td>\n",
              "      <td>-34.0</td>\n",
              "      <td>8518.1</td>\n",
              "      <td>8333.958415</td>\n",
              "      <td>464.0</td>\n",
              "      <td>1.217791</td>\n",
              "    </tr>\n",
              "    <tr>\n",
              "      <th>2020-05-27</th>\n",
              "      <td>8097.0</td>\n",
              "      <td>8300.0</td>\n",
              "      <td>8097.0</td>\n",
              "      <td>8108.0</td>\n",
              "      <td>188257315089</td>\n",
              "      <td>23218666</td>\n",
              "      <td>-479.0</td>\n",
              "      <td>8477.8</td>\n",
              "      <td>8292.875067</td>\n",
              "      <td>-403.0</td>\n",
              "      <td>0.054187</td>\n",
              "    </tr>\n",
              "    <tr>\n",
              "      <th>2020-05-30</th>\n",
              "      <td>8334.0</td>\n",
              "      <td>8340.0</td>\n",
              "      <td>7703.0</td>\n",
              "      <td>7936.0</td>\n",
              "      <td>235877669098</td>\n",
              "      <td>29722192</td>\n",
              "      <td>-172.0</td>\n",
              "      <td>8389.9</td>\n",
              "      <td>8227.988691</td>\n",
              "      <td>-879.0</td>\n",
              "      <td>0.365777</td>\n",
              "    </tr>\n",
              "    <tr>\n",
              "      <th>2020-05-31</th>\n",
              "      <td>8000.0</td>\n",
              "      <td>8079.0</td>\n",
              "      <td>7540.0</td>\n",
              "      <td>7605.0</td>\n",
              "      <td>185150285046</td>\n",
              "      <td>24346946</td>\n",
              "      <td>-331.0</td>\n",
              "      <td>8252.6</td>\n",
              "      <td>8114.718020</td>\n",
              "      <td>-1373.0</td>\n",
              "      <td>0.120594</td>\n",
              "    </tr>\n",
              "    <tr>\n",
              "      <th>2020-06-01</th>\n",
              "      <td>7800.0</td>\n",
              "      <td>7985.0</td>\n",
              "      <td>7619.0</td>\n",
              "      <td>7845.0</td>\n",
              "      <td>88286063628</td>\n",
              "      <td>11254209</td>\n",
              "      <td>240.0</td>\n",
              "      <td>8220.8</td>\n",
              "      <td>8065.678380</td>\n",
              "      <td>-318.0</td>\n",
              "      <td>0.617486</td>\n",
              "    </tr>\n",
              "  </tbody>\n",
              "</table>\n",
              "</div>"
            ],
            "text/plain": [
              "            <FIRST>  <HIGH>   <LOW>  ...       WMA_10  MOM_10      SO_k\n",
              "datetime                             ...                               \n",
              "2020-05-26   8190.0  8516.0  8190.0  ...  8333.958415   464.0  1.217791\n",
              "2020-05-27   8097.0  8300.0  8097.0  ...  8292.875067  -403.0  0.054187\n",
              "2020-05-30   8334.0  8340.0  7703.0  ...  8227.988691  -879.0  0.365777\n",
              "2020-05-31   8000.0  8079.0  7540.0  ...  8114.718020 -1373.0  0.120594\n",
              "2020-06-01   7800.0  7985.0  7619.0  ...  8065.678380  -318.0  0.617486\n",
              "\n",
              "[5 rows x 11 columns]"
            ]
          },
          "metadata": {
            "tags": []
          },
          "execution_count": 255
        }
      ]
    },
    {
      "cell_type": "code",
      "metadata": {
        "id": "d5u31Lq2besX",
        "colab": {
          "base_uri": "https://localhost:8080/",
          "height": 223
        },
        "outputId": "d04b6bfc-b0e9-4059-f2f7-c3f68988dad8"
      },
      "source": [
        "#5. Stochastic D%\n",
        "def stochastic_oscillator_d(df, n):\n",
        "    \"\"\"Calculate stochastic oscillator %D for given data.\n",
        "    :param df: pandas.DataFrame\n",
        "    :param n:\n",
        "    :return: pandas.DataFrame\n",
        "    \"\"\"\n",
        "    SOk = pd.Series((df['<CLOSE>'] - df['<LOW>']) / (df['<HIGH>'] - df['<LOW>']), name='SO%k')\n",
        "    SOd = pd.Series(SOk.ewm(span=n, min_periods=n).mean(), name='SO_' + str(n))\n",
        "    df = df.join(SOd)\n",
        "    return df\n",
        "df_new = stochastic_oscillator_d(df_new,10)\n",
        "df_new.tail()"
      ],
      "execution_count": 256,
      "outputs": [
        {
          "output_type": "execute_result",
          "data": {
            "text/html": [
              "<div>\n",
              "<style scoped>\n",
              "    .dataframe tbody tr th:only-of-type {\n",
              "        vertical-align: middle;\n",
              "    }\n",
              "\n",
              "    .dataframe tbody tr th {\n",
              "        vertical-align: top;\n",
              "    }\n",
              "\n",
              "    .dataframe thead th {\n",
              "        text-align: right;\n",
              "    }\n",
              "</style>\n",
              "<table border=\"1\" class=\"dataframe\">\n",
              "  <thead>\n",
              "    <tr style=\"text-align: right;\">\n",
              "      <th></th>\n",
              "      <th>&lt;FIRST&gt;</th>\n",
              "      <th>&lt;HIGH&gt;</th>\n",
              "      <th>&lt;LOW&gt;</th>\n",
              "      <th>&lt;CLOSE&gt;</th>\n",
              "      <th>&lt;VALUE&gt;</th>\n",
              "      <th>&lt;VOL&gt;</th>\n",
              "      <th>change_in_price</th>\n",
              "      <th>MA_10</th>\n",
              "      <th>WMA_10</th>\n",
              "      <th>MOM_10</th>\n",
              "      <th>SO_k</th>\n",
              "      <th>SO_10</th>\n",
              "    </tr>\n",
              "    <tr>\n",
              "      <th>datetime</th>\n",
              "      <th></th>\n",
              "      <th></th>\n",
              "      <th></th>\n",
              "      <th></th>\n",
              "      <th></th>\n",
              "      <th></th>\n",
              "      <th></th>\n",
              "      <th></th>\n",
              "      <th></th>\n",
              "      <th></th>\n",
              "      <th></th>\n",
              "      <th></th>\n",
              "    </tr>\n",
              "  </thead>\n",
              "  <tbody>\n",
              "    <tr>\n",
              "      <th>2020-05-26</th>\n",
              "      <td>8190.0</td>\n",
              "      <td>8516.0</td>\n",
              "      <td>8190.0</td>\n",
              "      <td>8587.0</td>\n",
              "      <td>10371275460</td>\n",
              "      <td>1266334</td>\n",
              "      <td>-34.0</td>\n",
              "      <td>8518.1</td>\n",
              "      <td>8333.958415</td>\n",
              "      <td>464.0</td>\n",
              "      <td>1.217791</td>\n",
              "      <td>0.741580</td>\n",
              "    </tr>\n",
              "    <tr>\n",
              "      <th>2020-05-27</th>\n",
              "      <td>8097.0</td>\n",
              "      <td>8300.0</td>\n",
              "      <td>8097.0</td>\n",
              "      <td>8108.0</td>\n",
              "      <td>188257315089</td>\n",
              "      <td>23218666</td>\n",
              "      <td>-479.0</td>\n",
              "      <td>8477.8</td>\n",
              "      <td>8292.875067</td>\n",
              "      <td>-403.0</td>\n",
              "      <td>0.054187</td>\n",
              "      <td>0.594541</td>\n",
              "    </tr>\n",
              "    <tr>\n",
              "      <th>2020-05-30</th>\n",
              "      <td>8334.0</td>\n",
              "      <td>8340.0</td>\n",
              "      <td>7703.0</td>\n",
              "      <td>7936.0</td>\n",
              "      <td>235877669098</td>\n",
              "      <td>29722192</td>\n",
              "      <td>-172.0</td>\n",
              "      <td>8389.9</td>\n",
              "      <td>8227.988691</td>\n",
              "      <td>-879.0</td>\n",
              "      <td>0.365777</td>\n",
              "      <td>0.547128</td>\n",
              "    </tr>\n",
              "    <tr>\n",
              "      <th>2020-05-31</th>\n",
              "      <td>8000.0</td>\n",
              "      <td>8079.0</td>\n",
              "      <td>7540.0</td>\n",
              "      <td>7605.0</td>\n",
              "      <td>185150285046</td>\n",
              "      <td>24346946</td>\n",
              "      <td>-331.0</td>\n",
              "      <td>8252.6</td>\n",
              "      <td>8114.718020</td>\n",
              "      <td>-1373.0</td>\n",
              "      <td>0.120594</td>\n",
              "      <td>0.460918</td>\n",
              "    </tr>\n",
              "    <tr>\n",
              "      <th>2020-06-01</th>\n",
              "      <td>7800.0</td>\n",
              "      <td>7985.0</td>\n",
              "      <td>7619.0</td>\n",
              "      <td>7845.0</td>\n",
              "      <td>88286063628</td>\n",
              "      <td>11254209</td>\n",
              "      <td>240.0</td>\n",
              "      <td>8220.8</td>\n",
              "      <td>8065.678380</td>\n",
              "      <td>-318.0</td>\n",
              "      <td>0.617486</td>\n",
              "      <td>0.491934</td>\n",
              "    </tr>\n",
              "  </tbody>\n",
              "</table>\n",
              "</div>"
            ],
            "text/plain": [
              "            <FIRST>  <HIGH>   <LOW>  ...  MOM_10      SO_k     SO_10\n",
              "datetime                             ...                            \n",
              "2020-05-26   8190.0  8516.0  8190.0  ...   464.0  1.217791  0.741580\n",
              "2020-05-27   8097.0  8300.0  8097.0  ...  -403.0  0.054187  0.594541\n",
              "2020-05-30   8334.0  8340.0  7703.0  ...  -879.0  0.365777  0.547128\n",
              "2020-05-31   8000.0  8079.0  7540.0  ... -1373.0  0.120594  0.460918\n",
              "2020-06-01   7800.0  7985.0  7619.0  ...  -318.0  0.617486  0.491934\n",
              "\n",
              "[5 rows x 12 columns]"
            ]
          },
          "metadata": {
            "tags": []
          },
          "execution_count": 256
        }
      ]
    },
    {
      "cell_type": "code",
      "metadata": {
        "id": "oki_RUaObesb",
        "colab": {
          "base_uri": "https://localhost:8080/",
          "height": 124
        },
        "outputId": "7e86bb24-2bb0-4527-dc6c-7599bcde2c0e"
      },
      "source": [
        "#6. Relative Strength Index\n",
        "#Error\n",
        "\"\"\"\n",
        "def relative_strength_index(df, n):\n",
        "    Calculate Relative Strength Index(RSI) for given data.\n",
        "    :param df: pandas.DataFrame\n",
        "    :param n:\n",
        "    :return: pandas.DataFrame\n",
        "    i = df.index[0]\n",
        "    UpI = [0]\n",
        "    DoI = [0]\n",
        "    while i + 1 <= df.index[-1]:\n",
        "        UpMove = float(df.loc[i + 1, 'high']) - float(df.loc[i, 'high'])\n",
        "        DoMove = float(df.loc[i, 'low']) - float(df.loc[i + 1, 'low'])\n",
        "        if UpMove > DoMove and UpMove > 0:\n",
        "            UpD = UpMove\n",
        "        else:\n",
        "            UpD = 0\n",
        "        UpI.append(UpD)\n",
        "        if DoMove > UpMove and DoMove > 0:\n",
        "            DoD = DoMove\n",
        "        else:\n",
        "            DoD = 0\n",
        "        DoI.append(DoD)\n",
        "        i = i + 1\n",
        "    UpI = pd.Series(UpI)\n",
        "\n",
        "    DoI = pd.Series(DoI)\n",
        "    PosDI = pd.Series(UpI.ewm(span=n, min_periods=n).mean())\n",
        "    NegDI = pd.Series(DoI.ewm(span=n, min_periods=n).mean())\n",
        "\n",
        "    # rsi = pd.Series(PosDI / (PosDI + NegDI), name='RSI_' + str(n))\n",
        "    rsi = pd.DataFrame(PosDI / (PosDI + NegDI), columns=['RSI_' + str(n)])\n",
        "    rsi = rsi.set_index(df.index)\n",
        "    df = df.join(rsi)\n",
        "    return df\n",
        "\"\"\""
      ],
      "execution_count": 257,
      "outputs": [
        {
          "output_type": "execute_result",
          "data": {
            "application/vnd.google.colaboratory.intrinsic+json": {
              "type": "string"
            },
            "text/plain": [
              "\"\\ndef relative_strength_index(df, n):\\n    Calculate Relative Strength Index(RSI) for given data.\\n    :param df: pandas.DataFrame\\n    :param n:\\n    :return: pandas.DataFrame\\n    i = df.index[0]\\n    UpI = [0]\\n    DoI = [0]\\n    while i + 1 <= df.index[-1]:\\n        UpMove = float(df.loc[i + 1, 'high']) - float(df.loc[i, 'high'])\\n        DoMove = float(df.loc[i, 'low']) - float(df.loc[i + 1, 'low'])\\n        if UpMove > DoMove and UpMove > 0:\\n            UpD = UpMove\\n        else:\\n            UpD = 0\\n        UpI.append(UpD)\\n        if DoMove > UpMove and DoMove > 0:\\n            DoD = DoMove\\n        else:\\n            DoD = 0\\n        DoI.append(DoD)\\n        i = i + 1\\n    UpI = pd.Series(UpI)\\n\\n    DoI = pd.Series(DoI)\\n    PosDI = pd.Series(UpI.ewm(span=n, min_periods=n).mean())\\n    NegDI = pd.Series(DoI.ewm(span=n, min_periods=n).mean())\\n\\n    # rsi = pd.Series(PosDI / (PosDI + NegDI), name='RSI_' + str(n))\\n    rsi = pd.DataFrame(PosDI / (PosDI + NegDI), columns=['RSI_' + str(n)])\\n    rsi = rsi.set_index(df.index)\\n    df = df.join(rsi)\\n    return df\\n\""
            ]
          },
          "metadata": {
            "tags": []
          },
          "execution_count": 257
        }
      ]
    },
    {
      "cell_type": "code",
      "metadata": {
        "id": "SzBt7Xdobese",
        "colab": {
          "base_uri": "https://localhost:8080/",
          "height": 223
        },
        "outputId": "5b250010-2421-4fd2-9532-47ee60de64fa"
      },
      "source": [
        "#7. Signal\n",
        "def macd(df, n_fast, n_slow):\n",
        "    \"\"\"Calculate MACD, MACD Signal and MACD difference\n",
        "    :param df: pandas.DataFrame\n",
        "    :param n_fast:\n",
        "    :param n_slow:\n",
        "    :return: pandas.DataFrame\n",
        "    \"\"\"\n",
        "    EMAfast = pd.Series(df['<CLOSE>'].ewm(span=n_fast, min_periods=n_slow).mean())\n",
        "    EMAslow = pd.Series(df['<CLOSE>'].ewm(span=n_slow, min_periods=n_slow).mean())\n",
        "    MACD = pd.Series(EMAfast - EMAslow, name='MACD_' + str(n_fast) + '_' + str(n_slow))\n",
        "    MACDsign = pd.Series(MACD.ewm(span=9, min_periods=9).mean(), name='MACDsign_' + str(n_fast) + '_' + str(n_slow))\n",
        "    MACDdiff = pd.Series(MACD - MACDsign, name='MACDdiff_' + str(n_fast) + '_' + str(n_slow))\n",
        "    df = df.join(MACD)\n",
        "    df = df.join(MACDsign)\n",
        "    df = df.join(MACDdiff)\n",
        "    return df\n",
        "df_new = macd(df_new,12,26)\n",
        "df_new.head()"
      ],
      "execution_count": 258,
      "outputs": [
        {
          "output_type": "execute_result",
          "data": {
            "text/html": [
              "<div>\n",
              "<style scoped>\n",
              "    .dataframe tbody tr th:only-of-type {\n",
              "        vertical-align: middle;\n",
              "    }\n",
              "\n",
              "    .dataframe tbody tr th {\n",
              "        vertical-align: top;\n",
              "    }\n",
              "\n",
              "    .dataframe thead th {\n",
              "        text-align: right;\n",
              "    }\n",
              "</style>\n",
              "<table border=\"1\" class=\"dataframe\">\n",
              "  <thead>\n",
              "    <tr style=\"text-align: right;\">\n",
              "      <th></th>\n",
              "      <th>&lt;FIRST&gt;</th>\n",
              "      <th>&lt;HIGH&gt;</th>\n",
              "      <th>&lt;LOW&gt;</th>\n",
              "      <th>&lt;CLOSE&gt;</th>\n",
              "      <th>&lt;VALUE&gt;</th>\n",
              "      <th>&lt;VOL&gt;</th>\n",
              "      <th>change_in_price</th>\n",
              "      <th>MA_10</th>\n",
              "      <th>WMA_10</th>\n",
              "      <th>MOM_10</th>\n",
              "      <th>SO_k</th>\n",
              "      <th>SO_10</th>\n",
              "      <th>MACD_12_26</th>\n",
              "      <th>MACDsign_12_26</th>\n",
              "      <th>MACDdiff_12_26</th>\n",
              "    </tr>\n",
              "    <tr>\n",
              "      <th>datetime</th>\n",
              "      <th></th>\n",
              "      <th></th>\n",
              "      <th></th>\n",
              "      <th></th>\n",
              "      <th></th>\n",
              "      <th></th>\n",
              "      <th></th>\n",
              "      <th></th>\n",
              "      <th></th>\n",
              "      <th></th>\n",
              "      <th></th>\n",
              "      <th></th>\n",
              "      <th></th>\n",
              "      <th></th>\n",
              "      <th></th>\n",
              "    </tr>\n",
              "  </thead>\n",
              "  <tbody>\n",
              "    <tr>\n",
              "      <th>2001-12-23</th>\n",
              "      <td>1000.0</td>\n",
              "      <td>1000.0</td>\n",
              "      <td>1000.0</td>\n",
              "      <td>1000.0</td>\n",
              "      <td>1000000</td>\n",
              "      <td>1000</td>\n",
              "      <td>NaN</td>\n",
              "      <td>NaN</td>\n",
              "      <td>NaN</td>\n",
              "      <td>NaN</td>\n",
              "      <td>NaN</td>\n",
              "      <td>NaN</td>\n",
              "      <td>NaN</td>\n",
              "      <td>NaN</td>\n",
              "      <td>NaN</td>\n",
              "    </tr>\n",
              "    <tr>\n",
              "      <th>2002-01-29</th>\n",
              "      <td>1000.0</td>\n",
              "      <td>1000.0</td>\n",
              "      <td>1000.0</td>\n",
              "      <td>1000.0</td>\n",
              "      <td>10000</td>\n",
              "      <td>10</td>\n",
              "      <td>0.0</td>\n",
              "      <td>NaN</td>\n",
              "      <td>NaN</td>\n",
              "      <td>NaN</td>\n",
              "      <td>NaN</td>\n",
              "      <td>NaN</td>\n",
              "      <td>NaN</td>\n",
              "      <td>NaN</td>\n",
              "      <td>NaN</td>\n",
              "    </tr>\n",
              "    <tr>\n",
              "      <th>2002-09-02</th>\n",
              "      <td>1000.0</td>\n",
              "      <td>1000.0</td>\n",
              "      <td>1000.0</td>\n",
              "      <td>1000.0</td>\n",
              "      <td>1000000</td>\n",
              "      <td>1000</td>\n",
              "      <td>0.0</td>\n",
              "      <td>NaN</td>\n",
              "      <td>NaN</td>\n",
              "      <td>NaN</td>\n",
              "      <td>NaN</td>\n",
              "      <td>NaN</td>\n",
              "      <td>NaN</td>\n",
              "      <td>NaN</td>\n",
              "      <td>NaN</td>\n",
              "    </tr>\n",
              "    <tr>\n",
              "      <th>2003-02-24</th>\n",
              "      <td>1000.0</td>\n",
              "      <td>1000.0</td>\n",
              "      <td>1000.0</td>\n",
              "      <td>1000.0</td>\n",
              "      <td>2000000</td>\n",
              "      <td>2000</td>\n",
              "      <td>0.0</td>\n",
              "      <td>NaN</td>\n",
              "      <td>NaN</td>\n",
              "      <td>NaN</td>\n",
              "      <td>NaN</td>\n",
              "      <td>NaN</td>\n",
              "      <td>NaN</td>\n",
              "      <td>NaN</td>\n",
              "      <td>NaN</td>\n",
              "    </tr>\n",
              "    <tr>\n",
              "      <th>2003-03-18</th>\n",
              "      <td>1000.0</td>\n",
              "      <td>1000.0</td>\n",
              "      <td>1000.0</td>\n",
              "      <td>1000.0</td>\n",
              "      <td>50000</td>\n",
              "      <td>50</td>\n",
              "      <td>0.0</td>\n",
              "      <td>NaN</td>\n",
              "      <td>NaN</td>\n",
              "      <td>NaN</td>\n",
              "      <td>NaN</td>\n",
              "      <td>NaN</td>\n",
              "      <td>NaN</td>\n",
              "      <td>NaN</td>\n",
              "      <td>NaN</td>\n",
              "    </tr>\n",
              "  </tbody>\n",
              "</table>\n",
              "</div>"
            ],
            "text/plain": [
              "            <FIRST>  <HIGH>   <LOW>  ...  MACD_12_26  MACDsign_12_26  MACDdiff_12_26\n",
              "datetime                             ...                                            \n",
              "2001-12-23   1000.0  1000.0  1000.0  ...         NaN             NaN             NaN\n",
              "2002-01-29   1000.0  1000.0  1000.0  ...         NaN             NaN             NaN\n",
              "2002-09-02   1000.0  1000.0  1000.0  ...         NaN             NaN             NaN\n",
              "2003-02-24   1000.0  1000.0  1000.0  ...         NaN             NaN             NaN\n",
              "2003-03-18   1000.0  1000.0  1000.0  ...         NaN             NaN             NaN\n",
              "\n",
              "[5 rows x 15 columns]"
            ]
          },
          "metadata": {
            "tags": []
          },
          "execution_count": 258
        }
      ]
    },
    {
      "cell_type": "code",
      "metadata": {
        "id": "cfobRA3dbesh"
      },
      "source": [
        "#8. Larry Williams R%\n",
        "#lEFT"
      ],
      "execution_count": 259,
      "outputs": []
    },
    {
      "cell_type": "code",
      "metadata": {
        "id": "tAAH6tYWbesm",
        "colab": {
          "base_uri": "https://localhost:8080/",
          "height": 363
        },
        "outputId": "0e55423e-0f05-4003-ac42-bceacf7e9714"
      },
      "source": [
        "#9. Accumulation / Distribution\n",
        "def accumulation_distribution(df, n):\n",
        "    \"\"\"Calculate Accumulation/Distribution for given data.\n",
        "    :param df: pandas.DataFrame\n",
        "    :param n:\n",
        "    :return: pandas.DataFrame\n",
        "    \"\"\"\n",
        "    ad = (2 * df['<CLOSE>'] - df['<HIGH>'] - df['<LOW>']) / (df['<HIGH>'] - df['<LOW>']) * df['<VOL>']\n",
        "    M = ad.diff(n - 1)\n",
        "    N = ad.shift(n - 1)\n",
        "    ROC = M / N\n",
        "    AD = pd.Series(ROC, name='Acc/Dist_ROC_' + str(n))\n",
        "    df = df.join(AD)\n",
        "    return df\n",
        "df_new = accumulation_distribution(df_new,10)\n",
        "df_new.tail()"
      ],
      "execution_count": 260,
      "outputs": [
        {
          "output_type": "stream",
          "text": [
            "/usr/local/lib/python3.6/dist-packages/pandas/core/algorithms.py:1977: RuntimeWarning: invalid value encountered in subtract\n",
            "  out_arr[res_indexer] = arr[res_indexer] - arr[lag_indexer]\n"
          ],
          "name": "stderr"
        },
        {
          "output_type": "execute_result",
          "data": {
            "text/html": [
              "<div>\n",
              "<style scoped>\n",
              "    .dataframe tbody tr th:only-of-type {\n",
              "        vertical-align: middle;\n",
              "    }\n",
              "\n",
              "    .dataframe tbody tr th {\n",
              "        vertical-align: top;\n",
              "    }\n",
              "\n",
              "    .dataframe thead th {\n",
              "        text-align: right;\n",
              "    }\n",
              "</style>\n",
              "<table border=\"1\" class=\"dataframe\">\n",
              "  <thead>\n",
              "    <tr style=\"text-align: right;\">\n",
              "      <th></th>\n",
              "      <th>&lt;FIRST&gt;</th>\n",
              "      <th>&lt;HIGH&gt;</th>\n",
              "      <th>&lt;LOW&gt;</th>\n",
              "      <th>&lt;CLOSE&gt;</th>\n",
              "      <th>&lt;VALUE&gt;</th>\n",
              "      <th>&lt;VOL&gt;</th>\n",
              "      <th>change_in_price</th>\n",
              "      <th>MA_10</th>\n",
              "      <th>WMA_10</th>\n",
              "      <th>MOM_10</th>\n",
              "      <th>SO_k</th>\n",
              "      <th>SO_10</th>\n",
              "      <th>MACD_12_26</th>\n",
              "      <th>MACDsign_12_26</th>\n",
              "      <th>MACDdiff_12_26</th>\n",
              "      <th>Acc/Dist_ROC_10</th>\n",
              "    </tr>\n",
              "    <tr>\n",
              "      <th>datetime</th>\n",
              "      <th></th>\n",
              "      <th></th>\n",
              "      <th></th>\n",
              "      <th></th>\n",
              "      <th></th>\n",
              "      <th></th>\n",
              "      <th></th>\n",
              "      <th></th>\n",
              "      <th></th>\n",
              "      <th></th>\n",
              "      <th></th>\n",
              "      <th></th>\n",
              "      <th></th>\n",
              "      <th></th>\n",
              "      <th></th>\n",
              "      <th></th>\n",
              "    </tr>\n",
              "  </thead>\n",
              "  <tbody>\n",
              "    <tr>\n",
              "      <th>2020-05-26</th>\n",
              "      <td>8190.0</td>\n",
              "      <td>8516.0</td>\n",
              "      <td>8190.0</td>\n",
              "      <td>8587.0</td>\n",
              "      <td>10371275460</td>\n",
              "      <td>1266334</td>\n",
              "      <td>-34.0</td>\n",
              "      <td>8518.1</td>\n",
              "      <td>8333.958415</td>\n",
              "      <td>464.0</td>\n",
              "      <td>1.217791</td>\n",
              "      <td>0.741580</td>\n",
              "      <td>936.098913</td>\n",
              "      <td>973.276660</td>\n",
              "      <td>-37.177747</td>\n",
              "      <td>NaN</td>\n",
              "    </tr>\n",
              "    <tr>\n",
              "      <th>2020-05-27</th>\n",
              "      <td>8097.0</td>\n",
              "      <td>8300.0</td>\n",
              "      <td>8097.0</td>\n",
              "      <td>8108.0</td>\n",
              "      <td>188257315089</td>\n",
              "      <td>23218666</td>\n",
              "      <td>-479.0</td>\n",
              "      <td>8477.8</td>\n",
              "      <td>8292.875067</td>\n",
              "      <td>-403.0</td>\n",
              "      <td>0.054187</td>\n",
              "      <td>0.594541</td>\n",
              "      <td>858.789162</td>\n",
              "      <td>950.379160</td>\n",
              "      <td>-91.589998</td>\n",
              "      <td>NaN</td>\n",
              "    </tr>\n",
              "    <tr>\n",
              "      <th>2020-05-30</th>\n",
              "      <td>8334.0</td>\n",
              "      <td>8340.0</td>\n",
              "      <td>7703.0</td>\n",
              "      <td>7936.0</td>\n",
              "      <td>235877669098</td>\n",
              "      <td>29722192</td>\n",
              "      <td>-172.0</td>\n",
              "      <td>8389.9</td>\n",
              "      <td>8227.988691</td>\n",
              "      <td>-879.0</td>\n",
              "      <td>0.365777</td>\n",
              "      <td>0.547128</td>\n",
              "      <td>774.711276</td>\n",
              "      <td>915.245584</td>\n",
              "      <td>-140.534308</td>\n",
              "      <td>NaN</td>\n",
              "    </tr>\n",
              "    <tr>\n",
              "      <th>2020-05-31</th>\n",
              "      <td>8000.0</td>\n",
              "      <td>8079.0</td>\n",
              "      <td>7540.0</td>\n",
              "      <td>7605.0</td>\n",
              "      <td>185150285046</td>\n",
              "      <td>24346946</td>\n",
              "      <td>-331.0</td>\n",
              "      <td>8252.6</td>\n",
              "      <td>8114.718020</td>\n",
              "      <td>-1373.0</td>\n",
              "      <td>0.120594</td>\n",
              "      <td>0.460918</td>\n",
              "      <td>673.605111</td>\n",
              "      <td>866.917489</td>\n",
              "      <td>-193.312378</td>\n",
              "      <td>3.756763</td>\n",
              "    </tr>\n",
              "    <tr>\n",
              "      <th>2020-06-01</th>\n",
              "      <td>7800.0</td>\n",
              "      <td>7985.0</td>\n",
              "      <td>7619.0</td>\n",
              "      <td>7845.0</td>\n",
              "      <td>88286063628</td>\n",
              "      <td>11254209</td>\n",
              "      <td>240.0</td>\n",
              "      <td>8220.8</td>\n",
              "      <td>8065.678380</td>\n",
              "      <td>-318.0</td>\n",
              "      <td>0.617486</td>\n",
              "      <td>0.491934</td>\n",
              "      <td>605.859767</td>\n",
              "      <td>814.705945</td>\n",
              "      <td>-208.846178</td>\n",
              "      <td>-1.068315</td>\n",
              "    </tr>\n",
              "  </tbody>\n",
              "</table>\n",
              "</div>"
            ],
            "text/plain": [
              "            <FIRST>  <HIGH>  ...  MACDdiff_12_26  Acc/Dist_ROC_10\n",
              "datetime                     ...                                 \n",
              "2020-05-26   8190.0  8516.0  ...      -37.177747              NaN\n",
              "2020-05-27   8097.0  8300.0  ...      -91.589998              NaN\n",
              "2020-05-30   8334.0  8340.0  ...     -140.534308              NaN\n",
              "2020-05-31   8000.0  8079.0  ...     -193.312378         3.756763\n",
              "2020-06-01   7800.0  7985.0  ...     -208.846178        -1.068315\n",
              "\n",
              "[5 rows x 16 columns]"
            ]
          },
          "metadata": {
            "tags": []
          },
          "execution_count": 260
        }
      ]
    },
    {
      "cell_type": "code",
      "metadata": {
        "id": "XCFLfxtUbesq",
        "colab": {
          "base_uri": "https://localhost:8080/",
          "height": 328
        },
        "outputId": "7783c46b-f93f-4baf-cc0e-4cf5b984fd04"
      },
      "source": [
        "#10. Commodity Channel Index\n",
        "def commodity_channel_index(df, n):\n",
        "    \"\"\"Calculate Commodity Channel Index for given data.\n",
        "    :param df: pandas.DataFrame\n",
        "    :param n:\n",
        "    :return: pandas.DataFrame\n",
        "    \"\"\"\n",
        "    PP = (df['<HIGH>'] + df['<LOW>'] + df['<CLOSE>']) / 3\n",
        "    CCI = pd.Series((PP - PP.rolling(n, min_periods=n).mean()) / PP.rolling(n, min_periods=n).std(),\n",
        "                    name='CCI_' + str(n))\n",
        "    df = df.join(CCI)\n",
        "    return df\n",
        "df_new = commodity_channel_index(df_new,10)\n",
        "df_new.tail()"
      ],
      "execution_count": 261,
      "outputs": [
        {
          "output_type": "execute_result",
          "data": {
            "text/html": [
              "<div>\n",
              "<style scoped>\n",
              "    .dataframe tbody tr th:only-of-type {\n",
              "        vertical-align: middle;\n",
              "    }\n",
              "\n",
              "    .dataframe tbody tr th {\n",
              "        vertical-align: top;\n",
              "    }\n",
              "\n",
              "    .dataframe thead th {\n",
              "        text-align: right;\n",
              "    }\n",
              "</style>\n",
              "<table border=\"1\" class=\"dataframe\">\n",
              "  <thead>\n",
              "    <tr style=\"text-align: right;\">\n",
              "      <th></th>\n",
              "      <th>&lt;FIRST&gt;</th>\n",
              "      <th>&lt;HIGH&gt;</th>\n",
              "      <th>&lt;LOW&gt;</th>\n",
              "      <th>&lt;CLOSE&gt;</th>\n",
              "      <th>&lt;VALUE&gt;</th>\n",
              "      <th>&lt;VOL&gt;</th>\n",
              "      <th>change_in_price</th>\n",
              "      <th>MA_10</th>\n",
              "      <th>WMA_10</th>\n",
              "      <th>MOM_10</th>\n",
              "      <th>SO_k</th>\n",
              "      <th>SO_10</th>\n",
              "      <th>MACD_12_26</th>\n",
              "      <th>MACDsign_12_26</th>\n",
              "      <th>MACDdiff_12_26</th>\n",
              "      <th>Acc/Dist_ROC_10</th>\n",
              "      <th>CCI_10</th>\n",
              "    </tr>\n",
              "    <tr>\n",
              "      <th>datetime</th>\n",
              "      <th></th>\n",
              "      <th></th>\n",
              "      <th></th>\n",
              "      <th></th>\n",
              "      <th></th>\n",
              "      <th></th>\n",
              "      <th></th>\n",
              "      <th></th>\n",
              "      <th></th>\n",
              "      <th></th>\n",
              "      <th></th>\n",
              "      <th></th>\n",
              "      <th></th>\n",
              "      <th></th>\n",
              "      <th></th>\n",
              "      <th></th>\n",
              "      <th></th>\n",
              "    </tr>\n",
              "  </thead>\n",
              "  <tbody>\n",
              "    <tr>\n",
              "      <th>2020-05-26</th>\n",
              "      <td>8190.0</td>\n",
              "      <td>8516.0</td>\n",
              "      <td>8190.0</td>\n",
              "      <td>8587.0</td>\n",
              "      <td>10371275460</td>\n",
              "      <td>1266334</td>\n",
              "      <td>-34.0</td>\n",
              "      <td>8518.1</td>\n",
              "      <td>8333.958415</td>\n",
              "      <td>464.0</td>\n",
              "      <td>1.217791</td>\n",
              "      <td>0.741580</td>\n",
              "      <td>936.098913</td>\n",
              "      <td>973.276660</td>\n",
              "      <td>-37.177747</td>\n",
              "      <td>NaN</td>\n",
              "      <td>-0.256277</td>\n",
              "    </tr>\n",
              "    <tr>\n",
              "      <th>2020-05-27</th>\n",
              "      <td>8097.0</td>\n",
              "      <td>8300.0</td>\n",
              "      <td>8097.0</td>\n",
              "      <td>8108.0</td>\n",
              "      <td>188257315089</td>\n",
              "      <td>23218666</td>\n",
              "      <td>-479.0</td>\n",
              "      <td>8477.8</td>\n",
              "      <td>8292.875067</td>\n",
              "      <td>-403.0</td>\n",
              "      <td>0.054187</td>\n",
              "      <td>0.594541</td>\n",
              "      <td>858.789162</td>\n",
              "      <td>950.379160</td>\n",
              "      <td>-91.589998</td>\n",
              "      <td>NaN</td>\n",
              "      <td>-0.800125</td>\n",
              "    </tr>\n",
              "    <tr>\n",
              "      <th>2020-05-30</th>\n",
              "      <td>8334.0</td>\n",
              "      <td>8340.0</td>\n",
              "      <td>7703.0</td>\n",
              "      <td>7936.0</td>\n",
              "      <td>235877669098</td>\n",
              "      <td>29722192</td>\n",
              "      <td>-172.0</td>\n",
              "      <td>8389.9</td>\n",
              "      <td>8227.988691</td>\n",
              "      <td>-879.0</td>\n",
              "      <td>0.365777</td>\n",
              "      <td>0.547128</td>\n",
              "      <td>774.711276</td>\n",
              "      <td>915.245584</td>\n",
              "      <td>-140.534308</td>\n",
              "      <td>NaN</td>\n",
              "      <td>-1.003493</td>\n",
              "    </tr>\n",
              "    <tr>\n",
              "      <th>2020-05-31</th>\n",
              "      <td>8000.0</td>\n",
              "      <td>8079.0</td>\n",
              "      <td>7540.0</td>\n",
              "      <td>7605.0</td>\n",
              "      <td>185150285046</td>\n",
              "      <td>24346946</td>\n",
              "      <td>-331.0</td>\n",
              "      <td>8252.6</td>\n",
              "      <td>8114.718020</td>\n",
              "      <td>-1373.0</td>\n",
              "      <td>0.120594</td>\n",
              "      <td>0.460918</td>\n",
              "      <td>673.605111</td>\n",
              "      <td>866.917489</td>\n",
              "      <td>-193.312378</td>\n",
              "      <td>3.756763</td>\n",
              "      <td>-1.435668</td>\n",
              "    </tr>\n",
              "    <tr>\n",
              "      <th>2020-06-01</th>\n",
              "      <td>7800.0</td>\n",
              "      <td>7985.0</td>\n",
              "      <td>7619.0</td>\n",
              "      <td>7845.0</td>\n",
              "      <td>88286063628</td>\n",
              "      <td>11254209</td>\n",
              "      <td>240.0</td>\n",
              "      <td>8220.8</td>\n",
              "      <td>8065.678380</td>\n",
              "      <td>-318.0</td>\n",
              "      <td>0.617486</td>\n",
              "      <td>0.491934</td>\n",
              "      <td>605.859767</td>\n",
              "      <td>814.705945</td>\n",
              "      <td>-208.846178</td>\n",
              "      <td>-1.068315</td>\n",
              "      <td>-1.031068</td>\n",
              "    </tr>\n",
              "  </tbody>\n",
              "</table>\n",
              "</div>"
            ],
            "text/plain": [
              "            <FIRST>  <HIGH>   <LOW>  ...  MACDdiff_12_26  Acc/Dist_ROC_10    CCI_10\n",
              "datetime                             ...                                           \n",
              "2020-05-26   8190.0  8516.0  8190.0  ...      -37.177747              NaN -0.256277\n",
              "2020-05-27   8097.0  8300.0  8097.0  ...      -91.589998              NaN -0.800125\n",
              "2020-05-30   8334.0  8340.0  7703.0  ...     -140.534308              NaN -1.003493\n",
              "2020-05-31   8000.0  8079.0  7540.0  ...     -193.312378         3.756763 -1.435668\n",
              "2020-06-01   7800.0  7985.0  7619.0  ...     -208.846178        -1.068315 -1.031068\n",
              "\n",
              "[5 rows x 17 columns]"
            ]
          },
          "metadata": {
            "tags": []
          },
          "execution_count": 261
        }
      ]
    },
    {
      "cell_type": "code",
      "metadata": {
        "id": "HHQkL2Fybesu",
        "colab": {
          "base_uri": "https://localhost:8080/"
        },
        "outputId": "826c95fe-6aac-4b8d-c760-2c4b73cc307a"
      },
      "source": [
        "df_new.mean()"
      ],
      "execution_count": 262,
      "outputs": [
        {
          "output_type": "execute_result",
          "data": {
            "text/plain": [
              "<FIRST>            1.422474e+03\n",
              "<HIGH>             1.440773e+03\n",
              "<LOW>              1.396183e+03\n",
              "<CLOSE>            1.417617e+03\n",
              "<VALUE>            6.920851e+09\n",
              "<VOL>              2.606767e+06\n",
              "change_in_price    2.743487e+00\n",
              "MA_10              1.406251e+03\n",
              "WMA_10             1.406375e+03\n",
              "MOM_10             2.905873e+01\n",
              "SO_k                        NaN\n",
              "SO_10              4.953993e-01\n",
              "MACD_12_26         1.606395e+01\n",
              "MACDsign_12_26     1.481071e+01\n",
              "MACDdiff_12_26     1.388410e+00\n",
              "Acc/Dist_ROC_10             NaN\n",
              "CCI_10             7.574129e-02\n",
              "dtype: float64"
            ]
          },
          "metadata": {
            "tags": []
          },
          "execution_count": 262
        }
      ]
    },
    {
      "cell_type": "code",
      "metadata": {
        "id": "mSwQUUeKbesx",
        "colab": {
          "base_uri": "https://localhost:8080/"
        },
        "outputId": "b51673af-868c-4fd1-8055-e35e4f9aeaf6"
      },
      "source": [
        "df_new.min()"
      ],
      "execution_count": 263,
      "outputs": [
        {
          "output_type": "execute_result",
          "data": {
            "text/plain": [
              "<FIRST>             708.000000\n",
              "<HIGH>              748.000000\n",
              "<LOW>               702.000000\n",
              "<CLOSE>             732.000000\n",
              "<VALUE>            1042.000000\n",
              "<VOL>                 1.000000\n",
              "change_in_price   -1049.000000\n",
              "MA_10               742.500000\n",
              "WMA_10              743.364292\n",
              "MOM_10            -1373.000000\n",
              "SO_k                      -inf\n",
              "SO_10               -10.499717\n",
              "MACD_12_26         -275.745186\n",
              "MACDsign_12_26     -251.258879\n",
              "MACDdiff_12_26     -208.846178\n",
              "Acc/Dist_ROC_10           -inf\n",
              "CCI_10               -2.846050\n",
              "dtype: float64"
            ]
          },
          "metadata": {
            "tags": []
          },
          "execution_count": 263
        }
      ]
    },
    {
      "cell_type": "code",
      "metadata": {
        "id": "mMVVklQPbes1",
        "colab": {
          "base_uri": "https://localhost:8080/"
        },
        "outputId": "15241d08-8265-4af2-ed0d-c7307fb291f1"
      },
      "source": [
        "df_new.max()"
      ],
      "execution_count": 264,
      "outputs": [
        {
          "output_type": "execute_result",
          "data": {
            "text/plain": [
              "<FIRST>            9.255000e+03\n",
              "<HIGH>             9.255000e+03\n",
              "<LOW>              9.255000e+03\n",
              "<CLOSE>            8.978000e+03\n",
              "<VALUE>            3.938869e+11\n",
              "<VOL>              1.953190e+08\n",
              "change_in_price    8.870000e+02\n",
              "MA_10              8.518100e+03\n",
              "WMA_10             8.333958e+03\n",
              "MOM_10             2.701000e+03\n",
              "SO_k                        inf\n",
              "SO_10              1.413943e+01\n",
              "MACD_12_26         1.144436e+03\n",
              "MACDsign_12_26     9.851170e+02\n",
              "MACDdiff_12_26     2.253252e+02\n",
              "Acc/Dist_ROC_10             inf\n",
              "CCI_10             2.828932e+00\n",
              "dtype: float64"
            ]
          },
          "metadata": {
            "tags": []
          },
          "execution_count": 264
        }
      ]
    },
    {
      "cell_type": "code",
      "metadata": {
        "id": "uNTpjP7Xbes4",
        "colab": {
          "base_uri": "https://localhost:8080/"
        },
        "outputId": "0dd4dc07-2873-44d2-c3d5-6a420e18d378"
      },
      "source": [
        "df_new.std()"
      ],
      "execution_count": 265,
      "outputs": [
        {
          "output_type": "execute_result",
          "data": {
            "text/plain": [
              "<FIRST>            8.936501e+02\n",
              "<HIGH>             9.057680e+02\n",
              "<LOW>              8.682020e+02\n",
              "<CLOSE>            8.838866e+02\n",
              "<VALUE>            2.500800e+10\n",
              "<VOL>              7.601022e+06\n",
              "change_in_price    6.123000e+01\n",
              "MA_10              8.325634e+02\n",
              "WMA_10             8.293433e+02\n",
              "MOM_10             2.533848e+02\n",
              "SO_k                        NaN\n",
              "SO_10              9.967414e-01\n",
              "MACD_12_26         1.026761e+02\n",
              "MACDsign_12_26     9.396549e+01\n",
              "MACDdiff_12_26     2.372482e+01\n",
              "Acc/Dist_ROC_10             NaN\n",
              "CCI_10             1.215484e+00\n",
              "dtype: float64"
            ]
          },
          "metadata": {
            "tags": []
          },
          "execution_count": 265
        }
      ]
    },
    {
      "cell_type": "markdown",
      "metadata": {
        "id": "vfZGT9zFbes9"
      },
      "source": [
        "## **Normalizing Data**"
      ]
    },
    {
      "cell_type": "code",
      "metadata": {
        "id": "8tYyjDyjbes-",
        "colab": {
          "base_uri": "https://localhost:8080/",
          "height": 0
        },
        "outputId": "62ea2647-4957-48b7-8aa4-558f8aabbc43"
      },
      "source": [
        "data = (df_new - df_new.mean()) / (df_new.max() - df_new.min())\n",
        "data.tail()"
      ],
      "execution_count": 266,
      "outputs": [
        {
          "output_type": "execute_result",
          "data": {
            "text/html": [
              "<div>\n",
              "<style scoped>\n",
              "    .dataframe tbody tr th:only-of-type {\n",
              "        vertical-align: middle;\n",
              "    }\n",
              "\n",
              "    .dataframe tbody tr th {\n",
              "        vertical-align: top;\n",
              "    }\n",
              "\n",
              "    .dataframe thead th {\n",
              "        text-align: right;\n",
              "    }\n",
              "</style>\n",
              "<table border=\"1\" class=\"dataframe\">\n",
              "  <thead>\n",
              "    <tr style=\"text-align: right;\">\n",
              "      <th></th>\n",
              "      <th>&lt;FIRST&gt;</th>\n",
              "      <th>&lt;HIGH&gt;</th>\n",
              "      <th>&lt;LOW&gt;</th>\n",
              "      <th>&lt;CLOSE&gt;</th>\n",
              "      <th>&lt;VALUE&gt;</th>\n",
              "      <th>&lt;VOL&gt;</th>\n",
              "      <th>change_in_price</th>\n",
              "      <th>MA_10</th>\n",
              "      <th>WMA_10</th>\n",
              "      <th>MOM_10</th>\n",
              "      <th>SO_k</th>\n",
              "      <th>SO_10</th>\n",
              "      <th>MACD_12_26</th>\n",
              "      <th>MACDsign_12_26</th>\n",
              "      <th>MACDdiff_12_26</th>\n",
              "      <th>Acc/Dist_ROC_10</th>\n",
              "      <th>CCI_10</th>\n",
              "    </tr>\n",
              "    <tr>\n",
              "      <th>datetime</th>\n",
              "      <th></th>\n",
              "      <th></th>\n",
              "      <th></th>\n",
              "      <th></th>\n",
              "      <th></th>\n",
              "      <th></th>\n",
              "      <th></th>\n",
              "      <th></th>\n",
              "      <th></th>\n",
              "      <th></th>\n",
              "      <th></th>\n",
              "      <th></th>\n",
              "      <th></th>\n",
              "      <th></th>\n",
              "      <th></th>\n",
              "      <th></th>\n",
              "      <th></th>\n",
              "    </tr>\n",
              "  </thead>\n",
              "  <tbody>\n",
              "    <tr>\n",
              "      <th>2020-05-26</th>\n",
              "      <td>0.791801</td>\n",
              "      <td>0.831695</td>\n",
              "      <td>0.794320</td>\n",
              "      <td>0.869438</td>\n",
              "      <td>0.008760</td>\n",
              "      <td>-0.006863</td>\n",
              "      <td>-0.018979</td>\n",
              "      <td>0.914637</td>\n",
              "      <td>0.912654</td>\n",
              "      <td>0.106760</td>\n",
              "      <td>NaN</td>\n",
              "      <td>0.009991</td>\n",
              "      <td>0.647829</td>\n",
              "      <td>0.775222</td>\n",
              "      <td>-0.088827</td>\n",
              "      <td>NaN</td>\n",
              "      <td>-0.058506</td>\n",
              "    </tr>\n",
              "    <tr>\n",
              "      <th>2020-05-27</th>\n",
              "      <td>0.780920</td>\n",
              "      <td>0.806304</td>\n",
              "      <td>0.783446</td>\n",
              "      <td>0.811349</td>\n",
              "      <td>0.460377</td>\n",
              "      <td>0.105529</td>\n",
              "      <td>-0.248834</td>\n",
              "      <td>0.909454</td>\n",
              "      <td>0.907241</td>\n",
              "      <td>-0.106053</td>\n",
              "      <td>NaN</td>\n",
              "      <td>0.004024</td>\n",
              "      <td>0.593393</td>\n",
              "      <td>0.756702</td>\n",
              "      <td>-0.214151</td>\n",
              "      <td>NaN</td>\n",
              "      <td>-0.154338</td>\n",
              "    </tr>\n",
              "    <tr>\n",
              "      <th>2020-05-30</th>\n",
              "      <td>0.808649</td>\n",
              "      <td>0.811006</td>\n",
              "      <td>0.737381</td>\n",
              "      <td>0.790490</td>\n",
              "      <td>0.581275</td>\n",
              "      <td>0.138826</td>\n",
              "      <td>-0.090260</td>\n",
              "      <td>0.898149</td>\n",
              "      <td>0.898693</td>\n",
              "      <td>-0.222891</td>\n",
              "      <td>NaN</td>\n",
              "      <td>0.002099</td>\n",
              "      <td>0.534190</td>\n",
              "      <td>0.728286</td>\n",
              "      <td>-0.326882</td>\n",
              "      <td>NaN</td>\n",
              "      <td>-0.190174</td>\n",
              "    </tr>\n",
              "    <tr>\n",
              "      <th>2020-05-31</th>\n",
              "      <td>0.769571</td>\n",
              "      <td>0.780325</td>\n",
              "      <td>0.718323</td>\n",
              "      <td>0.750350</td>\n",
              "      <td>0.452489</td>\n",
              "      <td>0.111306</td>\n",
              "      <td>-0.172388</td>\n",
              "      <td>0.880491</td>\n",
              "      <td>0.883770</td>\n",
              "      <td>-0.344148</td>\n",
              "      <td>NaN</td>\n",
              "      <td>-0.001399</td>\n",
              "      <td>0.462998</td>\n",
              "      <td>0.689197</td>\n",
              "      <td>-0.448442</td>\n",
              "      <td>NaN</td>\n",
              "      <td>-0.266328</td>\n",
              "    </tr>\n",
              "    <tr>\n",
              "      <th>2020-06-01</th>\n",
              "      <td>0.746171</td>\n",
              "      <td>0.769276</td>\n",
              "      <td>0.727560</td>\n",
              "      <td>0.779455</td>\n",
              "      <td>0.206570</td>\n",
              "      <td>0.044273</td>\n",
              "      <td>0.122550</td>\n",
              "      <td>0.876402</td>\n",
              "      <td>0.877310</td>\n",
              "      <td>-0.085189</td>\n",
              "      <td>NaN</td>\n",
              "      <td>-0.000141</td>\n",
              "      <td>0.415296</td>\n",
              "      <td>0.646968</td>\n",
              "      <td>-0.484220</td>\n",
              "      <td>NaN</td>\n",
              "      <td>-0.195033</td>\n",
              "    </tr>\n",
              "  </tbody>\n",
              "</table>\n",
              "</div>"
            ],
            "text/plain": [
              "             <FIRST>    <HIGH>  ...  Acc/Dist_ROC_10    CCI_10\n",
              "datetime                        ...                           \n",
              "2020-05-26  0.791801  0.831695  ...              NaN -0.058506\n",
              "2020-05-27  0.780920  0.806304  ...              NaN -0.154338\n",
              "2020-05-30  0.808649  0.811006  ...              NaN -0.190174\n",
              "2020-05-31  0.769571  0.780325  ...              NaN -0.266328\n",
              "2020-06-01  0.746171  0.769276  ...              NaN -0.195033\n",
              "\n",
              "[5 rows x 17 columns]"
            ]
          },
          "metadata": {
            "tags": []
          },
          "execution_count": 266
        }
      ]
    },
    {
      "cell_type": "code",
      "metadata": {
        "id": "YcwrDXOzbetB",
        "colab": {
          "base_uri": "https://localhost:8080/",
          "height": 0
        },
        "outputId": "f3fccc0b-4fb7-4646-be3f-76409da54840"
      },
      "source": [
        "import seaborn as sns\n",
        "plt.figure(1 , figsize = (17 , 8))\n",
        "cor = sns.heatmap(data.corr(), annot = True)"
      ],
      "execution_count": 267,
      "outputs": [
        {
          "output_type": "display_data",
          "data": {
            "image/png": "[encoded data removed]",
            "text/plain": [
              "<Figure size 1224x576 with 2 Axes>"
            ]
          },
          "metadata": {
            "tags": [],
            "needs_background": "light"
          }
        }
      ]
    },
    {
      "cell_type": "code",
      "metadata": {
        "id": "Nw7aDwgebetG",
        "colab": {
          "base_uri": "https://localhost:8080/"
        },
        "outputId": "f3739f77-db78-4052-fe9f-2e19e7cb5fe5"
      },
      "source": [
        "#To check null values\n",
        "data.isnull().sum()"
      ],
      "execution_count": 268,
      "outputs": [
        {
          "output_type": "execute_result",
          "data": {
            "text/plain": [
              "<FIRST>               0\n",
              "<HIGH>                0\n",
              "<LOW>                 0\n",
              "<CLOSE>               0\n",
              "<VALUE>               0\n",
              "<VOL>                 0\n",
              "change_in_price       1\n",
              "MA_10                 9\n",
              "WMA_10                9\n",
              "MOM_10               10\n",
              "SO_k               2496\n",
              "SO_10                25\n",
              "MACD_12_26           25\n",
              "MACDsign_12_26       33\n",
              "MACDdiff_12_26       33\n",
              "Acc/Dist_ROC_10    2496\n",
              "CCI_10                9\n",
              "dtype: int64"
            ]
          },
          "metadata": {
            "tags": []
          },
          "execution_count": 268
        }
      ]
    },
    {
      "cell_type": "code",
      "metadata": {
        "id": "QN8FItuAbetJ"
      },
      "source": [
        "#Removing the null values\n",
        "data = data.fillna(data.mean())"
      ],
      "execution_count": 269,
      "outputs": []
    },
    {
      "cell_type": "code",
      "metadata": {
        "id": "shbMSgnWbetN"
      },
      "source": [
        "data = data.dropna(how=\"all\",axis=1)"
      ],
      "execution_count": 270,
      "outputs": []
    },
    {
      "cell_type": "code",
      "metadata": {
        "id": "hKHZhcd8betR",
        "colab": {
          "base_uri": "https://localhost:8080/",
          "height": 0
        },
        "outputId": "45578faa-71d1-41dc-9cfd-b70ab23232f2"
      },
      "source": [
        "##Defining the features and labels\n",
        "X = data.iloc[:,7:]\n",
        "X.tail()"
      ],
      "execution_count": 271,
      "outputs": [
        {
          "output_type": "execute_result",
          "data": {
            "text/html": [
              "<div>\n",
              "<style scoped>\n",
              "    .dataframe tbody tr th:only-of-type {\n",
              "        vertical-align: middle;\n",
              "    }\n",
              "\n",
              "    .dataframe tbody tr th {\n",
              "        vertical-align: top;\n",
              "    }\n",
              "\n",
              "    .dataframe thead th {\n",
              "        text-align: right;\n",
              "    }\n",
              "</style>\n",
              "<table border=\"1\" class=\"dataframe\">\n",
              "  <thead>\n",
              "    <tr style=\"text-align: right;\">\n",
              "      <th></th>\n",
              "      <th>MA_10</th>\n",
              "      <th>WMA_10</th>\n",
              "      <th>MOM_10</th>\n",
              "      <th>SO_10</th>\n",
              "      <th>MACD_12_26</th>\n",
              "      <th>MACDsign_12_26</th>\n",
              "      <th>MACDdiff_12_26</th>\n",
              "      <th>CCI_10</th>\n",
              "    </tr>\n",
              "    <tr>\n",
              "      <th>datetime</th>\n",
              "      <th></th>\n",
              "      <th></th>\n",
              "      <th></th>\n",
              "      <th></th>\n",
              "      <th></th>\n",
              "      <th></th>\n",
              "      <th></th>\n",
              "      <th></th>\n",
              "    </tr>\n",
              "  </thead>\n",
              "  <tbody>\n",
              "    <tr>\n",
              "      <th>2020-05-26</th>\n",
              "      <td>0.914637</td>\n",
              "      <td>0.912654</td>\n",
              "      <td>0.106760</td>\n",
              "      <td>0.009991</td>\n",
              "      <td>0.647829</td>\n",
              "      <td>0.775222</td>\n",
              "      <td>-0.088827</td>\n",
              "      <td>-0.058506</td>\n",
              "    </tr>\n",
              "    <tr>\n",
              "      <th>2020-05-27</th>\n",
              "      <td>0.909454</td>\n",
              "      <td>0.907241</td>\n",
              "      <td>-0.106053</td>\n",
              "      <td>0.004024</td>\n",
              "      <td>0.593393</td>\n",
              "      <td>0.756702</td>\n",
              "      <td>-0.214151</td>\n",
              "      <td>-0.154338</td>\n",
              "    </tr>\n",
              "    <tr>\n",
              "      <th>2020-05-30</th>\n",
              "      <td>0.898149</td>\n",
              "      <td>0.898693</td>\n",
              "      <td>-0.222891</td>\n",
              "      <td>0.002099</td>\n",
              "      <td>0.534190</td>\n",
              "      <td>0.728286</td>\n",
              "      <td>-0.326882</td>\n",
              "      <td>-0.190174</td>\n",
              "    </tr>\n",
              "    <tr>\n",
              "      <th>2020-05-31</th>\n",
              "      <td>0.880491</td>\n",
              "      <td>0.883770</td>\n",
              "      <td>-0.344148</td>\n",
              "      <td>-0.001399</td>\n",
              "      <td>0.462998</td>\n",
              "      <td>0.689197</td>\n",
              "      <td>-0.448442</td>\n",
              "      <td>-0.266328</td>\n",
              "    </tr>\n",
              "    <tr>\n",
              "      <th>2020-06-01</th>\n",
              "      <td>0.876402</td>\n",
              "      <td>0.877310</td>\n",
              "      <td>-0.085189</td>\n",
              "      <td>-0.000141</td>\n",
              "      <td>0.415296</td>\n",
              "      <td>0.646968</td>\n",
              "      <td>-0.484220</td>\n",
              "      <td>-0.195033</td>\n",
              "    </tr>\n",
              "  </tbody>\n",
              "</table>\n",
              "</div>"
            ],
            "text/plain": [
              "               MA_10    WMA_10  ...  MACDdiff_12_26    CCI_10\n",
              "datetime                        ...                          \n",
              "2020-05-26  0.914637  0.912654  ...       -0.088827 -0.058506\n",
              "2020-05-27  0.909454  0.907241  ...       -0.214151 -0.154338\n",
              "2020-05-30  0.898149  0.898693  ...       -0.326882 -0.190174\n",
              "2020-05-31  0.880491  0.883770  ...       -0.448442 -0.266328\n",
              "2020-06-01  0.876402  0.877310  ...       -0.484220 -0.195033\n",
              "\n",
              "[5 rows x 8 columns]"
            ]
          },
          "metadata": {
            "tags": []
          },
          "execution_count": 271
        }
      ]
    },
    {
      "cell_type": "code",
      "metadata": {
        "id": "-RGklbtnbetV",
        "colab": {
          "base_uri": "https://localhost:8080/"
        },
        "outputId": "59c29b0c-4688-4722-d8ba-9bb46bc33b78"
      },
      "source": [
        "Y = data.iloc[:,3]\n",
        "Y.tail()"
      ],
      "execution_count": 272,
      "outputs": [
        {
          "output_type": "execute_result",
          "data": {
            "text/plain": [
              "datetime\n",
              "2020-05-26    0.869438\n",
              "2020-05-27    0.811349\n",
              "2020-05-30    0.790490\n",
              "2020-05-31    0.750350\n",
              "2020-06-01    0.779455\n",
              "Name: <CLOSE>, dtype: float64"
            ]
          },
          "metadata": {
            "tags": []
          },
          "execution_count": 272
        }
      ]
    },
    {
      "cell_type": "code",
      "metadata": {
        "id": "1Tn80CwmbetX",
        "colab": {
          "base_uri": "https://localhost:8080/"
        },
        "outputId": "c4ba6321-db97-412a-9d15-56ca6c9524ed"
      },
      "source": [
        "X.isnull().sum()"
      ],
      "execution_count": 273,
      "outputs": [
        {
          "output_type": "execute_result",
          "data": {
            "text/plain": [
              "MA_10             0\n",
              "WMA_10            0\n",
              "MOM_10            0\n",
              "SO_10             0\n",
              "MACD_12_26        0\n",
              "MACDsign_12_26    0\n",
              "MACDdiff_12_26    0\n",
              "CCI_10            0\n",
              "dtype: int64"
            ]
          },
          "metadata": {
            "tags": []
          },
          "execution_count": 273
        }
      ]
    },
    {
      "cell_type": "markdown",
      "metadata": {
        "id": "IRkULxA7sCFy"
      },
      "source": [
        "## Visualising the technical indicators i.e. our features"
      ]
    },
    {
      "cell_type": "code",
      "metadata": {
        "id": "0UP3raQjr7Ty",
        "colab": {
          "base_uri": "https://localhost:8080/",
          "height": 1000
        },
        "outputId": "896f2995-ba11-457b-b7a2-01a153dde0f3"
      },
      "source": [
        "X.hist(bins=50,figsize=(20,15))"
      ],
      "execution_count": 274,
      "outputs": [
        {
          "output_type": "execute_result",
          "data": {
            "text/plain": [
              "array([[<matplotlib.axes._subplots.AxesSubplot object at 0x7fe420ffe278>,\n",
              "        <matplotlib.axes._subplots.AxesSubplot object at 0x7fe420e29e80>,\n",
              "        <matplotlib.axes._subplots.AxesSubplot object at 0x7fe420dfc160>],\n",
              "       [<matplotlib.axes._subplots.AxesSubplot object at 0x7fe420daf4e0>,\n",
              "        <matplotlib.axes._subplots.AxesSubplot object at 0x7fe420de1860>,\n",
              "        <matplotlib.axes._subplots.AxesSubplot object at 0x7fe420d93be0>],\n",
              "       [<matplotlib.axes._subplots.AxesSubplot object at 0x7fe423c14588>,\n",
              "        <matplotlib.axes._subplots.AxesSubplot object at 0x7fe4212159b0>,\n",
              "        <matplotlib.axes._subplots.AxesSubplot object at 0x7fe421215d30>]],\n",
              "      dtype=object)"
            ]
          },
          "metadata": {
            "tags": []
          },
          "execution_count": 274
        },
        {
          "output_type": "display_data",
          "data": {
            "image/png": "[encoded data removed]",
            "text/plain": [
              "<Figure size 1440x1080 with 9 Axes>"
            ]
          },
          "metadata": {
            "tags": [],
            "needs_background": "light"
          }
        }
      ]
    },
    {
      "cell_type": "code",
      "metadata": {
        "id": "QjK-zRQgbeta"
      },
      "source": [
        "#Splitting data into training and test set\n",
        "#from sklearn.model_selection import train_test_split\n",
        "total_days = len(X)\n",
        "hold_days=30\n",
        "x_train = X[0:(total_days-hold_days)]\n",
        "y_train = Y[0:(total_days-hold_days)]"
      ],
      "execution_count": 275,
      "outputs": []
    },
    {
      "cell_type": "markdown",
      "metadata": {
        "id": "bdSjkPr_betc"
      },
      "source": [
        "# Predicting using Decision Trees"
      ]
    },
    {
      "cell_type": "code",
      "metadata": {
        "id": "7RX-ujiabetd",
        "colab": {
          "base_uri": "https://localhost:8080/"
        },
        "outputId": "ccf287cd-3239-4fe2-ce65-bd0d4ef670e5"
      },
      "source": [
        "#Decision Tree\n",
        "from sklearn.tree import DecisionTreeRegressor\n",
        "Regressor = DecisionTreeRegressor(max_depth=10)\n",
        "Regressor.fit(x_train,y_train)"
      ],
      "execution_count": 276,
      "outputs": [
        {
          "output_type": "execute_result",
          "data": {
            "text/plain": [
              "DecisionTreeRegressor(ccp_alpha=0.0, criterion='mse', max_depth=10,\n",
              "                      max_features=None, max_leaf_nodes=None,\n",
              "                      min_impurity_decrease=0.0, min_impurity_split=None,\n",
              "                      min_samples_leaf=1, min_samples_split=2,\n",
              "                      min_weight_fraction_leaf=0.0, presort='deprecated',\n",
              "                      random_state=None, splitter='best')"
            ]
          },
          "metadata": {
            "tags": []
          },
          "execution_count": 276
        }
      ]
    },
    {
      "cell_type": "markdown",
      "metadata": {
        "id": "tmAA0_rPbetl"
      },
      "source": [
        "## Evaluating the Model"
      ]
    },
    {
      "cell_type": "code",
      "metadata": {
        "id": "pCwX7Hwpbetm",
        "colab": {
          "base_uri": "https://localhost:8080/"
        },
        "outputId": "468452a1-0de2-45cc-a15b-4b8fe217ed45"
      },
      "source": [
        "y_pred = Regressor.predict(X)\n",
        "from sklearn.metrics import r2_score,mean_squared_error\n",
        "mse = mean_squared_error(Y,y_pred)\n",
        "rmse = np.sqrt(mse)\n",
        "rmse"
      ],
      "execution_count": 277,
      "outputs": [
        {
          "output_type": "execute_result",
          "data": {
            "text/plain": [
              "0.039064207532147364"
            ]
          },
          "metadata": {
            "tags": []
          },
          "execution_count": 277
        }
      ]
    },
    {
      "cell_type": "code",
      "metadata": {
        "id": "EW6CbXYgSzMZ",
        "colab": {
          "base_uri": "https://localhost:8080/",
          "height": 265
        },
        "outputId": "b7ede04d-7f86-4508-fdc2-ec409b7be173"
      },
      "source": [
        "plt.plot(X.index,Y)\n",
        "plt.plot(X.index, y_pred, c='#f5ef42')\n",
        "plt.show()"
      ],
      "execution_count": 278,
      "outputs": [
        {
          "output_type": "display_data",
          "data": {
            "image/png": "[encoded data removed]",
            "text/plain": [
              "<Figure size 432x288 with 1 Axes>"
            ]
          },
          "metadata": {
            "tags": [],
            "needs_background": "light"
          }
        }
      ]
    },
    {
      "cell_type": "markdown",
      "metadata": {
        "id": "CiWT_doibeto"
      },
      "source": [
        "# Using Bagging Regressor"
      ]
    },
    {
      "cell_type": "code",
      "metadata": {
        "id": "6KWr75vGbetp"
      },
      "source": [
        "#import necessary libraries\n",
        "from sklearn.ensemble import BaggingRegressor"
      ],
      "execution_count": 279,
      "outputs": []
    },
    {
      "cell_type": "code",
      "metadata": {
        "id": "6m5OsIUsbetr",
        "colab": {
          "base_uri": "https://localhost:8080/"
        },
        "outputId": "8e002547-2229-427a-e7b0-3188061fce37"
      },
      "source": [
        "regr = BaggingRegressor(base_estimator=Regressor,\n",
        "n_estimators=50, random_state=0)\n",
        "regr.fit(x_train,y_train)\n",
        "    "
      ],
      "execution_count": 280,
      "outputs": [
        {
          "output_type": "execute_result",
          "data": {
            "text/plain": [
              "BaggingRegressor(base_estimator=DecisionTreeRegressor(ccp_alpha=0.0,\n",
              "                                                      criterion='mse',\n",
              "                                                      max_depth=10,\n",
              "                                                      max_features=None,\n",
              "                                                      max_leaf_nodes=None,\n",
              "                                                      min_impurity_decrease=0.0,\n",
              "                                                      min_impurity_split=None,\n",
              "                                                      min_samples_leaf=1,\n",
              "                                                      min_samples_split=2,\n",
              "                                                      min_weight_fraction_leaf=0.0,\n",
              "                                                      presort='deprecated',\n",
              "                                                      random_state=None,\n",
              "                                                      splitter='best'),\n",
              "                 bootstrap=True, bootstrap_features=False, max_features=1.0,\n",
              "                 max_samples=1.0, n_estimators=50, n_jobs=None, oob_score=False,\n",
              "                 random_state=0, verbose=0, warm_start=False)"
            ]
          },
          "metadata": {
            "tags": []
          },
          "execution_count": 280
        }
      ]
    },
    {
      "cell_type": "markdown",
      "metadata": {
        "id": "KvdNXLTXbetw"
      },
      "source": [
        "## Evaluating Bagging Regressor"
      ]
    },
    {
      "cell_type": "code",
      "metadata": {
        "id": "Af_3vxHkbetx"
      },
      "source": [
        "y_pred_br = regr.predict(X)"
      ],
      "execution_count": 281,
      "outputs": []
    },
    {
      "cell_type": "code",
      "metadata": {
        "id": "PXoR2Bxpbetz",
        "colab": {
          "base_uri": "https://localhost:8080/"
        },
        "outputId": "29fcf511-ed8a-49eb-d32e-da421ac6eb5e"
      },
      "source": [
        "from sklearn.metrics import r2_score,mean_squared_error\n",
        "mse = mean_squared_error(Y,y_pred_br)\n",
        "rmse = np.sqrt(mse)\n",
        "rmse"
      ],
      "execution_count": 282,
      "outputs": [
        {
          "output_type": "execute_result",
          "data": {
            "text/plain": [
              "0.04099460904448546"
            ]
          },
          "metadata": {
            "tags": []
          },
          "execution_count": 282
        }
      ]
    },
    {
      "cell_type": "code",
      "metadata": {
        "id": "NRz2RSH3fQGM",
        "colab": {
          "base_uri": "https://localhost:8080/",
          "height": 265
        },
        "outputId": "a0eb4a7b-a2c4-4a88-d539-c0a25b081684"
      },
      "source": [
        "plt.plot(X.index,Y)\n",
        "plt.plot(X.index, y_pred_br, c='#f5ef42')\n",
        "plt.show()"
      ],
      "execution_count": 283,
      "outputs": [
        {
          "output_type": "display_data",
          "data": {
            "image/png": "[encoded data removed]",
            "text/plain": [
              "<Figure size 432x288 with 1 Axes>"
            ]
          },
          "metadata": {
            "tags": [],
            "needs_background": "light"
          }
        }
      ]
    },
    {
      "cell_type": "markdown",
      "metadata": {
        "id": "phoe90D7bet1"
      },
      "source": [
        "# Using Random Forest"
      ]
    },
    {
      "cell_type": "code",
      "metadata": {
        "id": "cM6Op45nbet2",
        "colab": {
          "base_uri": "https://localhost:8080/"
        },
        "outputId": "b6fc4b5e-473a-4746-ee2e-fc692660698c"
      },
      "source": [
        "#importing the libraries\n",
        "from sklearn.ensemble import RandomForestRegressor\n",
        "rf = RandomForestRegressor(n_estimators=50,max_depth=10,random_state=1)\n",
        "rf.fit(x_train,y_train)"
      ],
      "execution_count": 284,
      "outputs": [
        {
          "output_type": "execute_result",
          "data": {
            "text/plain": [
              "RandomForestRegressor(bootstrap=True, ccp_alpha=0.0, criterion='mse',\n",
              "                      max_depth=10, max_features='auto', max_leaf_nodes=None,\n",
              "                      max_samples=None, min_impurity_decrease=0.0,\n",
              "                      min_impurity_split=None, min_samples_leaf=1,\n",
              "                      min_samples_split=2, min_weight_fraction_leaf=0.0,\n",
              "                      n_estimators=50, n_jobs=None, oob_score=False,\n",
              "                      random_state=1, verbose=0, warm_start=False)"
            ]
          },
          "metadata": {
            "tags": []
          },
          "execution_count": 284
        }
      ]
    },
    {
      "cell_type": "markdown",
      "metadata": {
        "id": "j4GVbyhAbet9"
      },
      "source": [
        "## Evaluating Random Forest"
      ]
    },
    {
      "cell_type": "code",
      "metadata": {
        "id": "Rp1ihgYjbet-"
      },
      "source": [
        "y_pred_rf = rf.predict(X)\n"
      ],
      "execution_count": 285,
      "outputs": []
    },
    {
      "cell_type": "code",
      "metadata": {
        "id": "J6mI-BUbbeuA",
        "colab": {
          "base_uri": "https://localhost:8080/"
        },
        "outputId": "00ff5fe4-dec8-4a81-f86d-e5e9f185775a"
      },
      "source": [
        "from sklearn.metrics import r2_score,mean_squared_error\n",
        "mse = mean_squared_error(Y,y_pred_rf)\n",
        "rmse = np.sqrt(mse)\n",
        "rmse"
      ],
      "execution_count": 286,
      "outputs": [
        {
          "output_type": "execute_result",
          "data": {
            "text/plain": [
              "0.04092807483215361"
            ]
          },
          "metadata": {
            "tags": []
          },
          "execution_count": 286
        }
      ]
    },
    {
      "cell_type": "code",
      "metadata": {
        "id": "uj2B69g3gnSx",
        "colab": {
          "base_uri": "https://localhost:8080/",
          "height": 265
        },
        "outputId": "7a693ae2-0dbc-48a3-f78a-c99f946f7314"
      },
      "source": [
        "plt.plot(X.index,Y)\n",
        "plt.plot(X.index, y_pred_rf, c='#f5ef42')\n",
        "plt.show()"
      ],
      "execution_count": 287,
      "outputs": [
        {
          "output_type": "display_data",
          "data": {
            "image/png": "[encoded data removed]",
            "text/plain": [
              "<Figure size 432x288 with 1 Axes>"
            ]
          },
          "metadata": {
            "tags": [],
            "needs_background": "light"
          }
        }
      ]
    },
    {
      "cell_type": "markdown",
      "metadata": {
        "id": "6e1uCe8lbeuD"
      },
      "source": [
        " ## Using AdaBoost Regressor"
      ]
    },
    {
      "cell_type": "code",
      "metadata": {
        "id": "uX6q6_kGbeuD",
        "colab": {
          "base_uri": "https://localhost:8080/"
        },
        "outputId": "60a4d6a4-150f-4e30-bdb6-2d14a04f75f8"
      },
      "source": [
        "#importing necessary libraries\n",
        "from sklearn.ensemble import AdaBoostRegressor\n",
        "adb_reg = AdaBoostRegressor(base_estimator=Regressor,n_estimators=100,learning_rate=0.1)\n",
        "adb_reg.fit(x_train,y_train)\n",
        "\n"
      ],
      "execution_count": 288,
      "outputs": [
        {
          "output_type": "execute_result",
          "data": {
            "text/plain": [
              "AdaBoostRegressor(base_estimator=DecisionTreeRegressor(ccp_alpha=0.0,\n",
              "                                                       criterion='mse',\n",
              "                                                       max_depth=10,\n",
              "                                                       max_features=None,\n",
              "                                                       max_leaf_nodes=None,\n",
              "                                                       min_impurity_decrease=0.0,\n",
              "                                                       min_impurity_split=None,\n",
              "                                                       min_samples_leaf=1,\n",
              "                                                       min_samples_split=2,\n",
              "                                                       min_weight_fraction_leaf=0.0,\n",
              "                                                       presort='deprecated',\n",
              "                                                       random_state=None,\n",
              "                                                       splitter='best'),\n",
              "                  learning_rate=0.1, loss='linear', n_estimators=100,\n",
              "                  random_state=None)"
            ]
          },
          "metadata": {
            "tags": []
          },
          "execution_count": 288
        }
      ]
    },
    {
      "cell_type": "markdown",
      "metadata": {
        "id": "pTiNntHcbeuH"
      },
      "source": [
        "## Evaluating AdaBoost Regressor"
      ]
    },
    {
      "cell_type": "code",
      "metadata": {
        "id": "pGnz1YOibeuI",
        "colab": {
          "base_uri": "https://localhost:8080/"
        },
        "outputId": "fb5f2ad0-4619-4ca4-f908-86215bf4f5ad"
      },
      "source": [
        "y_pred_adb = adb_reg.predict(X)\n",
        "from sklearn.metrics import r2_score,mean_squared_error\n",
        "mse = mean_squared_error(Y,y_pred_adb)\n",
        "rmse = np.sqrt(mse)\n",
        "rmse"
      ],
      "execution_count": 289,
      "outputs": [
        {
          "output_type": "execute_result",
          "data": {
            "text/plain": [
              "0.03945789623411952"
            ]
          },
          "metadata": {
            "tags": []
          },
          "execution_count": 289
        }
      ]
    },
    {
      "cell_type": "code",
      "metadata": {
        "id": "BfFSD3AChDmn",
        "colab": {
          "base_uri": "https://localhost:8080/",
          "height": 265
        },
        "outputId": "f626a777-ea06-4db1-c06f-8c440ce83399"
      },
      "source": [
        "plt.plot(X.index,Y)\n",
        "plt.plot(X.index, y_pred_adb, c='#f5ef42')\n",
        "plt.show()"
      ],
      "execution_count": 290,
      "outputs": [
        {
          "output_type": "display_data",
          "data": {
            "image/png": "[encoded data removed]",
            "text/plain": [
              "<Figure size 432x288 with 1 Axes>"
            ]
          },
          "metadata": {
            "tags": [],
            "needs_background": "light"
          }
        }
      ]
    },
    {
      "cell_type": "markdown",
      "metadata": {
        "id": "8Q-98ibGbeuJ"
      },
      "source": [
        "## Using Gradient Boosting"
      ]
    },
    {
      "cell_type": "code",
      "metadata": {
        "id": "4StZOXBBbeuK",
        "colab": {
          "base_uri": "https://localhost:8080/"
        },
        "outputId": "35ae03ef-cb92-466f-cc5b-d2966d973168"
      },
      "source": [
        "#importing necessary libraries\n",
        "from sklearn.ensemble import GradientBoostingRegressor\n",
        "gdbt = GradientBoostingRegressor(max_depth=10,learning_rate=0.1,n_estimators=50,random_state=1)\n",
        "gdbt.fit(x_train,y_train)"
      ],
      "execution_count": 291,
      "outputs": [
        {
          "output_type": "execute_result",
          "data": {
            "text/plain": [
              "GradientBoostingRegressor(alpha=0.9, ccp_alpha=0.0, criterion='friedman_mse',\n",
              "                          init=None, learning_rate=0.1, loss='ls', max_depth=10,\n",
              "                          max_features=None, max_leaf_nodes=None,\n",
              "                          min_impurity_decrease=0.0, min_impurity_split=None,\n",
              "                          min_samples_leaf=1, min_samples_split=2,\n",
              "                          min_weight_fraction_leaf=0.0, n_estimators=50,\n",
              "                          n_iter_no_change=None, presort='deprecated',\n",
              "                          random_state=1, subsample=1.0, tol=0.0001,\n",
              "                          validation_fraction=0.1, verbose=0, warm_start=False)"
            ]
          },
          "metadata": {
            "tags": []
          },
          "execution_count": 291
        }
      ]
    },
    {
      "cell_type": "markdown",
      "metadata": {
        "id": "fhjqy5udbeuP"
      },
      "source": [
        "## Evaluating gradient boosting"
      ]
    },
    {
      "cell_type": "code",
      "metadata": {
        "id": "CpcZr0-EbeuQ",
        "colab": {
          "base_uri": "https://localhost:8080/"
        },
        "outputId": "168b2aa4-ca82-420d-dc6c-e12e66bb4585"
      },
      "source": [
        "y_pred_gdbt = gdbt.predict(X)\n",
        "from sklearn.metrics import r2_score,mean_squared_error\n",
        "mse = mean_squared_error(Y,y_pred_gdbt)\n",
        "rmse = np.sqrt(mse)\n",
        "rmse"
      ],
      "execution_count": 292,
      "outputs": [
        {
          "output_type": "execute_result",
          "data": {
            "text/plain": [
              "0.03988505507735115"
            ]
          },
          "metadata": {
            "tags": []
          },
          "execution_count": 292
        }
      ]
    },
    {
      "cell_type": "markdown",
      "metadata": {
        "id": "GdaVicrEb78c"
      },
      "source": [
        "##Using Deep Learning Models"
      ]
    },
    {
      "cell_type": "code",
      "metadata": {
        "id": "zNH4J9l5cAY6",
        "colab": {
          "base_uri": "https://localhost:8080/"
        },
        "outputId": "1169656e-26c4-47d5-b63b-ea38b38fabdb"
      },
      "source": [
        "from google.colab import drive\n",
        "drive.mount('/content/drive')"
      ],
      "execution_count": 293,
      "outputs": [
        {
          "output_type": "stream",
          "text": [
            "Drive already mounted at /content/drive; to attempt to forcibly remount, call drive.mount(\"/content/drive\", force_remount=True).\n"
          ],
          "name": "stdout"
        }
      ]
    },
    {
      "cell_type": "markdown",
      "metadata": {
        "id": "BvTCIFZ6BJgy"
      },
      "source": [
        "### Importing Libraries"
      ]
    },
    {
      "cell_type": "code",
      "metadata": {
        "id": "Y5R1YEo_BMOc"
      },
      "source": [
        "import tensorflow as tf \n",
        "import pandas as pd \n",
        "import numpy as np \n",
        "import matplotlib.pyplot as plt \n",
        "import keras \n",
        "from keras.models import Sequential \n",
        "from keras.layers import Dense \n",
        "from sklearn.metrics import confusion_matrix "
      ],
      "execution_count": 294,
      "outputs": []
    },
    {
      "cell_type": "markdown",
      "metadata": {
        "id": "MqGBMKv0HvVM"
      },
      "source": [
        "## Using LSTM"
      ]
    },
    {
      "cell_type": "markdown",
      "metadata": {
        "id": "B2uIFD452b24"
      },
      "source": [
        "### Importing libraries"
      ]
    },
    {
      "cell_type": "code",
      "metadata": {
        "id": "ccMkltE9ebcw",
        "colab": {
          "base_uri": "https://localhost:8080/"
        },
        "outputId": "3a9ed655-7295-4428-eed2-1addf4c1b2fd"
      },
      "source": [
        "pip install nsepy"
      ],
      "execution_count": 295,
      "outputs": [
        {
          "output_type": "stream",
          "text": [
            "Requirement already satisfied: nsepy in /usr/local/lib/python3.6/dist-packages (0.8)\n",
            "Requirement already satisfied: numpy in /usr/local/lib/python3.6/dist-packages (from nsepy) (1.18.5)\n",
            "Requirement already satisfied: lxml in /usr/local/lib/python3.6/dist-packages (from nsepy) (4.2.6)\n",
            "Requirement already satisfied: pandas in /usr/local/lib/python3.6/dist-packages (from nsepy) (1.1.4)\n",
            "Requirement already satisfied: requests in /usr/local/lib/python3.6/dist-packages (from nsepy) (2.23.0)\n",
            "Requirement already satisfied: beautifulsoup4 in /usr/local/lib/python3.6/dist-packages (from nsepy) (4.6.3)\n",
            "Requirement already satisfied: click in /usr/local/lib/python3.6/dist-packages (from nsepy) (7.1.2)\n",
            "Requirement already satisfied: six in /usr/local/lib/python3.6/dist-packages (from nsepy) (1.15.0)\n",
            "Requirement already satisfied: pytz>=2017.2 in /usr/local/lib/python3.6/dist-packages (from pandas->nsepy) (2018.9)\n",
            "Requirement already satisfied: python-dateutil>=2.7.3 in /usr/local/lib/python3.6/dist-packages (from pandas->nsepy) (2.8.1)\n",
            "Requirement already satisfied: idna<3,>=2.5 in /usr/local/lib/python3.6/dist-packages (from requests->nsepy) (2.10)\n",
            "Requirement already satisfied: certifi>=2017.4.17 in /usr/local/lib/python3.6/dist-packages (from requests->nsepy) (2020.6.20)\n",
            "Requirement already satisfied: chardet<4,>=3.0.2 in /usr/local/lib/python3.6/dist-packages (from requests->nsepy) (3.0.4)\n",
            "Requirement already satisfied: urllib3!=1.25.0,!=1.25.1,<1.26,>=1.21.1 in /usr/local/lib/python3.6/dist-packages (from requests->nsepy) (1.24.3)\n"
          ],
          "name": "stdout"
        }
      ]
    },
    {
      "cell_type": "code",
      "metadata": {
        "id": "7fcRAPcyeVTV"
      },
      "source": [
        "from nsepy import get_history as gh\n",
        "import datetime as dt\n",
        "from matplotlib import pyplot as plt\n",
        "from sklearn import model_selection\n",
        "from sklearn.metrics import confusion_matrix\n",
        "from sklearn.preprocessing import StandardScaler\n",
        "from sklearn.model_selection import train_test_split\n",
        "import numpy as np\n",
        "import pandas as pd\n",
        "from sklearn.preprocessing import MinMaxScaler\n",
        "from keras.models import Sequential\n",
        "from keras.layers import Dense\n",
        "from keras.layers import LSTM\n",
        "from keras.layers import Dropout"
      ],
      "execution_count": 296,
      "outputs": []
    },
    {
      "cell_type": "code",
      "metadata": {
        "id": "rpjHV_boZZl8"
      },
      "source": [
        "from sklearn.preprocessing import MinMaxScaler\n",
        "sc = MinMaxScaler(feature_range = (0, 1))\n",
        "X_train_scaled = sc.fit_transform(x_train)"
      ],
      "execution_count": 297,
      "outputs": []
    },
    {
      "cell_type": "code",
      "metadata": {
        "id": "ur_xNnK6Zela"
      },
      "source": [
        "X_train, Y_train = np.array(x_train), np.array(y_train)\n",
        "X_train = np.reshape(X_train, (X_train.shape[0], X_train.shape[1], 1))"
      ],
      "execution_count": 298,
      "outputs": []
    },
    {
      "cell_type": "markdown",
      "metadata": {
        "id": "33TKI23A2NVQ"
      },
      "source": [
        "### Building the LSTM"
      ]
    },
    {
      "cell_type": "code",
      "metadata": {
        "id": "SrT0kjBsc2Pm"
      },
      "source": [
        "regressor = Sequential()\n",
        "regressor.add(LSTM(units = 50, return_sequences = True, input_shape = (x_train.shape[1], 1)))\n",
        "regressor.add(Dropout(0.2))\n",
        "regressor.add(LSTM(units = 50, return_sequences = True))\n",
        "regressor.add(Dropout(0.2))\n",
        "regressor.add(LSTM(units = 50, return_sequences = True))\n",
        "regressor.add(Dropout(0.2))\n",
        "regressor.add(LSTM(units = 50))\n",
        "regressor.add(Dropout(0.2))\n",
        "regressor.add(Dense(units = 1))"
      ],
      "execution_count": 299,
      "outputs": []
    },
    {
      "cell_type": "markdown",
      "metadata": {
        "id": "L_LlaDFB2qDN"
      },
      "source": [
        "### Compiling and training the model defined in the above step.\n",
        "(Iteratively, we can increase or decrease the epochs and batch size to get more accuracy.)"
      ]
    },
    {
      "cell_type": "code",
      "metadata": {
        "id": "NEg-dl9jeOSR",
        "colab": {
          "base_uri": "https://localhost:8080/"
        },
        "outputId": "026e8baf-f4cd-42f8-8035-4d9117de7a16"
      },
      "source": [
        "regressor.compile(optimizer = 'adam', loss = 'mean_squared_error')\n",
        "regressor.fit(X_train, Y_train, epochs = 15, batch_size = 32)"
      ],
      "execution_count": 300,
      "outputs": [
        {
          "output_type": "stream",
          "text": [
            "Epoch 1/15\n",
            "78/78 [==============================] - 1s 18ms/step - loss: 0.0016\n",
            "Epoch 2/15\n",
            "78/78 [==============================] - 1s 19ms/step - loss: 2.9621e-04\n",
            "Epoch 3/15\n",
            "78/78 [==============================] - 2s 19ms/step - loss: 2.8503e-04\n",
            "Epoch 4/15\n",
            "78/78 [==============================] - 1s 19ms/step - loss: 2.1402e-04\n",
            "Epoch 5/15\n",
            "78/78 [==============================] - 2s 19ms/step - loss: 2.3265e-04\n",
            "Epoch 6/15\n",
            "78/78 [==============================] - 2s 20ms/step - loss: 2.1424e-04\n",
            "Epoch 7/15\n",
            "78/78 [==============================] - 2s 20ms/step - loss: 2.2605e-04\n",
            "Epoch 8/15\n",
            "78/78 [==============================] - 2s 19ms/step - loss: 2.5090e-04\n",
            "Epoch 9/15\n",
            "78/78 [==============================] - 2s 20ms/step - loss: 1.7627e-04\n",
            "Epoch 10/15\n",
            "78/78 [==============================] - 2s 20ms/step - loss: 1.4631e-04\n",
            "Epoch 11/15\n",
            "78/78 [==============================] - 2s 20ms/step - loss: 1.8430e-04\n",
            "Epoch 12/15\n",
            "78/78 [==============================] - 2s 20ms/step - loss: 1.6667e-04\n",
            "Epoch 13/15\n",
            "78/78 [==============================] - 1s 19ms/step - loss: 1.6993e-04\n",
            "Epoch 14/15\n",
            "78/78 [==============================] - 2s 19ms/step - loss: 1.6576e-04\n",
            "Epoch 15/15\n",
            "78/78 [==============================] - 2s 20ms/step - loss: 1.2924e-04\n"
          ],
          "name": "stdout"
        },
        {
          "output_type": "execute_result",
          "data": {
            "text/plain": [
              "<tensorflow.python.keras.callbacks.History at 0x7fe4206a5550>"
            ]
          },
          "metadata": {
            "tags": []
          },
          "execution_count": 300
        }
      ]
    },
    {
      "cell_type": "code",
      "metadata": {
        "id": "r2ZrIgaX03cC"
      },
      "source": [
        "X_test = np.array(X)\n",
        "X_test = np.reshape(X_test, (X_test.shape[0],X_test.shape[1], 1))\n",
        "predicted_stock_price = regressor.predict(X_test)"
      ],
      "execution_count": 301,
      "outputs": []
    },
    {
      "cell_type": "code",
      "metadata": {
        "id": "LDrGcESafEp5"
      },
      "source": [
        "real_stock_price = np.asarray(Y)\n",
        "# real_stock_price=real_stock_price.reshape(1167,1)"
      ],
      "execution_count": 302,
      "outputs": []
    },
    {
      "cell_type": "code",
      "metadata": {
        "id": "koD72IuliN0t",
        "colab": {
          "base_uri": "https://localhost:8080/"
        },
        "outputId": "a0ddfc59-ba09-43e4-bec8-d6d1e1122dc8"
      },
      "source": [
        "predicted_stock_price"
      ],
      "execution_count": 303,
      "outputs": [
        {
          "output_type": "execute_result",
          "data": {
            "text/plain": [
              "array([[0.0006891 ],\n",
              "       [0.0006891 ],\n",
              "       [0.0006891 ],\n",
              "       ...,\n",
              "       [0.54658693],\n",
              "       [0.5356923 ],\n",
              "       [0.54657304]], dtype=float32)"
            ]
          },
          "metadata": {
            "tags": []
          },
          "execution_count": 303
        }
      ]
    },
    {
      "cell_type": "code",
      "metadata": {
        "id": "bXqa74JLiSvC",
        "colab": {
          "base_uri": "https://localhost:8080/"
        },
        "outputId": "5e1f593e-1e27-4326-b1a3-3984ee152c0f"
      },
      "source": [
        "real_stock_price"
      ],
      "execution_count": 304,
      "outputs": [
        {
          "output_type": "execute_result",
          "data": {
            "text/plain": [
              "array([-0.05064475, -0.05064475, -0.05064475, ...,  0.79049035,\n",
              "        0.75034967,  0.77945469])"
            ]
          },
          "metadata": {
            "tags": []
          },
          "execution_count": 304
        }
      ]
    },
    {
      "cell_type": "markdown",
      "metadata": {
        "id": "oWXVsRgp2DcB"
      },
      "source": [
        "### Plotting the results"
      ]
    },
    {
      "cell_type": "code",
      "metadata": {
        "id": "bTm04GWiiU9O",
        "colab": {
          "base_uri": "https://localhost:8080/",
          "height": 621
        },
        "outputId": "3c8967fe-ecb0-484d-f1ac-53b0c3ef850a"
      },
      "source": [
        "plt.figure(figsize=(20,10))\n",
        "plt.plot(real_stock_price, color = 'green', label = 'Stock Price')\n",
        "plt.plot(predicted_stock_price, color = 'red', label = 'Predicted Stock Price')\n",
        "plt.title('Stock Price Prediction')\n",
        "plt.xlabel('Trading Day')\n",
        "plt.ylabel('Stock Price')\n",
        "plt.legend()\n",
        "plt.show()"
      ],
      "execution_count": 305,
      "outputs": [
        {
          "output_type": "display_data",
          "data": {
            "image/png": "[encoded data removed]",
            "text/plain": [
              "<Figure size 1440x720 with 1 Axes>"
            ]
          },
          "metadata": {
            "tags": [],
            "needs_background": "light"
          }
        }
      ]
    },
    {
      "cell_type": "code",
      "metadata": {
        "id": "7hCjZ69viYqn",
        "colab": {
          "base_uri": "https://localhost:8080/"
        },
        "outputId": "697077c8-6a2d-475c-9751-281eb6fe6387"
      },
      "source": [
        "from sklearn.metrics import mean_squared_error as MSE\n",
        "rmse = MSE(real_stock_price,predicted_stock_price)**(1/2)\n",
        "rmse"
      ],
      "execution_count": 306,
      "outputs": [
        {
          "output_type": "execute_result",
          "data": {
            "text/plain": [
              "0.02544504452751774"
            ]
          },
          "metadata": {
            "tags": []
          },
          "execution_count": 306
        }
      ]
    }
  ]
}