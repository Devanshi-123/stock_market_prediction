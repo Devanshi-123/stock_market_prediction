{
 "cells": [
  {
   "cell_type": "markdown",
   "metadata": {},
   "source": [
    "## Stock Market Prediction Using Different Machine Learning Algorithms\n"
   ]
  },
  {
   "cell_type": "code",
   "execution_count": 1,
   "metadata": {},
   "outputs": [],
   "source": [
    "#importing the necessary libraries\n",
    "import pandas as pd\n",
    "import numpy as np\n",
    "\n",
    "import matplotlib.pyplot as plt\n",
    "%matplotlib inline"
   ]
  },
  {
   "cell_type": "code",
   "execution_count": 2,
   "metadata": {},
   "outputs": [
    {
     "data": {
      "text/html": [
       "<div>\n",
       "<style scoped>\n",
       "    .dataframe tbody tr th:only-of-type {\n",
       "        vertical-align: middle;\n",
       "    }\n",
       "\n",
       "    .dataframe tbody tr th {\n",
       "        vertical-align: top;\n",
       "    }\n",
       "\n",
       "    .dataframe thead th {\n",
       "        text-align: right;\n",
       "    }\n",
       "</style>\n",
       "<table border=\"1\" class=\"dataframe\">\n",
       "  <thead>\n",
       "    <tr style=\"text-align: right;\">\n",
       "      <th></th>\n",
       "      <th>&lt;FIRST&gt;</th>\n",
       "      <th>&lt;HIGH&gt;</th>\n",
       "      <th>&lt;LOW&gt;</th>\n",
       "      <th>&lt;CLOSE&gt;</th>\n",
       "      <th>&lt;VALUE&gt;</th>\n",
       "      <th>&lt;VOL&gt;</th>\n",
       "    </tr>\n",
       "    <tr>\n",
       "      <th>datetime</th>\n",
       "      <th></th>\n",
       "      <th></th>\n",
       "      <th></th>\n",
       "      <th></th>\n",
       "      <th></th>\n",
       "      <th></th>\n",
       "    </tr>\n",
       "  </thead>\n",
       "  <tbody>\n",
       "    <tr>\n",
       "      <th>2001-03-25</th>\n",
       "      <td>26000.0</td>\n",
       "      <td>26000.0</td>\n",
       "      <td>24885.0</td>\n",
       "      <td>24885.0</td>\n",
       "      <td>112766576</td>\n",
       "      <td>4520</td>\n",
       "    </tr>\n",
       "    <tr>\n",
       "      <th>2001-03-26</th>\n",
       "      <td>24885.0</td>\n",
       "      <td>24885.0</td>\n",
       "      <td>24885.0</td>\n",
       "      <td>24885.0</td>\n",
       "      <td>1119825</td>\n",
       "      <td>45</td>\n",
       "    </tr>\n",
       "    <tr>\n",
       "      <th>2001-04-08</th>\n",
       "      <td>25000.0</td>\n",
       "      <td>25000.0</td>\n",
       "      <td>25000.0</td>\n",
       "      <td>25000.0</td>\n",
       "      <td>50000000</td>\n",
       "      <td>2000</td>\n",
       "    </tr>\n",
       "    <tr>\n",
       "      <th>2001-04-10</th>\n",
       "      <td>25003.0</td>\n",
       "      <td>25003.0</td>\n",
       "      <td>25003.0</td>\n",
       "      <td>25003.0</td>\n",
       "      <td>1750210</td>\n",
       "      <td>70</td>\n",
       "    </tr>\n",
       "    <tr>\n",
       "      <th>2001-04-15</th>\n",
       "      <td>25010.0</td>\n",
       "      <td>25010.0</td>\n",
       "      <td>25010.0</td>\n",
       "      <td>25010.0</td>\n",
       "      <td>3001200</td>\n",
       "      <td>120</td>\n",
       "    </tr>\n",
       "  </tbody>\n",
       "</table>\n",
       "</div>"
      ],
      "text/plain": [
       "            <FIRST>   <HIGH>    <LOW>  <CLOSE>    <VALUE>  <VOL>\n",
       "datetime                                                        \n",
       "2001-03-25  26000.0  26000.0  24885.0  24885.0  112766576   4520\n",
       "2001-03-26  24885.0  24885.0  24885.0  24885.0    1119825     45\n",
       "2001-04-08  25000.0  25000.0  25000.0  25000.0   50000000   2000\n",
       "2001-04-10  25003.0  25003.0  25003.0  25003.0    1750210     70\n",
       "2001-04-15  25010.0  25010.0  25010.0  25010.0    3001200    120"
      ]
     },
     "execution_count": 2,
     "metadata": {},
     "output_type": "execute_result"
    }
   ],
   "source": [
    "#Importing the dataset\n",
    "df=pd.read_csv(\"Stock_ABDI1.csv\")\n",
    "df['datetime'] = pd.to_datetime(df['<DTYYYYMMDD>'], format='%Y%m%d')\n",
    "df.index = df['datetime']\n",
    "df.dropna()\n",
    "df_new = df[[\"<FIRST>\",\"<HIGH>\",\"<LOW>\",\"<CLOSE>\",\"<VALUE>\",\"<VOL>\"]]\n",
    "df_new.head()"
   ]
  },
  {
   "cell_type": "code",
   "execution_count": 3,
   "metadata": {},
   "outputs": [
    {
     "data": {
      "text/plain": [
       "<FIRST>    float64\n",
       "<HIGH>     float64\n",
       "<LOW>      float64\n",
       "<CLOSE>    float64\n",
       "<VALUE>      int64\n",
       "<VOL>        int64\n",
       "dtype: object"
      ]
     },
     "execution_count": 3,
     "metadata": {},
     "output_type": "execute_result"
    }
   ],
   "source": [
    "df_new.dtypes"
   ]
  },
  {
   "cell_type": "code",
   "execution_count": 4,
   "metadata": {},
   "outputs": [
    {
     "data": {
      "text/plain": [
       "(2949, 6)"
      ]
     },
     "execution_count": 4,
     "metadata": {},
     "output_type": "execute_result"
    }
   ],
   "source": [
    "df_new.shape"
   ]
  },
  {
   "cell_type": "code",
   "execution_count": 5,
   "metadata": {},
   "outputs": [
    {
     "data": {
      "text/plain": [
       "<bound method NDFrame.describe of             <FIRST>   <HIGH>    <LOW>  <CLOSE>       <VALUE>    <VOL>\n",
       "datetime                                                             \n",
       "2001-03-25  26000.0  26000.0  24885.0  24885.0     112766576     4520\n",
       "2001-03-26  24885.0  24885.0  24885.0  24885.0       1119825       45\n",
       "2001-04-08  25000.0  25000.0  25000.0  25000.0      50000000     2000\n",
       "2001-04-10  25003.0  25003.0  25003.0  25003.0       1750210       70\n",
       "2001-04-15  25010.0  25010.0  25010.0  25010.0       3001200      120\n",
       "...             ...      ...      ...      ...           ...      ...\n",
       "2020-05-26  56893.0  60313.0  56890.0  57183.0   63584582573  1112100\n",
       "2020-05-27  54317.0  56000.0  54317.0  54558.0  158334486285  2902152\n",
       "2020-05-30  55001.0  57285.0  55001.0  56601.0   91570928155  1617823\n",
       "2020-05-31  58870.0  58870.0  53771.0  56128.0   68818222651  1226100\n",
       "2020-06-01  58450.0  58934.0  55516.0  58399.0  109955845548  1882827\n",
       "\n",
       "[2949 rows x 6 columns]>"
      ]
     },
     "execution_count": 5,
     "metadata": {},
     "output_type": "execute_result"
    }
   ],
   "source": [
    "df_new.describe"
   ]
  },
  {
   "cell_type": "code",
   "execution_count": 6,
   "metadata": {},
   "outputs": [
    {
     "name": "stderr",
     "output_type": "stream",
     "text": [
      "<ipython-input-6-9e9440ad2e51>:2: SettingWithCopyWarning: \n",
      "A value is trying to be set on a copy of a slice from a DataFrame.\n",
      "Try using .loc[row_indexer,col_indexer] = value instead\n",
      "\n",
      "See the caveats in the documentation: https://pandas.pydata.org/pandas-docs/stable/user_guide/indexing.html#returning-a-view-versus-a-copy\n",
      "  df_new['change_in_price'] = df_new['<CLOSE>'].diff()\n"
     ]
    }
   ],
   "source": [
    "#Calculating the change in price\n",
    "df_new['change_in_price'] = df_new['<CLOSE>'].diff()"
   ]
  },
  {
   "cell_type": "markdown",
   "metadata": {},
   "source": [
    "## Calculating the technical indicators"
   ]
  },
  {
   "cell_type": "code",
   "execution_count": 7,
   "metadata": {},
   "outputs": [
    {
     "data": {
      "text/html": [
       "<div>\n",
       "<style scoped>\n",
       "    .dataframe tbody tr th:only-of-type {\n",
       "        vertical-align: middle;\n",
       "    }\n",
       "\n",
       "    .dataframe tbody tr th {\n",
       "        vertical-align: top;\n",
       "    }\n",
       "\n",
       "    .dataframe thead th {\n",
       "        text-align: right;\n",
       "    }\n",
       "</style>\n",
       "<table border=\"1\" class=\"dataframe\">\n",
       "  <thead>\n",
       "    <tr style=\"text-align: right;\">\n",
       "      <th></th>\n",
       "      <th>&lt;FIRST&gt;</th>\n",
       "      <th>&lt;HIGH&gt;</th>\n",
       "      <th>&lt;LOW&gt;</th>\n",
       "      <th>&lt;CLOSE&gt;</th>\n",
       "      <th>&lt;VALUE&gt;</th>\n",
       "      <th>&lt;VOL&gt;</th>\n",
       "      <th>change_in_price</th>\n",
       "      <th>MA_10</th>\n",
       "    </tr>\n",
       "    <tr>\n",
       "      <th>datetime</th>\n",
       "      <th></th>\n",
       "      <th></th>\n",
       "      <th></th>\n",
       "      <th></th>\n",
       "      <th></th>\n",
       "      <th></th>\n",
       "      <th></th>\n",
       "      <th></th>\n",
       "    </tr>\n",
       "  </thead>\n",
       "  <tbody>\n",
       "    <tr>\n",
       "      <th>2020-05-26</th>\n",
       "      <td>56893.0</td>\n",
       "      <td>60313.0</td>\n",
       "      <td>56890.0</td>\n",
       "      <td>57183.0</td>\n",
       "      <td>63584582573</td>\n",
       "      <td>1112100</td>\n",
       "      <td>-2701.0</td>\n",
       "      <td>53564.5</td>\n",
       "    </tr>\n",
       "    <tr>\n",
       "      <th>2020-05-27</th>\n",
       "      <td>54317.0</td>\n",
       "      <td>56000.0</td>\n",
       "      <td>54317.0</td>\n",
       "      <td>54558.0</td>\n",
       "      <td>158334486285</td>\n",
       "      <td>2902152</td>\n",
       "      <td>-2625.0</td>\n",
       "      <td>53612.9</td>\n",
       "    </tr>\n",
       "    <tr>\n",
       "      <th>2020-05-30</th>\n",
       "      <td>55001.0</td>\n",
       "      <td>57285.0</td>\n",
       "      <td>55001.0</td>\n",
       "      <td>56601.0</td>\n",
       "      <td>91570928155</td>\n",
       "      <td>1617823</td>\n",
       "      <td>2043.0</td>\n",
       "      <td>54134.7</td>\n",
       "    </tr>\n",
       "    <tr>\n",
       "      <th>2020-05-31</th>\n",
       "      <td>58870.0</td>\n",
       "      <td>58870.0</td>\n",
       "      <td>53771.0</td>\n",
       "      <td>56128.0</td>\n",
       "      <td>68818222651</td>\n",
       "      <td>1226100</td>\n",
       "      <td>-473.0</td>\n",
       "      <td>54729.1</td>\n",
       "    </tr>\n",
       "    <tr>\n",
       "      <th>2020-06-01</th>\n",
       "      <td>58450.0</td>\n",
       "      <td>58934.0</td>\n",
       "      <td>55516.0</td>\n",
       "      <td>58399.0</td>\n",
       "      <td>109955845548</td>\n",
       "      <td>1882827</td>\n",
       "      <td>2271.0</td>\n",
       "      <td>55767.9</td>\n",
       "    </tr>\n",
       "  </tbody>\n",
       "</table>\n",
       "</div>"
      ],
      "text/plain": [
       "            <FIRST>   <HIGH>    <LOW>  <CLOSE>       <VALUE>    <VOL>  \\\n",
       "datetime                                                                \n",
       "2020-05-26  56893.0  60313.0  56890.0  57183.0   63584582573  1112100   \n",
       "2020-05-27  54317.0  56000.0  54317.0  54558.0  158334486285  2902152   \n",
       "2020-05-30  55001.0  57285.0  55001.0  56601.0   91570928155  1617823   \n",
       "2020-05-31  58870.0  58870.0  53771.0  56128.0   68818222651  1226100   \n",
       "2020-06-01  58450.0  58934.0  55516.0  58399.0  109955845548  1882827   \n",
       "\n",
       "            change_in_price    MA_10  \n",
       "datetime                              \n",
       "2020-05-26          -2701.0  53564.5  \n",
       "2020-05-27          -2625.0  53612.9  \n",
       "2020-05-30           2043.0  54134.7  \n",
       "2020-05-31           -473.0  54729.1  \n",
       "2020-06-01           2271.0  55767.9  "
      ]
     },
     "execution_count": 7,
     "metadata": {},
     "output_type": "execute_result"
    }
   ],
   "source": [
    "#1. Simple n day moving average\n",
    "def moving_average(df, n):\n",
    "    \"\"\"Calculate the moving average for the given data.\n",
    "    :param df: pandas.DataFrame\n",
    "    :param n:\n",
    "    :return: pandas.DataFrame\n",
    "    \"\"\"\n",
    "    MA = pd.Series(df['<CLOSE>'].rolling(n, min_periods=n).mean(), name='MA_' + str(n))\n",
    "    df = df.join(MA)\n",
    "    return df\n",
    "df_new = moving_average(df_new,10)\n",
    "df_new.tail()"
   ]
  },
  {
   "cell_type": "code",
   "execution_count": 8,
   "metadata": {},
   "outputs": [
    {
     "data": {
      "text/html": [
       "<div>\n",
       "<style scoped>\n",
       "    .dataframe tbody tr th:only-of-type {\n",
       "        vertical-align: middle;\n",
       "    }\n",
       "\n",
       "    .dataframe tbody tr th {\n",
       "        vertical-align: top;\n",
       "    }\n",
       "\n",
       "    .dataframe thead th {\n",
       "        text-align: right;\n",
       "    }\n",
       "</style>\n",
       "<table border=\"1\" class=\"dataframe\">\n",
       "  <thead>\n",
       "    <tr style=\"text-align: right;\">\n",
       "      <th></th>\n",
       "      <th>&lt;FIRST&gt;</th>\n",
       "      <th>&lt;HIGH&gt;</th>\n",
       "      <th>&lt;LOW&gt;</th>\n",
       "      <th>&lt;CLOSE&gt;</th>\n",
       "      <th>&lt;VALUE&gt;</th>\n",
       "      <th>&lt;VOL&gt;</th>\n",
       "      <th>change_in_price</th>\n",
       "      <th>MA_10</th>\n",
       "      <th>WMA_10</th>\n",
       "    </tr>\n",
       "    <tr>\n",
       "      <th>datetime</th>\n",
       "      <th></th>\n",
       "      <th></th>\n",
       "      <th></th>\n",
       "      <th></th>\n",
       "      <th></th>\n",
       "      <th></th>\n",
       "      <th></th>\n",
       "      <th></th>\n",
       "      <th></th>\n",
       "    </tr>\n",
       "  </thead>\n",
       "  <tbody>\n",
       "    <tr>\n",
       "      <th>2020-05-26</th>\n",
       "      <td>56893.0</td>\n",
       "      <td>60313.0</td>\n",
       "      <td>56890.0</td>\n",
       "      <td>57183.0</td>\n",
       "      <td>63584582573</td>\n",
       "      <td>1112100</td>\n",
       "      <td>-2701.0</td>\n",
       "      <td>53564.5</td>\n",
       "      <td>55002.149356</td>\n",
       "    </tr>\n",
       "    <tr>\n",
       "      <th>2020-05-27</th>\n",
       "      <td>54317.0</td>\n",
       "      <td>56000.0</td>\n",
       "      <td>54317.0</td>\n",
       "      <td>54558.0</td>\n",
       "      <td>158334486285</td>\n",
       "      <td>2902152</td>\n",
       "      <td>-2625.0</td>\n",
       "      <td>53612.9</td>\n",
       "      <td>54921.394928</td>\n",
       "    </tr>\n",
       "    <tr>\n",
       "      <th>2020-05-30</th>\n",
       "      <td>55001.0</td>\n",
       "      <td>57285.0</td>\n",
       "      <td>55001.0</td>\n",
       "      <td>56601.0</td>\n",
       "      <td>91570928155</td>\n",
       "      <td>1617823</td>\n",
       "      <td>2043.0</td>\n",
       "      <td>54134.7</td>\n",
       "      <td>55226.777668</td>\n",
       "    </tr>\n",
       "    <tr>\n",
       "      <th>2020-05-31</th>\n",
       "      <td>58870.0</td>\n",
       "      <td>58870.0</td>\n",
       "      <td>53771.0</td>\n",
       "      <td>56128.0</td>\n",
       "      <td>68818222651</td>\n",
       "      <td>1226100</td>\n",
       "      <td>-473.0</td>\n",
       "      <td>54729.1</td>\n",
       "      <td>55390.636274</td>\n",
       "    </tr>\n",
       "    <tr>\n",
       "      <th>2020-06-01</th>\n",
       "      <td>58450.0</td>\n",
       "      <td>58934.0</td>\n",
       "      <td>55516.0</td>\n",
       "      <td>58399.0</td>\n",
       "      <td>109955845548</td>\n",
       "      <td>1882827</td>\n",
       "      <td>2271.0</td>\n",
       "      <td>55767.9</td>\n",
       "      <td>55937.611497</td>\n",
       "    </tr>\n",
       "  </tbody>\n",
       "</table>\n",
       "</div>"
      ],
      "text/plain": [
       "            <FIRST>   <HIGH>    <LOW>  <CLOSE>       <VALUE>    <VOL>  \\\n",
       "datetime                                                                \n",
       "2020-05-26  56893.0  60313.0  56890.0  57183.0   63584582573  1112100   \n",
       "2020-05-27  54317.0  56000.0  54317.0  54558.0  158334486285  2902152   \n",
       "2020-05-30  55001.0  57285.0  55001.0  56601.0   91570928155  1617823   \n",
       "2020-05-31  58870.0  58870.0  53771.0  56128.0   68818222651  1226100   \n",
       "2020-06-01  58450.0  58934.0  55516.0  58399.0  109955845548  1882827   \n",
       "\n",
       "            change_in_price    MA_10        WMA_10  \n",
       "datetime                                            \n",
       "2020-05-26          -2701.0  53564.5  55002.149356  \n",
       "2020-05-27          -2625.0  53612.9  54921.394928  \n",
       "2020-05-30           2043.0  54134.7  55226.777668  \n",
       "2020-05-31           -473.0  54729.1  55390.636274  \n",
       "2020-06-01           2271.0  55767.9  55937.611497  "
      ]
     },
     "execution_count": 8,
     "metadata": {},
     "output_type": "execute_result"
    }
   ],
   "source": [
    "#2. Weighted Moving Average (WMA)\n",
    "def weighted_moving_average(df, n):\n",
    "    \"\"\"\n",
    "    :param df: pandas.DataFrame\n",
    "    :param n:\n",
    "    :return: pandas.DataFrame\n",
    "    \"\"\"\n",
    "    WMA = pd.Series(df['<CLOSE>'].ewm(span=n, min_periods=n).mean(), name='WMA_' + str(n))\n",
    "    df = df.join(WMA)\n",
    "    return df\n",
    "df_new = weighted_moving_average(df_new,10)\n",
    "df_new.tail()"
   ]
  },
  {
   "cell_type": "code",
   "execution_count": 9,
   "metadata": {},
   "outputs": [
    {
     "data": {
      "text/html": [
       "<div>\n",
       "<style scoped>\n",
       "    .dataframe tbody tr th:only-of-type {\n",
       "        vertical-align: middle;\n",
       "    }\n",
       "\n",
       "    .dataframe tbody tr th {\n",
       "        vertical-align: top;\n",
       "    }\n",
       "\n",
       "    .dataframe thead th {\n",
       "        text-align: right;\n",
       "    }\n",
       "</style>\n",
       "<table border=\"1\" class=\"dataframe\">\n",
       "  <thead>\n",
       "    <tr style=\"text-align: right;\">\n",
       "      <th></th>\n",
       "      <th>&lt;FIRST&gt;</th>\n",
       "      <th>&lt;HIGH&gt;</th>\n",
       "      <th>&lt;LOW&gt;</th>\n",
       "      <th>&lt;CLOSE&gt;</th>\n",
       "      <th>&lt;VALUE&gt;</th>\n",
       "      <th>&lt;VOL&gt;</th>\n",
       "      <th>change_in_price</th>\n",
       "      <th>MA_10</th>\n",
       "      <th>WMA_10</th>\n",
       "      <th>MOM_10</th>\n",
       "    </tr>\n",
       "    <tr>\n",
       "      <th>datetime</th>\n",
       "      <th></th>\n",
       "      <th></th>\n",
       "      <th></th>\n",
       "      <th></th>\n",
       "      <th></th>\n",
       "      <th></th>\n",
       "      <th></th>\n",
       "      <th></th>\n",
       "      <th></th>\n",
       "      <th></th>\n",
       "    </tr>\n",
       "  </thead>\n",
       "  <tbody>\n",
       "    <tr>\n",
       "      <th>2020-05-26</th>\n",
       "      <td>56893.0</td>\n",
       "      <td>60313.0</td>\n",
       "      <td>56890.0</td>\n",
       "      <td>57183.0</td>\n",
       "      <td>63584582573</td>\n",
       "      <td>1112100</td>\n",
       "      <td>-2701.0</td>\n",
       "      <td>53564.5</td>\n",
       "      <td>55002.149356</td>\n",
       "      <td>414.0</td>\n",
       "    </tr>\n",
       "    <tr>\n",
       "      <th>2020-05-27</th>\n",
       "      <td>54317.0</td>\n",
       "      <td>56000.0</td>\n",
       "      <td>54317.0</td>\n",
       "      <td>54558.0</td>\n",
       "      <td>158334486285</td>\n",
       "      <td>2902152</td>\n",
       "      <td>-2625.0</td>\n",
       "      <td>53612.9</td>\n",
       "      <td>54921.394928</td>\n",
       "      <td>484.0</td>\n",
       "    </tr>\n",
       "    <tr>\n",
       "      <th>2020-05-30</th>\n",
       "      <td>55001.0</td>\n",
       "      <td>57285.0</td>\n",
       "      <td>55001.0</td>\n",
       "      <td>56601.0</td>\n",
       "      <td>91570928155</td>\n",
       "      <td>1617823</td>\n",
       "      <td>2043.0</td>\n",
       "      <td>54134.7</td>\n",
       "      <td>55226.777668</td>\n",
       "      <td>5218.0</td>\n",
       "    </tr>\n",
       "    <tr>\n",
       "      <th>2020-05-31</th>\n",
       "      <td>58870.0</td>\n",
       "      <td>58870.0</td>\n",
       "      <td>53771.0</td>\n",
       "      <td>56128.0</td>\n",
       "      <td>68818222651</td>\n",
       "      <td>1226100</td>\n",
       "      <td>-473.0</td>\n",
       "      <td>54729.1</td>\n",
       "      <td>55390.636274</td>\n",
       "      <td>5944.0</td>\n",
       "    </tr>\n",
       "    <tr>\n",
       "      <th>2020-06-01</th>\n",
       "      <td>58450.0</td>\n",
       "      <td>58934.0</td>\n",
       "      <td>55516.0</td>\n",
       "      <td>58399.0</td>\n",
       "      <td>109955845548</td>\n",
       "      <td>1882827</td>\n",
       "      <td>2271.0</td>\n",
       "      <td>55767.9</td>\n",
       "      <td>55937.611497</td>\n",
       "      <td>10388.0</td>\n",
       "    </tr>\n",
       "  </tbody>\n",
       "</table>\n",
       "</div>"
      ],
      "text/plain": [
       "            <FIRST>   <HIGH>    <LOW>  <CLOSE>       <VALUE>    <VOL>  \\\n",
       "datetime                                                                \n",
       "2020-05-26  56893.0  60313.0  56890.0  57183.0   63584582573  1112100   \n",
       "2020-05-27  54317.0  56000.0  54317.0  54558.0  158334486285  2902152   \n",
       "2020-05-30  55001.0  57285.0  55001.0  56601.0   91570928155  1617823   \n",
       "2020-05-31  58870.0  58870.0  53771.0  56128.0   68818222651  1226100   \n",
       "2020-06-01  58450.0  58934.0  55516.0  58399.0  109955845548  1882827   \n",
       "\n",
       "            change_in_price    MA_10        WMA_10   MOM_10  \n",
       "datetime                                                     \n",
       "2020-05-26          -2701.0  53564.5  55002.149356    414.0  \n",
       "2020-05-27          -2625.0  53612.9  54921.394928    484.0  \n",
       "2020-05-30           2043.0  54134.7  55226.777668   5218.0  \n",
       "2020-05-31           -473.0  54729.1  55390.636274   5944.0  \n",
       "2020-06-01           2271.0  55767.9  55937.611497  10388.0  "
      ]
     },
     "execution_count": 9,
     "metadata": {},
     "output_type": "execute_result"
    }
   ],
   "source": [
    "#3. Momentum\n",
    "def momentum(df, n):\n",
    "    \"\"\"\n",
    "    :param df: pandas.DataFrame\n",
    "    :param n:\n",
    "    :return: pandas.DataFrame\n",
    "    \"\"\"\n",
    "    M = pd.Series(df['<CLOSE>'].diff(n), name='MOM_' + str(n))\n",
    "    df = df.join(M)\n",
    "    return df\n",
    "df_new = momentum(df_new,10)\n",
    "df_new.tail()"
   ]
  },
  {
   "cell_type": "code",
   "execution_count": 10,
   "metadata": {},
   "outputs": [
    {
     "data": {
      "text/html": [
       "<div>\n",
       "<style scoped>\n",
       "    .dataframe tbody tr th:only-of-type {\n",
       "        vertical-align: middle;\n",
       "    }\n",
       "\n",
       "    .dataframe tbody tr th {\n",
       "        vertical-align: top;\n",
       "    }\n",
       "\n",
       "    .dataframe thead th {\n",
       "        text-align: right;\n",
       "    }\n",
       "</style>\n",
       "<table border=\"1\" class=\"dataframe\">\n",
       "  <thead>\n",
       "    <tr style=\"text-align: right;\">\n",
       "      <th></th>\n",
       "      <th>&lt;FIRST&gt;</th>\n",
       "      <th>&lt;HIGH&gt;</th>\n",
       "      <th>&lt;LOW&gt;</th>\n",
       "      <th>&lt;CLOSE&gt;</th>\n",
       "      <th>&lt;VALUE&gt;</th>\n",
       "      <th>&lt;VOL&gt;</th>\n",
       "      <th>change_in_price</th>\n",
       "      <th>MA_10</th>\n",
       "      <th>WMA_10</th>\n",
       "      <th>MOM_10</th>\n",
       "      <th>SO_k</th>\n",
       "    </tr>\n",
       "    <tr>\n",
       "      <th>datetime</th>\n",
       "      <th></th>\n",
       "      <th></th>\n",
       "      <th></th>\n",
       "      <th></th>\n",
       "      <th></th>\n",
       "      <th></th>\n",
       "      <th></th>\n",
       "      <th></th>\n",
       "      <th></th>\n",
       "      <th></th>\n",
       "      <th></th>\n",
       "    </tr>\n",
       "  </thead>\n",
       "  <tbody>\n",
       "    <tr>\n",
       "      <th>2020-05-26</th>\n",
       "      <td>56893.0</td>\n",
       "      <td>60313.0</td>\n",
       "      <td>56890.0</td>\n",
       "      <td>57183.0</td>\n",
       "      <td>63584582573</td>\n",
       "      <td>1112100</td>\n",
       "      <td>-2701.0</td>\n",
       "      <td>53564.5</td>\n",
       "      <td>55002.149356</td>\n",
       "      <td>414.0</td>\n",
       "      <td>0.085597</td>\n",
       "    </tr>\n",
       "    <tr>\n",
       "      <th>2020-05-27</th>\n",
       "      <td>54317.0</td>\n",
       "      <td>56000.0</td>\n",
       "      <td>54317.0</td>\n",
       "      <td>54558.0</td>\n",
       "      <td>158334486285</td>\n",
       "      <td>2902152</td>\n",
       "      <td>-2625.0</td>\n",
       "      <td>53612.9</td>\n",
       "      <td>54921.394928</td>\n",
       "      <td>484.0</td>\n",
       "      <td>0.143197</td>\n",
       "    </tr>\n",
       "    <tr>\n",
       "      <th>2020-05-30</th>\n",
       "      <td>55001.0</td>\n",
       "      <td>57285.0</td>\n",
       "      <td>55001.0</td>\n",
       "      <td>56601.0</td>\n",
       "      <td>91570928155</td>\n",
       "      <td>1617823</td>\n",
       "      <td>2043.0</td>\n",
       "      <td>54134.7</td>\n",
       "      <td>55226.777668</td>\n",
       "      <td>5218.0</td>\n",
       "      <td>0.700525</td>\n",
       "    </tr>\n",
       "    <tr>\n",
       "      <th>2020-05-31</th>\n",
       "      <td>58870.0</td>\n",
       "      <td>58870.0</td>\n",
       "      <td>53771.0</td>\n",
       "      <td>56128.0</td>\n",
       "      <td>68818222651</td>\n",
       "      <td>1226100</td>\n",
       "      <td>-473.0</td>\n",
       "      <td>54729.1</td>\n",
       "      <td>55390.636274</td>\n",
       "      <td>5944.0</td>\n",
       "      <td>0.462247</td>\n",
       "    </tr>\n",
       "    <tr>\n",
       "      <th>2020-06-01</th>\n",
       "      <td>58450.0</td>\n",
       "      <td>58934.0</td>\n",
       "      <td>55516.0</td>\n",
       "      <td>58399.0</td>\n",
       "      <td>109955845548</td>\n",
       "      <td>1882827</td>\n",
       "      <td>2271.0</td>\n",
       "      <td>55767.9</td>\n",
       "      <td>55937.611497</td>\n",
       "      <td>10388.0</td>\n",
       "      <td>0.843476</td>\n",
       "    </tr>\n",
       "  </tbody>\n",
       "</table>\n",
       "</div>"
      ],
      "text/plain": [
       "            <FIRST>   <HIGH>    <LOW>  <CLOSE>       <VALUE>    <VOL>  \\\n",
       "datetime                                                                \n",
       "2020-05-26  56893.0  60313.0  56890.0  57183.0   63584582573  1112100   \n",
       "2020-05-27  54317.0  56000.0  54317.0  54558.0  158334486285  2902152   \n",
       "2020-05-30  55001.0  57285.0  55001.0  56601.0   91570928155  1617823   \n",
       "2020-05-31  58870.0  58870.0  53771.0  56128.0   68818222651  1226100   \n",
       "2020-06-01  58450.0  58934.0  55516.0  58399.0  109955845548  1882827   \n",
       "\n",
       "            change_in_price    MA_10        WMA_10   MOM_10      SO_k  \n",
       "datetime                                                               \n",
       "2020-05-26          -2701.0  53564.5  55002.149356    414.0  0.085597  \n",
       "2020-05-27          -2625.0  53612.9  54921.394928    484.0  0.143197  \n",
       "2020-05-30           2043.0  54134.7  55226.777668   5218.0  0.700525  \n",
       "2020-05-31           -473.0  54729.1  55390.636274   5944.0  0.462247  \n",
       "2020-06-01           2271.0  55767.9  55937.611497  10388.0  0.843476  "
      ]
     },
     "execution_count": 10,
     "metadata": {},
     "output_type": "execute_result"
    }
   ],
   "source": [
    "#4. Stochastic K%\n",
    "def stochastic_oscillator_k(df):\n",
    "    \"\"\"Calculate stochastic oscillator %K for given data.\n",
    "    :param df: pandas.DataFrame\n",
    "    :return: pandas.DataFrame\n",
    "    \"\"\"\n",
    "    SOk = pd.Series((df['<CLOSE>'] - df['<LOW>']) / (df['<HIGH>'] - df['<LOW>']), name='SO_k')\n",
    "    df = df.join(SOk)\n",
    "    return df\n",
    "df_new = stochastic_oscillator_k(df_new)\n",
    "df_new.tail()"
   ]
  },
  {
   "cell_type": "code",
   "execution_count": 11,
   "metadata": {},
   "outputs": [
    {
     "data": {
      "text/html": [
       "<div>\n",
       "<style scoped>\n",
       "    .dataframe tbody tr th:only-of-type {\n",
       "        vertical-align: middle;\n",
       "    }\n",
       "\n",
       "    .dataframe tbody tr th {\n",
       "        vertical-align: top;\n",
       "    }\n",
       "\n",
       "    .dataframe thead th {\n",
       "        text-align: right;\n",
       "    }\n",
       "</style>\n",
       "<table border=\"1\" class=\"dataframe\">\n",
       "  <thead>\n",
       "    <tr style=\"text-align: right;\">\n",
       "      <th></th>\n",
       "      <th>&lt;FIRST&gt;</th>\n",
       "      <th>&lt;HIGH&gt;</th>\n",
       "      <th>&lt;LOW&gt;</th>\n",
       "      <th>&lt;CLOSE&gt;</th>\n",
       "      <th>&lt;VALUE&gt;</th>\n",
       "      <th>&lt;VOL&gt;</th>\n",
       "      <th>change_in_price</th>\n",
       "      <th>MA_10</th>\n",
       "      <th>WMA_10</th>\n",
       "      <th>MOM_10</th>\n",
       "      <th>SO_k</th>\n",
       "      <th>SO_10</th>\n",
       "    </tr>\n",
       "    <tr>\n",
       "      <th>datetime</th>\n",
       "      <th></th>\n",
       "      <th></th>\n",
       "      <th></th>\n",
       "      <th></th>\n",
       "      <th></th>\n",
       "      <th></th>\n",
       "      <th></th>\n",
       "      <th></th>\n",
       "      <th></th>\n",
       "      <th></th>\n",
       "      <th></th>\n",
       "      <th></th>\n",
       "    </tr>\n",
       "  </thead>\n",
       "  <tbody>\n",
       "    <tr>\n",
       "      <th>2020-05-26</th>\n",
       "      <td>56893.0</td>\n",
       "      <td>60313.0</td>\n",
       "      <td>56890.0</td>\n",
       "      <td>57183.0</td>\n",
       "      <td>63584582573</td>\n",
       "      <td>1112100</td>\n",
       "      <td>-2701.0</td>\n",
       "      <td>53564.5</td>\n",
       "      <td>55002.149356</td>\n",
       "      <td>414.0</td>\n",
       "      <td>0.085597</td>\n",
       "      <td>0.497998</td>\n",
       "    </tr>\n",
       "    <tr>\n",
       "      <th>2020-05-27</th>\n",
       "      <td>54317.0</td>\n",
       "      <td>56000.0</td>\n",
       "      <td>54317.0</td>\n",
       "      <td>54558.0</td>\n",
       "      <td>158334486285</td>\n",
       "      <td>2902152</td>\n",
       "      <td>-2625.0</td>\n",
       "      <td>53612.9</td>\n",
       "      <td>54921.394928</td>\n",
       "      <td>484.0</td>\n",
       "      <td>0.143197</td>\n",
       "      <td>0.418632</td>\n",
       "    </tr>\n",
       "    <tr>\n",
       "      <th>2020-05-30</th>\n",
       "      <td>55001.0</td>\n",
       "      <td>57285.0</td>\n",
       "      <td>55001.0</td>\n",
       "      <td>56601.0</td>\n",
       "      <td>91570928155</td>\n",
       "      <td>1617823</td>\n",
       "      <td>2043.0</td>\n",
       "      <td>54134.7</td>\n",
       "      <td>55226.777668</td>\n",
       "      <td>5218.0</td>\n",
       "      <td>0.700525</td>\n",
       "      <td>0.479155</td>\n",
       "    </tr>\n",
       "    <tr>\n",
       "      <th>2020-05-31</th>\n",
       "      <td>58870.0</td>\n",
       "      <td>58870.0</td>\n",
       "      <td>53771.0</td>\n",
       "      <td>56128.0</td>\n",
       "      <td>68818222651</td>\n",
       "      <td>1226100</td>\n",
       "      <td>-473.0</td>\n",
       "      <td>54729.1</td>\n",
       "      <td>55390.636274</td>\n",
       "      <td>5944.0</td>\n",
       "      <td>0.462247</td>\n",
       "      <td>0.475640</td>\n",
       "    </tr>\n",
       "    <tr>\n",
       "      <th>2020-06-01</th>\n",
       "      <td>58450.0</td>\n",
       "      <td>58934.0</td>\n",
       "      <td>55516.0</td>\n",
       "      <td>58399.0</td>\n",
       "      <td>109955845548</td>\n",
       "      <td>1882827</td>\n",
       "      <td>2271.0</td>\n",
       "      <td>55767.9</td>\n",
       "      <td>55937.611497</td>\n",
       "      <td>10388.0</td>\n",
       "      <td>0.843476</td>\n",
       "      <td>0.550159</td>\n",
       "    </tr>\n",
       "  </tbody>\n",
       "</table>\n",
       "</div>"
      ],
      "text/plain": [
       "            <FIRST>   <HIGH>    <LOW>  <CLOSE>       <VALUE>    <VOL>  \\\n",
       "datetime                                                                \n",
       "2020-05-26  56893.0  60313.0  56890.0  57183.0   63584582573  1112100   \n",
       "2020-05-27  54317.0  56000.0  54317.0  54558.0  158334486285  2902152   \n",
       "2020-05-30  55001.0  57285.0  55001.0  56601.0   91570928155  1617823   \n",
       "2020-05-31  58870.0  58870.0  53771.0  56128.0   68818222651  1226100   \n",
       "2020-06-01  58450.0  58934.0  55516.0  58399.0  109955845548  1882827   \n",
       "\n",
       "            change_in_price    MA_10        WMA_10   MOM_10      SO_k  \\\n",
       "datetime                                                                \n",
       "2020-05-26          -2701.0  53564.5  55002.149356    414.0  0.085597   \n",
       "2020-05-27          -2625.0  53612.9  54921.394928    484.0  0.143197   \n",
       "2020-05-30           2043.0  54134.7  55226.777668   5218.0  0.700525   \n",
       "2020-05-31           -473.0  54729.1  55390.636274   5944.0  0.462247   \n",
       "2020-06-01           2271.0  55767.9  55937.611497  10388.0  0.843476   \n",
       "\n",
       "               SO_10  \n",
       "datetime              \n",
       "2020-05-26  0.497998  \n",
       "2020-05-27  0.418632  \n",
       "2020-05-30  0.479155  \n",
       "2020-05-31  0.475640  \n",
       "2020-06-01  0.550159  "
      ]
     },
     "execution_count": 11,
     "metadata": {},
     "output_type": "execute_result"
    }
   ],
   "source": [
    "#5. Stochastic D%\n",
    "def stochastic_oscillator_d(df, n):\n",
    "    \"\"\"Calculate stochastic oscillator %D for given data.\n",
    "    :param df: pandas.DataFrame\n",
    "    :param n:\n",
    "    :return: pandas.DataFrame\n",
    "    \"\"\"\n",
    "    SOk = pd.Series((df['<CLOSE>'] - df['<LOW>']) / (df['<HIGH>'] - df['<LOW>']), name='SO%k')\n",
    "    SOd = pd.Series(SOk.ewm(span=n, min_periods=n).mean(), name='SO_' + str(n))\n",
    "    df = df.join(SOd)\n",
    "    return df\n",
    "df_new = stochastic_oscillator_d(df_new,10)\n",
    "df_new.tail()"
   ]
  },
  {
   "cell_type": "code",
   "execution_count": 12,
   "metadata": {},
   "outputs": [
    {
     "data": {
      "text/plain": [
       "\"\\ndef relative_strength_index(df, n):\\n    Calculate Relative Strength Index(RSI) for given data.\\n    :param df: pandas.DataFrame\\n    :param n:\\n    :return: pandas.DataFrame\\n    i = df.index[0]\\n    UpI = [0]\\n    DoI = [0]\\n    while i + 1 <= df.index[-1]:\\n        UpMove = float(df.loc[i + 1, 'high']) - float(df.loc[i, 'high'])\\n        DoMove = float(df.loc[i, 'low']) - float(df.loc[i + 1, 'low'])\\n        if UpMove > DoMove and UpMove > 0:\\n            UpD = UpMove\\n        else:\\n            UpD = 0\\n        UpI.append(UpD)\\n        if DoMove > UpMove and DoMove > 0:\\n            DoD = DoMove\\n        else:\\n            DoD = 0\\n        DoI.append(DoD)\\n        i = i + 1\\n    UpI = pd.Series(UpI)\\n\\n    DoI = pd.Series(DoI)\\n    PosDI = pd.Series(UpI.ewm(span=n, min_periods=n).mean())\\n    NegDI = pd.Series(DoI.ewm(span=n, min_periods=n).mean())\\n\\n    # rsi = pd.Series(PosDI / (PosDI + NegDI), name='RSI_' + str(n))\\n    rsi = pd.DataFrame(PosDI / (PosDI + NegDI), columns=['RSI_' + str(n)])\\n    rsi = rsi.set_index(df.index)\\n    df = df.join(rsi)\\n    return df\\n\""
      ]
     },
     "execution_count": 12,
     "metadata": {},
     "output_type": "execute_result"
    }
   ],
   "source": [
    "#6. Relative Strength Index\n",
    "#Error\n",
    "\"\"\"\n",
    "def relative_strength_index(df, n):\n",
    "    Calculate Relative Strength Index(RSI) for given data.\n",
    "    :param df: pandas.DataFrame\n",
    "    :param n:\n",
    "    :return: pandas.DataFrame\n",
    "    i = df.index[0]\n",
    "    UpI = [0]\n",
    "    DoI = [0]\n",
    "    while i + 1 <= df.index[-1]:\n",
    "        UpMove = float(df.loc[i + 1, 'high']) - float(df.loc[i, 'high'])\n",
    "        DoMove = float(df.loc[i, 'low']) - float(df.loc[i + 1, 'low'])\n",
    "        if UpMove > DoMove and UpMove > 0:\n",
    "            UpD = UpMove\n",
    "        else:\n",
    "            UpD = 0\n",
    "        UpI.append(UpD)\n",
    "        if DoMove > UpMove and DoMove > 0:\n",
    "            DoD = DoMove\n",
    "        else:\n",
    "            DoD = 0\n",
    "        DoI.append(DoD)\n",
    "        i = i + 1\n",
    "    UpI = pd.Series(UpI)\n",
    "\n",
    "    DoI = pd.Series(DoI)\n",
    "    PosDI = pd.Series(UpI.ewm(span=n, min_periods=n).mean())\n",
    "    NegDI = pd.Series(DoI.ewm(span=n, min_periods=n).mean())\n",
    "\n",
    "    # rsi = pd.Series(PosDI / (PosDI + NegDI), name='RSI_' + str(n))\n",
    "    rsi = pd.DataFrame(PosDI / (PosDI + NegDI), columns=['RSI_' + str(n)])\n",
    "    rsi = rsi.set_index(df.index)\n",
    "    df = df.join(rsi)\n",
    "    return df\n",
    "\"\"\""
   ]
  },
  {
   "cell_type": "code",
   "execution_count": 13,
   "metadata": {},
   "outputs": [
    {
     "data": {
      "text/html": [
       "<div>\n",
       "<style scoped>\n",
       "    .dataframe tbody tr th:only-of-type {\n",
       "        vertical-align: middle;\n",
       "    }\n",
       "\n",
       "    .dataframe tbody tr th {\n",
       "        vertical-align: top;\n",
       "    }\n",
       "\n",
       "    .dataframe thead th {\n",
       "        text-align: right;\n",
       "    }\n",
       "</style>\n",
       "<table border=\"1\" class=\"dataframe\">\n",
       "  <thead>\n",
       "    <tr style=\"text-align: right;\">\n",
       "      <th></th>\n",
       "      <th>&lt;FIRST&gt;</th>\n",
       "      <th>&lt;HIGH&gt;</th>\n",
       "      <th>&lt;LOW&gt;</th>\n",
       "      <th>&lt;CLOSE&gt;</th>\n",
       "      <th>&lt;VALUE&gt;</th>\n",
       "      <th>&lt;VOL&gt;</th>\n",
       "      <th>change_in_price</th>\n",
       "      <th>MA_10</th>\n",
       "      <th>WMA_10</th>\n",
       "      <th>MOM_10</th>\n",
       "      <th>SO_k</th>\n",
       "      <th>SO_10</th>\n",
       "      <th>MACD_12_26</th>\n",
       "      <th>MACDsign_12_26</th>\n",
       "      <th>MACDdiff_12_26</th>\n",
       "    </tr>\n",
       "    <tr>\n",
       "      <th>datetime</th>\n",
       "      <th></th>\n",
       "      <th></th>\n",
       "      <th></th>\n",
       "      <th></th>\n",
       "      <th></th>\n",
       "      <th></th>\n",
       "      <th></th>\n",
       "      <th></th>\n",
       "      <th></th>\n",
       "      <th></th>\n",
       "      <th></th>\n",
       "      <th></th>\n",
       "      <th></th>\n",
       "      <th></th>\n",
       "      <th></th>\n",
       "    </tr>\n",
       "  </thead>\n",
       "  <tbody>\n",
       "    <tr>\n",
       "      <th>2001-03-25</th>\n",
       "      <td>26000.0</td>\n",
       "      <td>26000.0</td>\n",
       "      <td>24885.0</td>\n",
       "      <td>24885.0</td>\n",
       "      <td>112766576</td>\n",
       "      <td>4520</td>\n",
       "      <td>NaN</td>\n",
       "      <td>NaN</td>\n",
       "      <td>NaN</td>\n",
       "      <td>NaN</td>\n",
       "      <td>0.0</td>\n",
       "      <td>NaN</td>\n",
       "      <td>NaN</td>\n",
       "      <td>NaN</td>\n",
       "      <td>NaN</td>\n",
       "    </tr>\n",
       "    <tr>\n",
       "      <th>2001-03-26</th>\n",
       "      <td>24885.0</td>\n",
       "      <td>24885.0</td>\n",
       "      <td>24885.0</td>\n",
       "      <td>24885.0</td>\n",
       "      <td>1119825</td>\n",
       "      <td>45</td>\n",
       "      <td>0.0</td>\n",
       "      <td>NaN</td>\n",
       "      <td>NaN</td>\n",
       "      <td>NaN</td>\n",
       "      <td>NaN</td>\n",
       "      <td>NaN</td>\n",
       "      <td>NaN</td>\n",
       "      <td>NaN</td>\n",
       "      <td>NaN</td>\n",
       "    </tr>\n",
       "    <tr>\n",
       "      <th>2001-04-08</th>\n",
       "      <td>25000.0</td>\n",
       "      <td>25000.0</td>\n",
       "      <td>25000.0</td>\n",
       "      <td>25000.0</td>\n",
       "      <td>50000000</td>\n",
       "      <td>2000</td>\n",
       "      <td>115.0</td>\n",
       "      <td>NaN</td>\n",
       "      <td>NaN</td>\n",
       "      <td>NaN</td>\n",
       "      <td>NaN</td>\n",
       "      <td>NaN</td>\n",
       "      <td>NaN</td>\n",
       "      <td>NaN</td>\n",
       "      <td>NaN</td>\n",
       "    </tr>\n",
       "    <tr>\n",
       "      <th>2001-04-10</th>\n",
       "      <td>25003.0</td>\n",
       "      <td>25003.0</td>\n",
       "      <td>25003.0</td>\n",
       "      <td>25003.0</td>\n",
       "      <td>1750210</td>\n",
       "      <td>70</td>\n",
       "      <td>3.0</td>\n",
       "      <td>NaN</td>\n",
       "      <td>NaN</td>\n",
       "      <td>NaN</td>\n",
       "      <td>NaN</td>\n",
       "      <td>NaN</td>\n",
       "      <td>NaN</td>\n",
       "      <td>NaN</td>\n",
       "      <td>NaN</td>\n",
       "    </tr>\n",
       "    <tr>\n",
       "      <th>2001-04-15</th>\n",
       "      <td>25010.0</td>\n",
       "      <td>25010.0</td>\n",
       "      <td>25010.0</td>\n",
       "      <td>25010.0</td>\n",
       "      <td>3001200</td>\n",
       "      <td>120</td>\n",
       "      <td>7.0</td>\n",
       "      <td>NaN</td>\n",
       "      <td>NaN</td>\n",
       "      <td>NaN</td>\n",
       "      <td>NaN</td>\n",
       "      <td>NaN</td>\n",
       "      <td>NaN</td>\n",
       "      <td>NaN</td>\n",
       "      <td>NaN</td>\n",
       "    </tr>\n",
       "  </tbody>\n",
       "</table>\n",
       "</div>"
      ],
      "text/plain": [
       "            <FIRST>   <HIGH>    <LOW>  <CLOSE>    <VALUE>  <VOL>  \\\n",
       "datetime                                                           \n",
       "2001-03-25  26000.0  26000.0  24885.0  24885.0  112766576   4520   \n",
       "2001-03-26  24885.0  24885.0  24885.0  24885.0    1119825     45   \n",
       "2001-04-08  25000.0  25000.0  25000.0  25000.0   50000000   2000   \n",
       "2001-04-10  25003.0  25003.0  25003.0  25003.0    1750210     70   \n",
       "2001-04-15  25010.0  25010.0  25010.0  25010.0    3001200    120   \n",
       "\n",
       "            change_in_price  MA_10  WMA_10  MOM_10  SO_k  SO_10  MACD_12_26  \\\n",
       "datetime                                                                      \n",
       "2001-03-25              NaN    NaN     NaN     NaN   0.0    NaN         NaN   \n",
       "2001-03-26              0.0    NaN     NaN     NaN   NaN    NaN         NaN   \n",
       "2001-04-08            115.0    NaN     NaN     NaN   NaN    NaN         NaN   \n",
       "2001-04-10              3.0    NaN     NaN     NaN   NaN    NaN         NaN   \n",
       "2001-04-15              7.0    NaN     NaN     NaN   NaN    NaN         NaN   \n",
       "\n",
       "            MACDsign_12_26  MACDdiff_12_26  \n",
       "datetime                                    \n",
       "2001-03-25             NaN             NaN  \n",
       "2001-03-26             NaN             NaN  \n",
       "2001-04-08             NaN             NaN  \n",
       "2001-04-10             NaN             NaN  \n",
       "2001-04-15             NaN             NaN  "
      ]
     },
     "execution_count": 13,
     "metadata": {},
     "output_type": "execute_result"
    }
   ],
   "source": [
    "#7. Signal\n",
    "def macd(df, n_fast, n_slow):\n",
    "    \"\"\"Calculate MACD, MACD Signal and MACD difference\n",
    "    :param df: pandas.DataFrame\n",
    "    :param n_fast:\n",
    "    :param n_slow:\n",
    "    :return: pandas.DataFrame\n",
    "    \"\"\"\n",
    "    EMAfast = pd.Series(df['<CLOSE>'].ewm(span=n_fast, min_periods=n_slow).mean())\n",
    "    EMAslow = pd.Series(df['<CLOSE>'].ewm(span=n_slow, min_periods=n_slow).mean())\n",
    "    MACD = pd.Series(EMAfast - EMAslow, name='MACD_' + str(n_fast) + '_' + str(n_slow))\n",
    "    MACDsign = pd.Series(MACD.ewm(span=9, min_periods=9).mean(), name='MACDsign_' + str(n_fast) + '_' + str(n_slow))\n",
    "    MACDdiff = pd.Series(MACD - MACDsign, name='MACDdiff_' + str(n_fast) + '_' + str(n_slow))\n",
    "    df = df.join(MACD)\n",
    "    df = df.join(MACDsign)\n",
    "    df = df.join(MACDdiff)\n",
    "    return df\n",
    "df_new = macd(df_new,12,26)\n",
    "df_new.head()"
   ]
  },
  {
   "cell_type": "code",
   "execution_count": 14,
   "metadata": {},
   "outputs": [],
   "source": [
    "#8. Larry Williams R%\n",
    "#lEFT"
   ]
  },
  {
   "cell_type": "code",
   "execution_count": 15,
   "metadata": {},
   "outputs": [
    {
     "name": "stderr",
     "output_type": "stream",
     "text": [
      "F:\\ana\\lib\\site-packages\\pandas\\core\\algorithms.py:1926: RuntimeWarning: invalid value encountered in subtract\n",
      "  out_arr[res_indexer] = arr[res_indexer] - arr[lag_indexer]\n"
     ]
    },
    {
     "data": {
      "text/html": [
       "<div>\n",
       "<style scoped>\n",
       "    .dataframe tbody tr th:only-of-type {\n",
       "        vertical-align: middle;\n",
       "    }\n",
       "\n",
       "    .dataframe tbody tr th {\n",
       "        vertical-align: top;\n",
       "    }\n",
       "\n",
       "    .dataframe thead th {\n",
       "        text-align: right;\n",
       "    }\n",
       "</style>\n",
       "<table border=\"1\" class=\"dataframe\">\n",
       "  <thead>\n",
       "    <tr style=\"text-align: right;\">\n",
       "      <th></th>\n",
       "      <th>&lt;FIRST&gt;</th>\n",
       "      <th>&lt;HIGH&gt;</th>\n",
       "      <th>&lt;LOW&gt;</th>\n",
       "      <th>&lt;CLOSE&gt;</th>\n",
       "      <th>&lt;VALUE&gt;</th>\n",
       "      <th>&lt;VOL&gt;</th>\n",
       "      <th>change_in_price</th>\n",
       "      <th>MA_10</th>\n",
       "      <th>WMA_10</th>\n",
       "      <th>MOM_10</th>\n",
       "      <th>SO_k</th>\n",
       "      <th>SO_10</th>\n",
       "      <th>MACD_12_26</th>\n",
       "      <th>MACDsign_12_26</th>\n",
       "      <th>MACDdiff_12_26</th>\n",
       "      <th>Acc/Dist_ROC_10</th>\n",
       "    </tr>\n",
       "    <tr>\n",
       "      <th>datetime</th>\n",
       "      <th></th>\n",
       "      <th></th>\n",
       "      <th></th>\n",
       "      <th></th>\n",
       "      <th></th>\n",
       "      <th></th>\n",
       "      <th></th>\n",
       "      <th></th>\n",
       "      <th></th>\n",
       "      <th></th>\n",
       "      <th></th>\n",
       "      <th></th>\n",
       "      <th></th>\n",
       "      <th></th>\n",
       "      <th></th>\n",
       "      <th></th>\n",
       "    </tr>\n",
       "  </thead>\n",
       "  <tbody>\n",
       "    <tr>\n",
       "      <th>2020-05-26</th>\n",
       "      <td>56893.0</td>\n",
       "      <td>60313.0</td>\n",
       "      <td>56890.0</td>\n",
       "      <td>57183.0</td>\n",
       "      <td>63584582573</td>\n",
       "      <td>1112100</td>\n",
       "      <td>-2701.0</td>\n",
       "      <td>53564.5</td>\n",
       "      <td>55002.149356</td>\n",
       "      <td>414.0</td>\n",
       "      <td>0.085597</td>\n",
       "      <td>0.497998</td>\n",
       "      <td>2073.423535</td>\n",
       "      <td>1790.701298</td>\n",
       "      <td>282.722237</td>\n",
       "      <td>-0.208579</td>\n",
       "    </tr>\n",
       "    <tr>\n",
       "      <th>2020-05-27</th>\n",
       "      <td>54317.0</td>\n",
       "      <td>56000.0</td>\n",
       "      <td>54317.0</td>\n",
       "      <td>54558.0</td>\n",
       "      <td>158334486285</td>\n",
       "      <td>2902152</td>\n",
       "      <td>-2625.0</td>\n",
       "      <td>53612.9</td>\n",
       "      <td>54921.394928</td>\n",
       "      <td>484.0</td>\n",
       "      <td>0.143197</td>\n",
       "      <td>0.418632</td>\n",
       "      <td>1913.574327</td>\n",
       "      <td>1815.275904</td>\n",
       "      <td>98.298423</td>\n",
       "      <td>0.180189</td>\n",
       "    </tr>\n",
       "    <tr>\n",
       "      <th>2020-05-30</th>\n",
       "      <td>55001.0</td>\n",
       "      <td>57285.0</td>\n",
       "      <td>55001.0</td>\n",
       "      <td>56601.0</td>\n",
       "      <td>91570928155</td>\n",
       "      <td>1617823</td>\n",
       "      <td>2043.0</td>\n",
       "      <td>54134.7</td>\n",
       "      <td>55226.777668</td>\n",
       "      <td>5218.0</td>\n",
       "      <td>0.700525</td>\n",
       "      <td>0.479155</td>\n",
       "      <td>1929.503588</td>\n",
       "      <td>1838.121441</td>\n",
       "      <td>91.382147</td>\n",
       "      <td>-3.989948</td>\n",
       "    </tr>\n",
       "    <tr>\n",
       "      <th>2020-05-31</th>\n",
       "      <td>58870.0</td>\n",
       "      <td>58870.0</td>\n",
       "      <td>53771.0</td>\n",
       "      <td>56128.0</td>\n",
       "      <td>68818222651</td>\n",
       "      <td>1226100</td>\n",
       "      <td>-473.0</td>\n",
       "      <td>54729.1</td>\n",
       "      <td>55390.636274</td>\n",
       "      <td>5944.0</td>\n",
       "      <td>0.462247</td>\n",
       "      <td>0.475640</td>\n",
       "      <td>1882.262939</td>\n",
       "      <td>1846.949741</td>\n",
       "      <td>35.313199</td>\n",
       "      <td>-0.928358</td>\n",
       "    </tr>\n",
       "    <tr>\n",
       "      <th>2020-06-01</th>\n",
       "      <td>58450.0</td>\n",
       "      <td>58934.0</td>\n",
       "      <td>55516.0</td>\n",
       "      <td>58399.0</td>\n",
       "      <td>109955845548</td>\n",
       "      <td>1882827</td>\n",
       "      <td>2271.0</td>\n",
       "      <td>55767.9</td>\n",
       "      <td>55937.611497</td>\n",
       "      <td>10388.0</td>\n",
       "      <td>0.843476</td>\n",
       "      <td>0.550159</td>\n",
       "      <td>2004.963138</td>\n",
       "      <td>1878.552420</td>\n",
       "      <td>126.410718</td>\n",
       "      <td>-0.353527</td>\n",
       "    </tr>\n",
       "  </tbody>\n",
       "</table>\n",
       "</div>"
      ],
      "text/plain": [
       "            <FIRST>   <HIGH>    <LOW>  <CLOSE>       <VALUE>    <VOL>  \\\n",
       "datetime                                                                \n",
       "2020-05-26  56893.0  60313.0  56890.0  57183.0   63584582573  1112100   \n",
       "2020-05-27  54317.0  56000.0  54317.0  54558.0  158334486285  2902152   \n",
       "2020-05-30  55001.0  57285.0  55001.0  56601.0   91570928155  1617823   \n",
       "2020-05-31  58870.0  58870.0  53771.0  56128.0   68818222651  1226100   \n",
       "2020-06-01  58450.0  58934.0  55516.0  58399.0  109955845548  1882827   \n",
       "\n",
       "            change_in_price    MA_10        WMA_10   MOM_10      SO_k  \\\n",
       "datetime                                                                \n",
       "2020-05-26          -2701.0  53564.5  55002.149356    414.0  0.085597   \n",
       "2020-05-27          -2625.0  53612.9  54921.394928    484.0  0.143197   \n",
       "2020-05-30           2043.0  54134.7  55226.777668   5218.0  0.700525   \n",
       "2020-05-31           -473.0  54729.1  55390.636274   5944.0  0.462247   \n",
       "2020-06-01           2271.0  55767.9  55937.611497  10388.0  0.843476   \n",
       "\n",
       "               SO_10   MACD_12_26  MACDsign_12_26  MACDdiff_12_26  \\\n",
       "datetime                                                            \n",
       "2020-05-26  0.497998  2073.423535     1790.701298      282.722237   \n",
       "2020-05-27  0.418632  1913.574327     1815.275904       98.298423   \n",
       "2020-05-30  0.479155  1929.503588     1838.121441       91.382147   \n",
       "2020-05-31  0.475640  1882.262939     1846.949741       35.313199   \n",
       "2020-06-01  0.550159  2004.963138     1878.552420      126.410718   \n",
       "\n",
       "            Acc/Dist_ROC_10  \n",
       "datetime                     \n",
       "2020-05-26        -0.208579  \n",
       "2020-05-27         0.180189  \n",
       "2020-05-30        -3.989948  \n",
       "2020-05-31        -0.928358  \n",
       "2020-06-01        -0.353527  "
      ]
     },
     "execution_count": 15,
     "metadata": {},
     "output_type": "execute_result"
    }
   ],
   "source": [
    "#9. Accumulation / Distribution\n",
    "def accumulation_distribution(df, n):\n",
    "    \"\"\"Calculate Accumulation/Distribution for given data.\n",
    "    :param df: pandas.DataFrame\n",
    "    :param n:\n",
    "    :return: pandas.DataFrame\n",
    "    \"\"\"\n",
    "    ad = (2 * df['<CLOSE>'] - df['<HIGH>'] - df['<LOW>']) / (df['<HIGH>'] - df['<LOW>']) * df['<VOL>']\n",
    "    M = ad.diff(n - 1)\n",
    "    N = ad.shift(n - 1)\n",
    "    ROC = M / N\n",
    "    AD = pd.Series(ROC, name='Acc/Dist_ROC_' + str(n))\n",
    "    df = df.join(AD)\n",
    "    return df\n",
    "df_new = accumulation_distribution(df_new,10)\n",
    "df_new.tail()"
   ]
  },
  {
   "cell_type": "code",
   "execution_count": 16,
   "metadata": {},
   "outputs": [
    {
     "data": {
      "text/html": [
       "<div>\n",
       "<style scoped>\n",
       "    .dataframe tbody tr th:only-of-type {\n",
       "        vertical-align: middle;\n",
       "    }\n",
       "\n",
       "    .dataframe tbody tr th {\n",
       "        vertical-align: top;\n",
       "    }\n",
       "\n",
       "    .dataframe thead th {\n",
       "        text-align: right;\n",
       "    }\n",
       "</style>\n",
       "<table border=\"1\" class=\"dataframe\">\n",
       "  <thead>\n",
       "    <tr style=\"text-align: right;\">\n",
       "      <th></th>\n",
       "      <th>&lt;FIRST&gt;</th>\n",
       "      <th>&lt;HIGH&gt;</th>\n",
       "      <th>&lt;LOW&gt;</th>\n",
       "      <th>&lt;CLOSE&gt;</th>\n",
       "      <th>&lt;VALUE&gt;</th>\n",
       "      <th>&lt;VOL&gt;</th>\n",
       "      <th>change_in_price</th>\n",
       "      <th>MA_10</th>\n",
       "      <th>WMA_10</th>\n",
       "      <th>MOM_10</th>\n",
       "      <th>SO_k</th>\n",
       "      <th>SO_10</th>\n",
       "      <th>MACD_12_26</th>\n",
       "      <th>MACDsign_12_26</th>\n",
       "      <th>MACDdiff_12_26</th>\n",
       "      <th>Acc/Dist_ROC_10</th>\n",
       "      <th>CCI_10</th>\n",
       "    </tr>\n",
       "    <tr>\n",
       "      <th>datetime</th>\n",
       "      <th></th>\n",
       "      <th></th>\n",
       "      <th></th>\n",
       "      <th></th>\n",
       "      <th></th>\n",
       "      <th></th>\n",
       "      <th></th>\n",
       "      <th></th>\n",
       "      <th></th>\n",
       "      <th></th>\n",
       "      <th></th>\n",
       "      <th></th>\n",
       "      <th></th>\n",
       "      <th></th>\n",
       "      <th></th>\n",
       "      <th></th>\n",
       "      <th></th>\n",
       "    </tr>\n",
       "  </thead>\n",
       "  <tbody>\n",
       "    <tr>\n",
       "      <th>2020-05-26</th>\n",
       "      <td>56893.0</td>\n",
       "      <td>60313.0</td>\n",
       "      <td>56890.0</td>\n",
       "      <td>57183.0</td>\n",
       "      <td>63584582573</td>\n",
       "      <td>1112100</td>\n",
       "      <td>-2701.0</td>\n",
       "      <td>53564.5</td>\n",
       "      <td>55002.149356</td>\n",
       "      <td>414.0</td>\n",
       "      <td>0.085597</td>\n",
       "      <td>0.497998</td>\n",
       "      <td>2073.423535</td>\n",
       "      <td>1790.701298</td>\n",
       "      <td>282.722237</td>\n",
       "      <td>-0.208579</td>\n",
       "      <td>1.149889</td>\n",
       "    </tr>\n",
       "    <tr>\n",
       "      <th>2020-05-27</th>\n",
       "      <td>54317.0</td>\n",
       "      <td>56000.0</td>\n",
       "      <td>54317.0</td>\n",
       "      <td>54558.0</td>\n",
       "      <td>158334486285</td>\n",
       "      <td>2902152</td>\n",
       "      <td>-2625.0</td>\n",
       "      <td>53612.9</td>\n",
       "      <td>54921.394928</td>\n",
       "      <td>484.0</td>\n",
       "      <td>0.143197</td>\n",
       "      <td>0.418632</td>\n",
       "      <td>1913.574327</td>\n",
       "      <td>1815.275904</td>\n",
       "      <td>98.298423</td>\n",
       "      <td>0.180189</td>\n",
       "      <td>0.325225</td>\n",
       "    </tr>\n",
       "    <tr>\n",
       "      <th>2020-05-30</th>\n",
       "      <td>55001.0</td>\n",
       "      <td>57285.0</td>\n",
       "      <td>55001.0</td>\n",
       "      <td>56601.0</td>\n",
       "      <td>91570928155</td>\n",
       "      <td>1617823</td>\n",
       "      <td>2043.0</td>\n",
       "      <td>54134.7</td>\n",
       "      <td>55226.777668</td>\n",
       "      <td>5218.0</td>\n",
       "      <td>0.700525</td>\n",
       "      <td>0.479155</td>\n",
       "      <td>1929.503588</td>\n",
       "      <td>1838.121441</td>\n",
       "      <td>91.382147</td>\n",
       "      <td>-3.989948</td>\n",
       "      <td>0.556432</td>\n",
       "    </tr>\n",
       "    <tr>\n",
       "      <th>2020-05-31</th>\n",
       "      <td>58870.0</td>\n",
       "      <td>58870.0</td>\n",
       "      <td>53771.0</td>\n",
       "      <td>56128.0</td>\n",
       "      <td>68818222651</td>\n",
       "      <td>1226100</td>\n",
       "      <td>-473.0</td>\n",
       "      <td>54729.1</td>\n",
       "      <td>55390.636274</td>\n",
       "      <td>5944.0</td>\n",
       "      <td>0.462247</td>\n",
       "      <td>0.475640</td>\n",
       "      <td>1882.262939</td>\n",
       "      <td>1846.949741</td>\n",
       "      <td>35.313199</td>\n",
       "      <td>-0.928358</td>\n",
       "      <td>0.413202</td>\n",
       "    </tr>\n",
       "    <tr>\n",
       "      <th>2020-06-01</th>\n",
       "      <td>58450.0</td>\n",
       "      <td>58934.0</td>\n",
       "      <td>55516.0</td>\n",
       "      <td>58399.0</td>\n",
       "      <td>109955845548</td>\n",
       "      <td>1882827</td>\n",
       "      <td>2271.0</td>\n",
       "      <td>55767.9</td>\n",
       "      <td>55937.611497</td>\n",
       "      <td>10388.0</td>\n",
       "      <td>0.843476</td>\n",
       "      <td>0.550159</td>\n",
       "      <td>2004.963138</td>\n",
       "      <td>1878.552420</td>\n",
       "      <td>126.410718</td>\n",
       "      <td>-0.353527</td>\n",
       "      <td>0.663146</td>\n",
       "    </tr>\n",
       "  </tbody>\n",
       "</table>\n",
       "</div>"
      ],
      "text/plain": [
       "            <FIRST>   <HIGH>    <LOW>  <CLOSE>       <VALUE>    <VOL>  \\\n",
       "datetime                                                                \n",
       "2020-05-26  56893.0  60313.0  56890.0  57183.0   63584582573  1112100   \n",
       "2020-05-27  54317.0  56000.0  54317.0  54558.0  158334486285  2902152   \n",
       "2020-05-30  55001.0  57285.0  55001.0  56601.0   91570928155  1617823   \n",
       "2020-05-31  58870.0  58870.0  53771.0  56128.0   68818222651  1226100   \n",
       "2020-06-01  58450.0  58934.0  55516.0  58399.0  109955845548  1882827   \n",
       "\n",
       "            change_in_price    MA_10        WMA_10   MOM_10      SO_k  \\\n",
       "datetime                                                                \n",
       "2020-05-26          -2701.0  53564.5  55002.149356    414.0  0.085597   \n",
       "2020-05-27          -2625.0  53612.9  54921.394928    484.0  0.143197   \n",
       "2020-05-30           2043.0  54134.7  55226.777668   5218.0  0.700525   \n",
       "2020-05-31           -473.0  54729.1  55390.636274   5944.0  0.462247   \n",
       "2020-06-01           2271.0  55767.9  55937.611497  10388.0  0.843476   \n",
       "\n",
       "               SO_10   MACD_12_26  MACDsign_12_26  MACDdiff_12_26  \\\n",
       "datetime                                                            \n",
       "2020-05-26  0.497998  2073.423535     1790.701298      282.722237   \n",
       "2020-05-27  0.418632  1913.574327     1815.275904       98.298423   \n",
       "2020-05-30  0.479155  1929.503588     1838.121441       91.382147   \n",
       "2020-05-31  0.475640  1882.262939     1846.949741       35.313199   \n",
       "2020-06-01  0.550159  2004.963138     1878.552420      126.410718   \n",
       "\n",
       "            Acc/Dist_ROC_10    CCI_10  \n",
       "datetime                               \n",
       "2020-05-26        -0.208579  1.149889  \n",
       "2020-05-27         0.180189  0.325225  \n",
       "2020-05-30        -3.989948  0.556432  \n",
       "2020-05-31        -0.928358  0.413202  \n",
       "2020-06-01        -0.353527  0.663146  "
      ]
     },
     "execution_count": 16,
     "metadata": {},
     "output_type": "execute_result"
    }
   ],
   "source": [
    "#10. Commodity Channel Index\n",
    "def commodity_channel_index(df, n):\n",
    "    \"\"\"Calculate Commodity Channel Index for given data.\n",
    "    :param df: pandas.DataFrame\n",
    "    :param n:\n",
    "    :return: pandas.DataFrame\n",
    "    \"\"\"\n",
    "    PP = (df['<HIGH>'] + df['<LOW>'] + df['<CLOSE>']) / 3\n",
    "    CCI = pd.Series((PP - PP.rolling(n, min_periods=n).mean()) / PP.rolling(n, min_periods=n).std(),\n",
    "                    name='CCI_' + str(n))\n",
    "    df = df.join(CCI)\n",
    "    return df\n",
    "df_new = commodity_channel_index(df_new,10)\n",
    "df_new.tail()"
   ]
  },
  {
   "cell_type": "code",
   "execution_count": 17,
   "metadata": {},
   "outputs": [
    {
     "data": {
      "text/plain": [
       "<FIRST>            1.606974e+04\n",
       "<HIGH>             1.624670e+04\n",
       "<LOW>              1.585039e+04\n",
       "<CLOSE>            1.604883e+04\n",
       "<VALUE>            5.758089e+09\n",
       "<VOL>              1.859359e+05\n",
       "change_in_price    1.136839e+01\n",
       "MA_10              1.597267e+04\n",
       "WMA_10             1.597444e+04\n",
       "MOM_10             1.040361e+02\n",
       "SO_k                        NaN\n",
       "SO_10              1.187467e+00\n",
       "MACD_12_26         5.507259e+01\n",
       "MACDsign_12_26     5.036558e+01\n",
       "MACDdiff_12_26     2.516932e+00\n",
       "Acc/Dist_ROC_10             NaN\n",
       "CCI_10             1.268434e-01\n",
       "dtype: float64"
      ]
     },
     "execution_count": 17,
     "metadata": {},
     "output_type": "execute_result"
    }
   ],
   "source": [
    "df_new.mean()"
   ]
  },
  {
   "cell_type": "code",
   "execution_count": 18,
   "metadata": {},
   "outputs": [
    {
     "data": {
      "text/plain": [
       "<FIRST>            2.347000e+03\n",
       "<HIGH>             2.347000e+03\n",
       "<LOW>              2.346000e+03\n",
       "<CLOSE>            2.286000e+03\n",
       "<VALUE>            2.403000e+03\n",
       "<VOL>              1.000000e+00\n",
       "change_in_price   -3.640000e+04\n",
       "MA_10              2.319200e+03\n",
       "WMA_10             2.503167e+03\n",
       "MOM_10            -3.689900e+04\n",
       "SO_k                       -inf\n",
       "SO_10             -1.125755e+02\n",
       "MACD_12_26        -7.693116e+03\n",
       "MACDsign_12_26    -6.679710e+03\n",
       "MACDdiff_12_26    -4.606145e+03\n",
       "Acc/Dist_ROC_10            -inf\n",
       "CCI_10            -2.846030e+00\n",
       "dtype: float64"
      ]
     },
     "execution_count": 18,
     "metadata": {},
     "output_type": "execute_result"
    }
   ],
   "source": [
    "df_new.min()"
   ]
  },
  {
   "cell_type": "code",
   "execution_count": 19,
   "metadata": {},
   "outputs": [
    {
     "data": {
      "text/plain": [
       "<FIRST>            6.600000e+04\n",
       "<HIGH>             6.600000e+04\n",
       "<LOW>              6.270000e+04\n",
       "<CLOSE>            6.295800e+04\n",
       "<VALUE>            4.451761e+11\n",
       "<VOL>              1.636167e+07\n",
       "change_in_price    1.373000e+04\n",
       "MA_10              5.952750e+04\n",
       "WMA_10             5.865038e+04\n",
       "MOM_10             1.775000e+04\n",
       "SO_k                        inf\n",
       "SO_10              1.463329e+02\n",
       "MACD_12_26         5.392817e+03\n",
       "MACDsign_12_26     4.669556e+03\n",
       "MACDdiff_12_26     1.761324e+03\n",
       "Acc/Dist_ROC_10             inf\n",
       "CCI_10             2.845916e+00\n",
       "dtype: float64"
      ]
     },
     "execution_count": 19,
     "metadata": {},
     "output_type": "execute_result"
    }
   ],
   "source": [
    "df_new.max()"
   ]
  },
  {
   "cell_type": "code",
   "execution_count": 20,
   "metadata": {},
   "outputs": [
    {
     "data": {
      "text/plain": [
       "<FIRST>            1.236178e+04\n",
       "<HIGH>             1.253165e+04\n",
       "<LOW>              1.208258e+04\n",
       "<CLOSE>            1.231582e+04\n",
       "<VALUE>            2.062662e+10\n",
       "<VOL>              6.128712e+05\n",
       "change_in_price    1.083704e+03\n",
       "MA_10              1.214654e+04\n",
       "WMA_10             1.211800e+04\n",
       "MOM_10             3.291061e+03\n",
       "SO_k                        NaN\n",
       "SO_10              1.685425e+01\n",
       "MACD_12_26         1.045193e+03\n",
       "MACDsign_12_26     9.628746e+02\n",
       "MACDdiff_12_26     3.545375e+02\n",
       "Acc/Dist_ROC_10             NaN\n",
       "CCI_10             1.296163e+00\n",
       "dtype: float64"
      ]
     },
     "execution_count": 20,
     "metadata": {},
     "output_type": "execute_result"
    }
   ],
   "source": [
    "df_new.std()"
   ]
  },
  {
   "cell_type": "markdown",
   "metadata": {},
   "source": [
    "## Normalizing Data"
   ]
  },
  {
   "cell_type": "code",
   "execution_count": 21,
   "metadata": {},
   "outputs": [
    {
     "data": {
      "text/html": [
       "<div>\n",
       "<style scoped>\n",
       "    .dataframe tbody tr th:only-of-type {\n",
       "        vertical-align: middle;\n",
       "    }\n",
       "\n",
       "    .dataframe tbody tr th {\n",
       "        vertical-align: top;\n",
       "    }\n",
       "\n",
       "    .dataframe thead th {\n",
       "        text-align: right;\n",
       "    }\n",
       "</style>\n",
       "<table border=\"1\" class=\"dataframe\">\n",
       "  <thead>\n",
       "    <tr style=\"text-align: right;\">\n",
       "      <th></th>\n",
       "      <th>&lt;FIRST&gt;</th>\n",
       "      <th>&lt;HIGH&gt;</th>\n",
       "      <th>&lt;LOW&gt;</th>\n",
       "      <th>&lt;CLOSE&gt;</th>\n",
       "      <th>&lt;VALUE&gt;</th>\n",
       "      <th>&lt;VOL&gt;</th>\n",
       "      <th>change_in_price</th>\n",
       "      <th>MA_10</th>\n",
       "      <th>WMA_10</th>\n",
       "      <th>MOM_10</th>\n",
       "      <th>SO_k</th>\n",
       "      <th>SO_10</th>\n",
       "      <th>MACD_12_26</th>\n",
       "      <th>MACDsign_12_26</th>\n",
       "      <th>MACDdiff_12_26</th>\n",
       "      <th>Acc/Dist_ROC_10</th>\n",
       "      <th>CCI_10</th>\n",
       "    </tr>\n",
       "    <tr>\n",
       "      <th>datetime</th>\n",
       "      <th></th>\n",
       "      <th></th>\n",
       "      <th></th>\n",
       "      <th></th>\n",
       "      <th></th>\n",
       "      <th></th>\n",
       "      <th></th>\n",
       "      <th></th>\n",
       "      <th></th>\n",
       "      <th></th>\n",
       "      <th></th>\n",
       "      <th></th>\n",
       "      <th></th>\n",
       "      <th></th>\n",
       "      <th></th>\n",
       "      <th></th>\n",
       "      <th></th>\n",
       "    </tr>\n",
       "  </thead>\n",
       "  <tbody>\n",
       "    <tr>\n",
       "      <th>2020-05-26</th>\n",
       "      <td>0.641341</td>\n",
       "      <td>0.692289</td>\n",
       "      <td>0.679982</td>\n",
       "      <td>0.677976</td>\n",
       "      <td>0.129896</td>\n",
       "      <td>0.056606</td>\n",
       "      <td>-0.054107</td>\n",
       "      <td>0.657105</td>\n",
       "      <td>0.695096</td>\n",
       "      <td>0.005672</td>\n",
       "      <td>NaN</td>\n",
       "      <td>-0.002663</td>\n",
       "      <td>0.154238</td>\n",
       "      <td>0.153343</td>\n",
       "      <td>0.044006</td>\n",
       "      <td>NaN</td>\n",
       "      <td>0.179736</td>\n",
       "    </tr>\n",
       "    <tr>\n",
       "      <th>2020-05-27</th>\n",
       "      <td>0.600871</td>\n",
       "      <td>0.624531</td>\n",
       "      <td>0.637350</td>\n",
       "      <td>0.634711</td>\n",
       "      <td>0.342733</td>\n",
       "      <td>0.166011</td>\n",
       "      <td>-0.052591</td>\n",
       "      <td>0.657951</td>\n",
       "      <td>0.693658</td>\n",
       "      <td>0.006953</td>\n",
       "      <td>NaN</td>\n",
       "      <td>-0.002970</td>\n",
       "      <td>0.142023</td>\n",
       "      <td>0.155509</td>\n",
       "      <td>0.015042</td>\n",
       "      <td>NaN</td>\n",
       "      <td>0.034853</td>\n",
       "    </tr>\n",
       "    <tr>\n",
       "      <th>2020-05-30</th>\n",
       "      <td>0.611617</td>\n",
       "      <td>0.644719</td>\n",
       "      <td>0.648683</td>\n",
       "      <td>0.668384</td>\n",
       "      <td>0.192762</td>\n",
       "      <td>0.087515</td>\n",
       "      <td>0.040527</td>\n",
       "      <td>0.667072</td>\n",
       "      <td>0.699097</td>\n",
       "      <td>0.093578</td>\n",
       "      <td>NaN</td>\n",
       "      <td>-0.002736</td>\n",
       "      <td>0.143240</td>\n",
       "      <td>0.157522</td>\n",
       "      <td>0.013956</td>\n",
       "      <td>NaN</td>\n",
       "      <td>0.075473</td>\n",
       "    </tr>\n",
       "    <tr>\n",
       "      <th>2020-05-31</th>\n",
       "      <td>0.672400</td>\n",
       "      <td>0.669620</td>\n",
       "      <td>0.628303</td>\n",
       "      <td>0.660588</td>\n",
       "      <td>0.141652</td>\n",
       "      <td>0.063573</td>\n",
       "      <td>-0.009662</td>\n",
       "      <td>0.677462</td>\n",
       "      <td>0.702015</td>\n",
       "      <td>0.106863</td>\n",
       "      <td>NaN</td>\n",
       "      <td>-0.002749</td>\n",
       "      <td>0.139630</td>\n",
       "      <td>0.158300</td>\n",
       "      <td>0.005151</td>\n",
       "      <td>NaN</td>\n",
       "      <td>0.050309</td>\n",
       "    </tr>\n",
       "    <tr>\n",
       "      <th>2020-06-01</th>\n",
       "      <td>0.665801</td>\n",
       "      <td>0.670625</td>\n",
       "      <td>0.657216</td>\n",
       "      <td>0.698018</td>\n",
       "      <td>0.234060</td>\n",
       "      <td>0.103711</td>\n",
       "      <td>0.045075</td>\n",
       "      <td>0.695620</td>\n",
       "      <td>0.711757</td>\n",
       "      <td>0.188182</td>\n",
       "      <td>NaN</td>\n",
       "      <td>-0.002462</td>\n",
       "      <td>0.149007</td>\n",
       "      <td>0.161084</td>\n",
       "      <td>0.019457</td>\n",
       "      <td>NaN</td>\n",
       "      <td>0.094221</td>\n",
       "    </tr>\n",
       "  </tbody>\n",
       "</table>\n",
       "</div>"
      ],
      "text/plain": [
       "             <FIRST>    <HIGH>     <LOW>   <CLOSE>   <VALUE>     <VOL>  \\\n",
       "datetime                                                                 \n",
       "2020-05-26  0.641341  0.692289  0.679982  0.677976  0.129896  0.056606   \n",
       "2020-05-27  0.600871  0.624531  0.637350  0.634711  0.342733  0.166011   \n",
       "2020-05-30  0.611617  0.644719  0.648683  0.668384  0.192762  0.087515   \n",
       "2020-05-31  0.672400  0.669620  0.628303  0.660588  0.141652  0.063573   \n",
       "2020-06-01  0.665801  0.670625  0.657216  0.698018  0.234060  0.103711   \n",
       "\n",
       "            change_in_price     MA_10    WMA_10    MOM_10  SO_k     SO_10  \\\n",
       "datetime                                                                    \n",
       "2020-05-26        -0.054107  0.657105  0.695096  0.005672   NaN -0.002663   \n",
       "2020-05-27        -0.052591  0.657951  0.693658  0.006953   NaN -0.002970   \n",
       "2020-05-30         0.040527  0.667072  0.699097  0.093578   NaN -0.002736   \n",
       "2020-05-31        -0.009662  0.677462  0.702015  0.106863   NaN -0.002749   \n",
       "2020-06-01         0.045075  0.695620  0.711757  0.188182   NaN -0.002462   \n",
       "\n",
       "            MACD_12_26  MACDsign_12_26  MACDdiff_12_26  Acc/Dist_ROC_10  \\\n",
       "datetime                                                                  \n",
       "2020-05-26    0.154238        0.153343        0.044006              NaN   \n",
       "2020-05-27    0.142023        0.155509        0.015042              NaN   \n",
       "2020-05-30    0.143240        0.157522        0.013956              NaN   \n",
       "2020-05-31    0.139630        0.158300        0.005151              NaN   \n",
       "2020-06-01    0.149007        0.161084        0.019457              NaN   \n",
       "\n",
       "              CCI_10  \n",
       "datetime              \n",
       "2020-05-26  0.179736  \n",
       "2020-05-27  0.034853  \n",
       "2020-05-30  0.075473  \n",
       "2020-05-31  0.050309  \n",
       "2020-06-01  0.094221  "
      ]
     },
     "execution_count": 21,
     "metadata": {},
     "output_type": "execute_result"
    }
   ],
   "source": [
    "data = (df_new - df_new.mean()) / (df_new.max() - df_new.min())\n",
    "data.tail()"
   ]
  },
  {
   "cell_type": "code",
   "execution_count": 22,
   "metadata": {},
   "outputs": [
    {
     "data": {
      "image/png": "[encoded data removed]",
      "text/plain": [
       "<Figure size 1224x576 with 2 Axes>"
      ]
     },
     "metadata": {
      "needs_background": "light"
     },
     "output_type": "display_data"
    }
   ],
   "source": [
    "import seaborn as sns\n",
    "plt.figure(1 , figsize = (17 , 8))\n",
    "cor = sns.heatmap(data.corr(), annot = True)"
   ]
  },
  {
   "cell_type": "code",
   "execution_count": 23,
   "metadata": {},
   "outputs": [
    {
     "data": {
      "text/plain": [
       "<FIRST>               0\n",
       "<HIGH>                0\n",
       "<LOW>                 0\n",
       "<CLOSE>               0\n",
       "<VALUE>               0\n",
       "<VOL>                 0\n",
       "change_in_price       1\n",
       "MA_10                 9\n",
       "WMA_10                9\n",
       "MOM_10               10\n",
       "SO_k               2949\n",
       "SO_10                16\n",
       "MACD_12_26           25\n",
       "MACDsign_12_26       33\n",
       "MACDdiff_12_26       33\n",
       "Acc/Dist_ROC_10    2949\n",
       "CCI_10                9\n",
       "dtype: int64"
      ]
     },
     "execution_count": 23,
     "metadata": {},
     "output_type": "execute_result"
    }
   ],
   "source": [
    "#To check null values\n",
    "data.isnull().sum()"
   ]
  },
  {
   "cell_type": "code",
   "execution_count": 24,
   "metadata": {},
   "outputs": [],
   "source": [
    "#Removing the null values\n",
    "data = data.fillna(data.mean())"
   ]
  },
  {
   "cell_type": "code",
   "execution_count": 25,
   "metadata": {},
   "outputs": [],
   "source": [
    "data = data.dropna(how=\"all\",axis=1)"
   ]
  },
  {
   "cell_type": "code",
   "execution_count": 26,
   "metadata": {},
   "outputs": [
    {
     "data": {
      "text/html": [
       "<div>\n",
       "<style scoped>\n",
       "    .dataframe tbody tr th:only-of-type {\n",
       "        vertical-align: middle;\n",
       "    }\n",
       "\n",
       "    .dataframe tbody tr th {\n",
       "        vertical-align: top;\n",
       "    }\n",
       "\n",
       "    .dataframe thead th {\n",
       "        text-align: right;\n",
       "    }\n",
       "</style>\n",
       "<table border=\"1\" class=\"dataframe\">\n",
       "  <thead>\n",
       "    <tr style=\"text-align: right;\">\n",
       "      <th></th>\n",
       "      <th>MA_10</th>\n",
       "      <th>WMA_10</th>\n",
       "      <th>MOM_10</th>\n",
       "      <th>SO_10</th>\n",
       "      <th>MACD_12_26</th>\n",
       "      <th>MACDsign_12_26</th>\n",
       "      <th>MACDdiff_12_26</th>\n",
       "      <th>CCI_10</th>\n",
       "    </tr>\n",
       "    <tr>\n",
       "      <th>datetime</th>\n",
       "      <th></th>\n",
       "      <th></th>\n",
       "      <th></th>\n",
       "      <th></th>\n",
       "      <th></th>\n",
       "      <th></th>\n",
       "      <th></th>\n",
       "      <th></th>\n",
       "    </tr>\n",
       "  </thead>\n",
       "  <tbody>\n",
       "    <tr>\n",
       "      <th>2020-05-26</th>\n",
       "      <td>0.657105</td>\n",
       "      <td>0.695096</td>\n",
       "      <td>0.005672</td>\n",
       "      <td>-0.002663</td>\n",
       "      <td>0.154238</td>\n",
       "      <td>0.153343</td>\n",
       "      <td>0.044006</td>\n",
       "      <td>0.179736</td>\n",
       "    </tr>\n",
       "    <tr>\n",
       "      <th>2020-05-27</th>\n",
       "      <td>0.657951</td>\n",
       "      <td>0.693658</td>\n",
       "      <td>0.006953</td>\n",
       "      <td>-0.002970</td>\n",
       "      <td>0.142023</td>\n",
       "      <td>0.155509</td>\n",
       "      <td>0.015042</td>\n",
       "      <td>0.034853</td>\n",
       "    </tr>\n",
       "    <tr>\n",
       "      <th>2020-05-30</th>\n",
       "      <td>0.667072</td>\n",
       "      <td>0.699097</td>\n",
       "      <td>0.093578</td>\n",
       "      <td>-0.002736</td>\n",
       "      <td>0.143240</td>\n",
       "      <td>0.157522</td>\n",
       "      <td>0.013956</td>\n",
       "      <td>0.075473</td>\n",
       "    </tr>\n",
       "    <tr>\n",
       "      <th>2020-05-31</th>\n",
       "      <td>0.677462</td>\n",
       "      <td>0.702015</td>\n",
       "      <td>0.106863</td>\n",
       "      <td>-0.002749</td>\n",
       "      <td>0.139630</td>\n",
       "      <td>0.158300</td>\n",
       "      <td>0.005151</td>\n",
       "      <td>0.050309</td>\n",
       "    </tr>\n",
       "    <tr>\n",
       "      <th>2020-06-01</th>\n",
       "      <td>0.695620</td>\n",
       "      <td>0.711757</td>\n",
       "      <td>0.188182</td>\n",
       "      <td>-0.002462</td>\n",
       "      <td>0.149007</td>\n",
       "      <td>0.161084</td>\n",
       "      <td>0.019457</td>\n",
       "      <td>0.094221</td>\n",
       "    </tr>\n",
       "  </tbody>\n",
       "</table>\n",
       "</div>"
      ],
      "text/plain": [
       "               MA_10    WMA_10    MOM_10     SO_10  MACD_12_26  \\\n",
       "datetime                                                         \n",
       "2020-05-26  0.657105  0.695096  0.005672 -0.002663    0.154238   \n",
       "2020-05-27  0.657951  0.693658  0.006953 -0.002970    0.142023   \n",
       "2020-05-30  0.667072  0.699097  0.093578 -0.002736    0.143240   \n",
       "2020-05-31  0.677462  0.702015  0.106863 -0.002749    0.139630   \n",
       "2020-06-01  0.695620  0.711757  0.188182 -0.002462    0.149007   \n",
       "\n",
       "            MACDsign_12_26  MACDdiff_12_26    CCI_10  \n",
       "datetime                                              \n",
       "2020-05-26        0.153343        0.044006  0.179736  \n",
       "2020-05-27        0.155509        0.015042  0.034853  \n",
       "2020-05-30        0.157522        0.013956  0.075473  \n",
       "2020-05-31        0.158300        0.005151  0.050309  \n",
       "2020-06-01        0.161084        0.019457  0.094221  "
      ]
     },
     "execution_count": 26,
     "metadata": {},
     "output_type": "execute_result"
    }
   ],
   "source": [
    "##Defining the features and labels\n",
    "X = data.iloc[:,7:]\n",
    "X.tail()"
   ]
  },
  {
   "cell_type": "code",
   "execution_count": 27,
   "metadata": {},
   "outputs": [
    {
     "data": {
      "text/plain": [
       "datetime\n",
       "2020-05-26    0.677976\n",
       "2020-05-27    0.634711\n",
       "2020-05-30    0.668384\n",
       "2020-05-31    0.660588\n",
       "2020-06-01    0.698018\n",
       "Name: <CLOSE>, dtype: float64"
      ]
     },
     "execution_count": 27,
     "metadata": {},
     "output_type": "execute_result"
    }
   ],
   "source": [
    "Y = data.iloc[:,3]\n",
    "Y.tail()"
   ]
  },
  {
   "cell_type": "code",
   "execution_count": 28,
   "metadata": {},
   "outputs": [
    {
     "data": {
      "text/plain": [
       "MA_10             0\n",
       "WMA_10            0\n",
       "MOM_10            0\n",
       "SO_10             0\n",
       "MACD_12_26        0\n",
       "MACDsign_12_26    0\n",
       "MACDdiff_12_26    0\n",
       "CCI_10            0\n",
       "dtype: int64"
      ]
     },
     "execution_count": 28,
     "metadata": {},
     "output_type": "execute_result"
    }
   ],
   "source": [
    "X.isnull().sum()"
   ]
  },
  {
   "cell_type": "code",
   "execution_count": 29,
   "metadata": {},
   "outputs": [],
   "source": [
    "#Splitting data into training and test set\n",
    "from sklearn.model_selection import train_test_split\n",
    "x_train,x_test,y_train,y_test = train_test_split(X,Y,test_size = 0.1,random_state = 0)"
   ]
  },
  {
   "cell_type": "markdown",
   "metadata": {},
   "source": [
    "# Predicting using Decision Trees"
   ]
  },
  {
   "cell_type": "code",
   "execution_count": 30,
   "metadata": {},
   "outputs": [
    {
     "data": {
      "text/plain": [
       "DecisionTreeRegressor(max_depth=10)"
      ]
     },
     "execution_count": 30,
     "metadata": {},
     "output_type": "execute_result"
    }
   ],
   "source": [
    "#Decision Tree\n",
    "from sklearn.tree import DecisionTreeRegressor\n",
    "Regressor = DecisionTreeRegressor(max_depth=10)\n",
    "Regressor.fit(x_train,y_train)"
   ]
  },
  {
   "cell_type": "code",
   "execution_count": 31,
   "metadata": {},
   "outputs": [],
   "source": [
    "y_pred = Regressor.predict([[0.695620,0.711757,0.188182,-0.002462,0.149007,0.161084,0.019457,0.094221]])"
   ]
  },
  {
   "cell_type": "code",
   "execution_count": 32,
   "metadata": {},
   "outputs": [
    {
     "data": {
      "text/plain": [
       "array([0.63298006])"
      ]
     },
     "execution_count": 32,
     "metadata": {},
     "output_type": "execute_result"
    }
   ],
   "source": [
    "# Print the Accuracy of our Model.\n",
    "y_pred"
   ]
  },
  {
   "cell_type": "markdown",
   "metadata": {},
   "source": [
    "## Evaluating the Model"
   ]
  },
  {
   "cell_type": "code",
   "execution_count": 33,
   "metadata": {},
   "outputs": [
    {
     "data": {
      "text/plain": [
       "0.02570133772924969"
      ]
     },
     "execution_count": 33,
     "metadata": {},
     "output_type": "execute_result"
    }
   ],
   "source": [
    "y_pred = Regressor.predict(x_test)\n",
    "from sklearn.metrics import r2_score,mean_squared_error\n",
    "mse = mean_squared_error(y_test,y_pred)\n",
    "rmse = np.sqrt(mse)\n",
    "rmse"
   ]
  },
  {
   "cell_type": "markdown",
   "metadata": {},
   "source": [
    "# Using Bagging Regressor"
   ]
  },
  {
   "cell_type": "code",
   "execution_count": 34,
   "metadata": {},
   "outputs": [],
   "source": [
    "#import necessary libraries\n",
    "from sklearn.ensemble import BaggingRegressor"
   ]
  },
  {
   "cell_type": "code",
   "execution_count": 35,
   "metadata": {},
   "outputs": [
    {
     "data": {
      "text/plain": [
       "BaggingRegressor(base_estimator=DecisionTreeRegressor(max_depth=10),\n",
       "                 n_estimators=50, random_state=0)"
      ]
     },
     "execution_count": 35,
     "metadata": {},
     "output_type": "execute_result"
    }
   ],
   "source": [
    "regr = BaggingRegressor(base_estimator=Regressor,\n",
    "n_estimators=50, random_state=0)\n",
    "regr.fit(x_train,y_train)\n",
    "    "
   ]
  },
  {
   "cell_type": "code",
   "execution_count": 36,
   "metadata": {},
   "outputs": [
    {
     "data": {
      "text/plain": [
       "array([0.67407226])"
      ]
     },
     "execution_count": 36,
     "metadata": {},
     "output_type": "execute_result"
    }
   ],
   "source": [
    "y_pred_br = regr.predict([[0.695620,0.711757,0.188182,-0.002462,0.149007,0.161084,0.019457,0.094221]])\n",
    "y_pred_br"
   ]
  },
  {
   "cell_type": "markdown",
   "metadata": {},
   "source": [
    "## Evaluating Bagging Regressor"
   ]
  },
  {
   "cell_type": "code",
   "execution_count": 37,
   "metadata": {},
   "outputs": [],
   "source": [
    "y_pred_br = regr.predict(x_test)"
   ]
  },
  {
   "cell_type": "code",
   "execution_count": 38,
   "metadata": {},
   "outputs": [
    {
     "data": {
      "text/plain": [
       "0.025126534213514674"
      ]
     },
     "execution_count": 38,
     "metadata": {},
     "output_type": "execute_result"
    }
   ],
   "source": [
    "from sklearn.metrics import r2_score,mean_squared_error\n",
    "mse = mean_squared_error(y_test,y_pred_br)\n",
    "rmse = np.sqrt(mse)\n",
    "rmse"
   ]
  },
  {
   "cell_type": "markdown",
   "metadata": {},
   "source": [
    "# Using Random Forest"
   ]
  },
  {
   "cell_type": "code",
   "execution_count": 39,
   "metadata": {},
   "outputs": [
    {
     "data": {
      "text/plain": [
       "RandomForestRegressor(max_depth=10, n_estimators=50, random_state=1)"
      ]
     },
     "execution_count": 39,
     "metadata": {},
     "output_type": "execute_result"
    }
   ],
   "source": [
    "#importing the libraries\n",
    "from sklearn.ensemble import RandomForestRegressor\n",
    "rf = RandomForestRegressor(n_estimators=50,max_depth=10,random_state=1)\n",
    "rf.fit(x_train,y_train)"
   ]
  },
  {
   "cell_type": "code",
   "execution_count": 40,
   "metadata": {},
   "outputs": [
    {
     "data": {
      "text/plain": [
       "array([0.67485308])"
      ]
     },
     "execution_count": 40,
     "metadata": {},
     "output_type": "execute_result"
    }
   ],
   "source": [
    "y_pred_rf = rf.predict([[0.695620,0.711757,0.188182,-0.002462,0.149007,0.161084,0.019457,0.094221]])\n",
    "y_pred_rf"
   ]
  },
  {
   "cell_type": "markdown",
   "metadata": {},
   "source": [
    "## Evaluating Random Forest"
   ]
  },
  {
   "cell_type": "code",
   "execution_count": 41,
   "metadata": {},
   "outputs": [],
   "source": [
    "y_pred_rf = rf.predict(x_test)\n"
   ]
  },
  {
   "cell_type": "code",
   "execution_count": 42,
   "metadata": {},
   "outputs": [
    {
     "data": {
      "text/plain": [
       "0.02509558917708132"
      ]
     },
     "execution_count": 42,
     "metadata": {},
     "output_type": "execute_result"
    }
   ],
   "source": [
    "from sklearn.metrics import r2_score,mean_squared_error\n",
    "mse = mean_squared_error(y_test,y_pred_rf)\n",
    "rmse = np.sqrt(mse)\n",
    "rmse"
   ]
  },
  {
   "cell_type": "markdown",
   "metadata": {},
   "source": [
    " ## Using AdaBoost Regressor"
   ]
  },
  {
   "cell_type": "code",
   "execution_count": 43,
   "metadata": {},
   "outputs": [
    {
     "data": {
      "text/plain": [
       "AdaBoostRegressor(base_estimator=DecisionTreeRegressor(max_depth=10),\n",
       "                  learning_rate=0.1, n_estimators=100)"
      ]
     },
     "execution_count": 43,
     "metadata": {},
     "output_type": "execute_result"
    }
   ],
   "source": [
    "#importing necessary libraries\n",
    "from sklearn.ensemble import AdaBoostRegressor\n",
    "adb_reg = AdaBoostRegressor(base_estimator=Regressor,n_estimators=100,learning_rate=0.1)\n",
    "adb_reg.fit(x_train,y_train)\n",
    "\n"
   ]
  },
  {
   "cell_type": "code",
   "execution_count": 44,
   "metadata": {},
   "outputs": [
    {
     "data": {
      "text/plain": [
       "array([0.66838355])"
      ]
     },
     "execution_count": 44,
     "metadata": {},
     "output_type": "execute_result"
    }
   ],
   "source": [
    "y_pred_adb = adb_reg.predict([[0.695620,0.711757,0.188182,-0.002462,0.149007,0.161084,0.019457,0.094221]])\n",
    "y_pred_adb"
   ]
  },
  {
   "cell_type": "markdown",
   "metadata": {},
   "source": [
    "## Evaluating AdaBoost Regressor"
   ]
  },
  {
   "cell_type": "code",
   "execution_count": 45,
   "metadata": {},
   "outputs": [
    {
     "data": {
      "text/plain": [
       "0.023515375500037444"
      ]
     },
     "execution_count": 45,
     "metadata": {},
     "output_type": "execute_result"
    }
   ],
   "source": [
    "y_pred_adb = adb_reg.predict(x_test)\n",
    "from sklearn.metrics import r2_score,mean_squared_error\n",
    "mse = mean_squared_error(y_test,y_pred_adb)\n",
    "rmse = np.sqrt(mse)\n",
    "rmse"
   ]
  },
  {
   "cell_type": "markdown",
   "metadata": {},
   "source": [
    "## Using Gradient Boosting"
   ]
  },
  {
   "cell_type": "code",
   "execution_count": 46,
   "metadata": {},
   "outputs": [
    {
     "data": {
      "text/plain": [
       "GradientBoostingRegressor(max_depth=10, n_estimators=50, random_state=1)"
      ]
     },
     "execution_count": 46,
     "metadata": {},
     "output_type": "execute_result"
    }
   ],
   "source": [
    "#importing necessary libraries\n",
    "from sklearn.ensemble import GradientBoostingRegressor\n",
    "gdbt = GradientBoostingRegressor(max_depth=10,learning_rate=0.1,n_estimators=50,random_state=1)\n",
    "gdbt.fit(x_train,y_train)"
   ]
  },
  {
   "cell_type": "code",
   "execution_count": 47,
   "metadata": {},
   "outputs": [
    {
     "data": {
      "text/plain": [
       "array([0.65726125])"
      ]
     },
     "execution_count": 47,
     "metadata": {},
     "output_type": "execute_result"
    }
   ],
   "source": [
    "y_pred_gdbt = gdbt.predict([[0.695620,0.711757,0.188182,-0.002462,0.149007,0.161084,0.019457,0.094221]])\n",
    "y_pred_gdbt"
   ]
  },
  {
   "cell_type": "markdown",
   "metadata": {},
   "source": [
    "## Evaluating gradient boosting"
   ]
  },
  {
   "cell_type": "code",
   "execution_count": 48,
   "metadata": {},
   "outputs": [
    {
     "data": {
      "text/plain": [
       "0.023810781932720793"
      ]
     },
     "execution_count": 48,
     "metadata": {},
     "output_type": "execute_result"
    }
   ],
   "source": [
    "y_pred_gdbt = gdbt.predict(x_test)\n",
    "from sklearn.metrics import r2_score,mean_squared_error\n",
    "mse = mean_squared_error(y_test,y_pred_gdbt)\n",
    "rmse = np.sqrt(mse)\n",
    "rmse"
   ]
  },
  {
   "cell_type": "markdown",
   "metadata": {},
   "source": [
    "## Using XGBoost"
   ]
  },
  {
   "cell_type": "code",
   "execution_count": 51,
   "metadata": {},
   "outputs": [],
   "source": [
    "import xgboost as xgb\n",
    "from xgboost import XGBRegressor\n",
    "from sklearn.metrics import mean_squared_error"
   ]
  },
  {
   "cell_type": "code",
   "execution_count": null,
   "metadata": {},
   "outputs": [],
   "source": []
  },
  {
   "cell_type": "markdown",
   "metadata": {},
   "source": []
  },
  {
   "cell_type": "code",
   "execution_count": null,
   "metadata": {},
   "outputs": [],
   "source": []
  },
  {
   "cell_type": "code",
   "execution_count": null,
   "metadata": {},
   "outputs": [],
   "source": []
  }
 ],
 "metadata": {
  "kernelspec": {
   "display_name": "Python 3",
   "language": "python",
   "name": "python3"
  },
  "language_info": {
   "codemirror_mode": {
    "name": "ipython",
    "version": 3
   },
   "file_extension": ".py",
   "mimetype": "text/x-python",
   "name": "python",
   "nbconvert_exporter": "python",
   "pygments_lexer": "ipython3",
   "version": "3.8.3"
  }
 },
 "nbformat": 4,
 "nbformat_minor": 4
}
