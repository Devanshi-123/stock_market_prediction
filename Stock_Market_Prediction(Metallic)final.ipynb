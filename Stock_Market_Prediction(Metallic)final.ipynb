{
  "nbformat": 4,
  "nbformat_minor": 0,
  "metadata": {
    "kernelspec": {
      "display_name": "Python 3",
      "language": "python",
      "name": "python3"
    },
    "language_info": {
      "codemirror_mode": {
        "name": "ipython",
        "version": 3
      },
      "file_extension": ".py",
      "mimetype": "text/x-python",
      "name": "python",
      "nbconvert_exporter": "python",
      "pygments_lexer": "ipython3",
      "version": "3.8.3"
    },
    "colab": {
      "name": "Stock_Market_Prediction(Metallic)final.ipynb",
      "provenance": [],
      "collapsed_sections": [
        "vfZGT9zFbes9"
      ],
      "toc_visible": true,
      "include_colab_link": true
    }
  },
  "cells": [
    {
      "cell_type": "markdown",
      "metadata": {
        "id": "view-in-github",
        "colab_type": "text"
      },
      "source": [
        "<a href=\"https://colab.research.google.com/github/Devanshi-123/stock_market_prediction/blob/main/Stock_Market_Prediction(Metallic)final.ipynb\" target=\"_parent\"><img src=\"https://colab.research.google.com/assets/colab-badge.svg\" alt=\"Open In Colab\"/></a>"
      ]
    },
    {
      "cell_type": "markdown",
      "metadata": {
        "id": "tieXgez1berr"
      },
      "source": [
        "#  **Stock Market Prediction Using Different Machine Learning And Deep Learning Algorithms**\n"
      ]
    },
    {
      "cell_type": "markdown",
      "metadata": {
        "id": "2501HdlZfGAG"
      },
      "source": [
        "## **Importing the necessary libraries**"
      ]
    },
    {
      "cell_type": "code",
      "metadata": {
        "id": "bExe6rckbers"
      },
      "source": [
        "import pandas as pd\n",
        "import numpy as np\n",
        "import matplotlib.pyplot as plt\n",
        "%matplotlib inline"
      ],
      "execution_count": 307,
      "outputs": []
    },
    {
      "cell_type": "code",
      "metadata": {
        "id": "YoioHTGgcPVu",
        "colab": {
          "base_uri": "https://localhost:8080/"
        },
        "outputId": "4511bd72-720f-4f52-ac6a-160cbee89795"
      },
      "source": [
        "cd /content/drive/My Drive/Stock Market Prediction(Mini Project)"
      ],
      "execution_count": 308,
      "outputs": [
        {
          "output_type": "stream",
          "text": [
            "/content/drive/My Drive/Stock Market Prediction(Mini Project)\n"
          ],
          "name": "stdout"
        }
      ]
    },
    {
      "cell_type": "markdown",
      "metadata": {
        "id": "c1-boyHyfakV"
      },
      "source": [
        "## **Importing the dataset**"
      ]
    },
    {
      "cell_type": "code",
      "metadata": {
        "id": "1fMnpg-sbery",
        "colab": {
          "base_uri": "https://localhost:8080/"
        },
        "outputId": "37fd5235-954d-423a-f501-ef631b067e56"
      },
      "source": [
        "##Metallic Dataset\n",
        "df=pd.read_csv(\"Stock_ALIR1.csv\")\n",
        "df.info()"
      ],
      "execution_count": 309,
      "outputs": [
        {
          "output_type": "stream",
          "text": [
            "<class 'pandas.core.frame.DataFrame'>\n",
            "RangeIndex: 1535 entries, 0 to 1534\n",
            "Data columns (total 13 columns):\n",
            " #   Column        Non-Null Count  Dtype  \n",
            "---  ------        --------------  -----  \n",
            " 0   Unnamed: 0    1535 non-null   int64  \n",
            " 1   <TICKER>      1535 non-null   object \n",
            " 2   <DTYYYYMMDD>  1535 non-null   int64  \n",
            " 3   <FIRST>       1535 non-null   float64\n",
            " 4   <HIGH>        1535 non-null   float64\n",
            " 5   <LOW>         1535 non-null   float64\n",
            " 6   <CLOSE>       1535 non-null   float64\n",
            " 7   <VALUE>       1535 non-null   int64  \n",
            " 8   <VOL>         1535 non-null   int64  \n",
            " 9   <OPENINT>     1535 non-null   int64  \n",
            " 10  <PER>         1535 non-null   object \n",
            " 11  <OPEN>        1535 non-null   float64\n",
            " 12  <LAST>        1535 non-null   float64\n",
            "dtypes: float64(6), int64(5), object(2)\n",
            "memory usage: 156.0+ KB\n"
          ],
          "name": "stdout"
        }
      ]
    },
    {
      "cell_type": "code",
      "metadata": {
        "id": "F00sCC1zqlJZ",
        "colab": {
          "base_uri": "https://localhost:8080/",
          "height": 194
        },
        "outputId": "1068ca13-0806-4f48-a0ff-1c360a5d122f"
      },
      "source": [
        "df.head()"
      ],
      "execution_count": 310,
      "outputs": [
        {
          "output_type": "execute_result",
          "data": {
            "text/html": [
              "<div>\n",
              "<style scoped>\n",
              "    .dataframe tbody tr th:only-of-type {\n",
              "        vertical-align: middle;\n",
              "    }\n",
              "\n",
              "    .dataframe tbody tr th {\n",
              "        vertical-align: top;\n",
              "    }\n",
              "\n",
              "    .dataframe thead th {\n",
              "        text-align: right;\n",
              "    }\n",
              "</style>\n",
              "<table border=\"1\" class=\"dataframe\">\n",
              "  <thead>\n",
              "    <tr style=\"text-align: right;\">\n",
              "      <th></th>\n",
              "      <th>Unnamed: 0</th>\n",
              "      <th>&lt;TICKER&gt;</th>\n",
              "      <th>&lt;DTYYYYMMDD&gt;</th>\n",
              "      <th>&lt;FIRST&gt;</th>\n",
              "      <th>&lt;HIGH&gt;</th>\n",
              "      <th>&lt;LOW&gt;</th>\n",
              "      <th>&lt;CLOSE&gt;</th>\n",
              "      <th>&lt;VALUE&gt;</th>\n",
              "      <th>&lt;VOL&gt;</th>\n",
              "      <th>&lt;OPENINT&gt;</th>\n",
              "      <th>&lt;PER&gt;</th>\n",
              "      <th>&lt;OPEN&gt;</th>\n",
              "      <th>&lt;LAST&gt;</th>\n",
              "    </tr>\n",
              "  </thead>\n",
              "  <tbody>\n",
              "    <tr>\n",
              "      <th>0</th>\n",
              "      <td>0</td>\n",
              "      <td>S*Iran.Aluminium</td>\n",
              "      <td>20021221</td>\n",
              "      <td>1700.0</td>\n",
              "      <td>1700.0</td>\n",
              "      <td>1700.0</td>\n",
              "      <td>1700.0</td>\n",
              "      <td>1700000</td>\n",
              "      <td>1000</td>\n",
              "      <td>1</td>\n",
              "      <td>D</td>\n",
              "      <td>1700.0</td>\n",
              "      <td>1700.0</td>\n",
              "    </tr>\n",
              "    <tr>\n",
              "      <th>1</th>\n",
              "      <td>1</td>\n",
              "      <td>S*Iran.Aluminium</td>\n",
              "      <td>20030318</td>\n",
              "      <td>5600.0</td>\n",
              "      <td>5600.0</td>\n",
              "      <td>5600.0</td>\n",
              "      <td>5600.0</td>\n",
              "      <td>919497420800</td>\n",
              "      <td>164195968</td>\n",
              "      <td>1</td>\n",
              "      <td>D</td>\n",
              "      <td>1700.0</td>\n",
              "      <td>5600.0</td>\n",
              "    </tr>\n",
              "    <tr>\n",
              "      <th>2</th>\n",
              "      <td>2</td>\n",
              "      <td>S*Iran.Aluminium</td>\n",
              "      <td>20030331</td>\n",
              "      <td>5320.0</td>\n",
              "      <td>5320.0</td>\n",
              "      <td>5320.0</td>\n",
              "      <td>5320.0</td>\n",
              "      <td>5320000</td>\n",
              "      <td>1000</td>\n",
              "      <td>1</td>\n",
              "      <td>D</td>\n",
              "      <td>5600.0</td>\n",
              "      <td>5320.0</td>\n",
              "    </tr>\n",
              "    <tr>\n",
              "      <th>3</th>\n",
              "      <td>3</td>\n",
              "      <td>S*Iran.Aluminium</td>\n",
              "      <td>20030421</td>\n",
              "      <td>5054.0</td>\n",
              "      <td>5054.0</td>\n",
              "      <td>5054.0</td>\n",
              "      <td>5054.0</td>\n",
              "      <td>4472790</td>\n",
              "      <td>885</td>\n",
              "      <td>5</td>\n",
              "      <td>D</td>\n",
              "      <td>5320.0</td>\n",
              "      <td>5054.0</td>\n",
              "    </tr>\n",
              "    <tr>\n",
              "      <th>4</th>\n",
              "      <td>4</td>\n",
              "      <td>S*Iran.Aluminium</td>\n",
              "      <td>20040106</td>\n",
              "      <td>1101.0</td>\n",
              "      <td>1101.0</td>\n",
              "      <td>1101.0</td>\n",
              "      <td>1101.0</td>\n",
              "      <td>974385</td>\n",
              "      <td>885</td>\n",
              "      <td>5</td>\n",
              "      <td>D</td>\n",
              "      <td>5054.0</td>\n",
              "      <td>1101.0</td>\n",
              "    </tr>\n",
              "  </tbody>\n",
              "</table>\n",
              "</div>"
            ],
            "text/plain": [
              "   Unnamed: 0          <TICKER>  <DTYYYYMMDD>  ...  <PER>  <OPEN>  <LAST>\n",
              "0           0  S*Iran.Aluminium      20021221  ...      D  1700.0  1700.0\n",
              "1           1  S*Iran.Aluminium      20030318  ...      D  1700.0  5600.0\n",
              "2           2  S*Iran.Aluminium      20030331  ...      D  5600.0  5320.0\n",
              "3           3  S*Iran.Aluminium      20030421  ...      D  5320.0  5054.0\n",
              "4           4  S*Iran.Aluminium      20040106  ...      D  5054.0  1101.0\n",
              "\n",
              "[5 rows x 13 columns]"
            ]
          },
          "metadata": {
            "tags": []
          },
          "execution_count": 310
        }
      ]
    },
    {
      "cell_type": "markdown",
      "metadata": {
        "id": "9gsprJSuhGF4"
      },
      "source": [
        "## **Exploratory Data Analysis**"
      ]
    },
    {
      "cell_type": "code",
      "metadata": {
        "id": "3KYyTRW7gcjz",
        "colab": {
          "base_uri": "https://localhost:8080/",
          "height": 282
        },
        "outputId": "e9cd4ad3-ead1-4928-fea9-c1bb1a8a5334"
      },
      "source": [
        "df.describe()"
      ],
      "execution_count": 311,
      "outputs": [
        {
          "output_type": "execute_result",
          "data": {
            "text/html": [
              "<div>\n",
              "<style scoped>\n",
              "    .dataframe tbody tr th:only-of-type {\n",
              "        vertical-align: middle;\n",
              "    }\n",
              "\n",
              "    .dataframe tbody tr th {\n",
              "        vertical-align: top;\n",
              "    }\n",
              "\n",
              "    .dataframe thead th {\n",
              "        text-align: right;\n",
              "    }\n",
              "</style>\n",
              "<table border=\"1\" class=\"dataframe\">\n",
              "  <thead>\n",
              "    <tr style=\"text-align: right;\">\n",
              "      <th></th>\n",
              "      <th>Unnamed: 0</th>\n",
              "      <th>&lt;DTYYYYMMDD&gt;</th>\n",
              "      <th>&lt;FIRST&gt;</th>\n",
              "      <th>&lt;HIGH&gt;</th>\n",
              "      <th>&lt;LOW&gt;</th>\n",
              "      <th>&lt;CLOSE&gt;</th>\n",
              "      <th>&lt;VALUE&gt;</th>\n",
              "      <th>&lt;VOL&gt;</th>\n",
              "      <th>&lt;OPENINT&gt;</th>\n",
              "      <th>&lt;OPEN&gt;</th>\n",
              "      <th>&lt;LAST&gt;</th>\n",
              "    </tr>\n",
              "  </thead>\n",
              "  <tbody>\n",
              "    <tr>\n",
              "      <th>count</th>\n",
              "      <td>1535.000000</td>\n",
              "      <td>1.535000e+03</td>\n",
              "      <td>1535.000000</td>\n",
              "      <td>1535.000000</td>\n",
              "      <td>1535.000000</td>\n",
              "      <td>1535.000000</td>\n",
              "      <td>1.535000e+03</td>\n",
              "      <td>1.535000e+03</td>\n",
              "      <td>1535.000000</td>\n",
              "      <td>1535.000000</td>\n",
              "      <td>1535.000000</td>\n",
              "    </tr>\n",
              "    <tr>\n",
              "      <th>mean</th>\n",
              "      <td>767.000000</td>\n",
              "      <td>2.014569e+07</td>\n",
              "      <td>7486.581759</td>\n",
              "      <td>7582.163518</td>\n",
              "      <td>7360.582410</td>\n",
              "      <td>7482.254072</td>\n",
              "      <td>1.932278e+10</td>\n",
              "      <td>4.098205e+06</td>\n",
              "      <td>502.579153</td>\n",
              "      <td>7455.385668</td>\n",
              "      <td>7469.728339</td>\n",
              "    </tr>\n",
              "    <tr>\n",
              "      <th>std</th>\n",
              "      <td>443.260646</td>\n",
              "      <td>4.159811e+04</td>\n",
              "      <td>4607.126002</td>\n",
              "      <td>4651.190635</td>\n",
              "      <td>4556.411491</td>\n",
              "      <td>4614.527475</td>\n",
              "      <td>4.988563e+10</td>\n",
              "      <td>1.054633e+07</td>\n",
              "      <td>740.133437</td>\n",
              "      <td>4586.153272</td>\n",
              "      <td>4608.472271</td>\n",
              "    </tr>\n",
              "    <tr>\n",
              "      <th>min</th>\n",
              "      <td>0.000000</td>\n",
              "      <td>2.002122e+07</td>\n",
              "      <td>818.000000</td>\n",
              "      <td>842.000000</td>\n",
              "      <td>818.000000</td>\n",
              "      <td>855.000000</td>\n",
              "      <td>9.227000e+03</td>\n",
              "      <td>1.000000e+00</td>\n",
              "      <td>1.000000</td>\n",
              "      <td>330.000000</td>\n",
              "      <td>842.000000</td>\n",
              "    </tr>\n",
              "    <tr>\n",
              "      <th>25%</th>\n",
              "      <td>383.500000</td>\n",
              "      <td>2.012071e+07</td>\n",
              "      <td>4080.000000</td>\n",
              "      <td>4149.000000</td>\n",
              "      <td>3993.000000</td>\n",
              "      <td>4061.000000</td>\n",
              "      <td>9.286925e+08</td>\n",
              "      <td>1.187995e+05</td>\n",
              "      <td>41.000000</td>\n",
              "      <td>4056.000000</td>\n",
              "      <td>4072.500000</td>\n",
              "    </tr>\n",
              "    <tr>\n",
              "      <th>50%</th>\n",
              "      <td>767.000000</td>\n",
              "      <td>2.015041e+07</td>\n",
              "      <td>6751.000000</td>\n",
              "      <td>6821.000000</td>\n",
              "      <td>6631.000000</td>\n",
              "      <td>6711.000000</td>\n",
              "      <td>4.514713e+09</td>\n",
              "      <td>8.766660e+05</td>\n",
              "      <td>202.000000</td>\n",
              "      <td>6709.000000</td>\n",
              "      <td>6710.000000</td>\n",
              "    </tr>\n",
              "    <tr>\n",
              "      <th>75%</th>\n",
              "      <td>1150.500000</td>\n",
              "      <td>2.018101e+07</td>\n",
              "      <td>11000.000000</td>\n",
              "      <td>11261.000000</td>\n",
              "      <td>10788.500000</td>\n",
              "      <td>11096.000000</td>\n",
              "      <td>1.756796e+10</td>\n",
              "      <td>4.207862e+06</td>\n",
              "      <td>674.500000</td>\n",
              "      <td>11071.500000</td>\n",
              "      <td>11097.500000</td>\n",
              "    </tr>\n",
              "    <tr>\n",
              "      <th>max</th>\n",
              "      <td>1534.000000</td>\n",
              "      <td>2.020060e+07</td>\n",
              "      <td>25800.000000</td>\n",
              "      <td>25800.000000</td>\n",
              "      <td>25291.000000</td>\n",
              "      <td>25291.000000</td>\n",
              "      <td>9.482221e+11</td>\n",
              "      <td>1.641960e+08</td>\n",
              "      <td>5703.000000</td>\n",
              "      <td>25291.000000</td>\n",
              "      <td>25291.000000</td>\n",
              "    </tr>\n",
              "  </tbody>\n",
              "</table>\n",
              "</div>"
            ],
            "text/plain": [
              "        Unnamed: 0  <DTYYYYMMDD>  ...        <OPEN>        <LAST>\n",
              "count  1535.000000  1.535000e+03  ...   1535.000000   1535.000000\n",
              "mean    767.000000  2.014569e+07  ...   7455.385668   7469.728339\n",
              "std     443.260646  4.159811e+04  ...   4586.153272   4608.472271\n",
              "min       0.000000  2.002122e+07  ...    330.000000    842.000000\n",
              "25%     383.500000  2.012071e+07  ...   4056.000000   4072.500000\n",
              "50%     767.000000  2.015041e+07  ...   6709.000000   6710.000000\n",
              "75%    1150.500000  2.018101e+07  ...  11071.500000  11097.500000\n",
              "max    1534.000000  2.020060e+07  ...  25291.000000  25291.000000\n",
              "\n",
              "[8 rows x 11 columns]"
            ]
          },
          "metadata": {
            "tags": []
          },
          "execution_count": 311
        }
      ]
    },
    {
      "cell_type": "code",
      "metadata": {
        "id": "mkJ2qxhUTjGJ",
        "colab": {
          "base_uri": "https://localhost:8080/",
          "height": 564
        },
        "outputId": "d64b7cf2-5ce7-4983-eb97-a2a00c512c5d"
      },
      "source": [
        "import seaborn as sns\n",
        "plt.figure(1 , figsize = (17 , 8))\n",
        "cor = sns.heatmap(df.corr(), annot = True)"
      ],
      "execution_count": 312,
      "outputs": [
        {
          "output_type": "display_data",
          "data": {
            "image/png": "[encoded data removed]",
            "text/plain": [
              "<Figure size 1224x576 with 2 Axes>"
            ]
          },
          "metadata": {
            "tags": [],
            "needs_background": "light"
          }
        }
      ]
    },
    {
      "cell_type": "code",
      "metadata": {
        "id": "VWy495nCOFQ_",
        "colab": {
          "base_uri": "https://localhost:8080/",
          "height": 223
        },
        "outputId": "83882fdc-93f3-4317-e3b9-87f6c70db5bb"
      },
      "source": [
        "df['datetime'] = pd.to_datetime(df['<DTYYYYMMDD>'], format='%Y%m%d')\n",
        "df.index = df['datetime']\n",
        "df.dropna()\n",
        "df_new = df[[\"<FIRST>\",\"<HIGH>\",\"<LOW>\",\"<CLOSE>\",\"<VALUE>\",\"<VOL>\"]]\n",
        "df_new.head()"
      ],
      "execution_count": 313,
      "outputs": [
        {
          "output_type": "execute_result",
          "data": {
            "text/html": [
              "<div>\n",
              "<style scoped>\n",
              "    .dataframe tbody tr th:only-of-type {\n",
              "        vertical-align: middle;\n",
              "    }\n",
              "\n",
              "    .dataframe tbody tr th {\n",
              "        vertical-align: top;\n",
              "    }\n",
              "\n",
              "    .dataframe thead th {\n",
              "        text-align: right;\n",
              "    }\n",
              "</style>\n",
              "<table border=\"1\" class=\"dataframe\">\n",
              "  <thead>\n",
              "    <tr style=\"text-align: right;\">\n",
              "      <th></th>\n",
              "      <th>&lt;FIRST&gt;</th>\n",
              "      <th>&lt;HIGH&gt;</th>\n",
              "      <th>&lt;LOW&gt;</th>\n",
              "      <th>&lt;CLOSE&gt;</th>\n",
              "      <th>&lt;VALUE&gt;</th>\n",
              "      <th>&lt;VOL&gt;</th>\n",
              "    </tr>\n",
              "    <tr>\n",
              "      <th>datetime</th>\n",
              "      <th></th>\n",
              "      <th></th>\n",
              "      <th></th>\n",
              "      <th></th>\n",
              "      <th></th>\n",
              "      <th></th>\n",
              "    </tr>\n",
              "  </thead>\n",
              "  <tbody>\n",
              "    <tr>\n",
              "      <th>2002-12-21</th>\n",
              "      <td>1700.0</td>\n",
              "      <td>1700.0</td>\n",
              "      <td>1700.0</td>\n",
              "      <td>1700.0</td>\n",
              "      <td>1700000</td>\n",
              "      <td>1000</td>\n",
              "    </tr>\n",
              "    <tr>\n",
              "      <th>2003-03-18</th>\n",
              "      <td>5600.0</td>\n",
              "      <td>5600.0</td>\n",
              "      <td>5600.0</td>\n",
              "      <td>5600.0</td>\n",
              "      <td>919497420800</td>\n",
              "      <td>164195968</td>\n",
              "    </tr>\n",
              "    <tr>\n",
              "      <th>2003-03-31</th>\n",
              "      <td>5320.0</td>\n",
              "      <td>5320.0</td>\n",
              "      <td>5320.0</td>\n",
              "      <td>5320.0</td>\n",
              "      <td>5320000</td>\n",
              "      <td>1000</td>\n",
              "    </tr>\n",
              "    <tr>\n",
              "      <th>2003-04-21</th>\n",
              "      <td>5054.0</td>\n",
              "      <td>5054.0</td>\n",
              "      <td>5054.0</td>\n",
              "      <td>5054.0</td>\n",
              "      <td>4472790</td>\n",
              "      <td>885</td>\n",
              "    </tr>\n",
              "    <tr>\n",
              "      <th>2004-01-06</th>\n",
              "      <td>1101.0</td>\n",
              "      <td>1101.0</td>\n",
              "      <td>1101.0</td>\n",
              "      <td>1101.0</td>\n",
              "      <td>974385</td>\n",
              "      <td>885</td>\n",
              "    </tr>\n",
              "  </tbody>\n",
              "</table>\n",
              "</div>"
            ],
            "text/plain": [
              "            <FIRST>  <HIGH>   <LOW>  <CLOSE>       <VALUE>      <VOL>\n",
              "datetime                                                             \n",
              "2002-12-21   1700.0  1700.0  1700.0   1700.0       1700000       1000\n",
              "2003-03-18   5600.0  5600.0  5600.0   5600.0  919497420800  164195968\n",
              "2003-03-31   5320.0  5320.0  5320.0   5320.0       5320000       1000\n",
              "2003-04-21   5054.0  5054.0  5054.0   5054.0       4472790        885\n",
              "2004-01-06   1101.0  1101.0  1101.0   1101.0        974385        885"
            ]
          },
          "metadata": {
            "tags": []
          },
          "execution_count": 313
        }
      ]
    },
    {
      "cell_type": "code",
      "metadata": {
        "id": "hLz42nBYber_",
        "colab": {
          "base_uri": "https://localhost:8080/"
        },
        "outputId": "00acb679-20be-4085-85f9-c8bfd3ce0c11"
      },
      "source": [
        "df_new.shape"
      ],
      "execution_count": 314,
      "outputs": [
        {
          "output_type": "execute_result",
          "data": {
            "text/plain": [
              "(1535, 6)"
            ]
          },
          "metadata": {
            "tags": []
          },
          "execution_count": 314
        }
      ]
    },
    {
      "cell_type": "code",
      "metadata": {
        "id": "kvkvBjzCbesH",
        "colab": {
          "base_uri": "https://localhost:8080/"
        },
        "outputId": "85cd7f07-34b4-49a9-90b0-c0946b774e5e"
      },
      "source": [
        "#Calculating the change in price\n",
        "df_new['change_in_price'] = df_new['<CLOSE>'].diff()"
      ],
      "execution_count": 315,
      "outputs": [
        {
          "output_type": "stream",
          "text": [
            "/usr/local/lib/python3.6/dist-packages/ipykernel_launcher.py:2: SettingWithCopyWarning: \n",
            "A value is trying to be set on a copy of a slice from a DataFrame.\n",
            "Try using .loc[row_indexer,col_indexer] = value instead\n",
            "\n",
            "See the caveats in the documentation: https://pandas.pydata.org/pandas-docs/stable/user_guide/indexing.html#returning-a-view-versus-a-copy\n",
            "  \n"
          ],
          "name": "stderr"
        }
      ]
    },
    {
      "cell_type": "markdown",
      "metadata": {
        "id": "6Q4sHYAVhXdc"
      },
      "source": [
        "## **Data Visualisation**"
      ]
    },
    {
      "cell_type": "code",
      "metadata": {
        "id": "xvmCMSnkZO6R",
        "colab": {
          "base_uri": "https://localhost:8080/",
          "height": 500
        },
        "outputId": "ee04b1f0-e040-4e9e-a8a0-b649dbbea3aa"
      },
      "source": [
        "plt.figure(figsize=(16,8))\n",
        "plt.plot(df_new['change_in_price'], label='Change In Price')"
      ],
      "execution_count": 316,
      "outputs": [
        {
          "output_type": "execute_result",
          "data": {
            "text/plain": [
              "[<matplotlib.lines.Line2D at 0x7fe41e71e5c0>]"
            ]
          },
          "metadata": {
            "tags": []
          },
          "execution_count": 316
        },
        {
          "output_type": "display_data",
          "data": {
            "image/png": "[encoded data removed]",
            "text/plain": [
              "<Figure size 1152x576 with 1 Axes>"
            ]
          },
          "metadata": {
            "tags": [],
            "needs_background": "light"
          }
        }
      ]
    },
    {
      "cell_type": "code",
      "metadata": {
        "id": "AiDa4AToWnzp",
        "colab": {
          "base_uri": "https://localhost:8080/",
          "height": 500
        },
        "outputId": "180911ca-d8a8-4a1a-ac56-85ff939d9c74"
      },
      "source": [
        "plt.figure(figsize=(16,8))\n",
        "plt.plot(df_new['<CLOSE>'], label='Close Price history')"
      ],
      "execution_count": 317,
      "outputs": [
        {
          "output_type": "execute_result",
          "data": {
            "text/plain": [
              "[<matplotlib.lines.Line2D at 0x7fe41e694eb8>]"
            ]
          },
          "metadata": {
            "tags": []
          },
          "execution_count": 317
        },
        {
          "output_type": "display_data",
          "data": {
            "image/png": "[encoded data removed]",
            "text/plain": [
              "<Figure size 1152x576 with 1 Axes>"
            ]
          },
          "metadata": {
            "tags": [],
            "needs_background": "light"
          }
        }
      ]
    },
    {
      "cell_type": "markdown",
      "metadata": {
        "id": "1vZkESASbesL"
      },
      "source": [
        "## **Calculating the technical indicators**"
      ]
    },
    {
      "cell_type": "code",
      "metadata": {
        "id": "iqjLW__ObesM",
        "colab": {
          "base_uri": "https://localhost:8080/",
          "height": 223
        },
        "outputId": "3fee8a1b-2acf-4234-a5fb-c6d17569af20"
      },
      "source": [
        "#1. Simple n day moving average\n",
        "#A moving average (MA) is a widely used technical indicator that smooths out price trends by filtering out the “noise” from random short-term price fluctuations.\n",
        "##The most common applications of moving averages are to identify trend direction and to determine support and resistance levels.\n",
        "def moving_average(df, n):\n",
        "    \"\"\"Calculate the moving average for the given data.\n",
        "    :param df: pandas.DataFrame\n",
        "    :param n:\n",
        "    :return: pandas.DataFrame\n",
        "    \"\"\"\n",
        "    MA = pd.Series(df['<CLOSE>'].rolling(n, min_periods=n).mean(), name='MA_' + str(n))\n",
        "    df = df.join(MA)\n",
        "    return df\n",
        "df_new = moving_average(df_new,10)\n",
        "df_new.tail()"
      ],
      "execution_count": 318,
      "outputs": [
        {
          "output_type": "execute_result",
          "data": {
            "text/html": [
              "<div>\n",
              "<style scoped>\n",
              "    .dataframe tbody tr th:only-of-type {\n",
              "        vertical-align: middle;\n",
              "    }\n",
              "\n",
              "    .dataframe tbody tr th {\n",
              "        vertical-align: top;\n",
              "    }\n",
              "\n",
              "    .dataframe thead th {\n",
              "        text-align: right;\n",
              "    }\n",
              "</style>\n",
              "<table border=\"1\" class=\"dataframe\">\n",
              "  <thead>\n",
              "    <tr style=\"text-align: right;\">\n",
              "      <th></th>\n",
              "      <th>&lt;FIRST&gt;</th>\n",
              "      <th>&lt;HIGH&gt;</th>\n",
              "      <th>&lt;LOW&gt;</th>\n",
              "      <th>&lt;CLOSE&gt;</th>\n",
              "      <th>&lt;VALUE&gt;</th>\n",
              "      <th>&lt;VOL&gt;</th>\n",
              "      <th>change_in_price</th>\n",
              "      <th>MA_10</th>\n",
              "    </tr>\n",
              "    <tr>\n",
              "      <th>datetime</th>\n",
              "      <th></th>\n",
              "      <th></th>\n",
              "      <th></th>\n",
              "      <th></th>\n",
              "      <th></th>\n",
              "      <th></th>\n",
              "      <th></th>\n",
              "      <th></th>\n",
              "    </tr>\n",
              "  </thead>\n",
              "  <tbody>\n",
              "    <tr>\n",
              "      <th>2020-05-26</th>\n",
              "      <td>19641.0</td>\n",
              "      <td>19780.0</td>\n",
              "      <td>19641.0</td>\n",
              "      <td>20610.0</td>\n",
              "      <td>3734971842</td>\n",
              "      <td>190162</td>\n",
              "      <td>-64.0</td>\n",
              "      <td>21721.6</td>\n",
              "    </tr>\n",
              "    <tr>\n",
              "      <th>2020-05-27</th>\n",
              "      <td>19563.0</td>\n",
              "      <td>20458.0</td>\n",
              "      <td>19563.0</td>\n",
              "      <td>19664.0</td>\n",
              "      <td>88787842465</td>\n",
              "      <td>4515291</td>\n",
              "      <td>-946.0</td>\n",
              "      <td>21249.2</td>\n",
              "    </tr>\n",
              "    <tr>\n",
              "      <th>2020-05-30</th>\n",
              "      <td>19670.0</td>\n",
              "      <td>20647.0</td>\n",
              "      <td>19670.0</td>\n",
              "      <td>20548.0</td>\n",
              "      <td>61764520298</td>\n",
              "      <td>3005837</td>\n",
              "      <td>884.0</td>\n",
              "      <td>20986.5</td>\n",
              "    </tr>\n",
              "    <tr>\n",
              "      <th>2020-05-31</th>\n",
              "      <td>21200.0</td>\n",
              "      <td>21575.0</td>\n",
              "      <td>20954.0</td>\n",
              "      <td>21415.0</td>\n",
              "      <td>142517849008</td>\n",
              "      <td>6654898</td>\n",
              "      <td>867.0</td>\n",
              "      <td>20902.5</td>\n",
              "    </tr>\n",
              "    <tr>\n",
              "      <th>2020-06-01</th>\n",
              "      <td>22485.0</td>\n",
              "      <td>22485.0</td>\n",
              "      <td>22485.0</td>\n",
              "      <td>21891.0</td>\n",
              "      <td>25459832955</td>\n",
              "      <td>1132303</td>\n",
              "      <td>476.0</td>\n",
              "      <td>20977.3</td>\n",
              "    </tr>\n",
              "  </tbody>\n",
              "</table>\n",
              "</div>"
            ],
            "text/plain": [
              "            <FIRST>   <HIGH>    <LOW>  ...    <VOL>  change_in_price    MA_10\n",
              "datetime                               ...                                   \n",
              "2020-05-26  19641.0  19780.0  19641.0  ...   190162            -64.0  21721.6\n",
              "2020-05-27  19563.0  20458.0  19563.0  ...  4515291           -946.0  21249.2\n",
              "2020-05-30  19670.0  20647.0  19670.0  ...  3005837            884.0  20986.5\n",
              "2020-05-31  21200.0  21575.0  20954.0  ...  6654898            867.0  20902.5\n",
              "2020-06-01  22485.0  22485.0  22485.0  ...  1132303            476.0  20977.3\n",
              "\n",
              "[5 rows x 8 columns]"
            ]
          },
          "metadata": {
            "tags": []
          },
          "execution_count": 318
        }
      ]
    },
    {
      "cell_type": "code",
      "metadata": {
        "id": "080HB4bObesP",
        "colab": {
          "base_uri": "https://localhost:8080/",
          "height": 223
        },
        "outputId": "31401ed0-faca-4844-bbd3-9fd05374a1bd"
      },
      "source": [
        "#2. Weighted Moving Average (WMA)\n",
        "def weighted_moving_average(df, n):\n",
        "    \"\"\"\n",
        "    :param df: pandas.DataFrame\n",
        "    :param n:\n",
        "    :return: pandas.DataFrame\n",
        "    \"\"\"\n",
        "    WMA = pd.Series(df['<CLOSE>'].ewm(span=n, min_periods=n).mean(), name='WMA_' + str(n))\n",
        "    df = df.join(WMA)\n",
        "    return df\n",
        "df_new = weighted_moving_average(df_new,10)\n",
        "df_new.tail()"
      ],
      "execution_count": 319,
      "outputs": [
        {
          "output_type": "execute_result",
          "data": {
            "text/html": [
              "<div>\n",
              "<style scoped>\n",
              "    .dataframe tbody tr th:only-of-type {\n",
              "        vertical-align: middle;\n",
              "    }\n",
              "\n",
              "    .dataframe tbody tr th {\n",
              "        vertical-align: top;\n",
              "    }\n",
              "\n",
              "    .dataframe thead th {\n",
              "        text-align: right;\n",
              "    }\n",
              "</style>\n",
              "<table border=\"1\" class=\"dataframe\">\n",
              "  <thead>\n",
              "    <tr style=\"text-align: right;\">\n",
              "      <th></th>\n",
              "      <th>&lt;FIRST&gt;</th>\n",
              "      <th>&lt;HIGH&gt;</th>\n",
              "      <th>&lt;LOW&gt;</th>\n",
              "      <th>&lt;CLOSE&gt;</th>\n",
              "      <th>&lt;VALUE&gt;</th>\n",
              "      <th>&lt;VOL&gt;</th>\n",
              "      <th>change_in_price</th>\n",
              "      <th>MA_10</th>\n",
              "      <th>WMA_10</th>\n",
              "    </tr>\n",
              "    <tr>\n",
              "      <th>datetime</th>\n",
              "      <th></th>\n",
              "      <th></th>\n",
              "      <th></th>\n",
              "      <th></th>\n",
              "      <th></th>\n",
              "      <th></th>\n",
              "      <th></th>\n",
              "      <th></th>\n",
              "      <th></th>\n",
              "    </tr>\n",
              "  </thead>\n",
              "  <tbody>\n",
              "    <tr>\n",
              "      <th>2020-05-26</th>\n",
              "      <td>19641.0</td>\n",
              "      <td>19780.0</td>\n",
              "      <td>19641.0</td>\n",
              "      <td>20610.0</td>\n",
              "      <td>3734971842</td>\n",
              "      <td>190162</td>\n",
              "      <td>-64.0</td>\n",
              "      <td>21721.6</td>\n",
              "      <td>21117.191748</td>\n",
              "    </tr>\n",
              "    <tr>\n",
              "      <th>2020-05-27</th>\n",
              "      <td>19563.0</td>\n",
              "      <td>20458.0</td>\n",
              "      <td>19563.0</td>\n",
              "      <td>19664.0</td>\n",
              "      <td>88787842465</td>\n",
              "      <td>4515291</td>\n",
              "      <td>-946.0</td>\n",
              "      <td>21249.2</td>\n",
              "      <td>20852.975067</td>\n",
              "    </tr>\n",
              "    <tr>\n",
              "      <th>2020-05-30</th>\n",
              "      <td>19670.0</td>\n",
              "      <td>20647.0</td>\n",
              "      <td>19670.0</td>\n",
              "      <td>20548.0</td>\n",
              "      <td>61764520298</td>\n",
              "      <td>3005837</td>\n",
              "      <td>884.0</td>\n",
              "      <td>20986.5</td>\n",
              "      <td>20797.525054</td>\n",
              "    </tr>\n",
              "    <tr>\n",
              "      <th>2020-05-31</th>\n",
              "      <td>21200.0</td>\n",
              "      <td>21575.0</td>\n",
              "      <td>20954.0</td>\n",
              "      <td>21415.0</td>\n",
              "      <td>142517849008</td>\n",
              "      <td>6654898</td>\n",
              "      <td>867.0</td>\n",
              "      <td>20902.5</td>\n",
              "      <td>20909.793226</td>\n",
              "    </tr>\n",
              "    <tr>\n",
              "      <th>2020-06-01</th>\n",
              "      <td>22485.0</td>\n",
              "      <td>22485.0</td>\n",
              "      <td>22485.0</td>\n",
              "      <td>21891.0</td>\n",
              "      <td>25459832955</td>\n",
              "      <td>1132303</td>\n",
              "      <td>476.0</td>\n",
              "      <td>20977.3</td>\n",
              "      <td>21088.194458</td>\n",
              "    </tr>\n",
              "  </tbody>\n",
              "</table>\n",
              "</div>"
            ],
            "text/plain": [
              "            <FIRST>   <HIGH>    <LOW>  ...  change_in_price    MA_10        WMA_10\n",
              "datetime                               ...                                        \n",
              "2020-05-26  19641.0  19780.0  19641.0  ...            -64.0  21721.6  21117.191748\n",
              "2020-05-27  19563.0  20458.0  19563.0  ...           -946.0  21249.2  20852.975067\n",
              "2020-05-30  19670.0  20647.0  19670.0  ...            884.0  20986.5  20797.525054\n",
              "2020-05-31  21200.0  21575.0  20954.0  ...            867.0  20902.5  20909.793226\n",
              "2020-06-01  22485.0  22485.0  22485.0  ...            476.0  20977.3  21088.194458\n",
              "\n",
              "[5 rows x 9 columns]"
            ]
          },
          "metadata": {
            "tags": []
          },
          "execution_count": 319
        }
      ]
    },
    {
      "cell_type": "code",
      "metadata": {
        "id": "lTZOxNVrbesS",
        "colab": {
          "base_uri": "https://localhost:8080/",
          "height": 223
        },
        "outputId": "89b67271-b742-4755-d7c0-877a8de180d8"
      },
      "source": [
        "#3. Momentum\n",
        "def momentum(df, n):\n",
        "    \"\"\"\n",
        "    :param df: pandas.DataFrame\n",
        "    :param n:\n",
        "    :return: pandas.DataFrame\n",
        "    \"\"\"\n",
        "    M = pd.Series(df['<CLOSE>'].diff(n), name='MOM_' + str(n))\n",
        "    df = df.join(M)\n",
        "    return df\n",
        "df_new = momentum(df_new,10)\n",
        "df_new.tail()"
      ],
      "execution_count": 320,
      "outputs": [
        {
          "output_type": "execute_result",
          "data": {
            "text/html": [
              "<div>\n",
              "<style scoped>\n",
              "    .dataframe tbody tr th:only-of-type {\n",
              "        vertical-align: middle;\n",
              "    }\n",
              "\n",
              "    .dataframe tbody tr th {\n",
              "        vertical-align: top;\n",
              "    }\n",
              "\n",
              "    .dataframe thead th {\n",
              "        text-align: right;\n",
              "    }\n",
              "</style>\n",
              "<table border=\"1\" class=\"dataframe\">\n",
              "  <thead>\n",
              "    <tr style=\"text-align: right;\">\n",
              "      <th></th>\n",
              "      <th>&lt;FIRST&gt;</th>\n",
              "      <th>&lt;HIGH&gt;</th>\n",
              "      <th>&lt;LOW&gt;</th>\n",
              "      <th>&lt;CLOSE&gt;</th>\n",
              "      <th>&lt;VALUE&gt;</th>\n",
              "      <th>&lt;VOL&gt;</th>\n",
              "      <th>change_in_price</th>\n",
              "      <th>MA_10</th>\n",
              "      <th>WMA_10</th>\n",
              "      <th>MOM_10</th>\n",
              "    </tr>\n",
              "    <tr>\n",
              "      <th>datetime</th>\n",
              "      <th></th>\n",
              "      <th></th>\n",
              "      <th></th>\n",
              "      <th></th>\n",
              "      <th></th>\n",
              "      <th></th>\n",
              "      <th></th>\n",
              "      <th></th>\n",
              "      <th></th>\n",
              "      <th></th>\n",
              "    </tr>\n",
              "  </thead>\n",
              "  <tbody>\n",
              "    <tr>\n",
              "      <th>2020-05-26</th>\n",
              "      <td>19641.0</td>\n",
              "      <td>19780.0</td>\n",
              "      <td>19641.0</td>\n",
              "      <td>20610.0</td>\n",
              "      <td>3734971842</td>\n",
              "      <td>190162</td>\n",
              "      <td>-64.0</td>\n",
              "      <td>21721.6</td>\n",
              "      <td>21117.191748</td>\n",
              "      <td>-2866.0</td>\n",
              "    </tr>\n",
              "    <tr>\n",
              "      <th>2020-05-27</th>\n",
              "      <td>19563.0</td>\n",
              "      <td>20458.0</td>\n",
              "      <td>19563.0</td>\n",
              "      <td>19664.0</td>\n",
              "      <td>88787842465</td>\n",
              "      <td>4515291</td>\n",
              "      <td>-946.0</td>\n",
              "      <td>21249.2</td>\n",
              "      <td>20852.975067</td>\n",
              "      <td>-4724.0</td>\n",
              "    </tr>\n",
              "    <tr>\n",
              "      <th>2020-05-30</th>\n",
              "      <td>19670.0</td>\n",
              "      <td>20647.0</td>\n",
              "      <td>19670.0</td>\n",
              "      <td>20548.0</td>\n",
              "      <td>61764520298</td>\n",
              "      <td>3005837</td>\n",
              "      <td>884.0</td>\n",
              "      <td>20986.5</td>\n",
              "      <td>20797.525054</td>\n",
              "      <td>-2627.0</td>\n",
              "    </tr>\n",
              "    <tr>\n",
              "      <th>2020-05-31</th>\n",
              "      <td>21200.0</td>\n",
              "      <td>21575.0</td>\n",
              "      <td>20954.0</td>\n",
              "      <td>21415.0</td>\n",
              "      <td>142517849008</td>\n",
              "      <td>6654898</td>\n",
              "      <td>867.0</td>\n",
              "      <td>20902.5</td>\n",
              "      <td>20909.793226</td>\n",
              "      <td>-840.0</td>\n",
              "    </tr>\n",
              "    <tr>\n",
              "      <th>2020-06-01</th>\n",
              "      <td>22485.0</td>\n",
              "      <td>22485.0</td>\n",
              "      <td>22485.0</td>\n",
              "      <td>21891.0</td>\n",
              "      <td>25459832955</td>\n",
              "      <td>1132303</td>\n",
              "      <td>476.0</td>\n",
              "      <td>20977.3</td>\n",
              "      <td>21088.194458</td>\n",
              "      <td>748.0</td>\n",
              "    </tr>\n",
              "  </tbody>\n",
              "</table>\n",
              "</div>"
            ],
            "text/plain": [
              "            <FIRST>   <HIGH>    <LOW>  ...    MA_10        WMA_10  MOM_10\n",
              "datetime                               ...                               \n",
              "2020-05-26  19641.0  19780.0  19641.0  ...  21721.6  21117.191748 -2866.0\n",
              "2020-05-27  19563.0  20458.0  19563.0  ...  21249.2  20852.975067 -4724.0\n",
              "2020-05-30  19670.0  20647.0  19670.0  ...  20986.5  20797.525054 -2627.0\n",
              "2020-05-31  21200.0  21575.0  20954.0  ...  20902.5  20909.793226  -840.0\n",
              "2020-06-01  22485.0  22485.0  22485.0  ...  20977.3  21088.194458   748.0\n",
              "\n",
              "[5 rows x 10 columns]"
            ]
          },
          "metadata": {
            "tags": []
          },
          "execution_count": 320
        }
      ]
    },
    {
      "cell_type": "code",
      "metadata": {
        "id": "9WasGdiqbesV",
        "colab": {
          "base_uri": "https://localhost:8080/",
          "height": 223
        },
        "outputId": "37c07d6b-d62f-4ed1-89ae-01d9ae4fab5a"
      },
      "source": [
        "#4. Stochastic K%\n",
        "def stochastic_oscillator_k(df):\n",
        "    \"\"\"Calculate stochastic oscillator %K for given data.\n",
        "    :param df: pandas.DataFrame\n",
        "    :return: pandas.DataFrame\n",
        "    \"\"\"\n",
        "    SOk = pd.Series((df['<CLOSE>'] - df['<LOW>']) / (df['<HIGH>'] - df['<LOW>']), name='SO_k')\n",
        "    df = df.join(SOk)\n",
        "    return df\n",
        "df_new = stochastic_oscillator_k(df_new)\n",
        "df_new.tail()"
      ],
      "execution_count": 321,
      "outputs": [
        {
          "output_type": "execute_result",
          "data": {
            "text/html": [
              "<div>\n",
              "<style scoped>\n",
              "    .dataframe tbody tr th:only-of-type {\n",
              "        vertical-align: middle;\n",
              "    }\n",
              "\n",
              "    .dataframe tbody tr th {\n",
              "        vertical-align: top;\n",
              "    }\n",
              "\n",
              "    .dataframe thead th {\n",
              "        text-align: right;\n",
              "    }\n",
              "</style>\n",
              "<table border=\"1\" class=\"dataframe\">\n",
              "  <thead>\n",
              "    <tr style=\"text-align: right;\">\n",
              "      <th></th>\n",
              "      <th>&lt;FIRST&gt;</th>\n",
              "      <th>&lt;HIGH&gt;</th>\n",
              "      <th>&lt;LOW&gt;</th>\n",
              "      <th>&lt;CLOSE&gt;</th>\n",
              "      <th>&lt;VALUE&gt;</th>\n",
              "      <th>&lt;VOL&gt;</th>\n",
              "      <th>change_in_price</th>\n",
              "      <th>MA_10</th>\n",
              "      <th>WMA_10</th>\n",
              "      <th>MOM_10</th>\n",
              "      <th>SO_k</th>\n",
              "    </tr>\n",
              "    <tr>\n",
              "      <th>datetime</th>\n",
              "      <th></th>\n",
              "      <th></th>\n",
              "      <th></th>\n",
              "      <th></th>\n",
              "      <th></th>\n",
              "      <th></th>\n",
              "      <th></th>\n",
              "      <th></th>\n",
              "      <th></th>\n",
              "      <th></th>\n",
              "      <th></th>\n",
              "    </tr>\n",
              "  </thead>\n",
              "  <tbody>\n",
              "    <tr>\n",
              "      <th>2020-05-26</th>\n",
              "      <td>19641.0</td>\n",
              "      <td>19780.0</td>\n",
              "      <td>19641.0</td>\n",
              "      <td>20610.0</td>\n",
              "      <td>3734971842</td>\n",
              "      <td>190162</td>\n",
              "      <td>-64.0</td>\n",
              "      <td>21721.6</td>\n",
              "      <td>21117.191748</td>\n",
              "      <td>-2866.0</td>\n",
              "      <td>6.971223</td>\n",
              "    </tr>\n",
              "    <tr>\n",
              "      <th>2020-05-27</th>\n",
              "      <td>19563.0</td>\n",
              "      <td>20458.0</td>\n",
              "      <td>19563.0</td>\n",
              "      <td>19664.0</td>\n",
              "      <td>88787842465</td>\n",
              "      <td>4515291</td>\n",
              "      <td>-946.0</td>\n",
              "      <td>21249.2</td>\n",
              "      <td>20852.975067</td>\n",
              "      <td>-4724.0</td>\n",
              "      <td>0.112849</td>\n",
              "    </tr>\n",
              "    <tr>\n",
              "      <th>2020-05-30</th>\n",
              "      <td>19670.0</td>\n",
              "      <td>20647.0</td>\n",
              "      <td>19670.0</td>\n",
              "      <td>20548.0</td>\n",
              "      <td>61764520298</td>\n",
              "      <td>3005837</td>\n",
              "      <td>884.0</td>\n",
              "      <td>20986.5</td>\n",
              "      <td>20797.525054</td>\n",
              "      <td>-2627.0</td>\n",
              "      <td>0.898669</td>\n",
              "    </tr>\n",
              "    <tr>\n",
              "      <th>2020-05-31</th>\n",
              "      <td>21200.0</td>\n",
              "      <td>21575.0</td>\n",
              "      <td>20954.0</td>\n",
              "      <td>21415.0</td>\n",
              "      <td>142517849008</td>\n",
              "      <td>6654898</td>\n",
              "      <td>867.0</td>\n",
              "      <td>20902.5</td>\n",
              "      <td>20909.793226</td>\n",
              "      <td>-840.0</td>\n",
              "      <td>0.742351</td>\n",
              "    </tr>\n",
              "    <tr>\n",
              "      <th>2020-06-01</th>\n",
              "      <td>22485.0</td>\n",
              "      <td>22485.0</td>\n",
              "      <td>22485.0</td>\n",
              "      <td>21891.0</td>\n",
              "      <td>25459832955</td>\n",
              "      <td>1132303</td>\n",
              "      <td>476.0</td>\n",
              "      <td>20977.3</td>\n",
              "      <td>21088.194458</td>\n",
              "      <td>748.0</td>\n",
              "      <td>-inf</td>\n",
              "    </tr>\n",
              "  </tbody>\n",
              "</table>\n",
              "</div>"
            ],
            "text/plain": [
              "            <FIRST>   <HIGH>    <LOW>  ...        WMA_10  MOM_10      SO_k\n",
              "datetime                               ...                                \n",
              "2020-05-26  19641.0  19780.0  19641.0  ...  21117.191748 -2866.0  6.971223\n",
              "2020-05-27  19563.0  20458.0  19563.0  ...  20852.975067 -4724.0  0.112849\n",
              "2020-05-30  19670.0  20647.0  19670.0  ...  20797.525054 -2627.0  0.898669\n",
              "2020-05-31  21200.0  21575.0  20954.0  ...  20909.793226  -840.0  0.742351\n",
              "2020-06-01  22485.0  22485.0  22485.0  ...  21088.194458   748.0      -inf\n",
              "\n",
              "[5 rows x 11 columns]"
            ]
          },
          "metadata": {
            "tags": []
          },
          "execution_count": 321
        }
      ]
    },
    {
      "cell_type": "code",
      "metadata": {
        "id": "d5u31Lq2besX",
        "colab": {
          "base_uri": "https://localhost:8080/",
          "height": 223
        },
        "outputId": "0a1fc132-482d-43c5-b5bd-f3f19ec357ac"
      },
      "source": [
        "#5. Stochastic D%\n",
        "def stochastic_oscillator_d(df, n):\n",
        "    \"\"\"Calculate stochastic oscillator %D for given data.\n",
        "    :param df: pandas.DataFrame\n",
        "    :param n:\n",
        "    :return: pandas.DataFrame\n",
        "    \"\"\"\n",
        "    SOk = pd.Series((df['<CLOSE>'] - df['<LOW>']) / (df['<HIGH>'] - df['<LOW>']), name='SO%k')\n",
        "    SOd = pd.Series(SOk.ewm(span=n, min_periods=n).mean(), name='SO_' + str(n))\n",
        "    df = df.join(SOd)\n",
        "    return df\n",
        "df_new = stochastic_oscillator_d(df_new,10)\n",
        "df_new.tail()"
      ],
      "execution_count": 322,
      "outputs": [
        {
          "output_type": "execute_result",
          "data": {
            "text/html": [
              "<div>\n",
              "<style scoped>\n",
              "    .dataframe tbody tr th:only-of-type {\n",
              "        vertical-align: middle;\n",
              "    }\n",
              "\n",
              "    .dataframe tbody tr th {\n",
              "        vertical-align: top;\n",
              "    }\n",
              "\n",
              "    .dataframe thead th {\n",
              "        text-align: right;\n",
              "    }\n",
              "</style>\n",
              "<table border=\"1\" class=\"dataframe\">\n",
              "  <thead>\n",
              "    <tr style=\"text-align: right;\">\n",
              "      <th></th>\n",
              "      <th>&lt;FIRST&gt;</th>\n",
              "      <th>&lt;HIGH&gt;</th>\n",
              "      <th>&lt;LOW&gt;</th>\n",
              "      <th>&lt;CLOSE&gt;</th>\n",
              "      <th>&lt;VALUE&gt;</th>\n",
              "      <th>&lt;VOL&gt;</th>\n",
              "      <th>change_in_price</th>\n",
              "      <th>MA_10</th>\n",
              "      <th>WMA_10</th>\n",
              "      <th>MOM_10</th>\n",
              "      <th>SO_k</th>\n",
              "      <th>SO_10</th>\n",
              "    </tr>\n",
              "    <tr>\n",
              "      <th>datetime</th>\n",
              "      <th></th>\n",
              "      <th></th>\n",
              "      <th></th>\n",
              "      <th></th>\n",
              "      <th></th>\n",
              "      <th></th>\n",
              "      <th></th>\n",
              "      <th></th>\n",
              "      <th></th>\n",
              "      <th></th>\n",
              "      <th></th>\n",
              "      <th></th>\n",
              "    </tr>\n",
              "  </thead>\n",
              "  <tbody>\n",
              "    <tr>\n",
              "      <th>2020-05-26</th>\n",
              "      <td>19641.0</td>\n",
              "      <td>19780.0</td>\n",
              "      <td>19641.0</td>\n",
              "      <td>20610.0</td>\n",
              "      <td>3734971842</td>\n",
              "      <td>190162</td>\n",
              "      <td>-64.0</td>\n",
              "      <td>21721.6</td>\n",
              "      <td>21117.191748</td>\n",
              "      <td>-2866.0</td>\n",
              "      <td>6.971223</td>\n",
              "      <td>2.342540</td>\n",
              "    </tr>\n",
              "    <tr>\n",
              "      <th>2020-05-27</th>\n",
              "      <td>19563.0</td>\n",
              "      <td>20458.0</td>\n",
              "      <td>19563.0</td>\n",
              "      <td>19664.0</td>\n",
              "      <td>88787842465</td>\n",
              "      <td>4515291</td>\n",
              "      <td>-946.0</td>\n",
              "      <td>21249.2</td>\n",
              "      <td>20852.975067</td>\n",
              "      <td>-4724.0</td>\n",
              "      <td>0.112849</td>\n",
              "      <td>1.803912</td>\n",
              "    </tr>\n",
              "    <tr>\n",
              "      <th>2020-05-30</th>\n",
              "      <td>19670.0</td>\n",
              "      <td>20647.0</td>\n",
              "      <td>19670.0</td>\n",
              "      <td>20548.0</td>\n",
              "      <td>61764520298</td>\n",
              "      <td>3005837</td>\n",
              "      <td>884.0</td>\n",
              "      <td>20986.5</td>\n",
              "      <td>20797.525054</td>\n",
              "      <td>-2627.0</td>\n",
              "      <td>0.898669</td>\n",
              "      <td>1.597562</td>\n",
              "    </tr>\n",
              "    <tr>\n",
              "      <th>2020-05-31</th>\n",
              "      <td>21200.0</td>\n",
              "      <td>21575.0</td>\n",
              "      <td>20954.0</td>\n",
              "      <td>21415.0</td>\n",
              "      <td>142517849008</td>\n",
              "      <td>6654898</td>\n",
              "      <td>867.0</td>\n",
              "      <td>20902.5</td>\n",
              "      <td>20909.793226</td>\n",
              "      <td>-840.0</td>\n",
              "      <td>0.742351</td>\n",
              "      <td>1.411213</td>\n",
              "    </tr>\n",
              "    <tr>\n",
              "      <th>2020-06-01</th>\n",
              "      <td>22485.0</td>\n",
              "      <td>22485.0</td>\n",
              "      <td>22485.0</td>\n",
              "      <td>21891.0</td>\n",
              "      <td>25459832955</td>\n",
              "      <td>1132303</td>\n",
              "      <td>476.0</td>\n",
              "      <td>20977.3</td>\n",
              "      <td>21088.194458</td>\n",
              "      <td>748.0</td>\n",
              "      <td>-inf</td>\n",
              "      <td>1.411213</td>\n",
              "    </tr>\n",
              "  </tbody>\n",
              "</table>\n",
              "</div>"
            ],
            "text/plain": [
              "            <FIRST>   <HIGH>    <LOW>  ...  MOM_10      SO_k     SO_10\n",
              "datetime                               ...                            \n",
              "2020-05-26  19641.0  19780.0  19641.0  ... -2866.0  6.971223  2.342540\n",
              "2020-05-27  19563.0  20458.0  19563.0  ... -4724.0  0.112849  1.803912\n",
              "2020-05-30  19670.0  20647.0  19670.0  ... -2627.0  0.898669  1.597562\n",
              "2020-05-31  21200.0  21575.0  20954.0  ...  -840.0  0.742351  1.411213\n",
              "2020-06-01  22485.0  22485.0  22485.0  ...   748.0      -inf  1.411213\n",
              "\n",
              "[5 rows x 12 columns]"
            ]
          },
          "metadata": {
            "tags": []
          },
          "execution_count": 322
        }
      ]
    },
    {
      "cell_type": "code",
      "metadata": {
        "id": "oki_RUaObesb",
        "colab": {
          "base_uri": "https://localhost:8080/",
          "height": 124
        },
        "outputId": "cf199678-9d64-468f-8a88-99c8e02f89de"
      },
      "source": [
        "#6. Relative Strength Index\n",
        "#Error\n",
        "\"\"\"\n",
        "def relative_strength_index(df, n):\n",
        "    Calculate Relative Strength Index(RSI) for given data.\n",
        "    :param df: pandas.DataFrame\n",
        "    :param n:\n",
        "    :return: pandas.DataFrame\n",
        "    i = df.index[0]\n",
        "    UpI = [0]\n",
        "    DoI = [0]\n",
        "    while i + 1 <= df.index[-1]:\n",
        "        UpMove = float(df.loc[i + 1, 'high']) - float(df.loc[i, 'high'])\n",
        "        DoMove = float(df.loc[i, 'low']) - float(df.loc[i + 1, 'low'])\n",
        "        if UpMove > DoMove and UpMove > 0:\n",
        "            UpD = UpMove\n",
        "        else:\n",
        "            UpD = 0\n",
        "        UpI.append(UpD)\n",
        "        if DoMove > UpMove and DoMove > 0:\n",
        "            DoD = DoMove\n",
        "        else:\n",
        "            DoD = 0\n",
        "        DoI.append(DoD)\n",
        "        i = i + 1\n",
        "    UpI = pd.Series(UpI)\n",
        "\n",
        "    DoI = pd.Series(DoI)\n",
        "    PosDI = pd.Series(UpI.ewm(span=n, min_periods=n).mean())\n",
        "    NegDI = pd.Series(DoI.ewm(span=n, min_periods=n).mean())\n",
        "\n",
        "    # rsi = pd.Series(PosDI / (PosDI + NegDI), name='RSI_' + str(n))\n",
        "    rsi = pd.DataFrame(PosDI / (PosDI + NegDI), columns=['RSI_' + str(n)])\n",
        "    rsi = rsi.set_index(df.index)\n",
        "    df = df.join(rsi)\n",
        "    return df\n",
        "\"\"\""
      ],
      "execution_count": 323,
      "outputs": [
        {
          "output_type": "execute_result",
          "data": {
            "application/vnd.google.colaboratory.intrinsic+json": {
              "type": "string"
            },
            "text/plain": [
              "\"\\ndef relative_strength_index(df, n):\\n    Calculate Relative Strength Index(RSI) for given data.\\n    :param df: pandas.DataFrame\\n    :param n:\\n    :return: pandas.DataFrame\\n    i = df.index[0]\\n    UpI = [0]\\n    DoI = [0]\\n    while i + 1 <= df.index[-1]:\\n        UpMove = float(df.loc[i + 1, 'high']) - float(df.loc[i, 'high'])\\n        DoMove = float(df.loc[i, 'low']) - float(df.loc[i + 1, 'low'])\\n        if UpMove > DoMove and UpMove > 0:\\n            UpD = UpMove\\n        else:\\n            UpD = 0\\n        UpI.append(UpD)\\n        if DoMove > UpMove and DoMove > 0:\\n            DoD = DoMove\\n        else:\\n            DoD = 0\\n        DoI.append(DoD)\\n        i = i + 1\\n    UpI = pd.Series(UpI)\\n\\n    DoI = pd.Series(DoI)\\n    PosDI = pd.Series(UpI.ewm(span=n, min_periods=n).mean())\\n    NegDI = pd.Series(DoI.ewm(span=n, min_periods=n).mean())\\n\\n    # rsi = pd.Series(PosDI / (PosDI + NegDI), name='RSI_' + str(n))\\n    rsi = pd.DataFrame(PosDI / (PosDI + NegDI), columns=['RSI_' + str(n)])\\n    rsi = rsi.set_index(df.index)\\n    df = df.join(rsi)\\n    return df\\n\""
            ]
          },
          "metadata": {
            "tags": []
          },
          "execution_count": 323
        }
      ]
    },
    {
      "cell_type": "code",
      "metadata": {
        "id": "SzBt7Xdobese",
        "colab": {
          "base_uri": "https://localhost:8080/",
          "height": 223
        },
        "outputId": "ca04089c-7861-4e69-9291-13a3a0738472"
      },
      "source": [
        "#7. Signal\n",
        "def macd(df, n_fast, n_slow):\n",
        "    \"\"\"Calculate MACD, MACD Signal and MACD difference\n",
        "    :param df: pandas.DataFrame\n",
        "    :param n_fast:\n",
        "    :param n_slow:\n",
        "    :return: pandas.DataFrame\n",
        "    \"\"\"\n",
        "    EMAfast = pd.Series(df['<CLOSE>'].ewm(span=n_fast, min_periods=n_slow).mean())\n",
        "    EMAslow = pd.Series(df['<CLOSE>'].ewm(span=n_slow, min_periods=n_slow).mean())\n",
        "    MACD = pd.Series(EMAfast - EMAslow, name='MACD_' + str(n_fast) + '_' + str(n_slow))\n",
        "    MACDsign = pd.Series(MACD.ewm(span=9, min_periods=9).mean(), name='MACDsign_' + str(n_fast) + '_' + str(n_slow))\n",
        "    MACDdiff = pd.Series(MACD - MACDsign, name='MACDdiff_' + str(n_fast) + '_' + str(n_slow))\n",
        "    df = df.join(MACD)\n",
        "    df = df.join(MACDsign)\n",
        "    df = df.join(MACDdiff)\n",
        "    return df\n",
        "df_new = macd(df_new,12,26)\n",
        "df_new.head()"
      ],
      "execution_count": 324,
      "outputs": [
        {
          "output_type": "execute_result",
          "data": {
            "text/html": [
              "<div>\n",
              "<style scoped>\n",
              "    .dataframe tbody tr th:only-of-type {\n",
              "        vertical-align: middle;\n",
              "    }\n",
              "\n",
              "    .dataframe tbody tr th {\n",
              "        vertical-align: top;\n",
              "    }\n",
              "\n",
              "    .dataframe thead th {\n",
              "        text-align: right;\n",
              "    }\n",
              "</style>\n",
              "<table border=\"1\" class=\"dataframe\">\n",
              "  <thead>\n",
              "    <tr style=\"text-align: right;\">\n",
              "      <th></th>\n",
              "      <th>&lt;FIRST&gt;</th>\n",
              "      <th>&lt;HIGH&gt;</th>\n",
              "      <th>&lt;LOW&gt;</th>\n",
              "      <th>&lt;CLOSE&gt;</th>\n",
              "      <th>&lt;VALUE&gt;</th>\n",
              "      <th>&lt;VOL&gt;</th>\n",
              "      <th>change_in_price</th>\n",
              "      <th>MA_10</th>\n",
              "      <th>WMA_10</th>\n",
              "      <th>MOM_10</th>\n",
              "      <th>SO_k</th>\n",
              "      <th>SO_10</th>\n",
              "      <th>MACD_12_26</th>\n",
              "      <th>MACDsign_12_26</th>\n",
              "      <th>MACDdiff_12_26</th>\n",
              "    </tr>\n",
              "    <tr>\n",
              "      <th>datetime</th>\n",
              "      <th></th>\n",
              "      <th></th>\n",
              "      <th></th>\n",
              "      <th></th>\n",
              "      <th></th>\n",
              "      <th></th>\n",
              "      <th></th>\n",
              "      <th></th>\n",
              "      <th></th>\n",
              "      <th></th>\n",
              "      <th></th>\n",
              "      <th></th>\n",
              "      <th></th>\n",
              "      <th></th>\n",
              "      <th></th>\n",
              "    </tr>\n",
              "  </thead>\n",
              "  <tbody>\n",
              "    <tr>\n",
              "      <th>2002-12-21</th>\n",
              "      <td>1700.0</td>\n",
              "      <td>1700.0</td>\n",
              "      <td>1700.0</td>\n",
              "      <td>1700.0</td>\n",
              "      <td>1700000</td>\n",
              "      <td>1000</td>\n",
              "      <td>NaN</td>\n",
              "      <td>NaN</td>\n",
              "      <td>NaN</td>\n",
              "      <td>NaN</td>\n",
              "      <td>NaN</td>\n",
              "      <td>NaN</td>\n",
              "      <td>NaN</td>\n",
              "      <td>NaN</td>\n",
              "      <td>NaN</td>\n",
              "    </tr>\n",
              "    <tr>\n",
              "      <th>2003-03-18</th>\n",
              "      <td>5600.0</td>\n",
              "      <td>5600.0</td>\n",
              "      <td>5600.0</td>\n",
              "      <td>5600.0</td>\n",
              "      <td>919497420800</td>\n",
              "      <td>164195968</td>\n",
              "      <td>3900.0</td>\n",
              "      <td>NaN</td>\n",
              "      <td>NaN</td>\n",
              "      <td>NaN</td>\n",
              "      <td>NaN</td>\n",
              "      <td>NaN</td>\n",
              "      <td>NaN</td>\n",
              "      <td>NaN</td>\n",
              "      <td>NaN</td>\n",
              "    </tr>\n",
              "    <tr>\n",
              "      <th>2003-03-31</th>\n",
              "      <td>5320.0</td>\n",
              "      <td>5320.0</td>\n",
              "      <td>5320.0</td>\n",
              "      <td>5320.0</td>\n",
              "      <td>5320000</td>\n",
              "      <td>1000</td>\n",
              "      <td>-280.0</td>\n",
              "      <td>NaN</td>\n",
              "      <td>NaN</td>\n",
              "      <td>NaN</td>\n",
              "      <td>NaN</td>\n",
              "      <td>NaN</td>\n",
              "      <td>NaN</td>\n",
              "      <td>NaN</td>\n",
              "      <td>NaN</td>\n",
              "    </tr>\n",
              "    <tr>\n",
              "      <th>2003-04-21</th>\n",
              "      <td>5054.0</td>\n",
              "      <td>5054.0</td>\n",
              "      <td>5054.0</td>\n",
              "      <td>5054.0</td>\n",
              "      <td>4472790</td>\n",
              "      <td>885</td>\n",
              "      <td>-266.0</td>\n",
              "      <td>NaN</td>\n",
              "      <td>NaN</td>\n",
              "      <td>NaN</td>\n",
              "      <td>NaN</td>\n",
              "      <td>NaN</td>\n",
              "      <td>NaN</td>\n",
              "      <td>NaN</td>\n",
              "      <td>NaN</td>\n",
              "    </tr>\n",
              "    <tr>\n",
              "      <th>2004-01-06</th>\n",
              "      <td>1101.0</td>\n",
              "      <td>1101.0</td>\n",
              "      <td>1101.0</td>\n",
              "      <td>1101.0</td>\n",
              "      <td>974385</td>\n",
              "      <td>885</td>\n",
              "      <td>-3953.0</td>\n",
              "      <td>NaN</td>\n",
              "      <td>NaN</td>\n",
              "      <td>NaN</td>\n",
              "      <td>NaN</td>\n",
              "      <td>NaN</td>\n",
              "      <td>NaN</td>\n",
              "      <td>NaN</td>\n",
              "      <td>NaN</td>\n",
              "    </tr>\n",
              "  </tbody>\n",
              "</table>\n",
              "</div>"
            ],
            "text/plain": [
              "            <FIRST>  <HIGH>   <LOW>  ...  MACD_12_26  MACDsign_12_26  MACDdiff_12_26\n",
              "datetime                             ...                                            \n",
              "2002-12-21   1700.0  1700.0  1700.0  ...         NaN             NaN             NaN\n",
              "2003-03-18   5600.0  5600.0  5600.0  ...         NaN             NaN             NaN\n",
              "2003-03-31   5320.0  5320.0  5320.0  ...         NaN             NaN             NaN\n",
              "2003-04-21   5054.0  5054.0  5054.0  ...         NaN             NaN             NaN\n",
              "2004-01-06   1101.0  1101.0  1101.0  ...         NaN             NaN             NaN\n",
              "\n",
              "[5 rows x 15 columns]"
            ]
          },
          "metadata": {
            "tags": []
          },
          "execution_count": 324
        }
      ]
    },
    {
      "cell_type": "code",
      "metadata": {
        "id": "cfobRA3dbesh"
      },
      "source": [
        "#8. Larry Williams R%\n",
        "#lEFT"
      ],
      "execution_count": 325,
      "outputs": []
    },
    {
      "cell_type": "code",
      "metadata": {
        "id": "tAAH6tYWbesm",
        "colab": {
          "base_uri": "https://localhost:8080/",
          "height": 363
        },
        "outputId": "00935b37-b757-434a-bfda-88ce5e1268d8"
      },
      "source": [
        "#9. Accumulation / Distribution\n",
        "def accumulation_distribution(df, n):\n",
        "    \"\"\"Calculate Accumulation/Distribution for given data.\n",
        "    :param df: pandas.DataFrame\n",
        "    :param n:\n",
        "    :return: pandas.DataFrame\n",
        "    \"\"\"\n",
        "    ad = (2 * df['<CLOSE>'] - df['<HIGH>'] - df['<LOW>']) / (df['<HIGH>'] - df['<LOW>']) * df['<VOL>']\n",
        "    M = ad.diff(n - 1)\n",
        "    N = ad.shift(n - 1)\n",
        "    ROC = M / N\n",
        "    AD = pd.Series(ROC, name='Acc/Dist_ROC_' + str(n))\n",
        "    df = df.join(AD)\n",
        "    return df\n",
        "df_new = accumulation_distribution(df_new,10)\n",
        "df_new.tail()"
      ],
      "execution_count": 326,
      "outputs": [
        {
          "output_type": "stream",
          "text": [
            "/usr/local/lib/python3.6/dist-packages/pandas/core/algorithms.py:1977: RuntimeWarning: invalid value encountered in subtract\n",
            "  out_arr[res_indexer] = arr[res_indexer] - arr[lag_indexer]\n"
          ],
          "name": "stderr"
        },
        {
          "output_type": "execute_result",
          "data": {
            "text/html": [
              "<div>\n",
              "<style scoped>\n",
              "    .dataframe tbody tr th:only-of-type {\n",
              "        vertical-align: middle;\n",
              "    }\n",
              "\n",
              "    .dataframe tbody tr th {\n",
              "        vertical-align: top;\n",
              "    }\n",
              "\n",
              "    .dataframe thead th {\n",
              "        text-align: right;\n",
              "    }\n",
              "</style>\n",
              "<table border=\"1\" class=\"dataframe\">\n",
              "  <thead>\n",
              "    <tr style=\"text-align: right;\">\n",
              "      <th></th>\n",
              "      <th>&lt;FIRST&gt;</th>\n",
              "      <th>&lt;HIGH&gt;</th>\n",
              "      <th>&lt;LOW&gt;</th>\n",
              "      <th>&lt;CLOSE&gt;</th>\n",
              "      <th>&lt;VALUE&gt;</th>\n",
              "      <th>&lt;VOL&gt;</th>\n",
              "      <th>change_in_price</th>\n",
              "      <th>MA_10</th>\n",
              "      <th>WMA_10</th>\n",
              "      <th>MOM_10</th>\n",
              "      <th>SO_k</th>\n",
              "      <th>SO_10</th>\n",
              "      <th>MACD_12_26</th>\n",
              "      <th>MACDsign_12_26</th>\n",
              "      <th>MACDdiff_12_26</th>\n",
              "      <th>Acc/Dist_ROC_10</th>\n",
              "    </tr>\n",
              "    <tr>\n",
              "      <th>datetime</th>\n",
              "      <th></th>\n",
              "      <th></th>\n",
              "      <th></th>\n",
              "      <th></th>\n",
              "      <th></th>\n",
              "      <th></th>\n",
              "      <th></th>\n",
              "      <th></th>\n",
              "      <th></th>\n",
              "      <th></th>\n",
              "      <th></th>\n",
              "      <th></th>\n",
              "      <th></th>\n",
              "      <th></th>\n",
              "      <th></th>\n",
              "      <th></th>\n",
              "    </tr>\n",
              "  </thead>\n",
              "  <tbody>\n",
              "    <tr>\n",
              "      <th>2020-05-26</th>\n",
              "      <td>19641.0</td>\n",
              "      <td>19780.0</td>\n",
              "      <td>19641.0</td>\n",
              "      <td>20610.0</td>\n",
              "      <td>3734971842</td>\n",
              "      <td>190162</td>\n",
              "      <td>-64.0</td>\n",
              "      <td>21721.6</td>\n",
              "      <td>21117.191748</td>\n",
              "      <td>-2866.0</td>\n",
              "      <td>6.971223</td>\n",
              "      <td>2.342540</td>\n",
              "      <td>1527.015046</td>\n",
              "      <td>1984.396206</td>\n",
              "      <td>-457.381160</td>\n",
              "      <td>-0.78324</td>\n",
              "    </tr>\n",
              "    <tr>\n",
              "      <th>2020-05-27</th>\n",
              "      <td>19563.0</td>\n",
              "      <td>20458.0</td>\n",
              "      <td>19563.0</td>\n",
              "      <td>19664.0</td>\n",
              "      <td>88787842465</td>\n",
              "      <td>4515291</td>\n",
              "      <td>-946.0</td>\n",
              "      <td>21249.2</td>\n",
              "      <td>20852.975067</td>\n",
              "      <td>-4724.0</td>\n",
              "      <td>0.112849</td>\n",
              "      <td>1.803912</td>\n",
              "      <td>1305.858238</td>\n",
              "      <td>1848.688612</td>\n",
              "      <td>-542.830375</td>\n",
              "      <td>NaN</td>\n",
              "    </tr>\n",
              "    <tr>\n",
              "      <th>2020-05-30</th>\n",
              "      <td>19670.0</td>\n",
              "      <td>20647.0</td>\n",
              "      <td>19670.0</td>\n",
              "      <td>20548.0</td>\n",
              "      <td>61764520298</td>\n",
              "      <td>3005837</td>\n",
              "      <td>884.0</td>\n",
              "      <td>20986.5</td>\n",
              "      <td>20797.525054</td>\n",
              "      <td>-2627.0</td>\n",
              "      <td>0.898669</td>\n",
              "      <td>1.597562</td>\n",
              "      <td>1188.224178</td>\n",
              "      <td>1716.595725</td>\n",
              "      <td>-528.371548</td>\n",
              "      <td>-1.25061</td>\n",
              "    </tr>\n",
              "    <tr>\n",
              "      <th>2020-05-31</th>\n",
              "      <td>21200.0</td>\n",
              "      <td>21575.0</td>\n",
              "      <td>20954.0</td>\n",
              "      <td>21415.0</td>\n",
              "      <td>142517849008</td>\n",
              "      <td>6654898</td>\n",
              "      <td>867.0</td>\n",
              "      <td>20902.5</td>\n",
              "      <td>20909.793226</td>\n",
              "      <td>-840.0</td>\n",
              "      <td>0.742351</td>\n",
              "      <td>1.411213</td>\n",
              "      <td>1151.682117</td>\n",
              "      <td>1603.613004</td>\n",
              "      <td>-451.930887</td>\n",
              "      <td>NaN</td>\n",
              "    </tr>\n",
              "    <tr>\n",
              "      <th>2020-06-01</th>\n",
              "      <td>22485.0</td>\n",
              "      <td>22485.0</td>\n",
              "      <td>22485.0</td>\n",
              "      <td>21891.0</td>\n",
              "      <td>25459832955</td>\n",
              "      <td>1132303</td>\n",
              "      <td>476.0</td>\n",
              "      <td>20977.3</td>\n",
              "      <td>21088.194458</td>\n",
              "      <td>748.0</td>\n",
              "      <td>-inf</td>\n",
              "      <td>1.411213</td>\n",
              "      <td>1147.899225</td>\n",
              "      <td>1512.470248</td>\n",
              "      <td>-364.571023</td>\n",
              "      <td>inf</td>\n",
              "    </tr>\n",
              "  </tbody>\n",
              "</table>\n",
              "</div>"
            ],
            "text/plain": [
              "            <FIRST>   <HIGH>  ...  MACDdiff_12_26  Acc/Dist_ROC_10\n",
              "datetime                      ...                                 \n",
              "2020-05-26  19641.0  19780.0  ...     -457.381160         -0.78324\n",
              "2020-05-27  19563.0  20458.0  ...     -542.830375              NaN\n",
              "2020-05-30  19670.0  20647.0  ...     -528.371548         -1.25061\n",
              "2020-05-31  21200.0  21575.0  ...     -451.930887              NaN\n",
              "2020-06-01  22485.0  22485.0  ...     -364.571023              inf\n",
              "\n",
              "[5 rows x 16 columns]"
            ]
          },
          "metadata": {
            "tags": []
          },
          "execution_count": 326
        }
      ]
    },
    {
      "cell_type": "code",
      "metadata": {
        "id": "XCFLfxtUbesq",
        "colab": {
          "base_uri": "https://localhost:8080/",
          "height": 328
        },
        "outputId": "638be35e-da05-4d01-91af-b6640e6030a6"
      },
      "source": [
        "#10. Commodity Channel Index\n",
        "def commodity_channel_index(df, n):\n",
        "    \"\"\"Calculate Commodity Channel Index for given data.\n",
        "    :param df: pandas.DataFrame\n",
        "    :param n:\n",
        "    :return: pandas.DataFrame\n",
        "    \"\"\"\n",
        "    PP = (df['<HIGH>'] + df['<LOW>'] + df['<CLOSE>']) / 3\n",
        "    CCI = pd.Series((PP - PP.rolling(n, min_periods=n).mean()) / PP.rolling(n, min_periods=n).std(),\n",
        "                    name='CCI_' + str(n))\n",
        "    df = df.join(CCI)\n",
        "    return df\n",
        "df_new = commodity_channel_index(df_new,10)\n",
        "df_new.tail()"
      ],
      "execution_count": 327,
      "outputs": [
        {
          "output_type": "execute_result",
          "data": {
            "text/html": [
              "<div>\n",
              "<style scoped>\n",
              "    .dataframe tbody tr th:only-of-type {\n",
              "        vertical-align: middle;\n",
              "    }\n",
              "\n",
              "    .dataframe tbody tr th {\n",
              "        vertical-align: top;\n",
              "    }\n",
              "\n",
              "    .dataframe thead th {\n",
              "        text-align: right;\n",
              "    }\n",
              "</style>\n",
              "<table border=\"1\" class=\"dataframe\">\n",
              "  <thead>\n",
              "    <tr style=\"text-align: right;\">\n",
              "      <th></th>\n",
              "      <th>&lt;FIRST&gt;</th>\n",
              "      <th>&lt;HIGH&gt;</th>\n",
              "      <th>&lt;LOW&gt;</th>\n",
              "      <th>&lt;CLOSE&gt;</th>\n",
              "      <th>&lt;VALUE&gt;</th>\n",
              "      <th>&lt;VOL&gt;</th>\n",
              "      <th>change_in_price</th>\n",
              "      <th>MA_10</th>\n",
              "      <th>WMA_10</th>\n",
              "      <th>MOM_10</th>\n",
              "      <th>SO_k</th>\n",
              "      <th>SO_10</th>\n",
              "      <th>MACD_12_26</th>\n",
              "      <th>MACDsign_12_26</th>\n",
              "      <th>MACDdiff_12_26</th>\n",
              "      <th>Acc/Dist_ROC_10</th>\n",
              "      <th>CCI_10</th>\n",
              "    </tr>\n",
              "    <tr>\n",
              "      <th>datetime</th>\n",
              "      <th></th>\n",
              "      <th></th>\n",
              "      <th></th>\n",
              "      <th></th>\n",
              "      <th></th>\n",
              "      <th></th>\n",
              "      <th></th>\n",
              "      <th></th>\n",
              "      <th></th>\n",
              "      <th></th>\n",
              "      <th></th>\n",
              "      <th></th>\n",
              "      <th></th>\n",
              "      <th></th>\n",
              "      <th></th>\n",
              "      <th></th>\n",
              "      <th></th>\n",
              "    </tr>\n",
              "  </thead>\n",
              "  <tbody>\n",
              "    <tr>\n",
              "      <th>2020-05-26</th>\n",
              "      <td>19641.0</td>\n",
              "      <td>19780.0</td>\n",
              "      <td>19641.0</td>\n",
              "      <td>20610.0</td>\n",
              "      <td>3734971842</td>\n",
              "      <td>190162</td>\n",
              "      <td>-64.0</td>\n",
              "      <td>21721.6</td>\n",
              "      <td>21117.191748</td>\n",
              "      <td>-2866.0</td>\n",
              "      <td>6.971223</td>\n",
              "      <td>2.342540</td>\n",
              "      <td>1527.015046</td>\n",
              "      <td>1984.396206</td>\n",
              "      <td>-457.381160</td>\n",
              "      <td>-0.78324</td>\n",
              "      <td>-1.217732</td>\n",
              "    </tr>\n",
              "    <tr>\n",
              "      <th>2020-05-27</th>\n",
              "      <td>19563.0</td>\n",
              "      <td>20458.0</td>\n",
              "      <td>19563.0</td>\n",
              "      <td>19664.0</td>\n",
              "      <td>88787842465</td>\n",
              "      <td>4515291</td>\n",
              "      <td>-946.0</td>\n",
              "      <td>21249.2</td>\n",
              "      <td>20852.975067</td>\n",
              "      <td>-4724.0</td>\n",
              "      <td>0.112849</td>\n",
              "      <td>1.803912</td>\n",
              "      <td>1305.858238</td>\n",
              "      <td>1848.688612</td>\n",
              "      <td>-542.830375</td>\n",
              "      <td>NaN</td>\n",
              "      <td>-1.155010</td>\n",
              "    </tr>\n",
              "    <tr>\n",
              "      <th>2020-05-30</th>\n",
              "      <td>19670.0</td>\n",
              "      <td>20647.0</td>\n",
              "      <td>19670.0</td>\n",
              "      <td>20548.0</td>\n",
              "      <td>61764520298</td>\n",
              "      <td>3005837</td>\n",
              "      <td>884.0</td>\n",
              "      <td>20986.5</td>\n",
              "      <td>20797.525054</td>\n",
              "      <td>-2627.0</td>\n",
              "      <td>0.898669</td>\n",
              "      <td>1.597562</td>\n",
              "      <td>1188.224178</td>\n",
              "      <td>1716.595725</td>\n",
              "      <td>-528.371548</td>\n",
              "      <td>-1.25061</td>\n",
              "      <td>-0.678315</td>\n",
              "    </tr>\n",
              "    <tr>\n",
              "      <th>2020-05-31</th>\n",
              "      <td>21200.0</td>\n",
              "      <td>21575.0</td>\n",
              "      <td>20954.0</td>\n",
              "      <td>21415.0</td>\n",
              "      <td>142517849008</td>\n",
              "      <td>6654898</td>\n",
              "      <td>867.0</td>\n",
              "      <td>20902.5</td>\n",
              "      <td>20909.793226</td>\n",
              "      <td>-840.0</td>\n",
              "      <td>0.742351</td>\n",
              "      <td>1.411213</td>\n",
              "      <td>1151.682117</td>\n",
              "      <td>1603.613004</td>\n",
              "      <td>-451.930887</td>\n",
              "      <td>NaN</td>\n",
              "      <td>0.851461</td>\n",
              "    </tr>\n",
              "    <tr>\n",
              "      <th>2020-06-01</th>\n",
              "      <td>22485.0</td>\n",
              "      <td>22485.0</td>\n",
              "      <td>22485.0</td>\n",
              "      <td>21891.0</td>\n",
              "      <td>25459832955</td>\n",
              "      <td>1132303</td>\n",
              "      <td>476.0</td>\n",
              "      <td>20977.3</td>\n",
              "      <td>21088.194458</td>\n",
              "      <td>748.0</td>\n",
              "      <td>-inf</td>\n",
              "      <td>1.411213</td>\n",
              "      <td>1147.899225</td>\n",
              "      <td>1512.470248</td>\n",
              "      <td>-364.571023</td>\n",
              "      <td>inf</td>\n",
              "      <td>1.748851</td>\n",
              "    </tr>\n",
              "  </tbody>\n",
              "</table>\n",
              "</div>"
            ],
            "text/plain": [
              "            <FIRST>   <HIGH>  ...  Acc/Dist_ROC_10    CCI_10\n",
              "datetime                      ...                           \n",
              "2020-05-26  19641.0  19780.0  ...         -0.78324 -1.217732\n",
              "2020-05-27  19563.0  20458.0  ...              NaN -1.155010\n",
              "2020-05-30  19670.0  20647.0  ...         -1.25061 -0.678315\n",
              "2020-05-31  21200.0  21575.0  ...              NaN  0.851461\n",
              "2020-06-01  22485.0  22485.0  ...              inf  1.748851\n",
              "\n",
              "[5 rows x 17 columns]"
            ]
          },
          "metadata": {
            "tags": []
          },
          "execution_count": 327
        }
      ]
    },
    {
      "cell_type": "code",
      "metadata": {
        "id": "HHQkL2Fybesu",
        "colab": {
          "base_uri": "https://localhost:8080/"
        },
        "outputId": "c4d42ec2-0ca5-48b3-9547-59b1e7d3f153"
      },
      "source": [
        "df_new.mean()"
      ],
      "execution_count": 328,
      "outputs": [
        {
          "output_type": "execute_result",
          "data": {
            "text/plain": [
              "<FIRST>            7.486582e+03\n",
              "<HIGH>             7.582164e+03\n",
              "<LOW>              7.360582e+03\n",
              "<CLOSE>            7.482254e+03\n",
              "<VALUE>            1.932278e+10\n",
              "<VOL>              4.098205e+06\n",
              "change_in_price    1.316232e+01\n",
              "MA_10              7.450139e+03\n",
              "WMA_10             7.451169e+03\n",
              "MOM_10             9.052459e+01\n",
              "SO_k                        NaN\n",
              "SO_10              6.141745e-01\n",
              "MACD_12_26         3.693981e+01\n",
              "MACDsign_12_26     3.224326e+01\n",
              "MACDdiff_12_26     3.196668e+00\n",
              "Acc/Dist_ROC_10             NaN\n",
              "CCI_10                     -inf\n",
              "dtype: float64"
            ]
          },
          "metadata": {
            "tags": []
          },
          "execution_count": 328
        }
      ]
    },
    {
      "cell_type": "code",
      "metadata": {
        "id": "mSwQUUeKbesx",
        "colab": {
          "base_uri": "https://localhost:8080/"
        },
        "outputId": "b88511b9-9aaf-4ab9-f1da-c72ee722e4de"
      },
      "source": [
        "df_new.min()"
      ],
      "execution_count": 329,
      "outputs": [
        {
          "output_type": "execute_result",
          "data": {
            "text/plain": [
              "<FIRST>            8.180000e+02\n",
              "<HIGH>             8.420000e+02\n",
              "<LOW>              8.180000e+02\n",
              "<CLOSE>            8.550000e+02\n",
              "<VALUE>            9.227000e+03\n",
              "<VOL>              1.000000e+00\n",
              "change_in_price   -1.506400e+04\n",
              "MA_10              9.684000e+02\n",
              "WMA_10             1.217622e+03\n",
              "MOM_10            -1.596700e+04\n",
              "SO_k                       -inf\n",
              "SO_10             -1.802383e+01\n",
              "MACD_12_26        -2.474898e+03\n",
              "MACDsign_12_26    -2.125425e+03\n",
              "MACDdiff_12_26    -1.717115e+03\n",
              "Acc/Dist_ROC_10            -inf\n",
              "CCI_10                     -inf\n",
              "dtype: float64"
            ]
          },
          "metadata": {
            "tags": []
          },
          "execution_count": 329
        }
      ]
    },
    {
      "cell_type": "code",
      "metadata": {
        "id": "mMVVklQPbes1",
        "colab": {
          "base_uri": "https://localhost:8080/"
        },
        "outputId": "1e49c38d-f959-472f-e2c0-28b2f37f2322"
      },
      "source": [
        "df_new.max()"
      ],
      "execution_count": 330,
      "outputs": [
        {
          "output_type": "execute_result",
          "data": {
            "text/plain": [
              "<FIRST>            2.580000e+04\n",
              "<HIGH>             2.580000e+04\n",
              "<LOW>              2.529100e+04\n",
              "<CLOSE>            2.529100e+04\n",
              "<VALUE>            9.482221e+11\n",
              "<VOL>              1.641960e+08\n",
              "change_in_price    8.500000e+03\n",
              "MA_10              2.278450e+04\n",
              "WMA_10             2.269231e+04\n",
              "MOM_10             1.136500e+04\n",
              "SO_k                        inf\n",
              "SO_10              2.527386e+01\n",
              "MACD_12_26         2.799053e+03\n",
              "MACDsign_12_26     2.404355e+03\n",
              "MACDdiff_12_26     7.204539e+02\n",
              "Acc/Dist_ROC_10             inf\n",
              "CCI_10             2.846053e+00\n",
              "dtype: float64"
            ]
          },
          "metadata": {
            "tags": []
          },
          "execution_count": 330
        }
      ]
    },
    {
      "cell_type": "code",
      "metadata": {
        "id": "uNTpjP7Xbes4",
        "colab": {
          "base_uri": "https://localhost:8080/"
        },
        "outputId": "a2eb535c-513b-4bf7-93f7-cdb2bec2a3ca"
      },
      "source": [
        "df_new.std()"
      ],
      "execution_count": 331,
      "outputs": [
        {
          "output_type": "execute_result",
          "data": {
            "text/plain": [
              "<FIRST>            4.607126e+03\n",
              "<HIGH>             4.651191e+03\n",
              "<LOW>              4.556411e+03\n",
              "<CLOSE>            4.614527e+03\n",
              "<VALUE>            4.988563e+10\n",
              "<VOL>              1.054633e+07\n",
              "change_in_price    5.506471e+02\n",
              "MA_10              4.507023e+03\n",
              "WMA_10             4.481562e+03\n",
              "MOM_10             1.749103e+03\n",
              "SO_k                        NaN\n",
              "SO_10              2.554240e+00\n",
              "MACD_12_26         5.376527e+02\n",
              "MACDsign_12_26     4.959767e+02\n",
              "MACDdiff_12_26     1.756331e+02\n",
              "Acc/Dist_ROC_10             NaN\n",
              "CCI_10                      NaN\n",
              "dtype: float64"
            ]
          },
          "metadata": {
            "tags": []
          },
          "execution_count": 331
        }
      ]
    },
    {
      "cell_type": "markdown",
      "metadata": {
        "id": "vfZGT9zFbes9"
      },
      "source": [
        "## **Normalizing Data**"
      ]
    },
    {
      "cell_type": "code",
      "metadata": {
        "id": "8tYyjDyjbes-",
        "colab": {
          "base_uri": "https://localhost:8080/",
          "height": 0
        },
        "outputId": "84c250f6-0cae-4e11-cebb-54b6b03da135"
      },
      "source": [
        "data = (df_new - df_new.mean()) / (df_new.max() - df_new.min())\n",
        "data.tail()"
      ],
      "execution_count": 332,
      "outputs": [
        {
          "output_type": "execute_result",
          "data": {
            "text/html": [
              "<div>\n",
              "<style scoped>\n",
              "    .dataframe tbody tr th:only-of-type {\n",
              "        vertical-align: middle;\n",
              "    }\n",
              "\n",
              "    .dataframe tbody tr th {\n",
              "        vertical-align: top;\n",
              "    }\n",
              "\n",
              "    .dataframe thead th {\n",
              "        text-align: right;\n",
              "    }\n",
              "</style>\n",
              "<table border=\"1\" class=\"dataframe\">\n",
              "  <thead>\n",
              "    <tr style=\"text-align: right;\">\n",
              "      <th></th>\n",
              "      <th>&lt;FIRST&gt;</th>\n",
              "      <th>&lt;HIGH&gt;</th>\n",
              "      <th>&lt;LOW&gt;</th>\n",
              "      <th>&lt;CLOSE&gt;</th>\n",
              "      <th>&lt;VALUE&gt;</th>\n",
              "      <th>&lt;VOL&gt;</th>\n",
              "      <th>change_in_price</th>\n",
              "      <th>MA_10</th>\n",
              "      <th>WMA_10</th>\n",
              "      <th>MOM_10</th>\n",
              "      <th>SO_k</th>\n",
              "      <th>SO_10</th>\n",
              "      <th>MACD_12_26</th>\n",
              "      <th>MACDsign_12_26</th>\n",
              "      <th>MACDdiff_12_26</th>\n",
              "      <th>Acc/Dist_ROC_10</th>\n",
              "      <th>CCI_10</th>\n",
              "    </tr>\n",
              "    <tr>\n",
              "      <th>datetime</th>\n",
              "      <th></th>\n",
              "      <th></th>\n",
              "      <th></th>\n",
              "      <th></th>\n",
              "      <th></th>\n",
              "      <th></th>\n",
              "      <th></th>\n",
              "      <th></th>\n",
              "      <th></th>\n",
              "      <th></th>\n",
              "      <th></th>\n",
              "      <th></th>\n",
              "      <th></th>\n",
              "      <th></th>\n",
              "      <th></th>\n",
              "      <th></th>\n",
              "      <th></th>\n",
              "    </tr>\n",
              "  </thead>\n",
              "  <tbody>\n",
              "    <tr>\n",
              "      <th>2020-05-26</th>\n",
              "      <td>0.486527</td>\n",
              "      <td>0.488735</td>\n",
              "      <td>0.501795</td>\n",
              "      <td>0.537230</td>\n",
              "      <td>-0.016439</td>\n",
              "      <td>-0.023801</td>\n",
              "      <td>-0.003275</td>\n",
              "      <td>0.654171</td>\n",
              "      <td>0.636378</td>\n",
              "      <td>-0.108171</td>\n",
              "      <td>NaN</td>\n",
              "      <td>0.039918</td>\n",
              "      <td>0.282535</td>\n",
              "      <td>0.430960</td>\n",
              "      <td>-0.188950</td>\n",
              "      <td>NaN</td>\n",
              "      <td>NaN</td>\n",
              "    </tr>\n",
              "    <tr>\n",
              "      <th>2020-05-27</th>\n",
              "      <td>0.483405</td>\n",
              "      <td>0.515900</td>\n",
              "      <td>0.498607</td>\n",
              "      <td>0.498516</td>\n",
              "      <td>0.073258</td>\n",
              "      <td>0.002540</td>\n",
              "      <td>-0.040705</td>\n",
              "      <td>0.632517</td>\n",
              "      <td>0.624074</td>\n",
              "      <td>-0.176150</td>\n",
              "      <td>NaN</td>\n",
              "      <td>0.027478</td>\n",
              "      <td>0.240601</td>\n",
              "      <td>0.401001</td>\n",
              "      <td>-0.224005</td>\n",
              "      <td>NaN</td>\n",
              "      <td>NaN</td>\n",
              "    </tr>\n",
              "    <tr>\n",
              "      <th>2020-05-30</th>\n",
              "      <td>0.487688</td>\n",
              "      <td>0.523473</td>\n",
              "      <td>0.502980</td>\n",
              "      <td>0.534692</td>\n",
              "      <td>0.044759</td>\n",
              "      <td>-0.006653</td>\n",
              "      <td>0.036956</td>\n",
              "      <td>0.620476</td>\n",
              "      <td>0.621492</td>\n",
              "      <td>-0.099426</td>\n",
              "      <td>NaN</td>\n",
              "      <td>0.022712</td>\n",
              "      <td>0.218296</td>\n",
              "      <td>0.371840</td>\n",
              "      <td>-0.218073</td>\n",
              "      <td>NaN</td>\n",
              "      <td>NaN</td>\n",
              "    </tr>\n",
              "    <tr>\n",
              "      <th>2020-05-31</th>\n",
              "      <td>0.548932</td>\n",
              "      <td>0.560655</td>\n",
              "      <td>0.555445</td>\n",
              "      <td>0.570173</td>\n",
              "      <td>0.129922</td>\n",
              "      <td>0.015571</td>\n",
              "      <td>0.036235</td>\n",
              "      <td>0.616625</td>\n",
              "      <td>0.626720</td>\n",
              "      <td>-0.034045</td>\n",
              "      <td>NaN</td>\n",
              "      <td>0.018408</td>\n",
              "      <td>0.211368</td>\n",
              "      <td>0.346898</td>\n",
              "      <td>-0.186714</td>\n",
              "      <td>NaN</td>\n",
              "      <td>NaN</td>\n",
              "    </tr>\n",
              "    <tr>\n",
              "      <th>2020-06-01</th>\n",
              "      <td>0.600369</td>\n",
              "      <td>0.597117</td>\n",
              "      <td>0.618004</td>\n",
              "      <td>0.589652</td>\n",
              "      <td>0.006472</td>\n",
              "      <td>-0.018063</td>\n",
              "      <td>0.019642</td>\n",
              "      <td>0.620054</td>\n",
              "      <td>0.635028</td>\n",
              "      <td>0.024055</td>\n",
              "      <td>NaN</td>\n",
              "      <td>0.018408</td>\n",
              "      <td>0.210650</td>\n",
              "      <td>0.326777</td>\n",
              "      <td>-0.150875</td>\n",
              "      <td>NaN</td>\n",
              "      <td>NaN</td>\n",
              "    </tr>\n",
              "  </tbody>\n",
              "</table>\n",
              "</div>"
            ],
            "text/plain": [
              "             <FIRST>    <HIGH>  ...  Acc/Dist_ROC_10  CCI_10\n",
              "datetime                        ...                         \n",
              "2020-05-26  0.486527  0.488735  ...              NaN     NaN\n",
              "2020-05-27  0.483405  0.515900  ...              NaN     NaN\n",
              "2020-05-30  0.487688  0.523473  ...              NaN     NaN\n",
              "2020-05-31  0.548932  0.560655  ...              NaN     NaN\n",
              "2020-06-01  0.600369  0.597117  ...              NaN     NaN\n",
              "\n",
              "[5 rows x 17 columns]"
            ]
          },
          "metadata": {
            "tags": []
          },
          "execution_count": 332
        }
      ]
    },
    {
      "cell_type": "code",
      "metadata": {
        "id": "YcwrDXOzbetB",
        "colab": {
          "base_uri": "https://localhost:8080/",
          "height": 0
        },
        "outputId": "e1c97e14-d9ab-44f3-92df-8834fe1447dd"
      },
      "source": [
        "import seaborn as sns\n",
        "plt.figure(1 , figsize = (17 , 8))\n",
        "cor = sns.heatmap(data.corr(), annot = True)"
      ],
      "execution_count": 333,
      "outputs": [
        {
          "output_type": "display_data",
          "data": {
            "image/png": "[encoded data removed]",
            "text/plain": [
              "<Figure size 1224x576 with 2 Axes>"
            ]
          },
          "metadata": {
            "tags": [],
            "needs_background": "light"
          }
        }
      ]
    },
    {
      "cell_type": "code",
      "metadata": {
        "id": "Nw7aDwgebetG",
        "colab": {
          "base_uri": "https://localhost:8080/"
        },
        "outputId": "493d847d-8e82-4f44-fc6c-3253e5e382b3"
      },
      "source": [
        "#To check null values\n",
        "data.isnull().sum()"
      ],
      "execution_count": 334,
      "outputs": [
        {
          "output_type": "execute_result",
          "data": {
            "text/plain": [
              "<FIRST>               0\n",
              "<HIGH>                0\n",
              "<LOW>                 0\n",
              "<CLOSE>               0\n",
              "<VALUE>               0\n",
              "<VOL>                 0\n",
              "change_in_price       1\n",
              "MA_10                 9\n",
              "WMA_10                9\n",
              "MOM_10               10\n",
              "SO_k               1535\n",
              "SO_10                18\n",
              "MACD_12_26           25\n",
              "MACDsign_12_26       33\n",
              "MACDdiff_12_26       33\n",
              "Acc/Dist_ROC_10    1535\n",
              "CCI_10             1535\n",
              "dtype: int64"
            ]
          },
          "metadata": {
            "tags": []
          },
          "execution_count": 334
        }
      ]
    },
    {
      "cell_type": "code",
      "metadata": {
        "id": "QN8FItuAbetJ"
      },
      "source": [
        "#Removing the null values\n",
        "data = data.fillna(data.mean())"
      ],
      "execution_count": 335,
      "outputs": []
    },
    {
      "cell_type": "code",
      "metadata": {
        "id": "shbMSgnWbetN"
      },
      "source": [
        "data = data.dropna(how=\"all\",axis=1)"
      ],
      "execution_count": 336,
      "outputs": []
    },
    {
      "cell_type": "code",
      "metadata": {
        "id": "hKHZhcd8betR",
        "colab": {
          "base_uri": "https://localhost:8080/",
          "height": 0
        },
        "outputId": "af1ab504-ee47-4612-a7df-1f264b16013c"
      },
      "source": [
        "##Defining the features and labels\n",
        "X = data.iloc[:,7:]\n",
        "X.tail()"
      ],
      "execution_count": 337,
      "outputs": [
        {
          "output_type": "execute_result",
          "data": {
            "text/html": [
              "<div>\n",
              "<style scoped>\n",
              "    .dataframe tbody tr th:only-of-type {\n",
              "        vertical-align: middle;\n",
              "    }\n",
              "\n",
              "    .dataframe tbody tr th {\n",
              "        vertical-align: top;\n",
              "    }\n",
              "\n",
              "    .dataframe thead th {\n",
              "        text-align: right;\n",
              "    }\n",
              "</style>\n",
              "<table border=\"1\" class=\"dataframe\">\n",
              "  <thead>\n",
              "    <tr style=\"text-align: right;\">\n",
              "      <th></th>\n",
              "      <th>MA_10</th>\n",
              "      <th>WMA_10</th>\n",
              "      <th>MOM_10</th>\n",
              "      <th>SO_10</th>\n",
              "      <th>MACD_12_26</th>\n",
              "      <th>MACDsign_12_26</th>\n",
              "      <th>MACDdiff_12_26</th>\n",
              "    </tr>\n",
              "    <tr>\n",
              "      <th>datetime</th>\n",
              "      <th></th>\n",
              "      <th></th>\n",
              "      <th></th>\n",
              "      <th></th>\n",
              "      <th></th>\n",
              "      <th></th>\n",
              "      <th></th>\n",
              "    </tr>\n",
              "  </thead>\n",
              "  <tbody>\n",
              "    <tr>\n",
              "      <th>2020-05-26</th>\n",
              "      <td>0.654171</td>\n",
              "      <td>0.636378</td>\n",
              "      <td>-0.108171</td>\n",
              "      <td>0.039918</td>\n",
              "      <td>0.282535</td>\n",
              "      <td>0.430960</td>\n",
              "      <td>-0.188950</td>\n",
              "    </tr>\n",
              "    <tr>\n",
              "      <th>2020-05-27</th>\n",
              "      <td>0.632517</td>\n",
              "      <td>0.624074</td>\n",
              "      <td>-0.176150</td>\n",
              "      <td>0.027478</td>\n",
              "      <td>0.240601</td>\n",
              "      <td>0.401001</td>\n",
              "      <td>-0.224005</td>\n",
              "    </tr>\n",
              "    <tr>\n",
              "      <th>2020-05-30</th>\n",
              "      <td>0.620476</td>\n",
              "      <td>0.621492</td>\n",
              "      <td>-0.099426</td>\n",
              "      <td>0.022712</td>\n",
              "      <td>0.218296</td>\n",
              "      <td>0.371840</td>\n",
              "      <td>-0.218073</td>\n",
              "    </tr>\n",
              "    <tr>\n",
              "      <th>2020-05-31</th>\n",
              "      <td>0.616625</td>\n",
              "      <td>0.626720</td>\n",
              "      <td>-0.034045</td>\n",
              "      <td>0.018408</td>\n",
              "      <td>0.211368</td>\n",
              "      <td>0.346898</td>\n",
              "      <td>-0.186714</td>\n",
              "    </tr>\n",
              "    <tr>\n",
              "      <th>2020-06-01</th>\n",
              "      <td>0.620054</td>\n",
              "      <td>0.635028</td>\n",
              "      <td>0.024055</td>\n",
              "      <td>0.018408</td>\n",
              "      <td>0.210650</td>\n",
              "      <td>0.326777</td>\n",
              "      <td>-0.150875</td>\n",
              "    </tr>\n",
              "  </tbody>\n",
              "</table>\n",
              "</div>"
            ],
            "text/plain": [
              "               MA_10    WMA_10  ...  MACDsign_12_26  MACDdiff_12_26\n",
              "datetime                        ...                                \n",
              "2020-05-26  0.654171  0.636378  ...        0.430960       -0.188950\n",
              "2020-05-27  0.632517  0.624074  ...        0.401001       -0.224005\n",
              "2020-05-30  0.620476  0.621492  ...        0.371840       -0.218073\n",
              "2020-05-31  0.616625  0.626720  ...        0.346898       -0.186714\n",
              "2020-06-01  0.620054  0.635028  ...        0.326777       -0.150875\n",
              "\n",
              "[5 rows x 7 columns]"
            ]
          },
          "metadata": {
            "tags": []
          },
          "execution_count": 337
        }
      ]
    },
    {
      "cell_type": "code",
      "metadata": {
        "id": "-RGklbtnbetV",
        "colab": {
          "base_uri": "https://localhost:8080/"
        },
        "outputId": "79fe59dd-59e9-4314-9b5d-3b93a45cd20c"
      },
      "source": [
        "Y = data.iloc[:,3]\n",
        "Y.tail()"
      ],
      "execution_count": 338,
      "outputs": [
        {
          "output_type": "execute_result",
          "data": {
            "text/plain": [
              "datetime\n",
              "2020-05-26    0.537230\n",
              "2020-05-27    0.498516\n",
              "2020-05-30    0.534692\n",
              "2020-05-31    0.570173\n",
              "2020-06-01    0.589652\n",
              "Name: <CLOSE>, dtype: float64"
            ]
          },
          "metadata": {
            "tags": []
          },
          "execution_count": 338
        }
      ]
    },
    {
      "cell_type": "code",
      "metadata": {
        "id": "1Tn80CwmbetX",
        "colab": {
          "base_uri": "https://localhost:8080/"
        },
        "outputId": "6c091592-c7d9-436d-8c75-5e6aca099ae2"
      },
      "source": [
        "X.isnull().sum()"
      ],
      "execution_count": 339,
      "outputs": [
        {
          "output_type": "execute_result",
          "data": {
            "text/plain": [
              "MA_10             0\n",
              "WMA_10            0\n",
              "MOM_10            0\n",
              "SO_10             0\n",
              "MACD_12_26        0\n",
              "MACDsign_12_26    0\n",
              "MACDdiff_12_26    0\n",
              "dtype: int64"
            ]
          },
          "metadata": {
            "tags": []
          },
          "execution_count": 339
        }
      ]
    },
    {
      "cell_type": "markdown",
      "metadata": {
        "id": "IRkULxA7sCFy"
      },
      "source": [
        "## Visualising the technical indicators i.e. our features"
      ]
    },
    {
      "cell_type": "code",
      "metadata": {
        "id": "0UP3raQjr7Ty",
        "colab": {
          "base_uri": "https://localhost:8080/",
          "height": 1000
        },
        "outputId": "c7f14970-51ec-4c12-f706-f649650d793a"
      },
      "source": [
        "X.hist(bins=50,figsize=(20,15))"
      ],
      "execution_count": 340,
      "outputs": [
        {
          "output_type": "execute_result",
          "data": {
            "text/plain": [
              "array([[<matplotlib.axes._subplots.AxesSubplot object at 0x7fe41e3d7f60>,\n",
              "        <matplotlib.axes._subplots.AxesSubplot object at 0x7fe41e3685c0>,\n",
              "        <matplotlib.axes._subplots.AxesSubplot object at 0x7fe41e348908>],\n",
              "       [<matplotlib.axes._subplots.AxesSubplot object at 0x7fe41e2fbc88>,\n",
              "        <matplotlib.axes._subplots.AxesSubplot object at 0x7fe41e2adfd0>,\n",
              "        <matplotlib.axes._subplots.AxesSubplot object at 0x7fe41e26c3c8>],\n",
              "       [<matplotlib.axes._subplots.AxesSubplot object at 0x7fe41e29d748>,\n",
              "        <matplotlib.axes._subplots.AxesSubplot object at 0x7fe41e24ea90>,\n",
              "        <matplotlib.axes._subplots.AxesSubplot object at 0x7fe41e24eb00>]],\n",
              "      dtype=object)"
            ]
          },
          "metadata": {
            "tags": []
          },
          "execution_count": 340
        },
        {
          "output_type": "display_data",
          "data": {
            "image/png": "[encoded data removed]",
            "text/plain": [
              "<Figure size 1440x1080 with 9 Axes>"
            ]
          },
          "metadata": {
            "tags": [],
            "needs_background": "light"
          }
        }
      ]
    },
    {
      "cell_type": "code",
      "metadata": {
        "id": "QjK-zRQgbeta"
      },
      "source": [
        "#Splitting data into training and test set\n",
        "#from sklearn.model_selection import train_test_split\n",
        "total_days = len(X)\n",
        "hold_days=30\n",
        "x_train = X[0:(total_days-hold_days)]\n",
        "y_train = Y[0:(total_days-hold_days)]"
      ],
      "execution_count": 341,
      "outputs": []
    },
    {
      "cell_type": "markdown",
      "metadata": {
        "id": "bdSjkPr_betc"
      },
      "source": [
        "# Predicting using Decision Trees"
      ]
    },
    {
      "cell_type": "code",
      "metadata": {
        "id": "7RX-ujiabetd",
        "colab": {
          "base_uri": "https://localhost:8080/"
        },
        "outputId": "4a584d7e-8d1a-4923-bb96-81595cbdfc25"
      },
      "source": [
        "#Decision Tree\n",
        "from sklearn.tree import DecisionTreeRegressor\n",
        "Regressor = DecisionTreeRegressor(max_depth=10)\n",
        "Regressor.fit(x_train,y_train)"
      ],
      "execution_count": 342,
      "outputs": [
        {
          "output_type": "execute_result",
          "data": {
            "text/plain": [
              "DecisionTreeRegressor(ccp_alpha=0.0, criterion='mse', max_depth=10,\n",
              "                      max_features=None, max_leaf_nodes=None,\n",
              "                      min_impurity_decrease=0.0, min_impurity_split=None,\n",
              "                      min_samples_leaf=1, min_samples_split=2,\n",
              "                      min_weight_fraction_leaf=0.0, presort='deprecated',\n",
              "                      random_state=None, splitter='best')"
            ]
          },
          "metadata": {
            "tags": []
          },
          "execution_count": 342
        }
      ]
    },
    {
      "cell_type": "markdown",
      "metadata": {
        "id": "tmAA0_rPbetl"
      },
      "source": [
        "## Evaluating the Model"
      ]
    },
    {
      "cell_type": "code",
      "metadata": {
        "id": "pCwX7Hwpbetm",
        "colab": {
          "base_uri": "https://localhost:8080/"
        },
        "outputId": "250e5fc2-07f6-4f35-861b-a639d9588211"
      },
      "source": [
        "y_pred = Regressor.predict(X)\n",
        "from sklearn.metrics import r2_score,mean_squared_error\n",
        "mse = mean_squared_error(Y,y_pred)\n",
        "rmse = np.sqrt(mse)\n",
        "rmse"
      ],
      "execution_count": 343,
      "outputs": [
        {
          "output_type": "execute_result",
          "data": {
            "text/plain": [
              "0.024276056304326873"
            ]
          },
          "metadata": {
            "tags": []
          },
          "execution_count": 343
        }
      ]
    },
    {
      "cell_type": "code",
      "metadata": {
        "id": "EW6CbXYgSzMZ",
        "colab": {
          "base_uri": "https://localhost:8080/",
          "height": 265
        },
        "outputId": "d63fa6e4-5f60-4a5b-f217-4296cdd7fdc7"
      },
      "source": [
        "plt.plot(X.index,Y)\n",
        "plt.plot(X.index, y_pred, c='#f5ef42')\n",
        "plt.show()"
      ],
      "execution_count": 344,
      "outputs": [
        {
          "output_type": "display_data",
          "data": {
            "image/png": "[encoded data removed]",
            "text/plain": [
              "<Figure size 432x288 with 1 Axes>"
            ]
          },
          "metadata": {
            "tags": [],
            "needs_background": "light"
          }
        }
      ]
    },
    {
      "cell_type": "markdown",
      "metadata": {
        "id": "CiWT_doibeto"
      },
      "source": [
        "# Using Bagging Regressor"
      ]
    },
    {
      "cell_type": "code",
      "metadata": {
        "id": "6KWr75vGbetp"
      },
      "source": [
        "#import necessary libraries\n",
        "from sklearn.ensemble import BaggingRegressor"
      ],
      "execution_count": 345,
      "outputs": []
    },
    {
      "cell_type": "code",
      "metadata": {
        "id": "6m5OsIUsbetr",
        "colab": {
          "base_uri": "https://localhost:8080/"
        },
        "outputId": "9f96e6ab-a1f9-4ed1-b9c7-6c8141ddcfff"
      },
      "source": [
        "regr = BaggingRegressor(base_estimator=Regressor,\n",
        "n_estimators=50, random_state=0)\n",
        "regr.fit(x_train,y_train)\n",
        "    "
      ],
      "execution_count": 346,
      "outputs": [
        {
          "output_type": "execute_result",
          "data": {
            "text/plain": [
              "BaggingRegressor(base_estimator=DecisionTreeRegressor(ccp_alpha=0.0,\n",
              "                                                      criterion='mse',\n",
              "                                                      max_depth=10,\n",
              "                                                      max_features=None,\n",
              "                                                      max_leaf_nodes=None,\n",
              "                                                      min_impurity_decrease=0.0,\n",
              "                                                      min_impurity_split=None,\n",
              "                                                      min_samples_leaf=1,\n",
              "                                                      min_samples_split=2,\n",
              "                                                      min_weight_fraction_leaf=0.0,\n",
              "                                                      presort='deprecated',\n",
              "                                                      random_state=None,\n",
              "                                                      splitter='best'),\n",
              "                 bootstrap=True, bootstrap_features=False, max_features=1.0,\n",
              "                 max_samples=1.0, n_estimators=50, n_jobs=None, oob_score=False,\n",
              "                 random_state=0, verbose=0, warm_start=False)"
            ]
          },
          "metadata": {
            "tags": []
          },
          "execution_count": 346
        }
      ]
    },
    {
      "cell_type": "markdown",
      "metadata": {
        "id": "KvdNXLTXbetw"
      },
      "source": [
        "## Evaluating Bagging Regressor"
      ]
    },
    {
      "cell_type": "code",
      "metadata": {
        "id": "Af_3vxHkbetx"
      },
      "source": [
        "y_pred_br = regr.predict(X)"
      ],
      "execution_count": 347,
      "outputs": []
    },
    {
      "cell_type": "code",
      "metadata": {
        "id": "PXoR2Bxpbetz",
        "colab": {
          "base_uri": "https://localhost:8080/"
        },
        "outputId": "5bf43ba3-4edb-4513-b735-2f45573c4e72"
      },
      "source": [
        "from sklearn.metrics import r2_score,mean_squared_error\n",
        "mse = mean_squared_error(Y,y_pred_br)\n",
        "rmse = np.sqrt(mse)\n",
        "rmse"
      ],
      "execution_count": 348,
      "outputs": [
        {
          "output_type": "execute_result",
          "data": {
            "text/plain": [
              "0.030000252144912656"
            ]
          },
          "metadata": {
            "tags": []
          },
          "execution_count": 348
        }
      ]
    },
    {
      "cell_type": "code",
      "metadata": {
        "id": "NRz2RSH3fQGM",
        "colab": {
          "base_uri": "https://localhost:8080/",
          "height": 265
        },
        "outputId": "59e14d42-0e2c-4de1-c43d-357435b7ff22"
      },
      "source": [
        "plt.plot(X.index,Y)\n",
        "plt.plot(X.index, y_pred_br, c='#f5ef42')\n",
        "plt.show()"
      ],
      "execution_count": 349,
      "outputs": [
        {
          "output_type": "display_data",
          "data": {
            "image/png": "[encoded data removed]",
            "text/plain": [
              "<Figure size 432x288 with 1 Axes>"
            ]
          },
          "metadata": {
            "tags": [],
            "needs_background": "light"
          }
        }
      ]
    },
    {
      "cell_type": "markdown",
      "metadata": {
        "id": "phoe90D7bet1"
      },
      "source": [
        "# Using Random Forest"
      ]
    },
    {
      "cell_type": "code",
      "metadata": {
        "id": "cM6Op45nbet2",
        "colab": {
          "base_uri": "https://localhost:8080/"
        },
        "outputId": "0a8e31c7-cca2-46b1-b669-67efd31ecfa7"
      },
      "source": [
        "#importing the libraries\n",
        "from sklearn.ensemble import RandomForestRegressor\n",
        "rf = RandomForestRegressor(n_estimators=50,max_depth=10,random_state=1)\n",
        "rf.fit(x_train,y_train)"
      ],
      "execution_count": 350,
      "outputs": [
        {
          "output_type": "execute_result",
          "data": {
            "text/plain": [
              "RandomForestRegressor(bootstrap=True, ccp_alpha=0.0, criterion='mse',\n",
              "                      max_depth=10, max_features='auto', max_leaf_nodes=None,\n",
              "                      max_samples=None, min_impurity_decrease=0.0,\n",
              "                      min_impurity_split=None, min_samples_leaf=1,\n",
              "                      min_samples_split=2, min_weight_fraction_leaf=0.0,\n",
              "                      n_estimators=50, n_jobs=None, oob_score=False,\n",
              "                      random_state=1, verbose=0, warm_start=False)"
            ]
          },
          "metadata": {
            "tags": []
          },
          "execution_count": 350
        }
      ]
    },
    {
      "cell_type": "markdown",
      "metadata": {
        "id": "j4GVbyhAbet9"
      },
      "source": [
        "## Evaluating Random Forest"
      ]
    },
    {
      "cell_type": "code",
      "metadata": {
        "id": "Rp1ihgYjbet-"
      },
      "source": [
        "y_pred_rf = rf.predict(X)\n"
      ],
      "execution_count": 351,
      "outputs": []
    },
    {
      "cell_type": "code",
      "metadata": {
        "id": "J6mI-BUbbeuA",
        "colab": {
          "base_uri": "https://localhost:8080/"
        },
        "outputId": "706486bc-c6f9-4a2c-ac16-b969e38862f1"
      },
      "source": [
        "from sklearn.metrics import r2_score,mean_squared_error\n",
        "mse = mean_squared_error(Y,y_pred_rf)\n",
        "rmse = np.sqrt(mse)\n",
        "rmse"
      ],
      "execution_count": 352,
      "outputs": [
        {
          "output_type": "execute_result",
          "data": {
            "text/plain": [
              "0.029897088706127475"
            ]
          },
          "metadata": {
            "tags": []
          },
          "execution_count": 352
        }
      ]
    },
    {
      "cell_type": "code",
      "metadata": {
        "id": "uj2B69g3gnSx",
        "colab": {
          "base_uri": "https://localhost:8080/",
          "height": 265
        },
        "outputId": "e2227f6a-594f-4926-91dd-7683928df10e"
      },
      "source": [
        "plt.plot(X.index,Y)\n",
        "plt.plot(X.index, y_pred_rf, c='#f5ef42')\n",
        "plt.show()"
      ],
      "execution_count": 353,
      "outputs": [
        {
          "output_type": "display_data",
          "data": {
            "image/png": "[encoded data removed]",
            "text/plain": [
              "<Figure size 432x288 with 1 Axes>"
            ]
          },
          "metadata": {
            "tags": [],
            "needs_background": "light"
          }
        }
      ]
    },
    {
      "cell_type": "markdown",
      "metadata": {
        "id": "6e1uCe8lbeuD"
      },
      "source": [
        " ## Using AdaBoost Regressor"
      ]
    },
    {
      "cell_type": "code",
      "metadata": {
        "id": "uX6q6_kGbeuD",
        "colab": {
          "base_uri": "https://localhost:8080/"
        },
        "outputId": "4336d1a8-8480-440a-f4ab-80cae233e54a"
      },
      "source": [
        "#importing necessary libraries\n",
        "from sklearn.ensemble import AdaBoostRegressor\n",
        "adb_reg = AdaBoostRegressor(base_estimator=Regressor,n_estimators=100,learning_rate=0.1)\n",
        "adb_reg.fit(x_train,y_train)\n",
        "\n"
      ],
      "execution_count": 354,
      "outputs": [
        {
          "output_type": "execute_result",
          "data": {
            "text/plain": [
              "AdaBoostRegressor(base_estimator=DecisionTreeRegressor(ccp_alpha=0.0,\n",
              "                                                       criterion='mse',\n",
              "                                                       max_depth=10,\n",
              "                                                       max_features=None,\n",
              "                                                       max_leaf_nodes=None,\n",
              "                                                       min_impurity_decrease=0.0,\n",
              "                                                       min_impurity_split=None,\n",
              "                                                       min_samples_leaf=1,\n",
              "                                                       min_samples_split=2,\n",
              "                                                       min_weight_fraction_leaf=0.0,\n",
              "                                                       presort='deprecated',\n",
              "                                                       random_state=None,\n",
              "                                                       splitter='best'),\n",
              "                  learning_rate=0.1, loss='linear', n_estimators=100,\n",
              "                  random_state=None)"
            ]
          },
          "metadata": {
            "tags": []
          },
          "execution_count": 354
        }
      ]
    },
    {
      "cell_type": "markdown",
      "metadata": {
        "id": "pTiNntHcbeuH"
      },
      "source": [
        "## Evaluating AdaBoost Regressor"
      ]
    },
    {
      "cell_type": "code",
      "metadata": {
        "id": "pGnz1YOibeuI",
        "colab": {
          "base_uri": "https://localhost:8080/"
        },
        "outputId": "b4f420b9-dfc3-4203-a327-02cc8bf9b454"
      },
      "source": [
        "y_pred_adb = adb_reg.predict(X)\n",
        "from sklearn.metrics import r2_score,mean_squared_error\n",
        "mse = mean_squared_error(Y,y_pred_adb)\n",
        "rmse = np.sqrt(mse)\n",
        "rmse"
      ],
      "execution_count": 355,
      "outputs": [
        {
          "output_type": "execute_result",
          "data": {
            "text/plain": [
              "0.024548970393620216"
            ]
          },
          "metadata": {
            "tags": []
          },
          "execution_count": 355
        }
      ]
    },
    {
      "cell_type": "code",
      "metadata": {
        "id": "BfFSD3AChDmn",
        "colab": {
          "base_uri": "https://localhost:8080/",
          "height": 265
        },
        "outputId": "291a69db-9682-4da4-bde9-bc0bf29e9f85"
      },
      "source": [
        "plt.plot(X.index,Y)\n",
        "plt.plot(X.index, y_pred_adb, c='#f5ef42')\n",
        "plt.show()"
      ],
      "execution_count": 356,
      "outputs": [
        {
          "output_type": "display_data",
          "data": {
            "image/png": "[encoded data removed]",
            "text/plain": [
              "<Figure size 432x288 with 1 Axes>"
            ]
          },
          "metadata": {
            "tags": [],
            "needs_background": "light"
          }
        }
      ]
    },
    {
      "cell_type": "markdown",
      "metadata": {
        "id": "8Q-98ibGbeuJ"
      },
      "source": [
        "## Using Gradient Boosting"
      ]
    },
    {
      "cell_type": "code",
      "metadata": {
        "id": "4StZOXBBbeuK",
        "colab": {
          "base_uri": "https://localhost:8080/"
        },
        "outputId": "43ae9fe8-0125-441f-9248-5f1b1996f746"
      },
      "source": [
        "#importing necessary libraries\n",
        "from sklearn.ensemble import GradientBoostingRegressor\n",
        "gdbt = GradientBoostingRegressor(max_depth=10,learning_rate=0.1,n_estimators=50,random_state=1)\n",
        "gdbt.fit(x_train,y_train)"
      ],
      "execution_count": 357,
      "outputs": [
        {
          "output_type": "execute_result",
          "data": {
            "text/plain": [
              "GradientBoostingRegressor(alpha=0.9, ccp_alpha=0.0, criterion='friedman_mse',\n",
              "                          init=None, learning_rate=0.1, loss='ls', max_depth=10,\n",
              "                          max_features=None, max_leaf_nodes=None,\n",
              "                          min_impurity_decrease=0.0, min_impurity_split=None,\n",
              "                          min_samples_leaf=1, min_samples_split=2,\n",
              "                          min_weight_fraction_leaf=0.0, n_estimators=50,\n",
              "                          n_iter_no_change=None, presort='deprecated',\n",
              "                          random_state=1, subsample=1.0, tol=0.0001,\n",
              "                          validation_fraction=0.1, verbose=0, warm_start=False)"
            ]
          },
          "metadata": {
            "tags": []
          },
          "execution_count": 357
        }
      ]
    },
    {
      "cell_type": "markdown",
      "metadata": {
        "id": "fhjqy5udbeuP"
      },
      "source": [
        "## Evaluating gradient boosting"
      ]
    },
    {
      "cell_type": "code",
      "metadata": {
        "id": "CpcZr0-EbeuQ",
        "colab": {
          "base_uri": "https://localhost:8080/"
        },
        "outputId": "df01be34-936b-4bba-88ff-2829efb9f3ba"
      },
      "source": [
        "y_pred_gdbt = gdbt.predict(X)\n",
        "from sklearn.metrics import r2_score,mean_squared_error\n",
        "mse = mean_squared_error(Y,y_pred_gdbt)\n",
        "rmse = np.sqrt(mse)\n",
        "rmse"
      ],
      "execution_count": 358,
      "outputs": [
        {
          "output_type": "execute_result",
          "data": {
            "text/plain": [
              "0.02729422703095062"
            ]
          },
          "metadata": {
            "tags": []
          },
          "execution_count": 358
        }
      ]
    },
    {
      "cell_type": "markdown",
      "metadata": {
        "id": "GdaVicrEb78c"
      },
      "source": [
        "##Using Deep Learning Models"
      ]
    },
    {
      "cell_type": "code",
      "metadata": {
        "id": "zNH4J9l5cAY6",
        "colab": {
          "base_uri": "https://localhost:8080/"
        },
        "outputId": "1c9c3b4b-9b94-464e-dc68-1976c22c0da3"
      },
      "source": [
        "from google.colab import drive\n",
        "drive.mount('/content/drive')"
      ],
      "execution_count": 359,
      "outputs": [
        {
          "output_type": "stream",
          "text": [
            "Drive already mounted at /content/drive; to attempt to forcibly remount, call drive.mount(\"/content/drive\", force_remount=True).\n"
          ],
          "name": "stdout"
        }
      ]
    },
    {
      "cell_type": "markdown",
      "metadata": {
        "id": "BvTCIFZ6BJgy"
      },
      "source": [
        "### Importing Libraries"
      ]
    },
    {
      "cell_type": "code",
      "metadata": {
        "id": "Y5R1YEo_BMOc"
      },
      "source": [
        "import tensorflow as tf \n",
        "import pandas as pd \n",
        "import numpy as np \n",
        "import matplotlib.pyplot as plt \n",
        "import keras \n",
        "from keras.models import Sequential \n",
        "from keras.layers import Dense \n",
        "from sklearn.metrics import confusion_matrix "
      ],
      "execution_count": 360,
      "outputs": []
    },
    {
      "cell_type": "markdown",
      "metadata": {
        "id": "MqGBMKv0HvVM"
      },
      "source": [
        "## Using LSTM"
      ]
    },
    {
      "cell_type": "markdown",
      "metadata": {
        "id": "B2uIFD452b24"
      },
      "source": [
        "### Importing libraries"
      ]
    },
    {
      "cell_type": "code",
      "metadata": {
        "id": "ccMkltE9ebcw",
        "colab": {
          "base_uri": "https://localhost:8080/"
        },
        "outputId": "d186ef0e-e775-4648-9b58-bde3c0d140c3"
      },
      "source": [
        "pip install nsepy"
      ],
      "execution_count": 361,
      "outputs": [
        {
          "output_type": "stream",
          "text": [
            "Requirement already satisfied: nsepy in /usr/local/lib/python3.6/dist-packages (0.8)\n",
            "Requirement already satisfied: six in /usr/local/lib/python3.6/dist-packages (from nsepy) (1.15.0)\n",
            "Requirement already satisfied: requests in /usr/local/lib/python3.6/dist-packages (from nsepy) (2.23.0)\n",
            "Requirement already satisfied: pandas in /usr/local/lib/python3.6/dist-packages (from nsepy) (1.1.4)\n",
            "Requirement already satisfied: lxml in /usr/local/lib/python3.6/dist-packages (from nsepy) (4.2.6)\n",
            "Requirement already satisfied: click in /usr/local/lib/python3.6/dist-packages (from nsepy) (7.1.2)\n",
            "Requirement already satisfied: numpy in /usr/local/lib/python3.6/dist-packages (from nsepy) (1.18.5)\n",
            "Requirement already satisfied: beautifulsoup4 in /usr/local/lib/python3.6/dist-packages (from nsepy) (4.6.3)\n",
            "Requirement already satisfied: chardet<4,>=3.0.2 in /usr/local/lib/python3.6/dist-packages (from requests->nsepy) (3.0.4)\n",
            "Requirement already satisfied: idna<3,>=2.5 in /usr/local/lib/python3.6/dist-packages (from requests->nsepy) (2.10)\n",
            "Requirement already satisfied: certifi>=2017.4.17 in /usr/local/lib/python3.6/dist-packages (from requests->nsepy) (2020.6.20)\n",
            "Requirement already satisfied: urllib3!=1.25.0,!=1.25.1,<1.26,>=1.21.1 in /usr/local/lib/python3.6/dist-packages (from requests->nsepy) (1.24.3)\n",
            "Requirement already satisfied: python-dateutil>=2.7.3 in /usr/local/lib/python3.6/dist-packages (from pandas->nsepy) (2.8.1)\n",
            "Requirement already satisfied: pytz>=2017.2 in /usr/local/lib/python3.6/dist-packages (from pandas->nsepy) (2018.9)\n"
          ],
          "name": "stdout"
        }
      ]
    },
    {
      "cell_type": "code",
      "metadata": {
        "id": "7fcRAPcyeVTV"
      },
      "source": [
        "from nsepy import get_history as gh\n",
        "import datetime as dt\n",
        "from matplotlib import pyplot as plt\n",
        "from sklearn import model_selection\n",
        "from sklearn.metrics import confusion_matrix\n",
        "from sklearn.preprocessing import StandardScaler\n",
        "from sklearn.model_selection import train_test_split\n",
        "import numpy as np\n",
        "import pandas as pd\n",
        "from sklearn.preprocessing import MinMaxScaler\n",
        "from keras.models import Sequential\n",
        "from keras.layers import Dense\n",
        "from keras.layers import LSTM\n",
        "from keras.layers import Dropout"
      ],
      "execution_count": 362,
      "outputs": []
    },
    {
      "cell_type": "code",
      "metadata": {
        "id": "rpjHV_boZZl8"
      },
      "source": [
        "from sklearn.preprocessing import MinMaxScaler\n",
        "sc = MinMaxScaler(feature_range = (0, 1))\n",
        "X_train_scaled = sc.fit_transform(x_train)"
      ],
      "execution_count": 363,
      "outputs": []
    },
    {
      "cell_type": "code",
      "metadata": {
        "id": "ur_xNnK6Zela"
      },
      "source": [
        "X_train, Y_train = np.array(x_train), np.array(y_train)\n",
        "X_train = np.reshape(X_train, (X_train.shape[0], X_train.shape[1], 1))"
      ],
      "execution_count": 364,
      "outputs": []
    },
    {
      "cell_type": "markdown",
      "metadata": {
        "id": "33TKI23A2NVQ"
      },
      "source": [
        "### Building the LSTM"
      ]
    },
    {
      "cell_type": "code",
      "metadata": {
        "id": "SrT0kjBsc2Pm"
      },
      "source": [
        "regressor = Sequential()\n",
        "regressor.add(LSTM(units = 50, return_sequences = True, input_shape = (x_train.shape[1], 1)))\n",
        "regressor.add(Dropout(0.2))\n",
        "regressor.add(LSTM(units = 50, return_sequences = True))\n",
        "regressor.add(Dropout(0.2))\n",
        "regressor.add(LSTM(units = 50, return_sequences = True))\n",
        "regressor.add(Dropout(0.2))\n",
        "regressor.add(LSTM(units = 50))\n",
        "regressor.add(Dropout(0.2))\n",
        "regressor.add(Dense(units = 1))"
      ],
      "execution_count": 365,
      "outputs": []
    },
    {
      "cell_type": "markdown",
      "metadata": {
        "id": "L_LlaDFB2qDN"
      },
      "source": [
        "### Compiling and training the model defined in the above step.\n",
        "(Iteratively, we can increase or decrease the epochs and batch size to get more accuracy.)"
      ]
    },
    {
      "cell_type": "code",
      "metadata": {
        "id": "NEg-dl9jeOSR",
        "colab": {
          "base_uri": "https://localhost:8080/"
        },
        "outputId": "9daf2b00-141c-47b0-89b5-145faf6941f9"
      },
      "source": [
        "regressor.compile(optimizer = 'adam', loss = 'mean_squared_error')\n",
        "regressor.fit(X_train, Y_train, epochs = 15, batch_size = 32)"
      ],
      "execution_count": 366,
      "outputs": [
        {
          "output_type": "stream",
          "text": [
            "Epoch 1/15\n",
            "48/48 [==============================] - 1s 17ms/step - loss: 0.0132\n",
            "Epoch 2/15\n",
            "48/48 [==============================] - 1s 17ms/step - loss: 0.0016\n",
            "Epoch 3/15\n",
            "48/48 [==============================] - 1s 17ms/step - loss: 0.0014\n",
            "Epoch 4/15\n",
            "48/48 [==============================] - 1s 17ms/step - loss: 0.0013\n",
            "Epoch 5/15\n",
            "48/48 [==============================] - 1s 17ms/step - loss: 0.0013\n",
            "Epoch 6/15\n",
            "48/48 [==============================] - 1s 18ms/step - loss: 0.0014\n",
            "Epoch 7/15\n",
            "48/48 [==============================] - 1s 17ms/step - loss: 0.0013\n",
            "Epoch 8/15\n",
            "48/48 [==============================] - 1s 17ms/step - loss: 0.0014\n",
            "Epoch 9/15\n",
            "48/48 [==============================] - 1s 17ms/step - loss: 0.0014\n",
            "Epoch 10/15\n",
            "48/48 [==============================] - 1s 18ms/step - loss: 0.0013\n",
            "Epoch 11/15\n",
            "48/48 [==============================] - 1s 18ms/step - loss: 0.0013\n",
            "Epoch 12/15\n",
            "48/48 [==============================] - 1s 17ms/step - loss: 0.0011\n",
            "Epoch 13/15\n",
            "48/48 [==============================] - 1s 17ms/step - loss: 0.0015\n",
            "Epoch 14/15\n",
            "48/48 [==============================] - 1s 17ms/step - loss: 0.0012\n",
            "Epoch 15/15\n",
            "48/48 [==============================] - 1s 18ms/step - loss: 0.0014\n"
          ],
          "name": "stdout"
        },
        {
          "output_type": "execute_result",
          "data": {
            "text/plain": [
              "<tensorflow.python.keras.callbacks.History at 0x7fe41d808dd8>"
            ]
          },
          "metadata": {
            "tags": []
          },
          "execution_count": 366
        }
      ]
    },
    {
      "cell_type": "code",
      "metadata": {
        "id": "r2ZrIgaX03cC"
      },
      "source": [
        "X_test = np.array(X)\n",
        "X_test = np.reshape(X_test, (X_test.shape[0],X_test.shape[1], 1))\n",
        "predicted_stock_price = regressor.predict(X_test)"
      ],
      "execution_count": 367,
      "outputs": []
    },
    {
      "cell_type": "code",
      "metadata": {
        "id": "LDrGcESafEp5"
      },
      "source": [
        "real_stock_price = np.asarray(Y)\n",
        "# real_stock_price=real_stock_price.reshape(1167,1)"
      ],
      "execution_count": 368,
      "outputs": []
    },
    {
      "cell_type": "code",
      "metadata": {
        "id": "koD72IuliN0t",
        "colab": {
          "base_uri": "https://localhost:8080/"
        },
        "outputId": "a0b91fc4-9d37-451e-cbb1-f0ba73bc46d4"
      },
      "source": [
        "predicted_stock_price"
      ],
      "execution_count": 369,
      "outputs": [
        {
          "output_type": "execute_result",
          "data": {
            "text/plain": [
              "array([[-0.00334654],\n",
              "       [-0.00334654],\n",
              "       [-0.00334654],\n",
              "       ...,\n",
              "       [ 0.5121825 ],\n",
              "       [ 0.52457035],\n",
              "       [ 0.54023683]], dtype=float32)"
            ]
          },
          "metadata": {
            "tags": []
          },
          "execution_count": 369
        }
      ]
    },
    {
      "cell_type": "code",
      "metadata": {
        "id": "bXqa74JLiSvC",
        "colab": {
          "base_uri": "https://localhost:8080/"
        },
        "outputId": "afd11572-217d-4e9f-c2f1-483727f2b1f2"
      },
      "source": [
        "real_stock_price"
      ],
      "execution_count": 370,
      "outputs": [
        {
          "output_type": "execute_result",
          "data": {
            "text/plain": [
              "array([-0.2366285 , -0.07702791, -0.08848642, ...,  0.5346925 ,\n",
              "        0.57017294,  0.5896524 ])"
            ]
          },
          "metadata": {
            "tags": []
          },
          "execution_count": 370
        }
      ]
    },
    {
      "cell_type": "markdown",
      "metadata": {
        "id": "oWXVsRgp2DcB"
      },
      "source": [
        "### Plotting the results"
      ]
    },
    {
      "cell_type": "code",
      "metadata": {
        "id": "bTm04GWiiU9O",
        "colab": {
          "base_uri": "https://localhost:8080/",
          "height": 621
        },
        "outputId": "c828996b-2ca4-47ed-d1f3-dbd2f3109efb"
      },
      "source": [
        "plt.figure(figsize=(20,10))\n",
        "plt.plot(real_stock_price, color = 'green', label = 'Stock Price')\n",
        "plt.plot(predicted_stock_price, color = 'red', label = 'Predicted Stock Price')\n",
        "plt.title('Stock Price Prediction')\n",
        "plt.xlabel('Trading Day')\n",
        "plt.ylabel('Stock Price')\n",
        "plt.legend()\n",
        "plt.show()"
      ],
      "execution_count": 371,
      "outputs": [
        {
          "output_type": "display_data",
          "data": {
            "image/png": "[encoded data removed]",
            "text/plain": [
              "<Figure size 1440x720 with 1 Axes>"
            ]
          },
          "metadata": {
            "tags": [],
            "needs_background": "light"
          }
        }
      ]
    },
    {
      "cell_type": "code",
      "metadata": {
        "id": "7hCjZ69viYqn",
        "colab": {
          "base_uri": "https://localhost:8080/"
        },
        "outputId": "a69dde35-f63b-4033-c074-96723377b188"
      },
      "source": [
        "from sklearn.metrics import mean_squared_error as MSE\n",
        "rmse = MSE(real_stock_price,predicted_stock_price)**(1/2)\n",
        "rmse"
      ],
      "execution_count": 372,
      "outputs": [
        {
          "output_type": "execute_result",
          "data": {
            "text/plain": [
              "0.028955096257978676"
            ]
          },
          "metadata": {
            "tags": []
          },
          "execution_count": 372
        }
      ]
    }
  ]
}