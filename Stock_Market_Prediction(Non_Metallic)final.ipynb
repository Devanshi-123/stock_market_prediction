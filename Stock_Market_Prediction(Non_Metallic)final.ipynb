{
  "nbformat": 4,
  "nbformat_minor": 0,
  "metadata": {
    "kernelspec": {
      "display_name": "Python 3",
      "language": "python",
      "name": "python3"
    },
    "language_info": {
      "codemirror_mode": {
        "name": "ipython",
        "version": 3
      },
      "file_extension": ".py",
      "mimetype": "text/x-python",
      "name": "python",
      "nbconvert_exporter": "python",
      "pygments_lexer": "ipython3",
      "version": "3.8.3"
    },
    "colab": {
      "name": "Stock_Market_Prediction(Non Metallic)final.ipynb",
      "provenance": [],
      "collapsed_sections": [
        "vfZGT9zFbes9"
      ],
      "toc_visible": true,
      "include_colab_link": true
    }
  },
  "cells": [
    {
      "cell_type": "markdown",
      "metadata": {
        "id": "view-in-github",
        "colab_type": "text"
      },
      "source": [
        "<a href=\"https://colab.research.google.com/github/Devanshi-123/stock_market_prediction/blob/main/Stock_Market_Prediction(Non_Metallic)final.ipynb\" target=\"_parent\"><img src=\"https://colab.research.google.com/assets/colab-badge.svg\" alt=\"Open In Colab\"/></a>"
      ]
    },
    {
      "cell_type": "markdown",
      "metadata": {
        "id": "tieXgez1berr"
      },
      "source": [
        "#  **Stock Market Prediction Using Different Machine Learning And Deep Learning Algorithms**\n"
      ]
    },
    {
      "cell_type": "markdown",
      "metadata": {
        "id": "2501HdlZfGAG"
      },
      "source": [
        "## **Importing the necessary libraries**"
      ]
    },
    {
      "cell_type": "code",
      "metadata": {
        "id": "bExe6rckbers"
      },
      "source": [
        "import pandas as pd\n",
        "import numpy as np\n",
        "import matplotlib.pyplot as plt\n",
        "%matplotlib inline"
      ],
      "execution_count": 373,
      "outputs": []
    },
    {
      "cell_type": "code",
      "metadata": {
        "id": "YoioHTGgcPVu",
        "colab": {
          "base_uri": "https://localhost:8080/"
        },
        "outputId": "fbe787a3-fbf9-46a4-fddf-4e97b80d786a"
      },
      "source": [
        "cd /content/drive/My Drive/Stock Market Prediction(Mini Project)"
      ],
      "execution_count": 374,
      "outputs": [
        {
          "output_type": "stream",
          "text": [
            "/content/drive/My Drive/Stock Market Prediction(Mini Project)\n"
          ],
          "name": "stdout"
        }
      ]
    },
    {
      "cell_type": "markdown",
      "metadata": {
        "id": "c1-boyHyfakV"
      },
      "source": [
        "## **Importing the dataset**"
      ]
    },
    {
      "cell_type": "code",
      "metadata": {
        "id": "1fMnpg-sbery",
        "colab": {
          "base_uri": "https://localhost:8080/"
        },
        "outputId": "495ad81c-9d48-4233-c742-e0f3a7d01a5c"
      },
      "source": [
        "##Non Metallic Dataset\n",
        "df=pd.read_csv(\"Stock_KSIM1.csv\")\n",
        "df.info()"
      ],
      "execution_count": 375,
      "outputs": [
        {
          "output_type": "stream",
          "text": [
            "<class 'pandas.core.frame.DataFrame'>\n",
            "RangeIndex: 3546 entries, 0 to 3545\n",
            "Data columns (total 13 columns):\n",
            " #   Column        Non-Null Count  Dtype  \n",
            "---  ------        --------------  -----  \n",
            " 0   Unnamed: 0    3546 non-null   int64  \n",
            " 1   <TICKER>      3546 non-null   object \n",
            " 2   <DTYYYYMMDD>  3546 non-null   int64  \n",
            " 3   <FIRST>       3546 non-null   float64\n",
            " 4   <HIGH>        3546 non-null   float64\n",
            " 5   <LOW>         3546 non-null   float64\n",
            " 6   <CLOSE>       3546 non-null   float64\n",
            " 7   <VALUE>       3546 non-null   int64  \n",
            " 8   <VOL>         3546 non-null   int64  \n",
            " 9   <OPENINT>     3546 non-null   int64  \n",
            " 10  <PER>         3546 non-null   object \n",
            " 11  <OPEN>        3546 non-null   float64\n",
            " 12  <LAST>        3546 non-null   float64\n",
            "dtypes: float64(6), int64(5), object(2)\n",
            "memory usage: 360.3+ KB\n"
          ],
          "name": "stdout"
        }
      ]
    },
    {
      "cell_type": "code",
      "metadata": {
        "id": "F00sCC1zqlJZ",
        "colab": {
          "base_uri": "https://localhost:8080/",
          "height": 194
        },
        "outputId": "e7d392f7-0b6d-42c0-b239-a19e2438f9a0"
      },
      "source": [
        "df.head()"
      ],
      "execution_count": 376,
      "outputs": [
        {
          "output_type": "execute_result",
          "data": {
            "text/html": [
              "<div>\n",
              "<style scoped>\n",
              "    .dataframe tbody tr th:only-of-type {\n",
              "        vertical-align: middle;\n",
              "    }\n",
              "\n",
              "    .dataframe tbody tr th {\n",
              "        vertical-align: top;\n",
              "    }\n",
              "\n",
              "    .dataframe thead th {\n",
              "        text-align: right;\n",
              "    }\n",
              "</style>\n",
              "<table border=\"1\" class=\"dataframe\">\n",
              "  <thead>\n",
              "    <tr style=\"text-align: right;\">\n",
              "      <th></th>\n",
              "      <th>Unnamed: 0</th>\n",
              "      <th>&lt;TICKER&gt;</th>\n",
              "      <th>&lt;DTYYYYMMDD&gt;</th>\n",
              "      <th>&lt;FIRST&gt;</th>\n",
              "      <th>&lt;HIGH&gt;</th>\n",
              "      <th>&lt;LOW&gt;</th>\n",
              "      <th>&lt;CLOSE&gt;</th>\n",
              "      <th>&lt;VALUE&gt;</th>\n",
              "      <th>&lt;VOL&gt;</th>\n",
              "      <th>&lt;OPENINT&gt;</th>\n",
              "      <th>&lt;PER&gt;</th>\n",
              "      <th>&lt;OPEN&gt;</th>\n",
              "      <th>&lt;LAST&gt;</th>\n",
              "    </tr>\n",
              "  </thead>\n",
              "  <tbody>\n",
              "    <tr>\n",
              "      <th>0</th>\n",
              "      <td>0</td>\n",
              "      <td>Calcimine</td>\n",
              "      <td>20010501</td>\n",
              "      <td>5750.0</td>\n",
              "      <td>5750.0</td>\n",
              "      <td>5750.0</td>\n",
              "      <td>5750.0</td>\n",
              "      <td>575000</td>\n",
              "      <td>100</td>\n",
              "      <td>1</td>\n",
              "      <td>D</td>\n",
              "      <td>5750.0</td>\n",
              "      <td>5750.0</td>\n",
              "    </tr>\n",
              "    <tr>\n",
              "      <th>1</th>\n",
              "      <td>1</td>\n",
              "      <td>Calcimine</td>\n",
              "      <td>20010506</td>\n",
              "      <td>5807.0</td>\n",
              "      <td>5807.0</td>\n",
              "      <td>5807.0</td>\n",
              "      <td>5807.0</td>\n",
              "      <td>9947391</td>\n",
              "      <td>1713</td>\n",
              "      <td>3</td>\n",
              "      <td>D</td>\n",
              "      <td>5750.0</td>\n",
              "      <td>5807.0</td>\n",
              "    </tr>\n",
              "    <tr>\n",
              "      <th>2</th>\n",
              "      <td>2</td>\n",
              "      <td>Calcimine</td>\n",
              "      <td>20010512</td>\n",
              "      <td>5865.0</td>\n",
              "      <td>5865.0</td>\n",
              "      <td>5865.0</td>\n",
              "      <td>5865.0</td>\n",
              "      <td>2991150</td>\n",
              "      <td>510</td>\n",
              "      <td>2</td>\n",
              "      <td>D</td>\n",
              "      <td>5807.0</td>\n",
              "      <td>5865.0</td>\n",
              "    </tr>\n",
              "    <tr>\n",
              "      <th>3</th>\n",
              "      <td>3</td>\n",
              "      <td>Calcimine</td>\n",
              "      <td>20010513</td>\n",
              "      <td>5923.0</td>\n",
              "      <td>5923.0</td>\n",
              "      <td>5923.0</td>\n",
              "      <td>5923.0</td>\n",
              "      <td>11846000</td>\n",
              "      <td>2000</td>\n",
              "      <td>2</td>\n",
              "      <td>D</td>\n",
              "      <td>5865.0</td>\n",
              "      <td>5923.0</td>\n",
              "    </tr>\n",
              "    <tr>\n",
              "      <th>4</th>\n",
              "      <td>4</td>\n",
              "      <td>Calcimine</td>\n",
              "      <td>20010515</td>\n",
              "      <td>5982.0</td>\n",
              "      <td>5982.0</td>\n",
              "      <td>5982.0</td>\n",
              "      <td>5982.0</td>\n",
              "      <td>5982000</td>\n",
              "      <td>1000</td>\n",
              "      <td>1</td>\n",
              "      <td>D</td>\n",
              "      <td>5923.0</td>\n",
              "      <td>5982.0</td>\n",
              "    </tr>\n",
              "  </tbody>\n",
              "</table>\n",
              "</div>"
            ],
            "text/plain": [
              "   Unnamed: 0   <TICKER>  <DTYYYYMMDD>  ...  <PER>  <OPEN>  <LAST>\n",
              "0           0  Calcimine      20010501  ...      D  5750.0  5750.0\n",
              "1           1  Calcimine      20010506  ...      D  5750.0  5807.0\n",
              "2           2  Calcimine      20010512  ...      D  5807.0  5865.0\n",
              "3           3  Calcimine      20010513  ...      D  5865.0  5923.0\n",
              "4           4  Calcimine      20010515  ...      D  5923.0  5982.0\n",
              "\n",
              "[5 rows x 13 columns]"
            ]
          },
          "metadata": {
            "tags": []
          },
          "execution_count": 376
        }
      ]
    },
    {
      "cell_type": "markdown",
      "metadata": {
        "id": "9gsprJSuhGF4"
      },
      "source": [
        "## **Exploratory Data Analysis**"
      ]
    },
    {
      "cell_type": "code",
      "metadata": {
        "id": "3KYyTRW7gcjz",
        "colab": {
          "base_uri": "https://localhost:8080/",
          "height": 282
        },
        "outputId": "de089779-58dd-4ba5-d90b-128665b8c2a7"
      },
      "source": [
        "df.describe()"
      ],
      "execution_count": 377,
      "outputs": [
        {
          "output_type": "execute_result",
          "data": {
            "text/html": [
              "<div>\n",
              "<style scoped>\n",
              "    .dataframe tbody tr th:only-of-type {\n",
              "        vertical-align: middle;\n",
              "    }\n",
              "\n",
              "    .dataframe tbody tr th {\n",
              "        vertical-align: top;\n",
              "    }\n",
              "\n",
              "    .dataframe thead th {\n",
              "        text-align: right;\n",
              "    }\n",
              "</style>\n",
              "<table border=\"1\" class=\"dataframe\">\n",
              "  <thead>\n",
              "    <tr style=\"text-align: right;\">\n",
              "      <th></th>\n",
              "      <th>Unnamed: 0</th>\n",
              "      <th>&lt;DTYYYYMMDD&gt;</th>\n",
              "      <th>&lt;FIRST&gt;</th>\n",
              "      <th>&lt;HIGH&gt;</th>\n",
              "      <th>&lt;LOW&gt;</th>\n",
              "      <th>&lt;CLOSE&gt;</th>\n",
              "      <th>&lt;VALUE&gt;</th>\n",
              "      <th>&lt;VOL&gt;</th>\n",
              "      <th>&lt;OPENINT&gt;</th>\n",
              "      <th>&lt;OPEN&gt;</th>\n",
              "      <th>&lt;LAST&gt;</th>\n",
              "    </tr>\n",
              "  </thead>\n",
              "  <tbody>\n",
              "    <tr>\n",
              "      <th>count</th>\n",
              "      <td>3546.000000</td>\n",
              "      <td>3.546000e+03</td>\n",
              "      <td>3546.000000</td>\n",
              "      <td>3546.000000</td>\n",
              "      <td>3546.000000</td>\n",
              "      <td>3546.000000</td>\n",
              "      <td>3.546000e+03</td>\n",
              "      <td>3.546000e+03</td>\n",
              "      <td>3546.000000</td>\n",
              "      <td>3546.000000</td>\n",
              "      <td>3546.000000</td>\n",
              "    </tr>\n",
              "    <tr>\n",
              "      <th>mean</th>\n",
              "      <td>1772.500000</td>\n",
              "      <td>2.011695e+07</td>\n",
              "      <td>8603.097857</td>\n",
              "      <td>8720.517202</td>\n",
              "      <td>8469.620135</td>\n",
              "      <td>8601.823463</td>\n",
              "      <td>1.865224e+10</td>\n",
              "      <td>2.024808e+06</td>\n",
              "      <td>404.249295</td>\n",
              "      <td>8585.450931</td>\n",
              "      <td>8594.951213</td>\n",
              "    </tr>\n",
              "    <tr>\n",
              "      <th>std</th>\n",
              "      <td>1023.786355</td>\n",
              "      <td>5.191054e+04</td>\n",
              "      <td>6669.430644</td>\n",
              "      <td>6763.880904</td>\n",
              "      <td>6564.485202</td>\n",
              "      <td>6682.042300</td>\n",
              "      <td>5.608826e+10</td>\n",
              "      <td>3.329542e+06</td>\n",
              "      <td>672.187749</td>\n",
              "      <td>6660.965520</td>\n",
              "      <td>6677.021620</td>\n",
              "    </tr>\n",
              "    <tr>\n",
              "      <th>min</th>\n",
              "      <td>0.000000</td>\n",
              "      <td>2.001050e+07</td>\n",
              "      <td>1305.000000</td>\n",
              "      <td>1305.000000</td>\n",
              "      <td>1305.000000</td>\n",
              "      <td>1305.000000</td>\n",
              "      <td>4.518000e+04</td>\n",
              "      <td>1.000000e+01</td>\n",
              "      <td>1.000000</td>\n",
              "      <td>1305.000000</td>\n",
              "      <td>1305.000000</td>\n",
              "    </tr>\n",
              "    <tr>\n",
              "      <th>25%</th>\n",
              "      <td>886.250000</td>\n",
              "      <td>2.007121e+07</td>\n",
              "      <td>3840.000000</td>\n",
              "      <td>3890.000000</td>\n",
              "      <td>3784.000000</td>\n",
              "      <td>3828.000000</td>\n",
              "      <td>1.053480e+09</td>\n",
              "      <td>1.356290e+05</td>\n",
              "      <td>53.000000</td>\n",
              "      <td>3827.250000</td>\n",
              "      <td>3820.000000</td>\n",
              "    </tr>\n",
              "    <tr>\n",
              "      <th>50%</th>\n",
              "      <td>1772.500000</td>\n",
              "      <td>2.012072e+07</td>\n",
              "      <td>7112.000000</td>\n",
              "      <td>7200.000000</td>\n",
              "      <td>7000.000000</td>\n",
              "      <td>7099.500000</td>\n",
              "      <td>4.940772e+09</td>\n",
              "      <td>8.506735e+05</td>\n",
              "      <td>223.000000</td>\n",
              "      <td>7083.000000</td>\n",
              "      <td>7094.000000</td>\n",
              "    </tr>\n",
              "    <tr>\n",
              "      <th>75%</th>\n",
              "      <td>2658.750000</td>\n",
              "      <td>2.016071e+07</td>\n",
              "      <td>10914.500000</td>\n",
              "      <td>11000.000000</td>\n",
              "      <td>10731.500000</td>\n",
              "      <td>10883.000000</td>\n",
              "      <td>1.466050e+10</td>\n",
              "      <td>2.499011e+06</td>\n",
              "      <td>489.750000</td>\n",
              "      <td>10857.750000</td>\n",
              "      <td>10896.750000</td>\n",
              "    </tr>\n",
              "    <tr>\n",
              "      <th>max</th>\n",
              "      <td>3545.000000</td>\n",
              "      <td>2.020060e+07</td>\n",
              "      <td>42650.000000</td>\n",
              "      <td>43000.000000</td>\n",
              "      <td>40660.000000</td>\n",
              "      <td>42504.000000</td>\n",
              "      <td>1.322401e+12</td>\n",
              "      <td>4.071108e+07</td>\n",
              "      <td>14028.000000</td>\n",
              "      <td>42504.000000</td>\n",
              "      <td>42703.000000</td>\n",
              "    </tr>\n",
              "  </tbody>\n",
              "</table>\n",
              "</div>"
            ],
            "text/plain": [
              "        Unnamed: 0  <DTYYYYMMDD>  ...        <OPEN>        <LAST>\n",
              "count  3546.000000  3.546000e+03  ...   3546.000000   3546.000000\n",
              "mean   1772.500000  2.011695e+07  ...   8585.450931   8594.951213\n",
              "std    1023.786355  5.191054e+04  ...   6660.965520   6677.021620\n",
              "min       0.000000  2.001050e+07  ...   1305.000000   1305.000000\n",
              "25%     886.250000  2.007121e+07  ...   3827.250000   3820.000000\n",
              "50%    1772.500000  2.012072e+07  ...   7083.000000   7094.000000\n",
              "75%    2658.750000  2.016071e+07  ...  10857.750000  10896.750000\n",
              "max    3545.000000  2.020060e+07  ...  42504.000000  42703.000000\n",
              "\n",
              "[8 rows x 11 columns]"
            ]
          },
          "metadata": {
            "tags": []
          },
          "execution_count": 377
        }
      ]
    },
    {
      "cell_type": "code",
      "metadata": {
        "id": "mkJ2qxhUTjGJ",
        "colab": {
          "base_uri": "https://localhost:8080/",
          "height": 564
        },
        "outputId": "977c0a81-37c3-4130-e3bc-a1d40809c384"
      },
      "source": [
        "import seaborn as sns\n",
        "plt.figure(1 , figsize = (17 , 8))\n",
        "cor = sns.heatmap(df.corr(), annot = True)"
      ],
      "execution_count": 378,
      "outputs": [
        {
          "output_type": "display_data",
          "data": {
            "image/png": "[encoded data removed]",
            "text/plain": [
              "<Figure size 1224x576 with 2 Axes>"
            ]
          },
          "metadata": {
            "tags": [],
            "needs_background": "light"
          }
        }
      ]
    },
    {
      "cell_type": "code",
      "metadata": {
        "id": "VWy495nCOFQ_",
        "colab": {
          "base_uri": "https://localhost:8080/",
          "height": 223
        },
        "outputId": "c98a42c0-43ec-4805-9dd9-44c201319846"
      },
      "source": [
        "df['datetime'] = pd.to_datetime(df['<DTYYYYMMDD>'], format='%Y%m%d')\n",
        "df.index = df['datetime']\n",
        "df.dropna()\n",
        "df_new = df[[\"<FIRST>\",\"<HIGH>\",\"<LOW>\",\"<CLOSE>\",\"<VALUE>\",\"<VOL>\"]]\n",
        "df_new.head()"
      ],
      "execution_count": 379,
      "outputs": [
        {
          "output_type": "execute_result",
          "data": {
            "text/html": [
              "<div>\n",
              "<style scoped>\n",
              "    .dataframe tbody tr th:only-of-type {\n",
              "        vertical-align: middle;\n",
              "    }\n",
              "\n",
              "    .dataframe tbody tr th {\n",
              "        vertical-align: top;\n",
              "    }\n",
              "\n",
              "    .dataframe thead th {\n",
              "        text-align: right;\n",
              "    }\n",
              "</style>\n",
              "<table border=\"1\" class=\"dataframe\">\n",
              "  <thead>\n",
              "    <tr style=\"text-align: right;\">\n",
              "      <th></th>\n",
              "      <th>&lt;FIRST&gt;</th>\n",
              "      <th>&lt;HIGH&gt;</th>\n",
              "      <th>&lt;LOW&gt;</th>\n",
              "      <th>&lt;CLOSE&gt;</th>\n",
              "      <th>&lt;VALUE&gt;</th>\n",
              "      <th>&lt;VOL&gt;</th>\n",
              "    </tr>\n",
              "    <tr>\n",
              "      <th>datetime</th>\n",
              "      <th></th>\n",
              "      <th></th>\n",
              "      <th></th>\n",
              "      <th></th>\n",
              "      <th></th>\n",
              "      <th></th>\n",
              "    </tr>\n",
              "  </thead>\n",
              "  <tbody>\n",
              "    <tr>\n",
              "      <th>2001-05-01</th>\n",
              "      <td>5750.0</td>\n",
              "      <td>5750.0</td>\n",
              "      <td>5750.0</td>\n",
              "      <td>5750.0</td>\n",
              "      <td>575000</td>\n",
              "      <td>100</td>\n",
              "    </tr>\n",
              "    <tr>\n",
              "      <th>2001-05-06</th>\n",
              "      <td>5807.0</td>\n",
              "      <td>5807.0</td>\n",
              "      <td>5807.0</td>\n",
              "      <td>5807.0</td>\n",
              "      <td>9947391</td>\n",
              "      <td>1713</td>\n",
              "    </tr>\n",
              "    <tr>\n",
              "      <th>2001-05-12</th>\n",
              "      <td>5865.0</td>\n",
              "      <td>5865.0</td>\n",
              "      <td>5865.0</td>\n",
              "      <td>5865.0</td>\n",
              "      <td>2991150</td>\n",
              "      <td>510</td>\n",
              "    </tr>\n",
              "    <tr>\n",
              "      <th>2001-05-13</th>\n",
              "      <td>5923.0</td>\n",
              "      <td>5923.0</td>\n",
              "      <td>5923.0</td>\n",
              "      <td>5923.0</td>\n",
              "      <td>11846000</td>\n",
              "      <td>2000</td>\n",
              "    </tr>\n",
              "    <tr>\n",
              "      <th>2001-05-15</th>\n",
              "      <td>5982.0</td>\n",
              "      <td>5982.0</td>\n",
              "      <td>5982.0</td>\n",
              "      <td>5982.0</td>\n",
              "      <td>5982000</td>\n",
              "      <td>1000</td>\n",
              "    </tr>\n",
              "  </tbody>\n",
              "</table>\n",
              "</div>"
            ],
            "text/plain": [
              "            <FIRST>  <HIGH>   <LOW>  <CLOSE>   <VALUE>  <VOL>\n",
              "datetime                                                     \n",
              "2001-05-01   5750.0  5750.0  5750.0   5750.0    575000    100\n",
              "2001-05-06   5807.0  5807.0  5807.0   5807.0   9947391   1713\n",
              "2001-05-12   5865.0  5865.0  5865.0   5865.0   2991150    510\n",
              "2001-05-13   5923.0  5923.0  5923.0   5923.0  11846000   2000\n",
              "2001-05-15   5982.0  5982.0  5982.0   5982.0   5982000   1000"
            ]
          },
          "metadata": {
            "tags": []
          },
          "execution_count": 379
        }
      ]
    },
    {
      "cell_type": "code",
      "metadata": {
        "id": "hLz42nBYber_",
        "colab": {
          "base_uri": "https://localhost:8080/"
        },
        "outputId": "f2891bcf-8874-4de9-95b8-b1148bb2fa25"
      },
      "source": [
        "df_new.shape"
      ],
      "execution_count": 380,
      "outputs": [
        {
          "output_type": "execute_result",
          "data": {
            "text/plain": [
              "(3546, 6)"
            ]
          },
          "metadata": {
            "tags": []
          },
          "execution_count": 380
        }
      ]
    },
    {
      "cell_type": "code",
      "metadata": {
        "id": "kvkvBjzCbesH",
        "colab": {
          "base_uri": "https://localhost:8080/"
        },
        "outputId": "2999886c-2008-467b-953c-8480f2bb2038"
      },
      "source": [
        "#Calculating the change in price\n",
        "df_new['change_in_price'] = df_new['<CLOSE>'].diff()"
      ],
      "execution_count": 381,
      "outputs": [
        {
          "output_type": "stream",
          "text": [
            "/usr/local/lib/python3.6/dist-packages/ipykernel_launcher.py:2: SettingWithCopyWarning: \n",
            "A value is trying to be set on a copy of a slice from a DataFrame.\n",
            "Try using .loc[row_indexer,col_indexer] = value instead\n",
            "\n",
            "See the caveats in the documentation: https://pandas.pydata.org/pandas-docs/stable/user_guide/indexing.html#returning-a-view-versus-a-copy\n",
            "  \n"
          ],
          "name": "stderr"
        }
      ]
    },
    {
      "cell_type": "markdown",
      "metadata": {
        "id": "6Q4sHYAVhXdc"
      },
      "source": [
        "## **Data Visualisation**"
      ]
    },
    {
      "cell_type": "code",
      "metadata": {
        "id": "xvmCMSnkZO6R",
        "colab": {
          "base_uri": "https://localhost:8080/",
          "height": 500
        },
        "outputId": "a51e4d74-afe6-496e-f16b-f5f1e1df5fc2"
      },
      "source": [
        "plt.figure(figsize=(16,8))\n",
        "plt.plot(df_new['change_in_price'], label='Change In Price')"
      ],
      "execution_count": 382,
      "outputs": [
        {
          "output_type": "execute_result",
          "data": {
            "text/plain": [
              "[<matplotlib.lines.Line2D at 0x7fe41bc3df28>]"
            ]
          },
          "metadata": {
            "tags": []
          },
          "execution_count": 382
        },
        {
          "output_type": "display_data",
          "data": {
            "image/png": "[encoded data removed]",
            "text/plain": [
              "<Figure size 1152x576 with 1 Axes>"
            ]
          },
          "metadata": {
            "tags": [],
            "needs_background": "light"
          }
        }
      ]
    },
    {
      "cell_type": "code",
      "metadata": {
        "id": "AiDa4AToWnzp",
        "colab": {
          "base_uri": "https://localhost:8080/",
          "height": 500
        },
        "outputId": "a8257b09-3059-4dd5-e218-90df4254122c"
      },
      "source": [
        "plt.figure(figsize=(16,8))\n",
        "plt.plot(df_new['<CLOSE>'], label='Close Price history')"
      ],
      "execution_count": 383,
      "outputs": [
        {
          "output_type": "execute_result",
          "data": {
            "text/plain": [
              "[<matplotlib.lines.Line2D at 0x7fe41bbd2ba8>]"
            ]
          },
          "metadata": {
            "tags": []
          },
          "execution_count": 383
        },
        {
          "output_type": "display_data",
          "data": {
            "image/png": "[encoded data removed]",
            "text/plain": [
              "<Figure size 1152x576 with 1 Axes>"
            ]
          },
          "metadata": {
            "tags": [],
            "needs_background": "light"
          }
        }
      ]
    },
    {
      "cell_type": "markdown",
      "metadata": {
        "id": "1vZkESASbesL"
      },
      "source": [
        "## **Calculating the technical indicators**"
      ]
    },
    {
      "cell_type": "code",
      "metadata": {
        "id": "iqjLW__ObesM",
        "colab": {
          "base_uri": "https://localhost:8080/",
          "height": 223
        },
        "outputId": "5e90f2b4-5ab2-4fba-db67-fc7969c9f2c9"
      },
      "source": [
        "#1. Simple n day moving average\n",
        "#A moving average (MA) is a widely used technical indicator that smooths out price trends by filtering out the “noise” from random short-term price fluctuations.\n",
        "##The most common applications of moving averages are to identify trend direction and to determine support and resistance levels.\n",
        "def moving_average(df, n):\n",
        "    \"\"\"Calculate the moving average for the given data.\n",
        "    :param df: pandas.DataFrame\n",
        "    :param n:\n",
        "    :return: pandas.DataFrame\n",
        "    \"\"\"\n",
        "    MA = pd.Series(df['<CLOSE>'].rolling(n, min_periods=n).mean(), name='MA_' + str(n))\n",
        "    df = df.join(MA)\n",
        "    return df\n",
        "df_new = moving_average(df_new,10)\n",
        "df_new.tail()"
      ],
      "execution_count": 384,
      "outputs": [
        {
          "output_type": "execute_result",
          "data": {
            "text/html": [
              "<div>\n",
              "<style scoped>\n",
              "    .dataframe tbody tr th:only-of-type {\n",
              "        vertical-align: middle;\n",
              "    }\n",
              "\n",
              "    .dataframe tbody tr th {\n",
              "        vertical-align: top;\n",
              "    }\n",
              "\n",
              "    .dataframe thead th {\n",
              "        text-align: right;\n",
              "    }\n",
              "</style>\n",
              "<table border=\"1\" class=\"dataframe\">\n",
              "  <thead>\n",
              "    <tr style=\"text-align: right;\">\n",
              "      <th></th>\n",
              "      <th>&lt;FIRST&gt;</th>\n",
              "      <th>&lt;HIGH&gt;</th>\n",
              "      <th>&lt;LOW&gt;</th>\n",
              "      <th>&lt;CLOSE&gt;</th>\n",
              "      <th>&lt;VALUE&gt;</th>\n",
              "      <th>&lt;VOL&gt;</th>\n",
              "      <th>change_in_price</th>\n",
              "      <th>MA_10</th>\n",
              "    </tr>\n",
              "    <tr>\n",
              "      <th>datetime</th>\n",
              "      <th></th>\n",
              "      <th></th>\n",
              "      <th></th>\n",
              "      <th></th>\n",
              "      <th></th>\n",
              "      <th></th>\n",
              "      <th></th>\n",
              "      <th></th>\n",
              "    </tr>\n",
              "  </thead>\n",
              "  <tbody>\n",
              "    <tr>\n",
              "      <th>2020-05-26</th>\n",
              "      <td>34051.0</td>\n",
              "      <td>35000.0</td>\n",
              "      <td>33429.0</td>\n",
              "      <td>33887.0</td>\n",
              "      <td>91075271139</td>\n",
              "      <td>2688840</td>\n",
              "      <td>-1301.0</td>\n",
              "      <td>35695.6</td>\n",
              "    </tr>\n",
              "    <tr>\n",
              "      <th>2020-05-27</th>\n",
              "      <td>32466.0</td>\n",
              "      <td>35565.0</td>\n",
              "      <td>32466.0</td>\n",
              "      <td>35051.0</td>\n",
              "      <td>188533230075</td>\n",
              "      <td>5378788</td>\n",
              "      <td>1164.0</td>\n",
              "      <td>35527.1</td>\n",
              "    </tr>\n",
              "    <tr>\n",
              "      <th>2020-05-30</th>\n",
              "      <td>36803.0</td>\n",
              "      <td>36803.0</td>\n",
              "      <td>36803.0</td>\n",
              "      <td>36803.0</td>\n",
              "      <td>112049162498</td>\n",
              "      <td>3044566</td>\n",
              "      <td>1752.0</td>\n",
              "      <td>35706.8</td>\n",
              "    </tr>\n",
              "    <tr>\n",
              "      <th>2020-05-31</th>\n",
              "      <td>38643.0</td>\n",
              "      <td>38643.0</td>\n",
              "      <td>36810.0</td>\n",
              "      <td>38615.0</td>\n",
              "      <td>771614696040</td>\n",
              "      <td>19982276</td>\n",
              "      <td>1812.0</td>\n",
              "      <td>36009.5</td>\n",
              "    </tr>\n",
              "    <tr>\n",
              "      <th>2020-06-01</th>\n",
              "      <td>40490.0</td>\n",
              "      <td>40545.0</td>\n",
              "      <td>38700.0</td>\n",
              "      <td>40451.0</td>\n",
              "      <td>266346818518</td>\n",
              "      <td>6584463</td>\n",
              "      <td>1836.0</td>\n",
              "      <td>36637.2</td>\n",
              "    </tr>\n",
              "  </tbody>\n",
              "</table>\n",
              "</div>"
            ],
            "text/plain": [
              "            <FIRST>   <HIGH>    <LOW>  ...     <VOL>  change_in_price    MA_10\n",
              "datetime                               ...                                    \n",
              "2020-05-26  34051.0  35000.0  33429.0  ...   2688840          -1301.0  35695.6\n",
              "2020-05-27  32466.0  35565.0  32466.0  ...   5378788           1164.0  35527.1\n",
              "2020-05-30  36803.0  36803.0  36803.0  ...   3044566           1752.0  35706.8\n",
              "2020-05-31  38643.0  38643.0  36810.0  ...  19982276           1812.0  36009.5\n",
              "2020-06-01  40490.0  40545.0  38700.0  ...   6584463           1836.0  36637.2\n",
              "\n",
              "[5 rows x 8 columns]"
            ]
          },
          "metadata": {
            "tags": []
          },
          "execution_count": 384
        }
      ]
    },
    {
      "cell_type": "code",
      "metadata": {
        "id": "080HB4bObesP",
        "colab": {
          "base_uri": "https://localhost:8080/",
          "height": 223
        },
        "outputId": "f7283039-3ecb-4ae1-b39f-42758233b9fa"
      },
      "source": [
        "#2. Weighted Moving Average (WMA)\n",
        "def weighted_moving_average(df, n):\n",
        "    \"\"\"\n",
        "    :param df: pandas.DataFrame\n",
        "    :param n:\n",
        "    :return: pandas.DataFrame\n",
        "    \"\"\"\n",
        "    WMA = pd.Series(df['<CLOSE>'].ewm(span=n, min_periods=n).mean(), name='WMA_' + str(n))\n",
        "    df = df.join(WMA)\n",
        "    return df\n",
        "df_new = weighted_moving_average(df_new,10)\n",
        "df_new.tail()"
      ],
      "execution_count": 385,
      "outputs": [
        {
          "output_type": "execute_result",
          "data": {
            "text/html": [
              "<div>\n",
              "<style scoped>\n",
              "    .dataframe tbody tr th:only-of-type {\n",
              "        vertical-align: middle;\n",
              "    }\n",
              "\n",
              "    .dataframe tbody tr th {\n",
              "        vertical-align: top;\n",
              "    }\n",
              "\n",
              "    .dataframe thead th {\n",
              "        text-align: right;\n",
              "    }\n",
              "</style>\n",
              "<table border=\"1\" class=\"dataframe\">\n",
              "  <thead>\n",
              "    <tr style=\"text-align: right;\">\n",
              "      <th></th>\n",
              "      <th>&lt;FIRST&gt;</th>\n",
              "      <th>&lt;HIGH&gt;</th>\n",
              "      <th>&lt;LOW&gt;</th>\n",
              "      <th>&lt;CLOSE&gt;</th>\n",
              "      <th>&lt;VALUE&gt;</th>\n",
              "      <th>&lt;VOL&gt;</th>\n",
              "      <th>change_in_price</th>\n",
              "      <th>MA_10</th>\n",
              "      <th>WMA_10</th>\n",
              "    </tr>\n",
              "    <tr>\n",
              "      <th>datetime</th>\n",
              "      <th></th>\n",
              "      <th></th>\n",
              "      <th></th>\n",
              "      <th></th>\n",
              "      <th></th>\n",
              "      <th></th>\n",
              "      <th></th>\n",
              "      <th></th>\n",
              "      <th></th>\n",
              "    </tr>\n",
              "  </thead>\n",
              "  <tbody>\n",
              "    <tr>\n",
              "      <th>2020-05-26</th>\n",
              "      <td>34051.0</td>\n",
              "      <td>35000.0</td>\n",
              "      <td>33429.0</td>\n",
              "      <td>33887.0</td>\n",
              "      <td>91075271139</td>\n",
              "      <td>2688840</td>\n",
              "      <td>-1301.0</td>\n",
              "      <td>35695.6</td>\n",
              "      <td>35967.692374</td>\n",
              "    </tr>\n",
              "    <tr>\n",
              "      <th>2020-05-27</th>\n",
              "      <td>32466.0</td>\n",
              "      <td>35565.0</td>\n",
              "      <td>32466.0</td>\n",
              "      <td>35051.0</td>\n",
              "      <td>188533230075</td>\n",
              "      <td>5378788</td>\n",
              "      <td>1164.0</td>\n",
              "      <td>35527.1</td>\n",
              "      <td>35801.021033</td>\n",
              "    </tr>\n",
              "    <tr>\n",
              "      <th>2020-05-30</th>\n",
              "      <td>36803.0</td>\n",
              "      <td>36803.0</td>\n",
              "      <td>36803.0</td>\n",
              "      <td>36803.0</td>\n",
              "      <td>112049162498</td>\n",
              "      <td>3044566</td>\n",
              "      <td>1752.0</td>\n",
              "      <td>35706.8</td>\n",
              "      <td>35983.199027</td>\n",
              "    </tr>\n",
              "    <tr>\n",
              "      <th>2020-05-31</th>\n",
              "      <td>38643.0</td>\n",
              "      <td>38643.0</td>\n",
              "      <td>36810.0</td>\n",
              "      <td>38615.0</td>\n",
              "      <td>771614696040</td>\n",
              "      <td>19982276</td>\n",
              "      <td>1812.0</td>\n",
              "      <td>36009.5</td>\n",
              "      <td>36461.708295</td>\n",
              "    </tr>\n",
              "    <tr>\n",
              "      <th>2020-06-01</th>\n",
              "      <td>40490.0</td>\n",
              "      <td>40545.0</td>\n",
              "      <td>38700.0</td>\n",
              "      <td>40451.0</td>\n",
              "      <td>266346818518</td>\n",
              "      <td>6584463</td>\n",
              "      <td>1836.0</td>\n",
              "      <td>36637.2</td>\n",
              "      <td>37187.034059</td>\n",
              "    </tr>\n",
              "  </tbody>\n",
              "</table>\n",
              "</div>"
            ],
            "text/plain": [
              "            <FIRST>   <HIGH>    <LOW>  ...  change_in_price    MA_10        WMA_10\n",
              "datetime                               ...                                        \n",
              "2020-05-26  34051.0  35000.0  33429.0  ...          -1301.0  35695.6  35967.692374\n",
              "2020-05-27  32466.0  35565.0  32466.0  ...           1164.0  35527.1  35801.021033\n",
              "2020-05-30  36803.0  36803.0  36803.0  ...           1752.0  35706.8  35983.199027\n",
              "2020-05-31  38643.0  38643.0  36810.0  ...           1812.0  36009.5  36461.708295\n",
              "2020-06-01  40490.0  40545.0  38700.0  ...           1836.0  36637.2  37187.034059\n",
              "\n",
              "[5 rows x 9 columns]"
            ]
          },
          "metadata": {
            "tags": []
          },
          "execution_count": 385
        }
      ]
    },
    {
      "cell_type": "code",
      "metadata": {
        "id": "lTZOxNVrbesS",
        "colab": {
          "base_uri": "https://localhost:8080/",
          "height": 223
        },
        "outputId": "6dd550a9-061f-447c-dee7-5ad3d544d823"
      },
      "source": [
        "#3. Momentum\n",
        "def momentum(df, n):\n",
        "    \"\"\"\n",
        "    :param df: pandas.DataFrame\n",
        "    :param n:\n",
        "    :return: pandas.DataFrame\n",
        "    \"\"\"\n",
        "    M = pd.Series(df['<CLOSE>'].diff(n), name='MOM_' + str(n))\n",
        "    df = df.join(M)\n",
        "    return df\n",
        "df_new = momentum(df_new,10)\n",
        "df_new.tail()"
      ],
      "execution_count": 386,
      "outputs": [
        {
          "output_type": "execute_result",
          "data": {
            "text/html": [
              "<div>\n",
              "<style scoped>\n",
              "    .dataframe tbody tr th:only-of-type {\n",
              "        vertical-align: middle;\n",
              "    }\n",
              "\n",
              "    .dataframe tbody tr th {\n",
              "        vertical-align: top;\n",
              "    }\n",
              "\n",
              "    .dataframe thead th {\n",
              "        text-align: right;\n",
              "    }\n",
              "</style>\n",
              "<table border=\"1\" class=\"dataframe\">\n",
              "  <thead>\n",
              "    <tr style=\"text-align: right;\">\n",
              "      <th></th>\n",
              "      <th>&lt;FIRST&gt;</th>\n",
              "      <th>&lt;HIGH&gt;</th>\n",
              "      <th>&lt;LOW&gt;</th>\n",
              "      <th>&lt;CLOSE&gt;</th>\n",
              "      <th>&lt;VALUE&gt;</th>\n",
              "      <th>&lt;VOL&gt;</th>\n",
              "      <th>change_in_price</th>\n",
              "      <th>MA_10</th>\n",
              "      <th>WMA_10</th>\n",
              "      <th>MOM_10</th>\n",
              "    </tr>\n",
              "    <tr>\n",
              "      <th>datetime</th>\n",
              "      <th></th>\n",
              "      <th></th>\n",
              "      <th></th>\n",
              "      <th></th>\n",
              "      <th></th>\n",
              "      <th></th>\n",
              "      <th></th>\n",
              "      <th></th>\n",
              "      <th></th>\n",
              "      <th></th>\n",
              "    </tr>\n",
              "  </thead>\n",
              "  <tbody>\n",
              "    <tr>\n",
              "      <th>2020-05-26</th>\n",
              "      <td>34051.0</td>\n",
              "      <td>35000.0</td>\n",
              "      <td>33429.0</td>\n",
              "      <td>33887.0</td>\n",
              "      <td>91075271139</td>\n",
              "      <td>2688840</td>\n",
              "      <td>-1301.0</td>\n",
              "      <td>35695.6</td>\n",
              "      <td>35967.692374</td>\n",
              "      <td>-4663.0</td>\n",
              "    </tr>\n",
              "    <tr>\n",
              "      <th>2020-05-27</th>\n",
              "      <td>32466.0</td>\n",
              "      <td>35565.0</td>\n",
              "      <td>32466.0</td>\n",
              "      <td>35051.0</td>\n",
              "      <td>188533230075</td>\n",
              "      <td>5378788</td>\n",
              "      <td>1164.0</td>\n",
              "      <td>35527.1</td>\n",
              "      <td>35801.021033</td>\n",
              "      <td>-1685.0</td>\n",
              "    </tr>\n",
              "    <tr>\n",
              "      <th>2020-05-30</th>\n",
              "      <td>36803.0</td>\n",
              "      <td>36803.0</td>\n",
              "      <td>36803.0</td>\n",
              "      <td>36803.0</td>\n",
              "      <td>112049162498</td>\n",
              "      <td>3044566</td>\n",
              "      <td>1752.0</td>\n",
              "      <td>35706.8</td>\n",
              "      <td>35983.199027</td>\n",
              "      <td>1797.0</td>\n",
              "    </tr>\n",
              "    <tr>\n",
              "      <th>2020-05-31</th>\n",
              "      <td>38643.0</td>\n",
              "      <td>38643.0</td>\n",
              "      <td>36810.0</td>\n",
              "      <td>38615.0</td>\n",
              "      <td>771614696040</td>\n",
              "      <td>19982276</td>\n",
              "      <td>1812.0</td>\n",
              "      <td>36009.5</td>\n",
              "      <td>36461.708295</td>\n",
              "      <td>3027.0</td>\n",
              "    </tr>\n",
              "    <tr>\n",
              "      <th>2020-06-01</th>\n",
              "      <td>40490.0</td>\n",
              "      <td>40545.0</td>\n",
              "      <td>38700.0</td>\n",
              "      <td>40451.0</td>\n",
              "      <td>266346818518</td>\n",
              "      <td>6584463</td>\n",
              "      <td>1836.0</td>\n",
              "      <td>36637.2</td>\n",
              "      <td>37187.034059</td>\n",
              "      <td>6277.0</td>\n",
              "    </tr>\n",
              "  </tbody>\n",
              "</table>\n",
              "</div>"
            ],
            "text/plain": [
              "            <FIRST>   <HIGH>    <LOW>  ...    MA_10        WMA_10  MOM_10\n",
              "datetime                               ...                               \n",
              "2020-05-26  34051.0  35000.0  33429.0  ...  35695.6  35967.692374 -4663.0\n",
              "2020-05-27  32466.0  35565.0  32466.0  ...  35527.1  35801.021033 -1685.0\n",
              "2020-05-30  36803.0  36803.0  36803.0  ...  35706.8  35983.199027  1797.0\n",
              "2020-05-31  38643.0  38643.0  36810.0  ...  36009.5  36461.708295  3027.0\n",
              "2020-06-01  40490.0  40545.0  38700.0  ...  36637.2  37187.034059  6277.0\n",
              "\n",
              "[5 rows x 10 columns]"
            ]
          },
          "metadata": {
            "tags": []
          },
          "execution_count": 386
        }
      ]
    },
    {
      "cell_type": "code",
      "metadata": {
        "id": "9WasGdiqbesV",
        "colab": {
          "base_uri": "https://localhost:8080/",
          "height": 223
        },
        "outputId": "6d9533be-4c02-433a-f475-1d6f552b5553"
      },
      "source": [
        "#4. Stochastic K%\n",
        "def stochastic_oscillator_k(df):\n",
        "    \"\"\"Calculate stochastic oscillator %K for given data.\n",
        "    :param df: pandas.DataFrame\n",
        "    :return: pandas.DataFrame\n",
        "    \"\"\"\n",
        "    SOk = pd.Series((df['<CLOSE>'] - df['<LOW>']) / (df['<HIGH>'] - df['<LOW>']), name='SO_k')\n",
        "    df = df.join(SOk)\n",
        "    return df\n",
        "df_new = stochastic_oscillator_k(df_new)\n",
        "df_new.tail()"
      ],
      "execution_count": 387,
      "outputs": [
        {
          "output_type": "execute_result",
          "data": {
            "text/html": [
              "<div>\n",
              "<style scoped>\n",
              "    .dataframe tbody tr th:only-of-type {\n",
              "        vertical-align: middle;\n",
              "    }\n",
              "\n",
              "    .dataframe tbody tr th {\n",
              "        vertical-align: top;\n",
              "    }\n",
              "\n",
              "    .dataframe thead th {\n",
              "        text-align: right;\n",
              "    }\n",
              "</style>\n",
              "<table border=\"1\" class=\"dataframe\">\n",
              "  <thead>\n",
              "    <tr style=\"text-align: right;\">\n",
              "      <th></th>\n",
              "      <th>&lt;FIRST&gt;</th>\n",
              "      <th>&lt;HIGH&gt;</th>\n",
              "      <th>&lt;LOW&gt;</th>\n",
              "      <th>&lt;CLOSE&gt;</th>\n",
              "      <th>&lt;VALUE&gt;</th>\n",
              "      <th>&lt;VOL&gt;</th>\n",
              "      <th>change_in_price</th>\n",
              "      <th>MA_10</th>\n",
              "      <th>WMA_10</th>\n",
              "      <th>MOM_10</th>\n",
              "      <th>SO_k</th>\n",
              "    </tr>\n",
              "    <tr>\n",
              "      <th>datetime</th>\n",
              "      <th></th>\n",
              "      <th></th>\n",
              "      <th></th>\n",
              "      <th></th>\n",
              "      <th></th>\n",
              "      <th></th>\n",
              "      <th></th>\n",
              "      <th></th>\n",
              "      <th></th>\n",
              "      <th></th>\n",
              "      <th></th>\n",
              "    </tr>\n",
              "  </thead>\n",
              "  <tbody>\n",
              "    <tr>\n",
              "      <th>2020-05-26</th>\n",
              "      <td>34051.0</td>\n",
              "      <td>35000.0</td>\n",
              "      <td>33429.0</td>\n",
              "      <td>33887.0</td>\n",
              "      <td>91075271139</td>\n",
              "      <td>2688840</td>\n",
              "      <td>-1301.0</td>\n",
              "      <td>35695.6</td>\n",
              "      <td>35967.692374</td>\n",
              "      <td>-4663.0</td>\n",
              "      <td>0.291534</td>\n",
              "    </tr>\n",
              "    <tr>\n",
              "      <th>2020-05-27</th>\n",
              "      <td>32466.0</td>\n",
              "      <td>35565.0</td>\n",
              "      <td>32466.0</td>\n",
              "      <td>35051.0</td>\n",
              "      <td>188533230075</td>\n",
              "      <td>5378788</td>\n",
              "      <td>1164.0</td>\n",
              "      <td>35527.1</td>\n",
              "      <td>35801.021033</td>\n",
              "      <td>-1685.0</td>\n",
              "      <td>0.834140</td>\n",
              "    </tr>\n",
              "    <tr>\n",
              "      <th>2020-05-30</th>\n",
              "      <td>36803.0</td>\n",
              "      <td>36803.0</td>\n",
              "      <td>36803.0</td>\n",
              "      <td>36803.0</td>\n",
              "      <td>112049162498</td>\n",
              "      <td>3044566</td>\n",
              "      <td>1752.0</td>\n",
              "      <td>35706.8</td>\n",
              "      <td>35983.199027</td>\n",
              "      <td>1797.0</td>\n",
              "      <td>NaN</td>\n",
              "    </tr>\n",
              "    <tr>\n",
              "      <th>2020-05-31</th>\n",
              "      <td>38643.0</td>\n",
              "      <td>38643.0</td>\n",
              "      <td>36810.0</td>\n",
              "      <td>38615.0</td>\n",
              "      <td>771614696040</td>\n",
              "      <td>19982276</td>\n",
              "      <td>1812.0</td>\n",
              "      <td>36009.5</td>\n",
              "      <td>36461.708295</td>\n",
              "      <td>3027.0</td>\n",
              "      <td>0.984724</td>\n",
              "    </tr>\n",
              "    <tr>\n",
              "      <th>2020-06-01</th>\n",
              "      <td>40490.0</td>\n",
              "      <td>40545.0</td>\n",
              "      <td>38700.0</td>\n",
              "      <td>40451.0</td>\n",
              "      <td>266346818518</td>\n",
              "      <td>6584463</td>\n",
              "      <td>1836.0</td>\n",
              "      <td>36637.2</td>\n",
              "      <td>37187.034059</td>\n",
              "      <td>6277.0</td>\n",
              "      <td>0.949051</td>\n",
              "    </tr>\n",
              "  </tbody>\n",
              "</table>\n",
              "</div>"
            ],
            "text/plain": [
              "            <FIRST>   <HIGH>    <LOW>  ...        WMA_10  MOM_10      SO_k\n",
              "datetime                               ...                                \n",
              "2020-05-26  34051.0  35000.0  33429.0  ...  35967.692374 -4663.0  0.291534\n",
              "2020-05-27  32466.0  35565.0  32466.0  ...  35801.021033 -1685.0  0.834140\n",
              "2020-05-30  36803.0  36803.0  36803.0  ...  35983.199027  1797.0       NaN\n",
              "2020-05-31  38643.0  38643.0  36810.0  ...  36461.708295  3027.0  0.984724\n",
              "2020-06-01  40490.0  40545.0  38700.0  ...  37187.034059  6277.0  0.949051\n",
              "\n",
              "[5 rows x 11 columns]"
            ]
          },
          "metadata": {
            "tags": []
          },
          "execution_count": 387
        }
      ]
    },
    {
      "cell_type": "code",
      "metadata": {
        "id": "d5u31Lq2besX",
        "colab": {
          "base_uri": "https://localhost:8080/",
          "height": 223
        },
        "outputId": "66aa484d-04be-427a-a85b-ba688eadbc9e"
      },
      "source": [
        "#5. Stochastic D%\n",
        "def stochastic_oscillator_d(df, n):\n",
        "    \"\"\"Calculate stochastic oscillator %D for given data.\n",
        "    :param df: pandas.DataFrame\n",
        "    :param n:\n",
        "    :return: pandas.DataFrame\n",
        "    \"\"\"\n",
        "    SOk = pd.Series((df['<CLOSE>'] - df['<LOW>']) / (df['<HIGH>'] - df['<LOW>']), name='SO%k')\n",
        "    SOd = pd.Series(SOk.ewm(span=n, min_periods=n).mean(), name='SO_' + str(n))\n",
        "    df = df.join(SOd)\n",
        "    return df\n",
        "df_new = stochastic_oscillator_d(df_new,10)\n",
        "df_new.tail()"
      ],
      "execution_count": 388,
      "outputs": [
        {
          "output_type": "execute_result",
          "data": {
            "text/html": [
              "<div>\n",
              "<style scoped>\n",
              "    .dataframe tbody tr th:only-of-type {\n",
              "        vertical-align: middle;\n",
              "    }\n",
              "\n",
              "    .dataframe tbody tr th {\n",
              "        vertical-align: top;\n",
              "    }\n",
              "\n",
              "    .dataframe thead th {\n",
              "        text-align: right;\n",
              "    }\n",
              "</style>\n",
              "<table border=\"1\" class=\"dataframe\">\n",
              "  <thead>\n",
              "    <tr style=\"text-align: right;\">\n",
              "      <th></th>\n",
              "      <th>&lt;FIRST&gt;</th>\n",
              "      <th>&lt;HIGH&gt;</th>\n",
              "      <th>&lt;LOW&gt;</th>\n",
              "      <th>&lt;CLOSE&gt;</th>\n",
              "      <th>&lt;VALUE&gt;</th>\n",
              "      <th>&lt;VOL&gt;</th>\n",
              "      <th>change_in_price</th>\n",
              "      <th>MA_10</th>\n",
              "      <th>WMA_10</th>\n",
              "      <th>MOM_10</th>\n",
              "      <th>SO_k</th>\n",
              "      <th>SO_10</th>\n",
              "    </tr>\n",
              "    <tr>\n",
              "      <th>datetime</th>\n",
              "      <th></th>\n",
              "      <th></th>\n",
              "      <th></th>\n",
              "      <th></th>\n",
              "      <th></th>\n",
              "      <th></th>\n",
              "      <th></th>\n",
              "      <th></th>\n",
              "      <th></th>\n",
              "      <th></th>\n",
              "      <th></th>\n",
              "      <th></th>\n",
              "    </tr>\n",
              "  </thead>\n",
              "  <tbody>\n",
              "    <tr>\n",
              "      <th>2020-05-26</th>\n",
              "      <td>34051.0</td>\n",
              "      <td>35000.0</td>\n",
              "      <td>33429.0</td>\n",
              "      <td>33887.0</td>\n",
              "      <td>91075271139</td>\n",
              "      <td>2688840</td>\n",
              "      <td>-1301.0</td>\n",
              "      <td>35695.6</td>\n",
              "      <td>35967.692374</td>\n",
              "      <td>-4663.0</td>\n",
              "      <td>0.291534</td>\n",
              "      <td>0.419589</td>\n",
              "    </tr>\n",
              "    <tr>\n",
              "      <th>2020-05-27</th>\n",
              "      <td>32466.0</td>\n",
              "      <td>35565.0</td>\n",
              "      <td>32466.0</td>\n",
              "      <td>35051.0</td>\n",
              "      <td>188533230075</td>\n",
              "      <td>5378788</td>\n",
              "      <td>1164.0</td>\n",
              "      <td>35527.1</td>\n",
              "      <td>35801.021033</td>\n",
              "      <td>-1685.0</td>\n",
              "      <td>0.834140</td>\n",
              "      <td>0.495334</td>\n",
              "    </tr>\n",
              "    <tr>\n",
              "      <th>2020-05-30</th>\n",
              "      <td>36803.0</td>\n",
              "      <td>36803.0</td>\n",
              "      <td>36803.0</td>\n",
              "      <td>36803.0</td>\n",
              "      <td>112049162498</td>\n",
              "      <td>3044566</td>\n",
              "      <td>1752.0</td>\n",
              "      <td>35706.8</td>\n",
              "      <td>35983.199027</td>\n",
              "      <td>1797.0</td>\n",
              "      <td>NaN</td>\n",
              "      <td>0.495334</td>\n",
              "    </tr>\n",
              "    <tr>\n",
              "      <th>2020-05-31</th>\n",
              "      <td>38643.0</td>\n",
              "      <td>38643.0</td>\n",
              "      <td>36810.0</td>\n",
              "      <td>38615.0</td>\n",
              "      <td>771614696040</td>\n",
              "      <td>19982276</td>\n",
              "      <td>1812.0</td>\n",
              "      <td>36009.5</td>\n",
              "      <td>36461.708295</td>\n",
              "      <td>3027.0</td>\n",
              "      <td>0.984724</td>\n",
              "      <td>0.600269</td>\n",
              "    </tr>\n",
              "    <tr>\n",
              "      <th>2020-06-01</th>\n",
              "      <td>40490.0</td>\n",
              "      <td>40545.0</td>\n",
              "      <td>38700.0</td>\n",
              "      <td>40451.0</td>\n",
              "      <td>266346818518</td>\n",
              "      <td>6584463</td>\n",
              "      <td>1836.0</td>\n",
              "      <td>36637.2</td>\n",
              "      <td>37187.034059</td>\n",
              "      <td>6277.0</td>\n",
              "      <td>0.949051</td>\n",
              "      <td>0.672694</td>\n",
              "    </tr>\n",
              "  </tbody>\n",
              "</table>\n",
              "</div>"
            ],
            "text/plain": [
              "            <FIRST>   <HIGH>    <LOW>  ...  MOM_10      SO_k     SO_10\n",
              "datetime                               ...                            \n",
              "2020-05-26  34051.0  35000.0  33429.0  ... -4663.0  0.291534  0.419589\n",
              "2020-05-27  32466.0  35565.0  32466.0  ... -1685.0  0.834140  0.495334\n",
              "2020-05-30  36803.0  36803.0  36803.0  ...  1797.0       NaN  0.495334\n",
              "2020-05-31  38643.0  38643.0  36810.0  ...  3027.0  0.984724  0.600269\n",
              "2020-06-01  40490.0  40545.0  38700.0  ...  6277.0  0.949051  0.672694\n",
              "\n",
              "[5 rows x 12 columns]"
            ]
          },
          "metadata": {
            "tags": []
          },
          "execution_count": 388
        }
      ]
    },
    {
      "cell_type": "code",
      "metadata": {
        "id": "oki_RUaObesb",
        "colab": {
          "base_uri": "https://localhost:8080/",
          "height": 124
        },
        "outputId": "5f4c4e31-3626-4794-8346-753f996ed019"
      },
      "source": [
        "#6. Relative Strength Index\n",
        "#Error\n",
        "\"\"\"\n",
        "def relative_strength_index(df, n):\n",
        "    Calculate Relative Strength Index(RSI) for given data.\n",
        "    :param df: pandas.DataFrame\n",
        "    :param n:\n",
        "    :return: pandas.DataFrame\n",
        "    i = df.index[0]\n",
        "    UpI = [0]\n",
        "    DoI = [0]\n",
        "    while i + 1 <= df.index[-1]:\n",
        "        UpMove = float(df.loc[i + 1, 'high']) - float(df.loc[i, 'high'])\n",
        "        DoMove = float(df.loc[i, 'low']) - float(df.loc[i + 1, 'low'])\n",
        "        if UpMove > DoMove and UpMove > 0:\n",
        "            UpD = UpMove\n",
        "        else:\n",
        "            UpD = 0\n",
        "        UpI.append(UpD)\n",
        "        if DoMove > UpMove and DoMove > 0:\n",
        "            DoD = DoMove\n",
        "        else:\n",
        "            DoD = 0\n",
        "        DoI.append(DoD)\n",
        "        i = i + 1\n",
        "    UpI = pd.Series(UpI)\n",
        "\n",
        "    DoI = pd.Series(DoI)\n",
        "    PosDI = pd.Series(UpI.ewm(span=n, min_periods=n).mean())\n",
        "    NegDI = pd.Series(DoI.ewm(span=n, min_periods=n).mean())\n",
        "\n",
        "    # rsi = pd.Series(PosDI / (PosDI + NegDI), name='RSI_' + str(n))\n",
        "    rsi = pd.DataFrame(PosDI / (PosDI + NegDI), columns=['RSI_' + str(n)])\n",
        "    rsi = rsi.set_index(df.index)\n",
        "    df = df.join(rsi)\n",
        "    return df\n",
        "\"\"\""
      ],
      "execution_count": 389,
      "outputs": [
        {
          "output_type": "execute_result",
          "data": {
            "application/vnd.google.colaboratory.intrinsic+json": {
              "type": "string"
            },
            "text/plain": [
              "\"\\ndef relative_strength_index(df, n):\\n    Calculate Relative Strength Index(RSI) for given data.\\n    :param df: pandas.DataFrame\\n    :param n:\\n    :return: pandas.DataFrame\\n    i = df.index[0]\\n    UpI = [0]\\n    DoI = [0]\\n    while i + 1 <= df.index[-1]:\\n        UpMove = float(df.loc[i + 1, 'high']) - float(df.loc[i, 'high'])\\n        DoMove = float(df.loc[i, 'low']) - float(df.loc[i + 1, 'low'])\\n        if UpMove > DoMove and UpMove > 0:\\n            UpD = UpMove\\n        else:\\n            UpD = 0\\n        UpI.append(UpD)\\n        if DoMove > UpMove and DoMove > 0:\\n            DoD = DoMove\\n        else:\\n            DoD = 0\\n        DoI.append(DoD)\\n        i = i + 1\\n    UpI = pd.Series(UpI)\\n\\n    DoI = pd.Series(DoI)\\n    PosDI = pd.Series(UpI.ewm(span=n, min_periods=n).mean())\\n    NegDI = pd.Series(DoI.ewm(span=n, min_periods=n).mean())\\n\\n    # rsi = pd.Series(PosDI / (PosDI + NegDI), name='RSI_' + str(n))\\n    rsi = pd.DataFrame(PosDI / (PosDI + NegDI), columns=['RSI_' + str(n)])\\n    rsi = rsi.set_index(df.index)\\n    df = df.join(rsi)\\n    return df\\n\""
            ]
          },
          "metadata": {
            "tags": []
          },
          "execution_count": 389
        }
      ]
    },
    {
      "cell_type": "code",
      "metadata": {
        "id": "SzBt7Xdobese",
        "colab": {
          "base_uri": "https://localhost:8080/",
          "height": 223
        },
        "outputId": "01db4f6f-3215-4cbb-c0db-33ef17e9ccf4"
      },
      "source": [
        "#7. Signal\n",
        "def macd(df, n_fast, n_slow):\n",
        "    \"\"\"Calculate MACD, MACD Signal and MACD difference\n",
        "    :param df: pandas.DataFrame\n",
        "    :param n_fast:\n",
        "    :param n_slow:\n",
        "    :return: pandas.DataFrame\n",
        "    \"\"\"\n",
        "    EMAfast = pd.Series(df['<CLOSE>'].ewm(span=n_fast, min_periods=n_slow).mean())\n",
        "    EMAslow = pd.Series(df['<CLOSE>'].ewm(span=n_slow, min_periods=n_slow).mean())\n",
        "    MACD = pd.Series(EMAfast - EMAslow, name='MACD_' + str(n_fast) + '_' + str(n_slow))\n",
        "    MACDsign = pd.Series(MACD.ewm(span=9, min_periods=9).mean(), name='MACDsign_' + str(n_fast) + '_' + str(n_slow))\n",
        "    MACDdiff = pd.Series(MACD - MACDsign, name='MACDdiff_' + str(n_fast) + '_' + str(n_slow))\n",
        "    df = df.join(MACD)\n",
        "    df = df.join(MACDsign)\n",
        "    df = df.join(MACDdiff)\n",
        "    return df\n",
        "df_new = macd(df_new,12,26)\n",
        "df_new.head()"
      ],
      "execution_count": 390,
      "outputs": [
        {
          "output_type": "execute_result",
          "data": {
            "text/html": [
              "<div>\n",
              "<style scoped>\n",
              "    .dataframe tbody tr th:only-of-type {\n",
              "        vertical-align: middle;\n",
              "    }\n",
              "\n",
              "    .dataframe tbody tr th {\n",
              "        vertical-align: top;\n",
              "    }\n",
              "\n",
              "    .dataframe thead th {\n",
              "        text-align: right;\n",
              "    }\n",
              "</style>\n",
              "<table border=\"1\" class=\"dataframe\">\n",
              "  <thead>\n",
              "    <tr style=\"text-align: right;\">\n",
              "      <th></th>\n",
              "      <th>&lt;FIRST&gt;</th>\n",
              "      <th>&lt;HIGH&gt;</th>\n",
              "      <th>&lt;LOW&gt;</th>\n",
              "      <th>&lt;CLOSE&gt;</th>\n",
              "      <th>&lt;VALUE&gt;</th>\n",
              "      <th>&lt;VOL&gt;</th>\n",
              "      <th>change_in_price</th>\n",
              "      <th>MA_10</th>\n",
              "      <th>WMA_10</th>\n",
              "      <th>MOM_10</th>\n",
              "      <th>SO_k</th>\n",
              "      <th>SO_10</th>\n",
              "      <th>MACD_12_26</th>\n",
              "      <th>MACDsign_12_26</th>\n",
              "      <th>MACDdiff_12_26</th>\n",
              "    </tr>\n",
              "    <tr>\n",
              "      <th>datetime</th>\n",
              "      <th></th>\n",
              "      <th></th>\n",
              "      <th></th>\n",
              "      <th></th>\n",
              "      <th></th>\n",
              "      <th></th>\n",
              "      <th></th>\n",
              "      <th></th>\n",
              "      <th></th>\n",
              "      <th></th>\n",
              "      <th></th>\n",
              "      <th></th>\n",
              "      <th></th>\n",
              "      <th></th>\n",
              "      <th></th>\n",
              "    </tr>\n",
              "  </thead>\n",
              "  <tbody>\n",
              "    <tr>\n",
              "      <th>2001-05-01</th>\n",
              "      <td>5750.0</td>\n",
              "      <td>5750.0</td>\n",
              "      <td>5750.0</td>\n",
              "      <td>5750.0</td>\n",
              "      <td>575000</td>\n",
              "      <td>100</td>\n",
              "      <td>NaN</td>\n",
              "      <td>NaN</td>\n",
              "      <td>NaN</td>\n",
              "      <td>NaN</td>\n",
              "      <td>NaN</td>\n",
              "      <td>NaN</td>\n",
              "      <td>NaN</td>\n",
              "      <td>NaN</td>\n",
              "      <td>NaN</td>\n",
              "    </tr>\n",
              "    <tr>\n",
              "      <th>2001-05-06</th>\n",
              "      <td>5807.0</td>\n",
              "      <td>5807.0</td>\n",
              "      <td>5807.0</td>\n",
              "      <td>5807.0</td>\n",
              "      <td>9947391</td>\n",
              "      <td>1713</td>\n",
              "      <td>57.0</td>\n",
              "      <td>NaN</td>\n",
              "      <td>NaN</td>\n",
              "      <td>NaN</td>\n",
              "      <td>NaN</td>\n",
              "      <td>NaN</td>\n",
              "      <td>NaN</td>\n",
              "      <td>NaN</td>\n",
              "      <td>NaN</td>\n",
              "    </tr>\n",
              "    <tr>\n",
              "      <th>2001-05-12</th>\n",
              "      <td>5865.0</td>\n",
              "      <td>5865.0</td>\n",
              "      <td>5865.0</td>\n",
              "      <td>5865.0</td>\n",
              "      <td>2991150</td>\n",
              "      <td>510</td>\n",
              "      <td>58.0</td>\n",
              "      <td>NaN</td>\n",
              "      <td>NaN</td>\n",
              "      <td>NaN</td>\n",
              "      <td>NaN</td>\n",
              "      <td>NaN</td>\n",
              "      <td>NaN</td>\n",
              "      <td>NaN</td>\n",
              "      <td>NaN</td>\n",
              "    </tr>\n",
              "    <tr>\n",
              "      <th>2001-05-13</th>\n",
              "      <td>5923.0</td>\n",
              "      <td>5923.0</td>\n",
              "      <td>5923.0</td>\n",
              "      <td>5923.0</td>\n",
              "      <td>11846000</td>\n",
              "      <td>2000</td>\n",
              "      <td>58.0</td>\n",
              "      <td>NaN</td>\n",
              "      <td>NaN</td>\n",
              "      <td>NaN</td>\n",
              "      <td>NaN</td>\n",
              "      <td>NaN</td>\n",
              "      <td>NaN</td>\n",
              "      <td>NaN</td>\n",
              "      <td>NaN</td>\n",
              "    </tr>\n",
              "    <tr>\n",
              "      <th>2001-05-15</th>\n",
              "      <td>5982.0</td>\n",
              "      <td>5982.0</td>\n",
              "      <td>5982.0</td>\n",
              "      <td>5982.0</td>\n",
              "      <td>5982000</td>\n",
              "      <td>1000</td>\n",
              "      <td>59.0</td>\n",
              "      <td>NaN</td>\n",
              "      <td>NaN</td>\n",
              "      <td>NaN</td>\n",
              "      <td>NaN</td>\n",
              "      <td>NaN</td>\n",
              "      <td>NaN</td>\n",
              "      <td>NaN</td>\n",
              "      <td>NaN</td>\n",
              "    </tr>\n",
              "  </tbody>\n",
              "</table>\n",
              "</div>"
            ],
            "text/plain": [
              "            <FIRST>  <HIGH>   <LOW>  ...  MACD_12_26  MACDsign_12_26  MACDdiff_12_26\n",
              "datetime                             ...                                            \n",
              "2001-05-01   5750.0  5750.0  5750.0  ...         NaN             NaN             NaN\n",
              "2001-05-06   5807.0  5807.0  5807.0  ...         NaN             NaN             NaN\n",
              "2001-05-12   5865.0  5865.0  5865.0  ...         NaN             NaN             NaN\n",
              "2001-05-13   5923.0  5923.0  5923.0  ...         NaN             NaN             NaN\n",
              "2001-05-15   5982.0  5982.0  5982.0  ...         NaN             NaN             NaN\n",
              "\n",
              "[5 rows x 15 columns]"
            ]
          },
          "metadata": {
            "tags": []
          },
          "execution_count": 390
        }
      ]
    },
    {
      "cell_type": "code",
      "metadata": {
        "id": "cfobRA3dbesh"
      },
      "source": [
        "#8. Larry Williams R%\n",
        "#lEFT"
      ],
      "execution_count": 391,
      "outputs": []
    },
    {
      "cell_type": "code",
      "metadata": {
        "id": "tAAH6tYWbesm",
        "colab": {
          "base_uri": "https://localhost:8080/",
          "height": 363
        },
        "outputId": "90024e5a-4141-4bec-8ee9-07795462e41e"
      },
      "source": [
        "#9. Accumulation / Distribution\n",
        "def accumulation_distribution(df, n):\n",
        "    \"\"\"Calculate Accumulation/Distribution for given data.\n",
        "    :param df: pandas.DataFrame\n",
        "    :param n:\n",
        "    :return: pandas.DataFrame\n",
        "    \"\"\"\n",
        "    ad = (2 * df['<CLOSE>'] - df['<HIGH>'] - df['<LOW>']) / (df['<HIGH>'] - df['<LOW>']) * df['<VOL>']\n",
        "    M = ad.diff(n - 1)\n",
        "    N = ad.shift(n - 1)\n",
        "    ROC = M / N\n",
        "    AD = pd.Series(ROC, name='Acc/Dist_ROC_' + str(n))\n",
        "    df = df.join(AD)\n",
        "    return df\n",
        "df_new = accumulation_distribution(df_new,10)\n",
        "df_new.tail()"
      ],
      "execution_count": 392,
      "outputs": [
        {
          "output_type": "stream",
          "text": [
            "/usr/local/lib/python3.6/dist-packages/pandas/core/algorithms.py:1977: RuntimeWarning: invalid value encountered in subtract\n",
            "  out_arr[res_indexer] = arr[res_indexer] - arr[lag_indexer]\n"
          ],
          "name": "stderr"
        },
        {
          "output_type": "execute_result",
          "data": {
            "text/html": [
              "<div>\n",
              "<style scoped>\n",
              "    .dataframe tbody tr th:only-of-type {\n",
              "        vertical-align: middle;\n",
              "    }\n",
              "\n",
              "    .dataframe tbody tr th {\n",
              "        vertical-align: top;\n",
              "    }\n",
              "\n",
              "    .dataframe thead th {\n",
              "        text-align: right;\n",
              "    }\n",
              "</style>\n",
              "<table border=\"1\" class=\"dataframe\">\n",
              "  <thead>\n",
              "    <tr style=\"text-align: right;\">\n",
              "      <th></th>\n",
              "      <th>&lt;FIRST&gt;</th>\n",
              "      <th>&lt;HIGH&gt;</th>\n",
              "      <th>&lt;LOW&gt;</th>\n",
              "      <th>&lt;CLOSE&gt;</th>\n",
              "      <th>&lt;VALUE&gt;</th>\n",
              "      <th>&lt;VOL&gt;</th>\n",
              "      <th>change_in_price</th>\n",
              "      <th>MA_10</th>\n",
              "      <th>WMA_10</th>\n",
              "      <th>MOM_10</th>\n",
              "      <th>SO_k</th>\n",
              "      <th>SO_10</th>\n",
              "      <th>MACD_12_26</th>\n",
              "      <th>MACDsign_12_26</th>\n",
              "      <th>MACDdiff_12_26</th>\n",
              "      <th>Acc/Dist_ROC_10</th>\n",
              "    </tr>\n",
              "    <tr>\n",
              "      <th>datetime</th>\n",
              "      <th></th>\n",
              "      <th></th>\n",
              "      <th></th>\n",
              "      <th></th>\n",
              "      <th></th>\n",
              "      <th></th>\n",
              "      <th></th>\n",
              "      <th></th>\n",
              "      <th></th>\n",
              "      <th></th>\n",
              "      <th></th>\n",
              "      <th></th>\n",
              "      <th></th>\n",
              "      <th></th>\n",
              "      <th></th>\n",
              "      <th></th>\n",
              "    </tr>\n",
              "  </thead>\n",
              "  <tbody>\n",
              "    <tr>\n",
              "      <th>2020-05-26</th>\n",
              "      <td>34051.0</td>\n",
              "      <td>35000.0</td>\n",
              "      <td>33429.0</td>\n",
              "      <td>33887.0</td>\n",
              "      <td>91075271139</td>\n",
              "      <td>2688840</td>\n",
              "      <td>-1301.0</td>\n",
              "      <td>35695.6</td>\n",
              "      <td>35967.692374</td>\n",
              "      <td>-4663.0</td>\n",
              "      <td>0.291534</td>\n",
              "      <td>0.419589</td>\n",
              "      <td>1266.534887</td>\n",
              "      <td>2158.477473</td>\n",
              "      <td>-891.942586</td>\n",
              "      <td>-0.899763</td>\n",
              "    </tr>\n",
              "    <tr>\n",
              "      <th>2020-05-27</th>\n",
              "      <td>32466.0</td>\n",
              "      <td>35565.0</td>\n",
              "      <td>32466.0</td>\n",
              "      <td>35051.0</td>\n",
              "      <td>188533230075</td>\n",
              "      <td>5378788</td>\n",
              "      <td>1164.0</td>\n",
              "      <td>35527.1</td>\n",
              "      <td>35801.021033</td>\n",
              "      <td>-1685.0</td>\n",
              "      <td>0.834140</td>\n",
              "      <td>0.495334</td>\n",
              "      <td>1094.286967</td>\n",
              "      <td>1945.639372</td>\n",
              "      <td>-851.352406</td>\n",
              "      <td>-1.441125</td>\n",
              "    </tr>\n",
              "    <tr>\n",
              "      <th>2020-05-30</th>\n",
              "      <td>36803.0</td>\n",
              "      <td>36803.0</td>\n",
              "      <td>36803.0</td>\n",
              "      <td>36803.0</td>\n",
              "      <td>112049162498</td>\n",
              "      <td>3044566</td>\n",
              "      <td>1752.0</td>\n",
              "      <td>35706.8</td>\n",
              "      <td>35983.199027</td>\n",
              "      <td>1797.0</td>\n",
              "      <td>NaN</td>\n",
              "      <td>0.495334</td>\n",
              "      <td>1086.625069</td>\n",
              "      <td>1773.836511</td>\n",
              "      <td>-687.211443</td>\n",
              "      <td>NaN</td>\n",
              "    </tr>\n",
              "    <tr>\n",
              "      <th>2020-05-31</th>\n",
              "      <td>38643.0</td>\n",
              "      <td>38643.0</td>\n",
              "      <td>36810.0</td>\n",
              "      <td>38615.0</td>\n",
              "      <td>771614696040</td>\n",
              "      <td>19982276</td>\n",
              "      <td>1812.0</td>\n",
              "      <td>36009.5</td>\n",
              "      <td>36461.708295</td>\n",
              "      <td>3027.0</td>\n",
              "      <td>0.984724</td>\n",
              "      <td>0.600269</td>\n",
              "      <td>1212.785974</td>\n",
              "      <td>1661.626404</td>\n",
              "      <td>-448.840430</td>\n",
              "      <td>-4.146097</td>\n",
              "    </tr>\n",
              "    <tr>\n",
              "      <th>2020-06-01</th>\n",
              "      <td>40490.0</td>\n",
              "      <td>40545.0</td>\n",
              "      <td>38700.0</td>\n",
              "      <td>40451.0</td>\n",
              "      <td>266346818518</td>\n",
              "      <td>6584463</td>\n",
              "      <td>1836.0</td>\n",
              "      <td>36637.2</td>\n",
              "      <td>37187.034059</td>\n",
              "      <td>6277.0</td>\n",
              "      <td>0.949051</td>\n",
              "      <td>0.672694</td>\n",
              "      <td>1444.270604</td>\n",
              "      <td>1618.155244</td>\n",
              "      <td>-173.884640</td>\n",
              "      <td>0.464400</td>\n",
              "    </tr>\n",
              "  </tbody>\n",
              "</table>\n",
              "</div>"
            ],
            "text/plain": [
              "            <FIRST>   <HIGH>  ...  MACDdiff_12_26  Acc/Dist_ROC_10\n",
              "datetime                      ...                                 \n",
              "2020-05-26  34051.0  35000.0  ...     -891.942586        -0.899763\n",
              "2020-05-27  32466.0  35565.0  ...     -851.352406        -1.441125\n",
              "2020-05-30  36803.0  36803.0  ...     -687.211443              NaN\n",
              "2020-05-31  38643.0  38643.0  ...     -448.840430        -4.146097\n",
              "2020-06-01  40490.0  40545.0  ...     -173.884640         0.464400\n",
              "\n",
              "[5 rows x 16 columns]"
            ]
          },
          "metadata": {
            "tags": []
          },
          "execution_count": 392
        }
      ]
    },
    {
      "cell_type": "code",
      "metadata": {
        "id": "XCFLfxtUbesq",
        "colab": {
          "base_uri": "https://localhost:8080/",
          "height": 328
        },
        "outputId": "47ee0d70-145f-4876-ecbf-a3d4c8e3bcc4"
      },
      "source": [
        "#10. Commodity Channel Index\n",
        "def commodity_channel_index(df, n):\n",
        "    \"\"\"Calculate Commodity Channel Index for given data.\n",
        "    :param df: pandas.DataFrame\n",
        "    :param n:\n",
        "    :return: pandas.DataFrame\n",
        "    \"\"\"\n",
        "    PP = (df['<HIGH>'] + df['<LOW>'] + df['<CLOSE>']) / 3\n",
        "    CCI = pd.Series((PP - PP.rolling(n, min_periods=n).mean()) / PP.rolling(n, min_periods=n).std(),\n",
        "                    name='CCI_' + str(n))\n",
        "    df = df.join(CCI)\n",
        "    return df\n",
        "df_new = commodity_channel_index(df_new,10)\n",
        "df_new.tail()"
      ],
      "execution_count": 393,
      "outputs": [
        {
          "output_type": "execute_result",
          "data": {
            "text/html": [
              "<div>\n",
              "<style scoped>\n",
              "    .dataframe tbody tr th:only-of-type {\n",
              "        vertical-align: middle;\n",
              "    }\n",
              "\n",
              "    .dataframe tbody tr th {\n",
              "        vertical-align: top;\n",
              "    }\n",
              "\n",
              "    .dataframe thead th {\n",
              "        text-align: right;\n",
              "    }\n",
              "</style>\n",
              "<table border=\"1\" class=\"dataframe\">\n",
              "  <thead>\n",
              "    <tr style=\"text-align: right;\">\n",
              "      <th></th>\n",
              "      <th>&lt;FIRST&gt;</th>\n",
              "      <th>&lt;HIGH&gt;</th>\n",
              "      <th>&lt;LOW&gt;</th>\n",
              "      <th>&lt;CLOSE&gt;</th>\n",
              "      <th>&lt;VALUE&gt;</th>\n",
              "      <th>&lt;VOL&gt;</th>\n",
              "      <th>change_in_price</th>\n",
              "      <th>MA_10</th>\n",
              "      <th>WMA_10</th>\n",
              "      <th>MOM_10</th>\n",
              "      <th>SO_k</th>\n",
              "      <th>SO_10</th>\n",
              "      <th>MACD_12_26</th>\n",
              "      <th>MACDsign_12_26</th>\n",
              "      <th>MACDdiff_12_26</th>\n",
              "      <th>Acc/Dist_ROC_10</th>\n",
              "      <th>CCI_10</th>\n",
              "    </tr>\n",
              "    <tr>\n",
              "      <th>datetime</th>\n",
              "      <th></th>\n",
              "      <th></th>\n",
              "      <th></th>\n",
              "      <th></th>\n",
              "      <th></th>\n",
              "      <th></th>\n",
              "      <th></th>\n",
              "      <th></th>\n",
              "      <th></th>\n",
              "      <th></th>\n",
              "      <th></th>\n",
              "      <th></th>\n",
              "      <th></th>\n",
              "      <th></th>\n",
              "      <th></th>\n",
              "      <th></th>\n",
              "      <th></th>\n",
              "    </tr>\n",
              "  </thead>\n",
              "  <tbody>\n",
              "    <tr>\n",
              "      <th>2020-05-26</th>\n",
              "      <td>34051.0</td>\n",
              "      <td>35000.0</td>\n",
              "      <td>33429.0</td>\n",
              "      <td>33887.0</td>\n",
              "      <td>91075271139</td>\n",
              "      <td>2688840</td>\n",
              "      <td>-1301.0</td>\n",
              "      <td>35695.6</td>\n",
              "      <td>35967.692374</td>\n",
              "      <td>-4663.0</td>\n",
              "      <td>0.291534</td>\n",
              "      <td>0.419589</td>\n",
              "      <td>1266.534887</td>\n",
              "      <td>2158.477473</td>\n",
              "      <td>-891.942586</td>\n",
              "      <td>-0.899763</td>\n",
              "      <td>-1.379473</td>\n",
              "    </tr>\n",
              "    <tr>\n",
              "      <th>2020-05-27</th>\n",
              "      <td>32466.0</td>\n",
              "      <td>35565.0</td>\n",
              "      <td>32466.0</td>\n",
              "      <td>35051.0</td>\n",
              "      <td>188533230075</td>\n",
              "      <td>5378788</td>\n",
              "      <td>1164.0</td>\n",
              "      <td>35527.1</td>\n",
              "      <td>35801.021033</td>\n",
              "      <td>-1685.0</td>\n",
              "      <td>0.834140</td>\n",
              "      <td>0.495334</td>\n",
              "      <td>1094.286967</td>\n",
              "      <td>1945.639372</td>\n",
              "      <td>-851.352406</td>\n",
              "      <td>-1.441125</td>\n",
              "      <td>-0.962640</td>\n",
              "    </tr>\n",
              "    <tr>\n",
              "      <th>2020-05-30</th>\n",
              "      <td>36803.0</td>\n",
              "      <td>36803.0</td>\n",
              "      <td>36803.0</td>\n",
              "      <td>36803.0</td>\n",
              "      <td>112049162498</td>\n",
              "      <td>3044566</td>\n",
              "      <td>1752.0</td>\n",
              "      <td>35706.8</td>\n",
              "      <td>35983.199027</td>\n",
              "      <td>1797.0</td>\n",
              "      <td>NaN</td>\n",
              "      <td>0.495334</td>\n",
              "      <td>1086.625069</td>\n",
              "      <td>1773.836511</td>\n",
              "      <td>-687.211443</td>\n",
              "      <td>NaN</td>\n",
              "      <td>0.878543</td>\n",
              "    </tr>\n",
              "    <tr>\n",
              "      <th>2020-05-31</th>\n",
              "      <td>38643.0</td>\n",
              "      <td>38643.0</td>\n",
              "      <td>36810.0</td>\n",
              "      <td>38615.0</td>\n",
              "      <td>771614696040</td>\n",
              "      <td>19982276</td>\n",
              "      <td>1812.0</td>\n",
              "      <td>36009.5</td>\n",
              "      <td>36461.708295</td>\n",
              "      <td>3027.0</td>\n",
              "      <td>0.984724</td>\n",
              "      <td>0.600269</td>\n",
              "      <td>1212.785974</td>\n",
              "      <td>1661.626404</td>\n",
              "      <td>-448.840430</td>\n",
              "      <td>-4.146097</td>\n",
              "      <td>1.406626</td>\n",
              "    </tr>\n",
              "    <tr>\n",
              "      <th>2020-06-01</th>\n",
              "      <td>40490.0</td>\n",
              "      <td>40545.0</td>\n",
              "      <td>38700.0</td>\n",
              "      <td>40451.0</td>\n",
              "      <td>266346818518</td>\n",
              "      <td>6584463</td>\n",
              "      <td>1836.0</td>\n",
              "      <td>36637.2</td>\n",
              "      <td>37187.034059</td>\n",
              "      <td>6277.0</td>\n",
              "      <td>0.949051</td>\n",
              "      <td>0.672694</td>\n",
              "      <td>1444.270604</td>\n",
              "      <td>1618.155244</td>\n",
              "      <td>-173.884640</td>\n",
              "      <td>0.464400</td>\n",
              "      <td>1.838765</td>\n",
              "    </tr>\n",
              "  </tbody>\n",
              "</table>\n",
              "</div>"
            ],
            "text/plain": [
              "            <FIRST>   <HIGH>  ...  Acc/Dist_ROC_10    CCI_10\n",
              "datetime                      ...                           \n",
              "2020-05-26  34051.0  35000.0  ...        -0.899763 -1.379473\n",
              "2020-05-27  32466.0  35565.0  ...        -1.441125 -0.962640\n",
              "2020-05-30  36803.0  36803.0  ...              NaN  0.878543\n",
              "2020-05-31  38643.0  38643.0  ...        -4.146097  1.406626\n",
              "2020-06-01  40490.0  40545.0  ...         0.464400  1.838765\n",
              "\n",
              "[5 rows x 17 columns]"
            ]
          },
          "metadata": {
            "tags": []
          },
          "execution_count": 393
        }
      ]
    },
    {
      "cell_type": "code",
      "metadata": {
        "id": "HHQkL2Fybesu",
        "colab": {
          "base_uri": "https://localhost:8080/"
        },
        "outputId": "50d950b0-3c63-4ce4-fbc2-f62f83bf2d3e"
      },
      "source": [
        "df_new.mean()"
      ],
      "execution_count": 394,
      "outputs": [
        {
          "output_type": "execute_result",
          "data": {
            "text/plain": [
              "<FIRST>            8.603098e+03\n",
              "<HIGH>             8.720517e+03\n",
              "<LOW>              8.469620e+03\n",
              "<CLOSE>            8.601823e+03\n",
              "<VALUE>            1.865224e+10\n",
              "<VOL>              2.024808e+06\n",
              "change_in_price    9.788717e+00\n",
              "MA_10              8.568869e+03\n",
              "WMA_10             8.568839e+03\n",
              "MOM_10             8.660436e+01\n",
              "SO_k                        NaN\n",
              "SO_10              4.549134e-01\n",
              "MACD_12_26         5.847584e+01\n",
              "MACDsign_12_26     5.717177e+01\n",
              "MACDdiff_12_26     2.158280e+00\n",
              "Acc/Dist_ROC_10             NaN\n",
              "CCI_10             5.258992e-02\n",
              "dtype: float64"
            ]
          },
          "metadata": {
            "tags": []
          },
          "execution_count": 394
        }
      ]
    },
    {
      "cell_type": "code",
      "metadata": {
        "id": "mSwQUUeKbesx",
        "colab": {
          "base_uri": "https://localhost:8080/"
        },
        "outputId": "388081b6-c43c-4e6c-df7f-7ad4aff4ee4e"
      },
      "source": [
        "df_new.min()"
      ],
      "execution_count": 395,
      "outputs": [
        {
          "output_type": "execute_result",
          "data": {
            "text/plain": [
              "<FIRST>            1.305000e+03\n",
              "<HIGH>             1.305000e+03\n",
              "<LOW>              1.305000e+03\n",
              "<CLOSE>            1.305000e+03\n",
              "<VALUE>            4.518000e+04\n",
              "<VOL>              1.000000e+01\n",
              "change_in_price   -7.981000e+03\n",
              "MA_10              1.346300e+03\n",
              "WMA_10             1.371534e+03\n",
              "MOM_10            -1.022100e+04\n",
              "SO_k                       -inf\n",
              "SO_10             -1.365027e+01\n",
              "MACD_12_26        -3.400683e+03\n",
              "MACDsign_12_26    -3.055329e+03\n",
              "MACDdiff_12_26    -1.081572e+03\n",
              "Acc/Dist_ROC_10            -inf\n",
              "CCI_10            -2.845202e+00\n",
              "dtype: float64"
            ]
          },
          "metadata": {
            "tags": []
          },
          "execution_count": 395
        }
      ]
    },
    {
      "cell_type": "code",
      "metadata": {
        "id": "mMVVklQPbes1",
        "colab": {
          "base_uri": "https://localhost:8080/"
        },
        "outputId": "7d343d7d-2a84-4f0a-ed2a-be652cc1bc9a"
      },
      "source": [
        "df_new.max()"
      ],
      "execution_count": 396,
      "outputs": [
        {
          "output_type": "execute_result",
          "data": {
            "text/plain": [
              "<FIRST>            4.265000e+04\n",
              "<HIGH>             4.300000e+04\n",
              "<LOW>              4.066000e+04\n",
              "<CLOSE>            4.250400e+04\n",
              "<VALUE>            1.322401e+12\n",
              "<VOL>              4.071108e+07\n",
              "change_in_price    1.007700e+04\n",
              "MA_10              3.948840e+04\n",
              "WMA_10             3.844612e+04\n",
              "MOM_10             1.391100e+04\n",
              "SO_k                        inf\n",
              "SO_10              1.105947e+01\n",
              "MACD_12_26         4.900759e+03\n",
              "MACDsign_12_26     4.247434e+03\n",
              "MACDdiff_12_26     1.352562e+03\n",
              "Acc/Dist_ROC_10             inf\n",
              "CCI_10             2.811525e+00\n",
              "dtype: float64"
            ]
          },
          "metadata": {
            "tags": []
          },
          "execution_count": 396
        }
      ]
    },
    {
      "cell_type": "code",
      "metadata": {
        "id": "uNTpjP7Xbes4",
        "colab": {
          "base_uri": "https://localhost:8080/"
        },
        "outputId": "ca2d85bb-94c1-4de6-c095-176c96bd3265"
      },
      "source": [
        "df_new.std()"
      ],
      "execution_count": 397,
      "outputs": [
        {
          "output_type": "execute_result",
          "data": {
            "text/plain": [
              "<FIRST>            6.669431e+03\n",
              "<HIGH>             6.763881e+03\n",
              "<LOW>              6.564485e+03\n",
              "<CLOSE>            6.682042e+03\n",
              "<VALUE>            5.608826e+10\n",
              "<VOL>              3.329542e+06\n",
              "change_in_price    4.226386e+02\n",
              "MA_10              6.583125e+03\n",
              "WMA_10             6.565135e+03\n",
              "MOM_10             1.604955e+03\n",
              "SO_k                        NaN\n",
              "SO_10              1.194016e+00\n",
              "MACD_12_26         6.114367e+02\n",
              "MACDsign_12_26     5.783136e+02\n",
              "MACDdiff_12_26     1.727040e+02\n",
              "Acc/Dist_ROC_10             NaN\n",
              "CCI_10             1.278361e+00\n",
              "dtype: float64"
            ]
          },
          "metadata": {
            "tags": []
          },
          "execution_count": 397
        }
      ]
    },
    {
      "cell_type": "markdown",
      "metadata": {
        "id": "vfZGT9zFbes9"
      },
      "source": [
        "## **Normalizing Data**"
      ]
    },
    {
      "cell_type": "code",
      "metadata": {
        "id": "8tYyjDyjbes-",
        "colab": {
          "base_uri": "https://localhost:8080/",
          "height": 0
        },
        "outputId": "b7d868e0-5ada-457d-fc0f-a6da2e21766a"
      },
      "source": [
        "data = (df_new - df_new.mean()) / (df_new.max() - df_new.min())\n",
        "data.tail()"
      ],
      "execution_count": 398,
      "outputs": [
        {
          "output_type": "execute_result",
          "data": {
            "text/html": [
              "<div>\n",
              "<style scoped>\n",
              "    .dataframe tbody tr th:only-of-type {\n",
              "        vertical-align: middle;\n",
              "    }\n",
              "\n",
              "    .dataframe tbody tr th {\n",
              "        vertical-align: top;\n",
              "    }\n",
              "\n",
              "    .dataframe thead th {\n",
              "        text-align: right;\n",
              "    }\n",
              "</style>\n",
              "<table border=\"1\" class=\"dataframe\">\n",
              "  <thead>\n",
              "    <tr style=\"text-align: right;\">\n",
              "      <th></th>\n",
              "      <th>&lt;FIRST&gt;</th>\n",
              "      <th>&lt;HIGH&gt;</th>\n",
              "      <th>&lt;LOW&gt;</th>\n",
              "      <th>&lt;CLOSE&gt;</th>\n",
              "      <th>&lt;VALUE&gt;</th>\n",
              "      <th>&lt;VOL&gt;</th>\n",
              "      <th>change_in_price</th>\n",
              "      <th>MA_10</th>\n",
              "      <th>WMA_10</th>\n",
              "      <th>MOM_10</th>\n",
              "      <th>SO_k</th>\n",
              "      <th>SO_10</th>\n",
              "      <th>MACD_12_26</th>\n",
              "      <th>MACDsign_12_26</th>\n",
              "      <th>MACDdiff_12_26</th>\n",
              "      <th>Acc/Dist_ROC_10</th>\n",
              "      <th>CCI_10</th>\n",
              "    </tr>\n",
              "    <tr>\n",
              "      <th>datetime</th>\n",
              "      <th></th>\n",
              "      <th></th>\n",
              "      <th></th>\n",
              "      <th></th>\n",
              "      <th></th>\n",
              "      <th></th>\n",
              "      <th></th>\n",
              "      <th></th>\n",
              "      <th></th>\n",
              "      <th></th>\n",
              "      <th></th>\n",
              "      <th></th>\n",
              "      <th></th>\n",
              "      <th></th>\n",
              "      <th></th>\n",
              "      <th></th>\n",
              "      <th></th>\n",
              "    </tr>\n",
              "  </thead>\n",
              "  <tbody>\n",
              "    <tr>\n",
              "      <th>2020-05-26</th>\n",
              "      <td>0.615501</td>\n",
              "      <td>0.630279</td>\n",
              "      <td>0.634211</td>\n",
              "      <td>0.613733</td>\n",
              "      <td>0.054766</td>\n",
              "      <td>0.016311</td>\n",
              "      <td>-0.072588</td>\n",
              "      <td>0.711202</td>\n",
              "      <td>0.739020</td>\n",
              "      <td>-0.196818</td>\n",
              "      <td>NaN</td>\n",
              "      <td>-0.001430</td>\n",
              "      <td>0.145524</td>\n",
              "      <td>0.287741</td>\n",
              "      <td>-0.367318</td>\n",
              "      <td>NaN</td>\n",
              "      <td>-0.253161</td>\n",
              "    </tr>\n",
              "    <tr>\n",
              "      <th>2020-05-27</th>\n",
              "      <td>0.577165</td>\n",
              "      <td>0.643830</td>\n",
              "      <td>0.609742</td>\n",
              "      <td>0.641986</td>\n",
              "      <td>0.128464</td>\n",
              "      <td>0.082385</td>\n",
              "      <td>0.063917</td>\n",
              "      <td>0.706784</td>\n",
              "      <td>0.734524</td>\n",
              "      <td>-0.073413</td>\n",
              "      <td>NaN</td>\n",
              "      <td>0.001636</td>\n",
              "      <td>0.124775</td>\n",
              "      <td>0.258596</td>\n",
              "      <td>-0.350642</td>\n",
              "      <td>NaN</td>\n",
              "      <td>-0.179473</td>\n",
              "    </tr>\n",
              "    <tr>\n",
              "      <th>2020-05-30</th>\n",
              "      <td>0.682063</td>\n",
              "      <td>0.673522</td>\n",
              "      <td>0.719944</td>\n",
              "      <td>0.684511</td>\n",
              "      <td>0.070627</td>\n",
              "      <td>0.025049</td>\n",
              "      <td>0.096479</td>\n",
              "      <td>0.711495</td>\n",
              "      <td>0.739438</td>\n",
              "      <td>0.070877</td>\n",
              "      <td>NaN</td>\n",
              "      <td>0.001636</td>\n",
              "      <td>0.123852</td>\n",
              "      <td>0.235071</td>\n",
              "      <td>-0.283209</td>\n",
              "      <td>NaN</td>\n",
              "      <td>0.146013</td>\n",
              "    </tr>\n",
              "    <tr>\n",
              "      <th>2020-05-31</th>\n",
              "      <td>0.726567</td>\n",
              "      <td>0.717652</td>\n",
              "      <td>0.720121</td>\n",
              "      <td>0.728493</td>\n",
              "      <td>0.569390</td>\n",
              "      <td>0.441096</td>\n",
              "      <td>0.099801</td>\n",
              "      <td>0.719432</td>\n",
              "      <td>0.752345</td>\n",
              "      <td>0.121846</td>\n",
              "      <td>NaN</td>\n",
              "      <td>0.005883</td>\n",
              "      <td>0.139049</td>\n",
              "      <td>0.219705</td>\n",
              "      <td>-0.185281</td>\n",
              "      <td>NaN</td>\n",
              "      <td>0.239367</td>\n",
              "    </tr>\n",
              "    <tr>\n",
              "      <th>2020-06-01</th>\n",
              "      <td>0.771240</td>\n",
              "      <td>0.763269</td>\n",
              "      <td>0.768146</td>\n",
              "      <td>0.773057</td>\n",
              "      <td>0.187307</td>\n",
              "      <td>0.112000</td>\n",
              "      <td>0.101130</td>\n",
              "      <td>0.735888</td>\n",
              "      <td>0.771909</td>\n",
              "      <td>0.256522</td>\n",
              "      <td>NaN</td>\n",
              "      <td>0.008814</td>\n",
              "      <td>0.166934</td>\n",
              "      <td>0.213752</td>\n",
              "      <td>-0.072323</td>\n",
              "      <td>NaN</td>\n",
              "      <td>0.315761</td>\n",
              "    </tr>\n",
              "  </tbody>\n",
              "</table>\n",
              "</div>"
            ],
            "text/plain": [
              "             <FIRST>    <HIGH>  ...  Acc/Dist_ROC_10    CCI_10\n",
              "datetime                        ...                           \n",
              "2020-05-26  0.615501  0.630279  ...              NaN -0.253161\n",
              "2020-05-27  0.577165  0.643830  ...              NaN -0.179473\n",
              "2020-05-30  0.682063  0.673522  ...              NaN  0.146013\n",
              "2020-05-31  0.726567  0.717652  ...              NaN  0.239367\n",
              "2020-06-01  0.771240  0.763269  ...              NaN  0.315761\n",
              "\n",
              "[5 rows x 17 columns]"
            ]
          },
          "metadata": {
            "tags": []
          },
          "execution_count": 398
        }
      ]
    },
    {
      "cell_type": "code",
      "metadata": {
        "id": "YcwrDXOzbetB",
        "colab": {
          "base_uri": "https://localhost:8080/",
          "height": 0
        },
        "outputId": "1cb5d86f-a874-4f6f-f5f1-3c8ce561814f"
      },
      "source": [
        "import seaborn as sns\n",
        "plt.figure(1 , figsize = (17 , 8))\n",
        "cor = sns.heatmap(data.corr(), annot = True)"
      ],
      "execution_count": 399,
      "outputs": [
        {
          "output_type": "display_data",
          "data": {
            "image/png": "[encoded data removed]",
            "text/plain": [
              "<Figure size 1224x576 with 2 Axes>"
            ]
          },
          "metadata": {
            "tags": [],
            "needs_background": "light"
          }
        }
      ]
    },
    {
      "cell_type": "code",
      "metadata": {
        "id": "Nw7aDwgebetG",
        "colab": {
          "base_uri": "https://localhost:8080/"
        },
        "outputId": "a8fbd6f7-be77-40e7-e347-a24deb531928"
      },
      "source": [
        "#To check null values\n",
        "data.isnull().sum()"
      ],
      "execution_count": 400,
      "outputs": [
        {
          "output_type": "execute_result",
          "data": {
            "text/plain": [
              "<FIRST>               0\n",
              "<HIGH>                0\n",
              "<LOW>                 0\n",
              "<CLOSE>               0\n",
              "<VALUE>               0\n",
              "<VOL>                 0\n",
              "change_in_price       1\n",
              "MA_10                 9\n",
              "WMA_10                9\n",
              "MOM_10               10\n",
              "SO_k               3546\n",
              "SO_10                37\n",
              "MACD_12_26           25\n",
              "MACDsign_12_26       33\n",
              "MACDdiff_12_26       33\n",
              "Acc/Dist_ROC_10    3546\n",
              "CCI_10                9\n",
              "dtype: int64"
            ]
          },
          "metadata": {
            "tags": []
          },
          "execution_count": 400
        }
      ]
    },
    {
      "cell_type": "code",
      "metadata": {
        "id": "QN8FItuAbetJ"
      },
      "source": [
        "#Removing the null values\n",
        "data = data.fillna(data.mean())"
      ],
      "execution_count": 401,
      "outputs": []
    },
    {
      "cell_type": "code",
      "metadata": {
        "id": "shbMSgnWbetN"
      },
      "source": [
        "data = data.dropna(how=\"all\",axis=1)"
      ],
      "execution_count": 402,
      "outputs": []
    },
    {
      "cell_type": "code",
      "metadata": {
        "id": "hKHZhcd8betR",
        "colab": {
          "base_uri": "https://localhost:8080/",
          "height": 0
        },
        "outputId": "f7b55d8c-638d-41a3-8fef-f0296db6aec4"
      },
      "source": [
        "##Defining the features and labels\n",
        "X = data.iloc[:,7:]\n",
        "X.tail()"
      ],
      "execution_count": 403,
      "outputs": [
        {
          "output_type": "execute_result",
          "data": {
            "text/html": [
              "<div>\n",
              "<style scoped>\n",
              "    .dataframe tbody tr th:only-of-type {\n",
              "        vertical-align: middle;\n",
              "    }\n",
              "\n",
              "    .dataframe tbody tr th {\n",
              "        vertical-align: top;\n",
              "    }\n",
              "\n",
              "    .dataframe thead th {\n",
              "        text-align: right;\n",
              "    }\n",
              "</style>\n",
              "<table border=\"1\" class=\"dataframe\">\n",
              "  <thead>\n",
              "    <tr style=\"text-align: right;\">\n",
              "      <th></th>\n",
              "      <th>MA_10</th>\n",
              "      <th>WMA_10</th>\n",
              "      <th>MOM_10</th>\n",
              "      <th>SO_10</th>\n",
              "      <th>MACD_12_26</th>\n",
              "      <th>MACDsign_12_26</th>\n",
              "      <th>MACDdiff_12_26</th>\n",
              "      <th>CCI_10</th>\n",
              "    </tr>\n",
              "    <tr>\n",
              "      <th>datetime</th>\n",
              "      <th></th>\n",
              "      <th></th>\n",
              "      <th></th>\n",
              "      <th></th>\n",
              "      <th></th>\n",
              "      <th></th>\n",
              "      <th></th>\n",
              "      <th></th>\n",
              "    </tr>\n",
              "  </thead>\n",
              "  <tbody>\n",
              "    <tr>\n",
              "      <th>2020-05-26</th>\n",
              "      <td>0.711202</td>\n",
              "      <td>0.739020</td>\n",
              "      <td>-0.196818</td>\n",
              "      <td>-0.001430</td>\n",
              "      <td>0.145524</td>\n",
              "      <td>0.287741</td>\n",
              "      <td>-0.367318</td>\n",
              "      <td>-0.253161</td>\n",
              "    </tr>\n",
              "    <tr>\n",
              "      <th>2020-05-27</th>\n",
              "      <td>0.706784</td>\n",
              "      <td>0.734524</td>\n",
              "      <td>-0.073413</td>\n",
              "      <td>0.001636</td>\n",
              "      <td>0.124775</td>\n",
              "      <td>0.258596</td>\n",
              "      <td>-0.350642</td>\n",
              "      <td>-0.179473</td>\n",
              "    </tr>\n",
              "    <tr>\n",
              "      <th>2020-05-30</th>\n",
              "      <td>0.711495</td>\n",
              "      <td>0.739438</td>\n",
              "      <td>0.070877</td>\n",
              "      <td>0.001636</td>\n",
              "      <td>0.123852</td>\n",
              "      <td>0.235071</td>\n",
              "      <td>-0.283209</td>\n",
              "      <td>0.146013</td>\n",
              "    </tr>\n",
              "    <tr>\n",
              "      <th>2020-05-31</th>\n",
              "      <td>0.719432</td>\n",
              "      <td>0.752345</td>\n",
              "      <td>0.121846</td>\n",
              "      <td>0.005883</td>\n",
              "      <td>0.139049</td>\n",
              "      <td>0.219705</td>\n",
              "      <td>-0.185281</td>\n",
              "      <td>0.239367</td>\n",
              "    </tr>\n",
              "    <tr>\n",
              "      <th>2020-06-01</th>\n",
              "      <td>0.735888</td>\n",
              "      <td>0.771909</td>\n",
              "      <td>0.256522</td>\n",
              "      <td>0.008814</td>\n",
              "      <td>0.166934</td>\n",
              "      <td>0.213752</td>\n",
              "      <td>-0.072323</td>\n",
              "      <td>0.315761</td>\n",
              "    </tr>\n",
              "  </tbody>\n",
              "</table>\n",
              "</div>"
            ],
            "text/plain": [
              "               MA_10    WMA_10  ...  MACDdiff_12_26    CCI_10\n",
              "datetime                        ...                          \n",
              "2020-05-26  0.711202  0.739020  ...       -0.367318 -0.253161\n",
              "2020-05-27  0.706784  0.734524  ...       -0.350642 -0.179473\n",
              "2020-05-30  0.711495  0.739438  ...       -0.283209  0.146013\n",
              "2020-05-31  0.719432  0.752345  ...       -0.185281  0.239367\n",
              "2020-06-01  0.735888  0.771909  ...       -0.072323  0.315761\n",
              "\n",
              "[5 rows x 8 columns]"
            ]
          },
          "metadata": {
            "tags": []
          },
          "execution_count": 403
        }
      ]
    },
    {
      "cell_type": "code",
      "metadata": {
        "id": "-RGklbtnbetV",
        "colab": {
          "base_uri": "https://localhost:8080/"
        },
        "outputId": "18d0f892-bce0-45b3-9ba6-6ca29ad1507b"
      },
      "source": [
        "Y = data.iloc[:,3]\n",
        "Y.tail()"
      ],
      "execution_count": 404,
      "outputs": [
        {
          "output_type": "execute_result",
          "data": {
            "text/plain": [
              "datetime\n",
              "2020-05-26    0.613733\n",
              "2020-05-27    0.641986\n",
              "2020-05-30    0.684511\n",
              "2020-05-31    0.728493\n",
              "2020-06-01    0.773057\n",
              "Name: <CLOSE>, dtype: float64"
            ]
          },
          "metadata": {
            "tags": []
          },
          "execution_count": 404
        }
      ]
    },
    {
      "cell_type": "code",
      "metadata": {
        "id": "1Tn80CwmbetX",
        "colab": {
          "base_uri": "https://localhost:8080/"
        },
        "outputId": "9001013f-eda3-4f71-ffe1-554350b2a781"
      },
      "source": [
        "X.isnull().sum()"
      ],
      "execution_count": 405,
      "outputs": [
        {
          "output_type": "execute_result",
          "data": {
            "text/plain": [
              "MA_10             0\n",
              "WMA_10            0\n",
              "MOM_10            0\n",
              "SO_10             0\n",
              "MACD_12_26        0\n",
              "MACDsign_12_26    0\n",
              "MACDdiff_12_26    0\n",
              "CCI_10            0\n",
              "dtype: int64"
            ]
          },
          "metadata": {
            "tags": []
          },
          "execution_count": 405
        }
      ]
    },
    {
      "cell_type": "markdown",
      "metadata": {
        "id": "IRkULxA7sCFy"
      },
      "source": [
        "## Visualising the technical indicators i.e. our features"
      ]
    },
    {
      "cell_type": "code",
      "metadata": {
        "id": "0UP3raQjr7Ty",
        "colab": {
          "base_uri": "https://localhost:8080/",
          "height": 1000
        },
        "outputId": "409d30ef-4484-4d60-845d-991dc3a7957f"
      },
      "source": [
        "X.hist(bins=50,figsize=(20,15))"
      ],
      "execution_count": 406,
      "outputs": [
        {
          "output_type": "execute_result",
          "data": {
            "text/plain": [
              "array([[<matplotlib.axes._subplots.AxesSubplot object at 0x7fe41bc3db00>,\n",
              "        <matplotlib.axes._subplots.AxesSubplot object at 0x7fe41b8dbd30>,\n",
              "        <matplotlib.axes._subplots.AxesSubplot object at 0x7fe41b87f0b8>],\n",
              "       [<matplotlib.axes._subplots.AxesSubplot object at 0x7fe41b82f438>,\n",
              "        <matplotlib.axes._subplots.AxesSubplot object at 0x7fe41b7e37b8>,\n",
              "        <matplotlib.axes._subplots.AxesSubplot object at 0x7fe41b814b38>],\n",
              "       [<matplotlib.axes._subplots.AxesSubplot object at 0x7fe41b7c8eb8>,\n",
              "        <matplotlib.axes._subplots.AxesSubplot object at 0x7fe41b786240>,\n",
              "        <matplotlib.axes._subplots.AxesSubplot object at 0x7fe41b7862b0>]],\n",
              "      dtype=object)"
            ]
          },
          "metadata": {
            "tags": []
          },
          "execution_count": 406
        },
        {
          "output_type": "display_data",
          "data": {
            "image/png": "[encoded data removed]",
            "text/plain": [
              "<Figure size 1440x1080 with 9 Axes>"
            ]
          },
          "metadata": {
            "tags": [],
            "needs_background": "light"
          }
        }
      ]
    },
    {
      "cell_type": "code",
      "metadata": {
        "id": "QjK-zRQgbeta"
      },
      "source": [
        "#Splitting data into training and test set\n",
        "#from sklearn.model_selection import train_test_split\n",
        "total_days = len(X)\n",
        "hold_days=30\n",
        "x_train = X[0:(total_days-hold_days)]\n",
        "y_train = Y[0:(total_days-hold_days)]"
      ],
      "execution_count": 407,
      "outputs": []
    },
    {
      "cell_type": "markdown",
      "metadata": {
        "id": "bdSjkPr_betc"
      },
      "source": [
        "# Predicting using Decision Trees"
      ]
    },
    {
      "cell_type": "code",
      "metadata": {
        "id": "7RX-ujiabetd",
        "colab": {
          "base_uri": "https://localhost:8080/"
        },
        "outputId": "9a06b1f7-0cf4-44cc-ca5e-88fd4a8eb8e4"
      },
      "source": [
        "#Decision Tree\n",
        "from sklearn.tree import DecisionTreeRegressor\n",
        "Regressor = DecisionTreeRegressor(max_depth=10)\n",
        "Regressor.fit(x_train,y_train)"
      ],
      "execution_count": 408,
      "outputs": [
        {
          "output_type": "execute_result",
          "data": {
            "text/plain": [
              "DecisionTreeRegressor(ccp_alpha=0.0, criterion='mse', max_depth=10,\n",
              "                      max_features=None, max_leaf_nodes=None,\n",
              "                      min_impurity_decrease=0.0, min_impurity_split=None,\n",
              "                      min_samples_leaf=1, min_samples_split=2,\n",
              "                      min_weight_fraction_leaf=0.0, presort='deprecated',\n",
              "                      random_state=None, splitter='best')"
            ]
          },
          "metadata": {
            "tags": []
          },
          "execution_count": 408
        }
      ]
    },
    {
      "cell_type": "markdown",
      "metadata": {
        "id": "tmAA0_rPbetl"
      },
      "source": [
        "## Evaluating the Model"
      ]
    },
    {
      "cell_type": "code",
      "metadata": {
        "id": "pCwX7Hwpbetm",
        "colab": {
          "base_uri": "https://localhost:8080/"
        },
        "outputId": "632460cb-cd76-4bd8-8922-acb9ac3f13c0"
      },
      "source": [
        "y_pred = Regressor.predict(X)\n",
        "from sklearn.metrics import r2_score,mean_squared_error\n",
        "mse = mean_squared_error(Y,y_pred)\n",
        "rmse = np.sqrt(mse)\n",
        "rmse"
      ],
      "execution_count": 409,
      "outputs": [
        {
          "output_type": "execute_result",
          "data": {
            "text/plain": [
              "0.014437377791619443"
            ]
          },
          "metadata": {
            "tags": []
          },
          "execution_count": 409
        }
      ]
    },
    {
      "cell_type": "code",
      "metadata": {
        "id": "EW6CbXYgSzMZ",
        "colab": {
          "base_uri": "https://localhost:8080/",
          "height": 265
        },
        "outputId": "1a3d98e9-1df9-464f-9e99-8b87f269e494"
      },
      "source": [
        "plt.plot(X.index,Y)\n",
        "plt.plot(X.index, y_pred, c='#f5ef42')\n",
        "plt.show()"
      ],
      "execution_count": 410,
      "outputs": [
        {
          "output_type": "display_data",
          "data": {
            "image/png": "[encoded data removed]",
            "text/plain": [
              "<Figure size 432x288 with 1 Axes>"
            ]
          },
          "metadata": {
            "tags": [],
            "needs_background": "light"
          }
        }
      ]
    },
    {
      "cell_type": "markdown",
      "metadata": {
        "id": "CiWT_doibeto"
      },
      "source": [
        "# Using Bagging Regressor"
      ]
    },
    {
      "cell_type": "code",
      "metadata": {
        "id": "6KWr75vGbetp"
      },
      "source": [
        "#import necessary libraries\n",
        "from sklearn.ensemble import BaggingRegressor"
      ],
      "execution_count": 411,
      "outputs": []
    },
    {
      "cell_type": "code",
      "metadata": {
        "id": "6m5OsIUsbetr",
        "colab": {
          "base_uri": "https://localhost:8080/"
        },
        "outputId": "6ef307ea-e417-4506-929c-ff861a78a95b"
      },
      "source": [
        "regr = BaggingRegressor(base_estimator=Regressor,\n",
        "n_estimators=50, random_state=0)\n",
        "regr.fit(x_train,y_train)\n",
        "    "
      ],
      "execution_count": 412,
      "outputs": [
        {
          "output_type": "execute_result",
          "data": {
            "text/plain": [
              "BaggingRegressor(base_estimator=DecisionTreeRegressor(ccp_alpha=0.0,\n",
              "                                                      criterion='mse',\n",
              "                                                      max_depth=10,\n",
              "                                                      max_features=None,\n",
              "                                                      max_leaf_nodes=None,\n",
              "                                                      min_impurity_decrease=0.0,\n",
              "                                                      min_impurity_split=None,\n",
              "                                                      min_samples_leaf=1,\n",
              "                                                      min_samples_split=2,\n",
              "                                                      min_weight_fraction_leaf=0.0,\n",
              "                                                      presort='deprecated',\n",
              "                                                      random_state=None,\n",
              "                                                      splitter='best'),\n",
              "                 bootstrap=True, bootstrap_features=False, max_features=1.0,\n",
              "                 max_samples=1.0, n_estimators=50, n_jobs=None, oob_score=False,\n",
              "                 random_state=0, verbose=0, warm_start=False)"
            ]
          },
          "metadata": {
            "tags": []
          },
          "execution_count": 412
        }
      ]
    },
    {
      "cell_type": "markdown",
      "metadata": {
        "id": "KvdNXLTXbetw"
      },
      "source": [
        "## Evaluating Bagging Regressor"
      ]
    },
    {
      "cell_type": "code",
      "metadata": {
        "id": "Af_3vxHkbetx"
      },
      "source": [
        "y_pred_br = regr.predict(X)"
      ],
      "execution_count": 413,
      "outputs": []
    },
    {
      "cell_type": "code",
      "metadata": {
        "id": "PXoR2Bxpbetz",
        "colab": {
          "base_uri": "https://localhost:8080/"
        },
        "outputId": "35753aa9-2d6e-4b69-e846-982e4532dd9f"
      },
      "source": [
        "from sklearn.metrics import r2_score,mean_squared_error\n",
        "mse = mean_squared_error(Y,y_pred_br)\n",
        "rmse = np.sqrt(mse)\n",
        "rmse"
      ],
      "execution_count": 414,
      "outputs": [
        {
          "output_type": "execute_result",
          "data": {
            "text/plain": [
              "0.012214181180964746"
            ]
          },
          "metadata": {
            "tags": []
          },
          "execution_count": 414
        }
      ]
    },
    {
      "cell_type": "code",
      "metadata": {
        "id": "NRz2RSH3fQGM",
        "colab": {
          "base_uri": "https://localhost:8080/",
          "height": 265
        },
        "outputId": "ad56174e-b66e-46ed-fce0-f764f2b49fdf"
      },
      "source": [
        "plt.plot(X.index,Y)\n",
        "plt.plot(X.index, y_pred_br, c='#f5ef42')\n",
        "plt.show()"
      ],
      "execution_count": 415,
      "outputs": [
        {
          "output_type": "display_data",
          "data": {
            "image/png": "[encoded data removed]",
            "text/plain": [
              "<Figure size 432x288 with 1 Axes>"
            ]
          },
          "metadata": {
            "tags": [],
            "needs_background": "light"
          }
        }
      ]
    },
    {
      "cell_type": "markdown",
      "metadata": {
        "id": "phoe90D7bet1"
      },
      "source": [
        "# Using Random Forest"
      ]
    },
    {
      "cell_type": "code",
      "metadata": {
        "id": "cM6Op45nbet2",
        "colab": {
          "base_uri": "https://localhost:8080/"
        },
        "outputId": "89593f02-11cc-47c8-934c-7b37cc53d4b3"
      },
      "source": [
        "#importing the libraries\n",
        "from sklearn.ensemble import RandomForestRegressor\n",
        "rf = RandomForestRegressor(n_estimators=50,max_depth=10,random_state=1)\n",
        "rf.fit(x_train,y_train)"
      ],
      "execution_count": 416,
      "outputs": [
        {
          "output_type": "execute_result",
          "data": {
            "text/plain": [
              "RandomForestRegressor(bootstrap=True, ccp_alpha=0.0, criterion='mse',\n",
              "                      max_depth=10, max_features='auto', max_leaf_nodes=None,\n",
              "                      max_samples=None, min_impurity_decrease=0.0,\n",
              "                      min_impurity_split=None, min_samples_leaf=1,\n",
              "                      min_samples_split=2, min_weight_fraction_leaf=0.0,\n",
              "                      n_estimators=50, n_jobs=None, oob_score=False,\n",
              "                      random_state=1, verbose=0, warm_start=False)"
            ]
          },
          "metadata": {
            "tags": []
          },
          "execution_count": 416
        }
      ]
    },
    {
      "cell_type": "markdown",
      "metadata": {
        "id": "j4GVbyhAbet9"
      },
      "source": [
        "## Evaluating Random Forest"
      ]
    },
    {
      "cell_type": "code",
      "metadata": {
        "id": "Rp1ihgYjbet-"
      },
      "source": [
        "y_pred_rf = rf.predict(X)\n"
      ],
      "execution_count": 417,
      "outputs": []
    },
    {
      "cell_type": "code",
      "metadata": {
        "id": "J6mI-BUbbeuA",
        "colab": {
          "base_uri": "https://localhost:8080/"
        },
        "outputId": "46d1d5bd-95a4-4c04-a211-ec3b18ba0a74"
      },
      "source": [
        "from sklearn.metrics import r2_score,mean_squared_error\n",
        "mse = mean_squared_error(Y,y_pred_rf)\n",
        "rmse = np.sqrt(mse)\n",
        "rmse"
      ],
      "execution_count": 418,
      "outputs": [
        {
          "output_type": "execute_result",
          "data": {
            "text/plain": [
              "0.013249777681027575"
            ]
          },
          "metadata": {
            "tags": []
          },
          "execution_count": 418
        }
      ]
    },
    {
      "cell_type": "code",
      "metadata": {
        "id": "uj2B69g3gnSx",
        "colab": {
          "base_uri": "https://localhost:8080/",
          "height": 265
        },
        "outputId": "046658e1-59ff-46a6-fce7-da58e75eb08f"
      },
      "source": [
        "plt.plot(X.index,Y)\n",
        "plt.plot(X.index, y_pred_rf, c='#f5ef42')\n",
        "plt.show()"
      ],
      "execution_count": 419,
      "outputs": [
        {
          "output_type": "display_data",
          "data": {
            "image/png": "[encoded data removed]",
            "text/plain": [
              "<Figure size 432x288 with 1 Axes>"
            ]
          },
          "metadata": {
            "tags": [],
            "needs_background": "light"
          }
        }
      ]
    },
    {
      "cell_type": "markdown",
      "metadata": {
        "id": "6e1uCe8lbeuD"
      },
      "source": [
        " ## Using AdaBoost Regressor"
      ]
    },
    {
      "cell_type": "code",
      "metadata": {
        "id": "uX6q6_kGbeuD",
        "colab": {
          "base_uri": "https://localhost:8080/"
        },
        "outputId": "4911ce72-1b66-48e9-cd6e-00d821359357"
      },
      "source": [
        "#importing necessary libraries\n",
        "from sklearn.ensemble import AdaBoostRegressor\n",
        "adb_reg = AdaBoostRegressor(base_estimator=Regressor,n_estimators=100,learning_rate=0.1)\n",
        "adb_reg.fit(x_train,y_train)\n",
        "\n"
      ],
      "execution_count": 420,
      "outputs": [
        {
          "output_type": "execute_result",
          "data": {
            "text/plain": [
              "AdaBoostRegressor(base_estimator=DecisionTreeRegressor(ccp_alpha=0.0,\n",
              "                                                       criterion='mse',\n",
              "                                                       max_depth=10,\n",
              "                                                       max_features=None,\n",
              "                                                       max_leaf_nodes=None,\n",
              "                                                       min_impurity_decrease=0.0,\n",
              "                                                       min_impurity_split=None,\n",
              "                                                       min_samples_leaf=1,\n",
              "                                                       min_samples_split=2,\n",
              "                                                       min_weight_fraction_leaf=0.0,\n",
              "                                                       presort='deprecated',\n",
              "                                                       random_state=None,\n",
              "                                                       splitter='best'),\n",
              "                  learning_rate=0.1, loss='linear', n_estimators=100,\n",
              "                  random_state=None)"
            ]
          },
          "metadata": {
            "tags": []
          },
          "execution_count": 420
        }
      ]
    },
    {
      "cell_type": "markdown",
      "metadata": {
        "id": "pTiNntHcbeuH"
      },
      "source": [
        "## Evaluating AdaBoost Regressor"
      ]
    },
    {
      "cell_type": "code",
      "metadata": {
        "id": "pGnz1YOibeuI",
        "colab": {
          "base_uri": "https://localhost:8080/"
        },
        "outputId": "bc25306c-d263-45a2-dd8c-bf87e1a19141"
      },
      "source": [
        "y_pred_adb = adb_reg.predict(X)\n",
        "from sklearn.metrics import r2_score,mean_squared_error\n",
        "mse = mean_squared_error(Y,y_pred_adb)\n",
        "rmse = np.sqrt(mse)\n",
        "rmse"
      ],
      "execution_count": 421,
      "outputs": [
        {
          "output_type": "execute_result",
          "data": {
            "text/plain": [
              "0.01295089162214744"
            ]
          },
          "metadata": {
            "tags": []
          },
          "execution_count": 421
        }
      ]
    },
    {
      "cell_type": "code",
      "metadata": {
        "id": "BfFSD3AChDmn",
        "colab": {
          "base_uri": "https://localhost:8080/",
          "height": 265
        },
        "outputId": "0ac9c05d-8b8e-41ca-868b-603a7e6d51c0"
      },
      "source": [
        "plt.plot(X.index,Y)\n",
        "plt.plot(X.index, y_pred_adb, c='#f5ef42')\n",
        "plt.show()"
      ],
      "execution_count": 422,
      "outputs": [
        {
          "output_type": "display_data",
          "data": {
            "image/png": "[encoded data removed]",
            "text/plain": [
              "<Figure size 432x288 with 1 Axes>"
            ]
          },
          "metadata": {
            "tags": [],
            "needs_background": "light"
          }
        }
      ]
    },
    {
      "cell_type": "markdown",
      "metadata": {
        "id": "8Q-98ibGbeuJ"
      },
      "source": [
        "## Using Gradient Boosting"
      ]
    },
    {
      "cell_type": "code",
      "metadata": {
        "id": "4StZOXBBbeuK",
        "colab": {
          "base_uri": "https://localhost:8080/"
        },
        "outputId": "af6bacfd-2cbe-4dd8-e722-2e859acd89f7"
      },
      "source": [
        "#importing necessary libraries\n",
        "from sklearn.ensemble import GradientBoostingRegressor\n",
        "gdbt = GradientBoostingRegressor(max_depth=10,learning_rate=0.1,n_estimators=50,random_state=1)\n",
        "gdbt.fit(x_train,y_train)"
      ],
      "execution_count": 423,
      "outputs": [
        {
          "output_type": "execute_result",
          "data": {
            "text/plain": [
              "GradientBoostingRegressor(alpha=0.9, ccp_alpha=0.0, criterion='friedman_mse',\n",
              "                          init=None, learning_rate=0.1, loss='ls', max_depth=10,\n",
              "                          max_features=None, max_leaf_nodes=None,\n",
              "                          min_impurity_decrease=0.0, min_impurity_split=None,\n",
              "                          min_samples_leaf=1, min_samples_split=2,\n",
              "                          min_weight_fraction_leaf=0.0, n_estimators=50,\n",
              "                          n_iter_no_change=None, presort='deprecated',\n",
              "                          random_state=1, subsample=1.0, tol=0.0001,\n",
              "                          validation_fraction=0.1, verbose=0, warm_start=False)"
            ]
          },
          "metadata": {
            "tags": []
          },
          "execution_count": 423
        }
      ]
    },
    {
      "cell_type": "markdown",
      "metadata": {
        "id": "fhjqy5udbeuP"
      },
      "source": [
        "## Evaluating gradient boosting"
      ]
    },
    {
      "cell_type": "code",
      "metadata": {
        "id": "CpcZr0-EbeuQ",
        "colab": {
          "base_uri": "https://localhost:8080/"
        },
        "outputId": "b34955e3-11db-4191-aa8b-c9f58f7bfde3"
      },
      "source": [
        "y_pred_gdbt = gdbt.predict(X)\n",
        "from sklearn.metrics import r2_score,mean_squared_error\n",
        "mse = mean_squared_error(Y,y_pred_gdbt)\n",
        "rmse = np.sqrt(mse)\n",
        "rmse"
      ],
      "execution_count": 424,
      "outputs": [
        {
          "output_type": "execute_result",
          "data": {
            "text/plain": [
              "0.013701336864860006"
            ]
          },
          "metadata": {
            "tags": []
          },
          "execution_count": 424
        }
      ]
    },
    {
      "cell_type": "markdown",
      "metadata": {
        "id": "GdaVicrEb78c"
      },
      "source": [
        "##Using Deep Learning Models"
      ]
    },
    {
      "cell_type": "code",
      "metadata": {
        "id": "zNH4J9l5cAY6",
        "colab": {
          "base_uri": "https://localhost:8080/"
        },
        "outputId": "5aeef88d-be41-4c48-e8e9-535ee6636d7d"
      },
      "source": [
        "from google.colab import drive\n",
        "drive.mount('/content/drive')"
      ],
      "execution_count": 425,
      "outputs": [
        {
          "output_type": "stream",
          "text": [
            "Drive already mounted at /content/drive; to attempt to forcibly remount, call drive.mount(\"/content/drive\", force_remount=True).\n"
          ],
          "name": "stdout"
        }
      ]
    },
    {
      "cell_type": "markdown",
      "metadata": {
        "id": "BvTCIFZ6BJgy"
      },
      "source": [
        "### Importing Libraries"
      ]
    },
    {
      "cell_type": "code",
      "metadata": {
        "id": "Y5R1YEo_BMOc"
      },
      "source": [
        "import tensorflow as tf \n",
        "import pandas as pd \n",
        "import numpy as np \n",
        "import matplotlib.pyplot as plt \n",
        "import keras \n",
        "from keras.models import Sequential \n",
        "from keras.layers import Dense \n",
        "from sklearn.metrics import confusion_matrix "
      ],
      "execution_count": 426,
      "outputs": []
    },
    {
      "cell_type": "markdown",
      "metadata": {
        "id": "MqGBMKv0HvVM"
      },
      "source": [
        "## Using LSTM"
      ]
    },
    {
      "cell_type": "markdown",
      "metadata": {
        "id": "B2uIFD452b24"
      },
      "source": [
        "### Importing libraries"
      ]
    },
    {
      "cell_type": "code",
      "metadata": {
        "id": "ccMkltE9ebcw",
        "colab": {
          "base_uri": "https://localhost:8080/"
        },
        "outputId": "ec5e14b4-c9a6-4afc-cd03-fd360d3008c5"
      },
      "source": [
        "pip install nsepy"
      ],
      "execution_count": 427,
      "outputs": [
        {
          "output_type": "stream",
          "text": [
            "Requirement already satisfied: nsepy in /usr/local/lib/python3.6/dist-packages (0.8)\n",
            "Requirement already satisfied: numpy in /usr/local/lib/python3.6/dist-packages (from nsepy) (1.18.5)\n",
            "Requirement already satisfied: click in /usr/local/lib/python3.6/dist-packages (from nsepy) (7.1.2)\n",
            "Requirement already satisfied: six in /usr/local/lib/python3.6/dist-packages (from nsepy) (1.15.0)\n",
            "Requirement already satisfied: requests in /usr/local/lib/python3.6/dist-packages (from nsepy) (2.23.0)\n",
            "Requirement already satisfied: pandas in /usr/local/lib/python3.6/dist-packages (from nsepy) (1.1.4)\n",
            "Requirement already satisfied: beautifulsoup4 in /usr/local/lib/python3.6/dist-packages (from nsepy) (4.6.3)\n",
            "Requirement already satisfied: lxml in /usr/local/lib/python3.6/dist-packages (from nsepy) (4.2.6)\n",
            "Requirement already satisfied: idna<3,>=2.5 in /usr/local/lib/python3.6/dist-packages (from requests->nsepy) (2.10)\n",
            "Requirement already satisfied: chardet<4,>=3.0.2 in /usr/local/lib/python3.6/dist-packages (from requests->nsepy) (3.0.4)\n",
            "Requirement already satisfied: urllib3!=1.25.0,!=1.25.1,<1.26,>=1.21.1 in /usr/local/lib/python3.6/dist-packages (from requests->nsepy) (1.24.3)\n",
            "Requirement already satisfied: certifi>=2017.4.17 in /usr/local/lib/python3.6/dist-packages (from requests->nsepy) (2020.6.20)\n",
            "Requirement already satisfied: python-dateutil>=2.7.3 in /usr/local/lib/python3.6/dist-packages (from pandas->nsepy) (2.8.1)\n",
            "Requirement already satisfied: pytz>=2017.2 in /usr/local/lib/python3.6/dist-packages (from pandas->nsepy) (2018.9)\n"
          ],
          "name": "stdout"
        }
      ]
    },
    {
      "cell_type": "code",
      "metadata": {
        "id": "7fcRAPcyeVTV"
      },
      "source": [
        "from nsepy import get_history as gh\n",
        "import datetime as dt\n",
        "from matplotlib import pyplot as plt\n",
        "from sklearn import model_selection\n",
        "from sklearn.metrics import confusion_matrix\n",
        "from sklearn.preprocessing import StandardScaler\n",
        "from sklearn.model_selection import train_test_split\n",
        "import numpy as np\n",
        "import pandas as pd\n",
        "from sklearn.preprocessing import MinMaxScaler\n",
        "from keras.models import Sequential\n",
        "from keras.layers import Dense\n",
        "from keras.layers import LSTM\n",
        "from keras.layers import Dropout"
      ],
      "execution_count": 428,
      "outputs": []
    },
    {
      "cell_type": "code",
      "metadata": {
        "id": "rpjHV_boZZl8"
      },
      "source": [
        "from sklearn.preprocessing import MinMaxScaler\n",
        "sc = MinMaxScaler(feature_range = (0, 1))\n",
        "X_train_scaled = sc.fit_transform(x_train)"
      ],
      "execution_count": 429,
      "outputs": []
    },
    {
      "cell_type": "code",
      "metadata": {
        "id": "ur_xNnK6Zela"
      },
      "source": [
        "X_train, Y_train = np.array(x_train), np.array(y_train)\n",
        "X_train = np.reshape(X_train, (X_train.shape[0], X_train.shape[1], 1))"
      ],
      "execution_count": 430,
      "outputs": []
    },
    {
      "cell_type": "markdown",
      "metadata": {
        "id": "33TKI23A2NVQ"
      },
      "source": [
        "### Building the LSTM"
      ]
    },
    {
      "cell_type": "code",
      "metadata": {
        "id": "SrT0kjBsc2Pm"
      },
      "source": [
        "regressor = Sequential()\n",
        "regressor.add(LSTM(units = 50, return_sequences = True, input_shape = (x_train.shape[1], 1)))\n",
        "regressor.add(Dropout(0.2))\n",
        "regressor.add(LSTM(units = 50, return_sequences = True))\n",
        "regressor.add(Dropout(0.2))\n",
        "regressor.add(LSTM(units = 50, return_sequences = True))\n",
        "regressor.add(Dropout(0.2))\n",
        "regressor.add(LSTM(units = 50))\n",
        "regressor.add(Dropout(0.2))\n",
        "regressor.add(Dense(units = 1))"
      ],
      "execution_count": 431,
      "outputs": []
    },
    {
      "cell_type": "markdown",
      "metadata": {
        "id": "L_LlaDFB2qDN"
      },
      "source": [
        "### Compiling and training the model defined in the above step.\n",
        "(Iteratively, we can increase or decrease the epochs and batch size to get more accuracy.)"
      ]
    },
    {
      "cell_type": "code",
      "metadata": {
        "id": "NEg-dl9jeOSR",
        "colab": {
          "base_uri": "https://localhost:8080/"
        },
        "outputId": "08c4a0b3-1053-417e-849c-f9e00f6b49c7"
      },
      "source": [
        "regressor.compile(optimizer = 'adam', loss = 'mean_squared_error')\n",
        "regressor.fit(X_train, Y_train, epochs = 15, batch_size = 32)"
      ],
      "execution_count": 432,
      "outputs": [
        {
          "output_type": "stream",
          "text": [
            "Epoch 1/15\n",
            "110/110 [==============================] - 2s 19ms/step - loss: 0.0035\n",
            "Epoch 2/15\n",
            "110/110 [==============================] - 2s 19ms/step - loss: 6.3227e-04\n",
            "Epoch 3/15\n",
            "110/110 [==============================] - 2s 19ms/step - loss: 5.8119e-04\n",
            "Epoch 4/15\n",
            "110/110 [==============================] - 2s 19ms/step - loss: 6.0218e-04\n",
            "Epoch 5/15\n",
            "110/110 [==============================] - 2s 19ms/step - loss: 4.5714e-04\n",
            "Epoch 6/15\n",
            "110/110 [==============================] - 2s 19ms/step - loss: 5.4250e-04\n",
            "Epoch 7/15\n",
            "110/110 [==============================] - 2s 19ms/step - loss: 4.7863e-04\n",
            "Epoch 8/15\n",
            "110/110 [==============================] - 2s 19ms/step - loss: 4.3633e-04\n",
            "Epoch 9/15\n",
            "110/110 [==============================] - 2s 19ms/step - loss: 3.9559e-04\n",
            "Epoch 10/15\n",
            "110/110 [==============================] - 2s 19ms/step - loss: 4.6360e-04\n",
            "Epoch 11/15\n",
            "110/110 [==============================] - 2s 19ms/step - loss: 4.1248e-04\n",
            "Epoch 12/15\n",
            "110/110 [==============================] - 2s 19ms/step - loss: 4.7382e-04\n",
            "Epoch 13/15\n",
            "110/110 [==============================] - 2s 20ms/step - loss: 3.7048e-04\n",
            "Epoch 14/15\n",
            "110/110 [==============================] - 2s 19ms/step - loss: 3.4897e-04\n",
            "Epoch 15/15\n",
            "110/110 [==============================] - 2s 19ms/step - loss: 4.2810e-04\n"
          ],
          "name": "stdout"
        },
        {
          "output_type": "execute_result",
          "data": {
            "text/plain": [
              "<tensorflow.python.keras.callbacks.History at 0x7fe41ac956a0>"
            ]
          },
          "metadata": {
            "tags": []
          },
          "execution_count": 432
        }
      ]
    },
    {
      "cell_type": "code",
      "metadata": {
        "id": "r2ZrIgaX03cC"
      },
      "source": [
        "X_test = np.array(X)\n",
        "X_test = np.reshape(X_test, (X_test.shape[0],X_test.shape[1], 1))\n",
        "predicted_stock_price = regressor.predict(X_test)"
      ],
      "execution_count": 433,
      "outputs": []
    },
    {
      "cell_type": "code",
      "metadata": {
        "id": "LDrGcESafEp5"
      },
      "source": [
        "real_stock_price = np.asarray(Y)\n",
        "# real_stock_price=real_stock_price.reshape(1167,1)"
      ],
      "execution_count": 434,
      "outputs": []
    },
    {
      "cell_type": "code",
      "metadata": {
        "id": "koD72IuliN0t",
        "colab": {
          "base_uri": "https://localhost:8080/"
        },
        "outputId": "02f85a8c-ae52-4c55-e7b3-1b1a32532faa"
      },
      "source": [
        "predicted_stock_price"
      ],
      "execution_count": 435,
      "outputs": [
        {
          "output_type": "execute_result",
          "data": {
            "text/plain": [
              "array([[0.00506728],\n",
              "       [0.00506728],\n",
              "       [0.00506728],\n",
              "       ...,\n",
              "       [0.63422465],\n",
              "       [0.6509004 ],\n",
              "       [0.6871252 ]], dtype=float32)"
            ]
          },
          "metadata": {
            "tags": []
          },
          "execution_count": 435
        }
      ]
    },
    {
      "cell_type": "code",
      "metadata": {
        "id": "bXqa74JLiSvC",
        "colab": {
          "base_uri": "https://localhost:8080/"
        },
        "outputId": "ee6017ce-880a-4fec-fece-2bf7c22ac563"
      },
      "source": [
        "real_stock_price"
      ],
      "execution_count": 436,
      "outputs": [
        {
          "output_type": "execute_result",
          "data": {
            "text/plain": [
              "array([-0.0692207 , -0.06783717, -0.06642937, ...,  0.68451119,\n",
              "        0.72849284,  0.77305703])"
            ]
          },
          "metadata": {
            "tags": []
          },
          "execution_count": 436
        }
      ]
    },
    {
      "cell_type": "markdown",
      "metadata": {
        "id": "oWXVsRgp2DcB"
      },
      "source": [
        "### Plotting the results"
      ]
    },
    {
      "cell_type": "code",
      "metadata": {
        "id": "bTm04GWiiU9O",
        "colab": {
          "base_uri": "https://localhost:8080/",
          "height": 621
        },
        "outputId": "129b42cc-1dac-4a48-9ea2-523034d5c342"
      },
      "source": [
        "plt.figure(figsize=(20,10))\n",
        "plt.plot(real_stock_price, color = 'green', label = 'Stock Price')\n",
        "plt.plot(predicted_stock_price, color = 'red', label = 'Predicted Stock Price')\n",
        "plt.title('Stock Price Prediction')\n",
        "plt.xlabel('Trading Day')\n",
        "plt.ylabel('Stock Price')\n",
        "plt.legend()\n",
        "plt.show()"
      ],
      "execution_count": 437,
      "outputs": [
        {
          "output_type": "display_data",
          "data": {
            "image/png": "[encoded data removed]",
            "text/plain": [
              "<Figure size 1440x720 with 1 Axes>"
            ]
          },
          "metadata": {
            "tags": [],
            "needs_background": "light"
          }
        }
      ]
    },
    {
      "cell_type": "code",
      "metadata": {
        "id": "7hCjZ69viYqn",
        "colab": {
          "base_uri": "https://localhost:8080/"
        },
        "outputId": "9bcaf7fa-ad7f-48ee-ba18-941c87cd6160"
      },
      "source": [
        "from sklearn.metrics import mean_squared_error as MSE\n",
        "rmse = MSE(real_stock_price,predicted_stock_price)**(1/2)\n",
        "rmse"
      ],
      "execution_count": 438,
      "outputs": [
        {
          "output_type": "execute_result",
          "data": {
            "text/plain": [
              "0.015286249498916743"
            ]
          },
          "metadata": {
            "tags": []
          },
          "execution_count": 438
        }
      ]
    }
  ]
}