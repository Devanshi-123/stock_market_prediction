{
  "nbformat": 4,
  "nbformat_minor": 0,
  "metadata": {
    "colab": {
      "name": "LSTM RNN(metallic).ipynb",
      "provenance": []
    },
    "kernelspec": {
      "name": "python3",
      "display_name": "Python 3"
    }
  },
  "cells": [
    {
      "cell_type": "markdown",
      "metadata": {
        "id": "qhaHsElbbDCN"
      },
      "source": [
        "Metallic Dataset"
      ]
    },
    {
      "cell_type": "code",
      "metadata": {
        "id": "3kzT3P--axhs",
        "outputId": "6bd74699-88d5-4ce2-8c0a-a609acd9f325",
        "colab": {
          "base_uri": "https://localhost:8080/"
        }
      },
      "source": [
        "cd /content/drive/My Drive/AI lab"
      ],
      "execution_count": 2,
      "outputs": [
        {
          "output_type": "stream",
          "text": [
            "/content/drive/My Drive/AI lab\n"
          ],
          "name": "stdout"
        }
      ]
    },
    {
      "cell_type": "code",
      "metadata": {
        "id": "xBnx9ssTcvmm"
      },
      "source": [
        "pip install nsepy"
      ],
      "execution_count": null,
      "outputs": []
    },
    {
      "cell_type": "code",
      "metadata": {
        "id": "HpVLXF0lc0xQ"
      },
      "source": [
        "pip install tensorflow"
      ],
      "execution_count": null,
      "outputs": []
    },
    {
      "cell_type": "code",
      "metadata": {
        "id": "1VM08o51bZoE"
      },
      "source": [
        "from nsepy import get_history as gh\n",
        "import datetime as dt\n",
        "from matplotlib import pyplot as plt\n",
        "from sklearn import model_selection\n",
        "from sklearn.metrics import confusion_matrix\n",
        "from sklearn.preprocessing import StandardScaler\n",
        "from sklearn.model_selection import train_test_split\n",
        "import numpy as np\n",
        "import pandas as pd\n",
        "from sklearn.preprocessing import MinMaxScaler\n",
        "from keras.models import Sequential\n",
        "from keras.layers import Dense\n",
        "from keras.layers import LSTM\n",
        "from keras.layers import Dropout"
      ],
      "execution_count": 4,
      "outputs": []
    },
    {
      "cell_type": "code",
      "metadata": {
        "id": "-lhpnLcNa-zX",
        "outputId": "89aa76fb-76c0-4b20-d2f6-6c2f1a6c9e00",
        "colab": {
          "base_uri": "https://localhost:8080/",
          "height": 195
        }
      },
      "source": [
        "#Importing the dataset\n",
        "df=pd.read_csv(\"Stock_ZMYD1.csv\")\n",
        "df.head()"
      ],
      "execution_count": 5,
      "outputs": [
        {
          "output_type": "execute_result",
          "data": {
            "text/html": [
              "<div>\n",
              "<style scoped>\n",
              "    .dataframe tbody tr th:only-of-type {\n",
              "        vertical-align: middle;\n",
              "    }\n",
              "\n",
              "    .dataframe tbody tr th {\n",
              "        vertical-align: top;\n",
              "    }\n",
              "\n",
              "    .dataframe thead th {\n",
              "        text-align: right;\n",
              "    }\n",
              "</style>\n",
              "<table border=\"1\" class=\"dataframe\">\n",
              "  <thead>\n",
              "    <tr style=\"text-align: right;\">\n",
              "      <th></th>\n",
              "      <th>Unnamed: 0</th>\n",
              "      <th>&lt;TICKER&gt;</th>\n",
              "      <th>&lt;DTYYYYMMDD&gt;</th>\n",
              "      <th>&lt;FIRST&gt;</th>\n",
              "      <th>&lt;HIGH&gt;</th>\n",
              "      <th>&lt;LOW&gt;</th>\n",
              "      <th>&lt;CLOSE&gt;</th>\n",
              "      <th>&lt;VALUE&gt;</th>\n",
              "      <th>&lt;VOL&gt;</th>\n",
              "      <th>&lt;OPENINT&gt;</th>\n",
              "      <th>&lt;PER&gt;</th>\n",
              "      <th>&lt;OPEN&gt;</th>\n",
              "      <th>&lt;LAST&gt;</th>\n",
              "    </tr>\n",
              "  </thead>\n",
              "  <tbody>\n",
              "    <tr>\n",
              "      <th>0</th>\n",
              "      <td>0</td>\n",
              "      <td>Zamyad</td>\n",
              "      <td>20010408</td>\n",
              "      <td>16387.0</td>\n",
              "      <td>16690.0</td>\n",
              "      <td>16379.0</td>\n",
              "      <td>16690.0</td>\n",
              "      <td>105522480</td>\n",
              "      <td>6413</td>\n",
              "      <td>62</td>\n",
              "      <td>D</td>\n",
              "      <td>0.0</td>\n",
              "      <td>16690.0</td>\n",
              "    </tr>\n",
              "    <tr>\n",
              "      <th>1</th>\n",
              "      <td>1</td>\n",
              "      <td>Zamyad</td>\n",
              "      <td>20010410</td>\n",
              "      <td>16495.0</td>\n",
              "      <td>16495.0</td>\n",
              "      <td>16495.0</td>\n",
              "      <td>16495.0</td>\n",
              "      <td>3364980</td>\n",
              "      <td>204</td>\n",
              "      <td>1</td>\n",
              "      <td>D</td>\n",
              "      <td>16690.0</td>\n",
              "      <td>16495.0</td>\n",
              "    </tr>\n",
              "    <tr>\n",
              "      <th>2</th>\n",
              "      <td>2</td>\n",
              "      <td>Zamyad</td>\n",
              "      <td>20010411</td>\n",
              "      <td>16200.0</td>\n",
              "      <td>16200.0</td>\n",
              "      <td>16000.0</td>\n",
              "      <td>16000.0</td>\n",
              "      <td>66762000</td>\n",
              "      <td>4170</td>\n",
              "      <td>18</td>\n",
              "      <td>D</td>\n",
              "      <td>16495.0</td>\n",
              "      <td>16000.0</td>\n",
              "    </tr>\n",
              "    <tr>\n",
              "      <th>3</th>\n",
              "      <td>3</td>\n",
              "      <td>Zamyad</td>\n",
              "      <td>20010414</td>\n",
              "      <td>16000.0</td>\n",
              "      <td>16000.0</td>\n",
              "      <td>15700.0</td>\n",
              "      <td>16000.0</td>\n",
              "      <td>154041834</td>\n",
              "      <td>9654</td>\n",
              "      <td>85</td>\n",
              "      <td>D</td>\n",
              "      <td>16000.0</td>\n",
              "      <td>16000.0</td>\n",
              "    </tr>\n",
              "    <tr>\n",
              "      <th>4</th>\n",
              "      <td>4</td>\n",
              "      <td>Zamyad</td>\n",
              "      <td>20010415</td>\n",
              "      <td>16000.0</td>\n",
              "      <td>16200.0</td>\n",
              "      <td>16000.0</td>\n",
              "      <td>16200.0</td>\n",
              "      <td>50549340</td>\n",
              "      <td>3143</td>\n",
              "      <td>26</td>\n",
              "      <td>D</td>\n",
              "      <td>16000.0</td>\n",
              "      <td>16200.0</td>\n",
              "    </tr>\n",
              "  </tbody>\n",
              "</table>\n",
              "</div>"
            ],
            "text/plain": [
              "   Unnamed: 0 <TICKER>  <DTYYYYMMDD>  ...  <PER>   <OPEN>   <LAST>\n",
              "0           0   Zamyad      20010408  ...      D      0.0  16690.0\n",
              "1           1   Zamyad      20010410  ...      D  16690.0  16495.0\n",
              "2           2   Zamyad      20010411  ...      D  16495.0  16000.0\n",
              "3           3   Zamyad      20010414  ...      D  16000.0  16000.0\n",
              "4           4   Zamyad      20010415  ...      D  16000.0  16200.0\n",
              "\n",
              "[5 rows x 13 columns]"
            ]
          },
          "metadata": {
            "tags": []
          },
          "execution_count": 5
        }
      ]
    },
    {
      "cell_type": "code",
      "metadata": {
        "id": "fkFU_G2-b_hK",
        "outputId": "4c48d0f8-83a2-4e7d-b809-660269d10f6f",
        "colab": {
          "base_uri": "https://localhost:8080/",
          "height": 225
        }
      },
      "source": [
        "df['datetime'] = pd.to_datetime(df['<DTYYYYMMDD>'], format='%Y%m%d')\n",
        "df.index = df['datetime']\n",
        "df.dropna()\n",
        "df_new = df[[\"<FIRST>\",\"<HIGH>\",\"<LOW>\",\"<CLOSE>\",\"<VALUE>\",\"<VOL>\"]]\n",
        "df_new.head()"
      ],
      "execution_count": 6,
      "outputs": [
        {
          "output_type": "execute_result",
          "data": {
            "text/html": [
              "<div>\n",
              "<style scoped>\n",
              "    .dataframe tbody tr th:only-of-type {\n",
              "        vertical-align: middle;\n",
              "    }\n",
              "\n",
              "    .dataframe tbody tr th {\n",
              "        vertical-align: top;\n",
              "    }\n",
              "\n",
              "    .dataframe thead th {\n",
              "        text-align: right;\n",
              "    }\n",
              "</style>\n",
              "<table border=\"1\" class=\"dataframe\">\n",
              "  <thead>\n",
              "    <tr style=\"text-align: right;\">\n",
              "      <th></th>\n",
              "      <th>&lt;FIRST&gt;</th>\n",
              "      <th>&lt;HIGH&gt;</th>\n",
              "      <th>&lt;LOW&gt;</th>\n",
              "      <th>&lt;CLOSE&gt;</th>\n",
              "      <th>&lt;VALUE&gt;</th>\n",
              "      <th>&lt;VOL&gt;</th>\n",
              "    </tr>\n",
              "    <tr>\n",
              "      <th>datetime</th>\n",
              "      <th></th>\n",
              "      <th></th>\n",
              "      <th></th>\n",
              "      <th></th>\n",
              "      <th></th>\n",
              "      <th></th>\n",
              "    </tr>\n",
              "  </thead>\n",
              "  <tbody>\n",
              "    <tr>\n",
              "      <th>2001-04-08</th>\n",
              "      <td>16387.0</td>\n",
              "      <td>16690.0</td>\n",
              "      <td>16379.0</td>\n",
              "      <td>16690.0</td>\n",
              "      <td>105522480</td>\n",
              "      <td>6413</td>\n",
              "    </tr>\n",
              "    <tr>\n",
              "      <th>2001-04-10</th>\n",
              "      <td>16495.0</td>\n",
              "      <td>16495.0</td>\n",
              "      <td>16495.0</td>\n",
              "      <td>16495.0</td>\n",
              "      <td>3364980</td>\n",
              "      <td>204</td>\n",
              "    </tr>\n",
              "    <tr>\n",
              "      <th>2001-04-11</th>\n",
              "      <td>16200.0</td>\n",
              "      <td>16200.0</td>\n",
              "      <td>16000.0</td>\n",
              "      <td>16000.0</td>\n",
              "      <td>66762000</td>\n",
              "      <td>4170</td>\n",
              "    </tr>\n",
              "    <tr>\n",
              "      <th>2001-04-14</th>\n",
              "      <td>16000.0</td>\n",
              "      <td>16000.0</td>\n",
              "      <td>15700.0</td>\n",
              "      <td>16000.0</td>\n",
              "      <td>154041834</td>\n",
              "      <td>9654</td>\n",
              "    </tr>\n",
              "    <tr>\n",
              "      <th>2001-04-15</th>\n",
              "      <td>16000.0</td>\n",
              "      <td>16200.0</td>\n",
              "      <td>16000.0</td>\n",
              "      <td>16200.0</td>\n",
              "      <td>50549340</td>\n",
              "      <td>3143</td>\n",
              "    </tr>\n",
              "  </tbody>\n",
              "</table>\n",
              "</div>"
            ],
            "text/plain": [
              "            <FIRST>   <HIGH>    <LOW>  <CLOSE>    <VALUE>  <VOL>\n",
              "datetime                                                        \n",
              "2001-04-08  16387.0  16690.0  16379.0  16690.0  105522480   6413\n",
              "2001-04-10  16495.0  16495.0  16495.0  16495.0    3364980    204\n",
              "2001-04-11  16200.0  16200.0  16000.0  16000.0   66762000   4170\n",
              "2001-04-14  16000.0  16000.0  15700.0  16000.0  154041834   9654\n",
              "2001-04-15  16000.0  16200.0  16000.0  16200.0   50549340   3143"
            ]
          },
          "metadata": {
            "tags": []
          },
          "execution_count": 6
        }
      ]
    },
    {
      "cell_type": "markdown",
      "metadata": {
        "id": "o81r4WS3Nnek"
      },
      "source": [
        "###Calculating the technical indicators"
      ]
    },
    {
      "cell_type": "code",
      "metadata": {
        "id": "COnxBI3TNC43",
        "outputId": "034751ee-916e-4edf-ef31-4b5e23277bb1",
        "colab": {
          "base_uri": "https://localhost:8080/",
          "height": 225
        }
      },
      "source": [
        "#1. Simple n day moving average\n",
        "def moving_average(df, n):\n",
        "    \"\"\"Calculate the moving average for the given data.\n",
        "    :param df: pandas.DataFrame\n",
        "    :param n:\n",
        "    :return: pandas.DataFrame\n",
        "    \"\"\"\n",
        "    MA = pd.Series(df['<CLOSE>'].rolling(n, min_periods=n).mean(), name='MA_' + str(n))\n",
        "    df = df.join(MA)\n",
        "    return df\n",
        "df_new = moving_average(df_new,10)\n",
        "df_new.tail()"
      ],
      "execution_count": 7,
      "outputs": [
        {
          "output_type": "execute_result",
          "data": {
            "text/html": [
              "<div>\n",
              "<style scoped>\n",
              "    .dataframe tbody tr th:only-of-type {\n",
              "        vertical-align: middle;\n",
              "    }\n",
              "\n",
              "    .dataframe tbody tr th {\n",
              "        vertical-align: top;\n",
              "    }\n",
              "\n",
              "    .dataframe thead th {\n",
              "        text-align: right;\n",
              "    }\n",
              "</style>\n",
              "<table border=\"1\" class=\"dataframe\">\n",
              "  <thead>\n",
              "    <tr style=\"text-align: right;\">\n",
              "      <th></th>\n",
              "      <th>&lt;FIRST&gt;</th>\n",
              "      <th>&lt;HIGH&gt;</th>\n",
              "      <th>&lt;LOW&gt;</th>\n",
              "      <th>&lt;CLOSE&gt;</th>\n",
              "      <th>&lt;VALUE&gt;</th>\n",
              "      <th>&lt;VOL&gt;</th>\n",
              "      <th>MA_10</th>\n",
              "    </tr>\n",
              "    <tr>\n",
              "      <th>datetime</th>\n",
              "      <th></th>\n",
              "      <th></th>\n",
              "      <th></th>\n",
              "      <th></th>\n",
              "      <th></th>\n",
              "      <th></th>\n",
              "      <th></th>\n",
              "    </tr>\n",
              "  </thead>\n",
              "  <tbody>\n",
              "    <tr>\n",
              "      <th>2020-05-20</th>\n",
              "      <td>11149.0</td>\n",
              "      <td>11149.0</td>\n",
              "      <td>11149.0</td>\n",
              "      <td>11149.0</td>\n",
              "      <td>97550739770</td>\n",
              "      <td>8749730</td>\n",
              "      <td>9420.5</td>\n",
              "    </tr>\n",
              "    <tr>\n",
              "      <th>2020-05-23</th>\n",
              "      <td>11680.0</td>\n",
              "      <td>11706.0</td>\n",
              "      <td>11150.0</td>\n",
              "      <td>11643.0</td>\n",
              "      <td>1613620738967</td>\n",
              "      <td>138593153</td>\n",
              "      <td>9797.0</td>\n",
              "    </tr>\n",
              "    <tr>\n",
              "      <th>2020-05-30</th>\n",
              "      <td>11061.0</td>\n",
              "      <td>11061.0</td>\n",
              "      <td>11061.0</td>\n",
              "      <td>11061.0</td>\n",
              "      <td>148747841316</td>\n",
              "      <td>13447956</td>\n",
              "      <td>10090.2</td>\n",
              "    </tr>\n",
              "    <tr>\n",
              "      <th>2020-05-31</th>\n",
              "      <td>10508.0</td>\n",
              "      <td>10508.0</td>\n",
              "      <td>10508.0</td>\n",
              "      <td>10727.0</td>\n",
              "      <td>27225387360</td>\n",
              "      <td>2590920</td>\n",
              "      <td>10314.2</td>\n",
              "    </tr>\n",
              "    <tr>\n",
              "      <th>2020-06-01</th>\n",
              "      <td>10191.0</td>\n",
              "      <td>10191.0</td>\n",
              "      <td>10191.0</td>\n",
              "      <td>10242.0</td>\n",
              "      <td>39620600373</td>\n",
              "      <td>3887803</td>\n",
              "      <td>10454.2</td>\n",
              "    </tr>\n",
              "  </tbody>\n",
              "</table>\n",
              "</div>"
            ],
            "text/plain": [
              "            <FIRST>   <HIGH>    <LOW>  ...        <VALUE>      <VOL>    MA_10\n",
              "datetime                               ...                                   \n",
              "2020-05-20  11149.0  11149.0  11149.0  ...    97550739770    8749730   9420.5\n",
              "2020-05-23  11680.0  11706.0  11150.0  ...  1613620738967  138593153   9797.0\n",
              "2020-05-30  11061.0  11061.0  11061.0  ...   148747841316   13447956  10090.2\n",
              "2020-05-31  10508.0  10508.0  10508.0  ...    27225387360    2590920  10314.2\n",
              "2020-06-01  10191.0  10191.0  10191.0  ...    39620600373    3887803  10454.2\n",
              "\n",
              "[5 rows x 7 columns]"
            ]
          },
          "metadata": {
            "tags": []
          },
          "execution_count": 7
        }
      ]
    },
    {
      "cell_type": "code",
      "metadata": {
        "id": "zuBalen7N70Y",
        "outputId": "605acaf7-1784-4cc4-d50d-f02204f5725b",
        "colab": {
          "base_uri": "https://localhost:8080/",
          "height": 225
        }
      },
      "source": [
        "#2. Weighted Moving Average (WMA)\n",
        "def weighted_moving_average(df, n):\n",
        "    \"\"\"\n",
        "    :param df: pandas.DataFrame\n",
        "    :param n:\n",
        "    :return: pandas.DataFrame\n",
        "    \"\"\"\n",
        "    WMA = pd.Series(df['<CLOSE>'].ewm(span=n, min_periods=n).mean(), name='WMA_' + str(n))\n",
        "    df = df.join(WMA)\n",
        "    return df\n",
        "df_new = weighted_moving_average(df_new,10)\n",
        "df_new.tail()"
      ],
      "execution_count": 8,
      "outputs": [
        {
          "output_type": "execute_result",
          "data": {
            "text/html": [
              "<div>\n",
              "<style scoped>\n",
              "    .dataframe tbody tr th:only-of-type {\n",
              "        vertical-align: middle;\n",
              "    }\n",
              "\n",
              "    .dataframe tbody tr th {\n",
              "        vertical-align: top;\n",
              "    }\n",
              "\n",
              "    .dataframe thead th {\n",
              "        text-align: right;\n",
              "    }\n",
              "</style>\n",
              "<table border=\"1\" class=\"dataframe\">\n",
              "  <thead>\n",
              "    <tr style=\"text-align: right;\">\n",
              "      <th></th>\n",
              "      <th>&lt;FIRST&gt;</th>\n",
              "      <th>&lt;HIGH&gt;</th>\n",
              "      <th>&lt;LOW&gt;</th>\n",
              "      <th>&lt;CLOSE&gt;</th>\n",
              "      <th>&lt;VALUE&gt;</th>\n",
              "      <th>&lt;VOL&gt;</th>\n",
              "      <th>MA_10</th>\n",
              "      <th>WMA_10</th>\n",
              "    </tr>\n",
              "    <tr>\n",
              "      <th>datetime</th>\n",
              "      <th></th>\n",
              "      <th></th>\n",
              "      <th></th>\n",
              "      <th></th>\n",
              "      <th></th>\n",
              "      <th></th>\n",
              "      <th></th>\n",
              "      <th></th>\n",
              "    </tr>\n",
              "  </thead>\n",
              "  <tbody>\n",
              "    <tr>\n",
              "      <th>2020-05-20</th>\n",
              "      <td>11149.0</td>\n",
              "      <td>11149.0</td>\n",
              "      <td>11149.0</td>\n",
              "      <td>11149.0</td>\n",
              "      <td>97550739770</td>\n",
              "      <td>8749730</td>\n",
              "      <td>9420.5</td>\n",
              "      <td>9512.588423</td>\n",
              "    </tr>\n",
              "    <tr>\n",
              "      <th>2020-05-23</th>\n",
              "      <td>11680.0</td>\n",
              "      <td>11706.0</td>\n",
              "      <td>11150.0</td>\n",
              "      <td>11643.0</td>\n",
              "      <td>1613620738967</td>\n",
              "      <td>138593153</td>\n",
              "      <td>9797.0</td>\n",
              "      <td>9899.935982</td>\n",
              "    </tr>\n",
              "    <tr>\n",
              "      <th>2020-05-30</th>\n",
              "      <td>11061.0</td>\n",
              "      <td>11061.0</td>\n",
              "      <td>11061.0</td>\n",
              "      <td>11061.0</td>\n",
              "      <td>148747841316</td>\n",
              "      <td>13447956</td>\n",
              "      <td>10090.2</td>\n",
              "      <td>10111.038531</td>\n",
              "    </tr>\n",
              "    <tr>\n",
              "      <th>2020-05-31</th>\n",
              "      <td>10508.0</td>\n",
              "      <td>10508.0</td>\n",
              "      <td>10508.0</td>\n",
              "      <td>10727.0</td>\n",
              "      <td>27225387360</td>\n",
              "      <td>2590920</td>\n",
              "      <td>10314.2</td>\n",
              "      <td>10223.031525</td>\n",
              "    </tr>\n",
              "    <tr>\n",
              "      <th>2020-06-01</th>\n",
              "      <td>10191.0</td>\n",
              "      <td>10191.0</td>\n",
              "      <td>10191.0</td>\n",
              "      <td>10242.0</td>\n",
              "      <td>39620600373</td>\n",
              "      <td>3887803</td>\n",
              "      <td>10454.2</td>\n",
              "      <td>10226.480339</td>\n",
              "    </tr>\n",
              "  </tbody>\n",
              "</table>\n",
              "</div>"
            ],
            "text/plain": [
              "            <FIRST>   <HIGH>    <LOW>  ...      <VOL>    MA_10        WMA_10\n",
              "datetime                               ...                                  \n",
              "2020-05-20  11149.0  11149.0  11149.0  ...    8749730   9420.5   9512.588423\n",
              "2020-05-23  11680.0  11706.0  11150.0  ...  138593153   9797.0   9899.935982\n",
              "2020-05-30  11061.0  11061.0  11061.0  ...   13447956  10090.2  10111.038531\n",
              "2020-05-31  10508.0  10508.0  10508.0  ...    2590920  10314.2  10223.031525\n",
              "2020-06-01  10191.0  10191.0  10191.0  ...    3887803  10454.2  10226.480339\n",
              "\n",
              "[5 rows x 8 columns]"
            ]
          },
          "metadata": {
            "tags": []
          },
          "execution_count": 8
        }
      ]
    },
    {
      "cell_type": "code",
      "metadata": {
        "id": "srCVNwcXOFHw",
        "outputId": "988c8a0c-9c03-4252-fc0d-5e7ffb61bab5",
        "colab": {
          "base_uri": "https://localhost:8080/",
          "height": 225
        }
      },
      "source": [
        "#3. Momentum\n",
        "def momentum(df, n):\n",
        "    \"\"\"\n",
        "    :param df: pandas.DataFrame\n",
        "    :param n:\n",
        "    :return: pandas.DataFrame\n",
        "    \"\"\"\n",
        "    M = pd.Series(df['<CLOSE>'].diff(n), name='MOM_' + str(n))\n",
        "    df = df.join(M)\n",
        "    return df\n",
        "df_new = momentum(df_new,10)\n",
        "df_new.tail()"
      ],
      "execution_count": 9,
      "outputs": [
        {
          "output_type": "execute_result",
          "data": {
            "text/html": [
              "<div>\n",
              "<style scoped>\n",
              "    .dataframe tbody tr th:only-of-type {\n",
              "        vertical-align: middle;\n",
              "    }\n",
              "\n",
              "    .dataframe tbody tr th {\n",
              "        vertical-align: top;\n",
              "    }\n",
              "\n",
              "    .dataframe thead th {\n",
              "        text-align: right;\n",
              "    }\n",
              "</style>\n",
              "<table border=\"1\" class=\"dataframe\">\n",
              "  <thead>\n",
              "    <tr style=\"text-align: right;\">\n",
              "      <th></th>\n",
              "      <th>&lt;FIRST&gt;</th>\n",
              "      <th>&lt;HIGH&gt;</th>\n",
              "      <th>&lt;LOW&gt;</th>\n",
              "      <th>&lt;CLOSE&gt;</th>\n",
              "      <th>&lt;VALUE&gt;</th>\n",
              "      <th>&lt;VOL&gt;</th>\n",
              "      <th>MA_10</th>\n",
              "      <th>WMA_10</th>\n",
              "      <th>MOM_10</th>\n",
              "    </tr>\n",
              "    <tr>\n",
              "      <th>datetime</th>\n",
              "      <th></th>\n",
              "      <th></th>\n",
              "      <th></th>\n",
              "      <th></th>\n",
              "      <th></th>\n",
              "      <th></th>\n",
              "      <th></th>\n",
              "      <th></th>\n",
              "      <th></th>\n",
              "    </tr>\n",
              "  </thead>\n",
              "  <tbody>\n",
              "    <tr>\n",
              "      <th>2020-05-20</th>\n",
              "      <td>11149.0</td>\n",
              "      <td>11149.0</td>\n",
              "      <td>11149.0</td>\n",
              "      <td>11149.0</td>\n",
              "      <td>97550739770</td>\n",
              "      <td>8749730</td>\n",
              "      <td>9420.5</td>\n",
              "      <td>9512.588423</td>\n",
              "      <td>3534.0</td>\n",
              "    </tr>\n",
              "    <tr>\n",
              "      <th>2020-05-23</th>\n",
              "      <td>11680.0</td>\n",
              "      <td>11706.0</td>\n",
              "      <td>11150.0</td>\n",
              "      <td>11643.0</td>\n",
              "      <td>1613620738967</td>\n",
              "      <td>138593153</td>\n",
              "      <td>9797.0</td>\n",
              "      <td>9899.935982</td>\n",
              "      <td>3765.0</td>\n",
              "    </tr>\n",
              "    <tr>\n",
              "      <th>2020-05-30</th>\n",
              "      <td>11061.0</td>\n",
              "      <td>11061.0</td>\n",
              "      <td>11061.0</td>\n",
              "      <td>11061.0</td>\n",
              "      <td>148747841316</td>\n",
              "      <td>13447956</td>\n",
              "      <td>10090.2</td>\n",
              "      <td>10111.038531</td>\n",
              "      <td>2932.0</td>\n",
              "    </tr>\n",
              "    <tr>\n",
              "      <th>2020-05-31</th>\n",
              "      <td>10508.0</td>\n",
              "      <td>10508.0</td>\n",
              "      <td>10508.0</td>\n",
              "      <td>10727.0</td>\n",
              "      <td>27225387360</td>\n",
              "      <td>2590920</td>\n",
              "      <td>10314.2</td>\n",
              "      <td>10223.031525</td>\n",
              "      <td>2240.0</td>\n",
              "    </tr>\n",
              "    <tr>\n",
              "      <th>2020-06-01</th>\n",
              "      <td>10191.0</td>\n",
              "      <td>10191.0</td>\n",
              "      <td>10191.0</td>\n",
              "      <td>10242.0</td>\n",
              "      <td>39620600373</td>\n",
              "      <td>3887803</td>\n",
              "      <td>10454.2</td>\n",
              "      <td>10226.480339</td>\n",
              "      <td>1400.0</td>\n",
              "    </tr>\n",
              "  </tbody>\n",
              "</table>\n",
              "</div>"
            ],
            "text/plain": [
              "            <FIRST>   <HIGH>    <LOW>  ...    MA_10        WMA_10  MOM_10\n",
              "datetime                               ...                               \n",
              "2020-05-20  11149.0  11149.0  11149.0  ...   9420.5   9512.588423  3534.0\n",
              "2020-05-23  11680.0  11706.0  11150.0  ...   9797.0   9899.935982  3765.0\n",
              "2020-05-30  11061.0  11061.0  11061.0  ...  10090.2  10111.038531  2932.0\n",
              "2020-05-31  10508.0  10508.0  10508.0  ...  10314.2  10223.031525  2240.0\n",
              "2020-06-01  10191.0  10191.0  10191.0  ...  10454.2  10226.480339  1400.0\n",
              "\n",
              "[5 rows x 9 columns]"
            ]
          },
          "metadata": {
            "tags": []
          },
          "execution_count": 9
        }
      ]
    },
    {
      "cell_type": "code",
      "metadata": {
        "id": "SmTGSicROI1T",
        "outputId": "4cc6194d-b343-439f-e29a-11f98ff0a200",
        "colab": {
          "base_uri": "https://localhost:8080/",
          "height": 225
        }
      },
      "source": [
        "#4. Stochastic K%\n",
        "def stochastic_oscillator_k(df):\n",
        "    \"\"\"Calculate stochastic oscillator %K for given data.\n",
        "    :param df: pandas.DataFrame\n",
        "    :return: pandas.DataFrame\n",
        "    \"\"\"\n",
        "    SOk = pd.Series((df['<CLOSE>'] - df['<LOW>']) / (df['<HIGH>'] - df['<LOW>']), name='SO_k')\n",
        "    df = df.join(SOk)\n",
        "    return df\n",
        "df_new = stochastic_oscillator_k(df_new)\n",
        "df_new.tail()"
      ],
      "execution_count": 10,
      "outputs": [
        {
          "output_type": "execute_result",
          "data": {
            "text/html": [
              "<div>\n",
              "<style scoped>\n",
              "    .dataframe tbody tr th:only-of-type {\n",
              "        vertical-align: middle;\n",
              "    }\n",
              "\n",
              "    .dataframe tbody tr th {\n",
              "        vertical-align: top;\n",
              "    }\n",
              "\n",
              "    .dataframe thead th {\n",
              "        text-align: right;\n",
              "    }\n",
              "</style>\n",
              "<table border=\"1\" class=\"dataframe\">\n",
              "  <thead>\n",
              "    <tr style=\"text-align: right;\">\n",
              "      <th></th>\n",
              "      <th>&lt;FIRST&gt;</th>\n",
              "      <th>&lt;HIGH&gt;</th>\n",
              "      <th>&lt;LOW&gt;</th>\n",
              "      <th>&lt;CLOSE&gt;</th>\n",
              "      <th>&lt;VALUE&gt;</th>\n",
              "      <th>&lt;VOL&gt;</th>\n",
              "      <th>MA_10</th>\n",
              "      <th>WMA_10</th>\n",
              "      <th>MOM_10</th>\n",
              "      <th>SO_k</th>\n",
              "    </tr>\n",
              "    <tr>\n",
              "      <th>datetime</th>\n",
              "      <th></th>\n",
              "      <th></th>\n",
              "      <th></th>\n",
              "      <th></th>\n",
              "      <th></th>\n",
              "      <th></th>\n",
              "      <th></th>\n",
              "      <th></th>\n",
              "      <th></th>\n",
              "      <th></th>\n",
              "    </tr>\n",
              "  </thead>\n",
              "  <tbody>\n",
              "    <tr>\n",
              "      <th>2020-05-20</th>\n",
              "      <td>11149.0</td>\n",
              "      <td>11149.0</td>\n",
              "      <td>11149.0</td>\n",
              "      <td>11149.0</td>\n",
              "      <td>97550739770</td>\n",
              "      <td>8749730</td>\n",
              "      <td>9420.5</td>\n",
              "      <td>9512.588423</td>\n",
              "      <td>3534.0</td>\n",
              "      <td>NaN</td>\n",
              "    </tr>\n",
              "    <tr>\n",
              "      <th>2020-05-23</th>\n",
              "      <td>11680.0</td>\n",
              "      <td>11706.0</td>\n",
              "      <td>11150.0</td>\n",
              "      <td>11643.0</td>\n",
              "      <td>1613620738967</td>\n",
              "      <td>138593153</td>\n",
              "      <td>9797.0</td>\n",
              "      <td>9899.935982</td>\n",
              "      <td>3765.0</td>\n",
              "      <td>0.886691</td>\n",
              "    </tr>\n",
              "    <tr>\n",
              "      <th>2020-05-30</th>\n",
              "      <td>11061.0</td>\n",
              "      <td>11061.0</td>\n",
              "      <td>11061.0</td>\n",
              "      <td>11061.0</td>\n",
              "      <td>148747841316</td>\n",
              "      <td>13447956</td>\n",
              "      <td>10090.2</td>\n",
              "      <td>10111.038531</td>\n",
              "      <td>2932.0</td>\n",
              "      <td>NaN</td>\n",
              "    </tr>\n",
              "    <tr>\n",
              "      <th>2020-05-31</th>\n",
              "      <td>10508.0</td>\n",
              "      <td>10508.0</td>\n",
              "      <td>10508.0</td>\n",
              "      <td>10727.0</td>\n",
              "      <td>27225387360</td>\n",
              "      <td>2590920</td>\n",
              "      <td>10314.2</td>\n",
              "      <td>10223.031525</td>\n",
              "      <td>2240.0</td>\n",
              "      <td>inf</td>\n",
              "    </tr>\n",
              "    <tr>\n",
              "      <th>2020-06-01</th>\n",
              "      <td>10191.0</td>\n",
              "      <td>10191.0</td>\n",
              "      <td>10191.0</td>\n",
              "      <td>10242.0</td>\n",
              "      <td>39620600373</td>\n",
              "      <td>3887803</td>\n",
              "      <td>10454.2</td>\n",
              "      <td>10226.480339</td>\n",
              "      <td>1400.0</td>\n",
              "      <td>inf</td>\n",
              "    </tr>\n",
              "  </tbody>\n",
              "</table>\n",
              "</div>"
            ],
            "text/plain": [
              "            <FIRST>   <HIGH>    <LOW>  ...        WMA_10  MOM_10      SO_k\n",
              "datetime                               ...                                \n",
              "2020-05-20  11149.0  11149.0  11149.0  ...   9512.588423  3534.0       NaN\n",
              "2020-05-23  11680.0  11706.0  11150.0  ...   9899.935982  3765.0  0.886691\n",
              "2020-05-30  11061.0  11061.0  11061.0  ...  10111.038531  2932.0       NaN\n",
              "2020-05-31  10508.0  10508.0  10508.0  ...  10223.031525  2240.0       inf\n",
              "2020-06-01  10191.0  10191.0  10191.0  ...  10226.480339  1400.0       inf\n",
              "\n",
              "[5 rows x 10 columns]"
            ]
          },
          "metadata": {
            "tags": []
          },
          "execution_count": 10
        }
      ]
    },
    {
      "cell_type": "code",
      "metadata": {
        "id": "549JTWMCOLPf",
        "outputId": "4b7c26cf-9713-46eb-96af-b96d77e4a176",
        "colab": {
          "base_uri": "https://localhost:8080/",
          "height": 225
        }
      },
      "source": [
        "#5. Stochastic D%\n",
        "def stochastic_oscillator_d(df, n):\n",
        "    \"\"\"Calculate stochastic oscillator %D for given data.\n",
        "    :param df: pandas.DataFrame\n",
        "    :param n:\n",
        "    :return: pandas.DataFrame\n",
        "    \"\"\"\n",
        "    SOk = pd.Series((df['<CLOSE>'] - df['<LOW>']) / (df['<HIGH>'] - df['<LOW>']), name='SO%k')\n",
        "    SOd = pd.Series(SOk.ewm(span=n, min_periods=n).mean(), name='SO_' + str(n))\n",
        "    df = df.join(SOd)\n",
        "    return df\n",
        "df_new = stochastic_oscillator_d(df_new,10)\n",
        "df_new.tail()"
      ],
      "execution_count": 11,
      "outputs": [
        {
          "output_type": "execute_result",
          "data": {
            "text/html": [
              "<div>\n",
              "<style scoped>\n",
              "    .dataframe tbody tr th:only-of-type {\n",
              "        vertical-align: middle;\n",
              "    }\n",
              "\n",
              "    .dataframe tbody tr th {\n",
              "        vertical-align: top;\n",
              "    }\n",
              "\n",
              "    .dataframe thead th {\n",
              "        text-align: right;\n",
              "    }\n",
              "</style>\n",
              "<table border=\"1\" class=\"dataframe\">\n",
              "  <thead>\n",
              "    <tr style=\"text-align: right;\">\n",
              "      <th></th>\n",
              "      <th>&lt;FIRST&gt;</th>\n",
              "      <th>&lt;HIGH&gt;</th>\n",
              "      <th>&lt;LOW&gt;</th>\n",
              "      <th>&lt;CLOSE&gt;</th>\n",
              "      <th>&lt;VALUE&gt;</th>\n",
              "      <th>&lt;VOL&gt;</th>\n",
              "      <th>MA_10</th>\n",
              "      <th>WMA_10</th>\n",
              "      <th>MOM_10</th>\n",
              "      <th>SO_k</th>\n",
              "      <th>SO_10</th>\n",
              "    </tr>\n",
              "    <tr>\n",
              "      <th>datetime</th>\n",
              "      <th></th>\n",
              "      <th></th>\n",
              "      <th></th>\n",
              "      <th></th>\n",
              "      <th></th>\n",
              "      <th></th>\n",
              "      <th></th>\n",
              "      <th></th>\n",
              "      <th></th>\n",
              "      <th></th>\n",
              "      <th></th>\n",
              "    </tr>\n",
              "  </thead>\n",
              "  <tbody>\n",
              "    <tr>\n",
              "      <th>2020-05-20</th>\n",
              "      <td>11149.0</td>\n",
              "      <td>11149.0</td>\n",
              "      <td>11149.0</td>\n",
              "      <td>11149.0</td>\n",
              "      <td>97550739770</td>\n",
              "      <td>8749730</td>\n",
              "      <td>9420.5</td>\n",
              "      <td>9512.588423</td>\n",
              "      <td>3534.0</td>\n",
              "      <td>NaN</td>\n",
              "      <td>0.781149</td>\n",
              "    </tr>\n",
              "    <tr>\n",
              "      <th>2020-05-23</th>\n",
              "      <td>11680.0</td>\n",
              "      <td>11706.0</td>\n",
              "      <td>11150.0</td>\n",
              "      <td>11643.0</td>\n",
              "      <td>1613620738967</td>\n",
              "      <td>138593153</td>\n",
              "      <td>9797.0</td>\n",
              "      <td>9899.935982</td>\n",
              "      <td>3765.0</td>\n",
              "      <td>0.886691</td>\n",
              "      <td>0.827007</td>\n",
              "    </tr>\n",
              "    <tr>\n",
              "      <th>2020-05-30</th>\n",
              "      <td>11061.0</td>\n",
              "      <td>11061.0</td>\n",
              "      <td>11061.0</td>\n",
              "      <td>11061.0</td>\n",
              "      <td>148747841316</td>\n",
              "      <td>13447956</td>\n",
              "      <td>10090.2</td>\n",
              "      <td>10111.038531</td>\n",
              "      <td>2932.0</td>\n",
              "      <td>NaN</td>\n",
              "      <td>0.827007</td>\n",
              "    </tr>\n",
              "    <tr>\n",
              "      <th>2020-05-31</th>\n",
              "      <td>10508.0</td>\n",
              "      <td>10508.0</td>\n",
              "      <td>10508.0</td>\n",
              "      <td>10727.0</td>\n",
              "      <td>27225387360</td>\n",
              "      <td>2590920</td>\n",
              "      <td>10314.2</td>\n",
              "      <td>10223.031525</td>\n",
              "      <td>2240.0</td>\n",
              "      <td>inf</td>\n",
              "      <td>0.827007</td>\n",
              "    </tr>\n",
              "    <tr>\n",
              "      <th>2020-06-01</th>\n",
              "      <td>10191.0</td>\n",
              "      <td>10191.0</td>\n",
              "      <td>10191.0</td>\n",
              "      <td>10242.0</td>\n",
              "      <td>39620600373</td>\n",
              "      <td>3887803</td>\n",
              "      <td>10454.2</td>\n",
              "      <td>10226.480339</td>\n",
              "      <td>1400.0</td>\n",
              "      <td>inf</td>\n",
              "      <td>0.827007</td>\n",
              "    </tr>\n",
              "  </tbody>\n",
              "</table>\n",
              "</div>"
            ],
            "text/plain": [
              "            <FIRST>   <HIGH>    <LOW>  ...  MOM_10      SO_k     SO_10\n",
              "datetime                               ...                            \n",
              "2020-05-20  11149.0  11149.0  11149.0  ...  3534.0       NaN  0.781149\n",
              "2020-05-23  11680.0  11706.0  11150.0  ...  3765.0  0.886691  0.827007\n",
              "2020-05-30  11061.0  11061.0  11061.0  ...  2932.0       NaN  0.827007\n",
              "2020-05-31  10508.0  10508.0  10508.0  ...  2240.0       inf  0.827007\n",
              "2020-06-01  10191.0  10191.0  10191.0  ...  1400.0       inf  0.827007\n",
              "\n",
              "[5 rows x 11 columns]"
            ]
          },
          "metadata": {
            "tags": []
          },
          "execution_count": 11
        }
      ]
    },
    {
      "cell_type": "code",
      "metadata": {
        "id": "SnoauRz1ONL5"
      },
      "source": [
        "#6. Relative Strength Index\n",
        "#Error\n",
        "\"\"\"\n",
        "def relative_strength_index(df, n):\n",
        "    Calculate Relative Strength Index(RSI) for given data.\n",
        "    :param df: pandas.DataFrame\n",
        "    :param n:\n",
        "    :return: pandas.DataFrame\n",
        "    i = df.index[0]\n",
        "    UpI = [0]\n",
        "    DoI = [0]\n",
        "    while i + 1 <= df.index[-1]:\n",
        "        UpMove = float(df.loc[i + 1, 'high']) - float(df.loc[i, 'high'])\n",
        "        DoMove = float(df.loc[i, 'low']) - float(df.loc[i + 1, 'low'])\n",
        "        if UpMove > DoMove and UpMove > 0:\n",
        "            UpD = UpMove\n",
        "        else:\n",
        "            UpD = 0\n",
        "        UpI.append(UpD)\n",
        "        if DoMove > UpMove and DoMove > 0:\n",
        "            DoD = DoMove\n",
        "        else:\n",
        "            DoD = 0\n",
        "        DoI.append(DoD)\n",
        "        i = i + 1\n",
        "    UpI = pd.Series(UpI)\n",
        "\n",
        "    DoI = pd.Series(DoI)\n",
        "    PosDI = pd.Series(UpI.ewm(span=n, min_periods=n).mean())\n",
        "    NegDI = pd.Series(DoI.ewm(span=n, min_periods=n).mean())\n",
        "\n",
        "    # rsi = pd.Series(PosDI / (PosDI + NegDI), name='RSI_' + str(n))\n",
        "    rsi = pd.DataFrame(PosDI / (PosDI + NegDI), columns=['RSI_' + str(n)])\n",
        "    rsi = rsi.set_index(df.index)\n",
        "    df = df.join(rsi)\n",
        "    return df\n",
        "\"\"\""
      ],
      "execution_count": null,
      "outputs": []
    },
    {
      "cell_type": "code",
      "metadata": {
        "id": "PtBEbPgSOaGu",
        "outputId": "705c1ae4-233b-43dd-e026-5be22395e1d0",
        "colab": {
          "base_uri": "https://localhost:8080/",
          "height": 225
        }
      },
      "source": [
        "\n",
        "#7. Signal\n",
        "def macd(df, n_fast, n_slow):\n",
        "    \"\"\"Calculate MACD, MACD Signal and MACD difference\n",
        "    :param df: pandas.DataFrame\n",
        "    :param n_fast:\n",
        "    :param n_slow:\n",
        "    :return: pandas.DataFrame\n",
        "    \"\"\"\n",
        "    EMAfast = pd.Series(df['<CLOSE>'].ewm(span=n_fast, min_periods=n_slow).mean())\n",
        "    EMAslow = pd.Series(df['<CLOSE>'].ewm(span=n_slow, min_periods=n_slow).mean())\n",
        "    MACD = pd.Series(EMAfast - EMAslow, name='MACD_' + str(n_fast) + '_' + str(n_slow))\n",
        "    MACDsign = pd.Series(MACD.ewm(span=9, min_periods=9).mean(), name='MACDsign_' + str(n_fast) + '_' + str(n_slow))\n",
        "    MACDdiff = pd.Series(MACD - MACDsign, name='MACDdiff_' + str(n_fast) + '_' + str(n_slow))\n",
        "    df = df.join(MACD)\n",
        "    df = df.join(MACDsign)\n",
        "    df = df.join(MACDdiff)\n",
        "    return df\n",
        "df_new = macd(df_new,12,26)\n",
        "df_new.head()"
      ],
      "execution_count": 12,
      "outputs": [
        {
          "output_type": "execute_result",
          "data": {
            "text/html": [
              "<div>\n",
              "<style scoped>\n",
              "    .dataframe tbody tr th:only-of-type {\n",
              "        vertical-align: middle;\n",
              "    }\n",
              "\n",
              "    .dataframe tbody tr th {\n",
              "        vertical-align: top;\n",
              "    }\n",
              "\n",
              "    .dataframe thead th {\n",
              "        text-align: right;\n",
              "    }\n",
              "</style>\n",
              "<table border=\"1\" class=\"dataframe\">\n",
              "  <thead>\n",
              "    <tr style=\"text-align: right;\">\n",
              "      <th></th>\n",
              "      <th>&lt;FIRST&gt;</th>\n",
              "      <th>&lt;HIGH&gt;</th>\n",
              "      <th>&lt;LOW&gt;</th>\n",
              "      <th>&lt;CLOSE&gt;</th>\n",
              "      <th>&lt;VALUE&gt;</th>\n",
              "      <th>&lt;VOL&gt;</th>\n",
              "      <th>MA_10</th>\n",
              "      <th>WMA_10</th>\n",
              "      <th>MOM_10</th>\n",
              "      <th>SO_k</th>\n",
              "      <th>SO_10</th>\n",
              "      <th>MACD_12_26</th>\n",
              "      <th>MACDsign_12_26</th>\n",
              "      <th>MACDdiff_12_26</th>\n",
              "    </tr>\n",
              "    <tr>\n",
              "      <th>datetime</th>\n",
              "      <th></th>\n",
              "      <th></th>\n",
              "      <th></th>\n",
              "      <th></th>\n",
              "      <th></th>\n",
              "      <th></th>\n",
              "      <th></th>\n",
              "      <th></th>\n",
              "      <th></th>\n",
              "      <th></th>\n",
              "      <th></th>\n",
              "      <th></th>\n",
              "      <th></th>\n",
              "      <th></th>\n",
              "    </tr>\n",
              "  </thead>\n",
              "  <tbody>\n",
              "    <tr>\n",
              "      <th>2001-04-08</th>\n",
              "      <td>16387.0</td>\n",
              "      <td>16690.0</td>\n",
              "      <td>16379.0</td>\n",
              "      <td>16690.0</td>\n",
              "      <td>105522480</td>\n",
              "      <td>6413</td>\n",
              "      <td>NaN</td>\n",
              "      <td>NaN</td>\n",
              "      <td>NaN</td>\n",
              "      <td>1.0</td>\n",
              "      <td>NaN</td>\n",
              "      <td>NaN</td>\n",
              "      <td>NaN</td>\n",
              "      <td>NaN</td>\n",
              "    </tr>\n",
              "    <tr>\n",
              "      <th>2001-04-10</th>\n",
              "      <td>16495.0</td>\n",
              "      <td>16495.0</td>\n",
              "      <td>16495.0</td>\n",
              "      <td>16495.0</td>\n",
              "      <td>3364980</td>\n",
              "      <td>204</td>\n",
              "      <td>NaN</td>\n",
              "      <td>NaN</td>\n",
              "      <td>NaN</td>\n",
              "      <td>NaN</td>\n",
              "      <td>NaN</td>\n",
              "      <td>NaN</td>\n",
              "      <td>NaN</td>\n",
              "      <td>NaN</td>\n",
              "    </tr>\n",
              "    <tr>\n",
              "      <th>2001-04-11</th>\n",
              "      <td>16200.0</td>\n",
              "      <td>16200.0</td>\n",
              "      <td>16000.0</td>\n",
              "      <td>16000.0</td>\n",
              "      <td>66762000</td>\n",
              "      <td>4170</td>\n",
              "      <td>NaN</td>\n",
              "      <td>NaN</td>\n",
              "      <td>NaN</td>\n",
              "      <td>0.0</td>\n",
              "      <td>NaN</td>\n",
              "      <td>NaN</td>\n",
              "      <td>NaN</td>\n",
              "      <td>NaN</td>\n",
              "    </tr>\n",
              "    <tr>\n",
              "      <th>2001-04-14</th>\n",
              "      <td>16000.0</td>\n",
              "      <td>16000.0</td>\n",
              "      <td>15700.0</td>\n",
              "      <td>16000.0</td>\n",
              "      <td>154041834</td>\n",
              "      <td>9654</td>\n",
              "      <td>NaN</td>\n",
              "      <td>NaN</td>\n",
              "      <td>NaN</td>\n",
              "      <td>1.0</td>\n",
              "      <td>NaN</td>\n",
              "      <td>NaN</td>\n",
              "      <td>NaN</td>\n",
              "      <td>NaN</td>\n",
              "    </tr>\n",
              "    <tr>\n",
              "      <th>2001-04-15</th>\n",
              "      <td>16000.0</td>\n",
              "      <td>16200.0</td>\n",
              "      <td>16000.0</td>\n",
              "      <td>16200.0</td>\n",
              "      <td>50549340</td>\n",
              "      <td>3143</td>\n",
              "      <td>NaN</td>\n",
              "      <td>NaN</td>\n",
              "      <td>NaN</td>\n",
              "      <td>1.0</td>\n",
              "      <td>NaN</td>\n",
              "      <td>NaN</td>\n",
              "      <td>NaN</td>\n",
              "      <td>NaN</td>\n",
              "    </tr>\n",
              "  </tbody>\n",
              "</table>\n",
              "</div>"
            ],
            "text/plain": [
              "            <FIRST>   <HIGH>  ...  MACDsign_12_26  MACDdiff_12_26\n",
              "datetime                      ...                                \n",
              "2001-04-08  16387.0  16690.0  ...             NaN             NaN\n",
              "2001-04-10  16495.0  16495.0  ...             NaN             NaN\n",
              "2001-04-11  16200.0  16200.0  ...             NaN             NaN\n",
              "2001-04-14  16000.0  16000.0  ...             NaN             NaN\n",
              "2001-04-15  16000.0  16200.0  ...             NaN             NaN\n",
              "\n",
              "[5 rows x 14 columns]"
            ]
          },
          "metadata": {
            "tags": []
          },
          "execution_count": 12
        }
      ]
    },
    {
      "cell_type": "code",
      "metadata": {
        "id": "jsMocdvCOgfF"
      },
      "source": [
        "#8. Larry Williams R%\n",
        "#lEFT"
      ],
      "execution_count": 16,
      "outputs": []
    },
    {
      "cell_type": "code",
      "metadata": {
        "id": "KK_LouXTOipv",
        "outputId": "ecd442ad-cdef-489a-ca88-6a34c9355645",
        "colab": {
          "base_uri": "https://localhost:8080/",
          "height": 362
        }
      },
      "source": [
        "#9. Accumulation / Distribution\n",
        "def accumulation_distribution(df, n):\n",
        "    \"\"\"Calculate Accumulation/Distribution for given data.\n",
        "    :param df: pandas.DataFrame\n",
        "    :param n:\n",
        "    :return: pandas.DataFrame\n",
        "    \"\"\"\n",
        "    ad = (2 * df['<CLOSE>'] - df['<HIGH>'] - df['<LOW>']) / (df['<HIGH>'] - df['<LOW>']) * df['<VOL>']\n",
        "    M = ad.diff(n - 1)\n",
        "    N = ad.shift(n - 1)\n",
        "    ROC = M / N\n",
        "    AD = pd.Series(ROC, name='Acc/Dist_ROC_' + str(n))\n",
        "    df = df.join(AD)\n",
        "    return df\n",
        "df_new = accumulation_distribution(df_new,10)\n",
        "df_new.tail()"
      ],
      "execution_count": 13,
      "outputs": [
        {
          "output_type": "stream",
          "text": [
            "/usr/local/lib/python3.6/dist-packages/pandas/core/algorithms.py:1977: RuntimeWarning: invalid value encountered in subtract\n",
            "  out_arr[res_indexer] = arr[res_indexer] - arr[lag_indexer]\n"
          ],
          "name": "stderr"
        },
        {
          "output_type": "execute_result",
          "data": {
            "text/html": [
              "<div>\n",
              "<style scoped>\n",
              "    .dataframe tbody tr th:only-of-type {\n",
              "        vertical-align: middle;\n",
              "    }\n",
              "\n",
              "    .dataframe tbody tr th {\n",
              "        vertical-align: top;\n",
              "    }\n",
              "\n",
              "    .dataframe thead th {\n",
              "        text-align: right;\n",
              "    }\n",
              "</style>\n",
              "<table border=\"1\" class=\"dataframe\">\n",
              "  <thead>\n",
              "    <tr style=\"text-align: right;\">\n",
              "      <th></th>\n",
              "      <th>&lt;FIRST&gt;</th>\n",
              "      <th>&lt;HIGH&gt;</th>\n",
              "      <th>&lt;LOW&gt;</th>\n",
              "      <th>&lt;CLOSE&gt;</th>\n",
              "      <th>&lt;VALUE&gt;</th>\n",
              "      <th>&lt;VOL&gt;</th>\n",
              "      <th>MA_10</th>\n",
              "      <th>WMA_10</th>\n",
              "      <th>MOM_10</th>\n",
              "      <th>SO_k</th>\n",
              "      <th>SO_10</th>\n",
              "      <th>MACD_12_26</th>\n",
              "      <th>MACDsign_12_26</th>\n",
              "      <th>MACDdiff_12_26</th>\n",
              "      <th>Acc/Dist_ROC_10</th>\n",
              "    </tr>\n",
              "    <tr>\n",
              "      <th>datetime</th>\n",
              "      <th></th>\n",
              "      <th></th>\n",
              "      <th></th>\n",
              "      <th></th>\n",
              "      <th></th>\n",
              "      <th></th>\n",
              "      <th></th>\n",
              "      <th></th>\n",
              "      <th></th>\n",
              "      <th></th>\n",
              "      <th></th>\n",
              "      <th></th>\n",
              "      <th></th>\n",
              "      <th></th>\n",
              "      <th></th>\n",
              "    </tr>\n",
              "  </thead>\n",
              "  <tbody>\n",
              "    <tr>\n",
              "      <th>2020-05-20</th>\n",
              "      <td>11149.0</td>\n",
              "      <td>11149.0</td>\n",
              "      <td>11149.0</td>\n",
              "      <td>11149.0</td>\n",
              "      <td>97550739770</td>\n",
              "      <td>8749730</td>\n",
              "      <td>9420.5</td>\n",
              "      <td>9512.588423</td>\n",
              "      <td>3534.0</td>\n",
              "      <td>NaN</td>\n",
              "      <td>0.781149</td>\n",
              "      <td>1541.307481</td>\n",
              "      <td>1292.388846</td>\n",
              "      <td>248.918635</td>\n",
              "      <td>NaN</td>\n",
              "    </tr>\n",
              "    <tr>\n",
              "      <th>2020-05-23</th>\n",
              "      <td>11680.0</td>\n",
              "      <td>11706.0</td>\n",
              "      <td>11150.0</td>\n",
              "      <td>11643.0</td>\n",
              "      <td>1613620738967</td>\n",
              "      <td>138593153</td>\n",
              "      <td>9797.0</td>\n",
              "      <td>9899.935982</td>\n",
              "      <td>3765.0</td>\n",
              "      <td>0.886691</td>\n",
              "      <td>0.827007</td>\n",
              "      <td>1620.243747</td>\n",
              "      <td>1357.959826</td>\n",
              "      <td>262.283921</td>\n",
              "      <td>NaN</td>\n",
              "    </tr>\n",
              "    <tr>\n",
              "      <th>2020-05-30</th>\n",
              "      <td>11061.0</td>\n",
              "      <td>11061.0</td>\n",
              "      <td>11061.0</td>\n",
              "      <td>11061.0</td>\n",
              "      <td>148747841316</td>\n",
              "      <td>13447956</td>\n",
              "      <td>10090.2</td>\n",
              "      <td>10111.038531</td>\n",
              "      <td>2932.0</td>\n",
              "      <td>NaN</td>\n",
              "      <td>0.827007</td>\n",
              "      <td>1617.196733</td>\n",
              "      <td>1409.807208</td>\n",
              "      <td>207.389526</td>\n",
              "      <td>NaN</td>\n",
              "    </tr>\n",
              "    <tr>\n",
              "      <th>2020-05-31</th>\n",
              "      <td>10508.0</td>\n",
              "      <td>10508.0</td>\n",
              "      <td>10508.0</td>\n",
              "      <td>10727.0</td>\n",
              "      <td>27225387360</td>\n",
              "      <td>2590920</td>\n",
              "      <td>10314.2</td>\n",
              "      <td>10223.031525</td>\n",
              "      <td>2240.0</td>\n",
              "      <td>inf</td>\n",
              "      <td>0.827007</td>\n",
              "      <td>1569.736005</td>\n",
              "      <td>1441.792967</td>\n",
              "      <td>127.943038</td>\n",
              "      <td>inf</td>\n",
              "    </tr>\n",
              "    <tr>\n",
              "      <th>2020-06-01</th>\n",
              "      <td>10191.0</td>\n",
              "      <td>10191.0</td>\n",
              "      <td>10191.0</td>\n",
              "      <td>10242.0</td>\n",
              "      <td>39620600373</td>\n",
              "      <td>3887803</td>\n",
              "      <td>10454.2</td>\n",
              "      <td>10226.480339</td>\n",
              "      <td>1400.0</td>\n",
              "      <td>inf</td>\n",
              "      <td>0.827007</td>\n",
              "      <td>1475.973485</td>\n",
              "      <td>1448.629071</td>\n",
              "      <td>27.344415</td>\n",
              "      <td>NaN</td>\n",
              "    </tr>\n",
              "  </tbody>\n",
              "</table>\n",
              "</div>"
            ],
            "text/plain": [
              "            <FIRST>   <HIGH>  ...  MACDdiff_12_26  Acc/Dist_ROC_10\n",
              "datetime                      ...                                 \n",
              "2020-05-20  11149.0  11149.0  ...      248.918635              NaN\n",
              "2020-05-23  11680.0  11706.0  ...      262.283921              NaN\n",
              "2020-05-30  11061.0  11061.0  ...      207.389526              NaN\n",
              "2020-05-31  10508.0  10508.0  ...      127.943038              inf\n",
              "2020-06-01  10191.0  10191.0  ...       27.344415              NaN\n",
              "\n",
              "[5 rows x 15 columns]"
            ]
          },
          "metadata": {
            "tags": []
          },
          "execution_count": 13
        }
      ]
    },
    {
      "cell_type": "code",
      "metadata": {
        "id": "67fMmCWaOmCH",
        "outputId": "56f3bf3d-8c11-4fed-eca3-c48f2d16a474",
        "colab": {
          "base_uri": "https://localhost:8080/",
          "height": 329
        }
      },
      "source": [
        "#10. Commodity Channel Index\n",
        "def commodity_channel_index(df, n):\n",
        "    \"\"\"Calculate Commodity Channel Index for given data.\n",
        "    :param df: pandas.DataFrame\n",
        "    :param n:\n",
        "    :return: pandas.DataFrame\n",
        "    \"\"\"\n",
        "    PP = (df['<HIGH>'] + df['<LOW>'] + df['<CLOSE>']) / 3\n",
        "    CCI = pd.Series((PP - PP.rolling(n, min_periods=n).mean()) / PP.rolling(n, min_periods=n).std(),\n",
        "                    name='CCI_' + str(n))\n",
        "    df = df.join(CCI)\n",
        "    return df\n",
        "df_new = commodity_channel_index(df_new,10)\n",
        "df_new.tail()"
      ],
      "execution_count": 14,
      "outputs": [
        {
          "output_type": "execute_result",
          "data": {
            "text/html": [
              "<div>\n",
              "<style scoped>\n",
              "    .dataframe tbody tr th:only-of-type {\n",
              "        vertical-align: middle;\n",
              "    }\n",
              "\n",
              "    .dataframe tbody tr th {\n",
              "        vertical-align: top;\n",
              "    }\n",
              "\n",
              "    .dataframe thead th {\n",
              "        text-align: right;\n",
              "    }\n",
              "</style>\n",
              "<table border=\"1\" class=\"dataframe\">\n",
              "  <thead>\n",
              "    <tr style=\"text-align: right;\">\n",
              "      <th></th>\n",
              "      <th>&lt;FIRST&gt;</th>\n",
              "      <th>&lt;HIGH&gt;</th>\n",
              "      <th>&lt;LOW&gt;</th>\n",
              "      <th>&lt;CLOSE&gt;</th>\n",
              "      <th>&lt;VALUE&gt;</th>\n",
              "      <th>&lt;VOL&gt;</th>\n",
              "      <th>MA_10</th>\n",
              "      <th>WMA_10</th>\n",
              "      <th>MOM_10</th>\n",
              "      <th>SO_k</th>\n",
              "      <th>SO_10</th>\n",
              "      <th>MACD_12_26</th>\n",
              "      <th>MACDsign_12_26</th>\n",
              "      <th>MACDdiff_12_26</th>\n",
              "      <th>Acc/Dist_ROC_10</th>\n",
              "      <th>CCI_10</th>\n",
              "    </tr>\n",
              "    <tr>\n",
              "      <th>datetime</th>\n",
              "      <th></th>\n",
              "      <th></th>\n",
              "      <th></th>\n",
              "      <th></th>\n",
              "      <th></th>\n",
              "      <th></th>\n",
              "      <th></th>\n",
              "      <th></th>\n",
              "      <th></th>\n",
              "      <th></th>\n",
              "      <th></th>\n",
              "      <th></th>\n",
              "      <th></th>\n",
              "      <th></th>\n",
              "      <th></th>\n",
              "      <th></th>\n",
              "    </tr>\n",
              "  </thead>\n",
              "  <tbody>\n",
              "    <tr>\n",
              "      <th>2020-05-20</th>\n",
              "      <td>11149.0</td>\n",
              "      <td>11149.0</td>\n",
              "      <td>11149.0</td>\n",
              "      <td>11149.0</td>\n",
              "      <td>97550739770</td>\n",
              "      <td>8749730</td>\n",
              "      <td>9420.5</td>\n",
              "      <td>9512.588423</td>\n",
              "      <td>3534.0</td>\n",
              "      <td>NaN</td>\n",
              "      <td>0.781149</td>\n",
              "      <td>1541.307481</td>\n",
              "      <td>1292.388846</td>\n",
              "      <td>248.918635</td>\n",
              "      <td>NaN</td>\n",
              "      <td>1.591967</td>\n",
              "    </tr>\n",
              "    <tr>\n",
              "      <th>2020-05-23</th>\n",
              "      <td>11680.0</td>\n",
              "      <td>11706.0</td>\n",
              "      <td>11150.0</td>\n",
              "      <td>11643.0</td>\n",
              "      <td>1613620738967</td>\n",
              "      <td>138593153</td>\n",
              "      <td>9797.0</td>\n",
              "      <td>9899.935982</td>\n",
              "      <td>3765.0</td>\n",
              "      <td>0.886691</td>\n",
              "      <td>0.827007</td>\n",
              "      <td>1620.243747</td>\n",
              "      <td>1357.959826</td>\n",
              "      <td>262.283921</td>\n",
              "      <td>NaN</td>\n",
              "      <td>1.521004</td>\n",
              "    </tr>\n",
              "    <tr>\n",
              "      <th>2020-05-30</th>\n",
              "      <td>11061.0</td>\n",
              "      <td>11061.0</td>\n",
              "      <td>11061.0</td>\n",
              "      <td>11061.0</td>\n",
              "      <td>148747841316</td>\n",
              "      <td>13447956</td>\n",
              "      <td>10090.2</td>\n",
              "      <td>10111.038531</td>\n",
              "      <td>2932.0</td>\n",
              "      <td>NaN</td>\n",
              "      <td>0.827007</td>\n",
              "      <td>1617.196733</td>\n",
              "      <td>1409.807208</td>\n",
              "      <td>207.389526</td>\n",
              "      <td>NaN</td>\n",
              "      <td>0.950491</td>\n",
              "    </tr>\n",
              "    <tr>\n",
              "      <th>2020-05-31</th>\n",
              "      <td>10508.0</td>\n",
              "      <td>10508.0</td>\n",
              "      <td>10508.0</td>\n",
              "      <td>10727.0</td>\n",
              "      <td>27225387360</td>\n",
              "      <td>2590920</td>\n",
              "      <td>10314.2</td>\n",
              "      <td>10223.031525</td>\n",
              "      <td>2240.0</td>\n",
              "      <td>inf</td>\n",
              "      <td>0.827007</td>\n",
              "      <td>1569.736005</td>\n",
              "      <td>1441.792967</td>\n",
              "      <td>127.943038</td>\n",
              "      <td>inf</td>\n",
              "      <td>0.350360</td>\n",
              "    </tr>\n",
              "    <tr>\n",
              "      <th>2020-06-01</th>\n",
              "      <td>10191.0</td>\n",
              "      <td>10191.0</td>\n",
              "      <td>10191.0</td>\n",
              "      <td>10242.0</td>\n",
              "      <td>39620600373</td>\n",
              "      <td>3887803</td>\n",
              "      <td>10454.2</td>\n",
              "      <td>10226.480339</td>\n",
              "      <td>1400.0</td>\n",
              "      <td>inf</td>\n",
              "      <td>0.827007</td>\n",
              "      <td>1475.973485</td>\n",
              "      <td>1448.629071</td>\n",
              "      <td>27.344415</td>\n",
              "      <td>NaN</td>\n",
              "      <td>-0.288717</td>\n",
              "    </tr>\n",
              "  </tbody>\n",
              "</table>\n",
              "</div>"
            ],
            "text/plain": [
              "            <FIRST>   <HIGH>  ...  Acc/Dist_ROC_10    CCI_10\n",
              "datetime                      ...                           \n",
              "2020-05-20  11149.0  11149.0  ...              NaN  1.591967\n",
              "2020-05-23  11680.0  11706.0  ...              NaN  1.521004\n",
              "2020-05-30  11061.0  11061.0  ...              NaN  0.950491\n",
              "2020-05-31  10508.0  10508.0  ...              inf  0.350360\n",
              "2020-06-01  10191.0  10191.0  ...              NaN -0.288717\n",
              "\n",
              "[5 rows x 16 columns]"
            ]
          },
          "metadata": {
            "tags": []
          },
          "execution_count": 14
        }
      ]
    },
    {
      "cell_type": "code",
      "metadata": {
        "id": "bMRe4wPwOoNr",
        "outputId": "d30269cd-937d-49b9-bc3e-bfa705b276ec",
        "colab": {
          "base_uri": "https://localhost:8080/"
        }
      },
      "source": [
        "\n",
        "df_new.mean()"
      ],
      "execution_count": 15,
      "outputs": [
        {
          "output_type": "execute_result",
          "data": {
            "text/plain": [
              "<FIRST>            3.989101e+03\n",
              "<HIGH>             4.037091e+03\n",
              "<LOW>              3.944152e+03\n",
              "<CLOSE>            4.000354e+03\n",
              "<VALUE>            2.164058e+10\n",
              "<VOL>              1.349677e+07\n",
              "MA_10              3.977932e+03\n",
              "WMA_10             3.978448e+03\n",
              "MOM_10            -1.667698e+01\n",
              "SO_k                        NaN\n",
              "SO_10              5.221624e-01\n",
              "MACD_12_26        -1.573275e+01\n",
              "MACDsign_12_26    -1.712997e+01\n",
              "MACDdiff_12_26     1.426747e+00\n",
              "Acc/Dist_ROC_10             NaN\n",
              "CCI_10            -5.582350e-02\n",
              "dtype: float64"
            ]
          },
          "metadata": {
            "tags": []
          },
          "execution_count": 15
        }
      ]
    },
    {
      "cell_type": "code",
      "metadata": {
        "id": "5FlG5i1zOr5z",
        "outputId": "fdc86a47-544c-4380-9603-b306d5e1d7d2",
        "colab": {
          "base_uri": "https://localhost:8080/"
        }
      },
      "source": [
        "df_new.min()"
      ],
      "execution_count": 16,
      "outputs": [
        {
          "output_type": "execute_result",
          "data": {
            "text/plain": [
              "<FIRST>            5.200000e+02\n",
              "<HIGH>             5.300000e+02\n",
              "<LOW>              5.180000e+02\n",
              "<CLOSE>            5.250000e+02\n",
              "<VALUE>            6.986000e+04\n",
              "<VOL>              2.000000e+01\n",
              "MA_10              5.415000e+02\n",
              "WMA_10             5.424431e+02\n",
              "MOM_10            -1.076600e+04\n",
              "SO_k                       -inf\n",
              "SO_10             -8.121225e+00\n",
              "MACD_12_26        -2.694353e+03\n",
              "MACDsign_12_26    -2.322452e+03\n",
              "MACDdiff_12_26    -1.043022e+03\n",
              "Acc/Dist_ROC_10            -inf\n",
              "CCI_10            -2.846050e+00\n",
              "dtype: float64"
            ]
          },
          "metadata": {
            "tags": []
          },
          "execution_count": 16
        }
      ]
    },
    {
      "cell_type": "code",
      "metadata": {
        "id": "zJy4FWSuOuSV",
        "outputId": "75f8ffa4-6124-4fb4-b499-b6d745414ba1",
        "colab": {
          "base_uri": "https://localhost:8080/"
        }
      },
      "source": [
        "df_new.max()"
      ],
      "execution_count": 17,
      "outputs": [
        {
          "output_type": "execute_result",
          "data": {
            "text/plain": [
              "<FIRST>            2.661500e+04\n",
              "<HIGH>             2.661500e+04\n",
              "<LOW>              2.661500e+04\n",
              "<CLOSE>            2.661500e+04\n",
              "<VALUE>            2.645561e+12\n",
              "<VOL>              3.330094e+08\n",
              "MA_10              2.321330e+04\n",
              "WMA_10             2.260713e+04\n",
              "MOM_10             1.511900e+04\n",
              "SO_k                        inf\n",
              "SO_10              1.027080e+00\n",
              "MACD_12_26         4.497310e+03\n",
              "MACDsign_12_26     3.896289e+03\n",
              "MACDdiff_12_26     1.509492e+03\n",
              "Acc/Dist_ROC_10             inf\n",
              "CCI_10             2.840698e+00\n",
              "dtype: float64"
            ]
          },
          "metadata": {
            "tags": []
          },
          "execution_count": 17
        }
      ]
    },
    {
      "cell_type": "code",
      "metadata": {
        "id": "gvXmMnvlOv7I",
        "outputId": "a3cd92b6-c453-4c7d-ef2f-2122d3d741b3",
        "colab": {
          "base_uri": "https://localhost:8080/"
        }
      },
      "source": [
        "df_new.std()"
      ],
      "execution_count": 18,
      "outputs": [
        {
          "output_type": "execute_result",
          "data": {
            "text/plain": [
              "<FIRST>            4.811431e+03\n",
              "<HIGH>             4.866774e+03\n",
              "<LOW>              4.765253e+03\n",
              "<CLOSE>            4.836308e+03\n",
              "<VALUE>            8.250127e+10\n",
              "<VOL>              2.685984e+07\n",
              "MA_10              4.794900e+03\n",
              "WMA_10             4.783739e+03\n",
              "MOM_10             1.171496e+03\n",
              "SO_k                        NaN\n",
              "SO_10              3.211372e-01\n",
              "MACD_12_26         3.903220e+02\n",
              "MACDsign_12_26     3.603874e+02\n",
              "MACDdiff_12_26     1.280792e+02\n",
              "Acc/Dist_ROC_10             NaN\n",
              "CCI_10             1.260382e+00\n",
              "dtype: float64"
            ]
          },
          "metadata": {
            "tags": []
          },
          "execution_count": 18
        }
      ]
    },
    {
      "cell_type": "code",
      "metadata": {
        "id": "Gg0kKgbgQMDD",
        "outputId": "5a93dabc-c765-41c0-a776-ca5c7d30019c",
        "colab": {
          "base_uri": "https://localhost:8080/",
          "height": 329
        }
      },
      "source": [
        "df_new=df_new.drop(['SO_k', 'Acc/Dist_ROC_10'], axis=1)\n",
        "df_new.tail()"
      ],
      "execution_count": 19,
      "outputs": [
        {
          "output_type": "execute_result",
          "data": {
            "text/html": [
              "<div>\n",
              "<style scoped>\n",
              "    .dataframe tbody tr th:only-of-type {\n",
              "        vertical-align: middle;\n",
              "    }\n",
              "\n",
              "    .dataframe tbody tr th {\n",
              "        vertical-align: top;\n",
              "    }\n",
              "\n",
              "    .dataframe thead th {\n",
              "        text-align: right;\n",
              "    }\n",
              "</style>\n",
              "<table border=\"1\" class=\"dataframe\">\n",
              "  <thead>\n",
              "    <tr style=\"text-align: right;\">\n",
              "      <th></th>\n",
              "      <th>&lt;FIRST&gt;</th>\n",
              "      <th>&lt;HIGH&gt;</th>\n",
              "      <th>&lt;LOW&gt;</th>\n",
              "      <th>&lt;CLOSE&gt;</th>\n",
              "      <th>&lt;VALUE&gt;</th>\n",
              "      <th>&lt;VOL&gt;</th>\n",
              "      <th>MA_10</th>\n",
              "      <th>WMA_10</th>\n",
              "      <th>MOM_10</th>\n",
              "      <th>SO_10</th>\n",
              "      <th>MACD_12_26</th>\n",
              "      <th>MACDsign_12_26</th>\n",
              "      <th>MACDdiff_12_26</th>\n",
              "      <th>CCI_10</th>\n",
              "    </tr>\n",
              "    <tr>\n",
              "      <th>datetime</th>\n",
              "      <th></th>\n",
              "      <th></th>\n",
              "      <th></th>\n",
              "      <th></th>\n",
              "      <th></th>\n",
              "      <th></th>\n",
              "      <th></th>\n",
              "      <th></th>\n",
              "      <th></th>\n",
              "      <th></th>\n",
              "      <th></th>\n",
              "      <th></th>\n",
              "      <th></th>\n",
              "      <th></th>\n",
              "    </tr>\n",
              "  </thead>\n",
              "  <tbody>\n",
              "    <tr>\n",
              "      <th>2020-05-20</th>\n",
              "      <td>11149.0</td>\n",
              "      <td>11149.0</td>\n",
              "      <td>11149.0</td>\n",
              "      <td>11149.0</td>\n",
              "      <td>97550739770</td>\n",
              "      <td>8749730</td>\n",
              "      <td>9420.5</td>\n",
              "      <td>9512.588423</td>\n",
              "      <td>3534.0</td>\n",
              "      <td>0.781149</td>\n",
              "      <td>1541.307481</td>\n",
              "      <td>1292.388846</td>\n",
              "      <td>248.918635</td>\n",
              "      <td>1.591967</td>\n",
              "    </tr>\n",
              "    <tr>\n",
              "      <th>2020-05-23</th>\n",
              "      <td>11680.0</td>\n",
              "      <td>11706.0</td>\n",
              "      <td>11150.0</td>\n",
              "      <td>11643.0</td>\n",
              "      <td>1613620738967</td>\n",
              "      <td>138593153</td>\n",
              "      <td>9797.0</td>\n",
              "      <td>9899.935982</td>\n",
              "      <td>3765.0</td>\n",
              "      <td>0.827007</td>\n",
              "      <td>1620.243747</td>\n",
              "      <td>1357.959826</td>\n",
              "      <td>262.283921</td>\n",
              "      <td>1.521004</td>\n",
              "    </tr>\n",
              "    <tr>\n",
              "      <th>2020-05-30</th>\n",
              "      <td>11061.0</td>\n",
              "      <td>11061.0</td>\n",
              "      <td>11061.0</td>\n",
              "      <td>11061.0</td>\n",
              "      <td>148747841316</td>\n",
              "      <td>13447956</td>\n",
              "      <td>10090.2</td>\n",
              "      <td>10111.038531</td>\n",
              "      <td>2932.0</td>\n",
              "      <td>0.827007</td>\n",
              "      <td>1617.196733</td>\n",
              "      <td>1409.807208</td>\n",
              "      <td>207.389526</td>\n",
              "      <td>0.950491</td>\n",
              "    </tr>\n",
              "    <tr>\n",
              "      <th>2020-05-31</th>\n",
              "      <td>10508.0</td>\n",
              "      <td>10508.0</td>\n",
              "      <td>10508.0</td>\n",
              "      <td>10727.0</td>\n",
              "      <td>27225387360</td>\n",
              "      <td>2590920</td>\n",
              "      <td>10314.2</td>\n",
              "      <td>10223.031525</td>\n",
              "      <td>2240.0</td>\n",
              "      <td>0.827007</td>\n",
              "      <td>1569.736005</td>\n",
              "      <td>1441.792967</td>\n",
              "      <td>127.943038</td>\n",
              "      <td>0.350360</td>\n",
              "    </tr>\n",
              "    <tr>\n",
              "      <th>2020-06-01</th>\n",
              "      <td>10191.0</td>\n",
              "      <td>10191.0</td>\n",
              "      <td>10191.0</td>\n",
              "      <td>10242.0</td>\n",
              "      <td>39620600373</td>\n",
              "      <td>3887803</td>\n",
              "      <td>10454.2</td>\n",
              "      <td>10226.480339</td>\n",
              "      <td>1400.0</td>\n",
              "      <td>0.827007</td>\n",
              "      <td>1475.973485</td>\n",
              "      <td>1448.629071</td>\n",
              "      <td>27.344415</td>\n",
              "      <td>-0.288717</td>\n",
              "    </tr>\n",
              "  </tbody>\n",
              "</table>\n",
              "</div>"
            ],
            "text/plain": [
              "            <FIRST>   <HIGH>    <LOW>  ...  MACDsign_12_26  MACDdiff_12_26    CCI_10\n",
              "datetime                               ...                                          \n",
              "2020-05-20  11149.0  11149.0  11149.0  ...     1292.388846      248.918635  1.591967\n",
              "2020-05-23  11680.0  11706.0  11150.0  ...     1357.959826      262.283921  1.521004\n",
              "2020-05-30  11061.0  11061.0  11061.0  ...     1409.807208      207.389526  0.950491\n",
              "2020-05-31  10508.0  10508.0  10508.0  ...     1441.792967      127.943038  0.350360\n",
              "2020-06-01  10191.0  10191.0  10191.0  ...     1448.629071       27.344415 -0.288717\n",
              "\n",
              "[5 rows x 14 columns]"
            ]
          },
          "metadata": {
            "tags": []
          },
          "execution_count": 19
        }
      ]
    },
    {
      "cell_type": "code",
      "metadata": {
        "id": "z-3f3Sf6RCtd"
      },
      "source": [
        "df_new=df_new.dropna()"
      ],
      "execution_count": 20,
      "outputs": []
    },
    {
      "cell_type": "code",
      "metadata": {
        "id": "rfVRrfpyRHM8",
        "outputId": "f72511f5-1379-4f4c-f780-9f362307a32d",
        "colab": {
          "base_uri": "https://localhost:8080/",
          "height": 329
        }
      },
      "source": [
        "df_new.tail()"
      ],
      "execution_count": 21,
      "outputs": [
        {
          "output_type": "execute_result",
          "data": {
            "text/html": [
              "<div>\n",
              "<style scoped>\n",
              "    .dataframe tbody tr th:only-of-type {\n",
              "        vertical-align: middle;\n",
              "    }\n",
              "\n",
              "    .dataframe tbody tr th {\n",
              "        vertical-align: top;\n",
              "    }\n",
              "\n",
              "    .dataframe thead th {\n",
              "        text-align: right;\n",
              "    }\n",
              "</style>\n",
              "<table border=\"1\" class=\"dataframe\">\n",
              "  <thead>\n",
              "    <tr style=\"text-align: right;\">\n",
              "      <th></th>\n",
              "      <th>&lt;FIRST&gt;</th>\n",
              "      <th>&lt;HIGH&gt;</th>\n",
              "      <th>&lt;LOW&gt;</th>\n",
              "      <th>&lt;CLOSE&gt;</th>\n",
              "      <th>&lt;VALUE&gt;</th>\n",
              "      <th>&lt;VOL&gt;</th>\n",
              "      <th>MA_10</th>\n",
              "      <th>WMA_10</th>\n",
              "      <th>MOM_10</th>\n",
              "      <th>SO_10</th>\n",
              "      <th>MACD_12_26</th>\n",
              "      <th>MACDsign_12_26</th>\n",
              "      <th>MACDdiff_12_26</th>\n",
              "      <th>CCI_10</th>\n",
              "    </tr>\n",
              "    <tr>\n",
              "      <th>datetime</th>\n",
              "      <th></th>\n",
              "      <th></th>\n",
              "      <th></th>\n",
              "      <th></th>\n",
              "      <th></th>\n",
              "      <th></th>\n",
              "      <th></th>\n",
              "      <th></th>\n",
              "      <th></th>\n",
              "      <th></th>\n",
              "      <th></th>\n",
              "      <th></th>\n",
              "      <th></th>\n",
              "      <th></th>\n",
              "    </tr>\n",
              "  </thead>\n",
              "  <tbody>\n",
              "    <tr>\n",
              "      <th>2020-05-20</th>\n",
              "      <td>11149.0</td>\n",
              "      <td>11149.0</td>\n",
              "      <td>11149.0</td>\n",
              "      <td>11149.0</td>\n",
              "      <td>97550739770</td>\n",
              "      <td>8749730</td>\n",
              "      <td>9420.5</td>\n",
              "      <td>9512.588423</td>\n",
              "      <td>3534.0</td>\n",
              "      <td>0.781149</td>\n",
              "      <td>1541.307481</td>\n",
              "      <td>1292.388846</td>\n",
              "      <td>248.918635</td>\n",
              "      <td>1.591967</td>\n",
              "    </tr>\n",
              "    <tr>\n",
              "      <th>2020-05-23</th>\n",
              "      <td>11680.0</td>\n",
              "      <td>11706.0</td>\n",
              "      <td>11150.0</td>\n",
              "      <td>11643.0</td>\n",
              "      <td>1613620738967</td>\n",
              "      <td>138593153</td>\n",
              "      <td>9797.0</td>\n",
              "      <td>9899.935982</td>\n",
              "      <td>3765.0</td>\n",
              "      <td>0.827007</td>\n",
              "      <td>1620.243747</td>\n",
              "      <td>1357.959826</td>\n",
              "      <td>262.283921</td>\n",
              "      <td>1.521004</td>\n",
              "    </tr>\n",
              "    <tr>\n",
              "      <th>2020-05-30</th>\n",
              "      <td>11061.0</td>\n",
              "      <td>11061.0</td>\n",
              "      <td>11061.0</td>\n",
              "      <td>11061.0</td>\n",
              "      <td>148747841316</td>\n",
              "      <td>13447956</td>\n",
              "      <td>10090.2</td>\n",
              "      <td>10111.038531</td>\n",
              "      <td>2932.0</td>\n",
              "      <td>0.827007</td>\n",
              "      <td>1617.196733</td>\n",
              "      <td>1409.807208</td>\n",
              "      <td>207.389526</td>\n",
              "      <td>0.950491</td>\n",
              "    </tr>\n",
              "    <tr>\n",
              "      <th>2020-05-31</th>\n",
              "      <td>10508.0</td>\n",
              "      <td>10508.0</td>\n",
              "      <td>10508.0</td>\n",
              "      <td>10727.0</td>\n",
              "      <td>27225387360</td>\n",
              "      <td>2590920</td>\n",
              "      <td>10314.2</td>\n",
              "      <td>10223.031525</td>\n",
              "      <td>2240.0</td>\n",
              "      <td>0.827007</td>\n",
              "      <td>1569.736005</td>\n",
              "      <td>1441.792967</td>\n",
              "      <td>127.943038</td>\n",
              "      <td>0.350360</td>\n",
              "    </tr>\n",
              "    <tr>\n",
              "      <th>2020-06-01</th>\n",
              "      <td>10191.0</td>\n",
              "      <td>10191.0</td>\n",
              "      <td>10191.0</td>\n",
              "      <td>10242.0</td>\n",
              "      <td>39620600373</td>\n",
              "      <td>3887803</td>\n",
              "      <td>10454.2</td>\n",
              "      <td>10226.480339</td>\n",
              "      <td>1400.0</td>\n",
              "      <td>0.827007</td>\n",
              "      <td>1475.973485</td>\n",
              "      <td>1448.629071</td>\n",
              "      <td>27.344415</td>\n",
              "      <td>-0.288717</td>\n",
              "    </tr>\n",
              "  </tbody>\n",
              "</table>\n",
              "</div>"
            ],
            "text/plain": [
              "            <FIRST>   <HIGH>    <LOW>  ...  MACDsign_12_26  MACDdiff_12_26    CCI_10\n",
              "datetime                               ...                                          \n",
              "2020-05-20  11149.0  11149.0  11149.0  ...     1292.388846      248.918635  1.591967\n",
              "2020-05-23  11680.0  11706.0  11150.0  ...     1357.959826      262.283921  1.521004\n",
              "2020-05-30  11061.0  11061.0  11061.0  ...     1409.807208      207.389526  0.950491\n",
              "2020-05-31  10508.0  10508.0  10508.0  ...     1441.792967      127.943038  0.350360\n",
              "2020-06-01  10191.0  10191.0  10191.0  ...     1448.629071       27.344415 -0.288717\n",
              "\n",
              "[5 rows x 14 columns]"
            ]
          },
          "metadata": {
            "tags": []
          },
          "execution_count": 21
        }
      ]
    },
    {
      "cell_type": "code",
      "metadata": {
        "id": "Llco56ydOxsy",
        "outputId": "943e4300-8728-46a9-cbd6-a0f7e4369896",
        "colab": {
          "base_uri": "https://localhost:8080/"
        }
      },
      "source": [
        "data_array = np.asarray(df_new)\n",
        "data_array"
      ],
      "execution_count": 22,
      "outputs": [
        {
          "output_type": "execute_result",
          "data": {
            "text/plain": [
              "array([[ 1.78010000e+04,  1.79110000e+04,  1.75810000e+04, ...,\n",
              "         1.20534838e+02,  2.17923355e+02,  1.42566120e+00],\n",
              "       [ 1.81030000e+04,  1.81170000e+04,  1.77940000e+04, ...,\n",
              "         1.81933328e+02,  2.12630898e+02,  1.26252806e+00],\n",
              "       [ 1.61020000e+04,  1.61020000e+04,  1.57000000e+04, ...,\n",
              "         2.07546667e+02,  9.14525111e+01, -1.09138483e+00],\n",
              "       ...,\n",
              "       [ 1.10610000e+04,  1.10610000e+04,  1.10610000e+04, ...,\n",
              "         1.40980721e+03,  2.07389526e+02,  9.50490629e-01],\n",
              "       [ 1.05080000e+04,  1.05080000e+04,  1.05080000e+04, ...,\n",
              "         1.44179297e+03,  1.27943038e+02,  3.50360337e-01],\n",
              "       [ 1.01910000e+04,  1.01910000e+04,  1.01910000e+04, ...,\n",
              "         1.44862907e+03,  2.73444146e+01, -2.88716897e-01]])"
            ]
          },
          "metadata": {
            "tags": []
          },
          "execution_count": 22
        }
      ]
    },
    {
      "cell_type": "code",
      "metadata": {
        "id": "Wa-W2t-2Pw7J",
        "outputId": "456ba656-ccca-4654-cd76-270336430959",
        "colab": {
          "base_uri": "https://localhost:8080/"
        }
      },
      "source": [
        "data_array.shape"
      ],
      "execution_count": 23,
      "outputs": [
        {
          "output_type": "execute_result",
          "data": {
            "text/plain": [
              "(3856, 14)"
            ]
          },
          "metadata": {
            "tags": []
          },
          "execution_count": 23
        }
      ]
    },
    {
      "cell_type": "code",
      "metadata": {
        "id": "jmX9lGO2P-Yf",
        "outputId": "a11be723-ba74-4dfe-fd57-e43830b64eb9",
        "colab": {
          "base_uri": "https://localhost:8080/"
        }
      },
      "source": [
        "feature=data_array[:, 7:14]\n",
        "feature.shape"
      ],
      "execution_count": 24,
      "outputs": [
        {
          "output_type": "execute_result",
          "data": {
            "text/plain": [
              "(3856, 7)"
            ]
          },
          "metadata": {
            "tags": []
          },
          "execution_count": 24
        }
      ]
    },
    {
      "cell_type": "code",
      "metadata": {
        "id": "vDVKrr9oRfjw",
        "outputId": "c19aba80-7cb3-4d5a-a54b-3ec865980c13",
        "colab": {
          "base_uri": "https://localhost:8080/"
        }
      },
      "source": [
        "label=data_array[:, 4]\n",
        "label.shape"
      ],
      "execution_count": 25,
      "outputs": [
        {
          "output_type": "execute_result",
          "data": {
            "text/plain": [
              "(3856,)"
            ]
          },
          "metadata": {
            "tags": []
          },
          "execution_count": 25
        }
      ]
    },
    {
      "cell_type": "code",
      "metadata": {
        "id": "IDQXZqqrRmzt",
        "outputId": "1feffd54-2698-4293-c6a4-46d400d9d3ed",
        "colab": {
          "base_uri": "https://localhost:8080/"
        }
      },
      "source": [
        "from sklearn.model_selection import train_test_split\n",
        "x_train, x_test, y_train, y_test=train_test_split(feature, label, test_size=0.30, random_state=42)\n",
        "print(x_train.shape, x_test.shape, y_train.shape, y_test.shape)"
      ],
      "execution_count": 34,
      "outputs": [
        {
          "output_type": "stream",
          "text": [
            "(2699, 7) (1157, 7) (2699,) (1157,)\n"
          ],
          "name": "stdout"
        }
      ]
    },
    {
      "cell_type": "code",
      "metadata": {
        "id": "BLU7y7MQTiVT"
      },
      "source": [
        "x_train=x_train.reshape(1,2699,7)\n",
        "x_test=x_test.reshape(1,1157,7)\n",
        "y_train = y_train.reshape(1, 2699, 1)\n",
        "y_test = y_test.reshape(1, 1157, 1)"
      ],
      "execution_count": 37,
      "outputs": []
    },
    {
      "cell_type": "code",
      "metadata": {
        "id": "3C_jdYWnT_6h",
        "outputId": "876d758a-54e4-4579-c242-7975aeab0d3b",
        "colab": {
          "base_uri": "https://localhost:8080/"
        }
      },
      "source": [
        "print(y_train)"
      ],
      "execution_count": 46,
      "outputs": [
        {
          "output_type": "stream",
          "text": [
            "[[[1.55000000e+07 1.68368896e+09 4.60525000e+08 ... 7.60907475e+08\n",
            "   2.20875093e+10 7.14641106e+09]]]\n"
          ],
          "name": "stdout"
        }
      ]
    },
    {
      "cell_type": "markdown",
      "metadata": {
        "id": "IPXwpVpwR45g"
      },
      "source": [
        "###Define the LSTM Recurrent Neural Network"
      ]
    },
    {
      "cell_type": "code",
      "metadata": {
        "id": "II6vEIaKRxVD"
      },
      "source": [
        "regressor = Sequential()\n",
        "regressor.add(LSTM(units = 50, return_sequences = True, input_shape = (x_train.shape[1], 7)))\n",
        "regressor.add(Dropout(0.2))\n",
        "regressor.add(LSTM(units = 50, return_sequences = True))\n",
        "regressor.add(Dropout(0.2))\n",
        "regressor.add(LSTM(units = 50, return_sequences = True))\n",
        "regressor.add(Dropout(0.2))\n",
        "regressor.add(LSTM(units = 50))\n",
        "regressor.add(Dropout(0.2))\n",
        "regressor.add(Dense(units = 1))"
      ],
      "execution_count": 40,
      "outputs": []
    },
    {
      "cell_type": "markdown",
      "metadata": {
        "id": "p__zjdfTSNSZ"
      },
      "source": [
        "###Compile and train the model defined in the above step. Iteratively, you can increase or decrease the epochs and batch size to get more accuracy."
      ]
    },
    {
      "cell_type": "code",
      "metadata": {
        "id": "mcCqcr81R9GT",
        "outputId": "a0574db5-4b96-4708-f27b-12aaf1b022dd",
        "colab": {
          "base_uri": "https://localhost:8080/"
        }
      },
      "source": [
        "regressor.compile(optimizer = 'adam', loss = 'mean_squared_error')\n",
        "regressor.fit(x_train, y_train, epochs = 15, batch_size = 32)"
      ],
      "execution_count": 41,
      "outputs": [
        {
          "output_type": "stream",
          "text": [
            "Epoch 1/15\n",
            "1/1 [==============================] - 0s 2ms/step - loss: 5176618681584649764864.0000\n",
            "Epoch 2/15\n",
            "1/1 [==============================] - 0s 1ms/step - loss: 5176618681584649764864.0000\n",
            "Epoch 3/15\n",
            "1/1 [==============================] - 0s 2ms/step - loss: 5176618681584649764864.0000\n",
            "Epoch 4/15\n",
            "1/1 [==============================] - 0s 3ms/step - loss: 5176618681584649764864.0000\n",
            "Epoch 5/15\n",
            "1/1 [==============================] - 0s 2ms/step - loss: 5176618681584649764864.0000\n",
            "Epoch 6/15\n",
            "1/1 [==============================] - 0s 1ms/step - loss: 5176618681584649764864.0000\n",
            "Epoch 7/15\n",
            "1/1 [==============================] - 0s 2ms/step - loss: 5176618681584649764864.0000\n",
            "Epoch 8/15\n",
            "1/1 [==============================] - 0s 2ms/step - loss: 5176618681584649764864.0000\n",
            "Epoch 9/15\n",
            "1/1 [==============================] - 0s 1ms/step - loss: 5176618681584649764864.0000\n",
            "Epoch 10/15\n",
            "1/1 [==============================] - 0s 1ms/step - loss: 5176618681584649764864.0000\n",
            "Epoch 11/15\n",
            "1/1 [==============================] - 0s 1ms/step - loss: 5176618681584649764864.0000\n",
            "Epoch 12/15\n",
            "1/1 [==============================] - 0s 2ms/step - loss: 5176618681584649764864.0000\n",
            "Epoch 13/15\n",
            "1/1 [==============================] - 0s 2ms/step - loss: 5176618681584649764864.0000\n",
            "Epoch 14/15\n",
            "1/1 [==============================] - 0s 2ms/step - loss: 5176618681584649764864.0000\n",
            "Epoch 15/15\n",
            "1/1 [==============================] - 0s 2ms/step - loss: 5176618681584649764864.0000\n"
          ],
          "name": "stdout"
        },
        {
          "output_type": "execute_result",
          "data": {
            "text/plain": [
              "<tensorflow.python.keras.callbacks.History at 0x7f56e5f0c5f8>"
            ]
          },
          "metadata": {
            "tags": []
          },
          "execution_count": 41
        }
      ]
    },
    {
      "cell_type": "markdown",
      "metadata": {
        "id": "Wulm-wsRAibg"
      },
      "source": [
        "###Test the LSTM model on the new dataset."
      ]
    },
    {
      "cell_type": "code",
      "metadata": {
        "id": "ainKuqfmDimf"
      },
      "source": [
        "x_test=x_test.reshape(1, 1157,7)"
      ],
      "execution_count": 62,
      "outputs": []
    },
    {
      "cell_type": "code",
      "metadata": {
        "id": "-G4HwjZPSUKh"
      },
      "source": [
        "sc = MinMaxScaler(feature_range = (0, 1))\n",
        "predicted_stock_price = regressor.predict(x_test)\n",
        "# predicted_stock_price = sc.inverse_transform(predicted_stock_price)\n",
        "# predicted_stock_price"
      ],
      "execution_count": 65,
      "outputs": []
    },
    {
      "cell_type": "code",
      "metadata": {
        "id": "ielhES08Bhhw"
      },
      "source": [
        "real_stock_price = y_test\n",
        "real_stock_price=real_stock_price.reshape(1157,1)"
      ],
      "execution_count": 66,
      "outputs": []
    },
    {
      "cell_type": "code",
      "metadata": {
        "id": "K9lJYq9vAmR4",
        "outputId": "c1fe5a24-03ae-46bf-9c3f-20d1c9be0bdf",
        "colab": {
          "base_uri": "https://localhost:8080/",
          "height": 594
        }
      },
      "source": [
        "plt.figure(figsize=(20,10))\n",
        "plt.plot(real_stock_price, color = 'green', label = 'Stock Price')\n",
        "plt.plot(predicted_stock_price, color = 'red', label = 'Predicted Stock Price')\n",
        "plt.title('Stock Price Prediction')\n",
        "plt.xlabel('Trading Day')\n",
        "plt.ylabel('Stock Price')\n",
        "plt.legend()\n",
        "plt.show()"
      ],
      "execution_count": 67,
      "outputs": [
        {
          "output_type": "display_data",
          "data": {
            "image/png": "[encoded data removed]",
            "text/plain": [
              "<Figure size 1440x720 with 1 Axes>"
            ]
          },
          "metadata": {
            "tags": [],
            "needs_background": "light"
          }
        }
      ]
    },
    {
      "cell_type": "code",
      "metadata": {
        "id": "FwRqvwACBBR7"
      },
      "source": [
        ""
      ],
      "execution_count": null,
      "outputs": []
    }
  ]
}